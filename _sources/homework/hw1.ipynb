{
 "cells": [
  {
   "cell_type": "markdown",
   "metadata": {
    "cell_id": "b1e3907ae3b147fa98e7fa2bb495b7c7",
    "deepnote_cell_type": "markdown",
    "tags": []
   },
   "source": [
    "# Homework 1"
   ]
  },
  {
   "cell_type": "markdown",
   "metadata": {
    "cell_id": "f58633105e8f4dc4afece46cd2ad1d43",
    "deepnote_cell_type": "markdown",
    "tags": []
   },
   "source": [
    "This homework is due Wednesday night of Week 2.  You are encouraged to work in groups of up to 3 total students, but each student should submit their own file.  (It's fine for everyone in the group to upload the same file.)\n",
    "\n",
    "These questions refer to the attached vending machines csv file, `vend.csv`."
   ]
  },
  {
   "cell_type": "markdown",
   "metadata": {},
   "source": [
    "## Corresponding Outcomes"
   ]
  },
  {
   "cell_type": "markdown",
   "metadata": {},
   "source": [
    "The questions in this homework should help you prepare for the following EDA outcomes:\n",
    "* P1. Perform boolean indexing on data frames.\n",
    "* P4. Select appropriate indexing methods in pandas (e.g. `df.loc` versus `df.iloc`)."
   ]
  },
  {
   "cell_type": "markdown",
   "metadata": {},
   "source": [
    "## Problems"
   ]
  },
  {
   "cell_type": "markdown",
   "metadata": {
    "cell_id": "908775be2dc8476ea685e644dc9d82a5",
    "deepnote_cell_type": "markdown"
   },
   "source": [
    "* Load the file as a pandas DataFrame using `pd.read_csv` and store it as the variable `df`.  (You will need to import `pandas` first.)"
   ]
  },
  {
   "cell_type": "markdown",
   "metadata": {
    "cell_id": "e099b81096144993a4b21a6d088175e9",
    "deepnote_cell_type": "markdown"
   },
   "source": [
    "* How many rows are there in this DataFrame?  How many columns?  Use the `shape` attribute.  (When we refer to something as an attribute, it usually means we will not be using parentheses with it.  Methods are like functions and attributes are like variables.  Both methods and attributes are attached to an object and are accessed using a period `.`.)"
   ]
  },
  {
   "cell_type": "markdown",
   "metadata": {
    "cell_id": "121c34eda074402bbf994032ba13634d",
    "deepnote_cell_type": "markdown"
   },
   "source": [
    "* Using the `dtypes` attribute of this DataFrame, check how the data type of the \"Location\" column is represented.  Among all the columns, what different data types are listed?"
   ]
  },
  {
   "cell_type": "markdown",
   "metadata": {
    "cell_id": "d15262a3bf0748c78b20e1dac8fd1d5e",
    "deepnote_cell_type": "markdown"
   },
   "source": [
    "* Access the row at integer location `2420` using `iloc` and square brackets.  Store this in the variable `x`."
   ]
  },
  {
   "cell_type": "markdown",
   "metadata": {
    "cell_id": "2b74f5b41ce148ddbdb72b3afd7cba21",
    "deepnote_cell_type": "markdown"
   },
   "source": [
    "* Using the Python built-in function `type`, what is the data type of `x`?"
   ]
  },
  {
   "cell_type": "markdown",
   "metadata": {
    "cell_id": "2212c419135b4aa8b2a01c883234db55",
    "deepnote_cell_type": "markdown"
   },
   "source": [
    "* What is the value of `x.loc[\"Location\"]`?  Is there any difference if you use `x[\"Location\"]`?  What about `x(\"Location\")`?"
   ]
  },
  {
   "cell_type": "markdown",
   "metadata": {
    "cell_id": "9d21d9aa61a24c308171053fc2e8b102",
    "deepnote_cell_type": "markdown"
   },
   "source": [
    "* What is the `type` of `x.loc[\"Location\"]`?  (Notice how this type was not directly reported to us by pandas when we used the `dtypes` attribute.  When something is reported as having \"object\" as its dtype, I usually assume it is a string, but it could also be something else, like a list.)"
   ]
  },
  {
   "cell_type": "markdown",
   "metadata": {
    "cell_id": "9dd183df4e834084828de2f123308caf",
    "deepnote_cell_type": "markdown"
   },
   "source": [
    "* Using Boolean indexing, define `df_sub` to be the sub-DataFrame containing all the transactions from this same location."
   ]
  },
  {
   "cell_type": "markdown",
   "metadata": {
    "cell_id": "110df4ccf21a4cd795ff3ce288a5f2da",
    "deepnote_cell_type": "markdown"
   },
   "source": [
    "* How many rows in the original DataFrame correspond to this location?  Set the variable `a` to be equal to this integer.  (Check.  It should be between 600 and 700.)"
   ]
  },
  {
   "cell_type": "markdown",
   "metadata": {
    "cell_id": "529efb786c5e4f01963058c255a19bc7",
    "deepnote_cell_type": "markdown"
   },
   "source": [
    "* What values of `b` and `c` are such that `df_sub.loc[13, \"Transaction\"]` is equal to `df_sub.iloc[b,c]`?  (Remember that counting in Python starts at 0.  I don't intend you to have a computer code way of finding these values.  Just look at `df_sub` and check.)  Store these values."
   ]
  },
  {
   "cell_type": "markdown",
   "metadata": {
    "cell_id": "e5f3e446a6de4477b46b95b651c0614d",
    "deepnote_cell_type": "markdown"
   },
   "source": [
    "* There was exactly one transaction in `df_sub` where the \"RPrice\" was `1.5` and where \"RQty\" was `2` (meaning two items were sold in the same transaction).  What was the name of that product (i.e., the value in the \"Product\" column?  Store that string with the variable `d`.  (Be sure your answer is exact, including spacing and capitalization.)"
   ]
  },
  {
   "cell_type": "markdown",
   "metadata": {
    "cell_id": "8ded45465287411d93434f35dbc8ff7e",
    "deepnote_cell_type": "markdown"
   },
   "source": [
    "* There is exactly one row in `df` where the `\"RPrice\"` is not equal to the `\"MPrice\"`.  What is the index of that row?  Set `e` to be equal to that index.  (The index is the number that's displayed all the way on the left.  You can access the index by using the `index` attribute.  To check whether two elements are **not** equal, you can use `!=`.  Another option is to check for equality and then to negate it using tilde `~`.)"
   ]
  },
  {
   "cell_type": "markdown",
   "metadata": {
    "cell_id": "3b4977ddabc34aa39134c8e29108c676",
    "deepnote_cell_type": "markdown"
   },
   "source": [
    "* Put these five values (four integers and one string) into a tuple, `my_tuple = (a,b,c,d,e)`.\n",
    "* Save `my_tuple` in a pickle file named `\"hw1-ans.pickle\"` using the following code.  Submit that file on Canvas as your submission for Homework 1.\n",
    "\n",
    "```\n",
    "import pickle\n",
    "\n",
    "with open(\"hw1-ans.pickle\", 'wb') as f:\n",
    "    pickle.dump(my_tuple, f)\n",
    "```\n",
    "\n",
    "* If you want to double-check that this `\"hw1-ans.pickle\"` pickle file really contains your answer, you can run the following code.  If you then evaluate or print `x`, you should see your original `my_tuple` values.  (If you're in a new notebook, you also need to import the pickle module again.)\n",
    "```\n",
    "with open(\"hw1-ans.pickle\", 'rb') as f:\n",
    "    x = pickle.load(f)\n",
    "```"
   ]
  },
  {
   "cell_type": "markdown",
   "metadata": {},
   "source": [
    "* Share the Deepnote notebook you wrote your code in with Anthony and Yasmeen."
   ]
  },
  {
   "cell_type": "markdown",
   "metadata": {
    "created_in_deepnote_cell": true,
    "deepnote_cell_type": "markdown"
   },
   "source": [
    "<a style='text-decoration:none;line-height:16px;display:flex;color:#5B5B62;padding:10px;justify-content:end;' href='https://deepnote.com?utm_source=created-in-deepnote-cell&projectId=17ab7db1-7d47-48f3-bb1e-9f6ed6d01a97' target=\"_blank\">\n",
    "<img alt='Created in deepnote.com' style='display:inline;max-height:16px;margin:0px;margin-right:7.5px;' src='data:image/svg+xml;base64,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' > </img>\n",
    "Created in <span style='font-weight:600;margin-left:4px;'>Deepnote</span></a>"
   ]
  }
 ],
 "metadata": {
  "deepnote": {},
  "deepnote_execution_queue": [],
  "deepnote_notebook_id": "65391b4cafef46139283a10780e703ab",
  "deepnote_persisted_session": {
   "createdAt": "2022-09-24T19:00:18.848Z"
  },
  "kernelspec": {
   "display_name": "Python 3 (ipykernel)",
   "language": "python",
   "name": "python3"
  },
  "language_info": {
   "codemirror_mode": {
    "name": "ipython",
    "version": 3
   },
   "file_extension": ".py",
   "mimetype": "text/x-python",
   "name": "python",
   "nbconvert_exporter": "python",
   "pygments_lexer": "ipython3",
   "version": "3.9.13"
  }
 },
 "nbformat": 4,
 "nbformat_minor": 4
}
