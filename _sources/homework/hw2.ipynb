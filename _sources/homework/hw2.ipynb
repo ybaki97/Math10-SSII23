{
 "cells": [
  {
   "cell_type": "markdown",
   "metadata": {
    "cell_id": "fc64d7a308154eb89a03ba4963b4cca1",
    "deepnote_cell_type": "markdown"
   },
   "source": [
    "# Homework 2"
   ]
  },
  {
   "cell_type": "markdown",
   "metadata": {
    "cell_id": "f58633105e8f4dc4afece46cd2ad1d43",
    "deepnote_cell_type": "markdown",
    "tags": []
   },
   "source": [
    "This homework is due Wednesday night of Week 2.  You are encouraged to work in groups of up to 3 total students, but each student should submit their own file.  (It's fine for everyone in the group to upload the same file.)\n",
    "\n",
    "These questions refer to the attached vending machines csv file, `vend.csv`."
   ]
  },
  {
   "cell_type": "markdown",
   "metadata": {},
   "source": [
    "## Corresponding Outcomes"
   ]
  },
  {
   "cell_type": "markdown",
   "metadata": {},
   "source": [
    "The questions in this homework should help you prepare for the following EDA outcomes:\n",
    "* P1. Perform boolean indexing on data frames.\n",
    "* P6. Work with datetime objects in pandas."
   ]
  },
  {
   "cell_type": "markdown",
   "metadata": {
    "cell_id": "af5d054efb7c4240b861f169d2ee79a8",
    "deepnote_cell_type": "markdown"
   },
   "source": [
    "## Goal\n",
    "\n",
    "The goal of this worksheet is to make an 8-by-3 pandas DataFrame.  The columns for this DataFrame will be named \"Month\", \"transactions\" and \"total price\".  The entries will correspond to the number of transactions in that month, as well as the combined price for all those transactions."
   ]
  },
  {
   "cell_type": "markdown",
   "metadata": {
    "cell_id": "16ea9324a783456e94862b31f50c1866",
    "deepnote_cell_type": "markdown"
   },
   "source": [
    "* Load the attached `vend.csv` dataset using `pd.read_csv`, and store it with the variable name `df`."
   ]
  },
  {
   "cell_type": "markdown",
   "metadata": {
    "cell_id": "cc86df0503fe4732a4424f8c942b4a18",
    "deepnote_cell_type": "markdown"
   },
   "source": [
    "* Look at the first few rows of `df` using the `head` method."
   ]
  },
  {
   "cell_type": "markdown",
   "metadata": {
    "cell_id": "ad12b9e55f4c4048bf6c2db666068a3f",
    "deepnote_cell_type": "markdown"
   },
   "source": [
    "* Which of the columns contains date-like values?  Convert this column to actual date values (i.e., values that are recognized as dates by pandas) using the pandas function `to_datetime`.  (You shouldn't need to use a for loop or anything like that, just use the entire column as an input to the pandas `to_datetime` function.)  Save the resulting pandas Series as a new column in `df`, named `\"Date\"`."
   ]
  },
  {
   "cell_type": "markdown",
   "metadata": {
    "cell_id": "703be6f776934dc6a3b03bcbdee24cb0",
    "deepnote_cell_type": "markdown"
   },
   "source": [
    "* Get the corresponding month name for each date, by using the `dt` accessor and the method `month_name` on the new \"Date\" column.  Save this as a new column in `df`, named `\"Month\"`."
   ]
  },
  {
   "cell_type": "markdown",
   "metadata": {
    "cell_id": "a8212f3eedcf4a09a5af09b937f2afde",
    "deepnote_cell_type": "markdown"
   },
   "source": [
    "* Write a function `month_count` which takes as input a month name like \"March\" and as output returns how many transactions occurred in this month (use Boolean indexing... there are other ways, but we'll use a similar approach below to get the total pr).\n",
    "\n",
    "For example, the output for \"March\" should be `633`."
   ]
  },
  {
   "cell_type": "markdown",
   "metadata": {
    "cell_id": "3fb70f73f6d8479ca69067205e870c6d",
    "deepnote_cell_type": "markdown"
   },
   "source": [
    "* Write a function `total_price` which takes as input a month name like \"March\" and as output returns the sum of the \"RPrice\" value for all transactions occuring in that month.\n",
    "\n",
    "For example, the output for \"March\" should be `1117.75`."
   ]
  },
  {
   "cell_type": "markdown",
   "metadata": {
    "cell_id": "431ed72ab2db4dbf85fc4de7c5283320",
    "deepnote_cell_type": "markdown"
   },
   "source": [
    "* Make an empty DataFrame, that will eventually be the submission for this worksheet.  Use `pd.DataFrame()`, nothing inside the parentheses.  Name this empty DataFrame `df_out`."
   ]
  },
  {
   "cell_type": "markdown",
   "metadata": {
    "cell_id": "fe15e72dd29444c3b74501cabbde4715",
    "deepnote_cell_type": "markdown"
   },
   "source": [
    "* Put a \"Month\" column in `df_out` containing the months from `df`, each listed one time.  (Use `df[\"Month\"].unique()` to get each value one time.)"
   ]
  },
  {
   "cell_type": "markdown",
   "metadata": {
    "cell_id": "0de52d64b0e04982bd60fa2982e58578",
    "deepnote_cell_type": "markdown"
   },
   "source": [
    "* Apply the `month_count` function to each value in `df_out[\"Month\"]` by calling `df_out[\"Month\"].map(month_count)`.  Store the result as a new column in `df_out` named `\"transactions\"`."
   ]
  },
  {
   "cell_type": "markdown",
   "metadata": {
    "cell_id": "f0e4f24d4a5547a3a08035e984d13001",
    "deepnote_cell_type": "markdown"
   },
   "source": [
    "* Using the same strategy, make a column named `\"total price\"` in `df_out`, obtained by applying the `total_price` function to each entry in the `\"Month\"` column of `df_out`."
   ]
  },
  {
   "cell_type": "markdown",
   "metadata": {
    "cell_id": "a4092f80bef7446da703b1fa669b0f58",
    "deepnote_cell_type": "markdown"
   },
   "source": [
    "* The resulting DataFrame `df_out` should have 8 rows and 3 columns.  Save it to a file named `df_out.csv` using the pandas DataFrame method `to_csv`.  (You need to give the desired file name as the first argument to the `to_csv` method.)  Specify the keyword argument `index=False` so that the numbers `0` through `7` from the index are not stored."
   ]
  },
  {
   "cell_type": "markdown",
   "metadata": {
    "cell_id": "1475c4c84048401c9c5dc820ff1958c1",
    "deepnote_cell_type": "markdown"
   },
   "source": [
    "* Submit this csv file on Canvas. Share the Deepnote notebook you wrote your code in with Anthony and Yasmeen."
   ]
  }
 ],
 "metadata": {
  "deepnote": {},
  "deepnote_execution_queue": [],
  "deepnote_notebook_id": "ed9d667a092946689f9bd1e27bec2bbd",
  "deepnote_persisted_session": {
   "createdAt": "2023-04-11T21:04:59.657Z"
  },
  "kernelspec": {
   "display_name": "Python 3 (ipykernel)",
   "language": "python",
   "name": "python3"
  },
  "language_info": {
   "codemirror_mode": {
    "name": "ipython",
    "version": 3
   },
   "file_extension": ".py",
   "mimetype": "text/x-python",
   "name": "python",
   "nbconvert_exporter": "python",
   "pygments_lexer": "ipython3",
   "version": "3.9.13"
  }
 },
 "nbformat": 4,
 "nbformat_minor": 4
}
