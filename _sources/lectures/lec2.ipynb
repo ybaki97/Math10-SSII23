{
 "cells": [
  {
   "cell_type": "markdown",
   "metadata": {
    "cell_id": "c351d2e2669246f88f65843f9f5500c1",
    "deepnote_cell_type": "markdown"
   },
   "source": [
    "# Lecture 2: August 9th, 2023"
   ]
  },
  {
   "cell_type": "markdown",
   "metadata": {
    "cell_id": "67ff6425881d4a7b989b28f12459d8bf",
    "deepnote_cell_type": "markdown"
   },
   "source": [
    "__Today:__ \n",
    "* First round of homework posted! Tips and tricks for getting started.\n",
    "* Wrap up material from Lecture 1\n",
    "* More EDA Unit 1"
   ]
  },
  {
   "cell_type": "markdown",
   "metadata": {
    "cell_id": "129b76761cbf42abb82cfa6fad379df1",
    "deepnote_cell_type": "markdown",
    "deepnote_to_be_reexecuted": false,
    "execution_millis": 7,
    "execution_start": 1691604364231,
    "source_hash": "36e1afd8"
   },
   "source": [
    "## Quick recap from last time"
   ]
  },
  {
   "cell_type": "code",
   "execution_count": null,
   "metadata": {
    "cell_id": "4ba2bcf4a4654d4ab718134717b298f5",
    "deepnote_cell_type": "code",
    "deepnote_to_be_reexecuted": false,
    "execution_millis": 7,
    "execution_start": 1691608187359,
    "source_hash": null
   },
   "outputs": [],
   "source": [
    "import numpy as np\n",
    "rng = np.random.default_rng()"
   ]
  },
  {
   "cell_type": "code",
   "execution_count": null,
   "metadata": {
    "cell_id": "f787bee742e54843b283968a36a7b3a6",
    "deepnote_cell_type": "code",
    "deepnote_to_be_reexecuted": false,
    "execution_millis": 10,
    "execution_start": 1691608234939,
    "source_hash": null
   },
   "outputs": [],
   "source": [
    "# random reals between 0 and 10\n",
    "arr = 10*rng.random(1000)"
   ]
  },
  {
   "cell_type": "code",
   "execution_count": null,
   "metadata": {
    "cell_id": "05021eccd9b34ff8b344194678c40586",
    "deepnote_cell_type": "code",
    "deepnote_to_be_reexecuted": false,
    "execution_millis": 11,
    "execution_start": 1691608267889,
    "source_hash": null
   },
   "outputs": [
    {
     "data": {
      "text/plain": [
       "0.278"
      ]
     },
     "execution_count": 6,
     "metadata": {},
     "output_type": "execute_result"
    }
   ],
   "source": [
    "#Calculate proportion of elements which are larger than 7\n",
    "sum(arr > 7)/len(arr)"
   ]
  },
  {
   "cell_type": "markdown",
   "metadata": {
    "cell_id": "cd050e4592ab4b4296188038169fd0bf",
    "deepnote_cell_type": "markdown"
   },
   "source": [
    "\n",
    "* <font color = red> Convert the array to a list and answer the same question. </font>"
   ]
  },
  {
   "cell_type": "markdown",
   "metadata": {
    "cell_id": "d9575b1c7c644fa9baeccc5754c51b69",
    "deepnote_cell_type": "markdown"
   },
   "source": [
    "__Disclaimer:__ converting to a list is not something we'd typically do in this example. I'm doing this problem just to remind you of lists and list comprehension."
   ]
  },
  {
   "cell_type": "code",
   "execution_count": null,
   "metadata": {
    "cell_id": "39d77b64f06a42d8b6bcec54377db78b",
    "deepnote_cell_type": "code",
    "deepnote_to_be_reexecuted": false,
    "execution_millis": 7,
    "execution_start": 1691608403607,
    "source_hash": null
   },
   "outputs": [],
   "source": [
    "mylist = list(arr)"
   ]
  },
  {
   "cell_type": "code",
   "execution_count": null,
   "metadata": {
    "cell_id": "fa629b1782984192821a6ba658a5ce58",
    "deepnote_cell_type": "code",
    "deepnote_to_be_reexecuted": false,
    "execution_millis": 7,
    "execution_start": 1691608409115,
    "source_hash": null
   },
   "outputs": [
    {
     "data": {
      "text/plain": [
       "list"
      ]
     },
     "execution_count": 8,
     "metadata": {},
     "output_type": "execute_result"
    }
   ],
   "source": [
    "type(mylist)"
   ]
  },
  {
   "cell_type": "code",
   "execution_count": null,
   "metadata": {
    "cell_id": "d31ed4819621423ba0ad39acb7515e2f",
    "deepnote_cell_type": "code",
    "deepnote_to_be_reexecuted": false,
    "execution_millis": 33,
    "execution_start": 1691608430830,
    "source_hash": null
   },
   "outputs": [
    {
     "data": {
      "text/plain": [
       "[8.406646035919096,\n",
       " 8.220913078264182,\n",
       " 1.4516609012829895,\n",
       " 6.473860781570309,\n",
       " 8.62590032751376,\n",
       " 9.427701668841609,\n",
       " 0.9118571661294139,\n",
       " 3.7123225188187856,\n",
       " 0.09764496042025339,\n",
       " 0.3460988491327843]"
      ]
     },
     "execution_count": 9,
     "metadata": {},
     "output_type": "execute_result"
    }
   ],
   "source": [
    "mylist[:10]"
   ]
  },
  {
   "cell_type": "code",
   "execution_count": null,
   "metadata": {
    "cell_id": "fd1450d9f1ab4cf5ad8c614cf5a12288",
    "deepnote_cell_type": "code",
    "deepnote_to_be_reexecuted": false,
    "execution_millis": 10,
    "execution_start": 1691608570000,
    "source_hash": null
   },
   "outputs": [],
   "source": [
    "# List comprehension\n",
    "# Keep elements which are larger than 7\n",
    "newlist = [x for x in mylist if x > 7]"
   ]
  },
  {
   "cell_type": "code",
   "execution_count": null,
   "metadata": {
    "cell_id": "04c3de8b4f7348d7a76e32a1da0ace08",
    "deepnote_cell_type": "code",
    "deepnote_to_be_reexecuted": false,
    "execution_millis": 9,
    "execution_start": 1691608593188,
    "source_hash": null
   },
   "outputs": [
    {
     "data": {
      "text/plain": [
       "0.278"
      ]
     },
     "execution_count": 12,
     "metadata": {},
     "output_type": "execute_result"
    }
   ],
   "source": [
    "len(newlist)/len(mylist)"
   ]
  },
  {
   "cell_type": "markdown",
   "metadata": {
    "cell_id": "c977cccba25746b5af1cd384c417f7c0",
    "deepnote_cell_type": "markdown"
   },
   "source": [
    "## Seeded Random Numbers"
   ]
  },
  {
   "cell_type": "markdown",
   "metadata": {
    "cell_id": "ef7521b82e2d43afb57dced52ad01973",
    "deepnote_cell_type": "markdown"
   },
   "source": [
    "Excellent question asked in class: why do we get different numbers in the previous examples?"
   ]
  },
  {
   "cell_type": "markdown",
   "metadata": {
    "cell_id": "3ac6c54ea4ac4faa8ecc6caf1240a591",
    "deepnote_cell_type": "markdown"
   },
   "source": [
    "__Question:__ Can you think of a situation where you want to generate random numbers, but once they are generated you want them to stay fixed.\n",
    "\n",
    "Some responses from the chat:\n",
    "* passwords\n",
    "* randomly generated keys\n",
    "\n",
    "Yasmeen's favorite example:\n",
    "* Autograded quiz questions :)"
   ]
  },
  {
   "cell_type": "code",
   "execution_count": null,
   "metadata": {
    "cell_id": "d70db68becc540739f165fd8c3d7365f",
    "deepnote_cell_type": "code",
    "deepnote_to_be_reexecuted": false,
    "execution_millis": 9,
    "execution_start": 1691609042419,
    "source_hash": null
   },
   "outputs": [
    {
     "data": {
      "text/plain": [
       "array([3, 5, 0, 5, 6, 2, 5, 6, 1, 1])"
      ]
     },
     "execution_count": 19,
     "metadata": {},
     "output_type": "execute_result"
    }
   ],
   "source": [
    "#Notice, every time we run this cell we get different values\n",
    "arr = rng.integers(0,7,10)\n",
    "arr"
   ]
  },
  {
   "cell_type": "markdown",
   "metadata": {
    "cell_id": "e1f47b17e79c48a8ae7cc57b66883de9",
    "deepnote_cell_type": "markdown"
   },
   "source": [
    "The way we can get reproducible random numbers is by specifying a `seed` when we instantiate our random number generator."
   ]
  },
  {
   "cell_type": "code",
   "execution_count": null,
   "metadata": {
    "cell_id": "613938b2f2774a91adc80b8e05208e01",
    "deepnote_cell_type": "code",
    "deepnote_to_be_reexecuted": false,
    "execution_millis": 7,
    "execution_start": 1691609134255,
    "source_hash": null
   },
   "outputs": [],
   "source": [
    "#seed can be any integer I want\n",
    "rng = np.random.default_rng(seed=392837)"
   ]
  },
  {
   "cell_type": "markdown",
   "metadata": {
    "cell_id": "9f68a727cf6542d7b99936b5ad573313",
    "deepnote_cell_type": "markdown"
   },
   "source": [
    "For those of you coding along, if you run the next cell we should all get exactly the same thing. Note: I ran this cell a few times in lecture, so if you're trying this on your own after, it might take a few iterations for these exact numbers to show up."
   ]
  },
  {
   "cell_type": "code",
   "execution_count": 1,
   "metadata": {
    "cell_id": "9d9d5ad4a72942b582ca39bd1e697824",
    "deepnote_cell_type": "code",
    "deepnote_to_be_reexecuted": false,
    "execution_millis": 612,
    "execution_start": 1691642754915,
    "source_hash": "3ba6b4d8"
   },
   "outputs": [
    {
     "ename": "NameError",
     "evalue": "name 'rng' is not defined",
     "output_type": "error",
     "traceback": [
      "\u001b[0;31m---------------------------------------------------------------------------\u001b[0m",
      "\u001b[0;31mNameError\u001b[0m                                 Traceback (most recent call last)",
      "Cell \u001b[0;32mIn [1], line 1\u001b[0m\n\u001b[0;32m----> 1\u001b[0m arr \u001b[38;5;241m=\u001b[39m \u001b[43mrng\u001b[49m\u001b[38;5;241m.\u001b[39mintegers(\u001b[38;5;241m0\u001b[39m,\u001b[38;5;241m7\u001b[39m,\u001b[38;5;241m10\u001b[39m)\n\u001b[1;32m      2\u001b[0m arr\n",
      "\u001b[0;31mNameError\u001b[0m: name 'rng' is not defined"
     ]
    }
   ],
   "source": [
    "arr = rng.integers(0,7,10)\n",
    "arr"
   ]
  },
  {
   "cell_type": "markdown",
   "metadata": {
    "cell_id": "8530f42043b341cc96751e6bf842bb32",
    "deepnote_cell_type": "markdown"
   },
   "source": [
    "Here is a warning about using seeded random numbers. We might expect `arr` to always stay the same..."
   ]
  },
  {
   "cell_type": "code",
   "execution_count": null,
   "metadata": {
    "cell_id": "9858b38e2c8c4a8f96f42f3ab0a26b3d",
    "deepnote_cell_type": "code",
    "deepnote_to_be_reexecuted": false,
    "execution_millis": 42,
    "execution_start": 1691609342630,
    "source_hash": null
   },
   "outputs": [
    {
     "data": {
      "text/plain": [
       "array([3, 3, 1, 2, 3, 2, 5, 2, 4, 0])"
      ]
     },
     "execution_count": 26,
     "metadata": {},
     "output_type": "execute_result"
    }
   ],
   "source": [
    "# These values of arr are different than the ones we got above...\n",
    "arr2 = rng.integers(0,7,10)\n",
    "arr2"
   ]
  },
  {
   "cell_type": "markdown",
   "metadata": {
    "cell_id": "fc01963e32e74a8d95aabc8c29749ae9",
    "deepnote_cell_type": "markdown"
   },
   "source": [
    "Part of the issue: every time we run `rng.integers(0,7,10)` new random numbers are generated. When we don't specify a seed, there is no discernable pattern to the random numbers that are generated. The difference with a seed is that the numbers generated follow a specific pattern that can be reproduced.\n",
    "\n",
    "With a seeded rng, we know what sequence of numbers will appear."
   ]
  },
  {
   "cell_type": "code",
   "execution_count": null,
   "metadata": {
    "cell_id": "6ac06b514d4d48238dfc951dfc6973bf",
    "deepnote_cell_type": "code",
    "deepnote_to_be_reexecuted": false,
    "execution_millis": 8,
    "execution_start": 1691609603848,
    "source_hash": null
   },
   "outputs": [
    {
     "data": {
      "text/plain": [
       "array([6, 1, 2, 2, 4, 3, 0, 6, 5, 1])"
      ]
     },
     "execution_count": 29,
     "metadata": {},
     "output_type": "execute_result"
    }
   ],
   "source": [
    "#Here is how we should write our code\n",
    "#notice rng and arr are written in the same block\n",
    "rng = np.random.default_rng(seed=392837)\n",
    "arr = rng.integers(0,7,10)\n",
    "arr"
   ]
  },
  {
   "cell_type": "markdown",
   "metadata": {
    "cell_id": "a6bd14365eb74d01b1523fe6cf23c830",
    "deepnote_cell_type": "markdown"
   },
   "source": [
    "## Boolean Arrays and Boolean Indexing (NumPy)"
   ]
  },
  {
   "cell_type": "code",
   "execution_count": null,
   "metadata": {
    "cell_id": "21e935177dcc4fac8c5ca983410e7ca6",
    "deepnote_cell_type": "code",
    "deepnote_to_be_reexecuted": false,
    "execution_millis": 7,
    "execution_start": 1691609703609,
    "source_hash": null
   },
   "outputs": [
    {
     "data": {
      "text/plain": [
       "array([6, 1, 2, 2, 4, 3, 0, 6, 5, 1])"
      ]
     },
     "execution_count": 30,
     "metadata": {},
     "output_type": "execute_result"
    }
   ],
   "source": [
    "arr"
   ]
  },
  {
   "cell_type": "markdown",
   "metadata": {
    "cell_id": "d1de6a9e2b8a40269418da70a7268df2",
    "deepnote_cell_type": "markdown"
   },
   "source": [
    "* Make a boolean array indicating where `arr` is equal to 2."
   ]
  },
  {
   "cell_type": "code",
   "execution_count": null,
   "metadata": {
    "cell_id": "612a9d15572146498e0394ac02ca0d9f",
    "deepnote_cell_type": "code",
    "deepnote_to_be_reexecuted": false,
    "execution_millis": 53,
    "execution_start": 1691609728603,
    "source_hash": null
   },
   "outputs": [
    {
     "data": {
      "text/plain": [
       "array([False, False,  True,  True, False, False, False, False, False,\n",
       "       False])"
      ]
     },
     "execution_count": 31,
     "metadata": {},
     "output_type": "execute_result"
    }
   ],
   "source": [
    "arr == 2"
   ]
  },
  {
   "cell_type": "markdown",
   "metadata": {
    "cell_id": "c1f5ae31ec31449fa7f9c6774ac73f20",
    "deepnote_cell_type": "markdown"
   },
   "source": [
    "* Count how many of the entires are equal to 2.\n"
   ]
  },
  {
   "cell_type": "code",
   "execution_count": null,
   "metadata": {
    "cell_id": "7e157e3772a443be90256365c7f26ee1",
    "deepnote_cell_type": "code",
    "deepnote_to_be_reexecuted": false,
    "execution_millis": 12,
    "execution_start": 1691609794350,
    "source_hash": null
   },
   "outputs": [
    {
     "data": {
      "text/plain": [
       "2"
      ]
     },
     "execution_count": 32,
     "metadata": {},
     "output_type": "execute_result"
    }
   ],
   "source": [
    "# Method 1: built-in function\n",
    "sum(arr == 2)"
   ]
  },
  {
   "cell_type": "code",
   "execution_count": null,
   "metadata": {
    "cell_id": "2f7a8d2e14a44d628fda1588adef581f",
    "deepnote_cell_type": "code",
    "deepnote_to_be_reexecuted": false,
    "execution_millis": 13,
    "execution_start": 1691609839755,
    "source_hash": null
   },
   "outputs": [
    {
     "data": {
      "text/plain": [
       "numpy.ndarray"
      ]
     },
     "execution_count": 34,
     "metadata": {},
     "output_type": "execute_result"
    }
   ],
   "source": [
    "# Method 2: using sum method\n",
    "type(arr == 2)"
   ]
  },
  {
   "cell_type": "code",
   "execution_count": null,
   "metadata": {
    "cell_id": "b48110f8ea864cc5a0dca058d16f1160",
    "deepnote_cell_type": "code",
    "deepnote_to_be_reexecuted": false,
    "execution_millis": 14,
    "execution_start": 1691609919922,
    "source_hash": null
   },
   "outputs": [
    {
     "data": {
      "text/plain": [
       "2"
      ]
     },
     "execution_count": 36,
     "metadata": {},
     "output_type": "execute_result"
    }
   ],
   "source": [
    "#.sum() faster in general :)\n",
    "(arr == 2).sum()"
   ]
  },
  {
   "cell_type": "markdown",
   "metadata": {
    "cell_id": "9e87762ca9514f3eab7b31d09965a4a9",
    "deepnote_cell_type": "markdown"
   },
   "source": [
    "* Make a boolean array indicating where `arr` is strictly less than 2 or greater than or equal to 4."
   ]
  },
  {
   "cell_type": "code",
   "execution_count": null,
   "metadata": {
    "cell_id": "cc0a50281211491ab31f2348d0de77bf",
    "deepnote_cell_type": "code",
    "deepnote_to_be_reexecuted": false,
    "execution_millis": 12,
    "execution_start": 1691609982120,
    "source_hash": null
   },
   "outputs": [
    {
     "data": {
      "text/plain": [
       "array([False,  True, False, False, False, False,  True, False, False,\n",
       "        True])"
      ]
     },
     "execution_count": 39,
     "metadata": {},
     "output_type": "execute_result"
    }
   ],
   "source": [
    "arr < 2"
   ]
  },
  {
   "cell_type": "code",
   "execution_count": null,
   "metadata": {
    "cell_id": "bf1f7de264854b0cb5238f3640f3bffc",
    "deepnote_cell_type": "code",
    "deepnote_to_be_reexecuted": false,
    "execution_millis": 13,
    "execution_start": 1691609956539,
    "source_hash": null
   },
   "outputs": [
    {
     "data": {
      "text/plain": [
       "array([ True, False, False, False,  True, False, False,  True,  True,\n",
       "       False])"
      ]
     },
     "execution_count": 38,
     "metadata": {},
     "output_type": "execute_result"
    }
   ],
   "source": [
    "arr >= 4"
   ]
  },
  {
   "cell_type": "markdown",
   "metadata": {
    "cell_id": "28d565fce57c4c7dbfb55a120073718c",
    "deepnote_cell_type": "markdown"
   },
   "source": [
    "Quick reminder of logic:\n",
    "* In base python (without external libraries): type out `and`, `or`, `not`\n",
    "* In NumPy and pandas: use symbols `&`, `|`, `~`"
   ]
  },
  {
   "cell_type": "code",
   "execution_count": null,
   "metadata": {
    "cell_id": "655b709bcc6a4719a9cb9d02badef7f3",
    "deepnote_cell_type": "code",
    "deepnote_to_be_reexecuted": false,
    "execution_millis": 6,
    "execution_start": 1691610168102,
    "source_hash": null
   },
   "outputs": [
    {
     "data": {
      "text/plain": [
       "array([ True,  True, False, False,  True, False,  True,  True,  True,\n",
       "        True])"
      ]
     },
     "execution_count": 41,
     "metadata": {},
     "output_type": "execute_result"
    }
   ],
   "source": [
    "(arr < 2) | (arr >= 4)"
   ]
  },
  {
   "cell_type": "code",
   "execution_count": null,
   "metadata": {
    "cell_id": "6710fb27d1914d4286ab92814593ec65",
    "deepnote_cell_type": "code",
    "deepnote_to_be_reexecuted": false,
    "execution_millis": 22,
    "execution_start": 1691610194595,
    "source_hash": null
   },
   "outputs": [
    {
     "ename": "ValueError",
     "evalue": "The truth value of an array with more than one element is ambiguous. Use a.any() or a.all()",
     "output_type": "error",
     "traceback": [
      "\u001b[0;31m---------------------------------------------------------------------------\u001b[0m",
      "\u001b[0;31mValueError\u001b[0m                                Traceback (most recent call last)",
      "Cell \u001b[0;32mIn [42], line 2\u001b[0m\n\u001b[1;32m      1\u001b[0m \u001b[38;5;66;03m# should give an error\u001b[39;00m\n\u001b[0;32m----> 2\u001b[0m (arr \u001b[38;5;241m<\u001b[39m \u001b[38;5;241m2\u001b[39m) \u001b[38;5;129;01mor\u001b[39;00m (arr \u001b[38;5;241m>\u001b[39m\u001b[38;5;241m=\u001b[39m \u001b[38;5;241m4\u001b[39m)\n",
      "\u001b[0;31mValueError\u001b[0m: The truth value of an array with more than one element is ambiguous. Use a.any() or a.all()"
     ]
    }
   ],
   "source": [
    "# should give an error\n",
    "(arr < 2) or (arr >= 4)"
   ]
  },
  {
   "cell_type": "markdown",
   "metadata": {
    "cell_id": "ee6a81411aea46d8803c035d3291a1f4",
    "deepnote_cell_type": "markdown"
   },
   "source": [
    "* Using boolean indexing, get the subarray of `arr` containing values which are strictly less than 2 or greater than or equal to 4."
   ]
  },
  {
   "cell_type": "code",
   "execution_count": null,
   "metadata": {
    "cell_id": "e0e90100c4b744d9ba76886bd329569a",
    "deepnote_cell_type": "code",
    "deepnote_to_be_reexecuted": false,
    "execution_millis": 6,
    "execution_start": 1691610331801,
    "source_hash": null
   },
   "outputs": [
    {
     "data": {
      "text/plain": [
       "array([6, 1, 4, 0, 6, 5, 1])"
      ]
     },
     "execution_count": 43,
     "metadata": {},
     "output_type": "execute_result"
    }
   ],
   "source": [
    "arr[(arr < 2) | (arr >= 4)]"
   ]
  },
  {
   "cell_type": "markdown",
   "metadata": {
    "cell_id": "b87229d3c4a347e1b6382d5b35b66de7",
    "deepnote_cell_type": "markdown"
   },
   "source": [
    "* Using `seed = 100`, make a $10 \\times 3$ NumPy array called `arr2` of random integers between 0 (inclusive) and 5 (exclusive)."
   ]
  },
  {
   "cell_type": "code",
   "execution_count": null,
   "metadata": {
    "cell_id": "e7ac816f5c664130a5ef3c3112188c0e",
    "deepnote_cell_type": "code",
    "deepnote_to_be_reexecuted": false,
    "execution_millis": 10,
    "execution_start": 1691610407589,
    "source_hash": null
   },
   "outputs": [
    {
     "data": {
      "text/plain": [
       "array([[3, 4, 0],\n",
       "       [2, 0, 1],\n",
       "       [2, 0, 2],\n",
       "       [4, 4, 2],\n",
       "       [2, 3, 4],\n",
       "       [4, 0, 3],\n",
       "       [3, 0, 2],\n",
       "       [4, 3, 1],\n",
       "       [1, 3, 0],\n",
       "       [2, 2, 2]])"
      ]
     },
     "execution_count": 45,
     "metadata": {},
     "output_type": "execute_result"
    }
   ],
   "source": [
    "rng = np.random.default_rng(seed=100)\n",
    "arr2 = rng.integers(0,5,size=(10,3))\n",
    "arr2"
   ]
  },
  {
   "cell_type": "markdown",
   "metadata": {
    "cell_id": "969ac6998a9c41e0b7f8c692e0da960d",
    "deepnote_cell_type": "markdown"
   },
   "source": [
    "* Define a variable `col` to be the index 0 column of `arr2`."
   ]
  },
  {
   "cell_type": "code",
   "execution_count": null,
   "metadata": {
    "cell_id": "bf2c0bdbb6fe4fd08118fdd656745809",
    "deepnote_cell_type": "code",
    "deepnote_to_be_reexecuted": false,
    "execution_millis": 18,
    "execution_start": 1691610510597,
    "source_hash": null
   },
   "outputs": [
    {
     "data": {
      "text/plain": [
       "array([3, 2, 2, 4, 2, 4, 3, 4, 1, 2])"
      ]
     },
     "execution_count": 46,
     "metadata": {},
     "output_type": "execute_result"
    }
   ],
   "source": [
    "col = arr2[:,0]\n",
    "col"
   ]
  },
  {
   "cell_type": "markdown",
   "metadata": {
    "cell_id": "1c55c5373e3c44d7b24f24c8ebf04906",
    "deepnote_cell_type": "markdown"
   },
   "source": [
    "Notice the difference between the previous block of code and the following examples:"
   ]
  },
  {
   "cell_type": "code",
   "execution_count": null,
   "metadata": {
    "cell_id": "bcf95de61d0444f4a5fe3852b8d279e8",
    "deepnote_cell_type": "code",
    "deepnote_to_be_reexecuted": false,
    "execution_millis": 15,
    "execution_start": 1691610555689,
    "source_hash": null
   },
   "outputs": [
    {
     "data": {
      "text/plain": [
       "array([3, 4, 0])"
      ]
     },
     "execution_count": 47,
     "metadata": {},
     "output_type": "execute_result"
    }
   ],
   "source": [
    "#arr2[:] says get all of the rows\n",
    "#[0] get the index 0 row of arr2[:]\n",
    "arr2[:][0]"
   ]
  },
  {
   "cell_type": "code",
   "execution_count": null,
   "metadata": {
    "cell_id": "f731e486b9a1433cac7fe299b4abef14",
    "deepnote_cell_type": "code",
    "deepnote_to_be_reexecuted": false,
    "execution_millis": 11,
    "execution_start": 1691610650389,
    "source_hash": null
   },
   "outputs": [
    {
     "data": {
      "text/plain": [
       "array([0, 1, 2, 2, 4, 3, 2, 1, 0, 2])"
      ]
     },
     "execution_count": 48,
     "metadata": {},
     "output_type": "execute_result"
    }
   ],
   "source": [
    "#Get the last row of arr2\n",
    "arr2[:,-1]"
   ]
  },
  {
   "cell_type": "markdown",
   "metadata": {
    "cell_id": "1c4196a625114c8c9e1f7ba93651ae67",
    "deepnote_cell_type": "markdown"
   },
   "source": [
    "* Get the subarray of `arr2` of all rows which begin with the number 2. "
   ]
  },
  {
   "cell_type": "code",
   "execution_count": null,
   "metadata": {
    "cell_id": "19d922e6815e490db7198ca978369c15",
    "deepnote_cell_type": "code",
    "deepnote_to_be_reexecuted": false,
    "execution_millis": 8,
    "execution_start": 1691610681590,
    "source_hash": null
   },
   "outputs": [
    {
     "data": {
      "text/plain": [
       "array([[3, 4, 0],\n",
       "       [2, 0, 1],\n",
       "       [2, 0, 2],\n",
       "       [4, 4, 2],\n",
       "       [2, 3, 4],\n",
       "       [4, 0, 3],\n",
       "       [3, 0, 2],\n",
       "       [4, 3, 1],\n",
       "       [1, 3, 0],\n",
       "       [2, 2, 2]])"
      ]
     },
     "execution_count": 49,
     "metadata": {},
     "output_type": "execute_result"
    }
   ],
   "source": [
    "arr2"
   ]
  },
  {
   "cell_type": "code",
   "execution_count": null,
   "metadata": {
    "cell_id": "7338e8a2792e4ac99473ed160beaa8cd",
    "deepnote_cell_type": "code",
    "deepnote_to_be_reexecuted": false,
    "execution_millis": 14,
    "execution_start": 1691610702911,
    "source_hash": null
   },
   "outputs": [
    {
     "data": {
      "text/plain": [
       "array([3, 2, 2, 4, 2, 4, 3, 4, 1, 2])"
      ]
     },
     "execution_count": 50,
     "metadata": {},
     "output_type": "execute_result"
    }
   ],
   "source": [
    "#where col is equal to 2, I want to keep the corresponding row\n",
    "col"
   ]
  },
  {
   "cell_type": "code",
   "execution_count": null,
   "metadata": {
    "cell_id": "87f3dbd6e719428795d4f149d2dc35c9",
    "deepnote_cell_type": "code",
    "deepnote_to_be_reexecuted": false,
    "execution_millis": 10,
    "execution_start": 1691610722312,
    "source_hash": null
   },
   "outputs": [
    {
     "data": {
      "text/plain": [
       "array([False,  True,  True, False,  True, False, False, False, False,\n",
       "        True])"
      ]
     },
     "execution_count": 51,
     "metadata": {},
     "output_type": "execute_result"
    }
   ],
   "source": [
    "col == 2"
   ]
  },
  {
   "cell_type": "code",
   "execution_count": null,
   "metadata": {
    "cell_id": "220d49e72aa146baacb57ed103e70d2c",
    "deepnote_cell_type": "code",
    "deepnote_to_be_reexecuted": false,
    "execution_millis": 9,
    "execution_start": 1691610770408,
    "source_hash": null
   },
   "outputs": [
    {
     "data": {
      "text/plain": [
       "array([[2, 0, 1],\n",
       "       [2, 0, 2],\n",
       "       [2, 3, 4],\n",
       "       [2, 2, 2]])"
      ]
     },
     "execution_count": 52,
     "metadata": {},
     "output_type": "execute_result"
    }
   ],
   "source": [
    "arr2[col == 2]"
   ]
  },
  {
   "cell_type": "markdown",
   "metadata": {
    "cell_id": "18b8acde2c834bd3b0179a526b19f678",
    "deepnote_cell_type": "markdown"
   },
   "source": [
    "## More Complex Boolean Indexing (NumPy)"
   ]
  },
  {
   "cell_type": "markdown",
   "metadata": {
    "cell_id": "6772dcadc01f4de7bd4ae14ed718cb07",
    "deepnote_cell_type": "markdown"
   },
   "source": [
    "* Make a $10 \\times 3$ boolean array indicating where `arr2` is equal to 2."
   ]
  },
  {
   "cell_type": "code",
   "execution_count": null,
   "metadata": {
    "cell_id": "372f8d48b80c4f40bafb509585f32fcf",
    "deepnote_cell_type": "code",
    "deepnote_to_be_reexecuted": false,
    "execution_millis": 16,
    "execution_start": 1691610872650,
    "source_hash": null
   },
   "outputs": [
    {
     "data": {
      "text/plain": [
       "(10, 3)"
      ]
     },
     "execution_count": 53,
     "metadata": {},
     "output_type": "execute_result"
    }
   ],
   "source": [
    "arr2.shape"
   ]
  },
  {
   "cell_type": "code",
   "execution_count": null,
   "metadata": {
    "cell_id": "89102bee40834be9868536613de0c686",
    "deepnote_cell_type": "code",
    "deepnote_to_be_reexecuted": false,
    "execution_millis": 14,
    "execution_start": 1691610891895,
    "source_hash": null
   },
   "outputs": [
    {
     "data": {
      "text/plain": [
       "array([[False, False, False],\n",
       "       [ True, False, False],\n",
       "       [ True, False,  True],\n",
       "       [False, False,  True],\n",
       "       [ True, False, False],\n",
       "       [False, False, False],\n",
       "       [False, False,  True],\n",
       "       [False, False, False],\n",
       "       [False, False, False],\n",
       "       [ True,  True,  True]])"
      ]
     },
     "execution_count": 55,
     "metadata": {},
     "output_type": "execute_result"
    }
   ],
   "source": [
    "arr2 == 2"
   ]
  },
  {
   "cell_type": "code",
   "execution_count": null,
   "metadata": {
    "cell_id": "74c9e27d2d0c4462bc58c5a75c9a80de",
    "deepnote_cell_type": "code",
    "deepnote_to_be_reexecuted": false,
    "execution_millis": 13,
    "execution_start": 1691610904332,
    "source_hash": null
   },
   "outputs": [
    {
     "data": {
      "text/plain": [
       "(10, 3)"
      ]
     },
     "execution_count": 56,
     "metadata": {},
     "output_type": "execute_result"
    }
   ],
   "source": [
    "(arr2 == 2).shape"
   ]
  },
  {
   "cell_type": "markdown",
   "metadata": {
    "cell_id": "c791ff1b3b7d49489440b661597a71d4",
    "deepnote_cell_type": "markdown"
   },
   "source": [
    "* Use the `sum` method with `axis=1` to find how many 2s there are in each row."
   ]
  },
  {
   "cell_type": "code",
   "execution_count": null,
   "metadata": {
    "cell_id": "5d136430ecd54d549500b8ab0175e79a",
    "deepnote_cell_type": "code",
    "deepnote_to_be_reexecuted": false,
    "execution_millis": 10,
    "execution_start": 1691610928701,
    "source_hash": null
   },
   "outputs": [
    {
     "data": {
      "text/plain": [
       "array([[3, 4, 0],\n",
       "       [2, 0, 1],\n",
       "       [2, 0, 2],\n",
       "       [4, 4, 2],\n",
       "       [2, 3, 4],\n",
       "       [4, 0, 3],\n",
       "       [3, 0, 2],\n",
       "       [4, 3, 1],\n",
       "       [1, 3, 0],\n",
       "       [2, 2, 2]])"
      ]
     },
     "execution_count": 57,
     "metadata": {},
     "output_type": "execute_result"
    }
   ],
   "source": [
    "arr2"
   ]
  },
  {
   "cell_type": "markdown",
   "metadata": {
    "cell_id": "fcc55e8be9494441bc4c29cb9a8d5d22",
    "deepnote_cell_type": "markdown"
   },
   "source": [
    "`axis` tells me what direction I should do my computation in."
   ]
  },
  {
   "cell_type": "code",
   "execution_count": null,
   "metadata": {
    "cell_id": "dbb62bcce8444737a5bcae712e604886",
    "deepnote_cell_type": "code",
    "deepnote_to_be_reexecuted": false,
    "execution_millis": 11,
    "execution_start": 1691611030575,
    "source_hash": null
   },
   "outputs": [
    {
     "data": {
      "text/plain": [
       "array([0, 1, 2, 1, 1, 0, 1, 0, 0, 3])"
      ]
     },
     "execution_count": 58,
     "metadata": {},
     "output_type": "execute_result"
    }
   ],
   "source": [
    "(arr2 == 2).sum(axis=1)"
   ]
  },
  {
   "cell_type": "markdown",
   "metadata": {
    "cell_id": "2dce71aee78740f286d52f7ea73051bf",
    "deepnote_cell_type": "markdown"
   },
   "source": [
    "* Create a subarray of `arr2` containing only rows which have at least two 2s."
   ]
  },
  {
   "cell_type": "code",
   "execution_count": null,
   "metadata": {
    "cell_id": "e2a5614d2e88410fba27fcb322992ffc",
    "deepnote_cell_type": "code",
    "deepnote_to_be_reexecuted": false,
    "execution_millis": 8,
    "execution_start": 1691611163495,
    "source_hash": null
   },
   "outputs": [],
   "source": [
    "counts = (arr2 == 2).sum(axis=1)"
   ]
  },
  {
   "cell_type": "code",
   "execution_count": null,
   "metadata": {
    "cell_id": "09c6c330716f4149b37d8380f92dae0e",
    "deepnote_cell_type": "code",
    "deepnote_to_be_reexecuted": false,
    "execution_millis": 9,
    "execution_start": 1691611183317,
    "source_hash": null
   },
   "outputs": [
    {
     "data": {
      "text/plain": [
       "array([[2, 0, 2],\n",
       "       [2, 2, 2]])"
      ]
     },
     "execution_count": 61,
     "metadata": {},
     "output_type": "execute_result"
    }
   ],
   "source": [
    "arr2[counts > 1]"
   ]
  },
  {
   "cell_type": "markdown",
   "metadata": {
    "cell_id": "5a472f38e9944227ab9451edb17c9c11",
    "deepnote_cell_type": "markdown"
   },
   "source": [
    "* We can also use boolean indexing to specify which rows and how many of each we want! "
   ]
  },
  {
   "cell_type": "code",
   "execution_count": null,
   "metadata": {
    "cell_id": "73db6904cbb245a08df08a9824a04a39",
    "deepnote_cell_type": "code",
    "deepnote_to_be_reexecuted": false,
    "execution_millis": 12,
    "execution_start": 1691611210952,
    "source_hash": null
   },
   "outputs": [
    {
     "data": {
      "text/plain": [
       "array([[3, 4, 0],\n",
       "       [2, 0, 1],\n",
       "       [2, 0, 2],\n",
       "       [4, 4, 2],\n",
       "       [2, 3, 4],\n",
       "       [4, 0, 3],\n",
       "       [3, 0, 2],\n",
       "       [4, 3, 1],\n",
       "       [1, 3, 0],\n",
       "       [2, 2, 2]])"
      ]
     },
     "execution_count": 62,
     "metadata": {},
     "output_type": "execute_result"
    }
   ],
   "source": [
    "arr2"
   ]
  },
  {
   "cell_type": "code",
   "execution_count": null,
   "metadata": {
    "cell_id": "97fbb5c3ec204178b91a455ddf36a19c",
    "deepnote_cell_type": "code",
    "deepnote_to_be_reexecuted": false,
    "execution_millis": 10,
    "execution_start": 1691611251725,
    "source_hash": null
   },
   "outputs": [
    {
     "data": {
      "text/plain": [
       "array([[2, 2, 2],\n",
       "       [2, 2, 2],\n",
       "       [2, 2, 2]])"
      ]
     },
     "execution_count": 64,
     "metadata": {},
     "output_type": "execute_result"
    }
   ],
   "source": [
    "#First set of brackets says to index\n",
    "#Second set of brackets is the list of rows I want\n",
    "arr2[[9,9,9]]"
   ]
  },
  {
   "cell_type": "code",
   "execution_count": null,
   "metadata": {
    "cell_id": "1da29ac7fc8f48baa8f8b13ede361855",
    "deepnote_cell_type": "code",
    "deepnote_to_be_reexecuted": false,
    "execution_millis": 16,
    "execution_start": 1691611262933,
    "source_hash": null
   },
   "outputs": [
    {
     "data": {
      "text/plain": [
       "array([[2, 2, 2],\n",
       "       [3, 4, 0],\n",
       "       [2, 0, 1]])"
      ]
     },
     "execution_count": 65,
     "metadata": {},
     "output_type": "execute_result"
    }
   ],
   "source": [
    "#First set of brackets says to index\n",
    "#Second set of brackets is the list of rows I want\n",
    "arr2[[9,0,1]]"
   ]
  },
  {
   "cell_type": "code",
   "execution_count": null,
   "metadata": {
    "cell_id": "b9b331efa92844ea9ed70bac6f6eed7e",
    "deepnote_cell_type": "code",
    "deepnote_to_be_reexecuted": false,
    "execution_millis": 11,
    "execution_start": 1691611814475,
    "source_hash": null
   },
   "outputs": [
    {
     "data": {
      "text/plain": [
       "array([[3, 4, 0],\n",
       "       [2, 0, 1],\n",
       "       [2, 0, 2],\n",
       "       [4, 4, 2],\n",
       "       [2, 3, 4],\n",
       "       [4, 0, 3],\n",
       "       [3, 0, 2],\n",
       "       [4, 3, 1],\n",
       "       [1, 3, 0],\n",
       "       [2, 2, 2]])"
      ]
     },
     "execution_count": 66,
     "metadata": {},
     "output_type": "execute_result"
    }
   ],
   "source": [
    "arr2"
   ]
  },
  {
   "cell_type": "code",
   "execution_count": null,
   "metadata": {
    "cell_id": "4773e2418381490e8bd73e0c9d1e7d92",
    "deepnote_cell_type": "code",
    "deepnote_to_be_reexecuted": false,
    "execution_millis": 31,
    "execution_start": 1691611847464,
    "source_hash": null
   },
   "outputs": [
    {
     "data": {
      "text/plain": [
       "2"
      ]
     },
     "execution_count": 68,
     "metadata": {},
     "output_type": "execute_result"
    }
   ],
   "source": [
    "# Notice the difference from the previous cell\n",
    "#Go to row 9, column 0\n",
    "arr2[9,0]"
   ]
  },
  {
   "cell_type": "code",
   "execution_count": null,
   "metadata": {
    "cell_id": "3fa3f6a18fe040f5805b5ca693373f8c",
    "deepnote_cell_type": "code",
    "deepnote_to_be_reexecuted": false,
    "execution_millis": 51,
    "execution_start": 1691611875664,
    "source_hash": null
   },
   "outputs": [
    {
     "data": {
      "text/plain": [
       "array([[2, 2, 2],\n",
       "       [3, 4, 0]])"
      ]
     },
     "execution_count": 69,
     "metadata": {},
     "output_type": "execute_result"
    }
   ],
   "source": [
    "arr2[[9,0]]"
   ]
  },
  {
   "cell_type": "markdown",
   "metadata": {
    "cell_id": "4dad4788c4a64b4fb8276282eab63980",
    "deepnote_cell_type": "markdown"
   },
   "source": [
    "## More Examples with `axis` Keyword Argument"
   ]
  },
  {
   "cell_type": "code",
   "execution_count": null,
   "metadata": {
    "cell_id": "e34c82aa6b4c47a8a360f71c252211ce",
    "deepnote_cell_type": "code",
    "deepnote_to_be_reexecuted": false,
    "execution_millis": 54,
    "execution_start": 1691611947483,
    "source_hash": null
   },
   "outputs": [
    {
     "data": {
      "text/plain": [
       "array([[3, 4, 0],\n",
       "       [2, 0, 1],\n",
       "       [2, 0, 2],\n",
       "       [4, 4, 2],\n",
       "       [2, 3, 4],\n",
       "       [4, 0, 3],\n",
       "       [3, 0, 2],\n",
       "       [4, 3, 1],\n",
       "       [1, 3, 0],\n",
       "       [2, 2, 2]])"
      ]
     },
     "execution_count": 70,
     "metadata": {},
     "output_type": "execute_result"
    }
   ],
   "source": [
    "rng = np.random.default_rng(seed=100)\n",
    "arr = rng.integers(0,5,size=(10,3))\n",
    "arr"
   ]
  },
  {
   "cell_type": "markdown",
   "metadata": {
    "cell_id": "18ba8fe3b8474110b85a4a066cec17ab",
    "deepnote_cell_type": "markdown",
    "deepnote_to_be_reexecuted": false,
    "execution_millis": 16,
    "execution_start": 1691433516389,
    "source_hash": "b1fa7de8"
   },
   "source": [
    "Let's explore what we get by evaluating each of the following:"
   ]
  },
  {
   "cell_type": "markdown",
   "metadata": {
    "cell_id": "a97da2ef2e7443ce9602beac4e550d82",
    "deepnote_cell_type": "markdown"
   },
   "source": [
    "* `arr.max()`"
   ]
  },
  {
   "cell_type": "code",
   "execution_count": null,
   "metadata": {
    "cell_id": "0f70f8ca80224c78abbfdb823f803cd9",
    "deepnote_cell_type": "code",
    "deepnote_to_be_reexecuted": false,
    "execution_millis": 5,
    "execution_start": 1691611958648,
    "source_hash": null
   },
   "outputs": [
    {
     "data": {
      "text/plain": [
       "4"
      ]
     },
     "execution_count": 71,
     "metadata": {},
     "output_type": "execute_result"
    }
   ],
   "source": [
    "# Takes maximum over entire array\n",
    "arr.max()"
   ]
  },
  {
   "cell_type": "markdown",
   "metadata": {
    "cell_id": "d94ffc710a3c4f3593d7e4c6414747ab",
    "deepnote_cell_type": "markdown"
   },
   "source": [
    "* `arr.max(axis=0)`"
   ]
  },
  {
   "cell_type": "code",
   "execution_count": null,
   "metadata": {
    "cell_id": "6eecd0b6869d4c20b98aafbdd3972099",
    "deepnote_cell_type": "code",
    "deepnote_to_be_reexecuted": false,
    "execution_millis": 10,
    "execution_start": 1691611980741,
    "source_hash": null
   },
   "outputs": [
    {
     "data": {
      "text/plain": [
       "array([4, 4, 4])"
      ]
     },
     "execution_count": 72,
     "metadata": {},
     "output_type": "execute_result"
    }
   ],
   "source": [
    "#Taking maximum over each column\n",
    "#Notice we're \"moving\" up/down\n",
    "arr.max(axis=0)"
   ]
  },
  {
   "cell_type": "code",
   "execution_count": null,
   "metadata": {
    "cell_id": "a709b31deaff4ebc8d90e6e1789e6ef6",
    "deepnote_cell_type": "code",
    "deepnote_to_be_reexecuted": false,
    "execution_millis": 9,
    "execution_start": 1691612172819,
    "source_hash": null
   },
   "outputs": [
    {
     "data": {
      "text/plain": [
       "array([[3, 4, 0],\n",
       "       [2, 0, 1],\n",
       "       [2, 0, 2],\n",
       "       [4, 4, 2],\n",
       "       [2, 3, 4],\n",
       "       [4, 0, 3],\n",
       "       [3, 0, 2],\n",
       "       [4, 3, 1],\n",
       "       [1, 3, 0],\n",
       "       [2, 2, 2]])"
      ]
     },
     "execution_count": 75,
     "metadata": {},
     "output_type": "execute_result"
    }
   ],
   "source": [
    "arr"
   ]
  },
  {
   "cell_type": "markdown",
   "metadata": {
    "cell_id": "8ece792f75b14cae9697da110f75de71",
    "deepnote_cell_type": "markdown"
   },
   "source": [
    "* `arr.max(axis=1)`"
   ]
  },
  {
   "cell_type": "code",
   "execution_count": null,
   "metadata": {
    "cell_id": "6fa7edd65a464c01a70c7e1c993712cb",
    "deepnote_cell_type": "code",
    "deepnote_to_be_reexecuted": false,
    "execution_millis": 55,
    "execution_start": 1691612113195,
    "source_hash": null
   },
   "outputs": [
    {
     "data": {
      "text/plain": [
       "array([4, 2, 2, 4, 4, 4, 3, 4, 3, 2])"
      ]
     },
     "execution_count": 73,
     "metadata": {},
     "output_type": "execute_result"
    }
   ],
   "source": [
    "#Taking maximum over each row\n",
    "#Notice we're \"moving\" left/right\n",
    "arr.max(axis=1)"
   ]
  },
  {
   "cell_type": "code",
   "execution_count": null,
   "metadata": {
    "cell_id": "1241940f36454c11adcdadad7a750d8e",
    "deepnote_cell_type": "code",
    "deepnote_to_be_reexecuted": false,
    "execution_millis": 16,
    "execution_start": 1691612120704,
    "source_hash": null
   },
   "outputs": [
    {
     "data": {
      "text/plain": [
       "array([[3, 4, 0],\n",
       "       [2, 0, 1],\n",
       "       [2, 0, 2],\n",
       "       [4, 4, 2],\n",
       "       [2, 3, 4],\n",
       "       [4, 0, 3],\n",
       "       [3, 0, 2],\n",
       "       [4, 3, 1],\n",
       "       [1, 3, 0],\n",
       "       [2, 2, 2]])"
      ]
     },
     "execution_count": 74,
     "metadata": {},
     "output_type": "execute_result"
    }
   ],
   "source": [
    "arr"
   ]
  },
  {
   "cell_type": "markdown",
   "metadata": {
    "cell_id": "5f68336158a74b3cae60cbd0e58dcfe0",
    "deepnote_cell_type": "markdown"
   },
   "source": [
    "Then, let's answer the following question: In how many rows of `arr` is the max entry in that row 2 or less?"
   ]
  },
  {
   "cell_type": "code",
   "execution_count": null,
   "metadata": {
    "cell_id": "5a90461c9f3545189b32099a8e088654",
    "deepnote_cell_type": "code",
    "deepnote_to_be_reexecuted": false,
    "execution_millis": 11,
    "execution_start": 1691612275832,
    "source_hash": null
   },
   "outputs": [
    {
     "data": {
      "text/plain": [
       "array([4, 2, 2, 4, 4, 4, 3, 4, 3, 2])"
      ]
     },
     "execution_count": 78,
     "metadata": {},
     "output_type": "execute_result"
    }
   ],
   "source": [
    "rowmax = arr.max(axis=1)\n",
    "rowmax"
   ]
  },
  {
   "cell_type": "code",
   "execution_count": null,
   "metadata": {
    "cell_id": "9fbf8116249e47a887fa1a2ba0b8ad17",
    "deepnote_cell_type": "code",
    "deepnote_to_be_reexecuted": false,
    "execution_millis": 11,
    "execution_start": 1691612288423,
    "source_hash": null
   },
   "outputs": [
    {
     "data": {
      "text/plain": [
       "array([False,  True,  True, False, False, False, False, False, False,\n",
       "        True])"
      ]
     },
     "execution_count": 79,
     "metadata": {},
     "output_type": "execute_result"
    }
   ],
   "source": [
    "rowmax <= 2"
   ]
  },
  {
   "cell_type": "markdown",
   "metadata": {
    "cell_id": "27af527e73ec44a1ac4ba2cdee7cc967",
    "deepnote_cell_type": "markdown"
   },
   "source": [
    "General Strats:\n",
    "* If a question asks to count something, typically want to use `sum`\n",
    "* If a question asks for a sub-array/sub-DataFrame, want to use boolean indexing"
   ]
  },
  {
   "cell_type": "code",
   "execution_count": null,
   "metadata": {
    "cell_id": "8846eddaaf9f4879a965e92720309477",
    "deepnote_cell_type": "code",
    "deepnote_to_be_reexecuted": false,
    "execution_millis": 13,
    "execution_start": 1691612354336,
    "source_hash": null
   },
   "outputs": [
    {
     "data": {
      "text/plain": [
       "3"
      ]
     },
     "execution_count": 80,
     "metadata": {},
     "output_type": "execute_result"
    }
   ],
   "source": [
    "sum(rowmax <= 2)"
   ]
  },
  {
   "cell_type": "markdown",
   "metadata": {
    "cell_id": "e43b79e104e1471b98852fe6a14146f9",
    "deepnote_cell_type": "markdown"
   },
   "source": [
    "* How could I get the subarray of `arr` where each row has a maximum of 2 or less?"
   ]
  },
  {
   "cell_type": "code",
   "execution_count": null,
   "metadata": {
    "cell_id": "d0f5b70b311b4c8aa0d40a70794a4338",
    "deepnote_cell_type": "code",
    "deepnote_to_be_reexecuted": false,
    "execution_millis": 10,
    "execution_start": 1691612417126,
    "source_hash": null
   },
   "outputs": [
    {
     "data": {
      "text/plain": [
       "array([[2, 0, 1],\n",
       "       [2, 0, 2],\n",
       "       [2, 2, 2]])"
      ]
     },
     "execution_count": 81,
     "metadata": {},
     "output_type": "execute_result"
    }
   ],
   "source": [
    "arr[rowmax <= 2]"
   ]
  },
  {
   "cell_type": "markdown",
   "metadata": {
    "cell_id": "3845cf4ea3d2450aa8462e5eb9103a03",
    "deepnote_cell_type": "markdown"
   },
   "source": [
    "## Functions in Python"
   ]
  },
  {
   "cell_type": "markdown",
   "metadata": {
    "cell_id": "acd4d4a7461748c5a2e40c39d7651e87",
    "deepnote_cell_type": "markdown"
   },
   "source": [
    "__Task:__ Write a function `getsub` which takes as input a NumPy array `arr` and an integer `n`, and as output returns the subarray of `arr` containg all rows with at least two entries equal to `n`."
   ]
  },
  {
   "cell_type": "code",
   "execution_count": null,
   "metadata": {
    "cell_id": "44def68bbdba4121bcf276d742b430dc",
    "deepnote_cell_type": "code",
    "deepnote_to_be_reexecuted": false,
    "execution_millis": 12,
    "execution_start": 1691612685850,
    "source_hash": null
   },
   "outputs": [],
   "source": [
    "#We'll see the basic syntax for functions\n",
    "def getsub(arr, n):\n",
    "    counts = (arr == n).sum(axis=1)\n",
    "    subarr = arr[counts >= 2] #If I end the function here something is missing...nothing is returned!\n",
    "    return subarr"
   ]
  },
  {
   "cell_type": "markdown",
   "metadata": {
    "cell_id": "c7b780b707424c5896dc8239cb52465c",
    "deepnote_cell_type": "markdown"
   },
   "source": [
    "Now, let's test our code with a much larger arr!"
   ]
  },
  {
   "cell_type": "code",
   "execution_count": null,
   "metadata": {
    "cell_id": "0aba5eb0c8da453494941ac100a16a51",
    "deepnote_cell_type": "code",
    "deepnote_to_be_reexecuted": false,
    "execution_millis": 10,
    "execution_start": 1691612733504,
    "source_hash": null
   },
   "outputs": [],
   "source": [
    "rng = np.random.default_rng(seed=100)\n",
    "arr = rng.integers(0,5,size=(100,3))"
   ]
  },
  {
   "cell_type": "code",
   "execution_count": null,
   "metadata": {
    "cell_id": "d53672c293654b9d8f441338feb5d2bb",
    "deepnote_cell_type": "code",
    "deepnote_to_be_reexecuted": false,
    "execution_millis": 9,
    "execution_start": 1691612781951,
    "source_hash": null
   },
   "outputs": [
    {
     "data": {
      "text/plain": [
       "array([], shape=(0, 3), dtype=int64)"
      ]
     },
     "execution_count": 86,
     "metadata": {},
     "output_type": "execute_result"
    }
   ],
   "source": [
    "#Try to predict what the following will return\n",
    "getsub(arr,5)"
   ]
  },
  {
   "cell_type": "code",
   "execution_count": null,
   "metadata": {
    "cell_id": "4e80ad60f95448cf9f7faa36864a0fd5",
    "deepnote_cell_type": "code",
    "deepnote_to_be_reexecuted": false,
    "execution_millis": 11,
    "execution_start": 1691612800304,
    "source_hash": null
   },
   "outputs": [
    {
     "data": {
      "text/plain": [
       "array([[4, 4, 2],\n",
       "       [2, 4, 4],\n",
       "       [4, 4, 2],\n",
       "       [4, 2, 4],\n",
       "       [4, 4, 1],\n",
       "       [4, 4, 1],\n",
       "       [4, 0, 4]])"
      ]
     },
     "execution_count": 87,
     "metadata": {},
     "output_type": "execute_result"
    }
   ],
   "source": [
    "getsub(arr,4)"
   ]
  },
  {
   "cell_type": "markdown",
   "metadata": {
    "cell_id": "e54bed758a484bf38d53003d50f666c5",
    "deepnote_cell_type": "markdown"
   },
   "source": [
    "Exercise: Try to write the same function using for-loops. Using for-loops is definitely a worse strategy, but if it's your first time coding/using Python it's good pratice."
   ]
  },
  {
   "cell_type": "markdown",
   "metadata": {
    "cell_id": "0fb6e228cdf84282a48bcc1edef73354",
    "deepnote_cell_type": "markdown"
   },
   "source": [
    "## Why pandas? Wrong Approach 1"
   ]
  },
  {
   "cell_type": "markdown",
   "metadata": {
    "cell_id": "85619402624e4c54b99f72a9f9033176",
    "deepnote_cell_type": "markdown"
   },
   "source": [
    "We can imagine the following is a small set of data we want to work with.\n",
    "__Motivating Question:__ How can I represent this data in python?"
   ]
  },
  {
   "cell_type": "markdown",
   "metadata": {
    "cell_id": "34754ffc4e00480baee670f29651f15b",
    "deepnote_cell_type": "image",
    "deepnote_img_src": "csv-image.png"
   },
   "source": [
    "![csv-image.png](csv-image.png)"
   ]
  },
  {
   "cell_type": "markdown",
   "metadata": {
    "cell_id": "8512d4f40208449eac187756944577e7",
    "deepnote_cell_type": "markdown"
   },
   "source": [
    "Pure python approach: we'll store data as a list of lists. Each row will be a list in a bigger list."
   ]
  },
  {
   "cell_type": "code",
   "execution_count": null,
   "metadata": {
    "cell_id": "84915cba7b5f49568c4ee99865039375",
    "deepnote_cell_type": "code",
    "deepnote_to_be_reexecuted": false,
    "execution_millis": 40,
    "execution_start": 1691613208646,
    "source_hash": null
   },
   "outputs": [],
   "source": [
    "mylist = [\n",
    "    [1.99,17,\"Alice\",4.9],\n",
    "    [10.45,10,\"Bob\",2.5],\n",
    "    [19.99,5,\"Eve\",4.1]\n",
    "]"
   ]
  },
  {
   "cell_type": "code",
   "execution_count": null,
   "metadata": {
    "cell_id": "e8bfc278a0114dc68cfaf77f4632d2e9",
    "deepnote_cell_type": "code",
    "deepnote_to_be_reexecuted": false,
    "execution_millis": 9,
    "execution_start": 1691613214834,
    "source_hash": null
   },
   "outputs": [
    {
     "data": {
      "text/plain": [
       "[[1.99, 17, 'Alice', 4.9], [10.45, 10, 'Bob', 2.5], [19.99, 5, 'Eve', 4.1]]"
      ]
     },
     "execution_count": 89,
     "metadata": {},
     "output_type": "execute_result"
    }
   ],
   "source": [
    "mylist"
   ]
  },
  {
   "cell_type": "markdown",
   "metadata": {
    "cell_id": "1211e33bb83f494aad00d542ba1dba2f",
    "deepnote_cell_type": "markdown"
   },
   "source": [
    "Already, we can see that this method is pretty clunky."
   ]
  },
  {
   "cell_type": "markdown",
   "metadata": {
    "cell_id": "abb1a2c63c3744a1aad32f6bb8099421",
    "deepnote_cell_type": "markdown"
   },
   "source": [
    "* Compute the average value in the \"Rating\" column (the column at index 3)"
   ]
  },
  {
   "cell_type": "code",
   "execution_count": null,
   "metadata": {
    "cell_id": "c66396951dbd4df59ab14c7a6927698d",
    "deepnote_cell_type": "code",
    "deepnote_to_be_reexecuted": false,
    "execution_millis": 41,
    "execution_start": 1691613348951,
    "source_hash": null
   },
   "outputs": [
    {
     "name": "stdout",
     "output_type": "stream",
     "text": [
      "[1.99, 17, 'Alice', 4.9]\n",
      "Hello, World\n",
      "[10.45, 10, 'Bob', 2.5]\n",
      "Hello, World\n",
      "[19.99, 5, 'Eve', 4.1]\n",
      "Hello, World\n"
     ]
    }
   ],
   "source": [
    "ratings = []\n",
    "for inside_list in mylist:\n",
    "    print(inside_list)\n",
    "    print(\"Hello, World\")"
   ]
  },
  {
   "cell_type": "code",
   "execution_count": null,
   "metadata": {
    "cell_id": "365434b4779f49a188701da629deb861",
    "deepnote_cell_type": "code",
    "deepnote_to_be_reexecuted": false,
    "execution_millis": 12,
    "execution_start": 1691613400633,
    "source_hash": null
   },
   "outputs": [
    {
     "name": "stdout",
     "output_type": "stream",
     "text": [
      "[1.99, 17, 'Alice', 4.9]\n",
      "[10.45, 10, 'Bob', 2.5]\n",
      "[19.99, 5, 'Eve', 4.1]\n",
      "Hello, World\n"
     ]
    }
   ],
   "source": [
    "#Reminder, indenting\n",
    "ratings = []\n",
    "for inside_list in mylist:\n",
    "    print(inside_list)\n",
    "print(\"Hello, World\")"
   ]
  },
  {
   "cell_type": "code",
   "execution_count": null,
   "metadata": {
    "cell_id": "f940211102dc41608797d3c67f630464",
    "deepnote_cell_type": "code",
    "deepnote_to_be_reexecuted": false,
    "execution_millis": 9,
    "execution_start": 1691613432774,
    "source_hash": null
   },
   "outputs": [],
   "source": [
    "ratings = []\n",
    "for inside_list in mylist:\n",
    "    ratings.append(inside_list[-1])"
   ]
  },
  {
   "cell_type": "code",
   "execution_count": null,
   "metadata": {
    "cell_id": "919ebf2db35b456eb98abe8f57dc575f",
    "deepnote_cell_type": "code",
    "deepnote_to_be_reexecuted": false,
    "execution_millis": 8,
    "execution_start": 1691613437670,
    "source_hash": null
   },
   "outputs": [
    {
     "data": {
      "text/plain": [
       "[4.9, 2.5, 4.1]"
      ]
     },
     "execution_count": 94,
     "metadata": {},
     "output_type": "execute_result"
    }
   ],
   "source": [
    "ratings"
   ]
  },
  {
   "cell_type": "code",
   "execution_count": null,
   "metadata": {
    "cell_id": "0a14ccf2f4ba4a5bbacdd85acfac8572",
    "deepnote_cell_type": "code",
    "deepnote_to_be_reexecuted": false,
    "execution_millis": 11,
    "execution_start": 1691613466682,
    "source_hash": null
   },
   "outputs": [
    {
     "data": {
      "text/plain": [
       "3.8333333333333335"
      ]
     },
     "execution_count": 95,
     "metadata": {},
     "output_type": "execute_result"
    }
   ],
   "source": [
    "#compute average\n",
    "sum(ratings)/len(ratings)"
   ]
  },
  {
   "cell_type": "markdown",
   "metadata": {
    "cell_id": "504cb4c71a024ca38aabf85de1acb985",
    "deepnote_cell_type": "markdown"
   },
   "source": [
    "## Aside on Numerical Precision and Making Copies"
   ]
  },
  {
   "cell_type": "markdown",
   "metadata": {
    "cell_id": "f7a3899064f54d6fae16aa272e2ac1a3",
    "deepnote_cell_type": "markdown"
   },
   "source": [
    "We can kind of see in the previous example that the average we computed is not precisely the mathematical average. \n",
    "__Main Point:__ Working with floats is always going to have some level of precision error."
   ]
  },
  {
   "cell_type": "code",
   "execution_count": null,
   "metadata": {
    "cell_id": "4e6b326d5b864ef7987f1d95d490e76e",
    "deepnote_cell_type": "code",
    "deepnote_to_be_reexecuted": false,
    "execution_millis": 8,
    "execution_start": 1691614035349,
    "source_hash": null
   },
   "outputs": [],
   "source": [
    "#more obvious example\n",
    "new_ratings = [4.7,4.4,2]"
   ]
  },
  {
   "cell_type": "markdown",
   "metadata": {
    "cell_id": "9ed7d819d12642909166de2acc997cfd",
    "deepnote_cell_type": "markdown"
   },
   "source": [
    "On a calculator, we get that the average of `new_ratings` is exactly 3.7 -- let's see what python says..."
   ]
  },
  {
   "cell_type": "code",
   "execution_count": null,
   "metadata": {
    "cell_id": "9e4524f0f7764ced82733cfc2653d490",
    "deepnote_cell_type": "code",
    "deepnote_to_be_reexecuted": false,
    "execution_millis": 10,
    "execution_start": 1691613784044,
    "source_hash": null
   },
   "outputs": [
    {
     "data": {
      "text/plain": [
       "3.7000000000000006"
      ]
     },
     "execution_count": 97,
     "metadata": {},
     "output_type": "execute_result"
    }
   ],
   "source": [
    "sum(new_ratings)/len(new_ratings)"
   ]
  },
  {
   "cell_type": "code",
   "execution_count": null,
   "metadata": {
    "cell_id": "f7272889d8254abd92f682686780aaa0",
    "deepnote_cell_type": "code",
    "deepnote_to_be_reexecuted": false,
    "execution_millis": 14,
    "execution_start": 1691613811391,
    "source_hash": null
   },
   "outputs": [
    {
     "data": {
      "text/plain": [
       "False"
      ]
     },
     "execution_count": 98,
     "metadata": {},
     "output_type": "execute_result"
    }
   ],
   "source": [
    "sum(new_ratings)/len(new_ratings) == 3.7"
   ]
  },
  {
   "cell_type": "code",
   "execution_count": null,
   "metadata": {
    "cell_id": "71f35094b49b49ff973a68f2bc2037c5",
    "deepnote_cell_type": "code",
    "deepnote_to_be_reexecuted": false,
    "execution_millis": 12,
    "execution_start": 1691613888789,
    "source_hash": null
   },
   "outputs": [
    {
     "data": {
      "text/plain": [
       "False"
      ]
     },
     "execution_count": 100,
     "metadata": {},
     "output_type": "execute_result"
    }
   ],
   "source": [
    "#famous python example\n",
    "#convert 0.1 to binary...do you see what's going wrong?\n",
    "0.1 + 0.1 + 0.1 == 0.3"
   ]
  },
  {
   "cell_type": "markdown",
   "metadata": {
    "cell_id": "4001a0b2494047bab708234ded105097",
    "deepnote_cell_type": "markdown"
   },
   "source": [
    "General python/coding issue: working with floats introduces precision errors. There aren't many ways to get around this, but we tend to avoid asking if things are equal. Checking equality with integers, however, is usually fine."
   ]
  },
  {
   "cell_type": "markdown",
   "metadata": {
    "cell_id": "4c2380417ebf48c68f0fb5d78851e5b1",
    "deepnote_cell_type": "markdown"
   },
   "source": [
    "The next issue is something that might be a little strange if you've never seen it before."
   ]
  },
  {
   "cell_type": "code",
   "execution_count": null,
   "metadata": {
    "cell_id": "d2921ca5f0c54151a9ff4a8ebce89ddc",
    "deepnote_cell_type": "code",
    "deepnote_to_be_reexecuted": false,
    "execution_millis": 17,
    "execution_start": 1691614104800,
    "source_hash": null
   },
   "outputs": [],
   "source": [
    "example_list = [1,2,3]\n",
    "example_list2 = example_list"
   ]
  },
  {
   "cell_type": "code",
   "execution_count": null,
   "metadata": {
    "cell_id": "cfbb3c23f208448e81ff1e1e71b4599d",
    "deepnote_cell_type": "code",
    "deepnote_to_be_reexecuted": false,
    "execution_millis": 22,
    "execution_start": 1691614108178,
    "source_hash": null
   },
   "outputs": [
    {
     "data": {
      "text/plain": [
       "[1, 2, 3]"
      ]
     },
     "execution_count": 108,
     "metadata": {},
     "output_type": "execute_result"
    }
   ],
   "source": [
    "example_list"
   ]
  },
  {
   "cell_type": "code",
   "execution_count": null,
   "metadata": {
    "cell_id": "6b6f14795d8e41ba93e31b2eee956021",
    "deepnote_cell_type": "code",
    "deepnote_to_be_reexecuted": false,
    "execution_millis": 25,
    "execution_start": 1691614112817,
    "source_hash": null
   },
   "outputs": [
    {
     "data": {
      "text/plain": [
       "[1, 2, 3]"
      ]
     },
     "execution_count": 109,
     "metadata": {},
     "output_type": "execute_result"
    }
   ],
   "source": [
    "example_list2"
   ]
  },
  {
   "cell_type": "code",
   "execution_count": null,
   "metadata": {
    "cell_id": "dbd4a305bd29462da8232cee223a80bd",
    "deepnote_cell_type": "code",
    "deepnote_to_be_reexecuted": false,
    "execution_millis": 7,
    "execution_start": 1691614135987,
    "source_hash": null
   },
   "outputs": [],
   "source": [
    "example_list2.append(\"JACKY\")"
   ]
  },
  {
   "cell_type": "code",
   "execution_count": null,
   "metadata": {
    "cell_id": "6946b174a20143e7b5cf019602854cdf",
    "deepnote_cell_type": "code",
    "deepnote_to_be_reexecuted": false,
    "execution_millis": 21,
    "execution_start": 1691614140608,
    "source_hash": null
   },
   "outputs": [
    {
     "data": {
      "text/plain": [
       "[1, 2, 3, 'JACKY']"
      ]
     },
     "execution_count": 111,
     "metadata": {},
     "output_type": "execute_result"
    }
   ],
   "source": [
    "example_list2"
   ]
  },
  {
   "cell_type": "code",
   "execution_count": null,
   "metadata": {
    "cell_id": "25adcace8f274944b4095d416ca6ea0c",
    "deepnote_cell_type": "code",
    "deepnote_to_be_reexecuted": false,
    "execution_millis": 9,
    "execution_start": 1691614148331,
    "source_hash": null
   },
   "outputs": [
    {
     "data": {
      "text/plain": [
       "[1, 2, 3, 'JACKY']"
      ]
     },
     "execution_count": 112,
     "metadata": {},
     "output_type": "execute_result"
    }
   ],
   "source": [
    "example_list"
   ]
  },
  {
   "cell_type": "markdown",
   "metadata": {
    "cell_id": "88c966ea721545c1b6e27c18d7f56b45",
    "deepnote_cell_type": "markdown"
   },
   "source": [
    "The short answer to why this happens is that `example_list` and `example_list2` refer to the same object in memory. When one gets changed, so does the other."
   ]
  },
  {
   "cell_type": "markdown",
   "metadata": {
    "cell_id": "b7ba6fdbcd9a4b8788275f5f01ac13e5",
    "deepnote_cell_type": "markdown"
   },
   "source": [
    "To avoid this happening, I can make a copy!"
   ]
  },
  {
   "cell_type": "code",
   "execution_count": null,
   "metadata": {
    "cell_id": "726d695caafc478291ac63d531e3f206",
    "deepnote_cell_type": "code",
    "deepnote_to_be_reexecuted": false,
    "execution_millis": 10,
    "execution_start": 1691614246802,
    "source_hash": null
   },
   "outputs": [],
   "source": [
    "example_list3 = example_list.copy()\n",
    "example_list3.append(\"Yasmeen\")"
   ]
  },
  {
   "cell_type": "code",
   "execution_count": null,
   "metadata": {
    "cell_id": "f8c8bf3099da43d9bfe28f0c24d47835",
    "deepnote_cell_type": "code",
    "deepnote_to_be_reexecuted": false,
    "execution_millis": 12,
    "execution_start": 1691614250850,
    "source_hash": null
   },
   "outputs": [
    {
     "data": {
      "text/plain": [
       "[1, 2, 3, 'JACKY', 'Yasmeen']"
      ]
     },
     "execution_count": 114,
     "metadata": {},
     "output_type": "execute_result"
    }
   ],
   "source": [
    "example_list3"
   ]
  },
  {
   "cell_type": "code",
   "execution_count": null,
   "metadata": {
    "cell_id": "a92d95f7945f4c96955238e4db83a1b3",
    "deepnote_cell_type": "code",
    "deepnote_to_be_reexecuted": false,
    "execution_millis": 11,
    "execution_start": 1691614257353,
    "source_hash": null
   },
   "outputs": [
    {
     "data": {
      "text/plain": [
       "[1, 2, 3, 'JACKY']"
      ]
     },
     "execution_count": 115,
     "metadata": {},
     "output_type": "execute_result"
    }
   ],
   "source": [
    "example_list"
   ]
  },
  {
   "cell_type": "markdown",
   "metadata": {
    "created_in_deepnote_cell": true,
    "deepnote_cell_type": "markdown"
   },
   "source": [
    "<a style='text-decoration:none;line-height:16px;display:flex;color:#5B5B62;padding:10px;justify-content:end;' href='https://deepnote.com?utm_source=created-in-deepnote-cell&projectId=51d7ff23-9db2-4c4a-a12e-91935a69ba8d' target=\"_blank\">\n",
    "<img alt='Created in deepnote.com' style='display:inline;max-height:16px;margin:0px;margin-right:7.5px;' src='data:image/svg+xml;base64,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' > </img>\n",
    "Created in <span style='font-weight:600;margin-left:4px;'>Deepnote</span></a>"
   ]
  }
 ],
 "metadata": {
  "deepnote": {},
  "deepnote_execution_queue": [],
  "deepnote_notebook_id": "f43f7f4bdf9546a280e8b856574139a8",
  "deepnote_persisted_session": {
   "createdAt": "2023-08-09T21:16:34.386Z"
  },
  "kernelspec": {
   "display_name": "Python 3 (ipykernel)",
   "language": "python",
   "name": "python3"
  },
  "language_info": {
   "codemirror_mode": {
    "name": "ipython",
    "version": 3
   },
   "file_extension": ".py",
   "mimetype": "text/x-python",
   "name": "python",
   "nbconvert_exporter": "python",
   "pygments_lexer": "ipython3",
   "version": "3.9.13"
  }
 },
 "nbformat": 4,
 "nbformat_minor": 1
}
