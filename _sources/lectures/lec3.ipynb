{
 "cells": [
  {
   "cell_type": "markdown",
   "metadata": {
    "cell_id": "e0955e7aff19467dbc1920416a65984e",
    "deepnote_cell_type": "markdown"
   },
   "source": [
    "# Lecture 3: August 11th, 2023"
   ]
  },
  {
   "cell_type": "markdown",
   "metadata": {
    "cell_id": "2d0882d6532b4d9cb429a65f78ecf1e0",
    "deepnote_cell_type": "markdown"
   },
   "source": [
    "__Reminders:__ \n",
    "* Keep working on HW1 and HW2\n",
    "    * Anthony plans to go over homework on Friday and Monday; definitely attend if you'd like some help"
   ]
  },
  {
   "cell_type": "markdown",
   "metadata": {
    "cell_id": "20a6f851833d41f280bdbec93c77f293",
    "deepnote_cell_type": "markdown"
   },
   "source": [
    "__Recap:__ Recall in the last lecture we were thinking about how to represent the following data in python. We were also tasked with computing the average of the \"Rating\" column. We saw that as a list of lists it was pretty clunky..."
   ]
  },
  {
   "cell_type": "markdown",
   "metadata": {
    "cell_id": "21f82a7aede4466eaa95cd4f0a104807",
    "deepnote_cell_type": "image",
    "deepnote_img_src": "csv-image.png"
   },
   "source": [
    "![csv-image.png](csv-image.png)"
   ]
  },
  {
   "cell_type": "code",
   "execution_count": null,
   "metadata": {
    "cell_id": "3bffb0098dfe47c796dcc658a6e6d3b1",
    "deepnote_cell_type": "code",
    "deepnote_to_be_reexecuted": false,
    "execution_millis": 14,
    "execution_start": 1691782307719,
    "source_hash": null
   },
   "outputs": [],
   "source": [
    "#from last lecture\n",
    "mylist = [\n",
    "    [1.99,17,\"Alice\",4.9],\n",
    "    [10.45,10,\"Bob\",2.5],\n",
    "    [19.99,5,\"Eve\",4.1]\n",
    "]"
   ]
  },
  {
   "cell_type": "markdown",
   "metadata": {
    "cell_id": "ec2b637e1a104b239a5a8095ff31cd5c",
    "deepnote_cell_type": "markdown"
   },
   "source": [
    "### Why pandas? Wrong Approach 2"
   ]
  },
  {
   "cell_type": "markdown",
   "metadata": {
    "cell_id": "e10aa4173f124eee903f558c8fd38693",
    "deepnote_cell_type": "markdown"
   },
   "source": [
    "We know that NumPy is very good at dealing with arrays. What if we tried to store our data with NumPy instead?"
   ]
  },
  {
   "cell_type": "code",
   "execution_count": null,
   "metadata": {
    "cell_id": "2cf73bed0bc5421aaea69f78637d42f2",
    "deepnote_cell_type": "code",
    "deepnote_to_be_reexecuted": false,
    "execution_millis": 20,
    "execution_start": 1691782307727,
    "source_hash": null
   },
   "outputs": [],
   "source": [
    "import numpy as np"
   ]
  },
  {
   "cell_type": "code",
   "execution_count": null,
   "metadata": {
    "cell_id": "9ab03a397e9b409e92368d784e5c895d",
    "deepnote_cell_type": "code",
    "deepnote_to_be_reexecuted": false,
    "execution_millis": 37,
    "execution_start": 1691782307742,
    "source_hash": null
   },
   "outputs": [
    {
     "data": {
      "text/plain": [
       "[[1.99, 17, 'Alice', 4.9], [10.45, 10, 'Bob', 2.5], [19.99, 5, 'Eve', 4.1]]"
      ]
     },
     "execution_count": 3,
     "metadata": {},
     "output_type": "execute_result"
    }
   ],
   "source": [
    "mylist"
   ]
  },
  {
   "cell_type": "code",
   "execution_count": null,
   "metadata": {
    "cell_id": "22687be2a1474a47a2a5d51988395f7b",
    "deepnote_cell_type": "code",
    "deepnote_to_be_reexecuted": false,
    "execution_millis": 4,
    "execution_start": 1691782307744,
    "source_hash": null
   },
   "outputs": [
    {
     "data": {
      "text/plain": [
       "array([['1.99', '17', 'Alice', '4.9'],\n",
       "       ['10.45', '10', 'Bob', '2.5'],\n",
       "       ['19.99', '5', 'Eve', '4.1']], dtype='<U32')"
      ]
     },
     "execution_count": 4,
     "metadata": {},
     "output_type": "execute_result"
    }
   ],
   "source": [
    "#first, let's convert this list into a NumPy array\n",
    "arr = np.array(mylist)\n",
    "arr"
   ]
  },
  {
   "cell_type": "markdown",
   "metadata": {
    "cell_id": "2b36d12882eb4bf89fab8ae0260b64b2",
    "deepnote_cell_type": "markdown"
   },
   "source": [
    "If you look carefully, you might realize something is \"off\" about `arr`..."
   ]
  },
  {
   "cell_type": "code",
   "execution_count": null,
   "metadata": {
    "cell_id": "fb62fe11056d4d93b3954accc4b0d69d",
    "deepnote_cell_type": "code",
    "deepnote_to_be_reexecuted": false,
    "execution_millis": 30,
    "execution_start": 1691782307754,
    "source_hash": null
   },
   "outputs": [
    {
     "data": {
      "text/plain": [
       "numpy.ndarray"
      ]
     },
     "execution_count": 5,
     "metadata": {},
     "output_type": "execute_result"
    }
   ],
   "source": [
    "type(arr)"
   ]
  },
  {
   "cell_type": "markdown",
   "metadata": {
    "cell_id": "74387603cd3447008627fa8dc0a2355c",
    "deepnote_cell_type": "markdown"
   },
   "source": [
    "Recall: our original goal was to compute the average of the ratings column. So let's try to get that done here."
   ]
  },
  {
   "cell_type": "code",
   "execution_count": null,
   "metadata": {
    "cell_id": "6586b3cf02b2468190c5a3e6969095a0",
    "deepnote_cell_type": "code",
    "deepnote_to_be_reexecuted": false,
    "execution_millis": 9,
    "execution_start": 1691782307759,
    "source_hash": null
   },
   "outputs": [
    {
     "data": {
      "text/plain": [
       "array(['4.9', '2.5', '4.1'], dtype='<U32')"
      ]
     },
     "execution_count": 6,
     "metadata": {},
     "output_type": "execute_result"
    }
   ],
   "source": [
    "# get all rows in the last column\n",
    "arr[:,-1]"
   ]
  },
  {
   "cell_type": "markdown",
   "metadata": {
    "cell_id": "8aca68edf4c54c5fb7c6f4fb261bc601",
    "deepnote_cell_type": "markdown"
   },
   "source": [
    "Notice, for multi-dimensional slicing, this doesn't work for lists"
   ]
  },
  {
   "cell_type": "code",
   "execution_count": null,
   "metadata": {
    "cell_id": "917900bcb4c24c77bc56870e53586f1f",
    "deepnote_cell_type": "code",
    "deepnote_to_be_reexecuted": false,
    "execution_millis": 529,
    "execution_start": 1691782307760,
    "source_hash": null
   },
   "outputs": [
    {
     "ename": "TypeError",
     "evalue": "list indices must be integers or slices, not tuple",
     "output_type": "error",
     "traceback": [
      "\u001b[0;31m---------------------------------------------------------------------------\u001b[0m",
      "\u001b[0;31mTypeError\u001b[0m                                 Traceback (most recent call last)",
      "Cell \u001b[0;32mIn [7], line 2\u001b[0m\n\u001b[1;32m      1\u001b[0m \u001b[38;5;66;03m#Same slicing fails for a list\u001b[39;00m\n\u001b[0;32m----> 2\u001b[0m \u001b[43mmylist\u001b[49m\u001b[43m[\u001b[49m\u001b[43m:\u001b[49m\u001b[43m,\u001b[49m\u001b[38;5;241;43m-\u001b[39;49m\u001b[38;5;241;43m1\u001b[39;49m\u001b[43m]\u001b[49m\n",
      "\u001b[0;31mTypeError\u001b[0m: list indices must be integers or slices, not tuple"
     ]
    }
   ],
   "source": [
    "#Same slicing fails for a list\n",
    "mylist[:,-1]"
   ]
  },
  {
   "cell_type": "code",
   "execution_count": 1,
   "metadata": {
    "cell_id": "d1b2cd545402479a9066e404bcf689cc",
    "deepnote_cell_type": "code",
    "deepnote_to_be_reexecuted": false,
    "execution_millis": 811,
    "execution_start": 1691800130988,
    "source_hash": "59a8792e"
   },
   "outputs": [
    {
     "ename": "UFuncTypeError",
     "evalue": "ufunc 'add' did not contain a loop with signature matching types (dtype('<U32'), dtype('<U32')) -> None",
     "output_type": "error",
     "traceback": [
      "\u001b[0;31m---------------------------------------------------------------------------\u001b[0m",
      "\u001b[0;31mUFuncTypeError\u001b[0m                            Traceback (most recent call last)",
      "Cell \u001b[0;32mIn [1], line 1\u001b[0m\n\u001b[0;32m----> 1\u001b[0m \u001b[43marr\u001b[49m\u001b[43m[\u001b[49m\u001b[43m:\u001b[49m\u001b[43m,\u001b[49m\u001b[38;5;241;43m-\u001b[39;49m\u001b[38;5;241;43m1\u001b[39;49m\u001b[43m]\u001b[49m\u001b[38;5;241;43m.\u001b[39;49m\u001b[43mmean\u001b[49m\u001b[43m(\u001b[49m\u001b[43m)\u001b[49m\n",
      "File \u001b[0;32m/shared-libs/python3.9/py/lib/python3.9/site-packages/numpy/core/_methods.py:180\u001b[0m, in \u001b[0;36m_mean\u001b[0;34m(a, axis, dtype, out, keepdims, where)\u001b[0m\n\u001b[1;32m    177\u001b[0m         dtype \u001b[38;5;241m=\u001b[39m mu\u001b[38;5;241m.\u001b[39mdtype(\u001b[38;5;124m'\u001b[39m\u001b[38;5;124mf4\u001b[39m\u001b[38;5;124m'\u001b[39m)\n\u001b[1;32m    178\u001b[0m         is_float16_result \u001b[38;5;241m=\u001b[39m \u001b[38;5;28;01mTrue\u001b[39;00m\n\u001b[0;32m--> 180\u001b[0m ret \u001b[38;5;241m=\u001b[39m \u001b[43mumr_sum\u001b[49m\u001b[43m(\u001b[49m\u001b[43marr\u001b[49m\u001b[43m,\u001b[49m\u001b[43m \u001b[49m\u001b[43maxis\u001b[49m\u001b[43m,\u001b[49m\u001b[43m \u001b[49m\u001b[43mdtype\u001b[49m\u001b[43m,\u001b[49m\u001b[43m \u001b[49m\u001b[43mout\u001b[49m\u001b[43m,\u001b[49m\u001b[43m \u001b[49m\u001b[43mkeepdims\u001b[49m\u001b[43m,\u001b[49m\u001b[43m \u001b[49m\u001b[43mwhere\u001b[49m\u001b[38;5;241;43m=\u001b[39;49m\u001b[43mwhere\u001b[49m\u001b[43m)\u001b[49m\n\u001b[1;32m    181\u001b[0m \u001b[38;5;28;01mif\u001b[39;00m \u001b[38;5;28misinstance\u001b[39m(ret, mu\u001b[38;5;241m.\u001b[39mndarray):\n\u001b[1;32m    182\u001b[0m     ret \u001b[38;5;241m=\u001b[39m um\u001b[38;5;241m.\u001b[39mtrue_divide(\n\u001b[1;32m    183\u001b[0m             ret, rcount, out\u001b[38;5;241m=\u001b[39mret, casting\u001b[38;5;241m=\u001b[39m\u001b[38;5;124m'\u001b[39m\u001b[38;5;124munsafe\u001b[39m\u001b[38;5;124m'\u001b[39m, subok\u001b[38;5;241m=\u001b[39m\u001b[38;5;28;01mFalse\u001b[39;00m)\n",
      "\u001b[0;31mUFuncTypeError\u001b[0m: ufunc 'add' did not contain a loop with signature matching types (dtype('<U32'), dtype('<U32')) -> None"
     ]
    }
   ],
   "source": [
    "arr[:,-1].mean()"
   ]
  },
  {
   "cell_type": "markdown",
   "metadata": {
    "cell_id": "080fe483c46f44da84be24b9d2b09037",
    "deepnote_cell_type": "markdown"
   },
   "source": [
    "What's going wrong: NumPy wants all of the entries in an array to have __the same__ data type. "
   ]
  },
  {
   "cell_type": "markdown",
   "metadata": {
    "cell_id": "13bbd220693f407c9104a47e772edeb3",
    "deepnote_cell_type": "markdown"
   },
   "source": [
    "In many datasets, having multiple different data types makes sense. Even in this small example, we have floats, ints, and strings, and they all make sense based on the column that they're in."
   ]
  },
  {
   "cell_type": "code",
   "execution_count": 2,
   "metadata": {
    "cell_id": "967ba91377914ac399995328f03e77a9",
    "deepnote_cell_type": "code",
    "deepnote_to_be_reexecuted": false,
    "execution_millis": 6,
    "execution_start": 1691800135372,
    "source_hash": "30034c32"
   },
   "outputs": [
    {
     "data": {
      "text/plain": [
       "[[1.99, 17, 'Alice', 4.9], [10.45, 10, 'Bob', 2.5], [19.99, 5, 'Eve', 4.1]]"
      ]
     },
     "execution_count": 2,
     "metadata": {},
     "output_type": "execute_result"
    }
   ],
   "source": [
    "mylist"
   ]
  },
  {
   "cell_type": "markdown",
   "metadata": {
    "cell_id": "52fff114a6aa422da4de2becd74f97a6",
    "deepnote_cell_type": "markdown"
   },
   "source": [
    "When we convert `mylist` to `arr`, NumPy assumes that every entry should be a string based on the fact that elements from the sellers column are stored as strings."
   ]
  },
  {
   "cell_type": "markdown",
   "metadata": {
    "cell_id": "c31666c8d7b5409a82b30f0f4564522c",
    "deepnote_cell_type": "markdown"
   },
   "source": [
    "That being said, we can still compute the average pretty easily. Here's how:"
   ]
  },
  {
   "cell_type": "code",
   "execution_count": 3,
   "metadata": {
    "cell_id": "70869a201dab403dafc19bfa3f152fab",
    "deepnote_cell_type": "code",
    "deepnote_to_be_reexecuted": false,
    "execution_millis": 12,
    "execution_start": 1691800146653,
    "source_hash": "a153eaab"
   },
   "outputs": [
    {
     "data": {
      "text/plain": [
       "array([4.9, 2.5, 4.1])"
      ]
     },
     "execution_count": 3,
     "metadata": {},
     "output_type": "execute_result"
    }
   ],
   "source": [
    "#interpret as floats\n",
    "arr[:,-1].astype(float)"
   ]
  },
  {
   "cell_type": "code",
   "execution_count": 4,
   "metadata": {
    "cell_id": "f3b14a42b4964b0d84ac70cd09daaa55",
    "deepnote_cell_type": "code",
    "deepnote_to_be_reexecuted": false,
    "execution_millis": 8,
    "execution_start": 1691800149859,
    "source_hash": "371e8fc3"
   },
   "outputs": [
    {
     "data": {
      "text/plain": [
       "3.8333333333333335"
      ]
     },
     "execution_count": 4,
     "metadata": {},
     "output_type": "execute_result"
    }
   ],
   "source": [
    "arr[:,-1].astype(float).mean()"
   ]
  },
  {
   "cell_type": "markdown",
   "metadata": {
    "cell_id": "50d3d52e15d5467f9ace7e2f958d1860",
    "deepnote_cell_type": "markdown"
   },
   "source": [
    "To deal with specific elements we could cast to a float."
   ]
  },
  {
   "cell_type": "code",
   "execution_count": 5,
   "metadata": {
    "cell_id": "3ce7e18c27724222be0373af775ba0b7",
    "deepnote_cell_type": "code",
    "deepnote_to_be_reexecuted": false,
    "execution_millis": 12,
    "execution_start": 1691800153045,
    "source_hash": "2ad05386"
   },
   "outputs": [
    {
     "data": {
      "text/plain": [
       "4.9"
      ]
     },
     "execution_count": 5,
     "metadata": {},
     "output_type": "execute_result"
    }
   ],
   "source": [
    "float(arr[0,-1])"
   ]
  },
  {
   "cell_type": "markdown",
   "metadata": {
    "cell_id": "ecf5285aa8e647de800110abf3a287d8",
    "deepnote_cell_type": "markdown"
   },
   "source": [
    "In both of these conversion examples, we're converting data on an as-need basis. There's no way of setting the dtyle for just one column of the array."
   ]
  },
  {
   "cell_type": "markdown",
   "metadata": {
    "cell_id": "e1c63914965546d7a2cd53b1388be7f3",
    "deepnote_cell_type": "markdown"
   },
   "source": [
    "### Why pandas? Right Approach"
   ]
  },
  {
   "cell_type": "markdown",
   "metadata": {
    "cell_id": "d26db80748c5491c9505fa40a5cd5beb",
    "deepnote_cell_type": "markdown"
   },
   "source": [
    "In this section, we'll formally introduce pandas. For Math 10, pandas is the most important python library.\n",
    "* pandas is like the python equivalent of Excel."
   ]
  },
  {
   "cell_type": "markdown",
   "metadata": {
    "cell_id": "ac5f47304f1246f0bcbefed2cccc248c",
    "deepnote_cell_type": "markdown"
   },
   "source": [
    "* Convert `mylist` to a pandas DataFrame"
   ]
  },
  {
   "cell_type": "code",
   "execution_count": 6,
   "metadata": {
    "cell_id": "95693696f53a464cb4fe6b68da696639",
    "deepnote_cell_type": "code",
    "deepnote_to_be_reexecuted": false,
    "execution_millis": 15,
    "execution_start": 1691800200136,
    "source_hash": "b2658308"
   },
   "outputs": [],
   "source": [
    "#pd is a standard naming convention\n",
    "#always use it in Math 10\n",
    "import pandas as pd"
   ]
  },
  {
   "cell_type": "code",
   "execution_count": 8,
   "metadata": {
    "cell_id": "420caa663c904ae3b961a3e6dfe6cbfc",
    "deepnote_cell_type": "code",
    "deepnote_to_be_reexecuted": false,
    "execution_millis": 13,
    "execution_start": 1691800204061,
    "source_hash": "30034c32"
   },
   "outputs": [
    {
     "data": {
      "text/plain": [
       "[[1.99, 17, 'Alice', 4.9], [10.45, 10, 'Bob', 2.5], [19.99, 5, 'Eve', 4.1]]"
      ]
     },
     "execution_count": 8,
     "metadata": {},
     "output_type": "execute_result"
    }
   ],
   "source": [
    "mylist"
   ]
  },
  {
   "cell_type": "code",
   "execution_count": 9,
   "metadata": {
    "cell_id": "c5779e50bbea44c9be0ff21267328058",
    "deepnote_cell_type": "code",
    "deepnote_to_be_reexecuted": false,
    "execution_millis": 416,
    "execution_start": 1691800206750,
    "source_hash": "6a04a0c9"
   },
   "outputs": [
    {
     "data": {
      "application/vnd.deepnote.dataframe.v3+json": {
       "column_count": 4,
       "columns": [
        {
         "dtype": "float64",
         "name": 0,
         "stats": {
          "histogram": [
           {
            "bin_end": 3.79,
            "bin_start": 1.99,
            "count": 1
           },
           {
            "bin_end": 5.59,
            "bin_start": 3.79,
            "count": 0
           },
           {
            "bin_end": 7.390000000000001,
            "bin_start": 5.59,
            "count": 0
           },
           {
            "bin_end": 9.19,
            "bin_start": 7.390000000000001,
            "count": 0
           },
           {
            "bin_end": 10.99,
            "bin_start": 9.19,
            "count": 1
           },
           {
            "bin_end": 12.790000000000001,
            "bin_start": 10.99,
            "count": 0
           },
           {
            "bin_end": 14.59,
            "bin_start": 12.790000000000001,
            "count": 0
           },
           {
            "bin_end": 16.39,
            "bin_start": 14.59,
            "count": 0
           },
           {
            "bin_end": 18.189999999999998,
            "bin_start": 16.39,
            "count": 0
           },
           {
            "bin_end": 19.99,
            "bin_start": 18.189999999999998,
            "count": 1
           }
          ],
          "max": "19.99",
          "min": "1.99",
          "nan_count": 0,
          "unique_count": 3
         }
        },
        {
         "dtype": "int64",
         "name": 1,
         "stats": {
          "histogram": [
           {
            "bin_end": 6.2,
            "bin_start": 5,
            "count": 1
           },
           {
            "bin_end": 7.4,
            "bin_start": 6.2,
            "count": 0
           },
           {
            "bin_end": 8.6,
            "bin_start": 7.4,
            "count": 0
           },
           {
            "bin_end": 9.8,
            "bin_start": 8.6,
            "count": 0
           },
           {
            "bin_end": 11,
            "bin_start": 9.8,
            "count": 1
           },
           {
            "bin_end": 12.2,
            "bin_start": 11,
            "count": 0
           },
           {
            "bin_end": 13.4,
            "bin_start": 12.2,
            "count": 0
           },
           {
            "bin_end": 14.6,
            "bin_start": 13.4,
            "count": 0
           },
           {
            "bin_end": 15.799999999999999,
            "bin_start": 14.6,
            "count": 0
           },
           {
            "bin_end": 17,
            "bin_start": 15.799999999999999,
            "count": 1
           }
          ],
          "max": "17",
          "min": "5",
          "nan_count": 0,
          "unique_count": 3
         }
        },
        {
         "dtype": "object",
         "name": 2,
         "stats": {
          "categories": [
           {
            "count": 1,
            "name": "Alice"
           },
           {
            "count": 1,
            "name": "Bob"
           },
           {
            "count": 1,
            "name": "Eve"
           }
          ],
          "nan_count": 0,
          "unique_count": 3
         }
        },
        {
         "dtype": "float64",
         "name": 3,
         "stats": {
          "histogram": [
           {
            "bin_end": 2.74,
            "bin_start": 2.5,
            "count": 1
           },
           {
            "bin_end": 2.98,
            "bin_start": 2.74,
            "count": 0
           },
           {
            "bin_end": 3.22,
            "bin_start": 2.98,
            "count": 0
           },
           {
            "bin_end": 3.46,
            "bin_start": 3.22,
            "count": 0
           },
           {
            "bin_end": 3.7,
            "bin_start": 3.46,
            "count": 0
           },
           {
            "bin_end": 3.9400000000000004,
            "bin_start": 3.7,
            "count": 0
           },
           {
            "bin_end": 4.180000000000001,
            "bin_start": 3.9400000000000004,
            "count": 1
           },
           {
            "bin_end": 4.42,
            "bin_start": 4.180000000000001,
            "count": 0
           },
           {
            "bin_end": 4.66,
            "bin_start": 4.42,
            "count": 0
           },
           {
            "bin_end": 4.9,
            "bin_start": 4.66,
            "count": 1
           }
          ],
          "max": "4.9",
          "min": "2.5",
          "nan_count": 0,
          "unique_count": 3
         }
        },
        {
         "dtype": "int64",
         "name": "_deepnote_index_column"
        }
       ],
       "row_count": 3,
       "rows": [
        {
         "0": 1.99,
         "1": 17,
         "2": "Alice",
         "3": 4.9,
         "_deepnote_index_column": 0
        },
        {
         "0": 10.45,
         "1": 10,
         "2": "Bob",
         "3": 2.5,
         "_deepnote_index_column": 1
        },
        {
         "0": 19.99,
         "1": 5,
         "2": "Eve",
         "3": 4.1,
         "_deepnote_index_column": 2
        }
       ]
      },
      "text/html": [
       "<div>\n",
       "<style scoped>\n",
       "    .dataframe tbody tr th:only-of-type {\n",
       "        vertical-align: middle;\n",
       "    }\n",
       "\n",
       "    .dataframe tbody tr th {\n",
       "        vertical-align: top;\n",
       "    }\n",
       "\n",
       "    .dataframe thead th {\n",
       "        text-align: right;\n",
       "    }\n",
       "</style>\n",
       "<table border=\"1\" class=\"dataframe\">\n",
       "  <thead>\n",
       "    <tr style=\"text-align: right;\">\n",
       "      <th></th>\n",
       "      <th>0</th>\n",
       "      <th>1</th>\n",
       "      <th>2</th>\n",
       "      <th>3</th>\n",
       "    </tr>\n",
       "  </thead>\n",
       "  <tbody>\n",
       "    <tr>\n",
       "      <th>0</th>\n",
       "      <td>1.99</td>\n",
       "      <td>17</td>\n",
       "      <td>Alice</td>\n",
       "      <td>4.9</td>\n",
       "    </tr>\n",
       "    <tr>\n",
       "      <th>1</th>\n",
       "      <td>10.45</td>\n",
       "      <td>10</td>\n",
       "      <td>Bob</td>\n",
       "      <td>2.5</td>\n",
       "    </tr>\n",
       "    <tr>\n",
       "      <th>2</th>\n",
       "      <td>19.99</td>\n",
       "      <td>5</td>\n",
       "      <td>Eve</td>\n",
       "      <td>4.1</td>\n",
       "    </tr>\n",
       "  </tbody>\n",
       "</table>\n",
       "</div>"
      ],
      "text/plain": [
       "       0   1      2    3\n",
       "0   1.99  17  Alice  4.9\n",
       "1  10.45  10    Bob  2.5\n",
       "2  19.99   5    Eve  4.1"
      ]
     },
     "execution_count": 9,
     "metadata": {},
     "output_type": "execute_result"
    }
   ],
   "source": [
    "pd.DataFrame(mylist)"
   ]
  },
  {
   "cell_type": "markdown",
   "metadata": {
    "cell_id": "e4964fff0ba1470cbceca31a514100c2",
    "deepnote_cell_type": "markdown"
   },
   "source": [
    "This is already a huge improvement from NumPy; notice that each column has its own data type.\n",
    "* What does `object` mean? Object is a data type that typically not one of the specialized numerical values that pandas recognizes. You'll it a lot with strings, lists, etc."
   ]
  },
  {
   "cell_type": "code",
   "execution_count": 10,
   "metadata": {
    "cell_id": "605211c778824f89bf0769824963b626",
    "deepnote_cell_type": "code",
    "deepnote_to_be_reexecuted": false,
    "execution_millis": 396,
    "execution_start": 1691800211137,
    "source_hash": "dd83093a"
   },
   "outputs": [
    {
     "ename": "AttributeError",
     "evalue": "module 'pandas' has no attribute 'mylist'",
     "output_type": "error",
     "traceback": [
      "\u001b[0;31m---------------------------------------------------------------------------\u001b[0m",
      "\u001b[0;31mAttributeError\u001b[0m                            Traceback (most recent call last)",
      "Cell \u001b[0;32mIn [10], line 2\u001b[0m\n\u001b[1;32m      1\u001b[0m \u001b[38;5;66;03m#Question: will the following work?\u001b[39;00m\n\u001b[0;32m----> 2\u001b[0m \u001b[43mpd\u001b[49m\u001b[38;5;241;43m.\u001b[39;49m\u001b[43mmylist\u001b[49m\n",
      "File \u001b[0;32m/shared-libs/python3.9/py/lib/python3.9/site-packages/pandas/__init__.py:244\u001b[0m, in \u001b[0;36m__getattr__\u001b[0;34m(name)\u001b[0m\n\u001b[1;32m    240\u001b[0m     \u001b[38;5;28;01mfrom\u001b[39;00m \u001b[38;5;21;01mpandas\u001b[39;00m\u001b[38;5;21;01m.\u001b[39;00m\u001b[38;5;21;01mcore\u001b[39;00m\u001b[38;5;21;01m.\u001b[39;00m\u001b[38;5;21;01marrays\u001b[39;00m\u001b[38;5;21;01m.\u001b[39;00m\u001b[38;5;21;01msparse\u001b[39;00m \u001b[38;5;28;01mimport\u001b[39;00m SparseArray \u001b[38;5;28;01mas\u001b[39;00m _SparseArray\n\u001b[1;32m    242\u001b[0m     \u001b[38;5;28;01mreturn\u001b[39;00m _SparseArray\n\u001b[0;32m--> 244\u001b[0m \u001b[38;5;28;01mraise\u001b[39;00m \u001b[38;5;167;01mAttributeError\u001b[39;00m(\u001b[38;5;124mf\u001b[39m\u001b[38;5;124m\"\u001b[39m\u001b[38;5;124mmodule \u001b[39m\u001b[38;5;124m'\u001b[39m\u001b[38;5;124mpandas\u001b[39m\u001b[38;5;124m'\u001b[39m\u001b[38;5;124m has no attribute \u001b[39m\u001b[38;5;124m'\u001b[39m\u001b[38;5;132;01m{\u001b[39;00mname\u001b[38;5;132;01m}\u001b[39;00m\u001b[38;5;124m'\u001b[39m\u001b[38;5;124m\"\u001b[39m)\n",
      "\u001b[0;31mAttributeError\u001b[0m: module 'pandas' has no attribute 'mylist'"
     ]
    }
   ],
   "source": [
    "#Question: will the following work?\n",
    "pd.mylist"
   ]
  },
  {
   "cell_type": "markdown",
   "metadata": {
    "cell_id": "ce458f008bd94bc4b6722497d327282e",
    "deepnote_cell_type": "markdown"
   },
   "source": [
    "`pd.` is looking for a function defined in pandas. In this example, pandas is looking for a function called `mylist`."
   ]
  },
  {
   "cell_type": "markdown",
   "metadata": {
    "cell_id": "295de6c35ef34d4fab915fb169eb2765",
    "deepnote_cell_type": "markdown"
   },
   "source": [
    "* Read in the `sample-data.csv` directly using the pandas function `read_csv`. Save the resulting DataFrame using the variable name `df`."
   ]
  },
  {
   "cell_type": "markdown",
   "metadata": {
    "cell_id": "f0468e964150469ba88fcb5d7ec63d47",
    "deepnote_cell_type": "markdown"
   },
   "source": [
    "This is the most common way we'll get data in to pandas. \n",
    "* We'll mostly work with csv (comma separated values) files\n",
    "* If you're interested in working with Excel files, the process is almost exactly the same, but there are a few extra steps; in most cases, it's easier to convert your file first to csv and then import."
   ]
  },
  {
   "cell_type": "code",
   "execution_count": 11,
   "metadata": {
    "cell_id": "f96ea6a1fea74730bb8ef724fe2cf283",
    "deepnote_cell_type": "code",
    "deepnote_to_be_reexecuted": false,
    "execution_millis": 447,
    "execution_start": 1691800223970,
    "source_hash": "d1fe86b2"
   },
   "outputs": [
    {
     "data": {
      "application/vnd.deepnote.dataframe.v3+json": {
       "column_count": 4,
       "columns": [
        {
         "dtype": "float64",
         "name": "Cost",
         "stats": {
          "histogram": [
           {
            "bin_end": 3.79,
            "bin_start": 1.99,
            "count": 1
           },
           {
            "bin_end": 5.59,
            "bin_start": 3.79,
            "count": 0
           },
           {
            "bin_end": 7.390000000000001,
            "bin_start": 5.59,
            "count": 0
           },
           {
            "bin_end": 9.19,
            "bin_start": 7.390000000000001,
            "count": 0
           },
           {
            "bin_end": 10.99,
            "bin_start": 9.19,
            "count": 1
           },
           {
            "bin_end": 12.790000000000001,
            "bin_start": 10.99,
            "count": 0
           },
           {
            "bin_end": 14.59,
            "bin_start": 12.790000000000001,
            "count": 0
           },
           {
            "bin_end": 16.39,
            "bin_start": 14.59,
            "count": 0
           },
           {
            "bin_end": 18.189999999999998,
            "bin_start": 16.39,
            "count": 0
           },
           {
            "bin_end": 19.99,
            "bin_start": 18.189999999999998,
            "count": 1
           }
          ],
          "max": "19.99",
          "min": "1.99",
          "nan_count": 0,
          "unique_count": 3
         }
        },
        {
         "dtype": "int64",
         "name": "Quantity",
         "stats": {
          "histogram": [
           {
            "bin_end": 6.2,
            "bin_start": 5,
            "count": 1
           },
           {
            "bin_end": 7.4,
            "bin_start": 6.2,
            "count": 0
           },
           {
            "bin_end": 8.6,
            "bin_start": 7.4,
            "count": 0
           },
           {
            "bin_end": 9.8,
            "bin_start": 8.6,
            "count": 0
           },
           {
            "bin_end": 11,
            "bin_start": 9.8,
            "count": 1
           },
           {
            "bin_end": 12.2,
            "bin_start": 11,
            "count": 0
           },
           {
            "bin_end": 13.4,
            "bin_start": 12.2,
            "count": 0
           },
           {
            "bin_end": 14.6,
            "bin_start": 13.4,
            "count": 0
           },
           {
            "bin_end": 15.799999999999999,
            "bin_start": 14.6,
            "count": 0
           },
           {
            "bin_end": 17,
            "bin_start": 15.799999999999999,
            "count": 1
           }
          ],
          "max": "17",
          "min": "5",
          "nan_count": 0,
          "unique_count": 3
         }
        },
        {
         "dtype": "object",
         "name": "Seller",
         "stats": {
          "categories": [
           {
            "count": 1,
            "name": "Alice"
           },
           {
            "count": 1,
            "name": "Bob"
           },
           {
            "count": 1,
            "name": "Eve"
           }
          ],
          "nan_count": 0,
          "unique_count": 3
         }
        },
        {
         "dtype": "float64",
         "name": "Rating",
         "stats": {
          "histogram": [
           {
            "bin_end": 2.74,
            "bin_start": 2.5,
            "count": 1
           },
           {
            "bin_end": 2.98,
            "bin_start": 2.74,
            "count": 0
           },
           {
            "bin_end": 3.22,
            "bin_start": 2.98,
            "count": 0
           },
           {
            "bin_end": 3.46,
            "bin_start": 3.22,
            "count": 0
           },
           {
            "bin_end": 3.7,
            "bin_start": 3.46,
            "count": 0
           },
           {
            "bin_end": 3.9400000000000004,
            "bin_start": 3.7,
            "count": 0
           },
           {
            "bin_end": 4.180000000000001,
            "bin_start": 3.9400000000000004,
            "count": 1
           },
           {
            "bin_end": 4.42,
            "bin_start": 4.180000000000001,
            "count": 0
           },
           {
            "bin_end": 4.66,
            "bin_start": 4.42,
            "count": 0
           },
           {
            "bin_end": 4.9,
            "bin_start": 4.66,
            "count": 1
           }
          ],
          "max": "4.9",
          "min": "2.5",
          "nan_count": 0,
          "unique_count": 3
         }
        },
        {
         "dtype": "int64",
         "name": "_deepnote_index_column"
        }
       ],
       "row_count": 3,
       "rows": [
        {
         "Cost": 1.99,
         "Quantity": 17,
         "Rating": 4.9,
         "Seller": "Alice",
         "_deepnote_index_column": 0
        },
        {
         "Cost": 10.45,
         "Quantity": 10,
         "Rating": 2.5,
         "Seller": "Bob",
         "_deepnote_index_column": 1
        },
        {
         "Cost": 19.99,
         "Quantity": 5,
         "Rating": 4.1,
         "Seller": "Eve",
         "_deepnote_index_column": 2
        }
       ]
      },
      "text/html": [
       "<div>\n",
       "<style scoped>\n",
       "    .dataframe tbody tr th:only-of-type {\n",
       "        vertical-align: middle;\n",
       "    }\n",
       "\n",
       "    .dataframe tbody tr th {\n",
       "        vertical-align: top;\n",
       "    }\n",
       "\n",
       "    .dataframe thead th {\n",
       "        text-align: right;\n",
       "    }\n",
       "</style>\n",
       "<table border=\"1\" class=\"dataframe\">\n",
       "  <thead>\n",
       "    <tr style=\"text-align: right;\">\n",
       "      <th></th>\n",
       "      <th>Cost</th>\n",
       "      <th>Quantity</th>\n",
       "      <th>Seller</th>\n",
       "      <th>Rating</th>\n",
       "    </tr>\n",
       "  </thead>\n",
       "  <tbody>\n",
       "    <tr>\n",
       "      <th>0</th>\n",
       "      <td>1.99</td>\n",
       "      <td>17</td>\n",
       "      <td>Alice</td>\n",
       "      <td>4.9</td>\n",
       "    </tr>\n",
       "    <tr>\n",
       "      <th>1</th>\n",
       "      <td>10.45</td>\n",
       "      <td>10</td>\n",
       "      <td>Bob</td>\n",
       "      <td>2.5</td>\n",
       "    </tr>\n",
       "    <tr>\n",
       "      <th>2</th>\n",
       "      <td>19.99</td>\n",
       "      <td>5</td>\n",
       "      <td>Eve</td>\n",
       "      <td>4.1</td>\n",
       "    </tr>\n",
       "  </tbody>\n",
       "</table>\n",
       "</div>"
      ],
      "text/plain": [
       "    Cost  Quantity Seller  Rating\n",
       "0   1.99        17  Alice     4.9\n",
       "1  10.45        10    Bob     2.5\n",
       "2  19.99         5    Eve     4.1"
      ]
     },
     "execution_count": 11,
     "metadata": {},
     "output_type": "execute_result"
    }
   ],
   "source": [
    "df = pd.read_csv(\"sample-data.csv\")\n",
    "df"
   ]
  },
  {
   "cell_type": "markdown",
   "metadata": {
    "cell_id": "a5ac5e75b34c47e0bfd4380a8c54f4cb",
    "deepnote_cell_type": "markdown"
   },
   "source": [
    "Among all the methods we've seen so far, this is the first one that gives us the names of the columns!"
   ]
  },
  {
   "cell_type": "markdown",
   "metadata": {
    "cell_id": "a079696868c84bfb9c4fe2fc1552d0fa",
    "deepnote_cell_type": "markdown"
   },
   "source": [
    "* Evaluate the `dtypes` attribute of `df`"
   ]
  },
  {
   "cell_type": "code",
   "execution_count": null,
   "metadata": {
    "cell_id": "9c46869f122d42a394dde16e827a37cb",
    "deepnote_cell_type": "code",
    "deepnote_to_be_reexecuted": false,
    "execution_millis": 13,
    "execution_start": 1691782353327,
    "source_hash": null
   },
   "outputs": [
    {
     "data": {
      "text/plain": [
       "pandas.core.frame.DataFrame"
      ]
     },
     "execution_count": 11,
     "metadata": {},
     "output_type": "execute_result"
    }
   ],
   "source": [
    "# DataFrame object\n",
    "type(df)"
   ]
  },
  {
   "cell_type": "code",
   "execution_count": null,
   "metadata": {
    "cell_id": "2bb14a77c54a45da865ca03e9570e834",
    "deepnote_cell_type": "code",
    "deepnote_to_be_reexecuted": false,
    "execution_millis": 17,
    "execution_start": 1691782326164,
    "source_hash": null
   },
   "outputs": [
    {
     "data": {
      "text/plain": [
       "Cost        float64\n",
       "Quantity      int64\n",
       "Seller       object\n",
       "Rating      float64\n",
       "dtype: object"
      ]
     },
     "execution_count": 10,
     "metadata": {},
     "output_type": "execute_result"
    }
   ],
   "source": [
    "df.dtypes"
   ]
  },
  {
   "cell_type": "markdown",
   "metadata": {
    "cell_id": "9f03b4bc68d6474daadbcaff71ac9cbf",
    "deepnote_cell_type": "markdown"
   },
   "source": [
    "* Define `col` to be equal to the \"Rating\" column"
   ]
  },
  {
   "cell_type": "code",
   "execution_count": null,
   "metadata": {
    "cell_id": "514ced5a07a34f648245c416f3a632b6",
    "deepnote_cell_type": "code",
    "deepnote_to_be_reexecuted": false,
    "execution_millis": 426,
    "execution_start": 1691782438792,
    "source_hash": null
   },
   "outputs": [
    {
     "data": {
      "application/vnd.deepnote.dataframe.v3+json": {
       "column_count": 4,
       "columns": [
        {
         "dtype": "float64",
         "name": "Cost",
         "stats": {
          "histogram": [
           {
            "bin_end": 3.79,
            "bin_start": 1.99,
            "count": 1
           },
           {
            "bin_end": 5.59,
            "bin_start": 3.79,
            "count": 0
           },
           {
            "bin_end": 7.390000000000001,
            "bin_start": 5.59,
            "count": 0
           },
           {
            "bin_end": 9.19,
            "bin_start": 7.390000000000001,
            "count": 0
           },
           {
            "bin_end": 10.99,
            "bin_start": 9.19,
            "count": 1
           },
           {
            "bin_end": 12.790000000000001,
            "bin_start": 10.99,
            "count": 0
           },
           {
            "bin_end": 14.59,
            "bin_start": 12.790000000000001,
            "count": 0
           },
           {
            "bin_end": 16.39,
            "bin_start": 14.59,
            "count": 0
           },
           {
            "bin_end": 18.189999999999998,
            "bin_start": 16.39,
            "count": 0
           },
           {
            "bin_end": 19.99,
            "bin_start": 18.189999999999998,
            "count": 1
           }
          ],
          "max": "19.99",
          "min": "1.99",
          "nan_count": 0,
          "unique_count": 3
         }
        },
        {
         "dtype": "int64",
         "name": "Quantity",
         "stats": {
          "histogram": [
           {
            "bin_end": 6.2,
            "bin_start": 5,
            "count": 1
           },
           {
            "bin_end": 7.4,
            "bin_start": 6.2,
            "count": 0
           },
           {
            "bin_end": 8.6,
            "bin_start": 7.4,
            "count": 0
           },
           {
            "bin_end": 9.8,
            "bin_start": 8.6,
            "count": 0
           },
           {
            "bin_end": 11,
            "bin_start": 9.8,
            "count": 1
           },
           {
            "bin_end": 12.2,
            "bin_start": 11,
            "count": 0
           },
           {
            "bin_end": 13.4,
            "bin_start": 12.2,
            "count": 0
           },
           {
            "bin_end": 14.6,
            "bin_start": 13.4,
            "count": 0
           },
           {
            "bin_end": 15.799999999999999,
            "bin_start": 14.6,
            "count": 0
           },
           {
            "bin_end": 17,
            "bin_start": 15.799999999999999,
            "count": 1
           }
          ],
          "max": "17",
          "min": "5",
          "nan_count": 0,
          "unique_count": 3
         }
        },
        {
         "dtype": "object",
         "name": "Seller",
         "stats": {
          "categories": [
           {
            "count": 1,
            "name": "Alice"
           },
           {
            "count": 1,
            "name": "Bob"
           },
           {
            "count": 1,
            "name": "Eve"
           }
          ],
          "nan_count": 0,
          "unique_count": 3
         }
        },
        {
         "dtype": "float64",
         "name": "Rating",
         "stats": {
          "histogram": [
           {
            "bin_end": 2.74,
            "bin_start": 2.5,
            "count": 1
           },
           {
            "bin_end": 2.98,
            "bin_start": 2.74,
            "count": 0
           },
           {
            "bin_end": 3.22,
            "bin_start": 2.98,
            "count": 0
           },
           {
            "bin_end": 3.46,
            "bin_start": 3.22,
            "count": 0
           },
           {
            "bin_end": 3.7,
            "bin_start": 3.46,
            "count": 0
           },
           {
            "bin_end": 3.9400000000000004,
            "bin_start": 3.7,
            "count": 0
           },
           {
            "bin_end": 4.180000000000001,
            "bin_start": 3.9400000000000004,
            "count": 1
           },
           {
            "bin_end": 4.42,
            "bin_start": 4.180000000000001,
            "count": 0
           },
           {
            "bin_end": 4.66,
            "bin_start": 4.42,
            "count": 0
           },
           {
            "bin_end": 4.9,
            "bin_start": 4.66,
            "count": 1
           }
          ],
          "max": "4.9",
          "min": "2.5",
          "nan_count": 0,
          "unique_count": 3
         }
        },
        {
         "dtype": "int64",
         "name": "_deepnote_index_column"
        }
       ],
       "row_count": 3,
       "rows": [
        {
         "Cost": 1.99,
         "Quantity": 17,
         "Rating": 4.9,
         "Seller": "Alice",
         "_deepnote_index_column": 0
        },
        {
         "Cost": 10.45,
         "Quantity": 10,
         "Rating": 2.5,
         "Seller": "Bob",
         "_deepnote_index_column": 1
        },
        {
         "Cost": 19.99,
         "Quantity": 5,
         "Rating": 4.1,
         "Seller": "Eve",
         "_deepnote_index_column": 2
        }
       ]
      },
      "text/html": [
       "<div>\n",
       "<style scoped>\n",
       "    .dataframe tbody tr th:only-of-type {\n",
       "        vertical-align: middle;\n",
       "    }\n",
       "\n",
       "    .dataframe tbody tr th {\n",
       "        vertical-align: top;\n",
       "    }\n",
       "\n",
       "    .dataframe thead th {\n",
       "        text-align: right;\n",
       "    }\n",
       "</style>\n",
       "<table border=\"1\" class=\"dataframe\">\n",
       "  <thead>\n",
       "    <tr style=\"text-align: right;\">\n",
       "      <th></th>\n",
       "      <th>Cost</th>\n",
       "      <th>Quantity</th>\n",
       "      <th>Seller</th>\n",
       "      <th>Rating</th>\n",
       "    </tr>\n",
       "  </thead>\n",
       "  <tbody>\n",
       "    <tr>\n",
       "      <th>0</th>\n",
       "      <td>1.99</td>\n",
       "      <td>17</td>\n",
       "      <td>Alice</td>\n",
       "      <td>4.9</td>\n",
       "    </tr>\n",
       "    <tr>\n",
       "      <th>1</th>\n",
       "      <td>10.45</td>\n",
       "      <td>10</td>\n",
       "      <td>Bob</td>\n",
       "      <td>2.5</td>\n",
       "    </tr>\n",
       "    <tr>\n",
       "      <th>2</th>\n",
       "      <td>19.99</td>\n",
       "      <td>5</td>\n",
       "      <td>Eve</td>\n",
       "      <td>4.1</td>\n",
       "    </tr>\n",
       "  </tbody>\n",
       "</table>\n",
       "</div>"
      ],
      "text/plain": [
       "    Cost  Quantity Seller  Rating\n",
       "0   1.99        17  Alice     4.9\n",
       "1  10.45        10    Bob     2.5\n",
       "2  19.99         5    Eve     4.1"
      ]
     },
     "execution_count": 13,
     "metadata": {},
     "output_type": "execute_result"
    }
   ],
   "source": [
    "df"
   ]
  },
  {
   "cell_type": "code",
   "execution_count": null,
   "metadata": {
    "cell_id": "daafff85235b4ef1af66984f1db84cf4",
    "deepnote_cell_type": "code",
    "deepnote_to_be_reexecuted": false,
    "execution_millis": 11,
    "execution_start": 1691782457860,
    "source_hash": null
   },
   "outputs": [
    {
     "data": {
      "text/plain": [
       "0    4.9\n",
       "1    2.5\n",
       "2    4.1\n",
       "Name: Rating, dtype: float64"
      ]
     },
     "execution_count": 14,
     "metadata": {},
     "output_type": "execute_result"
    }
   ],
   "source": [
    "#first example of indexing, here's how we can get a column\n",
    "col = df[\"Rating\"]\n",
    "col"
   ]
  },
  {
   "cell_type": "markdown",
   "metadata": {
    "cell_id": "3e4f6f5944944eb7832c349b95a0a50f",
    "deepnote_cell_type": "markdown"
   },
   "source": [
    "Notice, `col` is a different data type from `df`"
   ]
  },
  {
   "cell_type": "code",
   "execution_count": null,
   "metadata": {
    "cell_id": "22087c11ef344ebc8cdb6c3f81ce383a",
    "deepnote_cell_type": "code",
    "deepnote_to_be_reexecuted": false,
    "execution_millis": 28,
    "execution_start": 1691782552548,
    "source_hash": null
   },
   "outputs": [
    {
     "data": {
      "text/plain": [
       "pandas.core.series.Series"
      ]
     },
     "execution_count": 17,
     "metadata": {},
     "output_type": "execute_result"
    }
   ],
   "source": [
    "type(col)"
   ]
  },
  {
   "cell_type": "markdown",
   "metadata": {
    "cell_id": "06affd0ca6284b6d95dce63736ee39fa",
    "deepnote_cell_type": "markdown"
   },
   "source": [
    "`col` is what's called a pandas Series. You can think of Series as columns of DataFrames."
   ]
  },
  {
   "cell_type": "markdown",
   "metadata": {
    "cell_id": "90721591c9a046579c8a95bd3e48b95f",
    "deepnote_cell_type": "markdown"
   },
   "source": [
    "To recap: the two most important data types in pandas are `DataFrames` and `Series`."
   ]
  },
  {
   "cell_type": "code",
   "execution_count": null,
   "metadata": {
    "cell_id": "ac87f3dd69c84a9f86efe52276712db6",
    "deepnote_cell_type": "code",
    "deepnote_to_be_reexecuted": false,
    "execution_millis": 332,
    "execution_start": 1691782525242,
    "source_hash": null
   },
   "outputs": [
    {
     "ename": "TypeError",
     "evalue": "'(slice(None, None, None), 3)' is an invalid key",
     "output_type": "error",
     "traceback": [
      "\u001b[0;31m---------------------------------------------------------------------------\u001b[0m",
      "\u001b[0;31mTypeError\u001b[0m                                 Traceback (most recent call last)",
      "Cell \u001b[0;32mIn [16], line 3\u001b[0m\n\u001b[1;32m      1\u001b[0m \u001b[38;5;66;03m#Great question asked: will the following give the same thing?\u001b[39;00m\n\u001b[1;32m      2\u001b[0m \u001b[38;5;66;03m#Not quite, but we'll see how to make it work in the next section\u001b[39;00m\n\u001b[0;32m----> 3\u001b[0m \u001b[43mdf\u001b[49m\u001b[43m[\u001b[49m\u001b[43m:\u001b[49m\u001b[43m,\u001b[49m\u001b[38;5;241;43m3\u001b[39;49m\u001b[43m]\u001b[49m\n",
      "File \u001b[0;32m/shared-libs/python3.9/py/lib/python3.9/site-packages/pandas/core/frame.py:3024\u001b[0m, in \u001b[0;36mDataFrame.__getitem__\u001b[0;34m(self, key)\u001b[0m\n\u001b[1;32m   3022\u001b[0m \u001b[38;5;28;01mif\u001b[39;00m \u001b[38;5;28mself\u001b[39m\u001b[38;5;241m.\u001b[39mcolumns\u001b[38;5;241m.\u001b[39mnlevels \u001b[38;5;241m>\u001b[39m \u001b[38;5;241m1\u001b[39m:\n\u001b[1;32m   3023\u001b[0m     \u001b[38;5;28;01mreturn\u001b[39;00m \u001b[38;5;28mself\u001b[39m\u001b[38;5;241m.\u001b[39m_getitem_multilevel(key)\n\u001b[0;32m-> 3024\u001b[0m indexer \u001b[38;5;241m=\u001b[39m \u001b[38;5;28;43mself\u001b[39;49m\u001b[38;5;241;43m.\u001b[39;49m\u001b[43mcolumns\u001b[49m\u001b[38;5;241;43m.\u001b[39;49m\u001b[43mget_loc\u001b[49m\u001b[43m(\u001b[49m\u001b[43mkey\u001b[49m\u001b[43m)\u001b[49m\n\u001b[1;32m   3025\u001b[0m \u001b[38;5;28;01mif\u001b[39;00m is_integer(indexer):\n\u001b[1;32m   3026\u001b[0m     indexer \u001b[38;5;241m=\u001b[39m [indexer]\n",
      "File \u001b[0;32m/shared-libs/python3.9/py/lib/python3.9/site-packages/pandas/core/indexes/base.py:3081\u001b[0m, in \u001b[0;36mIndex.get_loc\u001b[0;34m(self, key, method, tolerance)\u001b[0m\n\u001b[1;32m   3079\u001b[0m casted_key \u001b[38;5;241m=\u001b[39m \u001b[38;5;28mself\u001b[39m\u001b[38;5;241m.\u001b[39m_maybe_cast_indexer(key)\n\u001b[1;32m   3080\u001b[0m \u001b[38;5;28;01mtry\u001b[39;00m:\n\u001b[0;32m-> 3081\u001b[0m     \u001b[38;5;28;01mreturn\u001b[39;00m \u001b[38;5;28;43mself\u001b[39;49m\u001b[38;5;241;43m.\u001b[39;49m\u001b[43m_engine\u001b[49m\u001b[38;5;241;43m.\u001b[39;49m\u001b[43mget_loc\u001b[49m\u001b[43m(\u001b[49m\u001b[43mcasted_key\u001b[49m\u001b[43m)\u001b[49m\n\u001b[1;32m   3082\u001b[0m \u001b[38;5;28;01mexcept\u001b[39;00m \u001b[38;5;167;01mKeyError\u001b[39;00m \u001b[38;5;28;01mas\u001b[39;00m err:\n\u001b[1;32m   3083\u001b[0m     \u001b[38;5;28;01mraise\u001b[39;00m \u001b[38;5;167;01mKeyError\u001b[39;00m(key) \u001b[38;5;28;01mfrom\u001b[39;00m \u001b[38;5;21;01merr\u001b[39;00m\n",
      "File \u001b[0;32mpandas/_libs/index.pyx:70\u001b[0m, in \u001b[0;36mpandas._libs.index.IndexEngine.get_loc\u001b[0;34m()\u001b[0m\n",
      "File \u001b[0;32mpandas/_libs/index.pyx:75\u001b[0m, in \u001b[0;36mpandas._libs.index.IndexEngine.get_loc\u001b[0;34m()\u001b[0m\n",
      "\u001b[0;31mTypeError\u001b[0m: '(slice(None, None, None), 3)' is an invalid key"
     ]
    }
   ],
   "source": [
    "#Great question asked: will the following give the same thing?\n",
    "#Not quite, but we'll see how to make it work in the next section\n",
    "df[:,3]"
   ]
  },
  {
   "cell_type": "markdown",
   "metadata": {
    "cell_id": "0ab414054ae14553af8cbd0cbea87749",
    "deepnote_cell_type": "markdown"
   },
   "source": [
    "* How many rows and columns are in `df`?"
   ]
  },
  {
   "cell_type": "markdown",
   "metadata": {
    "cell_id": "48c95e81238542fba5245ed7ba8e53e0",
    "deepnote_cell_type": "markdown"
   },
   "source": [
    "We can gather this information using the `shape` attribute"
   ]
  },
  {
   "cell_type": "code",
   "execution_count": null,
   "metadata": {
    "cell_id": "ec6d57107b4d4981961b7e57e8e86a5d",
    "deepnote_cell_type": "code",
    "deepnote_to_be_reexecuted": false,
    "execution_millis": 25,
    "execution_start": 1691782720497,
    "source_hash": null
   },
   "outputs": [
    {
     "data": {
      "text/plain": [
       "(3, 4)"
      ]
     },
     "execution_count": 18,
     "metadata": {},
     "output_type": "execute_result"
    }
   ],
   "source": [
    "df.shape"
   ]
  },
  {
   "cell_type": "markdown",
   "metadata": {
    "cell_id": "f4bc0ce10c9f4316990e32c1f4784e52",
    "deepnote_cell_type": "markdown"
   },
   "source": [
    "This is telling us we have 3 rows and 4 columns."
   ]
  },
  {
   "cell_type": "markdown",
   "metadata": {
    "cell_id": "6b286cb97e624c5cb1897e91e5edb43d",
    "deepnote_cell_type": "markdown"
   },
   "source": [
    "* Compute the average of the ratings columns"
   ]
  },
  {
   "cell_type": "code",
   "execution_count": null,
   "metadata": {
    "cell_id": "6ce3dcf8bb444332b80b3eb9fedc5710",
    "deepnote_cell_type": "code",
    "deepnote_to_be_reexecuted": false,
    "execution_millis": 10,
    "execution_start": 1691782803902,
    "source_hash": null
   },
   "outputs": [
    {
     "data": {
      "text/plain": [
       "3.8333333333333335"
      ]
     },
     "execution_count": 19,
     "metadata": {},
     "output_type": "execute_result"
    }
   ],
   "source": [
    "col.mean()"
   ]
  },
  {
   "cell_type": "markdown",
   "metadata": {
    "cell_id": "59566d56b1ef4886b6b38e06384760fa",
    "deepnote_cell_type": "markdown"
   },
   "source": [
    "Appreciate how elegant this computation was compared to when we used NumPy and just lists. One thing to notice: pandas does not actually solve any of the precision issues we brought up last time."
   ]
  },
  {
   "cell_type": "markdown",
   "metadata": {
    "cell_id": "098247fad39b40869131ffd0787d0ae5",
    "deepnote_cell_type": "markdown"
   },
   "source": [
    "### Two ways to index in pandas"
   ]
  },
  {
   "cell_type": "markdown",
   "metadata": {
    "cell_id": "5749d9350fb343dea949155a571891cf",
    "deepnote_cell_type": "markdown"
   },
   "source": [
    "Here are two ways to index in pandas:\n",
    "* label-based (the names that things are given): `loc` (location)\n",
    "* Integer-position-based (the index, start couting from 0): `iloc` (integer location)"
   ]
  },
  {
   "cell_type": "code",
   "execution_count": null,
   "metadata": {
    "cell_id": "1aeda6eaf49a42d7b4b3b8dcc6e0e240",
    "deepnote_cell_type": "code",
    "deepnote_to_be_reexecuted": false,
    "execution_millis": 483,
    "execution_start": 1691783049079,
    "source_hash": null
   },
   "outputs": [
    {
     "data": {
      "application/vnd.deepnote.dataframe.v3+json": {
       "column_count": 4,
       "columns": [
        {
         "dtype": "float64",
         "name": "Cost",
         "stats": {
          "histogram": [
           {
            "bin_end": 3.79,
            "bin_start": 1.99,
            "count": 1
           },
           {
            "bin_end": 5.59,
            "bin_start": 3.79,
            "count": 0
           },
           {
            "bin_end": 7.390000000000001,
            "bin_start": 5.59,
            "count": 0
           },
           {
            "bin_end": 9.19,
            "bin_start": 7.390000000000001,
            "count": 0
           },
           {
            "bin_end": 10.99,
            "bin_start": 9.19,
            "count": 1
           },
           {
            "bin_end": 12.790000000000001,
            "bin_start": 10.99,
            "count": 0
           },
           {
            "bin_end": 14.59,
            "bin_start": 12.790000000000001,
            "count": 0
           },
           {
            "bin_end": 16.39,
            "bin_start": 14.59,
            "count": 0
           },
           {
            "bin_end": 18.189999999999998,
            "bin_start": 16.39,
            "count": 0
           },
           {
            "bin_end": 19.99,
            "bin_start": 18.189999999999998,
            "count": 1
           }
          ],
          "max": "19.99",
          "min": "1.99",
          "nan_count": 0,
          "unique_count": 3
         }
        },
        {
         "dtype": "int64",
         "name": "Quantity",
         "stats": {
          "histogram": [
           {
            "bin_end": 6.2,
            "bin_start": 5,
            "count": 1
           },
           {
            "bin_end": 7.4,
            "bin_start": 6.2,
            "count": 0
           },
           {
            "bin_end": 8.6,
            "bin_start": 7.4,
            "count": 0
           },
           {
            "bin_end": 9.8,
            "bin_start": 8.6,
            "count": 0
           },
           {
            "bin_end": 11,
            "bin_start": 9.8,
            "count": 1
           },
           {
            "bin_end": 12.2,
            "bin_start": 11,
            "count": 0
           },
           {
            "bin_end": 13.4,
            "bin_start": 12.2,
            "count": 0
           },
           {
            "bin_end": 14.6,
            "bin_start": 13.4,
            "count": 0
           },
           {
            "bin_end": 15.799999999999999,
            "bin_start": 14.6,
            "count": 0
           },
           {
            "bin_end": 17,
            "bin_start": 15.799999999999999,
            "count": 1
           }
          ],
          "max": "17",
          "min": "5",
          "nan_count": 0,
          "unique_count": 3
         }
        },
        {
         "dtype": "object",
         "name": "Seller",
         "stats": {
          "categories": [
           {
            "count": 1,
            "name": "Alice"
           },
           {
            "count": 1,
            "name": "Bob"
           },
           {
            "count": 1,
            "name": "Eve"
           }
          ],
          "nan_count": 0,
          "unique_count": 3
         }
        },
        {
         "dtype": "float64",
         "name": "Rating",
         "stats": {
          "histogram": [
           {
            "bin_end": 2.74,
            "bin_start": 2.5,
            "count": 1
           },
           {
            "bin_end": 2.98,
            "bin_start": 2.74,
            "count": 0
           },
           {
            "bin_end": 3.22,
            "bin_start": 2.98,
            "count": 0
           },
           {
            "bin_end": 3.46,
            "bin_start": 3.22,
            "count": 0
           },
           {
            "bin_end": 3.7,
            "bin_start": 3.46,
            "count": 0
           },
           {
            "bin_end": 3.9400000000000004,
            "bin_start": 3.7,
            "count": 0
           },
           {
            "bin_end": 4.180000000000001,
            "bin_start": 3.9400000000000004,
            "count": 1
           },
           {
            "bin_end": 4.42,
            "bin_start": 4.180000000000001,
            "count": 0
           },
           {
            "bin_end": 4.66,
            "bin_start": 4.42,
            "count": 0
           },
           {
            "bin_end": 4.9,
            "bin_start": 4.66,
            "count": 1
           }
          ],
          "max": "4.9",
          "min": "2.5",
          "nan_count": 0,
          "unique_count": 3
         }
        },
        {
         "dtype": "int64",
         "name": "_deepnote_index_column"
        }
       ],
       "row_count": 3,
       "rows": [
        {
         "Cost": 1.99,
         "Quantity": 17,
         "Rating": 4.9,
         "Seller": "Alice",
         "_deepnote_index_column": 0
        },
        {
         "Cost": 10.45,
         "Quantity": 10,
         "Rating": 2.5,
         "Seller": "Bob",
         "_deepnote_index_column": 1
        },
        {
         "Cost": 19.99,
         "Quantity": 5,
         "Rating": 4.1,
         "Seller": "Eve",
         "_deepnote_index_column": 2
        }
       ]
      },
      "text/html": [
       "<div>\n",
       "<style scoped>\n",
       "    .dataframe tbody tr th:only-of-type {\n",
       "        vertical-align: middle;\n",
       "    }\n",
       "\n",
       "    .dataframe tbody tr th {\n",
       "        vertical-align: top;\n",
       "    }\n",
       "\n",
       "    .dataframe thead th {\n",
       "        text-align: right;\n",
       "    }\n",
       "</style>\n",
       "<table border=\"1\" class=\"dataframe\">\n",
       "  <thead>\n",
       "    <tr style=\"text-align: right;\">\n",
       "      <th></th>\n",
       "      <th>Cost</th>\n",
       "      <th>Quantity</th>\n",
       "      <th>Seller</th>\n",
       "      <th>Rating</th>\n",
       "    </tr>\n",
       "  </thead>\n",
       "  <tbody>\n",
       "    <tr>\n",
       "      <th>0</th>\n",
       "      <td>1.99</td>\n",
       "      <td>17</td>\n",
       "      <td>Alice</td>\n",
       "      <td>4.9</td>\n",
       "    </tr>\n",
       "    <tr>\n",
       "      <th>1</th>\n",
       "      <td>10.45</td>\n",
       "      <td>10</td>\n",
       "      <td>Bob</td>\n",
       "      <td>2.5</td>\n",
       "    </tr>\n",
       "    <tr>\n",
       "      <th>2</th>\n",
       "      <td>19.99</td>\n",
       "      <td>5</td>\n",
       "      <td>Eve</td>\n",
       "      <td>4.1</td>\n",
       "    </tr>\n",
       "  </tbody>\n",
       "</table>\n",
       "</div>"
      ],
      "text/plain": [
       "    Cost  Quantity Seller  Rating\n",
       "0   1.99        17  Alice     4.9\n",
       "1  10.45        10    Bob     2.5\n",
       "2  19.99         5    Eve     4.1"
      ]
     },
     "execution_count": 20,
     "metadata": {},
     "output_type": "execute_result"
    }
   ],
   "source": [
    "df"
   ]
  },
  {
   "cell_type": "markdown",
   "metadata": {
    "cell_id": "5f85fef0c0f54388b273587e0aee5184",
    "deepnote_cell_type": "markdown"
   },
   "source": [
    "Let's say I wanted to get Bob's name..."
   ]
  },
  {
   "cell_type": "code",
   "execution_count": null,
   "metadata": {
    "cell_id": "74a9dad9562d4139ab053e6d24aa403c",
    "deepnote_cell_type": "code",
    "deepnote_to_be_reexecuted": false,
    "execution_millis": 8,
    "execution_start": 1691783146440,
    "source_hash": null
   },
   "outputs": [
    {
     "data": {
      "text/plain": [
       "'Bob'"
      ]
     },
     "execution_count": 21,
     "metadata": {},
     "output_type": "execute_result"
    }
   ],
   "source": [
    "#label-based indexing\n",
    "df.loc[1,\"Seller\"]"
   ]
  },
  {
   "cell_type": "code",
   "execution_count": null,
   "metadata": {
    "cell_id": "aea6ae0289ae47439f11bb407c011476",
    "deepnote_cell_type": "code",
    "deepnote_to_be_reexecuted": false,
    "execution_millis": 12,
    "execution_start": 1691783277065,
    "source_hash": null
   },
   "outputs": [
    {
     "data": {
      "text/plain": [
       "Cost        10.45\n",
       "Quantity       10\n",
       "Seller        Bob\n",
       "Rating        2.5\n",
       "Name: 1, dtype: object"
      ]
     },
     "execution_count": 23,
     "metadata": {},
     "output_type": "execute_result"
    }
   ],
   "source": [
    "#Question from the chat!\n",
    "#This is returning all of row 1\n",
    "df.loc[1]"
   ]
  },
  {
   "cell_type": "code",
   "execution_count": null,
   "metadata": {
    "cell_id": "2ff3f5a21e5d4cacad8a34ed2cc98493",
    "deepnote_cell_type": "code",
    "deepnote_to_be_reexecuted": false,
    "execution_millis": 19,
    "execution_start": 1691783290613,
    "source_hash": null
   },
   "outputs": [
    {
     "data": {
      "text/plain": [
       "pandas.core.series.Series"
      ]
     },
     "execution_count": 24,
     "metadata": {},
     "output_type": "execute_result"
    }
   ],
   "source": [
    "type(df.loc[1])"
   ]
  },
  {
   "cell_type": "code",
   "execution_count": null,
   "metadata": {
    "cell_id": "f80adca46b1e449b93a1a514943e9bda",
    "deepnote_cell_type": "code",
    "deepnote_to_be_reexecuted": false,
    "execution_millis": 16,
    "execution_start": 1691783307499,
    "source_hash": null
   },
   "outputs": [
    {
     "data": {
      "text/plain": [
       "'Bob'"
      ]
     },
     "execution_count": 25,
     "metadata": {},
     "output_type": "execute_result"
    }
   ],
   "source": [
    "df.loc[1][\"Seller\"]"
   ]
  },
  {
   "cell_type": "code",
   "execution_count": null,
   "metadata": {
    "cell_id": "176163df5a304e0596f03e722a310747",
    "deepnote_cell_type": "code",
    "deepnote_to_be_reexecuted": false,
    "execution_millis": 14,
    "execution_start": 1691783396582,
    "source_hash": null
   },
   "outputs": [
    {
     "data": {
      "text/plain": [
       "Cost        10.45\n",
       "Quantity       10\n",
       "Seller        Bob\n",
       "Rating        2.5\n",
       "Name: 1, dtype: object"
      ]
     },
     "execution_count": 27,
     "metadata": {},
     "output_type": "execute_result"
    }
   ],
   "source": [
    "#Notice, we get the same as df.loc[1]\n",
    "df.loc[1,:]"
   ]
  },
  {
   "cell_type": "markdown",
   "metadata": {
    "cell_id": "7f7f2747929c49f89c4946d2f0b068a3",
    "deepnote_cell_type": "markdown"
   },
   "source": [
    "What makes the above example slightly confusing is that the row names and integer positions happen to coincide. E.g. integer position 2 is the same as label 2, in this case."
   ]
  },
  {
   "cell_type": "code",
   "execution_count": null,
   "metadata": {
    "cell_id": "ff5b80a5a8a64106ab891f462dad8dd2",
    "deepnote_cell_type": "code",
    "deepnote_to_be_reexecuted": false,
    "execution_millis": 9,
    "execution_start": 1691783474965,
    "source_hash": null
   },
   "outputs": [
    {
     "data": {
      "text/plain": [
       "'Bob'"
      ]
     },
     "execution_count": 30,
     "metadata": {},
     "output_type": "execute_result"
    }
   ],
   "source": [
    "#integer-based indexing\n",
    "df.iloc[1,2]"
   ]
  },
  {
   "cell_type": "code",
   "execution_count": null,
   "metadata": {
    "cell_id": "5aeb3fd844d8475bafc4cc9d15f201cd",
    "deepnote_cell_type": "code",
    "deepnote_to_be_reexecuted": false,
    "execution_millis": 199,
    "execution_start": 1691783440907,
    "source_hash": null
   },
   "outputs": [
    {
     "data": {
      "application/vnd.deepnote.dataframe.v3+json": {
       "column_count": 4,
       "columns": [
        {
         "dtype": "float64",
         "name": "Cost",
         "stats": {
          "histogram": [
           {
            "bin_end": 3.79,
            "bin_start": 1.99,
            "count": 1
           },
           {
            "bin_end": 5.59,
            "bin_start": 3.79,
            "count": 0
           },
           {
            "bin_end": 7.390000000000001,
            "bin_start": 5.59,
            "count": 0
           },
           {
            "bin_end": 9.19,
            "bin_start": 7.390000000000001,
            "count": 0
           },
           {
            "bin_end": 10.99,
            "bin_start": 9.19,
            "count": 1
           },
           {
            "bin_end": 12.790000000000001,
            "bin_start": 10.99,
            "count": 0
           },
           {
            "bin_end": 14.59,
            "bin_start": 12.790000000000001,
            "count": 0
           },
           {
            "bin_end": 16.39,
            "bin_start": 14.59,
            "count": 0
           },
           {
            "bin_end": 18.189999999999998,
            "bin_start": 16.39,
            "count": 0
           },
           {
            "bin_end": 19.99,
            "bin_start": 18.189999999999998,
            "count": 1
           }
          ],
          "max": "19.99",
          "min": "1.99",
          "nan_count": 0,
          "unique_count": 3
         }
        },
        {
         "dtype": "int64",
         "name": "Quantity",
         "stats": {
          "histogram": [
           {
            "bin_end": 6.2,
            "bin_start": 5,
            "count": 1
           },
           {
            "bin_end": 7.4,
            "bin_start": 6.2,
            "count": 0
           },
           {
            "bin_end": 8.6,
            "bin_start": 7.4,
            "count": 0
           },
           {
            "bin_end": 9.8,
            "bin_start": 8.6,
            "count": 0
           },
           {
            "bin_end": 11,
            "bin_start": 9.8,
            "count": 1
           },
           {
            "bin_end": 12.2,
            "bin_start": 11,
            "count": 0
           },
           {
            "bin_end": 13.4,
            "bin_start": 12.2,
            "count": 0
           },
           {
            "bin_end": 14.6,
            "bin_start": 13.4,
            "count": 0
           },
           {
            "bin_end": 15.799999999999999,
            "bin_start": 14.6,
            "count": 0
           },
           {
            "bin_end": 17,
            "bin_start": 15.799999999999999,
            "count": 1
           }
          ],
          "max": "17",
          "min": "5",
          "nan_count": 0,
          "unique_count": 3
         }
        },
        {
         "dtype": "object",
         "name": "Seller",
         "stats": {
          "categories": [
           {
            "count": 1,
            "name": "Alice"
           },
           {
            "count": 1,
            "name": "Bob"
           },
           {
            "count": 1,
            "name": "Eve"
           }
          ],
          "nan_count": 0,
          "unique_count": 3
         }
        },
        {
         "dtype": "float64",
         "name": "Rating",
         "stats": {
          "histogram": [
           {
            "bin_end": 2.74,
            "bin_start": 2.5,
            "count": 1
           },
           {
            "bin_end": 2.98,
            "bin_start": 2.74,
            "count": 0
           },
           {
            "bin_end": 3.22,
            "bin_start": 2.98,
            "count": 0
           },
           {
            "bin_end": 3.46,
            "bin_start": 3.22,
            "count": 0
           },
           {
            "bin_end": 3.7,
            "bin_start": 3.46,
            "count": 0
           },
           {
            "bin_end": 3.9400000000000004,
            "bin_start": 3.7,
            "count": 0
           },
           {
            "bin_end": 4.180000000000001,
            "bin_start": 3.9400000000000004,
            "count": 1
           },
           {
            "bin_end": 4.42,
            "bin_start": 4.180000000000001,
            "count": 0
           },
           {
            "bin_end": 4.66,
            "bin_start": 4.42,
            "count": 0
           },
           {
            "bin_end": 4.9,
            "bin_start": 4.66,
            "count": 1
           }
          ],
          "max": "4.9",
          "min": "2.5",
          "nan_count": 0,
          "unique_count": 3
         }
        },
        {
         "dtype": "int64",
         "name": "_deepnote_index_column"
        }
       ],
       "row_count": 3,
       "rows": [
        {
         "Cost": 1.99,
         "Quantity": 17,
         "Rating": 4.9,
         "Seller": "Alice",
         "_deepnote_index_column": 0
        },
        {
         "Cost": 10.45,
         "Quantity": 10,
         "Rating": 2.5,
         "Seller": "Bob",
         "_deepnote_index_column": 1
        },
        {
         "Cost": 19.99,
         "Quantity": 5,
         "Rating": 4.1,
         "Seller": "Eve",
         "_deepnote_index_column": 2
        }
       ]
      },
      "text/html": [
       "<div>\n",
       "<style scoped>\n",
       "    .dataframe tbody tr th:only-of-type {\n",
       "        vertical-align: middle;\n",
       "    }\n",
       "\n",
       "    .dataframe tbody tr th {\n",
       "        vertical-align: top;\n",
       "    }\n",
       "\n",
       "    .dataframe thead th {\n",
       "        text-align: right;\n",
       "    }\n",
       "</style>\n",
       "<table border=\"1\" class=\"dataframe\">\n",
       "  <thead>\n",
       "    <tr style=\"text-align: right;\">\n",
       "      <th></th>\n",
       "      <th>Cost</th>\n",
       "      <th>Quantity</th>\n",
       "      <th>Seller</th>\n",
       "      <th>Rating</th>\n",
       "    </tr>\n",
       "  </thead>\n",
       "  <tbody>\n",
       "    <tr>\n",
       "      <th>0</th>\n",
       "      <td>1.99</td>\n",
       "      <td>17</td>\n",
       "      <td>Alice</td>\n",
       "      <td>4.9</td>\n",
       "    </tr>\n",
       "    <tr>\n",
       "      <th>1</th>\n",
       "      <td>10.45</td>\n",
       "      <td>10</td>\n",
       "      <td>Bob</td>\n",
       "      <td>2.5</td>\n",
       "    </tr>\n",
       "    <tr>\n",
       "      <th>2</th>\n",
       "      <td>19.99</td>\n",
       "      <td>5</td>\n",
       "      <td>Eve</td>\n",
       "      <td>4.1</td>\n",
       "    </tr>\n",
       "  </tbody>\n",
       "</table>\n",
       "</div>"
      ],
      "text/plain": [
       "    Cost  Quantity Seller  Rating\n",
       "0   1.99        17  Alice     4.9\n",
       "1  10.45        10    Bob     2.5\n",
       "2  19.99         5    Eve     4.1"
      ]
     },
     "execution_count": 29,
     "metadata": {},
     "output_type": "execute_result"
    }
   ],
   "source": [
    "df"
   ]
  },
  {
   "cell_type": "code",
   "execution_count": null,
   "metadata": {
    "cell_id": "dc32d2a99c6a459bafeb7b847882fe82",
    "deepnote_cell_type": "code",
    "deepnote_to_be_reexecuted": false,
    "execution_millis": 10,
    "execution_start": 1691783560237,
    "source_hash": null
   },
   "outputs": [
    {
     "data": {
      "text/plain": [
       "0     1.99\n",
       "1    10.45\n",
       "2    19.99\n",
       "Name: Cost, dtype: float64"
      ]
     },
     "execution_count": 32,
     "metadata": {},
     "output_type": "execute_result"
    }
   ],
   "source": [
    "#How could we get the left-most column\n",
    "df.iloc[:,0]"
   ]
  },
  {
   "cell_type": "code",
   "execution_count": null,
   "metadata": {
    "cell_id": "1d2e41548a7b4f2f80d21eaef6c47ed5",
    "deepnote_cell_type": "code",
    "deepnote_to_be_reexecuted": false,
    "execution_millis": 11,
    "execution_start": 1691783616341,
    "source_hash": null
   },
   "outputs": [
    {
     "data": {
      "text/plain": [
       "Index(['Cost', 'Quantity', 'Seller', 'Rating'], dtype='object')"
      ]
     },
     "execution_count": 34,
     "metadata": {},
     "output_type": "execute_result"
    }
   ],
   "source": [
    "#returns a list of column names\n",
    "df.columns"
   ]
  },
  {
   "cell_type": "markdown",
   "metadata": {
    "cell_id": "006a7f871c394cc6b8033a9c6a503f5d",
    "deepnote_cell_type": "markdown"
   },
   "source": [
    "### Boolean indexing in pandas"
   ]
  },
  {
   "cell_type": "markdown",
   "metadata": {
    "cell_id": "b479379bd58d41ffa2ec57c9f3063eaf",
    "deepnote_cell_type": "markdown"
   },
   "source": [
    "Boolean Series are another way of indexing in pandas! This should remind you a lot of NumPy!"
   ]
  },
  {
   "cell_type": "code",
   "execution_count": null,
   "metadata": {
    "cell_id": "93b890502cdb4948ae8fbd07052190f6",
    "deepnote_cell_type": "code",
    "deepnote_to_be_reexecuted": false,
    "execution_millis": 420,
    "execution_start": 1691783737012,
    "source_hash": null
   },
   "outputs": [
    {
     "data": {
      "application/vnd.deepnote.dataframe.v3+json": {
       "column_count": 4,
       "columns": [
        {
         "dtype": "float64",
         "name": "Cost",
         "stats": {
          "histogram": [
           {
            "bin_end": 3.79,
            "bin_start": 1.99,
            "count": 1
           },
           {
            "bin_end": 5.59,
            "bin_start": 3.79,
            "count": 0
           },
           {
            "bin_end": 7.390000000000001,
            "bin_start": 5.59,
            "count": 0
           },
           {
            "bin_end": 9.19,
            "bin_start": 7.390000000000001,
            "count": 0
           },
           {
            "bin_end": 10.99,
            "bin_start": 9.19,
            "count": 1
           },
           {
            "bin_end": 12.790000000000001,
            "bin_start": 10.99,
            "count": 0
           },
           {
            "bin_end": 14.59,
            "bin_start": 12.790000000000001,
            "count": 0
           },
           {
            "bin_end": 16.39,
            "bin_start": 14.59,
            "count": 0
           },
           {
            "bin_end": 18.189999999999998,
            "bin_start": 16.39,
            "count": 0
           },
           {
            "bin_end": 19.99,
            "bin_start": 18.189999999999998,
            "count": 1
           }
          ],
          "max": "19.99",
          "min": "1.99",
          "nan_count": 0,
          "unique_count": 3
         }
        },
        {
         "dtype": "int64",
         "name": "Quantity",
         "stats": {
          "histogram": [
           {
            "bin_end": 6.2,
            "bin_start": 5,
            "count": 1
           },
           {
            "bin_end": 7.4,
            "bin_start": 6.2,
            "count": 0
           },
           {
            "bin_end": 8.6,
            "bin_start": 7.4,
            "count": 0
           },
           {
            "bin_end": 9.8,
            "bin_start": 8.6,
            "count": 0
           },
           {
            "bin_end": 11,
            "bin_start": 9.8,
            "count": 1
           },
           {
            "bin_end": 12.2,
            "bin_start": 11,
            "count": 0
           },
           {
            "bin_end": 13.4,
            "bin_start": 12.2,
            "count": 0
           },
           {
            "bin_end": 14.6,
            "bin_start": 13.4,
            "count": 0
           },
           {
            "bin_end": 15.799999999999999,
            "bin_start": 14.6,
            "count": 0
           },
           {
            "bin_end": 17,
            "bin_start": 15.799999999999999,
            "count": 1
           }
          ],
          "max": "17",
          "min": "5",
          "nan_count": 0,
          "unique_count": 3
         }
        },
        {
         "dtype": "object",
         "name": "Seller",
         "stats": {
          "categories": [
           {
            "count": 1,
            "name": "Alice"
           },
           {
            "count": 1,
            "name": "Bob"
           },
           {
            "count": 1,
            "name": "Eve"
           }
          ],
          "nan_count": 0,
          "unique_count": 3
         }
        },
        {
         "dtype": "float64",
         "name": "Rating",
         "stats": {
          "histogram": [
           {
            "bin_end": 2.74,
            "bin_start": 2.5,
            "count": 1
           },
           {
            "bin_end": 2.98,
            "bin_start": 2.74,
            "count": 0
           },
           {
            "bin_end": 3.22,
            "bin_start": 2.98,
            "count": 0
           },
           {
            "bin_end": 3.46,
            "bin_start": 3.22,
            "count": 0
           },
           {
            "bin_end": 3.7,
            "bin_start": 3.46,
            "count": 0
           },
           {
            "bin_end": 3.9400000000000004,
            "bin_start": 3.7,
            "count": 0
           },
           {
            "bin_end": 4.180000000000001,
            "bin_start": 3.9400000000000004,
            "count": 1
           },
           {
            "bin_end": 4.42,
            "bin_start": 4.180000000000001,
            "count": 0
           },
           {
            "bin_end": 4.66,
            "bin_start": 4.42,
            "count": 0
           },
           {
            "bin_end": 4.9,
            "bin_start": 4.66,
            "count": 1
           }
          ],
          "max": "4.9",
          "min": "2.5",
          "nan_count": 0,
          "unique_count": 3
         }
        },
        {
         "dtype": "int64",
         "name": "_deepnote_index_column"
        }
       ],
       "row_count": 3,
       "rows": [
        {
         "Cost": 1.99,
         "Quantity": 17,
         "Rating": 4.9,
         "Seller": "Alice",
         "_deepnote_index_column": 0
        },
        {
         "Cost": 10.45,
         "Quantity": 10,
         "Rating": 2.5,
         "Seller": "Bob",
         "_deepnote_index_column": 1
        },
        {
         "Cost": 19.99,
         "Quantity": 5,
         "Rating": 4.1,
         "Seller": "Eve",
         "_deepnote_index_column": 2
        }
       ]
      },
      "text/html": [
       "<div>\n",
       "<style scoped>\n",
       "    .dataframe tbody tr th:only-of-type {\n",
       "        vertical-align: middle;\n",
       "    }\n",
       "\n",
       "    .dataframe tbody tr th {\n",
       "        vertical-align: top;\n",
       "    }\n",
       "\n",
       "    .dataframe thead th {\n",
       "        text-align: right;\n",
       "    }\n",
       "</style>\n",
       "<table border=\"1\" class=\"dataframe\">\n",
       "  <thead>\n",
       "    <tr style=\"text-align: right;\">\n",
       "      <th></th>\n",
       "      <th>Cost</th>\n",
       "      <th>Quantity</th>\n",
       "      <th>Seller</th>\n",
       "      <th>Rating</th>\n",
       "    </tr>\n",
       "  </thead>\n",
       "  <tbody>\n",
       "    <tr>\n",
       "      <th>0</th>\n",
       "      <td>1.99</td>\n",
       "      <td>17</td>\n",
       "      <td>Alice</td>\n",
       "      <td>4.9</td>\n",
       "    </tr>\n",
       "    <tr>\n",
       "      <th>1</th>\n",
       "      <td>10.45</td>\n",
       "      <td>10</td>\n",
       "      <td>Bob</td>\n",
       "      <td>2.5</td>\n",
       "    </tr>\n",
       "    <tr>\n",
       "      <th>2</th>\n",
       "      <td>19.99</td>\n",
       "      <td>5</td>\n",
       "      <td>Eve</td>\n",
       "      <td>4.1</td>\n",
       "    </tr>\n",
       "  </tbody>\n",
       "</table>\n",
       "</div>"
      ],
      "text/plain": [
       "    Cost  Quantity Seller  Rating\n",
       "0   1.99        17  Alice     4.9\n",
       "1  10.45        10    Bob     2.5\n",
       "2  19.99         5    Eve     4.1"
      ]
     },
     "execution_count": 35,
     "metadata": {},
     "output_type": "execute_result"
    }
   ],
   "source": [
    "df"
   ]
  },
  {
   "cell_type": "code",
   "execution_count": null,
   "metadata": {
    "cell_id": "7e133c0f400f433785fc82e787e03e50",
    "deepnote_cell_type": "code",
    "deepnote_to_be_reexecuted": false,
    "execution_millis": 11,
    "execution_start": 1691783747261,
    "source_hash": null
   },
   "outputs": [
    {
     "data": {
      "text/plain": [
       "0    False\n",
       "1     True\n",
       "2     True\n",
       "Name: Quantity, dtype: bool"
      ]
     },
     "execution_count": 36,
     "metadata": {},
     "output_type": "execute_result"
    }
   ],
   "source": [
    "df[\"Quantity\"] < 12"
   ]
  },
  {
   "cell_type": "markdown",
   "metadata": {
    "cell_id": "ebd37eade8344ad483510ab03bd4b90f",
    "deepnote_cell_type": "markdown"
   },
   "source": [
    "* Get the sub-DataFrame containing all rows where the Quantity is smaller than 12."
   ]
  },
  {
   "cell_type": "code",
   "execution_count": null,
   "metadata": {
    "cell_id": "857f4dfe33b34ac0bde3cc15c43f0d5d",
    "deepnote_cell_type": "code",
    "deepnote_to_be_reexecuted": false,
    "execution_millis": 409,
    "execution_start": 1691783839619,
    "source_hash": null
   },
   "outputs": [
    {
     "data": {
      "application/vnd.deepnote.dataframe.v3+json": {
       "column_count": 4,
       "columns": [
        {
         "dtype": "float64",
         "name": "Cost",
         "stats": {
          "histogram": [
           {
            "bin_end": 11.404,
            "bin_start": 10.45,
            "count": 1
           },
           {
            "bin_end": 12.357999999999999,
            "bin_start": 11.404,
            "count": 0
           },
           {
            "bin_end": 13.312,
            "bin_start": 12.357999999999999,
            "count": 0
           },
           {
            "bin_end": 14.265999999999998,
            "bin_start": 13.312,
            "count": 0
           },
           {
            "bin_end": 15.219999999999999,
            "bin_start": 14.265999999999998,
            "count": 0
           },
           {
            "bin_end": 16.174,
            "bin_start": 15.219999999999999,
            "count": 0
           },
           {
            "bin_end": 17.128,
            "bin_start": 16.174,
            "count": 0
           },
           {
            "bin_end": 18.082,
            "bin_start": 17.128,
            "count": 0
           },
           {
            "bin_end": 19.036,
            "bin_start": 18.082,
            "count": 0
           },
           {
            "bin_end": 19.99,
            "bin_start": 19.036,
            "count": 1
           }
          ],
          "max": "19.99",
          "min": "10.45",
          "nan_count": 0,
          "unique_count": 2
         }
        },
        {
         "dtype": "int64",
         "name": "Quantity",
         "stats": {
          "histogram": [
           {
            "bin_end": 5.5,
            "bin_start": 5,
            "count": 1
           },
           {
            "bin_end": 6,
            "bin_start": 5.5,
            "count": 0
           },
           {
            "bin_end": 6.5,
            "bin_start": 6,
            "count": 0
           },
           {
            "bin_end": 7,
            "bin_start": 6.5,
            "count": 0
           },
           {
            "bin_end": 7.5,
            "bin_start": 7,
            "count": 0
           },
           {
            "bin_end": 8,
            "bin_start": 7.5,
            "count": 0
           },
           {
            "bin_end": 8.5,
            "bin_start": 8,
            "count": 0
           },
           {
            "bin_end": 9,
            "bin_start": 8.5,
            "count": 0
           },
           {
            "bin_end": 9.5,
            "bin_start": 9,
            "count": 0
           },
           {
            "bin_end": 10,
            "bin_start": 9.5,
            "count": 1
           }
          ],
          "max": "10",
          "min": "5",
          "nan_count": 0,
          "unique_count": 2
         }
        },
        {
         "dtype": "object",
         "name": "Seller",
         "stats": {
          "categories": [
           {
            "count": 1,
            "name": "Bob"
           },
           {
            "count": 1,
            "name": "Eve"
           }
          ],
          "nan_count": 0,
          "unique_count": 2
         }
        },
        {
         "dtype": "float64",
         "name": "Rating",
         "stats": {
          "histogram": [
           {
            "bin_end": 2.66,
            "bin_start": 2.5,
            "count": 1
           },
           {
            "bin_end": 2.82,
            "bin_start": 2.66,
            "count": 0
           },
           {
            "bin_end": 2.98,
            "bin_start": 2.82,
            "count": 0
           },
           {
            "bin_end": 3.1399999999999997,
            "bin_start": 2.98,
            "count": 0
           },
           {
            "bin_end": 3.3,
            "bin_start": 3.1399999999999997,
            "count": 0
           },
           {
            "bin_end": 3.46,
            "bin_start": 3.3,
            "count": 0
           },
           {
            "bin_end": 3.62,
            "bin_start": 3.46,
            "count": 0
           },
           {
            "bin_end": 3.78,
            "bin_start": 3.62,
            "count": 0
           },
           {
            "bin_end": 3.9399999999999995,
            "bin_start": 3.78,
            "count": 0
           },
           {
            "bin_end": 4.1,
            "bin_start": 3.9399999999999995,
            "count": 1
           }
          ],
          "max": "4.1",
          "min": "2.5",
          "nan_count": 0,
          "unique_count": 2
         }
        },
        {
         "dtype": "int64",
         "name": "_deepnote_index_column"
        }
       ],
       "row_count": 2,
       "rows": [
        {
         "Cost": 10.45,
         "Quantity": 10,
         "Rating": 2.5,
         "Seller": "Bob",
         "_deepnote_index_column": 1
        },
        {
         "Cost": 19.99,
         "Quantity": 5,
         "Rating": 4.1,
         "Seller": "Eve",
         "_deepnote_index_column": 2
        }
       ]
      },
      "text/html": [
       "<div>\n",
       "<style scoped>\n",
       "    .dataframe tbody tr th:only-of-type {\n",
       "        vertical-align: middle;\n",
       "    }\n",
       "\n",
       "    .dataframe tbody tr th {\n",
       "        vertical-align: top;\n",
       "    }\n",
       "\n",
       "    .dataframe thead th {\n",
       "        text-align: right;\n",
       "    }\n",
       "</style>\n",
       "<table border=\"1\" class=\"dataframe\">\n",
       "  <thead>\n",
       "    <tr style=\"text-align: right;\">\n",
       "      <th></th>\n",
       "      <th>Cost</th>\n",
       "      <th>Quantity</th>\n",
       "      <th>Seller</th>\n",
       "      <th>Rating</th>\n",
       "    </tr>\n",
       "  </thead>\n",
       "  <tbody>\n",
       "    <tr>\n",
       "      <th>1</th>\n",
       "      <td>10.45</td>\n",
       "      <td>10</td>\n",
       "      <td>Bob</td>\n",
       "      <td>2.5</td>\n",
       "    </tr>\n",
       "    <tr>\n",
       "      <th>2</th>\n",
       "      <td>19.99</td>\n",
       "      <td>5</td>\n",
       "      <td>Eve</td>\n",
       "      <td>4.1</td>\n",
       "    </tr>\n",
       "  </tbody>\n",
       "</table>\n",
       "</div>"
      ],
      "text/plain": [
       "    Cost  Quantity Seller  Rating\n",
       "1  10.45        10    Bob     2.5\n",
       "2  19.99         5    Eve     4.1"
      ]
     },
     "execution_count": 39,
     "metadata": {},
     "output_type": "execute_result"
    }
   ],
   "source": [
    "sub_df = df[df[\"Quantity\"] < 12]\n",
    "sub_df"
   ]
  },
  {
   "cell_type": "markdown",
   "metadata": {
    "cell_id": "5ca3362e819e471e850239dbf023354a",
    "deepnote_cell_type": "markdown"
   },
   "source": [
    "Warning!! Notice here that the row labels no longer match the integer positions!"
   ]
  },
  {
   "cell_type": "code",
   "execution_count": null,
   "metadata": {
    "cell_id": "613b375608f24d2a87aa762cac34c03c",
    "deepnote_cell_type": "code",
    "deepnote_to_be_reexecuted": false,
    "execution_millis": 9,
    "execution_start": 1691783969681,
    "source_hash": null
   },
   "outputs": [
    {
     "data": {
      "text/plain": [
       "10.45"
      ]
     },
     "execution_count": 42,
     "metadata": {},
     "output_type": "execute_result"
    }
   ],
   "source": [
    "#Row labeled 1, the column labeled \"Cost\"\n",
    "sub_df.loc[1,\"Cost\"]"
   ]
  },
  {
   "cell_type": "code",
   "execution_count": null,
   "metadata": {
    "cell_id": "16cb721e7c6b4ab98d5dc684e8e7464b",
    "deepnote_cell_type": "code",
    "deepnote_to_be_reexecuted": false,
    "execution_millis": 10,
    "execution_start": 1691783973058,
    "source_hash": null
   },
   "outputs": [
    {
     "data": {
      "text/plain": [
       "10.45"
      ]
     },
     "execution_count": 43,
     "metadata": {},
     "output_type": "execute_result"
    }
   ],
   "source": [
    "#Index 0 row, index 0 column\n",
    "sub_df.iloc[0,0]"
   ]
  },
  {
   "cell_type": "code",
   "execution_count": null,
   "metadata": {
    "cell_id": "6d31894b6f6947128ed3665c3acc51ef",
    "deepnote_cell_type": "code",
    "deepnote_to_be_reexecuted": false,
    "execution_millis": 9,
    "execution_start": 1691783990267,
    "source_hash": null
   },
   "outputs": [
    {
     "data": {
      "text/plain": [
       "19.99"
      ]
     },
     "execution_count": 44,
     "metadata": {},
     "output_type": "execute_result"
    }
   ],
   "source": [
    "sub_df.iloc[1,0]"
   ]
  },
  {
   "cell_type": "code",
   "execution_count": null,
   "metadata": {
    "cell_id": "8186bf2d63cf4f9ba3bc0a493f17d5a2",
    "deepnote_cell_type": "code",
    "deepnote_to_be_reexecuted": false,
    "execution_millis": 11,
    "execution_start": 1691784188564,
    "source_hash": null
   },
   "outputs": [
    {
     "data": {
      "text/plain": [
       "(2, 4)"
      ]
     },
     "execution_count": 45,
     "metadata": {},
     "output_type": "execute_result"
    }
   ],
   "source": [
    "sub_df.shape"
   ]
  },
  {
   "cell_type": "markdown",
   "metadata": {
    "cell_id": "3fd7dc2169294e0c9e3bf3770a69fb06",
    "deepnote_cell_type": "markdown"
   },
   "source": [
    "\n",
    "***"
   ]
  },
  {
   "cell_type": "markdown",
   "metadata": {
    "cell_id": "b40414ca506b4b4887033e3e3fb5ea08",
    "deepnote_cell_type": "markdown"
   },
   "source": [
    "That's it for EDA Unit 1! The focus of EDA Unit 2 will be on exploring new data and techniques for getting a feel of what the data is all about."
   ]
  },
  {
   "cell_type": "markdown",
   "metadata": {
    "cell_id": "4bd6a404ba2a43c8a3725725b074a1a6",
    "deepnote_cell_type": "markdown"
   },
   "source": [
    "### Exploring the taxis dataset"
   ]
  },
  {
   "cell_type": "markdown",
   "metadata": {
    "cell_id": "5b849abf881e4c23afc99beac1410ea6",
    "deepnote_cell_type": "markdown"
   },
   "source": [
    "In today's lecture we'll be using a dataset from the Seaborn library. Typically we'd import this data from Seaborn, but when we import it this way Seaborn takes care of a number of \"data cleaning\" steps for us. Today, we'll just import the csv directly. "
   ]
  },
  {
   "cell_type": "markdown",
   "metadata": {
    "cell_id": "730d2f17cb3f42899cebf740965dc052",
    "deepnote_cell_type": "markdown"
   },
   "source": [
    "* Load the taxis csv file and store it with the variable name `df`."
   ]
  },
  {
   "cell_type": "code",
   "execution_count": null,
   "metadata": {
    "cell_id": "5d25a7a89d704dd59c95dc78d2a3d621",
    "deepnote_cell_type": "code",
    "deepnote_to_be_reexecuted": false,
    "execution_millis": 26,
    "execution_start": 1691784850948,
    "source_hash": null
   },
   "outputs": [],
   "source": [
    "df = pd.read_csv(\"taxis.csv\")"
   ]
  },
  {
   "cell_type": "markdown",
   "metadata": {
    "cell_id": "f350ab2c74a543dc9895db7ab8661272",
    "deepnote_cell_type": "markdown"
   },
   "source": [
    "Get a sense for the contents of `df` using the following:\n",
    "* The shape attribute"
   ]
  },
  {
   "cell_type": "code",
   "execution_count": null,
   "metadata": {
    "cell_id": "8eb5a9a79f3c4802b3948d20da993ba8",
    "deepnote_cell_type": "code",
    "deepnote_to_be_reexecuted": false,
    "execution_millis": 13,
    "execution_start": 1691784888541,
    "source_hash": null
   },
   "outputs": [
    {
     "data": {
      "text/plain": [
       "(6433, 14)"
      ]
     },
     "execution_count": 47,
     "metadata": {},
     "output_type": "execute_result"
    }
   ],
   "source": [
    "df.shape"
   ]
  },
  {
   "cell_type": "markdown",
   "metadata": {
    "cell_id": "335ab02e3e03449791cc0239f624f5f2",
    "deepnote_cell_type": "markdown"
   },
   "source": [
    "* The head method to view the first few rows"
   ]
  },
  {
   "cell_type": "code",
   "execution_count": null,
   "metadata": {
    "cell_id": "14fe7273ee674b41b564f374fa9c7b9e",
    "deepnote_cell_type": "code",
    "deepnote_to_be_reexecuted": false,
    "execution_millis": 530,
    "execution_start": 1691784938199,
    "source_hash": null
   },
   "outputs": [
    {
     "data": {
      "application/vnd.deepnote.dataframe.v3+json": {
       "column_count": 14,
       "columns": [
        {
         "dtype": "object",
         "name": "pickup",
         "stats": {
          "categories": [
           {
            "count": 1,
            "name": "2019-03-23 20:21:09"
           },
           {
            "count": 1,
            "name": "2019-03-04 16:11:55"
           },
           {
            "count": 1,
            "name": "2019-03-27 17:53:01"
           }
          ],
          "nan_count": 0,
          "unique_count": 3
         }
        },
        {
         "dtype": "object",
         "name": "dropoff",
         "stats": {
          "categories": [
           {
            "count": 1,
            "name": "2019-03-23 20:27:24"
           },
           {
            "count": 1,
            "name": "2019-03-04 16:19:00"
           },
           {
            "count": 1,
            "name": "2019-03-27 18:00:25"
           }
          ],
          "nan_count": 0,
          "unique_count": 3
         }
        },
        {
         "dtype": "int64",
         "name": "passengers",
         "stats": {
          "histogram": [
           {
            "bin_end": 0.6,
            "bin_start": 0.5,
            "count": 0
           },
           {
            "bin_end": 0.7,
            "bin_start": 0.6,
            "count": 0
           },
           {
            "bin_end": 0.8,
            "bin_start": 0.7,
            "count": 0
           },
           {
            "bin_end": 0.9,
            "bin_start": 0.8,
            "count": 0
           },
           {
            "bin_end": 1,
            "bin_start": 0.9,
            "count": 0
           },
           {
            "bin_end": 1.1,
            "bin_start": 1,
            "count": 3
           },
           {
            "bin_end": 1.2000000000000002,
            "bin_start": 1.1,
            "count": 0
           },
           {
            "bin_end": 1.3,
            "bin_start": 1.2000000000000002,
            "count": 0
           },
           {
            "bin_end": 1.4,
            "bin_start": 1.3,
            "count": 0
           },
           {
            "bin_end": 1.5,
            "bin_start": 1.4,
            "count": 0
           }
          ],
          "max": "1",
          "min": "1",
          "nan_count": 0,
          "unique_count": 1
         }
        },
        {
         "dtype": "float64",
         "name": "distance",
         "stats": {
          "histogram": [
           {
            "bin_end": 0.871,
            "bin_start": 0.79,
            "count": 1
           },
           {
            "bin_end": 0.9520000000000001,
            "bin_start": 0.871,
            "count": 0
           },
           {
            "bin_end": 1.033,
            "bin_start": 0.9520000000000001,
            "count": 0
           },
           {
            "bin_end": 1.114,
            "bin_start": 1.033,
            "count": 0
           },
           {
            "bin_end": 1.195,
            "bin_start": 1.114,
            "count": 0
           },
           {
            "bin_end": 1.276,
            "bin_start": 1.195,
            "count": 0
           },
           {
            "bin_end": 1.3570000000000002,
            "bin_start": 1.276,
            "count": 0
           },
           {
            "bin_end": 1.4380000000000002,
            "bin_start": 1.3570000000000002,
            "count": 1
           },
           {
            "bin_end": 1.5190000000000001,
            "bin_start": 1.4380000000000002,
            "count": 0
           },
           {
            "bin_end": 1.6,
            "bin_start": 1.5190000000000001,
            "count": 1
           }
          ],
          "max": "1.6",
          "min": "0.79",
          "nan_count": 0,
          "unique_count": 3
         }
        },
        {
         "dtype": "float64",
         "name": "fare",
         "stats": {
          "histogram": [
           {
            "bin_end": 5.25,
            "bin_start": 5,
            "count": 1
           },
           {
            "bin_end": 5.5,
            "bin_start": 5.25,
            "count": 0
           },
           {
            "bin_end": 5.75,
            "bin_start": 5.5,
            "count": 0
           },
           {
            "bin_end": 6,
            "bin_start": 5.75,
            "count": 0
           },
           {
            "bin_end": 6.25,
            "bin_start": 6,
            "count": 0
           },
           {
            "bin_end": 6.5,
            "bin_start": 6.25,
            "count": 0
           },
           {
            "bin_end": 6.75,
            "bin_start": 6.5,
            "count": 0
           },
           {
            "bin_end": 7,
            "bin_start": 6.75,
            "count": 0
           },
           {
            "bin_end": 7.25,
            "bin_start": 7,
            "count": 1
           },
           {
            "bin_end": 7.5,
            "bin_start": 7.25,
            "count": 1
           }
          ],
          "max": "7.5",
          "min": "5.0",
          "nan_count": 0,
          "unique_count": 3
         }
        },
        {
         "dtype": "float64",
         "name": "tip",
         "stats": {
          "histogram": [
           {
            "bin_end": 0.236,
            "bin_start": 0,
            "count": 1
           },
           {
            "bin_end": 0.472,
            "bin_start": 0.236,
            "count": 0
           },
           {
            "bin_end": 0.708,
            "bin_start": 0.472,
            "count": 0
           },
           {
            "bin_end": 0.944,
            "bin_start": 0.708,
            "count": 0
           },
           {
            "bin_end": 1.18,
            "bin_start": 0.944,
            "count": 0
           },
           {
            "bin_end": 1.416,
            "bin_start": 1.18,
            "count": 0
           },
           {
            "bin_end": 1.652,
            "bin_start": 1.416,
            "count": 0
           },
           {
            "bin_end": 1.888,
            "bin_start": 1.652,
            "count": 0
           },
           {
            "bin_end": 2.1239999999999997,
            "bin_start": 1.888,
            "count": 0
           },
           {
            "bin_end": 2.36,
            "bin_start": 2.1239999999999997,
            "count": 2
           }
          ],
          "max": "2.36",
          "min": "0.0",
          "nan_count": 0,
          "unique_count": 3
         }
        },
        {
         "dtype": "float64",
         "name": "tolls",
         "stats": {
          "histogram": [
           {
            "bin_end": -0.4,
            "bin_start": -0.5,
            "count": 0
           },
           {
            "bin_end": -0.3,
            "bin_start": -0.4,
            "count": 0
           },
           {
            "bin_end": -0.19999999999999996,
            "bin_start": -0.3,
            "count": 0
           },
           {
            "bin_end": -0.09999999999999998,
            "bin_start": -0.19999999999999996,
            "count": 0
           },
           {
            "bin_end": 0,
            "bin_start": -0.09999999999999998,
            "count": 0
           },
           {
            "bin_end": 0.10000000000000009,
            "bin_start": 0,
            "count": 3
           },
           {
            "bin_end": 0.20000000000000007,
            "bin_start": 0.10000000000000009,
            "count": 0
           },
           {
            "bin_end": 0.30000000000000004,
            "bin_start": 0.20000000000000007,
            "count": 0
           },
           {
            "bin_end": 0.4,
            "bin_start": 0.30000000000000004,
            "count": 0
           },
           {
            "bin_end": 0.5,
            "bin_start": 0.4,
            "count": 0
           }
          ],
          "max": "0.0",
          "min": "0.0",
          "nan_count": 0,
          "unique_count": 1
         }
        },
        {
         "dtype": "float64",
         "name": "total",
         "stats": {
          "histogram": [
           {
            "bin_end": 9.786000000000001,
            "bin_start": 9.3,
            "count": 1
           },
           {
            "bin_end": 10.272,
            "bin_start": 9.786000000000001,
            "count": 0
           },
           {
            "bin_end": 10.758000000000001,
            "bin_start": 10.272,
            "count": 0
           },
           {
            "bin_end": 11.244,
            "bin_start": 10.758000000000001,
            "count": 0
           },
           {
            "bin_end": 11.73,
            "bin_start": 11.244,
            "count": 0
           },
           {
            "bin_end": 12.216000000000001,
            "bin_start": 11.73,
            "count": 0
           },
           {
            "bin_end": 12.702,
            "bin_start": 12.216000000000001,
            "count": 0
           },
           {
            "bin_end": 13.188,
            "bin_start": 12.702,
            "count": 1
           },
           {
            "bin_end": 13.674,
            "bin_start": 13.188,
            "count": 0
           },
           {
            "bin_end": 14.16,
            "bin_start": 13.674,
            "count": 1
           }
          ],
          "max": "14.16",
          "min": "9.3",
          "nan_count": 0,
          "unique_count": 3
         }
        },
        {
         "dtype": "object",
         "name": "color",
         "stats": {
          "categories": [
           {
            "count": 3,
            "name": "yellow"
           }
          ],
          "nan_count": 0,
          "unique_count": 1
         }
        },
        {
         "dtype": "object",
         "name": "payment",
         "stats": {
          "categories": [
           {
            "count": 2,
            "name": "credit card"
           },
           {
            "count": 1,
            "name": "cash"
           }
          ],
          "nan_count": 0,
          "unique_count": 2
         }
        },
        {
         "dtype": "object",
         "name": "pickup_zone",
         "stats": {
          "categories": [
           {
            "count": 1,
            "name": "Lenox Hill West"
           },
           {
            "count": 1,
            "name": "Upper West Side South"
           },
           {
            "count": 1,
            "name": "Alphabet City"
           }
          ],
          "nan_count": 0,
          "unique_count": 3
         }
        },
        {
         "dtype": "object",
         "name": "dropoff_zone",
         "stats": {
          "categories": [
           {
            "count": 1,
            "name": "UN/Turtle Bay South"
           },
           {
            "count": 1,
            "name": "Upper West Side South"
           },
           {
            "count": 1,
            "name": "West Village"
           }
          ],
          "nan_count": 0,
          "unique_count": 3
         }
        },
        {
         "dtype": "object",
         "name": "pickup_borough",
         "stats": {
          "categories": [
           {
            "count": 3,
            "name": "Manhattan"
           }
          ],
          "nan_count": 0,
          "unique_count": 1
         }
        },
        {
         "dtype": "object",
         "name": "dropoff_borough",
         "stats": {
          "categories": [
           {
            "count": 3,
            "name": "Manhattan"
           }
          ],
          "nan_count": 0,
          "unique_count": 1
         }
        },
        {
         "dtype": "int64",
         "name": "_deepnote_index_column"
        }
       ],
       "row_count": 3,
       "rows": [
        {
         "_deepnote_index_column": 0,
         "color": "yellow",
         "distance": 1.6,
         "dropoff": "2019-03-23 20:27:24",
         "dropoff_borough": "Manhattan",
         "dropoff_zone": "UN/Turtle Bay South",
         "fare": 7,
         "passengers": 1,
         "payment": "credit card",
         "pickup": "2019-03-23 20:21:09",
         "pickup_borough": "Manhattan",
         "pickup_zone": "Lenox Hill West",
         "tip": 2.15,
         "tolls": 0,
         "total": 12.95
        },
        {
         "_deepnote_index_column": 1,
         "color": "yellow",
         "distance": 0.79,
         "dropoff": "2019-03-04 16:19:00",
         "dropoff_borough": "Manhattan",
         "dropoff_zone": "Upper West Side South",
         "fare": 5,
         "passengers": 1,
         "payment": "cash",
         "pickup": "2019-03-04 16:11:55",
         "pickup_borough": "Manhattan",
         "pickup_zone": "Upper West Side South",
         "tip": 0,
         "tolls": 0,
         "total": 9.3
        },
        {
         "_deepnote_index_column": 2,
         "color": "yellow",
         "distance": 1.37,
         "dropoff": "2019-03-27 18:00:25",
         "dropoff_borough": "Manhattan",
         "dropoff_zone": "West Village",
         "fare": 7.5,
         "passengers": 1,
         "payment": "credit card",
         "pickup": "2019-03-27 17:53:01",
         "pickup_borough": "Manhattan",
         "pickup_zone": "Alphabet City",
         "tip": 2.36,
         "tolls": 0,
         "total": 14.16
        }
       ]
      },
      "text/html": [
       "<div>\n",
       "<style scoped>\n",
       "    .dataframe tbody tr th:only-of-type {\n",
       "        vertical-align: middle;\n",
       "    }\n",
       "\n",
       "    .dataframe tbody tr th {\n",
       "        vertical-align: top;\n",
       "    }\n",
       "\n",
       "    .dataframe thead th {\n",
       "        text-align: right;\n",
       "    }\n",
       "</style>\n",
       "<table border=\"1\" class=\"dataframe\">\n",
       "  <thead>\n",
       "    <tr style=\"text-align: right;\">\n",
       "      <th></th>\n",
       "      <th>pickup</th>\n",
       "      <th>dropoff</th>\n",
       "      <th>passengers</th>\n",
       "      <th>distance</th>\n",
       "      <th>fare</th>\n",
       "      <th>tip</th>\n",
       "      <th>tolls</th>\n",
       "      <th>total</th>\n",
       "      <th>color</th>\n",
       "      <th>payment</th>\n",
       "      <th>pickup_zone</th>\n",
       "      <th>dropoff_zone</th>\n",
       "      <th>pickup_borough</th>\n",
       "      <th>dropoff_borough</th>\n",
       "    </tr>\n",
       "  </thead>\n",
       "  <tbody>\n",
       "    <tr>\n",
       "      <th>0</th>\n",
       "      <td>2019-03-23 20:21:09</td>\n",
       "      <td>2019-03-23 20:27:24</td>\n",
       "      <td>1</td>\n",
       "      <td>1.60</td>\n",
       "      <td>7.0</td>\n",
       "      <td>2.15</td>\n",
       "      <td>0.0</td>\n",
       "      <td>12.95</td>\n",
       "      <td>yellow</td>\n",
       "      <td>credit card</td>\n",
       "      <td>Lenox Hill West</td>\n",
       "      <td>UN/Turtle Bay South</td>\n",
       "      <td>Manhattan</td>\n",
       "      <td>Manhattan</td>\n",
       "    </tr>\n",
       "    <tr>\n",
       "      <th>1</th>\n",
       "      <td>2019-03-04 16:11:55</td>\n",
       "      <td>2019-03-04 16:19:00</td>\n",
       "      <td>1</td>\n",
       "      <td>0.79</td>\n",
       "      <td>5.0</td>\n",
       "      <td>0.00</td>\n",
       "      <td>0.0</td>\n",
       "      <td>9.30</td>\n",
       "      <td>yellow</td>\n",
       "      <td>cash</td>\n",
       "      <td>Upper West Side South</td>\n",
       "      <td>Upper West Side South</td>\n",
       "      <td>Manhattan</td>\n",
       "      <td>Manhattan</td>\n",
       "    </tr>\n",
       "    <tr>\n",
       "      <th>2</th>\n",
       "      <td>2019-03-27 17:53:01</td>\n",
       "      <td>2019-03-27 18:00:25</td>\n",
       "      <td>1</td>\n",
       "      <td>1.37</td>\n",
       "      <td>7.5</td>\n",
       "      <td>2.36</td>\n",
       "      <td>0.0</td>\n",
       "      <td>14.16</td>\n",
       "      <td>yellow</td>\n",
       "      <td>credit card</td>\n",
       "      <td>Alphabet City</td>\n",
       "      <td>West Village</td>\n",
       "      <td>Manhattan</td>\n",
       "      <td>Manhattan</td>\n",
       "    </tr>\n",
       "  </tbody>\n",
       "</table>\n",
       "</div>"
      ],
      "text/plain": [
       "                pickup              dropoff  passengers  distance  fare   tip  \\\n",
       "0  2019-03-23 20:21:09  2019-03-23 20:27:24           1      1.60   7.0  2.15   \n",
       "1  2019-03-04 16:11:55  2019-03-04 16:19:00           1      0.79   5.0  0.00   \n",
       "2  2019-03-27 17:53:01  2019-03-27 18:00:25           1      1.37   7.5  2.36   \n",
       "\n",
       "   tolls  total   color      payment            pickup_zone  \\\n",
       "0    0.0  12.95  yellow  credit card        Lenox Hill West   \n",
       "1    0.0   9.30  yellow         cash  Upper West Side South   \n",
       "2    0.0  14.16  yellow  credit card          Alphabet City   \n",
       "\n",
       "            dropoff_zone pickup_borough dropoff_borough  \n",
       "0    UN/Turtle Bay South      Manhattan       Manhattan  \n",
       "1  Upper West Side South      Manhattan       Manhattan  \n",
       "2           West Village      Manhattan       Manhattan  "
      ]
     },
     "execution_count": 48,
     "metadata": {},
     "output_type": "execute_result"
    }
   ],
   "source": [
    "#Give the first three rows\n",
    "df.head(3)"
   ]
  },
  {
   "cell_type": "code",
   "execution_count": null,
   "metadata": {
    "cell_id": "e10eaf6b9d724159ac4351757b0d1611",
    "deepnote_cell_type": "code",
    "deepnote_to_be_reexecuted": false,
    "execution_millis": 93,
    "execution_start": 1691785016876,
    "source_hash": null
   },
   "outputs": [
    {
     "data": {
      "application/vnd.deepnote.dataframe.v3+json": {
       "column_count": 14,
       "columns": [
        {
         "dtype": "object",
         "name": "pickup",
         "stats": {
          "categories": [
           {
            "count": 1,
            "name": "2019-03-23 20:21:09"
           },
           {
            "count": 1,
            "name": "2019-03-04 16:11:55"
           },
           {
            "count": 3,
            "name": "3 others"
           }
          ],
          "nan_count": 0,
          "unique_count": 5
         }
        },
        {
         "dtype": "object",
         "name": "dropoff",
         "stats": {
          "categories": [
           {
            "count": 1,
            "name": "2019-03-23 20:27:24"
           },
           {
            "count": 1,
            "name": "2019-03-04 16:19:00"
           },
           {
            "count": 3,
            "name": "3 others"
           }
          ],
          "nan_count": 0,
          "unique_count": 5
         }
        },
        {
         "dtype": "int64",
         "name": "passengers",
         "stats": {
          "histogram": [
           {
            "bin_end": 1.2,
            "bin_start": 1,
            "count": 4
           },
           {
            "bin_end": 1.4,
            "bin_start": 1.2,
            "count": 0
           },
           {
            "bin_end": 1.6,
            "bin_start": 1.4,
            "count": 0
           },
           {
            "bin_end": 1.8,
            "bin_start": 1.6,
            "count": 0
           },
           {
            "bin_end": 2,
            "bin_start": 1.8,
            "count": 0
           },
           {
            "bin_end": 2.2,
            "bin_start": 2,
            "count": 0
           },
           {
            "bin_end": 2.4000000000000004,
            "bin_start": 2.2,
            "count": 0
           },
           {
            "bin_end": 2.6,
            "bin_start": 2.4000000000000004,
            "count": 0
           },
           {
            "bin_end": 2.8,
            "bin_start": 2.6,
            "count": 0
           },
           {
            "bin_end": 3,
            "bin_start": 2.8,
            "count": 1
           }
          ],
          "max": "3",
          "min": "1",
          "nan_count": 0,
          "unique_count": 2
         }
        },
        {
         "dtype": "float64",
         "name": "distance",
         "stats": {
          "histogram": [
           {
            "bin_end": 1.481,
            "bin_start": 0.79,
            "count": 2
           },
           {
            "bin_end": 2.172,
            "bin_start": 1.481,
            "count": 2
           },
           {
            "bin_end": 2.8630000000000004,
            "bin_start": 2.172,
            "count": 0
           },
           {
            "bin_end": 3.5540000000000003,
            "bin_start": 2.8630000000000004,
            "count": 0
           },
           {
            "bin_end": 4.245,
            "bin_start": 3.5540000000000003,
            "count": 0
           },
           {
            "bin_end": 4.936000000000001,
            "bin_start": 4.245,
            "count": 0
           },
           {
            "bin_end": 5.627000000000001,
            "bin_start": 4.936000000000001,
            "count": 0
           },
           {
            "bin_end": 6.3180000000000005,
            "bin_start": 5.627000000000001,
            "count": 0
           },
           {
            "bin_end": 7.009,
            "bin_start": 6.3180000000000005,
            "count": 0
           },
           {
            "bin_end": 7.7,
            "bin_start": 7.009,
            "count": 1
           }
          ],
          "max": "7.7",
          "min": "0.79",
          "nan_count": 0,
          "unique_count": 5
         }
        },
        {
         "dtype": "float64",
         "name": "fare",
         "stats": {
          "histogram": [
           {
            "bin_end": 7.2,
            "bin_start": 5,
            "count": 2
           },
           {
            "bin_end": 9.4,
            "bin_start": 7.2,
            "count": 2
           },
           {
            "bin_end": 11.600000000000001,
            "bin_start": 9.4,
            "count": 0
           },
           {
            "bin_end": 13.8,
            "bin_start": 11.600000000000001,
            "count": 0
           },
           {
            "bin_end": 16,
            "bin_start": 13.8,
            "count": 0
           },
           {
            "bin_end": 18.200000000000003,
            "bin_start": 16,
            "count": 0
           },
           {
            "bin_end": 20.400000000000002,
            "bin_start": 18.200000000000003,
            "count": 0
           },
           {
            "bin_end": 22.6,
            "bin_start": 20.400000000000002,
            "count": 0
           },
           {
            "bin_end": 24.8,
            "bin_start": 22.6,
            "count": 0
           },
           {
            "bin_end": 27,
            "bin_start": 24.8,
            "count": 1
           }
          ],
          "max": "27.0",
          "min": "5.0",
          "nan_count": 0,
          "unique_count": 5
         }
        },
        {
         "dtype": "float64",
         "name": "tip",
         "stats": {
          "histogram": [
           {
            "bin_end": 0.615,
            "bin_start": 0,
            "count": 1
           },
           {
            "bin_end": 1.23,
            "bin_start": 0.615,
            "count": 1
           },
           {
            "bin_end": 1.845,
            "bin_start": 1.23,
            "count": 0
           },
           {
            "bin_end": 2.46,
            "bin_start": 1.845,
            "count": 2
           },
           {
            "bin_end": 3.075,
            "bin_start": 2.46,
            "count": 0
           },
           {
            "bin_end": 3.69,
            "bin_start": 3.075,
            "count": 0
           },
           {
            "bin_end": 4.305,
            "bin_start": 3.69,
            "count": 0
           },
           {
            "bin_end": 4.92,
            "bin_start": 4.305,
            "count": 0
           },
           {
            "bin_end": 5.535,
            "bin_start": 4.92,
            "count": 0
           },
           {
            "bin_end": 6.15,
            "bin_start": 5.535,
            "count": 1
           }
          ],
          "max": "6.15",
          "min": "0.0",
          "nan_count": 0,
          "unique_count": 5
         }
        },
        {
         "dtype": "float64",
         "name": "tolls",
         "stats": {
          "histogram": [
           {
            "bin_end": -0.4,
            "bin_start": -0.5,
            "count": 0
           },
           {
            "bin_end": -0.3,
            "bin_start": -0.4,
            "count": 0
           },
           {
            "bin_end": -0.19999999999999996,
            "bin_start": -0.3,
            "count": 0
           },
           {
            "bin_end": -0.09999999999999998,
            "bin_start": -0.19999999999999996,
            "count": 0
           },
           {
            "bin_end": 0,
            "bin_start": -0.09999999999999998,
            "count": 0
           },
           {
            "bin_end": 0.10000000000000009,
            "bin_start": 0,
            "count": 5
           },
           {
            "bin_end": 0.20000000000000007,
            "bin_start": 0.10000000000000009,
            "count": 0
           },
           {
            "bin_end": 0.30000000000000004,
            "bin_start": 0.20000000000000007,
            "count": 0
           },
           {
            "bin_end": 0.4,
            "bin_start": 0.30000000000000004,
            "count": 0
           },
           {
            "bin_end": 0.5,
            "bin_start": 0.4,
            "count": 0
           }
          ],
          "max": "0.0",
          "min": "0.0",
          "nan_count": 0,
          "unique_count": 1
         }
        },
        {
         "dtype": "float64",
         "name": "total",
         "stats": {
          "histogram": [
           {
            "bin_end": 12.065000000000001,
            "bin_start": 9.3,
            "count": 1
           },
           {
            "bin_end": 14.830000000000002,
            "bin_start": 12.065000000000001,
            "count": 3
           },
           {
            "bin_end": 17.595,
            "bin_start": 14.830000000000002,
            "count": 0
           },
           {
            "bin_end": 20.36,
            "bin_start": 17.595,
            "count": 0
           },
           {
            "bin_end": 23.125,
            "bin_start": 20.36,
            "count": 0
           },
           {
            "bin_end": 25.89,
            "bin_start": 23.125,
            "count": 0
           },
           {
            "bin_end": 28.655,
            "bin_start": 25.89,
            "count": 0
           },
           {
            "bin_end": 31.42,
            "bin_start": 28.655,
            "count": 0
           },
           {
            "bin_end": 34.185,
            "bin_start": 31.42,
            "count": 0
           },
           {
            "bin_end": 36.95,
            "bin_start": 34.185,
            "count": 1
           }
          ],
          "max": "36.95",
          "min": "9.3",
          "nan_count": 0,
          "unique_count": 5
         }
        },
        {
         "dtype": "object",
         "name": "color",
         "stats": {
          "categories": [
           {
            "count": 5,
            "name": "yellow"
           }
          ],
          "nan_count": 0,
          "unique_count": 1
         }
        },
        {
         "dtype": "object",
         "name": "payment",
         "stats": {
          "categories": [
           {
            "count": 4,
            "name": "credit card"
           },
           {
            "count": 1,
            "name": "cash"
           }
          ],
          "nan_count": 0,
          "unique_count": 2
         }
        },
        {
         "dtype": "object",
         "name": "pickup_zone",
         "stats": {
          "categories": [
           {
            "count": 1,
            "name": "Lenox Hill West"
           },
           {
            "count": 1,
            "name": "Upper West Side South"
           },
           {
            "count": 3,
            "name": "3 others"
           }
          ],
          "nan_count": 0,
          "unique_count": 5
         }
        },
        {
         "dtype": "object",
         "name": "dropoff_zone",
         "stats": {
          "categories": [
           {
            "count": 2,
            "name": "Yorkville West"
           },
           {
            "count": 1,
            "name": "UN/Turtle Bay South"
           },
           {
            "count": 2,
            "name": "2 others"
           }
          ],
          "nan_count": 0,
          "unique_count": 4
         }
        },
        {
         "dtype": "object",
         "name": "pickup_borough",
         "stats": {
          "categories": [
           {
            "count": 5,
            "name": "Manhattan"
           }
          ],
          "nan_count": 0,
          "unique_count": 1
         }
        },
        {
         "dtype": "object",
         "name": "dropoff_borough",
         "stats": {
          "categories": [
           {
            "count": 5,
            "name": "Manhattan"
           }
          ],
          "nan_count": 0,
          "unique_count": 1
         }
        },
        {
         "dtype": "int64",
         "name": "_deepnote_index_column"
        }
       ],
       "row_count": 5,
       "rows": [
        {
         "_deepnote_index_column": 0,
         "color": "yellow",
         "distance": 1.6,
         "dropoff": "2019-03-23 20:27:24",
         "dropoff_borough": "Manhattan",
         "dropoff_zone": "UN/Turtle Bay South",
         "fare": 7,
         "passengers": 1,
         "payment": "credit card",
         "pickup": "2019-03-23 20:21:09",
         "pickup_borough": "Manhattan",
         "pickup_zone": "Lenox Hill West",
         "tip": 2.15,
         "tolls": 0,
         "total": 12.95
        },
        {
         "_deepnote_index_column": 1,
         "color": "yellow",
         "distance": 0.79,
         "dropoff": "2019-03-04 16:19:00",
         "dropoff_borough": "Manhattan",
         "dropoff_zone": "Upper West Side South",
         "fare": 5,
         "passengers": 1,
         "payment": "cash",
         "pickup": "2019-03-04 16:11:55",
         "pickup_borough": "Manhattan",
         "pickup_zone": "Upper West Side South",
         "tip": 0,
         "tolls": 0,
         "total": 9.3
        },
        {
         "_deepnote_index_column": 2,
         "color": "yellow",
         "distance": 1.37,
         "dropoff": "2019-03-27 18:00:25",
         "dropoff_borough": "Manhattan",
         "dropoff_zone": "West Village",
         "fare": 7.5,
         "passengers": 1,
         "payment": "credit card",
         "pickup": "2019-03-27 17:53:01",
         "pickup_borough": "Manhattan",
         "pickup_zone": "Alphabet City",
         "tip": 2.36,
         "tolls": 0,
         "total": 14.16
        },
        {
         "_deepnote_index_column": 3,
         "color": "yellow",
         "distance": 7.7,
         "dropoff": "2019-03-10 01:49:51",
         "dropoff_borough": "Manhattan",
         "dropoff_zone": "Yorkville West",
         "fare": 27,
         "passengers": 1,
         "payment": "credit card",
         "pickup": "2019-03-10 01:23:59",
         "pickup_borough": "Manhattan",
         "pickup_zone": "Hudson Sq",
         "tip": 6.15,
         "tolls": 0,
         "total": 36.95
        },
        {
         "_deepnote_index_column": 4,
         "color": "yellow",
         "distance": 2.16,
         "dropoff": "2019-03-30 13:37:14",
         "dropoff_borough": "Manhattan",
         "dropoff_zone": "Yorkville West",
         "fare": 9,
         "passengers": 3,
         "payment": "credit card",
         "pickup": "2019-03-30 13:27:42",
         "pickup_borough": "Manhattan",
         "pickup_zone": "Midtown East",
         "tip": 1.1,
         "tolls": 0,
         "total": 13.4
        }
       ]
      },
      "text/html": [
       "<div>\n",
       "<style scoped>\n",
       "    .dataframe tbody tr th:only-of-type {\n",
       "        vertical-align: middle;\n",
       "    }\n",
       "\n",
       "    .dataframe tbody tr th {\n",
       "        vertical-align: top;\n",
       "    }\n",
       "\n",
       "    .dataframe thead th {\n",
       "        text-align: right;\n",
       "    }\n",
       "</style>\n",
       "<table border=\"1\" class=\"dataframe\">\n",
       "  <thead>\n",
       "    <tr style=\"text-align: right;\">\n",
       "      <th></th>\n",
       "      <th>pickup</th>\n",
       "      <th>dropoff</th>\n",
       "      <th>passengers</th>\n",
       "      <th>distance</th>\n",
       "      <th>fare</th>\n",
       "      <th>tip</th>\n",
       "      <th>tolls</th>\n",
       "      <th>total</th>\n",
       "      <th>color</th>\n",
       "      <th>payment</th>\n",
       "      <th>pickup_zone</th>\n",
       "      <th>dropoff_zone</th>\n",
       "      <th>pickup_borough</th>\n",
       "      <th>dropoff_borough</th>\n",
       "    </tr>\n",
       "  </thead>\n",
       "  <tbody>\n",
       "    <tr>\n",
       "      <th>0</th>\n",
       "      <td>2019-03-23 20:21:09</td>\n",
       "      <td>2019-03-23 20:27:24</td>\n",
       "      <td>1</td>\n",
       "      <td>1.60</td>\n",
       "      <td>7.0</td>\n",
       "      <td>2.15</td>\n",
       "      <td>0.0</td>\n",
       "      <td>12.95</td>\n",
       "      <td>yellow</td>\n",
       "      <td>credit card</td>\n",
       "      <td>Lenox Hill West</td>\n",
       "      <td>UN/Turtle Bay South</td>\n",
       "      <td>Manhattan</td>\n",
       "      <td>Manhattan</td>\n",
       "    </tr>\n",
       "    <tr>\n",
       "      <th>1</th>\n",
       "      <td>2019-03-04 16:11:55</td>\n",
       "      <td>2019-03-04 16:19:00</td>\n",
       "      <td>1</td>\n",
       "      <td>0.79</td>\n",
       "      <td>5.0</td>\n",
       "      <td>0.00</td>\n",
       "      <td>0.0</td>\n",
       "      <td>9.30</td>\n",
       "      <td>yellow</td>\n",
       "      <td>cash</td>\n",
       "      <td>Upper West Side South</td>\n",
       "      <td>Upper West Side South</td>\n",
       "      <td>Manhattan</td>\n",
       "      <td>Manhattan</td>\n",
       "    </tr>\n",
       "    <tr>\n",
       "      <th>2</th>\n",
       "      <td>2019-03-27 17:53:01</td>\n",
       "      <td>2019-03-27 18:00:25</td>\n",
       "      <td>1</td>\n",
       "      <td>1.37</td>\n",
       "      <td>7.5</td>\n",
       "      <td>2.36</td>\n",
       "      <td>0.0</td>\n",
       "      <td>14.16</td>\n",
       "      <td>yellow</td>\n",
       "      <td>credit card</td>\n",
       "      <td>Alphabet City</td>\n",
       "      <td>West Village</td>\n",
       "      <td>Manhattan</td>\n",
       "      <td>Manhattan</td>\n",
       "    </tr>\n",
       "    <tr>\n",
       "      <th>3</th>\n",
       "      <td>2019-03-10 01:23:59</td>\n",
       "      <td>2019-03-10 01:49:51</td>\n",
       "      <td>1</td>\n",
       "      <td>7.70</td>\n",
       "      <td>27.0</td>\n",
       "      <td>6.15</td>\n",
       "      <td>0.0</td>\n",
       "      <td>36.95</td>\n",
       "      <td>yellow</td>\n",
       "      <td>credit card</td>\n",
       "      <td>Hudson Sq</td>\n",
       "      <td>Yorkville West</td>\n",
       "      <td>Manhattan</td>\n",
       "      <td>Manhattan</td>\n",
       "    </tr>\n",
       "    <tr>\n",
       "      <th>4</th>\n",
       "      <td>2019-03-30 13:27:42</td>\n",
       "      <td>2019-03-30 13:37:14</td>\n",
       "      <td>3</td>\n",
       "      <td>2.16</td>\n",
       "      <td>9.0</td>\n",
       "      <td>1.10</td>\n",
       "      <td>0.0</td>\n",
       "      <td>13.40</td>\n",
       "      <td>yellow</td>\n",
       "      <td>credit card</td>\n",
       "      <td>Midtown East</td>\n",
       "      <td>Yorkville West</td>\n",
       "      <td>Manhattan</td>\n",
       "      <td>Manhattan</td>\n",
       "    </tr>\n",
       "  </tbody>\n",
       "</table>\n",
       "</div>"
      ],
      "text/plain": [
       "                pickup              dropoff  passengers  distance  fare   tip  \\\n",
       "0  2019-03-23 20:21:09  2019-03-23 20:27:24           1      1.60   7.0  2.15   \n",
       "1  2019-03-04 16:11:55  2019-03-04 16:19:00           1      0.79   5.0  0.00   \n",
       "2  2019-03-27 17:53:01  2019-03-27 18:00:25           1      1.37   7.5  2.36   \n",
       "3  2019-03-10 01:23:59  2019-03-10 01:49:51           1      7.70  27.0  6.15   \n",
       "4  2019-03-30 13:27:42  2019-03-30 13:37:14           3      2.16   9.0  1.10   \n",
       "\n",
       "   tolls  total   color      payment            pickup_zone  \\\n",
       "0    0.0  12.95  yellow  credit card        Lenox Hill West   \n",
       "1    0.0   9.30  yellow         cash  Upper West Side South   \n",
       "2    0.0  14.16  yellow  credit card          Alphabet City   \n",
       "3    0.0  36.95  yellow  credit card              Hudson Sq   \n",
       "4    0.0  13.40  yellow  credit card           Midtown East   \n",
       "\n",
       "            dropoff_zone pickup_borough dropoff_borough  \n",
       "0    UN/Turtle Bay South      Manhattan       Manhattan  \n",
       "1  Upper West Side South      Manhattan       Manhattan  \n",
       "2           West Village      Manhattan       Manhattan  \n",
       "3         Yorkville West      Manhattan       Manhattan  \n",
       "4         Yorkville West      Manhattan       Manhattan  "
      ]
     },
     "execution_count": 50,
     "metadata": {},
     "output_type": "execute_result"
    }
   ],
   "source": [
    "#If I don't specify a number, it will give me the first 5 rows\n",
    "df.head()"
   ]
  },
  {
   "cell_type": "markdown",
   "metadata": {
    "cell_id": "0fe2d616598d4393bcacc7a066a4418c",
    "deepnote_cell_type": "markdown"
   },
   "source": [
    "`head()` is good for seeing what kinds of data are included in our DataFrame. However, we might be worried that certain values are all clustered in the beginning, leading us to make incorrect assumptions about the data. What if we wanted a more random sampling?"
   ]
  },
  {
   "cell_type": "markdown",
   "metadata": {
    "cell_id": "19d895e8090349af91459ac1ca5147ef",
    "deepnote_cell_type": "markdown"
   },
   "source": [
    "* The `sample` method; similar to `head`, but returns a random selection of rows (could be out of order)"
   ]
  },
  {
   "cell_type": "code",
   "execution_count": null,
   "metadata": {
    "cell_id": "2ee09f9f5e7f47b5aade9bdd3cede366",
    "deepnote_cell_type": "code",
    "deepnote_to_be_reexecuted": false,
    "execution_millis": 178,
    "execution_start": 1691785206056,
    "source_hash": null
   },
   "outputs": [
    {
     "data": {
      "application/vnd.deepnote.dataframe.v3+json": {
       "column_count": 14,
       "columns": [
        {
         "dtype": "object",
         "name": "pickup",
         "stats": {
          "categories": [
           {
            "count": 1,
            "name": "2019-03-06 10:00:44"
           },
           {
            "count": 1,
            "name": "2019-03-11 14:51:12"
           },
           {
            "count": 1,
            "name": "2019-03-01 21:08:12"
           }
          ],
          "nan_count": 0,
          "unique_count": 3
         }
        },
        {
         "dtype": "object",
         "name": "dropoff",
         "stats": {
          "categories": [
           {
            "count": 1,
            "name": "2019-03-06 10:32:14"
           },
           {
            "count": 1,
            "name": "2019-03-11 15:08:55"
           },
           {
            "count": 1,
            "name": "2019-03-01 21:22:33"
           }
          ],
          "nan_count": 0,
          "unique_count": 3
         }
        },
        {
         "dtype": "int64",
         "name": "passengers",
         "stats": {
          "histogram": [
           {
            "bin_end": 3.3,
            "bin_start": 3,
            "count": 1
           },
           {
            "bin_end": 3.6,
            "bin_start": 3.3,
            "count": 0
           },
           {
            "bin_end": 3.9,
            "bin_start": 3.6,
            "count": 0
           },
           {
            "bin_end": 4.2,
            "bin_start": 3.9,
            "count": 0
           },
           {
            "bin_end": 4.5,
            "bin_start": 4.2,
            "count": 0
           },
           {
            "bin_end": 4.8,
            "bin_start": 4.5,
            "count": 0
           },
           {
            "bin_end": 5.1,
            "bin_start": 4.8,
            "count": 0
           },
           {
            "bin_end": 5.4,
            "bin_start": 5.1,
            "count": 0
           },
           {
            "bin_end": 5.699999999999999,
            "bin_start": 5.4,
            "count": 0
           },
           {
            "bin_end": 6,
            "bin_start": 5.699999999999999,
            "count": 2
           }
          ],
          "max": "6",
          "min": "3",
          "nan_count": 0,
          "unique_count": 2
         }
        },
        {
         "dtype": "float64",
         "name": "distance",
         "stats": {
          "histogram": [
           {
            "bin_end": 2.245,
            "bin_start": 1.74,
            "count": 1
           },
           {
            "bin_end": 2.75,
            "bin_start": 2.245,
            "count": 1
           },
           {
            "bin_end": 3.255,
            "bin_start": 2.75,
            "count": 0
           },
           {
            "bin_end": 3.76,
            "bin_start": 3.255,
            "count": 0
           },
           {
            "bin_end": 4.265,
            "bin_start": 3.76,
            "count": 0
           },
           {
            "bin_end": 4.7700000000000005,
            "bin_start": 4.265,
            "count": 0
           },
           {
            "bin_end": 5.275,
            "bin_start": 4.7700000000000005,
            "count": 0
           },
           {
            "bin_end": 5.78,
            "bin_start": 5.275,
            "count": 0
           },
           {
            "bin_end": 6.285,
            "bin_start": 5.78,
            "count": 0
           },
           {
            "bin_end": 6.79,
            "bin_start": 6.285,
            "count": 1
           }
          ],
          "max": "6.79",
          "min": "1.74",
          "nan_count": 0,
          "unique_count": 3
         }
        },
        {
         "dtype": "float64",
         "name": "fare",
         "stats": {
          "histogram": [
           {
            "bin_end": 12.35,
            "bin_start": 11,
            "count": 2
           },
           {
            "bin_end": 13.7,
            "bin_start": 12.35,
            "count": 0
           },
           {
            "bin_end": 15.05,
            "bin_start": 13.7,
            "count": 0
           },
           {
            "bin_end": 16.4,
            "bin_start": 15.05,
            "count": 0
           },
           {
            "bin_end": 17.75,
            "bin_start": 16.4,
            "count": 0
           },
           {
            "bin_end": 19.1,
            "bin_start": 17.75,
            "count": 0
           },
           {
            "bin_end": 20.450000000000003,
            "bin_start": 19.1,
            "count": 0
           },
           {
            "bin_end": 21.8,
            "bin_start": 20.450000000000003,
            "count": 0
           },
           {
            "bin_end": 23.15,
            "bin_start": 21.8,
            "count": 0
           },
           {
            "bin_end": 24.5,
            "bin_start": 23.15,
            "count": 1
           }
          ],
          "max": "24.5",
          "min": "11.0",
          "nan_count": 0,
          "unique_count": 3
         }
        },
        {
         "dtype": "float64",
         "name": "tip",
         "stats": {
          "histogram": [
           {
            "bin_end": 0.296,
            "bin_start": 0,
            "count": 1
           },
           {
            "bin_end": 0.592,
            "bin_start": 0.296,
            "count": 0
           },
           {
            "bin_end": 0.8879999999999999,
            "bin_start": 0.592,
            "count": 0
           },
           {
            "bin_end": 1.184,
            "bin_start": 0.8879999999999999,
            "count": 0
           },
           {
            "bin_end": 1.48,
            "bin_start": 1.184,
            "count": 0
           },
           {
            "bin_end": 1.7759999999999998,
            "bin_start": 1.48,
            "count": 0
           },
           {
            "bin_end": 2.072,
            "bin_start": 1.7759999999999998,
            "count": 0
           },
           {
            "bin_end": 2.368,
            "bin_start": 2.072,
            "count": 0
           },
           {
            "bin_end": 2.6639999999999997,
            "bin_start": 2.368,
            "count": 0
           },
           {
            "bin_end": 2.96,
            "bin_start": 2.6639999999999997,
            "count": 2
           }
          ],
          "max": "2.96",
          "min": "0.0",
          "nan_count": 0,
          "unique_count": 2
         }
        },
        {
         "dtype": "float64",
         "name": "tolls",
         "stats": {
          "histogram": [
           {
            "bin_end": -0.4,
            "bin_start": -0.5,
            "count": 0
           },
           {
            "bin_end": -0.3,
            "bin_start": -0.4,
            "count": 0
           },
           {
            "bin_end": -0.19999999999999996,
            "bin_start": -0.3,
            "count": 0
           },
           {
            "bin_end": -0.09999999999999998,
            "bin_start": -0.19999999999999996,
            "count": 0
           },
           {
            "bin_end": 0,
            "bin_start": -0.09999999999999998,
            "count": 0
           },
           {
            "bin_end": 0.10000000000000009,
            "bin_start": 0,
            "count": 3
           },
           {
            "bin_end": 0.20000000000000007,
            "bin_start": 0.10000000000000009,
            "count": 0
           },
           {
            "bin_end": 0.30000000000000004,
            "bin_start": 0.20000000000000007,
            "count": 0
           },
           {
            "bin_end": 0.4,
            "bin_start": 0.30000000000000004,
            "count": 0
           },
           {
            "bin_end": 0.5,
            "bin_start": 0.4,
            "count": 0
           }
          ],
          "max": "0.0",
          "min": "0.0",
          "nan_count": 0,
          "unique_count": 1
         }
        },
        {
         "dtype": "float64",
         "name": "total",
         "stats": {
          "histogram": [
           {
            "bin_end": 18.764000000000003,
            "bin_start": 17.76,
            "count": 2
           },
           {
            "bin_end": 19.768,
            "bin_start": 18.764000000000003,
            "count": 0
           },
           {
            "bin_end": 20.772000000000002,
            "bin_start": 19.768,
            "count": 0
           },
           {
            "bin_end": 21.776000000000003,
            "bin_start": 20.772000000000002,
            "count": 0
           },
           {
            "bin_end": 22.78,
            "bin_start": 21.776000000000003,
            "count": 0
           },
           {
            "bin_end": 23.784000000000002,
            "bin_start": 22.78,
            "count": 0
           },
           {
            "bin_end": 24.788000000000004,
            "bin_start": 23.784000000000002,
            "count": 0
           },
           {
            "bin_end": 25.792,
            "bin_start": 24.788000000000004,
            "count": 0
           },
           {
            "bin_end": 26.796,
            "bin_start": 25.792,
            "count": 0
           },
           {
            "bin_end": 27.8,
            "bin_start": 26.796,
            "count": 1
           }
          ],
          "max": "27.8",
          "min": "17.76",
          "nan_count": 0,
          "unique_count": 2
         }
        },
        {
         "dtype": "object",
         "name": "color",
         "stats": {
          "categories": [
           {
            "count": 3,
            "name": "yellow"
           }
          ],
          "nan_count": 0,
          "unique_count": 1
         }
        },
        {
         "dtype": "object",
         "name": "payment",
         "stats": {
          "categories": [
           {
            "count": 2,
            "name": "credit card"
           },
           {
            "count": 1,
            "name": "cash"
           }
          ],
          "nan_count": 0,
          "unique_count": 2
         }
        },
        {
         "dtype": "object",
         "name": "pickup_zone",
         "stats": {
          "categories": [
           {
            "count": 1,
            "name": "Upper West Side North"
           },
           {
            "count": 1,
            "name": "Central Park"
           },
           {
            "count": 1,
            "name": "Times Sq/Theatre District"
           }
          ],
          "nan_count": 0,
          "unique_count": 3
         }
        },
        {
         "dtype": "object",
         "name": "dropoff_zone",
         "stats": {
          "categories": [
           {
            "count": 1,
            "name": "Battery Park City"
           },
           {
            "count": 1,
            "name": "Clinton East"
           },
           {
            "count": 1,
            "name": "Gramercy"
           }
          ],
          "nan_count": 0,
          "unique_count": 3
         }
        },
        {
         "dtype": "object",
         "name": "pickup_borough",
         "stats": {
          "categories": [
           {
            "count": 3,
            "name": "Manhattan"
           }
          ],
          "nan_count": 0,
          "unique_count": 1
         }
        },
        {
         "dtype": "object",
         "name": "dropoff_borough",
         "stats": {
          "categories": [
           {
            "count": 3,
            "name": "Manhattan"
           }
          ],
          "nan_count": 0,
          "unique_count": 1
         }
        },
        {
         "dtype": "int64",
         "name": "_deepnote_index_column"
        }
       ],
       "row_count": 3,
       "rows": [
        {
         "_deepnote_index_column": 5092,
         "color": "yellow",
         "distance": 6.79,
         "dropoff": "2019-03-06 10:32:14",
         "dropoff_borough": "Manhattan",
         "dropoff_zone": "Battery Park City",
         "fare": 24.5,
         "passengers": 3,
         "payment": "cash",
         "pickup": "2019-03-06 10:00:44",
         "pickup_borough": "Manhattan",
         "pickup_zone": "Upper West Side North",
         "tip": 0,
         "tolls": 0,
         "total": 27.8
        },
        {
         "_deepnote_index_column": 1642,
         "color": "yellow",
         "distance": 1.74,
         "dropoff": "2019-03-11 15:08:55",
         "dropoff_borough": "Manhattan",
         "dropoff_zone": "Clinton East",
         "fare": 11.5,
         "passengers": 6,
         "payment": "credit card",
         "pickup": "2019-03-11 14:51:12",
         "pickup_borough": "Manhattan",
         "pickup_zone": "Central Park",
         "tip": 2.96,
         "tolls": 0,
         "total": 17.76
        },
        {
         "_deepnote_index_column": 4949,
         "color": "yellow",
         "distance": 2.38,
         "dropoff": "2019-03-01 21:22:33",
         "dropoff_borough": "Manhattan",
         "dropoff_zone": "Gramercy",
         "fare": 11,
         "passengers": 6,
         "payment": "credit card",
         "pickup": "2019-03-01 21:08:12",
         "pickup_borough": "Manhattan",
         "pickup_zone": "Times Sq/Theatre District",
         "tip": 2.96,
         "tolls": 0,
         "total": 17.76
        }
       ]
      },
      "text/html": [
       "<div>\n",
       "<style scoped>\n",
       "    .dataframe tbody tr th:only-of-type {\n",
       "        vertical-align: middle;\n",
       "    }\n",
       "\n",
       "    .dataframe tbody tr th {\n",
       "        vertical-align: top;\n",
       "    }\n",
       "\n",
       "    .dataframe thead th {\n",
       "        text-align: right;\n",
       "    }\n",
       "</style>\n",
       "<table border=\"1\" class=\"dataframe\">\n",
       "  <thead>\n",
       "    <tr style=\"text-align: right;\">\n",
       "      <th></th>\n",
       "      <th>pickup</th>\n",
       "      <th>dropoff</th>\n",
       "      <th>passengers</th>\n",
       "      <th>distance</th>\n",
       "      <th>fare</th>\n",
       "      <th>tip</th>\n",
       "      <th>tolls</th>\n",
       "      <th>total</th>\n",
       "      <th>color</th>\n",
       "      <th>payment</th>\n",
       "      <th>pickup_zone</th>\n",
       "      <th>dropoff_zone</th>\n",
       "      <th>pickup_borough</th>\n",
       "      <th>dropoff_borough</th>\n",
       "    </tr>\n",
       "  </thead>\n",
       "  <tbody>\n",
       "    <tr>\n",
       "      <th>5092</th>\n",
       "      <td>2019-03-06 10:00:44</td>\n",
       "      <td>2019-03-06 10:32:14</td>\n",
       "      <td>3</td>\n",
       "      <td>6.79</td>\n",
       "      <td>24.5</td>\n",
       "      <td>0.00</td>\n",
       "      <td>0.0</td>\n",
       "      <td>27.80</td>\n",
       "      <td>yellow</td>\n",
       "      <td>cash</td>\n",
       "      <td>Upper West Side North</td>\n",
       "      <td>Battery Park City</td>\n",
       "      <td>Manhattan</td>\n",
       "      <td>Manhattan</td>\n",
       "    </tr>\n",
       "    <tr>\n",
       "      <th>1642</th>\n",
       "      <td>2019-03-11 14:51:12</td>\n",
       "      <td>2019-03-11 15:08:55</td>\n",
       "      <td>6</td>\n",
       "      <td>1.74</td>\n",
       "      <td>11.5</td>\n",
       "      <td>2.96</td>\n",
       "      <td>0.0</td>\n",
       "      <td>17.76</td>\n",
       "      <td>yellow</td>\n",
       "      <td>credit card</td>\n",
       "      <td>Central Park</td>\n",
       "      <td>Clinton East</td>\n",
       "      <td>Manhattan</td>\n",
       "      <td>Manhattan</td>\n",
       "    </tr>\n",
       "    <tr>\n",
       "      <th>4949</th>\n",
       "      <td>2019-03-01 21:08:12</td>\n",
       "      <td>2019-03-01 21:22:33</td>\n",
       "      <td>6</td>\n",
       "      <td>2.38</td>\n",
       "      <td>11.0</td>\n",
       "      <td>2.96</td>\n",
       "      <td>0.0</td>\n",
       "      <td>17.76</td>\n",
       "      <td>yellow</td>\n",
       "      <td>credit card</td>\n",
       "      <td>Times Sq/Theatre District</td>\n",
       "      <td>Gramercy</td>\n",
       "      <td>Manhattan</td>\n",
       "      <td>Manhattan</td>\n",
       "    </tr>\n",
       "  </tbody>\n",
       "</table>\n",
       "</div>"
      ],
      "text/plain": [
       "                   pickup              dropoff  passengers  distance  fare  \\\n",
       "5092  2019-03-06 10:00:44  2019-03-06 10:32:14           3      6.79  24.5   \n",
       "1642  2019-03-11 14:51:12  2019-03-11 15:08:55           6      1.74  11.5   \n",
       "4949  2019-03-01 21:08:12  2019-03-01 21:22:33           6      2.38  11.0   \n",
       "\n",
       "       tip  tolls  total   color      payment                pickup_zone  \\\n",
       "5092  0.00    0.0  27.80  yellow         cash      Upper West Side North   \n",
       "1642  2.96    0.0  17.76  yellow  credit card               Central Park   \n",
       "4949  2.96    0.0  17.76  yellow  credit card  Times Sq/Theatre District   \n",
       "\n",
       "           dropoff_zone pickup_borough dropoff_borough  \n",
       "5092  Battery Park City      Manhattan       Manhattan  \n",
       "1642       Clinton East      Manhattan       Manhattan  \n",
       "4949           Gramercy      Manhattan       Manhattan  "
      ]
     },
     "execution_count": 51,
     "metadata": {},
     "output_type": "execute_result"
    }
   ],
   "source": [
    "df.sample(3)"
   ]
  },
  {
   "cell_type": "markdown",
   "metadata": {
    "cell_id": "229ce3577697499e89e75046f4972069",
    "deepnote_cell_type": "markdown"
   },
   "source": [
    "* `info` method"
   ]
  },
  {
   "cell_type": "code",
   "execution_count": null,
   "metadata": {
    "cell_id": "a753879e677744da9b42f8ed7d50792d",
    "deepnote_cell_type": "code",
    "deepnote_to_be_reexecuted": false,
    "execution_millis": 10,
    "execution_start": 1691785293139,
    "source_hash": null
   },
   "outputs": [
    {
     "name": "stdout",
     "output_type": "stream",
     "text": [
      "<class 'pandas.core.frame.DataFrame'>\n",
      "RangeIndex: 6433 entries, 0 to 6432\n",
      "Data columns (total 14 columns):\n",
      " #   Column           Non-Null Count  Dtype  \n",
      "---  ------           --------------  -----  \n",
      " 0   pickup           6433 non-null   object \n",
      " 1   dropoff          6433 non-null   object \n",
      " 2   passengers       6433 non-null   int64  \n",
      " 3   distance         6433 non-null   float64\n",
      " 4   fare             6433 non-null   float64\n",
      " 5   tip              6433 non-null   float64\n",
      " 6   tolls            6433 non-null   float64\n",
      " 7   total            6433 non-null   float64\n",
      " 8   color            6433 non-null   object \n",
      " 9   payment          6389 non-null   object \n",
      " 10  pickup_zone      6407 non-null   object \n",
      " 11  dropoff_zone     6388 non-null   object \n",
      " 12  pickup_borough   6407 non-null   object \n",
      " 13  dropoff_borough  6388 non-null   object \n",
      "dtypes: float64(5), int64(1), object(8)\n",
      "memory usage: 703.7+ KB\n"
     ]
    }
   ],
   "source": [
    "df.info()"
   ]
  },
  {
   "cell_type": "markdown",
   "metadata": {
    "cell_id": "ea714c4ac4ed46d8b3b4f2cb95f14a31",
    "deepnote_cell_type": "markdown"
   },
   "source": [
    "Missing values and how to deal with them is a large problem in data science. It will also be a topic of further study in Math 10."
   ]
  },
  {
   "cell_type": "markdown",
   "metadata": {
    "cell_id": "b9c1686e022a47deaa8d19cea0dbfa93",
    "deepnote_cell_type": "markdown"
   },
   "source": [
    "From this data, I can infer that there are 44 missing values in the \"payment\" column."
   ]
  },
  {
   "cell_type": "code",
   "execution_count": null,
   "metadata": {
    "cell_id": "5cf29361f8364e1a9fee199925d01ce3",
    "deepnote_cell_type": "code",
    "deepnote_to_be_reexecuted": false,
    "execution_millis": 12,
    "execution_start": 1691785385724,
    "source_hash": null
   },
   "outputs": [
    {
     "data": {
      "text/plain": [
       "44"
      ]
     },
     "execution_count": 54,
     "metadata": {},
     "output_type": "execute_result"
    }
   ],
   "source": [
    "6433 - 6389"
   ]
  },
  {
   "cell_type": "markdown",
   "metadata": {
    "cell_id": "434be9df8a5d4743be16aa220b3b13b2",
    "deepnote_cell_type": "markdown"
   },
   "source": [
    "* The method `describe`; similar to `info`, but it gives information about the distribution of numbers in the numeric columns."
   ]
  },
  {
   "cell_type": "code",
   "execution_count": null,
   "metadata": {
    "cell_id": "3ac690d0c3cf4a508df809cc03af507e",
    "deepnote_cell_type": "code",
    "deepnote_to_be_reexecuted": false,
    "execution_millis": 526,
    "execution_start": 1691785474116,
    "source_hash": null
   },
   "outputs": [
    {
     "data": {
      "application/vnd.deepnote.dataframe.v3+json": {
       "column_count": 6,
       "columns": [
        {
         "dtype": "float64",
         "name": "passengers",
         "stats": {
          "histogram": [
           {
            "bin_end": 643.3,
            "bin_start": 0,
            "count": 7
           },
           {
            "bin_end": 1286.6,
            "bin_start": 643.3,
            "count": 0
           },
           {
            "bin_end": 1929.8999999999999,
            "bin_start": 1286.6,
            "count": 0
           },
           {
            "bin_end": 2573.2,
            "bin_start": 1929.8999999999999,
            "count": 0
           },
           {
            "bin_end": 3216.5,
            "bin_start": 2573.2,
            "count": 0
           },
           {
            "bin_end": 3859.7999999999997,
            "bin_start": 3216.5,
            "count": 0
           },
           {
            "bin_end": 4503.099999999999,
            "bin_start": 3859.7999999999997,
            "count": 0
           },
           {
            "bin_end": 5146.4,
            "bin_start": 4503.099999999999,
            "count": 0
           },
           {
            "bin_end": 5789.7,
            "bin_start": 5146.4,
            "count": 0
           },
           {
            "bin_end": 6433,
            "bin_start": 5789.7,
            "count": 1
           }
          ],
          "max": "6433.0",
          "min": "0.0",
          "nan_count": 0,
          "unique_count": 7
         }
        },
        {
         "dtype": "float64",
         "name": "distance",
         "stats": {
          "histogram": [
           {
            "bin_end": 643.3,
            "bin_start": 0,
            "count": 7
           },
           {
            "bin_end": 1286.6,
            "bin_start": 643.3,
            "count": 0
           },
           {
            "bin_end": 1929.8999999999999,
            "bin_start": 1286.6,
            "count": 0
           },
           {
            "bin_end": 2573.2,
            "bin_start": 1929.8999999999999,
            "count": 0
           },
           {
            "bin_end": 3216.5,
            "bin_start": 2573.2,
            "count": 0
           },
           {
            "bin_end": 3859.7999999999997,
            "bin_start": 3216.5,
            "count": 0
           },
           {
            "bin_end": 4503.099999999999,
            "bin_start": 3859.7999999999997,
            "count": 0
           },
           {
            "bin_end": 5146.4,
            "bin_start": 4503.099999999999,
            "count": 0
           },
           {
            "bin_end": 5789.7,
            "bin_start": 5146.4,
            "count": 0
           },
           {
            "bin_end": 6433,
            "bin_start": 5789.7,
            "count": 1
           }
          ],
          "max": "6433.0",
          "min": "0.0",
          "nan_count": 0,
          "unique_count": 8
         }
        },
        {
         "dtype": "float64",
         "name": "fare",
         "stats": {
          "histogram": [
           {
            "bin_end": 644.2,
            "bin_start": 1,
            "count": 7
           },
           {
            "bin_end": 1287.4,
            "bin_start": 644.2,
            "count": 0
           },
           {
            "bin_end": 1930.6000000000001,
            "bin_start": 1287.4,
            "count": 0
           },
           {
            "bin_end": 2573.8,
            "bin_start": 1930.6000000000001,
            "count": 0
           },
           {
            "bin_end": 3217,
            "bin_start": 2573.8,
            "count": 0
           },
           {
            "bin_end": 3860.2000000000003,
            "bin_start": 3217,
            "count": 0
           },
           {
            "bin_end": 4503.400000000001,
            "bin_start": 3860.2000000000003,
            "count": 0
           },
           {
            "bin_end": 5146.6,
            "bin_start": 4503.400000000001,
            "count": 0
           },
           {
            "bin_end": 5789.8,
            "bin_start": 5146.6,
            "count": 0
           },
           {
            "bin_end": 6433,
            "bin_start": 5789.8,
            "count": 1
           }
          ],
          "max": "6433.0",
          "min": "1.0",
          "nan_count": 0,
          "unique_count": 8
         }
        },
        {
         "dtype": "float64",
         "name": "tip",
         "stats": {
          "histogram": [
           {
            "bin_end": 643.3,
            "bin_start": 0,
            "count": 7
           },
           {
            "bin_end": 1286.6,
            "bin_start": 643.3,
            "count": 0
           },
           {
            "bin_end": 1929.8999999999999,
            "bin_start": 1286.6,
            "count": 0
           },
           {
            "bin_end": 2573.2,
            "bin_start": 1929.8999999999999,
            "count": 0
           },
           {
            "bin_end": 3216.5,
            "bin_start": 2573.2,
            "count": 0
           },
           {
            "bin_end": 3859.7999999999997,
            "bin_start": 3216.5,
            "count": 0
           },
           {
            "bin_end": 4503.099999999999,
            "bin_start": 3859.7999999999997,
            "count": 0
           },
           {
            "bin_end": 5146.4,
            "bin_start": 4503.099999999999,
            "count": 0
           },
           {
            "bin_end": 5789.7,
            "bin_start": 5146.4,
            "count": 0
           },
           {
            "bin_end": 6433,
            "bin_start": 5789.7,
            "count": 1
           }
          ],
          "max": "6433.0",
          "min": "0.0",
          "nan_count": 0,
          "unique_count": 7
         }
        },
        {
         "dtype": "float64",
         "name": "tolls",
         "stats": {
          "histogram": [
           {
            "bin_end": 643.3,
            "bin_start": 0,
            "count": 7
           },
           {
            "bin_end": 1286.6,
            "bin_start": 643.3,
            "count": 0
           },
           {
            "bin_end": 1929.8999999999999,
            "bin_start": 1286.6,
            "count": 0
           },
           {
            "bin_end": 2573.2,
            "bin_start": 1929.8999999999999,
            "count": 0
           },
           {
            "bin_end": 3216.5,
            "bin_start": 2573.2,
            "count": 0
           },
           {
            "bin_end": 3859.7999999999997,
            "bin_start": 3216.5,
            "count": 0
           },
           {
            "bin_end": 4503.099999999999,
            "bin_start": 3859.7999999999997,
            "count": 0
           },
           {
            "bin_end": 5146.4,
            "bin_start": 4503.099999999999,
            "count": 0
           },
           {
            "bin_end": 5789.7,
            "bin_start": 5146.4,
            "count": 0
           },
           {
            "bin_end": 6433,
            "bin_start": 5789.7,
            "count": 1
           }
          ],
          "max": "6433.0",
          "min": "0.0",
          "nan_count": 0,
          "unique_count": 5
         }
        },
        {
         "dtype": "float64",
         "name": "total",
         "stats": {
          "histogram": [
           {
            "bin_end": 644.4699999999999,
            "bin_start": 1.3,
            "count": 7
           },
           {
            "bin_end": 1287.6399999999999,
            "bin_start": 644.4699999999999,
            "count": 0
           },
           {
            "bin_end": 1930.8099999999997,
            "bin_start": 1287.6399999999999,
            "count": 0
           },
           {
            "bin_end": 2573.98,
            "bin_start": 1930.8099999999997,
            "count": 0
           },
           {
            "bin_end": 3217.15,
            "bin_start": 2573.98,
            "count": 0
           },
           {
            "bin_end": 3860.3199999999997,
            "bin_start": 3217.15,
            "count": 0
           },
           {
            "bin_end": 4503.49,
            "bin_start": 3860.3199999999997,
            "count": 0
           },
           {
            "bin_end": 5146.66,
            "bin_start": 4503.49,
            "count": 0
           },
           {
            "bin_end": 5789.83,
            "bin_start": 5146.66,
            "count": 0
           },
           {
            "bin_end": 6433,
            "bin_start": 5789.83,
            "count": 1
           }
          ],
          "max": "6433.0",
          "min": "1.3",
          "nan_count": 0,
          "unique_count": 8
         }
        },
        {
         "dtype": "object",
         "name": "_deepnote_index_column"
        }
       ],
       "row_count": 8,
       "rows": [
        {
         "_deepnote_index_column": "count",
         "distance": 6433,
         "fare": 6433,
         "passengers": 6433,
         "tip": 6433,
         "tolls": 6433,
         "total": 6433
        },
        {
         "_deepnote_index_column": "mean",
         "distance": 3.024616819524328,
         "fare": 13.091072594434944,
         "passengers": 1.539250738380227,
         "tip": 1.9792196486864604,
         "tolls": 0.3252728120628012,
         "total": 18.517794186227267
        },
        {
         "_deepnote_index_column": "std",
         "distance": 3.827867001011754,
         "fare": 11.551804266414893,
         "passengers": 1.203768129526622,
         "tip": 2.448559591636065,
         "tolls": 1.4152673297904557,
         "total": 13.815570041066861
        },
        {
         "_deepnote_index_column": "min",
         "distance": 0,
         "fare": 1,
         "passengers": 0,
         "tip": 0,
         "tolls": 0,
         "total": 1.3
        },
        {
         "_deepnote_index_column": "25%",
         "distance": 0.98,
         "fare": 6.5,
         "passengers": 1,
         "tip": 0,
         "tolls": 0,
         "total": 10.8
        },
        {
         "_deepnote_index_column": "50%",
         "distance": 1.64,
         "fare": 9.5,
         "passengers": 1,
         "tip": 1.7,
         "tolls": 0,
         "total": 14.16
        },
        {
         "_deepnote_index_column": "75%",
         "distance": 3.21,
         "fare": 15,
         "passengers": 2,
         "tip": 2.8,
         "tolls": 0,
         "total": 20.3
        },
        {
         "_deepnote_index_column": "max",
         "distance": 36.7,
         "fare": 150,
         "passengers": 6,
         "tip": 33.2,
         "tolls": 24.02,
         "total": 174.82
        }
       ]
      },
      "text/html": [
       "<div>\n",
       "<style scoped>\n",
       "    .dataframe tbody tr th:only-of-type {\n",
       "        vertical-align: middle;\n",
       "    }\n",
       "\n",
       "    .dataframe tbody tr th {\n",
       "        vertical-align: top;\n",
       "    }\n",
       "\n",
       "    .dataframe thead th {\n",
       "        text-align: right;\n",
       "    }\n",
       "</style>\n",
       "<table border=\"1\" class=\"dataframe\">\n",
       "  <thead>\n",
       "    <tr style=\"text-align: right;\">\n",
       "      <th></th>\n",
       "      <th>passengers</th>\n",
       "      <th>distance</th>\n",
       "      <th>fare</th>\n",
       "      <th>tip</th>\n",
       "      <th>tolls</th>\n",
       "      <th>total</th>\n",
       "    </tr>\n",
       "  </thead>\n",
       "  <tbody>\n",
       "    <tr>\n",
       "      <th>count</th>\n",
       "      <td>6433.000000</td>\n",
       "      <td>6433.000000</td>\n",
       "      <td>6433.000000</td>\n",
       "      <td>6433.00000</td>\n",
       "      <td>6433.000000</td>\n",
       "      <td>6433.000000</td>\n",
       "    </tr>\n",
       "    <tr>\n",
       "      <th>mean</th>\n",
       "      <td>1.539251</td>\n",
       "      <td>3.024617</td>\n",
       "      <td>13.091073</td>\n",
       "      <td>1.97922</td>\n",
       "      <td>0.325273</td>\n",
       "      <td>18.517794</td>\n",
       "    </tr>\n",
       "    <tr>\n",
       "      <th>std</th>\n",
       "      <td>1.203768</td>\n",
       "      <td>3.827867</td>\n",
       "      <td>11.551804</td>\n",
       "      <td>2.44856</td>\n",
       "      <td>1.415267</td>\n",
       "      <td>13.815570</td>\n",
       "    </tr>\n",
       "    <tr>\n",
       "      <th>min</th>\n",
       "      <td>0.000000</td>\n",
       "      <td>0.000000</td>\n",
       "      <td>1.000000</td>\n",
       "      <td>0.00000</td>\n",
       "      <td>0.000000</td>\n",
       "      <td>1.300000</td>\n",
       "    </tr>\n",
       "    <tr>\n",
       "      <th>25%</th>\n",
       "      <td>1.000000</td>\n",
       "      <td>0.980000</td>\n",
       "      <td>6.500000</td>\n",
       "      <td>0.00000</td>\n",
       "      <td>0.000000</td>\n",
       "      <td>10.800000</td>\n",
       "    </tr>\n",
       "    <tr>\n",
       "      <th>50%</th>\n",
       "      <td>1.000000</td>\n",
       "      <td>1.640000</td>\n",
       "      <td>9.500000</td>\n",
       "      <td>1.70000</td>\n",
       "      <td>0.000000</td>\n",
       "      <td>14.160000</td>\n",
       "    </tr>\n",
       "    <tr>\n",
       "      <th>75%</th>\n",
       "      <td>2.000000</td>\n",
       "      <td>3.210000</td>\n",
       "      <td>15.000000</td>\n",
       "      <td>2.80000</td>\n",
       "      <td>0.000000</td>\n",
       "      <td>20.300000</td>\n",
       "    </tr>\n",
       "    <tr>\n",
       "      <th>max</th>\n",
       "      <td>6.000000</td>\n",
       "      <td>36.700000</td>\n",
       "      <td>150.000000</td>\n",
       "      <td>33.20000</td>\n",
       "      <td>24.020000</td>\n",
       "      <td>174.820000</td>\n",
       "    </tr>\n",
       "  </tbody>\n",
       "</table>\n",
       "</div>"
      ],
      "text/plain": [
       "        passengers     distance         fare         tip        tolls  \\\n",
       "count  6433.000000  6433.000000  6433.000000  6433.00000  6433.000000   \n",
       "mean      1.539251     3.024617    13.091073     1.97922     0.325273   \n",
       "std       1.203768     3.827867    11.551804     2.44856     1.415267   \n",
       "min       0.000000     0.000000     1.000000     0.00000     0.000000   \n",
       "25%       1.000000     0.980000     6.500000     0.00000     0.000000   \n",
       "50%       1.000000     1.640000     9.500000     1.70000     0.000000   \n",
       "75%       2.000000     3.210000    15.000000     2.80000     0.000000   \n",
       "max       6.000000    36.700000   150.000000    33.20000    24.020000   \n",
       "\n",
       "             total  \n",
       "count  6433.000000  \n",
       "mean     18.517794  \n",
       "std      13.815570  \n",
       "min       1.300000  \n",
       "25%      10.800000  \n",
       "50%      14.160000  \n",
       "75%      20.300000  \n",
       "max     174.820000  "
      ]
     },
     "execution_count": 55,
     "metadata": {},
     "output_type": "execute_result"
    }
   ],
   "source": [
    "df.describe()"
   ]
  },
  {
   "cell_type": "markdown",
   "metadata": {
    "cell_id": "63e13662a28c46c5b237cc64738b906d",
    "deepnote_cell_type": "markdown"
   },
   "source": [
    "Here, we can see that the average cost was about 13, while the median cost was 9.5"
   ]
  },
  {
   "cell_type": "markdown",
   "metadata": {
    "cell_id": "4ffc3c3c319243cea4921b31c443c01d",
    "deepnote_cell_type": "markdown"
   },
   "source": [
    "* How many different values are in the \"pickup_borough\" column? First, get a pandas Series containing the column."
   ]
  },
  {
   "cell_type": "code",
   "execution_count": null,
   "metadata": {
    "cell_id": "2d29620915ef418d85614dc3bd278073",
    "deepnote_cell_type": "code",
    "deepnote_to_be_reexecuted": false,
    "execution_millis": 7,
    "execution_start": 1691785648820,
    "source_hash": null
   },
   "outputs": [
    {
     "data": {
      "text/plain": [
       "0       Manhattan\n",
       "1       Manhattan\n",
       "2       Manhattan\n",
       "3       Manhattan\n",
       "4       Manhattan\n",
       "          ...    \n",
       "6428    Manhattan\n",
       "6429       Queens\n",
       "6430     Brooklyn\n",
       "6431     Brooklyn\n",
       "6432     Brooklyn\n",
       "Name: pickup_borough, Length: 6433, dtype: object"
      ]
     },
     "execution_count": 57,
     "metadata": {},
     "output_type": "execute_result"
    }
   ],
   "source": [
    "ser = df[\"pickup_borough\"]\n",
    "ser"
   ]
  },
  {
   "cell_type": "code",
   "execution_count": null,
   "metadata": {
    "cell_id": "e578df97cf4a42cd897dd81948a688a8",
    "deepnote_cell_type": "code",
    "deepnote_to_be_reexecuted": false,
    "execution_millis": 11,
    "execution_start": 1691785663634,
    "source_hash": null
   },
   "outputs": [
    {
     "data": {
      "text/plain": [
       "array(['Manhattan', 'Queens', nan, 'Bronx', 'Brooklyn'], dtype=object)"
      ]
     },
     "execution_count": 58,
     "metadata": {},
     "output_type": "execute_result"
    }
   ],
   "source": [
    "#Each unique value that appears in ser\n",
    "ser.unique()"
   ]
  },
  {
   "cell_type": "markdown",
   "metadata": {
    "cell_id": "ca6795454627441187033b9083a5baca",
    "deepnote_cell_type": "markdown"
   },
   "source": [
    "Here, we see the value `nan`; this stands for not a number. It represents missing data."
   ]
  },
  {
   "cell_type": "markdown",
   "metadata": {
    "cell_id": "bb53b734a33441e793fcab521e24709d",
    "deepnote_cell_type": "markdown"
   },
   "source": [
    "In pandas, there are methods specifically for Series. `unique` is one of them; if we try to use it on a DataFrame it will not work."
   ]
  },
  {
   "cell_type": "code",
   "execution_count": null,
   "metadata": {
    "cell_id": "42573b6779684d39a2ad79498ec7f996",
    "deepnote_cell_type": "code",
    "deepnote_to_be_reexecuted": false,
    "execution_millis": 1220,
    "execution_start": 1691785752412,
    "source_hash": null
   },
   "outputs": [
    {
     "ename": "AttributeError",
     "evalue": "'DataFrame' object has no attribute 'unique'",
     "output_type": "error",
     "traceback": [
      "\u001b[0;31m---------------------------------------------------------------------------\u001b[0m",
      "\u001b[0;31mAttributeError\u001b[0m                            Traceback (most recent call last)",
      "Cell \u001b[0;32mIn [59], line 1\u001b[0m\n\u001b[0;32m----> 1\u001b[0m \u001b[43mdf\u001b[49m\u001b[38;5;241;43m.\u001b[39;49m\u001b[43munique\u001b[49m()\n",
      "File \u001b[0;32m/shared-libs/python3.9/py/lib/python3.9/site-packages/pandas/core/generic.py:5465\u001b[0m, in \u001b[0;36mNDFrame.__getattr__\u001b[0;34m(self, name)\u001b[0m\n\u001b[1;32m   5463\u001b[0m \u001b[38;5;28;01mif\u001b[39;00m \u001b[38;5;28mself\u001b[39m\u001b[38;5;241m.\u001b[39m_info_axis\u001b[38;5;241m.\u001b[39m_can_hold_identifiers_and_holds_name(name):\n\u001b[1;32m   5464\u001b[0m     \u001b[38;5;28;01mreturn\u001b[39;00m \u001b[38;5;28mself\u001b[39m[name]\n\u001b[0;32m-> 5465\u001b[0m \u001b[38;5;28;01mreturn\u001b[39;00m \u001b[38;5;28;43mobject\u001b[39;49m\u001b[38;5;241;43m.\u001b[39;49m\u001b[38;5;21;43m__getattribute__\u001b[39;49m\u001b[43m(\u001b[49m\u001b[38;5;28;43mself\u001b[39;49m\u001b[43m,\u001b[49m\u001b[43m \u001b[49m\u001b[43mname\u001b[49m\u001b[43m)\u001b[49m\n",
      "\u001b[0;31mAttributeError\u001b[0m: 'DataFrame' object has no attribute 'unique'"
     ]
    }
   ],
   "source": [
    "df.unique()"
   ]
  },
  {
   "cell_type": "markdown",
   "metadata": {
    "cell_id": "dc6eb48f297844848dc2af5dc27e491b",
    "deepnote_cell_type": "markdown"
   },
   "source": [
    "### Indexing the taxis dataset"
   ]
  },
  {
   "cell_type": "markdown",
   "metadata": {
    "cell_id": "9045ef8699c64b57b9cccf5c1480cb55",
    "deepnote_cell_type": "markdown"
   },
   "source": [
    "__Motiation:__ Get \"pickup_borough\" column using `loc` or `iloc`."
   ]
  },
  {
   "cell_type": "markdown",
   "metadata": {
    "cell_id": "2e7f8d0240c143ada39c5a45b16a4673",
    "deepnote_cell_type": "markdown"
   },
   "source": [
    "By far, the easiest way to get this column is how we did it above:"
   ]
  },
  {
   "cell_type": "code",
   "execution_count": null,
   "metadata": {
    "cell_id": "40584f003bfa40f6bdee3851c3aece46",
    "deepnote_cell_type": "code",
    "deepnote_to_be_reexecuted": false,
    "execution_millis": 16,
    "execution_start": 1691785828631,
    "source_hash": null
   },
   "outputs": [
    {
     "data": {
      "text/plain": [
       "0       Manhattan\n",
       "1       Manhattan\n",
       "2       Manhattan\n",
       "3       Manhattan\n",
       "4       Manhattan\n",
       "          ...    \n",
       "6428    Manhattan\n",
       "6429       Queens\n",
       "6430     Brooklyn\n",
       "6431     Brooklyn\n",
       "6432     Brooklyn\n",
       "Name: pickup_borough, Length: 6433, dtype: object"
      ]
     },
     "execution_count": 60,
     "metadata": {},
     "output_type": "execute_result"
    }
   ],
   "source": [
    "df[\"pickup_borough\"]"
   ]
  },
  {
   "cell_type": "code",
   "execution_count": null,
   "metadata": {
    "cell_id": "fb94222429204181a20ed6de46c3a2da",
    "deepnote_cell_type": "code",
    "deepnote_to_be_reexecuted": false,
    "execution_millis": 1075,
    "execution_start": 1691785875108,
    "source_hash": null
   },
   "outputs": [
    {
     "ename": "KeyError",
     "evalue": "'pickup_borough'",
     "output_type": "error",
     "traceback": [
      "\u001b[0;31m---------------------------------------------------------------------------\u001b[0m",
      "\u001b[0;31mKeyError\u001b[0m                                  Traceback (most recent call last)",
      "Cell \u001b[0;32mIn [61], line 3\u001b[0m\n\u001b[1;32m      1\u001b[0m \u001b[38;5;66;03m#First thing you might try, but doesn't work\u001b[39;00m\n\u001b[1;32m      2\u001b[0m \u001b[38;5;66;03m#It's looking for a row with this name\u001b[39;00m\n\u001b[0;32m----> 3\u001b[0m \u001b[43mdf\u001b[49m\u001b[38;5;241;43m.\u001b[39;49m\u001b[43mloc\u001b[49m\u001b[43m[\u001b[49m\u001b[38;5;124;43m\"\u001b[39;49m\u001b[38;5;124;43mpickup_borough\u001b[39;49m\u001b[38;5;124;43m\"\u001b[39;49m\u001b[43m]\u001b[49m\n",
      "File \u001b[0;32m/shared-libs/python3.9/py/lib/python3.9/site-packages/pandas/core/indexing.py:895\u001b[0m, in \u001b[0;36m_LocationIndexer.__getitem__\u001b[0;34m(self, key)\u001b[0m\n\u001b[1;32m    892\u001b[0m axis \u001b[38;5;241m=\u001b[39m \u001b[38;5;28mself\u001b[39m\u001b[38;5;241m.\u001b[39maxis \u001b[38;5;129;01mor\u001b[39;00m \u001b[38;5;241m0\u001b[39m\n\u001b[1;32m    894\u001b[0m maybe_callable \u001b[38;5;241m=\u001b[39m com\u001b[38;5;241m.\u001b[39mapply_if_callable(key, \u001b[38;5;28mself\u001b[39m\u001b[38;5;241m.\u001b[39mobj)\n\u001b[0;32m--> 895\u001b[0m \u001b[38;5;28;01mreturn\u001b[39;00m \u001b[38;5;28;43mself\u001b[39;49m\u001b[38;5;241;43m.\u001b[39;49m\u001b[43m_getitem_axis\u001b[49m\u001b[43m(\u001b[49m\u001b[43mmaybe_callable\u001b[49m\u001b[43m,\u001b[49m\u001b[43m \u001b[49m\u001b[43maxis\u001b[49m\u001b[38;5;241;43m=\u001b[39;49m\u001b[43maxis\u001b[49m\u001b[43m)\u001b[49m\n",
      "File \u001b[0;32m/shared-libs/python3.9/py/lib/python3.9/site-packages/pandas/core/indexing.py:1124\u001b[0m, in \u001b[0;36m_LocIndexer._getitem_axis\u001b[0;34m(self, key, axis)\u001b[0m\n\u001b[1;32m   1122\u001b[0m \u001b[38;5;66;03m# fall thru to straight lookup\u001b[39;00m\n\u001b[1;32m   1123\u001b[0m \u001b[38;5;28mself\u001b[39m\u001b[38;5;241m.\u001b[39m_validate_key(key, axis)\n\u001b[0;32m-> 1124\u001b[0m \u001b[38;5;28;01mreturn\u001b[39;00m \u001b[38;5;28;43mself\u001b[39;49m\u001b[38;5;241;43m.\u001b[39;49m\u001b[43m_get_label\u001b[49m\u001b[43m(\u001b[49m\u001b[43mkey\u001b[49m\u001b[43m,\u001b[49m\u001b[43m \u001b[49m\u001b[43maxis\u001b[49m\u001b[38;5;241;43m=\u001b[39;49m\u001b[43maxis\u001b[49m\u001b[43m)\u001b[49m\n",
      "File \u001b[0;32m/shared-libs/python3.9/py/lib/python3.9/site-packages/pandas/core/indexing.py:1073\u001b[0m, in \u001b[0;36m_LocIndexer._get_label\u001b[0;34m(self, label, axis)\u001b[0m\n\u001b[1;32m   1071\u001b[0m \u001b[38;5;28;01mdef\u001b[39;00m \u001b[38;5;21m_get_label\u001b[39m(\u001b[38;5;28mself\u001b[39m, label, axis: \u001b[38;5;28mint\u001b[39m):\n\u001b[1;32m   1072\u001b[0m     \u001b[38;5;66;03m# GH#5667 this will fail if the label is not present in the axis.\u001b[39;00m\n\u001b[0;32m-> 1073\u001b[0m     \u001b[38;5;28;01mreturn\u001b[39;00m \u001b[38;5;28;43mself\u001b[39;49m\u001b[38;5;241;43m.\u001b[39;49m\u001b[43mobj\u001b[49m\u001b[38;5;241;43m.\u001b[39;49m\u001b[43mxs\u001b[49m\u001b[43m(\u001b[49m\u001b[43mlabel\u001b[49m\u001b[43m,\u001b[49m\u001b[43m \u001b[49m\u001b[43maxis\u001b[49m\u001b[38;5;241;43m=\u001b[39;49m\u001b[43maxis\u001b[49m\u001b[43m)\u001b[49m\n",
      "File \u001b[0;32m/shared-libs/python3.9/py/lib/python3.9/site-packages/pandas/core/generic.py:3739\u001b[0m, in \u001b[0;36mNDFrame.xs\u001b[0;34m(self, key, axis, level, drop_level)\u001b[0m\n\u001b[1;32m   3737\u001b[0m         \u001b[38;5;28;01mraise\u001b[39;00m \u001b[38;5;167;01mTypeError\u001b[39;00m(\u001b[38;5;124mf\u001b[39m\u001b[38;5;124m\"\u001b[39m\u001b[38;5;124mExpected label or tuple of labels, got \u001b[39m\u001b[38;5;132;01m{\u001b[39;00mkey\u001b[38;5;132;01m}\u001b[39;00m\u001b[38;5;124m\"\u001b[39m) \u001b[38;5;28;01mfrom\u001b[39;00m \u001b[38;5;21;01me\u001b[39;00m\n\u001b[1;32m   3738\u001b[0m \u001b[38;5;28;01melse\u001b[39;00m:\n\u001b[0;32m-> 3739\u001b[0m     loc \u001b[38;5;241m=\u001b[39m \u001b[43mindex\u001b[49m\u001b[38;5;241;43m.\u001b[39;49m\u001b[43mget_loc\u001b[49m\u001b[43m(\u001b[49m\u001b[43mkey\u001b[49m\u001b[43m)\u001b[49m\n\u001b[1;32m   3741\u001b[0m     \u001b[38;5;28;01mif\u001b[39;00m \u001b[38;5;28misinstance\u001b[39m(loc, np\u001b[38;5;241m.\u001b[39mndarray):\n\u001b[1;32m   3742\u001b[0m         \u001b[38;5;28;01mif\u001b[39;00m loc\u001b[38;5;241m.\u001b[39mdtype \u001b[38;5;241m==\u001b[39m np\u001b[38;5;241m.\u001b[39mbool_:\n",
      "File \u001b[0;32m/shared-libs/python3.9/py/lib/python3.9/site-packages/pandas/core/indexes/range.py:354\u001b[0m, in \u001b[0;36mRangeIndex.get_loc\u001b[0;34m(self, key, method, tolerance)\u001b[0m\n\u001b[1;32m    352\u001b[0m         \u001b[38;5;28;01mexcept\u001b[39;00m \u001b[38;5;167;01mValueError\u001b[39;00m \u001b[38;5;28;01mas\u001b[39;00m err:\n\u001b[1;32m    353\u001b[0m             \u001b[38;5;28;01mraise\u001b[39;00m \u001b[38;5;167;01mKeyError\u001b[39;00m(key) \u001b[38;5;28;01mfrom\u001b[39;00m \u001b[38;5;21;01merr\u001b[39;00m\n\u001b[0;32m--> 354\u001b[0m     \u001b[38;5;28;01mraise\u001b[39;00m \u001b[38;5;167;01mKeyError\u001b[39;00m(key)\n\u001b[1;32m    355\u001b[0m \u001b[38;5;28;01mreturn\u001b[39;00m \u001b[38;5;28msuper\u001b[39m()\u001b[38;5;241m.\u001b[39mget_loc(key, method\u001b[38;5;241m=\u001b[39mmethod, tolerance\u001b[38;5;241m=\u001b[39mtolerance)\n",
      "\u001b[0;31mKeyError\u001b[0m: 'pickup_borough'"
     ]
    }
   ],
   "source": [
    "#First thing you might try, but doesn't work\n",
    "#It's looking for a row with this name\n",
    "df.loc[\"pickup_borough\"]"
   ]
  },
  {
   "cell_type": "code",
   "execution_count": null,
   "metadata": {
    "cell_id": "3357603900ed4f669d886444aeeb8c53",
    "deepnote_cell_type": "code",
    "deepnote_to_be_reexecuted": false,
    "execution_millis": 27,
    "execution_start": 1691785925656,
    "source_hash": null
   },
   "outputs": [
    {
     "data": {
      "text/plain": [
       "0       Manhattan\n",
       "1       Manhattan\n",
       "2       Manhattan\n",
       "3       Manhattan\n",
       "4       Manhattan\n",
       "          ...    \n",
       "6428    Manhattan\n",
       "6429       Queens\n",
       "6430     Brooklyn\n",
       "6431     Brooklyn\n",
       "6432     Brooklyn\n",
       "Name: pickup_borough, Length: 6433, dtype: object"
      ]
     },
     "execution_count": 62,
     "metadata": {},
     "output_type": "execute_result"
    }
   ],
   "source": [
    "df.loc[:,\"pickup_borough\"]"
   ]
  },
  {
   "cell_type": "markdown",
   "metadata": {
    "cell_id": "77b448a96fa941f3809c359262c270d4",
    "deepnote_cell_type": "markdown"
   },
   "source": [
    "If we now want to use `iloc`, we'll need to know the integer position of \"pickup_borough\"..."
   ]
  },
  {
   "cell_type": "code",
   "execution_count": null,
   "metadata": {
    "cell_id": "91a1936c03984ddfad9d0e3d6f9c85c8",
    "deepnote_cell_type": "code",
    "deepnote_to_be_reexecuted": false,
    "execution_millis": 29,
    "execution_start": 1691785962976,
    "source_hash": null
   },
   "outputs": [
    {
     "data": {
      "text/plain": [
       "Index(['pickup', 'dropoff', 'passengers', 'distance', 'fare', 'tip', 'tolls',\n",
       "       'total', 'color', 'payment', 'pickup_zone', 'dropoff_zone',\n",
       "       'pickup_borough', 'dropoff_borough'],\n",
       "      dtype='object')"
      ]
     },
     "execution_count": 63,
     "metadata": {},
     "output_type": "execute_result"
    }
   ],
   "source": [
    "df.columns"
   ]
  },
  {
   "cell_type": "markdown",
   "metadata": {
    "cell_id": "1f2cc91fd9774076b811a88828c415cc",
    "deepnote_cell_type": "markdown"
   },
   "source": [
    "We see that it is integer location 12"
   ]
  },
  {
   "cell_type": "code",
   "execution_count": null,
   "metadata": {
    "cell_id": "df1fb731a90a43f8ba2683e37aab6187",
    "deepnote_cell_type": "code",
    "deepnote_to_be_reexecuted": false,
    "execution_millis": 20,
    "execution_start": 1691786000301,
    "source_hash": null
   },
   "outputs": [
    {
     "data": {
      "text/plain": [
       "0       Manhattan\n",
       "1       Manhattan\n",
       "2       Manhattan\n",
       "3       Manhattan\n",
       "4       Manhattan\n",
       "          ...    \n",
       "6428    Manhattan\n",
       "6429       Queens\n",
       "6430     Brooklyn\n",
       "6431     Brooklyn\n",
       "6432     Brooklyn\n",
       "Name: pickup_borough, Length: 6433, dtype: object"
      ]
     },
     "execution_count": 64,
     "metadata": {},
     "output_type": "execute_result"
    }
   ],
   "source": [
    "df.iloc[:,12]"
   ]
  },
  {
   "cell_type": "markdown",
   "metadata": {
    "cell_id": "997cc472be154656acb0e85daa0b186b",
    "deepnote_cell_type": "markdown"
   },
   "source": [
    "Some more (potentially) confusing examples"
   ]
  },
  {
   "cell_type": "markdown",
   "metadata": {
    "cell_id": "7a889694ff794098a9e8a540bb3eda4d",
    "deepnote_cell_type": "markdown"
   },
   "source": [
    "* If I index with a slice, it takes rows"
   ]
  },
  {
   "cell_type": "code",
   "execution_count": null,
   "metadata": {
    "cell_id": "2bafe7a639ba49a985cfe96509b463e1",
    "deepnote_cell_type": "code",
    "deepnote_to_be_reexecuted": false,
    "execution_millis": 281,
    "execution_start": 1691786049039,
    "source_hash": null
   },
   "outputs": [
    {
     "data": {
      "application/vnd.deepnote.dataframe.v3+json": {
       "column_count": 14,
       "columns": [
        {
         "dtype": "object",
         "name": "pickup",
         "stats": {
          "categories": [
           {
            "count": 1,
            "name": "2019-03-23 20:21:09"
           },
           {
            "count": 1,
            "name": "2019-03-04 16:11:55"
           },
           {
            "count": 1,
            "name": "2019-03-27 17:53:01"
           }
          ],
          "nan_count": 0,
          "unique_count": 3
         }
        },
        {
         "dtype": "object",
         "name": "dropoff",
         "stats": {
          "categories": [
           {
            "count": 1,
            "name": "2019-03-23 20:27:24"
           },
           {
            "count": 1,
            "name": "2019-03-04 16:19:00"
           },
           {
            "count": 1,
            "name": "2019-03-27 18:00:25"
           }
          ],
          "nan_count": 0,
          "unique_count": 3
         }
        },
        {
         "dtype": "int64",
         "name": "passengers",
         "stats": {
          "histogram": [
           {
            "bin_end": 0.6,
            "bin_start": 0.5,
            "count": 0
           },
           {
            "bin_end": 0.7,
            "bin_start": 0.6,
            "count": 0
           },
           {
            "bin_end": 0.8,
            "bin_start": 0.7,
            "count": 0
           },
           {
            "bin_end": 0.9,
            "bin_start": 0.8,
            "count": 0
           },
           {
            "bin_end": 1,
            "bin_start": 0.9,
            "count": 0
           },
           {
            "bin_end": 1.1,
            "bin_start": 1,
            "count": 3
           },
           {
            "bin_end": 1.2000000000000002,
            "bin_start": 1.1,
            "count": 0
           },
           {
            "bin_end": 1.3,
            "bin_start": 1.2000000000000002,
            "count": 0
           },
           {
            "bin_end": 1.4,
            "bin_start": 1.3,
            "count": 0
           },
           {
            "bin_end": 1.5,
            "bin_start": 1.4,
            "count": 0
           }
          ],
          "max": "1",
          "min": "1",
          "nan_count": 0,
          "unique_count": 1
         }
        },
        {
         "dtype": "float64",
         "name": "distance",
         "stats": {
          "histogram": [
           {
            "bin_end": 0.871,
            "bin_start": 0.79,
            "count": 1
           },
           {
            "bin_end": 0.9520000000000001,
            "bin_start": 0.871,
            "count": 0
           },
           {
            "bin_end": 1.033,
            "bin_start": 0.9520000000000001,
            "count": 0
           },
           {
            "bin_end": 1.114,
            "bin_start": 1.033,
            "count": 0
           },
           {
            "bin_end": 1.195,
            "bin_start": 1.114,
            "count": 0
           },
           {
            "bin_end": 1.276,
            "bin_start": 1.195,
            "count": 0
           },
           {
            "bin_end": 1.3570000000000002,
            "bin_start": 1.276,
            "count": 0
           },
           {
            "bin_end": 1.4380000000000002,
            "bin_start": 1.3570000000000002,
            "count": 1
           },
           {
            "bin_end": 1.5190000000000001,
            "bin_start": 1.4380000000000002,
            "count": 0
           },
           {
            "bin_end": 1.6,
            "bin_start": 1.5190000000000001,
            "count": 1
           }
          ],
          "max": "1.6",
          "min": "0.79",
          "nan_count": 0,
          "unique_count": 3
         }
        },
        {
         "dtype": "float64",
         "name": "fare",
         "stats": {
          "histogram": [
           {
            "bin_end": 5.25,
            "bin_start": 5,
            "count": 1
           },
           {
            "bin_end": 5.5,
            "bin_start": 5.25,
            "count": 0
           },
           {
            "bin_end": 5.75,
            "bin_start": 5.5,
            "count": 0
           },
           {
            "bin_end": 6,
            "bin_start": 5.75,
            "count": 0
           },
           {
            "bin_end": 6.25,
            "bin_start": 6,
            "count": 0
           },
           {
            "bin_end": 6.5,
            "bin_start": 6.25,
            "count": 0
           },
           {
            "bin_end": 6.75,
            "bin_start": 6.5,
            "count": 0
           },
           {
            "bin_end": 7,
            "bin_start": 6.75,
            "count": 0
           },
           {
            "bin_end": 7.25,
            "bin_start": 7,
            "count": 1
           },
           {
            "bin_end": 7.5,
            "bin_start": 7.25,
            "count": 1
           }
          ],
          "max": "7.5",
          "min": "5.0",
          "nan_count": 0,
          "unique_count": 3
         }
        },
        {
         "dtype": "float64",
         "name": "tip",
         "stats": {
          "histogram": [
           {
            "bin_end": 0.236,
            "bin_start": 0,
            "count": 1
           },
           {
            "bin_end": 0.472,
            "bin_start": 0.236,
            "count": 0
           },
           {
            "bin_end": 0.708,
            "bin_start": 0.472,
            "count": 0
           },
           {
            "bin_end": 0.944,
            "bin_start": 0.708,
            "count": 0
           },
           {
            "bin_end": 1.18,
            "bin_start": 0.944,
            "count": 0
           },
           {
            "bin_end": 1.416,
            "bin_start": 1.18,
            "count": 0
           },
           {
            "bin_end": 1.652,
            "bin_start": 1.416,
            "count": 0
           },
           {
            "bin_end": 1.888,
            "bin_start": 1.652,
            "count": 0
           },
           {
            "bin_end": 2.1239999999999997,
            "bin_start": 1.888,
            "count": 0
           },
           {
            "bin_end": 2.36,
            "bin_start": 2.1239999999999997,
            "count": 2
           }
          ],
          "max": "2.36",
          "min": "0.0",
          "nan_count": 0,
          "unique_count": 3
         }
        },
        {
         "dtype": "float64",
         "name": "tolls",
         "stats": {
          "histogram": [
           {
            "bin_end": -0.4,
            "bin_start": -0.5,
            "count": 0
           },
           {
            "bin_end": -0.3,
            "bin_start": -0.4,
            "count": 0
           },
           {
            "bin_end": -0.19999999999999996,
            "bin_start": -0.3,
            "count": 0
           },
           {
            "bin_end": -0.09999999999999998,
            "bin_start": -0.19999999999999996,
            "count": 0
           },
           {
            "bin_end": 0,
            "bin_start": -0.09999999999999998,
            "count": 0
           },
           {
            "bin_end": 0.10000000000000009,
            "bin_start": 0,
            "count": 3
           },
           {
            "bin_end": 0.20000000000000007,
            "bin_start": 0.10000000000000009,
            "count": 0
           },
           {
            "bin_end": 0.30000000000000004,
            "bin_start": 0.20000000000000007,
            "count": 0
           },
           {
            "bin_end": 0.4,
            "bin_start": 0.30000000000000004,
            "count": 0
           },
           {
            "bin_end": 0.5,
            "bin_start": 0.4,
            "count": 0
           }
          ],
          "max": "0.0",
          "min": "0.0",
          "nan_count": 0,
          "unique_count": 1
         }
        },
        {
         "dtype": "float64",
         "name": "total",
         "stats": {
          "histogram": [
           {
            "bin_end": 9.786000000000001,
            "bin_start": 9.3,
            "count": 1
           },
           {
            "bin_end": 10.272,
            "bin_start": 9.786000000000001,
            "count": 0
           },
           {
            "bin_end": 10.758000000000001,
            "bin_start": 10.272,
            "count": 0
           },
           {
            "bin_end": 11.244,
            "bin_start": 10.758000000000001,
            "count": 0
           },
           {
            "bin_end": 11.73,
            "bin_start": 11.244,
            "count": 0
           },
           {
            "bin_end": 12.216000000000001,
            "bin_start": 11.73,
            "count": 0
           },
           {
            "bin_end": 12.702,
            "bin_start": 12.216000000000001,
            "count": 0
           },
           {
            "bin_end": 13.188,
            "bin_start": 12.702,
            "count": 1
           },
           {
            "bin_end": 13.674,
            "bin_start": 13.188,
            "count": 0
           },
           {
            "bin_end": 14.16,
            "bin_start": 13.674,
            "count": 1
           }
          ],
          "max": "14.16",
          "min": "9.3",
          "nan_count": 0,
          "unique_count": 3
         }
        },
        {
         "dtype": "object",
         "name": "color",
         "stats": {
          "categories": [
           {
            "count": 3,
            "name": "yellow"
           }
          ],
          "nan_count": 0,
          "unique_count": 1
         }
        },
        {
         "dtype": "object",
         "name": "payment",
         "stats": {
          "categories": [
           {
            "count": 2,
            "name": "credit card"
           },
           {
            "count": 1,
            "name": "cash"
           }
          ],
          "nan_count": 0,
          "unique_count": 2
         }
        },
        {
         "dtype": "object",
         "name": "pickup_zone",
         "stats": {
          "categories": [
           {
            "count": 1,
            "name": "Lenox Hill West"
           },
           {
            "count": 1,
            "name": "Upper West Side South"
           },
           {
            "count": 1,
            "name": "Alphabet City"
           }
          ],
          "nan_count": 0,
          "unique_count": 3
         }
        },
        {
         "dtype": "object",
         "name": "dropoff_zone",
         "stats": {
          "categories": [
           {
            "count": 1,
            "name": "UN/Turtle Bay South"
           },
           {
            "count": 1,
            "name": "Upper West Side South"
           },
           {
            "count": 1,
            "name": "West Village"
           }
          ],
          "nan_count": 0,
          "unique_count": 3
         }
        },
        {
         "dtype": "object",
         "name": "pickup_borough",
         "stats": {
          "categories": [
           {
            "count": 3,
            "name": "Manhattan"
           }
          ],
          "nan_count": 0,
          "unique_count": 1
         }
        },
        {
         "dtype": "object",
         "name": "dropoff_borough",
         "stats": {
          "categories": [
           {
            "count": 3,
            "name": "Manhattan"
           }
          ],
          "nan_count": 0,
          "unique_count": 1
         }
        },
        {
         "dtype": "int64",
         "name": "_deepnote_index_column"
        }
       ],
       "row_count": 3,
       "rows": [
        {
         "_deepnote_index_column": 0,
         "color": "yellow",
         "distance": 1.6,
         "dropoff": "2019-03-23 20:27:24",
         "dropoff_borough": "Manhattan",
         "dropoff_zone": "UN/Turtle Bay South",
         "fare": 7,
         "passengers": 1,
         "payment": "credit card",
         "pickup": "2019-03-23 20:21:09",
         "pickup_borough": "Manhattan",
         "pickup_zone": "Lenox Hill West",
         "tip": 2.15,
         "tolls": 0,
         "total": 12.95
        },
        {
         "_deepnote_index_column": 1,
         "color": "yellow",
         "distance": 0.79,
         "dropoff": "2019-03-04 16:19:00",
         "dropoff_borough": "Manhattan",
         "dropoff_zone": "Upper West Side South",
         "fare": 5,
         "passengers": 1,
         "payment": "cash",
         "pickup": "2019-03-04 16:11:55",
         "pickup_borough": "Manhattan",
         "pickup_zone": "Upper West Side South",
         "tip": 0,
         "tolls": 0,
         "total": 9.3
        },
        {
         "_deepnote_index_column": 2,
         "color": "yellow",
         "distance": 1.37,
         "dropoff": "2019-03-27 18:00:25",
         "dropoff_borough": "Manhattan",
         "dropoff_zone": "West Village",
         "fare": 7.5,
         "passengers": 1,
         "payment": "credit card",
         "pickup": "2019-03-27 17:53:01",
         "pickup_borough": "Manhattan",
         "pickup_zone": "Alphabet City",
         "tip": 2.36,
         "tolls": 0,
         "total": 14.16
        }
       ]
      },
      "text/html": [
       "<div>\n",
       "<style scoped>\n",
       "    .dataframe tbody tr th:only-of-type {\n",
       "        vertical-align: middle;\n",
       "    }\n",
       "\n",
       "    .dataframe tbody tr th {\n",
       "        vertical-align: top;\n",
       "    }\n",
       "\n",
       "    .dataframe thead th {\n",
       "        text-align: right;\n",
       "    }\n",
       "</style>\n",
       "<table border=\"1\" class=\"dataframe\">\n",
       "  <thead>\n",
       "    <tr style=\"text-align: right;\">\n",
       "      <th></th>\n",
       "      <th>pickup</th>\n",
       "      <th>dropoff</th>\n",
       "      <th>passengers</th>\n",
       "      <th>distance</th>\n",
       "      <th>fare</th>\n",
       "      <th>tip</th>\n",
       "      <th>tolls</th>\n",
       "      <th>total</th>\n",
       "      <th>color</th>\n",
       "      <th>payment</th>\n",
       "      <th>pickup_zone</th>\n",
       "      <th>dropoff_zone</th>\n",
       "      <th>pickup_borough</th>\n",
       "      <th>dropoff_borough</th>\n",
       "    </tr>\n",
       "  </thead>\n",
       "  <tbody>\n",
       "    <tr>\n",
       "      <th>0</th>\n",
       "      <td>2019-03-23 20:21:09</td>\n",
       "      <td>2019-03-23 20:27:24</td>\n",
       "      <td>1</td>\n",
       "      <td>1.60</td>\n",
       "      <td>7.0</td>\n",
       "      <td>2.15</td>\n",
       "      <td>0.0</td>\n",
       "      <td>12.95</td>\n",
       "      <td>yellow</td>\n",
       "      <td>credit card</td>\n",
       "      <td>Lenox Hill West</td>\n",
       "      <td>UN/Turtle Bay South</td>\n",
       "      <td>Manhattan</td>\n",
       "      <td>Manhattan</td>\n",
       "    </tr>\n",
       "    <tr>\n",
       "      <th>1</th>\n",
       "      <td>2019-03-04 16:11:55</td>\n",
       "      <td>2019-03-04 16:19:00</td>\n",
       "      <td>1</td>\n",
       "      <td>0.79</td>\n",
       "      <td>5.0</td>\n",
       "      <td>0.00</td>\n",
       "      <td>0.0</td>\n",
       "      <td>9.30</td>\n",
       "      <td>yellow</td>\n",
       "      <td>cash</td>\n",
       "      <td>Upper West Side South</td>\n",
       "      <td>Upper West Side South</td>\n",
       "      <td>Manhattan</td>\n",
       "      <td>Manhattan</td>\n",
       "    </tr>\n",
       "    <tr>\n",
       "      <th>2</th>\n",
       "      <td>2019-03-27 17:53:01</td>\n",
       "      <td>2019-03-27 18:00:25</td>\n",
       "      <td>1</td>\n",
       "      <td>1.37</td>\n",
       "      <td>7.5</td>\n",
       "      <td>2.36</td>\n",
       "      <td>0.0</td>\n",
       "      <td>14.16</td>\n",
       "      <td>yellow</td>\n",
       "      <td>credit card</td>\n",
       "      <td>Alphabet City</td>\n",
       "      <td>West Village</td>\n",
       "      <td>Manhattan</td>\n",
       "      <td>Manhattan</td>\n",
       "    </tr>\n",
       "  </tbody>\n",
       "</table>\n",
       "</div>"
      ],
      "text/plain": [
       "                pickup              dropoff  passengers  distance  fare   tip  \\\n",
       "0  2019-03-23 20:21:09  2019-03-23 20:27:24           1      1.60   7.0  2.15   \n",
       "1  2019-03-04 16:11:55  2019-03-04 16:19:00           1      0.79   5.0  0.00   \n",
       "2  2019-03-27 17:53:01  2019-03-27 18:00:25           1      1.37   7.5  2.36   \n",
       "\n",
       "   tolls  total   color      payment            pickup_zone  \\\n",
       "0    0.0  12.95  yellow  credit card        Lenox Hill West   \n",
       "1    0.0   9.30  yellow         cash  Upper West Side South   \n",
       "2    0.0  14.16  yellow  credit card          Alphabet City   \n",
       "\n",
       "            dropoff_zone pickup_borough dropoff_borough  \n",
       "0    UN/Turtle Bay South      Manhattan       Manhattan  \n",
       "1  Upper West Side South      Manhattan       Manhattan  \n",
       "2           West Village      Manhattan       Manhattan  "
      ]
     },
     "execution_count": 65,
     "metadata": {},
     "output_type": "execute_result"
    }
   ],
   "source": [
    "df[:3]"
   ]
  },
  {
   "cell_type": "markdown",
   "metadata": {
    "cell_id": "76dcc7ed2b4740e5813149350e5883a4",
    "deepnote_cell_type": "markdown"
   },
   "source": [
    "* If I index without a slice, it will look for columns"
   ]
  },
  {
   "cell_type": "code",
   "execution_count": null,
   "metadata": {
    "cell_id": "f2778f462e2b4af28484496f9362778c",
    "deepnote_cell_type": "code",
    "deepnote_to_be_reexecuted": false,
    "execution_millis": 183,
    "execution_start": 1691786102765,
    "source_hash": null
   },
   "outputs": [
    {
     "ename": "KeyError",
     "evalue": "3",
     "output_type": "error",
     "traceback": [
      "\u001b[0;31m---------------------------------------------------------------------------\u001b[0m",
      "\u001b[0;31mKeyError\u001b[0m                                  Traceback (most recent call last)",
      "File \u001b[0;32m/shared-libs/python3.9/py/lib/python3.9/site-packages/pandas/core/indexes/base.py:3081\u001b[0m, in \u001b[0;36mIndex.get_loc\u001b[0;34m(self, key, method, tolerance)\u001b[0m\n\u001b[1;32m   3080\u001b[0m \u001b[38;5;28;01mtry\u001b[39;00m:\n\u001b[0;32m-> 3081\u001b[0m     \u001b[38;5;28;01mreturn\u001b[39;00m \u001b[38;5;28;43mself\u001b[39;49m\u001b[38;5;241;43m.\u001b[39;49m\u001b[43m_engine\u001b[49m\u001b[38;5;241;43m.\u001b[39;49m\u001b[43mget_loc\u001b[49m\u001b[43m(\u001b[49m\u001b[43mcasted_key\u001b[49m\u001b[43m)\u001b[49m\n\u001b[1;32m   3082\u001b[0m \u001b[38;5;28;01mexcept\u001b[39;00m \u001b[38;5;167;01mKeyError\u001b[39;00m \u001b[38;5;28;01mas\u001b[39;00m err:\n",
      "File \u001b[0;32mpandas/_libs/index.pyx:70\u001b[0m, in \u001b[0;36mpandas._libs.index.IndexEngine.get_loc\u001b[0;34m()\u001b[0m\n",
      "File \u001b[0;32mpandas/_libs/index.pyx:101\u001b[0m, in \u001b[0;36mpandas._libs.index.IndexEngine.get_loc\u001b[0;34m()\u001b[0m\n",
      "File \u001b[0;32mpandas/_libs/hashtable_class_helper.pxi:4554\u001b[0m, in \u001b[0;36mpandas._libs.hashtable.PyObjectHashTable.get_item\u001b[0;34m()\u001b[0m\n",
      "File \u001b[0;32mpandas/_libs/hashtable_class_helper.pxi:4562\u001b[0m, in \u001b[0;36mpandas._libs.hashtable.PyObjectHashTable.get_item\u001b[0;34m()\u001b[0m\n",
      "\u001b[0;31mKeyError\u001b[0m: 3",
      "\nThe above exception was the direct cause of the following exception:\n",
      "\u001b[0;31mKeyError\u001b[0m                                  Traceback (most recent call last)",
      "Cell \u001b[0;32mIn [67], line 2\u001b[0m\n\u001b[1;32m      1\u001b[0m \u001b[38;5;66;03m#There's no column called \"3\" in this case\u001b[39;00m\n\u001b[0;32m----> 2\u001b[0m \u001b[43mdf\u001b[49m\u001b[43m[\u001b[49m\u001b[38;5;241;43m3\u001b[39;49m\u001b[43m]\u001b[49m\n",
      "File \u001b[0;32m/shared-libs/python3.9/py/lib/python3.9/site-packages/pandas/core/frame.py:3024\u001b[0m, in \u001b[0;36mDataFrame.__getitem__\u001b[0;34m(self, key)\u001b[0m\n\u001b[1;32m   3022\u001b[0m \u001b[38;5;28;01mif\u001b[39;00m \u001b[38;5;28mself\u001b[39m\u001b[38;5;241m.\u001b[39mcolumns\u001b[38;5;241m.\u001b[39mnlevels \u001b[38;5;241m>\u001b[39m \u001b[38;5;241m1\u001b[39m:\n\u001b[1;32m   3023\u001b[0m     \u001b[38;5;28;01mreturn\u001b[39;00m \u001b[38;5;28mself\u001b[39m\u001b[38;5;241m.\u001b[39m_getitem_multilevel(key)\n\u001b[0;32m-> 3024\u001b[0m indexer \u001b[38;5;241m=\u001b[39m \u001b[38;5;28;43mself\u001b[39;49m\u001b[38;5;241;43m.\u001b[39;49m\u001b[43mcolumns\u001b[49m\u001b[38;5;241;43m.\u001b[39;49m\u001b[43mget_loc\u001b[49m\u001b[43m(\u001b[49m\u001b[43mkey\u001b[49m\u001b[43m)\u001b[49m\n\u001b[1;32m   3025\u001b[0m \u001b[38;5;28;01mif\u001b[39;00m is_integer(indexer):\n\u001b[1;32m   3026\u001b[0m     indexer \u001b[38;5;241m=\u001b[39m [indexer]\n",
      "File \u001b[0;32m/shared-libs/python3.9/py/lib/python3.9/site-packages/pandas/core/indexes/base.py:3083\u001b[0m, in \u001b[0;36mIndex.get_loc\u001b[0;34m(self, key, method, tolerance)\u001b[0m\n\u001b[1;32m   3081\u001b[0m         \u001b[38;5;28;01mreturn\u001b[39;00m \u001b[38;5;28mself\u001b[39m\u001b[38;5;241m.\u001b[39m_engine\u001b[38;5;241m.\u001b[39mget_loc(casted_key)\n\u001b[1;32m   3082\u001b[0m     \u001b[38;5;28;01mexcept\u001b[39;00m \u001b[38;5;167;01mKeyError\u001b[39;00m \u001b[38;5;28;01mas\u001b[39;00m err:\n\u001b[0;32m-> 3083\u001b[0m         \u001b[38;5;28;01mraise\u001b[39;00m \u001b[38;5;167;01mKeyError\u001b[39;00m(key) \u001b[38;5;28;01mfrom\u001b[39;00m \u001b[38;5;21;01merr\u001b[39;00m\n\u001b[1;32m   3085\u001b[0m \u001b[38;5;28;01mif\u001b[39;00m tolerance \u001b[38;5;129;01mis\u001b[39;00m \u001b[38;5;129;01mnot\u001b[39;00m \u001b[38;5;28;01mNone\u001b[39;00m:\n\u001b[1;32m   3086\u001b[0m     tolerance \u001b[38;5;241m=\u001b[39m \u001b[38;5;28mself\u001b[39m\u001b[38;5;241m.\u001b[39m_convert_tolerance(tolerance, np\u001b[38;5;241m.\u001b[39masarray(key))\n",
      "\u001b[0;31mKeyError\u001b[0m: 3"
     ]
    }
   ],
   "source": [
    "#There's no column called \"3\" in this case\n",
    "df[3]"
   ]
  },
  {
   "cell_type": "markdown",
   "metadata": {
    "cell_id": "2c44ba71806a4981865dcb72df2a6868",
    "deepnote_cell_type": "markdown"
   },
   "source": [
    "Question asked in the chat: how could pick rows 234 to 236?"
   ]
  },
  {
   "cell_type": "code",
   "execution_count": null,
   "metadata": {
    "cell_id": "6957501fc889445e85932b897dad2723",
    "deepnote_cell_type": "code",
    "deepnote_to_be_reexecuted": false,
    "execution_millis": 282,
    "execution_start": 1691786151840,
    "source_hash": null
   },
   "outputs": [
    {
     "data": {
      "application/vnd.deepnote.dataframe.v3+json": {
       "column_count": 14,
       "columns": [
        {
         "dtype": "object",
         "name": "pickup",
         "stats": {
          "categories": [
           {
            "count": 1,
            "name": "2019-03-06 21:56:51"
           },
           {
            "count": 1,
            "name": "2019-03-20 23:19:55"
           },
           {
            "count": 1,
            "name": "2019-03-15 19:33:40"
           }
          ],
          "nan_count": 0,
          "unique_count": 3
         }
        },
        {
         "dtype": "object",
         "name": "dropoff",
         "stats": {
          "categories": [
           {
            "count": 1,
            "name": "2019-03-06 22:03:35"
           },
           {
            "count": 1,
            "name": "2019-03-20 23:46:00"
           },
           {
            "count": 1,
            "name": "2019-03-15 19:54:59"
           }
          ],
          "nan_count": 0,
          "unique_count": 3
         }
        },
        {
         "dtype": "int64",
         "name": "passengers",
         "stats": {
          "histogram": [
           {
            "bin_end": 0.6,
            "bin_start": 0.5,
            "count": 0
           },
           {
            "bin_end": 0.7,
            "bin_start": 0.6,
            "count": 0
           },
           {
            "bin_end": 0.8,
            "bin_start": 0.7,
            "count": 0
           },
           {
            "bin_end": 0.9,
            "bin_start": 0.8,
            "count": 0
           },
           {
            "bin_end": 1,
            "bin_start": 0.9,
            "count": 0
           },
           {
            "bin_end": 1.1,
            "bin_start": 1,
            "count": 3
           },
           {
            "bin_end": 1.2000000000000002,
            "bin_start": 1.1,
            "count": 0
           },
           {
            "bin_end": 1.3,
            "bin_start": 1.2000000000000002,
            "count": 0
           },
           {
            "bin_end": 1.4,
            "bin_start": 1.3,
            "count": 0
           },
           {
            "bin_end": 1.5,
            "bin_start": 1.4,
            "count": 0
           }
          ],
          "max": "1",
          "min": "1",
          "nan_count": 0,
          "unique_count": 1
         }
        },
        {
         "dtype": "float64",
         "name": "distance",
         "stats": {
          "histogram": [
           {
            "bin_end": 1.472,
            "bin_start": 1.1,
            "count": 1
           },
           {
            "bin_end": 1.844,
            "bin_start": 1.472,
            "count": 0
           },
           {
            "bin_end": 2.216,
            "bin_start": 1.844,
            "count": 0
           },
           {
            "bin_end": 2.588,
            "bin_start": 2.216,
            "count": 0
           },
           {
            "bin_end": 2.96,
            "bin_start": 2.588,
            "count": 0
           },
           {
            "bin_end": 3.3320000000000003,
            "bin_start": 2.96,
            "count": 1
           },
           {
            "bin_end": 3.704,
            "bin_start": 3.3320000000000003,
            "count": 0
           },
           {
            "bin_end": 4.0760000000000005,
            "bin_start": 3.704,
            "count": 0
           },
           {
            "bin_end": 4.448,
            "bin_start": 4.0760000000000005,
            "count": 0
           },
           {
            "bin_end": 4.82,
            "bin_start": 4.448,
            "count": 1
           }
          ],
          "max": "4.82",
          "min": "1.1",
          "nan_count": 0,
          "unique_count": 3
         }
        },
        {
         "dtype": "float64",
         "name": "fare",
         "stats": {
          "histogram": [
           {
            "bin_end": 7.8,
            "bin_start": 6.5,
            "count": 1
           },
           {
            "bin_end": 9.1,
            "bin_start": 7.8,
            "count": 0
           },
           {
            "bin_end": 10.4,
            "bin_start": 9.1,
            "count": 0
           },
           {
            "bin_end": 11.7,
            "bin_start": 10.4,
            "count": 0
           },
           {
            "bin_end": 13,
            "bin_start": 11.7,
            "count": 0
           },
           {
            "bin_end": 14.3,
            "bin_start": 13,
            "count": 0
           },
           {
            "bin_end": 15.6,
            "bin_start": 14.3,
            "count": 1
           },
           {
            "bin_end": 16.9,
            "bin_start": 15.6,
            "count": 0
           },
           {
            "bin_end": 18.200000000000003,
            "bin_start": 16.9,
            "count": 0
           },
           {
            "bin_end": 19.5,
            "bin_start": 18.200000000000003,
            "count": 1
           }
          ],
          "max": "19.5",
          "min": "6.5",
          "nan_count": 0,
          "unique_count": 3
         }
        },
        {
         "dtype": "float64",
         "name": "tip",
         "stats": {
          "histogram": [
           {
            "bin_end": 1.852,
            "bin_start": 1.54,
            "count": 1
           },
           {
            "bin_end": 2.164,
            "bin_start": 1.852,
            "count": 0
           },
           {
            "bin_end": 2.476,
            "bin_start": 2.164,
            "count": 0
           },
           {
            "bin_end": 2.7880000000000003,
            "bin_start": 2.476,
            "count": 0
           },
           {
            "bin_end": 3.1,
            "bin_start": 2.7880000000000003,
            "count": 1
           },
           {
            "bin_end": 3.412,
            "bin_start": 3.1,
            "count": 0
           },
           {
            "bin_end": 3.724,
            "bin_start": 3.412,
            "count": 0
           },
           {
            "bin_end": 4.036,
            "bin_start": 3.724,
            "count": 0
           },
           {
            "bin_end": 4.348,
            "bin_start": 4.036,
            "count": 0
           },
           {
            "bin_end": 4.66,
            "bin_start": 4.348,
            "count": 1
           }
          ],
          "max": "4.66",
          "min": "1.54",
          "nan_count": 0,
          "unique_count": 3
         }
        },
        {
         "dtype": "float64",
         "name": "tolls",
         "stats": {
          "histogram": [
           {
            "bin_end": -0.4,
            "bin_start": -0.5,
            "count": 0
           },
           {
            "bin_end": -0.3,
            "bin_start": -0.4,
            "count": 0
           },
           {
            "bin_end": -0.19999999999999996,
            "bin_start": -0.3,
            "count": 0
           },
           {
            "bin_end": -0.09999999999999998,
            "bin_start": -0.19999999999999996,
            "count": 0
           },
           {
            "bin_end": 0,
            "bin_start": -0.09999999999999998,
            "count": 0
           },
           {
            "bin_end": 0.10000000000000009,
            "bin_start": 0,
            "count": 3
           },
           {
            "bin_end": 0.20000000000000007,
            "bin_start": 0.10000000000000009,
            "count": 0
           },
           {
            "bin_end": 0.30000000000000004,
            "bin_start": 0.20000000000000007,
            "count": 0
           },
           {
            "bin_end": 0.4,
            "bin_start": 0.30000000000000004,
            "count": 0
           },
           {
            "bin_end": 0.5,
            "bin_start": 0.4,
            "count": 0
           }
          ],
          "max": "0.0",
          "min": "0.0",
          "nan_count": 0,
          "unique_count": 1
         }
        },
        {
         "dtype": "float64",
         "name": "total",
         "stats": {
          "histogram": [
           {
            "bin_end": 13.452,
            "bin_start": 11.84,
            "count": 1
           },
           {
            "bin_end": 15.064,
            "bin_start": 13.452,
            "count": 0
           },
           {
            "bin_end": 16.676000000000002,
            "bin_start": 15.064,
            "count": 0
           },
           {
            "bin_end": 18.288,
            "bin_start": 16.676000000000002,
            "count": 0
           },
           {
            "bin_end": 19.9,
            "bin_start": 18.288,
            "count": 0
           },
           {
            "bin_end": 21.512,
            "bin_start": 19.9,
            "count": 0
           },
           {
            "bin_end": 23.124000000000002,
            "bin_start": 21.512,
            "count": 1
           },
           {
            "bin_end": 24.736,
            "bin_start": 23.124000000000002,
            "count": 0
           },
           {
            "bin_end": 26.348,
            "bin_start": 24.736,
            "count": 0
           },
           {
            "bin_end": 27.96,
            "bin_start": 26.348,
            "count": 1
           }
          ],
          "max": "27.96",
          "min": "11.84",
          "nan_count": 0,
          "unique_count": 3
         }
        },
        {
         "dtype": "object",
         "name": "color",
         "stats": {
          "categories": [
           {
            "count": 3,
            "name": "yellow"
           }
          ],
          "nan_count": 0,
          "unique_count": 1
         }
        },
        {
         "dtype": "object",
         "name": "payment",
         "stats": {
          "categories": [
           {
            "count": 3,
            "name": "credit card"
           }
          ],
          "nan_count": 0,
          "unique_count": 1
         }
        },
        {
         "dtype": "object",
         "name": "pickup_zone",
         "stats": {
          "categories": [
           {
            "count": 1,
            "name": "Gramercy"
           },
           {
            "count": 1,
            "name": "Union Sq"
           },
           {
            "count": 1,
            "name": "Upper East Side South"
           }
          ],
          "nan_count": 0,
          "unique_count": 3
         }
        },
        {
         "dtype": "object",
         "name": "dropoff_zone",
         "stats": {
          "categories": [
           {
            "count": 1,
            "name": "West Village"
           },
           {
            "count": 1,
            "name": "Financial District South"
           },
           {
            "count": 1,
            "name": "Gramercy"
           }
          ],
          "nan_count": 0,
          "unique_count": 3
         }
        },
        {
         "dtype": "object",
         "name": "pickup_borough",
         "stats": {
          "categories": [
           {
            "count": 3,
            "name": "Manhattan"
           }
          ],
          "nan_count": 0,
          "unique_count": 1
         }
        },
        {
         "dtype": "object",
         "name": "dropoff_borough",
         "stats": {
          "categories": [
           {
            "count": 3,
            "name": "Manhattan"
           }
          ],
          "nan_count": 0,
          "unique_count": 1
         }
        },
        {
         "dtype": "int64",
         "name": "_deepnote_index_column"
        }
       ],
       "row_count": 3,
       "rows": [
        {
         "_deepnote_index_column": 234,
         "color": "yellow",
         "distance": 1.1,
         "dropoff": "2019-03-06 22:03:35",
         "dropoff_borough": "Manhattan",
         "dropoff_zone": "West Village",
         "fare": 6.5,
         "passengers": 1,
         "payment": "credit card",
         "pickup": "2019-03-06 21:56:51",
         "pickup_borough": "Manhattan",
         "pickup_zone": "Gramercy",
         "tip": 1.54,
         "tolls": 0,
         "total": 11.84
        },
        {
         "_deepnote_index_column": 235,
         "color": "yellow",
         "distance": 4.82,
         "dropoff": "2019-03-20 23:46:00",
         "dropoff_borough": "Manhattan",
         "dropoff_zone": "Financial District South",
         "fare": 19.5,
         "passengers": 1,
         "payment": "credit card",
         "pickup": "2019-03-20 23:19:55",
         "pickup_borough": "Manhattan",
         "pickup_zone": "Union Sq",
         "tip": 4.66,
         "tolls": 0,
         "total": 27.96
        },
        {
         "_deepnote_index_column": 236,
         "color": "yellow",
         "distance": 3.3,
         "dropoff": "2019-03-15 19:54:59",
         "dropoff_borough": "Manhattan",
         "dropoff_zone": "Gramercy",
         "fare": 15.5,
         "passengers": 1,
         "payment": "credit card",
         "pickup": "2019-03-15 19:33:40",
         "pickup_borough": "Manhattan",
         "pickup_zone": "Upper East Side South",
         "tip": 2.96,
         "tolls": 0,
         "total": 22.76
        }
       ]
      },
      "text/html": [
       "<div>\n",
       "<style scoped>\n",
       "    .dataframe tbody tr th:only-of-type {\n",
       "        vertical-align: middle;\n",
       "    }\n",
       "\n",
       "    .dataframe tbody tr th {\n",
       "        vertical-align: top;\n",
       "    }\n",
       "\n",
       "    .dataframe thead th {\n",
       "        text-align: right;\n",
       "    }\n",
       "</style>\n",
       "<table border=\"1\" class=\"dataframe\">\n",
       "  <thead>\n",
       "    <tr style=\"text-align: right;\">\n",
       "      <th></th>\n",
       "      <th>pickup</th>\n",
       "      <th>dropoff</th>\n",
       "      <th>passengers</th>\n",
       "      <th>distance</th>\n",
       "      <th>fare</th>\n",
       "      <th>tip</th>\n",
       "      <th>tolls</th>\n",
       "      <th>total</th>\n",
       "      <th>color</th>\n",
       "      <th>payment</th>\n",
       "      <th>pickup_zone</th>\n",
       "      <th>dropoff_zone</th>\n",
       "      <th>pickup_borough</th>\n",
       "      <th>dropoff_borough</th>\n",
       "    </tr>\n",
       "  </thead>\n",
       "  <tbody>\n",
       "    <tr>\n",
       "      <th>234</th>\n",
       "      <td>2019-03-06 21:56:51</td>\n",
       "      <td>2019-03-06 22:03:35</td>\n",
       "      <td>1</td>\n",
       "      <td>1.10</td>\n",
       "      <td>6.5</td>\n",
       "      <td>1.54</td>\n",
       "      <td>0.0</td>\n",
       "      <td>11.84</td>\n",
       "      <td>yellow</td>\n",
       "      <td>credit card</td>\n",
       "      <td>Gramercy</td>\n",
       "      <td>West Village</td>\n",
       "      <td>Manhattan</td>\n",
       "      <td>Manhattan</td>\n",
       "    </tr>\n",
       "    <tr>\n",
       "      <th>235</th>\n",
       "      <td>2019-03-20 23:19:55</td>\n",
       "      <td>2019-03-20 23:46:00</td>\n",
       "      <td>1</td>\n",
       "      <td>4.82</td>\n",
       "      <td>19.5</td>\n",
       "      <td>4.66</td>\n",
       "      <td>0.0</td>\n",
       "      <td>27.96</td>\n",
       "      <td>yellow</td>\n",
       "      <td>credit card</td>\n",
       "      <td>Union Sq</td>\n",
       "      <td>Financial District South</td>\n",
       "      <td>Manhattan</td>\n",
       "      <td>Manhattan</td>\n",
       "    </tr>\n",
       "    <tr>\n",
       "      <th>236</th>\n",
       "      <td>2019-03-15 19:33:40</td>\n",
       "      <td>2019-03-15 19:54:59</td>\n",
       "      <td>1</td>\n",
       "      <td>3.30</td>\n",
       "      <td>15.5</td>\n",
       "      <td>2.96</td>\n",
       "      <td>0.0</td>\n",
       "      <td>22.76</td>\n",
       "      <td>yellow</td>\n",
       "      <td>credit card</td>\n",
       "      <td>Upper East Side South</td>\n",
       "      <td>Gramercy</td>\n",
       "      <td>Manhattan</td>\n",
       "      <td>Manhattan</td>\n",
       "    </tr>\n",
       "  </tbody>\n",
       "</table>\n",
       "</div>"
      ],
      "text/plain": [
       "                  pickup              dropoff  passengers  distance  fare  \\\n",
       "234  2019-03-06 21:56:51  2019-03-06 22:03:35           1      1.10   6.5   \n",
       "235  2019-03-20 23:19:55  2019-03-20 23:46:00           1      4.82  19.5   \n",
       "236  2019-03-15 19:33:40  2019-03-15 19:54:59           1      3.30  15.5   \n",
       "\n",
       "      tip  tolls  total   color      payment            pickup_zone  \\\n",
       "234  1.54    0.0  11.84  yellow  credit card               Gramercy   \n",
       "235  4.66    0.0  27.96  yellow  credit card               Union Sq   \n",
       "236  2.96    0.0  22.76  yellow  credit card  Upper East Side South   \n",
       "\n",
       "                 dropoff_zone pickup_borough dropoff_borough  \n",
       "234              West Village      Manhattan       Manhattan  \n",
       "235  Financial District South      Manhattan       Manhattan  \n",
       "236                  Gramercy      Manhattan       Manhattan  "
      ]
     },
     "execution_count": 68,
     "metadata": {},
     "output_type": "execute_result"
    }
   ],
   "source": [
    "df[234:237]"
   ]
  },
  {
   "cell_type": "code",
   "execution_count": null,
   "metadata": {
    "cell_id": "ff1751a8a9cf46acbe0b18216407fce0",
    "deepnote_cell_type": "code",
    "deepnote_to_be_reexecuted": false,
    "execution_millis": 190,
    "execution_start": 1691786258901,
    "source_hash": null
   },
   "outputs": [
    {
     "data": {
      "application/vnd.deepnote.dataframe.v3+json": {
       "column_count": 14,
       "columns": [
        {
         "dtype": "object",
         "name": "pickup",
         "stats": {
          "categories": [
           {
            "count": 1,
            "name": "2019-03-06 21:56:51"
           },
           {
            "count": 1,
            "name": "2019-03-20 23:19:55"
           },
           {
            "count": 1,
            "name": "2019-03-15 19:33:40"
           }
          ],
          "nan_count": 0,
          "unique_count": 3
         }
        },
        {
         "dtype": "object",
         "name": "dropoff",
         "stats": {
          "categories": [
           {
            "count": 1,
            "name": "2019-03-06 22:03:35"
           },
           {
            "count": 1,
            "name": "2019-03-20 23:46:00"
           },
           {
            "count": 1,
            "name": "2019-03-15 19:54:59"
           }
          ],
          "nan_count": 0,
          "unique_count": 3
         }
        },
        {
         "dtype": "int64",
         "name": "passengers",
         "stats": {
          "histogram": [
           {
            "bin_end": 0.6,
            "bin_start": 0.5,
            "count": 0
           },
           {
            "bin_end": 0.7,
            "bin_start": 0.6,
            "count": 0
           },
           {
            "bin_end": 0.8,
            "bin_start": 0.7,
            "count": 0
           },
           {
            "bin_end": 0.9,
            "bin_start": 0.8,
            "count": 0
           },
           {
            "bin_end": 1,
            "bin_start": 0.9,
            "count": 0
           },
           {
            "bin_end": 1.1,
            "bin_start": 1,
            "count": 3
           },
           {
            "bin_end": 1.2000000000000002,
            "bin_start": 1.1,
            "count": 0
           },
           {
            "bin_end": 1.3,
            "bin_start": 1.2000000000000002,
            "count": 0
           },
           {
            "bin_end": 1.4,
            "bin_start": 1.3,
            "count": 0
           },
           {
            "bin_end": 1.5,
            "bin_start": 1.4,
            "count": 0
           }
          ],
          "max": "1",
          "min": "1",
          "nan_count": 0,
          "unique_count": 1
         }
        },
        {
         "dtype": "float64",
         "name": "distance",
         "stats": {
          "histogram": [
           {
            "bin_end": 1.472,
            "bin_start": 1.1,
            "count": 1
           },
           {
            "bin_end": 1.844,
            "bin_start": 1.472,
            "count": 0
           },
           {
            "bin_end": 2.216,
            "bin_start": 1.844,
            "count": 0
           },
           {
            "bin_end": 2.588,
            "bin_start": 2.216,
            "count": 0
           },
           {
            "bin_end": 2.96,
            "bin_start": 2.588,
            "count": 0
           },
           {
            "bin_end": 3.3320000000000003,
            "bin_start": 2.96,
            "count": 1
           },
           {
            "bin_end": 3.704,
            "bin_start": 3.3320000000000003,
            "count": 0
           },
           {
            "bin_end": 4.0760000000000005,
            "bin_start": 3.704,
            "count": 0
           },
           {
            "bin_end": 4.448,
            "bin_start": 4.0760000000000005,
            "count": 0
           },
           {
            "bin_end": 4.82,
            "bin_start": 4.448,
            "count": 1
           }
          ],
          "max": "4.82",
          "min": "1.1",
          "nan_count": 0,
          "unique_count": 3
         }
        },
        {
         "dtype": "float64",
         "name": "fare",
         "stats": {
          "histogram": [
           {
            "bin_end": 7.8,
            "bin_start": 6.5,
            "count": 1
           },
           {
            "bin_end": 9.1,
            "bin_start": 7.8,
            "count": 0
           },
           {
            "bin_end": 10.4,
            "bin_start": 9.1,
            "count": 0
           },
           {
            "bin_end": 11.7,
            "bin_start": 10.4,
            "count": 0
           },
           {
            "bin_end": 13,
            "bin_start": 11.7,
            "count": 0
           },
           {
            "bin_end": 14.3,
            "bin_start": 13,
            "count": 0
           },
           {
            "bin_end": 15.6,
            "bin_start": 14.3,
            "count": 1
           },
           {
            "bin_end": 16.9,
            "bin_start": 15.6,
            "count": 0
           },
           {
            "bin_end": 18.200000000000003,
            "bin_start": 16.9,
            "count": 0
           },
           {
            "bin_end": 19.5,
            "bin_start": 18.200000000000003,
            "count": 1
           }
          ],
          "max": "19.5",
          "min": "6.5",
          "nan_count": 0,
          "unique_count": 3
         }
        },
        {
         "dtype": "float64",
         "name": "tip",
         "stats": {
          "histogram": [
           {
            "bin_end": 1.852,
            "bin_start": 1.54,
            "count": 1
           },
           {
            "bin_end": 2.164,
            "bin_start": 1.852,
            "count": 0
           },
           {
            "bin_end": 2.476,
            "bin_start": 2.164,
            "count": 0
           },
           {
            "bin_end": 2.7880000000000003,
            "bin_start": 2.476,
            "count": 0
           },
           {
            "bin_end": 3.1,
            "bin_start": 2.7880000000000003,
            "count": 1
           },
           {
            "bin_end": 3.412,
            "bin_start": 3.1,
            "count": 0
           },
           {
            "bin_end": 3.724,
            "bin_start": 3.412,
            "count": 0
           },
           {
            "bin_end": 4.036,
            "bin_start": 3.724,
            "count": 0
           },
           {
            "bin_end": 4.348,
            "bin_start": 4.036,
            "count": 0
           },
           {
            "bin_end": 4.66,
            "bin_start": 4.348,
            "count": 1
           }
          ],
          "max": "4.66",
          "min": "1.54",
          "nan_count": 0,
          "unique_count": 3
         }
        },
        {
         "dtype": "float64",
         "name": "tolls",
         "stats": {
          "histogram": [
           {
            "bin_end": -0.4,
            "bin_start": -0.5,
            "count": 0
           },
           {
            "bin_end": -0.3,
            "bin_start": -0.4,
            "count": 0
           },
           {
            "bin_end": -0.19999999999999996,
            "bin_start": -0.3,
            "count": 0
           },
           {
            "bin_end": -0.09999999999999998,
            "bin_start": -0.19999999999999996,
            "count": 0
           },
           {
            "bin_end": 0,
            "bin_start": -0.09999999999999998,
            "count": 0
           },
           {
            "bin_end": 0.10000000000000009,
            "bin_start": 0,
            "count": 3
           },
           {
            "bin_end": 0.20000000000000007,
            "bin_start": 0.10000000000000009,
            "count": 0
           },
           {
            "bin_end": 0.30000000000000004,
            "bin_start": 0.20000000000000007,
            "count": 0
           },
           {
            "bin_end": 0.4,
            "bin_start": 0.30000000000000004,
            "count": 0
           },
           {
            "bin_end": 0.5,
            "bin_start": 0.4,
            "count": 0
           }
          ],
          "max": "0.0",
          "min": "0.0",
          "nan_count": 0,
          "unique_count": 1
         }
        },
        {
         "dtype": "float64",
         "name": "total",
         "stats": {
          "histogram": [
           {
            "bin_end": 13.452,
            "bin_start": 11.84,
            "count": 1
           },
           {
            "bin_end": 15.064,
            "bin_start": 13.452,
            "count": 0
           },
           {
            "bin_end": 16.676000000000002,
            "bin_start": 15.064,
            "count": 0
           },
           {
            "bin_end": 18.288,
            "bin_start": 16.676000000000002,
            "count": 0
           },
           {
            "bin_end": 19.9,
            "bin_start": 18.288,
            "count": 0
           },
           {
            "bin_end": 21.512,
            "bin_start": 19.9,
            "count": 0
           },
           {
            "bin_end": 23.124000000000002,
            "bin_start": 21.512,
            "count": 1
           },
           {
            "bin_end": 24.736,
            "bin_start": 23.124000000000002,
            "count": 0
           },
           {
            "bin_end": 26.348,
            "bin_start": 24.736,
            "count": 0
           },
           {
            "bin_end": 27.96,
            "bin_start": 26.348,
            "count": 1
           }
          ],
          "max": "27.96",
          "min": "11.84",
          "nan_count": 0,
          "unique_count": 3
         }
        },
        {
         "dtype": "object",
         "name": "color",
         "stats": {
          "categories": [
           {
            "count": 3,
            "name": "yellow"
           }
          ],
          "nan_count": 0,
          "unique_count": 1
         }
        },
        {
         "dtype": "object",
         "name": "payment",
         "stats": {
          "categories": [
           {
            "count": 3,
            "name": "credit card"
           }
          ],
          "nan_count": 0,
          "unique_count": 1
         }
        },
        {
         "dtype": "object",
         "name": "pickup_zone",
         "stats": {
          "categories": [
           {
            "count": 1,
            "name": "Gramercy"
           },
           {
            "count": 1,
            "name": "Union Sq"
           },
           {
            "count": 1,
            "name": "Upper East Side South"
           }
          ],
          "nan_count": 0,
          "unique_count": 3
         }
        },
        {
         "dtype": "object",
         "name": "dropoff_zone",
         "stats": {
          "categories": [
           {
            "count": 1,
            "name": "West Village"
           },
           {
            "count": 1,
            "name": "Financial District South"
           },
           {
            "count": 1,
            "name": "Gramercy"
           }
          ],
          "nan_count": 0,
          "unique_count": 3
         }
        },
        {
         "dtype": "object",
         "name": "pickup_borough",
         "stats": {
          "categories": [
           {
            "count": 3,
            "name": "Manhattan"
           }
          ],
          "nan_count": 0,
          "unique_count": 1
         }
        },
        {
         "dtype": "object",
         "name": "dropoff_borough",
         "stats": {
          "categories": [
           {
            "count": 3,
            "name": "Manhattan"
           }
          ],
          "nan_count": 0,
          "unique_count": 1
         }
        },
        {
         "dtype": "int64",
         "name": "_deepnote_index_column"
        }
       ],
       "row_count": 3,
       "rows": [
        {
         "_deepnote_index_column": 234,
         "color": "yellow",
         "distance": 1.1,
         "dropoff": "2019-03-06 22:03:35",
         "dropoff_borough": "Manhattan",
         "dropoff_zone": "West Village",
         "fare": 6.5,
         "passengers": 1,
         "payment": "credit card",
         "pickup": "2019-03-06 21:56:51",
         "pickup_borough": "Manhattan",
         "pickup_zone": "Gramercy",
         "tip": 1.54,
         "tolls": 0,
         "total": 11.84
        },
        {
         "_deepnote_index_column": 235,
         "color": "yellow",
         "distance": 4.82,
         "dropoff": "2019-03-20 23:46:00",
         "dropoff_borough": "Manhattan",
         "dropoff_zone": "Financial District South",
         "fare": 19.5,
         "passengers": 1,
         "payment": "credit card",
         "pickup": "2019-03-20 23:19:55",
         "pickup_borough": "Manhattan",
         "pickup_zone": "Union Sq",
         "tip": 4.66,
         "tolls": 0,
         "total": 27.96
        },
        {
         "_deepnote_index_column": 236,
         "color": "yellow",
         "distance": 3.3,
         "dropoff": "2019-03-15 19:54:59",
         "dropoff_borough": "Manhattan",
         "dropoff_zone": "Gramercy",
         "fare": 15.5,
         "passengers": 1,
         "payment": "credit card",
         "pickup": "2019-03-15 19:33:40",
         "pickup_borough": "Manhattan",
         "pickup_zone": "Upper East Side South",
         "tip": 2.96,
         "tolls": 0,
         "total": 22.76
        }
       ]
      },
      "text/html": [
       "<div>\n",
       "<style scoped>\n",
       "    .dataframe tbody tr th:only-of-type {\n",
       "        vertical-align: middle;\n",
       "    }\n",
       "\n",
       "    .dataframe tbody tr th {\n",
       "        vertical-align: top;\n",
       "    }\n",
       "\n",
       "    .dataframe thead th {\n",
       "        text-align: right;\n",
       "    }\n",
       "</style>\n",
       "<table border=\"1\" class=\"dataframe\">\n",
       "  <thead>\n",
       "    <tr style=\"text-align: right;\">\n",
       "      <th></th>\n",
       "      <th>pickup</th>\n",
       "      <th>dropoff</th>\n",
       "      <th>passengers</th>\n",
       "      <th>distance</th>\n",
       "      <th>fare</th>\n",
       "      <th>tip</th>\n",
       "      <th>tolls</th>\n",
       "      <th>total</th>\n",
       "      <th>color</th>\n",
       "      <th>payment</th>\n",
       "      <th>pickup_zone</th>\n",
       "      <th>dropoff_zone</th>\n",
       "      <th>pickup_borough</th>\n",
       "      <th>dropoff_borough</th>\n",
       "    </tr>\n",
       "  </thead>\n",
       "  <tbody>\n",
       "    <tr>\n",
       "      <th>234</th>\n",
       "      <td>2019-03-06 21:56:51</td>\n",
       "      <td>2019-03-06 22:03:35</td>\n",
       "      <td>1</td>\n",
       "      <td>1.10</td>\n",
       "      <td>6.5</td>\n",
       "      <td>1.54</td>\n",
       "      <td>0.0</td>\n",
       "      <td>11.84</td>\n",
       "      <td>yellow</td>\n",
       "      <td>credit card</td>\n",
       "      <td>Gramercy</td>\n",
       "      <td>West Village</td>\n",
       "      <td>Manhattan</td>\n",
       "      <td>Manhattan</td>\n",
       "    </tr>\n",
       "    <tr>\n",
       "      <th>235</th>\n",
       "      <td>2019-03-20 23:19:55</td>\n",
       "      <td>2019-03-20 23:46:00</td>\n",
       "      <td>1</td>\n",
       "      <td>4.82</td>\n",
       "      <td>19.5</td>\n",
       "      <td>4.66</td>\n",
       "      <td>0.0</td>\n",
       "      <td>27.96</td>\n",
       "      <td>yellow</td>\n",
       "      <td>credit card</td>\n",
       "      <td>Union Sq</td>\n",
       "      <td>Financial District South</td>\n",
       "      <td>Manhattan</td>\n",
       "      <td>Manhattan</td>\n",
       "    </tr>\n",
       "    <tr>\n",
       "      <th>236</th>\n",
       "      <td>2019-03-15 19:33:40</td>\n",
       "      <td>2019-03-15 19:54:59</td>\n",
       "      <td>1</td>\n",
       "      <td>3.30</td>\n",
       "      <td>15.5</td>\n",
       "      <td>2.96</td>\n",
       "      <td>0.0</td>\n",
       "      <td>22.76</td>\n",
       "      <td>yellow</td>\n",
       "      <td>credit card</td>\n",
       "      <td>Upper East Side South</td>\n",
       "      <td>Gramercy</td>\n",
       "      <td>Manhattan</td>\n",
       "      <td>Manhattan</td>\n",
       "    </tr>\n",
       "  </tbody>\n",
       "</table>\n",
       "</div>"
      ],
      "text/plain": [
       "                  pickup              dropoff  passengers  distance  fare  \\\n",
       "234  2019-03-06 21:56:51  2019-03-06 22:03:35           1      1.10   6.5   \n",
       "235  2019-03-20 23:19:55  2019-03-20 23:46:00           1      4.82  19.5   \n",
       "236  2019-03-15 19:33:40  2019-03-15 19:54:59           1      3.30  15.5   \n",
       "\n",
       "      tip  tolls  total   color      payment            pickup_zone  \\\n",
       "234  1.54    0.0  11.84  yellow  credit card               Gramercy   \n",
       "235  4.66    0.0  27.96  yellow  credit card               Union Sq   \n",
       "236  2.96    0.0  22.76  yellow  credit card  Upper East Side South   \n",
       "\n",
       "                 dropoff_zone pickup_borough dropoff_borough  \n",
       "234              West Village      Manhattan       Manhattan  \n",
       "235  Financial District South      Manhattan       Manhattan  \n",
       "236                  Gramercy      Manhattan       Manhattan  "
      ]
     },
     "execution_count": 69,
     "metadata": {},
     "output_type": "execute_result"
    }
   ],
   "source": [
    "df.iloc[234:237,:]"
   ]
  },
  {
   "cell_type": "markdown",
   "metadata": {
    "cell_id": "2c6ed7b10e0b45c9937b07652d633c3f",
    "deepnote_cell_type": "markdown"
   },
   "source": [
    "By slice, we mean indexing using `:` to get a large number of rows, for example, without having to type them all out by hand."
   ]
  },
  {
   "cell_type": "markdown",
   "metadata": {
    "cell_id": "3704e5eb87e44e099673abf12fee50fd",
    "deepnote_cell_type": "markdown"
   },
   "source": [
    "How could we get row 234?"
   ]
  },
  {
   "cell_type": "code",
   "execution_count": null,
   "metadata": {
    "cell_id": "8e8dac836d864eceac8a96ad63c27832",
    "deepnote_cell_type": "code",
    "deepnote_to_be_reexecuted": false,
    "execution_millis": 89,
    "execution_start": 1691786347686,
    "source_hash": null
   },
   "outputs": [
    {
     "data": {
      "application/vnd.deepnote.dataframe.v3+json": {
       "column_count": 14,
       "columns": [
        {
         "dtype": "object",
         "name": "pickup",
         "stats": {
          "categories": [
           {
            "count": 1,
            "name": "2019-03-06 21:56:51"
           }
          ],
          "nan_count": 0,
          "unique_count": 1
         }
        },
        {
         "dtype": "object",
         "name": "dropoff",
         "stats": {
          "categories": [
           {
            "count": 1,
            "name": "2019-03-06 22:03:35"
           }
          ],
          "nan_count": 0,
          "unique_count": 1
         }
        },
        {
         "dtype": "int64",
         "name": "passengers",
         "stats": {
          "histogram": [
           {
            "bin_end": 0.6,
            "bin_start": 0.5,
            "count": 0
           },
           {
            "bin_end": 0.7,
            "bin_start": 0.6,
            "count": 0
           },
           {
            "bin_end": 0.8,
            "bin_start": 0.7,
            "count": 0
           },
           {
            "bin_end": 0.9,
            "bin_start": 0.8,
            "count": 0
           },
           {
            "bin_end": 1,
            "bin_start": 0.9,
            "count": 0
           },
           {
            "bin_end": 1.1,
            "bin_start": 1,
            "count": 1
           },
           {
            "bin_end": 1.2000000000000002,
            "bin_start": 1.1,
            "count": 0
           },
           {
            "bin_end": 1.3,
            "bin_start": 1.2000000000000002,
            "count": 0
           },
           {
            "bin_end": 1.4,
            "bin_start": 1.3,
            "count": 0
           },
           {
            "bin_end": 1.5,
            "bin_start": 1.4,
            "count": 0
           }
          ],
          "max": "1",
          "min": "1",
          "nan_count": 0,
          "unique_count": 1
         }
        },
        {
         "dtype": "float64",
         "name": "distance",
         "stats": {
          "histogram": [
           {
            "bin_end": 0.7000000000000001,
            "bin_start": 0.6000000000000001,
            "count": 0
           },
           {
            "bin_end": 0.8,
            "bin_start": 0.7000000000000001,
            "count": 0
           },
           {
            "bin_end": 0.9000000000000001,
            "bin_start": 0.8,
            "count": 0
           },
           {
            "bin_end": 1,
            "bin_start": 0.9000000000000001,
            "count": 0
           },
           {
            "bin_end": 1.1,
            "bin_start": 1,
            "count": 0
           },
           {
            "bin_end": 1.2000000000000002,
            "bin_start": 1.1,
            "count": 1
           },
           {
            "bin_end": 1.3000000000000003,
            "bin_start": 1.2000000000000002,
            "count": 0
           },
           {
            "bin_end": 1.4000000000000001,
            "bin_start": 1.3000000000000003,
            "count": 0
           },
           {
            "bin_end": 1.5,
            "bin_start": 1.4000000000000001,
            "count": 0
           },
           {
            "bin_end": 1.6,
            "bin_start": 1.5,
            "count": 0
           }
          ],
          "max": "1.1",
          "min": "1.1",
          "nan_count": 0,
          "unique_count": 1
         }
        },
        {
         "dtype": "float64",
         "name": "fare",
         "stats": {
          "histogram": [
           {
            "bin_end": 6.1,
            "bin_start": 6,
            "count": 0
           },
           {
            "bin_end": 6.2,
            "bin_start": 6.1,
            "count": 0
           },
           {
            "bin_end": 6.3,
            "bin_start": 6.2,
            "count": 0
           },
           {
            "bin_end": 6.4,
            "bin_start": 6.3,
            "count": 0
           },
           {
            "bin_end": 6.5,
            "bin_start": 6.4,
            "count": 0
           },
           {
            "bin_end": 6.6,
            "bin_start": 6.5,
            "count": 1
           },
           {
            "bin_end": 6.7,
            "bin_start": 6.6,
            "count": 0
           },
           {
            "bin_end": 6.8,
            "bin_start": 6.7,
            "count": 0
           },
           {
            "bin_end": 6.9,
            "bin_start": 6.8,
            "count": 0
           },
           {
            "bin_end": 7,
            "bin_start": 6.9,
            "count": 0
           }
          ],
          "max": "6.5",
          "min": "6.5",
          "nan_count": 0,
          "unique_count": 1
         }
        },
        {
         "dtype": "float64",
         "name": "tip",
         "stats": {
          "histogram": [
           {
            "bin_end": 1.1400000000000001,
            "bin_start": 1.04,
            "count": 0
           },
           {
            "bin_end": 1.24,
            "bin_start": 1.1400000000000001,
            "count": 0
           },
           {
            "bin_end": 1.34,
            "bin_start": 1.24,
            "count": 0
           },
           {
            "bin_end": 1.44,
            "bin_start": 1.34,
            "count": 0
           },
           {
            "bin_end": 1.54,
            "bin_start": 1.44,
            "count": 0
           },
           {
            "bin_end": 1.6400000000000001,
            "bin_start": 1.54,
            "count": 1
           },
           {
            "bin_end": 1.7400000000000002,
            "bin_start": 1.6400000000000001,
            "count": 0
           },
           {
            "bin_end": 1.84,
            "bin_start": 1.7400000000000002,
            "count": 0
           },
           {
            "bin_end": 1.94,
            "bin_start": 1.84,
            "count": 0
           },
           {
            "bin_end": 2.04,
            "bin_start": 1.94,
            "count": 0
           }
          ],
          "max": "1.54",
          "min": "1.54",
          "nan_count": 0,
          "unique_count": 1
         }
        },
        {
         "dtype": "float64",
         "name": "tolls",
         "stats": {
          "histogram": [
           {
            "bin_end": -0.4,
            "bin_start": -0.5,
            "count": 0
           },
           {
            "bin_end": -0.3,
            "bin_start": -0.4,
            "count": 0
           },
           {
            "bin_end": -0.19999999999999996,
            "bin_start": -0.3,
            "count": 0
           },
           {
            "bin_end": -0.09999999999999998,
            "bin_start": -0.19999999999999996,
            "count": 0
           },
           {
            "bin_end": 0,
            "bin_start": -0.09999999999999998,
            "count": 0
           },
           {
            "bin_end": 0.10000000000000009,
            "bin_start": 0,
            "count": 1
           },
           {
            "bin_end": 0.20000000000000007,
            "bin_start": 0.10000000000000009,
            "count": 0
           },
           {
            "bin_end": 0.30000000000000004,
            "bin_start": 0.20000000000000007,
            "count": 0
           },
           {
            "bin_end": 0.4,
            "bin_start": 0.30000000000000004,
            "count": 0
           },
           {
            "bin_end": 0.5,
            "bin_start": 0.4,
            "count": 0
           }
          ],
          "max": "0.0",
          "min": "0.0",
          "nan_count": 0,
          "unique_count": 1
         }
        },
        {
         "dtype": "float64",
         "name": "total",
         "stats": {
          "histogram": [
           {
            "bin_end": 11.44,
            "bin_start": 11.34,
            "count": 0
           },
           {
            "bin_end": 11.54,
            "bin_start": 11.44,
            "count": 0
           },
           {
            "bin_end": 11.64,
            "bin_start": 11.54,
            "count": 0
           },
           {
            "bin_end": 11.74,
            "bin_start": 11.64,
            "count": 0
           },
           {
            "bin_end": 11.84,
            "bin_start": 11.74,
            "count": 0
           },
           {
            "bin_end": 11.94,
            "bin_start": 11.84,
            "count": 1
           },
           {
            "bin_end": 12.04,
            "bin_start": 11.94,
            "count": 0
           },
           {
            "bin_end": 12.14,
            "bin_start": 12.04,
            "count": 0
           },
           {
            "bin_end": 12.24,
            "bin_start": 12.14,
            "count": 0
           },
           {
            "bin_end": 12.34,
            "bin_start": 12.24,
            "count": 0
           }
          ],
          "max": "11.84",
          "min": "11.84",
          "nan_count": 0,
          "unique_count": 1
         }
        },
        {
         "dtype": "object",
         "name": "color",
         "stats": {
          "categories": [
           {
            "count": 1,
            "name": "yellow"
           }
          ],
          "nan_count": 0,
          "unique_count": 1
         }
        },
        {
         "dtype": "object",
         "name": "payment",
         "stats": {
          "categories": [
           {
            "count": 1,
            "name": "credit card"
           }
          ],
          "nan_count": 0,
          "unique_count": 1
         }
        },
        {
         "dtype": "object",
         "name": "pickup_zone",
         "stats": {
          "categories": [
           {
            "count": 1,
            "name": "Gramercy"
           }
          ],
          "nan_count": 0,
          "unique_count": 1
         }
        },
        {
         "dtype": "object",
         "name": "dropoff_zone",
         "stats": {
          "categories": [
           {
            "count": 1,
            "name": "West Village"
           }
          ],
          "nan_count": 0,
          "unique_count": 1
         }
        },
        {
         "dtype": "object",
         "name": "pickup_borough",
         "stats": {
          "categories": [
           {
            "count": 1,
            "name": "Manhattan"
           }
          ],
          "nan_count": 0,
          "unique_count": 1
         }
        },
        {
         "dtype": "object",
         "name": "dropoff_borough",
         "stats": {
          "categories": [
           {
            "count": 1,
            "name": "Manhattan"
           }
          ],
          "nan_count": 0,
          "unique_count": 1
         }
        },
        {
         "dtype": "int64",
         "name": "_deepnote_index_column"
        }
       ],
       "row_count": 1,
       "rows": [
        {
         "_deepnote_index_column": 234,
         "color": "yellow",
         "distance": 1.1,
         "dropoff": "2019-03-06 22:03:35",
         "dropoff_borough": "Manhattan",
         "dropoff_zone": "West Village",
         "fare": 6.5,
         "passengers": 1,
         "payment": "credit card",
         "pickup": "2019-03-06 21:56:51",
         "pickup_borough": "Manhattan",
         "pickup_zone": "Gramercy",
         "tip": 1.54,
         "tolls": 0,
         "total": 11.84
        }
       ]
      },
      "text/html": [
       "<div>\n",
       "<style scoped>\n",
       "    .dataframe tbody tr th:only-of-type {\n",
       "        vertical-align: middle;\n",
       "    }\n",
       "\n",
       "    .dataframe tbody tr th {\n",
       "        vertical-align: top;\n",
       "    }\n",
       "\n",
       "    .dataframe thead th {\n",
       "        text-align: right;\n",
       "    }\n",
       "</style>\n",
       "<table border=\"1\" class=\"dataframe\">\n",
       "  <thead>\n",
       "    <tr style=\"text-align: right;\">\n",
       "      <th></th>\n",
       "      <th>pickup</th>\n",
       "      <th>dropoff</th>\n",
       "      <th>passengers</th>\n",
       "      <th>distance</th>\n",
       "      <th>fare</th>\n",
       "      <th>tip</th>\n",
       "      <th>tolls</th>\n",
       "      <th>total</th>\n",
       "      <th>color</th>\n",
       "      <th>payment</th>\n",
       "      <th>pickup_zone</th>\n",
       "      <th>dropoff_zone</th>\n",
       "      <th>pickup_borough</th>\n",
       "      <th>dropoff_borough</th>\n",
       "    </tr>\n",
       "  </thead>\n",
       "  <tbody>\n",
       "    <tr>\n",
       "      <th>234</th>\n",
       "      <td>2019-03-06 21:56:51</td>\n",
       "      <td>2019-03-06 22:03:35</td>\n",
       "      <td>1</td>\n",
       "      <td>1.1</td>\n",
       "      <td>6.5</td>\n",
       "      <td>1.54</td>\n",
       "      <td>0.0</td>\n",
       "      <td>11.84</td>\n",
       "      <td>yellow</td>\n",
       "      <td>credit card</td>\n",
       "      <td>Gramercy</td>\n",
       "      <td>West Village</td>\n",
       "      <td>Manhattan</td>\n",
       "      <td>Manhattan</td>\n",
       "    </tr>\n",
       "  </tbody>\n",
       "</table>\n",
       "</div>"
      ],
      "text/plain": [
       "                  pickup              dropoff  passengers  distance  fare  \\\n",
       "234  2019-03-06 21:56:51  2019-03-06 22:03:35           1       1.1   6.5   \n",
       "\n",
       "      tip  tolls  total   color      payment pickup_zone  dropoff_zone  \\\n",
       "234  1.54    0.0  11.84  yellow  credit card    Gramercy  West Village   \n",
       "\n",
       "    pickup_borough dropoff_borough  \n",
       "234      Manhattan       Manhattan  "
      ]
     },
     "execution_count": 71,
     "metadata": {},
     "output_type": "execute_result"
    }
   ],
   "source": [
    "#Cheat!\n",
    "df[234:235]"
   ]
  },
  {
   "cell_type": "code",
   "execution_count": null,
   "metadata": {
    "cell_id": "6fa0d7bdebf043c7acbf26dbae914df8",
    "deepnote_cell_type": "code",
    "deepnote_to_be_reexecuted": false,
    "execution_millis": 15,
    "execution_start": 1691786358853,
    "source_hash": null
   },
   "outputs": [
    {
     "data": {
      "text/plain": [
       "pickup             2019-03-06 21:56:51\n",
       "dropoff            2019-03-06 22:03:35\n",
       "passengers                           1\n",
       "distance                           1.1\n",
       "fare                               6.5\n",
       "tip                               1.54\n",
       "tolls                              0.0\n",
       "total                            11.84\n",
       "color                           yellow\n",
       "payment                    credit card\n",
       "pickup_zone                   Gramercy\n",
       "dropoff_zone              West Village\n",
       "pickup_borough               Manhattan\n",
       "dropoff_borough              Manhattan\n",
       "Name: 234, dtype: object"
      ]
     },
     "execution_count": 72,
     "metadata": {},
     "output_type": "execute_result"
    }
   ],
   "source": [
    "df.iloc[234,:]"
   ]
  },
  {
   "cell_type": "markdown",
   "metadata": {
    "cell_id": "009b9f88e6ad4978b45f2df8b2292a54",
    "deepnote_cell_type": "markdown"
   },
   "source": [
    "What if we wanted a couple different columns?"
   ]
  },
  {
   "cell_type": "code",
   "execution_count": null,
   "metadata": {
    "cell_id": "c43d7ab95ff14c6eadface6734e115b8",
    "deepnote_cell_type": "code",
    "deepnote_to_be_reexecuted": false,
    "execution_millis": 260,
    "execution_start": 1691786454372,
    "source_hash": null
   },
   "outputs": [
    {
     "data": {
      "application/vnd.deepnote.dataframe.v3+json": {
       "column_count": 2,
       "columns": [
        {
         "dtype": "float64",
         "name": "tip",
         "stats": {
          "histogram": [
           {
            "bin_end": 3.3200000000000003,
            "bin_start": 0,
            "count": 5315
           },
           {
            "bin_end": 6.640000000000001,
            "bin_start": 3.3200000000000003,
            "count": 826
           },
           {
            "bin_end": 9.96,
            "bin_start": 6.640000000000001,
            "count": 158
           },
           {
            "bin_end": 13.280000000000001,
            "bin_start": 9.96,
            "count": 107
           },
           {
            "bin_end": 16.6,
            "bin_start": 13.280000000000001,
            "count": 18
           },
           {
            "bin_end": 19.92,
            "bin_start": 16.6,
            "count": 3
           },
           {
            "bin_end": 23.240000000000002,
            "bin_start": 19.92,
            "count": 5
           },
           {
            "bin_end": 26.560000000000002,
            "bin_start": 23.240000000000002,
            "count": 0
           },
           {
            "bin_end": 29.880000000000003,
            "bin_start": 26.560000000000002,
            "count": 0
           },
           {
            "bin_end": 33.2,
            "bin_start": 29.880000000000003,
            "count": 1
           }
          ],
          "max": "33.2",
          "min": "0.0",
          "nan_count": 0,
          "unique_count": 489
         }
        },
        {
         "dtype": "object",
         "name": "payment",
         "stats": {
          "categories": [
           {
            "count": 4577,
            "name": "credit card"
           },
           {
            "count": 1812,
            "name": "cash"
           },
           {
            "count": 44,
            "name": "Missing"
           }
          ],
          "nan_count": 44,
          "unique_count": 2
         }
        },
        {
         "dtype": "int64",
         "name": "_deepnote_index_column"
        }
       ],
       "row_count": 6433,
       "rows": [
        {
         "_deepnote_index_column": 0,
         "payment": "credit card",
         "tip": 2.15
        },
        {
         "_deepnote_index_column": 1,
         "payment": "cash",
         "tip": 0
        },
        {
         "_deepnote_index_column": 2,
         "payment": "credit card",
         "tip": 2.36
        },
        {
         "_deepnote_index_column": 3,
         "payment": "credit card",
         "tip": 6.15
        },
        {
         "_deepnote_index_column": 4,
         "payment": "credit card",
         "tip": 1.1
        },
        {
         "_deepnote_index_column": 5,
         "payment": "credit card",
         "tip": 2.16
        },
        {
         "_deepnote_index_column": 6,
         "payment": "credit card",
         "tip": 2
        },
        {
         "_deepnote_index_column": 7,
         "payment": "nan",
         "tip": 0
        },
        {
         "_deepnote_index_column": 8,
         "payment": "credit card",
         "tip": 1
        },
        {
         "_deepnote_index_column": 9,
         "payment": "credit card",
         "tip": 1
        }
       ]
      },
      "text/html": [
       "<div>\n",
       "<style scoped>\n",
       "    .dataframe tbody tr th:only-of-type {\n",
       "        vertical-align: middle;\n",
       "    }\n",
       "\n",
       "    .dataframe tbody tr th {\n",
       "        vertical-align: top;\n",
       "    }\n",
       "\n",
       "    .dataframe thead th {\n",
       "        text-align: right;\n",
       "    }\n",
       "</style>\n",
       "<table border=\"1\" class=\"dataframe\">\n",
       "  <thead>\n",
       "    <tr style=\"text-align: right;\">\n",
       "      <th></th>\n",
       "      <th>tip</th>\n",
       "      <th>payment</th>\n",
       "    </tr>\n",
       "  </thead>\n",
       "  <tbody>\n",
       "    <tr>\n",
       "      <th>0</th>\n",
       "      <td>2.15</td>\n",
       "      <td>credit card</td>\n",
       "    </tr>\n",
       "    <tr>\n",
       "      <th>1</th>\n",
       "      <td>0.00</td>\n",
       "      <td>cash</td>\n",
       "    </tr>\n",
       "    <tr>\n",
       "      <th>2</th>\n",
       "      <td>2.36</td>\n",
       "      <td>credit card</td>\n",
       "    </tr>\n",
       "    <tr>\n",
       "      <th>3</th>\n",
       "      <td>6.15</td>\n",
       "      <td>credit card</td>\n",
       "    </tr>\n",
       "    <tr>\n",
       "      <th>4</th>\n",
       "      <td>1.10</td>\n",
       "      <td>credit card</td>\n",
       "    </tr>\n",
       "    <tr>\n",
       "      <th>...</th>\n",
       "      <td>...</td>\n",
       "      <td>...</td>\n",
       "    </tr>\n",
       "    <tr>\n",
       "      <th>6428</th>\n",
       "      <td>1.06</td>\n",
       "      <td>credit card</td>\n",
       "    </tr>\n",
       "    <tr>\n",
       "      <th>6429</th>\n",
       "      <td>0.00</td>\n",
       "      <td>credit card</td>\n",
       "    </tr>\n",
       "    <tr>\n",
       "      <th>6430</th>\n",
       "      <td>0.00</td>\n",
       "      <td>cash</td>\n",
       "    </tr>\n",
       "    <tr>\n",
       "      <th>6431</th>\n",
       "      <td>0.00</td>\n",
       "      <td>credit card</td>\n",
       "    </tr>\n",
       "    <tr>\n",
       "      <th>6432</th>\n",
       "      <td>3.36</td>\n",
       "      <td>credit card</td>\n",
       "    </tr>\n",
       "  </tbody>\n",
       "</table>\n",
       "<p>6433 rows × 2 columns</p>\n",
       "</div>"
      ],
      "text/plain": [
       "       tip      payment\n",
       "0     2.15  credit card\n",
       "1     0.00         cash\n",
       "2     2.36  credit card\n",
       "3     6.15  credit card\n",
       "4     1.10  credit card\n",
       "...    ...          ...\n",
       "6428  1.06  credit card\n",
       "6429  0.00  credit card\n",
       "6430  0.00         cash\n",
       "6431  0.00  credit card\n",
       "6432  3.36  credit card\n",
       "\n",
       "[6433 rows x 2 columns]"
      ]
     },
     "execution_count": 74,
     "metadata": {},
     "output_type": "execute_result"
    }
   ],
   "source": [
    "df.iloc[:,[5,9]]"
   ]
  },
  {
   "cell_type": "markdown",
   "metadata": {
    "cell_id": "6094fa523b014cb9b79a590310e761fc",
    "deepnote_cell_type": "markdown"
   },
   "source": [
    "### Working with dates in pandas"
   ]
  },
  {
   "cell_type": "code",
   "execution_count": null,
   "metadata": {
    "cell_id": "9f20b0f220054cb5adfb05d7c96d6216",
    "deepnote_cell_type": "code",
    "deepnote_to_be_reexecuted": false,
    "execution_millis": 355,
    "execution_start": 1691786404082,
    "source_hash": null
   },
   "outputs": [
    {
     "data": {
      "application/vnd.deepnote.dataframe.v3+json": {
       "column_count": 14,
       "columns": [
        {
         "dtype": "object",
         "name": "pickup",
         "stats": {
          "categories": [
           {
            "count": 1,
            "name": "2019-03-23 20:21:09"
           },
           {
            "count": 1,
            "name": "2019-03-04 16:11:55"
           },
           {
            "count": 1,
            "name": "2019-03-27 17:53:01"
           }
          ],
          "nan_count": 0,
          "unique_count": 3
         }
        },
        {
         "dtype": "object",
         "name": "dropoff",
         "stats": {
          "categories": [
           {
            "count": 1,
            "name": "2019-03-23 20:27:24"
           },
           {
            "count": 1,
            "name": "2019-03-04 16:19:00"
           },
           {
            "count": 1,
            "name": "2019-03-27 18:00:25"
           }
          ],
          "nan_count": 0,
          "unique_count": 3
         }
        },
        {
         "dtype": "int64",
         "name": "passengers",
         "stats": {
          "histogram": [
           {
            "bin_end": 0.6,
            "bin_start": 0.5,
            "count": 0
           },
           {
            "bin_end": 0.7,
            "bin_start": 0.6,
            "count": 0
           },
           {
            "bin_end": 0.8,
            "bin_start": 0.7,
            "count": 0
           },
           {
            "bin_end": 0.9,
            "bin_start": 0.8,
            "count": 0
           },
           {
            "bin_end": 1,
            "bin_start": 0.9,
            "count": 0
           },
           {
            "bin_end": 1.1,
            "bin_start": 1,
            "count": 3
           },
           {
            "bin_end": 1.2000000000000002,
            "bin_start": 1.1,
            "count": 0
           },
           {
            "bin_end": 1.3,
            "bin_start": 1.2000000000000002,
            "count": 0
           },
           {
            "bin_end": 1.4,
            "bin_start": 1.3,
            "count": 0
           },
           {
            "bin_end": 1.5,
            "bin_start": 1.4,
            "count": 0
           }
          ],
          "max": "1",
          "min": "1",
          "nan_count": 0,
          "unique_count": 1
         }
        },
        {
         "dtype": "float64",
         "name": "distance",
         "stats": {
          "histogram": [
           {
            "bin_end": 0.871,
            "bin_start": 0.79,
            "count": 1
           },
           {
            "bin_end": 0.9520000000000001,
            "bin_start": 0.871,
            "count": 0
           },
           {
            "bin_end": 1.033,
            "bin_start": 0.9520000000000001,
            "count": 0
           },
           {
            "bin_end": 1.114,
            "bin_start": 1.033,
            "count": 0
           },
           {
            "bin_end": 1.195,
            "bin_start": 1.114,
            "count": 0
           },
           {
            "bin_end": 1.276,
            "bin_start": 1.195,
            "count": 0
           },
           {
            "bin_end": 1.3570000000000002,
            "bin_start": 1.276,
            "count": 0
           },
           {
            "bin_end": 1.4380000000000002,
            "bin_start": 1.3570000000000002,
            "count": 1
           },
           {
            "bin_end": 1.5190000000000001,
            "bin_start": 1.4380000000000002,
            "count": 0
           },
           {
            "bin_end": 1.6,
            "bin_start": 1.5190000000000001,
            "count": 1
           }
          ],
          "max": "1.6",
          "min": "0.79",
          "nan_count": 0,
          "unique_count": 3
         }
        },
        {
         "dtype": "float64",
         "name": "fare",
         "stats": {
          "histogram": [
           {
            "bin_end": 5.25,
            "bin_start": 5,
            "count": 1
           },
           {
            "bin_end": 5.5,
            "bin_start": 5.25,
            "count": 0
           },
           {
            "bin_end": 5.75,
            "bin_start": 5.5,
            "count": 0
           },
           {
            "bin_end": 6,
            "bin_start": 5.75,
            "count": 0
           },
           {
            "bin_end": 6.25,
            "bin_start": 6,
            "count": 0
           },
           {
            "bin_end": 6.5,
            "bin_start": 6.25,
            "count": 0
           },
           {
            "bin_end": 6.75,
            "bin_start": 6.5,
            "count": 0
           },
           {
            "bin_end": 7,
            "bin_start": 6.75,
            "count": 0
           },
           {
            "bin_end": 7.25,
            "bin_start": 7,
            "count": 1
           },
           {
            "bin_end": 7.5,
            "bin_start": 7.25,
            "count": 1
           }
          ],
          "max": "7.5",
          "min": "5.0",
          "nan_count": 0,
          "unique_count": 3
         }
        },
        {
         "dtype": "float64",
         "name": "tip",
         "stats": {
          "histogram": [
           {
            "bin_end": 0.236,
            "bin_start": 0,
            "count": 1
           },
           {
            "bin_end": 0.472,
            "bin_start": 0.236,
            "count": 0
           },
           {
            "bin_end": 0.708,
            "bin_start": 0.472,
            "count": 0
           },
           {
            "bin_end": 0.944,
            "bin_start": 0.708,
            "count": 0
           },
           {
            "bin_end": 1.18,
            "bin_start": 0.944,
            "count": 0
           },
           {
            "bin_end": 1.416,
            "bin_start": 1.18,
            "count": 0
           },
           {
            "bin_end": 1.652,
            "bin_start": 1.416,
            "count": 0
           },
           {
            "bin_end": 1.888,
            "bin_start": 1.652,
            "count": 0
           },
           {
            "bin_end": 2.1239999999999997,
            "bin_start": 1.888,
            "count": 0
           },
           {
            "bin_end": 2.36,
            "bin_start": 2.1239999999999997,
            "count": 2
           }
          ],
          "max": "2.36",
          "min": "0.0",
          "nan_count": 0,
          "unique_count": 3
         }
        },
        {
         "dtype": "float64",
         "name": "tolls",
         "stats": {
          "histogram": [
           {
            "bin_end": -0.4,
            "bin_start": -0.5,
            "count": 0
           },
           {
            "bin_end": -0.3,
            "bin_start": -0.4,
            "count": 0
           },
           {
            "bin_end": -0.19999999999999996,
            "bin_start": -0.3,
            "count": 0
           },
           {
            "bin_end": -0.09999999999999998,
            "bin_start": -0.19999999999999996,
            "count": 0
           },
           {
            "bin_end": 0,
            "bin_start": -0.09999999999999998,
            "count": 0
           },
           {
            "bin_end": 0.10000000000000009,
            "bin_start": 0,
            "count": 3
           },
           {
            "bin_end": 0.20000000000000007,
            "bin_start": 0.10000000000000009,
            "count": 0
           },
           {
            "bin_end": 0.30000000000000004,
            "bin_start": 0.20000000000000007,
            "count": 0
           },
           {
            "bin_end": 0.4,
            "bin_start": 0.30000000000000004,
            "count": 0
           },
           {
            "bin_end": 0.5,
            "bin_start": 0.4,
            "count": 0
           }
          ],
          "max": "0.0",
          "min": "0.0",
          "nan_count": 0,
          "unique_count": 1
         }
        },
        {
         "dtype": "float64",
         "name": "total",
         "stats": {
          "histogram": [
           {
            "bin_end": 9.786000000000001,
            "bin_start": 9.3,
            "count": 1
           },
           {
            "bin_end": 10.272,
            "bin_start": 9.786000000000001,
            "count": 0
           },
           {
            "bin_end": 10.758000000000001,
            "bin_start": 10.272,
            "count": 0
           },
           {
            "bin_end": 11.244,
            "bin_start": 10.758000000000001,
            "count": 0
           },
           {
            "bin_end": 11.73,
            "bin_start": 11.244,
            "count": 0
           },
           {
            "bin_end": 12.216000000000001,
            "bin_start": 11.73,
            "count": 0
           },
           {
            "bin_end": 12.702,
            "bin_start": 12.216000000000001,
            "count": 0
           },
           {
            "bin_end": 13.188,
            "bin_start": 12.702,
            "count": 1
           },
           {
            "bin_end": 13.674,
            "bin_start": 13.188,
            "count": 0
           },
           {
            "bin_end": 14.16,
            "bin_start": 13.674,
            "count": 1
           }
          ],
          "max": "14.16",
          "min": "9.3",
          "nan_count": 0,
          "unique_count": 3
         }
        },
        {
         "dtype": "object",
         "name": "color",
         "stats": {
          "categories": [
           {
            "count": 3,
            "name": "yellow"
           }
          ],
          "nan_count": 0,
          "unique_count": 1
         }
        },
        {
         "dtype": "object",
         "name": "payment",
         "stats": {
          "categories": [
           {
            "count": 2,
            "name": "credit card"
           },
           {
            "count": 1,
            "name": "cash"
           }
          ],
          "nan_count": 0,
          "unique_count": 2
         }
        },
        {
         "dtype": "object",
         "name": "pickup_zone",
         "stats": {
          "categories": [
           {
            "count": 1,
            "name": "Lenox Hill West"
           },
           {
            "count": 1,
            "name": "Upper West Side South"
           },
           {
            "count": 1,
            "name": "Alphabet City"
           }
          ],
          "nan_count": 0,
          "unique_count": 3
         }
        },
        {
         "dtype": "object",
         "name": "dropoff_zone",
         "stats": {
          "categories": [
           {
            "count": 1,
            "name": "UN/Turtle Bay South"
           },
           {
            "count": 1,
            "name": "Upper West Side South"
           },
           {
            "count": 1,
            "name": "West Village"
           }
          ],
          "nan_count": 0,
          "unique_count": 3
         }
        },
        {
         "dtype": "object",
         "name": "pickup_borough",
         "stats": {
          "categories": [
           {
            "count": 3,
            "name": "Manhattan"
           }
          ],
          "nan_count": 0,
          "unique_count": 1
         }
        },
        {
         "dtype": "object",
         "name": "dropoff_borough",
         "stats": {
          "categories": [
           {
            "count": 3,
            "name": "Manhattan"
           }
          ],
          "nan_count": 0,
          "unique_count": 1
         }
        },
        {
         "dtype": "int64",
         "name": "_deepnote_index_column"
        }
       ],
       "row_count": 3,
       "rows": [
        {
         "_deepnote_index_column": 0,
         "color": "yellow",
         "distance": 1.6,
         "dropoff": "2019-03-23 20:27:24",
         "dropoff_borough": "Manhattan",
         "dropoff_zone": "UN/Turtle Bay South",
         "fare": 7,
         "passengers": 1,
         "payment": "credit card",
         "pickup": "2019-03-23 20:21:09",
         "pickup_borough": "Manhattan",
         "pickup_zone": "Lenox Hill West",
         "tip": 2.15,
         "tolls": 0,
         "total": 12.95
        },
        {
         "_deepnote_index_column": 1,
         "color": "yellow",
         "distance": 0.79,
         "dropoff": "2019-03-04 16:19:00",
         "dropoff_borough": "Manhattan",
         "dropoff_zone": "Upper West Side South",
         "fare": 5,
         "passengers": 1,
         "payment": "cash",
         "pickup": "2019-03-04 16:11:55",
         "pickup_borough": "Manhattan",
         "pickup_zone": "Upper West Side South",
         "tip": 0,
         "tolls": 0,
         "total": 9.3
        },
        {
         "_deepnote_index_column": 2,
         "color": "yellow",
         "distance": 1.37,
         "dropoff": "2019-03-27 18:00:25",
         "dropoff_borough": "Manhattan",
         "dropoff_zone": "West Village",
         "fare": 7.5,
         "passengers": 1,
         "payment": "credit card",
         "pickup": "2019-03-27 17:53:01",
         "pickup_borough": "Manhattan",
         "pickup_zone": "Alphabet City",
         "tip": 2.36,
         "tolls": 0,
         "total": 14.16
        }
       ]
      },
      "text/html": [
       "<div>\n",
       "<style scoped>\n",
       "    .dataframe tbody tr th:only-of-type {\n",
       "        vertical-align: middle;\n",
       "    }\n",
       "\n",
       "    .dataframe tbody tr th {\n",
       "        vertical-align: top;\n",
       "    }\n",
       "\n",
       "    .dataframe thead th {\n",
       "        text-align: right;\n",
       "    }\n",
       "</style>\n",
       "<table border=\"1\" class=\"dataframe\">\n",
       "  <thead>\n",
       "    <tr style=\"text-align: right;\">\n",
       "      <th></th>\n",
       "      <th>pickup</th>\n",
       "      <th>dropoff</th>\n",
       "      <th>passengers</th>\n",
       "      <th>distance</th>\n",
       "      <th>fare</th>\n",
       "      <th>tip</th>\n",
       "      <th>tolls</th>\n",
       "      <th>total</th>\n",
       "      <th>color</th>\n",
       "      <th>payment</th>\n",
       "      <th>pickup_zone</th>\n",
       "      <th>dropoff_zone</th>\n",
       "      <th>pickup_borough</th>\n",
       "      <th>dropoff_borough</th>\n",
       "    </tr>\n",
       "  </thead>\n",
       "  <tbody>\n",
       "    <tr>\n",
       "      <th>0</th>\n",
       "      <td>2019-03-23 20:21:09</td>\n",
       "      <td>2019-03-23 20:27:24</td>\n",
       "      <td>1</td>\n",
       "      <td>1.60</td>\n",
       "      <td>7.0</td>\n",
       "      <td>2.15</td>\n",
       "      <td>0.0</td>\n",
       "      <td>12.95</td>\n",
       "      <td>yellow</td>\n",
       "      <td>credit card</td>\n",
       "      <td>Lenox Hill West</td>\n",
       "      <td>UN/Turtle Bay South</td>\n",
       "      <td>Manhattan</td>\n",
       "      <td>Manhattan</td>\n",
       "    </tr>\n",
       "    <tr>\n",
       "      <th>1</th>\n",
       "      <td>2019-03-04 16:11:55</td>\n",
       "      <td>2019-03-04 16:19:00</td>\n",
       "      <td>1</td>\n",
       "      <td>0.79</td>\n",
       "      <td>5.0</td>\n",
       "      <td>0.00</td>\n",
       "      <td>0.0</td>\n",
       "      <td>9.30</td>\n",
       "      <td>yellow</td>\n",
       "      <td>cash</td>\n",
       "      <td>Upper West Side South</td>\n",
       "      <td>Upper West Side South</td>\n",
       "      <td>Manhattan</td>\n",
       "      <td>Manhattan</td>\n",
       "    </tr>\n",
       "    <tr>\n",
       "      <th>2</th>\n",
       "      <td>2019-03-27 17:53:01</td>\n",
       "      <td>2019-03-27 18:00:25</td>\n",
       "      <td>1</td>\n",
       "      <td>1.37</td>\n",
       "      <td>7.5</td>\n",
       "      <td>2.36</td>\n",
       "      <td>0.0</td>\n",
       "      <td>14.16</td>\n",
       "      <td>yellow</td>\n",
       "      <td>credit card</td>\n",
       "      <td>Alphabet City</td>\n",
       "      <td>West Village</td>\n",
       "      <td>Manhattan</td>\n",
       "      <td>Manhattan</td>\n",
       "    </tr>\n",
       "  </tbody>\n",
       "</table>\n",
       "</div>"
      ],
      "text/plain": [
       "                pickup              dropoff  passengers  distance  fare   tip  \\\n",
       "0  2019-03-23 20:21:09  2019-03-23 20:27:24           1      1.60   7.0  2.15   \n",
       "1  2019-03-04 16:11:55  2019-03-04 16:19:00           1      0.79   5.0  0.00   \n",
       "2  2019-03-27 17:53:01  2019-03-27 18:00:25           1      1.37   7.5  2.36   \n",
       "\n",
       "   tolls  total   color      payment            pickup_zone  \\\n",
       "0    0.0  12.95  yellow  credit card        Lenox Hill West   \n",
       "1    0.0   9.30  yellow         cash  Upper West Side South   \n",
       "2    0.0  14.16  yellow  credit card          Alphabet City   \n",
       "\n",
       "            dropoff_zone pickup_borough dropoff_borough  \n",
       "0    UN/Turtle Bay South      Manhattan       Manhattan  \n",
       "1  Upper West Side South      Manhattan       Manhattan  \n",
       "2           West Village      Manhattan       Manhattan  "
      ]
     },
     "execution_count": 73,
     "metadata": {},
     "output_type": "execute_result"
    }
   ],
   "source": [
    "df.head(3)"
   ]
  },
  {
   "cell_type": "markdown",
   "metadata": {
    "cell_id": "2910f6507d7548b4991fcfffa06ea83b",
    "deepnote_cell_type": "markdown"
   },
   "source": [
    "* Convert the pickup and dropoff columns to datetime values using the pandas function `to_datetime`. Save the results as a new column in `df` named \"picktime\" and \"droptime\"."
   ]
  },
  {
   "cell_type": "code",
   "execution_count": null,
   "metadata": {
    "cell_id": "f6bfa32fe50c43c487677aeb2b6c8ab6",
    "deepnote_cell_type": "code",
    "deepnote_to_be_reexecuted": false,
    "execution_millis": 18,
    "execution_start": 1691786560994,
    "source_hash": null
   },
   "outputs": [
    {
     "data": {
      "text/plain": [
       "0       2019-03-23 20:21:09\n",
       "1       2019-03-04 16:11:55\n",
       "2       2019-03-27 17:53:01\n",
       "3       2019-03-10 01:23:59\n",
       "4       2019-03-30 13:27:42\n",
       "               ...         \n",
       "6428    2019-03-31 09:51:53\n",
       "6429    2019-03-31 17:38:00\n",
       "6430    2019-03-23 22:55:18\n",
       "6431    2019-03-04 10:09:25\n",
       "6432    2019-03-13 19:31:22\n",
       "Name: pickup, Length: 6433, dtype: object"
      ]
     },
     "execution_count": 75,
     "metadata": {},
     "output_type": "execute_result"
    }
   ],
   "source": [
    "df[\"pickup\"] #notice, just strings"
   ]
  },
  {
   "cell_type": "code",
   "execution_count": null,
   "metadata": {
    "cell_id": "0e96429aa9e34c2999c077e44ad57484",
    "deepnote_cell_type": "code",
    "deepnote_to_be_reexecuted": false,
    "execution_millis": 13,
    "execution_start": 1691786589269,
    "source_hash": null
   },
   "outputs": [
    {
     "data": {
      "text/plain": [
       "0      2019-03-23 20:21:09\n",
       "1      2019-03-04 16:11:55\n",
       "2      2019-03-27 17:53:01\n",
       "3      2019-03-10 01:23:59\n",
       "4      2019-03-30 13:27:42\n",
       "               ...        \n",
       "6428   2019-03-31 09:51:53\n",
       "6429   2019-03-31 17:38:00\n",
       "6430   2019-03-23 22:55:18\n",
       "6431   2019-03-04 10:09:25\n",
       "6432   2019-03-13 19:31:22\n",
       "Name: pickup, Length: 6433, dtype: datetime64[ns]"
      ]
     },
     "execution_count": 76,
     "metadata": {},
     "output_type": "execute_result"
    }
   ],
   "source": [
    "pd.to_datetime(df[\"pickup\"])"
   ]
  },
  {
   "cell_type": "markdown",
   "metadata": {
    "cell_id": "404fdcebfc1341dca3dea4ca2eca1b6a",
    "deepnote_cell_type": "markdown"
   },
   "source": [
    "* Notice, the dtype has changed\n",
    "* Haven't actually made any changes to `df` yet..."
   ]
  },
  {
   "cell_type": "markdown",
   "metadata": {
    "cell_id": "87d6544be3a04def9fb6d93e1d8bd17f",
    "deepnote_cell_type": "markdown"
   },
   "source": [
    "Smaller examples to see how this conversion works:"
   ]
  },
  {
   "cell_type": "code",
   "execution_count": null,
   "metadata": {
    "cell_id": "c9b78a282e2e48f0b8a84a37790b1cc7",
    "deepnote_cell_type": "code",
    "deepnote_to_be_reexecuted": false,
    "execution_millis": 23,
    "execution_start": 1691786658634,
    "source_hash": null
   },
   "outputs": [],
   "source": [
    "today = \"August 11, 2023\""
   ]
  },
  {
   "cell_type": "code",
   "execution_count": null,
   "metadata": {
    "cell_id": "7f1544e6cde6435d811efd0579aaa092",
    "deepnote_cell_type": "code",
    "deepnote_to_be_reexecuted": false,
    "execution_millis": 14,
    "execution_start": 1691786662783,
    "source_hash": null
   },
   "outputs": [
    {
     "data": {
      "text/plain": [
       "str"
      ]
     },
     "execution_count": 78,
     "metadata": {},
     "output_type": "execute_result"
    }
   ],
   "source": [
    "type(today)"
   ]
  },
  {
   "cell_type": "code",
   "execution_count": null,
   "metadata": {
    "cell_id": "955e907985b544749d61b7379535e334",
    "deepnote_cell_type": "code",
    "deepnote_to_be_reexecuted": false,
    "execution_millis": 20,
    "execution_start": 1691786678770,
    "source_hash": null
   },
   "outputs": [
    {
     "data": {
      "text/plain": [
       "Timestamp('2023-08-11 00:00:00')"
      ]
     },
     "execution_count": 79,
     "metadata": {},
     "output_type": "execute_result"
    }
   ],
   "source": [
    "ts = pd.to_datetime(today)\n",
    "ts"
   ]
  },
  {
   "cell_type": "markdown",
   "metadata": {
    "cell_id": "f065f48775fd42718f9da4a06ba1454d",
    "deepnote_cell_type": "markdown"
   },
   "source": [
    "Once we have this object, there are all kinds of methods and attributes available to us..."
   ]
  },
  {
   "cell_type": "code",
   "execution_count": null,
   "metadata": {
    "cell_id": "756b9661cf7743b58dc805b1bc8d4afc",
    "deepnote_cell_type": "code",
    "deepnote_to_be_reexecuted": false,
    "execution_millis": 32,
    "execution_start": 1691786718755,
    "source_hash": null
   },
   "outputs": [
    {
     "data": {
      "text/plain": [
       "'Friday'"
      ]
     },
     "execution_count": 80,
     "metadata": {},
     "output_type": "execute_result"
    }
   ],
   "source": [
    "ts.day_name()"
   ]
  },
  {
   "cell_type": "code",
   "execution_count": null,
   "metadata": {
    "cell_id": "a69725409ffe495cb71a012ee9f04788",
    "deepnote_cell_type": "code",
    "deepnote_to_be_reexecuted": false,
    "execution_millis": 14,
    "execution_start": 1691786755212,
    "source_hash": null
   },
   "outputs": [
    {
     "data": {
      "text/plain": [
       "223"
      ]
     },
     "execution_count": 81,
     "metadata": {},
     "output_type": "execute_result"
    }
   ],
   "source": [
    "ts.day_of_year"
   ]
  },
  {
   "cell_type": "code",
   "execution_count": null,
   "metadata": {
    "cell_id": "cb383871e4e94850b560fad7047377a8",
    "deepnote_cell_type": "code",
    "deepnote_to_be_reexecuted": false,
    "execution_millis": 234,
    "execution_start": 1691786795664,
    "source_hash": null
   },
   "outputs": [
    {
     "data": {
      "text/plain": [
       "['__add__',\n",
       " '__array_priority__',\n",
       " '__class__',\n",
       " '__delattr__',\n",
       " '__dict__',\n",
       " '__dir__',\n",
       " '__doc__',\n",
       " '__eq__',\n",
       " '__format__',\n",
       " '__ge__',\n",
       " '__getattribute__',\n",
       " '__gt__',\n",
       " '__hash__',\n",
       " '__init__',\n",
       " '__init_subclass__',\n",
       " '__le__',\n",
       " '__lt__',\n",
       " '__module__',\n",
       " '__ne__',\n",
       " '__new__',\n",
       " '__pyx_vtable__',\n",
       " '__radd__',\n",
       " '__reduce__',\n",
       " '__reduce_cython__',\n",
       " '__reduce_ex__',\n",
       " '__repr__',\n",
       " '__rsub__',\n",
       " '__setattr__',\n",
       " '__setstate__',\n",
       " '__setstate_cython__',\n",
       " '__sizeof__',\n",
       " '__str__',\n",
       " '__sub__',\n",
       " '__subclasshook__',\n",
       " '__weakref__',\n",
       " '_date_repr',\n",
       " '_repr_base',\n",
       " '_round',\n",
       " '_short_repr',\n",
       " '_time_repr',\n",
       " 'asm8',\n",
       " 'astimezone',\n",
       " 'ceil',\n",
       " 'combine',\n",
       " 'ctime',\n",
       " 'date',\n",
       " 'day',\n",
       " 'day_name',\n",
       " 'day_of_week',\n",
       " 'day_of_year',\n",
       " 'dayofweek',\n",
       " 'dayofyear',\n",
       " 'days_in_month',\n",
       " 'daysinmonth',\n",
       " 'dst',\n",
       " 'floor',\n",
       " 'fold',\n",
       " 'freq',\n",
       " 'freqstr',\n",
       " 'fromisocalendar',\n",
       " 'fromisoformat',\n",
       " 'fromordinal',\n",
       " 'fromtimestamp',\n",
       " 'hour',\n",
       " 'is_leap_year',\n",
       " 'is_month_end',\n",
       " 'is_month_start',\n",
       " 'is_quarter_end',\n",
       " 'is_quarter_start',\n",
       " 'is_year_end',\n",
       " 'is_year_start',\n",
       " 'isocalendar',\n",
       " 'isoformat',\n",
       " 'isoweekday',\n",
       " 'max',\n",
       " 'microsecond',\n",
       " 'min',\n",
       " 'minute',\n",
       " 'month',\n",
       " 'month_name',\n",
       " 'nanosecond',\n",
       " 'normalize',\n",
       " 'now',\n",
       " 'quarter',\n",
       " 'replace',\n",
       " 'resolution',\n",
       " 'round',\n",
       " 'second',\n",
       " 'strftime',\n",
       " 'strptime',\n",
       " 'time',\n",
       " 'timestamp',\n",
       " 'timetuple',\n",
       " 'timetz',\n",
       " 'to_datetime64',\n",
       " 'to_julian_date',\n",
       " 'to_numpy',\n",
       " 'to_period',\n",
       " 'to_pydatetime',\n",
       " 'today',\n",
       " 'toordinal',\n",
       " 'tz',\n",
       " 'tz_convert',\n",
       " 'tz_localize',\n",
       " 'tzinfo',\n",
       " 'tzname',\n",
       " 'utcfromtimestamp',\n",
       " 'utcnow',\n",
       " 'utcoffset',\n",
       " 'utctimetuple',\n",
       " 'value',\n",
       " 'week',\n",
       " 'weekday',\n",
       " 'weekofyear',\n",
       " 'year']"
      ]
     },
     "execution_count": 83,
     "metadata": {},
     "output_type": "execute_result"
    }
   ],
   "source": [
    "#Check all attributes and methods available...\n",
    "dir(ts)"
   ]
  },
  {
   "cell_type": "code",
   "execution_count": null,
   "metadata": {
    "cell_id": "9589f50116374b238ddeb3d3aeefc9bd",
    "deepnote_cell_type": "code",
    "deepnote_to_be_reexecuted": false,
    "execution_millis": 27,
    "execution_start": 1691786917385,
    "source_hash": null
   },
   "outputs": [],
   "source": [
    "df[\"picktime\"] = pd.to_datetime(df[\"pickup\"])\n",
    "df[\"droptime\"] = pd.to_datetime(df[\"dropoff\"])"
   ]
  },
  {
   "cell_type": "code",
   "execution_count": null,
   "metadata": {
    "cell_id": "d046232abaa245fcaaad31586f53ded8",
    "deepnote_cell_type": "code",
    "deepnote_to_be_reexecuted": false,
    "execution_millis": 225,
    "execution_start": 1691786926263,
    "source_hash": null
   },
   "outputs": [
    {
     "data": {
      "application/vnd.deepnote.dataframe.v3+json": {
       "column_count": 16,
       "columns": [
        {
         "dtype": "object",
         "name": "pickup",
         "stats": {
          "categories": [
           {
            "count": 2,
            "name": "2019-03-24 00:12:23"
           },
           {
            "count": 2,
            "name": "2019-03-17 12:10:05"
           },
           {
            "count": 6429,
            "name": "6412 others"
           }
          ],
          "nan_count": 0,
          "unique_count": 6414
         }
        },
        {
         "dtype": "object",
         "name": "dropoff",
         "stats": {
          "categories": [
           {
            "count": 2,
            "name": "2019-03-02 00:58:26"
           },
           {
            "count": 2,
            "name": "2019-03-26 17:39:56"
           },
           {
            "count": 6429,
            "name": "6423 others"
           }
          ],
          "nan_count": 0,
          "unique_count": 6425
         }
        },
        {
         "dtype": "int64",
         "name": "passengers",
         "stats": {
          "histogram": [
           {
            "bin_end": 0.6,
            "bin_start": 0,
            "count": 96
           },
           {
            "bin_end": 1.2,
            "bin_start": 0.6,
            "count": 4678
           },
           {
            "bin_end": 1.7999999999999998,
            "bin_start": 1.2,
            "count": 0
           },
           {
            "bin_end": 2.4,
            "bin_start": 1.7999999999999998,
            "count": 876
           },
           {
            "bin_end": 3,
            "bin_start": 2.4,
            "count": 0
           },
           {
            "bin_end": 3.5999999999999996,
            "bin_start": 3,
            "count": 243
           },
           {
            "bin_end": 4.2,
            "bin_start": 3.5999999999999996,
            "count": 110
           },
           {
            "bin_end": 4.8,
            "bin_start": 4.2,
            "count": 0
           },
           {
            "bin_end": 5.3999999999999995,
            "bin_start": 4.8,
            "count": 277
           },
           {
            "bin_end": 6,
            "bin_start": 5.3999999999999995,
            "count": 153
           }
          ],
          "max": "6",
          "min": "0",
          "nan_count": 0,
          "unique_count": 7
         }
        },
        {
         "dtype": "float64",
         "name": "distance",
         "stats": {
          "histogram": [
           {
            "bin_end": 3.6700000000000004,
            "bin_start": 0,
            "count": 5050
           },
           {
            "bin_end": 7.340000000000001,
            "bin_start": 3.6700000000000004,
            "count": 746
           },
           {
            "bin_end": 11.010000000000002,
            "bin_start": 7.340000000000001,
            "count": 319
           },
           {
            "bin_end": 14.680000000000001,
            "bin_start": 11.010000000000002,
            "count": 126
           },
           {
            "bin_end": 18.35,
            "bin_start": 14.680000000000001,
            "count": 103
           },
           {
            "bin_end": 22.020000000000003,
            "bin_start": 18.35,
            "count": 65
           },
           {
            "bin_end": 25.69,
            "bin_start": 22.020000000000003,
            "count": 15
           },
           {
            "bin_end": 29.360000000000003,
            "bin_start": 25.69,
            "count": 4
           },
           {
            "bin_end": 33.03,
            "bin_start": 29.360000000000003,
            "count": 1
           },
           {
            "bin_end": 36.7,
            "bin_start": 33.03,
            "count": 4
           }
          ],
          "max": "36.7",
          "min": "0.0",
          "nan_count": 0,
          "unique_count": 1079
         }
        },
        {
         "dtype": "float64",
         "name": "fare",
         "stats": {
          "histogram": [
           {
            "bin_end": 15.9,
            "bin_start": 1,
            "count": 4966
           },
           {
            "bin_end": 30.8,
            "bin_start": 15.9,
            "count": 983
           },
           {
            "bin_end": 45.7,
            "bin_start": 30.8,
            "count": 269
           },
           {
            "bin_end": 60.6,
            "bin_start": 45.7,
            "count": 184
           },
           {
            "bin_end": 75.5,
            "bin_start": 60.6,
            "count": 14
           },
           {
            "bin_end": 90.4,
            "bin_start": 75.5,
            "count": 8
           },
           {
            "bin_end": 105.3,
            "bin_start": 90.4,
            "count": 4
           },
           {
            "bin_end": 120.2,
            "bin_start": 105.3,
            "count": 1
           },
           {
            "bin_end": 135.1,
            "bin_start": 120.2,
            "count": 1
           },
           {
            "bin_end": 150,
            "bin_start": 135.1,
            "count": 3
           }
          ],
          "max": "150.0",
          "min": "1.0",
          "nan_count": 0,
          "unique_count": 220
         }
        },
        {
         "dtype": "float64",
         "name": "tip",
         "stats": {
          "histogram": [
           {
            "bin_end": 3.3200000000000003,
            "bin_start": 0,
            "count": 5315
           },
           {
            "bin_end": 6.640000000000001,
            "bin_start": 3.3200000000000003,
            "count": 826
           },
           {
            "bin_end": 9.96,
            "bin_start": 6.640000000000001,
            "count": 158
           },
           {
            "bin_end": 13.280000000000001,
            "bin_start": 9.96,
            "count": 107
           },
           {
            "bin_end": 16.6,
            "bin_start": 13.280000000000001,
            "count": 18
           },
           {
            "bin_end": 19.92,
            "bin_start": 16.6,
            "count": 3
           },
           {
            "bin_end": 23.240000000000002,
            "bin_start": 19.92,
            "count": 5
           },
           {
            "bin_end": 26.560000000000002,
            "bin_start": 23.240000000000002,
            "count": 0
           },
           {
            "bin_end": 29.880000000000003,
            "bin_start": 26.560000000000002,
            "count": 0
           },
           {
            "bin_end": 33.2,
            "bin_start": 29.880000000000003,
            "count": 1
           }
          ],
          "max": "33.2",
          "min": "0.0",
          "nan_count": 0,
          "unique_count": 489
         }
        },
        {
         "dtype": "float64",
         "name": "tolls",
         "stats": {
          "histogram": [
           {
            "bin_end": 2.402,
            "bin_start": 0,
            "count": 6083
           },
           {
            "bin_end": 4.804,
            "bin_start": 2.402,
            "count": 8
           },
           {
            "bin_end": 7.206,
            "bin_start": 4.804,
            "count": 329
           },
           {
            "bin_end": 9.608,
            "bin_start": 7.206,
            "count": 3
           },
           {
            "bin_end": 12.010000000000002,
            "bin_start": 9.608,
            "count": 4
           },
           {
            "bin_end": 14.412,
            "bin_start": 12.010000000000002,
            "count": 2
           },
           {
            "bin_end": 16.814,
            "bin_start": 14.412,
            "count": 1
           },
           {
            "bin_end": 19.216,
            "bin_start": 16.814,
            "count": 2
           },
           {
            "bin_end": 21.618000000000002,
            "bin_start": 19.216,
            "count": 0
           },
           {
            "bin_end": 24.02,
            "bin_start": 21.618000000000002,
            "count": 1
           }
          ],
          "max": "24.02",
          "min": "0.0",
          "nan_count": 0,
          "unique_count": 16
         }
        },
        {
         "dtype": "float64",
         "name": "total",
         "stats": {
          "histogram": [
           {
            "bin_end": 18.651999999999997,
            "bin_start": 1.3,
            "count": 4508
           },
           {
            "bin_end": 36.00399999999999,
            "bin_start": 18.651999999999997,
            "count": 1366
           },
           {
            "bin_end": 53.35599999999999,
            "bin_start": 36.00399999999999,
            "count": 307
           },
           {
            "bin_end": 70.70799999999998,
            "bin_start": 53.35599999999999,
            "count": 160
           },
           {
            "bin_end": 88.05999999999999,
            "bin_start": 70.70799999999998,
            "count": 78
           },
           {
            "bin_end": 105.41199999999998,
            "bin_start": 88.05999999999999,
            "count": 5
           },
           {
            "bin_end": 122.76399999999997,
            "bin_start": 105.41199999999998,
            "count": 2
           },
           {
            "bin_end": 140.11599999999999,
            "bin_start": 122.76399999999997,
            "count": 3
           },
           {
            "bin_end": 157.468,
            "bin_start": 140.11599999999999,
            "count": 1
           },
           {
            "bin_end": 174.82,
            "bin_start": 157.468,
            "count": 3
           }
          ],
          "max": "174.82",
          "min": "1.3",
          "nan_count": 0,
          "unique_count": 898
         }
        },
        {
         "dtype": "object",
         "name": "color",
         "stats": {
          "categories": [
           {
            "count": 5451,
            "name": "yellow"
           },
           {
            "count": 982,
            "name": "green"
           }
          ],
          "nan_count": 0,
          "unique_count": 2
         }
        },
        {
         "dtype": "object",
         "name": "payment",
         "stats": {
          "categories": [
           {
            "count": 4577,
            "name": "credit card"
           },
           {
            "count": 1812,
            "name": "cash"
           },
           {
            "count": 44,
            "name": "Missing"
           }
          ],
          "nan_count": 44,
          "unique_count": 2
         }
        },
        {
         "dtype": "object",
         "name": "pickup_zone",
         "stats": {
          "categories": [
           {
            "count": 230,
            "name": "Midtown Center"
           },
           {
            "count": 6177,
            "name": "193 others"
           },
           {
            "count": 26,
            "name": "Missing"
           }
          ],
          "nan_count": 26,
          "unique_count": 194
         }
        },
        {
         "dtype": "object",
         "name": "dropoff_zone",
         "stats": {
          "categories": [
           {
            "count": 245,
            "name": "Upper East Side North"
           },
           {
            "count": 6143,
            "name": "202 others"
           },
           {
            "count": 45,
            "name": "Missing"
           }
          ],
          "nan_count": 45,
          "unique_count": 203
         }
        },
        {
         "dtype": "object",
         "name": "pickup_borough",
         "stats": {
          "categories": [
           {
            "count": 5268,
            "name": "Manhattan"
           },
           {
            "count": 1139,
            "name": "3 others"
           },
           {
            "count": 26,
            "name": "Missing"
           }
          ],
          "nan_count": 26,
          "unique_count": 4
         }
        },
        {
         "dtype": "object",
         "name": "dropoff_borough",
         "stats": {
          "categories": [
           {
            "count": 5206,
            "name": "Manhattan"
           },
           {
            "count": 1182,
            "name": "4 others"
           },
           {
            "count": 45,
            "name": "Missing"
           }
          ],
          "nan_count": 45,
          "unique_count": 5
         }
        },
        {
         "dtype": "datetime64[ns]",
         "name": "picktime",
         "stats": {
          "histogram": [
           {
            "bin_end": 1551664471200000000,
            "bin_start": 1551396543000000000,
            "count": 613
           },
           {
            "bin_end": 1551932399400000000,
            "bin_start": 1551664471200000000,
            "count": 666
           },
           {
            "bin_end": 1552200327600000000,
            "bin_start": 1551932399400000000,
            "count": 677
           },
           {
            "bin_end": 1552468255800000000,
            "bin_start": 1552200327600000000,
            "count": 611
           },
           {
            "bin_end": 1552736184000000000,
            "bin_start": 1552468255800000000,
            "count": 753
           },
           {
            "bin_end": 1553004112200000000,
            "bin_start": 1552736184000000000,
            "count": 579
           },
           {
            "bin_end": 1553272040400000000,
            "bin_start": 1553004112200000000,
            "count": 694
           },
           {
            "bin_end": 1553539968600000000,
            "bin_start": 1553272040400000000,
            "count": 569
           },
           {
            "bin_end": 1553807896800000000,
            "bin_start": 1553539968600000000,
            "count": 635
           },
           {
            "bin_end": 1554075825000000000,
            "bin_start": 1553807896800000000,
            "count": 636
           }
          ],
          "max": "2019-03-31 23:43:45",
          "min": "2019-02-28 23:29:03",
          "nan_count": 0,
          "unique_count": 6414
         }
        },
        {
         "dtype": "datetime64[ns]",
         "name": "droptime"
        },
        {
         "dtype": "int64",
         "name": "_deepnote_index_column"
        }
       ],
       "row_count": 6433,
       "rows": [
        {
         "_deepnote_index_column": 0,
         "color": "yellow",
         "distance": 1.6,
         "dropoff": "2019-03-23 20:27:24",
         "dropoff_borough": "Manhattan",
         "dropoff_zone": "UN/Turtle Bay South",
         "droptime": "2019-03-23 20:27:24",
         "fare": 7,
         "passengers": 1,
         "payment": "credit card",
         "picktime": "2019-03-23 20:21:09",
         "pickup": "2019-03-23 20:21:09",
         "pickup_borough": "Manhattan",
         "pickup_zone": "Lenox Hill West",
         "tip": 2.15,
         "tolls": 0,
         "total": 12.95
        },
        {
         "_deepnote_index_column": 1,
         "color": "yellow",
         "distance": 0.79,
         "dropoff": "2019-03-04 16:19:00",
         "dropoff_borough": "Manhattan",
         "dropoff_zone": "Upper West Side South",
         "droptime": "2019-03-04 16:19:00",
         "fare": 5,
         "passengers": 1,
         "payment": "cash",
         "picktime": "2019-03-04 16:11:55",
         "pickup": "2019-03-04 16:11:55",
         "pickup_borough": "Manhattan",
         "pickup_zone": "Upper West Side South",
         "tip": 0,
         "tolls": 0,
         "total": 9.3
        },
        {
         "_deepnote_index_column": 2,
         "color": "yellow",
         "distance": 1.37,
         "dropoff": "2019-03-27 18:00:25",
         "dropoff_borough": "Manhattan",
         "dropoff_zone": "West Village",
         "droptime": "2019-03-27 18:00:25",
         "fare": 7.5,
         "passengers": 1,
         "payment": "credit card",
         "picktime": "2019-03-27 17:53:01",
         "pickup": "2019-03-27 17:53:01",
         "pickup_borough": "Manhattan",
         "pickup_zone": "Alphabet City",
         "tip": 2.36,
         "tolls": 0,
         "total": 14.16
        },
        {
         "_deepnote_index_column": 3,
         "color": "yellow",
         "distance": 7.7,
         "dropoff": "2019-03-10 01:49:51",
         "dropoff_borough": "Manhattan",
         "dropoff_zone": "Yorkville West",
         "droptime": "2019-03-10 01:49:51",
         "fare": 27,
         "passengers": 1,
         "payment": "credit card",
         "picktime": "2019-03-10 01:23:59",
         "pickup": "2019-03-10 01:23:59",
         "pickup_borough": "Manhattan",
         "pickup_zone": "Hudson Sq",
         "tip": 6.15,
         "tolls": 0,
         "total": 36.95
        },
        {
         "_deepnote_index_column": 4,
         "color": "yellow",
         "distance": 2.16,
         "dropoff": "2019-03-30 13:37:14",
         "dropoff_borough": "Manhattan",
         "dropoff_zone": "Yorkville West",
         "droptime": "2019-03-30 13:37:14",
         "fare": 9,
         "passengers": 3,
         "payment": "credit card",
         "picktime": "2019-03-30 13:27:42",
         "pickup": "2019-03-30 13:27:42",
         "pickup_borough": "Manhattan",
         "pickup_zone": "Midtown East",
         "tip": 1.1,
         "tolls": 0,
         "total": 13.4
        },
        {
         "_deepnote_index_column": 5,
         "color": "yellow",
         "distance": 0.49,
         "dropoff": "2019-03-11 10:47:31",
         "dropoff_borough": "Manhattan",
         "dropoff_zone": "Midtown East",
         "droptime": "2019-03-11 10:47:31",
         "fare": 7.5,
         "passengers": 1,
         "payment": "credit card",
         "picktime": "2019-03-11 10:37:23",
         "pickup": "2019-03-11 10:37:23",
         "pickup_borough": "Manhattan",
         "pickup_zone": "Times Sq/Theatre District",
         "tip": 2.16,
         "tolls": 0,
         "total": 12.96
        },
        {
         "_deepnote_index_column": 6,
         "color": "yellow",
         "distance": 3.65,
         "dropoff": "2019-03-26 21:17:29",
         "dropoff_borough": "Manhattan",
         "dropoff_zone": "Two Bridges/Seward Park",
         "droptime": "2019-03-26 21:17:29",
         "fare": 13,
         "passengers": 1,
         "payment": "credit card",
         "picktime": "2019-03-26 21:07:31",
         "pickup": "2019-03-26 21:07:31",
         "pickup_borough": "Manhattan",
         "pickup_zone": "Battery Park City",
         "tip": 2,
         "tolls": 0,
         "total": 18.8
        },
        {
         "_deepnote_index_column": 7,
         "color": "yellow",
         "distance": 1.4,
         "dropoff": "2019-03-22 12:58:17",
         "dropoff_borough": "Manhattan",
         "dropoff_zone": "Flatiron",
         "droptime": "2019-03-22 12:58:17",
         "fare": 8.5,
         "passengers": 0,
         "payment": "nan",
         "picktime": "2019-03-22 12:47:13",
         "pickup": "2019-03-22 12:47:13",
         "pickup_borough": "Manhattan",
         "pickup_zone": "Murray Hill",
         "tip": 0,
         "tolls": 0,
         "total": 11.8
        },
        {
         "_deepnote_index_column": 8,
         "color": "yellow",
         "distance": 3.63,
         "dropoff": "2019-03-23 12:06:14",
         "dropoff_borough": "Manhattan",
         "dropoff_zone": "Midtown Center",
         "droptime": "2019-03-23 12:06:14",
         "fare": 15,
         "passengers": 1,
         "payment": "credit card",
         "picktime": "2019-03-23 11:48:50",
         "pickup": "2019-03-23 11:48:50",
         "pickup_borough": "Manhattan",
         "pickup_zone": "East Harlem South",
         "tip": 1,
         "tolls": 0,
         "total": 19.3
        },
        {
         "_deepnote_index_column": 9,
         "color": "yellow",
         "distance": 1.52,
         "dropoff": "2019-03-08 16:26:57",
         "dropoff_borough": "Manhattan",
         "dropoff_zone": "Central Park",
         "droptime": "2019-03-08 16:26:57",
         "fare": 8,
         "passengers": 1,
         "payment": "credit card",
         "picktime": "2019-03-08 16:18:37",
         "pickup": "2019-03-08 16:18:37",
         "pickup_borough": "Manhattan",
         "pickup_zone": "Lincoln Square East",
         "tip": 1,
         "tolls": 0,
         "total": 13.3
        }
       ]
      },
      "text/html": [
       "<div>\n",
       "<style scoped>\n",
       "    .dataframe tbody tr th:only-of-type {\n",
       "        vertical-align: middle;\n",
       "    }\n",
       "\n",
       "    .dataframe tbody tr th {\n",
       "        vertical-align: top;\n",
       "    }\n",
       "\n",
       "    .dataframe thead th {\n",
       "        text-align: right;\n",
       "    }\n",
       "</style>\n",
       "<table border=\"1\" class=\"dataframe\">\n",
       "  <thead>\n",
       "    <tr style=\"text-align: right;\">\n",
       "      <th></th>\n",
       "      <th>pickup</th>\n",
       "      <th>dropoff</th>\n",
       "      <th>passengers</th>\n",
       "      <th>distance</th>\n",
       "      <th>fare</th>\n",
       "      <th>tip</th>\n",
       "      <th>tolls</th>\n",
       "      <th>total</th>\n",
       "      <th>color</th>\n",
       "      <th>payment</th>\n",
       "      <th>pickup_zone</th>\n",
       "      <th>dropoff_zone</th>\n",
       "      <th>pickup_borough</th>\n",
       "      <th>dropoff_borough</th>\n",
       "      <th>picktime</th>\n",
       "      <th>droptime</th>\n",
       "    </tr>\n",
       "  </thead>\n",
       "  <tbody>\n",
       "    <tr>\n",
       "      <th>0</th>\n",
       "      <td>2019-03-23 20:21:09</td>\n",
       "      <td>2019-03-23 20:27:24</td>\n",
       "      <td>1</td>\n",
       "      <td>1.60</td>\n",
       "      <td>7.0</td>\n",
       "      <td>2.15</td>\n",
       "      <td>0.0</td>\n",
       "      <td>12.95</td>\n",
       "      <td>yellow</td>\n",
       "      <td>credit card</td>\n",
       "      <td>Lenox Hill West</td>\n",
       "      <td>UN/Turtle Bay South</td>\n",
       "      <td>Manhattan</td>\n",
       "      <td>Manhattan</td>\n",
       "      <td>2019-03-23 20:21:09</td>\n",
       "      <td>2019-03-23 20:27:24</td>\n",
       "    </tr>\n",
       "    <tr>\n",
       "      <th>1</th>\n",
       "      <td>2019-03-04 16:11:55</td>\n",
       "      <td>2019-03-04 16:19:00</td>\n",
       "      <td>1</td>\n",
       "      <td>0.79</td>\n",
       "      <td>5.0</td>\n",
       "      <td>0.00</td>\n",
       "      <td>0.0</td>\n",
       "      <td>9.30</td>\n",
       "      <td>yellow</td>\n",
       "      <td>cash</td>\n",
       "      <td>Upper West Side South</td>\n",
       "      <td>Upper West Side South</td>\n",
       "      <td>Manhattan</td>\n",
       "      <td>Manhattan</td>\n",
       "      <td>2019-03-04 16:11:55</td>\n",
       "      <td>2019-03-04 16:19:00</td>\n",
       "    </tr>\n",
       "    <tr>\n",
       "      <th>2</th>\n",
       "      <td>2019-03-27 17:53:01</td>\n",
       "      <td>2019-03-27 18:00:25</td>\n",
       "      <td>1</td>\n",
       "      <td>1.37</td>\n",
       "      <td>7.5</td>\n",
       "      <td>2.36</td>\n",
       "      <td>0.0</td>\n",
       "      <td>14.16</td>\n",
       "      <td>yellow</td>\n",
       "      <td>credit card</td>\n",
       "      <td>Alphabet City</td>\n",
       "      <td>West Village</td>\n",
       "      <td>Manhattan</td>\n",
       "      <td>Manhattan</td>\n",
       "      <td>2019-03-27 17:53:01</td>\n",
       "      <td>2019-03-27 18:00:25</td>\n",
       "    </tr>\n",
       "    <tr>\n",
       "      <th>3</th>\n",
       "      <td>2019-03-10 01:23:59</td>\n",
       "      <td>2019-03-10 01:49:51</td>\n",
       "      <td>1</td>\n",
       "      <td>7.70</td>\n",
       "      <td>27.0</td>\n",
       "      <td>6.15</td>\n",
       "      <td>0.0</td>\n",
       "      <td>36.95</td>\n",
       "      <td>yellow</td>\n",
       "      <td>credit card</td>\n",
       "      <td>Hudson Sq</td>\n",
       "      <td>Yorkville West</td>\n",
       "      <td>Manhattan</td>\n",
       "      <td>Manhattan</td>\n",
       "      <td>2019-03-10 01:23:59</td>\n",
       "      <td>2019-03-10 01:49:51</td>\n",
       "    </tr>\n",
       "    <tr>\n",
       "      <th>4</th>\n",
       "      <td>2019-03-30 13:27:42</td>\n",
       "      <td>2019-03-30 13:37:14</td>\n",
       "      <td>3</td>\n",
       "      <td>2.16</td>\n",
       "      <td>9.0</td>\n",
       "      <td>1.10</td>\n",
       "      <td>0.0</td>\n",
       "      <td>13.40</td>\n",
       "      <td>yellow</td>\n",
       "      <td>credit card</td>\n",
       "      <td>Midtown East</td>\n",
       "      <td>Yorkville West</td>\n",
       "      <td>Manhattan</td>\n",
       "      <td>Manhattan</td>\n",
       "      <td>2019-03-30 13:27:42</td>\n",
       "      <td>2019-03-30 13:37:14</td>\n",
       "    </tr>\n",
       "    <tr>\n",
       "      <th>...</th>\n",
       "      <td>...</td>\n",
       "      <td>...</td>\n",
       "      <td>...</td>\n",
       "      <td>...</td>\n",
       "      <td>...</td>\n",
       "      <td>...</td>\n",
       "      <td>...</td>\n",
       "      <td>...</td>\n",
       "      <td>...</td>\n",
       "      <td>...</td>\n",
       "      <td>...</td>\n",
       "      <td>...</td>\n",
       "      <td>...</td>\n",
       "      <td>...</td>\n",
       "      <td>...</td>\n",
       "      <td>...</td>\n",
       "    </tr>\n",
       "    <tr>\n",
       "      <th>6428</th>\n",
       "      <td>2019-03-31 09:51:53</td>\n",
       "      <td>2019-03-31 09:55:27</td>\n",
       "      <td>1</td>\n",
       "      <td>0.75</td>\n",
       "      <td>4.5</td>\n",
       "      <td>1.06</td>\n",
       "      <td>0.0</td>\n",
       "      <td>6.36</td>\n",
       "      <td>green</td>\n",
       "      <td>credit card</td>\n",
       "      <td>East Harlem North</td>\n",
       "      <td>Central Harlem North</td>\n",
       "      <td>Manhattan</td>\n",
       "      <td>Manhattan</td>\n",
       "      <td>2019-03-31 09:51:53</td>\n",
       "      <td>2019-03-31 09:55:27</td>\n",
       "    </tr>\n",
       "    <tr>\n",
       "      <th>6429</th>\n",
       "      <td>2019-03-31 17:38:00</td>\n",
       "      <td>2019-03-31 18:34:23</td>\n",
       "      <td>1</td>\n",
       "      <td>18.74</td>\n",
       "      <td>58.0</td>\n",
       "      <td>0.00</td>\n",
       "      <td>0.0</td>\n",
       "      <td>58.80</td>\n",
       "      <td>green</td>\n",
       "      <td>credit card</td>\n",
       "      <td>Jamaica</td>\n",
       "      <td>East Concourse/Concourse Village</td>\n",
       "      <td>Queens</td>\n",
       "      <td>Bronx</td>\n",
       "      <td>2019-03-31 17:38:00</td>\n",
       "      <td>2019-03-31 18:34:23</td>\n",
       "    </tr>\n",
       "    <tr>\n",
       "      <th>6430</th>\n",
       "      <td>2019-03-23 22:55:18</td>\n",
       "      <td>2019-03-23 23:14:25</td>\n",
       "      <td>1</td>\n",
       "      <td>4.14</td>\n",
       "      <td>16.0</td>\n",
       "      <td>0.00</td>\n",
       "      <td>0.0</td>\n",
       "      <td>17.30</td>\n",
       "      <td>green</td>\n",
       "      <td>cash</td>\n",
       "      <td>Crown Heights North</td>\n",
       "      <td>Bushwick North</td>\n",
       "      <td>Brooklyn</td>\n",
       "      <td>Brooklyn</td>\n",
       "      <td>2019-03-23 22:55:18</td>\n",
       "      <td>2019-03-23 23:14:25</td>\n",
       "    </tr>\n",
       "    <tr>\n",
       "      <th>6431</th>\n",
       "      <td>2019-03-04 10:09:25</td>\n",
       "      <td>2019-03-04 10:14:29</td>\n",
       "      <td>1</td>\n",
       "      <td>1.12</td>\n",
       "      <td>6.0</td>\n",
       "      <td>0.00</td>\n",
       "      <td>0.0</td>\n",
       "      <td>6.80</td>\n",
       "      <td>green</td>\n",
       "      <td>credit card</td>\n",
       "      <td>East New York</td>\n",
       "      <td>East Flatbush/Remsen Village</td>\n",
       "      <td>Brooklyn</td>\n",
       "      <td>Brooklyn</td>\n",
       "      <td>2019-03-04 10:09:25</td>\n",
       "      <td>2019-03-04 10:14:29</td>\n",
       "    </tr>\n",
       "    <tr>\n",
       "      <th>6432</th>\n",
       "      <td>2019-03-13 19:31:22</td>\n",
       "      <td>2019-03-13 19:48:02</td>\n",
       "      <td>1</td>\n",
       "      <td>3.85</td>\n",
       "      <td>15.0</td>\n",
       "      <td>3.36</td>\n",
       "      <td>0.0</td>\n",
       "      <td>20.16</td>\n",
       "      <td>green</td>\n",
       "      <td>credit card</td>\n",
       "      <td>Boerum Hill</td>\n",
       "      <td>Windsor Terrace</td>\n",
       "      <td>Brooklyn</td>\n",
       "      <td>Brooklyn</td>\n",
       "      <td>2019-03-13 19:31:22</td>\n",
       "      <td>2019-03-13 19:48:02</td>\n",
       "    </tr>\n",
       "  </tbody>\n",
       "</table>\n",
       "<p>6433 rows × 16 columns</p>\n",
       "</div>"
      ],
      "text/plain": [
       "                   pickup              dropoff  passengers  distance  fare  \\\n",
       "0     2019-03-23 20:21:09  2019-03-23 20:27:24           1      1.60   7.0   \n",
       "1     2019-03-04 16:11:55  2019-03-04 16:19:00           1      0.79   5.0   \n",
       "2     2019-03-27 17:53:01  2019-03-27 18:00:25           1      1.37   7.5   \n",
       "3     2019-03-10 01:23:59  2019-03-10 01:49:51           1      7.70  27.0   \n",
       "4     2019-03-30 13:27:42  2019-03-30 13:37:14           3      2.16   9.0   \n",
       "...                   ...                  ...         ...       ...   ...   \n",
       "6428  2019-03-31 09:51:53  2019-03-31 09:55:27           1      0.75   4.5   \n",
       "6429  2019-03-31 17:38:00  2019-03-31 18:34:23           1     18.74  58.0   \n",
       "6430  2019-03-23 22:55:18  2019-03-23 23:14:25           1      4.14  16.0   \n",
       "6431  2019-03-04 10:09:25  2019-03-04 10:14:29           1      1.12   6.0   \n",
       "6432  2019-03-13 19:31:22  2019-03-13 19:48:02           1      3.85  15.0   \n",
       "\n",
       "       tip  tolls  total   color      payment            pickup_zone  \\\n",
       "0     2.15    0.0  12.95  yellow  credit card        Lenox Hill West   \n",
       "1     0.00    0.0   9.30  yellow         cash  Upper West Side South   \n",
       "2     2.36    0.0  14.16  yellow  credit card          Alphabet City   \n",
       "3     6.15    0.0  36.95  yellow  credit card              Hudson Sq   \n",
       "4     1.10    0.0  13.40  yellow  credit card           Midtown East   \n",
       "...    ...    ...    ...     ...          ...                    ...   \n",
       "6428  1.06    0.0   6.36   green  credit card      East Harlem North   \n",
       "6429  0.00    0.0  58.80   green  credit card                Jamaica   \n",
       "6430  0.00    0.0  17.30   green         cash    Crown Heights North   \n",
       "6431  0.00    0.0   6.80   green  credit card          East New York   \n",
       "6432  3.36    0.0  20.16   green  credit card            Boerum Hill   \n",
       "\n",
       "                          dropoff_zone pickup_borough dropoff_borough  \\\n",
       "0                  UN/Turtle Bay South      Manhattan       Manhattan   \n",
       "1                Upper West Side South      Manhattan       Manhattan   \n",
       "2                         West Village      Manhattan       Manhattan   \n",
       "3                       Yorkville West      Manhattan       Manhattan   \n",
       "4                       Yorkville West      Manhattan       Manhattan   \n",
       "...                                ...            ...             ...   \n",
       "6428              Central Harlem North      Manhattan       Manhattan   \n",
       "6429  East Concourse/Concourse Village         Queens           Bronx   \n",
       "6430                    Bushwick North       Brooklyn        Brooklyn   \n",
       "6431      East Flatbush/Remsen Village       Brooklyn        Brooklyn   \n",
       "6432                   Windsor Terrace       Brooklyn        Brooklyn   \n",
       "\n",
       "                picktime            droptime  \n",
       "0    2019-03-23 20:21:09 2019-03-23 20:27:24  \n",
       "1    2019-03-04 16:11:55 2019-03-04 16:19:00  \n",
       "2    2019-03-27 17:53:01 2019-03-27 18:00:25  \n",
       "3    2019-03-10 01:23:59 2019-03-10 01:49:51  \n",
       "4    2019-03-30 13:27:42 2019-03-30 13:37:14  \n",
       "...                  ...                 ...  \n",
       "6428 2019-03-31 09:51:53 2019-03-31 09:55:27  \n",
       "6429 2019-03-31 17:38:00 2019-03-31 18:34:23  \n",
       "6430 2019-03-23 22:55:18 2019-03-23 23:14:25  \n",
       "6431 2019-03-04 10:09:25 2019-03-04 10:14:29  \n",
       "6432 2019-03-13 19:31:22 2019-03-13 19:48:02  \n",
       "\n",
       "[6433 rows x 16 columns]"
      ]
     },
     "execution_count": 85,
     "metadata": {},
     "output_type": "execute_result"
    }
   ],
   "source": [
    "#notice the new columns are all the way at the end\n",
    "df"
   ]
  },
  {
   "cell_type": "markdown",
   "metadata": {
    "created_in_deepnote_cell": true,
    "deepnote_cell_type": "markdown"
   },
   "source": [
    "<a style='text-decoration:none;line-height:16px;display:flex;color:#5B5B62;padding:10px;justify-content:end;' href='https://deepnote.com?utm_source=created-in-deepnote-cell&projectId=e69582a0-522e-4774-8ddf-e30478c7f5fd' target=\"_blank\">\n",
    "<img alt='Created in deepnote.com' style='display:inline;max-height:16px;margin:0px;margin-right:7.5px;' src='data:image/svg+xml;base64,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' > </img>\n",
    "Created in <span style='font-weight:600;margin-left:4px;'>Deepnote</span></a>"
   ]
  }
 ],
 "metadata": {
  "deepnote": {},
  "deepnote_execution_queue": [],
  "deepnote_notebook_id": "ae49330cfc6943a2811350d1861e1c32",
  "kernelspec": {
   "display_name": "Python 3 (ipykernel)",
   "language": "python",
   "name": "python3"
  },
  "language_info": {
   "codemirror_mode": {
    "name": "ipython",
    "version": 3
   },
   "file_extension": ".py",
   "mimetype": "text/x-python",
   "name": "python",
   "nbconvert_exporter": "python",
   "pygments_lexer": "ipython3",
   "version": "3.9.13"
  }
 },
 "nbformat": 4,
 "nbformat_minor": 1
}
