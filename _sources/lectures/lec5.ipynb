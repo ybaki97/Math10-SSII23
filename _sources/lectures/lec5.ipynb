{
 "cells": [
  {
   "cell_type": "markdown",
   "metadata": {
    "cell_id": "29b69d81dae44357bb956a142114337c",
    "deepnote_cell_type": "markdown"
   },
   "source": [
    "# Lecture 5: August 16th, 2023"
   ]
  },
  {
   "cell_type": "markdown",
   "metadata": {
    "cell_id": "2e67bbdafa6e476ba8533caad01e98d3",
    "deepnote_cell_type": "markdown"
   },
   "source": [
    "__Reminders:__ \n",
    "\n",
    "* Quizzes for 6 different EDA outcomes have been posted. I'll show you on Canvas how to check your progress.\n",
    "    * Remember: You only need to get credit for an outcome once. For example, if you pass P1 this week, you do not need to take it again for the rest of the class.\n",
    "\n",
    "    * We will see quizzes for the remaining 4 EDA outcomes next week. I will also give new attempts for the quizzes you try this week.\n",
    "\n",
    "* Homework 1 and Homework 2 are due tonight at midnight. Homework 3 and Homework 4 will be posted tonight. (Homework 3 is already in Deepnote, and if we have some time at the end of lecture today we'll work on it; or you could use the time to finish the homework due tonight.)\n",
    "\n",
    "* Office hours yesterday were lots of fun! As a reminder, Anthony has office hours tomorrow from 2:00pm-4:00pm.\n",
    "\n",
    "* For those of you who watch videos instead of attending live lecture: the videos for today are recorded and uploaded, I just haven't posted them in the notes yet. This will be done after lecture today."
   ]
  },
  {
   "cell_type": "markdown",
   "metadata": {
    "cell_id": "1931c4914a0549b18422018beb155b2b",
    "deepnote_cell_type": "markdown"
   },
   "source": [
    "__Today:__ \n",
    "* Start EDA Unit 3! This is all about plotting for Data Science.\n",
    "    * We still have a little bit of material left over from EDA Unit 2. I have asked Anthony to go over the remaining material in discussion today. Be sure to attend! (I also have the notes for this material posted in Lecture 4.)\n"
   ]
  },
  {
   "cell_type": "markdown",
   "metadata": {
    "cell_id": "3de5b9cc5de14c79ad8859eabd44b09b",
    "deepnote_cell_type": "markdown"
   },
   "source": [
    "## Introduction to plotting based on \"The Grammar of Graphics\""
   ]
  },
  {
   "cell_type": "markdown",
   "metadata": {
    "cell_id": "71bd2ad2a6254f3490691113c7101848",
    "deepnote_cell_type": "markdown"
   },
   "source": [
    "Here, we will take a little field trip..."
   ]
  },
  {
   "cell_type": "markdown",
   "metadata": {
    "cell_id": "ca8d3a0a6254488ca5c7e698951a4898",
    "deepnote_cell_type": "markdown"
   },
   "source": [
    "...to the iPad! Here are the notes we took."
   ]
  },
  {
   "cell_type": "markdown",
   "metadata": {
    "cell_id": "1d3caedd84e047ffbd23dbcbd955219b",
    "deepnote_cell_type": "image",
    "deepnote_img_src": "Teaching-38.jpg"
   },
   "source": [
    "![Teaching-38.jpg](Teaching-38.jpg)"
   ]
  },
  {
   "cell_type": "markdown",
   "metadata": {
    "cell_id": "f308e7b0a35346d8a21a9fb93f7137cd",
    "deepnote_cell_type": "image",
    "deepnote_img_src": "Teaching-39.jpg"
   },
   "source": [
    "![Teaching-39.jpg](Teaching-39.jpg)"
   ]
  },
  {
   "cell_type": "markdown",
   "metadata": {
    "cell_id": "a3a5dfb1c1f1470b90abe06720d94f8c",
    "deepnote_cell_type": "image",
    "deepnote_img_src": "Teaching-40.jpg"
   },
   "source": [
    "![Teaching-40.jpg](Teaching-40.jpg)"
   ]
  },
  {
   "cell_type": "markdown",
   "metadata": {
    "cell_id": "e65039791c8d4dc481804e5262281a9c",
    "deepnote_cell_type": "image",
    "deepnote_img_src": "Teaching-41.jpg"
   },
   "source": [
    "![Teaching-41.jpg](Teaching-41.jpg)"
   ]
  },
  {
   "cell_type": "markdown",
   "metadata": {
    "cell_id": "47becbb6598a4450bf01c61f1a06b056",
    "deepnote_cell_type": "image",
    "deepnote_img_src": "Teaching-42.jpg"
   },
   "source": [
    "![Teaching-42.jpg](Teaching-42.jpg)"
   ]
  },
  {
   "cell_type": "markdown",
   "metadata": {
    "cell_id": "98382650561440099fd580335183f3dc",
    "deepnote_cell_type": "markdown"
   },
   "source": [
    "## Introduction to Seaborn and the \"mpg\" dataset"
   ]
  },
  {
   "cell_type": "markdown",
   "metadata": {
    "cell_id": "fb734f56b49741048e473fc29198b66c",
    "deepnote_cell_type": "markdown"
   },
   "source": [
    "We start with Seaborn because it has a number of built-in datasets that are very nice to work with."
   ]
  },
  {
   "cell_type": "code",
   "execution_count": 19,
   "metadata": {
    "cell_id": "c74c35b0a2ab4167a896331ec1c976c6",
    "deepnote_cell_type": "code",
    "deepnote_to_be_reexecuted": false,
    "execution_millis": 2080,
    "execution_start": 1692224861339,
    "source_hash": "c9d2f67b"
   },
   "outputs": [],
   "source": [
    "import seaborn as sns"
   ]
  },
  {
   "cell_type": "markdown",
   "metadata": {
    "cell_id": "31ae9b753a2a49f0930f931f5c0fd76f",
    "deepnote_cell_type": "markdown"
   },
   "source": [
    "Here's how we can look at all of the different datasets Seaborn gives us access to."
   ]
  },
  {
   "cell_type": "code",
   "execution_count": 20,
   "metadata": {
    "cell_id": "ba1df48c8d4246718467068a2db1a122",
    "deepnote_cell_type": "code",
    "deepnote_to_be_reexecuted": false,
    "execution_millis": 219,
    "execution_start": 1692224863412,
    "source_hash": "a8396efe"
   },
   "outputs": [
    {
     "data": {
      "text/plain": [
       "['anagrams',\n",
       " 'anscombe',\n",
       " 'attention',\n",
       " 'brain_networks',\n",
       " 'car_crashes',\n",
       " 'diamonds',\n",
       " 'dots',\n",
       " 'dowjones',\n",
       " 'exercise',\n",
       " 'flights',\n",
       " 'fmri',\n",
       " 'geyser',\n",
       " 'glue',\n",
       " 'healthexp',\n",
       " 'iris',\n",
       " 'mpg',\n",
       " 'penguins',\n",
       " 'planets',\n",
       " 'seaice',\n",
       " 'taxis',\n",
       " 'tips',\n",
       " 'titanic']"
      ]
     },
     "execution_count": 20,
     "metadata": {},
     "output_type": "execute_result"
    }
   ],
   "source": [
    "sns.get_dataset_names()"
   ]
  },
  {
   "cell_type": "markdown",
   "metadata": {
    "cell_id": "54839a612d41409091eac8270b53560d",
    "deepnote_cell_type": "markdown"
   },
   "source": [
    "* Load the \"mpg\" dataset from the Seaborn library."
   ]
  },
  {
   "cell_type": "code",
   "execution_count": 21,
   "metadata": {
    "cell_id": "add8b74eb46d4e02ac62dd3f3a88cb51",
    "deepnote_cell_type": "code",
    "deepnote_to_be_reexecuted": false,
    "execution_millis": 520,
    "execution_start": 1692224863632,
    "source_hash": "14b6c106"
   },
   "outputs": [],
   "source": [
    "df = sns.load_dataset(\"mpg\")"
   ]
  },
  {
   "cell_type": "markdown",
   "metadata": {
    "cell_id": "dd2d4fe93b5c4443bd542c3b75df2de1",
    "deepnote_cell_type": "markdown"
   },
   "source": [
    "Already we can see that `df` is a much smaller dataset than much of what we've worked with before (think about the taxis dataset, with over 6000 rows)."
   ]
  },
  {
   "cell_type": "code",
   "execution_count": 22,
   "metadata": {
    "cell_id": "9140e309b1cb41d6b4137645740eaa0e",
    "deepnote_cell_type": "code",
    "deepnote_to_be_reexecuted": false,
    "execution_millis": 20,
    "execution_start": 1692224864133,
    "source_hash": "14f60b8f"
   },
   "outputs": [
    {
     "data": {
      "text/plain": [
       "(398, 9)"
      ]
     },
     "execution_count": 22,
     "metadata": {},
     "output_type": "execute_result"
    }
   ],
   "source": [
    "df.shape"
   ]
  },
  {
   "cell_type": "code",
   "execution_count": 23,
   "metadata": {
    "cell_id": "ba0999a999cd42d4b352654e205e1cc9",
    "deepnote_cell_type": "code",
    "deepnote_to_be_reexecuted": false,
    "execution_millis": 140,
    "execution_start": 1692224864181,
    "source_hash": "f6110b39"
   },
   "outputs": [
    {
     "data": {
      "text/html": [
       "<div>\n",
       "<style scoped>\n",
       "    .dataframe tbody tr th:only-of-type {\n",
       "        vertical-align: middle;\n",
       "    }\n",
       "\n",
       "    .dataframe tbody tr th {\n",
       "        vertical-align: top;\n",
       "    }\n",
       "\n",
       "    .dataframe thead th {\n",
       "        text-align: right;\n",
       "    }\n",
       "</style>\n",
       "<table border=\"1\" class=\"dataframe\">\n",
       "  <thead>\n",
       "    <tr style=\"text-align: right;\">\n",
       "      <th></th>\n",
       "      <th>mpg</th>\n",
       "      <th>cylinders</th>\n",
       "      <th>displacement</th>\n",
       "      <th>horsepower</th>\n",
       "      <th>weight</th>\n",
       "      <th>acceleration</th>\n",
       "      <th>model_year</th>\n",
       "      <th>origin</th>\n",
       "      <th>name</th>\n",
       "    </tr>\n",
       "  </thead>\n",
       "  <tbody>\n",
       "    <tr>\n",
       "      <th>178</th>\n",
       "      <td>23.0</td>\n",
       "      <td>4</td>\n",
       "      <td>120.0</td>\n",
       "      <td>88.0</td>\n",
       "      <td>2957</td>\n",
       "      <td>17.0</td>\n",
       "      <td>75</td>\n",
       "      <td>europe</td>\n",
       "      <td>peugeot 504</td>\n",
       "    </tr>\n",
       "    <tr>\n",
       "      <th>210</th>\n",
       "      <td>19.0</td>\n",
       "      <td>6</td>\n",
       "      <td>156.0</td>\n",
       "      <td>108.0</td>\n",
       "      <td>2930</td>\n",
       "      <td>15.5</td>\n",
       "      <td>76</td>\n",
       "      <td>japan</td>\n",
       "      <td>toyota mark ii</td>\n",
       "    </tr>\n",
       "    <tr>\n",
       "      <th>322</th>\n",
       "      <td>46.6</td>\n",
       "      <td>4</td>\n",
       "      <td>86.0</td>\n",
       "      <td>65.0</td>\n",
       "      <td>2110</td>\n",
       "      <td>17.9</td>\n",
       "      <td>80</td>\n",
       "      <td>japan</td>\n",
       "      <td>mazda glc</td>\n",
       "    </tr>\n",
       "    <tr>\n",
       "      <th>4</th>\n",
       "      <td>17.0</td>\n",
       "      <td>8</td>\n",
       "      <td>302.0</td>\n",
       "      <td>140.0</td>\n",
       "      <td>3449</td>\n",
       "      <td>10.5</td>\n",
       "      <td>70</td>\n",
       "      <td>usa</td>\n",
       "      <td>ford torino</td>\n",
       "    </tr>\n",
       "    <tr>\n",
       "      <th>377</th>\n",
       "      <td>31.0</td>\n",
       "      <td>4</td>\n",
       "      <td>91.0</td>\n",
       "      <td>68.0</td>\n",
       "      <td>1970</td>\n",
       "      <td>17.6</td>\n",
       "      <td>82</td>\n",
       "      <td>japan</td>\n",
       "      <td>mazda glc custom</td>\n",
       "    </tr>\n",
       "  </tbody>\n",
       "</table>\n",
       "</div>"
      ],
      "text/plain": [
       "      mpg  cylinders  displacement  horsepower  weight  acceleration  \\\n",
       "178  23.0          4         120.0        88.0    2957          17.0   \n",
       "210  19.0          6         156.0       108.0    2930          15.5   \n",
       "322  46.6          4          86.0        65.0    2110          17.9   \n",
       "4    17.0          8         302.0       140.0    3449          10.5   \n",
       "377  31.0          4          91.0        68.0    1970          17.6   \n",
       "\n",
       "     model_year  origin              name  \n",
       "178          75  europe       peugeot 504  \n",
       "210          76   japan    toyota mark ii  \n",
       "322          80   japan         mazda glc  \n",
       "4            70     usa       ford torino  \n",
       "377          82   japan  mazda glc custom  "
      ]
     },
     "execution_count": 23,
     "metadata": {},
     "output_type": "execute_result"
    }
   ],
   "source": [
    "df.sample(5)"
   ]
  },
  {
   "cell_type": "markdown",
   "metadata": {
    "cell_id": "cb70763b5e404541a257c6c8b8abf9c6",
    "deepnote_cell_type": "markdown"
   },
   "source": [
    "* How many \"origin\" values are in this datset?"
   ]
  },
  {
   "cell_type": "code",
   "execution_count": 24,
   "metadata": {
    "cell_id": "bf2d115a1a9f483c81b6cfd311a178f5",
    "deepnote_cell_type": "code",
    "deepnote_to_be_reexecuted": false,
    "execution_millis": 8,
    "execution_start": 1692224864204,
    "source_hash": "25d43fa0"
   },
   "outputs": [
    {
     "data": {
      "text/plain": [
       "Index(['mpg', 'cylinders', 'displacement', 'horsepower', 'weight',\n",
       "       'acceleration', 'model_year', 'origin', 'name'],\n",
       "      dtype='object')"
      ]
     },
     "execution_count": 24,
     "metadata": {},
     "output_type": "execute_result"
    }
   ],
   "source": [
    "df.columns"
   ]
  },
  {
   "cell_type": "code",
   "execution_count": 25,
   "metadata": {
    "cell_id": "17b0c70a2b5843b7b0a8502a92b2dfcf",
    "deepnote_cell_type": "code",
    "deepnote_to_be_reexecuted": false,
    "execution_millis": 7,
    "execution_start": 1692224864205,
    "source_hash": "9f122fa"
   },
   "outputs": [
    {
     "data": {
      "text/plain": [
       "398"
      ]
     },
     "execution_count": 25,
     "metadata": {},
     "output_type": "execute_result"
    }
   ],
   "source": [
    "#Not telling me the distinct origins\n",
    "len(df[\"origin\"])"
   ]
  },
  {
   "cell_type": "code",
   "execution_count": 26,
   "metadata": {
    "cell_id": "27c539b9835840149cd7058503f263ec",
    "deepnote_cell_type": "code",
    "deepnote_to_be_reexecuted": false,
    "execution_millis": 23,
    "execution_start": 1692224864206,
    "source_hash": "96c74577"
   },
   "outputs": [
    {
     "data": {
      "text/plain": [
       "array(['usa', 'japan', 'europe'], dtype=object)"
      ]
     },
     "execution_count": 26,
     "metadata": {},
     "output_type": "execute_result"
    }
   ],
   "source": [
    "df[\"origin\"].unique()"
   ]
  },
  {
   "cell_type": "code",
   "execution_count": 27,
   "metadata": {
    "cell_id": "6313621358d34726bec303125b691133",
    "deepnote_cell_type": "code",
    "deepnote_to_be_reexecuted": false,
    "execution_millis": 18,
    "execution_start": 1692224864213,
    "source_hash": "7eae2a8e"
   },
   "outputs": [
    {
     "data": {
      "text/plain": [
       "3"
      ]
     },
     "execution_count": 27,
     "metadata": {},
     "output_type": "execute_result"
    }
   ],
   "source": [
    "len(df[\"origin\"].unique())"
   ]
  },
  {
   "cell_type": "markdown",
   "metadata": {
    "cell_id": "b34b65b269c5467da29605d61d67222b",
    "deepnote_cell_type": "markdown"
   },
   "source": [
    "Warning: `unique` is a Series method, but not a DataFrame method."
   ]
  },
  {
   "cell_type": "code",
   "execution_count": 28,
   "metadata": {
    "cell_id": "e7c073d4da584cee9046fa46f8b7ff76",
    "deepnote_cell_type": "code",
    "deepnote_to_be_reexecuted": false,
    "execution_millis": 2557,
    "execution_start": 1692224864216,
    "source_hash": "1ab18877"
   },
   "outputs": [
    {
     "ename": "AttributeError",
     "evalue": "'DataFrame' object has no attribute 'unique'",
     "output_type": "error",
     "traceback": [
      "\u001b[0;31m---------------------------------------------------------------------------\u001b[0m",
      "\u001b[0;31mAttributeError\u001b[0m                            Traceback (most recent call last)",
      "Input \u001b[0;32mIn [28]\u001b[0m, in \u001b[0;36m<cell line: 1>\u001b[0;34m()\u001b[0m\n\u001b[0;32m----> 1\u001b[0m \u001b[43mdf\u001b[49m\u001b[38;5;241;43m.\u001b[39;49m\u001b[43munique\u001b[49m()\n",
      "File \u001b[0;32m~/opt/miniconda3/envs/math9/lib/python3.9/site-packages/pandas/core/generic.py:5575\u001b[0m, in \u001b[0;36mNDFrame.__getattr__\u001b[0;34m(self, name)\u001b[0m\n\u001b[1;32m   5568\u001b[0m \u001b[38;5;28;01mif\u001b[39;00m (\n\u001b[1;32m   5569\u001b[0m     name \u001b[38;5;129;01mnot\u001b[39;00m \u001b[38;5;129;01min\u001b[39;00m \u001b[38;5;28mself\u001b[39m\u001b[38;5;241m.\u001b[39m_internal_names_set\n\u001b[1;32m   5570\u001b[0m     \u001b[38;5;129;01mand\u001b[39;00m name \u001b[38;5;129;01mnot\u001b[39;00m \u001b[38;5;129;01min\u001b[39;00m \u001b[38;5;28mself\u001b[39m\u001b[38;5;241m.\u001b[39m_metadata\n\u001b[1;32m   5571\u001b[0m     \u001b[38;5;129;01mand\u001b[39;00m name \u001b[38;5;129;01mnot\u001b[39;00m \u001b[38;5;129;01min\u001b[39;00m \u001b[38;5;28mself\u001b[39m\u001b[38;5;241m.\u001b[39m_accessors\n\u001b[1;32m   5572\u001b[0m     \u001b[38;5;129;01mand\u001b[39;00m \u001b[38;5;28mself\u001b[39m\u001b[38;5;241m.\u001b[39m_info_axis\u001b[38;5;241m.\u001b[39m_can_hold_identifiers_and_holds_name(name)\n\u001b[1;32m   5573\u001b[0m ):\n\u001b[1;32m   5574\u001b[0m     \u001b[38;5;28;01mreturn\u001b[39;00m \u001b[38;5;28mself\u001b[39m[name]\n\u001b[0;32m-> 5575\u001b[0m \u001b[38;5;28;01mreturn\u001b[39;00m \u001b[38;5;28;43mobject\u001b[39;49m\u001b[38;5;241;43m.\u001b[39;49m\u001b[38;5;21;43m__getattribute__\u001b[39;49m\u001b[43m(\u001b[49m\u001b[38;5;28;43mself\u001b[39;49m\u001b[43m,\u001b[49m\u001b[43m \u001b[49m\u001b[43mname\u001b[49m\u001b[43m)\u001b[49m\n",
      "\u001b[0;31mAttributeError\u001b[0m: 'DataFrame' object has no attribute 'unique'"
     ]
    }
   ],
   "source": [
    "df.unique()"
   ]
  },
  {
   "cell_type": "code",
   "execution_count": 29,
   "metadata": {
    "cell_id": "cf68465e63b544cf998415377d60e9ea",
    "deepnote_cell_type": "code",
    "deepnote_to_be_reexecuted": false,
    "execution_millis": 18,
    "execution_start": 1692224872729,
    "source_hash": "71626e88"
   },
   "outputs": [
    {
     "data": {
      "text/plain": [
       "usa       249\n",
       "japan      79\n",
       "europe     70\n",
       "Name: origin, dtype: int64"
      ]
     },
     "execution_count": 29,
     "metadata": {},
     "output_type": "execute_result"
    }
   ],
   "source": [
    "df[\"origin\"].value_counts()"
   ]
  },
  {
   "cell_type": "code",
   "execution_count": 30,
   "metadata": {
    "cell_id": "8c731743aef74a049dc9b964ae6076b9",
    "deepnote_cell_type": "code",
    "deepnote_to_be_reexecuted": false,
    "execution_millis": 5,
    "execution_start": 1692224876337,
    "source_hash": "171e9b8d"
   },
   "outputs": [
    {
     "data": {
      "text/plain": [
       "pandas.core.series.Series"
      ]
     },
     "execution_count": 30,
     "metadata": {},
     "output_type": "execute_result"
    }
   ],
   "source": [
    "type(df[\"origin\"].value_counts())"
   ]
  },
  {
   "cell_type": "markdown",
   "metadata": {
    "cell_id": "31f232914c5444b09b631965aecf599d",
    "deepnote_cell_type": "markdown"
   },
   "source": [
    "Notice that if I sum up these values, I get the number of rows in `df`."
   ]
  },
  {
   "cell_type": "code",
   "execution_count": 31,
   "metadata": {
    "cell_id": "f64ce8eb89b44b5994959e491fcb6b51",
    "deepnote_cell_type": "code",
    "deepnote_to_be_reexecuted": false,
    "execution_millis": 10,
    "execution_start": 1692224886062,
    "source_hash": "389d9514"
   },
   "outputs": [
    {
     "data": {
      "text/plain": [
       "398"
      ]
     },
     "execution_count": 31,
     "metadata": {},
     "output_type": "execute_result"
    }
   ],
   "source": [
    "df[\"origin\"].value_counts().sum()"
   ]
  },
  {
   "cell_type": "markdown",
   "metadata": {
    "cell_id": "f4647321d5594c878d56eddf161cecbd",
    "deepnote_cell_type": "markdown"
   },
   "source": [
    "* How does the average weight of a car differ across these origins? Use the DataFrame method `groupby` (this will be our first time seeing `groupby`)."
   ]
  },
  {
   "cell_type": "code",
   "execution_count": 32,
   "metadata": {
    "cell_id": "c1362d7ec8ec4e058aa27d2268122a9d",
    "deepnote_cell_type": "code",
    "deepnote_to_be_reexecuted": false,
    "execution_millis": 10,
    "execution_start": 1692224891568,
    "source_hash": "54f497fb"
   },
   "outputs": [
    {
     "data": {
      "text/plain": [
       "<pandas.core.groupby.generic.DataFrameGroupBy object at 0x7fb41e7af1f0>"
      ]
     },
     "execution_count": 32,
     "metadata": {},
     "output_type": "execute_result"
    }
   ],
   "source": [
    "df.groupby(\"origin\")"
   ]
  },
  {
   "cell_type": "code",
   "execution_count": 33,
   "metadata": {
    "cell_id": "3483d548c5784ad6886203b55cbbcd6f",
    "deepnote_cell_type": "code",
    "deepnote_to_be_reexecuted": false,
    "execution_millis": 551,
    "execution_start": 1692224903210,
    "source_hash": "c085b6ba"
   },
   "outputs": [
    {
     "data": {
      "text/html": [
       "<div>\n",
       "<style scoped>\n",
       "    .dataframe tbody tr th:only-of-type {\n",
       "        vertical-align: middle;\n",
       "    }\n",
       "\n",
       "    .dataframe tbody tr th {\n",
       "        vertical-align: top;\n",
       "    }\n",
       "\n",
       "    .dataframe thead th {\n",
       "        text-align: right;\n",
       "    }\n",
       "</style>\n",
       "<table border=\"1\" class=\"dataframe\">\n",
       "  <thead>\n",
       "    <tr style=\"text-align: right;\">\n",
       "      <th></th>\n",
       "      <th>mpg</th>\n",
       "      <th>cylinders</th>\n",
       "      <th>displacement</th>\n",
       "      <th>horsepower</th>\n",
       "      <th>weight</th>\n",
       "      <th>acceleration</th>\n",
       "      <th>model_year</th>\n",
       "      <th>origin</th>\n",
       "      <th>name</th>\n",
       "    </tr>\n",
       "  </thead>\n",
       "  <tbody>\n",
       "    <tr>\n",
       "      <th>0</th>\n",
       "      <td>18.0</td>\n",
       "      <td>8</td>\n",
       "      <td>307.0</td>\n",
       "      <td>130.0</td>\n",
       "      <td>3504</td>\n",
       "      <td>12.0</td>\n",
       "      <td>70</td>\n",
       "      <td>usa</td>\n",
       "      <td>chevrolet chevelle malibu</td>\n",
       "    </tr>\n",
       "    <tr>\n",
       "      <th>1</th>\n",
       "      <td>15.0</td>\n",
       "      <td>8</td>\n",
       "      <td>350.0</td>\n",
       "      <td>165.0</td>\n",
       "      <td>3693</td>\n",
       "      <td>11.5</td>\n",
       "      <td>70</td>\n",
       "      <td>usa</td>\n",
       "      <td>buick skylark 320</td>\n",
       "    </tr>\n",
       "    <tr>\n",
       "      <th>2</th>\n",
       "      <td>18.0</td>\n",
       "      <td>8</td>\n",
       "      <td>318.0</td>\n",
       "      <td>150.0</td>\n",
       "      <td>3436</td>\n",
       "      <td>11.0</td>\n",
       "      <td>70</td>\n",
       "      <td>usa</td>\n",
       "      <td>plymouth satellite</td>\n",
       "    </tr>\n",
       "    <tr>\n",
       "      <th>3</th>\n",
       "      <td>16.0</td>\n",
       "      <td>8</td>\n",
       "      <td>304.0</td>\n",
       "      <td>150.0</td>\n",
       "      <td>3433</td>\n",
       "      <td>12.0</td>\n",
       "      <td>70</td>\n",
       "      <td>usa</td>\n",
       "      <td>amc rebel sst</td>\n",
       "    </tr>\n",
       "    <tr>\n",
       "      <th>4</th>\n",
       "      <td>17.0</td>\n",
       "      <td>8</td>\n",
       "      <td>302.0</td>\n",
       "      <td>140.0</td>\n",
       "      <td>3449</td>\n",
       "      <td>10.5</td>\n",
       "      <td>70</td>\n",
       "      <td>usa</td>\n",
       "      <td>ford torino</td>\n",
       "    </tr>\n",
       "  </tbody>\n",
       "</table>\n",
       "</div>"
      ],
      "text/plain": [
       "    mpg  cylinders  displacement  horsepower  weight  acceleration  \\\n",
       "0  18.0          8         307.0       130.0    3504          12.0   \n",
       "1  15.0          8         350.0       165.0    3693          11.5   \n",
       "2  18.0          8         318.0       150.0    3436          11.0   \n",
       "3  16.0          8         304.0       150.0    3433          12.0   \n",
       "4  17.0          8         302.0       140.0    3449          10.5   \n",
       "\n",
       "   model_year origin                       name  \n",
       "0          70    usa  chevrolet chevelle malibu  \n",
       "1          70    usa          buick skylark 320  \n",
       "2          70    usa         plymouth satellite  \n",
       "3          70    usa              amc rebel sst  \n",
       "4          70    usa                ford torino  "
      ]
     },
     "execution_count": 33,
     "metadata": {},
     "output_type": "execute_result"
    }
   ],
   "source": [
    "df.head()"
   ]
  },
  {
   "cell_type": "code",
   "execution_count": 34,
   "metadata": {
    "cell_id": "b7eaa92ef3d240eb9a948f35dbde35c5",
    "deepnote_cell_type": "code",
    "deepnote_to_be_reexecuted": false,
    "execution_millis": 598,
    "execution_start": 1692224943076,
    "source_hash": "fc284ced"
   },
   "outputs": [
    {
     "data": {
      "text/html": [
       "<div>\n",
       "<style scoped>\n",
       "    .dataframe tbody tr th:only-of-type {\n",
       "        vertical-align: middle;\n",
       "    }\n",
       "\n",
       "    .dataframe tbody tr th {\n",
       "        vertical-align: top;\n",
       "    }\n",
       "\n",
       "    .dataframe thead th {\n",
       "        text-align: right;\n",
       "    }\n",
       "</style>\n",
       "<table border=\"1\" class=\"dataframe\">\n",
       "  <thead>\n",
       "    <tr style=\"text-align: right;\">\n",
       "      <th></th>\n",
       "      <th>mpg</th>\n",
       "      <th>cylinders</th>\n",
       "      <th>displacement</th>\n",
       "      <th>horsepower</th>\n",
       "      <th>weight</th>\n",
       "      <th>acceleration</th>\n",
       "      <th>model_year</th>\n",
       "    </tr>\n",
       "    <tr>\n",
       "      <th>origin</th>\n",
       "      <th></th>\n",
       "      <th></th>\n",
       "      <th></th>\n",
       "      <th></th>\n",
       "      <th></th>\n",
       "      <th></th>\n",
       "      <th></th>\n",
       "    </tr>\n",
       "  </thead>\n",
       "  <tbody>\n",
       "    <tr>\n",
       "      <th>europe</th>\n",
       "      <td>27.891429</td>\n",
       "      <td>4.157143</td>\n",
       "      <td>109.142857</td>\n",
       "      <td>80.558824</td>\n",
       "      <td>2423.300000</td>\n",
       "      <td>16.787143</td>\n",
       "      <td>75.814286</td>\n",
       "    </tr>\n",
       "    <tr>\n",
       "      <th>japan</th>\n",
       "      <td>30.450633</td>\n",
       "      <td>4.101266</td>\n",
       "      <td>102.708861</td>\n",
       "      <td>79.835443</td>\n",
       "      <td>2221.227848</td>\n",
       "      <td>16.172152</td>\n",
       "      <td>77.443038</td>\n",
       "    </tr>\n",
       "    <tr>\n",
       "      <th>usa</th>\n",
       "      <td>20.083534</td>\n",
       "      <td>6.248996</td>\n",
       "      <td>245.901606</td>\n",
       "      <td>119.048980</td>\n",
       "      <td>3361.931727</td>\n",
       "      <td>15.033735</td>\n",
       "      <td>75.610442</td>\n",
       "    </tr>\n",
       "  </tbody>\n",
       "</table>\n",
       "</div>"
      ],
      "text/plain": [
       "              mpg  cylinders  displacement  horsepower       weight  \\\n",
       "origin                                                                \n",
       "europe  27.891429   4.157143    109.142857   80.558824  2423.300000   \n",
       "japan   30.450633   4.101266    102.708861   79.835443  2221.227848   \n",
       "usa     20.083534   6.248996    245.901606  119.048980  3361.931727   \n",
       "\n",
       "        acceleration  model_year  \n",
       "origin                            \n",
       "europe     16.787143   75.814286  \n",
       "japan      16.172152   77.443038  \n",
       "usa        15.033735   75.610442  "
      ]
     },
     "execution_count": 34,
     "metadata": {},
     "output_type": "execute_result"
    }
   ],
   "source": [
    "df.groupby(\"origin\").mean()"
   ]
  },
  {
   "cell_type": "code",
   "execution_count": 35,
   "metadata": {
    "cell_id": "b13c5759e62a44ef9872f3e5444cf907",
    "deepnote_cell_type": "code",
    "deepnote_to_be_reexecuted": false,
    "execution_millis": 7,
    "execution_start": 1692224945621,
    "source_hash": "7c10b1d1"
   },
   "outputs": [
    {
     "data": {
      "text/plain": [
       "origin\n",
       "europe    2423.300000\n",
       "japan     2221.227848\n",
       "usa       3361.931727\n",
       "Name: weight, dtype: float64"
      ]
     },
     "execution_count": 35,
     "metadata": {},
     "output_type": "execute_result"
    }
   ],
   "source": [
    "df.groupby(\"origin\").mean()[\"weight\"]"
   ]
  },
  {
   "cell_type": "markdown",
   "metadata": {
    "cell_id": "9f172255fe1343f9abfb73344f6de607",
    "deepnote_cell_type": "markdown"
   },
   "source": [
    "* Can you calculate that same average weight for \"europe\" using Boolean indexing?"
   ]
  },
  {
   "cell_type": "code",
   "execution_count": 36,
   "metadata": {
    "cell_id": "7faad3e955994684bc61f96cdb67341c",
    "deepnote_cell_type": "code",
    "deepnote_table_loading": false,
    "deepnote_table_state": {
     "filters": [],
     "pageIndex": 0,
     "pageSize": 10,
     "sortBy": []
    },
    "deepnote_to_be_reexecuted": false,
    "execution_millis": 5,
    "execution_start": 1692224949282,
    "source_hash": "f2625fe9"
   },
   "outputs": [
    {
     "data": {
      "text/plain": [
       "2423.3"
      ]
     },
     "execution_count": 36,
     "metadata": {},
     "output_type": "execute_result"
    }
   ],
   "source": [
    "df[df[\"origin\"] == \"europe\"][\"weight\"].mean()"
   ]
  },
  {
   "cell_type": "markdown",
   "metadata": {
    "cell_id": "dab6c45957c34375a9ce41345c5ebf1c",
    "deepnote_cell_type": "markdown"
   },
   "source": [
    "...`.loc[:,\"weight\"]`"
   ]
  },
  {
   "cell_type": "code",
   "execution_count": 37,
   "metadata": {
    "cell_id": "b1bee5c7d33a4804930fa5f4ac65e54b",
    "deepnote_cell_type": "code",
    "deepnote_to_be_reexecuted": false,
    "execution_millis": 308,
    "execution_start": 1692224973808,
    "source_hash": "4841da3c"
   },
   "outputs": [
    {
     "data": {
      "text/html": [
       "<div>\n",
       "<style scoped>\n",
       "    .dataframe tbody tr th:only-of-type {\n",
       "        vertical-align: middle;\n",
       "    }\n",
       "\n",
       "    .dataframe tbody tr th {\n",
       "        vertical-align: top;\n",
       "    }\n",
       "\n",
       "    .dataframe thead th {\n",
       "        text-align: right;\n",
       "    }\n",
       "</style>\n",
       "<table border=\"1\" class=\"dataframe\">\n",
       "  <thead>\n",
       "    <tr style=\"text-align: right;\">\n",
       "      <th></th>\n",
       "      <th>mpg</th>\n",
       "      <th>cylinders</th>\n",
       "      <th>displacement</th>\n",
       "      <th>horsepower</th>\n",
       "      <th>weight</th>\n",
       "      <th>acceleration</th>\n",
       "      <th>model_year</th>\n",
       "      <th>origin</th>\n",
       "      <th>name</th>\n",
       "    </tr>\n",
       "  </thead>\n",
       "  <tbody>\n",
       "    <tr>\n",
       "      <th>154</th>\n",
       "      <td>15.0</td>\n",
       "      <td>6</td>\n",
       "      <td>250.0</td>\n",
       "      <td>72.0</td>\n",
       "      <td>3432</td>\n",
       "      <td>21.0</td>\n",
       "      <td>75</td>\n",
       "      <td>usa</td>\n",
       "      <td>mercury monarch</td>\n",
       "    </tr>\n",
       "    <tr>\n",
       "      <th>102</th>\n",
       "      <td>26.0</td>\n",
       "      <td>4</td>\n",
       "      <td>97.0</td>\n",
       "      <td>46.0</td>\n",
       "      <td>1950</td>\n",
       "      <td>21.0</td>\n",
       "      <td>73</td>\n",
       "      <td>europe</td>\n",
       "      <td>volkswagen super beetle</td>\n",
       "    </tr>\n",
       "    <tr>\n",
       "      <th>310</th>\n",
       "      <td>38.1</td>\n",
       "      <td>4</td>\n",
       "      <td>89.0</td>\n",
       "      <td>60.0</td>\n",
       "      <td>1968</td>\n",
       "      <td>18.8</td>\n",
       "      <td>80</td>\n",
       "      <td>japan</td>\n",
       "      <td>toyota corolla tercel</td>\n",
       "    </tr>\n",
       "    <tr>\n",
       "      <th>187</th>\n",
       "      <td>17.5</td>\n",
       "      <td>8</td>\n",
       "      <td>305.0</td>\n",
       "      <td>140.0</td>\n",
       "      <td>4215</td>\n",
       "      <td>13.0</td>\n",
       "      <td>76</td>\n",
       "      <td>usa</td>\n",
       "      <td>chevrolet chevelle malibu classic</td>\n",
       "    </tr>\n",
       "    <tr>\n",
       "      <th>251</th>\n",
       "      <td>20.2</td>\n",
       "      <td>8</td>\n",
       "      <td>302.0</td>\n",
       "      <td>139.0</td>\n",
       "      <td>3570</td>\n",
       "      <td>12.8</td>\n",
       "      <td>78</td>\n",
       "      <td>usa</td>\n",
       "      <td>mercury monarch ghia</td>\n",
       "    </tr>\n",
       "  </tbody>\n",
       "</table>\n",
       "</div>"
      ],
      "text/plain": [
       "      mpg  cylinders  displacement  horsepower  weight  acceleration  \\\n",
       "154  15.0          6         250.0        72.0    3432          21.0   \n",
       "102  26.0          4          97.0        46.0    1950          21.0   \n",
       "310  38.1          4          89.0        60.0    1968          18.8   \n",
       "187  17.5          8         305.0       140.0    4215          13.0   \n",
       "251  20.2          8         302.0       139.0    3570          12.8   \n",
       "\n",
       "     model_year  origin                               name  \n",
       "154          75     usa                    mercury monarch  \n",
       "102          73  europe            volkswagen super beetle  \n",
       "310          80   japan              toyota corolla tercel  \n",
       "187          76     usa  chevrolet chevelle malibu classic  \n",
       "251          78     usa               mercury monarch ghia  "
      ]
     },
     "execution_count": 37,
     "metadata": {},
     "output_type": "execute_result"
    }
   ],
   "source": [
    "#reminder about loc versus iloc\n",
    "df2 = df.sample(5)\n",
    "df2"
   ]
  },
  {
   "cell_type": "code",
   "execution_count": 39,
   "metadata": {
    "cell_id": "2025a94b7ad34a97ad368c914e6e1133",
    "deepnote_cell_type": "code",
    "deepnote_to_be_reexecuted": false,
    "execution_millis": 23,
    "execution_start": 1692224989900,
    "source_hash": "6e707e8b"
   },
   "outputs": [
    {
     "data": {
      "text/plain": [
       "15.0"
      ]
     },
     "execution_count": 39,
     "metadata": {},
     "output_type": "execute_result"
    }
   ],
   "source": [
    "df2.loc[154,\"mpg\"]"
   ]
  },
  {
   "cell_type": "code",
   "execution_count": 40,
   "metadata": {
    "cell_id": "f45db8a21c464081aba6fbf04db84e6a",
    "deepnote_cell_type": "code",
    "deepnote_to_be_reexecuted": false,
    "execution_millis": 10,
    "execution_start": 1692224993706,
    "source_hash": "23cfdfbd"
   },
   "outputs": [
    {
     "data": {
      "text/plain": [
       "15.0"
      ]
     },
     "execution_count": 40,
     "metadata": {},
     "output_type": "execute_result"
    }
   ],
   "source": [
    "df2.iloc[0,0]"
   ]
  },
  {
   "cell_type": "markdown",
   "metadata": {
    "cell_id": "c7bb8d1052f248eba3710fea7ffa4a40",
    "deepnote_cell_type": "markdown"
   },
   "source": [
    "<font color = red> Motivating Question: </font> Think about how you would analyze how mpg changes based on weight? At this point, we haven't really seen an easy way to do this just with pandas..."
   ]
  },
  {
   "cell_type": "markdown",
   "metadata": {
    "cell_id": "82f63a55d3af4fa798b6108f85bb7619",
    "deepnote_cell_type": "markdown"
   },
   "source": [
    "## Visualizing the data using Altair"
   ]
  },
  {
   "cell_type": "code",
   "execution_count": 41,
   "metadata": {
    "cell_id": "18d17bfdea6c474a972cac3e04e415a0",
    "deepnote_cell_type": "code",
    "deepnote_to_be_reexecuted": false,
    "execution_millis": 360,
    "execution_start": 1692224999804,
    "source_hash": "3df74024"
   },
   "outputs": [],
   "source": [
    "import altair as alt"
   ]
  },
  {
   "cell_type": "markdown",
   "metadata": {
    "cell_id": "93a34fb8f0334c4a984209cb9f059ed7",
    "deepnote_cell_type": "markdown"
   },
   "source": [
    "To make visualizations, we encode columns in the dataset to various visual channels"
   ]
  },
  {
   "cell_type": "code",
   "execution_count": 42,
   "metadata": {
    "cell_id": "1bc84fff4a8f47088cfca35a9665425d",
    "deepnote_cell_type": "code",
    "deepnote_to_be_reexecuted": false,
    "execution_millis": 284,
    "execution_start": 1692225002249,
    "source_hash": "c085b6ba"
   },
   "outputs": [
    {
     "data": {
      "text/html": [
       "<div>\n",
       "<style scoped>\n",
       "    .dataframe tbody tr th:only-of-type {\n",
       "        vertical-align: middle;\n",
       "    }\n",
       "\n",
       "    .dataframe tbody tr th {\n",
       "        vertical-align: top;\n",
       "    }\n",
       "\n",
       "    .dataframe thead th {\n",
       "        text-align: right;\n",
       "    }\n",
       "</style>\n",
       "<table border=\"1\" class=\"dataframe\">\n",
       "  <thead>\n",
       "    <tr style=\"text-align: right;\">\n",
       "      <th></th>\n",
       "      <th>mpg</th>\n",
       "      <th>cylinders</th>\n",
       "      <th>displacement</th>\n",
       "      <th>horsepower</th>\n",
       "      <th>weight</th>\n",
       "      <th>acceleration</th>\n",
       "      <th>model_year</th>\n",
       "      <th>origin</th>\n",
       "      <th>name</th>\n",
       "    </tr>\n",
       "  </thead>\n",
       "  <tbody>\n",
       "    <tr>\n",
       "      <th>0</th>\n",
       "      <td>18.0</td>\n",
       "      <td>8</td>\n",
       "      <td>307.0</td>\n",
       "      <td>130.0</td>\n",
       "      <td>3504</td>\n",
       "      <td>12.0</td>\n",
       "      <td>70</td>\n",
       "      <td>usa</td>\n",
       "      <td>chevrolet chevelle malibu</td>\n",
       "    </tr>\n",
       "    <tr>\n",
       "      <th>1</th>\n",
       "      <td>15.0</td>\n",
       "      <td>8</td>\n",
       "      <td>350.0</td>\n",
       "      <td>165.0</td>\n",
       "      <td>3693</td>\n",
       "      <td>11.5</td>\n",
       "      <td>70</td>\n",
       "      <td>usa</td>\n",
       "      <td>buick skylark 320</td>\n",
       "    </tr>\n",
       "    <tr>\n",
       "      <th>2</th>\n",
       "      <td>18.0</td>\n",
       "      <td>8</td>\n",
       "      <td>318.0</td>\n",
       "      <td>150.0</td>\n",
       "      <td>3436</td>\n",
       "      <td>11.0</td>\n",
       "      <td>70</td>\n",
       "      <td>usa</td>\n",
       "      <td>plymouth satellite</td>\n",
       "    </tr>\n",
       "    <tr>\n",
       "      <th>3</th>\n",
       "      <td>16.0</td>\n",
       "      <td>8</td>\n",
       "      <td>304.0</td>\n",
       "      <td>150.0</td>\n",
       "      <td>3433</td>\n",
       "      <td>12.0</td>\n",
       "      <td>70</td>\n",
       "      <td>usa</td>\n",
       "      <td>amc rebel sst</td>\n",
       "    </tr>\n",
       "    <tr>\n",
       "      <th>4</th>\n",
       "      <td>17.0</td>\n",
       "      <td>8</td>\n",
       "      <td>302.0</td>\n",
       "      <td>140.0</td>\n",
       "      <td>3449</td>\n",
       "      <td>10.5</td>\n",
       "      <td>70</td>\n",
       "      <td>usa</td>\n",
       "      <td>ford torino</td>\n",
       "    </tr>\n",
       "  </tbody>\n",
       "</table>\n",
       "</div>"
      ],
      "text/plain": [
       "    mpg  cylinders  displacement  horsepower  weight  acceleration  \\\n",
       "0  18.0          8         307.0       130.0    3504          12.0   \n",
       "1  15.0          8         350.0       165.0    3693          11.5   \n",
       "2  18.0          8         318.0       150.0    3436          11.0   \n",
       "3  16.0          8         304.0       150.0    3433          12.0   \n",
       "4  17.0          8         302.0       140.0    3449          10.5   \n",
       "\n",
       "   model_year origin                       name  \n",
       "0          70    usa  chevrolet chevelle malibu  \n",
       "1          70    usa          buick skylark 320  \n",
       "2          70    usa         plymouth satellite  \n",
       "3          70    usa              amc rebel sst  \n",
       "4          70    usa                ford torino  "
      ]
     },
     "execution_count": 42,
     "metadata": {},
     "output_type": "execute_result"
    }
   ],
   "source": [
    "df.head()"
   ]
  },
  {
   "cell_type": "markdown",
   "metadata": {
    "cell_id": "e7ee3730c554452ba3513f14f1e2bc76",
    "deepnote_cell_type": "markdown",
    "deepnote_to_be_reexecuted": false,
    "execution_millis": 9,
    "execution_start": 1692206210354,
    "source_hash": "27300b93"
   },
   "source": [
    "* Using Altair, plot \"weight\" versus \"mpg\" using a scatter plot. Encode the \"weight\" column in the x-coordinate, and the \"mpg\" column in the y-coordinate."
   ]
  },
  {
   "cell_type": "code",
   "execution_count": 43,
   "metadata": {
    "cell_id": "4d90bc7b151f413b8ac4a7bf905d27c6",
    "deepnote_cell_type": "code",
    "deepnote_to_be_reexecuted": false,
    "execution_millis": 241,
    "execution_start": 1692225004960,
    "source_hash": "7395df77"
   },
   "outputs": [
    {
     "data": {
      "text/html": [
       "\n",
       "<style>\n",
       "  #altair-viz-b7f541c2fa3a42178323203887cab4a8.vega-embed {\n",
       "    width: 100%;\n",
       "    display: flex;\n",
       "  }\n",
       "\n",
       "  #altair-viz-b7f541c2fa3a42178323203887cab4a8.vega-embed details,\n",
       "  #altair-viz-b7f541c2fa3a42178323203887cab4a8.vega-embed details summary {\n",
       "    position: relative;\n",
       "  }\n",
       "</style>\n",
       "<div id=\"altair-viz-b7f541c2fa3a42178323203887cab4a8\"></div>\n",
       "<script type=\"text/javascript\">\n",
       "  var VEGA_DEBUG = (typeof VEGA_DEBUG == \"undefined\") ? {} : VEGA_DEBUG;\n",
       "  (function(spec, embedOpt){\n",
       "    let outputDiv = document.currentScript.previousElementSibling;\n",
       "    if (outputDiv.id !== \"altair-viz-b7f541c2fa3a42178323203887cab4a8\") {\n",
       "      outputDiv = document.getElementById(\"altair-viz-b7f541c2fa3a42178323203887cab4a8\");\n",
       "    }\n",
       "    const paths = {\n",
       "      \"vega\": \"https://cdn.jsdelivr.net/npm/vega@5?noext\",\n",
       "      \"vega-lib\": \"https://cdn.jsdelivr.net/npm/vega-lib?noext\",\n",
       "      \"vega-lite\": \"https://cdn.jsdelivr.net/npm/vega-lite@5.8.0?noext\",\n",
       "      \"vega-embed\": \"https://cdn.jsdelivr.net/npm/vega-embed@6?noext\",\n",
       "    };\n",
       "\n",
       "    function maybeLoadScript(lib, version) {\n",
       "      var key = `${lib.replace(\"-\", \"\")}_version`;\n",
       "      return (VEGA_DEBUG[key] == version) ?\n",
       "        Promise.resolve(paths[lib]) :\n",
       "        new Promise(function(resolve, reject) {\n",
       "          var s = document.createElement('script');\n",
       "          document.getElementsByTagName(\"head\")[0].appendChild(s);\n",
       "          s.async = true;\n",
       "          s.onload = () => {\n",
       "            VEGA_DEBUG[key] = version;\n",
       "            return resolve(paths[lib]);\n",
       "          };\n",
       "          s.onerror = () => reject(`Error loading script: ${paths[lib]}`);\n",
       "          s.src = paths[lib];\n",
       "        });\n",
       "    }\n",
       "\n",
       "    function showError(err) {\n",
       "      outputDiv.innerHTML = `<div class=\"error\" style=\"color:red;\">${err}</div>`;\n",
       "      throw err;\n",
       "    }\n",
       "\n",
       "    function displayChart(vegaEmbed) {\n",
       "      vegaEmbed(outputDiv, spec, embedOpt)\n",
       "        .catch(err => showError(`Javascript Error: ${err.message}<br>This usually means there's a typo in your chart specification. See the javascript console for the full traceback.`));\n",
       "    }\n",
       "\n",
       "    if(typeof define === \"function\" && define.amd) {\n",
       "      requirejs.config({paths});\n",
       "      require([\"vega-embed\"], displayChart, err => showError(`Error loading script: ${err.message}`));\n",
       "    } else {\n",
       "      maybeLoadScript(\"vega\", \"5\")\n",
       "        .then(() => maybeLoadScript(\"vega-lite\", \"5.8.0\"))\n",
       "        .then(() => maybeLoadScript(\"vega-embed\", \"6\"))\n",
       "        .catch(showError)\n",
       "        .then(() => displayChart(vegaEmbed));\n",
       "    }\n",
       "  })({\"config\": {\"view\": {\"continuousWidth\": 300, \"continuousHeight\": 300}}, \"data\": {\"name\": \"data-f1198cc0481ad698d7dc4699e0a3efa7\"}, \"mark\": {\"type\": \"circle\"}, \"$schema\": \"https://vega.github.io/schema/vega-lite/v5.8.0.json\", \"datasets\": {\"data-f1198cc0481ad698d7dc4699e0a3efa7\": [{\"mpg\": 18.0, \"cylinders\": 8, \"displacement\": 307.0, \"horsepower\": 130.0, \"weight\": 3504, \"acceleration\": 12.0, \"model_year\": 70, \"origin\": \"usa\", \"name\": \"chevrolet chevelle malibu\"}, {\"mpg\": 15.0, \"cylinders\": 8, \"displacement\": 350.0, \"horsepower\": 165.0, \"weight\": 3693, \"acceleration\": 11.5, \"model_year\": 70, \"origin\": \"usa\", \"name\": \"buick skylark 320\"}, {\"mpg\": 18.0, \"cylinders\": 8, \"displacement\": 318.0, \"horsepower\": 150.0, \"weight\": 3436, \"acceleration\": 11.0, \"model_year\": 70, \"origin\": \"usa\", \"name\": \"plymouth satellite\"}, {\"mpg\": 16.0, \"cylinders\": 8, \"displacement\": 304.0, \"horsepower\": 150.0, \"weight\": 3433, \"acceleration\": 12.0, \"model_year\": 70, \"origin\": \"usa\", \"name\": \"amc rebel sst\"}, {\"mpg\": 17.0, \"cylinders\": 8, \"displacement\": 302.0, \"horsepower\": 140.0, \"weight\": 3449, \"acceleration\": 10.5, \"model_year\": 70, \"origin\": \"usa\", \"name\": \"ford torino\"}, {\"mpg\": 15.0, \"cylinders\": 8, \"displacement\": 429.0, \"horsepower\": 198.0, \"weight\": 4341, \"acceleration\": 10.0, \"model_year\": 70, \"origin\": \"usa\", \"name\": \"ford galaxie 500\"}, {\"mpg\": 14.0, \"cylinders\": 8, \"displacement\": 454.0, \"horsepower\": 220.0, \"weight\": 4354, \"acceleration\": 9.0, \"model_year\": 70, \"origin\": \"usa\", \"name\": \"chevrolet impala\"}, {\"mpg\": 14.0, \"cylinders\": 8, \"displacement\": 440.0, \"horsepower\": 215.0, \"weight\": 4312, \"acceleration\": 8.5, \"model_year\": 70, \"origin\": \"usa\", \"name\": \"plymouth fury iii\"}, {\"mpg\": 14.0, \"cylinders\": 8, \"displacement\": 455.0, \"horsepower\": 225.0, \"weight\": 4425, \"acceleration\": 10.0, \"model_year\": 70, \"origin\": \"usa\", \"name\": \"pontiac catalina\"}, {\"mpg\": 15.0, \"cylinders\": 8, \"displacement\": 390.0, \"horsepower\": 190.0, \"weight\": 3850, \"acceleration\": 8.5, \"model_year\": 70, \"origin\": \"usa\", \"name\": \"amc ambassador dpl\"}, {\"mpg\": 15.0, \"cylinders\": 8, \"displacement\": 383.0, \"horsepower\": 170.0, \"weight\": 3563, \"acceleration\": 10.0, \"model_year\": 70, \"origin\": \"usa\", \"name\": \"dodge challenger se\"}, {\"mpg\": 14.0, \"cylinders\": 8, \"displacement\": 340.0, \"horsepower\": 160.0, \"weight\": 3609, \"acceleration\": 8.0, \"model_year\": 70, \"origin\": \"usa\", \"name\": \"plymouth 'cuda 340\"}, {\"mpg\": 15.0, \"cylinders\": 8, \"displacement\": 400.0, \"horsepower\": 150.0, \"weight\": 3761, \"acceleration\": 9.5, \"model_year\": 70, \"origin\": \"usa\", \"name\": \"chevrolet monte carlo\"}, {\"mpg\": 14.0, \"cylinders\": 8, \"displacement\": 455.0, \"horsepower\": 225.0, \"weight\": 3086, \"acceleration\": 10.0, \"model_year\": 70, \"origin\": \"usa\", \"name\": \"buick estate wagon (sw)\"}, {\"mpg\": 24.0, \"cylinders\": 4, \"displacement\": 113.0, \"horsepower\": 95.0, \"weight\": 2372, \"acceleration\": 15.0, \"model_year\": 70, \"origin\": \"japan\", \"name\": \"toyota corona mark ii\"}, {\"mpg\": 22.0, \"cylinders\": 6, \"displacement\": 198.0, \"horsepower\": 95.0, \"weight\": 2833, \"acceleration\": 15.5, \"model_year\": 70, \"origin\": \"usa\", \"name\": \"plymouth duster\"}, {\"mpg\": 18.0, \"cylinders\": 6, \"displacement\": 199.0, \"horsepower\": 97.0, \"weight\": 2774, \"acceleration\": 15.5, \"model_year\": 70, \"origin\": \"usa\", \"name\": \"amc hornet\"}, {\"mpg\": 21.0, \"cylinders\": 6, \"displacement\": 200.0, \"horsepower\": 85.0, \"weight\": 2587, \"acceleration\": 16.0, \"model_year\": 70, \"origin\": \"usa\", \"name\": \"ford maverick\"}, {\"mpg\": 27.0, \"cylinders\": 4, \"displacement\": 97.0, \"horsepower\": 88.0, \"weight\": 2130, \"acceleration\": 14.5, \"model_year\": 70, \"origin\": \"japan\", \"name\": \"datsun pl510\"}, {\"mpg\": 26.0, \"cylinders\": 4, \"displacement\": 97.0, \"horsepower\": 46.0, \"weight\": 1835, \"acceleration\": 20.5, \"model_year\": 70, \"origin\": \"europe\", \"name\": \"volkswagen 1131 deluxe sedan\"}, {\"mpg\": 25.0, \"cylinders\": 4, \"displacement\": 110.0, \"horsepower\": 87.0, \"weight\": 2672, \"acceleration\": 17.5, \"model_year\": 70, \"origin\": \"europe\", \"name\": \"peugeot 504\"}, {\"mpg\": 24.0, \"cylinders\": 4, \"displacement\": 107.0, \"horsepower\": 90.0, \"weight\": 2430, \"acceleration\": 14.5, \"model_year\": 70, \"origin\": \"europe\", \"name\": \"audi 100 ls\"}, {\"mpg\": 25.0, \"cylinders\": 4, \"displacement\": 104.0, \"horsepower\": 95.0, \"weight\": 2375, \"acceleration\": 17.5, \"model_year\": 70, \"origin\": \"europe\", \"name\": \"saab 99e\"}, {\"mpg\": 26.0, \"cylinders\": 4, \"displacement\": 121.0, \"horsepower\": 113.0, \"weight\": 2234, \"acceleration\": 12.5, \"model_year\": 70, \"origin\": \"europe\", \"name\": \"bmw 2002\"}, {\"mpg\": 21.0, \"cylinders\": 6, \"displacement\": 199.0, \"horsepower\": 90.0, \"weight\": 2648, \"acceleration\": 15.0, \"model_year\": 70, \"origin\": \"usa\", \"name\": \"amc gremlin\"}, {\"mpg\": 10.0, \"cylinders\": 8, \"displacement\": 360.0, \"horsepower\": 215.0, \"weight\": 4615, \"acceleration\": 14.0, \"model_year\": 70, \"origin\": \"usa\", \"name\": \"ford f250\"}, {\"mpg\": 10.0, \"cylinders\": 8, \"displacement\": 307.0, \"horsepower\": 200.0, \"weight\": 4376, \"acceleration\": 15.0, \"model_year\": 70, \"origin\": \"usa\", \"name\": \"chevy c20\"}, {\"mpg\": 11.0, \"cylinders\": 8, \"displacement\": 318.0, \"horsepower\": 210.0, \"weight\": 4382, \"acceleration\": 13.5, \"model_year\": 70, \"origin\": \"usa\", \"name\": \"dodge d200\"}, {\"mpg\": 9.0, \"cylinders\": 8, \"displacement\": 304.0, \"horsepower\": 193.0, \"weight\": 4732, \"acceleration\": 18.5, \"model_year\": 70, \"origin\": \"usa\", \"name\": \"hi 1200d\"}, {\"mpg\": 27.0, \"cylinders\": 4, \"displacement\": 97.0, \"horsepower\": 88.0, \"weight\": 2130, \"acceleration\": 14.5, \"model_year\": 71, \"origin\": \"japan\", \"name\": \"datsun pl510\"}, {\"mpg\": 28.0, \"cylinders\": 4, \"displacement\": 140.0, \"horsepower\": 90.0, \"weight\": 2264, \"acceleration\": 15.5, \"model_year\": 71, \"origin\": \"usa\", \"name\": \"chevrolet vega 2300\"}, {\"mpg\": 25.0, \"cylinders\": 4, \"displacement\": 113.0, \"horsepower\": 95.0, \"weight\": 2228, \"acceleration\": 14.0, \"model_year\": 71, \"origin\": \"japan\", \"name\": \"toyota corona\"}, {\"mpg\": 25.0, \"cylinders\": 4, \"displacement\": 98.0, \"horsepower\": null, \"weight\": 2046, \"acceleration\": 19.0, \"model_year\": 71, \"origin\": \"usa\", \"name\": \"ford pinto\"}, {\"mpg\": 19.0, \"cylinders\": 6, \"displacement\": 232.0, \"horsepower\": 100.0, \"weight\": 2634, \"acceleration\": 13.0, \"model_year\": 71, \"origin\": \"usa\", \"name\": \"amc gremlin\"}, {\"mpg\": 16.0, \"cylinders\": 6, \"displacement\": 225.0, \"horsepower\": 105.0, \"weight\": 3439, \"acceleration\": 15.5, \"model_year\": 71, \"origin\": \"usa\", \"name\": \"plymouth satellite custom\"}, {\"mpg\": 17.0, \"cylinders\": 6, \"displacement\": 250.0, \"horsepower\": 100.0, \"weight\": 3329, \"acceleration\": 15.5, \"model_year\": 71, \"origin\": \"usa\", \"name\": \"chevrolet chevelle malibu\"}, {\"mpg\": 19.0, \"cylinders\": 6, \"displacement\": 250.0, \"horsepower\": 88.0, \"weight\": 3302, \"acceleration\": 15.5, \"model_year\": 71, \"origin\": \"usa\", \"name\": \"ford torino 500\"}, {\"mpg\": 18.0, \"cylinders\": 6, \"displacement\": 232.0, \"horsepower\": 100.0, \"weight\": 3288, \"acceleration\": 15.5, \"model_year\": 71, \"origin\": \"usa\", \"name\": \"amc matador\"}, {\"mpg\": 14.0, \"cylinders\": 8, \"displacement\": 350.0, \"horsepower\": 165.0, \"weight\": 4209, \"acceleration\": 12.0, \"model_year\": 71, \"origin\": \"usa\", \"name\": \"chevrolet impala\"}, {\"mpg\": 14.0, \"cylinders\": 8, \"displacement\": 400.0, \"horsepower\": 175.0, \"weight\": 4464, \"acceleration\": 11.5, \"model_year\": 71, \"origin\": \"usa\", \"name\": \"pontiac catalina brougham\"}, {\"mpg\": 14.0, \"cylinders\": 8, \"displacement\": 351.0, \"horsepower\": 153.0, \"weight\": 4154, \"acceleration\": 13.5, \"model_year\": 71, \"origin\": \"usa\", \"name\": \"ford galaxie 500\"}, {\"mpg\": 14.0, \"cylinders\": 8, \"displacement\": 318.0, \"horsepower\": 150.0, \"weight\": 4096, \"acceleration\": 13.0, \"model_year\": 71, \"origin\": \"usa\", \"name\": \"plymouth fury iii\"}, {\"mpg\": 12.0, \"cylinders\": 8, \"displacement\": 383.0, \"horsepower\": 180.0, \"weight\": 4955, \"acceleration\": 11.5, \"model_year\": 71, \"origin\": \"usa\", \"name\": \"dodge monaco (sw)\"}, {\"mpg\": 13.0, \"cylinders\": 8, \"displacement\": 400.0, \"horsepower\": 170.0, \"weight\": 4746, \"acceleration\": 12.0, \"model_year\": 71, \"origin\": \"usa\", \"name\": \"ford country squire (sw)\"}, {\"mpg\": 13.0, \"cylinders\": 8, \"displacement\": 400.0, \"horsepower\": 175.0, \"weight\": 5140, \"acceleration\": 12.0, \"model_year\": 71, \"origin\": \"usa\", \"name\": \"pontiac safari (sw)\"}, {\"mpg\": 18.0, \"cylinders\": 6, \"displacement\": 258.0, \"horsepower\": 110.0, \"weight\": 2962, \"acceleration\": 13.5, \"model_year\": 71, \"origin\": \"usa\", \"name\": \"amc hornet sportabout (sw)\"}, {\"mpg\": 22.0, \"cylinders\": 4, \"displacement\": 140.0, \"horsepower\": 72.0, \"weight\": 2408, \"acceleration\": 19.0, \"model_year\": 71, \"origin\": \"usa\", \"name\": \"chevrolet vega (sw)\"}, {\"mpg\": 19.0, \"cylinders\": 6, \"displacement\": 250.0, \"horsepower\": 100.0, \"weight\": 3282, \"acceleration\": 15.0, \"model_year\": 71, \"origin\": \"usa\", \"name\": \"pontiac firebird\"}, {\"mpg\": 18.0, \"cylinders\": 6, \"displacement\": 250.0, \"horsepower\": 88.0, \"weight\": 3139, \"acceleration\": 14.5, \"model_year\": 71, \"origin\": \"usa\", \"name\": \"ford mustang\"}, {\"mpg\": 23.0, \"cylinders\": 4, \"displacement\": 122.0, \"horsepower\": 86.0, \"weight\": 2220, \"acceleration\": 14.0, \"model_year\": 71, \"origin\": \"usa\", \"name\": \"mercury capri 2000\"}, {\"mpg\": 28.0, \"cylinders\": 4, \"displacement\": 116.0, \"horsepower\": 90.0, \"weight\": 2123, \"acceleration\": 14.0, \"model_year\": 71, \"origin\": \"europe\", \"name\": \"opel 1900\"}, {\"mpg\": 30.0, \"cylinders\": 4, \"displacement\": 79.0, \"horsepower\": 70.0, \"weight\": 2074, \"acceleration\": 19.5, \"model_year\": 71, \"origin\": \"europe\", \"name\": \"peugeot 304\"}, {\"mpg\": 30.0, \"cylinders\": 4, \"displacement\": 88.0, \"horsepower\": 76.0, \"weight\": 2065, \"acceleration\": 14.5, \"model_year\": 71, \"origin\": \"europe\", \"name\": \"fiat 124b\"}, {\"mpg\": 31.0, \"cylinders\": 4, \"displacement\": 71.0, \"horsepower\": 65.0, \"weight\": 1773, \"acceleration\": 19.0, \"model_year\": 71, \"origin\": \"japan\", \"name\": \"toyota corolla 1200\"}, {\"mpg\": 35.0, \"cylinders\": 4, \"displacement\": 72.0, \"horsepower\": 69.0, \"weight\": 1613, \"acceleration\": 18.0, \"model_year\": 71, \"origin\": \"japan\", \"name\": \"datsun 1200\"}, {\"mpg\": 27.0, \"cylinders\": 4, \"displacement\": 97.0, \"horsepower\": 60.0, \"weight\": 1834, \"acceleration\": 19.0, \"model_year\": 71, \"origin\": \"europe\", \"name\": \"volkswagen model 111\"}, {\"mpg\": 26.0, \"cylinders\": 4, \"displacement\": 91.0, \"horsepower\": 70.0, \"weight\": 1955, \"acceleration\": 20.5, \"model_year\": 71, \"origin\": \"usa\", \"name\": \"plymouth cricket\"}, {\"mpg\": 24.0, \"cylinders\": 4, \"displacement\": 113.0, \"horsepower\": 95.0, \"weight\": 2278, \"acceleration\": 15.5, \"model_year\": 72, \"origin\": \"japan\", \"name\": \"toyota corona hardtop\"}, {\"mpg\": 25.0, \"cylinders\": 4, \"displacement\": 97.5, \"horsepower\": 80.0, \"weight\": 2126, \"acceleration\": 17.0, \"model_year\": 72, \"origin\": \"usa\", \"name\": \"dodge colt hardtop\"}, {\"mpg\": 23.0, \"cylinders\": 4, \"displacement\": 97.0, \"horsepower\": 54.0, \"weight\": 2254, \"acceleration\": 23.5, \"model_year\": 72, \"origin\": \"europe\", \"name\": \"volkswagen type 3\"}, {\"mpg\": 20.0, \"cylinders\": 4, \"displacement\": 140.0, \"horsepower\": 90.0, \"weight\": 2408, \"acceleration\": 19.5, \"model_year\": 72, \"origin\": \"usa\", \"name\": \"chevrolet vega\"}, {\"mpg\": 21.0, \"cylinders\": 4, \"displacement\": 122.0, \"horsepower\": 86.0, \"weight\": 2226, \"acceleration\": 16.5, \"model_year\": 72, \"origin\": \"usa\", \"name\": \"ford pinto runabout\"}, {\"mpg\": 13.0, \"cylinders\": 8, \"displacement\": 350.0, \"horsepower\": 165.0, \"weight\": 4274, \"acceleration\": 12.0, \"model_year\": 72, \"origin\": \"usa\", \"name\": \"chevrolet impala\"}, {\"mpg\": 14.0, \"cylinders\": 8, \"displacement\": 400.0, \"horsepower\": 175.0, \"weight\": 4385, \"acceleration\": 12.0, \"model_year\": 72, \"origin\": \"usa\", \"name\": \"pontiac catalina\"}, {\"mpg\": 15.0, \"cylinders\": 8, \"displacement\": 318.0, \"horsepower\": 150.0, \"weight\": 4135, \"acceleration\": 13.5, \"model_year\": 72, \"origin\": \"usa\", \"name\": \"plymouth fury iii\"}, {\"mpg\": 14.0, \"cylinders\": 8, \"displacement\": 351.0, \"horsepower\": 153.0, \"weight\": 4129, \"acceleration\": 13.0, \"model_year\": 72, \"origin\": \"usa\", \"name\": \"ford galaxie 500\"}, {\"mpg\": 17.0, \"cylinders\": 8, \"displacement\": 304.0, \"horsepower\": 150.0, \"weight\": 3672, \"acceleration\": 11.5, \"model_year\": 72, \"origin\": \"usa\", \"name\": \"amc ambassador sst\"}, {\"mpg\": 11.0, \"cylinders\": 8, \"displacement\": 429.0, \"horsepower\": 208.0, \"weight\": 4633, \"acceleration\": 11.0, \"model_year\": 72, \"origin\": \"usa\", \"name\": \"mercury marquis\"}, {\"mpg\": 13.0, \"cylinders\": 8, \"displacement\": 350.0, \"horsepower\": 155.0, \"weight\": 4502, \"acceleration\": 13.5, \"model_year\": 72, \"origin\": \"usa\", \"name\": \"buick lesabre custom\"}, {\"mpg\": 12.0, \"cylinders\": 8, \"displacement\": 350.0, \"horsepower\": 160.0, \"weight\": 4456, \"acceleration\": 13.5, \"model_year\": 72, \"origin\": \"usa\", \"name\": \"oldsmobile delta 88 royale\"}, {\"mpg\": 13.0, \"cylinders\": 8, \"displacement\": 400.0, \"horsepower\": 190.0, \"weight\": 4422, \"acceleration\": 12.5, \"model_year\": 72, \"origin\": \"usa\", \"name\": \"chrysler newport royal\"}, {\"mpg\": 19.0, \"cylinders\": 3, \"displacement\": 70.0, \"horsepower\": 97.0, \"weight\": 2330, \"acceleration\": 13.5, \"model_year\": 72, \"origin\": \"japan\", \"name\": \"mazda rx2 coupe\"}, {\"mpg\": 15.0, \"cylinders\": 8, \"displacement\": 304.0, \"horsepower\": 150.0, \"weight\": 3892, \"acceleration\": 12.5, \"model_year\": 72, \"origin\": \"usa\", \"name\": \"amc matador (sw)\"}, {\"mpg\": 13.0, \"cylinders\": 8, \"displacement\": 307.0, \"horsepower\": 130.0, \"weight\": 4098, \"acceleration\": 14.0, \"model_year\": 72, \"origin\": \"usa\", \"name\": \"chevrolet chevelle concours (sw)\"}, {\"mpg\": 13.0, \"cylinders\": 8, \"displacement\": 302.0, \"horsepower\": 140.0, \"weight\": 4294, \"acceleration\": 16.0, \"model_year\": 72, \"origin\": \"usa\", \"name\": \"ford gran torino (sw)\"}, {\"mpg\": 14.0, \"cylinders\": 8, \"displacement\": 318.0, \"horsepower\": 150.0, \"weight\": 4077, \"acceleration\": 14.0, \"model_year\": 72, \"origin\": \"usa\", \"name\": \"plymouth satellite custom (sw)\"}, {\"mpg\": 18.0, \"cylinders\": 4, \"displacement\": 121.0, \"horsepower\": 112.0, \"weight\": 2933, \"acceleration\": 14.5, \"model_year\": 72, \"origin\": \"europe\", \"name\": \"volvo 145e (sw)\"}, {\"mpg\": 22.0, \"cylinders\": 4, \"displacement\": 121.0, \"horsepower\": 76.0, \"weight\": 2511, \"acceleration\": 18.0, \"model_year\": 72, \"origin\": \"europe\", \"name\": \"volkswagen 411 (sw)\"}, {\"mpg\": 21.0, \"cylinders\": 4, \"displacement\": 120.0, \"horsepower\": 87.0, \"weight\": 2979, \"acceleration\": 19.5, \"model_year\": 72, \"origin\": \"europe\", \"name\": \"peugeot 504 (sw)\"}, {\"mpg\": 26.0, \"cylinders\": 4, \"displacement\": 96.0, \"horsepower\": 69.0, \"weight\": 2189, \"acceleration\": 18.0, \"model_year\": 72, \"origin\": \"europe\", \"name\": \"renault 12 (sw)\"}, {\"mpg\": 22.0, \"cylinders\": 4, \"displacement\": 122.0, \"horsepower\": 86.0, \"weight\": 2395, \"acceleration\": 16.0, \"model_year\": 72, \"origin\": \"usa\", \"name\": \"ford pinto (sw)\"}, {\"mpg\": 28.0, \"cylinders\": 4, \"displacement\": 97.0, \"horsepower\": 92.0, \"weight\": 2288, \"acceleration\": 17.0, \"model_year\": 72, \"origin\": \"japan\", \"name\": \"datsun 510 (sw)\"}, {\"mpg\": 23.0, \"cylinders\": 4, \"displacement\": 120.0, \"horsepower\": 97.0, \"weight\": 2506, \"acceleration\": 14.5, \"model_year\": 72, \"origin\": \"japan\", \"name\": \"toyouta corona mark ii (sw)\"}, {\"mpg\": 28.0, \"cylinders\": 4, \"displacement\": 98.0, \"horsepower\": 80.0, \"weight\": 2164, \"acceleration\": 15.0, \"model_year\": 72, \"origin\": \"usa\", \"name\": \"dodge colt (sw)\"}, {\"mpg\": 27.0, \"cylinders\": 4, \"displacement\": 97.0, \"horsepower\": 88.0, \"weight\": 2100, \"acceleration\": 16.5, \"model_year\": 72, \"origin\": \"japan\", \"name\": \"toyota corolla 1600 (sw)\"}, {\"mpg\": 13.0, \"cylinders\": 8, \"displacement\": 350.0, \"horsepower\": 175.0, \"weight\": 4100, \"acceleration\": 13.0, \"model_year\": 73, \"origin\": \"usa\", \"name\": \"buick century 350\"}, {\"mpg\": 14.0, \"cylinders\": 8, \"displacement\": 304.0, \"horsepower\": 150.0, \"weight\": 3672, \"acceleration\": 11.5, \"model_year\": 73, \"origin\": \"usa\", \"name\": \"amc matador\"}, {\"mpg\": 13.0, \"cylinders\": 8, \"displacement\": 350.0, \"horsepower\": 145.0, \"weight\": 3988, \"acceleration\": 13.0, \"model_year\": 73, \"origin\": \"usa\", \"name\": \"chevrolet malibu\"}, {\"mpg\": 14.0, \"cylinders\": 8, \"displacement\": 302.0, \"horsepower\": 137.0, \"weight\": 4042, \"acceleration\": 14.5, \"model_year\": 73, \"origin\": \"usa\", \"name\": \"ford gran torino\"}, {\"mpg\": 15.0, \"cylinders\": 8, \"displacement\": 318.0, \"horsepower\": 150.0, \"weight\": 3777, \"acceleration\": 12.5, \"model_year\": 73, \"origin\": \"usa\", \"name\": \"dodge coronet custom\"}, {\"mpg\": 12.0, \"cylinders\": 8, \"displacement\": 429.0, \"horsepower\": 198.0, \"weight\": 4952, \"acceleration\": 11.5, \"model_year\": 73, \"origin\": \"usa\", \"name\": \"mercury marquis brougham\"}, {\"mpg\": 13.0, \"cylinders\": 8, \"displacement\": 400.0, \"horsepower\": 150.0, \"weight\": 4464, \"acceleration\": 12.0, \"model_year\": 73, \"origin\": \"usa\", \"name\": \"chevrolet caprice classic\"}, {\"mpg\": 13.0, \"cylinders\": 8, \"displacement\": 351.0, \"horsepower\": 158.0, \"weight\": 4363, \"acceleration\": 13.0, \"model_year\": 73, \"origin\": \"usa\", \"name\": \"ford ltd\"}, {\"mpg\": 14.0, \"cylinders\": 8, \"displacement\": 318.0, \"horsepower\": 150.0, \"weight\": 4237, \"acceleration\": 14.5, \"model_year\": 73, \"origin\": \"usa\", \"name\": \"plymouth fury gran sedan\"}, {\"mpg\": 13.0, \"cylinders\": 8, \"displacement\": 440.0, \"horsepower\": 215.0, \"weight\": 4735, \"acceleration\": 11.0, \"model_year\": 73, \"origin\": \"usa\", \"name\": \"chrysler new yorker brougham\"}, {\"mpg\": 12.0, \"cylinders\": 8, \"displacement\": 455.0, \"horsepower\": 225.0, \"weight\": 4951, \"acceleration\": 11.0, \"model_year\": 73, \"origin\": \"usa\", \"name\": \"buick electra 225 custom\"}, {\"mpg\": 13.0, \"cylinders\": 8, \"displacement\": 360.0, \"horsepower\": 175.0, \"weight\": 3821, \"acceleration\": 11.0, \"model_year\": 73, \"origin\": \"usa\", \"name\": \"amc ambassador brougham\"}, {\"mpg\": 18.0, \"cylinders\": 6, \"displacement\": 225.0, \"horsepower\": 105.0, \"weight\": 3121, \"acceleration\": 16.5, \"model_year\": 73, \"origin\": \"usa\", \"name\": \"plymouth valiant\"}, {\"mpg\": 16.0, \"cylinders\": 6, \"displacement\": 250.0, \"horsepower\": 100.0, \"weight\": 3278, \"acceleration\": 18.0, \"model_year\": 73, \"origin\": \"usa\", \"name\": \"chevrolet nova custom\"}, {\"mpg\": 18.0, \"cylinders\": 6, \"displacement\": 232.0, \"horsepower\": 100.0, \"weight\": 2945, \"acceleration\": 16.0, \"model_year\": 73, \"origin\": \"usa\", \"name\": \"amc hornet\"}, {\"mpg\": 18.0, \"cylinders\": 6, \"displacement\": 250.0, \"horsepower\": 88.0, \"weight\": 3021, \"acceleration\": 16.5, \"model_year\": 73, \"origin\": \"usa\", \"name\": \"ford maverick\"}, {\"mpg\": 23.0, \"cylinders\": 6, \"displacement\": 198.0, \"horsepower\": 95.0, \"weight\": 2904, \"acceleration\": 16.0, \"model_year\": 73, \"origin\": \"usa\", \"name\": \"plymouth duster\"}, {\"mpg\": 26.0, \"cylinders\": 4, \"displacement\": 97.0, \"horsepower\": 46.0, \"weight\": 1950, \"acceleration\": 21.0, \"model_year\": 73, \"origin\": \"europe\", \"name\": \"volkswagen super beetle\"}, {\"mpg\": 11.0, \"cylinders\": 8, \"displacement\": 400.0, \"horsepower\": 150.0, \"weight\": 4997, \"acceleration\": 14.0, \"model_year\": 73, \"origin\": \"usa\", \"name\": \"chevrolet impala\"}, {\"mpg\": 12.0, \"cylinders\": 8, \"displacement\": 400.0, \"horsepower\": 167.0, \"weight\": 4906, \"acceleration\": 12.5, \"model_year\": 73, \"origin\": \"usa\", \"name\": \"ford country\"}, {\"mpg\": 13.0, \"cylinders\": 8, \"displacement\": 360.0, \"horsepower\": 170.0, \"weight\": 4654, \"acceleration\": 13.0, \"model_year\": 73, \"origin\": \"usa\", \"name\": \"plymouth custom suburb\"}, {\"mpg\": 12.0, \"cylinders\": 8, \"displacement\": 350.0, \"horsepower\": 180.0, \"weight\": 4499, \"acceleration\": 12.5, \"model_year\": 73, \"origin\": \"usa\", \"name\": \"oldsmobile vista cruiser\"}, {\"mpg\": 18.0, \"cylinders\": 6, \"displacement\": 232.0, \"horsepower\": 100.0, \"weight\": 2789, \"acceleration\": 15.0, \"model_year\": 73, \"origin\": \"usa\", \"name\": \"amc gremlin\"}, {\"mpg\": 20.0, \"cylinders\": 4, \"displacement\": 97.0, \"horsepower\": 88.0, \"weight\": 2279, \"acceleration\": 19.0, \"model_year\": 73, \"origin\": \"japan\", \"name\": \"toyota carina\"}, {\"mpg\": 21.0, \"cylinders\": 4, \"displacement\": 140.0, \"horsepower\": 72.0, \"weight\": 2401, \"acceleration\": 19.5, \"model_year\": 73, \"origin\": \"usa\", \"name\": \"chevrolet vega\"}, {\"mpg\": 22.0, \"cylinders\": 4, \"displacement\": 108.0, \"horsepower\": 94.0, \"weight\": 2379, \"acceleration\": 16.5, \"model_year\": 73, \"origin\": \"japan\", \"name\": \"datsun 610\"}, {\"mpg\": 18.0, \"cylinders\": 3, \"displacement\": 70.0, \"horsepower\": 90.0, \"weight\": 2124, \"acceleration\": 13.5, \"model_year\": 73, \"origin\": \"japan\", \"name\": \"maxda rx3\"}, {\"mpg\": 19.0, \"cylinders\": 4, \"displacement\": 122.0, \"horsepower\": 85.0, \"weight\": 2310, \"acceleration\": 18.5, \"model_year\": 73, \"origin\": \"usa\", \"name\": \"ford pinto\"}, {\"mpg\": 21.0, \"cylinders\": 6, \"displacement\": 155.0, \"horsepower\": 107.0, \"weight\": 2472, \"acceleration\": 14.0, \"model_year\": 73, \"origin\": \"usa\", \"name\": \"mercury capri v6\"}, {\"mpg\": 26.0, \"cylinders\": 4, \"displacement\": 98.0, \"horsepower\": 90.0, \"weight\": 2265, \"acceleration\": 15.5, \"model_year\": 73, \"origin\": \"europe\", \"name\": \"fiat 124 sport coupe\"}, {\"mpg\": 15.0, \"cylinders\": 8, \"displacement\": 350.0, \"horsepower\": 145.0, \"weight\": 4082, \"acceleration\": 13.0, \"model_year\": 73, \"origin\": \"usa\", \"name\": \"chevrolet monte carlo s\"}, {\"mpg\": 16.0, \"cylinders\": 8, \"displacement\": 400.0, \"horsepower\": 230.0, \"weight\": 4278, \"acceleration\": 9.5, \"model_year\": 73, \"origin\": \"usa\", \"name\": \"pontiac grand prix\"}, {\"mpg\": 29.0, \"cylinders\": 4, \"displacement\": 68.0, \"horsepower\": 49.0, \"weight\": 1867, \"acceleration\": 19.5, \"model_year\": 73, \"origin\": \"europe\", \"name\": \"fiat 128\"}, {\"mpg\": 24.0, \"cylinders\": 4, \"displacement\": 116.0, \"horsepower\": 75.0, \"weight\": 2158, \"acceleration\": 15.5, \"model_year\": 73, \"origin\": \"europe\", \"name\": \"opel manta\"}, {\"mpg\": 20.0, \"cylinders\": 4, \"displacement\": 114.0, \"horsepower\": 91.0, \"weight\": 2582, \"acceleration\": 14.0, \"model_year\": 73, \"origin\": \"europe\", \"name\": \"audi 100ls\"}, {\"mpg\": 19.0, \"cylinders\": 4, \"displacement\": 121.0, \"horsepower\": 112.0, \"weight\": 2868, \"acceleration\": 15.5, \"model_year\": 73, \"origin\": \"europe\", \"name\": \"volvo 144ea\"}, {\"mpg\": 15.0, \"cylinders\": 8, \"displacement\": 318.0, \"horsepower\": 150.0, \"weight\": 3399, \"acceleration\": 11.0, \"model_year\": 73, \"origin\": \"usa\", \"name\": \"dodge dart custom\"}, {\"mpg\": 24.0, \"cylinders\": 4, \"displacement\": 121.0, \"horsepower\": 110.0, \"weight\": 2660, \"acceleration\": 14.0, \"model_year\": 73, \"origin\": \"europe\", \"name\": \"saab 99le\"}, {\"mpg\": 20.0, \"cylinders\": 6, \"displacement\": 156.0, \"horsepower\": 122.0, \"weight\": 2807, \"acceleration\": 13.5, \"model_year\": 73, \"origin\": \"japan\", \"name\": \"toyota mark ii\"}, {\"mpg\": 11.0, \"cylinders\": 8, \"displacement\": 350.0, \"horsepower\": 180.0, \"weight\": 3664, \"acceleration\": 11.0, \"model_year\": 73, \"origin\": \"usa\", \"name\": \"oldsmobile omega\"}, {\"mpg\": 20.0, \"cylinders\": 6, \"displacement\": 198.0, \"horsepower\": 95.0, \"weight\": 3102, \"acceleration\": 16.5, \"model_year\": 74, \"origin\": \"usa\", \"name\": \"plymouth duster\"}, {\"mpg\": 21.0, \"cylinders\": 6, \"displacement\": 200.0, \"horsepower\": null, \"weight\": 2875, \"acceleration\": 17.0, \"model_year\": 74, \"origin\": \"usa\", \"name\": \"ford maverick\"}, {\"mpg\": 19.0, \"cylinders\": 6, \"displacement\": 232.0, \"horsepower\": 100.0, \"weight\": 2901, \"acceleration\": 16.0, \"model_year\": 74, \"origin\": \"usa\", \"name\": \"amc hornet\"}, {\"mpg\": 15.0, \"cylinders\": 6, \"displacement\": 250.0, \"horsepower\": 100.0, \"weight\": 3336, \"acceleration\": 17.0, \"model_year\": 74, \"origin\": \"usa\", \"name\": \"chevrolet nova\"}, {\"mpg\": 31.0, \"cylinders\": 4, \"displacement\": 79.0, \"horsepower\": 67.0, \"weight\": 1950, \"acceleration\": 19.0, \"model_year\": 74, \"origin\": \"japan\", \"name\": \"datsun b210\"}, {\"mpg\": 26.0, \"cylinders\": 4, \"displacement\": 122.0, \"horsepower\": 80.0, \"weight\": 2451, \"acceleration\": 16.5, \"model_year\": 74, \"origin\": \"usa\", \"name\": \"ford pinto\"}, {\"mpg\": 32.0, \"cylinders\": 4, \"displacement\": 71.0, \"horsepower\": 65.0, \"weight\": 1836, \"acceleration\": 21.0, \"model_year\": 74, \"origin\": \"japan\", \"name\": \"toyota corolla 1200\"}, {\"mpg\": 25.0, \"cylinders\": 4, \"displacement\": 140.0, \"horsepower\": 75.0, \"weight\": 2542, \"acceleration\": 17.0, \"model_year\": 74, \"origin\": \"usa\", \"name\": \"chevrolet vega\"}, {\"mpg\": 16.0, \"cylinders\": 6, \"displacement\": 250.0, \"horsepower\": 100.0, \"weight\": 3781, \"acceleration\": 17.0, \"model_year\": 74, \"origin\": \"usa\", \"name\": \"chevrolet chevelle malibu classic\"}, {\"mpg\": 16.0, \"cylinders\": 6, \"displacement\": 258.0, \"horsepower\": 110.0, \"weight\": 3632, \"acceleration\": 18.0, \"model_year\": 74, \"origin\": \"usa\", \"name\": \"amc matador\"}, {\"mpg\": 18.0, \"cylinders\": 6, \"displacement\": 225.0, \"horsepower\": 105.0, \"weight\": 3613, \"acceleration\": 16.5, \"model_year\": 74, \"origin\": \"usa\", \"name\": \"plymouth satellite sebring\"}, {\"mpg\": 16.0, \"cylinders\": 8, \"displacement\": 302.0, \"horsepower\": 140.0, \"weight\": 4141, \"acceleration\": 14.0, \"model_year\": 74, \"origin\": \"usa\", \"name\": \"ford gran torino\"}, {\"mpg\": 13.0, \"cylinders\": 8, \"displacement\": 350.0, \"horsepower\": 150.0, \"weight\": 4699, \"acceleration\": 14.5, \"model_year\": 74, \"origin\": \"usa\", \"name\": \"buick century luxus (sw)\"}, {\"mpg\": 14.0, \"cylinders\": 8, \"displacement\": 318.0, \"horsepower\": 150.0, \"weight\": 4457, \"acceleration\": 13.5, \"model_year\": 74, \"origin\": \"usa\", \"name\": \"dodge coronet custom (sw)\"}, {\"mpg\": 14.0, \"cylinders\": 8, \"displacement\": 302.0, \"horsepower\": 140.0, \"weight\": 4638, \"acceleration\": 16.0, \"model_year\": 74, \"origin\": \"usa\", \"name\": \"ford gran torino (sw)\"}, {\"mpg\": 14.0, \"cylinders\": 8, \"displacement\": 304.0, \"horsepower\": 150.0, \"weight\": 4257, \"acceleration\": 15.5, \"model_year\": 74, \"origin\": \"usa\", \"name\": \"amc matador (sw)\"}, {\"mpg\": 29.0, \"cylinders\": 4, \"displacement\": 98.0, \"horsepower\": 83.0, \"weight\": 2219, \"acceleration\": 16.5, \"model_year\": 74, \"origin\": \"europe\", \"name\": \"audi fox\"}, {\"mpg\": 26.0, \"cylinders\": 4, \"displacement\": 79.0, \"horsepower\": 67.0, \"weight\": 1963, \"acceleration\": 15.5, \"model_year\": 74, \"origin\": \"europe\", \"name\": \"volkswagen dasher\"}, {\"mpg\": 26.0, \"cylinders\": 4, \"displacement\": 97.0, \"horsepower\": 78.0, \"weight\": 2300, \"acceleration\": 14.5, \"model_year\": 74, \"origin\": \"europe\", \"name\": \"opel manta\"}, {\"mpg\": 31.0, \"cylinders\": 4, \"displacement\": 76.0, \"horsepower\": 52.0, \"weight\": 1649, \"acceleration\": 16.5, \"model_year\": 74, \"origin\": \"japan\", \"name\": \"toyota corona\"}, {\"mpg\": 32.0, \"cylinders\": 4, \"displacement\": 83.0, \"horsepower\": 61.0, \"weight\": 2003, \"acceleration\": 19.0, \"model_year\": 74, \"origin\": \"japan\", \"name\": \"datsun 710\"}, {\"mpg\": 28.0, \"cylinders\": 4, \"displacement\": 90.0, \"horsepower\": 75.0, \"weight\": 2125, \"acceleration\": 14.5, \"model_year\": 74, \"origin\": \"usa\", \"name\": \"dodge colt\"}, {\"mpg\": 24.0, \"cylinders\": 4, \"displacement\": 90.0, \"horsepower\": 75.0, \"weight\": 2108, \"acceleration\": 15.5, \"model_year\": 74, \"origin\": \"europe\", \"name\": \"fiat 128\"}, {\"mpg\": 26.0, \"cylinders\": 4, \"displacement\": 116.0, \"horsepower\": 75.0, \"weight\": 2246, \"acceleration\": 14.0, \"model_year\": 74, \"origin\": \"europe\", \"name\": \"fiat 124 tc\"}, {\"mpg\": 24.0, \"cylinders\": 4, \"displacement\": 120.0, \"horsepower\": 97.0, \"weight\": 2489, \"acceleration\": 15.0, \"model_year\": 74, \"origin\": \"japan\", \"name\": \"honda civic\"}, {\"mpg\": 26.0, \"cylinders\": 4, \"displacement\": 108.0, \"horsepower\": 93.0, \"weight\": 2391, \"acceleration\": 15.5, \"model_year\": 74, \"origin\": \"japan\", \"name\": \"subaru\"}, {\"mpg\": 31.0, \"cylinders\": 4, \"displacement\": 79.0, \"horsepower\": 67.0, \"weight\": 2000, \"acceleration\": 16.0, \"model_year\": 74, \"origin\": \"europe\", \"name\": \"fiat x1.9\"}, {\"mpg\": 19.0, \"cylinders\": 6, \"displacement\": 225.0, \"horsepower\": 95.0, \"weight\": 3264, \"acceleration\": 16.0, \"model_year\": 75, \"origin\": \"usa\", \"name\": \"plymouth valiant custom\"}, {\"mpg\": 18.0, \"cylinders\": 6, \"displacement\": 250.0, \"horsepower\": 105.0, \"weight\": 3459, \"acceleration\": 16.0, \"model_year\": 75, \"origin\": \"usa\", \"name\": \"chevrolet nova\"}, {\"mpg\": 15.0, \"cylinders\": 6, \"displacement\": 250.0, \"horsepower\": 72.0, \"weight\": 3432, \"acceleration\": 21.0, \"model_year\": 75, \"origin\": \"usa\", \"name\": \"mercury monarch\"}, {\"mpg\": 15.0, \"cylinders\": 6, \"displacement\": 250.0, \"horsepower\": 72.0, \"weight\": 3158, \"acceleration\": 19.5, \"model_year\": 75, \"origin\": \"usa\", \"name\": \"ford maverick\"}, {\"mpg\": 16.0, \"cylinders\": 8, \"displacement\": 400.0, \"horsepower\": 170.0, \"weight\": 4668, \"acceleration\": 11.5, \"model_year\": 75, \"origin\": \"usa\", \"name\": \"pontiac catalina\"}, {\"mpg\": 15.0, \"cylinders\": 8, \"displacement\": 350.0, \"horsepower\": 145.0, \"weight\": 4440, \"acceleration\": 14.0, \"model_year\": 75, \"origin\": \"usa\", \"name\": \"chevrolet bel air\"}, {\"mpg\": 16.0, \"cylinders\": 8, \"displacement\": 318.0, \"horsepower\": 150.0, \"weight\": 4498, \"acceleration\": 14.5, \"model_year\": 75, \"origin\": \"usa\", \"name\": \"plymouth grand fury\"}, {\"mpg\": 14.0, \"cylinders\": 8, \"displacement\": 351.0, \"horsepower\": 148.0, \"weight\": 4657, \"acceleration\": 13.5, \"model_year\": 75, \"origin\": \"usa\", \"name\": \"ford ltd\"}, {\"mpg\": 17.0, \"cylinders\": 6, \"displacement\": 231.0, \"horsepower\": 110.0, \"weight\": 3907, \"acceleration\": 21.0, \"model_year\": 75, \"origin\": \"usa\", \"name\": \"buick century\"}, {\"mpg\": 16.0, \"cylinders\": 6, \"displacement\": 250.0, \"horsepower\": 105.0, \"weight\": 3897, \"acceleration\": 18.5, \"model_year\": 75, \"origin\": \"usa\", \"name\": \"chevroelt chevelle malibu\"}, {\"mpg\": 15.0, \"cylinders\": 6, \"displacement\": 258.0, \"horsepower\": 110.0, \"weight\": 3730, \"acceleration\": 19.0, \"model_year\": 75, \"origin\": \"usa\", \"name\": \"amc matador\"}, {\"mpg\": 18.0, \"cylinders\": 6, \"displacement\": 225.0, \"horsepower\": 95.0, \"weight\": 3785, \"acceleration\": 19.0, \"model_year\": 75, \"origin\": \"usa\", \"name\": \"plymouth fury\"}, {\"mpg\": 21.0, \"cylinders\": 6, \"displacement\": 231.0, \"horsepower\": 110.0, \"weight\": 3039, \"acceleration\": 15.0, \"model_year\": 75, \"origin\": \"usa\", \"name\": \"buick skyhawk\"}, {\"mpg\": 20.0, \"cylinders\": 8, \"displacement\": 262.0, \"horsepower\": 110.0, \"weight\": 3221, \"acceleration\": 13.5, \"model_year\": 75, \"origin\": \"usa\", \"name\": \"chevrolet monza 2+2\"}, {\"mpg\": 13.0, \"cylinders\": 8, \"displacement\": 302.0, \"horsepower\": 129.0, \"weight\": 3169, \"acceleration\": 12.0, \"model_year\": 75, \"origin\": \"usa\", \"name\": \"ford mustang ii\"}, {\"mpg\": 29.0, \"cylinders\": 4, \"displacement\": 97.0, \"horsepower\": 75.0, \"weight\": 2171, \"acceleration\": 16.0, \"model_year\": 75, \"origin\": \"japan\", \"name\": \"toyota corolla\"}, {\"mpg\": 23.0, \"cylinders\": 4, \"displacement\": 140.0, \"horsepower\": 83.0, \"weight\": 2639, \"acceleration\": 17.0, \"model_year\": 75, \"origin\": \"usa\", \"name\": \"ford pinto\"}, {\"mpg\": 20.0, \"cylinders\": 6, \"displacement\": 232.0, \"horsepower\": 100.0, \"weight\": 2914, \"acceleration\": 16.0, \"model_year\": 75, \"origin\": \"usa\", \"name\": \"amc gremlin\"}, {\"mpg\": 23.0, \"cylinders\": 4, \"displacement\": 140.0, \"horsepower\": 78.0, \"weight\": 2592, \"acceleration\": 18.5, \"model_year\": 75, \"origin\": \"usa\", \"name\": \"pontiac astro\"}, {\"mpg\": 24.0, \"cylinders\": 4, \"displacement\": 134.0, \"horsepower\": 96.0, \"weight\": 2702, \"acceleration\": 13.5, \"model_year\": 75, \"origin\": \"japan\", \"name\": \"toyota corona\"}, {\"mpg\": 25.0, \"cylinders\": 4, \"displacement\": 90.0, \"horsepower\": 71.0, \"weight\": 2223, \"acceleration\": 16.5, \"model_year\": 75, \"origin\": \"europe\", \"name\": \"volkswagen dasher\"}, {\"mpg\": 24.0, \"cylinders\": 4, \"displacement\": 119.0, \"horsepower\": 97.0, \"weight\": 2545, \"acceleration\": 17.0, \"model_year\": 75, \"origin\": \"japan\", \"name\": \"datsun 710\"}, {\"mpg\": 18.0, \"cylinders\": 6, \"displacement\": 171.0, \"horsepower\": 97.0, \"weight\": 2984, \"acceleration\": 14.5, \"model_year\": 75, \"origin\": \"usa\", \"name\": \"ford pinto\"}, {\"mpg\": 29.0, \"cylinders\": 4, \"displacement\": 90.0, \"horsepower\": 70.0, \"weight\": 1937, \"acceleration\": 14.0, \"model_year\": 75, \"origin\": \"europe\", \"name\": \"volkswagen rabbit\"}, {\"mpg\": 19.0, \"cylinders\": 6, \"displacement\": 232.0, \"horsepower\": 90.0, \"weight\": 3211, \"acceleration\": 17.0, \"model_year\": 75, \"origin\": \"usa\", \"name\": \"amc pacer\"}, {\"mpg\": 23.0, \"cylinders\": 4, \"displacement\": 115.0, \"horsepower\": 95.0, \"weight\": 2694, \"acceleration\": 15.0, \"model_year\": 75, \"origin\": \"europe\", \"name\": \"audi 100ls\"}, {\"mpg\": 23.0, \"cylinders\": 4, \"displacement\": 120.0, \"horsepower\": 88.0, \"weight\": 2957, \"acceleration\": 17.0, \"model_year\": 75, \"origin\": \"europe\", \"name\": \"peugeot 504\"}, {\"mpg\": 22.0, \"cylinders\": 4, \"displacement\": 121.0, \"horsepower\": 98.0, \"weight\": 2945, \"acceleration\": 14.5, \"model_year\": 75, \"origin\": \"europe\", \"name\": \"volvo 244dl\"}, {\"mpg\": 25.0, \"cylinders\": 4, \"displacement\": 121.0, \"horsepower\": 115.0, \"weight\": 2671, \"acceleration\": 13.5, \"model_year\": 75, \"origin\": \"europe\", \"name\": \"saab 99le\"}, {\"mpg\": 33.0, \"cylinders\": 4, \"displacement\": 91.0, \"horsepower\": 53.0, \"weight\": 1795, \"acceleration\": 17.5, \"model_year\": 75, \"origin\": \"japan\", \"name\": \"honda civic cvcc\"}, {\"mpg\": 28.0, \"cylinders\": 4, \"displacement\": 107.0, \"horsepower\": 86.0, \"weight\": 2464, \"acceleration\": 15.5, \"model_year\": 76, \"origin\": \"europe\", \"name\": \"fiat 131\"}, {\"mpg\": 25.0, \"cylinders\": 4, \"displacement\": 116.0, \"horsepower\": 81.0, \"weight\": 2220, \"acceleration\": 16.9, \"model_year\": 76, \"origin\": \"europe\", \"name\": \"opel 1900\"}, {\"mpg\": 25.0, \"cylinders\": 4, \"displacement\": 140.0, \"horsepower\": 92.0, \"weight\": 2572, \"acceleration\": 14.9, \"model_year\": 76, \"origin\": \"usa\", \"name\": \"capri ii\"}, {\"mpg\": 26.0, \"cylinders\": 4, \"displacement\": 98.0, \"horsepower\": 79.0, \"weight\": 2255, \"acceleration\": 17.7, \"model_year\": 76, \"origin\": \"usa\", \"name\": \"dodge colt\"}, {\"mpg\": 27.0, \"cylinders\": 4, \"displacement\": 101.0, \"horsepower\": 83.0, \"weight\": 2202, \"acceleration\": 15.3, \"model_year\": 76, \"origin\": \"europe\", \"name\": \"renault 12tl\"}, {\"mpg\": 17.5, \"cylinders\": 8, \"displacement\": 305.0, \"horsepower\": 140.0, \"weight\": 4215, \"acceleration\": 13.0, \"model_year\": 76, \"origin\": \"usa\", \"name\": \"chevrolet chevelle malibu classic\"}, {\"mpg\": 16.0, \"cylinders\": 8, \"displacement\": 318.0, \"horsepower\": 150.0, \"weight\": 4190, \"acceleration\": 13.0, \"model_year\": 76, \"origin\": \"usa\", \"name\": \"dodge coronet brougham\"}, {\"mpg\": 15.5, \"cylinders\": 8, \"displacement\": 304.0, \"horsepower\": 120.0, \"weight\": 3962, \"acceleration\": 13.9, \"model_year\": 76, \"origin\": \"usa\", \"name\": \"amc matador\"}, {\"mpg\": 14.5, \"cylinders\": 8, \"displacement\": 351.0, \"horsepower\": 152.0, \"weight\": 4215, \"acceleration\": 12.8, \"model_year\": 76, \"origin\": \"usa\", \"name\": \"ford gran torino\"}, {\"mpg\": 22.0, \"cylinders\": 6, \"displacement\": 225.0, \"horsepower\": 100.0, \"weight\": 3233, \"acceleration\": 15.4, \"model_year\": 76, \"origin\": \"usa\", \"name\": \"plymouth valiant\"}, {\"mpg\": 22.0, \"cylinders\": 6, \"displacement\": 250.0, \"horsepower\": 105.0, \"weight\": 3353, \"acceleration\": 14.5, \"model_year\": 76, \"origin\": \"usa\", \"name\": \"chevrolet nova\"}, {\"mpg\": 24.0, \"cylinders\": 6, \"displacement\": 200.0, \"horsepower\": 81.0, \"weight\": 3012, \"acceleration\": 17.6, \"model_year\": 76, \"origin\": \"usa\", \"name\": \"ford maverick\"}, {\"mpg\": 22.5, \"cylinders\": 6, \"displacement\": 232.0, \"horsepower\": 90.0, \"weight\": 3085, \"acceleration\": 17.6, \"model_year\": 76, \"origin\": \"usa\", \"name\": \"amc hornet\"}, {\"mpg\": 29.0, \"cylinders\": 4, \"displacement\": 85.0, \"horsepower\": 52.0, \"weight\": 2035, \"acceleration\": 22.2, \"model_year\": 76, \"origin\": \"usa\", \"name\": \"chevrolet chevette\"}, {\"mpg\": 24.5, \"cylinders\": 4, \"displacement\": 98.0, \"horsepower\": 60.0, \"weight\": 2164, \"acceleration\": 22.1, \"model_year\": 76, \"origin\": \"usa\", \"name\": \"chevrolet woody\"}, {\"mpg\": 29.0, \"cylinders\": 4, \"displacement\": 90.0, \"horsepower\": 70.0, \"weight\": 1937, \"acceleration\": 14.2, \"model_year\": 76, \"origin\": \"europe\", \"name\": \"vw rabbit\"}, {\"mpg\": 33.0, \"cylinders\": 4, \"displacement\": 91.0, \"horsepower\": 53.0, \"weight\": 1795, \"acceleration\": 17.4, \"model_year\": 76, \"origin\": \"japan\", \"name\": \"honda civic\"}, {\"mpg\": 20.0, \"cylinders\": 6, \"displacement\": 225.0, \"horsepower\": 100.0, \"weight\": 3651, \"acceleration\": 17.7, \"model_year\": 76, \"origin\": \"usa\", \"name\": \"dodge aspen se\"}, {\"mpg\": 18.0, \"cylinders\": 6, \"displacement\": 250.0, \"horsepower\": 78.0, \"weight\": 3574, \"acceleration\": 21.0, \"model_year\": 76, \"origin\": \"usa\", \"name\": \"ford granada ghia\"}, {\"mpg\": 18.5, \"cylinders\": 6, \"displacement\": 250.0, \"horsepower\": 110.0, \"weight\": 3645, \"acceleration\": 16.2, \"model_year\": 76, \"origin\": \"usa\", \"name\": \"pontiac ventura sj\"}, {\"mpg\": 17.5, \"cylinders\": 6, \"displacement\": 258.0, \"horsepower\": 95.0, \"weight\": 3193, \"acceleration\": 17.8, \"model_year\": 76, \"origin\": \"usa\", \"name\": \"amc pacer d/l\"}, {\"mpg\": 29.5, \"cylinders\": 4, \"displacement\": 97.0, \"horsepower\": 71.0, \"weight\": 1825, \"acceleration\": 12.2, \"model_year\": 76, \"origin\": \"europe\", \"name\": \"volkswagen rabbit\"}, {\"mpg\": 32.0, \"cylinders\": 4, \"displacement\": 85.0, \"horsepower\": 70.0, \"weight\": 1990, \"acceleration\": 17.0, \"model_year\": 76, \"origin\": \"japan\", \"name\": \"datsun b-210\"}, {\"mpg\": 28.0, \"cylinders\": 4, \"displacement\": 97.0, \"horsepower\": 75.0, \"weight\": 2155, \"acceleration\": 16.4, \"model_year\": 76, \"origin\": \"japan\", \"name\": \"toyota corolla\"}, {\"mpg\": 26.5, \"cylinders\": 4, \"displacement\": 140.0, \"horsepower\": 72.0, \"weight\": 2565, \"acceleration\": 13.6, \"model_year\": 76, \"origin\": \"usa\", \"name\": \"ford pinto\"}, {\"mpg\": 20.0, \"cylinders\": 4, \"displacement\": 130.0, \"horsepower\": 102.0, \"weight\": 3150, \"acceleration\": 15.7, \"model_year\": 76, \"origin\": \"europe\", \"name\": \"volvo 245\"}, {\"mpg\": 13.0, \"cylinders\": 8, \"displacement\": 318.0, \"horsepower\": 150.0, \"weight\": 3940, \"acceleration\": 13.2, \"model_year\": 76, \"origin\": \"usa\", \"name\": \"plymouth volare premier v8\"}, {\"mpg\": 19.0, \"cylinders\": 4, \"displacement\": 120.0, \"horsepower\": 88.0, \"weight\": 3270, \"acceleration\": 21.9, \"model_year\": 76, \"origin\": \"europe\", \"name\": \"peugeot 504\"}, {\"mpg\": 19.0, \"cylinders\": 6, \"displacement\": 156.0, \"horsepower\": 108.0, \"weight\": 2930, \"acceleration\": 15.5, \"model_year\": 76, \"origin\": \"japan\", \"name\": \"toyota mark ii\"}, {\"mpg\": 16.5, \"cylinders\": 6, \"displacement\": 168.0, \"horsepower\": 120.0, \"weight\": 3820, \"acceleration\": 16.7, \"model_year\": 76, \"origin\": \"europe\", \"name\": \"mercedes-benz 280s\"}, {\"mpg\": 16.5, \"cylinders\": 8, \"displacement\": 350.0, \"horsepower\": 180.0, \"weight\": 4380, \"acceleration\": 12.1, \"model_year\": 76, \"origin\": \"usa\", \"name\": \"cadillac seville\"}, {\"mpg\": 13.0, \"cylinders\": 8, \"displacement\": 350.0, \"horsepower\": 145.0, \"weight\": 4055, \"acceleration\": 12.0, \"model_year\": 76, \"origin\": \"usa\", \"name\": \"chevy c10\"}, {\"mpg\": 13.0, \"cylinders\": 8, \"displacement\": 302.0, \"horsepower\": 130.0, \"weight\": 3870, \"acceleration\": 15.0, \"model_year\": 76, \"origin\": \"usa\", \"name\": \"ford f108\"}, {\"mpg\": 13.0, \"cylinders\": 8, \"displacement\": 318.0, \"horsepower\": 150.0, \"weight\": 3755, \"acceleration\": 14.0, \"model_year\": 76, \"origin\": \"usa\", \"name\": \"dodge d100\"}, {\"mpg\": 31.5, \"cylinders\": 4, \"displacement\": 98.0, \"horsepower\": 68.0, \"weight\": 2045, \"acceleration\": 18.5, \"model_year\": 77, \"origin\": \"japan\", \"name\": \"honda accord cvcc\"}, {\"mpg\": 30.0, \"cylinders\": 4, \"displacement\": 111.0, \"horsepower\": 80.0, \"weight\": 2155, \"acceleration\": 14.8, \"model_year\": 77, \"origin\": \"usa\", \"name\": \"buick opel isuzu deluxe\"}, {\"mpg\": 36.0, \"cylinders\": 4, \"displacement\": 79.0, \"horsepower\": 58.0, \"weight\": 1825, \"acceleration\": 18.6, \"model_year\": 77, \"origin\": \"europe\", \"name\": \"renault 5 gtl\"}, {\"mpg\": 25.5, \"cylinders\": 4, \"displacement\": 122.0, \"horsepower\": 96.0, \"weight\": 2300, \"acceleration\": 15.5, \"model_year\": 77, \"origin\": \"usa\", \"name\": \"plymouth arrow gs\"}, {\"mpg\": 33.5, \"cylinders\": 4, \"displacement\": 85.0, \"horsepower\": 70.0, \"weight\": 1945, \"acceleration\": 16.8, \"model_year\": 77, \"origin\": \"japan\", \"name\": \"datsun f-10 hatchback\"}, {\"mpg\": 17.5, \"cylinders\": 8, \"displacement\": 305.0, \"horsepower\": 145.0, \"weight\": 3880, \"acceleration\": 12.5, \"model_year\": 77, \"origin\": \"usa\", \"name\": \"chevrolet caprice classic\"}, {\"mpg\": 17.0, \"cylinders\": 8, \"displacement\": 260.0, \"horsepower\": 110.0, \"weight\": 4060, \"acceleration\": 19.0, \"model_year\": 77, \"origin\": \"usa\", \"name\": \"oldsmobile cutlass supreme\"}, {\"mpg\": 15.5, \"cylinders\": 8, \"displacement\": 318.0, \"horsepower\": 145.0, \"weight\": 4140, \"acceleration\": 13.7, \"model_year\": 77, \"origin\": \"usa\", \"name\": \"dodge monaco brougham\"}, {\"mpg\": 15.0, \"cylinders\": 8, \"displacement\": 302.0, \"horsepower\": 130.0, \"weight\": 4295, \"acceleration\": 14.9, \"model_year\": 77, \"origin\": \"usa\", \"name\": \"mercury cougar brougham\"}, {\"mpg\": 17.5, \"cylinders\": 6, \"displacement\": 250.0, \"horsepower\": 110.0, \"weight\": 3520, \"acceleration\": 16.4, \"model_year\": 77, \"origin\": \"usa\", \"name\": \"chevrolet concours\"}, {\"mpg\": 20.5, \"cylinders\": 6, \"displacement\": 231.0, \"horsepower\": 105.0, \"weight\": 3425, \"acceleration\": 16.9, \"model_year\": 77, \"origin\": \"usa\", \"name\": \"buick skylark\"}, {\"mpg\": 19.0, \"cylinders\": 6, \"displacement\": 225.0, \"horsepower\": 100.0, \"weight\": 3630, \"acceleration\": 17.7, \"model_year\": 77, \"origin\": \"usa\", \"name\": \"plymouth volare custom\"}, {\"mpg\": 18.5, \"cylinders\": 6, \"displacement\": 250.0, \"horsepower\": 98.0, \"weight\": 3525, \"acceleration\": 19.0, \"model_year\": 77, \"origin\": \"usa\", \"name\": \"ford granada\"}, {\"mpg\": 16.0, \"cylinders\": 8, \"displacement\": 400.0, \"horsepower\": 180.0, \"weight\": 4220, \"acceleration\": 11.1, \"model_year\": 77, \"origin\": \"usa\", \"name\": \"pontiac grand prix lj\"}, {\"mpg\": 15.5, \"cylinders\": 8, \"displacement\": 350.0, \"horsepower\": 170.0, \"weight\": 4165, \"acceleration\": 11.4, \"model_year\": 77, \"origin\": \"usa\", \"name\": \"chevrolet monte carlo landau\"}, {\"mpg\": 15.5, \"cylinders\": 8, \"displacement\": 400.0, \"horsepower\": 190.0, \"weight\": 4325, \"acceleration\": 12.2, \"model_year\": 77, \"origin\": \"usa\", \"name\": \"chrysler cordoba\"}, {\"mpg\": 16.0, \"cylinders\": 8, \"displacement\": 351.0, \"horsepower\": 149.0, \"weight\": 4335, \"acceleration\": 14.5, \"model_year\": 77, \"origin\": \"usa\", \"name\": \"ford thunderbird\"}, {\"mpg\": 29.0, \"cylinders\": 4, \"displacement\": 97.0, \"horsepower\": 78.0, \"weight\": 1940, \"acceleration\": 14.5, \"model_year\": 77, \"origin\": \"europe\", \"name\": \"volkswagen rabbit custom\"}, {\"mpg\": 24.5, \"cylinders\": 4, \"displacement\": 151.0, \"horsepower\": 88.0, \"weight\": 2740, \"acceleration\": 16.0, \"model_year\": 77, \"origin\": \"usa\", \"name\": \"pontiac sunbird coupe\"}, {\"mpg\": 26.0, \"cylinders\": 4, \"displacement\": 97.0, \"horsepower\": 75.0, \"weight\": 2265, \"acceleration\": 18.2, \"model_year\": 77, \"origin\": \"japan\", \"name\": \"toyota corolla liftback\"}, {\"mpg\": 25.5, \"cylinders\": 4, \"displacement\": 140.0, \"horsepower\": 89.0, \"weight\": 2755, \"acceleration\": 15.8, \"model_year\": 77, \"origin\": \"usa\", \"name\": \"ford mustang ii 2+2\"}, {\"mpg\": 30.5, \"cylinders\": 4, \"displacement\": 98.0, \"horsepower\": 63.0, \"weight\": 2051, \"acceleration\": 17.0, \"model_year\": 77, \"origin\": \"usa\", \"name\": \"chevrolet chevette\"}, {\"mpg\": 33.5, \"cylinders\": 4, \"displacement\": 98.0, \"horsepower\": 83.0, \"weight\": 2075, \"acceleration\": 15.9, \"model_year\": 77, \"origin\": \"usa\", \"name\": \"dodge colt m/m\"}, {\"mpg\": 30.0, \"cylinders\": 4, \"displacement\": 97.0, \"horsepower\": 67.0, \"weight\": 1985, \"acceleration\": 16.4, \"model_year\": 77, \"origin\": \"japan\", \"name\": \"subaru dl\"}, {\"mpg\": 30.5, \"cylinders\": 4, \"displacement\": 97.0, \"horsepower\": 78.0, \"weight\": 2190, \"acceleration\": 14.1, \"model_year\": 77, \"origin\": \"europe\", \"name\": \"volkswagen dasher\"}, {\"mpg\": 22.0, \"cylinders\": 6, \"displacement\": 146.0, \"horsepower\": 97.0, \"weight\": 2815, \"acceleration\": 14.5, \"model_year\": 77, \"origin\": \"japan\", \"name\": \"datsun 810\"}, {\"mpg\": 21.5, \"cylinders\": 4, \"displacement\": 121.0, \"horsepower\": 110.0, \"weight\": 2600, \"acceleration\": 12.8, \"model_year\": 77, \"origin\": \"europe\", \"name\": \"bmw 320i\"}, {\"mpg\": 21.5, \"cylinders\": 3, \"displacement\": 80.0, \"horsepower\": 110.0, \"weight\": 2720, \"acceleration\": 13.5, \"model_year\": 77, \"origin\": \"japan\", \"name\": \"mazda rx-4\"}, {\"mpg\": 43.1, \"cylinders\": 4, \"displacement\": 90.0, \"horsepower\": 48.0, \"weight\": 1985, \"acceleration\": 21.5, \"model_year\": 78, \"origin\": \"europe\", \"name\": \"volkswagen rabbit custom diesel\"}, {\"mpg\": 36.1, \"cylinders\": 4, \"displacement\": 98.0, \"horsepower\": 66.0, \"weight\": 1800, \"acceleration\": 14.4, \"model_year\": 78, \"origin\": \"usa\", \"name\": \"ford fiesta\"}, {\"mpg\": 32.8, \"cylinders\": 4, \"displacement\": 78.0, \"horsepower\": 52.0, \"weight\": 1985, \"acceleration\": 19.4, \"model_year\": 78, \"origin\": \"japan\", \"name\": \"mazda glc deluxe\"}, {\"mpg\": 39.4, \"cylinders\": 4, \"displacement\": 85.0, \"horsepower\": 70.0, \"weight\": 2070, \"acceleration\": 18.6, \"model_year\": 78, \"origin\": \"japan\", \"name\": \"datsun b210 gx\"}, {\"mpg\": 36.1, \"cylinders\": 4, \"displacement\": 91.0, \"horsepower\": 60.0, \"weight\": 1800, \"acceleration\": 16.4, \"model_year\": 78, \"origin\": \"japan\", \"name\": \"honda civic cvcc\"}, {\"mpg\": 19.9, \"cylinders\": 8, \"displacement\": 260.0, \"horsepower\": 110.0, \"weight\": 3365, \"acceleration\": 15.5, \"model_year\": 78, \"origin\": \"usa\", \"name\": \"oldsmobile cutlass salon brougham\"}, {\"mpg\": 19.4, \"cylinders\": 8, \"displacement\": 318.0, \"horsepower\": 140.0, \"weight\": 3735, \"acceleration\": 13.2, \"model_year\": 78, \"origin\": \"usa\", \"name\": \"dodge diplomat\"}, {\"mpg\": 20.2, \"cylinders\": 8, \"displacement\": 302.0, \"horsepower\": 139.0, \"weight\": 3570, \"acceleration\": 12.8, \"model_year\": 78, \"origin\": \"usa\", \"name\": \"mercury monarch ghia\"}, {\"mpg\": 19.2, \"cylinders\": 6, \"displacement\": 231.0, \"horsepower\": 105.0, \"weight\": 3535, \"acceleration\": 19.2, \"model_year\": 78, \"origin\": \"usa\", \"name\": \"pontiac phoenix lj\"}, {\"mpg\": 20.5, \"cylinders\": 6, \"displacement\": 200.0, \"horsepower\": 95.0, \"weight\": 3155, \"acceleration\": 18.2, \"model_year\": 78, \"origin\": \"usa\", \"name\": \"chevrolet malibu\"}, {\"mpg\": 20.2, \"cylinders\": 6, \"displacement\": 200.0, \"horsepower\": 85.0, \"weight\": 2965, \"acceleration\": 15.8, \"model_year\": 78, \"origin\": \"usa\", \"name\": \"ford fairmont (auto)\"}, {\"mpg\": 25.1, \"cylinders\": 4, \"displacement\": 140.0, \"horsepower\": 88.0, \"weight\": 2720, \"acceleration\": 15.4, \"model_year\": 78, \"origin\": \"usa\", \"name\": \"ford fairmont (man)\"}, {\"mpg\": 20.5, \"cylinders\": 6, \"displacement\": 225.0, \"horsepower\": 100.0, \"weight\": 3430, \"acceleration\": 17.2, \"model_year\": 78, \"origin\": \"usa\", \"name\": \"plymouth volare\"}, {\"mpg\": 19.4, \"cylinders\": 6, \"displacement\": 232.0, \"horsepower\": 90.0, \"weight\": 3210, \"acceleration\": 17.2, \"model_year\": 78, \"origin\": \"usa\", \"name\": \"amc concord\"}, {\"mpg\": 20.6, \"cylinders\": 6, \"displacement\": 231.0, \"horsepower\": 105.0, \"weight\": 3380, \"acceleration\": 15.8, \"model_year\": 78, \"origin\": \"usa\", \"name\": \"buick century special\"}, {\"mpg\": 20.8, \"cylinders\": 6, \"displacement\": 200.0, \"horsepower\": 85.0, \"weight\": 3070, \"acceleration\": 16.7, \"model_year\": 78, \"origin\": \"usa\", \"name\": \"mercury zephyr\"}, {\"mpg\": 18.6, \"cylinders\": 6, \"displacement\": 225.0, \"horsepower\": 110.0, \"weight\": 3620, \"acceleration\": 18.7, \"model_year\": 78, \"origin\": \"usa\", \"name\": \"dodge aspen\"}, {\"mpg\": 18.1, \"cylinders\": 6, \"displacement\": 258.0, \"horsepower\": 120.0, \"weight\": 3410, \"acceleration\": 15.1, \"model_year\": 78, \"origin\": \"usa\", \"name\": \"amc concord d/l\"}, {\"mpg\": 19.2, \"cylinders\": 8, \"displacement\": 305.0, \"horsepower\": 145.0, \"weight\": 3425, \"acceleration\": 13.2, \"model_year\": 78, \"origin\": \"usa\", \"name\": \"chevrolet monte carlo landau\"}, {\"mpg\": 17.7, \"cylinders\": 6, \"displacement\": 231.0, \"horsepower\": 165.0, \"weight\": 3445, \"acceleration\": 13.4, \"model_year\": 78, \"origin\": \"usa\", \"name\": \"buick regal sport coupe (turbo)\"}, {\"mpg\": 18.1, \"cylinders\": 8, \"displacement\": 302.0, \"horsepower\": 139.0, \"weight\": 3205, \"acceleration\": 11.2, \"model_year\": 78, \"origin\": \"usa\", \"name\": \"ford futura\"}, {\"mpg\": 17.5, \"cylinders\": 8, \"displacement\": 318.0, \"horsepower\": 140.0, \"weight\": 4080, \"acceleration\": 13.7, \"model_year\": 78, \"origin\": \"usa\", \"name\": \"dodge magnum xe\"}, {\"mpg\": 30.0, \"cylinders\": 4, \"displacement\": 98.0, \"horsepower\": 68.0, \"weight\": 2155, \"acceleration\": 16.5, \"model_year\": 78, \"origin\": \"usa\", \"name\": \"chevrolet chevette\"}, {\"mpg\": 27.5, \"cylinders\": 4, \"displacement\": 134.0, \"horsepower\": 95.0, \"weight\": 2560, \"acceleration\": 14.2, \"model_year\": 78, \"origin\": \"japan\", \"name\": \"toyota corona\"}, {\"mpg\": 27.2, \"cylinders\": 4, \"displacement\": 119.0, \"horsepower\": 97.0, \"weight\": 2300, \"acceleration\": 14.7, \"model_year\": 78, \"origin\": \"japan\", \"name\": \"datsun 510\"}, {\"mpg\": 30.9, \"cylinders\": 4, \"displacement\": 105.0, \"horsepower\": 75.0, \"weight\": 2230, \"acceleration\": 14.5, \"model_year\": 78, \"origin\": \"usa\", \"name\": \"dodge omni\"}, {\"mpg\": 21.1, \"cylinders\": 4, \"displacement\": 134.0, \"horsepower\": 95.0, \"weight\": 2515, \"acceleration\": 14.8, \"model_year\": 78, \"origin\": \"japan\", \"name\": \"toyota celica gt liftback\"}, {\"mpg\": 23.2, \"cylinders\": 4, \"displacement\": 156.0, \"horsepower\": 105.0, \"weight\": 2745, \"acceleration\": 16.7, \"model_year\": 78, \"origin\": \"usa\", \"name\": \"plymouth sapporo\"}, {\"mpg\": 23.8, \"cylinders\": 4, \"displacement\": 151.0, \"horsepower\": 85.0, \"weight\": 2855, \"acceleration\": 17.6, \"model_year\": 78, \"origin\": \"usa\", \"name\": \"oldsmobile starfire sx\"}, {\"mpg\": 23.9, \"cylinders\": 4, \"displacement\": 119.0, \"horsepower\": 97.0, \"weight\": 2405, \"acceleration\": 14.9, \"model_year\": 78, \"origin\": \"japan\", \"name\": \"datsun 200-sx\"}, {\"mpg\": 20.3, \"cylinders\": 5, \"displacement\": 131.0, \"horsepower\": 103.0, \"weight\": 2830, \"acceleration\": 15.9, \"model_year\": 78, \"origin\": \"europe\", \"name\": \"audi 5000\"}, {\"mpg\": 17.0, \"cylinders\": 6, \"displacement\": 163.0, \"horsepower\": 125.0, \"weight\": 3140, \"acceleration\": 13.6, \"model_year\": 78, \"origin\": \"europe\", \"name\": \"volvo 264gl\"}, {\"mpg\": 21.6, \"cylinders\": 4, \"displacement\": 121.0, \"horsepower\": 115.0, \"weight\": 2795, \"acceleration\": 15.7, \"model_year\": 78, \"origin\": \"europe\", \"name\": \"saab 99gle\"}, {\"mpg\": 16.2, \"cylinders\": 6, \"displacement\": 163.0, \"horsepower\": 133.0, \"weight\": 3410, \"acceleration\": 15.8, \"model_year\": 78, \"origin\": \"europe\", \"name\": \"peugeot 604sl\"}, {\"mpg\": 31.5, \"cylinders\": 4, \"displacement\": 89.0, \"horsepower\": 71.0, \"weight\": 1990, \"acceleration\": 14.9, \"model_year\": 78, \"origin\": \"europe\", \"name\": \"volkswagen scirocco\"}, {\"mpg\": 29.5, \"cylinders\": 4, \"displacement\": 98.0, \"horsepower\": 68.0, \"weight\": 2135, \"acceleration\": 16.6, \"model_year\": 78, \"origin\": \"japan\", \"name\": \"honda accord lx\"}, {\"mpg\": 21.5, \"cylinders\": 6, \"displacement\": 231.0, \"horsepower\": 115.0, \"weight\": 3245, \"acceleration\": 15.4, \"model_year\": 79, \"origin\": \"usa\", \"name\": \"pontiac lemans v6\"}, {\"mpg\": 19.8, \"cylinders\": 6, \"displacement\": 200.0, \"horsepower\": 85.0, \"weight\": 2990, \"acceleration\": 18.2, \"model_year\": 79, \"origin\": \"usa\", \"name\": \"mercury zephyr 6\"}, {\"mpg\": 22.3, \"cylinders\": 4, \"displacement\": 140.0, \"horsepower\": 88.0, \"weight\": 2890, \"acceleration\": 17.3, \"model_year\": 79, \"origin\": \"usa\", \"name\": \"ford fairmont 4\"}, {\"mpg\": 20.2, \"cylinders\": 6, \"displacement\": 232.0, \"horsepower\": 90.0, \"weight\": 3265, \"acceleration\": 18.2, \"model_year\": 79, \"origin\": \"usa\", \"name\": \"amc concord dl 6\"}, {\"mpg\": 20.6, \"cylinders\": 6, \"displacement\": 225.0, \"horsepower\": 110.0, \"weight\": 3360, \"acceleration\": 16.6, \"model_year\": 79, \"origin\": \"usa\", \"name\": \"dodge aspen 6\"}, {\"mpg\": 17.0, \"cylinders\": 8, \"displacement\": 305.0, \"horsepower\": 130.0, \"weight\": 3840, \"acceleration\": 15.4, \"model_year\": 79, \"origin\": \"usa\", \"name\": \"chevrolet caprice classic\"}, {\"mpg\": 17.6, \"cylinders\": 8, \"displacement\": 302.0, \"horsepower\": 129.0, \"weight\": 3725, \"acceleration\": 13.4, \"model_year\": 79, \"origin\": \"usa\", \"name\": \"ford ltd landau\"}, {\"mpg\": 16.5, \"cylinders\": 8, \"displacement\": 351.0, \"horsepower\": 138.0, \"weight\": 3955, \"acceleration\": 13.2, \"model_year\": 79, \"origin\": \"usa\", \"name\": \"mercury grand marquis\"}, {\"mpg\": 18.2, \"cylinders\": 8, \"displacement\": 318.0, \"horsepower\": 135.0, \"weight\": 3830, \"acceleration\": 15.2, \"model_year\": 79, \"origin\": \"usa\", \"name\": \"dodge st. regis\"}, {\"mpg\": 16.9, \"cylinders\": 8, \"displacement\": 350.0, \"horsepower\": 155.0, \"weight\": 4360, \"acceleration\": 14.9, \"model_year\": 79, \"origin\": \"usa\", \"name\": \"buick estate wagon (sw)\"}, {\"mpg\": 15.5, \"cylinders\": 8, \"displacement\": 351.0, \"horsepower\": 142.0, \"weight\": 4054, \"acceleration\": 14.3, \"model_year\": 79, \"origin\": \"usa\", \"name\": \"ford country squire (sw)\"}, {\"mpg\": 19.2, \"cylinders\": 8, \"displacement\": 267.0, \"horsepower\": 125.0, \"weight\": 3605, \"acceleration\": 15.0, \"model_year\": 79, \"origin\": \"usa\", \"name\": \"chevrolet malibu classic (sw)\"}, {\"mpg\": 18.5, \"cylinders\": 8, \"displacement\": 360.0, \"horsepower\": 150.0, \"weight\": 3940, \"acceleration\": 13.0, \"model_year\": 79, \"origin\": \"usa\", \"name\": \"chrysler lebaron town @ country (sw)\"}, {\"mpg\": 31.9, \"cylinders\": 4, \"displacement\": 89.0, \"horsepower\": 71.0, \"weight\": 1925, \"acceleration\": 14.0, \"model_year\": 79, \"origin\": \"europe\", \"name\": \"vw rabbit custom\"}, {\"mpg\": 34.1, \"cylinders\": 4, \"displacement\": 86.0, \"horsepower\": 65.0, \"weight\": 1975, \"acceleration\": 15.2, \"model_year\": 79, \"origin\": \"japan\", \"name\": \"maxda glc deluxe\"}, {\"mpg\": 35.7, \"cylinders\": 4, \"displacement\": 98.0, \"horsepower\": 80.0, \"weight\": 1915, \"acceleration\": 14.4, \"model_year\": 79, \"origin\": \"usa\", \"name\": \"dodge colt hatchback custom\"}, {\"mpg\": 27.4, \"cylinders\": 4, \"displacement\": 121.0, \"horsepower\": 80.0, \"weight\": 2670, \"acceleration\": 15.0, \"model_year\": 79, \"origin\": \"usa\", \"name\": \"amc spirit dl\"}, {\"mpg\": 25.4, \"cylinders\": 5, \"displacement\": 183.0, \"horsepower\": 77.0, \"weight\": 3530, \"acceleration\": 20.1, \"model_year\": 79, \"origin\": \"europe\", \"name\": \"mercedes benz 300d\"}, {\"mpg\": 23.0, \"cylinders\": 8, \"displacement\": 350.0, \"horsepower\": 125.0, \"weight\": 3900, \"acceleration\": 17.4, \"model_year\": 79, \"origin\": \"usa\", \"name\": \"cadillac eldorado\"}, {\"mpg\": 27.2, \"cylinders\": 4, \"displacement\": 141.0, \"horsepower\": 71.0, \"weight\": 3190, \"acceleration\": 24.8, \"model_year\": 79, \"origin\": \"europe\", \"name\": \"peugeot 504\"}, {\"mpg\": 23.9, \"cylinders\": 8, \"displacement\": 260.0, \"horsepower\": 90.0, \"weight\": 3420, \"acceleration\": 22.2, \"model_year\": 79, \"origin\": \"usa\", \"name\": \"oldsmobile cutlass salon brougham\"}, {\"mpg\": 34.2, \"cylinders\": 4, \"displacement\": 105.0, \"horsepower\": 70.0, \"weight\": 2200, \"acceleration\": 13.2, \"model_year\": 79, \"origin\": \"usa\", \"name\": \"plymouth horizon\"}, {\"mpg\": 34.5, \"cylinders\": 4, \"displacement\": 105.0, \"horsepower\": 70.0, \"weight\": 2150, \"acceleration\": 14.9, \"model_year\": 79, \"origin\": \"usa\", \"name\": \"plymouth horizon tc3\"}, {\"mpg\": 31.8, \"cylinders\": 4, \"displacement\": 85.0, \"horsepower\": 65.0, \"weight\": 2020, \"acceleration\": 19.2, \"model_year\": 79, \"origin\": \"japan\", \"name\": \"datsun 210\"}, {\"mpg\": 37.3, \"cylinders\": 4, \"displacement\": 91.0, \"horsepower\": 69.0, \"weight\": 2130, \"acceleration\": 14.7, \"model_year\": 79, \"origin\": \"europe\", \"name\": \"fiat strada custom\"}, {\"mpg\": 28.4, \"cylinders\": 4, \"displacement\": 151.0, \"horsepower\": 90.0, \"weight\": 2670, \"acceleration\": 16.0, \"model_year\": 79, \"origin\": \"usa\", \"name\": \"buick skylark limited\"}, {\"mpg\": 28.8, \"cylinders\": 6, \"displacement\": 173.0, \"horsepower\": 115.0, \"weight\": 2595, \"acceleration\": 11.3, \"model_year\": 79, \"origin\": \"usa\", \"name\": \"chevrolet citation\"}, {\"mpg\": 26.8, \"cylinders\": 6, \"displacement\": 173.0, \"horsepower\": 115.0, \"weight\": 2700, \"acceleration\": 12.9, \"model_year\": 79, \"origin\": \"usa\", \"name\": \"oldsmobile omega brougham\"}, {\"mpg\": 33.5, \"cylinders\": 4, \"displacement\": 151.0, \"horsepower\": 90.0, \"weight\": 2556, \"acceleration\": 13.2, \"model_year\": 79, \"origin\": \"usa\", \"name\": \"pontiac phoenix\"}, {\"mpg\": 41.5, \"cylinders\": 4, \"displacement\": 98.0, \"horsepower\": 76.0, \"weight\": 2144, \"acceleration\": 14.7, \"model_year\": 80, \"origin\": \"europe\", \"name\": \"vw rabbit\"}, {\"mpg\": 38.1, \"cylinders\": 4, \"displacement\": 89.0, \"horsepower\": 60.0, \"weight\": 1968, \"acceleration\": 18.8, \"model_year\": 80, \"origin\": \"japan\", \"name\": \"toyota corolla tercel\"}, {\"mpg\": 32.1, \"cylinders\": 4, \"displacement\": 98.0, \"horsepower\": 70.0, \"weight\": 2120, \"acceleration\": 15.5, \"model_year\": 80, \"origin\": \"usa\", \"name\": \"chevrolet chevette\"}, {\"mpg\": 37.2, \"cylinders\": 4, \"displacement\": 86.0, \"horsepower\": 65.0, \"weight\": 2019, \"acceleration\": 16.4, \"model_year\": 80, \"origin\": \"japan\", \"name\": \"datsun 310\"}, {\"mpg\": 28.0, \"cylinders\": 4, \"displacement\": 151.0, \"horsepower\": 90.0, \"weight\": 2678, \"acceleration\": 16.5, \"model_year\": 80, \"origin\": \"usa\", \"name\": \"chevrolet citation\"}, {\"mpg\": 26.4, \"cylinders\": 4, \"displacement\": 140.0, \"horsepower\": 88.0, \"weight\": 2870, \"acceleration\": 18.1, \"model_year\": 80, \"origin\": \"usa\", \"name\": \"ford fairmont\"}, {\"mpg\": 24.3, \"cylinders\": 4, \"displacement\": 151.0, \"horsepower\": 90.0, \"weight\": 3003, \"acceleration\": 20.1, \"model_year\": 80, \"origin\": \"usa\", \"name\": \"amc concord\"}, {\"mpg\": 19.1, \"cylinders\": 6, \"displacement\": 225.0, \"horsepower\": 90.0, \"weight\": 3381, \"acceleration\": 18.7, \"model_year\": 80, \"origin\": \"usa\", \"name\": \"dodge aspen\"}, {\"mpg\": 34.3, \"cylinders\": 4, \"displacement\": 97.0, \"horsepower\": 78.0, \"weight\": 2188, \"acceleration\": 15.8, \"model_year\": 80, \"origin\": \"europe\", \"name\": \"audi 4000\"}, {\"mpg\": 29.8, \"cylinders\": 4, \"displacement\": 134.0, \"horsepower\": 90.0, \"weight\": 2711, \"acceleration\": 15.5, \"model_year\": 80, \"origin\": \"japan\", \"name\": \"toyota corona liftback\"}, {\"mpg\": 31.3, \"cylinders\": 4, \"displacement\": 120.0, \"horsepower\": 75.0, \"weight\": 2542, \"acceleration\": 17.5, \"model_year\": 80, \"origin\": \"japan\", \"name\": \"mazda 626\"}, {\"mpg\": 37.0, \"cylinders\": 4, \"displacement\": 119.0, \"horsepower\": 92.0, \"weight\": 2434, \"acceleration\": 15.0, \"model_year\": 80, \"origin\": \"japan\", \"name\": \"datsun 510 hatchback\"}, {\"mpg\": 32.2, \"cylinders\": 4, \"displacement\": 108.0, \"horsepower\": 75.0, \"weight\": 2265, \"acceleration\": 15.2, \"model_year\": 80, \"origin\": \"japan\", \"name\": \"toyota corolla\"}, {\"mpg\": 46.6, \"cylinders\": 4, \"displacement\": 86.0, \"horsepower\": 65.0, \"weight\": 2110, \"acceleration\": 17.9, \"model_year\": 80, \"origin\": \"japan\", \"name\": \"mazda glc\"}, {\"mpg\": 27.9, \"cylinders\": 4, \"displacement\": 156.0, \"horsepower\": 105.0, \"weight\": 2800, \"acceleration\": 14.4, \"model_year\": 80, \"origin\": \"usa\", \"name\": \"dodge colt\"}, {\"mpg\": 40.8, \"cylinders\": 4, \"displacement\": 85.0, \"horsepower\": 65.0, \"weight\": 2110, \"acceleration\": 19.2, \"model_year\": 80, \"origin\": \"japan\", \"name\": \"datsun 210\"}, {\"mpg\": 44.3, \"cylinders\": 4, \"displacement\": 90.0, \"horsepower\": 48.0, \"weight\": 2085, \"acceleration\": 21.7, \"model_year\": 80, \"origin\": \"europe\", \"name\": \"vw rabbit c (diesel)\"}, {\"mpg\": 43.4, \"cylinders\": 4, \"displacement\": 90.0, \"horsepower\": 48.0, \"weight\": 2335, \"acceleration\": 23.7, \"model_year\": 80, \"origin\": \"europe\", \"name\": \"vw dasher (diesel)\"}, {\"mpg\": 36.4, \"cylinders\": 5, \"displacement\": 121.0, \"horsepower\": 67.0, \"weight\": 2950, \"acceleration\": 19.9, \"model_year\": 80, \"origin\": \"europe\", \"name\": \"audi 5000s (diesel)\"}, {\"mpg\": 30.0, \"cylinders\": 4, \"displacement\": 146.0, \"horsepower\": 67.0, \"weight\": 3250, \"acceleration\": 21.8, \"model_year\": 80, \"origin\": \"europe\", \"name\": \"mercedes-benz 240d\"}, {\"mpg\": 44.6, \"cylinders\": 4, \"displacement\": 91.0, \"horsepower\": 67.0, \"weight\": 1850, \"acceleration\": 13.8, \"model_year\": 80, \"origin\": \"japan\", \"name\": \"honda civic 1500 gl\"}, {\"mpg\": 40.9, \"cylinders\": 4, \"displacement\": 85.0, \"horsepower\": null, \"weight\": 1835, \"acceleration\": 17.3, \"model_year\": 80, \"origin\": \"europe\", \"name\": \"renault lecar deluxe\"}, {\"mpg\": 33.8, \"cylinders\": 4, \"displacement\": 97.0, \"horsepower\": 67.0, \"weight\": 2145, \"acceleration\": 18.0, \"model_year\": 80, \"origin\": \"japan\", \"name\": \"subaru dl\"}, {\"mpg\": 29.8, \"cylinders\": 4, \"displacement\": 89.0, \"horsepower\": 62.0, \"weight\": 1845, \"acceleration\": 15.3, \"model_year\": 80, \"origin\": \"europe\", \"name\": \"vokswagen rabbit\"}, {\"mpg\": 32.7, \"cylinders\": 6, \"displacement\": 168.0, \"horsepower\": 132.0, \"weight\": 2910, \"acceleration\": 11.4, \"model_year\": 80, \"origin\": \"japan\", \"name\": \"datsun 280-zx\"}, {\"mpg\": 23.7, \"cylinders\": 3, \"displacement\": 70.0, \"horsepower\": 100.0, \"weight\": 2420, \"acceleration\": 12.5, \"model_year\": 80, \"origin\": \"japan\", \"name\": \"mazda rx-7 gs\"}, {\"mpg\": 35.0, \"cylinders\": 4, \"displacement\": 122.0, \"horsepower\": 88.0, \"weight\": 2500, \"acceleration\": 15.1, \"model_year\": 80, \"origin\": \"europe\", \"name\": \"triumph tr7 coupe\"}, {\"mpg\": 23.6, \"cylinders\": 4, \"displacement\": 140.0, \"horsepower\": null, \"weight\": 2905, \"acceleration\": 14.3, \"model_year\": 80, \"origin\": \"usa\", \"name\": \"ford mustang cobra\"}, {\"mpg\": 32.4, \"cylinders\": 4, \"displacement\": 107.0, \"horsepower\": 72.0, \"weight\": 2290, \"acceleration\": 17.0, \"model_year\": 80, \"origin\": \"japan\", \"name\": \"honda accord\"}, {\"mpg\": 27.2, \"cylinders\": 4, \"displacement\": 135.0, \"horsepower\": 84.0, \"weight\": 2490, \"acceleration\": 15.7, \"model_year\": 81, \"origin\": \"usa\", \"name\": \"plymouth reliant\"}, {\"mpg\": 26.6, \"cylinders\": 4, \"displacement\": 151.0, \"horsepower\": 84.0, \"weight\": 2635, \"acceleration\": 16.4, \"model_year\": 81, \"origin\": \"usa\", \"name\": \"buick skylark\"}, {\"mpg\": 25.8, \"cylinders\": 4, \"displacement\": 156.0, \"horsepower\": 92.0, \"weight\": 2620, \"acceleration\": 14.4, \"model_year\": 81, \"origin\": \"usa\", \"name\": \"dodge aries wagon (sw)\"}, {\"mpg\": 23.5, \"cylinders\": 6, \"displacement\": 173.0, \"horsepower\": 110.0, \"weight\": 2725, \"acceleration\": 12.6, \"model_year\": 81, \"origin\": \"usa\", \"name\": \"chevrolet citation\"}, {\"mpg\": 30.0, \"cylinders\": 4, \"displacement\": 135.0, \"horsepower\": 84.0, \"weight\": 2385, \"acceleration\": 12.9, \"model_year\": 81, \"origin\": \"usa\", \"name\": \"plymouth reliant\"}, {\"mpg\": 39.1, \"cylinders\": 4, \"displacement\": 79.0, \"horsepower\": 58.0, \"weight\": 1755, \"acceleration\": 16.9, \"model_year\": 81, \"origin\": \"japan\", \"name\": \"toyota starlet\"}, {\"mpg\": 39.0, \"cylinders\": 4, \"displacement\": 86.0, \"horsepower\": 64.0, \"weight\": 1875, \"acceleration\": 16.4, \"model_year\": 81, \"origin\": \"usa\", \"name\": \"plymouth champ\"}, {\"mpg\": 35.1, \"cylinders\": 4, \"displacement\": 81.0, \"horsepower\": 60.0, \"weight\": 1760, \"acceleration\": 16.1, \"model_year\": 81, \"origin\": \"japan\", \"name\": \"honda civic 1300\"}, {\"mpg\": 32.3, \"cylinders\": 4, \"displacement\": 97.0, \"horsepower\": 67.0, \"weight\": 2065, \"acceleration\": 17.8, \"model_year\": 81, \"origin\": \"japan\", \"name\": \"subaru\"}, {\"mpg\": 37.0, \"cylinders\": 4, \"displacement\": 85.0, \"horsepower\": 65.0, \"weight\": 1975, \"acceleration\": 19.4, \"model_year\": 81, \"origin\": \"japan\", \"name\": \"datsun 210 mpg\"}, {\"mpg\": 37.7, \"cylinders\": 4, \"displacement\": 89.0, \"horsepower\": 62.0, \"weight\": 2050, \"acceleration\": 17.3, \"model_year\": 81, \"origin\": \"japan\", \"name\": \"toyota tercel\"}, {\"mpg\": 34.1, \"cylinders\": 4, \"displacement\": 91.0, \"horsepower\": 68.0, \"weight\": 1985, \"acceleration\": 16.0, \"model_year\": 81, \"origin\": \"japan\", \"name\": \"mazda glc 4\"}, {\"mpg\": 34.7, \"cylinders\": 4, \"displacement\": 105.0, \"horsepower\": 63.0, \"weight\": 2215, \"acceleration\": 14.9, \"model_year\": 81, \"origin\": \"usa\", \"name\": \"plymouth horizon 4\"}, {\"mpg\": 34.4, \"cylinders\": 4, \"displacement\": 98.0, \"horsepower\": 65.0, \"weight\": 2045, \"acceleration\": 16.2, \"model_year\": 81, \"origin\": \"usa\", \"name\": \"ford escort 4w\"}, {\"mpg\": 29.9, \"cylinders\": 4, \"displacement\": 98.0, \"horsepower\": 65.0, \"weight\": 2380, \"acceleration\": 20.7, \"model_year\": 81, \"origin\": \"usa\", \"name\": \"ford escort 2h\"}, {\"mpg\": 33.0, \"cylinders\": 4, \"displacement\": 105.0, \"horsepower\": 74.0, \"weight\": 2190, \"acceleration\": 14.2, \"model_year\": 81, \"origin\": \"europe\", \"name\": \"volkswagen jetta\"}, {\"mpg\": 34.5, \"cylinders\": 4, \"displacement\": 100.0, \"horsepower\": null, \"weight\": 2320, \"acceleration\": 15.8, \"model_year\": 81, \"origin\": \"europe\", \"name\": \"renault 18i\"}, {\"mpg\": 33.7, \"cylinders\": 4, \"displacement\": 107.0, \"horsepower\": 75.0, \"weight\": 2210, \"acceleration\": 14.4, \"model_year\": 81, \"origin\": \"japan\", \"name\": \"honda prelude\"}, {\"mpg\": 32.4, \"cylinders\": 4, \"displacement\": 108.0, \"horsepower\": 75.0, \"weight\": 2350, \"acceleration\": 16.8, \"model_year\": 81, \"origin\": \"japan\", \"name\": \"toyota corolla\"}, {\"mpg\": 32.9, \"cylinders\": 4, \"displacement\": 119.0, \"horsepower\": 100.0, \"weight\": 2615, \"acceleration\": 14.8, \"model_year\": 81, \"origin\": \"japan\", \"name\": \"datsun 200sx\"}, {\"mpg\": 31.6, \"cylinders\": 4, \"displacement\": 120.0, \"horsepower\": 74.0, \"weight\": 2635, \"acceleration\": 18.3, \"model_year\": 81, \"origin\": \"japan\", \"name\": \"mazda 626\"}, {\"mpg\": 28.1, \"cylinders\": 4, \"displacement\": 141.0, \"horsepower\": 80.0, \"weight\": 3230, \"acceleration\": 20.4, \"model_year\": 81, \"origin\": \"europe\", \"name\": \"peugeot 505s turbo diesel\"}, {\"mpg\": 30.7, \"cylinders\": 6, \"displacement\": 145.0, \"horsepower\": 76.0, \"weight\": 3160, \"acceleration\": 19.6, \"model_year\": 81, \"origin\": \"europe\", \"name\": \"volvo diesel\"}, {\"mpg\": 25.4, \"cylinders\": 6, \"displacement\": 168.0, \"horsepower\": 116.0, \"weight\": 2900, \"acceleration\": 12.6, \"model_year\": 81, \"origin\": \"japan\", \"name\": \"toyota cressida\"}, {\"mpg\": 24.2, \"cylinders\": 6, \"displacement\": 146.0, \"horsepower\": 120.0, \"weight\": 2930, \"acceleration\": 13.8, \"model_year\": 81, \"origin\": \"japan\", \"name\": \"datsun 810 maxima\"}, {\"mpg\": 22.4, \"cylinders\": 6, \"displacement\": 231.0, \"horsepower\": 110.0, \"weight\": 3415, \"acceleration\": 15.8, \"model_year\": 81, \"origin\": \"usa\", \"name\": \"buick century\"}, {\"mpg\": 26.6, \"cylinders\": 8, \"displacement\": 350.0, \"horsepower\": 105.0, \"weight\": 3725, \"acceleration\": 19.0, \"model_year\": 81, \"origin\": \"usa\", \"name\": \"oldsmobile cutlass ls\"}, {\"mpg\": 20.2, \"cylinders\": 6, \"displacement\": 200.0, \"horsepower\": 88.0, \"weight\": 3060, \"acceleration\": 17.1, \"model_year\": 81, \"origin\": \"usa\", \"name\": \"ford granada gl\"}, {\"mpg\": 17.6, \"cylinders\": 6, \"displacement\": 225.0, \"horsepower\": 85.0, \"weight\": 3465, \"acceleration\": 16.6, \"model_year\": 81, \"origin\": \"usa\", \"name\": \"chrysler lebaron salon\"}, {\"mpg\": 28.0, \"cylinders\": 4, \"displacement\": 112.0, \"horsepower\": 88.0, \"weight\": 2605, \"acceleration\": 19.6, \"model_year\": 82, \"origin\": \"usa\", \"name\": \"chevrolet cavalier\"}, {\"mpg\": 27.0, \"cylinders\": 4, \"displacement\": 112.0, \"horsepower\": 88.0, \"weight\": 2640, \"acceleration\": 18.6, \"model_year\": 82, \"origin\": \"usa\", \"name\": \"chevrolet cavalier wagon\"}, {\"mpg\": 34.0, \"cylinders\": 4, \"displacement\": 112.0, \"horsepower\": 88.0, \"weight\": 2395, \"acceleration\": 18.0, \"model_year\": 82, \"origin\": \"usa\", \"name\": \"chevrolet cavalier 2-door\"}, {\"mpg\": 31.0, \"cylinders\": 4, \"displacement\": 112.0, \"horsepower\": 85.0, \"weight\": 2575, \"acceleration\": 16.2, \"model_year\": 82, \"origin\": \"usa\", \"name\": \"pontiac j2000 se hatchback\"}, {\"mpg\": 29.0, \"cylinders\": 4, \"displacement\": 135.0, \"horsepower\": 84.0, \"weight\": 2525, \"acceleration\": 16.0, \"model_year\": 82, \"origin\": \"usa\", \"name\": \"dodge aries se\"}, {\"mpg\": 27.0, \"cylinders\": 4, \"displacement\": 151.0, \"horsepower\": 90.0, \"weight\": 2735, \"acceleration\": 18.0, \"model_year\": 82, \"origin\": \"usa\", \"name\": \"pontiac phoenix\"}, {\"mpg\": 24.0, \"cylinders\": 4, \"displacement\": 140.0, \"horsepower\": 92.0, \"weight\": 2865, \"acceleration\": 16.4, \"model_year\": 82, \"origin\": \"usa\", \"name\": \"ford fairmont futura\"}, {\"mpg\": 23.0, \"cylinders\": 4, \"displacement\": 151.0, \"horsepower\": null, \"weight\": 3035, \"acceleration\": 20.5, \"model_year\": 82, \"origin\": \"usa\", \"name\": \"amc concord dl\"}, {\"mpg\": 36.0, \"cylinders\": 4, \"displacement\": 105.0, \"horsepower\": 74.0, \"weight\": 1980, \"acceleration\": 15.3, \"model_year\": 82, \"origin\": \"europe\", \"name\": \"volkswagen rabbit l\"}, {\"mpg\": 37.0, \"cylinders\": 4, \"displacement\": 91.0, \"horsepower\": 68.0, \"weight\": 2025, \"acceleration\": 18.2, \"model_year\": 82, \"origin\": \"japan\", \"name\": \"mazda glc custom l\"}, {\"mpg\": 31.0, \"cylinders\": 4, \"displacement\": 91.0, \"horsepower\": 68.0, \"weight\": 1970, \"acceleration\": 17.6, \"model_year\": 82, \"origin\": \"japan\", \"name\": \"mazda glc custom\"}, {\"mpg\": 38.0, \"cylinders\": 4, \"displacement\": 105.0, \"horsepower\": 63.0, \"weight\": 2125, \"acceleration\": 14.7, \"model_year\": 82, \"origin\": \"usa\", \"name\": \"plymouth horizon miser\"}, {\"mpg\": 36.0, \"cylinders\": 4, \"displacement\": 98.0, \"horsepower\": 70.0, \"weight\": 2125, \"acceleration\": 17.3, \"model_year\": 82, \"origin\": \"usa\", \"name\": \"mercury lynx l\"}, {\"mpg\": 36.0, \"cylinders\": 4, \"displacement\": 120.0, \"horsepower\": 88.0, \"weight\": 2160, \"acceleration\": 14.5, \"model_year\": 82, \"origin\": \"japan\", \"name\": \"nissan stanza xe\"}, {\"mpg\": 36.0, \"cylinders\": 4, \"displacement\": 107.0, \"horsepower\": 75.0, \"weight\": 2205, \"acceleration\": 14.5, \"model_year\": 82, \"origin\": \"japan\", \"name\": \"honda accord\"}, {\"mpg\": 34.0, \"cylinders\": 4, \"displacement\": 108.0, \"horsepower\": 70.0, \"weight\": 2245, \"acceleration\": 16.9, \"model_year\": 82, \"origin\": \"japan\", \"name\": \"toyota corolla\"}, {\"mpg\": 38.0, \"cylinders\": 4, \"displacement\": 91.0, \"horsepower\": 67.0, \"weight\": 1965, \"acceleration\": 15.0, \"model_year\": 82, \"origin\": \"japan\", \"name\": \"honda civic\"}, {\"mpg\": 32.0, \"cylinders\": 4, \"displacement\": 91.0, \"horsepower\": 67.0, \"weight\": 1965, \"acceleration\": 15.7, \"model_year\": 82, \"origin\": \"japan\", \"name\": \"honda civic (auto)\"}, {\"mpg\": 38.0, \"cylinders\": 4, \"displacement\": 91.0, \"horsepower\": 67.0, \"weight\": 1995, \"acceleration\": 16.2, \"model_year\": 82, \"origin\": \"japan\", \"name\": \"datsun 310 gx\"}, {\"mpg\": 25.0, \"cylinders\": 6, \"displacement\": 181.0, \"horsepower\": 110.0, \"weight\": 2945, \"acceleration\": 16.4, \"model_year\": 82, \"origin\": \"usa\", \"name\": \"buick century limited\"}, {\"mpg\": 38.0, \"cylinders\": 6, \"displacement\": 262.0, \"horsepower\": 85.0, \"weight\": 3015, \"acceleration\": 17.0, \"model_year\": 82, \"origin\": \"usa\", \"name\": \"oldsmobile cutlass ciera (diesel)\"}, {\"mpg\": 26.0, \"cylinders\": 4, \"displacement\": 156.0, \"horsepower\": 92.0, \"weight\": 2585, \"acceleration\": 14.5, \"model_year\": 82, \"origin\": \"usa\", \"name\": \"chrysler lebaron medallion\"}, {\"mpg\": 22.0, \"cylinders\": 6, \"displacement\": 232.0, \"horsepower\": 112.0, \"weight\": 2835, \"acceleration\": 14.7, \"model_year\": 82, \"origin\": \"usa\", \"name\": \"ford granada l\"}, {\"mpg\": 32.0, \"cylinders\": 4, \"displacement\": 144.0, \"horsepower\": 96.0, \"weight\": 2665, \"acceleration\": 13.9, \"model_year\": 82, \"origin\": \"japan\", \"name\": \"toyota celica gt\"}, {\"mpg\": 36.0, \"cylinders\": 4, \"displacement\": 135.0, \"horsepower\": 84.0, \"weight\": 2370, \"acceleration\": 13.0, \"model_year\": 82, \"origin\": \"usa\", \"name\": \"dodge charger 2.2\"}, {\"mpg\": 27.0, \"cylinders\": 4, \"displacement\": 151.0, \"horsepower\": 90.0, \"weight\": 2950, \"acceleration\": 17.3, \"model_year\": 82, \"origin\": \"usa\", \"name\": \"chevrolet camaro\"}, {\"mpg\": 27.0, \"cylinders\": 4, \"displacement\": 140.0, \"horsepower\": 86.0, \"weight\": 2790, \"acceleration\": 15.6, \"model_year\": 82, \"origin\": \"usa\", \"name\": \"ford mustang gl\"}, {\"mpg\": 44.0, \"cylinders\": 4, \"displacement\": 97.0, \"horsepower\": 52.0, \"weight\": 2130, \"acceleration\": 24.6, \"model_year\": 82, \"origin\": \"europe\", \"name\": \"vw pickup\"}, {\"mpg\": 32.0, \"cylinders\": 4, \"displacement\": 135.0, \"horsepower\": 84.0, \"weight\": 2295, \"acceleration\": 11.6, \"model_year\": 82, \"origin\": \"usa\", \"name\": \"dodge rampage\"}, {\"mpg\": 28.0, \"cylinders\": 4, \"displacement\": 120.0, \"horsepower\": 79.0, \"weight\": 2625, \"acceleration\": 18.6, \"model_year\": 82, \"origin\": \"usa\", \"name\": \"ford ranger\"}, {\"mpg\": 31.0, \"cylinders\": 4, \"displacement\": 119.0, \"horsepower\": 82.0, \"weight\": 2720, \"acceleration\": 19.4, \"model_year\": 82, \"origin\": \"usa\", \"name\": \"chevy s-10\"}]}}, {\"mode\": \"vega-lite\"});\n",
       "</script>"
      ],
      "text/plain": [
       "alt.Chart(...)"
      ]
     },
     "execution_count": 43,
     "metadata": {},
     "output_type": "execute_result"
    }
   ],
   "source": [
    "alt.Chart(df).mark_circle()"
   ]
  },
  {
   "cell_type": "markdown",
   "metadata": {
    "cell_id": "1bcd19366a8f45708b0d1c99c634f36b",
    "deepnote_cell_type": "markdown"
   },
   "source": [
    "Question: Do we need capital \"C\" in \"Chart?"
   ]
  },
  {
   "cell_type": "code",
   "execution_count": 44,
   "metadata": {
    "cell_id": "de4e39487e3342e7a08c9f30dbb4178c",
    "deepnote_cell_type": "code",
    "deepnote_to_be_reexecuted": false,
    "execution_millis": 51,
    "execution_start": 1692225009662,
    "source_hash": "c3f2212a"
   },
   "outputs": [
    {
     "ename": "AttributeError",
     "evalue": "module 'altair' has no attribute 'chart'",
     "output_type": "error",
     "traceback": [
      "\u001b[0;31m---------------------------------------------------------------------------\u001b[0m",
      "\u001b[0;31mAttributeError\u001b[0m                            Traceback (most recent call last)",
      "Input \u001b[0;32mIn [44]\u001b[0m, in \u001b[0;36m<cell line: 1>\u001b[0;34m()\u001b[0m\n\u001b[0;32m----> 1\u001b[0m \u001b[43malt\u001b[49m\u001b[38;5;241;43m.\u001b[39;49m\u001b[43mchart\u001b[49m(df)\u001b[38;5;241m.\u001b[39mmark_circle()\n",
      "\u001b[0;31mAttributeError\u001b[0m: module 'altair' has no attribute 'chart'"
     ]
    }
   ],
   "source": [
    "alt.chart(df).mark_circle()"
   ]
  },
  {
   "cell_type": "markdown",
   "metadata": {
    "cell_id": "ad7cb0cb93264751808d45a03ed5b92f",
    "deepnote_cell_type": "markdown"
   },
   "source": [
    "What's going on? All we've specified is that the data we want comes from `df`. We haven't told Altair what variables correspond to which parts of the chart."
   ]
  },
  {
   "cell_type": "markdown",
   "metadata": {
    "cell_id": "f03c672644b84555b906242a5e4c10bb",
    "deepnote_cell_type": "markdown"
   },
   "source": [
    "Let's start by specifying what the x-axis should hold."
   ]
  },
  {
   "cell_type": "markdown",
   "metadata": {
    "cell_id": "34723d0352634db9afef816b8957eee2",
    "deepnote_cell_type": "markdown"
   },
   "source": [
    "Warning: Be careful with capitalization and spelling of variable (column) names. If they do not match exactly, there will be an error."
   ]
  },
  {
   "cell_type": "code",
   "execution_count": 45,
   "metadata": {
    "cell_id": "82b6dd1a913d4494b76c9c8c4f4d73ed",
    "deepnote_cell_type": "code",
    "deepnote_to_be_reexecuted": false,
    "execution_millis": 45,
    "execution_start": 1692225015640,
    "source_hash": "25d43fa0"
   },
   "outputs": [
    {
     "data": {
      "text/plain": [
       "Index(['mpg', 'cylinders', 'displacement', 'horsepower', 'weight',\n",
       "       'acceleration', 'model_year', 'origin', 'name'],\n",
       "      dtype='object')"
      ]
     },
     "execution_count": 45,
     "metadata": {},
     "output_type": "execute_result"
    }
   ],
   "source": [
    "df.columns"
   ]
  },
  {
   "cell_type": "code",
   "execution_count": 46,
   "metadata": {
    "cell_id": "784220c57a3444eb94d2a64128a77c65",
    "deepnote_cell_type": "code",
    "deepnote_to_be_reexecuted": false,
    "execution_millis": 546,
    "execution_start": 1692225019072,
    "source_hash": "be6acf3e"
   },
   "outputs": [
    {
     "data": {
      "text/html": [
       "\n",
       "<style>\n",
       "  #altair-viz-753efa2c6f8947acb376a1f61cb3ecff.vega-embed {\n",
       "    width: 100%;\n",
       "    display: flex;\n",
       "  }\n",
       "\n",
       "  #altair-viz-753efa2c6f8947acb376a1f61cb3ecff.vega-embed details,\n",
       "  #altair-viz-753efa2c6f8947acb376a1f61cb3ecff.vega-embed details summary {\n",
       "    position: relative;\n",
       "  }\n",
       "</style>\n",
       "<div id=\"altair-viz-753efa2c6f8947acb376a1f61cb3ecff\"></div>\n",
       "<script type=\"text/javascript\">\n",
       "  var VEGA_DEBUG = (typeof VEGA_DEBUG == \"undefined\") ? {} : VEGA_DEBUG;\n",
       "  (function(spec, embedOpt){\n",
       "    let outputDiv = document.currentScript.previousElementSibling;\n",
       "    if (outputDiv.id !== \"altair-viz-753efa2c6f8947acb376a1f61cb3ecff\") {\n",
       "      outputDiv = document.getElementById(\"altair-viz-753efa2c6f8947acb376a1f61cb3ecff\");\n",
       "    }\n",
       "    const paths = {\n",
       "      \"vega\": \"https://cdn.jsdelivr.net/npm/vega@5?noext\",\n",
       "      \"vega-lib\": \"https://cdn.jsdelivr.net/npm/vega-lib?noext\",\n",
       "      \"vega-lite\": \"https://cdn.jsdelivr.net/npm/vega-lite@5.8.0?noext\",\n",
       "      \"vega-embed\": \"https://cdn.jsdelivr.net/npm/vega-embed@6?noext\",\n",
       "    };\n",
       "\n",
       "    function maybeLoadScript(lib, version) {\n",
       "      var key = `${lib.replace(\"-\", \"\")}_version`;\n",
       "      return (VEGA_DEBUG[key] == version) ?\n",
       "        Promise.resolve(paths[lib]) :\n",
       "        new Promise(function(resolve, reject) {\n",
       "          var s = document.createElement('script');\n",
       "          document.getElementsByTagName(\"head\")[0].appendChild(s);\n",
       "          s.async = true;\n",
       "          s.onload = () => {\n",
       "            VEGA_DEBUG[key] = version;\n",
       "            return resolve(paths[lib]);\n",
       "          };\n",
       "          s.onerror = () => reject(`Error loading script: ${paths[lib]}`);\n",
       "          s.src = paths[lib];\n",
       "        });\n",
       "    }\n",
       "\n",
       "    function showError(err) {\n",
       "      outputDiv.innerHTML = `<div class=\"error\" style=\"color:red;\">${err}</div>`;\n",
       "      throw err;\n",
       "    }\n",
       "\n",
       "    function displayChart(vegaEmbed) {\n",
       "      vegaEmbed(outputDiv, spec, embedOpt)\n",
       "        .catch(err => showError(`Javascript Error: ${err.message}<br>This usually means there's a typo in your chart specification. See the javascript console for the full traceback.`));\n",
       "    }\n",
       "\n",
       "    if(typeof define === \"function\" && define.amd) {\n",
       "      requirejs.config({paths});\n",
       "      require([\"vega-embed\"], displayChart, err => showError(`Error loading script: ${err.message}`));\n",
       "    } else {\n",
       "      maybeLoadScript(\"vega\", \"5\")\n",
       "        .then(() => maybeLoadScript(\"vega-lite\", \"5.8.0\"))\n",
       "        .then(() => maybeLoadScript(\"vega-embed\", \"6\"))\n",
       "        .catch(showError)\n",
       "        .then(() => displayChart(vegaEmbed));\n",
       "    }\n",
       "  })({\"config\": {\"view\": {\"continuousWidth\": 300, \"continuousHeight\": 300}}, \"data\": {\"name\": \"data-f1198cc0481ad698d7dc4699e0a3efa7\"}, \"mark\": {\"type\": \"circle\"}, \"encoding\": {\"x\": {\"field\": \"weight\", \"type\": \"quantitative\"}}, \"$schema\": \"https://vega.github.io/schema/vega-lite/v5.8.0.json\", \"datasets\": {\"data-f1198cc0481ad698d7dc4699e0a3efa7\": [{\"mpg\": 18.0, \"cylinders\": 8, \"displacement\": 307.0, \"horsepower\": 130.0, \"weight\": 3504, \"acceleration\": 12.0, \"model_year\": 70, \"origin\": \"usa\", \"name\": \"chevrolet chevelle malibu\"}, {\"mpg\": 15.0, \"cylinders\": 8, \"displacement\": 350.0, \"horsepower\": 165.0, \"weight\": 3693, \"acceleration\": 11.5, \"model_year\": 70, \"origin\": \"usa\", \"name\": \"buick skylark 320\"}, {\"mpg\": 18.0, \"cylinders\": 8, \"displacement\": 318.0, \"horsepower\": 150.0, \"weight\": 3436, \"acceleration\": 11.0, \"model_year\": 70, \"origin\": \"usa\", \"name\": \"plymouth satellite\"}, {\"mpg\": 16.0, \"cylinders\": 8, \"displacement\": 304.0, \"horsepower\": 150.0, \"weight\": 3433, \"acceleration\": 12.0, \"model_year\": 70, \"origin\": \"usa\", \"name\": \"amc rebel sst\"}, {\"mpg\": 17.0, \"cylinders\": 8, \"displacement\": 302.0, \"horsepower\": 140.0, \"weight\": 3449, \"acceleration\": 10.5, \"model_year\": 70, \"origin\": \"usa\", \"name\": \"ford torino\"}, {\"mpg\": 15.0, \"cylinders\": 8, \"displacement\": 429.0, \"horsepower\": 198.0, \"weight\": 4341, \"acceleration\": 10.0, \"model_year\": 70, \"origin\": \"usa\", \"name\": \"ford galaxie 500\"}, {\"mpg\": 14.0, \"cylinders\": 8, \"displacement\": 454.0, \"horsepower\": 220.0, \"weight\": 4354, \"acceleration\": 9.0, \"model_year\": 70, \"origin\": \"usa\", \"name\": \"chevrolet impala\"}, {\"mpg\": 14.0, \"cylinders\": 8, \"displacement\": 440.0, \"horsepower\": 215.0, \"weight\": 4312, \"acceleration\": 8.5, \"model_year\": 70, \"origin\": \"usa\", \"name\": \"plymouth fury iii\"}, {\"mpg\": 14.0, \"cylinders\": 8, \"displacement\": 455.0, \"horsepower\": 225.0, \"weight\": 4425, \"acceleration\": 10.0, \"model_year\": 70, \"origin\": \"usa\", \"name\": \"pontiac catalina\"}, {\"mpg\": 15.0, \"cylinders\": 8, \"displacement\": 390.0, \"horsepower\": 190.0, \"weight\": 3850, \"acceleration\": 8.5, \"model_year\": 70, \"origin\": \"usa\", \"name\": \"amc ambassador dpl\"}, {\"mpg\": 15.0, \"cylinders\": 8, \"displacement\": 383.0, \"horsepower\": 170.0, \"weight\": 3563, \"acceleration\": 10.0, \"model_year\": 70, \"origin\": \"usa\", \"name\": \"dodge challenger se\"}, {\"mpg\": 14.0, \"cylinders\": 8, \"displacement\": 340.0, \"horsepower\": 160.0, \"weight\": 3609, \"acceleration\": 8.0, \"model_year\": 70, \"origin\": \"usa\", \"name\": \"plymouth 'cuda 340\"}, {\"mpg\": 15.0, \"cylinders\": 8, \"displacement\": 400.0, \"horsepower\": 150.0, \"weight\": 3761, \"acceleration\": 9.5, \"model_year\": 70, \"origin\": \"usa\", \"name\": \"chevrolet monte carlo\"}, {\"mpg\": 14.0, \"cylinders\": 8, \"displacement\": 455.0, \"horsepower\": 225.0, \"weight\": 3086, \"acceleration\": 10.0, \"model_year\": 70, \"origin\": \"usa\", \"name\": \"buick estate wagon (sw)\"}, {\"mpg\": 24.0, \"cylinders\": 4, \"displacement\": 113.0, \"horsepower\": 95.0, \"weight\": 2372, \"acceleration\": 15.0, \"model_year\": 70, \"origin\": \"japan\", \"name\": \"toyota corona mark ii\"}, {\"mpg\": 22.0, \"cylinders\": 6, \"displacement\": 198.0, \"horsepower\": 95.0, \"weight\": 2833, \"acceleration\": 15.5, \"model_year\": 70, \"origin\": \"usa\", \"name\": \"plymouth duster\"}, {\"mpg\": 18.0, \"cylinders\": 6, \"displacement\": 199.0, \"horsepower\": 97.0, \"weight\": 2774, \"acceleration\": 15.5, \"model_year\": 70, \"origin\": \"usa\", \"name\": \"amc hornet\"}, {\"mpg\": 21.0, \"cylinders\": 6, \"displacement\": 200.0, \"horsepower\": 85.0, \"weight\": 2587, \"acceleration\": 16.0, \"model_year\": 70, \"origin\": \"usa\", \"name\": \"ford maverick\"}, {\"mpg\": 27.0, \"cylinders\": 4, \"displacement\": 97.0, \"horsepower\": 88.0, \"weight\": 2130, \"acceleration\": 14.5, \"model_year\": 70, \"origin\": \"japan\", \"name\": \"datsun pl510\"}, {\"mpg\": 26.0, \"cylinders\": 4, \"displacement\": 97.0, \"horsepower\": 46.0, \"weight\": 1835, \"acceleration\": 20.5, \"model_year\": 70, \"origin\": \"europe\", \"name\": \"volkswagen 1131 deluxe sedan\"}, {\"mpg\": 25.0, \"cylinders\": 4, \"displacement\": 110.0, \"horsepower\": 87.0, \"weight\": 2672, \"acceleration\": 17.5, \"model_year\": 70, \"origin\": \"europe\", \"name\": \"peugeot 504\"}, {\"mpg\": 24.0, \"cylinders\": 4, \"displacement\": 107.0, \"horsepower\": 90.0, \"weight\": 2430, \"acceleration\": 14.5, \"model_year\": 70, \"origin\": \"europe\", \"name\": \"audi 100 ls\"}, {\"mpg\": 25.0, \"cylinders\": 4, \"displacement\": 104.0, \"horsepower\": 95.0, \"weight\": 2375, \"acceleration\": 17.5, \"model_year\": 70, \"origin\": \"europe\", \"name\": \"saab 99e\"}, {\"mpg\": 26.0, \"cylinders\": 4, \"displacement\": 121.0, \"horsepower\": 113.0, \"weight\": 2234, \"acceleration\": 12.5, \"model_year\": 70, \"origin\": \"europe\", \"name\": \"bmw 2002\"}, {\"mpg\": 21.0, \"cylinders\": 6, \"displacement\": 199.0, \"horsepower\": 90.0, \"weight\": 2648, \"acceleration\": 15.0, \"model_year\": 70, \"origin\": \"usa\", \"name\": \"amc gremlin\"}, {\"mpg\": 10.0, \"cylinders\": 8, \"displacement\": 360.0, \"horsepower\": 215.0, \"weight\": 4615, \"acceleration\": 14.0, \"model_year\": 70, \"origin\": \"usa\", \"name\": \"ford f250\"}, {\"mpg\": 10.0, \"cylinders\": 8, \"displacement\": 307.0, \"horsepower\": 200.0, \"weight\": 4376, \"acceleration\": 15.0, \"model_year\": 70, \"origin\": \"usa\", \"name\": \"chevy c20\"}, {\"mpg\": 11.0, \"cylinders\": 8, \"displacement\": 318.0, \"horsepower\": 210.0, \"weight\": 4382, \"acceleration\": 13.5, \"model_year\": 70, \"origin\": \"usa\", \"name\": \"dodge d200\"}, {\"mpg\": 9.0, \"cylinders\": 8, \"displacement\": 304.0, \"horsepower\": 193.0, \"weight\": 4732, \"acceleration\": 18.5, \"model_year\": 70, \"origin\": \"usa\", \"name\": \"hi 1200d\"}, {\"mpg\": 27.0, \"cylinders\": 4, \"displacement\": 97.0, \"horsepower\": 88.0, \"weight\": 2130, \"acceleration\": 14.5, \"model_year\": 71, \"origin\": \"japan\", \"name\": \"datsun pl510\"}, {\"mpg\": 28.0, \"cylinders\": 4, \"displacement\": 140.0, \"horsepower\": 90.0, \"weight\": 2264, \"acceleration\": 15.5, \"model_year\": 71, \"origin\": \"usa\", \"name\": \"chevrolet vega 2300\"}, {\"mpg\": 25.0, \"cylinders\": 4, \"displacement\": 113.0, \"horsepower\": 95.0, \"weight\": 2228, \"acceleration\": 14.0, \"model_year\": 71, \"origin\": \"japan\", \"name\": \"toyota corona\"}, {\"mpg\": 25.0, \"cylinders\": 4, \"displacement\": 98.0, \"horsepower\": null, \"weight\": 2046, \"acceleration\": 19.0, \"model_year\": 71, \"origin\": \"usa\", \"name\": \"ford pinto\"}, {\"mpg\": 19.0, \"cylinders\": 6, \"displacement\": 232.0, \"horsepower\": 100.0, \"weight\": 2634, \"acceleration\": 13.0, \"model_year\": 71, \"origin\": \"usa\", \"name\": \"amc gremlin\"}, {\"mpg\": 16.0, \"cylinders\": 6, \"displacement\": 225.0, \"horsepower\": 105.0, \"weight\": 3439, \"acceleration\": 15.5, \"model_year\": 71, \"origin\": \"usa\", \"name\": \"plymouth satellite custom\"}, {\"mpg\": 17.0, \"cylinders\": 6, \"displacement\": 250.0, \"horsepower\": 100.0, \"weight\": 3329, \"acceleration\": 15.5, \"model_year\": 71, \"origin\": \"usa\", \"name\": \"chevrolet chevelle malibu\"}, {\"mpg\": 19.0, \"cylinders\": 6, \"displacement\": 250.0, \"horsepower\": 88.0, \"weight\": 3302, \"acceleration\": 15.5, \"model_year\": 71, \"origin\": \"usa\", \"name\": \"ford torino 500\"}, {\"mpg\": 18.0, \"cylinders\": 6, \"displacement\": 232.0, \"horsepower\": 100.0, \"weight\": 3288, \"acceleration\": 15.5, \"model_year\": 71, \"origin\": \"usa\", \"name\": \"amc matador\"}, {\"mpg\": 14.0, \"cylinders\": 8, \"displacement\": 350.0, \"horsepower\": 165.0, \"weight\": 4209, \"acceleration\": 12.0, \"model_year\": 71, \"origin\": \"usa\", \"name\": \"chevrolet impala\"}, {\"mpg\": 14.0, \"cylinders\": 8, \"displacement\": 400.0, \"horsepower\": 175.0, \"weight\": 4464, \"acceleration\": 11.5, \"model_year\": 71, \"origin\": \"usa\", \"name\": \"pontiac catalina brougham\"}, {\"mpg\": 14.0, \"cylinders\": 8, \"displacement\": 351.0, \"horsepower\": 153.0, \"weight\": 4154, \"acceleration\": 13.5, \"model_year\": 71, \"origin\": \"usa\", \"name\": \"ford galaxie 500\"}, {\"mpg\": 14.0, \"cylinders\": 8, \"displacement\": 318.0, \"horsepower\": 150.0, \"weight\": 4096, \"acceleration\": 13.0, \"model_year\": 71, \"origin\": \"usa\", \"name\": \"plymouth fury iii\"}, {\"mpg\": 12.0, \"cylinders\": 8, \"displacement\": 383.0, \"horsepower\": 180.0, \"weight\": 4955, \"acceleration\": 11.5, \"model_year\": 71, \"origin\": \"usa\", \"name\": \"dodge monaco (sw)\"}, {\"mpg\": 13.0, \"cylinders\": 8, \"displacement\": 400.0, \"horsepower\": 170.0, \"weight\": 4746, \"acceleration\": 12.0, \"model_year\": 71, \"origin\": \"usa\", \"name\": \"ford country squire (sw)\"}, {\"mpg\": 13.0, \"cylinders\": 8, \"displacement\": 400.0, \"horsepower\": 175.0, \"weight\": 5140, \"acceleration\": 12.0, \"model_year\": 71, \"origin\": \"usa\", \"name\": \"pontiac safari (sw)\"}, {\"mpg\": 18.0, \"cylinders\": 6, \"displacement\": 258.0, \"horsepower\": 110.0, \"weight\": 2962, \"acceleration\": 13.5, \"model_year\": 71, \"origin\": \"usa\", \"name\": \"amc hornet sportabout (sw)\"}, {\"mpg\": 22.0, \"cylinders\": 4, \"displacement\": 140.0, \"horsepower\": 72.0, \"weight\": 2408, \"acceleration\": 19.0, \"model_year\": 71, \"origin\": \"usa\", \"name\": \"chevrolet vega (sw)\"}, {\"mpg\": 19.0, \"cylinders\": 6, \"displacement\": 250.0, \"horsepower\": 100.0, \"weight\": 3282, \"acceleration\": 15.0, \"model_year\": 71, \"origin\": \"usa\", \"name\": \"pontiac firebird\"}, {\"mpg\": 18.0, \"cylinders\": 6, \"displacement\": 250.0, \"horsepower\": 88.0, \"weight\": 3139, \"acceleration\": 14.5, \"model_year\": 71, \"origin\": \"usa\", \"name\": \"ford mustang\"}, {\"mpg\": 23.0, \"cylinders\": 4, \"displacement\": 122.0, \"horsepower\": 86.0, \"weight\": 2220, \"acceleration\": 14.0, \"model_year\": 71, \"origin\": \"usa\", \"name\": \"mercury capri 2000\"}, {\"mpg\": 28.0, \"cylinders\": 4, \"displacement\": 116.0, \"horsepower\": 90.0, \"weight\": 2123, \"acceleration\": 14.0, \"model_year\": 71, \"origin\": \"europe\", \"name\": \"opel 1900\"}, {\"mpg\": 30.0, \"cylinders\": 4, \"displacement\": 79.0, \"horsepower\": 70.0, \"weight\": 2074, \"acceleration\": 19.5, \"model_year\": 71, \"origin\": \"europe\", \"name\": \"peugeot 304\"}, {\"mpg\": 30.0, \"cylinders\": 4, \"displacement\": 88.0, \"horsepower\": 76.0, \"weight\": 2065, \"acceleration\": 14.5, \"model_year\": 71, \"origin\": \"europe\", \"name\": \"fiat 124b\"}, {\"mpg\": 31.0, \"cylinders\": 4, \"displacement\": 71.0, \"horsepower\": 65.0, \"weight\": 1773, \"acceleration\": 19.0, \"model_year\": 71, \"origin\": \"japan\", \"name\": \"toyota corolla 1200\"}, {\"mpg\": 35.0, \"cylinders\": 4, \"displacement\": 72.0, \"horsepower\": 69.0, \"weight\": 1613, \"acceleration\": 18.0, \"model_year\": 71, \"origin\": \"japan\", \"name\": \"datsun 1200\"}, {\"mpg\": 27.0, \"cylinders\": 4, \"displacement\": 97.0, \"horsepower\": 60.0, \"weight\": 1834, \"acceleration\": 19.0, \"model_year\": 71, \"origin\": \"europe\", \"name\": \"volkswagen model 111\"}, {\"mpg\": 26.0, \"cylinders\": 4, \"displacement\": 91.0, \"horsepower\": 70.0, \"weight\": 1955, \"acceleration\": 20.5, \"model_year\": 71, \"origin\": \"usa\", \"name\": \"plymouth cricket\"}, {\"mpg\": 24.0, \"cylinders\": 4, \"displacement\": 113.0, \"horsepower\": 95.0, \"weight\": 2278, \"acceleration\": 15.5, \"model_year\": 72, \"origin\": \"japan\", \"name\": \"toyota corona hardtop\"}, {\"mpg\": 25.0, \"cylinders\": 4, \"displacement\": 97.5, \"horsepower\": 80.0, \"weight\": 2126, \"acceleration\": 17.0, \"model_year\": 72, \"origin\": \"usa\", \"name\": \"dodge colt hardtop\"}, {\"mpg\": 23.0, \"cylinders\": 4, \"displacement\": 97.0, \"horsepower\": 54.0, \"weight\": 2254, \"acceleration\": 23.5, \"model_year\": 72, \"origin\": \"europe\", \"name\": \"volkswagen type 3\"}, {\"mpg\": 20.0, \"cylinders\": 4, \"displacement\": 140.0, \"horsepower\": 90.0, \"weight\": 2408, \"acceleration\": 19.5, \"model_year\": 72, \"origin\": \"usa\", \"name\": \"chevrolet vega\"}, {\"mpg\": 21.0, \"cylinders\": 4, \"displacement\": 122.0, \"horsepower\": 86.0, \"weight\": 2226, \"acceleration\": 16.5, \"model_year\": 72, \"origin\": \"usa\", \"name\": \"ford pinto runabout\"}, {\"mpg\": 13.0, \"cylinders\": 8, \"displacement\": 350.0, \"horsepower\": 165.0, \"weight\": 4274, \"acceleration\": 12.0, \"model_year\": 72, \"origin\": \"usa\", \"name\": \"chevrolet impala\"}, {\"mpg\": 14.0, \"cylinders\": 8, \"displacement\": 400.0, \"horsepower\": 175.0, \"weight\": 4385, \"acceleration\": 12.0, \"model_year\": 72, \"origin\": \"usa\", \"name\": \"pontiac catalina\"}, {\"mpg\": 15.0, \"cylinders\": 8, \"displacement\": 318.0, \"horsepower\": 150.0, \"weight\": 4135, \"acceleration\": 13.5, \"model_year\": 72, \"origin\": \"usa\", \"name\": \"plymouth fury iii\"}, {\"mpg\": 14.0, \"cylinders\": 8, \"displacement\": 351.0, \"horsepower\": 153.0, \"weight\": 4129, \"acceleration\": 13.0, \"model_year\": 72, \"origin\": \"usa\", \"name\": \"ford galaxie 500\"}, {\"mpg\": 17.0, \"cylinders\": 8, \"displacement\": 304.0, \"horsepower\": 150.0, \"weight\": 3672, \"acceleration\": 11.5, \"model_year\": 72, \"origin\": \"usa\", \"name\": \"amc ambassador sst\"}, {\"mpg\": 11.0, \"cylinders\": 8, \"displacement\": 429.0, \"horsepower\": 208.0, \"weight\": 4633, \"acceleration\": 11.0, \"model_year\": 72, \"origin\": \"usa\", \"name\": \"mercury marquis\"}, {\"mpg\": 13.0, \"cylinders\": 8, \"displacement\": 350.0, \"horsepower\": 155.0, \"weight\": 4502, \"acceleration\": 13.5, \"model_year\": 72, \"origin\": \"usa\", \"name\": \"buick lesabre custom\"}, {\"mpg\": 12.0, \"cylinders\": 8, \"displacement\": 350.0, \"horsepower\": 160.0, \"weight\": 4456, \"acceleration\": 13.5, \"model_year\": 72, \"origin\": \"usa\", \"name\": \"oldsmobile delta 88 royale\"}, {\"mpg\": 13.0, \"cylinders\": 8, \"displacement\": 400.0, \"horsepower\": 190.0, \"weight\": 4422, \"acceleration\": 12.5, \"model_year\": 72, \"origin\": \"usa\", \"name\": \"chrysler newport royal\"}, {\"mpg\": 19.0, \"cylinders\": 3, \"displacement\": 70.0, \"horsepower\": 97.0, \"weight\": 2330, \"acceleration\": 13.5, \"model_year\": 72, \"origin\": \"japan\", \"name\": \"mazda rx2 coupe\"}, {\"mpg\": 15.0, \"cylinders\": 8, \"displacement\": 304.0, \"horsepower\": 150.0, \"weight\": 3892, \"acceleration\": 12.5, \"model_year\": 72, \"origin\": \"usa\", \"name\": \"amc matador (sw)\"}, {\"mpg\": 13.0, \"cylinders\": 8, \"displacement\": 307.0, \"horsepower\": 130.0, \"weight\": 4098, \"acceleration\": 14.0, \"model_year\": 72, \"origin\": \"usa\", \"name\": \"chevrolet chevelle concours (sw)\"}, {\"mpg\": 13.0, \"cylinders\": 8, \"displacement\": 302.0, \"horsepower\": 140.0, \"weight\": 4294, \"acceleration\": 16.0, \"model_year\": 72, \"origin\": \"usa\", \"name\": \"ford gran torino (sw)\"}, {\"mpg\": 14.0, \"cylinders\": 8, \"displacement\": 318.0, \"horsepower\": 150.0, \"weight\": 4077, \"acceleration\": 14.0, \"model_year\": 72, \"origin\": \"usa\", \"name\": \"plymouth satellite custom (sw)\"}, {\"mpg\": 18.0, \"cylinders\": 4, \"displacement\": 121.0, \"horsepower\": 112.0, \"weight\": 2933, \"acceleration\": 14.5, \"model_year\": 72, \"origin\": \"europe\", \"name\": \"volvo 145e (sw)\"}, {\"mpg\": 22.0, \"cylinders\": 4, \"displacement\": 121.0, \"horsepower\": 76.0, \"weight\": 2511, \"acceleration\": 18.0, \"model_year\": 72, \"origin\": \"europe\", \"name\": \"volkswagen 411 (sw)\"}, {\"mpg\": 21.0, \"cylinders\": 4, \"displacement\": 120.0, \"horsepower\": 87.0, \"weight\": 2979, \"acceleration\": 19.5, \"model_year\": 72, \"origin\": \"europe\", \"name\": \"peugeot 504 (sw)\"}, {\"mpg\": 26.0, \"cylinders\": 4, \"displacement\": 96.0, \"horsepower\": 69.0, \"weight\": 2189, \"acceleration\": 18.0, \"model_year\": 72, \"origin\": \"europe\", \"name\": \"renault 12 (sw)\"}, {\"mpg\": 22.0, \"cylinders\": 4, \"displacement\": 122.0, \"horsepower\": 86.0, \"weight\": 2395, \"acceleration\": 16.0, \"model_year\": 72, \"origin\": \"usa\", \"name\": \"ford pinto (sw)\"}, {\"mpg\": 28.0, \"cylinders\": 4, \"displacement\": 97.0, \"horsepower\": 92.0, \"weight\": 2288, \"acceleration\": 17.0, \"model_year\": 72, \"origin\": \"japan\", \"name\": \"datsun 510 (sw)\"}, {\"mpg\": 23.0, \"cylinders\": 4, \"displacement\": 120.0, \"horsepower\": 97.0, \"weight\": 2506, \"acceleration\": 14.5, \"model_year\": 72, \"origin\": \"japan\", \"name\": \"toyouta corona mark ii (sw)\"}, {\"mpg\": 28.0, \"cylinders\": 4, \"displacement\": 98.0, \"horsepower\": 80.0, \"weight\": 2164, \"acceleration\": 15.0, \"model_year\": 72, \"origin\": \"usa\", \"name\": \"dodge colt (sw)\"}, {\"mpg\": 27.0, \"cylinders\": 4, \"displacement\": 97.0, \"horsepower\": 88.0, \"weight\": 2100, \"acceleration\": 16.5, \"model_year\": 72, \"origin\": \"japan\", \"name\": \"toyota corolla 1600 (sw)\"}, {\"mpg\": 13.0, \"cylinders\": 8, \"displacement\": 350.0, \"horsepower\": 175.0, \"weight\": 4100, \"acceleration\": 13.0, \"model_year\": 73, \"origin\": \"usa\", \"name\": \"buick century 350\"}, {\"mpg\": 14.0, \"cylinders\": 8, \"displacement\": 304.0, \"horsepower\": 150.0, \"weight\": 3672, \"acceleration\": 11.5, \"model_year\": 73, \"origin\": \"usa\", \"name\": \"amc matador\"}, {\"mpg\": 13.0, \"cylinders\": 8, \"displacement\": 350.0, \"horsepower\": 145.0, \"weight\": 3988, \"acceleration\": 13.0, \"model_year\": 73, \"origin\": \"usa\", \"name\": \"chevrolet malibu\"}, {\"mpg\": 14.0, \"cylinders\": 8, \"displacement\": 302.0, \"horsepower\": 137.0, \"weight\": 4042, \"acceleration\": 14.5, \"model_year\": 73, \"origin\": \"usa\", \"name\": \"ford gran torino\"}, {\"mpg\": 15.0, \"cylinders\": 8, \"displacement\": 318.0, \"horsepower\": 150.0, \"weight\": 3777, \"acceleration\": 12.5, \"model_year\": 73, \"origin\": \"usa\", \"name\": \"dodge coronet custom\"}, {\"mpg\": 12.0, \"cylinders\": 8, \"displacement\": 429.0, \"horsepower\": 198.0, \"weight\": 4952, \"acceleration\": 11.5, \"model_year\": 73, \"origin\": \"usa\", \"name\": \"mercury marquis brougham\"}, {\"mpg\": 13.0, \"cylinders\": 8, \"displacement\": 400.0, \"horsepower\": 150.0, \"weight\": 4464, \"acceleration\": 12.0, \"model_year\": 73, \"origin\": \"usa\", \"name\": \"chevrolet caprice classic\"}, {\"mpg\": 13.0, \"cylinders\": 8, \"displacement\": 351.0, \"horsepower\": 158.0, \"weight\": 4363, \"acceleration\": 13.0, \"model_year\": 73, \"origin\": \"usa\", \"name\": \"ford ltd\"}, {\"mpg\": 14.0, \"cylinders\": 8, \"displacement\": 318.0, \"horsepower\": 150.0, \"weight\": 4237, \"acceleration\": 14.5, \"model_year\": 73, \"origin\": \"usa\", \"name\": \"plymouth fury gran sedan\"}, {\"mpg\": 13.0, \"cylinders\": 8, \"displacement\": 440.0, \"horsepower\": 215.0, \"weight\": 4735, \"acceleration\": 11.0, \"model_year\": 73, \"origin\": \"usa\", \"name\": \"chrysler new yorker brougham\"}, {\"mpg\": 12.0, \"cylinders\": 8, \"displacement\": 455.0, \"horsepower\": 225.0, \"weight\": 4951, \"acceleration\": 11.0, \"model_year\": 73, \"origin\": \"usa\", \"name\": \"buick electra 225 custom\"}, {\"mpg\": 13.0, \"cylinders\": 8, \"displacement\": 360.0, \"horsepower\": 175.0, \"weight\": 3821, \"acceleration\": 11.0, \"model_year\": 73, \"origin\": \"usa\", \"name\": \"amc ambassador brougham\"}, {\"mpg\": 18.0, \"cylinders\": 6, \"displacement\": 225.0, \"horsepower\": 105.0, \"weight\": 3121, \"acceleration\": 16.5, \"model_year\": 73, \"origin\": \"usa\", \"name\": \"plymouth valiant\"}, {\"mpg\": 16.0, \"cylinders\": 6, \"displacement\": 250.0, \"horsepower\": 100.0, \"weight\": 3278, \"acceleration\": 18.0, \"model_year\": 73, \"origin\": \"usa\", \"name\": \"chevrolet nova custom\"}, {\"mpg\": 18.0, \"cylinders\": 6, \"displacement\": 232.0, \"horsepower\": 100.0, \"weight\": 2945, \"acceleration\": 16.0, \"model_year\": 73, \"origin\": \"usa\", \"name\": \"amc hornet\"}, {\"mpg\": 18.0, \"cylinders\": 6, \"displacement\": 250.0, \"horsepower\": 88.0, \"weight\": 3021, \"acceleration\": 16.5, \"model_year\": 73, \"origin\": \"usa\", \"name\": \"ford maverick\"}, {\"mpg\": 23.0, \"cylinders\": 6, \"displacement\": 198.0, \"horsepower\": 95.0, \"weight\": 2904, \"acceleration\": 16.0, \"model_year\": 73, \"origin\": \"usa\", \"name\": \"plymouth duster\"}, {\"mpg\": 26.0, \"cylinders\": 4, \"displacement\": 97.0, \"horsepower\": 46.0, \"weight\": 1950, \"acceleration\": 21.0, \"model_year\": 73, \"origin\": \"europe\", \"name\": \"volkswagen super beetle\"}, {\"mpg\": 11.0, \"cylinders\": 8, \"displacement\": 400.0, \"horsepower\": 150.0, \"weight\": 4997, \"acceleration\": 14.0, \"model_year\": 73, \"origin\": \"usa\", \"name\": \"chevrolet impala\"}, {\"mpg\": 12.0, \"cylinders\": 8, \"displacement\": 400.0, \"horsepower\": 167.0, \"weight\": 4906, \"acceleration\": 12.5, \"model_year\": 73, \"origin\": \"usa\", \"name\": \"ford country\"}, {\"mpg\": 13.0, \"cylinders\": 8, \"displacement\": 360.0, \"horsepower\": 170.0, \"weight\": 4654, \"acceleration\": 13.0, \"model_year\": 73, \"origin\": \"usa\", \"name\": \"plymouth custom suburb\"}, {\"mpg\": 12.0, \"cylinders\": 8, \"displacement\": 350.0, \"horsepower\": 180.0, \"weight\": 4499, \"acceleration\": 12.5, \"model_year\": 73, \"origin\": \"usa\", \"name\": \"oldsmobile vista cruiser\"}, {\"mpg\": 18.0, \"cylinders\": 6, \"displacement\": 232.0, \"horsepower\": 100.0, \"weight\": 2789, \"acceleration\": 15.0, \"model_year\": 73, \"origin\": \"usa\", \"name\": \"amc gremlin\"}, {\"mpg\": 20.0, \"cylinders\": 4, \"displacement\": 97.0, \"horsepower\": 88.0, \"weight\": 2279, \"acceleration\": 19.0, \"model_year\": 73, \"origin\": \"japan\", \"name\": \"toyota carina\"}, {\"mpg\": 21.0, \"cylinders\": 4, \"displacement\": 140.0, \"horsepower\": 72.0, \"weight\": 2401, \"acceleration\": 19.5, \"model_year\": 73, \"origin\": \"usa\", \"name\": \"chevrolet vega\"}, {\"mpg\": 22.0, \"cylinders\": 4, \"displacement\": 108.0, \"horsepower\": 94.0, \"weight\": 2379, \"acceleration\": 16.5, \"model_year\": 73, \"origin\": \"japan\", \"name\": \"datsun 610\"}, {\"mpg\": 18.0, \"cylinders\": 3, \"displacement\": 70.0, \"horsepower\": 90.0, \"weight\": 2124, \"acceleration\": 13.5, \"model_year\": 73, \"origin\": \"japan\", \"name\": \"maxda rx3\"}, {\"mpg\": 19.0, \"cylinders\": 4, \"displacement\": 122.0, \"horsepower\": 85.0, \"weight\": 2310, \"acceleration\": 18.5, \"model_year\": 73, \"origin\": \"usa\", \"name\": \"ford pinto\"}, {\"mpg\": 21.0, \"cylinders\": 6, \"displacement\": 155.0, \"horsepower\": 107.0, \"weight\": 2472, \"acceleration\": 14.0, \"model_year\": 73, \"origin\": \"usa\", \"name\": \"mercury capri v6\"}, {\"mpg\": 26.0, \"cylinders\": 4, \"displacement\": 98.0, \"horsepower\": 90.0, \"weight\": 2265, \"acceleration\": 15.5, \"model_year\": 73, \"origin\": \"europe\", \"name\": \"fiat 124 sport coupe\"}, {\"mpg\": 15.0, \"cylinders\": 8, \"displacement\": 350.0, \"horsepower\": 145.0, \"weight\": 4082, \"acceleration\": 13.0, \"model_year\": 73, \"origin\": \"usa\", \"name\": \"chevrolet monte carlo s\"}, {\"mpg\": 16.0, \"cylinders\": 8, \"displacement\": 400.0, \"horsepower\": 230.0, \"weight\": 4278, \"acceleration\": 9.5, \"model_year\": 73, \"origin\": \"usa\", \"name\": \"pontiac grand prix\"}, {\"mpg\": 29.0, \"cylinders\": 4, \"displacement\": 68.0, \"horsepower\": 49.0, \"weight\": 1867, \"acceleration\": 19.5, \"model_year\": 73, \"origin\": \"europe\", \"name\": \"fiat 128\"}, {\"mpg\": 24.0, \"cylinders\": 4, \"displacement\": 116.0, \"horsepower\": 75.0, \"weight\": 2158, \"acceleration\": 15.5, \"model_year\": 73, \"origin\": \"europe\", \"name\": \"opel manta\"}, {\"mpg\": 20.0, \"cylinders\": 4, \"displacement\": 114.0, \"horsepower\": 91.0, \"weight\": 2582, \"acceleration\": 14.0, \"model_year\": 73, \"origin\": \"europe\", \"name\": \"audi 100ls\"}, {\"mpg\": 19.0, \"cylinders\": 4, \"displacement\": 121.0, \"horsepower\": 112.0, \"weight\": 2868, \"acceleration\": 15.5, \"model_year\": 73, \"origin\": \"europe\", \"name\": \"volvo 144ea\"}, {\"mpg\": 15.0, \"cylinders\": 8, \"displacement\": 318.0, \"horsepower\": 150.0, \"weight\": 3399, \"acceleration\": 11.0, \"model_year\": 73, \"origin\": \"usa\", \"name\": \"dodge dart custom\"}, {\"mpg\": 24.0, \"cylinders\": 4, \"displacement\": 121.0, \"horsepower\": 110.0, \"weight\": 2660, \"acceleration\": 14.0, \"model_year\": 73, \"origin\": \"europe\", \"name\": \"saab 99le\"}, {\"mpg\": 20.0, \"cylinders\": 6, \"displacement\": 156.0, \"horsepower\": 122.0, \"weight\": 2807, \"acceleration\": 13.5, \"model_year\": 73, \"origin\": \"japan\", \"name\": \"toyota mark ii\"}, {\"mpg\": 11.0, \"cylinders\": 8, \"displacement\": 350.0, \"horsepower\": 180.0, \"weight\": 3664, \"acceleration\": 11.0, \"model_year\": 73, \"origin\": \"usa\", \"name\": \"oldsmobile omega\"}, {\"mpg\": 20.0, \"cylinders\": 6, \"displacement\": 198.0, \"horsepower\": 95.0, \"weight\": 3102, \"acceleration\": 16.5, \"model_year\": 74, \"origin\": \"usa\", \"name\": \"plymouth duster\"}, {\"mpg\": 21.0, \"cylinders\": 6, \"displacement\": 200.0, \"horsepower\": null, \"weight\": 2875, \"acceleration\": 17.0, \"model_year\": 74, \"origin\": \"usa\", \"name\": \"ford maverick\"}, {\"mpg\": 19.0, \"cylinders\": 6, \"displacement\": 232.0, \"horsepower\": 100.0, \"weight\": 2901, \"acceleration\": 16.0, \"model_year\": 74, \"origin\": \"usa\", \"name\": \"amc hornet\"}, {\"mpg\": 15.0, \"cylinders\": 6, \"displacement\": 250.0, \"horsepower\": 100.0, \"weight\": 3336, \"acceleration\": 17.0, \"model_year\": 74, \"origin\": \"usa\", \"name\": \"chevrolet nova\"}, {\"mpg\": 31.0, \"cylinders\": 4, \"displacement\": 79.0, \"horsepower\": 67.0, \"weight\": 1950, \"acceleration\": 19.0, \"model_year\": 74, \"origin\": \"japan\", \"name\": \"datsun b210\"}, {\"mpg\": 26.0, \"cylinders\": 4, \"displacement\": 122.0, \"horsepower\": 80.0, \"weight\": 2451, \"acceleration\": 16.5, \"model_year\": 74, \"origin\": \"usa\", \"name\": \"ford pinto\"}, {\"mpg\": 32.0, \"cylinders\": 4, \"displacement\": 71.0, \"horsepower\": 65.0, \"weight\": 1836, \"acceleration\": 21.0, \"model_year\": 74, \"origin\": \"japan\", \"name\": \"toyota corolla 1200\"}, {\"mpg\": 25.0, \"cylinders\": 4, \"displacement\": 140.0, \"horsepower\": 75.0, \"weight\": 2542, \"acceleration\": 17.0, \"model_year\": 74, \"origin\": \"usa\", \"name\": \"chevrolet vega\"}, {\"mpg\": 16.0, \"cylinders\": 6, \"displacement\": 250.0, \"horsepower\": 100.0, \"weight\": 3781, \"acceleration\": 17.0, \"model_year\": 74, \"origin\": \"usa\", \"name\": \"chevrolet chevelle malibu classic\"}, {\"mpg\": 16.0, \"cylinders\": 6, \"displacement\": 258.0, \"horsepower\": 110.0, \"weight\": 3632, \"acceleration\": 18.0, \"model_year\": 74, \"origin\": \"usa\", \"name\": \"amc matador\"}, {\"mpg\": 18.0, \"cylinders\": 6, \"displacement\": 225.0, \"horsepower\": 105.0, \"weight\": 3613, \"acceleration\": 16.5, \"model_year\": 74, \"origin\": \"usa\", \"name\": \"plymouth satellite sebring\"}, {\"mpg\": 16.0, \"cylinders\": 8, \"displacement\": 302.0, \"horsepower\": 140.0, \"weight\": 4141, \"acceleration\": 14.0, \"model_year\": 74, \"origin\": \"usa\", \"name\": \"ford gran torino\"}, {\"mpg\": 13.0, \"cylinders\": 8, \"displacement\": 350.0, \"horsepower\": 150.0, \"weight\": 4699, \"acceleration\": 14.5, \"model_year\": 74, \"origin\": \"usa\", \"name\": \"buick century luxus (sw)\"}, {\"mpg\": 14.0, \"cylinders\": 8, \"displacement\": 318.0, \"horsepower\": 150.0, \"weight\": 4457, \"acceleration\": 13.5, \"model_year\": 74, \"origin\": \"usa\", \"name\": \"dodge coronet custom (sw)\"}, {\"mpg\": 14.0, \"cylinders\": 8, \"displacement\": 302.0, \"horsepower\": 140.0, \"weight\": 4638, \"acceleration\": 16.0, \"model_year\": 74, \"origin\": \"usa\", \"name\": \"ford gran torino (sw)\"}, {\"mpg\": 14.0, \"cylinders\": 8, \"displacement\": 304.0, \"horsepower\": 150.0, \"weight\": 4257, \"acceleration\": 15.5, \"model_year\": 74, \"origin\": \"usa\", \"name\": \"amc matador (sw)\"}, {\"mpg\": 29.0, \"cylinders\": 4, \"displacement\": 98.0, \"horsepower\": 83.0, \"weight\": 2219, \"acceleration\": 16.5, \"model_year\": 74, \"origin\": \"europe\", \"name\": \"audi fox\"}, {\"mpg\": 26.0, \"cylinders\": 4, \"displacement\": 79.0, \"horsepower\": 67.0, \"weight\": 1963, \"acceleration\": 15.5, \"model_year\": 74, \"origin\": \"europe\", \"name\": \"volkswagen dasher\"}, {\"mpg\": 26.0, \"cylinders\": 4, \"displacement\": 97.0, \"horsepower\": 78.0, \"weight\": 2300, \"acceleration\": 14.5, \"model_year\": 74, \"origin\": \"europe\", \"name\": \"opel manta\"}, {\"mpg\": 31.0, \"cylinders\": 4, \"displacement\": 76.0, \"horsepower\": 52.0, \"weight\": 1649, \"acceleration\": 16.5, \"model_year\": 74, \"origin\": \"japan\", \"name\": \"toyota corona\"}, {\"mpg\": 32.0, \"cylinders\": 4, \"displacement\": 83.0, \"horsepower\": 61.0, \"weight\": 2003, \"acceleration\": 19.0, \"model_year\": 74, \"origin\": \"japan\", \"name\": \"datsun 710\"}, {\"mpg\": 28.0, \"cylinders\": 4, \"displacement\": 90.0, \"horsepower\": 75.0, \"weight\": 2125, \"acceleration\": 14.5, \"model_year\": 74, \"origin\": \"usa\", \"name\": \"dodge colt\"}, {\"mpg\": 24.0, \"cylinders\": 4, \"displacement\": 90.0, \"horsepower\": 75.0, \"weight\": 2108, \"acceleration\": 15.5, \"model_year\": 74, \"origin\": \"europe\", \"name\": \"fiat 128\"}, {\"mpg\": 26.0, \"cylinders\": 4, \"displacement\": 116.0, \"horsepower\": 75.0, \"weight\": 2246, \"acceleration\": 14.0, \"model_year\": 74, \"origin\": \"europe\", \"name\": \"fiat 124 tc\"}, {\"mpg\": 24.0, \"cylinders\": 4, \"displacement\": 120.0, \"horsepower\": 97.0, \"weight\": 2489, \"acceleration\": 15.0, \"model_year\": 74, \"origin\": \"japan\", \"name\": \"honda civic\"}, {\"mpg\": 26.0, \"cylinders\": 4, \"displacement\": 108.0, \"horsepower\": 93.0, \"weight\": 2391, \"acceleration\": 15.5, \"model_year\": 74, \"origin\": \"japan\", \"name\": \"subaru\"}, {\"mpg\": 31.0, \"cylinders\": 4, \"displacement\": 79.0, \"horsepower\": 67.0, \"weight\": 2000, \"acceleration\": 16.0, \"model_year\": 74, \"origin\": \"europe\", \"name\": \"fiat x1.9\"}, {\"mpg\": 19.0, \"cylinders\": 6, \"displacement\": 225.0, \"horsepower\": 95.0, \"weight\": 3264, \"acceleration\": 16.0, \"model_year\": 75, \"origin\": \"usa\", \"name\": \"plymouth valiant custom\"}, {\"mpg\": 18.0, \"cylinders\": 6, \"displacement\": 250.0, \"horsepower\": 105.0, \"weight\": 3459, \"acceleration\": 16.0, \"model_year\": 75, \"origin\": \"usa\", \"name\": \"chevrolet nova\"}, {\"mpg\": 15.0, \"cylinders\": 6, \"displacement\": 250.0, \"horsepower\": 72.0, \"weight\": 3432, \"acceleration\": 21.0, \"model_year\": 75, \"origin\": \"usa\", \"name\": \"mercury monarch\"}, {\"mpg\": 15.0, \"cylinders\": 6, \"displacement\": 250.0, \"horsepower\": 72.0, \"weight\": 3158, \"acceleration\": 19.5, \"model_year\": 75, \"origin\": \"usa\", \"name\": \"ford maverick\"}, {\"mpg\": 16.0, \"cylinders\": 8, \"displacement\": 400.0, \"horsepower\": 170.0, \"weight\": 4668, \"acceleration\": 11.5, \"model_year\": 75, \"origin\": \"usa\", \"name\": \"pontiac catalina\"}, {\"mpg\": 15.0, \"cylinders\": 8, \"displacement\": 350.0, \"horsepower\": 145.0, \"weight\": 4440, \"acceleration\": 14.0, \"model_year\": 75, \"origin\": \"usa\", \"name\": \"chevrolet bel air\"}, {\"mpg\": 16.0, \"cylinders\": 8, \"displacement\": 318.0, \"horsepower\": 150.0, \"weight\": 4498, \"acceleration\": 14.5, \"model_year\": 75, \"origin\": \"usa\", \"name\": \"plymouth grand fury\"}, {\"mpg\": 14.0, \"cylinders\": 8, \"displacement\": 351.0, \"horsepower\": 148.0, \"weight\": 4657, \"acceleration\": 13.5, \"model_year\": 75, \"origin\": \"usa\", \"name\": \"ford ltd\"}, {\"mpg\": 17.0, \"cylinders\": 6, \"displacement\": 231.0, \"horsepower\": 110.0, \"weight\": 3907, \"acceleration\": 21.0, \"model_year\": 75, \"origin\": \"usa\", \"name\": \"buick century\"}, {\"mpg\": 16.0, \"cylinders\": 6, \"displacement\": 250.0, \"horsepower\": 105.0, \"weight\": 3897, \"acceleration\": 18.5, \"model_year\": 75, \"origin\": \"usa\", \"name\": \"chevroelt chevelle malibu\"}, {\"mpg\": 15.0, \"cylinders\": 6, \"displacement\": 258.0, \"horsepower\": 110.0, \"weight\": 3730, \"acceleration\": 19.0, \"model_year\": 75, \"origin\": \"usa\", \"name\": \"amc matador\"}, {\"mpg\": 18.0, \"cylinders\": 6, \"displacement\": 225.0, \"horsepower\": 95.0, \"weight\": 3785, \"acceleration\": 19.0, \"model_year\": 75, \"origin\": \"usa\", \"name\": \"plymouth fury\"}, {\"mpg\": 21.0, \"cylinders\": 6, \"displacement\": 231.0, \"horsepower\": 110.0, \"weight\": 3039, \"acceleration\": 15.0, \"model_year\": 75, \"origin\": \"usa\", \"name\": \"buick skyhawk\"}, {\"mpg\": 20.0, \"cylinders\": 8, \"displacement\": 262.0, \"horsepower\": 110.0, \"weight\": 3221, \"acceleration\": 13.5, \"model_year\": 75, \"origin\": \"usa\", \"name\": \"chevrolet monza 2+2\"}, {\"mpg\": 13.0, \"cylinders\": 8, \"displacement\": 302.0, \"horsepower\": 129.0, \"weight\": 3169, \"acceleration\": 12.0, \"model_year\": 75, \"origin\": \"usa\", \"name\": \"ford mustang ii\"}, {\"mpg\": 29.0, \"cylinders\": 4, \"displacement\": 97.0, \"horsepower\": 75.0, \"weight\": 2171, \"acceleration\": 16.0, \"model_year\": 75, \"origin\": \"japan\", \"name\": \"toyota corolla\"}, {\"mpg\": 23.0, \"cylinders\": 4, \"displacement\": 140.0, \"horsepower\": 83.0, \"weight\": 2639, \"acceleration\": 17.0, \"model_year\": 75, \"origin\": \"usa\", \"name\": \"ford pinto\"}, {\"mpg\": 20.0, \"cylinders\": 6, \"displacement\": 232.0, \"horsepower\": 100.0, \"weight\": 2914, \"acceleration\": 16.0, \"model_year\": 75, \"origin\": \"usa\", \"name\": \"amc gremlin\"}, {\"mpg\": 23.0, \"cylinders\": 4, \"displacement\": 140.0, \"horsepower\": 78.0, \"weight\": 2592, \"acceleration\": 18.5, \"model_year\": 75, \"origin\": \"usa\", \"name\": \"pontiac astro\"}, {\"mpg\": 24.0, \"cylinders\": 4, \"displacement\": 134.0, \"horsepower\": 96.0, \"weight\": 2702, \"acceleration\": 13.5, \"model_year\": 75, \"origin\": \"japan\", \"name\": \"toyota corona\"}, {\"mpg\": 25.0, \"cylinders\": 4, \"displacement\": 90.0, \"horsepower\": 71.0, \"weight\": 2223, \"acceleration\": 16.5, \"model_year\": 75, \"origin\": \"europe\", \"name\": \"volkswagen dasher\"}, {\"mpg\": 24.0, \"cylinders\": 4, \"displacement\": 119.0, \"horsepower\": 97.0, \"weight\": 2545, \"acceleration\": 17.0, \"model_year\": 75, \"origin\": \"japan\", \"name\": \"datsun 710\"}, {\"mpg\": 18.0, \"cylinders\": 6, \"displacement\": 171.0, \"horsepower\": 97.0, \"weight\": 2984, \"acceleration\": 14.5, \"model_year\": 75, \"origin\": \"usa\", \"name\": \"ford pinto\"}, {\"mpg\": 29.0, \"cylinders\": 4, \"displacement\": 90.0, \"horsepower\": 70.0, \"weight\": 1937, \"acceleration\": 14.0, \"model_year\": 75, \"origin\": \"europe\", \"name\": \"volkswagen rabbit\"}, {\"mpg\": 19.0, \"cylinders\": 6, \"displacement\": 232.0, \"horsepower\": 90.0, \"weight\": 3211, \"acceleration\": 17.0, \"model_year\": 75, \"origin\": \"usa\", \"name\": \"amc pacer\"}, {\"mpg\": 23.0, \"cylinders\": 4, \"displacement\": 115.0, \"horsepower\": 95.0, \"weight\": 2694, \"acceleration\": 15.0, \"model_year\": 75, \"origin\": \"europe\", \"name\": \"audi 100ls\"}, {\"mpg\": 23.0, \"cylinders\": 4, \"displacement\": 120.0, \"horsepower\": 88.0, \"weight\": 2957, \"acceleration\": 17.0, \"model_year\": 75, \"origin\": \"europe\", \"name\": \"peugeot 504\"}, {\"mpg\": 22.0, \"cylinders\": 4, \"displacement\": 121.0, \"horsepower\": 98.0, \"weight\": 2945, \"acceleration\": 14.5, \"model_year\": 75, \"origin\": \"europe\", \"name\": \"volvo 244dl\"}, {\"mpg\": 25.0, \"cylinders\": 4, \"displacement\": 121.0, \"horsepower\": 115.0, \"weight\": 2671, \"acceleration\": 13.5, \"model_year\": 75, \"origin\": \"europe\", \"name\": \"saab 99le\"}, {\"mpg\": 33.0, \"cylinders\": 4, \"displacement\": 91.0, \"horsepower\": 53.0, \"weight\": 1795, \"acceleration\": 17.5, \"model_year\": 75, \"origin\": \"japan\", \"name\": \"honda civic cvcc\"}, {\"mpg\": 28.0, \"cylinders\": 4, \"displacement\": 107.0, \"horsepower\": 86.0, \"weight\": 2464, \"acceleration\": 15.5, \"model_year\": 76, \"origin\": \"europe\", \"name\": \"fiat 131\"}, {\"mpg\": 25.0, \"cylinders\": 4, \"displacement\": 116.0, \"horsepower\": 81.0, \"weight\": 2220, \"acceleration\": 16.9, \"model_year\": 76, \"origin\": \"europe\", \"name\": \"opel 1900\"}, {\"mpg\": 25.0, \"cylinders\": 4, \"displacement\": 140.0, \"horsepower\": 92.0, \"weight\": 2572, \"acceleration\": 14.9, \"model_year\": 76, \"origin\": \"usa\", \"name\": \"capri ii\"}, {\"mpg\": 26.0, \"cylinders\": 4, \"displacement\": 98.0, \"horsepower\": 79.0, \"weight\": 2255, \"acceleration\": 17.7, \"model_year\": 76, \"origin\": \"usa\", \"name\": \"dodge colt\"}, {\"mpg\": 27.0, \"cylinders\": 4, \"displacement\": 101.0, \"horsepower\": 83.0, \"weight\": 2202, \"acceleration\": 15.3, \"model_year\": 76, \"origin\": \"europe\", \"name\": \"renault 12tl\"}, {\"mpg\": 17.5, \"cylinders\": 8, \"displacement\": 305.0, \"horsepower\": 140.0, \"weight\": 4215, \"acceleration\": 13.0, \"model_year\": 76, \"origin\": \"usa\", \"name\": \"chevrolet chevelle malibu classic\"}, {\"mpg\": 16.0, \"cylinders\": 8, \"displacement\": 318.0, \"horsepower\": 150.0, \"weight\": 4190, \"acceleration\": 13.0, \"model_year\": 76, \"origin\": \"usa\", \"name\": \"dodge coronet brougham\"}, {\"mpg\": 15.5, \"cylinders\": 8, \"displacement\": 304.0, \"horsepower\": 120.0, \"weight\": 3962, \"acceleration\": 13.9, \"model_year\": 76, \"origin\": \"usa\", \"name\": \"amc matador\"}, {\"mpg\": 14.5, \"cylinders\": 8, \"displacement\": 351.0, \"horsepower\": 152.0, \"weight\": 4215, \"acceleration\": 12.8, \"model_year\": 76, \"origin\": \"usa\", \"name\": \"ford gran torino\"}, {\"mpg\": 22.0, \"cylinders\": 6, \"displacement\": 225.0, \"horsepower\": 100.0, \"weight\": 3233, \"acceleration\": 15.4, \"model_year\": 76, \"origin\": \"usa\", \"name\": \"plymouth valiant\"}, {\"mpg\": 22.0, \"cylinders\": 6, \"displacement\": 250.0, \"horsepower\": 105.0, \"weight\": 3353, \"acceleration\": 14.5, \"model_year\": 76, \"origin\": \"usa\", \"name\": \"chevrolet nova\"}, {\"mpg\": 24.0, \"cylinders\": 6, \"displacement\": 200.0, \"horsepower\": 81.0, \"weight\": 3012, \"acceleration\": 17.6, \"model_year\": 76, \"origin\": \"usa\", \"name\": \"ford maverick\"}, {\"mpg\": 22.5, \"cylinders\": 6, \"displacement\": 232.0, \"horsepower\": 90.0, \"weight\": 3085, \"acceleration\": 17.6, \"model_year\": 76, \"origin\": \"usa\", \"name\": \"amc hornet\"}, {\"mpg\": 29.0, \"cylinders\": 4, \"displacement\": 85.0, \"horsepower\": 52.0, \"weight\": 2035, \"acceleration\": 22.2, \"model_year\": 76, \"origin\": \"usa\", \"name\": \"chevrolet chevette\"}, {\"mpg\": 24.5, \"cylinders\": 4, \"displacement\": 98.0, \"horsepower\": 60.0, \"weight\": 2164, \"acceleration\": 22.1, \"model_year\": 76, \"origin\": \"usa\", \"name\": \"chevrolet woody\"}, {\"mpg\": 29.0, \"cylinders\": 4, \"displacement\": 90.0, \"horsepower\": 70.0, \"weight\": 1937, \"acceleration\": 14.2, \"model_year\": 76, \"origin\": \"europe\", \"name\": \"vw rabbit\"}, {\"mpg\": 33.0, \"cylinders\": 4, \"displacement\": 91.0, \"horsepower\": 53.0, \"weight\": 1795, \"acceleration\": 17.4, \"model_year\": 76, \"origin\": \"japan\", \"name\": \"honda civic\"}, {\"mpg\": 20.0, \"cylinders\": 6, \"displacement\": 225.0, \"horsepower\": 100.0, \"weight\": 3651, \"acceleration\": 17.7, \"model_year\": 76, \"origin\": \"usa\", \"name\": \"dodge aspen se\"}, {\"mpg\": 18.0, \"cylinders\": 6, \"displacement\": 250.0, \"horsepower\": 78.0, \"weight\": 3574, \"acceleration\": 21.0, \"model_year\": 76, \"origin\": \"usa\", \"name\": \"ford granada ghia\"}, {\"mpg\": 18.5, \"cylinders\": 6, \"displacement\": 250.0, \"horsepower\": 110.0, \"weight\": 3645, \"acceleration\": 16.2, \"model_year\": 76, \"origin\": \"usa\", \"name\": \"pontiac ventura sj\"}, {\"mpg\": 17.5, \"cylinders\": 6, \"displacement\": 258.0, \"horsepower\": 95.0, \"weight\": 3193, \"acceleration\": 17.8, \"model_year\": 76, \"origin\": \"usa\", \"name\": \"amc pacer d/l\"}, {\"mpg\": 29.5, \"cylinders\": 4, \"displacement\": 97.0, \"horsepower\": 71.0, \"weight\": 1825, \"acceleration\": 12.2, \"model_year\": 76, \"origin\": \"europe\", \"name\": \"volkswagen rabbit\"}, {\"mpg\": 32.0, \"cylinders\": 4, \"displacement\": 85.0, \"horsepower\": 70.0, \"weight\": 1990, \"acceleration\": 17.0, \"model_year\": 76, \"origin\": \"japan\", \"name\": \"datsun b-210\"}, {\"mpg\": 28.0, \"cylinders\": 4, \"displacement\": 97.0, \"horsepower\": 75.0, \"weight\": 2155, \"acceleration\": 16.4, \"model_year\": 76, \"origin\": \"japan\", \"name\": \"toyota corolla\"}, {\"mpg\": 26.5, \"cylinders\": 4, \"displacement\": 140.0, \"horsepower\": 72.0, \"weight\": 2565, \"acceleration\": 13.6, \"model_year\": 76, \"origin\": \"usa\", \"name\": \"ford pinto\"}, {\"mpg\": 20.0, \"cylinders\": 4, \"displacement\": 130.0, \"horsepower\": 102.0, \"weight\": 3150, \"acceleration\": 15.7, \"model_year\": 76, \"origin\": \"europe\", \"name\": \"volvo 245\"}, {\"mpg\": 13.0, \"cylinders\": 8, \"displacement\": 318.0, \"horsepower\": 150.0, \"weight\": 3940, \"acceleration\": 13.2, \"model_year\": 76, \"origin\": \"usa\", \"name\": \"plymouth volare premier v8\"}, {\"mpg\": 19.0, \"cylinders\": 4, \"displacement\": 120.0, \"horsepower\": 88.0, \"weight\": 3270, \"acceleration\": 21.9, \"model_year\": 76, \"origin\": \"europe\", \"name\": \"peugeot 504\"}, {\"mpg\": 19.0, \"cylinders\": 6, \"displacement\": 156.0, \"horsepower\": 108.0, \"weight\": 2930, \"acceleration\": 15.5, \"model_year\": 76, \"origin\": \"japan\", \"name\": \"toyota mark ii\"}, {\"mpg\": 16.5, \"cylinders\": 6, \"displacement\": 168.0, \"horsepower\": 120.0, \"weight\": 3820, \"acceleration\": 16.7, \"model_year\": 76, \"origin\": \"europe\", \"name\": \"mercedes-benz 280s\"}, {\"mpg\": 16.5, \"cylinders\": 8, \"displacement\": 350.0, \"horsepower\": 180.0, \"weight\": 4380, \"acceleration\": 12.1, \"model_year\": 76, \"origin\": \"usa\", \"name\": \"cadillac seville\"}, {\"mpg\": 13.0, \"cylinders\": 8, \"displacement\": 350.0, \"horsepower\": 145.0, \"weight\": 4055, \"acceleration\": 12.0, \"model_year\": 76, \"origin\": \"usa\", \"name\": \"chevy c10\"}, {\"mpg\": 13.0, \"cylinders\": 8, \"displacement\": 302.0, \"horsepower\": 130.0, \"weight\": 3870, \"acceleration\": 15.0, \"model_year\": 76, \"origin\": \"usa\", \"name\": \"ford f108\"}, {\"mpg\": 13.0, \"cylinders\": 8, \"displacement\": 318.0, \"horsepower\": 150.0, \"weight\": 3755, \"acceleration\": 14.0, \"model_year\": 76, \"origin\": \"usa\", \"name\": \"dodge d100\"}, {\"mpg\": 31.5, \"cylinders\": 4, \"displacement\": 98.0, \"horsepower\": 68.0, \"weight\": 2045, \"acceleration\": 18.5, \"model_year\": 77, \"origin\": \"japan\", \"name\": \"honda accord cvcc\"}, {\"mpg\": 30.0, \"cylinders\": 4, \"displacement\": 111.0, \"horsepower\": 80.0, \"weight\": 2155, \"acceleration\": 14.8, \"model_year\": 77, \"origin\": \"usa\", \"name\": \"buick opel isuzu deluxe\"}, {\"mpg\": 36.0, \"cylinders\": 4, \"displacement\": 79.0, \"horsepower\": 58.0, \"weight\": 1825, \"acceleration\": 18.6, \"model_year\": 77, \"origin\": \"europe\", \"name\": \"renault 5 gtl\"}, {\"mpg\": 25.5, \"cylinders\": 4, \"displacement\": 122.0, \"horsepower\": 96.0, \"weight\": 2300, \"acceleration\": 15.5, \"model_year\": 77, \"origin\": \"usa\", \"name\": \"plymouth arrow gs\"}, {\"mpg\": 33.5, \"cylinders\": 4, \"displacement\": 85.0, \"horsepower\": 70.0, \"weight\": 1945, \"acceleration\": 16.8, \"model_year\": 77, \"origin\": \"japan\", \"name\": \"datsun f-10 hatchback\"}, {\"mpg\": 17.5, \"cylinders\": 8, \"displacement\": 305.0, \"horsepower\": 145.0, \"weight\": 3880, \"acceleration\": 12.5, \"model_year\": 77, \"origin\": \"usa\", \"name\": \"chevrolet caprice classic\"}, {\"mpg\": 17.0, \"cylinders\": 8, \"displacement\": 260.0, \"horsepower\": 110.0, \"weight\": 4060, \"acceleration\": 19.0, \"model_year\": 77, \"origin\": \"usa\", \"name\": \"oldsmobile cutlass supreme\"}, {\"mpg\": 15.5, \"cylinders\": 8, \"displacement\": 318.0, \"horsepower\": 145.0, \"weight\": 4140, \"acceleration\": 13.7, \"model_year\": 77, \"origin\": \"usa\", \"name\": \"dodge monaco brougham\"}, {\"mpg\": 15.0, \"cylinders\": 8, \"displacement\": 302.0, \"horsepower\": 130.0, \"weight\": 4295, \"acceleration\": 14.9, \"model_year\": 77, \"origin\": \"usa\", \"name\": \"mercury cougar brougham\"}, {\"mpg\": 17.5, \"cylinders\": 6, \"displacement\": 250.0, \"horsepower\": 110.0, \"weight\": 3520, \"acceleration\": 16.4, \"model_year\": 77, \"origin\": \"usa\", \"name\": \"chevrolet concours\"}, {\"mpg\": 20.5, \"cylinders\": 6, \"displacement\": 231.0, \"horsepower\": 105.0, \"weight\": 3425, \"acceleration\": 16.9, \"model_year\": 77, \"origin\": \"usa\", \"name\": \"buick skylark\"}, {\"mpg\": 19.0, \"cylinders\": 6, \"displacement\": 225.0, \"horsepower\": 100.0, \"weight\": 3630, \"acceleration\": 17.7, \"model_year\": 77, \"origin\": \"usa\", \"name\": \"plymouth volare custom\"}, {\"mpg\": 18.5, \"cylinders\": 6, \"displacement\": 250.0, \"horsepower\": 98.0, \"weight\": 3525, \"acceleration\": 19.0, \"model_year\": 77, \"origin\": \"usa\", \"name\": \"ford granada\"}, {\"mpg\": 16.0, \"cylinders\": 8, \"displacement\": 400.0, \"horsepower\": 180.0, \"weight\": 4220, \"acceleration\": 11.1, \"model_year\": 77, \"origin\": \"usa\", \"name\": \"pontiac grand prix lj\"}, {\"mpg\": 15.5, \"cylinders\": 8, \"displacement\": 350.0, \"horsepower\": 170.0, \"weight\": 4165, \"acceleration\": 11.4, \"model_year\": 77, \"origin\": \"usa\", \"name\": \"chevrolet monte carlo landau\"}, {\"mpg\": 15.5, \"cylinders\": 8, \"displacement\": 400.0, \"horsepower\": 190.0, \"weight\": 4325, \"acceleration\": 12.2, \"model_year\": 77, \"origin\": \"usa\", \"name\": \"chrysler cordoba\"}, {\"mpg\": 16.0, \"cylinders\": 8, \"displacement\": 351.0, \"horsepower\": 149.0, \"weight\": 4335, \"acceleration\": 14.5, \"model_year\": 77, \"origin\": \"usa\", \"name\": \"ford thunderbird\"}, {\"mpg\": 29.0, \"cylinders\": 4, \"displacement\": 97.0, \"horsepower\": 78.0, \"weight\": 1940, \"acceleration\": 14.5, \"model_year\": 77, \"origin\": \"europe\", \"name\": \"volkswagen rabbit custom\"}, {\"mpg\": 24.5, \"cylinders\": 4, \"displacement\": 151.0, \"horsepower\": 88.0, \"weight\": 2740, \"acceleration\": 16.0, \"model_year\": 77, \"origin\": \"usa\", \"name\": \"pontiac sunbird coupe\"}, {\"mpg\": 26.0, \"cylinders\": 4, \"displacement\": 97.0, \"horsepower\": 75.0, \"weight\": 2265, \"acceleration\": 18.2, \"model_year\": 77, \"origin\": \"japan\", \"name\": \"toyota corolla liftback\"}, {\"mpg\": 25.5, \"cylinders\": 4, \"displacement\": 140.0, \"horsepower\": 89.0, \"weight\": 2755, \"acceleration\": 15.8, \"model_year\": 77, \"origin\": \"usa\", \"name\": \"ford mustang ii 2+2\"}, {\"mpg\": 30.5, \"cylinders\": 4, \"displacement\": 98.0, \"horsepower\": 63.0, \"weight\": 2051, \"acceleration\": 17.0, \"model_year\": 77, \"origin\": \"usa\", \"name\": \"chevrolet chevette\"}, {\"mpg\": 33.5, \"cylinders\": 4, \"displacement\": 98.0, \"horsepower\": 83.0, \"weight\": 2075, \"acceleration\": 15.9, \"model_year\": 77, \"origin\": \"usa\", \"name\": \"dodge colt m/m\"}, {\"mpg\": 30.0, \"cylinders\": 4, \"displacement\": 97.0, \"horsepower\": 67.0, \"weight\": 1985, \"acceleration\": 16.4, \"model_year\": 77, \"origin\": \"japan\", \"name\": \"subaru dl\"}, {\"mpg\": 30.5, \"cylinders\": 4, \"displacement\": 97.0, \"horsepower\": 78.0, \"weight\": 2190, \"acceleration\": 14.1, \"model_year\": 77, \"origin\": \"europe\", \"name\": \"volkswagen dasher\"}, {\"mpg\": 22.0, \"cylinders\": 6, \"displacement\": 146.0, \"horsepower\": 97.0, \"weight\": 2815, \"acceleration\": 14.5, \"model_year\": 77, \"origin\": \"japan\", \"name\": \"datsun 810\"}, {\"mpg\": 21.5, \"cylinders\": 4, \"displacement\": 121.0, \"horsepower\": 110.0, \"weight\": 2600, \"acceleration\": 12.8, \"model_year\": 77, \"origin\": \"europe\", \"name\": \"bmw 320i\"}, {\"mpg\": 21.5, \"cylinders\": 3, \"displacement\": 80.0, \"horsepower\": 110.0, \"weight\": 2720, \"acceleration\": 13.5, \"model_year\": 77, \"origin\": \"japan\", \"name\": \"mazda rx-4\"}, {\"mpg\": 43.1, \"cylinders\": 4, \"displacement\": 90.0, \"horsepower\": 48.0, \"weight\": 1985, \"acceleration\": 21.5, \"model_year\": 78, \"origin\": \"europe\", \"name\": \"volkswagen rabbit custom diesel\"}, {\"mpg\": 36.1, \"cylinders\": 4, \"displacement\": 98.0, \"horsepower\": 66.0, \"weight\": 1800, \"acceleration\": 14.4, \"model_year\": 78, \"origin\": \"usa\", \"name\": \"ford fiesta\"}, {\"mpg\": 32.8, \"cylinders\": 4, \"displacement\": 78.0, \"horsepower\": 52.0, \"weight\": 1985, \"acceleration\": 19.4, \"model_year\": 78, \"origin\": \"japan\", \"name\": \"mazda glc deluxe\"}, {\"mpg\": 39.4, \"cylinders\": 4, \"displacement\": 85.0, \"horsepower\": 70.0, \"weight\": 2070, \"acceleration\": 18.6, \"model_year\": 78, \"origin\": \"japan\", \"name\": \"datsun b210 gx\"}, {\"mpg\": 36.1, \"cylinders\": 4, \"displacement\": 91.0, \"horsepower\": 60.0, \"weight\": 1800, \"acceleration\": 16.4, \"model_year\": 78, \"origin\": \"japan\", \"name\": \"honda civic cvcc\"}, {\"mpg\": 19.9, \"cylinders\": 8, \"displacement\": 260.0, \"horsepower\": 110.0, \"weight\": 3365, \"acceleration\": 15.5, \"model_year\": 78, \"origin\": \"usa\", \"name\": \"oldsmobile cutlass salon brougham\"}, {\"mpg\": 19.4, \"cylinders\": 8, \"displacement\": 318.0, \"horsepower\": 140.0, \"weight\": 3735, \"acceleration\": 13.2, \"model_year\": 78, \"origin\": \"usa\", \"name\": \"dodge diplomat\"}, {\"mpg\": 20.2, \"cylinders\": 8, \"displacement\": 302.0, \"horsepower\": 139.0, \"weight\": 3570, \"acceleration\": 12.8, \"model_year\": 78, \"origin\": \"usa\", \"name\": \"mercury monarch ghia\"}, {\"mpg\": 19.2, \"cylinders\": 6, \"displacement\": 231.0, \"horsepower\": 105.0, \"weight\": 3535, \"acceleration\": 19.2, \"model_year\": 78, \"origin\": \"usa\", \"name\": \"pontiac phoenix lj\"}, {\"mpg\": 20.5, \"cylinders\": 6, \"displacement\": 200.0, \"horsepower\": 95.0, \"weight\": 3155, \"acceleration\": 18.2, \"model_year\": 78, \"origin\": \"usa\", \"name\": \"chevrolet malibu\"}, {\"mpg\": 20.2, \"cylinders\": 6, \"displacement\": 200.0, \"horsepower\": 85.0, \"weight\": 2965, \"acceleration\": 15.8, \"model_year\": 78, \"origin\": \"usa\", \"name\": \"ford fairmont (auto)\"}, {\"mpg\": 25.1, \"cylinders\": 4, \"displacement\": 140.0, \"horsepower\": 88.0, \"weight\": 2720, \"acceleration\": 15.4, \"model_year\": 78, \"origin\": \"usa\", \"name\": \"ford fairmont (man)\"}, {\"mpg\": 20.5, \"cylinders\": 6, \"displacement\": 225.0, \"horsepower\": 100.0, \"weight\": 3430, \"acceleration\": 17.2, \"model_year\": 78, \"origin\": \"usa\", \"name\": \"plymouth volare\"}, {\"mpg\": 19.4, \"cylinders\": 6, \"displacement\": 232.0, \"horsepower\": 90.0, \"weight\": 3210, \"acceleration\": 17.2, \"model_year\": 78, \"origin\": \"usa\", \"name\": \"amc concord\"}, {\"mpg\": 20.6, \"cylinders\": 6, \"displacement\": 231.0, \"horsepower\": 105.0, \"weight\": 3380, \"acceleration\": 15.8, \"model_year\": 78, \"origin\": \"usa\", \"name\": \"buick century special\"}, {\"mpg\": 20.8, \"cylinders\": 6, \"displacement\": 200.0, \"horsepower\": 85.0, \"weight\": 3070, \"acceleration\": 16.7, \"model_year\": 78, \"origin\": \"usa\", \"name\": \"mercury zephyr\"}, {\"mpg\": 18.6, \"cylinders\": 6, \"displacement\": 225.0, \"horsepower\": 110.0, \"weight\": 3620, \"acceleration\": 18.7, \"model_year\": 78, \"origin\": \"usa\", \"name\": \"dodge aspen\"}, {\"mpg\": 18.1, \"cylinders\": 6, \"displacement\": 258.0, \"horsepower\": 120.0, \"weight\": 3410, \"acceleration\": 15.1, \"model_year\": 78, \"origin\": \"usa\", \"name\": \"amc concord d/l\"}, {\"mpg\": 19.2, \"cylinders\": 8, \"displacement\": 305.0, \"horsepower\": 145.0, \"weight\": 3425, \"acceleration\": 13.2, \"model_year\": 78, \"origin\": \"usa\", \"name\": \"chevrolet monte carlo landau\"}, {\"mpg\": 17.7, \"cylinders\": 6, \"displacement\": 231.0, \"horsepower\": 165.0, \"weight\": 3445, \"acceleration\": 13.4, \"model_year\": 78, \"origin\": \"usa\", \"name\": \"buick regal sport coupe (turbo)\"}, {\"mpg\": 18.1, \"cylinders\": 8, \"displacement\": 302.0, \"horsepower\": 139.0, \"weight\": 3205, \"acceleration\": 11.2, \"model_year\": 78, \"origin\": \"usa\", \"name\": \"ford futura\"}, {\"mpg\": 17.5, \"cylinders\": 8, \"displacement\": 318.0, \"horsepower\": 140.0, \"weight\": 4080, \"acceleration\": 13.7, \"model_year\": 78, \"origin\": \"usa\", \"name\": \"dodge magnum xe\"}, {\"mpg\": 30.0, \"cylinders\": 4, \"displacement\": 98.0, \"horsepower\": 68.0, \"weight\": 2155, \"acceleration\": 16.5, \"model_year\": 78, \"origin\": \"usa\", \"name\": \"chevrolet chevette\"}, {\"mpg\": 27.5, \"cylinders\": 4, \"displacement\": 134.0, \"horsepower\": 95.0, \"weight\": 2560, \"acceleration\": 14.2, \"model_year\": 78, \"origin\": \"japan\", \"name\": \"toyota corona\"}, {\"mpg\": 27.2, \"cylinders\": 4, \"displacement\": 119.0, \"horsepower\": 97.0, \"weight\": 2300, \"acceleration\": 14.7, \"model_year\": 78, \"origin\": \"japan\", \"name\": \"datsun 510\"}, {\"mpg\": 30.9, \"cylinders\": 4, \"displacement\": 105.0, \"horsepower\": 75.0, \"weight\": 2230, \"acceleration\": 14.5, \"model_year\": 78, \"origin\": \"usa\", \"name\": \"dodge omni\"}, {\"mpg\": 21.1, \"cylinders\": 4, \"displacement\": 134.0, \"horsepower\": 95.0, \"weight\": 2515, \"acceleration\": 14.8, \"model_year\": 78, \"origin\": \"japan\", \"name\": \"toyota celica gt liftback\"}, {\"mpg\": 23.2, \"cylinders\": 4, \"displacement\": 156.0, \"horsepower\": 105.0, \"weight\": 2745, \"acceleration\": 16.7, \"model_year\": 78, \"origin\": \"usa\", \"name\": \"plymouth sapporo\"}, {\"mpg\": 23.8, \"cylinders\": 4, \"displacement\": 151.0, \"horsepower\": 85.0, \"weight\": 2855, \"acceleration\": 17.6, \"model_year\": 78, \"origin\": \"usa\", \"name\": \"oldsmobile starfire sx\"}, {\"mpg\": 23.9, \"cylinders\": 4, \"displacement\": 119.0, \"horsepower\": 97.0, \"weight\": 2405, \"acceleration\": 14.9, \"model_year\": 78, \"origin\": \"japan\", \"name\": \"datsun 200-sx\"}, {\"mpg\": 20.3, \"cylinders\": 5, \"displacement\": 131.0, \"horsepower\": 103.0, \"weight\": 2830, \"acceleration\": 15.9, \"model_year\": 78, \"origin\": \"europe\", \"name\": \"audi 5000\"}, {\"mpg\": 17.0, \"cylinders\": 6, \"displacement\": 163.0, \"horsepower\": 125.0, \"weight\": 3140, \"acceleration\": 13.6, \"model_year\": 78, \"origin\": \"europe\", \"name\": \"volvo 264gl\"}, {\"mpg\": 21.6, \"cylinders\": 4, \"displacement\": 121.0, \"horsepower\": 115.0, \"weight\": 2795, \"acceleration\": 15.7, \"model_year\": 78, \"origin\": \"europe\", \"name\": \"saab 99gle\"}, {\"mpg\": 16.2, \"cylinders\": 6, \"displacement\": 163.0, \"horsepower\": 133.0, \"weight\": 3410, \"acceleration\": 15.8, \"model_year\": 78, \"origin\": \"europe\", \"name\": \"peugeot 604sl\"}, {\"mpg\": 31.5, \"cylinders\": 4, \"displacement\": 89.0, \"horsepower\": 71.0, \"weight\": 1990, \"acceleration\": 14.9, \"model_year\": 78, \"origin\": \"europe\", \"name\": \"volkswagen scirocco\"}, {\"mpg\": 29.5, \"cylinders\": 4, \"displacement\": 98.0, \"horsepower\": 68.0, \"weight\": 2135, \"acceleration\": 16.6, \"model_year\": 78, \"origin\": \"japan\", \"name\": \"honda accord lx\"}, {\"mpg\": 21.5, \"cylinders\": 6, \"displacement\": 231.0, \"horsepower\": 115.0, \"weight\": 3245, \"acceleration\": 15.4, \"model_year\": 79, \"origin\": \"usa\", \"name\": \"pontiac lemans v6\"}, {\"mpg\": 19.8, \"cylinders\": 6, \"displacement\": 200.0, \"horsepower\": 85.0, \"weight\": 2990, \"acceleration\": 18.2, \"model_year\": 79, \"origin\": \"usa\", \"name\": \"mercury zephyr 6\"}, {\"mpg\": 22.3, \"cylinders\": 4, \"displacement\": 140.0, \"horsepower\": 88.0, \"weight\": 2890, \"acceleration\": 17.3, \"model_year\": 79, \"origin\": \"usa\", \"name\": \"ford fairmont 4\"}, {\"mpg\": 20.2, \"cylinders\": 6, \"displacement\": 232.0, \"horsepower\": 90.0, \"weight\": 3265, \"acceleration\": 18.2, \"model_year\": 79, \"origin\": \"usa\", \"name\": \"amc concord dl 6\"}, {\"mpg\": 20.6, \"cylinders\": 6, \"displacement\": 225.0, \"horsepower\": 110.0, \"weight\": 3360, \"acceleration\": 16.6, \"model_year\": 79, \"origin\": \"usa\", \"name\": \"dodge aspen 6\"}, {\"mpg\": 17.0, \"cylinders\": 8, \"displacement\": 305.0, \"horsepower\": 130.0, \"weight\": 3840, \"acceleration\": 15.4, \"model_year\": 79, \"origin\": \"usa\", \"name\": \"chevrolet caprice classic\"}, {\"mpg\": 17.6, \"cylinders\": 8, \"displacement\": 302.0, \"horsepower\": 129.0, \"weight\": 3725, \"acceleration\": 13.4, \"model_year\": 79, \"origin\": \"usa\", \"name\": \"ford ltd landau\"}, {\"mpg\": 16.5, \"cylinders\": 8, \"displacement\": 351.0, \"horsepower\": 138.0, \"weight\": 3955, \"acceleration\": 13.2, \"model_year\": 79, \"origin\": \"usa\", \"name\": \"mercury grand marquis\"}, {\"mpg\": 18.2, \"cylinders\": 8, \"displacement\": 318.0, \"horsepower\": 135.0, \"weight\": 3830, \"acceleration\": 15.2, \"model_year\": 79, \"origin\": \"usa\", \"name\": \"dodge st. regis\"}, {\"mpg\": 16.9, \"cylinders\": 8, \"displacement\": 350.0, \"horsepower\": 155.0, \"weight\": 4360, \"acceleration\": 14.9, \"model_year\": 79, \"origin\": \"usa\", \"name\": \"buick estate wagon (sw)\"}, {\"mpg\": 15.5, \"cylinders\": 8, \"displacement\": 351.0, \"horsepower\": 142.0, \"weight\": 4054, \"acceleration\": 14.3, \"model_year\": 79, \"origin\": \"usa\", \"name\": \"ford country squire (sw)\"}, {\"mpg\": 19.2, \"cylinders\": 8, \"displacement\": 267.0, \"horsepower\": 125.0, \"weight\": 3605, \"acceleration\": 15.0, \"model_year\": 79, \"origin\": \"usa\", \"name\": \"chevrolet malibu classic (sw)\"}, {\"mpg\": 18.5, \"cylinders\": 8, \"displacement\": 360.0, \"horsepower\": 150.0, \"weight\": 3940, \"acceleration\": 13.0, \"model_year\": 79, \"origin\": \"usa\", \"name\": \"chrysler lebaron town @ country (sw)\"}, {\"mpg\": 31.9, \"cylinders\": 4, \"displacement\": 89.0, \"horsepower\": 71.0, \"weight\": 1925, \"acceleration\": 14.0, \"model_year\": 79, \"origin\": \"europe\", \"name\": \"vw rabbit custom\"}, {\"mpg\": 34.1, \"cylinders\": 4, \"displacement\": 86.0, \"horsepower\": 65.0, \"weight\": 1975, \"acceleration\": 15.2, \"model_year\": 79, \"origin\": \"japan\", \"name\": \"maxda glc deluxe\"}, {\"mpg\": 35.7, \"cylinders\": 4, \"displacement\": 98.0, \"horsepower\": 80.0, \"weight\": 1915, \"acceleration\": 14.4, \"model_year\": 79, \"origin\": \"usa\", \"name\": \"dodge colt hatchback custom\"}, {\"mpg\": 27.4, \"cylinders\": 4, \"displacement\": 121.0, \"horsepower\": 80.0, \"weight\": 2670, \"acceleration\": 15.0, \"model_year\": 79, \"origin\": \"usa\", \"name\": \"amc spirit dl\"}, {\"mpg\": 25.4, \"cylinders\": 5, \"displacement\": 183.0, \"horsepower\": 77.0, \"weight\": 3530, \"acceleration\": 20.1, \"model_year\": 79, \"origin\": \"europe\", \"name\": \"mercedes benz 300d\"}, {\"mpg\": 23.0, \"cylinders\": 8, \"displacement\": 350.0, \"horsepower\": 125.0, \"weight\": 3900, \"acceleration\": 17.4, \"model_year\": 79, \"origin\": \"usa\", \"name\": \"cadillac eldorado\"}, {\"mpg\": 27.2, \"cylinders\": 4, \"displacement\": 141.0, \"horsepower\": 71.0, \"weight\": 3190, \"acceleration\": 24.8, \"model_year\": 79, \"origin\": \"europe\", \"name\": \"peugeot 504\"}, {\"mpg\": 23.9, \"cylinders\": 8, \"displacement\": 260.0, \"horsepower\": 90.0, \"weight\": 3420, \"acceleration\": 22.2, \"model_year\": 79, \"origin\": \"usa\", \"name\": \"oldsmobile cutlass salon brougham\"}, {\"mpg\": 34.2, \"cylinders\": 4, \"displacement\": 105.0, \"horsepower\": 70.0, \"weight\": 2200, \"acceleration\": 13.2, \"model_year\": 79, \"origin\": \"usa\", \"name\": \"plymouth horizon\"}, {\"mpg\": 34.5, \"cylinders\": 4, \"displacement\": 105.0, \"horsepower\": 70.0, \"weight\": 2150, \"acceleration\": 14.9, \"model_year\": 79, \"origin\": \"usa\", \"name\": \"plymouth horizon tc3\"}, {\"mpg\": 31.8, \"cylinders\": 4, \"displacement\": 85.0, \"horsepower\": 65.0, \"weight\": 2020, \"acceleration\": 19.2, \"model_year\": 79, \"origin\": \"japan\", \"name\": \"datsun 210\"}, {\"mpg\": 37.3, \"cylinders\": 4, \"displacement\": 91.0, \"horsepower\": 69.0, \"weight\": 2130, \"acceleration\": 14.7, \"model_year\": 79, \"origin\": \"europe\", \"name\": \"fiat strada custom\"}, {\"mpg\": 28.4, \"cylinders\": 4, \"displacement\": 151.0, \"horsepower\": 90.0, \"weight\": 2670, \"acceleration\": 16.0, \"model_year\": 79, \"origin\": \"usa\", \"name\": \"buick skylark limited\"}, {\"mpg\": 28.8, \"cylinders\": 6, \"displacement\": 173.0, \"horsepower\": 115.0, \"weight\": 2595, \"acceleration\": 11.3, \"model_year\": 79, \"origin\": \"usa\", \"name\": \"chevrolet citation\"}, {\"mpg\": 26.8, \"cylinders\": 6, \"displacement\": 173.0, \"horsepower\": 115.0, \"weight\": 2700, \"acceleration\": 12.9, \"model_year\": 79, \"origin\": \"usa\", \"name\": \"oldsmobile omega brougham\"}, {\"mpg\": 33.5, \"cylinders\": 4, \"displacement\": 151.0, \"horsepower\": 90.0, \"weight\": 2556, \"acceleration\": 13.2, \"model_year\": 79, \"origin\": \"usa\", \"name\": \"pontiac phoenix\"}, {\"mpg\": 41.5, \"cylinders\": 4, \"displacement\": 98.0, \"horsepower\": 76.0, \"weight\": 2144, \"acceleration\": 14.7, \"model_year\": 80, \"origin\": \"europe\", \"name\": \"vw rabbit\"}, {\"mpg\": 38.1, \"cylinders\": 4, \"displacement\": 89.0, \"horsepower\": 60.0, \"weight\": 1968, \"acceleration\": 18.8, \"model_year\": 80, \"origin\": \"japan\", \"name\": \"toyota corolla tercel\"}, {\"mpg\": 32.1, \"cylinders\": 4, \"displacement\": 98.0, \"horsepower\": 70.0, \"weight\": 2120, \"acceleration\": 15.5, \"model_year\": 80, \"origin\": \"usa\", \"name\": \"chevrolet chevette\"}, {\"mpg\": 37.2, \"cylinders\": 4, \"displacement\": 86.0, \"horsepower\": 65.0, \"weight\": 2019, \"acceleration\": 16.4, \"model_year\": 80, \"origin\": \"japan\", \"name\": \"datsun 310\"}, {\"mpg\": 28.0, \"cylinders\": 4, \"displacement\": 151.0, \"horsepower\": 90.0, \"weight\": 2678, \"acceleration\": 16.5, \"model_year\": 80, \"origin\": \"usa\", \"name\": \"chevrolet citation\"}, {\"mpg\": 26.4, \"cylinders\": 4, \"displacement\": 140.0, \"horsepower\": 88.0, \"weight\": 2870, \"acceleration\": 18.1, \"model_year\": 80, \"origin\": \"usa\", \"name\": \"ford fairmont\"}, {\"mpg\": 24.3, \"cylinders\": 4, \"displacement\": 151.0, \"horsepower\": 90.0, \"weight\": 3003, \"acceleration\": 20.1, \"model_year\": 80, \"origin\": \"usa\", \"name\": \"amc concord\"}, {\"mpg\": 19.1, \"cylinders\": 6, \"displacement\": 225.0, \"horsepower\": 90.0, \"weight\": 3381, \"acceleration\": 18.7, \"model_year\": 80, \"origin\": \"usa\", \"name\": \"dodge aspen\"}, {\"mpg\": 34.3, \"cylinders\": 4, \"displacement\": 97.0, \"horsepower\": 78.0, \"weight\": 2188, \"acceleration\": 15.8, \"model_year\": 80, \"origin\": \"europe\", \"name\": \"audi 4000\"}, {\"mpg\": 29.8, \"cylinders\": 4, \"displacement\": 134.0, \"horsepower\": 90.0, \"weight\": 2711, \"acceleration\": 15.5, \"model_year\": 80, \"origin\": \"japan\", \"name\": \"toyota corona liftback\"}, {\"mpg\": 31.3, \"cylinders\": 4, \"displacement\": 120.0, \"horsepower\": 75.0, \"weight\": 2542, \"acceleration\": 17.5, \"model_year\": 80, \"origin\": \"japan\", \"name\": \"mazda 626\"}, {\"mpg\": 37.0, \"cylinders\": 4, \"displacement\": 119.0, \"horsepower\": 92.0, \"weight\": 2434, \"acceleration\": 15.0, \"model_year\": 80, \"origin\": \"japan\", \"name\": \"datsun 510 hatchback\"}, {\"mpg\": 32.2, \"cylinders\": 4, \"displacement\": 108.0, \"horsepower\": 75.0, \"weight\": 2265, \"acceleration\": 15.2, \"model_year\": 80, \"origin\": \"japan\", \"name\": \"toyota corolla\"}, {\"mpg\": 46.6, \"cylinders\": 4, \"displacement\": 86.0, \"horsepower\": 65.0, \"weight\": 2110, \"acceleration\": 17.9, \"model_year\": 80, \"origin\": \"japan\", \"name\": \"mazda glc\"}, {\"mpg\": 27.9, \"cylinders\": 4, \"displacement\": 156.0, \"horsepower\": 105.0, \"weight\": 2800, \"acceleration\": 14.4, \"model_year\": 80, \"origin\": \"usa\", \"name\": \"dodge colt\"}, {\"mpg\": 40.8, \"cylinders\": 4, \"displacement\": 85.0, \"horsepower\": 65.0, \"weight\": 2110, \"acceleration\": 19.2, \"model_year\": 80, \"origin\": \"japan\", \"name\": \"datsun 210\"}, {\"mpg\": 44.3, \"cylinders\": 4, \"displacement\": 90.0, \"horsepower\": 48.0, \"weight\": 2085, \"acceleration\": 21.7, \"model_year\": 80, \"origin\": \"europe\", \"name\": \"vw rabbit c (diesel)\"}, {\"mpg\": 43.4, \"cylinders\": 4, \"displacement\": 90.0, \"horsepower\": 48.0, \"weight\": 2335, \"acceleration\": 23.7, \"model_year\": 80, \"origin\": \"europe\", \"name\": \"vw dasher (diesel)\"}, {\"mpg\": 36.4, \"cylinders\": 5, \"displacement\": 121.0, \"horsepower\": 67.0, \"weight\": 2950, \"acceleration\": 19.9, \"model_year\": 80, \"origin\": \"europe\", \"name\": \"audi 5000s (diesel)\"}, {\"mpg\": 30.0, \"cylinders\": 4, \"displacement\": 146.0, \"horsepower\": 67.0, \"weight\": 3250, \"acceleration\": 21.8, \"model_year\": 80, \"origin\": \"europe\", \"name\": \"mercedes-benz 240d\"}, {\"mpg\": 44.6, \"cylinders\": 4, \"displacement\": 91.0, \"horsepower\": 67.0, \"weight\": 1850, \"acceleration\": 13.8, \"model_year\": 80, \"origin\": \"japan\", \"name\": \"honda civic 1500 gl\"}, {\"mpg\": 40.9, \"cylinders\": 4, \"displacement\": 85.0, \"horsepower\": null, \"weight\": 1835, \"acceleration\": 17.3, \"model_year\": 80, \"origin\": \"europe\", \"name\": \"renault lecar deluxe\"}, {\"mpg\": 33.8, \"cylinders\": 4, \"displacement\": 97.0, \"horsepower\": 67.0, \"weight\": 2145, \"acceleration\": 18.0, \"model_year\": 80, \"origin\": \"japan\", \"name\": \"subaru dl\"}, {\"mpg\": 29.8, \"cylinders\": 4, \"displacement\": 89.0, \"horsepower\": 62.0, \"weight\": 1845, \"acceleration\": 15.3, \"model_year\": 80, \"origin\": \"europe\", \"name\": \"vokswagen rabbit\"}, {\"mpg\": 32.7, \"cylinders\": 6, \"displacement\": 168.0, \"horsepower\": 132.0, \"weight\": 2910, \"acceleration\": 11.4, \"model_year\": 80, \"origin\": \"japan\", \"name\": \"datsun 280-zx\"}, {\"mpg\": 23.7, \"cylinders\": 3, \"displacement\": 70.0, \"horsepower\": 100.0, \"weight\": 2420, \"acceleration\": 12.5, \"model_year\": 80, \"origin\": \"japan\", \"name\": \"mazda rx-7 gs\"}, {\"mpg\": 35.0, \"cylinders\": 4, \"displacement\": 122.0, \"horsepower\": 88.0, \"weight\": 2500, \"acceleration\": 15.1, \"model_year\": 80, \"origin\": \"europe\", \"name\": \"triumph tr7 coupe\"}, {\"mpg\": 23.6, \"cylinders\": 4, \"displacement\": 140.0, \"horsepower\": null, \"weight\": 2905, \"acceleration\": 14.3, \"model_year\": 80, \"origin\": \"usa\", \"name\": \"ford mustang cobra\"}, {\"mpg\": 32.4, \"cylinders\": 4, \"displacement\": 107.0, \"horsepower\": 72.0, \"weight\": 2290, \"acceleration\": 17.0, \"model_year\": 80, \"origin\": \"japan\", \"name\": \"honda accord\"}, {\"mpg\": 27.2, \"cylinders\": 4, \"displacement\": 135.0, \"horsepower\": 84.0, \"weight\": 2490, \"acceleration\": 15.7, \"model_year\": 81, \"origin\": \"usa\", \"name\": \"plymouth reliant\"}, {\"mpg\": 26.6, \"cylinders\": 4, \"displacement\": 151.0, \"horsepower\": 84.0, \"weight\": 2635, \"acceleration\": 16.4, \"model_year\": 81, \"origin\": \"usa\", \"name\": \"buick skylark\"}, {\"mpg\": 25.8, \"cylinders\": 4, \"displacement\": 156.0, \"horsepower\": 92.0, \"weight\": 2620, \"acceleration\": 14.4, \"model_year\": 81, \"origin\": \"usa\", \"name\": \"dodge aries wagon (sw)\"}, {\"mpg\": 23.5, \"cylinders\": 6, \"displacement\": 173.0, \"horsepower\": 110.0, \"weight\": 2725, \"acceleration\": 12.6, \"model_year\": 81, \"origin\": \"usa\", \"name\": \"chevrolet citation\"}, {\"mpg\": 30.0, \"cylinders\": 4, \"displacement\": 135.0, \"horsepower\": 84.0, \"weight\": 2385, \"acceleration\": 12.9, \"model_year\": 81, \"origin\": \"usa\", \"name\": \"plymouth reliant\"}, {\"mpg\": 39.1, \"cylinders\": 4, \"displacement\": 79.0, \"horsepower\": 58.0, \"weight\": 1755, \"acceleration\": 16.9, \"model_year\": 81, \"origin\": \"japan\", \"name\": \"toyota starlet\"}, {\"mpg\": 39.0, \"cylinders\": 4, \"displacement\": 86.0, \"horsepower\": 64.0, \"weight\": 1875, \"acceleration\": 16.4, \"model_year\": 81, \"origin\": \"usa\", \"name\": \"plymouth champ\"}, {\"mpg\": 35.1, \"cylinders\": 4, \"displacement\": 81.0, \"horsepower\": 60.0, \"weight\": 1760, \"acceleration\": 16.1, \"model_year\": 81, \"origin\": \"japan\", \"name\": \"honda civic 1300\"}, {\"mpg\": 32.3, \"cylinders\": 4, \"displacement\": 97.0, \"horsepower\": 67.0, \"weight\": 2065, \"acceleration\": 17.8, \"model_year\": 81, \"origin\": \"japan\", \"name\": \"subaru\"}, {\"mpg\": 37.0, \"cylinders\": 4, \"displacement\": 85.0, \"horsepower\": 65.0, \"weight\": 1975, \"acceleration\": 19.4, \"model_year\": 81, \"origin\": \"japan\", \"name\": \"datsun 210 mpg\"}, {\"mpg\": 37.7, \"cylinders\": 4, \"displacement\": 89.0, \"horsepower\": 62.0, \"weight\": 2050, \"acceleration\": 17.3, \"model_year\": 81, \"origin\": \"japan\", \"name\": \"toyota tercel\"}, {\"mpg\": 34.1, \"cylinders\": 4, \"displacement\": 91.0, \"horsepower\": 68.0, \"weight\": 1985, \"acceleration\": 16.0, \"model_year\": 81, \"origin\": \"japan\", \"name\": \"mazda glc 4\"}, {\"mpg\": 34.7, \"cylinders\": 4, \"displacement\": 105.0, \"horsepower\": 63.0, \"weight\": 2215, \"acceleration\": 14.9, \"model_year\": 81, \"origin\": \"usa\", \"name\": \"plymouth horizon 4\"}, {\"mpg\": 34.4, \"cylinders\": 4, \"displacement\": 98.0, \"horsepower\": 65.0, \"weight\": 2045, \"acceleration\": 16.2, \"model_year\": 81, \"origin\": \"usa\", \"name\": \"ford escort 4w\"}, {\"mpg\": 29.9, \"cylinders\": 4, \"displacement\": 98.0, \"horsepower\": 65.0, \"weight\": 2380, \"acceleration\": 20.7, \"model_year\": 81, \"origin\": \"usa\", \"name\": \"ford escort 2h\"}, {\"mpg\": 33.0, \"cylinders\": 4, \"displacement\": 105.0, \"horsepower\": 74.0, \"weight\": 2190, \"acceleration\": 14.2, \"model_year\": 81, \"origin\": \"europe\", \"name\": \"volkswagen jetta\"}, {\"mpg\": 34.5, \"cylinders\": 4, \"displacement\": 100.0, \"horsepower\": null, \"weight\": 2320, \"acceleration\": 15.8, \"model_year\": 81, \"origin\": \"europe\", \"name\": \"renault 18i\"}, {\"mpg\": 33.7, \"cylinders\": 4, \"displacement\": 107.0, \"horsepower\": 75.0, \"weight\": 2210, \"acceleration\": 14.4, \"model_year\": 81, \"origin\": \"japan\", \"name\": \"honda prelude\"}, {\"mpg\": 32.4, \"cylinders\": 4, \"displacement\": 108.0, \"horsepower\": 75.0, \"weight\": 2350, \"acceleration\": 16.8, \"model_year\": 81, \"origin\": \"japan\", \"name\": \"toyota corolla\"}, {\"mpg\": 32.9, \"cylinders\": 4, \"displacement\": 119.0, \"horsepower\": 100.0, \"weight\": 2615, \"acceleration\": 14.8, \"model_year\": 81, \"origin\": \"japan\", \"name\": \"datsun 200sx\"}, {\"mpg\": 31.6, \"cylinders\": 4, \"displacement\": 120.0, \"horsepower\": 74.0, \"weight\": 2635, \"acceleration\": 18.3, \"model_year\": 81, \"origin\": \"japan\", \"name\": \"mazda 626\"}, {\"mpg\": 28.1, \"cylinders\": 4, \"displacement\": 141.0, \"horsepower\": 80.0, \"weight\": 3230, \"acceleration\": 20.4, \"model_year\": 81, \"origin\": \"europe\", \"name\": \"peugeot 505s turbo diesel\"}, {\"mpg\": 30.7, \"cylinders\": 6, \"displacement\": 145.0, \"horsepower\": 76.0, \"weight\": 3160, \"acceleration\": 19.6, \"model_year\": 81, \"origin\": \"europe\", \"name\": \"volvo diesel\"}, {\"mpg\": 25.4, \"cylinders\": 6, \"displacement\": 168.0, \"horsepower\": 116.0, \"weight\": 2900, \"acceleration\": 12.6, \"model_year\": 81, \"origin\": \"japan\", \"name\": \"toyota cressida\"}, {\"mpg\": 24.2, \"cylinders\": 6, \"displacement\": 146.0, \"horsepower\": 120.0, \"weight\": 2930, \"acceleration\": 13.8, \"model_year\": 81, \"origin\": \"japan\", \"name\": \"datsun 810 maxima\"}, {\"mpg\": 22.4, \"cylinders\": 6, \"displacement\": 231.0, \"horsepower\": 110.0, \"weight\": 3415, \"acceleration\": 15.8, \"model_year\": 81, \"origin\": \"usa\", \"name\": \"buick century\"}, {\"mpg\": 26.6, \"cylinders\": 8, \"displacement\": 350.0, \"horsepower\": 105.0, \"weight\": 3725, \"acceleration\": 19.0, \"model_year\": 81, \"origin\": \"usa\", \"name\": \"oldsmobile cutlass ls\"}, {\"mpg\": 20.2, \"cylinders\": 6, \"displacement\": 200.0, \"horsepower\": 88.0, \"weight\": 3060, \"acceleration\": 17.1, \"model_year\": 81, \"origin\": \"usa\", \"name\": \"ford granada gl\"}, {\"mpg\": 17.6, \"cylinders\": 6, \"displacement\": 225.0, \"horsepower\": 85.0, \"weight\": 3465, \"acceleration\": 16.6, \"model_year\": 81, \"origin\": \"usa\", \"name\": \"chrysler lebaron salon\"}, {\"mpg\": 28.0, \"cylinders\": 4, \"displacement\": 112.0, \"horsepower\": 88.0, \"weight\": 2605, \"acceleration\": 19.6, \"model_year\": 82, \"origin\": \"usa\", \"name\": \"chevrolet cavalier\"}, {\"mpg\": 27.0, \"cylinders\": 4, \"displacement\": 112.0, \"horsepower\": 88.0, \"weight\": 2640, \"acceleration\": 18.6, \"model_year\": 82, \"origin\": \"usa\", \"name\": \"chevrolet cavalier wagon\"}, {\"mpg\": 34.0, \"cylinders\": 4, \"displacement\": 112.0, \"horsepower\": 88.0, \"weight\": 2395, \"acceleration\": 18.0, \"model_year\": 82, \"origin\": \"usa\", \"name\": \"chevrolet cavalier 2-door\"}, {\"mpg\": 31.0, \"cylinders\": 4, \"displacement\": 112.0, \"horsepower\": 85.0, \"weight\": 2575, \"acceleration\": 16.2, \"model_year\": 82, \"origin\": \"usa\", \"name\": \"pontiac j2000 se hatchback\"}, {\"mpg\": 29.0, \"cylinders\": 4, \"displacement\": 135.0, \"horsepower\": 84.0, \"weight\": 2525, \"acceleration\": 16.0, \"model_year\": 82, \"origin\": \"usa\", \"name\": \"dodge aries se\"}, {\"mpg\": 27.0, \"cylinders\": 4, \"displacement\": 151.0, \"horsepower\": 90.0, \"weight\": 2735, \"acceleration\": 18.0, \"model_year\": 82, \"origin\": \"usa\", \"name\": \"pontiac phoenix\"}, {\"mpg\": 24.0, \"cylinders\": 4, \"displacement\": 140.0, \"horsepower\": 92.0, \"weight\": 2865, \"acceleration\": 16.4, \"model_year\": 82, \"origin\": \"usa\", \"name\": \"ford fairmont futura\"}, {\"mpg\": 23.0, \"cylinders\": 4, \"displacement\": 151.0, \"horsepower\": null, \"weight\": 3035, \"acceleration\": 20.5, \"model_year\": 82, \"origin\": \"usa\", \"name\": \"amc concord dl\"}, {\"mpg\": 36.0, \"cylinders\": 4, \"displacement\": 105.0, \"horsepower\": 74.0, \"weight\": 1980, \"acceleration\": 15.3, \"model_year\": 82, \"origin\": \"europe\", \"name\": \"volkswagen rabbit l\"}, {\"mpg\": 37.0, \"cylinders\": 4, \"displacement\": 91.0, \"horsepower\": 68.0, \"weight\": 2025, \"acceleration\": 18.2, \"model_year\": 82, \"origin\": \"japan\", \"name\": \"mazda glc custom l\"}, {\"mpg\": 31.0, \"cylinders\": 4, \"displacement\": 91.0, \"horsepower\": 68.0, \"weight\": 1970, \"acceleration\": 17.6, \"model_year\": 82, \"origin\": \"japan\", \"name\": \"mazda glc custom\"}, {\"mpg\": 38.0, \"cylinders\": 4, \"displacement\": 105.0, \"horsepower\": 63.0, \"weight\": 2125, \"acceleration\": 14.7, \"model_year\": 82, \"origin\": \"usa\", \"name\": \"plymouth horizon miser\"}, {\"mpg\": 36.0, \"cylinders\": 4, \"displacement\": 98.0, \"horsepower\": 70.0, \"weight\": 2125, \"acceleration\": 17.3, \"model_year\": 82, \"origin\": \"usa\", \"name\": \"mercury lynx l\"}, {\"mpg\": 36.0, \"cylinders\": 4, \"displacement\": 120.0, \"horsepower\": 88.0, \"weight\": 2160, \"acceleration\": 14.5, \"model_year\": 82, \"origin\": \"japan\", \"name\": \"nissan stanza xe\"}, {\"mpg\": 36.0, \"cylinders\": 4, \"displacement\": 107.0, \"horsepower\": 75.0, \"weight\": 2205, \"acceleration\": 14.5, \"model_year\": 82, \"origin\": \"japan\", \"name\": \"honda accord\"}, {\"mpg\": 34.0, \"cylinders\": 4, \"displacement\": 108.0, \"horsepower\": 70.0, \"weight\": 2245, \"acceleration\": 16.9, \"model_year\": 82, \"origin\": \"japan\", \"name\": \"toyota corolla\"}, {\"mpg\": 38.0, \"cylinders\": 4, \"displacement\": 91.0, \"horsepower\": 67.0, \"weight\": 1965, \"acceleration\": 15.0, \"model_year\": 82, \"origin\": \"japan\", \"name\": \"honda civic\"}, {\"mpg\": 32.0, \"cylinders\": 4, \"displacement\": 91.0, \"horsepower\": 67.0, \"weight\": 1965, \"acceleration\": 15.7, \"model_year\": 82, \"origin\": \"japan\", \"name\": \"honda civic (auto)\"}, {\"mpg\": 38.0, \"cylinders\": 4, \"displacement\": 91.0, \"horsepower\": 67.0, \"weight\": 1995, \"acceleration\": 16.2, \"model_year\": 82, \"origin\": \"japan\", \"name\": \"datsun 310 gx\"}, {\"mpg\": 25.0, \"cylinders\": 6, \"displacement\": 181.0, \"horsepower\": 110.0, \"weight\": 2945, \"acceleration\": 16.4, \"model_year\": 82, \"origin\": \"usa\", \"name\": \"buick century limited\"}, {\"mpg\": 38.0, \"cylinders\": 6, \"displacement\": 262.0, \"horsepower\": 85.0, \"weight\": 3015, \"acceleration\": 17.0, \"model_year\": 82, \"origin\": \"usa\", \"name\": \"oldsmobile cutlass ciera (diesel)\"}, {\"mpg\": 26.0, \"cylinders\": 4, \"displacement\": 156.0, \"horsepower\": 92.0, \"weight\": 2585, \"acceleration\": 14.5, \"model_year\": 82, \"origin\": \"usa\", \"name\": \"chrysler lebaron medallion\"}, {\"mpg\": 22.0, \"cylinders\": 6, \"displacement\": 232.0, \"horsepower\": 112.0, \"weight\": 2835, \"acceleration\": 14.7, \"model_year\": 82, \"origin\": \"usa\", \"name\": \"ford granada l\"}, {\"mpg\": 32.0, \"cylinders\": 4, \"displacement\": 144.0, \"horsepower\": 96.0, \"weight\": 2665, \"acceleration\": 13.9, \"model_year\": 82, \"origin\": \"japan\", \"name\": \"toyota celica gt\"}, {\"mpg\": 36.0, \"cylinders\": 4, \"displacement\": 135.0, \"horsepower\": 84.0, \"weight\": 2370, \"acceleration\": 13.0, \"model_year\": 82, \"origin\": \"usa\", \"name\": \"dodge charger 2.2\"}, {\"mpg\": 27.0, \"cylinders\": 4, \"displacement\": 151.0, \"horsepower\": 90.0, \"weight\": 2950, \"acceleration\": 17.3, \"model_year\": 82, \"origin\": \"usa\", \"name\": \"chevrolet camaro\"}, {\"mpg\": 27.0, \"cylinders\": 4, \"displacement\": 140.0, \"horsepower\": 86.0, \"weight\": 2790, \"acceleration\": 15.6, \"model_year\": 82, \"origin\": \"usa\", \"name\": \"ford mustang gl\"}, {\"mpg\": 44.0, \"cylinders\": 4, \"displacement\": 97.0, \"horsepower\": 52.0, \"weight\": 2130, \"acceleration\": 24.6, \"model_year\": 82, \"origin\": \"europe\", \"name\": \"vw pickup\"}, {\"mpg\": 32.0, \"cylinders\": 4, \"displacement\": 135.0, \"horsepower\": 84.0, \"weight\": 2295, \"acceleration\": 11.6, \"model_year\": 82, \"origin\": \"usa\", \"name\": \"dodge rampage\"}, {\"mpg\": 28.0, \"cylinders\": 4, \"displacement\": 120.0, \"horsepower\": 79.0, \"weight\": 2625, \"acceleration\": 18.6, \"model_year\": 82, \"origin\": \"usa\", \"name\": \"ford ranger\"}, {\"mpg\": 31.0, \"cylinders\": 4, \"displacement\": 119.0, \"horsepower\": 82.0, \"weight\": 2720, \"acceleration\": 19.4, \"model_year\": 82, \"origin\": \"usa\", \"name\": \"chevy s-10\"}]}}, {\"mode\": \"vega-lite\"});\n",
       "</script>"
      ],
      "text/plain": [
       "alt.Chart(...)"
      ]
     },
     "execution_count": 46,
     "metadata": {},
     "output_type": "execute_result"
    }
   ],
   "source": [
    "alt.Chart(df).mark_circle().encode(\n",
    "    x=\"weight\"\n",
    ")"
   ]
  },
  {
   "cell_type": "code",
   "execution_count": 47,
   "metadata": {
    "cell_id": "dc4790a47d9c480cbcb21f5d5096b84f",
    "deepnote_cell_type": "code",
    "deepnote_to_be_reexecuted": false,
    "execution_millis": 166,
    "execution_start": 1692225022457,
    "source_hash": "f3fd27b3"
   },
   "outputs": [
    {
     "data": {
      "text/html": [
       "\n",
       "<style>\n",
       "  #altair-viz-63e522af67d44428bcc9231647b0c955.vega-embed {\n",
       "    width: 100%;\n",
       "    display: flex;\n",
       "  }\n",
       "\n",
       "  #altair-viz-63e522af67d44428bcc9231647b0c955.vega-embed details,\n",
       "  #altair-viz-63e522af67d44428bcc9231647b0c955.vega-embed details summary {\n",
       "    position: relative;\n",
       "  }\n",
       "</style>\n",
       "<div id=\"altair-viz-63e522af67d44428bcc9231647b0c955\"></div>\n",
       "<script type=\"text/javascript\">\n",
       "  var VEGA_DEBUG = (typeof VEGA_DEBUG == \"undefined\") ? {} : VEGA_DEBUG;\n",
       "  (function(spec, embedOpt){\n",
       "    let outputDiv = document.currentScript.previousElementSibling;\n",
       "    if (outputDiv.id !== \"altair-viz-63e522af67d44428bcc9231647b0c955\") {\n",
       "      outputDiv = document.getElementById(\"altair-viz-63e522af67d44428bcc9231647b0c955\");\n",
       "    }\n",
       "    const paths = {\n",
       "      \"vega\": \"https://cdn.jsdelivr.net/npm/vega@5?noext\",\n",
       "      \"vega-lib\": \"https://cdn.jsdelivr.net/npm/vega-lib?noext\",\n",
       "      \"vega-lite\": \"https://cdn.jsdelivr.net/npm/vega-lite@5.8.0?noext\",\n",
       "      \"vega-embed\": \"https://cdn.jsdelivr.net/npm/vega-embed@6?noext\",\n",
       "    };\n",
       "\n",
       "    function maybeLoadScript(lib, version) {\n",
       "      var key = `${lib.replace(\"-\", \"\")}_version`;\n",
       "      return (VEGA_DEBUG[key] == version) ?\n",
       "        Promise.resolve(paths[lib]) :\n",
       "        new Promise(function(resolve, reject) {\n",
       "          var s = document.createElement('script');\n",
       "          document.getElementsByTagName(\"head\")[0].appendChild(s);\n",
       "          s.async = true;\n",
       "          s.onload = () => {\n",
       "            VEGA_DEBUG[key] = version;\n",
       "            return resolve(paths[lib]);\n",
       "          };\n",
       "          s.onerror = () => reject(`Error loading script: ${paths[lib]}`);\n",
       "          s.src = paths[lib];\n",
       "        });\n",
       "    }\n",
       "\n",
       "    function showError(err) {\n",
       "      outputDiv.innerHTML = `<div class=\"error\" style=\"color:red;\">${err}</div>`;\n",
       "      throw err;\n",
       "    }\n",
       "\n",
       "    function displayChart(vegaEmbed) {\n",
       "      vegaEmbed(outputDiv, spec, embedOpt)\n",
       "        .catch(err => showError(`Javascript Error: ${err.message}<br>This usually means there's a typo in your chart specification. See the javascript console for the full traceback.`));\n",
       "    }\n",
       "\n",
       "    if(typeof define === \"function\" && define.amd) {\n",
       "      requirejs.config({paths});\n",
       "      require([\"vega-embed\"], displayChart, err => showError(`Error loading script: ${err.message}`));\n",
       "    } else {\n",
       "      maybeLoadScript(\"vega\", \"5\")\n",
       "        .then(() => maybeLoadScript(\"vega-lite\", \"5.8.0\"))\n",
       "        .then(() => maybeLoadScript(\"vega-embed\", \"6\"))\n",
       "        .catch(showError)\n",
       "        .then(() => displayChart(vegaEmbed));\n",
       "    }\n",
       "  })({\"config\": {\"view\": {\"continuousWidth\": 300, \"continuousHeight\": 300}}, \"data\": {\"name\": \"data-f1198cc0481ad698d7dc4699e0a3efa7\"}, \"mark\": {\"type\": \"circle\"}, \"encoding\": {\"x\": {\"field\": \"weight\", \"type\": \"quantitative\"}, \"y\": {\"field\": \"mpg\", \"type\": \"quantitative\"}}, \"$schema\": \"https://vega.github.io/schema/vega-lite/v5.8.0.json\", \"datasets\": {\"data-f1198cc0481ad698d7dc4699e0a3efa7\": [{\"mpg\": 18.0, \"cylinders\": 8, \"displacement\": 307.0, \"horsepower\": 130.0, \"weight\": 3504, \"acceleration\": 12.0, \"model_year\": 70, \"origin\": \"usa\", \"name\": \"chevrolet chevelle malibu\"}, {\"mpg\": 15.0, \"cylinders\": 8, \"displacement\": 350.0, \"horsepower\": 165.0, \"weight\": 3693, \"acceleration\": 11.5, \"model_year\": 70, \"origin\": \"usa\", \"name\": \"buick skylark 320\"}, {\"mpg\": 18.0, \"cylinders\": 8, \"displacement\": 318.0, \"horsepower\": 150.0, \"weight\": 3436, \"acceleration\": 11.0, \"model_year\": 70, \"origin\": \"usa\", \"name\": \"plymouth satellite\"}, {\"mpg\": 16.0, \"cylinders\": 8, \"displacement\": 304.0, \"horsepower\": 150.0, \"weight\": 3433, \"acceleration\": 12.0, \"model_year\": 70, \"origin\": \"usa\", \"name\": \"amc rebel sst\"}, {\"mpg\": 17.0, \"cylinders\": 8, \"displacement\": 302.0, \"horsepower\": 140.0, \"weight\": 3449, \"acceleration\": 10.5, \"model_year\": 70, \"origin\": \"usa\", \"name\": \"ford torino\"}, {\"mpg\": 15.0, \"cylinders\": 8, \"displacement\": 429.0, \"horsepower\": 198.0, \"weight\": 4341, \"acceleration\": 10.0, \"model_year\": 70, \"origin\": \"usa\", \"name\": \"ford galaxie 500\"}, {\"mpg\": 14.0, \"cylinders\": 8, \"displacement\": 454.0, \"horsepower\": 220.0, \"weight\": 4354, \"acceleration\": 9.0, \"model_year\": 70, \"origin\": \"usa\", \"name\": \"chevrolet impala\"}, {\"mpg\": 14.0, \"cylinders\": 8, \"displacement\": 440.0, \"horsepower\": 215.0, \"weight\": 4312, \"acceleration\": 8.5, \"model_year\": 70, \"origin\": \"usa\", \"name\": \"plymouth fury iii\"}, {\"mpg\": 14.0, \"cylinders\": 8, \"displacement\": 455.0, \"horsepower\": 225.0, \"weight\": 4425, \"acceleration\": 10.0, \"model_year\": 70, \"origin\": \"usa\", \"name\": \"pontiac catalina\"}, {\"mpg\": 15.0, \"cylinders\": 8, \"displacement\": 390.0, \"horsepower\": 190.0, \"weight\": 3850, \"acceleration\": 8.5, \"model_year\": 70, \"origin\": \"usa\", \"name\": \"amc ambassador dpl\"}, {\"mpg\": 15.0, \"cylinders\": 8, \"displacement\": 383.0, \"horsepower\": 170.0, \"weight\": 3563, \"acceleration\": 10.0, \"model_year\": 70, \"origin\": \"usa\", \"name\": \"dodge challenger se\"}, {\"mpg\": 14.0, \"cylinders\": 8, \"displacement\": 340.0, \"horsepower\": 160.0, \"weight\": 3609, \"acceleration\": 8.0, \"model_year\": 70, \"origin\": \"usa\", \"name\": \"plymouth 'cuda 340\"}, {\"mpg\": 15.0, \"cylinders\": 8, \"displacement\": 400.0, \"horsepower\": 150.0, \"weight\": 3761, \"acceleration\": 9.5, \"model_year\": 70, \"origin\": \"usa\", \"name\": \"chevrolet monte carlo\"}, {\"mpg\": 14.0, \"cylinders\": 8, \"displacement\": 455.0, \"horsepower\": 225.0, \"weight\": 3086, \"acceleration\": 10.0, \"model_year\": 70, \"origin\": \"usa\", \"name\": \"buick estate wagon (sw)\"}, {\"mpg\": 24.0, \"cylinders\": 4, \"displacement\": 113.0, \"horsepower\": 95.0, \"weight\": 2372, \"acceleration\": 15.0, \"model_year\": 70, \"origin\": \"japan\", \"name\": \"toyota corona mark ii\"}, {\"mpg\": 22.0, \"cylinders\": 6, \"displacement\": 198.0, \"horsepower\": 95.0, \"weight\": 2833, \"acceleration\": 15.5, \"model_year\": 70, \"origin\": \"usa\", \"name\": \"plymouth duster\"}, {\"mpg\": 18.0, \"cylinders\": 6, \"displacement\": 199.0, \"horsepower\": 97.0, \"weight\": 2774, \"acceleration\": 15.5, \"model_year\": 70, \"origin\": \"usa\", \"name\": \"amc hornet\"}, {\"mpg\": 21.0, \"cylinders\": 6, \"displacement\": 200.0, \"horsepower\": 85.0, \"weight\": 2587, \"acceleration\": 16.0, \"model_year\": 70, \"origin\": \"usa\", \"name\": \"ford maverick\"}, {\"mpg\": 27.0, \"cylinders\": 4, \"displacement\": 97.0, \"horsepower\": 88.0, \"weight\": 2130, \"acceleration\": 14.5, \"model_year\": 70, \"origin\": \"japan\", \"name\": \"datsun pl510\"}, {\"mpg\": 26.0, \"cylinders\": 4, \"displacement\": 97.0, \"horsepower\": 46.0, \"weight\": 1835, \"acceleration\": 20.5, \"model_year\": 70, \"origin\": \"europe\", \"name\": \"volkswagen 1131 deluxe sedan\"}, {\"mpg\": 25.0, \"cylinders\": 4, \"displacement\": 110.0, \"horsepower\": 87.0, \"weight\": 2672, \"acceleration\": 17.5, \"model_year\": 70, \"origin\": \"europe\", \"name\": \"peugeot 504\"}, {\"mpg\": 24.0, \"cylinders\": 4, \"displacement\": 107.0, \"horsepower\": 90.0, \"weight\": 2430, \"acceleration\": 14.5, \"model_year\": 70, \"origin\": \"europe\", \"name\": \"audi 100 ls\"}, {\"mpg\": 25.0, \"cylinders\": 4, \"displacement\": 104.0, \"horsepower\": 95.0, \"weight\": 2375, \"acceleration\": 17.5, \"model_year\": 70, \"origin\": \"europe\", \"name\": \"saab 99e\"}, {\"mpg\": 26.0, \"cylinders\": 4, \"displacement\": 121.0, \"horsepower\": 113.0, \"weight\": 2234, \"acceleration\": 12.5, \"model_year\": 70, \"origin\": \"europe\", \"name\": \"bmw 2002\"}, {\"mpg\": 21.0, \"cylinders\": 6, \"displacement\": 199.0, \"horsepower\": 90.0, \"weight\": 2648, \"acceleration\": 15.0, \"model_year\": 70, \"origin\": \"usa\", \"name\": \"amc gremlin\"}, {\"mpg\": 10.0, \"cylinders\": 8, \"displacement\": 360.0, \"horsepower\": 215.0, \"weight\": 4615, \"acceleration\": 14.0, \"model_year\": 70, \"origin\": \"usa\", \"name\": \"ford f250\"}, {\"mpg\": 10.0, \"cylinders\": 8, \"displacement\": 307.0, \"horsepower\": 200.0, \"weight\": 4376, \"acceleration\": 15.0, \"model_year\": 70, \"origin\": \"usa\", \"name\": \"chevy c20\"}, {\"mpg\": 11.0, \"cylinders\": 8, \"displacement\": 318.0, \"horsepower\": 210.0, \"weight\": 4382, \"acceleration\": 13.5, \"model_year\": 70, \"origin\": \"usa\", \"name\": \"dodge d200\"}, {\"mpg\": 9.0, \"cylinders\": 8, \"displacement\": 304.0, \"horsepower\": 193.0, \"weight\": 4732, \"acceleration\": 18.5, \"model_year\": 70, \"origin\": \"usa\", \"name\": \"hi 1200d\"}, {\"mpg\": 27.0, \"cylinders\": 4, \"displacement\": 97.0, \"horsepower\": 88.0, \"weight\": 2130, \"acceleration\": 14.5, \"model_year\": 71, \"origin\": \"japan\", \"name\": \"datsun pl510\"}, {\"mpg\": 28.0, \"cylinders\": 4, \"displacement\": 140.0, \"horsepower\": 90.0, \"weight\": 2264, \"acceleration\": 15.5, \"model_year\": 71, \"origin\": \"usa\", \"name\": \"chevrolet vega 2300\"}, {\"mpg\": 25.0, \"cylinders\": 4, \"displacement\": 113.0, \"horsepower\": 95.0, \"weight\": 2228, \"acceleration\": 14.0, \"model_year\": 71, \"origin\": \"japan\", \"name\": \"toyota corona\"}, {\"mpg\": 25.0, \"cylinders\": 4, \"displacement\": 98.0, \"horsepower\": null, \"weight\": 2046, \"acceleration\": 19.0, \"model_year\": 71, \"origin\": \"usa\", \"name\": \"ford pinto\"}, {\"mpg\": 19.0, \"cylinders\": 6, \"displacement\": 232.0, \"horsepower\": 100.0, \"weight\": 2634, \"acceleration\": 13.0, \"model_year\": 71, \"origin\": \"usa\", \"name\": \"amc gremlin\"}, {\"mpg\": 16.0, \"cylinders\": 6, \"displacement\": 225.0, \"horsepower\": 105.0, \"weight\": 3439, \"acceleration\": 15.5, \"model_year\": 71, \"origin\": \"usa\", \"name\": \"plymouth satellite custom\"}, {\"mpg\": 17.0, \"cylinders\": 6, \"displacement\": 250.0, \"horsepower\": 100.0, \"weight\": 3329, \"acceleration\": 15.5, \"model_year\": 71, \"origin\": \"usa\", \"name\": \"chevrolet chevelle malibu\"}, {\"mpg\": 19.0, \"cylinders\": 6, \"displacement\": 250.0, \"horsepower\": 88.0, \"weight\": 3302, \"acceleration\": 15.5, \"model_year\": 71, \"origin\": \"usa\", \"name\": \"ford torino 500\"}, {\"mpg\": 18.0, \"cylinders\": 6, \"displacement\": 232.0, \"horsepower\": 100.0, \"weight\": 3288, \"acceleration\": 15.5, \"model_year\": 71, \"origin\": \"usa\", \"name\": \"amc matador\"}, {\"mpg\": 14.0, \"cylinders\": 8, \"displacement\": 350.0, \"horsepower\": 165.0, \"weight\": 4209, \"acceleration\": 12.0, \"model_year\": 71, \"origin\": \"usa\", \"name\": \"chevrolet impala\"}, {\"mpg\": 14.0, \"cylinders\": 8, \"displacement\": 400.0, \"horsepower\": 175.0, \"weight\": 4464, \"acceleration\": 11.5, \"model_year\": 71, \"origin\": \"usa\", \"name\": \"pontiac catalina brougham\"}, {\"mpg\": 14.0, \"cylinders\": 8, \"displacement\": 351.0, \"horsepower\": 153.0, \"weight\": 4154, \"acceleration\": 13.5, \"model_year\": 71, \"origin\": \"usa\", \"name\": \"ford galaxie 500\"}, {\"mpg\": 14.0, \"cylinders\": 8, \"displacement\": 318.0, \"horsepower\": 150.0, \"weight\": 4096, \"acceleration\": 13.0, \"model_year\": 71, \"origin\": \"usa\", \"name\": \"plymouth fury iii\"}, {\"mpg\": 12.0, \"cylinders\": 8, \"displacement\": 383.0, \"horsepower\": 180.0, \"weight\": 4955, \"acceleration\": 11.5, \"model_year\": 71, \"origin\": \"usa\", \"name\": \"dodge monaco (sw)\"}, {\"mpg\": 13.0, \"cylinders\": 8, \"displacement\": 400.0, \"horsepower\": 170.0, \"weight\": 4746, \"acceleration\": 12.0, \"model_year\": 71, \"origin\": \"usa\", \"name\": \"ford country squire (sw)\"}, {\"mpg\": 13.0, \"cylinders\": 8, \"displacement\": 400.0, \"horsepower\": 175.0, \"weight\": 5140, \"acceleration\": 12.0, \"model_year\": 71, \"origin\": \"usa\", \"name\": \"pontiac safari (sw)\"}, {\"mpg\": 18.0, \"cylinders\": 6, \"displacement\": 258.0, \"horsepower\": 110.0, \"weight\": 2962, \"acceleration\": 13.5, \"model_year\": 71, \"origin\": \"usa\", \"name\": \"amc hornet sportabout (sw)\"}, {\"mpg\": 22.0, \"cylinders\": 4, \"displacement\": 140.0, \"horsepower\": 72.0, \"weight\": 2408, \"acceleration\": 19.0, \"model_year\": 71, \"origin\": \"usa\", \"name\": \"chevrolet vega (sw)\"}, {\"mpg\": 19.0, \"cylinders\": 6, \"displacement\": 250.0, \"horsepower\": 100.0, \"weight\": 3282, \"acceleration\": 15.0, \"model_year\": 71, \"origin\": \"usa\", \"name\": \"pontiac firebird\"}, {\"mpg\": 18.0, \"cylinders\": 6, \"displacement\": 250.0, \"horsepower\": 88.0, \"weight\": 3139, \"acceleration\": 14.5, \"model_year\": 71, \"origin\": \"usa\", \"name\": \"ford mustang\"}, {\"mpg\": 23.0, \"cylinders\": 4, \"displacement\": 122.0, \"horsepower\": 86.0, \"weight\": 2220, \"acceleration\": 14.0, \"model_year\": 71, \"origin\": \"usa\", \"name\": \"mercury capri 2000\"}, {\"mpg\": 28.0, \"cylinders\": 4, \"displacement\": 116.0, \"horsepower\": 90.0, \"weight\": 2123, \"acceleration\": 14.0, \"model_year\": 71, \"origin\": \"europe\", \"name\": \"opel 1900\"}, {\"mpg\": 30.0, \"cylinders\": 4, \"displacement\": 79.0, \"horsepower\": 70.0, \"weight\": 2074, \"acceleration\": 19.5, \"model_year\": 71, \"origin\": \"europe\", \"name\": \"peugeot 304\"}, {\"mpg\": 30.0, \"cylinders\": 4, \"displacement\": 88.0, \"horsepower\": 76.0, \"weight\": 2065, \"acceleration\": 14.5, \"model_year\": 71, \"origin\": \"europe\", \"name\": \"fiat 124b\"}, {\"mpg\": 31.0, \"cylinders\": 4, \"displacement\": 71.0, \"horsepower\": 65.0, \"weight\": 1773, \"acceleration\": 19.0, \"model_year\": 71, \"origin\": \"japan\", \"name\": \"toyota corolla 1200\"}, {\"mpg\": 35.0, \"cylinders\": 4, \"displacement\": 72.0, \"horsepower\": 69.0, \"weight\": 1613, \"acceleration\": 18.0, \"model_year\": 71, \"origin\": \"japan\", \"name\": \"datsun 1200\"}, {\"mpg\": 27.0, \"cylinders\": 4, \"displacement\": 97.0, \"horsepower\": 60.0, \"weight\": 1834, \"acceleration\": 19.0, \"model_year\": 71, \"origin\": \"europe\", \"name\": \"volkswagen model 111\"}, {\"mpg\": 26.0, \"cylinders\": 4, \"displacement\": 91.0, \"horsepower\": 70.0, \"weight\": 1955, \"acceleration\": 20.5, \"model_year\": 71, \"origin\": \"usa\", \"name\": \"plymouth cricket\"}, {\"mpg\": 24.0, \"cylinders\": 4, \"displacement\": 113.0, \"horsepower\": 95.0, \"weight\": 2278, \"acceleration\": 15.5, \"model_year\": 72, \"origin\": \"japan\", \"name\": \"toyota corona hardtop\"}, {\"mpg\": 25.0, \"cylinders\": 4, \"displacement\": 97.5, \"horsepower\": 80.0, \"weight\": 2126, \"acceleration\": 17.0, \"model_year\": 72, \"origin\": \"usa\", \"name\": \"dodge colt hardtop\"}, {\"mpg\": 23.0, \"cylinders\": 4, \"displacement\": 97.0, \"horsepower\": 54.0, \"weight\": 2254, \"acceleration\": 23.5, \"model_year\": 72, \"origin\": \"europe\", \"name\": \"volkswagen type 3\"}, {\"mpg\": 20.0, \"cylinders\": 4, \"displacement\": 140.0, \"horsepower\": 90.0, \"weight\": 2408, \"acceleration\": 19.5, \"model_year\": 72, \"origin\": \"usa\", \"name\": \"chevrolet vega\"}, {\"mpg\": 21.0, \"cylinders\": 4, \"displacement\": 122.0, \"horsepower\": 86.0, \"weight\": 2226, \"acceleration\": 16.5, \"model_year\": 72, \"origin\": \"usa\", \"name\": \"ford pinto runabout\"}, {\"mpg\": 13.0, \"cylinders\": 8, \"displacement\": 350.0, \"horsepower\": 165.0, \"weight\": 4274, \"acceleration\": 12.0, \"model_year\": 72, \"origin\": \"usa\", \"name\": \"chevrolet impala\"}, {\"mpg\": 14.0, \"cylinders\": 8, \"displacement\": 400.0, \"horsepower\": 175.0, \"weight\": 4385, \"acceleration\": 12.0, \"model_year\": 72, \"origin\": \"usa\", \"name\": \"pontiac catalina\"}, {\"mpg\": 15.0, \"cylinders\": 8, \"displacement\": 318.0, \"horsepower\": 150.0, \"weight\": 4135, \"acceleration\": 13.5, \"model_year\": 72, \"origin\": \"usa\", \"name\": \"plymouth fury iii\"}, {\"mpg\": 14.0, \"cylinders\": 8, \"displacement\": 351.0, \"horsepower\": 153.0, \"weight\": 4129, \"acceleration\": 13.0, \"model_year\": 72, \"origin\": \"usa\", \"name\": \"ford galaxie 500\"}, {\"mpg\": 17.0, \"cylinders\": 8, \"displacement\": 304.0, \"horsepower\": 150.0, \"weight\": 3672, \"acceleration\": 11.5, \"model_year\": 72, \"origin\": \"usa\", \"name\": \"amc ambassador sst\"}, {\"mpg\": 11.0, \"cylinders\": 8, \"displacement\": 429.0, \"horsepower\": 208.0, \"weight\": 4633, \"acceleration\": 11.0, \"model_year\": 72, \"origin\": \"usa\", \"name\": \"mercury marquis\"}, {\"mpg\": 13.0, \"cylinders\": 8, \"displacement\": 350.0, \"horsepower\": 155.0, \"weight\": 4502, \"acceleration\": 13.5, \"model_year\": 72, \"origin\": \"usa\", \"name\": \"buick lesabre custom\"}, {\"mpg\": 12.0, \"cylinders\": 8, \"displacement\": 350.0, \"horsepower\": 160.0, \"weight\": 4456, \"acceleration\": 13.5, \"model_year\": 72, \"origin\": \"usa\", \"name\": \"oldsmobile delta 88 royale\"}, {\"mpg\": 13.0, \"cylinders\": 8, \"displacement\": 400.0, \"horsepower\": 190.0, \"weight\": 4422, \"acceleration\": 12.5, \"model_year\": 72, \"origin\": \"usa\", \"name\": \"chrysler newport royal\"}, {\"mpg\": 19.0, \"cylinders\": 3, \"displacement\": 70.0, \"horsepower\": 97.0, \"weight\": 2330, \"acceleration\": 13.5, \"model_year\": 72, \"origin\": \"japan\", \"name\": \"mazda rx2 coupe\"}, {\"mpg\": 15.0, \"cylinders\": 8, \"displacement\": 304.0, \"horsepower\": 150.0, \"weight\": 3892, \"acceleration\": 12.5, \"model_year\": 72, \"origin\": \"usa\", \"name\": \"amc matador (sw)\"}, {\"mpg\": 13.0, \"cylinders\": 8, \"displacement\": 307.0, \"horsepower\": 130.0, \"weight\": 4098, \"acceleration\": 14.0, \"model_year\": 72, \"origin\": \"usa\", \"name\": \"chevrolet chevelle concours (sw)\"}, {\"mpg\": 13.0, \"cylinders\": 8, \"displacement\": 302.0, \"horsepower\": 140.0, \"weight\": 4294, \"acceleration\": 16.0, \"model_year\": 72, \"origin\": \"usa\", \"name\": \"ford gran torino (sw)\"}, {\"mpg\": 14.0, \"cylinders\": 8, \"displacement\": 318.0, \"horsepower\": 150.0, \"weight\": 4077, \"acceleration\": 14.0, \"model_year\": 72, \"origin\": \"usa\", \"name\": \"plymouth satellite custom (sw)\"}, {\"mpg\": 18.0, \"cylinders\": 4, \"displacement\": 121.0, \"horsepower\": 112.0, \"weight\": 2933, \"acceleration\": 14.5, \"model_year\": 72, \"origin\": \"europe\", \"name\": \"volvo 145e (sw)\"}, {\"mpg\": 22.0, \"cylinders\": 4, \"displacement\": 121.0, \"horsepower\": 76.0, \"weight\": 2511, \"acceleration\": 18.0, \"model_year\": 72, \"origin\": \"europe\", \"name\": \"volkswagen 411 (sw)\"}, {\"mpg\": 21.0, \"cylinders\": 4, \"displacement\": 120.0, \"horsepower\": 87.0, \"weight\": 2979, \"acceleration\": 19.5, \"model_year\": 72, \"origin\": \"europe\", \"name\": \"peugeot 504 (sw)\"}, {\"mpg\": 26.0, \"cylinders\": 4, \"displacement\": 96.0, \"horsepower\": 69.0, \"weight\": 2189, \"acceleration\": 18.0, \"model_year\": 72, \"origin\": \"europe\", \"name\": \"renault 12 (sw)\"}, {\"mpg\": 22.0, \"cylinders\": 4, \"displacement\": 122.0, \"horsepower\": 86.0, \"weight\": 2395, \"acceleration\": 16.0, \"model_year\": 72, \"origin\": \"usa\", \"name\": \"ford pinto (sw)\"}, {\"mpg\": 28.0, \"cylinders\": 4, \"displacement\": 97.0, \"horsepower\": 92.0, \"weight\": 2288, \"acceleration\": 17.0, \"model_year\": 72, \"origin\": \"japan\", \"name\": \"datsun 510 (sw)\"}, {\"mpg\": 23.0, \"cylinders\": 4, \"displacement\": 120.0, \"horsepower\": 97.0, \"weight\": 2506, \"acceleration\": 14.5, \"model_year\": 72, \"origin\": \"japan\", \"name\": \"toyouta corona mark ii (sw)\"}, {\"mpg\": 28.0, \"cylinders\": 4, \"displacement\": 98.0, \"horsepower\": 80.0, \"weight\": 2164, \"acceleration\": 15.0, \"model_year\": 72, \"origin\": \"usa\", \"name\": \"dodge colt (sw)\"}, {\"mpg\": 27.0, \"cylinders\": 4, \"displacement\": 97.0, \"horsepower\": 88.0, \"weight\": 2100, \"acceleration\": 16.5, \"model_year\": 72, \"origin\": \"japan\", \"name\": \"toyota corolla 1600 (sw)\"}, {\"mpg\": 13.0, \"cylinders\": 8, \"displacement\": 350.0, \"horsepower\": 175.0, \"weight\": 4100, \"acceleration\": 13.0, \"model_year\": 73, \"origin\": \"usa\", \"name\": \"buick century 350\"}, {\"mpg\": 14.0, \"cylinders\": 8, \"displacement\": 304.0, \"horsepower\": 150.0, \"weight\": 3672, \"acceleration\": 11.5, \"model_year\": 73, \"origin\": \"usa\", \"name\": \"amc matador\"}, {\"mpg\": 13.0, \"cylinders\": 8, \"displacement\": 350.0, \"horsepower\": 145.0, \"weight\": 3988, \"acceleration\": 13.0, \"model_year\": 73, \"origin\": \"usa\", \"name\": \"chevrolet malibu\"}, {\"mpg\": 14.0, \"cylinders\": 8, \"displacement\": 302.0, \"horsepower\": 137.0, \"weight\": 4042, \"acceleration\": 14.5, \"model_year\": 73, \"origin\": \"usa\", \"name\": \"ford gran torino\"}, {\"mpg\": 15.0, \"cylinders\": 8, \"displacement\": 318.0, \"horsepower\": 150.0, \"weight\": 3777, \"acceleration\": 12.5, \"model_year\": 73, \"origin\": \"usa\", \"name\": \"dodge coronet custom\"}, {\"mpg\": 12.0, \"cylinders\": 8, \"displacement\": 429.0, \"horsepower\": 198.0, \"weight\": 4952, \"acceleration\": 11.5, \"model_year\": 73, \"origin\": \"usa\", \"name\": \"mercury marquis brougham\"}, {\"mpg\": 13.0, \"cylinders\": 8, \"displacement\": 400.0, \"horsepower\": 150.0, \"weight\": 4464, \"acceleration\": 12.0, \"model_year\": 73, \"origin\": \"usa\", \"name\": \"chevrolet caprice classic\"}, {\"mpg\": 13.0, \"cylinders\": 8, \"displacement\": 351.0, \"horsepower\": 158.0, \"weight\": 4363, \"acceleration\": 13.0, \"model_year\": 73, \"origin\": \"usa\", \"name\": \"ford ltd\"}, {\"mpg\": 14.0, \"cylinders\": 8, \"displacement\": 318.0, \"horsepower\": 150.0, \"weight\": 4237, \"acceleration\": 14.5, \"model_year\": 73, \"origin\": \"usa\", \"name\": \"plymouth fury gran sedan\"}, {\"mpg\": 13.0, \"cylinders\": 8, \"displacement\": 440.0, \"horsepower\": 215.0, \"weight\": 4735, \"acceleration\": 11.0, \"model_year\": 73, \"origin\": \"usa\", \"name\": \"chrysler new yorker brougham\"}, {\"mpg\": 12.0, \"cylinders\": 8, \"displacement\": 455.0, \"horsepower\": 225.0, \"weight\": 4951, \"acceleration\": 11.0, \"model_year\": 73, \"origin\": \"usa\", \"name\": \"buick electra 225 custom\"}, {\"mpg\": 13.0, \"cylinders\": 8, \"displacement\": 360.0, \"horsepower\": 175.0, \"weight\": 3821, \"acceleration\": 11.0, \"model_year\": 73, \"origin\": \"usa\", \"name\": \"amc ambassador brougham\"}, {\"mpg\": 18.0, \"cylinders\": 6, \"displacement\": 225.0, \"horsepower\": 105.0, \"weight\": 3121, \"acceleration\": 16.5, \"model_year\": 73, \"origin\": \"usa\", \"name\": \"plymouth valiant\"}, {\"mpg\": 16.0, \"cylinders\": 6, \"displacement\": 250.0, \"horsepower\": 100.0, \"weight\": 3278, \"acceleration\": 18.0, \"model_year\": 73, \"origin\": \"usa\", \"name\": \"chevrolet nova custom\"}, {\"mpg\": 18.0, \"cylinders\": 6, \"displacement\": 232.0, \"horsepower\": 100.0, \"weight\": 2945, \"acceleration\": 16.0, \"model_year\": 73, \"origin\": \"usa\", \"name\": \"amc hornet\"}, {\"mpg\": 18.0, \"cylinders\": 6, \"displacement\": 250.0, \"horsepower\": 88.0, \"weight\": 3021, \"acceleration\": 16.5, \"model_year\": 73, \"origin\": \"usa\", \"name\": \"ford maverick\"}, {\"mpg\": 23.0, \"cylinders\": 6, \"displacement\": 198.0, \"horsepower\": 95.0, \"weight\": 2904, \"acceleration\": 16.0, \"model_year\": 73, \"origin\": \"usa\", \"name\": \"plymouth duster\"}, {\"mpg\": 26.0, \"cylinders\": 4, \"displacement\": 97.0, \"horsepower\": 46.0, \"weight\": 1950, \"acceleration\": 21.0, \"model_year\": 73, \"origin\": \"europe\", \"name\": \"volkswagen super beetle\"}, {\"mpg\": 11.0, \"cylinders\": 8, \"displacement\": 400.0, \"horsepower\": 150.0, \"weight\": 4997, \"acceleration\": 14.0, \"model_year\": 73, \"origin\": \"usa\", \"name\": \"chevrolet impala\"}, {\"mpg\": 12.0, \"cylinders\": 8, \"displacement\": 400.0, \"horsepower\": 167.0, \"weight\": 4906, \"acceleration\": 12.5, \"model_year\": 73, \"origin\": \"usa\", \"name\": \"ford country\"}, {\"mpg\": 13.0, \"cylinders\": 8, \"displacement\": 360.0, \"horsepower\": 170.0, \"weight\": 4654, \"acceleration\": 13.0, \"model_year\": 73, \"origin\": \"usa\", \"name\": \"plymouth custom suburb\"}, {\"mpg\": 12.0, \"cylinders\": 8, \"displacement\": 350.0, \"horsepower\": 180.0, \"weight\": 4499, \"acceleration\": 12.5, \"model_year\": 73, \"origin\": \"usa\", \"name\": \"oldsmobile vista cruiser\"}, {\"mpg\": 18.0, \"cylinders\": 6, \"displacement\": 232.0, \"horsepower\": 100.0, \"weight\": 2789, \"acceleration\": 15.0, \"model_year\": 73, \"origin\": \"usa\", \"name\": \"amc gremlin\"}, {\"mpg\": 20.0, \"cylinders\": 4, \"displacement\": 97.0, \"horsepower\": 88.0, \"weight\": 2279, \"acceleration\": 19.0, \"model_year\": 73, \"origin\": \"japan\", \"name\": \"toyota carina\"}, {\"mpg\": 21.0, \"cylinders\": 4, \"displacement\": 140.0, \"horsepower\": 72.0, \"weight\": 2401, \"acceleration\": 19.5, \"model_year\": 73, \"origin\": \"usa\", \"name\": \"chevrolet vega\"}, {\"mpg\": 22.0, \"cylinders\": 4, \"displacement\": 108.0, \"horsepower\": 94.0, \"weight\": 2379, \"acceleration\": 16.5, \"model_year\": 73, \"origin\": \"japan\", \"name\": \"datsun 610\"}, {\"mpg\": 18.0, \"cylinders\": 3, \"displacement\": 70.0, \"horsepower\": 90.0, \"weight\": 2124, \"acceleration\": 13.5, \"model_year\": 73, \"origin\": \"japan\", \"name\": \"maxda rx3\"}, {\"mpg\": 19.0, \"cylinders\": 4, \"displacement\": 122.0, \"horsepower\": 85.0, \"weight\": 2310, \"acceleration\": 18.5, \"model_year\": 73, \"origin\": \"usa\", \"name\": \"ford pinto\"}, {\"mpg\": 21.0, \"cylinders\": 6, \"displacement\": 155.0, \"horsepower\": 107.0, \"weight\": 2472, \"acceleration\": 14.0, \"model_year\": 73, \"origin\": \"usa\", \"name\": \"mercury capri v6\"}, {\"mpg\": 26.0, \"cylinders\": 4, \"displacement\": 98.0, \"horsepower\": 90.0, \"weight\": 2265, \"acceleration\": 15.5, \"model_year\": 73, \"origin\": \"europe\", \"name\": \"fiat 124 sport coupe\"}, {\"mpg\": 15.0, \"cylinders\": 8, \"displacement\": 350.0, \"horsepower\": 145.0, \"weight\": 4082, \"acceleration\": 13.0, \"model_year\": 73, \"origin\": \"usa\", \"name\": \"chevrolet monte carlo s\"}, {\"mpg\": 16.0, \"cylinders\": 8, \"displacement\": 400.0, \"horsepower\": 230.0, \"weight\": 4278, \"acceleration\": 9.5, \"model_year\": 73, \"origin\": \"usa\", \"name\": \"pontiac grand prix\"}, {\"mpg\": 29.0, \"cylinders\": 4, \"displacement\": 68.0, \"horsepower\": 49.0, \"weight\": 1867, \"acceleration\": 19.5, \"model_year\": 73, \"origin\": \"europe\", \"name\": \"fiat 128\"}, {\"mpg\": 24.0, \"cylinders\": 4, \"displacement\": 116.0, \"horsepower\": 75.0, \"weight\": 2158, \"acceleration\": 15.5, \"model_year\": 73, \"origin\": \"europe\", \"name\": \"opel manta\"}, {\"mpg\": 20.0, \"cylinders\": 4, \"displacement\": 114.0, \"horsepower\": 91.0, \"weight\": 2582, \"acceleration\": 14.0, \"model_year\": 73, \"origin\": \"europe\", \"name\": \"audi 100ls\"}, {\"mpg\": 19.0, \"cylinders\": 4, \"displacement\": 121.0, \"horsepower\": 112.0, \"weight\": 2868, \"acceleration\": 15.5, \"model_year\": 73, \"origin\": \"europe\", \"name\": \"volvo 144ea\"}, {\"mpg\": 15.0, \"cylinders\": 8, \"displacement\": 318.0, \"horsepower\": 150.0, \"weight\": 3399, \"acceleration\": 11.0, \"model_year\": 73, \"origin\": \"usa\", \"name\": \"dodge dart custom\"}, {\"mpg\": 24.0, \"cylinders\": 4, \"displacement\": 121.0, \"horsepower\": 110.0, \"weight\": 2660, \"acceleration\": 14.0, \"model_year\": 73, \"origin\": \"europe\", \"name\": \"saab 99le\"}, {\"mpg\": 20.0, \"cylinders\": 6, \"displacement\": 156.0, \"horsepower\": 122.0, \"weight\": 2807, \"acceleration\": 13.5, \"model_year\": 73, \"origin\": \"japan\", \"name\": \"toyota mark ii\"}, {\"mpg\": 11.0, \"cylinders\": 8, \"displacement\": 350.0, \"horsepower\": 180.0, \"weight\": 3664, \"acceleration\": 11.0, \"model_year\": 73, \"origin\": \"usa\", \"name\": \"oldsmobile omega\"}, {\"mpg\": 20.0, \"cylinders\": 6, \"displacement\": 198.0, \"horsepower\": 95.0, \"weight\": 3102, \"acceleration\": 16.5, \"model_year\": 74, \"origin\": \"usa\", \"name\": \"plymouth duster\"}, {\"mpg\": 21.0, \"cylinders\": 6, \"displacement\": 200.0, \"horsepower\": null, \"weight\": 2875, \"acceleration\": 17.0, \"model_year\": 74, \"origin\": \"usa\", \"name\": \"ford maverick\"}, {\"mpg\": 19.0, \"cylinders\": 6, \"displacement\": 232.0, \"horsepower\": 100.0, \"weight\": 2901, \"acceleration\": 16.0, \"model_year\": 74, \"origin\": \"usa\", \"name\": \"amc hornet\"}, {\"mpg\": 15.0, \"cylinders\": 6, \"displacement\": 250.0, \"horsepower\": 100.0, \"weight\": 3336, \"acceleration\": 17.0, \"model_year\": 74, \"origin\": \"usa\", \"name\": \"chevrolet nova\"}, {\"mpg\": 31.0, \"cylinders\": 4, \"displacement\": 79.0, \"horsepower\": 67.0, \"weight\": 1950, \"acceleration\": 19.0, \"model_year\": 74, \"origin\": \"japan\", \"name\": \"datsun b210\"}, {\"mpg\": 26.0, \"cylinders\": 4, \"displacement\": 122.0, \"horsepower\": 80.0, \"weight\": 2451, \"acceleration\": 16.5, \"model_year\": 74, \"origin\": \"usa\", \"name\": \"ford pinto\"}, {\"mpg\": 32.0, \"cylinders\": 4, \"displacement\": 71.0, \"horsepower\": 65.0, \"weight\": 1836, \"acceleration\": 21.0, \"model_year\": 74, \"origin\": \"japan\", \"name\": \"toyota corolla 1200\"}, {\"mpg\": 25.0, \"cylinders\": 4, \"displacement\": 140.0, \"horsepower\": 75.0, \"weight\": 2542, \"acceleration\": 17.0, \"model_year\": 74, \"origin\": \"usa\", \"name\": \"chevrolet vega\"}, {\"mpg\": 16.0, \"cylinders\": 6, \"displacement\": 250.0, \"horsepower\": 100.0, \"weight\": 3781, \"acceleration\": 17.0, \"model_year\": 74, \"origin\": \"usa\", \"name\": \"chevrolet chevelle malibu classic\"}, {\"mpg\": 16.0, \"cylinders\": 6, \"displacement\": 258.0, \"horsepower\": 110.0, \"weight\": 3632, \"acceleration\": 18.0, \"model_year\": 74, \"origin\": \"usa\", \"name\": \"amc matador\"}, {\"mpg\": 18.0, \"cylinders\": 6, \"displacement\": 225.0, \"horsepower\": 105.0, \"weight\": 3613, \"acceleration\": 16.5, \"model_year\": 74, \"origin\": \"usa\", \"name\": \"plymouth satellite sebring\"}, {\"mpg\": 16.0, \"cylinders\": 8, \"displacement\": 302.0, \"horsepower\": 140.0, \"weight\": 4141, \"acceleration\": 14.0, \"model_year\": 74, \"origin\": \"usa\", \"name\": \"ford gran torino\"}, {\"mpg\": 13.0, \"cylinders\": 8, \"displacement\": 350.0, \"horsepower\": 150.0, \"weight\": 4699, \"acceleration\": 14.5, \"model_year\": 74, \"origin\": \"usa\", \"name\": \"buick century luxus (sw)\"}, {\"mpg\": 14.0, \"cylinders\": 8, \"displacement\": 318.0, \"horsepower\": 150.0, \"weight\": 4457, \"acceleration\": 13.5, \"model_year\": 74, \"origin\": \"usa\", \"name\": \"dodge coronet custom (sw)\"}, {\"mpg\": 14.0, \"cylinders\": 8, \"displacement\": 302.0, \"horsepower\": 140.0, \"weight\": 4638, \"acceleration\": 16.0, \"model_year\": 74, \"origin\": \"usa\", \"name\": \"ford gran torino (sw)\"}, {\"mpg\": 14.0, \"cylinders\": 8, \"displacement\": 304.0, \"horsepower\": 150.0, \"weight\": 4257, \"acceleration\": 15.5, \"model_year\": 74, \"origin\": \"usa\", \"name\": \"amc matador (sw)\"}, {\"mpg\": 29.0, \"cylinders\": 4, \"displacement\": 98.0, \"horsepower\": 83.0, \"weight\": 2219, \"acceleration\": 16.5, \"model_year\": 74, \"origin\": \"europe\", \"name\": \"audi fox\"}, {\"mpg\": 26.0, \"cylinders\": 4, \"displacement\": 79.0, \"horsepower\": 67.0, \"weight\": 1963, \"acceleration\": 15.5, \"model_year\": 74, \"origin\": \"europe\", \"name\": \"volkswagen dasher\"}, {\"mpg\": 26.0, \"cylinders\": 4, \"displacement\": 97.0, \"horsepower\": 78.0, \"weight\": 2300, \"acceleration\": 14.5, \"model_year\": 74, \"origin\": \"europe\", \"name\": \"opel manta\"}, {\"mpg\": 31.0, \"cylinders\": 4, \"displacement\": 76.0, \"horsepower\": 52.0, \"weight\": 1649, \"acceleration\": 16.5, \"model_year\": 74, \"origin\": \"japan\", \"name\": \"toyota corona\"}, {\"mpg\": 32.0, \"cylinders\": 4, \"displacement\": 83.0, \"horsepower\": 61.0, \"weight\": 2003, \"acceleration\": 19.0, \"model_year\": 74, \"origin\": \"japan\", \"name\": \"datsun 710\"}, {\"mpg\": 28.0, \"cylinders\": 4, \"displacement\": 90.0, \"horsepower\": 75.0, \"weight\": 2125, \"acceleration\": 14.5, \"model_year\": 74, \"origin\": \"usa\", \"name\": \"dodge colt\"}, {\"mpg\": 24.0, \"cylinders\": 4, \"displacement\": 90.0, \"horsepower\": 75.0, \"weight\": 2108, \"acceleration\": 15.5, \"model_year\": 74, \"origin\": \"europe\", \"name\": \"fiat 128\"}, {\"mpg\": 26.0, \"cylinders\": 4, \"displacement\": 116.0, \"horsepower\": 75.0, \"weight\": 2246, \"acceleration\": 14.0, \"model_year\": 74, \"origin\": \"europe\", \"name\": \"fiat 124 tc\"}, {\"mpg\": 24.0, \"cylinders\": 4, \"displacement\": 120.0, \"horsepower\": 97.0, \"weight\": 2489, \"acceleration\": 15.0, \"model_year\": 74, \"origin\": \"japan\", \"name\": \"honda civic\"}, {\"mpg\": 26.0, \"cylinders\": 4, \"displacement\": 108.0, \"horsepower\": 93.0, \"weight\": 2391, \"acceleration\": 15.5, \"model_year\": 74, \"origin\": \"japan\", \"name\": \"subaru\"}, {\"mpg\": 31.0, \"cylinders\": 4, \"displacement\": 79.0, \"horsepower\": 67.0, \"weight\": 2000, \"acceleration\": 16.0, \"model_year\": 74, \"origin\": \"europe\", \"name\": \"fiat x1.9\"}, {\"mpg\": 19.0, \"cylinders\": 6, \"displacement\": 225.0, \"horsepower\": 95.0, \"weight\": 3264, \"acceleration\": 16.0, \"model_year\": 75, \"origin\": \"usa\", \"name\": \"plymouth valiant custom\"}, {\"mpg\": 18.0, \"cylinders\": 6, \"displacement\": 250.0, \"horsepower\": 105.0, \"weight\": 3459, \"acceleration\": 16.0, \"model_year\": 75, \"origin\": \"usa\", \"name\": \"chevrolet nova\"}, {\"mpg\": 15.0, \"cylinders\": 6, \"displacement\": 250.0, \"horsepower\": 72.0, \"weight\": 3432, \"acceleration\": 21.0, \"model_year\": 75, \"origin\": \"usa\", \"name\": \"mercury monarch\"}, {\"mpg\": 15.0, \"cylinders\": 6, \"displacement\": 250.0, \"horsepower\": 72.0, \"weight\": 3158, \"acceleration\": 19.5, \"model_year\": 75, \"origin\": \"usa\", \"name\": \"ford maverick\"}, {\"mpg\": 16.0, \"cylinders\": 8, \"displacement\": 400.0, \"horsepower\": 170.0, \"weight\": 4668, \"acceleration\": 11.5, \"model_year\": 75, \"origin\": \"usa\", \"name\": \"pontiac catalina\"}, {\"mpg\": 15.0, \"cylinders\": 8, \"displacement\": 350.0, \"horsepower\": 145.0, \"weight\": 4440, \"acceleration\": 14.0, \"model_year\": 75, \"origin\": \"usa\", \"name\": \"chevrolet bel air\"}, {\"mpg\": 16.0, \"cylinders\": 8, \"displacement\": 318.0, \"horsepower\": 150.0, \"weight\": 4498, \"acceleration\": 14.5, \"model_year\": 75, \"origin\": \"usa\", \"name\": \"plymouth grand fury\"}, {\"mpg\": 14.0, \"cylinders\": 8, \"displacement\": 351.0, \"horsepower\": 148.0, \"weight\": 4657, \"acceleration\": 13.5, \"model_year\": 75, \"origin\": \"usa\", \"name\": \"ford ltd\"}, {\"mpg\": 17.0, \"cylinders\": 6, \"displacement\": 231.0, \"horsepower\": 110.0, \"weight\": 3907, \"acceleration\": 21.0, \"model_year\": 75, \"origin\": \"usa\", \"name\": \"buick century\"}, {\"mpg\": 16.0, \"cylinders\": 6, \"displacement\": 250.0, \"horsepower\": 105.0, \"weight\": 3897, \"acceleration\": 18.5, \"model_year\": 75, \"origin\": \"usa\", \"name\": \"chevroelt chevelle malibu\"}, {\"mpg\": 15.0, \"cylinders\": 6, \"displacement\": 258.0, \"horsepower\": 110.0, \"weight\": 3730, \"acceleration\": 19.0, \"model_year\": 75, \"origin\": \"usa\", \"name\": \"amc matador\"}, {\"mpg\": 18.0, \"cylinders\": 6, \"displacement\": 225.0, \"horsepower\": 95.0, \"weight\": 3785, \"acceleration\": 19.0, \"model_year\": 75, \"origin\": \"usa\", \"name\": \"plymouth fury\"}, {\"mpg\": 21.0, \"cylinders\": 6, \"displacement\": 231.0, \"horsepower\": 110.0, \"weight\": 3039, \"acceleration\": 15.0, \"model_year\": 75, \"origin\": \"usa\", \"name\": \"buick skyhawk\"}, {\"mpg\": 20.0, \"cylinders\": 8, \"displacement\": 262.0, \"horsepower\": 110.0, \"weight\": 3221, \"acceleration\": 13.5, \"model_year\": 75, \"origin\": \"usa\", \"name\": \"chevrolet monza 2+2\"}, {\"mpg\": 13.0, \"cylinders\": 8, \"displacement\": 302.0, \"horsepower\": 129.0, \"weight\": 3169, \"acceleration\": 12.0, \"model_year\": 75, \"origin\": \"usa\", \"name\": \"ford mustang ii\"}, {\"mpg\": 29.0, \"cylinders\": 4, \"displacement\": 97.0, \"horsepower\": 75.0, \"weight\": 2171, \"acceleration\": 16.0, \"model_year\": 75, \"origin\": \"japan\", \"name\": \"toyota corolla\"}, {\"mpg\": 23.0, \"cylinders\": 4, \"displacement\": 140.0, \"horsepower\": 83.0, \"weight\": 2639, \"acceleration\": 17.0, \"model_year\": 75, \"origin\": \"usa\", \"name\": \"ford pinto\"}, {\"mpg\": 20.0, \"cylinders\": 6, \"displacement\": 232.0, \"horsepower\": 100.0, \"weight\": 2914, \"acceleration\": 16.0, \"model_year\": 75, \"origin\": \"usa\", \"name\": \"amc gremlin\"}, {\"mpg\": 23.0, \"cylinders\": 4, \"displacement\": 140.0, \"horsepower\": 78.0, \"weight\": 2592, \"acceleration\": 18.5, \"model_year\": 75, \"origin\": \"usa\", \"name\": \"pontiac astro\"}, {\"mpg\": 24.0, \"cylinders\": 4, \"displacement\": 134.0, \"horsepower\": 96.0, \"weight\": 2702, \"acceleration\": 13.5, \"model_year\": 75, \"origin\": \"japan\", \"name\": \"toyota corona\"}, {\"mpg\": 25.0, \"cylinders\": 4, \"displacement\": 90.0, \"horsepower\": 71.0, \"weight\": 2223, \"acceleration\": 16.5, \"model_year\": 75, \"origin\": \"europe\", \"name\": \"volkswagen dasher\"}, {\"mpg\": 24.0, \"cylinders\": 4, \"displacement\": 119.0, \"horsepower\": 97.0, \"weight\": 2545, \"acceleration\": 17.0, \"model_year\": 75, \"origin\": \"japan\", \"name\": \"datsun 710\"}, {\"mpg\": 18.0, \"cylinders\": 6, \"displacement\": 171.0, \"horsepower\": 97.0, \"weight\": 2984, \"acceleration\": 14.5, \"model_year\": 75, \"origin\": \"usa\", \"name\": \"ford pinto\"}, {\"mpg\": 29.0, \"cylinders\": 4, \"displacement\": 90.0, \"horsepower\": 70.0, \"weight\": 1937, \"acceleration\": 14.0, \"model_year\": 75, \"origin\": \"europe\", \"name\": \"volkswagen rabbit\"}, {\"mpg\": 19.0, \"cylinders\": 6, \"displacement\": 232.0, \"horsepower\": 90.0, \"weight\": 3211, \"acceleration\": 17.0, \"model_year\": 75, \"origin\": \"usa\", \"name\": \"amc pacer\"}, {\"mpg\": 23.0, \"cylinders\": 4, \"displacement\": 115.0, \"horsepower\": 95.0, \"weight\": 2694, \"acceleration\": 15.0, \"model_year\": 75, \"origin\": \"europe\", \"name\": \"audi 100ls\"}, {\"mpg\": 23.0, \"cylinders\": 4, \"displacement\": 120.0, \"horsepower\": 88.0, \"weight\": 2957, \"acceleration\": 17.0, \"model_year\": 75, \"origin\": \"europe\", \"name\": \"peugeot 504\"}, {\"mpg\": 22.0, \"cylinders\": 4, \"displacement\": 121.0, \"horsepower\": 98.0, \"weight\": 2945, \"acceleration\": 14.5, \"model_year\": 75, \"origin\": \"europe\", \"name\": \"volvo 244dl\"}, {\"mpg\": 25.0, \"cylinders\": 4, \"displacement\": 121.0, \"horsepower\": 115.0, \"weight\": 2671, \"acceleration\": 13.5, \"model_year\": 75, \"origin\": \"europe\", \"name\": \"saab 99le\"}, {\"mpg\": 33.0, \"cylinders\": 4, \"displacement\": 91.0, \"horsepower\": 53.0, \"weight\": 1795, \"acceleration\": 17.5, \"model_year\": 75, \"origin\": \"japan\", \"name\": \"honda civic cvcc\"}, {\"mpg\": 28.0, \"cylinders\": 4, \"displacement\": 107.0, \"horsepower\": 86.0, \"weight\": 2464, \"acceleration\": 15.5, \"model_year\": 76, \"origin\": \"europe\", \"name\": \"fiat 131\"}, {\"mpg\": 25.0, \"cylinders\": 4, \"displacement\": 116.0, \"horsepower\": 81.0, \"weight\": 2220, \"acceleration\": 16.9, \"model_year\": 76, \"origin\": \"europe\", \"name\": \"opel 1900\"}, {\"mpg\": 25.0, \"cylinders\": 4, \"displacement\": 140.0, \"horsepower\": 92.0, \"weight\": 2572, \"acceleration\": 14.9, \"model_year\": 76, \"origin\": \"usa\", \"name\": \"capri ii\"}, {\"mpg\": 26.0, \"cylinders\": 4, \"displacement\": 98.0, \"horsepower\": 79.0, \"weight\": 2255, \"acceleration\": 17.7, \"model_year\": 76, \"origin\": \"usa\", \"name\": \"dodge colt\"}, {\"mpg\": 27.0, \"cylinders\": 4, \"displacement\": 101.0, \"horsepower\": 83.0, \"weight\": 2202, \"acceleration\": 15.3, \"model_year\": 76, \"origin\": \"europe\", \"name\": \"renault 12tl\"}, {\"mpg\": 17.5, \"cylinders\": 8, \"displacement\": 305.0, \"horsepower\": 140.0, \"weight\": 4215, \"acceleration\": 13.0, \"model_year\": 76, \"origin\": \"usa\", \"name\": \"chevrolet chevelle malibu classic\"}, {\"mpg\": 16.0, \"cylinders\": 8, \"displacement\": 318.0, \"horsepower\": 150.0, \"weight\": 4190, \"acceleration\": 13.0, \"model_year\": 76, \"origin\": \"usa\", \"name\": \"dodge coronet brougham\"}, {\"mpg\": 15.5, \"cylinders\": 8, \"displacement\": 304.0, \"horsepower\": 120.0, \"weight\": 3962, \"acceleration\": 13.9, \"model_year\": 76, \"origin\": \"usa\", \"name\": \"amc matador\"}, {\"mpg\": 14.5, \"cylinders\": 8, \"displacement\": 351.0, \"horsepower\": 152.0, \"weight\": 4215, \"acceleration\": 12.8, \"model_year\": 76, \"origin\": \"usa\", \"name\": \"ford gran torino\"}, {\"mpg\": 22.0, \"cylinders\": 6, \"displacement\": 225.0, \"horsepower\": 100.0, \"weight\": 3233, \"acceleration\": 15.4, \"model_year\": 76, \"origin\": \"usa\", \"name\": \"plymouth valiant\"}, {\"mpg\": 22.0, \"cylinders\": 6, \"displacement\": 250.0, \"horsepower\": 105.0, \"weight\": 3353, \"acceleration\": 14.5, \"model_year\": 76, \"origin\": \"usa\", \"name\": \"chevrolet nova\"}, {\"mpg\": 24.0, \"cylinders\": 6, \"displacement\": 200.0, \"horsepower\": 81.0, \"weight\": 3012, \"acceleration\": 17.6, \"model_year\": 76, \"origin\": \"usa\", \"name\": \"ford maverick\"}, {\"mpg\": 22.5, \"cylinders\": 6, \"displacement\": 232.0, \"horsepower\": 90.0, \"weight\": 3085, \"acceleration\": 17.6, \"model_year\": 76, \"origin\": \"usa\", \"name\": \"amc hornet\"}, {\"mpg\": 29.0, \"cylinders\": 4, \"displacement\": 85.0, \"horsepower\": 52.0, \"weight\": 2035, \"acceleration\": 22.2, \"model_year\": 76, \"origin\": \"usa\", \"name\": \"chevrolet chevette\"}, {\"mpg\": 24.5, \"cylinders\": 4, \"displacement\": 98.0, \"horsepower\": 60.0, \"weight\": 2164, \"acceleration\": 22.1, \"model_year\": 76, \"origin\": \"usa\", \"name\": \"chevrolet woody\"}, {\"mpg\": 29.0, \"cylinders\": 4, \"displacement\": 90.0, \"horsepower\": 70.0, \"weight\": 1937, \"acceleration\": 14.2, \"model_year\": 76, \"origin\": \"europe\", \"name\": \"vw rabbit\"}, {\"mpg\": 33.0, \"cylinders\": 4, \"displacement\": 91.0, \"horsepower\": 53.0, \"weight\": 1795, \"acceleration\": 17.4, \"model_year\": 76, \"origin\": \"japan\", \"name\": \"honda civic\"}, {\"mpg\": 20.0, \"cylinders\": 6, \"displacement\": 225.0, \"horsepower\": 100.0, \"weight\": 3651, \"acceleration\": 17.7, \"model_year\": 76, \"origin\": \"usa\", \"name\": \"dodge aspen se\"}, {\"mpg\": 18.0, \"cylinders\": 6, \"displacement\": 250.0, \"horsepower\": 78.0, \"weight\": 3574, \"acceleration\": 21.0, \"model_year\": 76, \"origin\": \"usa\", \"name\": \"ford granada ghia\"}, {\"mpg\": 18.5, \"cylinders\": 6, \"displacement\": 250.0, \"horsepower\": 110.0, \"weight\": 3645, \"acceleration\": 16.2, \"model_year\": 76, \"origin\": \"usa\", \"name\": \"pontiac ventura sj\"}, {\"mpg\": 17.5, \"cylinders\": 6, \"displacement\": 258.0, \"horsepower\": 95.0, \"weight\": 3193, \"acceleration\": 17.8, \"model_year\": 76, \"origin\": \"usa\", \"name\": \"amc pacer d/l\"}, {\"mpg\": 29.5, \"cylinders\": 4, \"displacement\": 97.0, \"horsepower\": 71.0, \"weight\": 1825, \"acceleration\": 12.2, \"model_year\": 76, \"origin\": \"europe\", \"name\": \"volkswagen rabbit\"}, {\"mpg\": 32.0, \"cylinders\": 4, \"displacement\": 85.0, \"horsepower\": 70.0, \"weight\": 1990, \"acceleration\": 17.0, \"model_year\": 76, \"origin\": \"japan\", \"name\": \"datsun b-210\"}, {\"mpg\": 28.0, \"cylinders\": 4, \"displacement\": 97.0, \"horsepower\": 75.0, \"weight\": 2155, \"acceleration\": 16.4, \"model_year\": 76, \"origin\": \"japan\", \"name\": \"toyota corolla\"}, {\"mpg\": 26.5, \"cylinders\": 4, \"displacement\": 140.0, \"horsepower\": 72.0, \"weight\": 2565, \"acceleration\": 13.6, \"model_year\": 76, \"origin\": \"usa\", \"name\": \"ford pinto\"}, {\"mpg\": 20.0, \"cylinders\": 4, \"displacement\": 130.0, \"horsepower\": 102.0, \"weight\": 3150, \"acceleration\": 15.7, \"model_year\": 76, \"origin\": \"europe\", \"name\": \"volvo 245\"}, {\"mpg\": 13.0, \"cylinders\": 8, \"displacement\": 318.0, \"horsepower\": 150.0, \"weight\": 3940, \"acceleration\": 13.2, \"model_year\": 76, \"origin\": \"usa\", \"name\": \"plymouth volare premier v8\"}, {\"mpg\": 19.0, \"cylinders\": 4, \"displacement\": 120.0, \"horsepower\": 88.0, \"weight\": 3270, \"acceleration\": 21.9, \"model_year\": 76, \"origin\": \"europe\", \"name\": \"peugeot 504\"}, {\"mpg\": 19.0, \"cylinders\": 6, \"displacement\": 156.0, \"horsepower\": 108.0, \"weight\": 2930, \"acceleration\": 15.5, \"model_year\": 76, \"origin\": \"japan\", \"name\": \"toyota mark ii\"}, {\"mpg\": 16.5, \"cylinders\": 6, \"displacement\": 168.0, \"horsepower\": 120.0, \"weight\": 3820, \"acceleration\": 16.7, \"model_year\": 76, \"origin\": \"europe\", \"name\": \"mercedes-benz 280s\"}, {\"mpg\": 16.5, \"cylinders\": 8, \"displacement\": 350.0, \"horsepower\": 180.0, \"weight\": 4380, \"acceleration\": 12.1, \"model_year\": 76, \"origin\": \"usa\", \"name\": \"cadillac seville\"}, {\"mpg\": 13.0, \"cylinders\": 8, \"displacement\": 350.0, \"horsepower\": 145.0, \"weight\": 4055, \"acceleration\": 12.0, \"model_year\": 76, \"origin\": \"usa\", \"name\": \"chevy c10\"}, {\"mpg\": 13.0, \"cylinders\": 8, \"displacement\": 302.0, \"horsepower\": 130.0, \"weight\": 3870, \"acceleration\": 15.0, \"model_year\": 76, \"origin\": \"usa\", \"name\": \"ford f108\"}, {\"mpg\": 13.0, \"cylinders\": 8, \"displacement\": 318.0, \"horsepower\": 150.0, \"weight\": 3755, \"acceleration\": 14.0, \"model_year\": 76, \"origin\": \"usa\", \"name\": \"dodge d100\"}, {\"mpg\": 31.5, \"cylinders\": 4, \"displacement\": 98.0, \"horsepower\": 68.0, \"weight\": 2045, \"acceleration\": 18.5, \"model_year\": 77, \"origin\": \"japan\", \"name\": \"honda accord cvcc\"}, {\"mpg\": 30.0, \"cylinders\": 4, \"displacement\": 111.0, \"horsepower\": 80.0, \"weight\": 2155, \"acceleration\": 14.8, \"model_year\": 77, \"origin\": \"usa\", \"name\": \"buick opel isuzu deluxe\"}, {\"mpg\": 36.0, \"cylinders\": 4, \"displacement\": 79.0, \"horsepower\": 58.0, \"weight\": 1825, \"acceleration\": 18.6, \"model_year\": 77, \"origin\": \"europe\", \"name\": \"renault 5 gtl\"}, {\"mpg\": 25.5, \"cylinders\": 4, \"displacement\": 122.0, \"horsepower\": 96.0, \"weight\": 2300, \"acceleration\": 15.5, \"model_year\": 77, \"origin\": \"usa\", \"name\": \"plymouth arrow gs\"}, {\"mpg\": 33.5, \"cylinders\": 4, \"displacement\": 85.0, \"horsepower\": 70.0, \"weight\": 1945, \"acceleration\": 16.8, \"model_year\": 77, \"origin\": \"japan\", \"name\": \"datsun f-10 hatchback\"}, {\"mpg\": 17.5, \"cylinders\": 8, \"displacement\": 305.0, \"horsepower\": 145.0, \"weight\": 3880, \"acceleration\": 12.5, \"model_year\": 77, \"origin\": \"usa\", \"name\": \"chevrolet caprice classic\"}, {\"mpg\": 17.0, \"cylinders\": 8, \"displacement\": 260.0, \"horsepower\": 110.0, \"weight\": 4060, \"acceleration\": 19.0, \"model_year\": 77, \"origin\": \"usa\", \"name\": \"oldsmobile cutlass supreme\"}, {\"mpg\": 15.5, \"cylinders\": 8, \"displacement\": 318.0, \"horsepower\": 145.0, \"weight\": 4140, \"acceleration\": 13.7, \"model_year\": 77, \"origin\": \"usa\", \"name\": \"dodge monaco brougham\"}, {\"mpg\": 15.0, \"cylinders\": 8, \"displacement\": 302.0, \"horsepower\": 130.0, \"weight\": 4295, \"acceleration\": 14.9, \"model_year\": 77, \"origin\": \"usa\", \"name\": \"mercury cougar brougham\"}, {\"mpg\": 17.5, \"cylinders\": 6, \"displacement\": 250.0, \"horsepower\": 110.0, \"weight\": 3520, \"acceleration\": 16.4, \"model_year\": 77, \"origin\": \"usa\", \"name\": \"chevrolet concours\"}, {\"mpg\": 20.5, \"cylinders\": 6, \"displacement\": 231.0, \"horsepower\": 105.0, \"weight\": 3425, \"acceleration\": 16.9, \"model_year\": 77, \"origin\": \"usa\", \"name\": \"buick skylark\"}, {\"mpg\": 19.0, \"cylinders\": 6, \"displacement\": 225.0, \"horsepower\": 100.0, \"weight\": 3630, \"acceleration\": 17.7, \"model_year\": 77, \"origin\": \"usa\", \"name\": \"plymouth volare custom\"}, {\"mpg\": 18.5, \"cylinders\": 6, \"displacement\": 250.0, \"horsepower\": 98.0, \"weight\": 3525, \"acceleration\": 19.0, \"model_year\": 77, \"origin\": \"usa\", \"name\": \"ford granada\"}, {\"mpg\": 16.0, \"cylinders\": 8, \"displacement\": 400.0, \"horsepower\": 180.0, \"weight\": 4220, \"acceleration\": 11.1, \"model_year\": 77, \"origin\": \"usa\", \"name\": \"pontiac grand prix lj\"}, {\"mpg\": 15.5, \"cylinders\": 8, \"displacement\": 350.0, \"horsepower\": 170.0, \"weight\": 4165, \"acceleration\": 11.4, \"model_year\": 77, \"origin\": \"usa\", \"name\": \"chevrolet monte carlo landau\"}, {\"mpg\": 15.5, \"cylinders\": 8, \"displacement\": 400.0, \"horsepower\": 190.0, \"weight\": 4325, \"acceleration\": 12.2, \"model_year\": 77, \"origin\": \"usa\", \"name\": \"chrysler cordoba\"}, {\"mpg\": 16.0, \"cylinders\": 8, \"displacement\": 351.0, \"horsepower\": 149.0, \"weight\": 4335, \"acceleration\": 14.5, \"model_year\": 77, \"origin\": \"usa\", \"name\": \"ford thunderbird\"}, {\"mpg\": 29.0, \"cylinders\": 4, \"displacement\": 97.0, \"horsepower\": 78.0, \"weight\": 1940, \"acceleration\": 14.5, \"model_year\": 77, \"origin\": \"europe\", \"name\": \"volkswagen rabbit custom\"}, {\"mpg\": 24.5, \"cylinders\": 4, \"displacement\": 151.0, \"horsepower\": 88.0, \"weight\": 2740, \"acceleration\": 16.0, \"model_year\": 77, \"origin\": \"usa\", \"name\": \"pontiac sunbird coupe\"}, {\"mpg\": 26.0, \"cylinders\": 4, \"displacement\": 97.0, \"horsepower\": 75.0, \"weight\": 2265, \"acceleration\": 18.2, \"model_year\": 77, \"origin\": \"japan\", \"name\": \"toyota corolla liftback\"}, {\"mpg\": 25.5, \"cylinders\": 4, \"displacement\": 140.0, \"horsepower\": 89.0, \"weight\": 2755, \"acceleration\": 15.8, \"model_year\": 77, \"origin\": \"usa\", \"name\": \"ford mustang ii 2+2\"}, {\"mpg\": 30.5, \"cylinders\": 4, \"displacement\": 98.0, \"horsepower\": 63.0, \"weight\": 2051, \"acceleration\": 17.0, \"model_year\": 77, \"origin\": \"usa\", \"name\": \"chevrolet chevette\"}, {\"mpg\": 33.5, \"cylinders\": 4, \"displacement\": 98.0, \"horsepower\": 83.0, \"weight\": 2075, \"acceleration\": 15.9, \"model_year\": 77, \"origin\": \"usa\", \"name\": \"dodge colt m/m\"}, {\"mpg\": 30.0, \"cylinders\": 4, \"displacement\": 97.0, \"horsepower\": 67.0, \"weight\": 1985, \"acceleration\": 16.4, \"model_year\": 77, \"origin\": \"japan\", \"name\": \"subaru dl\"}, {\"mpg\": 30.5, \"cylinders\": 4, \"displacement\": 97.0, \"horsepower\": 78.0, \"weight\": 2190, \"acceleration\": 14.1, \"model_year\": 77, \"origin\": \"europe\", \"name\": \"volkswagen dasher\"}, {\"mpg\": 22.0, \"cylinders\": 6, \"displacement\": 146.0, \"horsepower\": 97.0, \"weight\": 2815, \"acceleration\": 14.5, \"model_year\": 77, \"origin\": \"japan\", \"name\": \"datsun 810\"}, {\"mpg\": 21.5, \"cylinders\": 4, \"displacement\": 121.0, \"horsepower\": 110.0, \"weight\": 2600, \"acceleration\": 12.8, \"model_year\": 77, \"origin\": \"europe\", \"name\": \"bmw 320i\"}, {\"mpg\": 21.5, \"cylinders\": 3, \"displacement\": 80.0, \"horsepower\": 110.0, \"weight\": 2720, \"acceleration\": 13.5, \"model_year\": 77, \"origin\": \"japan\", \"name\": \"mazda rx-4\"}, {\"mpg\": 43.1, \"cylinders\": 4, \"displacement\": 90.0, \"horsepower\": 48.0, \"weight\": 1985, \"acceleration\": 21.5, \"model_year\": 78, \"origin\": \"europe\", \"name\": \"volkswagen rabbit custom diesel\"}, {\"mpg\": 36.1, \"cylinders\": 4, \"displacement\": 98.0, \"horsepower\": 66.0, \"weight\": 1800, \"acceleration\": 14.4, \"model_year\": 78, \"origin\": \"usa\", \"name\": \"ford fiesta\"}, {\"mpg\": 32.8, \"cylinders\": 4, \"displacement\": 78.0, \"horsepower\": 52.0, \"weight\": 1985, \"acceleration\": 19.4, \"model_year\": 78, \"origin\": \"japan\", \"name\": \"mazda glc deluxe\"}, {\"mpg\": 39.4, \"cylinders\": 4, \"displacement\": 85.0, \"horsepower\": 70.0, \"weight\": 2070, \"acceleration\": 18.6, \"model_year\": 78, \"origin\": \"japan\", \"name\": \"datsun b210 gx\"}, {\"mpg\": 36.1, \"cylinders\": 4, \"displacement\": 91.0, \"horsepower\": 60.0, \"weight\": 1800, \"acceleration\": 16.4, \"model_year\": 78, \"origin\": \"japan\", \"name\": \"honda civic cvcc\"}, {\"mpg\": 19.9, \"cylinders\": 8, \"displacement\": 260.0, \"horsepower\": 110.0, \"weight\": 3365, \"acceleration\": 15.5, \"model_year\": 78, \"origin\": \"usa\", \"name\": \"oldsmobile cutlass salon brougham\"}, {\"mpg\": 19.4, \"cylinders\": 8, \"displacement\": 318.0, \"horsepower\": 140.0, \"weight\": 3735, \"acceleration\": 13.2, \"model_year\": 78, \"origin\": \"usa\", \"name\": \"dodge diplomat\"}, {\"mpg\": 20.2, \"cylinders\": 8, \"displacement\": 302.0, \"horsepower\": 139.0, \"weight\": 3570, \"acceleration\": 12.8, \"model_year\": 78, \"origin\": \"usa\", \"name\": \"mercury monarch ghia\"}, {\"mpg\": 19.2, \"cylinders\": 6, \"displacement\": 231.0, \"horsepower\": 105.0, \"weight\": 3535, \"acceleration\": 19.2, \"model_year\": 78, \"origin\": \"usa\", \"name\": \"pontiac phoenix lj\"}, {\"mpg\": 20.5, \"cylinders\": 6, \"displacement\": 200.0, \"horsepower\": 95.0, \"weight\": 3155, \"acceleration\": 18.2, \"model_year\": 78, \"origin\": \"usa\", \"name\": \"chevrolet malibu\"}, {\"mpg\": 20.2, \"cylinders\": 6, \"displacement\": 200.0, \"horsepower\": 85.0, \"weight\": 2965, \"acceleration\": 15.8, \"model_year\": 78, \"origin\": \"usa\", \"name\": \"ford fairmont (auto)\"}, {\"mpg\": 25.1, \"cylinders\": 4, \"displacement\": 140.0, \"horsepower\": 88.0, \"weight\": 2720, \"acceleration\": 15.4, \"model_year\": 78, \"origin\": \"usa\", \"name\": \"ford fairmont (man)\"}, {\"mpg\": 20.5, \"cylinders\": 6, \"displacement\": 225.0, \"horsepower\": 100.0, \"weight\": 3430, \"acceleration\": 17.2, \"model_year\": 78, \"origin\": \"usa\", \"name\": \"plymouth volare\"}, {\"mpg\": 19.4, \"cylinders\": 6, \"displacement\": 232.0, \"horsepower\": 90.0, \"weight\": 3210, \"acceleration\": 17.2, \"model_year\": 78, \"origin\": \"usa\", \"name\": \"amc concord\"}, {\"mpg\": 20.6, \"cylinders\": 6, \"displacement\": 231.0, \"horsepower\": 105.0, \"weight\": 3380, \"acceleration\": 15.8, \"model_year\": 78, \"origin\": \"usa\", \"name\": \"buick century special\"}, {\"mpg\": 20.8, \"cylinders\": 6, \"displacement\": 200.0, \"horsepower\": 85.0, \"weight\": 3070, \"acceleration\": 16.7, \"model_year\": 78, \"origin\": \"usa\", \"name\": \"mercury zephyr\"}, {\"mpg\": 18.6, \"cylinders\": 6, \"displacement\": 225.0, \"horsepower\": 110.0, \"weight\": 3620, \"acceleration\": 18.7, \"model_year\": 78, \"origin\": \"usa\", \"name\": \"dodge aspen\"}, {\"mpg\": 18.1, \"cylinders\": 6, \"displacement\": 258.0, \"horsepower\": 120.0, \"weight\": 3410, \"acceleration\": 15.1, \"model_year\": 78, \"origin\": \"usa\", \"name\": \"amc concord d/l\"}, {\"mpg\": 19.2, \"cylinders\": 8, \"displacement\": 305.0, \"horsepower\": 145.0, \"weight\": 3425, \"acceleration\": 13.2, \"model_year\": 78, \"origin\": \"usa\", \"name\": \"chevrolet monte carlo landau\"}, {\"mpg\": 17.7, \"cylinders\": 6, \"displacement\": 231.0, \"horsepower\": 165.0, \"weight\": 3445, \"acceleration\": 13.4, \"model_year\": 78, \"origin\": \"usa\", \"name\": \"buick regal sport coupe (turbo)\"}, {\"mpg\": 18.1, \"cylinders\": 8, \"displacement\": 302.0, \"horsepower\": 139.0, \"weight\": 3205, \"acceleration\": 11.2, \"model_year\": 78, \"origin\": \"usa\", \"name\": \"ford futura\"}, {\"mpg\": 17.5, \"cylinders\": 8, \"displacement\": 318.0, \"horsepower\": 140.0, \"weight\": 4080, \"acceleration\": 13.7, \"model_year\": 78, \"origin\": \"usa\", \"name\": \"dodge magnum xe\"}, {\"mpg\": 30.0, \"cylinders\": 4, \"displacement\": 98.0, \"horsepower\": 68.0, \"weight\": 2155, \"acceleration\": 16.5, \"model_year\": 78, \"origin\": \"usa\", \"name\": \"chevrolet chevette\"}, {\"mpg\": 27.5, \"cylinders\": 4, \"displacement\": 134.0, \"horsepower\": 95.0, \"weight\": 2560, \"acceleration\": 14.2, \"model_year\": 78, \"origin\": \"japan\", \"name\": \"toyota corona\"}, {\"mpg\": 27.2, \"cylinders\": 4, \"displacement\": 119.0, \"horsepower\": 97.0, \"weight\": 2300, \"acceleration\": 14.7, \"model_year\": 78, \"origin\": \"japan\", \"name\": \"datsun 510\"}, {\"mpg\": 30.9, \"cylinders\": 4, \"displacement\": 105.0, \"horsepower\": 75.0, \"weight\": 2230, \"acceleration\": 14.5, \"model_year\": 78, \"origin\": \"usa\", \"name\": \"dodge omni\"}, {\"mpg\": 21.1, \"cylinders\": 4, \"displacement\": 134.0, \"horsepower\": 95.0, \"weight\": 2515, \"acceleration\": 14.8, \"model_year\": 78, \"origin\": \"japan\", \"name\": \"toyota celica gt liftback\"}, {\"mpg\": 23.2, \"cylinders\": 4, \"displacement\": 156.0, \"horsepower\": 105.0, \"weight\": 2745, \"acceleration\": 16.7, \"model_year\": 78, \"origin\": \"usa\", \"name\": \"plymouth sapporo\"}, {\"mpg\": 23.8, \"cylinders\": 4, \"displacement\": 151.0, \"horsepower\": 85.0, \"weight\": 2855, \"acceleration\": 17.6, \"model_year\": 78, \"origin\": \"usa\", \"name\": \"oldsmobile starfire sx\"}, {\"mpg\": 23.9, \"cylinders\": 4, \"displacement\": 119.0, \"horsepower\": 97.0, \"weight\": 2405, \"acceleration\": 14.9, \"model_year\": 78, \"origin\": \"japan\", \"name\": \"datsun 200-sx\"}, {\"mpg\": 20.3, \"cylinders\": 5, \"displacement\": 131.0, \"horsepower\": 103.0, \"weight\": 2830, \"acceleration\": 15.9, \"model_year\": 78, \"origin\": \"europe\", \"name\": \"audi 5000\"}, {\"mpg\": 17.0, \"cylinders\": 6, \"displacement\": 163.0, \"horsepower\": 125.0, \"weight\": 3140, \"acceleration\": 13.6, \"model_year\": 78, \"origin\": \"europe\", \"name\": \"volvo 264gl\"}, {\"mpg\": 21.6, \"cylinders\": 4, \"displacement\": 121.0, \"horsepower\": 115.0, \"weight\": 2795, \"acceleration\": 15.7, \"model_year\": 78, \"origin\": \"europe\", \"name\": \"saab 99gle\"}, {\"mpg\": 16.2, \"cylinders\": 6, \"displacement\": 163.0, \"horsepower\": 133.0, \"weight\": 3410, \"acceleration\": 15.8, \"model_year\": 78, \"origin\": \"europe\", \"name\": \"peugeot 604sl\"}, {\"mpg\": 31.5, \"cylinders\": 4, \"displacement\": 89.0, \"horsepower\": 71.0, \"weight\": 1990, \"acceleration\": 14.9, \"model_year\": 78, \"origin\": \"europe\", \"name\": \"volkswagen scirocco\"}, {\"mpg\": 29.5, \"cylinders\": 4, \"displacement\": 98.0, \"horsepower\": 68.0, \"weight\": 2135, \"acceleration\": 16.6, \"model_year\": 78, \"origin\": \"japan\", \"name\": \"honda accord lx\"}, {\"mpg\": 21.5, \"cylinders\": 6, \"displacement\": 231.0, \"horsepower\": 115.0, \"weight\": 3245, \"acceleration\": 15.4, \"model_year\": 79, \"origin\": \"usa\", \"name\": \"pontiac lemans v6\"}, {\"mpg\": 19.8, \"cylinders\": 6, \"displacement\": 200.0, \"horsepower\": 85.0, \"weight\": 2990, \"acceleration\": 18.2, \"model_year\": 79, \"origin\": \"usa\", \"name\": \"mercury zephyr 6\"}, {\"mpg\": 22.3, \"cylinders\": 4, \"displacement\": 140.0, \"horsepower\": 88.0, \"weight\": 2890, \"acceleration\": 17.3, \"model_year\": 79, \"origin\": \"usa\", \"name\": \"ford fairmont 4\"}, {\"mpg\": 20.2, \"cylinders\": 6, \"displacement\": 232.0, \"horsepower\": 90.0, \"weight\": 3265, \"acceleration\": 18.2, \"model_year\": 79, \"origin\": \"usa\", \"name\": \"amc concord dl 6\"}, {\"mpg\": 20.6, \"cylinders\": 6, \"displacement\": 225.0, \"horsepower\": 110.0, \"weight\": 3360, \"acceleration\": 16.6, \"model_year\": 79, \"origin\": \"usa\", \"name\": \"dodge aspen 6\"}, {\"mpg\": 17.0, \"cylinders\": 8, \"displacement\": 305.0, \"horsepower\": 130.0, \"weight\": 3840, \"acceleration\": 15.4, \"model_year\": 79, \"origin\": \"usa\", \"name\": \"chevrolet caprice classic\"}, {\"mpg\": 17.6, \"cylinders\": 8, \"displacement\": 302.0, \"horsepower\": 129.0, \"weight\": 3725, \"acceleration\": 13.4, \"model_year\": 79, \"origin\": \"usa\", \"name\": \"ford ltd landau\"}, {\"mpg\": 16.5, \"cylinders\": 8, \"displacement\": 351.0, \"horsepower\": 138.0, \"weight\": 3955, \"acceleration\": 13.2, \"model_year\": 79, \"origin\": \"usa\", \"name\": \"mercury grand marquis\"}, {\"mpg\": 18.2, \"cylinders\": 8, \"displacement\": 318.0, \"horsepower\": 135.0, \"weight\": 3830, \"acceleration\": 15.2, \"model_year\": 79, \"origin\": \"usa\", \"name\": \"dodge st. regis\"}, {\"mpg\": 16.9, \"cylinders\": 8, \"displacement\": 350.0, \"horsepower\": 155.0, \"weight\": 4360, \"acceleration\": 14.9, \"model_year\": 79, \"origin\": \"usa\", \"name\": \"buick estate wagon (sw)\"}, {\"mpg\": 15.5, \"cylinders\": 8, \"displacement\": 351.0, \"horsepower\": 142.0, \"weight\": 4054, \"acceleration\": 14.3, \"model_year\": 79, \"origin\": \"usa\", \"name\": \"ford country squire (sw)\"}, {\"mpg\": 19.2, \"cylinders\": 8, \"displacement\": 267.0, \"horsepower\": 125.0, \"weight\": 3605, \"acceleration\": 15.0, \"model_year\": 79, \"origin\": \"usa\", \"name\": \"chevrolet malibu classic (sw)\"}, {\"mpg\": 18.5, \"cylinders\": 8, \"displacement\": 360.0, \"horsepower\": 150.0, \"weight\": 3940, \"acceleration\": 13.0, \"model_year\": 79, \"origin\": \"usa\", \"name\": \"chrysler lebaron town @ country (sw)\"}, {\"mpg\": 31.9, \"cylinders\": 4, \"displacement\": 89.0, \"horsepower\": 71.0, \"weight\": 1925, \"acceleration\": 14.0, \"model_year\": 79, \"origin\": \"europe\", \"name\": \"vw rabbit custom\"}, {\"mpg\": 34.1, \"cylinders\": 4, \"displacement\": 86.0, \"horsepower\": 65.0, \"weight\": 1975, \"acceleration\": 15.2, \"model_year\": 79, \"origin\": \"japan\", \"name\": \"maxda glc deluxe\"}, {\"mpg\": 35.7, \"cylinders\": 4, \"displacement\": 98.0, \"horsepower\": 80.0, \"weight\": 1915, \"acceleration\": 14.4, \"model_year\": 79, \"origin\": \"usa\", \"name\": \"dodge colt hatchback custom\"}, {\"mpg\": 27.4, \"cylinders\": 4, \"displacement\": 121.0, \"horsepower\": 80.0, \"weight\": 2670, \"acceleration\": 15.0, \"model_year\": 79, \"origin\": \"usa\", \"name\": \"amc spirit dl\"}, {\"mpg\": 25.4, \"cylinders\": 5, \"displacement\": 183.0, \"horsepower\": 77.0, \"weight\": 3530, \"acceleration\": 20.1, \"model_year\": 79, \"origin\": \"europe\", \"name\": \"mercedes benz 300d\"}, {\"mpg\": 23.0, \"cylinders\": 8, \"displacement\": 350.0, \"horsepower\": 125.0, \"weight\": 3900, \"acceleration\": 17.4, \"model_year\": 79, \"origin\": \"usa\", \"name\": \"cadillac eldorado\"}, {\"mpg\": 27.2, \"cylinders\": 4, \"displacement\": 141.0, \"horsepower\": 71.0, \"weight\": 3190, \"acceleration\": 24.8, \"model_year\": 79, \"origin\": \"europe\", \"name\": \"peugeot 504\"}, {\"mpg\": 23.9, \"cylinders\": 8, \"displacement\": 260.0, \"horsepower\": 90.0, \"weight\": 3420, \"acceleration\": 22.2, \"model_year\": 79, \"origin\": \"usa\", \"name\": \"oldsmobile cutlass salon brougham\"}, {\"mpg\": 34.2, \"cylinders\": 4, \"displacement\": 105.0, \"horsepower\": 70.0, \"weight\": 2200, \"acceleration\": 13.2, \"model_year\": 79, \"origin\": \"usa\", \"name\": \"plymouth horizon\"}, {\"mpg\": 34.5, \"cylinders\": 4, \"displacement\": 105.0, \"horsepower\": 70.0, \"weight\": 2150, \"acceleration\": 14.9, \"model_year\": 79, \"origin\": \"usa\", \"name\": \"plymouth horizon tc3\"}, {\"mpg\": 31.8, \"cylinders\": 4, \"displacement\": 85.0, \"horsepower\": 65.0, \"weight\": 2020, \"acceleration\": 19.2, \"model_year\": 79, \"origin\": \"japan\", \"name\": \"datsun 210\"}, {\"mpg\": 37.3, \"cylinders\": 4, \"displacement\": 91.0, \"horsepower\": 69.0, \"weight\": 2130, \"acceleration\": 14.7, \"model_year\": 79, \"origin\": \"europe\", \"name\": \"fiat strada custom\"}, {\"mpg\": 28.4, \"cylinders\": 4, \"displacement\": 151.0, \"horsepower\": 90.0, \"weight\": 2670, \"acceleration\": 16.0, \"model_year\": 79, \"origin\": \"usa\", \"name\": \"buick skylark limited\"}, {\"mpg\": 28.8, \"cylinders\": 6, \"displacement\": 173.0, \"horsepower\": 115.0, \"weight\": 2595, \"acceleration\": 11.3, \"model_year\": 79, \"origin\": \"usa\", \"name\": \"chevrolet citation\"}, {\"mpg\": 26.8, \"cylinders\": 6, \"displacement\": 173.0, \"horsepower\": 115.0, \"weight\": 2700, \"acceleration\": 12.9, \"model_year\": 79, \"origin\": \"usa\", \"name\": \"oldsmobile omega brougham\"}, {\"mpg\": 33.5, \"cylinders\": 4, \"displacement\": 151.0, \"horsepower\": 90.0, \"weight\": 2556, \"acceleration\": 13.2, \"model_year\": 79, \"origin\": \"usa\", \"name\": \"pontiac phoenix\"}, {\"mpg\": 41.5, \"cylinders\": 4, \"displacement\": 98.0, \"horsepower\": 76.0, \"weight\": 2144, \"acceleration\": 14.7, \"model_year\": 80, \"origin\": \"europe\", \"name\": \"vw rabbit\"}, {\"mpg\": 38.1, \"cylinders\": 4, \"displacement\": 89.0, \"horsepower\": 60.0, \"weight\": 1968, \"acceleration\": 18.8, \"model_year\": 80, \"origin\": \"japan\", \"name\": \"toyota corolla tercel\"}, {\"mpg\": 32.1, \"cylinders\": 4, \"displacement\": 98.0, \"horsepower\": 70.0, \"weight\": 2120, \"acceleration\": 15.5, \"model_year\": 80, \"origin\": \"usa\", \"name\": \"chevrolet chevette\"}, {\"mpg\": 37.2, \"cylinders\": 4, \"displacement\": 86.0, \"horsepower\": 65.0, \"weight\": 2019, \"acceleration\": 16.4, \"model_year\": 80, \"origin\": \"japan\", \"name\": \"datsun 310\"}, {\"mpg\": 28.0, \"cylinders\": 4, \"displacement\": 151.0, \"horsepower\": 90.0, \"weight\": 2678, \"acceleration\": 16.5, \"model_year\": 80, \"origin\": \"usa\", \"name\": \"chevrolet citation\"}, {\"mpg\": 26.4, \"cylinders\": 4, \"displacement\": 140.0, \"horsepower\": 88.0, \"weight\": 2870, \"acceleration\": 18.1, \"model_year\": 80, \"origin\": \"usa\", \"name\": \"ford fairmont\"}, {\"mpg\": 24.3, \"cylinders\": 4, \"displacement\": 151.0, \"horsepower\": 90.0, \"weight\": 3003, \"acceleration\": 20.1, \"model_year\": 80, \"origin\": \"usa\", \"name\": \"amc concord\"}, {\"mpg\": 19.1, \"cylinders\": 6, \"displacement\": 225.0, \"horsepower\": 90.0, \"weight\": 3381, \"acceleration\": 18.7, \"model_year\": 80, \"origin\": \"usa\", \"name\": \"dodge aspen\"}, {\"mpg\": 34.3, \"cylinders\": 4, \"displacement\": 97.0, \"horsepower\": 78.0, \"weight\": 2188, \"acceleration\": 15.8, \"model_year\": 80, \"origin\": \"europe\", \"name\": \"audi 4000\"}, {\"mpg\": 29.8, \"cylinders\": 4, \"displacement\": 134.0, \"horsepower\": 90.0, \"weight\": 2711, \"acceleration\": 15.5, \"model_year\": 80, \"origin\": \"japan\", \"name\": \"toyota corona liftback\"}, {\"mpg\": 31.3, \"cylinders\": 4, \"displacement\": 120.0, \"horsepower\": 75.0, \"weight\": 2542, \"acceleration\": 17.5, \"model_year\": 80, \"origin\": \"japan\", \"name\": \"mazda 626\"}, {\"mpg\": 37.0, \"cylinders\": 4, \"displacement\": 119.0, \"horsepower\": 92.0, \"weight\": 2434, \"acceleration\": 15.0, \"model_year\": 80, \"origin\": \"japan\", \"name\": \"datsun 510 hatchback\"}, {\"mpg\": 32.2, \"cylinders\": 4, \"displacement\": 108.0, \"horsepower\": 75.0, \"weight\": 2265, \"acceleration\": 15.2, \"model_year\": 80, \"origin\": \"japan\", \"name\": \"toyota corolla\"}, {\"mpg\": 46.6, \"cylinders\": 4, \"displacement\": 86.0, \"horsepower\": 65.0, \"weight\": 2110, \"acceleration\": 17.9, \"model_year\": 80, \"origin\": \"japan\", \"name\": \"mazda glc\"}, {\"mpg\": 27.9, \"cylinders\": 4, \"displacement\": 156.0, \"horsepower\": 105.0, \"weight\": 2800, \"acceleration\": 14.4, \"model_year\": 80, \"origin\": \"usa\", \"name\": \"dodge colt\"}, {\"mpg\": 40.8, \"cylinders\": 4, \"displacement\": 85.0, \"horsepower\": 65.0, \"weight\": 2110, \"acceleration\": 19.2, \"model_year\": 80, \"origin\": \"japan\", \"name\": \"datsun 210\"}, {\"mpg\": 44.3, \"cylinders\": 4, \"displacement\": 90.0, \"horsepower\": 48.0, \"weight\": 2085, \"acceleration\": 21.7, \"model_year\": 80, \"origin\": \"europe\", \"name\": \"vw rabbit c (diesel)\"}, {\"mpg\": 43.4, \"cylinders\": 4, \"displacement\": 90.0, \"horsepower\": 48.0, \"weight\": 2335, \"acceleration\": 23.7, \"model_year\": 80, \"origin\": \"europe\", \"name\": \"vw dasher (diesel)\"}, {\"mpg\": 36.4, \"cylinders\": 5, \"displacement\": 121.0, \"horsepower\": 67.0, \"weight\": 2950, \"acceleration\": 19.9, \"model_year\": 80, \"origin\": \"europe\", \"name\": \"audi 5000s (diesel)\"}, {\"mpg\": 30.0, \"cylinders\": 4, \"displacement\": 146.0, \"horsepower\": 67.0, \"weight\": 3250, \"acceleration\": 21.8, \"model_year\": 80, \"origin\": \"europe\", \"name\": \"mercedes-benz 240d\"}, {\"mpg\": 44.6, \"cylinders\": 4, \"displacement\": 91.0, \"horsepower\": 67.0, \"weight\": 1850, \"acceleration\": 13.8, \"model_year\": 80, \"origin\": \"japan\", \"name\": \"honda civic 1500 gl\"}, {\"mpg\": 40.9, \"cylinders\": 4, \"displacement\": 85.0, \"horsepower\": null, \"weight\": 1835, \"acceleration\": 17.3, \"model_year\": 80, \"origin\": \"europe\", \"name\": \"renault lecar deluxe\"}, {\"mpg\": 33.8, \"cylinders\": 4, \"displacement\": 97.0, \"horsepower\": 67.0, \"weight\": 2145, \"acceleration\": 18.0, \"model_year\": 80, \"origin\": \"japan\", \"name\": \"subaru dl\"}, {\"mpg\": 29.8, \"cylinders\": 4, \"displacement\": 89.0, \"horsepower\": 62.0, \"weight\": 1845, \"acceleration\": 15.3, \"model_year\": 80, \"origin\": \"europe\", \"name\": \"vokswagen rabbit\"}, {\"mpg\": 32.7, \"cylinders\": 6, \"displacement\": 168.0, \"horsepower\": 132.0, \"weight\": 2910, \"acceleration\": 11.4, \"model_year\": 80, \"origin\": \"japan\", \"name\": \"datsun 280-zx\"}, {\"mpg\": 23.7, \"cylinders\": 3, \"displacement\": 70.0, \"horsepower\": 100.0, \"weight\": 2420, \"acceleration\": 12.5, \"model_year\": 80, \"origin\": \"japan\", \"name\": \"mazda rx-7 gs\"}, {\"mpg\": 35.0, \"cylinders\": 4, \"displacement\": 122.0, \"horsepower\": 88.0, \"weight\": 2500, \"acceleration\": 15.1, \"model_year\": 80, \"origin\": \"europe\", \"name\": \"triumph tr7 coupe\"}, {\"mpg\": 23.6, \"cylinders\": 4, \"displacement\": 140.0, \"horsepower\": null, \"weight\": 2905, \"acceleration\": 14.3, \"model_year\": 80, \"origin\": \"usa\", \"name\": \"ford mustang cobra\"}, {\"mpg\": 32.4, \"cylinders\": 4, \"displacement\": 107.0, \"horsepower\": 72.0, \"weight\": 2290, \"acceleration\": 17.0, \"model_year\": 80, \"origin\": \"japan\", \"name\": \"honda accord\"}, {\"mpg\": 27.2, \"cylinders\": 4, \"displacement\": 135.0, \"horsepower\": 84.0, \"weight\": 2490, \"acceleration\": 15.7, \"model_year\": 81, \"origin\": \"usa\", \"name\": \"plymouth reliant\"}, {\"mpg\": 26.6, \"cylinders\": 4, \"displacement\": 151.0, \"horsepower\": 84.0, \"weight\": 2635, \"acceleration\": 16.4, \"model_year\": 81, \"origin\": \"usa\", \"name\": \"buick skylark\"}, {\"mpg\": 25.8, \"cylinders\": 4, \"displacement\": 156.0, \"horsepower\": 92.0, \"weight\": 2620, \"acceleration\": 14.4, \"model_year\": 81, \"origin\": \"usa\", \"name\": \"dodge aries wagon (sw)\"}, {\"mpg\": 23.5, \"cylinders\": 6, \"displacement\": 173.0, \"horsepower\": 110.0, \"weight\": 2725, \"acceleration\": 12.6, \"model_year\": 81, \"origin\": \"usa\", \"name\": \"chevrolet citation\"}, {\"mpg\": 30.0, \"cylinders\": 4, \"displacement\": 135.0, \"horsepower\": 84.0, \"weight\": 2385, \"acceleration\": 12.9, \"model_year\": 81, \"origin\": \"usa\", \"name\": \"plymouth reliant\"}, {\"mpg\": 39.1, \"cylinders\": 4, \"displacement\": 79.0, \"horsepower\": 58.0, \"weight\": 1755, \"acceleration\": 16.9, \"model_year\": 81, \"origin\": \"japan\", \"name\": \"toyota starlet\"}, {\"mpg\": 39.0, \"cylinders\": 4, \"displacement\": 86.0, \"horsepower\": 64.0, \"weight\": 1875, \"acceleration\": 16.4, \"model_year\": 81, \"origin\": \"usa\", \"name\": \"plymouth champ\"}, {\"mpg\": 35.1, \"cylinders\": 4, \"displacement\": 81.0, \"horsepower\": 60.0, \"weight\": 1760, \"acceleration\": 16.1, \"model_year\": 81, \"origin\": \"japan\", \"name\": \"honda civic 1300\"}, {\"mpg\": 32.3, \"cylinders\": 4, \"displacement\": 97.0, \"horsepower\": 67.0, \"weight\": 2065, \"acceleration\": 17.8, \"model_year\": 81, \"origin\": \"japan\", \"name\": \"subaru\"}, {\"mpg\": 37.0, \"cylinders\": 4, \"displacement\": 85.0, \"horsepower\": 65.0, \"weight\": 1975, \"acceleration\": 19.4, \"model_year\": 81, \"origin\": \"japan\", \"name\": \"datsun 210 mpg\"}, {\"mpg\": 37.7, \"cylinders\": 4, \"displacement\": 89.0, \"horsepower\": 62.0, \"weight\": 2050, \"acceleration\": 17.3, \"model_year\": 81, \"origin\": \"japan\", \"name\": \"toyota tercel\"}, {\"mpg\": 34.1, \"cylinders\": 4, \"displacement\": 91.0, \"horsepower\": 68.0, \"weight\": 1985, \"acceleration\": 16.0, \"model_year\": 81, \"origin\": \"japan\", \"name\": \"mazda glc 4\"}, {\"mpg\": 34.7, \"cylinders\": 4, \"displacement\": 105.0, \"horsepower\": 63.0, \"weight\": 2215, \"acceleration\": 14.9, \"model_year\": 81, \"origin\": \"usa\", \"name\": \"plymouth horizon 4\"}, {\"mpg\": 34.4, \"cylinders\": 4, \"displacement\": 98.0, \"horsepower\": 65.0, \"weight\": 2045, \"acceleration\": 16.2, \"model_year\": 81, \"origin\": \"usa\", \"name\": \"ford escort 4w\"}, {\"mpg\": 29.9, \"cylinders\": 4, \"displacement\": 98.0, \"horsepower\": 65.0, \"weight\": 2380, \"acceleration\": 20.7, \"model_year\": 81, \"origin\": \"usa\", \"name\": \"ford escort 2h\"}, {\"mpg\": 33.0, \"cylinders\": 4, \"displacement\": 105.0, \"horsepower\": 74.0, \"weight\": 2190, \"acceleration\": 14.2, \"model_year\": 81, \"origin\": \"europe\", \"name\": \"volkswagen jetta\"}, {\"mpg\": 34.5, \"cylinders\": 4, \"displacement\": 100.0, \"horsepower\": null, \"weight\": 2320, \"acceleration\": 15.8, \"model_year\": 81, \"origin\": \"europe\", \"name\": \"renault 18i\"}, {\"mpg\": 33.7, \"cylinders\": 4, \"displacement\": 107.0, \"horsepower\": 75.0, \"weight\": 2210, \"acceleration\": 14.4, \"model_year\": 81, \"origin\": \"japan\", \"name\": \"honda prelude\"}, {\"mpg\": 32.4, \"cylinders\": 4, \"displacement\": 108.0, \"horsepower\": 75.0, \"weight\": 2350, \"acceleration\": 16.8, \"model_year\": 81, \"origin\": \"japan\", \"name\": \"toyota corolla\"}, {\"mpg\": 32.9, \"cylinders\": 4, \"displacement\": 119.0, \"horsepower\": 100.0, \"weight\": 2615, \"acceleration\": 14.8, \"model_year\": 81, \"origin\": \"japan\", \"name\": \"datsun 200sx\"}, {\"mpg\": 31.6, \"cylinders\": 4, \"displacement\": 120.0, \"horsepower\": 74.0, \"weight\": 2635, \"acceleration\": 18.3, \"model_year\": 81, \"origin\": \"japan\", \"name\": \"mazda 626\"}, {\"mpg\": 28.1, \"cylinders\": 4, \"displacement\": 141.0, \"horsepower\": 80.0, \"weight\": 3230, \"acceleration\": 20.4, \"model_year\": 81, \"origin\": \"europe\", \"name\": \"peugeot 505s turbo diesel\"}, {\"mpg\": 30.7, \"cylinders\": 6, \"displacement\": 145.0, \"horsepower\": 76.0, \"weight\": 3160, \"acceleration\": 19.6, \"model_year\": 81, \"origin\": \"europe\", \"name\": \"volvo diesel\"}, {\"mpg\": 25.4, \"cylinders\": 6, \"displacement\": 168.0, \"horsepower\": 116.0, \"weight\": 2900, \"acceleration\": 12.6, \"model_year\": 81, \"origin\": \"japan\", \"name\": \"toyota cressida\"}, {\"mpg\": 24.2, \"cylinders\": 6, \"displacement\": 146.0, \"horsepower\": 120.0, \"weight\": 2930, \"acceleration\": 13.8, \"model_year\": 81, \"origin\": \"japan\", \"name\": \"datsun 810 maxima\"}, {\"mpg\": 22.4, \"cylinders\": 6, \"displacement\": 231.0, \"horsepower\": 110.0, \"weight\": 3415, \"acceleration\": 15.8, \"model_year\": 81, \"origin\": \"usa\", \"name\": \"buick century\"}, {\"mpg\": 26.6, \"cylinders\": 8, \"displacement\": 350.0, \"horsepower\": 105.0, \"weight\": 3725, \"acceleration\": 19.0, \"model_year\": 81, \"origin\": \"usa\", \"name\": \"oldsmobile cutlass ls\"}, {\"mpg\": 20.2, \"cylinders\": 6, \"displacement\": 200.0, \"horsepower\": 88.0, \"weight\": 3060, \"acceleration\": 17.1, \"model_year\": 81, \"origin\": \"usa\", \"name\": \"ford granada gl\"}, {\"mpg\": 17.6, \"cylinders\": 6, \"displacement\": 225.0, \"horsepower\": 85.0, \"weight\": 3465, \"acceleration\": 16.6, \"model_year\": 81, \"origin\": \"usa\", \"name\": \"chrysler lebaron salon\"}, {\"mpg\": 28.0, \"cylinders\": 4, \"displacement\": 112.0, \"horsepower\": 88.0, \"weight\": 2605, \"acceleration\": 19.6, \"model_year\": 82, \"origin\": \"usa\", \"name\": \"chevrolet cavalier\"}, {\"mpg\": 27.0, \"cylinders\": 4, \"displacement\": 112.0, \"horsepower\": 88.0, \"weight\": 2640, \"acceleration\": 18.6, \"model_year\": 82, \"origin\": \"usa\", \"name\": \"chevrolet cavalier wagon\"}, {\"mpg\": 34.0, \"cylinders\": 4, \"displacement\": 112.0, \"horsepower\": 88.0, \"weight\": 2395, \"acceleration\": 18.0, \"model_year\": 82, \"origin\": \"usa\", \"name\": \"chevrolet cavalier 2-door\"}, {\"mpg\": 31.0, \"cylinders\": 4, \"displacement\": 112.0, \"horsepower\": 85.0, \"weight\": 2575, \"acceleration\": 16.2, \"model_year\": 82, \"origin\": \"usa\", \"name\": \"pontiac j2000 se hatchback\"}, {\"mpg\": 29.0, \"cylinders\": 4, \"displacement\": 135.0, \"horsepower\": 84.0, \"weight\": 2525, \"acceleration\": 16.0, \"model_year\": 82, \"origin\": \"usa\", \"name\": \"dodge aries se\"}, {\"mpg\": 27.0, \"cylinders\": 4, \"displacement\": 151.0, \"horsepower\": 90.0, \"weight\": 2735, \"acceleration\": 18.0, \"model_year\": 82, \"origin\": \"usa\", \"name\": \"pontiac phoenix\"}, {\"mpg\": 24.0, \"cylinders\": 4, \"displacement\": 140.0, \"horsepower\": 92.0, \"weight\": 2865, \"acceleration\": 16.4, \"model_year\": 82, \"origin\": \"usa\", \"name\": \"ford fairmont futura\"}, {\"mpg\": 23.0, \"cylinders\": 4, \"displacement\": 151.0, \"horsepower\": null, \"weight\": 3035, \"acceleration\": 20.5, \"model_year\": 82, \"origin\": \"usa\", \"name\": \"amc concord dl\"}, {\"mpg\": 36.0, \"cylinders\": 4, \"displacement\": 105.0, \"horsepower\": 74.0, \"weight\": 1980, \"acceleration\": 15.3, \"model_year\": 82, \"origin\": \"europe\", \"name\": \"volkswagen rabbit l\"}, {\"mpg\": 37.0, \"cylinders\": 4, \"displacement\": 91.0, \"horsepower\": 68.0, \"weight\": 2025, \"acceleration\": 18.2, \"model_year\": 82, \"origin\": \"japan\", \"name\": \"mazda glc custom l\"}, {\"mpg\": 31.0, \"cylinders\": 4, \"displacement\": 91.0, \"horsepower\": 68.0, \"weight\": 1970, \"acceleration\": 17.6, \"model_year\": 82, \"origin\": \"japan\", \"name\": \"mazda glc custom\"}, {\"mpg\": 38.0, \"cylinders\": 4, \"displacement\": 105.0, \"horsepower\": 63.0, \"weight\": 2125, \"acceleration\": 14.7, \"model_year\": 82, \"origin\": \"usa\", \"name\": \"plymouth horizon miser\"}, {\"mpg\": 36.0, \"cylinders\": 4, \"displacement\": 98.0, \"horsepower\": 70.0, \"weight\": 2125, \"acceleration\": 17.3, \"model_year\": 82, \"origin\": \"usa\", \"name\": \"mercury lynx l\"}, {\"mpg\": 36.0, \"cylinders\": 4, \"displacement\": 120.0, \"horsepower\": 88.0, \"weight\": 2160, \"acceleration\": 14.5, \"model_year\": 82, \"origin\": \"japan\", \"name\": \"nissan stanza xe\"}, {\"mpg\": 36.0, \"cylinders\": 4, \"displacement\": 107.0, \"horsepower\": 75.0, \"weight\": 2205, \"acceleration\": 14.5, \"model_year\": 82, \"origin\": \"japan\", \"name\": \"honda accord\"}, {\"mpg\": 34.0, \"cylinders\": 4, \"displacement\": 108.0, \"horsepower\": 70.0, \"weight\": 2245, \"acceleration\": 16.9, \"model_year\": 82, \"origin\": \"japan\", \"name\": \"toyota corolla\"}, {\"mpg\": 38.0, \"cylinders\": 4, \"displacement\": 91.0, \"horsepower\": 67.0, \"weight\": 1965, \"acceleration\": 15.0, \"model_year\": 82, \"origin\": \"japan\", \"name\": \"honda civic\"}, {\"mpg\": 32.0, \"cylinders\": 4, \"displacement\": 91.0, \"horsepower\": 67.0, \"weight\": 1965, \"acceleration\": 15.7, \"model_year\": 82, \"origin\": \"japan\", \"name\": \"honda civic (auto)\"}, {\"mpg\": 38.0, \"cylinders\": 4, \"displacement\": 91.0, \"horsepower\": 67.0, \"weight\": 1995, \"acceleration\": 16.2, \"model_year\": 82, \"origin\": \"japan\", \"name\": \"datsun 310 gx\"}, {\"mpg\": 25.0, \"cylinders\": 6, \"displacement\": 181.0, \"horsepower\": 110.0, \"weight\": 2945, \"acceleration\": 16.4, \"model_year\": 82, \"origin\": \"usa\", \"name\": \"buick century limited\"}, {\"mpg\": 38.0, \"cylinders\": 6, \"displacement\": 262.0, \"horsepower\": 85.0, \"weight\": 3015, \"acceleration\": 17.0, \"model_year\": 82, \"origin\": \"usa\", \"name\": \"oldsmobile cutlass ciera (diesel)\"}, {\"mpg\": 26.0, \"cylinders\": 4, \"displacement\": 156.0, \"horsepower\": 92.0, \"weight\": 2585, \"acceleration\": 14.5, \"model_year\": 82, \"origin\": \"usa\", \"name\": \"chrysler lebaron medallion\"}, {\"mpg\": 22.0, \"cylinders\": 6, \"displacement\": 232.0, \"horsepower\": 112.0, \"weight\": 2835, \"acceleration\": 14.7, \"model_year\": 82, \"origin\": \"usa\", \"name\": \"ford granada l\"}, {\"mpg\": 32.0, \"cylinders\": 4, \"displacement\": 144.0, \"horsepower\": 96.0, \"weight\": 2665, \"acceleration\": 13.9, \"model_year\": 82, \"origin\": \"japan\", \"name\": \"toyota celica gt\"}, {\"mpg\": 36.0, \"cylinders\": 4, \"displacement\": 135.0, \"horsepower\": 84.0, \"weight\": 2370, \"acceleration\": 13.0, \"model_year\": 82, \"origin\": \"usa\", \"name\": \"dodge charger 2.2\"}, {\"mpg\": 27.0, \"cylinders\": 4, \"displacement\": 151.0, \"horsepower\": 90.0, \"weight\": 2950, \"acceleration\": 17.3, \"model_year\": 82, \"origin\": \"usa\", \"name\": \"chevrolet camaro\"}, {\"mpg\": 27.0, \"cylinders\": 4, \"displacement\": 140.0, \"horsepower\": 86.0, \"weight\": 2790, \"acceleration\": 15.6, \"model_year\": 82, \"origin\": \"usa\", \"name\": \"ford mustang gl\"}, {\"mpg\": 44.0, \"cylinders\": 4, \"displacement\": 97.0, \"horsepower\": 52.0, \"weight\": 2130, \"acceleration\": 24.6, \"model_year\": 82, \"origin\": \"europe\", \"name\": \"vw pickup\"}, {\"mpg\": 32.0, \"cylinders\": 4, \"displacement\": 135.0, \"horsepower\": 84.0, \"weight\": 2295, \"acceleration\": 11.6, \"model_year\": 82, \"origin\": \"usa\", \"name\": \"dodge rampage\"}, {\"mpg\": 28.0, \"cylinders\": 4, \"displacement\": 120.0, \"horsepower\": 79.0, \"weight\": 2625, \"acceleration\": 18.6, \"model_year\": 82, \"origin\": \"usa\", \"name\": \"ford ranger\"}, {\"mpg\": 31.0, \"cylinders\": 4, \"displacement\": 119.0, \"horsepower\": 82.0, \"weight\": 2720, \"acceleration\": 19.4, \"model_year\": 82, \"origin\": \"usa\", \"name\": \"chevy s-10\"}]}}, {\"mode\": \"vega-lite\"});\n",
       "</script>"
      ],
      "text/plain": [
       "alt.Chart(...)"
      ]
     },
     "execution_count": 47,
     "metadata": {},
     "output_type": "execute_result"
    }
   ],
   "source": [
    "alt.Chart(df).mark_circle().encode(\n",
    "    x=\"weight\",\n",
    "    y=\"mpg\"\n",
    ")"
   ]
  },
  {
   "cell_type": "markdown",
   "metadata": {
    "cell_id": "a73e0c3254b14d71a6688a40ed4d67f2",
    "deepnote_cell_type": "markdown"
   },
   "source": [
    "* Add a color channel to the chart, encoding the “origin” value."
   ]
  },
  {
   "cell_type": "code",
   "execution_count": 48,
   "metadata": {
    "cell_id": "13a48f1cd0194ade8e6dca5cbe0a9420",
    "deepnote_cell_type": "code",
    "deepnote_to_be_reexecuted": false,
    "execution_millis": 149,
    "execution_start": 1692225025946,
    "source_hash": "342637fc"
   },
   "outputs": [
    {
     "data": {
      "text/html": [
       "\n",
       "<style>\n",
       "  #altair-viz-b6d4fc39f7ad453cabede772377a763d.vega-embed {\n",
       "    width: 100%;\n",
       "    display: flex;\n",
       "  }\n",
       "\n",
       "  #altair-viz-b6d4fc39f7ad453cabede772377a763d.vega-embed details,\n",
       "  #altair-viz-b6d4fc39f7ad453cabede772377a763d.vega-embed details summary {\n",
       "    position: relative;\n",
       "  }\n",
       "</style>\n",
       "<div id=\"altair-viz-b6d4fc39f7ad453cabede772377a763d\"></div>\n",
       "<script type=\"text/javascript\">\n",
       "  var VEGA_DEBUG = (typeof VEGA_DEBUG == \"undefined\") ? {} : VEGA_DEBUG;\n",
       "  (function(spec, embedOpt){\n",
       "    let outputDiv = document.currentScript.previousElementSibling;\n",
       "    if (outputDiv.id !== \"altair-viz-b6d4fc39f7ad453cabede772377a763d\") {\n",
       "      outputDiv = document.getElementById(\"altair-viz-b6d4fc39f7ad453cabede772377a763d\");\n",
       "    }\n",
       "    const paths = {\n",
       "      \"vega\": \"https://cdn.jsdelivr.net/npm/vega@5?noext\",\n",
       "      \"vega-lib\": \"https://cdn.jsdelivr.net/npm/vega-lib?noext\",\n",
       "      \"vega-lite\": \"https://cdn.jsdelivr.net/npm/vega-lite@5.8.0?noext\",\n",
       "      \"vega-embed\": \"https://cdn.jsdelivr.net/npm/vega-embed@6?noext\",\n",
       "    };\n",
       "\n",
       "    function maybeLoadScript(lib, version) {\n",
       "      var key = `${lib.replace(\"-\", \"\")}_version`;\n",
       "      return (VEGA_DEBUG[key] == version) ?\n",
       "        Promise.resolve(paths[lib]) :\n",
       "        new Promise(function(resolve, reject) {\n",
       "          var s = document.createElement('script');\n",
       "          document.getElementsByTagName(\"head\")[0].appendChild(s);\n",
       "          s.async = true;\n",
       "          s.onload = () => {\n",
       "            VEGA_DEBUG[key] = version;\n",
       "            return resolve(paths[lib]);\n",
       "          };\n",
       "          s.onerror = () => reject(`Error loading script: ${paths[lib]}`);\n",
       "          s.src = paths[lib];\n",
       "        });\n",
       "    }\n",
       "\n",
       "    function showError(err) {\n",
       "      outputDiv.innerHTML = `<div class=\"error\" style=\"color:red;\">${err}</div>`;\n",
       "      throw err;\n",
       "    }\n",
       "\n",
       "    function displayChart(vegaEmbed) {\n",
       "      vegaEmbed(outputDiv, spec, embedOpt)\n",
       "        .catch(err => showError(`Javascript Error: ${err.message}<br>This usually means there's a typo in your chart specification. See the javascript console for the full traceback.`));\n",
       "    }\n",
       "\n",
       "    if(typeof define === \"function\" && define.amd) {\n",
       "      requirejs.config({paths});\n",
       "      require([\"vega-embed\"], displayChart, err => showError(`Error loading script: ${err.message}`));\n",
       "    } else {\n",
       "      maybeLoadScript(\"vega\", \"5\")\n",
       "        .then(() => maybeLoadScript(\"vega-lite\", \"5.8.0\"))\n",
       "        .then(() => maybeLoadScript(\"vega-embed\", \"6\"))\n",
       "        .catch(showError)\n",
       "        .then(() => displayChart(vegaEmbed));\n",
       "    }\n",
       "  })({\"config\": {\"view\": {\"continuousWidth\": 300, \"continuousHeight\": 300}}, \"data\": {\"name\": \"data-f1198cc0481ad698d7dc4699e0a3efa7\"}, \"mark\": {\"type\": \"circle\"}, \"encoding\": {\"color\": {\"field\": \"origin\", \"type\": \"nominal\"}, \"x\": {\"field\": \"weight\", \"type\": \"quantitative\"}, \"y\": {\"field\": \"mpg\", \"type\": \"quantitative\"}}, \"$schema\": \"https://vega.github.io/schema/vega-lite/v5.8.0.json\", \"datasets\": {\"data-f1198cc0481ad698d7dc4699e0a3efa7\": [{\"mpg\": 18.0, \"cylinders\": 8, \"displacement\": 307.0, \"horsepower\": 130.0, \"weight\": 3504, \"acceleration\": 12.0, \"model_year\": 70, \"origin\": \"usa\", \"name\": \"chevrolet chevelle malibu\"}, {\"mpg\": 15.0, \"cylinders\": 8, \"displacement\": 350.0, \"horsepower\": 165.0, \"weight\": 3693, \"acceleration\": 11.5, \"model_year\": 70, \"origin\": \"usa\", \"name\": \"buick skylark 320\"}, {\"mpg\": 18.0, \"cylinders\": 8, \"displacement\": 318.0, \"horsepower\": 150.0, \"weight\": 3436, \"acceleration\": 11.0, \"model_year\": 70, \"origin\": \"usa\", \"name\": \"plymouth satellite\"}, {\"mpg\": 16.0, \"cylinders\": 8, \"displacement\": 304.0, \"horsepower\": 150.0, \"weight\": 3433, \"acceleration\": 12.0, \"model_year\": 70, \"origin\": \"usa\", \"name\": \"amc rebel sst\"}, {\"mpg\": 17.0, \"cylinders\": 8, \"displacement\": 302.0, \"horsepower\": 140.0, \"weight\": 3449, \"acceleration\": 10.5, \"model_year\": 70, \"origin\": \"usa\", \"name\": \"ford torino\"}, {\"mpg\": 15.0, \"cylinders\": 8, \"displacement\": 429.0, \"horsepower\": 198.0, \"weight\": 4341, \"acceleration\": 10.0, \"model_year\": 70, \"origin\": \"usa\", \"name\": \"ford galaxie 500\"}, {\"mpg\": 14.0, \"cylinders\": 8, \"displacement\": 454.0, \"horsepower\": 220.0, \"weight\": 4354, \"acceleration\": 9.0, \"model_year\": 70, \"origin\": \"usa\", \"name\": \"chevrolet impala\"}, {\"mpg\": 14.0, \"cylinders\": 8, \"displacement\": 440.0, \"horsepower\": 215.0, \"weight\": 4312, \"acceleration\": 8.5, \"model_year\": 70, \"origin\": \"usa\", \"name\": \"plymouth fury iii\"}, {\"mpg\": 14.0, \"cylinders\": 8, \"displacement\": 455.0, \"horsepower\": 225.0, \"weight\": 4425, \"acceleration\": 10.0, \"model_year\": 70, \"origin\": \"usa\", \"name\": \"pontiac catalina\"}, {\"mpg\": 15.0, \"cylinders\": 8, \"displacement\": 390.0, \"horsepower\": 190.0, \"weight\": 3850, \"acceleration\": 8.5, \"model_year\": 70, \"origin\": \"usa\", \"name\": \"amc ambassador dpl\"}, {\"mpg\": 15.0, \"cylinders\": 8, \"displacement\": 383.0, \"horsepower\": 170.0, \"weight\": 3563, \"acceleration\": 10.0, \"model_year\": 70, \"origin\": \"usa\", \"name\": \"dodge challenger se\"}, {\"mpg\": 14.0, \"cylinders\": 8, \"displacement\": 340.0, \"horsepower\": 160.0, \"weight\": 3609, \"acceleration\": 8.0, \"model_year\": 70, \"origin\": \"usa\", \"name\": \"plymouth 'cuda 340\"}, {\"mpg\": 15.0, \"cylinders\": 8, \"displacement\": 400.0, \"horsepower\": 150.0, \"weight\": 3761, \"acceleration\": 9.5, \"model_year\": 70, \"origin\": \"usa\", \"name\": \"chevrolet monte carlo\"}, {\"mpg\": 14.0, \"cylinders\": 8, \"displacement\": 455.0, \"horsepower\": 225.0, \"weight\": 3086, \"acceleration\": 10.0, \"model_year\": 70, \"origin\": \"usa\", \"name\": \"buick estate wagon (sw)\"}, {\"mpg\": 24.0, \"cylinders\": 4, \"displacement\": 113.0, \"horsepower\": 95.0, \"weight\": 2372, \"acceleration\": 15.0, \"model_year\": 70, \"origin\": \"japan\", \"name\": \"toyota corona mark ii\"}, {\"mpg\": 22.0, \"cylinders\": 6, \"displacement\": 198.0, \"horsepower\": 95.0, \"weight\": 2833, \"acceleration\": 15.5, \"model_year\": 70, \"origin\": \"usa\", \"name\": \"plymouth duster\"}, {\"mpg\": 18.0, \"cylinders\": 6, \"displacement\": 199.0, \"horsepower\": 97.0, \"weight\": 2774, \"acceleration\": 15.5, \"model_year\": 70, \"origin\": \"usa\", \"name\": \"amc hornet\"}, {\"mpg\": 21.0, \"cylinders\": 6, \"displacement\": 200.0, \"horsepower\": 85.0, \"weight\": 2587, \"acceleration\": 16.0, \"model_year\": 70, \"origin\": \"usa\", \"name\": \"ford maverick\"}, {\"mpg\": 27.0, \"cylinders\": 4, \"displacement\": 97.0, \"horsepower\": 88.0, \"weight\": 2130, \"acceleration\": 14.5, \"model_year\": 70, \"origin\": \"japan\", \"name\": \"datsun pl510\"}, {\"mpg\": 26.0, \"cylinders\": 4, \"displacement\": 97.0, \"horsepower\": 46.0, \"weight\": 1835, \"acceleration\": 20.5, \"model_year\": 70, \"origin\": \"europe\", \"name\": \"volkswagen 1131 deluxe sedan\"}, {\"mpg\": 25.0, \"cylinders\": 4, \"displacement\": 110.0, \"horsepower\": 87.0, \"weight\": 2672, \"acceleration\": 17.5, \"model_year\": 70, \"origin\": \"europe\", \"name\": \"peugeot 504\"}, {\"mpg\": 24.0, \"cylinders\": 4, \"displacement\": 107.0, \"horsepower\": 90.0, \"weight\": 2430, \"acceleration\": 14.5, \"model_year\": 70, \"origin\": \"europe\", \"name\": \"audi 100 ls\"}, {\"mpg\": 25.0, \"cylinders\": 4, \"displacement\": 104.0, \"horsepower\": 95.0, \"weight\": 2375, \"acceleration\": 17.5, \"model_year\": 70, \"origin\": \"europe\", \"name\": \"saab 99e\"}, {\"mpg\": 26.0, \"cylinders\": 4, \"displacement\": 121.0, \"horsepower\": 113.0, \"weight\": 2234, \"acceleration\": 12.5, \"model_year\": 70, \"origin\": \"europe\", \"name\": \"bmw 2002\"}, {\"mpg\": 21.0, \"cylinders\": 6, \"displacement\": 199.0, \"horsepower\": 90.0, \"weight\": 2648, \"acceleration\": 15.0, \"model_year\": 70, \"origin\": \"usa\", \"name\": \"amc gremlin\"}, {\"mpg\": 10.0, \"cylinders\": 8, \"displacement\": 360.0, \"horsepower\": 215.0, \"weight\": 4615, \"acceleration\": 14.0, \"model_year\": 70, \"origin\": \"usa\", \"name\": \"ford f250\"}, {\"mpg\": 10.0, \"cylinders\": 8, \"displacement\": 307.0, \"horsepower\": 200.0, \"weight\": 4376, \"acceleration\": 15.0, \"model_year\": 70, \"origin\": \"usa\", \"name\": \"chevy c20\"}, {\"mpg\": 11.0, \"cylinders\": 8, \"displacement\": 318.0, \"horsepower\": 210.0, \"weight\": 4382, \"acceleration\": 13.5, \"model_year\": 70, \"origin\": \"usa\", \"name\": \"dodge d200\"}, {\"mpg\": 9.0, \"cylinders\": 8, \"displacement\": 304.0, \"horsepower\": 193.0, \"weight\": 4732, \"acceleration\": 18.5, \"model_year\": 70, \"origin\": \"usa\", \"name\": \"hi 1200d\"}, {\"mpg\": 27.0, \"cylinders\": 4, \"displacement\": 97.0, \"horsepower\": 88.0, \"weight\": 2130, \"acceleration\": 14.5, \"model_year\": 71, \"origin\": \"japan\", \"name\": \"datsun pl510\"}, {\"mpg\": 28.0, \"cylinders\": 4, \"displacement\": 140.0, \"horsepower\": 90.0, \"weight\": 2264, \"acceleration\": 15.5, \"model_year\": 71, \"origin\": \"usa\", \"name\": \"chevrolet vega 2300\"}, {\"mpg\": 25.0, \"cylinders\": 4, \"displacement\": 113.0, \"horsepower\": 95.0, \"weight\": 2228, \"acceleration\": 14.0, \"model_year\": 71, \"origin\": \"japan\", \"name\": \"toyota corona\"}, {\"mpg\": 25.0, \"cylinders\": 4, \"displacement\": 98.0, \"horsepower\": null, \"weight\": 2046, \"acceleration\": 19.0, \"model_year\": 71, \"origin\": \"usa\", \"name\": \"ford pinto\"}, {\"mpg\": 19.0, \"cylinders\": 6, \"displacement\": 232.0, \"horsepower\": 100.0, \"weight\": 2634, \"acceleration\": 13.0, \"model_year\": 71, \"origin\": \"usa\", \"name\": \"amc gremlin\"}, {\"mpg\": 16.0, \"cylinders\": 6, \"displacement\": 225.0, \"horsepower\": 105.0, \"weight\": 3439, \"acceleration\": 15.5, \"model_year\": 71, \"origin\": \"usa\", \"name\": \"plymouth satellite custom\"}, {\"mpg\": 17.0, \"cylinders\": 6, \"displacement\": 250.0, \"horsepower\": 100.0, \"weight\": 3329, \"acceleration\": 15.5, \"model_year\": 71, \"origin\": \"usa\", \"name\": \"chevrolet chevelle malibu\"}, {\"mpg\": 19.0, \"cylinders\": 6, \"displacement\": 250.0, \"horsepower\": 88.0, \"weight\": 3302, \"acceleration\": 15.5, \"model_year\": 71, \"origin\": \"usa\", \"name\": \"ford torino 500\"}, {\"mpg\": 18.0, \"cylinders\": 6, \"displacement\": 232.0, \"horsepower\": 100.0, \"weight\": 3288, \"acceleration\": 15.5, \"model_year\": 71, \"origin\": \"usa\", \"name\": \"amc matador\"}, {\"mpg\": 14.0, \"cylinders\": 8, \"displacement\": 350.0, \"horsepower\": 165.0, \"weight\": 4209, \"acceleration\": 12.0, \"model_year\": 71, \"origin\": \"usa\", \"name\": \"chevrolet impala\"}, {\"mpg\": 14.0, \"cylinders\": 8, \"displacement\": 400.0, \"horsepower\": 175.0, \"weight\": 4464, \"acceleration\": 11.5, \"model_year\": 71, \"origin\": \"usa\", \"name\": \"pontiac catalina brougham\"}, {\"mpg\": 14.0, \"cylinders\": 8, \"displacement\": 351.0, \"horsepower\": 153.0, \"weight\": 4154, \"acceleration\": 13.5, \"model_year\": 71, \"origin\": \"usa\", \"name\": \"ford galaxie 500\"}, {\"mpg\": 14.0, \"cylinders\": 8, \"displacement\": 318.0, \"horsepower\": 150.0, \"weight\": 4096, \"acceleration\": 13.0, \"model_year\": 71, \"origin\": \"usa\", \"name\": \"plymouth fury iii\"}, {\"mpg\": 12.0, \"cylinders\": 8, \"displacement\": 383.0, \"horsepower\": 180.0, \"weight\": 4955, \"acceleration\": 11.5, \"model_year\": 71, \"origin\": \"usa\", \"name\": \"dodge monaco (sw)\"}, {\"mpg\": 13.0, \"cylinders\": 8, \"displacement\": 400.0, \"horsepower\": 170.0, \"weight\": 4746, \"acceleration\": 12.0, \"model_year\": 71, \"origin\": \"usa\", \"name\": \"ford country squire (sw)\"}, {\"mpg\": 13.0, \"cylinders\": 8, \"displacement\": 400.0, \"horsepower\": 175.0, \"weight\": 5140, \"acceleration\": 12.0, \"model_year\": 71, \"origin\": \"usa\", \"name\": \"pontiac safari (sw)\"}, {\"mpg\": 18.0, \"cylinders\": 6, \"displacement\": 258.0, \"horsepower\": 110.0, \"weight\": 2962, \"acceleration\": 13.5, \"model_year\": 71, \"origin\": \"usa\", \"name\": \"amc hornet sportabout (sw)\"}, {\"mpg\": 22.0, \"cylinders\": 4, \"displacement\": 140.0, \"horsepower\": 72.0, \"weight\": 2408, \"acceleration\": 19.0, \"model_year\": 71, \"origin\": \"usa\", \"name\": \"chevrolet vega (sw)\"}, {\"mpg\": 19.0, \"cylinders\": 6, \"displacement\": 250.0, \"horsepower\": 100.0, \"weight\": 3282, \"acceleration\": 15.0, \"model_year\": 71, \"origin\": \"usa\", \"name\": \"pontiac firebird\"}, {\"mpg\": 18.0, \"cylinders\": 6, \"displacement\": 250.0, \"horsepower\": 88.0, \"weight\": 3139, \"acceleration\": 14.5, \"model_year\": 71, \"origin\": \"usa\", \"name\": \"ford mustang\"}, {\"mpg\": 23.0, \"cylinders\": 4, \"displacement\": 122.0, \"horsepower\": 86.0, \"weight\": 2220, \"acceleration\": 14.0, \"model_year\": 71, \"origin\": \"usa\", \"name\": \"mercury capri 2000\"}, {\"mpg\": 28.0, \"cylinders\": 4, \"displacement\": 116.0, \"horsepower\": 90.0, \"weight\": 2123, \"acceleration\": 14.0, \"model_year\": 71, \"origin\": \"europe\", \"name\": \"opel 1900\"}, {\"mpg\": 30.0, \"cylinders\": 4, \"displacement\": 79.0, \"horsepower\": 70.0, \"weight\": 2074, \"acceleration\": 19.5, \"model_year\": 71, \"origin\": \"europe\", \"name\": \"peugeot 304\"}, {\"mpg\": 30.0, \"cylinders\": 4, \"displacement\": 88.0, \"horsepower\": 76.0, \"weight\": 2065, \"acceleration\": 14.5, \"model_year\": 71, \"origin\": \"europe\", \"name\": \"fiat 124b\"}, {\"mpg\": 31.0, \"cylinders\": 4, \"displacement\": 71.0, \"horsepower\": 65.0, \"weight\": 1773, \"acceleration\": 19.0, \"model_year\": 71, \"origin\": \"japan\", \"name\": \"toyota corolla 1200\"}, {\"mpg\": 35.0, \"cylinders\": 4, \"displacement\": 72.0, \"horsepower\": 69.0, \"weight\": 1613, \"acceleration\": 18.0, \"model_year\": 71, \"origin\": \"japan\", \"name\": \"datsun 1200\"}, {\"mpg\": 27.0, \"cylinders\": 4, \"displacement\": 97.0, \"horsepower\": 60.0, \"weight\": 1834, \"acceleration\": 19.0, \"model_year\": 71, \"origin\": \"europe\", \"name\": \"volkswagen model 111\"}, {\"mpg\": 26.0, \"cylinders\": 4, \"displacement\": 91.0, \"horsepower\": 70.0, \"weight\": 1955, \"acceleration\": 20.5, \"model_year\": 71, \"origin\": \"usa\", \"name\": \"plymouth cricket\"}, {\"mpg\": 24.0, \"cylinders\": 4, \"displacement\": 113.0, \"horsepower\": 95.0, \"weight\": 2278, \"acceleration\": 15.5, \"model_year\": 72, \"origin\": \"japan\", \"name\": \"toyota corona hardtop\"}, {\"mpg\": 25.0, \"cylinders\": 4, \"displacement\": 97.5, \"horsepower\": 80.0, \"weight\": 2126, \"acceleration\": 17.0, \"model_year\": 72, \"origin\": \"usa\", \"name\": \"dodge colt hardtop\"}, {\"mpg\": 23.0, \"cylinders\": 4, \"displacement\": 97.0, \"horsepower\": 54.0, \"weight\": 2254, \"acceleration\": 23.5, \"model_year\": 72, \"origin\": \"europe\", \"name\": \"volkswagen type 3\"}, {\"mpg\": 20.0, \"cylinders\": 4, \"displacement\": 140.0, \"horsepower\": 90.0, \"weight\": 2408, \"acceleration\": 19.5, \"model_year\": 72, \"origin\": \"usa\", \"name\": \"chevrolet vega\"}, {\"mpg\": 21.0, \"cylinders\": 4, \"displacement\": 122.0, \"horsepower\": 86.0, \"weight\": 2226, \"acceleration\": 16.5, \"model_year\": 72, \"origin\": \"usa\", \"name\": \"ford pinto runabout\"}, {\"mpg\": 13.0, \"cylinders\": 8, \"displacement\": 350.0, \"horsepower\": 165.0, \"weight\": 4274, \"acceleration\": 12.0, \"model_year\": 72, \"origin\": \"usa\", \"name\": \"chevrolet impala\"}, {\"mpg\": 14.0, \"cylinders\": 8, \"displacement\": 400.0, \"horsepower\": 175.0, \"weight\": 4385, \"acceleration\": 12.0, \"model_year\": 72, \"origin\": \"usa\", \"name\": \"pontiac catalina\"}, {\"mpg\": 15.0, \"cylinders\": 8, \"displacement\": 318.0, \"horsepower\": 150.0, \"weight\": 4135, \"acceleration\": 13.5, \"model_year\": 72, \"origin\": \"usa\", \"name\": \"plymouth fury iii\"}, {\"mpg\": 14.0, \"cylinders\": 8, \"displacement\": 351.0, \"horsepower\": 153.0, \"weight\": 4129, \"acceleration\": 13.0, \"model_year\": 72, \"origin\": \"usa\", \"name\": \"ford galaxie 500\"}, {\"mpg\": 17.0, \"cylinders\": 8, \"displacement\": 304.0, \"horsepower\": 150.0, \"weight\": 3672, \"acceleration\": 11.5, \"model_year\": 72, \"origin\": \"usa\", \"name\": \"amc ambassador sst\"}, {\"mpg\": 11.0, \"cylinders\": 8, \"displacement\": 429.0, \"horsepower\": 208.0, \"weight\": 4633, \"acceleration\": 11.0, \"model_year\": 72, \"origin\": \"usa\", \"name\": \"mercury marquis\"}, {\"mpg\": 13.0, \"cylinders\": 8, \"displacement\": 350.0, \"horsepower\": 155.0, \"weight\": 4502, \"acceleration\": 13.5, \"model_year\": 72, \"origin\": \"usa\", \"name\": \"buick lesabre custom\"}, {\"mpg\": 12.0, \"cylinders\": 8, \"displacement\": 350.0, \"horsepower\": 160.0, \"weight\": 4456, \"acceleration\": 13.5, \"model_year\": 72, \"origin\": \"usa\", \"name\": \"oldsmobile delta 88 royale\"}, {\"mpg\": 13.0, \"cylinders\": 8, \"displacement\": 400.0, \"horsepower\": 190.0, \"weight\": 4422, \"acceleration\": 12.5, \"model_year\": 72, \"origin\": \"usa\", \"name\": \"chrysler newport royal\"}, {\"mpg\": 19.0, \"cylinders\": 3, \"displacement\": 70.0, \"horsepower\": 97.0, \"weight\": 2330, \"acceleration\": 13.5, \"model_year\": 72, \"origin\": \"japan\", \"name\": \"mazda rx2 coupe\"}, {\"mpg\": 15.0, \"cylinders\": 8, \"displacement\": 304.0, \"horsepower\": 150.0, \"weight\": 3892, \"acceleration\": 12.5, \"model_year\": 72, \"origin\": \"usa\", \"name\": \"amc matador (sw)\"}, {\"mpg\": 13.0, \"cylinders\": 8, \"displacement\": 307.0, \"horsepower\": 130.0, \"weight\": 4098, \"acceleration\": 14.0, \"model_year\": 72, \"origin\": \"usa\", \"name\": \"chevrolet chevelle concours (sw)\"}, {\"mpg\": 13.0, \"cylinders\": 8, \"displacement\": 302.0, \"horsepower\": 140.0, \"weight\": 4294, \"acceleration\": 16.0, \"model_year\": 72, \"origin\": \"usa\", \"name\": \"ford gran torino (sw)\"}, {\"mpg\": 14.0, \"cylinders\": 8, \"displacement\": 318.0, \"horsepower\": 150.0, \"weight\": 4077, \"acceleration\": 14.0, \"model_year\": 72, \"origin\": \"usa\", \"name\": \"plymouth satellite custom (sw)\"}, {\"mpg\": 18.0, \"cylinders\": 4, \"displacement\": 121.0, \"horsepower\": 112.0, \"weight\": 2933, \"acceleration\": 14.5, \"model_year\": 72, \"origin\": \"europe\", \"name\": \"volvo 145e (sw)\"}, {\"mpg\": 22.0, \"cylinders\": 4, \"displacement\": 121.0, \"horsepower\": 76.0, \"weight\": 2511, \"acceleration\": 18.0, \"model_year\": 72, \"origin\": \"europe\", \"name\": \"volkswagen 411 (sw)\"}, {\"mpg\": 21.0, \"cylinders\": 4, \"displacement\": 120.0, \"horsepower\": 87.0, \"weight\": 2979, \"acceleration\": 19.5, \"model_year\": 72, \"origin\": \"europe\", \"name\": \"peugeot 504 (sw)\"}, {\"mpg\": 26.0, \"cylinders\": 4, \"displacement\": 96.0, \"horsepower\": 69.0, \"weight\": 2189, \"acceleration\": 18.0, \"model_year\": 72, \"origin\": \"europe\", \"name\": \"renault 12 (sw)\"}, {\"mpg\": 22.0, \"cylinders\": 4, \"displacement\": 122.0, \"horsepower\": 86.0, \"weight\": 2395, \"acceleration\": 16.0, \"model_year\": 72, \"origin\": \"usa\", \"name\": \"ford pinto (sw)\"}, {\"mpg\": 28.0, \"cylinders\": 4, \"displacement\": 97.0, \"horsepower\": 92.0, \"weight\": 2288, \"acceleration\": 17.0, \"model_year\": 72, \"origin\": \"japan\", \"name\": \"datsun 510 (sw)\"}, {\"mpg\": 23.0, \"cylinders\": 4, \"displacement\": 120.0, \"horsepower\": 97.0, \"weight\": 2506, \"acceleration\": 14.5, \"model_year\": 72, \"origin\": \"japan\", \"name\": \"toyouta corona mark ii (sw)\"}, {\"mpg\": 28.0, \"cylinders\": 4, \"displacement\": 98.0, \"horsepower\": 80.0, \"weight\": 2164, \"acceleration\": 15.0, \"model_year\": 72, \"origin\": \"usa\", \"name\": \"dodge colt (sw)\"}, {\"mpg\": 27.0, \"cylinders\": 4, \"displacement\": 97.0, \"horsepower\": 88.0, \"weight\": 2100, \"acceleration\": 16.5, \"model_year\": 72, \"origin\": \"japan\", \"name\": \"toyota corolla 1600 (sw)\"}, {\"mpg\": 13.0, \"cylinders\": 8, \"displacement\": 350.0, \"horsepower\": 175.0, \"weight\": 4100, \"acceleration\": 13.0, \"model_year\": 73, \"origin\": \"usa\", \"name\": \"buick century 350\"}, {\"mpg\": 14.0, \"cylinders\": 8, \"displacement\": 304.0, \"horsepower\": 150.0, \"weight\": 3672, \"acceleration\": 11.5, \"model_year\": 73, \"origin\": \"usa\", \"name\": \"amc matador\"}, {\"mpg\": 13.0, \"cylinders\": 8, \"displacement\": 350.0, \"horsepower\": 145.0, \"weight\": 3988, \"acceleration\": 13.0, \"model_year\": 73, \"origin\": \"usa\", \"name\": \"chevrolet malibu\"}, {\"mpg\": 14.0, \"cylinders\": 8, \"displacement\": 302.0, \"horsepower\": 137.0, \"weight\": 4042, \"acceleration\": 14.5, \"model_year\": 73, \"origin\": \"usa\", \"name\": \"ford gran torino\"}, {\"mpg\": 15.0, \"cylinders\": 8, \"displacement\": 318.0, \"horsepower\": 150.0, \"weight\": 3777, \"acceleration\": 12.5, \"model_year\": 73, \"origin\": \"usa\", \"name\": \"dodge coronet custom\"}, {\"mpg\": 12.0, \"cylinders\": 8, \"displacement\": 429.0, \"horsepower\": 198.0, \"weight\": 4952, \"acceleration\": 11.5, \"model_year\": 73, \"origin\": \"usa\", \"name\": \"mercury marquis brougham\"}, {\"mpg\": 13.0, \"cylinders\": 8, \"displacement\": 400.0, \"horsepower\": 150.0, \"weight\": 4464, \"acceleration\": 12.0, \"model_year\": 73, \"origin\": \"usa\", \"name\": \"chevrolet caprice classic\"}, {\"mpg\": 13.0, \"cylinders\": 8, \"displacement\": 351.0, \"horsepower\": 158.0, \"weight\": 4363, \"acceleration\": 13.0, \"model_year\": 73, \"origin\": \"usa\", \"name\": \"ford ltd\"}, {\"mpg\": 14.0, \"cylinders\": 8, \"displacement\": 318.0, \"horsepower\": 150.0, \"weight\": 4237, \"acceleration\": 14.5, \"model_year\": 73, \"origin\": \"usa\", \"name\": \"plymouth fury gran sedan\"}, {\"mpg\": 13.0, \"cylinders\": 8, \"displacement\": 440.0, \"horsepower\": 215.0, \"weight\": 4735, \"acceleration\": 11.0, \"model_year\": 73, \"origin\": \"usa\", \"name\": \"chrysler new yorker brougham\"}, {\"mpg\": 12.0, \"cylinders\": 8, \"displacement\": 455.0, \"horsepower\": 225.0, \"weight\": 4951, \"acceleration\": 11.0, \"model_year\": 73, \"origin\": \"usa\", \"name\": \"buick electra 225 custom\"}, {\"mpg\": 13.0, \"cylinders\": 8, \"displacement\": 360.0, \"horsepower\": 175.0, \"weight\": 3821, \"acceleration\": 11.0, \"model_year\": 73, \"origin\": \"usa\", \"name\": \"amc ambassador brougham\"}, {\"mpg\": 18.0, \"cylinders\": 6, \"displacement\": 225.0, \"horsepower\": 105.0, \"weight\": 3121, \"acceleration\": 16.5, \"model_year\": 73, \"origin\": \"usa\", \"name\": \"plymouth valiant\"}, {\"mpg\": 16.0, \"cylinders\": 6, \"displacement\": 250.0, \"horsepower\": 100.0, \"weight\": 3278, \"acceleration\": 18.0, \"model_year\": 73, \"origin\": \"usa\", \"name\": \"chevrolet nova custom\"}, {\"mpg\": 18.0, \"cylinders\": 6, \"displacement\": 232.0, \"horsepower\": 100.0, \"weight\": 2945, \"acceleration\": 16.0, \"model_year\": 73, \"origin\": \"usa\", \"name\": \"amc hornet\"}, {\"mpg\": 18.0, \"cylinders\": 6, \"displacement\": 250.0, \"horsepower\": 88.0, \"weight\": 3021, \"acceleration\": 16.5, \"model_year\": 73, \"origin\": \"usa\", \"name\": \"ford maverick\"}, {\"mpg\": 23.0, \"cylinders\": 6, \"displacement\": 198.0, \"horsepower\": 95.0, \"weight\": 2904, \"acceleration\": 16.0, \"model_year\": 73, \"origin\": \"usa\", \"name\": \"plymouth duster\"}, {\"mpg\": 26.0, \"cylinders\": 4, \"displacement\": 97.0, \"horsepower\": 46.0, \"weight\": 1950, \"acceleration\": 21.0, \"model_year\": 73, \"origin\": \"europe\", \"name\": \"volkswagen super beetle\"}, {\"mpg\": 11.0, \"cylinders\": 8, \"displacement\": 400.0, \"horsepower\": 150.0, \"weight\": 4997, \"acceleration\": 14.0, \"model_year\": 73, \"origin\": \"usa\", \"name\": \"chevrolet impala\"}, {\"mpg\": 12.0, \"cylinders\": 8, \"displacement\": 400.0, \"horsepower\": 167.0, \"weight\": 4906, \"acceleration\": 12.5, \"model_year\": 73, \"origin\": \"usa\", \"name\": \"ford country\"}, {\"mpg\": 13.0, \"cylinders\": 8, \"displacement\": 360.0, \"horsepower\": 170.0, \"weight\": 4654, \"acceleration\": 13.0, \"model_year\": 73, \"origin\": \"usa\", \"name\": \"plymouth custom suburb\"}, {\"mpg\": 12.0, \"cylinders\": 8, \"displacement\": 350.0, \"horsepower\": 180.0, \"weight\": 4499, \"acceleration\": 12.5, \"model_year\": 73, \"origin\": \"usa\", \"name\": \"oldsmobile vista cruiser\"}, {\"mpg\": 18.0, \"cylinders\": 6, \"displacement\": 232.0, \"horsepower\": 100.0, \"weight\": 2789, \"acceleration\": 15.0, \"model_year\": 73, \"origin\": \"usa\", \"name\": \"amc gremlin\"}, {\"mpg\": 20.0, \"cylinders\": 4, \"displacement\": 97.0, \"horsepower\": 88.0, \"weight\": 2279, \"acceleration\": 19.0, \"model_year\": 73, \"origin\": \"japan\", \"name\": \"toyota carina\"}, {\"mpg\": 21.0, \"cylinders\": 4, \"displacement\": 140.0, \"horsepower\": 72.0, \"weight\": 2401, \"acceleration\": 19.5, \"model_year\": 73, \"origin\": \"usa\", \"name\": \"chevrolet vega\"}, {\"mpg\": 22.0, \"cylinders\": 4, \"displacement\": 108.0, \"horsepower\": 94.0, \"weight\": 2379, \"acceleration\": 16.5, \"model_year\": 73, \"origin\": \"japan\", \"name\": \"datsun 610\"}, {\"mpg\": 18.0, \"cylinders\": 3, \"displacement\": 70.0, \"horsepower\": 90.0, \"weight\": 2124, \"acceleration\": 13.5, \"model_year\": 73, \"origin\": \"japan\", \"name\": \"maxda rx3\"}, {\"mpg\": 19.0, \"cylinders\": 4, \"displacement\": 122.0, \"horsepower\": 85.0, \"weight\": 2310, \"acceleration\": 18.5, \"model_year\": 73, \"origin\": \"usa\", \"name\": \"ford pinto\"}, {\"mpg\": 21.0, \"cylinders\": 6, \"displacement\": 155.0, \"horsepower\": 107.0, \"weight\": 2472, \"acceleration\": 14.0, \"model_year\": 73, \"origin\": \"usa\", \"name\": \"mercury capri v6\"}, {\"mpg\": 26.0, \"cylinders\": 4, \"displacement\": 98.0, \"horsepower\": 90.0, \"weight\": 2265, \"acceleration\": 15.5, \"model_year\": 73, \"origin\": \"europe\", \"name\": \"fiat 124 sport coupe\"}, {\"mpg\": 15.0, \"cylinders\": 8, \"displacement\": 350.0, \"horsepower\": 145.0, \"weight\": 4082, \"acceleration\": 13.0, \"model_year\": 73, \"origin\": \"usa\", \"name\": \"chevrolet monte carlo s\"}, {\"mpg\": 16.0, \"cylinders\": 8, \"displacement\": 400.0, \"horsepower\": 230.0, \"weight\": 4278, \"acceleration\": 9.5, \"model_year\": 73, \"origin\": \"usa\", \"name\": \"pontiac grand prix\"}, {\"mpg\": 29.0, \"cylinders\": 4, \"displacement\": 68.0, \"horsepower\": 49.0, \"weight\": 1867, \"acceleration\": 19.5, \"model_year\": 73, \"origin\": \"europe\", \"name\": \"fiat 128\"}, {\"mpg\": 24.0, \"cylinders\": 4, \"displacement\": 116.0, \"horsepower\": 75.0, \"weight\": 2158, \"acceleration\": 15.5, \"model_year\": 73, \"origin\": \"europe\", \"name\": \"opel manta\"}, {\"mpg\": 20.0, \"cylinders\": 4, \"displacement\": 114.0, \"horsepower\": 91.0, \"weight\": 2582, \"acceleration\": 14.0, \"model_year\": 73, \"origin\": \"europe\", \"name\": \"audi 100ls\"}, {\"mpg\": 19.0, \"cylinders\": 4, \"displacement\": 121.0, \"horsepower\": 112.0, \"weight\": 2868, \"acceleration\": 15.5, \"model_year\": 73, \"origin\": \"europe\", \"name\": \"volvo 144ea\"}, {\"mpg\": 15.0, \"cylinders\": 8, \"displacement\": 318.0, \"horsepower\": 150.0, \"weight\": 3399, \"acceleration\": 11.0, \"model_year\": 73, \"origin\": \"usa\", \"name\": \"dodge dart custom\"}, {\"mpg\": 24.0, \"cylinders\": 4, \"displacement\": 121.0, \"horsepower\": 110.0, \"weight\": 2660, \"acceleration\": 14.0, \"model_year\": 73, \"origin\": \"europe\", \"name\": \"saab 99le\"}, {\"mpg\": 20.0, \"cylinders\": 6, \"displacement\": 156.0, \"horsepower\": 122.0, \"weight\": 2807, \"acceleration\": 13.5, \"model_year\": 73, \"origin\": \"japan\", \"name\": \"toyota mark ii\"}, {\"mpg\": 11.0, \"cylinders\": 8, \"displacement\": 350.0, \"horsepower\": 180.0, \"weight\": 3664, \"acceleration\": 11.0, \"model_year\": 73, \"origin\": \"usa\", \"name\": \"oldsmobile omega\"}, {\"mpg\": 20.0, \"cylinders\": 6, \"displacement\": 198.0, \"horsepower\": 95.0, \"weight\": 3102, \"acceleration\": 16.5, \"model_year\": 74, \"origin\": \"usa\", \"name\": \"plymouth duster\"}, {\"mpg\": 21.0, \"cylinders\": 6, \"displacement\": 200.0, \"horsepower\": null, \"weight\": 2875, \"acceleration\": 17.0, \"model_year\": 74, \"origin\": \"usa\", \"name\": \"ford maverick\"}, {\"mpg\": 19.0, \"cylinders\": 6, \"displacement\": 232.0, \"horsepower\": 100.0, \"weight\": 2901, \"acceleration\": 16.0, \"model_year\": 74, \"origin\": \"usa\", \"name\": \"amc hornet\"}, {\"mpg\": 15.0, \"cylinders\": 6, \"displacement\": 250.0, \"horsepower\": 100.0, \"weight\": 3336, \"acceleration\": 17.0, \"model_year\": 74, \"origin\": \"usa\", \"name\": \"chevrolet nova\"}, {\"mpg\": 31.0, \"cylinders\": 4, \"displacement\": 79.0, \"horsepower\": 67.0, \"weight\": 1950, \"acceleration\": 19.0, \"model_year\": 74, \"origin\": \"japan\", \"name\": \"datsun b210\"}, {\"mpg\": 26.0, \"cylinders\": 4, \"displacement\": 122.0, \"horsepower\": 80.0, \"weight\": 2451, \"acceleration\": 16.5, \"model_year\": 74, \"origin\": \"usa\", \"name\": \"ford pinto\"}, {\"mpg\": 32.0, \"cylinders\": 4, \"displacement\": 71.0, \"horsepower\": 65.0, \"weight\": 1836, \"acceleration\": 21.0, \"model_year\": 74, \"origin\": \"japan\", \"name\": \"toyota corolla 1200\"}, {\"mpg\": 25.0, \"cylinders\": 4, \"displacement\": 140.0, \"horsepower\": 75.0, \"weight\": 2542, \"acceleration\": 17.0, \"model_year\": 74, \"origin\": \"usa\", \"name\": \"chevrolet vega\"}, {\"mpg\": 16.0, \"cylinders\": 6, \"displacement\": 250.0, \"horsepower\": 100.0, \"weight\": 3781, \"acceleration\": 17.0, \"model_year\": 74, \"origin\": \"usa\", \"name\": \"chevrolet chevelle malibu classic\"}, {\"mpg\": 16.0, \"cylinders\": 6, \"displacement\": 258.0, \"horsepower\": 110.0, \"weight\": 3632, \"acceleration\": 18.0, \"model_year\": 74, \"origin\": \"usa\", \"name\": \"amc matador\"}, {\"mpg\": 18.0, \"cylinders\": 6, \"displacement\": 225.0, \"horsepower\": 105.0, \"weight\": 3613, \"acceleration\": 16.5, \"model_year\": 74, \"origin\": \"usa\", \"name\": \"plymouth satellite sebring\"}, {\"mpg\": 16.0, \"cylinders\": 8, \"displacement\": 302.0, \"horsepower\": 140.0, \"weight\": 4141, \"acceleration\": 14.0, \"model_year\": 74, \"origin\": \"usa\", \"name\": \"ford gran torino\"}, {\"mpg\": 13.0, \"cylinders\": 8, \"displacement\": 350.0, \"horsepower\": 150.0, \"weight\": 4699, \"acceleration\": 14.5, \"model_year\": 74, \"origin\": \"usa\", \"name\": \"buick century luxus (sw)\"}, {\"mpg\": 14.0, \"cylinders\": 8, \"displacement\": 318.0, \"horsepower\": 150.0, \"weight\": 4457, \"acceleration\": 13.5, \"model_year\": 74, \"origin\": \"usa\", \"name\": \"dodge coronet custom (sw)\"}, {\"mpg\": 14.0, \"cylinders\": 8, \"displacement\": 302.0, \"horsepower\": 140.0, \"weight\": 4638, \"acceleration\": 16.0, \"model_year\": 74, \"origin\": \"usa\", \"name\": \"ford gran torino (sw)\"}, {\"mpg\": 14.0, \"cylinders\": 8, \"displacement\": 304.0, \"horsepower\": 150.0, \"weight\": 4257, \"acceleration\": 15.5, \"model_year\": 74, \"origin\": \"usa\", \"name\": \"amc matador (sw)\"}, {\"mpg\": 29.0, \"cylinders\": 4, \"displacement\": 98.0, \"horsepower\": 83.0, \"weight\": 2219, \"acceleration\": 16.5, \"model_year\": 74, \"origin\": \"europe\", \"name\": \"audi fox\"}, {\"mpg\": 26.0, \"cylinders\": 4, \"displacement\": 79.0, \"horsepower\": 67.0, \"weight\": 1963, \"acceleration\": 15.5, \"model_year\": 74, \"origin\": \"europe\", \"name\": \"volkswagen dasher\"}, {\"mpg\": 26.0, \"cylinders\": 4, \"displacement\": 97.0, \"horsepower\": 78.0, \"weight\": 2300, \"acceleration\": 14.5, \"model_year\": 74, \"origin\": \"europe\", \"name\": \"opel manta\"}, {\"mpg\": 31.0, \"cylinders\": 4, \"displacement\": 76.0, \"horsepower\": 52.0, \"weight\": 1649, \"acceleration\": 16.5, \"model_year\": 74, \"origin\": \"japan\", \"name\": \"toyota corona\"}, {\"mpg\": 32.0, \"cylinders\": 4, \"displacement\": 83.0, \"horsepower\": 61.0, \"weight\": 2003, \"acceleration\": 19.0, \"model_year\": 74, \"origin\": \"japan\", \"name\": \"datsun 710\"}, {\"mpg\": 28.0, \"cylinders\": 4, \"displacement\": 90.0, \"horsepower\": 75.0, \"weight\": 2125, \"acceleration\": 14.5, \"model_year\": 74, \"origin\": \"usa\", \"name\": \"dodge colt\"}, {\"mpg\": 24.0, \"cylinders\": 4, \"displacement\": 90.0, \"horsepower\": 75.0, \"weight\": 2108, \"acceleration\": 15.5, \"model_year\": 74, \"origin\": \"europe\", \"name\": \"fiat 128\"}, {\"mpg\": 26.0, \"cylinders\": 4, \"displacement\": 116.0, \"horsepower\": 75.0, \"weight\": 2246, \"acceleration\": 14.0, \"model_year\": 74, \"origin\": \"europe\", \"name\": \"fiat 124 tc\"}, {\"mpg\": 24.0, \"cylinders\": 4, \"displacement\": 120.0, \"horsepower\": 97.0, \"weight\": 2489, \"acceleration\": 15.0, \"model_year\": 74, \"origin\": \"japan\", \"name\": \"honda civic\"}, {\"mpg\": 26.0, \"cylinders\": 4, \"displacement\": 108.0, \"horsepower\": 93.0, \"weight\": 2391, \"acceleration\": 15.5, \"model_year\": 74, \"origin\": \"japan\", \"name\": \"subaru\"}, {\"mpg\": 31.0, \"cylinders\": 4, \"displacement\": 79.0, \"horsepower\": 67.0, \"weight\": 2000, \"acceleration\": 16.0, \"model_year\": 74, \"origin\": \"europe\", \"name\": \"fiat x1.9\"}, {\"mpg\": 19.0, \"cylinders\": 6, \"displacement\": 225.0, \"horsepower\": 95.0, \"weight\": 3264, \"acceleration\": 16.0, \"model_year\": 75, \"origin\": \"usa\", \"name\": \"plymouth valiant custom\"}, {\"mpg\": 18.0, \"cylinders\": 6, \"displacement\": 250.0, \"horsepower\": 105.0, \"weight\": 3459, \"acceleration\": 16.0, \"model_year\": 75, \"origin\": \"usa\", \"name\": \"chevrolet nova\"}, {\"mpg\": 15.0, \"cylinders\": 6, \"displacement\": 250.0, \"horsepower\": 72.0, \"weight\": 3432, \"acceleration\": 21.0, \"model_year\": 75, \"origin\": \"usa\", \"name\": \"mercury monarch\"}, {\"mpg\": 15.0, \"cylinders\": 6, \"displacement\": 250.0, \"horsepower\": 72.0, \"weight\": 3158, \"acceleration\": 19.5, \"model_year\": 75, \"origin\": \"usa\", \"name\": \"ford maverick\"}, {\"mpg\": 16.0, \"cylinders\": 8, \"displacement\": 400.0, \"horsepower\": 170.0, \"weight\": 4668, \"acceleration\": 11.5, \"model_year\": 75, \"origin\": \"usa\", \"name\": \"pontiac catalina\"}, {\"mpg\": 15.0, \"cylinders\": 8, \"displacement\": 350.0, \"horsepower\": 145.0, \"weight\": 4440, \"acceleration\": 14.0, \"model_year\": 75, \"origin\": \"usa\", \"name\": \"chevrolet bel air\"}, {\"mpg\": 16.0, \"cylinders\": 8, \"displacement\": 318.0, \"horsepower\": 150.0, \"weight\": 4498, \"acceleration\": 14.5, \"model_year\": 75, \"origin\": \"usa\", \"name\": \"plymouth grand fury\"}, {\"mpg\": 14.0, \"cylinders\": 8, \"displacement\": 351.0, \"horsepower\": 148.0, \"weight\": 4657, \"acceleration\": 13.5, \"model_year\": 75, \"origin\": \"usa\", \"name\": \"ford ltd\"}, {\"mpg\": 17.0, \"cylinders\": 6, \"displacement\": 231.0, \"horsepower\": 110.0, \"weight\": 3907, \"acceleration\": 21.0, \"model_year\": 75, \"origin\": \"usa\", \"name\": \"buick century\"}, {\"mpg\": 16.0, \"cylinders\": 6, \"displacement\": 250.0, \"horsepower\": 105.0, \"weight\": 3897, \"acceleration\": 18.5, \"model_year\": 75, \"origin\": \"usa\", \"name\": \"chevroelt chevelle malibu\"}, {\"mpg\": 15.0, \"cylinders\": 6, \"displacement\": 258.0, \"horsepower\": 110.0, \"weight\": 3730, \"acceleration\": 19.0, \"model_year\": 75, \"origin\": \"usa\", \"name\": \"amc matador\"}, {\"mpg\": 18.0, \"cylinders\": 6, \"displacement\": 225.0, \"horsepower\": 95.0, \"weight\": 3785, \"acceleration\": 19.0, \"model_year\": 75, \"origin\": \"usa\", \"name\": \"plymouth fury\"}, {\"mpg\": 21.0, \"cylinders\": 6, \"displacement\": 231.0, \"horsepower\": 110.0, \"weight\": 3039, \"acceleration\": 15.0, \"model_year\": 75, \"origin\": \"usa\", \"name\": \"buick skyhawk\"}, {\"mpg\": 20.0, \"cylinders\": 8, \"displacement\": 262.0, \"horsepower\": 110.0, \"weight\": 3221, \"acceleration\": 13.5, \"model_year\": 75, \"origin\": \"usa\", \"name\": \"chevrolet monza 2+2\"}, {\"mpg\": 13.0, \"cylinders\": 8, \"displacement\": 302.0, \"horsepower\": 129.0, \"weight\": 3169, \"acceleration\": 12.0, \"model_year\": 75, \"origin\": \"usa\", \"name\": \"ford mustang ii\"}, {\"mpg\": 29.0, \"cylinders\": 4, \"displacement\": 97.0, \"horsepower\": 75.0, \"weight\": 2171, \"acceleration\": 16.0, \"model_year\": 75, \"origin\": \"japan\", \"name\": \"toyota corolla\"}, {\"mpg\": 23.0, \"cylinders\": 4, \"displacement\": 140.0, \"horsepower\": 83.0, \"weight\": 2639, \"acceleration\": 17.0, \"model_year\": 75, \"origin\": \"usa\", \"name\": \"ford pinto\"}, {\"mpg\": 20.0, \"cylinders\": 6, \"displacement\": 232.0, \"horsepower\": 100.0, \"weight\": 2914, \"acceleration\": 16.0, \"model_year\": 75, \"origin\": \"usa\", \"name\": \"amc gremlin\"}, {\"mpg\": 23.0, \"cylinders\": 4, \"displacement\": 140.0, \"horsepower\": 78.0, \"weight\": 2592, \"acceleration\": 18.5, \"model_year\": 75, \"origin\": \"usa\", \"name\": \"pontiac astro\"}, {\"mpg\": 24.0, \"cylinders\": 4, \"displacement\": 134.0, \"horsepower\": 96.0, \"weight\": 2702, \"acceleration\": 13.5, \"model_year\": 75, \"origin\": \"japan\", \"name\": \"toyota corona\"}, {\"mpg\": 25.0, \"cylinders\": 4, \"displacement\": 90.0, \"horsepower\": 71.0, \"weight\": 2223, \"acceleration\": 16.5, \"model_year\": 75, \"origin\": \"europe\", \"name\": \"volkswagen dasher\"}, {\"mpg\": 24.0, \"cylinders\": 4, \"displacement\": 119.0, \"horsepower\": 97.0, \"weight\": 2545, \"acceleration\": 17.0, \"model_year\": 75, \"origin\": \"japan\", \"name\": \"datsun 710\"}, {\"mpg\": 18.0, \"cylinders\": 6, \"displacement\": 171.0, \"horsepower\": 97.0, \"weight\": 2984, \"acceleration\": 14.5, \"model_year\": 75, \"origin\": \"usa\", \"name\": \"ford pinto\"}, {\"mpg\": 29.0, \"cylinders\": 4, \"displacement\": 90.0, \"horsepower\": 70.0, \"weight\": 1937, \"acceleration\": 14.0, \"model_year\": 75, \"origin\": \"europe\", \"name\": \"volkswagen rabbit\"}, {\"mpg\": 19.0, \"cylinders\": 6, \"displacement\": 232.0, \"horsepower\": 90.0, \"weight\": 3211, \"acceleration\": 17.0, \"model_year\": 75, \"origin\": \"usa\", \"name\": \"amc pacer\"}, {\"mpg\": 23.0, \"cylinders\": 4, \"displacement\": 115.0, \"horsepower\": 95.0, \"weight\": 2694, \"acceleration\": 15.0, \"model_year\": 75, \"origin\": \"europe\", \"name\": \"audi 100ls\"}, {\"mpg\": 23.0, \"cylinders\": 4, \"displacement\": 120.0, \"horsepower\": 88.0, \"weight\": 2957, \"acceleration\": 17.0, \"model_year\": 75, \"origin\": \"europe\", \"name\": \"peugeot 504\"}, {\"mpg\": 22.0, \"cylinders\": 4, \"displacement\": 121.0, \"horsepower\": 98.0, \"weight\": 2945, \"acceleration\": 14.5, \"model_year\": 75, \"origin\": \"europe\", \"name\": \"volvo 244dl\"}, {\"mpg\": 25.0, \"cylinders\": 4, \"displacement\": 121.0, \"horsepower\": 115.0, \"weight\": 2671, \"acceleration\": 13.5, \"model_year\": 75, \"origin\": \"europe\", \"name\": \"saab 99le\"}, {\"mpg\": 33.0, \"cylinders\": 4, \"displacement\": 91.0, \"horsepower\": 53.0, \"weight\": 1795, \"acceleration\": 17.5, \"model_year\": 75, \"origin\": \"japan\", \"name\": \"honda civic cvcc\"}, {\"mpg\": 28.0, \"cylinders\": 4, \"displacement\": 107.0, \"horsepower\": 86.0, \"weight\": 2464, \"acceleration\": 15.5, \"model_year\": 76, \"origin\": \"europe\", \"name\": \"fiat 131\"}, {\"mpg\": 25.0, \"cylinders\": 4, \"displacement\": 116.0, \"horsepower\": 81.0, \"weight\": 2220, \"acceleration\": 16.9, \"model_year\": 76, \"origin\": \"europe\", \"name\": \"opel 1900\"}, {\"mpg\": 25.0, \"cylinders\": 4, \"displacement\": 140.0, \"horsepower\": 92.0, \"weight\": 2572, \"acceleration\": 14.9, \"model_year\": 76, \"origin\": \"usa\", \"name\": \"capri ii\"}, {\"mpg\": 26.0, \"cylinders\": 4, \"displacement\": 98.0, \"horsepower\": 79.0, \"weight\": 2255, \"acceleration\": 17.7, \"model_year\": 76, \"origin\": \"usa\", \"name\": \"dodge colt\"}, {\"mpg\": 27.0, \"cylinders\": 4, \"displacement\": 101.0, \"horsepower\": 83.0, \"weight\": 2202, \"acceleration\": 15.3, \"model_year\": 76, \"origin\": \"europe\", \"name\": \"renault 12tl\"}, {\"mpg\": 17.5, \"cylinders\": 8, \"displacement\": 305.0, \"horsepower\": 140.0, \"weight\": 4215, \"acceleration\": 13.0, \"model_year\": 76, \"origin\": \"usa\", \"name\": \"chevrolet chevelle malibu classic\"}, {\"mpg\": 16.0, \"cylinders\": 8, \"displacement\": 318.0, \"horsepower\": 150.0, \"weight\": 4190, \"acceleration\": 13.0, \"model_year\": 76, \"origin\": \"usa\", \"name\": \"dodge coronet brougham\"}, {\"mpg\": 15.5, \"cylinders\": 8, \"displacement\": 304.0, \"horsepower\": 120.0, \"weight\": 3962, \"acceleration\": 13.9, \"model_year\": 76, \"origin\": \"usa\", \"name\": \"amc matador\"}, {\"mpg\": 14.5, \"cylinders\": 8, \"displacement\": 351.0, \"horsepower\": 152.0, \"weight\": 4215, \"acceleration\": 12.8, \"model_year\": 76, \"origin\": \"usa\", \"name\": \"ford gran torino\"}, {\"mpg\": 22.0, \"cylinders\": 6, \"displacement\": 225.0, \"horsepower\": 100.0, \"weight\": 3233, \"acceleration\": 15.4, \"model_year\": 76, \"origin\": \"usa\", \"name\": \"plymouth valiant\"}, {\"mpg\": 22.0, \"cylinders\": 6, \"displacement\": 250.0, \"horsepower\": 105.0, \"weight\": 3353, \"acceleration\": 14.5, \"model_year\": 76, \"origin\": \"usa\", \"name\": \"chevrolet nova\"}, {\"mpg\": 24.0, \"cylinders\": 6, \"displacement\": 200.0, \"horsepower\": 81.0, \"weight\": 3012, \"acceleration\": 17.6, \"model_year\": 76, \"origin\": \"usa\", \"name\": \"ford maverick\"}, {\"mpg\": 22.5, \"cylinders\": 6, \"displacement\": 232.0, \"horsepower\": 90.0, \"weight\": 3085, \"acceleration\": 17.6, \"model_year\": 76, \"origin\": \"usa\", \"name\": \"amc hornet\"}, {\"mpg\": 29.0, \"cylinders\": 4, \"displacement\": 85.0, \"horsepower\": 52.0, \"weight\": 2035, \"acceleration\": 22.2, \"model_year\": 76, \"origin\": \"usa\", \"name\": \"chevrolet chevette\"}, {\"mpg\": 24.5, \"cylinders\": 4, \"displacement\": 98.0, \"horsepower\": 60.0, \"weight\": 2164, \"acceleration\": 22.1, \"model_year\": 76, \"origin\": \"usa\", \"name\": \"chevrolet woody\"}, {\"mpg\": 29.0, \"cylinders\": 4, \"displacement\": 90.0, \"horsepower\": 70.0, \"weight\": 1937, \"acceleration\": 14.2, \"model_year\": 76, \"origin\": \"europe\", \"name\": \"vw rabbit\"}, {\"mpg\": 33.0, \"cylinders\": 4, \"displacement\": 91.0, \"horsepower\": 53.0, \"weight\": 1795, \"acceleration\": 17.4, \"model_year\": 76, \"origin\": \"japan\", \"name\": \"honda civic\"}, {\"mpg\": 20.0, \"cylinders\": 6, \"displacement\": 225.0, \"horsepower\": 100.0, \"weight\": 3651, \"acceleration\": 17.7, \"model_year\": 76, \"origin\": \"usa\", \"name\": \"dodge aspen se\"}, {\"mpg\": 18.0, \"cylinders\": 6, \"displacement\": 250.0, \"horsepower\": 78.0, \"weight\": 3574, \"acceleration\": 21.0, \"model_year\": 76, \"origin\": \"usa\", \"name\": \"ford granada ghia\"}, {\"mpg\": 18.5, \"cylinders\": 6, \"displacement\": 250.0, \"horsepower\": 110.0, \"weight\": 3645, \"acceleration\": 16.2, \"model_year\": 76, \"origin\": \"usa\", \"name\": \"pontiac ventura sj\"}, {\"mpg\": 17.5, \"cylinders\": 6, \"displacement\": 258.0, \"horsepower\": 95.0, \"weight\": 3193, \"acceleration\": 17.8, \"model_year\": 76, \"origin\": \"usa\", \"name\": \"amc pacer d/l\"}, {\"mpg\": 29.5, \"cylinders\": 4, \"displacement\": 97.0, \"horsepower\": 71.0, \"weight\": 1825, \"acceleration\": 12.2, \"model_year\": 76, \"origin\": \"europe\", \"name\": \"volkswagen rabbit\"}, {\"mpg\": 32.0, \"cylinders\": 4, \"displacement\": 85.0, \"horsepower\": 70.0, \"weight\": 1990, \"acceleration\": 17.0, \"model_year\": 76, \"origin\": \"japan\", \"name\": \"datsun b-210\"}, {\"mpg\": 28.0, \"cylinders\": 4, \"displacement\": 97.0, \"horsepower\": 75.0, \"weight\": 2155, \"acceleration\": 16.4, \"model_year\": 76, \"origin\": \"japan\", \"name\": \"toyota corolla\"}, {\"mpg\": 26.5, \"cylinders\": 4, \"displacement\": 140.0, \"horsepower\": 72.0, \"weight\": 2565, \"acceleration\": 13.6, \"model_year\": 76, \"origin\": \"usa\", \"name\": \"ford pinto\"}, {\"mpg\": 20.0, \"cylinders\": 4, \"displacement\": 130.0, \"horsepower\": 102.0, \"weight\": 3150, \"acceleration\": 15.7, \"model_year\": 76, \"origin\": \"europe\", \"name\": \"volvo 245\"}, {\"mpg\": 13.0, \"cylinders\": 8, \"displacement\": 318.0, \"horsepower\": 150.0, \"weight\": 3940, \"acceleration\": 13.2, \"model_year\": 76, \"origin\": \"usa\", \"name\": \"plymouth volare premier v8\"}, {\"mpg\": 19.0, \"cylinders\": 4, \"displacement\": 120.0, \"horsepower\": 88.0, \"weight\": 3270, \"acceleration\": 21.9, \"model_year\": 76, \"origin\": \"europe\", \"name\": \"peugeot 504\"}, {\"mpg\": 19.0, \"cylinders\": 6, \"displacement\": 156.0, \"horsepower\": 108.0, \"weight\": 2930, \"acceleration\": 15.5, \"model_year\": 76, \"origin\": \"japan\", \"name\": \"toyota mark ii\"}, {\"mpg\": 16.5, \"cylinders\": 6, \"displacement\": 168.0, \"horsepower\": 120.0, \"weight\": 3820, \"acceleration\": 16.7, \"model_year\": 76, \"origin\": \"europe\", \"name\": \"mercedes-benz 280s\"}, {\"mpg\": 16.5, \"cylinders\": 8, \"displacement\": 350.0, \"horsepower\": 180.0, \"weight\": 4380, \"acceleration\": 12.1, \"model_year\": 76, \"origin\": \"usa\", \"name\": \"cadillac seville\"}, {\"mpg\": 13.0, \"cylinders\": 8, \"displacement\": 350.0, \"horsepower\": 145.0, \"weight\": 4055, \"acceleration\": 12.0, \"model_year\": 76, \"origin\": \"usa\", \"name\": \"chevy c10\"}, {\"mpg\": 13.0, \"cylinders\": 8, \"displacement\": 302.0, \"horsepower\": 130.0, \"weight\": 3870, \"acceleration\": 15.0, \"model_year\": 76, \"origin\": \"usa\", \"name\": \"ford f108\"}, {\"mpg\": 13.0, \"cylinders\": 8, \"displacement\": 318.0, \"horsepower\": 150.0, \"weight\": 3755, \"acceleration\": 14.0, \"model_year\": 76, \"origin\": \"usa\", \"name\": \"dodge d100\"}, {\"mpg\": 31.5, \"cylinders\": 4, \"displacement\": 98.0, \"horsepower\": 68.0, \"weight\": 2045, \"acceleration\": 18.5, \"model_year\": 77, \"origin\": \"japan\", \"name\": \"honda accord cvcc\"}, {\"mpg\": 30.0, \"cylinders\": 4, \"displacement\": 111.0, \"horsepower\": 80.0, \"weight\": 2155, \"acceleration\": 14.8, \"model_year\": 77, \"origin\": \"usa\", \"name\": \"buick opel isuzu deluxe\"}, {\"mpg\": 36.0, \"cylinders\": 4, \"displacement\": 79.0, \"horsepower\": 58.0, \"weight\": 1825, \"acceleration\": 18.6, \"model_year\": 77, \"origin\": \"europe\", \"name\": \"renault 5 gtl\"}, {\"mpg\": 25.5, \"cylinders\": 4, \"displacement\": 122.0, \"horsepower\": 96.0, \"weight\": 2300, \"acceleration\": 15.5, \"model_year\": 77, \"origin\": \"usa\", \"name\": \"plymouth arrow gs\"}, {\"mpg\": 33.5, \"cylinders\": 4, \"displacement\": 85.0, \"horsepower\": 70.0, \"weight\": 1945, \"acceleration\": 16.8, \"model_year\": 77, \"origin\": \"japan\", \"name\": \"datsun f-10 hatchback\"}, {\"mpg\": 17.5, \"cylinders\": 8, \"displacement\": 305.0, \"horsepower\": 145.0, \"weight\": 3880, \"acceleration\": 12.5, \"model_year\": 77, \"origin\": \"usa\", \"name\": \"chevrolet caprice classic\"}, {\"mpg\": 17.0, \"cylinders\": 8, \"displacement\": 260.0, \"horsepower\": 110.0, \"weight\": 4060, \"acceleration\": 19.0, \"model_year\": 77, \"origin\": \"usa\", \"name\": \"oldsmobile cutlass supreme\"}, {\"mpg\": 15.5, \"cylinders\": 8, \"displacement\": 318.0, \"horsepower\": 145.0, \"weight\": 4140, \"acceleration\": 13.7, \"model_year\": 77, \"origin\": \"usa\", \"name\": \"dodge monaco brougham\"}, {\"mpg\": 15.0, \"cylinders\": 8, \"displacement\": 302.0, \"horsepower\": 130.0, \"weight\": 4295, \"acceleration\": 14.9, \"model_year\": 77, \"origin\": \"usa\", \"name\": \"mercury cougar brougham\"}, {\"mpg\": 17.5, \"cylinders\": 6, \"displacement\": 250.0, \"horsepower\": 110.0, \"weight\": 3520, \"acceleration\": 16.4, \"model_year\": 77, \"origin\": \"usa\", \"name\": \"chevrolet concours\"}, {\"mpg\": 20.5, \"cylinders\": 6, \"displacement\": 231.0, \"horsepower\": 105.0, \"weight\": 3425, \"acceleration\": 16.9, \"model_year\": 77, \"origin\": \"usa\", \"name\": \"buick skylark\"}, {\"mpg\": 19.0, \"cylinders\": 6, \"displacement\": 225.0, \"horsepower\": 100.0, \"weight\": 3630, \"acceleration\": 17.7, \"model_year\": 77, \"origin\": \"usa\", \"name\": \"plymouth volare custom\"}, {\"mpg\": 18.5, \"cylinders\": 6, \"displacement\": 250.0, \"horsepower\": 98.0, \"weight\": 3525, \"acceleration\": 19.0, \"model_year\": 77, \"origin\": \"usa\", \"name\": \"ford granada\"}, {\"mpg\": 16.0, \"cylinders\": 8, \"displacement\": 400.0, \"horsepower\": 180.0, \"weight\": 4220, \"acceleration\": 11.1, \"model_year\": 77, \"origin\": \"usa\", \"name\": \"pontiac grand prix lj\"}, {\"mpg\": 15.5, \"cylinders\": 8, \"displacement\": 350.0, \"horsepower\": 170.0, \"weight\": 4165, \"acceleration\": 11.4, \"model_year\": 77, \"origin\": \"usa\", \"name\": \"chevrolet monte carlo landau\"}, {\"mpg\": 15.5, \"cylinders\": 8, \"displacement\": 400.0, \"horsepower\": 190.0, \"weight\": 4325, \"acceleration\": 12.2, \"model_year\": 77, \"origin\": \"usa\", \"name\": \"chrysler cordoba\"}, {\"mpg\": 16.0, \"cylinders\": 8, \"displacement\": 351.0, \"horsepower\": 149.0, \"weight\": 4335, \"acceleration\": 14.5, \"model_year\": 77, \"origin\": \"usa\", \"name\": \"ford thunderbird\"}, {\"mpg\": 29.0, \"cylinders\": 4, \"displacement\": 97.0, \"horsepower\": 78.0, \"weight\": 1940, \"acceleration\": 14.5, \"model_year\": 77, \"origin\": \"europe\", \"name\": \"volkswagen rabbit custom\"}, {\"mpg\": 24.5, \"cylinders\": 4, \"displacement\": 151.0, \"horsepower\": 88.0, \"weight\": 2740, \"acceleration\": 16.0, \"model_year\": 77, \"origin\": \"usa\", \"name\": \"pontiac sunbird coupe\"}, {\"mpg\": 26.0, \"cylinders\": 4, \"displacement\": 97.0, \"horsepower\": 75.0, \"weight\": 2265, \"acceleration\": 18.2, \"model_year\": 77, \"origin\": \"japan\", \"name\": \"toyota corolla liftback\"}, {\"mpg\": 25.5, \"cylinders\": 4, \"displacement\": 140.0, \"horsepower\": 89.0, \"weight\": 2755, \"acceleration\": 15.8, \"model_year\": 77, \"origin\": \"usa\", \"name\": \"ford mustang ii 2+2\"}, {\"mpg\": 30.5, \"cylinders\": 4, \"displacement\": 98.0, \"horsepower\": 63.0, \"weight\": 2051, \"acceleration\": 17.0, \"model_year\": 77, \"origin\": \"usa\", \"name\": \"chevrolet chevette\"}, {\"mpg\": 33.5, \"cylinders\": 4, \"displacement\": 98.0, \"horsepower\": 83.0, \"weight\": 2075, \"acceleration\": 15.9, \"model_year\": 77, \"origin\": \"usa\", \"name\": \"dodge colt m/m\"}, {\"mpg\": 30.0, \"cylinders\": 4, \"displacement\": 97.0, \"horsepower\": 67.0, \"weight\": 1985, \"acceleration\": 16.4, \"model_year\": 77, \"origin\": \"japan\", \"name\": \"subaru dl\"}, {\"mpg\": 30.5, \"cylinders\": 4, \"displacement\": 97.0, \"horsepower\": 78.0, \"weight\": 2190, \"acceleration\": 14.1, \"model_year\": 77, \"origin\": \"europe\", \"name\": \"volkswagen dasher\"}, {\"mpg\": 22.0, \"cylinders\": 6, \"displacement\": 146.0, \"horsepower\": 97.0, \"weight\": 2815, \"acceleration\": 14.5, \"model_year\": 77, \"origin\": \"japan\", \"name\": \"datsun 810\"}, {\"mpg\": 21.5, \"cylinders\": 4, \"displacement\": 121.0, \"horsepower\": 110.0, \"weight\": 2600, \"acceleration\": 12.8, \"model_year\": 77, \"origin\": \"europe\", \"name\": \"bmw 320i\"}, {\"mpg\": 21.5, \"cylinders\": 3, \"displacement\": 80.0, \"horsepower\": 110.0, \"weight\": 2720, \"acceleration\": 13.5, \"model_year\": 77, \"origin\": \"japan\", \"name\": \"mazda rx-4\"}, {\"mpg\": 43.1, \"cylinders\": 4, \"displacement\": 90.0, \"horsepower\": 48.0, \"weight\": 1985, \"acceleration\": 21.5, \"model_year\": 78, \"origin\": \"europe\", \"name\": \"volkswagen rabbit custom diesel\"}, {\"mpg\": 36.1, \"cylinders\": 4, \"displacement\": 98.0, \"horsepower\": 66.0, \"weight\": 1800, \"acceleration\": 14.4, \"model_year\": 78, \"origin\": \"usa\", \"name\": \"ford fiesta\"}, {\"mpg\": 32.8, \"cylinders\": 4, \"displacement\": 78.0, \"horsepower\": 52.0, \"weight\": 1985, \"acceleration\": 19.4, \"model_year\": 78, \"origin\": \"japan\", \"name\": \"mazda glc deluxe\"}, {\"mpg\": 39.4, \"cylinders\": 4, \"displacement\": 85.0, \"horsepower\": 70.0, \"weight\": 2070, \"acceleration\": 18.6, \"model_year\": 78, \"origin\": \"japan\", \"name\": \"datsun b210 gx\"}, {\"mpg\": 36.1, \"cylinders\": 4, \"displacement\": 91.0, \"horsepower\": 60.0, \"weight\": 1800, \"acceleration\": 16.4, \"model_year\": 78, \"origin\": \"japan\", \"name\": \"honda civic cvcc\"}, {\"mpg\": 19.9, \"cylinders\": 8, \"displacement\": 260.0, \"horsepower\": 110.0, \"weight\": 3365, \"acceleration\": 15.5, \"model_year\": 78, \"origin\": \"usa\", \"name\": \"oldsmobile cutlass salon brougham\"}, {\"mpg\": 19.4, \"cylinders\": 8, \"displacement\": 318.0, \"horsepower\": 140.0, \"weight\": 3735, \"acceleration\": 13.2, \"model_year\": 78, \"origin\": \"usa\", \"name\": \"dodge diplomat\"}, {\"mpg\": 20.2, \"cylinders\": 8, \"displacement\": 302.0, \"horsepower\": 139.0, \"weight\": 3570, \"acceleration\": 12.8, \"model_year\": 78, \"origin\": \"usa\", \"name\": \"mercury monarch ghia\"}, {\"mpg\": 19.2, \"cylinders\": 6, \"displacement\": 231.0, \"horsepower\": 105.0, \"weight\": 3535, \"acceleration\": 19.2, \"model_year\": 78, \"origin\": \"usa\", \"name\": \"pontiac phoenix lj\"}, {\"mpg\": 20.5, \"cylinders\": 6, \"displacement\": 200.0, \"horsepower\": 95.0, \"weight\": 3155, \"acceleration\": 18.2, \"model_year\": 78, \"origin\": \"usa\", \"name\": \"chevrolet malibu\"}, {\"mpg\": 20.2, \"cylinders\": 6, \"displacement\": 200.0, \"horsepower\": 85.0, \"weight\": 2965, \"acceleration\": 15.8, \"model_year\": 78, \"origin\": \"usa\", \"name\": \"ford fairmont (auto)\"}, {\"mpg\": 25.1, \"cylinders\": 4, \"displacement\": 140.0, \"horsepower\": 88.0, \"weight\": 2720, \"acceleration\": 15.4, \"model_year\": 78, \"origin\": \"usa\", \"name\": \"ford fairmont (man)\"}, {\"mpg\": 20.5, \"cylinders\": 6, \"displacement\": 225.0, \"horsepower\": 100.0, \"weight\": 3430, \"acceleration\": 17.2, \"model_year\": 78, \"origin\": \"usa\", \"name\": \"plymouth volare\"}, {\"mpg\": 19.4, \"cylinders\": 6, \"displacement\": 232.0, \"horsepower\": 90.0, \"weight\": 3210, \"acceleration\": 17.2, \"model_year\": 78, \"origin\": \"usa\", \"name\": \"amc concord\"}, {\"mpg\": 20.6, \"cylinders\": 6, \"displacement\": 231.0, \"horsepower\": 105.0, \"weight\": 3380, \"acceleration\": 15.8, \"model_year\": 78, \"origin\": \"usa\", \"name\": \"buick century special\"}, {\"mpg\": 20.8, \"cylinders\": 6, \"displacement\": 200.0, \"horsepower\": 85.0, \"weight\": 3070, \"acceleration\": 16.7, \"model_year\": 78, \"origin\": \"usa\", \"name\": \"mercury zephyr\"}, {\"mpg\": 18.6, \"cylinders\": 6, \"displacement\": 225.0, \"horsepower\": 110.0, \"weight\": 3620, \"acceleration\": 18.7, \"model_year\": 78, \"origin\": \"usa\", \"name\": \"dodge aspen\"}, {\"mpg\": 18.1, \"cylinders\": 6, \"displacement\": 258.0, \"horsepower\": 120.0, \"weight\": 3410, \"acceleration\": 15.1, \"model_year\": 78, \"origin\": \"usa\", \"name\": \"amc concord d/l\"}, {\"mpg\": 19.2, \"cylinders\": 8, \"displacement\": 305.0, \"horsepower\": 145.0, \"weight\": 3425, \"acceleration\": 13.2, \"model_year\": 78, \"origin\": \"usa\", \"name\": \"chevrolet monte carlo landau\"}, {\"mpg\": 17.7, \"cylinders\": 6, \"displacement\": 231.0, \"horsepower\": 165.0, \"weight\": 3445, \"acceleration\": 13.4, \"model_year\": 78, \"origin\": \"usa\", \"name\": \"buick regal sport coupe (turbo)\"}, {\"mpg\": 18.1, \"cylinders\": 8, \"displacement\": 302.0, \"horsepower\": 139.0, \"weight\": 3205, \"acceleration\": 11.2, \"model_year\": 78, \"origin\": \"usa\", \"name\": \"ford futura\"}, {\"mpg\": 17.5, \"cylinders\": 8, \"displacement\": 318.0, \"horsepower\": 140.0, \"weight\": 4080, \"acceleration\": 13.7, \"model_year\": 78, \"origin\": \"usa\", \"name\": \"dodge magnum xe\"}, {\"mpg\": 30.0, \"cylinders\": 4, \"displacement\": 98.0, \"horsepower\": 68.0, \"weight\": 2155, \"acceleration\": 16.5, \"model_year\": 78, \"origin\": \"usa\", \"name\": \"chevrolet chevette\"}, {\"mpg\": 27.5, \"cylinders\": 4, \"displacement\": 134.0, \"horsepower\": 95.0, \"weight\": 2560, \"acceleration\": 14.2, \"model_year\": 78, \"origin\": \"japan\", \"name\": \"toyota corona\"}, {\"mpg\": 27.2, \"cylinders\": 4, \"displacement\": 119.0, \"horsepower\": 97.0, \"weight\": 2300, \"acceleration\": 14.7, \"model_year\": 78, \"origin\": \"japan\", \"name\": \"datsun 510\"}, {\"mpg\": 30.9, \"cylinders\": 4, \"displacement\": 105.0, \"horsepower\": 75.0, \"weight\": 2230, \"acceleration\": 14.5, \"model_year\": 78, \"origin\": \"usa\", \"name\": \"dodge omni\"}, {\"mpg\": 21.1, \"cylinders\": 4, \"displacement\": 134.0, \"horsepower\": 95.0, \"weight\": 2515, \"acceleration\": 14.8, \"model_year\": 78, \"origin\": \"japan\", \"name\": \"toyota celica gt liftback\"}, {\"mpg\": 23.2, \"cylinders\": 4, \"displacement\": 156.0, \"horsepower\": 105.0, \"weight\": 2745, \"acceleration\": 16.7, \"model_year\": 78, \"origin\": \"usa\", \"name\": \"plymouth sapporo\"}, {\"mpg\": 23.8, \"cylinders\": 4, \"displacement\": 151.0, \"horsepower\": 85.0, \"weight\": 2855, \"acceleration\": 17.6, \"model_year\": 78, \"origin\": \"usa\", \"name\": \"oldsmobile starfire sx\"}, {\"mpg\": 23.9, \"cylinders\": 4, \"displacement\": 119.0, \"horsepower\": 97.0, \"weight\": 2405, \"acceleration\": 14.9, \"model_year\": 78, \"origin\": \"japan\", \"name\": \"datsun 200-sx\"}, {\"mpg\": 20.3, \"cylinders\": 5, \"displacement\": 131.0, \"horsepower\": 103.0, \"weight\": 2830, \"acceleration\": 15.9, \"model_year\": 78, \"origin\": \"europe\", \"name\": \"audi 5000\"}, {\"mpg\": 17.0, \"cylinders\": 6, \"displacement\": 163.0, \"horsepower\": 125.0, \"weight\": 3140, \"acceleration\": 13.6, \"model_year\": 78, \"origin\": \"europe\", \"name\": \"volvo 264gl\"}, {\"mpg\": 21.6, \"cylinders\": 4, \"displacement\": 121.0, \"horsepower\": 115.0, \"weight\": 2795, \"acceleration\": 15.7, \"model_year\": 78, \"origin\": \"europe\", \"name\": \"saab 99gle\"}, {\"mpg\": 16.2, \"cylinders\": 6, \"displacement\": 163.0, \"horsepower\": 133.0, \"weight\": 3410, \"acceleration\": 15.8, \"model_year\": 78, \"origin\": \"europe\", \"name\": \"peugeot 604sl\"}, {\"mpg\": 31.5, \"cylinders\": 4, \"displacement\": 89.0, \"horsepower\": 71.0, \"weight\": 1990, \"acceleration\": 14.9, \"model_year\": 78, \"origin\": \"europe\", \"name\": \"volkswagen scirocco\"}, {\"mpg\": 29.5, \"cylinders\": 4, \"displacement\": 98.0, \"horsepower\": 68.0, \"weight\": 2135, \"acceleration\": 16.6, \"model_year\": 78, \"origin\": \"japan\", \"name\": \"honda accord lx\"}, {\"mpg\": 21.5, \"cylinders\": 6, \"displacement\": 231.0, \"horsepower\": 115.0, \"weight\": 3245, \"acceleration\": 15.4, \"model_year\": 79, \"origin\": \"usa\", \"name\": \"pontiac lemans v6\"}, {\"mpg\": 19.8, \"cylinders\": 6, \"displacement\": 200.0, \"horsepower\": 85.0, \"weight\": 2990, \"acceleration\": 18.2, \"model_year\": 79, \"origin\": \"usa\", \"name\": \"mercury zephyr 6\"}, {\"mpg\": 22.3, \"cylinders\": 4, \"displacement\": 140.0, \"horsepower\": 88.0, \"weight\": 2890, \"acceleration\": 17.3, \"model_year\": 79, \"origin\": \"usa\", \"name\": \"ford fairmont 4\"}, {\"mpg\": 20.2, \"cylinders\": 6, \"displacement\": 232.0, \"horsepower\": 90.0, \"weight\": 3265, \"acceleration\": 18.2, \"model_year\": 79, \"origin\": \"usa\", \"name\": \"amc concord dl 6\"}, {\"mpg\": 20.6, \"cylinders\": 6, \"displacement\": 225.0, \"horsepower\": 110.0, \"weight\": 3360, \"acceleration\": 16.6, \"model_year\": 79, \"origin\": \"usa\", \"name\": \"dodge aspen 6\"}, {\"mpg\": 17.0, \"cylinders\": 8, \"displacement\": 305.0, \"horsepower\": 130.0, \"weight\": 3840, \"acceleration\": 15.4, \"model_year\": 79, \"origin\": \"usa\", \"name\": \"chevrolet caprice classic\"}, {\"mpg\": 17.6, \"cylinders\": 8, \"displacement\": 302.0, \"horsepower\": 129.0, \"weight\": 3725, \"acceleration\": 13.4, \"model_year\": 79, \"origin\": \"usa\", \"name\": \"ford ltd landau\"}, {\"mpg\": 16.5, \"cylinders\": 8, \"displacement\": 351.0, \"horsepower\": 138.0, \"weight\": 3955, \"acceleration\": 13.2, \"model_year\": 79, \"origin\": \"usa\", \"name\": \"mercury grand marquis\"}, {\"mpg\": 18.2, \"cylinders\": 8, \"displacement\": 318.0, \"horsepower\": 135.0, \"weight\": 3830, \"acceleration\": 15.2, \"model_year\": 79, \"origin\": \"usa\", \"name\": \"dodge st. regis\"}, {\"mpg\": 16.9, \"cylinders\": 8, \"displacement\": 350.0, \"horsepower\": 155.0, \"weight\": 4360, \"acceleration\": 14.9, \"model_year\": 79, \"origin\": \"usa\", \"name\": \"buick estate wagon (sw)\"}, {\"mpg\": 15.5, \"cylinders\": 8, \"displacement\": 351.0, \"horsepower\": 142.0, \"weight\": 4054, \"acceleration\": 14.3, \"model_year\": 79, \"origin\": \"usa\", \"name\": \"ford country squire (sw)\"}, {\"mpg\": 19.2, \"cylinders\": 8, \"displacement\": 267.0, \"horsepower\": 125.0, \"weight\": 3605, \"acceleration\": 15.0, \"model_year\": 79, \"origin\": \"usa\", \"name\": \"chevrolet malibu classic (sw)\"}, {\"mpg\": 18.5, \"cylinders\": 8, \"displacement\": 360.0, \"horsepower\": 150.0, \"weight\": 3940, \"acceleration\": 13.0, \"model_year\": 79, \"origin\": \"usa\", \"name\": \"chrysler lebaron town @ country (sw)\"}, {\"mpg\": 31.9, \"cylinders\": 4, \"displacement\": 89.0, \"horsepower\": 71.0, \"weight\": 1925, \"acceleration\": 14.0, \"model_year\": 79, \"origin\": \"europe\", \"name\": \"vw rabbit custom\"}, {\"mpg\": 34.1, \"cylinders\": 4, \"displacement\": 86.0, \"horsepower\": 65.0, \"weight\": 1975, \"acceleration\": 15.2, \"model_year\": 79, \"origin\": \"japan\", \"name\": \"maxda glc deluxe\"}, {\"mpg\": 35.7, \"cylinders\": 4, \"displacement\": 98.0, \"horsepower\": 80.0, \"weight\": 1915, \"acceleration\": 14.4, \"model_year\": 79, \"origin\": \"usa\", \"name\": \"dodge colt hatchback custom\"}, {\"mpg\": 27.4, \"cylinders\": 4, \"displacement\": 121.0, \"horsepower\": 80.0, \"weight\": 2670, \"acceleration\": 15.0, \"model_year\": 79, \"origin\": \"usa\", \"name\": \"amc spirit dl\"}, {\"mpg\": 25.4, \"cylinders\": 5, \"displacement\": 183.0, \"horsepower\": 77.0, \"weight\": 3530, \"acceleration\": 20.1, \"model_year\": 79, \"origin\": \"europe\", \"name\": \"mercedes benz 300d\"}, {\"mpg\": 23.0, \"cylinders\": 8, \"displacement\": 350.0, \"horsepower\": 125.0, \"weight\": 3900, \"acceleration\": 17.4, \"model_year\": 79, \"origin\": \"usa\", \"name\": \"cadillac eldorado\"}, {\"mpg\": 27.2, \"cylinders\": 4, \"displacement\": 141.0, \"horsepower\": 71.0, \"weight\": 3190, \"acceleration\": 24.8, \"model_year\": 79, \"origin\": \"europe\", \"name\": \"peugeot 504\"}, {\"mpg\": 23.9, \"cylinders\": 8, \"displacement\": 260.0, \"horsepower\": 90.0, \"weight\": 3420, \"acceleration\": 22.2, \"model_year\": 79, \"origin\": \"usa\", \"name\": \"oldsmobile cutlass salon brougham\"}, {\"mpg\": 34.2, \"cylinders\": 4, \"displacement\": 105.0, \"horsepower\": 70.0, \"weight\": 2200, \"acceleration\": 13.2, \"model_year\": 79, \"origin\": \"usa\", \"name\": \"plymouth horizon\"}, {\"mpg\": 34.5, \"cylinders\": 4, \"displacement\": 105.0, \"horsepower\": 70.0, \"weight\": 2150, \"acceleration\": 14.9, \"model_year\": 79, \"origin\": \"usa\", \"name\": \"plymouth horizon tc3\"}, {\"mpg\": 31.8, \"cylinders\": 4, \"displacement\": 85.0, \"horsepower\": 65.0, \"weight\": 2020, \"acceleration\": 19.2, \"model_year\": 79, \"origin\": \"japan\", \"name\": \"datsun 210\"}, {\"mpg\": 37.3, \"cylinders\": 4, \"displacement\": 91.0, \"horsepower\": 69.0, \"weight\": 2130, \"acceleration\": 14.7, \"model_year\": 79, \"origin\": \"europe\", \"name\": \"fiat strada custom\"}, {\"mpg\": 28.4, \"cylinders\": 4, \"displacement\": 151.0, \"horsepower\": 90.0, \"weight\": 2670, \"acceleration\": 16.0, \"model_year\": 79, \"origin\": \"usa\", \"name\": \"buick skylark limited\"}, {\"mpg\": 28.8, \"cylinders\": 6, \"displacement\": 173.0, \"horsepower\": 115.0, \"weight\": 2595, \"acceleration\": 11.3, \"model_year\": 79, \"origin\": \"usa\", \"name\": \"chevrolet citation\"}, {\"mpg\": 26.8, \"cylinders\": 6, \"displacement\": 173.0, \"horsepower\": 115.0, \"weight\": 2700, \"acceleration\": 12.9, \"model_year\": 79, \"origin\": \"usa\", \"name\": \"oldsmobile omega brougham\"}, {\"mpg\": 33.5, \"cylinders\": 4, \"displacement\": 151.0, \"horsepower\": 90.0, \"weight\": 2556, \"acceleration\": 13.2, \"model_year\": 79, \"origin\": \"usa\", \"name\": \"pontiac phoenix\"}, {\"mpg\": 41.5, \"cylinders\": 4, \"displacement\": 98.0, \"horsepower\": 76.0, \"weight\": 2144, \"acceleration\": 14.7, \"model_year\": 80, \"origin\": \"europe\", \"name\": \"vw rabbit\"}, {\"mpg\": 38.1, \"cylinders\": 4, \"displacement\": 89.0, \"horsepower\": 60.0, \"weight\": 1968, \"acceleration\": 18.8, \"model_year\": 80, \"origin\": \"japan\", \"name\": \"toyota corolla tercel\"}, {\"mpg\": 32.1, \"cylinders\": 4, \"displacement\": 98.0, \"horsepower\": 70.0, \"weight\": 2120, \"acceleration\": 15.5, \"model_year\": 80, \"origin\": \"usa\", \"name\": \"chevrolet chevette\"}, {\"mpg\": 37.2, \"cylinders\": 4, \"displacement\": 86.0, \"horsepower\": 65.0, \"weight\": 2019, \"acceleration\": 16.4, \"model_year\": 80, \"origin\": \"japan\", \"name\": \"datsun 310\"}, {\"mpg\": 28.0, \"cylinders\": 4, \"displacement\": 151.0, \"horsepower\": 90.0, \"weight\": 2678, \"acceleration\": 16.5, \"model_year\": 80, \"origin\": \"usa\", \"name\": \"chevrolet citation\"}, {\"mpg\": 26.4, \"cylinders\": 4, \"displacement\": 140.0, \"horsepower\": 88.0, \"weight\": 2870, \"acceleration\": 18.1, \"model_year\": 80, \"origin\": \"usa\", \"name\": \"ford fairmont\"}, {\"mpg\": 24.3, \"cylinders\": 4, \"displacement\": 151.0, \"horsepower\": 90.0, \"weight\": 3003, \"acceleration\": 20.1, \"model_year\": 80, \"origin\": \"usa\", \"name\": \"amc concord\"}, {\"mpg\": 19.1, \"cylinders\": 6, \"displacement\": 225.0, \"horsepower\": 90.0, \"weight\": 3381, \"acceleration\": 18.7, \"model_year\": 80, \"origin\": \"usa\", \"name\": \"dodge aspen\"}, {\"mpg\": 34.3, \"cylinders\": 4, \"displacement\": 97.0, \"horsepower\": 78.0, \"weight\": 2188, \"acceleration\": 15.8, \"model_year\": 80, \"origin\": \"europe\", \"name\": \"audi 4000\"}, {\"mpg\": 29.8, \"cylinders\": 4, \"displacement\": 134.0, \"horsepower\": 90.0, \"weight\": 2711, \"acceleration\": 15.5, \"model_year\": 80, \"origin\": \"japan\", \"name\": \"toyota corona liftback\"}, {\"mpg\": 31.3, \"cylinders\": 4, \"displacement\": 120.0, \"horsepower\": 75.0, \"weight\": 2542, \"acceleration\": 17.5, \"model_year\": 80, \"origin\": \"japan\", \"name\": \"mazda 626\"}, {\"mpg\": 37.0, \"cylinders\": 4, \"displacement\": 119.0, \"horsepower\": 92.0, \"weight\": 2434, \"acceleration\": 15.0, \"model_year\": 80, \"origin\": \"japan\", \"name\": \"datsun 510 hatchback\"}, {\"mpg\": 32.2, \"cylinders\": 4, \"displacement\": 108.0, \"horsepower\": 75.0, \"weight\": 2265, \"acceleration\": 15.2, \"model_year\": 80, \"origin\": \"japan\", \"name\": \"toyota corolla\"}, {\"mpg\": 46.6, \"cylinders\": 4, \"displacement\": 86.0, \"horsepower\": 65.0, \"weight\": 2110, \"acceleration\": 17.9, \"model_year\": 80, \"origin\": \"japan\", \"name\": \"mazda glc\"}, {\"mpg\": 27.9, \"cylinders\": 4, \"displacement\": 156.0, \"horsepower\": 105.0, \"weight\": 2800, \"acceleration\": 14.4, \"model_year\": 80, \"origin\": \"usa\", \"name\": \"dodge colt\"}, {\"mpg\": 40.8, \"cylinders\": 4, \"displacement\": 85.0, \"horsepower\": 65.0, \"weight\": 2110, \"acceleration\": 19.2, \"model_year\": 80, \"origin\": \"japan\", \"name\": \"datsun 210\"}, {\"mpg\": 44.3, \"cylinders\": 4, \"displacement\": 90.0, \"horsepower\": 48.0, \"weight\": 2085, \"acceleration\": 21.7, \"model_year\": 80, \"origin\": \"europe\", \"name\": \"vw rabbit c (diesel)\"}, {\"mpg\": 43.4, \"cylinders\": 4, \"displacement\": 90.0, \"horsepower\": 48.0, \"weight\": 2335, \"acceleration\": 23.7, \"model_year\": 80, \"origin\": \"europe\", \"name\": \"vw dasher (diesel)\"}, {\"mpg\": 36.4, \"cylinders\": 5, \"displacement\": 121.0, \"horsepower\": 67.0, \"weight\": 2950, \"acceleration\": 19.9, \"model_year\": 80, \"origin\": \"europe\", \"name\": \"audi 5000s (diesel)\"}, {\"mpg\": 30.0, \"cylinders\": 4, \"displacement\": 146.0, \"horsepower\": 67.0, \"weight\": 3250, \"acceleration\": 21.8, \"model_year\": 80, \"origin\": \"europe\", \"name\": \"mercedes-benz 240d\"}, {\"mpg\": 44.6, \"cylinders\": 4, \"displacement\": 91.0, \"horsepower\": 67.0, \"weight\": 1850, \"acceleration\": 13.8, \"model_year\": 80, \"origin\": \"japan\", \"name\": \"honda civic 1500 gl\"}, {\"mpg\": 40.9, \"cylinders\": 4, \"displacement\": 85.0, \"horsepower\": null, \"weight\": 1835, \"acceleration\": 17.3, \"model_year\": 80, \"origin\": \"europe\", \"name\": \"renault lecar deluxe\"}, {\"mpg\": 33.8, \"cylinders\": 4, \"displacement\": 97.0, \"horsepower\": 67.0, \"weight\": 2145, \"acceleration\": 18.0, \"model_year\": 80, \"origin\": \"japan\", \"name\": \"subaru dl\"}, {\"mpg\": 29.8, \"cylinders\": 4, \"displacement\": 89.0, \"horsepower\": 62.0, \"weight\": 1845, \"acceleration\": 15.3, \"model_year\": 80, \"origin\": \"europe\", \"name\": \"vokswagen rabbit\"}, {\"mpg\": 32.7, \"cylinders\": 6, \"displacement\": 168.0, \"horsepower\": 132.0, \"weight\": 2910, \"acceleration\": 11.4, \"model_year\": 80, \"origin\": \"japan\", \"name\": \"datsun 280-zx\"}, {\"mpg\": 23.7, \"cylinders\": 3, \"displacement\": 70.0, \"horsepower\": 100.0, \"weight\": 2420, \"acceleration\": 12.5, \"model_year\": 80, \"origin\": \"japan\", \"name\": \"mazda rx-7 gs\"}, {\"mpg\": 35.0, \"cylinders\": 4, \"displacement\": 122.0, \"horsepower\": 88.0, \"weight\": 2500, \"acceleration\": 15.1, \"model_year\": 80, \"origin\": \"europe\", \"name\": \"triumph tr7 coupe\"}, {\"mpg\": 23.6, \"cylinders\": 4, \"displacement\": 140.0, \"horsepower\": null, \"weight\": 2905, \"acceleration\": 14.3, \"model_year\": 80, \"origin\": \"usa\", \"name\": \"ford mustang cobra\"}, {\"mpg\": 32.4, \"cylinders\": 4, \"displacement\": 107.0, \"horsepower\": 72.0, \"weight\": 2290, \"acceleration\": 17.0, \"model_year\": 80, \"origin\": \"japan\", \"name\": \"honda accord\"}, {\"mpg\": 27.2, \"cylinders\": 4, \"displacement\": 135.0, \"horsepower\": 84.0, \"weight\": 2490, \"acceleration\": 15.7, \"model_year\": 81, \"origin\": \"usa\", \"name\": \"plymouth reliant\"}, {\"mpg\": 26.6, \"cylinders\": 4, \"displacement\": 151.0, \"horsepower\": 84.0, \"weight\": 2635, \"acceleration\": 16.4, \"model_year\": 81, \"origin\": \"usa\", \"name\": \"buick skylark\"}, {\"mpg\": 25.8, \"cylinders\": 4, \"displacement\": 156.0, \"horsepower\": 92.0, \"weight\": 2620, \"acceleration\": 14.4, \"model_year\": 81, \"origin\": \"usa\", \"name\": \"dodge aries wagon (sw)\"}, {\"mpg\": 23.5, \"cylinders\": 6, \"displacement\": 173.0, \"horsepower\": 110.0, \"weight\": 2725, \"acceleration\": 12.6, \"model_year\": 81, \"origin\": \"usa\", \"name\": \"chevrolet citation\"}, {\"mpg\": 30.0, \"cylinders\": 4, \"displacement\": 135.0, \"horsepower\": 84.0, \"weight\": 2385, \"acceleration\": 12.9, \"model_year\": 81, \"origin\": \"usa\", \"name\": \"plymouth reliant\"}, {\"mpg\": 39.1, \"cylinders\": 4, \"displacement\": 79.0, \"horsepower\": 58.0, \"weight\": 1755, \"acceleration\": 16.9, \"model_year\": 81, \"origin\": \"japan\", \"name\": \"toyota starlet\"}, {\"mpg\": 39.0, \"cylinders\": 4, \"displacement\": 86.0, \"horsepower\": 64.0, \"weight\": 1875, \"acceleration\": 16.4, \"model_year\": 81, \"origin\": \"usa\", \"name\": \"plymouth champ\"}, {\"mpg\": 35.1, \"cylinders\": 4, \"displacement\": 81.0, \"horsepower\": 60.0, \"weight\": 1760, \"acceleration\": 16.1, \"model_year\": 81, \"origin\": \"japan\", \"name\": \"honda civic 1300\"}, {\"mpg\": 32.3, \"cylinders\": 4, \"displacement\": 97.0, \"horsepower\": 67.0, \"weight\": 2065, \"acceleration\": 17.8, \"model_year\": 81, \"origin\": \"japan\", \"name\": \"subaru\"}, {\"mpg\": 37.0, \"cylinders\": 4, \"displacement\": 85.0, \"horsepower\": 65.0, \"weight\": 1975, \"acceleration\": 19.4, \"model_year\": 81, \"origin\": \"japan\", \"name\": \"datsun 210 mpg\"}, {\"mpg\": 37.7, \"cylinders\": 4, \"displacement\": 89.0, \"horsepower\": 62.0, \"weight\": 2050, \"acceleration\": 17.3, \"model_year\": 81, \"origin\": \"japan\", \"name\": \"toyota tercel\"}, {\"mpg\": 34.1, \"cylinders\": 4, \"displacement\": 91.0, \"horsepower\": 68.0, \"weight\": 1985, \"acceleration\": 16.0, \"model_year\": 81, \"origin\": \"japan\", \"name\": \"mazda glc 4\"}, {\"mpg\": 34.7, \"cylinders\": 4, \"displacement\": 105.0, \"horsepower\": 63.0, \"weight\": 2215, \"acceleration\": 14.9, \"model_year\": 81, \"origin\": \"usa\", \"name\": \"plymouth horizon 4\"}, {\"mpg\": 34.4, \"cylinders\": 4, \"displacement\": 98.0, \"horsepower\": 65.0, \"weight\": 2045, \"acceleration\": 16.2, \"model_year\": 81, \"origin\": \"usa\", \"name\": \"ford escort 4w\"}, {\"mpg\": 29.9, \"cylinders\": 4, \"displacement\": 98.0, \"horsepower\": 65.0, \"weight\": 2380, \"acceleration\": 20.7, \"model_year\": 81, \"origin\": \"usa\", \"name\": \"ford escort 2h\"}, {\"mpg\": 33.0, \"cylinders\": 4, \"displacement\": 105.0, \"horsepower\": 74.0, \"weight\": 2190, \"acceleration\": 14.2, \"model_year\": 81, \"origin\": \"europe\", \"name\": \"volkswagen jetta\"}, {\"mpg\": 34.5, \"cylinders\": 4, \"displacement\": 100.0, \"horsepower\": null, \"weight\": 2320, \"acceleration\": 15.8, \"model_year\": 81, \"origin\": \"europe\", \"name\": \"renault 18i\"}, {\"mpg\": 33.7, \"cylinders\": 4, \"displacement\": 107.0, \"horsepower\": 75.0, \"weight\": 2210, \"acceleration\": 14.4, \"model_year\": 81, \"origin\": \"japan\", \"name\": \"honda prelude\"}, {\"mpg\": 32.4, \"cylinders\": 4, \"displacement\": 108.0, \"horsepower\": 75.0, \"weight\": 2350, \"acceleration\": 16.8, \"model_year\": 81, \"origin\": \"japan\", \"name\": \"toyota corolla\"}, {\"mpg\": 32.9, \"cylinders\": 4, \"displacement\": 119.0, \"horsepower\": 100.0, \"weight\": 2615, \"acceleration\": 14.8, \"model_year\": 81, \"origin\": \"japan\", \"name\": \"datsun 200sx\"}, {\"mpg\": 31.6, \"cylinders\": 4, \"displacement\": 120.0, \"horsepower\": 74.0, \"weight\": 2635, \"acceleration\": 18.3, \"model_year\": 81, \"origin\": \"japan\", \"name\": \"mazda 626\"}, {\"mpg\": 28.1, \"cylinders\": 4, \"displacement\": 141.0, \"horsepower\": 80.0, \"weight\": 3230, \"acceleration\": 20.4, \"model_year\": 81, \"origin\": \"europe\", \"name\": \"peugeot 505s turbo diesel\"}, {\"mpg\": 30.7, \"cylinders\": 6, \"displacement\": 145.0, \"horsepower\": 76.0, \"weight\": 3160, \"acceleration\": 19.6, \"model_year\": 81, \"origin\": \"europe\", \"name\": \"volvo diesel\"}, {\"mpg\": 25.4, \"cylinders\": 6, \"displacement\": 168.0, \"horsepower\": 116.0, \"weight\": 2900, \"acceleration\": 12.6, \"model_year\": 81, \"origin\": \"japan\", \"name\": \"toyota cressida\"}, {\"mpg\": 24.2, \"cylinders\": 6, \"displacement\": 146.0, \"horsepower\": 120.0, \"weight\": 2930, \"acceleration\": 13.8, \"model_year\": 81, \"origin\": \"japan\", \"name\": \"datsun 810 maxima\"}, {\"mpg\": 22.4, \"cylinders\": 6, \"displacement\": 231.0, \"horsepower\": 110.0, \"weight\": 3415, \"acceleration\": 15.8, \"model_year\": 81, \"origin\": \"usa\", \"name\": \"buick century\"}, {\"mpg\": 26.6, \"cylinders\": 8, \"displacement\": 350.0, \"horsepower\": 105.0, \"weight\": 3725, \"acceleration\": 19.0, \"model_year\": 81, \"origin\": \"usa\", \"name\": \"oldsmobile cutlass ls\"}, {\"mpg\": 20.2, \"cylinders\": 6, \"displacement\": 200.0, \"horsepower\": 88.0, \"weight\": 3060, \"acceleration\": 17.1, \"model_year\": 81, \"origin\": \"usa\", \"name\": \"ford granada gl\"}, {\"mpg\": 17.6, \"cylinders\": 6, \"displacement\": 225.0, \"horsepower\": 85.0, \"weight\": 3465, \"acceleration\": 16.6, \"model_year\": 81, \"origin\": \"usa\", \"name\": \"chrysler lebaron salon\"}, {\"mpg\": 28.0, \"cylinders\": 4, \"displacement\": 112.0, \"horsepower\": 88.0, \"weight\": 2605, \"acceleration\": 19.6, \"model_year\": 82, \"origin\": \"usa\", \"name\": \"chevrolet cavalier\"}, {\"mpg\": 27.0, \"cylinders\": 4, \"displacement\": 112.0, \"horsepower\": 88.0, \"weight\": 2640, \"acceleration\": 18.6, \"model_year\": 82, \"origin\": \"usa\", \"name\": \"chevrolet cavalier wagon\"}, {\"mpg\": 34.0, \"cylinders\": 4, \"displacement\": 112.0, \"horsepower\": 88.0, \"weight\": 2395, \"acceleration\": 18.0, \"model_year\": 82, \"origin\": \"usa\", \"name\": \"chevrolet cavalier 2-door\"}, {\"mpg\": 31.0, \"cylinders\": 4, \"displacement\": 112.0, \"horsepower\": 85.0, \"weight\": 2575, \"acceleration\": 16.2, \"model_year\": 82, \"origin\": \"usa\", \"name\": \"pontiac j2000 se hatchback\"}, {\"mpg\": 29.0, \"cylinders\": 4, \"displacement\": 135.0, \"horsepower\": 84.0, \"weight\": 2525, \"acceleration\": 16.0, \"model_year\": 82, \"origin\": \"usa\", \"name\": \"dodge aries se\"}, {\"mpg\": 27.0, \"cylinders\": 4, \"displacement\": 151.0, \"horsepower\": 90.0, \"weight\": 2735, \"acceleration\": 18.0, \"model_year\": 82, \"origin\": \"usa\", \"name\": \"pontiac phoenix\"}, {\"mpg\": 24.0, \"cylinders\": 4, \"displacement\": 140.0, \"horsepower\": 92.0, \"weight\": 2865, \"acceleration\": 16.4, \"model_year\": 82, \"origin\": \"usa\", \"name\": \"ford fairmont futura\"}, {\"mpg\": 23.0, \"cylinders\": 4, \"displacement\": 151.0, \"horsepower\": null, \"weight\": 3035, \"acceleration\": 20.5, \"model_year\": 82, \"origin\": \"usa\", \"name\": \"amc concord dl\"}, {\"mpg\": 36.0, \"cylinders\": 4, \"displacement\": 105.0, \"horsepower\": 74.0, \"weight\": 1980, \"acceleration\": 15.3, \"model_year\": 82, \"origin\": \"europe\", \"name\": \"volkswagen rabbit l\"}, {\"mpg\": 37.0, \"cylinders\": 4, \"displacement\": 91.0, \"horsepower\": 68.0, \"weight\": 2025, \"acceleration\": 18.2, \"model_year\": 82, \"origin\": \"japan\", \"name\": \"mazda glc custom l\"}, {\"mpg\": 31.0, \"cylinders\": 4, \"displacement\": 91.0, \"horsepower\": 68.0, \"weight\": 1970, \"acceleration\": 17.6, \"model_year\": 82, \"origin\": \"japan\", \"name\": \"mazda glc custom\"}, {\"mpg\": 38.0, \"cylinders\": 4, \"displacement\": 105.0, \"horsepower\": 63.0, \"weight\": 2125, \"acceleration\": 14.7, \"model_year\": 82, \"origin\": \"usa\", \"name\": \"plymouth horizon miser\"}, {\"mpg\": 36.0, \"cylinders\": 4, \"displacement\": 98.0, \"horsepower\": 70.0, \"weight\": 2125, \"acceleration\": 17.3, \"model_year\": 82, \"origin\": \"usa\", \"name\": \"mercury lynx l\"}, {\"mpg\": 36.0, \"cylinders\": 4, \"displacement\": 120.0, \"horsepower\": 88.0, \"weight\": 2160, \"acceleration\": 14.5, \"model_year\": 82, \"origin\": \"japan\", \"name\": \"nissan stanza xe\"}, {\"mpg\": 36.0, \"cylinders\": 4, \"displacement\": 107.0, \"horsepower\": 75.0, \"weight\": 2205, \"acceleration\": 14.5, \"model_year\": 82, \"origin\": \"japan\", \"name\": \"honda accord\"}, {\"mpg\": 34.0, \"cylinders\": 4, \"displacement\": 108.0, \"horsepower\": 70.0, \"weight\": 2245, \"acceleration\": 16.9, \"model_year\": 82, \"origin\": \"japan\", \"name\": \"toyota corolla\"}, {\"mpg\": 38.0, \"cylinders\": 4, \"displacement\": 91.0, \"horsepower\": 67.0, \"weight\": 1965, \"acceleration\": 15.0, \"model_year\": 82, \"origin\": \"japan\", \"name\": \"honda civic\"}, {\"mpg\": 32.0, \"cylinders\": 4, \"displacement\": 91.0, \"horsepower\": 67.0, \"weight\": 1965, \"acceleration\": 15.7, \"model_year\": 82, \"origin\": \"japan\", \"name\": \"honda civic (auto)\"}, {\"mpg\": 38.0, \"cylinders\": 4, \"displacement\": 91.0, \"horsepower\": 67.0, \"weight\": 1995, \"acceleration\": 16.2, \"model_year\": 82, \"origin\": \"japan\", \"name\": \"datsun 310 gx\"}, {\"mpg\": 25.0, \"cylinders\": 6, \"displacement\": 181.0, \"horsepower\": 110.0, \"weight\": 2945, \"acceleration\": 16.4, \"model_year\": 82, \"origin\": \"usa\", \"name\": \"buick century limited\"}, {\"mpg\": 38.0, \"cylinders\": 6, \"displacement\": 262.0, \"horsepower\": 85.0, \"weight\": 3015, \"acceleration\": 17.0, \"model_year\": 82, \"origin\": \"usa\", \"name\": \"oldsmobile cutlass ciera (diesel)\"}, {\"mpg\": 26.0, \"cylinders\": 4, \"displacement\": 156.0, \"horsepower\": 92.0, \"weight\": 2585, \"acceleration\": 14.5, \"model_year\": 82, \"origin\": \"usa\", \"name\": \"chrysler lebaron medallion\"}, {\"mpg\": 22.0, \"cylinders\": 6, \"displacement\": 232.0, \"horsepower\": 112.0, \"weight\": 2835, \"acceleration\": 14.7, \"model_year\": 82, \"origin\": \"usa\", \"name\": \"ford granada l\"}, {\"mpg\": 32.0, \"cylinders\": 4, \"displacement\": 144.0, \"horsepower\": 96.0, \"weight\": 2665, \"acceleration\": 13.9, \"model_year\": 82, \"origin\": \"japan\", \"name\": \"toyota celica gt\"}, {\"mpg\": 36.0, \"cylinders\": 4, \"displacement\": 135.0, \"horsepower\": 84.0, \"weight\": 2370, \"acceleration\": 13.0, \"model_year\": 82, \"origin\": \"usa\", \"name\": \"dodge charger 2.2\"}, {\"mpg\": 27.0, \"cylinders\": 4, \"displacement\": 151.0, \"horsepower\": 90.0, \"weight\": 2950, \"acceleration\": 17.3, \"model_year\": 82, \"origin\": \"usa\", \"name\": \"chevrolet camaro\"}, {\"mpg\": 27.0, \"cylinders\": 4, \"displacement\": 140.0, \"horsepower\": 86.0, \"weight\": 2790, \"acceleration\": 15.6, \"model_year\": 82, \"origin\": \"usa\", \"name\": \"ford mustang gl\"}, {\"mpg\": 44.0, \"cylinders\": 4, \"displacement\": 97.0, \"horsepower\": 52.0, \"weight\": 2130, \"acceleration\": 24.6, \"model_year\": 82, \"origin\": \"europe\", \"name\": \"vw pickup\"}, {\"mpg\": 32.0, \"cylinders\": 4, \"displacement\": 135.0, \"horsepower\": 84.0, \"weight\": 2295, \"acceleration\": 11.6, \"model_year\": 82, \"origin\": \"usa\", \"name\": \"dodge rampage\"}, {\"mpg\": 28.0, \"cylinders\": 4, \"displacement\": 120.0, \"horsepower\": 79.0, \"weight\": 2625, \"acceleration\": 18.6, \"model_year\": 82, \"origin\": \"usa\", \"name\": \"ford ranger\"}, {\"mpg\": 31.0, \"cylinders\": 4, \"displacement\": 119.0, \"horsepower\": 82.0, \"weight\": 2720, \"acceleration\": 19.4, \"model_year\": 82, \"origin\": \"usa\", \"name\": \"chevy s-10\"}]}}, {\"mode\": \"vega-lite\"});\n",
       "</script>"
      ],
      "text/plain": [
       "alt.Chart(...)"
      ]
     },
     "execution_count": 48,
     "metadata": {},
     "output_type": "execute_result"
    }
   ],
   "source": [
    "alt.Chart(df).mark_circle().encode(\n",
    "    x=\"weight\",\n",
    "    y=\"mpg\",\n",
    "    color=\"origin\"\n",
    ")"
   ]
  },
  {
   "cell_type": "markdown",
   "metadata": {
    "cell_id": "8e9b8253d99647f985e2c7d82a1254ef",
    "deepnote_cell_type": "markdown"
   },
   "source": [
    "* Add a tooltip to the chart, including the weight, mpg, origin, model year, and the name of the car."
   ]
  },
  {
   "cell_type": "code",
   "execution_count": 50,
   "metadata": {
    "cell_id": "bd938b4b64b14c1b86d09c7b4e474868",
    "deepnote_cell_type": "code",
    "deepnote_to_be_reexecuted": false,
    "execution_millis": 13,
    "execution_start": 1692225029527,
    "source_hash": "25d43fa0"
   },
   "outputs": [
    {
     "data": {
      "text/plain": [
       "Index(['mpg', 'cylinders', 'displacement', 'horsepower', 'weight',\n",
       "       'acceleration', 'model_year', 'origin', 'name'],\n",
       "      dtype='object')"
      ]
     },
     "execution_count": 50,
     "metadata": {},
     "output_type": "execute_result"
    }
   ],
   "source": [
    "df.columns"
   ]
  },
  {
   "cell_type": "code",
   "execution_count": 49,
   "metadata": {
    "cell_id": "c25faadcfda14a1293024370ee863f1e",
    "deepnote_cell_type": "code",
    "deepnote_to_be_reexecuted": false,
    "execution_millis": 580,
    "execution_start": 1692225031484,
    "source_hash": "7c864994"
   },
   "outputs": [
    {
     "data": {
      "text/html": [
       "\n",
       "<style>\n",
       "  #altair-viz-63df7c4d31f3413c9871aa14cdbc65f3.vega-embed {\n",
       "    width: 100%;\n",
       "    display: flex;\n",
       "  }\n",
       "\n",
       "  #altair-viz-63df7c4d31f3413c9871aa14cdbc65f3.vega-embed details,\n",
       "  #altair-viz-63df7c4d31f3413c9871aa14cdbc65f3.vega-embed details summary {\n",
       "    position: relative;\n",
       "  }\n",
       "</style>\n",
       "<div id=\"altair-viz-63df7c4d31f3413c9871aa14cdbc65f3\"></div>\n",
       "<script type=\"text/javascript\">\n",
       "  var VEGA_DEBUG = (typeof VEGA_DEBUG == \"undefined\") ? {} : VEGA_DEBUG;\n",
       "  (function(spec, embedOpt){\n",
       "    let outputDiv = document.currentScript.previousElementSibling;\n",
       "    if (outputDiv.id !== \"altair-viz-63df7c4d31f3413c9871aa14cdbc65f3\") {\n",
       "      outputDiv = document.getElementById(\"altair-viz-63df7c4d31f3413c9871aa14cdbc65f3\");\n",
       "    }\n",
       "    const paths = {\n",
       "      \"vega\": \"https://cdn.jsdelivr.net/npm/vega@5?noext\",\n",
       "      \"vega-lib\": \"https://cdn.jsdelivr.net/npm/vega-lib?noext\",\n",
       "      \"vega-lite\": \"https://cdn.jsdelivr.net/npm/vega-lite@5.8.0?noext\",\n",
       "      \"vega-embed\": \"https://cdn.jsdelivr.net/npm/vega-embed@6?noext\",\n",
       "    };\n",
       "\n",
       "    function maybeLoadScript(lib, version) {\n",
       "      var key = `${lib.replace(\"-\", \"\")}_version`;\n",
       "      return (VEGA_DEBUG[key] == version) ?\n",
       "        Promise.resolve(paths[lib]) :\n",
       "        new Promise(function(resolve, reject) {\n",
       "          var s = document.createElement('script');\n",
       "          document.getElementsByTagName(\"head\")[0].appendChild(s);\n",
       "          s.async = true;\n",
       "          s.onload = () => {\n",
       "            VEGA_DEBUG[key] = version;\n",
       "            return resolve(paths[lib]);\n",
       "          };\n",
       "          s.onerror = () => reject(`Error loading script: ${paths[lib]}`);\n",
       "          s.src = paths[lib];\n",
       "        });\n",
       "    }\n",
       "\n",
       "    function showError(err) {\n",
       "      outputDiv.innerHTML = `<div class=\"error\" style=\"color:red;\">${err}</div>`;\n",
       "      throw err;\n",
       "    }\n",
       "\n",
       "    function displayChart(vegaEmbed) {\n",
       "      vegaEmbed(outputDiv, spec, embedOpt)\n",
       "        .catch(err => showError(`Javascript Error: ${err.message}<br>This usually means there's a typo in your chart specification. See the javascript console for the full traceback.`));\n",
       "    }\n",
       "\n",
       "    if(typeof define === \"function\" && define.amd) {\n",
       "      requirejs.config({paths});\n",
       "      require([\"vega-embed\"], displayChart, err => showError(`Error loading script: ${err.message}`));\n",
       "    } else {\n",
       "      maybeLoadScript(\"vega\", \"5\")\n",
       "        .then(() => maybeLoadScript(\"vega-lite\", \"5.8.0\"))\n",
       "        .then(() => maybeLoadScript(\"vega-embed\", \"6\"))\n",
       "        .catch(showError)\n",
       "        .then(() => displayChart(vegaEmbed));\n",
       "    }\n",
       "  })({\"config\": {\"view\": {\"continuousWidth\": 300, \"continuousHeight\": 300}}, \"data\": {\"name\": \"data-f1198cc0481ad698d7dc4699e0a3efa7\"}, \"mark\": {\"type\": \"circle\"}, \"encoding\": {\"color\": {\"field\": \"origin\", \"type\": \"nominal\"}, \"tooltip\": [{\"field\": \"weight\", \"type\": \"quantitative\"}, {\"field\": \"mpg\", \"type\": \"quantitative\"}, {\"field\": \"origin\", \"type\": \"nominal\"}, {\"field\": \"model_year\", \"type\": \"quantitative\"}, {\"field\": \"name\", \"type\": \"nominal\"}], \"x\": {\"field\": \"weight\", \"type\": \"quantitative\"}, \"y\": {\"field\": \"mpg\", \"type\": \"quantitative\"}}, \"$schema\": \"https://vega.github.io/schema/vega-lite/v5.8.0.json\", \"datasets\": {\"data-f1198cc0481ad698d7dc4699e0a3efa7\": [{\"mpg\": 18.0, \"cylinders\": 8, \"displacement\": 307.0, \"horsepower\": 130.0, \"weight\": 3504, \"acceleration\": 12.0, \"model_year\": 70, \"origin\": \"usa\", \"name\": \"chevrolet chevelle malibu\"}, {\"mpg\": 15.0, \"cylinders\": 8, \"displacement\": 350.0, \"horsepower\": 165.0, \"weight\": 3693, \"acceleration\": 11.5, \"model_year\": 70, \"origin\": \"usa\", \"name\": \"buick skylark 320\"}, {\"mpg\": 18.0, \"cylinders\": 8, \"displacement\": 318.0, \"horsepower\": 150.0, \"weight\": 3436, \"acceleration\": 11.0, \"model_year\": 70, \"origin\": \"usa\", \"name\": \"plymouth satellite\"}, {\"mpg\": 16.0, \"cylinders\": 8, \"displacement\": 304.0, \"horsepower\": 150.0, \"weight\": 3433, \"acceleration\": 12.0, \"model_year\": 70, \"origin\": \"usa\", \"name\": \"amc rebel sst\"}, {\"mpg\": 17.0, \"cylinders\": 8, \"displacement\": 302.0, \"horsepower\": 140.0, \"weight\": 3449, \"acceleration\": 10.5, \"model_year\": 70, \"origin\": \"usa\", \"name\": \"ford torino\"}, {\"mpg\": 15.0, \"cylinders\": 8, \"displacement\": 429.0, \"horsepower\": 198.0, \"weight\": 4341, \"acceleration\": 10.0, \"model_year\": 70, \"origin\": \"usa\", \"name\": \"ford galaxie 500\"}, {\"mpg\": 14.0, \"cylinders\": 8, \"displacement\": 454.0, \"horsepower\": 220.0, \"weight\": 4354, \"acceleration\": 9.0, \"model_year\": 70, \"origin\": \"usa\", \"name\": \"chevrolet impala\"}, {\"mpg\": 14.0, \"cylinders\": 8, \"displacement\": 440.0, \"horsepower\": 215.0, \"weight\": 4312, \"acceleration\": 8.5, \"model_year\": 70, \"origin\": \"usa\", \"name\": \"plymouth fury iii\"}, {\"mpg\": 14.0, \"cylinders\": 8, \"displacement\": 455.0, \"horsepower\": 225.0, \"weight\": 4425, \"acceleration\": 10.0, \"model_year\": 70, \"origin\": \"usa\", \"name\": \"pontiac catalina\"}, {\"mpg\": 15.0, \"cylinders\": 8, \"displacement\": 390.0, \"horsepower\": 190.0, \"weight\": 3850, \"acceleration\": 8.5, \"model_year\": 70, \"origin\": \"usa\", \"name\": \"amc ambassador dpl\"}, {\"mpg\": 15.0, \"cylinders\": 8, \"displacement\": 383.0, \"horsepower\": 170.0, \"weight\": 3563, \"acceleration\": 10.0, \"model_year\": 70, \"origin\": \"usa\", \"name\": \"dodge challenger se\"}, {\"mpg\": 14.0, \"cylinders\": 8, \"displacement\": 340.0, \"horsepower\": 160.0, \"weight\": 3609, \"acceleration\": 8.0, \"model_year\": 70, \"origin\": \"usa\", \"name\": \"plymouth 'cuda 340\"}, {\"mpg\": 15.0, \"cylinders\": 8, \"displacement\": 400.0, \"horsepower\": 150.0, \"weight\": 3761, \"acceleration\": 9.5, \"model_year\": 70, \"origin\": \"usa\", \"name\": \"chevrolet monte carlo\"}, {\"mpg\": 14.0, \"cylinders\": 8, \"displacement\": 455.0, \"horsepower\": 225.0, \"weight\": 3086, \"acceleration\": 10.0, \"model_year\": 70, \"origin\": \"usa\", \"name\": \"buick estate wagon (sw)\"}, {\"mpg\": 24.0, \"cylinders\": 4, \"displacement\": 113.0, \"horsepower\": 95.0, \"weight\": 2372, \"acceleration\": 15.0, \"model_year\": 70, \"origin\": \"japan\", \"name\": \"toyota corona mark ii\"}, {\"mpg\": 22.0, \"cylinders\": 6, \"displacement\": 198.0, \"horsepower\": 95.0, \"weight\": 2833, \"acceleration\": 15.5, \"model_year\": 70, \"origin\": \"usa\", \"name\": \"plymouth duster\"}, {\"mpg\": 18.0, \"cylinders\": 6, \"displacement\": 199.0, \"horsepower\": 97.0, \"weight\": 2774, \"acceleration\": 15.5, \"model_year\": 70, \"origin\": \"usa\", \"name\": \"amc hornet\"}, {\"mpg\": 21.0, \"cylinders\": 6, \"displacement\": 200.0, \"horsepower\": 85.0, \"weight\": 2587, \"acceleration\": 16.0, \"model_year\": 70, \"origin\": \"usa\", \"name\": \"ford maverick\"}, {\"mpg\": 27.0, \"cylinders\": 4, \"displacement\": 97.0, \"horsepower\": 88.0, \"weight\": 2130, \"acceleration\": 14.5, \"model_year\": 70, \"origin\": \"japan\", \"name\": \"datsun pl510\"}, {\"mpg\": 26.0, \"cylinders\": 4, \"displacement\": 97.0, \"horsepower\": 46.0, \"weight\": 1835, \"acceleration\": 20.5, \"model_year\": 70, \"origin\": \"europe\", \"name\": \"volkswagen 1131 deluxe sedan\"}, {\"mpg\": 25.0, \"cylinders\": 4, \"displacement\": 110.0, \"horsepower\": 87.0, \"weight\": 2672, \"acceleration\": 17.5, \"model_year\": 70, \"origin\": \"europe\", \"name\": \"peugeot 504\"}, {\"mpg\": 24.0, \"cylinders\": 4, \"displacement\": 107.0, \"horsepower\": 90.0, \"weight\": 2430, \"acceleration\": 14.5, \"model_year\": 70, \"origin\": \"europe\", \"name\": \"audi 100 ls\"}, {\"mpg\": 25.0, \"cylinders\": 4, \"displacement\": 104.0, \"horsepower\": 95.0, \"weight\": 2375, \"acceleration\": 17.5, \"model_year\": 70, \"origin\": \"europe\", \"name\": \"saab 99e\"}, {\"mpg\": 26.0, \"cylinders\": 4, \"displacement\": 121.0, \"horsepower\": 113.0, \"weight\": 2234, \"acceleration\": 12.5, \"model_year\": 70, \"origin\": \"europe\", \"name\": \"bmw 2002\"}, {\"mpg\": 21.0, \"cylinders\": 6, \"displacement\": 199.0, \"horsepower\": 90.0, \"weight\": 2648, \"acceleration\": 15.0, \"model_year\": 70, \"origin\": \"usa\", \"name\": \"amc gremlin\"}, {\"mpg\": 10.0, \"cylinders\": 8, \"displacement\": 360.0, \"horsepower\": 215.0, \"weight\": 4615, \"acceleration\": 14.0, \"model_year\": 70, \"origin\": \"usa\", \"name\": \"ford f250\"}, {\"mpg\": 10.0, \"cylinders\": 8, \"displacement\": 307.0, \"horsepower\": 200.0, \"weight\": 4376, \"acceleration\": 15.0, \"model_year\": 70, \"origin\": \"usa\", \"name\": \"chevy c20\"}, {\"mpg\": 11.0, \"cylinders\": 8, \"displacement\": 318.0, \"horsepower\": 210.0, \"weight\": 4382, \"acceleration\": 13.5, \"model_year\": 70, \"origin\": \"usa\", \"name\": \"dodge d200\"}, {\"mpg\": 9.0, \"cylinders\": 8, \"displacement\": 304.0, \"horsepower\": 193.0, \"weight\": 4732, \"acceleration\": 18.5, \"model_year\": 70, \"origin\": \"usa\", \"name\": \"hi 1200d\"}, {\"mpg\": 27.0, \"cylinders\": 4, \"displacement\": 97.0, \"horsepower\": 88.0, \"weight\": 2130, \"acceleration\": 14.5, \"model_year\": 71, \"origin\": \"japan\", \"name\": \"datsun pl510\"}, {\"mpg\": 28.0, \"cylinders\": 4, \"displacement\": 140.0, \"horsepower\": 90.0, \"weight\": 2264, \"acceleration\": 15.5, \"model_year\": 71, \"origin\": \"usa\", \"name\": \"chevrolet vega 2300\"}, {\"mpg\": 25.0, \"cylinders\": 4, \"displacement\": 113.0, \"horsepower\": 95.0, \"weight\": 2228, \"acceleration\": 14.0, \"model_year\": 71, \"origin\": \"japan\", \"name\": \"toyota corona\"}, {\"mpg\": 25.0, \"cylinders\": 4, \"displacement\": 98.0, \"horsepower\": null, \"weight\": 2046, \"acceleration\": 19.0, \"model_year\": 71, \"origin\": \"usa\", \"name\": \"ford pinto\"}, {\"mpg\": 19.0, \"cylinders\": 6, \"displacement\": 232.0, \"horsepower\": 100.0, \"weight\": 2634, \"acceleration\": 13.0, \"model_year\": 71, \"origin\": \"usa\", \"name\": \"amc gremlin\"}, {\"mpg\": 16.0, \"cylinders\": 6, \"displacement\": 225.0, \"horsepower\": 105.0, \"weight\": 3439, \"acceleration\": 15.5, \"model_year\": 71, \"origin\": \"usa\", \"name\": \"plymouth satellite custom\"}, {\"mpg\": 17.0, \"cylinders\": 6, \"displacement\": 250.0, \"horsepower\": 100.0, \"weight\": 3329, \"acceleration\": 15.5, \"model_year\": 71, \"origin\": \"usa\", \"name\": \"chevrolet chevelle malibu\"}, {\"mpg\": 19.0, \"cylinders\": 6, \"displacement\": 250.0, \"horsepower\": 88.0, \"weight\": 3302, \"acceleration\": 15.5, \"model_year\": 71, \"origin\": \"usa\", \"name\": \"ford torino 500\"}, {\"mpg\": 18.0, \"cylinders\": 6, \"displacement\": 232.0, \"horsepower\": 100.0, \"weight\": 3288, \"acceleration\": 15.5, \"model_year\": 71, \"origin\": \"usa\", \"name\": \"amc matador\"}, {\"mpg\": 14.0, \"cylinders\": 8, \"displacement\": 350.0, \"horsepower\": 165.0, \"weight\": 4209, \"acceleration\": 12.0, \"model_year\": 71, \"origin\": \"usa\", \"name\": \"chevrolet impala\"}, {\"mpg\": 14.0, \"cylinders\": 8, \"displacement\": 400.0, \"horsepower\": 175.0, \"weight\": 4464, \"acceleration\": 11.5, \"model_year\": 71, \"origin\": \"usa\", \"name\": \"pontiac catalina brougham\"}, {\"mpg\": 14.0, \"cylinders\": 8, \"displacement\": 351.0, \"horsepower\": 153.0, \"weight\": 4154, \"acceleration\": 13.5, \"model_year\": 71, \"origin\": \"usa\", \"name\": \"ford galaxie 500\"}, {\"mpg\": 14.0, \"cylinders\": 8, \"displacement\": 318.0, \"horsepower\": 150.0, \"weight\": 4096, \"acceleration\": 13.0, \"model_year\": 71, \"origin\": \"usa\", \"name\": \"plymouth fury iii\"}, {\"mpg\": 12.0, \"cylinders\": 8, \"displacement\": 383.0, \"horsepower\": 180.0, \"weight\": 4955, \"acceleration\": 11.5, \"model_year\": 71, \"origin\": \"usa\", \"name\": \"dodge monaco (sw)\"}, {\"mpg\": 13.0, \"cylinders\": 8, \"displacement\": 400.0, \"horsepower\": 170.0, \"weight\": 4746, \"acceleration\": 12.0, \"model_year\": 71, \"origin\": \"usa\", \"name\": \"ford country squire (sw)\"}, {\"mpg\": 13.0, \"cylinders\": 8, \"displacement\": 400.0, \"horsepower\": 175.0, \"weight\": 5140, \"acceleration\": 12.0, \"model_year\": 71, \"origin\": \"usa\", \"name\": \"pontiac safari (sw)\"}, {\"mpg\": 18.0, \"cylinders\": 6, \"displacement\": 258.0, \"horsepower\": 110.0, \"weight\": 2962, \"acceleration\": 13.5, \"model_year\": 71, \"origin\": \"usa\", \"name\": \"amc hornet sportabout (sw)\"}, {\"mpg\": 22.0, \"cylinders\": 4, \"displacement\": 140.0, \"horsepower\": 72.0, \"weight\": 2408, \"acceleration\": 19.0, \"model_year\": 71, \"origin\": \"usa\", \"name\": \"chevrolet vega (sw)\"}, {\"mpg\": 19.0, \"cylinders\": 6, \"displacement\": 250.0, \"horsepower\": 100.0, \"weight\": 3282, \"acceleration\": 15.0, \"model_year\": 71, \"origin\": \"usa\", \"name\": \"pontiac firebird\"}, {\"mpg\": 18.0, \"cylinders\": 6, \"displacement\": 250.0, \"horsepower\": 88.0, \"weight\": 3139, \"acceleration\": 14.5, \"model_year\": 71, \"origin\": \"usa\", \"name\": \"ford mustang\"}, {\"mpg\": 23.0, \"cylinders\": 4, \"displacement\": 122.0, \"horsepower\": 86.0, \"weight\": 2220, \"acceleration\": 14.0, \"model_year\": 71, \"origin\": \"usa\", \"name\": \"mercury capri 2000\"}, {\"mpg\": 28.0, \"cylinders\": 4, \"displacement\": 116.0, \"horsepower\": 90.0, \"weight\": 2123, \"acceleration\": 14.0, \"model_year\": 71, \"origin\": \"europe\", \"name\": \"opel 1900\"}, {\"mpg\": 30.0, \"cylinders\": 4, \"displacement\": 79.0, \"horsepower\": 70.0, \"weight\": 2074, \"acceleration\": 19.5, \"model_year\": 71, \"origin\": \"europe\", \"name\": \"peugeot 304\"}, {\"mpg\": 30.0, \"cylinders\": 4, \"displacement\": 88.0, \"horsepower\": 76.0, \"weight\": 2065, \"acceleration\": 14.5, \"model_year\": 71, \"origin\": \"europe\", \"name\": \"fiat 124b\"}, {\"mpg\": 31.0, \"cylinders\": 4, \"displacement\": 71.0, \"horsepower\": 65.0, \"weight\": 1773, \"acceleration\": 19.0, \"model_year\": 71, \"origin\": \"japan\", \"name\": \"toyota corolla 1200\"}, {\"mpg\": 35.0, \"cylinders\": 4, \"displacement\": 72.0, \"horsepower\": 69.0, \"weight\": 1613, \"acceleration\": 18.0, \"model_year\": 71, \"origin\": \"japan\", \"name\": \"datsun 1200\"}, {\"mpg\": 27.0, \"cylinders\": 4, \"displacement\": 97.0, \"horsepower\": 60.0, \"weight\": 1834, \"acceleration\": 19.0, \"model_year\": 71, \"origin\": \"europe\", \"name\": \"volkswagen model 111\"}, {\"mpg\": 26.0, \"cylinders\": 4, \"displacement\": 91.0, \"horsepower\": 70.0, \"weight\": 1955, \"acceleration\": 20.5, \"model_year\": 71, \"origin\": \"usa\", \"name\": \"plymouth cricket\"}, {\"mpg\": 24.0, \"cylinders\": 4, \"displacement\": 113.0, \"horsepower\": 95.0, \"weight\": 2278, \"acceleration\": 15.5, \"model_year\": 72, \"origin\": \"japan\", \"name\": \"toyota corona hardtop\"}, {\"mpg\": 25.0, \"cylinders\": 4, \"displacement\": 97.5, \"horsepower\": 80.0, \"weight\": 2126, \"acceleration\": 17.0, \"model_year\": 72, \"origin\": \"usa\", \"name\": \"dodge colt hardtop\"}, {\"mpg\": 23.0, \"cylinders\": 4, \"displacement\": 97.0, \"horsepower\": 54.0, \"weight\": 2254, \"acceleration\": 23.5, \"model_year\": 72, \"origin\": \"europe\", \"name\": \"volkswagen type 3\"}, {\"mpg\": 20.0, \"cylinders\": 4, \"displacement\": 140.0, \"horsepower\": 90.0, \"weight\": 2408, \"acceleration\": 19.5, \"model_year\": 72, \"origin\": \"usa\", \"name\": \"chevrolet vega\"}, {\"mpg\": 21.0, \"cylinders\": 4, \"displacement\": 122.0, \"horsepower\": 86.0, \"weight\": 2226, \"acceleration\": 16.5, \"model_year\": 72, \"origin\": \"usa\", \"name\": \"ford pinto runabout\"}, {\"mpg\": 13.0, \"cylinders\": 8, \"displacement\": 350.0, \"horsepower\": 165.0, \"weight\": 4274, \"acceleration\": 12.0, \"model_year\": 72, \"origin\": \"usa\", \"name\": \"chevrolet impala\"}, {\"mpg\": 14.0, \"cylinders\": 8, \"displacement\": 400.0, \"horsepower\": 175.0, \"weight\": 4385, \"acceleration\": 12.0, \"model_year\": 72, \"origin\": \"usa\", \"name\": \"pontiac catalina\"}, {\"mpg\": 15.0, \"cylinders\": 8, \"displacement\": 318.0, \"horsepower\": 150.0, \"weight\": 4135, \"acceleration\": 13.5, \"model_year\": 72, \"origin\": \"usa\", \"name\": \"plymouth fury iii\"}, {\"mpg\": 14.0, \"cylinders\": 8, \"displacement\": 351.0, \"horsepower\": 153.0, \"weight\": 4129, \"acceleration\": 13.0, \"model_year\": 72, \"origin\": \"usa\", \"name\": \"ford galaxie 500\"}, {\"mpg\": 17.0, \"cylinders\": 8, \"displacement\": 304.0, \"horsepower\": 150.0, \"weight\": 3672, \"acceleration\": 11.5, \"model_year\": 72, \"origin\": \"usa\", \"name\": \"amc ambassador sst\"}, {\"mpg\": 11.0, \"cylinders\": 8, \"displacement\": 429.0, \"horsepower\": 208.0, \"weight\": 4633, \"acceleration\": 11.0, \"model_year\": 72, \"origin\": \"usa\", \"name\": \"mercury marquis\"}, {\"mpg\": 13.0, \"cylinders\": 8, \"displacement\": 350.0, \"horsepower\": 155.0, \"weight\": 4502, \"acceleration\": 13.5, \"model_year\": 72, \"origin\": \"usa\", \"name\": \"buick lesabre custom\"}, {\"mpg\": 12.0, \"cylinders\": 8, \"displacement\": 350.0, \"horsepower\": 160.0, \"weight\": 4456, \"acceleration\": 13.5, \"model_year\": 72, \"origin\": \"usa\", \"name\": \"oldsmobile delta 88 royale\"}, {\"mpg\": 13.0, \"cylinders\": 8, \"displacement\": 400.0, \"horsepower\": 190.0, \"weight\": 4422, \"acceleration\": 12.5, \"model_year\": 72, \"origin\": \"usa\", \"name\": \"chrysler newport royal\"}, {\"mpg\": 19.0, \"cylinders\": 3, \"displacement\": 70.0, \"horsepower\": 97.0, \"weight\": 2330, \"acceleration\": 13.5, \"model_year\": 72, \"origin\": \"japan\", \"name\": \"mazda rx2 coupe\"}, {\"mpg\": 15.0, \"cylinders\": 8, \"displacement\": 304.0, \"horsepower\": 150.0, \"weight\": 3892, \"acceleration\": 12.5, \"model_year\": 72, \"origin\": \"usa\", \"name\": \"amc matador (sw)\"}, {\"mpg\": 13.0, \"cylinders\": 8, \"displacement\": 307.0, \"horsepower\": 130.0, \"weight\": 4098, \"acceleration\": 14.0, \"model_year\": 72, \"origin\": \"usa\", \"name\": \"chevrolet chevelle concours (sw)\"}, {\"mpg\": 13.0, \"cylinders\": 8, \"displacement\": 302.0, \"horsepower\": 140.0, \"weight\": 4294, \"acceleration\": 16.0, \"model_year\": 72, \"origin\": \"usa\", \"name\": \"ford gran torino (sw)\"}, {\"mpg\": 14.0, \"cylinders\": 8, \"displacement\": 318.0, \"horsepower\": 150.0, \"weight\": 4077, \"acceleration\": 14.0, \"model_year\": 72, \"origin\": \"usa\", \"name\": \"plymouth satellite custom (sw)\"}, {\"mpg\": 18.0, \"cylinders\": 4, \"displacement\": 121.0, \"horsepower\": 112.0, \"weight\": 2933, \"acceleration\": 14.5, \"model_year\": 72, \"origin\": \"europe\", \"name\": \"volvo 145e (sw)\"}, {\"mpg\": 22.0, \"cylinders\": 4, \"displacement\": 121.0, \"horsepower\": 76.0, \"weight\": 2511, \"acceleration\": 18.0, \"model_year\": 72, \"origin\": \"europe\", \"name\": \"volkswagen 411 (sw)\"}, {\"mpg\": 21.0, \"cylinders\": 4, \"displacement\": 120.0, \"horsepower\": 87.0, \"weight\": 2979, \"acceleration\": 19.5, \"model_year\": 72, \"origin\": \"europe\", \"name\": \"peugeot 504 (sw)\"}, {\"mpg\": 26.0, \"cylinders\": 4, \"displacement\": 96.0, \"horsepower\": 69.0, \"weight\": 2189, \"acceleration\": 18.0, \"model_year\": 72, \"origin\": \"europe\", \"name\": \"renault 12 (sw)\"}, {\"mpg\": 22.0, \"cylinders\": 4, \"displacement\": 122.0, \"horsepower\": 86.0, \"weight\": 2395, \"acceleration\": 16.0, \"model_year\": 72, \"origin\": \"usa\", \"name\": \"ford pinto (sw)\"}, {\"mpg\": 28.0, \"cylinders\": 4, \"displacement\": 97.0, \"horsepower\": 92.0, \"weight\": 2288, \"acceleration\": 17.0, \"model_year\": 72, \"origin\": \"japan\", \"name\": \"datsun 510 (sw)\"}, {\"mpg\": 23.0, \"cylinders\": 4, \"displacement\": 120.0, \"horsepower\": 97.0, \"weight\": 2506, \"acceleration\": 14.5, \"model_year\": 72, \"origin\": \"japan\", \"name\": \"toyouta corona mark ii (sw)\"}, {\"mpg\": 28.0, \"cylinders\": 4, \"displacement\": 98.0, \"horsepower\": 80.0, \"weight\": 2164, \"acceleration\": 15.0, \"model_year\": 72, \"origin\": \"usa\", \"name\": \"dodge colt (sw)\"}, {\"mpg\": 27.0, \"cylinders\": 4, \"displacement\": 97.0, \"horsepower\": 88.0, \"weight\": 2100, \"acceleration\": 16.5, \"model_year\": 72, \"origin\": \"japan\", \"name\": \"toyota corolla 1600 (sw)\"}, {\"mpg\": 13.0, \"cylinders\": 8, \"displacement\": 350.0, \"horsepower\": 175.0, \"weight\": 4100, \"acceleration\": 13.0, \"model_year\": 73, \"origin\": \"usa\", \"name\": \"buick century 350\"}, {\"mpg\": 14.0, \"cylinders\": 8, \"displacement\": 304.0, \"horsepower\": 150.0, \"weight\": 3672, \"acceleration\": 11.5, \"model_year\": 73, \"origin\": \"usa\", \"name\": \"amc matador\"}, {\"mpg\": 13.0, \"cylinders\": 8, \"displacement\": 350.0, \"horsepower\": 145.0, \"weight\": 3988, \"acceleration\": 13.0, \"model_year\": 73, \"origin\": \"usa\", \"name\": \"chevrolet malibu\"}, {\"mpg\": 14.0, \"cylinders\": 8, \"displacement\": 302.0, \"horsepower\": 137.0, \"weight\": 4042, \"acceleration\": 14.5, \"model_year\": 73, \"origin\": \"usa\", \"name\": \"ford gran torino\"}, {\"mpg\": 15.0, \"cylinders\": 8, \"displacement\": 318.0, \"horsepower\": 150.0, \"weight\": 3777, \"acceleration\": 12.5, \"model_year\": 73, \"origin\": \"usa\", \"name\": \"dodge coronet custom\"}, {\"mpg\": 12.0, \"cylinders\": 8, \"displacement\": 429.0, \"horsepower\": 198.0, \"weight\": 4952, \"acceleration\": 11.5, \"model_year\": 73, \"origin\": \"usa\", \"name\": \"mercury marquis brougham\"}, {\"mpg\": 13.0, \"cylinders\": 8, \"displacement\": 400.0, \"horsepower\": 150.0, \"weight\": 4464, \"acceleration\": 12.0, \"model_year\": 73, \"origin\": \"usa\", \"name\": \"chevrolet caprice classic\"}, {\"mpg\": 13.0, \"cylinders\": 8, \"displacement\": 351.0, \"horsepower\": 158.0, \"weight\": 4363, \"acceleration\": 13.0, \"model_year\": 73, \"origin\": \"usa\", \"name\": \"ford ltd\"}, {\"mpg\": 14.0, \"cylinders\": 8, \"displacement\": 318.0, \"horsepower\": 150.0, \"weight\": 4237, \"acceleration\": 14.5, \"model_year\": 73, \"origin\": \"usa\", \"name\": \"plymouth fury gran sedan\"}, {\"mpg\": 13.0, \"cylinders\": 8, \"displacement\": 440.0, \"horsepower\": 215.0, \"weight\": 4735, \"acceleration\": 11.0, \"model_year\": 73, \"origin\": \"usa\", \"name\": \"chrysler new yorker brougham\"}, {\"mpg\": 12.0, \"cylinders\": 8, \"displacement\": 455.0, \"horsepower\": 225.0, \"weight\": 4951, \"acceleration\": 11.0, \"model_year\": 73, \"origin\": \"usa\", \"name\": \"buick electra 225 custom\"}, {\"mpg\": 13.0, \"cylinders\": 8, \"displacement\": 360.0, \"horsepower\": 175.0, \"weight\": 3821, \"acceleration\": 11.0, \"model_year\": 73, \"origin\": \"usa\", \"name\": \"amc ambassador brougham\"}, {\"mpg\": 18.0, \"cylinders\": 6, \"displacement\": 225.0, \"horsepower\": 105.0, \"weight\": 3121, \"acceleration\": 16.5, \"model_year\": 73, \"origin\": \"usa\", \"name\": \"plymouth valiant\"}, {\"mpg\": 16.0, \"cylinders\": 6, \"displacement\": 250.0, \"horsepower\": 100.0, \"weight\": 3278, \"acceleration\": 18.0, \"model_year\": 73, \"origin\": \"usa\", \"name\": \"chevrolet nova custom\"}, {\"mpg\": 18.0, \"cylinders\": 6, \"displacement\": 232.0, \"horsepower\": 100.0, \"weight\": 2945, \"acceleration\": 16.0, \"model_year\": 73, \"origin\": \"usa\", \"name\": \"amc hornet\"}, {\"mpg\": 18.0, \"cylinders\": 6, \"displacement\": 250.0, \"horsepower\": 88.0, \"weight\": 3021, \"acceleration\": 16.5, \"model_year\": 73, \"origin\": \"usa\", \"name\": \"ford maverick\"}, {\"mpg\": 23.0, \"cylinders\": 6, \"displacement\": 198.0, \"horsepower\": 95.0, \"weight\": 2904, \"acceleration\": 16.0, \"model_year\": 73, \"origin\": \"usa\", \"name\": \"plymouth duster\"}, {\"mpg\": 26.0, \"cylinders\": 4, \"displacement\": 97.0, \"horsepower\": 46.0, \"weight\": 1950, \"acceleration\": 21.0, \"model_year\": 73, \"origin\": \"europe\", \"name\": \"volkswagen super beetle\"}, {\"mpg\": 11.0, \"cylinders\": 8, \"displacement\": 400.0, \"horsepower\": 150.0, \"weight\": 4997, \"acceleration\": 14.0, \"model_year\": 73, \"origin\": \"usa\", \"name\": \"chevrolet impala\"}, {\"mpg\": 12.0, \"cylinders\": 8, \"displacement\": 400.0, \"horsepower\": 167.0, \"weight\": 4906, \"acceleration\": 12.5, \"model_year\": 73, \"origin\": \"usa\", \"name\": \"ford country\"}, {\"mpg\": 13.0, \"cylinders\": 8, \"displacement\": 360.0, \"horsepower\": 170.0, \"weight\": 4654, \"acceleration\": 13.0, \"model_year\": 73, \"origin\": \"usa\", \"name\": \"plymouth custom suburb\"}, {\"mpg\": 12.0, \"cylinders\": 8, \"displacement\": 350.0, \"horsepower\": 180.0, \"weight\": 4499, \"acceleration\": 12.5, \"model_year\": 73, \"origin\": \"usa\", \"name\": \"oldsmobile vista cruiser\"}, {\"mpg\": 18.0, \"cylinders\": 6, \"displacement\": 232.0, \"horsepower\": 100.0, \"weight\": 2789, \"acceleration\": 15.0, \"model_year\": 73, \"origin\": \"usa\", \"name\": \"amc gremlin\"}, {\"mpg\": 20.0, \"cylinders\": 4, \"displacement\": 97.0, \"horsepower\": 88.0, \"weight\": 2279, \"acceleration\": 19.0, \"model_year\": 73, \"origin\": \"japan\", \"name\": \"toyota carina\"}, {\"mpg\": 21.0, \"cylinders\": 4, \"displacement\": 140.0, \"horsepower\": 72.0, \"weight\": 2401, \"acceleration\": 19.5, \"model_year\": 73, \"origin\": \"usa\", \"name\": \"chevrolet vega\"}, {\"mpg\": 22.0, \"cylinders\": 4, \"displacement\": 108.0, \"horsepower\": 94.0, \"weight\": 2379, \"acceleration\": 16.5, \"model_year\": 73, \"origin\": \"japan\", \"name\": \"datsun 610\"}, {\"mpg\": 18.0, \"cylinders\": 3, \"displacement\": 70.0, \"horsepower\": 90.0, \"weight\": 2124, \"acceleration\": 13.5, \"model_year\": 73, \"origin\": \"japan\", \"name\": \"maxda rx3\"}, {\"mpg\": 19.0, \"cylinders\": 4, \"displacement\": 122.0, \"horsepower\": 85.0, \"weight\": 2310, \"acceleration\": 18.5, \"model_year\": 73, \"origin\": \"usa\", \"name\": \"ford pinto\"}, {\"mpg\": 21.0, \"cylinders\": 6, \"displacement\": 155.0, \"horsepower\": 107.0, \"weight\": 2472, \"acceleration\": 14.0, \"model_year\": 73, \"origin\": \"usa\", \"name\": \"mercury capri v6\"}, {\"mpg\": 26.0, \"cylinders\": 4, \"displacement\": 98.0, \"horsepower\": 90.0, \"weight\": 2265, \"acceleration\": 15.5, \"model_year\": 73, \"origin\": \"europe\", \"name\": \"fiat 124 sport coupe\"}, {\"mpg\": 15.0, \"cylinders\": 8, \"displacement\": 350.0, \"horsepower\": 145.0, \"weight\": 4082, \"acceleration\": 13.0, \"model_year\": 73, \"origin\": \"usa\", \"name\": \"chevrolet monte carlo s\"}, {\"mpg\": 16.0, \"cylinders\": 8, \"displacement\": 400.0, \"horsepower\": 230.0, \"weight\": 4278, \"acceleration\": 9.5, \"model_year\": 73, \"origin\": \"usa\", \"name\": \"pontiac grand prix\"}, {\"mpg\": 29.0, \"cylinders\": 4, \"displacement\": 68.0, \"horsepower\": 49.0, \"weight\": 1867, \"acceleration\": 19.5, \"model_year\": 73, \"origin\": \"europe\", \"name\": \"fiat 128\"}, {\"mpg\": 24.0, \"cylinders\": 4, \"displacement\": 116.0, \"horsepower\": 75.0, \"weight\": 2158, \"acceleration\": 15.5, \"model_year\": 73, \"origin\": \"europe\", \"name\": \"opel manta\"}, {\"mpg\": 20.0, \"cylinders\": 4, \"displacement\": 114.0, \"horsepower\": 91.0, \"weight\": 2582, \"acceleration\": 14.0, \"model_year\": 73, \"origin\": \"europe\", \"name\": \"audi 100ls\"}, {\"mpg\": 19.0, \"cylinders\": 4, \"displacement\": 121.0, \"horsepower\": 112.0, \"weight\": 2868, \"acceleration\": 15.5, \"model_year\": 73, \"origin\": \"europe\", \"name\": \"volvo 144ea\"}, {\"mpg\": 15.0, \"cylinders\": 8, \"displacement\": 318.0, \"horsepower\": 150.0, \"weight\": 3399, \"acceleration\": 11.0, \"model_year\": 73, \"origin\": \"usa\", \"name\": \"dodge dart custom\"}, {\"mpg\": 24.0, \"cylinders\": 4, \"displacement\": 121.0, \"horsepower\": 110.0, \"weight\": 2660, \"acceleration\": 14.0, \"model_year\": 73, \"origin\": \"europe\", \"name\": \"saab 99le\"}, {\"mpg\": 20.0, \"cylinders\": 6, \"displacement\": 156.0, \"horsepower\": 122.0, \"weight\": 2807, \"acceleration\": 13.5, \"model_year\": 73, \"origin\": \"japan\", \"name\": \"toyota mark ii\"}, {\"mpg\": 11.0, \"cylinders\": 8, \"displacement\": 350.0, \"horsepower\": 180.0, \"weight\": 3664, \"acceleration\": 11.0, \"model_year\": 73, \"origin\": \"usa\", \"name\": \"oldsmobile omega\"}, {\"mpg\": 20.0, \"cylinders\": 6, \"displacement\": 198.0, \"horsepower\": 95.0, \"weight\": 3102, \"acceleration\": 16.5, \"model_year\": 74, \"origin\": \"usa\", \"name\": \"plymouth duster\"}, {\"mpg\": 21.0, \"cylinders\": 6, \"displacement\": 200.0, \"horsepower\": null, \"weight\": 2875, \"acceleration\": 17.0, \"model_year\": 74, \"origin\": \"usa\", \"name\": \"ford maverick\"}, {\"mpg\": 19.0, \"cylinders\": 6, \"displacement\": 232.0, \"horsepower\": 100.0, \"weight\": 2901, \"acceleration\": 16.0, \"model_year\": 74, \"origin\": \"usa\", \"name\": \"amc hornet\"}, {\"mpg\": 15.0, \"cylinders\": 6, \"displacement\": 250.0, \"horsepower\": 100.0, \"weight\": 3336, \"acceleration\": 17.0, \"model_year\": 74, \"origin\": \"usa\", \"name\": \"chevrolet nova\"}, {\"mpg\": 31.0, \"cylinders\": 4, \"displacement\": 79.0, \"horsepower\": 67.0, \"weight\": 1950, \"acceleration\": 19.0, \"model_year\": 74, \"origin\": \"japan\", \"name\": \"datsun b210\"}, {\"mpg\": 26.0, \"cylinders\": 4, \"displacement\": 122.0, \"horsepower\": 80.0, \"weight\": 2451, \"acceleration\": 16.5, \"model_year\": 74, \"origin\": \"usa\", \"name\": \"ford pinto\"}, {\"mpg\": 32.0, \"cylinders\": 4, \"displacement\": 71.0, \"horsepower\": 65.0, \"weight\": 1836, \"acceleration\": 21.0, \"model_year\": 74, \"origin\": \"japan\", \"name\": \"toyota corolla 1200\"}, {\"mpg\": 25.0, \"cylinders\": 4, \"displacement\": 140.0, \"horsepower\": 75.0, \"weight\": 2542, \"acceleration\": 17.0, \"model_year\": 74, \"origin\": \"usa\", \"name\": \"chevrolet vega\"}, {\"mpg\": 16.0, \"cylinders\": 6, \"displacement\": 250.0, \"horsepower\": 100.0, \"weight\": 3781, \"acceleration\": 17.0, \"model_year\": 74, \"origin\": \"usa\", \"name\": \"chevrolet chevelle malibu classic\"}, {\"mpg\": 16.0, \"cylinders\": 6, \"displacement\": 258.0, \"horsepower\": 110.0, \"weight\": 3632, \"acceleration\": 18.0, \"model_year\": 74, \"origin\": \"usa\", \"name\": \"amc matador\"}, {\"mpg\": 18.0, \"cylinders\": 6, \"displacement\": 225.0, \"horsepower\": 105.0, \"weight\": 3613, \"acceleration\": 16.5, \"model_year\": 74, \"origin\": \"usa\", \"name\": \"plymouth satellite sebring\"}, {\"mpg\": 16.0, \"cylinders\": 8, \"displacement\": 302.0, \"horsepower\": 140.0, \"weight\": 4141, \"acceleration\": 14.0, \"model_year\": 74, \"origin\": \"usa\", \"name\": \"ford gran torino\"}, {\"mpg\": 13.0, \"cylinders\": 8, \"displacement\": 350.0, \"horsepower\": 150.0, \"weight\": 4699, \"acceleration\": 14.5, \"model_year\": 74, \"origin\": \"usa\", \"name\": \"buick century luxus (sw)\"}, {\"mpg\": 14.0, \"cylinders\": 8, \"displacement\": 318.0, \"horsepower\": 150.0, \"weight\": 4457, \"acceleration\": 13.5, \"model_year\": 74, \"origin\": \"usa\", \"name\": \"dodge coronet custom (sw)\"}, {\"mpg\": 14.0, \"cylinders\": 8, \"displacement\": 302.0, \"horsepower\": 140.0, \"weight\": 4638, \"acceleration\": 16.0, \"model_year\": 74, \"origin\": \"usa\", \"name\": \"ford gran torino (sw)\"}, {\"mpg\": 14.0, \"cylinders\": 8, \"displacement\": 304.0, \"horsepower\": 150.0, \"weight\": 4257, \"acceleration\": 15.5, \"model_year\": 74, \"origin\": \"usa\", \"name\": \"amc matador (sw)\"}, {\"mpg\": 29.0, \"cylinders\": 4, \"displacement\": 98.0, \"horsepower\": 83.0, \"weight\": 2219, \"acceleration\": 16.5, \"model_year\": 74, \"origin\": \"europe\", \"name\": \"audi fox\"}, {\"mpg\": 26.0, \"cylinders\": 4, \"displacement\": 79.0, \"horsepower\": 67.0, \"weight\": 1963, \"acceleration\": 15.5, \"model_year\": 74, \"origin\": \"europe\", \"name\": \"volkswagen dasher\"}, {\"mpg\": 26.0, \"cylinders\": 4, \"displacement\": 97.0, \"horsepower\": 78.0, \"weight\": 2300, \"acceleration\": 14.5, \"model_year\": 74, \"origin\": \"europe\", \"name\": \"opel manta\"}, {\"mpg\": 31.0, \"cylinders\": 4, \"displacement\": 76.0, \"horsepower\": 52.0, \"weight\": 1649, \"acceleration\": 16.5, \"model_year\": 74, \"origin\": \"japan\", \"name\": \"toyota corona\"}, {\"mpg\": 32.0, \"cylinders\": 4, \"displacement\": 83.0, \"horsepower\": 61.0, \"weight\": 2003, \"acceleration\": 19.0, \"model_year\": 74, \"origin\": \"japan\", \"name\": \"datsun 710\"}, {\"mpg\": 28.0, \"cylinders\": 4, \"displacement\": 90.0, \"horsepower\": 75.0, \"weight\": 2125, \"acceleration\": 14.5, \"model_year\": 74, \"origin\": \"usa\", \"name\": \"dodge colt\"}, {\"mpg\": 24.0, \"cylinders\": 4, \"displacement\": 90.0, \"horsepower\": 75.0, \"weight\": 2108, \"acceleration\": 15.5, \"model_year\": 74, \"origin\": \"europe\", \"name\": \"fiat 128\"}, {\"mpg\": 26.0, \"cylinders\": 4, \"displacement\": 116.0, \"horsepower\": 75.0, \"weight\": 2246, \"acceleration\": 14.0, \"model_year\": 74, \"origin\": \"europe\", \"name\": \"fiat 124 tc\"}, {\"mpg\": 24.0, \"cylinders\": 4, \"displacement\": 120.0, \"horsepower\": 97.0, \"weight\": 2489, \"acceleration\": 15.0, \"model_year\": 74, \"origin\": \"japan\", \"name\": \"honda civic\"}, {\"mpg\": 26.0, \"cylinders\": 4, \"displacement\": 108.0, \"horsepower\": 93.0, \"weight\": 2391, \"acceleration\": 15.5, \"model_year\": 74, \"origin\": \"japan\", \"name\": \"subaru\"}, {\"mpg\": 31.0, \"cylinders\": 4, \"displacement\": 79.0, \"horsepower\": 67.0, \"weight\": 2000, \"acceleration\": 16.0, \"model_year\": 74, \"origin\": \"europe\", \"name\": \"fiat x1.9\"}, {\"mpg\": 19.0, \"cylinders\": 6, \"displacement\": 225.0, \"horsepower\": 95.0, \"weight\": 3264, \"acceleration\": 16.0, \"model_year\": 75, \"origin\": \"usa\", \"name\": \"plymouth valiant custom\"}, {\"mpg\": 18.0, \"cylinders\": 6, \"displacement\": 250.0, \"horsepower\": 105.0, \"weight\": 3459, \"acceleration\": 16.0, \"model_year\": 75, \"origin\": \"usa\", \"name\": \"chevrolet nova\"}, {\"mpg\": 15.0, \"cylinders\": 6, \"displacement\": 250.0, \"horsepower\": 72.0, \"weight\": 3432, \"acceleration\": 21.0, \"model_year\": 75, \"origin\": \"usa\", \"name\": \"mercury monarch\"}, {\"mpg\": 15.0, \"cylinders\": 6, \"displacement\": 250.0, \"horsepower\": 72.0, \"weight\": 3158, \"acceleration\": 19.5, \"model_year\": 75, \"origin\": \"usa\", \"name\": \"ford maverick\"}, {\"mpg\": 16.0, \"cylinders\": 8, \"displacement\": 400.0, \"horsepower\": 170.0, \"weight\": 4668, \"acceleration\": 11.5, \"model_year\": 75, \"origin\": \"usa\", \"name\": \"pontiac catalina\"}, {\"mpg\": 15.0, \"cylinders\": 8, \"displacement\": 350.0, \"horsepower\": 145.0, \"weight\": 4440, \"acceleration\": 14.0, \"model_year\": 75, \"origin\": \"usa\", \"name\": \"chevrolet bel air\"}, {\"mpg\": 16.0, \"cylinders\": 8, \"displacement\": 318.0, \"horsepower\": 150.0, \"weight\": 4498, \"acceleration\": 14.5, \"model_year\": 75, \"origin\": \"usa\", \"name\": \"plymouth grand fury\"}, {\"mpg\": 14.0, \"cylinders\": 8, \"displacement\": 351.0, \"horsepower\": 148.0, \"weight\": 4657, \"acceleration\": 13.5, \"model_year\": 75, \"origin\": \"usa\", \"name\": \"ford ltd\"}, {\"mpg\": 17.0, \"cylinders\": 6, \"displacement\": 231.0, \"horsepower\": 110.0, \"weight\": 3907, \"acceleration\": 21.0, \"model_year\": 75, \"origin\": \"usa\", \"name\": \"buick century\"}, {\"mpg\": 16.0, \"cylinders\": 6, \"displacement\": 250.0, \"horsepower\": 105.0, \"weight\": 3897, \"acceleration\": 18.5, \"model_year\": 75, \"origin\": \"usa\", \"name\": \"chevroelt chevelle malibu\"}, {\"mpg\": 15.0, \"cylinders\": 6, \"displacement\": 258.0, \"horsepower\": 110.0, \"weight\": 3730, \"acceleration\": 19.0, \"model_year\": 75, \"origin\": \"usa\", \"name\": \"amc matador\"}, {\"mpg\": 18.0, \"cylinders\": 6, \"displacement\": 225.0, \"horsepower\": 95.0, \"weight\": 3785, \"acceleration\": 19.0, \"model_year\": 75, \"origin\": \"usa\", \"name\": \"plymouth fury\"}, {\"mpg\": 21.0, \"cylinders\": 6, \"displacement\": 231.0, \"horsepower\": 110.0, \"weight\": 3039, \"acceleration\": 15.0, \"model_year\": 75, \"origin\": \"usa\", \"name\": \"buick skyhawk\"}, {\"mpg\": 20.0, \"cylinders\": 8, \"displacement\": 262.0, \"horsepower\": 110.0, \"weight\": 3221, \"acceleration\": 13.5, \"model_year\": 75, \"origin\": \"usa\", \"name\": \"chevrolet monza 2+2\"}, {\"mpg\": 13.0, \"cylinders\": 8, \"displacement\": 302.0, \"horsepower\": 129.0, \"weight\": 3169, \"acceleration\": 12.0, \"model_year\": 75, \"origin\": \"usa\", \"name\": \"ford mustang ii\"}, {\"mpg\": 29.0, \"cylinders\": 4, \"displacement\": 97.0, \"horsepower\": 75.0, \"weight\": 2171, \"acceleration\": 16.0, \"model_year\": 75, \"origin\": \"japan\", \"name\": \"toyota corolla\"}, {\"mpg\": 23.0, \"cylinders\": 4, \"displacement\": 140.0, \"horsepower\": 83.0, \"weight\": 2639, \"acceleration\": 17.0, \"model_year\": 75, \"origin\": \"usa\", \"name\": \"ford pinto\"}, {\"mpg\": 20.0, \"cylinders\": 6, \"displacement\": 232.0, \"horsepower\": 100.0, \"weight\": 2914, \"acceleration\": 16.0, \"model_year\": 75, \"origin\": \"usa\", \"name\": \"amc gremlin\"}, {\"mpg\": 23.0, \"cylinders\": 4, \"displacement\": 140.0, \"horsepower\": 78.0, \"weight\": 2592, \"acceleration\": 18.5, \"model_year\": 75, \"origin\": \"usa\", \"name\": \"pontiac astro\"}, {\"mpg\": 24.0, \"cylinders\": 4, \"displacement\": 134.0, \"horsepower\": 96.0, \"weight\": 2702, \"acceleration\": 13.5, \"model_year\": 75, \"origin\": \"japan\", \"name\": \"toyota corona\"}, {\"mpg\": 25.0, \"cylinders\": 4, \"displacement\": 90.0, \"horsepower\": 71.0, \"weight\": 2223, \"acceleration\": 16.5, \"model_year\": 75, \"origin\": \"europe\", \"name\": \"volkswagen dasher\"}, {\"mpg\": 24.0, \"cylinders\": 4, \"displacement\": 119.0, \"horsepower\": 97.0, \"weight\": 2545, \"acceleration\": 17.0, \"model_year\": 75, \"origin\": \"japan\", \"name\": \"datsun 710\"}, {\"mpg\": 18.0, \"cylinders\": 6, \"displacement\": 171.0, \"horsepower\": 97.0, \"weight\": 2984, \"acceleration\": 14.5, \"model_year\": 75, \"origin\": \"usa\", \"name\": \"ford pinto\"}, {\"mpg\": 29.0, \"cylinders\": 4, \"displacement\": 90.0, \"horsepower\": 70.0, \"weight\": 1937, \"acceleration\": 14.0, \"model_year\": 75, \"origin\": \"europe\", \"name\": \"volkswagen rabbit\"}, {\"mpg\": 19.0, \"cylinders\": 6, \"displacement\": 232.0, \"horsepower\": 90.0, \"weight\": 3211, \"acceleration\": 17.0, \"model_year\": 75, \"origin\": \"usa\", \"name\": \"amc pacer\"}, {\"mpg\": 23.0, \"cylinders\": 4, \"displacement\": 115.0, \"horsepower\": 95.0, \"weight\": 2694, \"acceleration\": 15.0, \"model_year\": 75, \"origin\": \"europe\", \"name\": \"audi 100ls\"}, {\"mpg\": 23.0, \"cylinders\": 4, \"displacement\": 120.0, \"horsepower\": 88.0, \"weight\": 2957, \"acceleration\": 17.0, \"model_year\": 75, \"origin\": \"europe\", \"name\": \"peugeot 504\"}, {\"mpg\": 22.0, \"cylinders\": 4, \"displacement\": 121.0, \"horsepower\": 98.0, \"weight\": 2945, \"acceleration\": 14.5, \"model_year\": 75, \"origin\": \"europe\", \"name\": \"volvo 244dl\"}, {\"mpg\": 25.0, \"cylinders\": 4, \"displacement\": 121.0, \"horsepower\": 115.0, \"weight\": 2671, \"acceleration\": 13.5, \"model_year\": 75, \"origin\": \"europe\", \"name\": \"saab 99le\"}, {\"mpg\": 33.0, \"cylinders\": 4, \"displacement\": 91.0, \"horsepower\": 53.0, \"weight\": 1795, \"acceleration\": 17.5, \"model_year\": 75, \"origin\": \"japan\", \"name\": \"honda civic cvcc\"}, {\"mpg\": 28.0, \"cylinders\": 4, \"displacement\": 107.0, \"horsepower\": 86.0, \"weight\": 2464, \"acceleration\": 15.5, \"model_year\": 76, \"origin\": \"europe\", \"name\": \"fiat 131\"}, {\"mpg\": 25.0, \"cylinders\": 4, \"displacement\": 116.0, \"horsepower\": 81.0, \"weight\": 2220, \"acceleration\": 16.9, \"model_year\": 76, \"origin\": \"europe\", \"name\": \"opel 1900\"}, {\"mpg\": 25.0, \"cylinders\": 4, \"displacement\": 140.0, \"horsepower\": 92.0, \"weight\": 2572, \"acceleration\": 14.9, \"model_year\": 76, \"origin\": \"usa\", \"name\": \"capri ii\"}, {\"mpg\": 26.0, \"cylinders\": 4, \"displacement\": 98.0, \"horsepower\": 79.0, \"weight\": 2255, \"acceleration\": 17.7, \"model_year\": 76, \"origin\": \"usa\", \"name\": \"dodge colt\"}, {\"mpg\": 27.0, \"cylinders\": 4, \"displacement\": 101.0, \"horsepower\": 83.0, \"weight\": 2202, \"acceleration\": 15.3, \"model_year\": 76, \"origin\": \"europe\", \"name\": \"renault 12tl\"}, {\"mpg\": 17.5, \"cylinders\": 8, \"displacement\": 305.0, \"horsepower\": 140.0, \"weight\": 4215, \"acceleration\": 13.0, \"model_year\": 76, \"origin\": \"usa\", \"name\": \"chevrolet chevelle malibu classic\"}, {\"mpg\": 16.0, \"cylinders\": 8, \"displacement\": 318.0, \"horsepower\": 150.0, \"weight\": 4190, \"acceleration\": 13.0, \"model_year\": 76, \"origin\": \"usa\", \"name\": \"dodge coronet brougham\"}, {\"mpg\": 15.5, \"cylinders\": 8, \"displacement\": 304.0, \"horsepower\": 120.0, \"weight\": 3962, \"acceleration\": 13.9, \"model_year\": 76, \"origin\": \"usa\", \"name\": \"amc matador\"}, {\"mpg\": 14.5, \"cylinders\": 8, \"displacement\": 351.0, \"horsepower\": 152.0, \"weight\": 4215, \"acceleration\": 12.8, \"model_year\": 76, \"origin\": \"usa\", \"name\": \"ford gran torino\"}, {\"mpg\": 22.0, \"cylinders\": 6, \"displacement\": 225.0, \"horsepower\": 100.0, \"weight\": 3233, \"acceleration\": 15.4, \"model_year\": 76, \"origin\": \"usa\", \"name\": \"plymouth valiant\"}, {\"mpg\": 22.0, \"cylinders\": 6, \"displacement\": 250.0, \"horsepower\": 105.0, \"weight\": 3353, \"acceleration\": 14.5, \"model_year\": 76, \"origin\": \"usa\", \"name\": \"chevrolet nova\"}, {\"mpg\": 24.0, \"cylinders\": 6, \"displacement\": 200.0, \"horsepower\": 81.0, \"weight\": 3012, \"acceleration\": 17.6, \"model_year\": 76, \"origin\": \"usa\", \"name\": \"ford maverick\"}, {\"mpg\": 22.5, \"cylinders\": 6, \"displacement\": 232.0, \"horsepower\": 90.0, \"weight\": 3085, \"acceleration\": 17.6, \"model_year\": 76, \"origin\": \"usa\", \"name\": \"amc hornet\"}, {\"mpg\": 29.0, \"cylinders\": 4, \"displacement\": 85.0, \"horsepower\": 52.0, \"weight\": 2035, \"acceleration\": 22.2, \"model_year\": 76, \"origin\": \"usa\", \"name\": \"chevrolet chevette\"}, {\"mpg\": 24.5, \"cylinders\": 4, \"displacement\": 98.0, \"horsepower\": 60.0, \"weight\": 2164, \"acceleration\": 22.1, \"model_year\": 76, \"origin\": \"usa\", \"name\": \"chevrolet woody\"}, {\"mpg\": 29.0, \"cylinders\": 4, \"displacement\": 90.0, \"horsepower\": 70.0, \"weight\": 1937, \"acceleration\": 14.2, \"model_year\": 76, \"origin\": \"europe\", \"name\": \"vw rabbit\"}, {\"mpg\": 33.0, \"cylinders\": 4, \"displacement\": 91.0, \"horsepower\": 53.0, \"weight\": 1795, \"acceleration\": 17.4, \"model_year\": 76, \"origin\": \"japan\", \"name\": \"honda civic\"}, {\"mpg\": 20.0, \"cylinders\": 6, \"displacement\": 225.0, \"horsepower\": 100.0, \"weight\": 3651, \"acceleration\": 17.7, \"model_year\": 76, \"origin\": \"usa\", \"name\": \"dodge aspen se\"}, {\"mpg\": 18.0, \"cylinders\": 6, \"displacement\": 250.0, \"horsepower\": 78.0, \"weight\": 3574, \"acceleration\": 21.0, \"model_year\": 76, \"origin\": \"usa\", \"name\": \"ford granada ghia\"}, {\"mpg\": 18.5, \"cylinders\": 6, \"displacement\": 250.0, \"horsepower\": 110.0, \"weight\": 3645, \"acceleration\": 16.2, \"model_year\": 76, \"origin\": \"usa\", \"name\": \"pontiac ventura sj\"}, {\"mpg\": 17.5, \"cylinders\": 6, \"displacement\": 258.0, \"horsepower\": 95.0, \"weight\": 3193, \"acceleration\": 17.8, \"model_year\": 76, \"origin\": \"usa\", \"name\": \"amc pacer d/l\"}, {\"mpg\": 29.5, \"cylinders\": 4, \"displacement\": 97.0, \"horsepower\": 71.0, \"weight\": 1825, \"acceleration\": 12.2, \"model_year\": 76, \"origin\": \"europe\", \"name\": \"volkswagen rabbit\"}, {\"mpg\": 32.0, \"cylinders\": 4, \"displacement\": 85.0, \"horsepower\": 70.0, \"weight\": 1990, \"acceleration\": 17.0, \"model_year\": 76, \"origin\": \"japan\", \"name\": \"datsun b-210\"}, {\"mpg\": 28.0, \"cylinders\": 4, \"displacement\": 97.0, \"horsepower\": 75.0, \"weight\": 2155, \"acceleration\": 16.4, \"model_year\": 76, \"origin\": \"japan\", \"name\": \"toyota corolla\"}, {\"mpg\": 26.5, \"cylinders\": 4, \"displacement\": 140.0, \"horsepower\": 72.0, \"weight\": 2565, \"acceleration\": 13.6, \"model_year\": 76, \"origin\": \"usa\", \"name\": \"ford pinto\"}, {\"mpg\": 20.0, \"cylinders\": 4, \"displacement\": 130.0, \"horsepower\": 102.0, \"weight\": 3150, \"acceleration\": 15.7, \"model_year\": 76, \"origin\": \"europe\", \"name\": \"volvo 245\"}, {\"mpg\": 13.0, \"cylinders\": 8, \"displacement\": 318.0, \"horsepower\": 150.0, \"weight\": 3940, \"acceleration\": 13.2, \"model_year\": 76, \"origin\": \"usa\", \"name\": \"plymouth volare premier v8\"}, {\"mpg\": 19.0, \"cylinders\": 4, \"displacement\": 120.0, \"horsepower\": 88.0, \"weight\": 3270, \"acceleration\": 21.9, \"model_year\": 76, \"origin\": \"europe\", \"name\": \"peugeot 504\"}, {\"mpg\": 19.0, \"cylinders\": 6, \"displacement\": 156.0, \"horsepower\": 108.0, \"weight\": 2930, \"acceleration\": 15.5, \"model_year\": 76, \"origin\": \"japan\", \"name\": \"toyota mark ii\"}, {\"mpg\": 16.5, \"cylinders\": 6, \"displacement\": 168.0, \"horsepower\": 120.0, \"weight\": 3820, \"acceleration\": 16.7, \"model_year\": 76, \"origin\": \"europe\", \"name\": \"mercedes-benz 280s\"}, {\"mpg\": 16.5, \"cylinders\": 8, \"displacement\": 350.0, \"horsepower\": 180.0, \"weight\": 4380, \"acceleration\": 12.1, \"model_year\": 76, \"origin\": \"usa\", \"name\": \"cadillac seville\"}, {\"mpg\": 13.0, \"cylinders\": 8, \"displacement\": 350.0, \"horsepower\": 145.0, \"weight\": 4055, \"acceleration\": 12.0, \"model_year\": 76, \"origin\": \"usa\", \"name\": \"chevy c10\"}, {\"mpg\": 13.0, \"cylinders\": 8, \"displacement\": 302.0, \"horsepower\": 130.0, \"weight\": 3870, \"acceleration\": 15.0, \"model_year\": 76, \"origin\": \"usa\", \"name\": \"ford f108\"}, {\"mpg\": 13.0, \"cylinders\": 8, \"displacement\": 318.0, \"horsepower\": 150.0, \"weight\": 3755, \"acceleration\": 14.0, \"model_year\": 76, \"origin\": \"usa\", \"name\": \"dodge d100\"}, {\"mpg\": 31.5, \"cylinders\": 4, \"displacement\": 98.0, \"horsepower\": 68.0, \"weight\": 2045, \"acceleration\": 18.5, \"model_year\": 77, \"origin\": \"japan\", \"name\": \"honda accord cvcc\"}, {\"mpg\": 30.0, \"cylinders\": 4, \"displacement\": 111.0, \"horsepower\": 80.0, \"weight\": 2155, \"acceleration\": 14.8, \"model_year\": 77, \"origin\": \"usa\", \"name\": \"buick opel isuzu deluxe\"}, {\"mpg\": 36.0, \"cylinders\": 4, \"displacement\": 79.0, \"horsepower\": 58.0, \"weight\": 1825, \"acceleration\": 18.6, \"model_year\": 77, \"origin\": \"europe\", \"name\": \"renault 5 gtl\"}, {\"mpg\": 25.5, \"cylinders\": 4, \"displacement\": 122.0, \"horsepower\": 96.0, \"weight\": 2300, \"acceleration\": 15.5, \"model_year\": 77, \"origin\": \"usa\", \"name\": \"plymouth arrow gs\"}, {\"mpg\": 33.5, \"cylinders\": 4, \"displacement\": 85.0, \"horsepower\": 70.0, \"weight\": 1945, \"acceleration\": 16.8, \"model_year\": 77, \"origin\": \"japan\", \"name\": \"datsun f-10 hatchback\"}, {\"mpg\": 17.5, \"cylinders\": 8, \"displacement\": 305.0, \"horsepower\": 145.0, \"weight\": 3880, \"acceleration\": 12.5, \"model_year\": 77, \"origin\": \"usa\", \"name\": \"chevrolet caprice classic\"}, {\"mpg\": 17.0, \"cylinders\": 8, \"displacement\": 260.0, \"horsepower\": 110.0, \"weight\": 4060, \"acceleration\": 19.0, \"model_year\": 77, \"origin\": \"usa\", \"name\": \"oldsmobile cutlass supreme\"}, {\"mpg\": 15.5, \"cylinders\": 8, \"displacement\": 318.0, \"horsepower\": 145.0, \"weight\": 4140, \"acceleration\": 13.7, \"model_year\": 77, \"origin\": \"usa\", \"name\": \"dodge monaco brougham\"}, {\"mpg\": 15.0, \"cylinders\": 8, \"displacement\": 302.0, \"horsepower\": 130.0, \"weight\": 4295, \"acceleration\": 14.9, \"model_year\": 77, \"origin\": \"usa\", \"name\": \"mercury cougar brougham\"}, {\"mpg\": 17.5, \"cylinders\": 6, \"displacement\": 250.0, \"horsepower\": 110.0, \"weight\": 3520, \"acceleration\": 16.4, \"model_year\": 77, \"origin\": \"usa\", \"name\": \"chevrolet concours\"}, {\"mpg\": 20.5, \"cylinders\": 6, \"displacement\": 231.0, \"horsepower\": 105.0, \"weight\": 3425, \"acceleration\": 16.9, \"model_year\": 77, \"origin\": \"usa\", \"name\": \"buick skylark\"}, {\"mpg\": 19.0, \"cylinders\": 6, \"displacement\": 225.0, \"horsepower\": 100.0, \"weight\": 3630, \"acceleration\": 17.7, \"model_year\": 77, \"origin\": \"usa\", \"name\": \"plymouth volare custom\"}, {\"mpg\": 18.5, \"cylinders\": 6, \"displacement\": 250.0, \"horsepower\": 98.0, \"weight\": 3525, \"acceleration\": 19.0, \"model_year\": 77, \"origin\": \"usa\", \"name\": \"ford granada\"}, {\"mpg\": 16.0, \"cylinders\": 8, \"displacement\": 400.0, \"horsepower\": 180.0, \"weight\": 4220, \"acceleration\": 11.1, \"model_year\": 77, \"origin\": \"usa\", \"name\": \"pontiac grand prix lj\"}, {\"mpg\": 15.5, \"cylinders\": 8, \"displacement\": 350.0, \"horsepower\": 170.0, \"weight\": 4165, \"acceleration\": 11.4, \"model_year\": 77, \"origin\": \"usa\", \"name\": \"chevrolet monte carlo landau\"}, {\"mpg\": 15.5, \"cylinders\": 8, \"displacement\": 400.0, \"horsepower\": 190.0, \"weight\": 4325, \"acceleration\": 12.2, \"model_year\": 77, \"origin\": \"usa\", \"name\": \"chrysler cordoba\"}, {\"mpg\": 16.0, \"cylinders\": 8, \"displacement\": 351.0, \"horsepower\": 149.0, \"weight\": 4335, \"acceleration\": 14.5, \"model_year\": 77, \"origin\": \"usa\", \"name\": \"ford thunderbird\"}, {\"mpg\": 29.0, \"cylinders\": 4, \"displacement\": 97.0, \"horsepower\": 78.0, \"weight\": 1940, \"acceleration\": 14.5, \"model_year\": 77, \"origin\": \"europe\", \"name\": \"volkswagen rabbit custom\"}, {\"mpg\": 24.5, \"cylinders\": 4, \"displacement\": 151.0, \"horsepower\": 88.0, \"weight\": 2740, \"acceleration\": 16.0, \"model_year\": 77, \"origin\": \"usa\", \"name\": \"pontiac sunbird coupe\"}, {\"mpg\": 26.0, \"cylinders\": 4, \"displacement\": 97.0, \"horsepower\": 75.0, \"weight\": 2265, \"acceleration\": 18.2, \"model_year\": 77, \"origin\": \"japan\", \"name\": \"toyota corolla liftback\"}, {\"mpg\": 25.5, \"cylinders\": 4, \"displacement\": 140.0, \"horsepower\": 89.0, \"weight\": 2755, \"acceleration\": 15.8, \"model_year\": 77, \"origin\": \"usa\", \"name\": \"ford mustang ii 2+2\"}, {\"mpg\": 30.5, \"cylinders\": 4, \"displacement\": 98.0, \"horsepower\": 63.0, \"weight\": 2051, \"acceleration\": 17.0, \"model_year\": 77, \"origin\": \"usa\", \"name\": \"chevrolet chevette\"}, {\"mpg\": 33.5, \"cylinders\": 4, \"displacement\": 98.0, \"horsepower\": 83.0, \"weight\": 2075, \"acceleration\": 15.9, \"model_year\": 77, \"origin\": \"usa\", \"name\": \"dodge colt m/m\"}, {\"mpg\": 30.0, \"cylinders\": 4, \"displacement\": 97.0, \"horsepower\": 67.0, \"weight\": 1985, \"acceleration\": 16.4, \"model_year\": 77, \"origin\": \"japan\", \"name\": \"subaru dl\"}, {\"mpg\": 30.5, \"cylinders\": 4, \"displacement\": 97.0, \"horsepower\": 78.0, \"weight\": 2190, \"acceleration\": 14.1, \"model_year\": 77, \"origin\": \"europe\", \"name\": \"volkswagen dasher\"}, {\"mpg\": 22.0, \"cylinders\": 6, \"displacement\": 146.0, \"horsepower\": 97.0, \"weight\": 2815, \"acceleration\": 14.5, \"model_year\": 77, \"origin\": \"japan\", \"name\": \"datsun 810\"}, {\"mpg\": 21.5, \"cylinders\": 4, \"displacement\": 121.0, \"horsepower\": 110.0, \"weight\": 2600, \"acceleration\": 12.8, \"model_year\": 77, \"origin\": \"europe\", \"name\": \"bmw 320i\"}, {\"mpg\": 21.5, \"cylinders\": 3, \"displacement\": 80.0, \"horsepower\": 110.0, \"weight\": 2720, \"acceleration\": 13.5, \"model_year\": 77, \"origin\": \"japan\", \"name\": \"mazda rx-4\"}, {\"mpg\": 43.1, \"cylinders\": 4, \"displacement\": 90.0, \"horsepower\": 48.0, \"weight\": 1985, \"acceleration\": 21.5, \"model_year\": 78, \"origin\": \"europe\", \"name\": \"volkswagen rabbit custom diesel\"}, {\"mpg\": 36.1, \"cylinders\": 4, \"displacement\": 98.0, \"horsepower\": 66.0, \"weight\": 1800, \"acceleration\": 14.4, \"model_year\": 78, \"origin\": \"usa\", \"name\": \"ford fiesta\"}, {\"mpg\": 32.8, \"cylinders\": 4, \"displacement\": 78.0, \"horsepower\": 52.0, \"weight\": 1985, \"acceleration\": 19.4, \"model_year\": 78, \"origin\": \"japan\", \"name\": \"mazda glc deluxe\"}, {\"mpg\": 39.4, \"cylinders\": 4, \"displacement\": 85.0, \"horsepower\": 70.0, \"weight\": 2070, \"acceleration\": 18.6, \"model_year\": 78, \"origin\": \"japan\", \"name\": \"datsun b210 gx\"}, {\"mpg\": 36.1, \"cylinders\": 4, \"displacement\": 91.0, \"horsepower\": 60.0, \"weight\": 1800, \"acceleration\": 16.4, \"model_year\": 78, \"origin\": \"japan\", \"name\": \"honda civic cvcc\"}, {\"mpg\": 19.9, \"cylinders\": 8, \"displacement\": 260.0, \"horsepower\": 110.0, \"weight\": 3365, \"acceleration\": 15.5, \"model_year\": 78, \"origin\": \"usa\", \"name\": \"oldsmobile cutlass salon brougham\"}, {\"mpg\": 19.4, \"cylinders\": 8, \"displacement\": 318.0, \"horsepower\": 140.0, \"weight\": 3735, \"acceleration\": 13.2, \"model_year\": 78, \"origin\": \"usa\", \"name\": \"dodge diplomat\"}, {\"mpg\": 20.2, \"cylinders\": 8, \"displacement\": 302.0, \"horsepower\": 139.0, \"weight\": 3570, \"acceleration\": 12.8, \"model_year\": 78, \"origin\": \"usa\", \"name\": \"mercury monarch ghia\"}, {\"mpg\": 19.2, \"cylinders\": 6, \"displacement\": 231.0, \"horsepower\": 105.0, \"weight\": 3535, \"acceleration\": 19.2, \"model_year\": 78, \"origin\": \"usa\", \"name\": \"pontiac phoenix lj\"}, {\"mpg\": 20.5, \"cylinders\": 6, \"displacement\": 200.0, \"horsepower\": 95.0, \"weight\": 3155, \"acceleration\": 18.2, \"model_year\": 78, \"origin\": \"usa\", \"name\": \"chevrolet malibu\"}, {\"mpg\": 20.2, \"cylinders\": 6, \"displacement\": 200.0, \"horsepower\": 85.0, \"weight\": 2965, \"acceleration\": 15.8, \"model_year\": 78, \"origin\": \"usa\", \"name\": \"ford fairmont (auto)\"}, {\"mpg\": 25.1, \"cylinders\": 4, \"displacement\": 140.0, \"horsepower\": 88.0, \"weight\": 2720, \"acceleration\": 15.4, \"model_year\": 78, \"origin\": \"usa\", \"name\": \"ford fairmont (man)\"}, {\"mpg\": 20.5, \"cylinders\": 6, \"displacement\": 225.0, \"horsepower\": 100.0, \"weight\": 3430, \"acceleration\": 17.2, \"model_year\": 78, \"origin\": \"usa\", \"name\": \"plymouth volare\"}, {\"mpg\": 19.4, \"cylinders\": 6, \"displacement\": 232.0, \"horsepower\": 90.0, \"weight\": 3210, \"acceleration\": 17.2, \"model_year\": 78, \"origin\": \"usa\", \"name\": \"amc concord\"}, {\"mpg\": 20.6, \"cylinders\": 6, \"displacement\": 231.0, \"horsepower\": 105.0, \"weight\": 3380, \"acceleration\": 15.8, \"model_year\": 78, \"origin\": \"usa\", \"name\": \"buick century special\"}, {\"mpg\": 20.8, \"cylinders\": 6, \"displacement\": 200.0, \"horsepower\": 85.0, \"weight\": 3070, \"acceleration\": 16.7, \"model_year\": 78, \"origin\": \"usa\", \"name\": \"mercury zephyr\"}, {\"mpg\": 18.6, \"cylinders\": 6, \"displacement\": 225.0, \"horsepower\": 110.0, \"weight\": 3620, \"acceleration\": 18.7, \"model_year\": 78, \"origin\": \"usa\", \"name\": \"dodge aspen\"}, {\"mpg\": 18.1, \"cylinders\": 6, \"displacement\": 258.0, \"horsepower\": 120.0, \"weight\": 3410, \"acceleration\": 15.1, \"model_year\": 78, \"origin\": \"usa\", \"name\": \"amc concord d/l\"}, {\"mpg\": 19.2, \"cylinders\": 8, \"displacement\": 305.0, \"horsepower\": 145.0, \"weight\": 3425, \"acceleration\": 13.2, \"model_year\": 78, \"origin\": \"usa\", \"name\": \"chevrolet monte carlo landau\"}, {\"mpg\": 17.7, \"cylinders\": 6, \"displacement\": 231.0, \"horsepower\": 165.0, \"weight\": 3445, \"acceleration\": 13.4, \"model_year\": 78, \"origin\": \"usa\", \"name\": \"buick regal sport coupe (turbo)\"}, {\"mpg\": 18.1, \"cylinders\": 8, \"displacement\": 302.0, \"horsepower\": 139.0, \"weight\": 3205, \"acceleration\": 11.2, \"model_year\": 78, \"origin\": \"usa\", \"name\": \"ford futura\"}, {\"mpg\": 17.5, \"cylinders\": 8, \"displacement\": 318.0, \"horsepower\": 140.0, \"weight\": 4080, \"acceleration\": 13.7, \"model_year\": 78, \"origin\": \"usa\", \"name\": \"dodge magnum xe\"}, {\"mpg\": 30.0, \"cylinders\": 4, \"displacement\": 98.0, \"horsepower\": 68.0, \"weight\": 2155, \"acceleration\": 16.5, \"model_year\": 78, \"origin\": \"usa\", \"name\": \"chevrolet chevette\"}, {\"mpg\": 27.5, \"cylinders\": 4, \"displacement\": 134.0, \"horsepower\": 95.0, \"weight\": 2560, \"acceleration\": 14.2, \"model_year\": 78, \"origin\": \"japan\", \"name\": \"toyota corona\"}, {\"mpg\": 27.2, \"cylinders\": 4, \"displacement\": 119.0, \"horsepower\": 97.0, \"weight\": 2300, \"acceleration\": 14.7, \"model_year\": 78, \"origin\": \"japan\", \"name\": \"datsun 510\"}, {\"mpg\": 30.9, \"cylinders\": 4, \"displacement\": 105.0, \"horsepower\": 75.0, \"weight\": 2230, \"acceleration\": 14.5, \"model_year\": 78, \"origin\": \"usa\", \"name\": \"dodge omni\"}, {\"mpg\": 21.1, \"cylinders\": 4, \"displacement\": 134.0, \"horsepower\": 95.0, \"weight\": 2515, \"acceleration\": 14.8, \"model_year\": 78, \"origin\": \"japan\", \"name\": \"toyota celica gt liftback\"}, {\"mpg\": 23.2, \"cylinders\": 4, \"displacement\": 156.0, \"horsepower\": 105.0, \"weight\": 2745, \"acceleration\": 16.7, \"model_year\": 78, \"origin\": \"usa\", \"name\": \"plymouth sapporo\"}, {\"mpg\": 23.8, \"cylinders\": 4, \"displacement\": 151.0, \"horsepower\": 85.0, \"weight\": 2855, \"acceleration\": 17.6, \"model_year\": 78, \"origin\": \"usa\", \"name\": \"oldsmobile starfire sx\"}, {\"mpg\": 23.9, \"cylinders\": 4, \"displacement\": 119.0, \"horsepower\": 97.0, \"weight\": 2405, \"acceleration\": 14.9, \"model_year\": 78, \"origin\": \"japan\", \"name\": \"datsun 200-sx\"}, {\"mpg\": 20.3, \"cylinders\": 5, \"displacement\": 131.0, \"horsepower\": 103.0, \"weight\": 2830, \"acceleration\": 15.9, \"model_year\": 78, \"origin\": \"europe\", \"name\": \"audi 5000\"}, {\"mpg\": 17.0, \"cylinders\": 6, \"displacement\": 163.0, \"horsepower\": 125.0, \"weight\": 3140, \"acceleration\": 13.6, \"model_year\": 78, \"origin\": \"europe\", \"name\": \"volvo 264gl\"}, {\"mpg\": 21.6, \"cylinders\": 4, \"displacement\": 121.0, \"horsepower\": 115.0, \"weight\": 2795, \"acceleration\": 15.7, \"model_year\": 78, \"origin\": \"europe\", \"name\": \"saab 99gle\"}, {\"mpg\": 16.2, \"cylinders\": 6, \"displacement\": 163.0, \"horsepower\": 133.0, \"weight\": 3410, \"acceleration\": 15.8, \"model_year\": 78, \"origin\": \"europe\", \"name\": \"peugeot 604sl\"}, {\"mpg\": 31.5, \"cylinders\": 4, \"displacement\": 89.0, \"horsepower\": 71.0, \"weight\": 1990, \"acceleration\": 14.9, \"model_year\": 78, \"origin\": \"europe\", \"name\": \"volkswagen scirocco\"}, {\"mpg\": 29.5, \"cylinders\": 4, \"displacement\": 98.0, \"horsepower\": 68.0, \"weight\": 2135, \"acceleration\": 16.6, \"model_year\": 78, \"origin\": \"japan\", \"name\": \"honda accord lx\"}, {\"mpg\": 21.5, \"cylinders\": 6, \"displacement\": 231.0, \"horsepower\": 115.0, \"weight\": 3245, \"acceleration\": 15.4, \"model_year\": 79, \"origin\": \"usa\", \"name\": \"pontiac lemans v6\"}, {\"mpg\": 19.8, \"cylinders\": 6, \"displacement\": 200.0, \"horsepower\": 85.0, \"weight\": 2990, \"acceleration\": 18.2, \"model_year\": 79, \"origin\": \"usa\", \"name\": \"mercury zephyr 6\"}, {\"mpg\": 22.3, \"cylinders\": 4, \"displacement\": 140.0, \"horsepower\": 88.0, \"weight\": 2890, \"acceleration\": 17.3, \"model_year\": 79, \"origin\": \"usa\", \"name\": \"ford fairmont 4\"}, {\"mpg\": 20.2, \"cylinders\": 6, \"displacement\": 232.0, \"horsepower\": 90.0, \"weight\": 3265, \"acceleration\": 18.2, \"model_year\": 79, \"origin\": \"usa\", \"name\": \"amc concord dl 6\"}, {\"mpg\": 20.6, \"cylinders\": 6, \"displacement\": 225.0, \"horsepower\": 110.0, \"weight\": 3360, \"acceleration\": 16.6, \"model_year\": 79, \"origin\": \"usa\", \"name\": \"dodge aspen 6\"}, {\"mpg\": 17.0, \"cylinders\": 8, \"displacement\": 305.0, \"horsepower\": 130.0, \"weight\": 3840, \"acceleration\": 15.4, \"model_year\": 79, \"origin\": \"usa\", \"name\": \"chevrolet caprice classic\"}, {\"mpg\": 17.6, \"cylinders\": 8, \"displacement\": 302.0, \"horsepower\": 129.0, \"weight\": 3725, \"acceleration\": 13.4, \"model_year\": 79, \"origin\": \"usa\", \"name\": \"ford ltd landau\"}, {\"mpg\": 16.5, \"cylinders\": 8, \"displacement\": 351.0, \"horsepower\": 138.0, \"weight\": 3955, \"acceleration\": 13.2, \"model_year\": 79, \"origin\": \"usa\", \"name\": \"mercury grand marquis\"}, {\"mpg\": 18.2, \"cylinders\": 8, \"displacement\": 318.0, \"horsepower\": 135.0, \"weight\": 3830, \"acceleration\": 15.2, \"model_year\": 79, \"origin\": \"usa\", \"name\": \"dodge st. regis\"}, {\"mpg\": 16.9, \"cylinders\": 8, \"displacement\": 350.0, \"horsepower\": 155.0, \"weight\": 4360, \"acceleration\": 14.9, \"model_year\": 79, \"origin\": \"usa\", \"name\": \"buick estate wagon (sw)\"}, {\"mpg\": 15.5, \"cylinders\": 8, \"displacement\": 351.0, \"horsepower\": 142.0, \"weight\": 4054, \"acceleration\": 14.3, \"model_year\": 79, \"origin\": \"usa\", \"name\": \"ford country squire (sw)\"}, {\"mpg\": 19.2, \"cylinders\": 8, \"displacement\": 267.0, \"horsepower\": 125.0, \"weight\": 3605, \"acceleration\": 15.0, \"model_year\": 79, \"origin\": \"usa\", \"name\": \"chevrolet malibu classic (sw)\"}, {\"mpg\": 18.5, \"cylinders\": 8, \"displacement\": 360.0, \"horsepower\": 150.0, \"weight\": 3940, \"acceleration\": 13.0, \"model_year\": 79, \"origin\": \"usa\", \"name\": \"chrysler lebaron town @ country (sw)\"}, {\"mpg\": 31.9, \"cylinders\": 4, \"displacement\": 89.0, \"horsepower\": 71.0, \"weight\": 1925, \"acceleration\": 14.0, \"model_year\": 79, \"origin\": \"europe\", \"name\": \"vw rabbit custom\"}, {\"mpg\": 34.1, \"cylinders\": 4, \"displacement\": 86.0, \"horsepower\": 65.0, \"weight\": 1975, \"acceleration\": 15.2, \"model_year\": 79, \"origin\": \"japan\", \"name\": \"maxda glc deluxe\"}, {\"mpg\": 35.7, \"cylinders\": 4, \"displacement\": 98.0, \"horsepower\": 80.0, \"weight\": 1915, \"acceleration\": 14.4, \"model_year\": 79, \"origin\": \"usa\", \"name\": \"dodge colt hatchback custom\"}, {\"mpg\": 27.4, \"cylinders\": 4, \"displacement\": 121.0, \"horsepower\": 80.0, \"weight\": 2670, \"acceleration\": 15.0, \"model_year\": 79, \"origin\": \"usa\", \"name\": \"amc spirit dl\"}, {\"mpg\": 25.4, \"cylinders\": 5, \"displacement\": 183.0, \"horsepower\": 77.0, \"weight\": 3530, \"acceleration\": 20.1, \"model_year\": 79, \"origin\": \"europe\", \"name\": \"mercedes benz 300d\"}, {\"mpg\": 23.0, \"cylinders\": 8, \"displacement\": 350.0, \"horsepower\": 125.0, \"weight\": 3900, \"acceleration\": 17.4, \"model_year\": 79, \"origin\": \"usa\", \"name\": \"cadillac eldorado\"}, {\"mpg\": 27.2, \"cylinders\": 4, \"displacement\": 141.0, \"horsepower\": 71.0, \"weight\": 3190, \"acceleration\": 24.8, \"model_year\": 79, \"origin\": \"europe\", \"name\": \"peugeot 504\"}, {\"mpg\": 23.9, \"cylinders\": 8, \"displacement\": 260.0, \"horsepower\": 90.0, \"weight\": 3420, \"acceleration\": 22.2, \"model_year\": 79, \"origin\": \"usa\", \"name\": \"oldsmobile cutlass salon brougham\"}, {\"mpg\": 34.2, \"cylinders\": 4, \"displacement\": 105.0, \"horsepower\": 70.0, \"weight\": 2200, \"acceleration\": 13.2, \"model_year\": 79, \"origin\": \"usa\", \"name\": \"plymouth horizon\"}, {\"mpg\": 34.5, \"cylinders\": 4, \"displacement\": 105.0, \"horsepower\": 70.0, \"weight\": 2150, \"acceleration\": 14.9, \"model_year\": 79, \"origin\": \"usa\", \"name\": \"plymouth horizon tc3\"}, {\"mpg\": 31.8, \"cylinders\": 4, \"displacement\": 85.0, \"horsepower\": 65.0, \"weight\": 2020, \"acceleration\": 19.2, \"model_year\": 79, \"origin\": \"japan\", \"name\": \"datsun 210\"}, {\"mpg\": 37.3, \"cylinders\": 4, \"displacement\": 91.0, \"horsepower\": 69.0, \"weight\": 2130, \"acceleration\": 14.7, \"model_year\": 79, \"origin\": \"europe\", \"name\": \"fiat strada custom\"}, {\"mpg\": 28.4, \"cylinders\": 4, \"displacement\": 151.0, \"horsepower\": 90.0, \"weight\": 2670, \"acceleration\": 16.0, \"model_year\": 79, \"origin\": \"usa\", \"name\": \"buick skylark limited\"}, {\"mpg\": 28.8, \"cylinders\": 6, \"displacement\": 173.0, \"horsepower\": 115.0, \"weight\": 2595, \"acceleration\": 11.3, \"model_year\": 79, \"origin\": \"usa\", \"name\": \"chevrolet citation\"}, {\"mpg\": 26.8, \"cylinders\": 6, \"displacement\": 173.0, \"horsepower\": 115.0, \"weight\": 2700, \"acceleration\": 12.9, \"model_year\": 79, \"origin\": \"usa\", \"name\": \"oldsmobile omega brougham\"}, {\"mpg\": 33.5, \"cylinders\": 4, \"displacement\": 151.0, \"horsepower\": 90.0, \"weight\": 2556, \"acceleration\": 13.2, \"model_year\": 79, \"origin\": \"usa\", \"name\": \"pontiac phoenix\"}, {\"mpg\": 41.5, \"cylinders\": 4, \"displacement\": 98.0, \"horsepower\": 76.0, \"weight\": 2144, \"acceleration\": 14.7, \"model_year\": 80, \"origin\": \"europe\", \"name\": \"vw rabbit\"}, {\"mpg\": 38.1, \"cylinders\": 4, \"displacement\": 89.0, \"horsepower\": 60.0, \"weight\": 1968, \"acceleration\": 18.8, \"model_year\": 80, \"origin\": \"japan\", \"name\": \"toyota corolla tercel\"}, {\"mpg\": 32.1, \"cylinders\": 4, \"displacement\": 98.0, \"horsepower\": 70.0, \"weight\": 2120, \"acceleration\": 15.5, \"model_year\": 80, \"origin\": \"usa\", \"name\": \"chevrolet chevette\"}, {\"mpg\": 37.2, \"cylinders\": 4, \"displacement\": 86.0, \"horsepower\": 65.0, \"weight\": 2019, \"acceleration\": 16.4, \"model_year\": 80, \"origin\": \"japan\", \"name\": \"datsun 310\"}, {\"mpg\": 28.0, \"cylinders\": 4, \"displacement\": 151.0, \"horsepower\": 90.0, \"weight\": 2678, \"acceleration\": 16.5, \"model_year\": 80, \"origin\": \"usa\", \"name\": \"chevrolet citation\"}, {\"mpg\": 26.4, \"cylinders\": 4, \"displacement\": 140.0, \"horsepower\": 88.0, \"weight\": 2870, \"acceleration\": 18.1, \"model_year\": 80, \"origin\": \"usa\", \"name\": \"ford fairmont\"}, {\"mpg\": 24.3, \"cylinders\": 4, \"displacement\": 151.0, \"horsepower\": 90.0, \"weight\": 3003, \"acceleration\": 20.1, \"model_year\": 80, \"origin\": \"usa\", \"name\": \"amc concord\"}, {\"mpg\": 19.1, \"cylinders\": 6, \"displacement\": 225.0, \"horsepower\": 90.0, \"weight\": 3381, \"acceleration\": 18.7, \"model_year\": 80, \"origin\": \"usa\", \"name\": \"dodge aspen\"}, {\"mpg\": 34.3, \"cylinders\": 4, \"displacement\": 97.0, \"horsepower\": 78.0, \"weight\": 2188, \"acceleration\": 15.8, \"model_year\": 80, \"origin\": \"europe\", \"name\": \"audi 4000\"}, {\"mpg\": 29.8, \"cylinders\": 4, \"displacement\": 134.0, \"horsepower\": 90.0, \"weight\": 2711, \"acceleration\": 15.5, \"model_year\": 80, \"origin\": \"japan\", \"name\": \"toyota corona liftback\"}, {\"mpg\": 31.3, \"cylinders\": 4, \"displacement\": 120.0, \"horsepower\": 75.0, \"weight\": 2542, \"acceleration\": 17.5, \"model_year\": 80, \"origin\": \"japan\", \"name\": \"mazda 626\"}, {\"mpg\": 37.0, \"cylinders\": 4, \"displacement\": 119.0, \"horsepower\": 92.0, \"weight\": 2434, \"acceleration\": 15.0, \"model_year\": 80, \"origin\": \"japan\", \"name\": \"datsun 510 hatchback\"}, {\"mpg\": 32.2, \"cylinders\": 4, \"displacement\": 108.0, \"horsepower\": 75.0, \"weight\": 2265, \"acceleration\": 15.2, \"model_year\": 80, \"origin\": \"japan\", \"name\": \"toyota corolla\"}, {\"mpg\": 46.6, \"cylinders\": 4, \"displacement\": 86.0, \"horsepower\": 65.0, \"weight\": 2110, \"acceleration\": 17.9, \"model_year\": 80, \"origin\": \"japan\", \"name\": \"mazda glc\"}, {\"mpg\": 27.9, \"cylinders\": 4, \"displacement\": 156.0, \"horsepower\": 105.0, \"weight\": 2800, \"acceleration\": 14.4, \"model_year\": 80, \"origin\": \"usa\", \"name\": \"dodge colt\"}, {\"mpg\": 40.8, \"cylinders\": 4, \"displacement\": 85.0, \"horsepower\": 65.0, \"weight\": 2110, \"acceleration\": 19.2, \"model_year\": 80, \"origin\": \"japan\", \"name\": \"datsun 210\"}, {\"mpg\": 44.3, \"cylinders\": 4, \"displacement\": 90.0, \"horsepower\": 48.0, \"weight\": 2085, \"acceleration\": 21.7, \"model_year\": 80, \"origin\": \"europe\", \"name\": \"vw rabbit c (diesel)\"}, {\"mpg\": 43.4, \"cylinders\": 4, \"displacement\": 90.0, \"horsepower\": 48.0, \"weight\": 2335, \"acceleration\": 23.7, \"model_year\": 80, \"origin\": \"europe\", \"name\": \"vw dasher (diesel)\"}, {\"mpg\": 36.4, \"cylinders\": 5, \"displacement\": 121.0, \"horsepower\": 67.0, \"weight\": 2950, \"acceleration\": 19.9, \"model_year\": 80, \"origin\": \"europe\", \"name\": \"audi 5000s (diesel)\"}, {\"mpg\": 30.0, \"cylinders\": 4, \"displacement\": 146.0, \"horsepower\": 67.0, \"weight\": 3250, \"acceleration\": 21.8, \"model_year\": 80, \"origin\": \"europe\", \"name\": \"mercedes-benz 240d\"}, {\"mpg\": 44.6, \"cylinders\": 4, \"displacement\": 91.0, \"horsepower\": 67.0, \"weight\": 1850, \"acceleration\": 13.8, \"model_year\": 80, \"origin\": \"japan\", \"name\": \"honda civic 1500 gl\"}, {\"mpg\": 40.9, \"cylinders\": 4, \"displacement\": 85.0, \"horsepower\": null, \"weight\": 1835, \"acceleration\": 17.3, \"model_year\": 80, \"origin\": \"europe\", \"name\": \"renault lecar deluxe\"}, {\"mpg\": 33.8, \"cylinders\": 4, \"displacement\": 97.0, \"horsepower\": 67.0, \"weight\": 2145, \"acceleration\": 18.0, \"model_year\": 80, \"origin\": \"japan\", \"name\": \"subaru dl\"}, {\"mpg\": 29.8, \"cylinders\": 4, \"displacement\": 89.0, \"horsepower\": 62.0, \"weight\": 1845, \"acceleration\": 15.3, \"model_year\": 80, \"origin\": \"europe\", \"name\": \"vokswagen rabbit\"}, {\"mpg\": 32.7, \"cylinders\": 6, \"displacement\": 168.0, \"horsepower\": 132.0, \"weight\": 2910, \"acceleration\": 11.4, \"model_year\": 80, \"origin\": \"japan\", \"name\": \"datsun 280-zx\"}, {\"mpg\": 23.7, \"cylinders\": 3, \"displacement\": 70.0, \"horsepower\": 100.0, \"weight\": 2420, \"acceleration\": 12.5, \"model_year\": 80, \"origin\": \"japan\", \"name\": \"mazda rx-7 gs\"}, {\"mpg\": 35.0, \"cylinders\": 4, \"displacement\": 122.0, \"horsepower\": 88.0, \"weight\": 2500, \"acceleration\": 15.1, \"model_year\": 80, \"origin\": \"europe\", \"name\": \"triumph tr7 coupe\"}, {\"mpg\": 23.6, \"cylinders\": 4, \"displacement\": 140.0, \"horsepower\": null, \"weight\": 2905, \"acceleration\": 14.3, \"model_year\": 80, \"origin\": \"usa\", \"name\": \"ford mustang cobra\"}, {\"mpg\": 32.4, \"cylinders\": 4, \"displacement\": 107.0, \"horsepower\": 72.0, \"weight\": 2290, \"acceleration\": 17.0, \"model_year\": 80, \"origin\": \"japan\", \"name\": \"honda accord\"}, {\"mpg\": 27.2, \"cylinders\": 4, \"displacement\": 135.0, \"horsepower\": 84.0, \"weight\": 2490, \"acceleration\": 15.7, \"model_year\": 81, \"origin\": \"usa\", \"name\": \"plymouth reliant\"}, {\"mpg\": 26.6, \"cylinders\": 4, \"displacement\": 151.0, \"horsepower\": 84.0, \"weight\": 2635, \"acceleration\": 16.4, \"model_year\": 81, \"origin\": \"usa\", \"name\": \"buick skylark\"}, {\"mpg\": 25.8, \"cylinders\": 4, \"displacement\": 156.0, \"horsepower\": 92.0, \"weight\": 2620, \"acceleration\": 14.4, \"model_year\": 81, \"origin\": \"usa\", \"name\": \"dodge aries wagon (sw)\"}, {\"mpg\": 23.5, \"cylinders\": 6, \"displacement\": 173.0, \"horsepower\": 110.0, \"weight\": 2725, \"acceleration\": 12.6, \"model_year\": 81, \"origin\": \"usa\", \"name\": \"chevrolet citation\"}, {\"mpg\": 30.0, \"cylinders\": 4, \"displacement\": 135.0, \"horsepower\": 84.0, \"weight\": 2385, \"acceleration\": 12.9, \"model_year\": 81, \"origin\": \"usa\", \"name\": \"plymouth reliant\"}, {\"mpg\": 39.1, \"cylinders\": 4, \"displacement\": 79.0, \"horsepower\": 58.0, \"weight\": 1755, \"acceleration\": 16.9, \"model_year\": 81, \"origin\": \"japan\", \"name\": \"toyota starlet\"}, {\"mpg\": 39.0, \"cylinders\": 4, \"displacement\": 86.0, \"horsepower\": 64.0, \"weight\": 1875, \"acceleration\": 16.4, \"model_year\": 81, \"origin\": \"usa\", \"name\": \"plymouth champ\"}, {\"mpg\": 35.1, \"cylinders\": 4, \"displacement\": 81.0, \"horsepower\": 60.0, \"weight\": 1760, \"acceleration\": 16.1, \"model_year\": 81, \"origin\": \"japan\", \"name\": \"honda civic 1300\"}, {\"mpg\": 32.3, \"cylinders\": 4, \"displacement\": 97.0, \"horsepower\": 67.0, \"weight\": 2065, \"acceleration\": 17.8, \"model_year\": 81, \"origin\": \"japan\", \"name\": \"subaru\"}, {\"mpg\": 37.0, \"cylinders\": 4, \"displacement\": 85.0, \"horsepower\": 65.0, \"weight\": 1975, \"acceleration\": 19.4, \"model_year\": 81, \"origin\": \"japan\", \"name\": \"datsun 210 mpg\"}, {\"mpg\": 37.7, \"cylinders\": 4, \"displacement\": 89.0, \"horsepower\": 62.0, \"weight\": 2050, \"acceleration\": 17.3, \"model_year\": 81, \"origin\": \"japan\", \"name\": \"toyota tercel\"}, {\"mpg\": 34.1, \"cylinders\": 4, \"displacement\": 91.0, \"horsepower\": 68.0, \"weight\": 1985, \"acceleration\": 16.0, \"model_year\": 81, \"origin\": \"japan\", \"name\": \"mazda glc 4\"}, {\"mpg\": 34.7, \"cylinders\": 4, \"displacement\": 105.0, \"horsepower\": 63.0, \"weight\": 2215, \"acceleration\": 14.9, \"model_year\": 81, \"origin\": \"usa\", \"name\": \"plymouth horizon 4\"}, {\"mpg\": 34.4, \"cylinders\": 4, \"displacement\": 98.0, \"horsepower\": 65.0, \"weight\": 2045, \"acceleration\": 16.2, \"model_year\": 81, \"origin\": \"usa\", \"name\": \"ford escort 4w\"}, {\"mpg\": 29.9, \"cylinders\": 4, \"displacement\": 98.0, \"horsepower\": 65.0, \"weight\": 2380, \"acceleration\": 20.7, \"model_year\": 81, \"origin\": \"usa\", \"name\": \"ford escort 2h\"}, {\"mpg\": 33.0, \"cylinders\": 4, \"displacement\": 105.0, \"horsepower\": 74.0, \"weight\": 2190, \"acceleration\": 14.2, \"model_year\": 81, \"origin\": \"europe\", \"name\": \"volkswagen jetta\"}, {\"mpg\": 34.5, \"cylinders\": 4, \"displacement\": 100.0, \"horsepower\": null, \"weight\": 2320, \"acceleration\": 15.8, \"model_year\": 81, \"origin\": \"europe\", \"name\": \"renault 18i\"}, {\"mpg\": 33.7, \"cylinders\": 4, \"displacement\": 107.0, \"horsepower\": 75.0, \"weight\": 2210, \"acceleration\": 14.4, \"model_year\": 81, \"origin\": \"japan\", \"name\": \"honda prelude\"}, {\"mpg\": 32.4, \"cylinders\": 4, \"displacement\": 108.0, \"horsepower\": 75.0, \"weight\": 2350, \"acceleration\": 16.8, \"model_year\": 81, \"origin\": \"japan\", \"name\": \"toyota corolla\"}, {\"mpg\": 32.9, \"cylinders\": 4, \"displacement\": 119.0, \"horsepower\": 100.0, \"weight\": 2615, \"acceleration\": 14.8, \"model_year\": 81, \"origin\": \"japan\", \"name\": \"datsun 200sx\"}, {\"mpg\": 31.6, \"cylinders\": 4, \"displacement\": 120.0, \"horsepower\": 74.0, \"weight\": 2635, \"acceleration\": 18.3, \"model_year\": 81, \"origin\": \"japan\", \"name\": \"mazda 626\"}, {\"mpg\": 28.1, \"cylinders\": 4, \"displacement\": 141.0, \"horsepower\": 80.0, \"weight\": 3230, \"acceleration\": 20.4, \"model_year\": 81, \"origin\": \"europe\", \"name\": \"peugeot 505s turbo diesel\"}, {\"mpg\": 30.7, \"cylinders\": 6, \"displacement\": 145.0, \"horsepower\": 76.0, \"weight\": 3160, \"acceleration\": 19.6, \"model_year\": 81, \"origin\": \"europe\", \"name\": \"volvo diesel\"}, {\"mpg\": 25.4, \"cylinders\": 6, \"displacement\": 168.0, \"horsepower\": 116.0, \"weight\": 2900, \"acceleration\": 12.6, \"model_year\": 81, \"origin\": \"japan\", \"name\": \"toyota cressida\"}, {\"mpg\": 24.2, \"cylinders\": 6, \"displacement\": 146.0, \"horsepower\": 120.0, \"weight\": 2930, \"acceleration\": 13.8, \"model_year\": 81, \"origin\": \"japan\", \"name\": \"datsun 810 maxima\"}, {\"mpg\": 22.4, \"cylinders\": 6, \"displacement\": 231.0, \"horsepower\": 110.0, \"weight\": 3415, \"acceleration\": 15.8, \"model_year\": 81, \"origin\": \"usa\", \"name\": \"buick century\"}, {\"mpg\": 26.6, \"cylinders\": 8, \"displacement\": 350.0, \"horsepower\": 105.0, \"weight\": 3725, \"acceleration\": 19.0, \"model_year\": 81, \"origin\": \"usa\", \"name\": \"oldsmobile cutlass ls\"}, {\"mpg\": 20.2, \"cylinders\": 6, \"displacement\": 200.0, \"horsepower\": 88.0, \"weight\": 3060, \"acceleration\": 17.1, \"model_year\": 81, \"origin\": \"usa\", \"name\": \"ford granada gl\"}, {\"mpg\": 17.6, \"cylinders\": 6, \"displacement\": 225.0, \"horsepower\": 85.0, \"weight\": 3465, \"acceleration\": 16.6, \"model_year\": 81, \"origin\": \"usa\", \"name\": \"chrysler lebaron salon\"}, {\"mpg\": 28.0, \"cylinders\": 4, \"displacement\": 112.0, \"horsepower\": 88.0, \"weight\": 2605, \"acceleration\": 19.6, \"model_year\": 82, \"origin\": \"usa\", \"name\": \"chevrolet cavalier\"}, {\"mpg\": 27.0, \"cylinders\": 4, \"displacement\": 112.0, \"horsepower\": 88.0, \"weight\": 2640, \"acceleration\": 18.6, \"model_year\": 82, \"origin\": \"usa\", \"name\": \"chevrolet cavalier wagon\"}, {\"mpg\": 34.0, \"cylinders\": 4, \"displacement\": 112.0, \"horsepower\": 88.0, \"weight\": 2395, \"acceleration\": 18.0, \"model_year\": 82, \"origin\": \"usa\", \"name\": \"chevrolet cavalier 2-door\"}, {\"mpg\": 31.0, \"cylinders\": 4, \"displacement\": 112.0, \"horsepower\": 85.0, \"weight\": 2575, \"acceleration\": 16.2, \"model_year\": 82, \"origin\": \"usa\", \"name\": \"pontiac j2000 se hatchback\"}, {\"mpg\": 29.0, \"cylinders\": 4, \"displacement\": 135.0, \"horsepower\": 84.0, \"weight\": 2525, \"acceleration\": 16.0, \"model_year\": 82, \"origin\": \"usa\", \"name\": \"dodge aries se\"}, {\"mpg\": 27.0, \"cylinders\": 4, \"displacement\": 151.0, \"horsepower\": 90.0, \"weight\": 2735, \"acceleration\": 18.0, \"model_year\": 82, \"origin\": \"usa\", \"name\": \"pontiac phoenix\"}, {\"mpg\": 24.0, \"cylinders\": 4, \"displacement\": 140.0, \"horsepower\": 92.0, \"weight\": 2865, \"acceleration\": 16.4, \"model_year\": 82, \"origin\": \"usa\", \"name\": \"ford fairmont futura\"}, {\"mpg\": 23.0, \"cylinders\": 4, \"displacement\": 151.0, \"horsepower\": null, \"weight\": 3035, \"acceleration\": 20.5, \"model_year\": 82, \"origin\": \"usa\", \"name\": \"amc concord dl\"}, {\"mpg\": 36.0, \"cylinders\": 4, \"displacement\": 105.0, \"horsepower\": 74.0, \"weight\": 1980, \"acceleration\": 15.3, \"model_year\": 82, \"origin\": \"europe\", \"name\": \"volkswagen rabbit l\"}, {\"mpg\": 37.0, \"cylinders\": 4, \"displacement\": 91.0, \"horsepower\": 68.0, \"weight\": 2025, \"acceleration\": 18.2, \"model_year\": 82, \"origin\": \"japan\", \"name\": \"mazda glc custom l\"}, {\"mpg\": 31.0, \"cylinders\": 4, \"displacement\": 91.0, \"horsepower\": 68.0, \"weight\": 1970, \"acceleration\": 17.6, \"model_year\": 82, \"origin\": \"japan\", \"name\": \"mazda glc custom\"}, {\"mpg\": 38.0, \"cylinders\": 4, \"displacement\": 105.0, \"horsepower\": 63.0, \"weight\": 2125, \"acceleration\": 14.7, \"model_year\": 82, \"origin\": \"usa\", \"name\": \"plymouth horizon miser\"}, {\"mpg\": 36.0, \"cylinders\": 4, \"displacement\": 98.0, \"horsepower\": 70.0, \"weight\": 2125, \"acceleration\": 17.3, \"model_year\": 82, \"origin\": \"usa\", \"name\": \"mercury lynx l\"}, {\"mpg\": 36.0, \"cylinders\": 4, \"displacement\": 120.0, \"horsepower\": 88.0, \"weight\": 2160, \"acceleration\": 14.5, \"model_year\": 82, \"origin\": \"japan\", \"name\": \"nissan stanza xe\"}, {\"mpg\": 36.0, \"cylinders\": 4, \"displacement\": 107.0, \"horsepower\": 75.0, \"weight\": 2205, \"acceleration\": 14.5, \"model_year\": 82, \"origin\": \"japan\", \"name\": \"honda accord\"}, {\"mpg\": 34.0, \"cylinders\": 4, \"displacement\": 108.0, \"horsepower\": 70.0, \"weight\": 2245, \"acceleration\": 16.9, \"model_year\": 82, \"origin\": \"japan\", \"name\": \"toyota corolla\"}, {\"mpg\": 38.0, \"cylinders\": 4, \"displacement\": 91.0, \"horsepower\": 67.0, \"weight\": 1965, \"acceleration\": 15.0, \"model_year\": 82, \"origin\": \"japan\", \"name\": \"honda civic\"}, {\"mpg\": 32.0, \"cylinders\": 4, \"displacement\": 91.0, \"horsepower\": 67.0, \"weight\": 1965, \"acceleration\": 15.7, \"model_year\": 82, \"origin\": \"japan\", \"name\": \"honda civic (auto)\"}, {\"mpg\": 38.0, \"cylinders\": 4, \"displacement\": 91.0, \"horsepower\": 67.0, \"weight\": 1995, \"acceleration\": 16.2, \"model_year\": 82, \"origin\": \"japan\", \"name\": \"datsun 310 gx\"}, {\"mpg\": 25.0, \"cylinders\": 6, \"displacement\": 181.0, \"horsepower\": 110.0, \"weight\": 2945, \"acceleration\": 16.4, \"model_year\": 82, \"origin\": \"usa\", \"name\": \"buick century limited\"}, {\"mpg\": 38.0, \"cylinders\": 6, \"displacement\": 262.0, \"horsepower\": 85.0, \"weight\": 3015, \"acceleration\": 17.0, \"model_year\": 82, \"origin\": \"usa\", \"name\": \"oldsmobile cutlass ciera (diesel)\"}, {\"mpg\": 26.0, \"cylinders\": 4, \"displacement\": 156.0, \"horsepower\": 92.0, \"weight\": 2585, \"acceleration\": 14.5, \"model_year\": 82, \"origin\": \"usa\", \"name\": \"chrysler lebaron medallion\"}, {\"mpg\": 22.0, \"cylinders\": 6, \"displacement\": 232.0, \"horsepower\": 112.0, \"weight\": 2835, \"acceleration\": 14.7, \"model_year\": 82, \"origin\": \"usa\", \"name\": \"ford granada l\"}, {\"mpg\": 32.0, \"cylinders\": 4, \"displacement\": 144.0, \"horsepower\": 96.0, \"weight\": 2665, \"acceleration\": 13.9, \"model_year\": 82, \"origin\": \"japan\", \"name\": \"toyota celica gt\"}, {\"mpg\": 36.0, \"cylinders\": 4, \"displacement\": 135.0, \"horsepower\": 84.0, \"weight\": 2370, \"acceleration\": 13.0, \"model_year\": 82, \"origin\": \"usa\", \"name\": \"dodge charger 2.2\"}, {\"mpg\": 27.0, \"cylinders\": 4, \"displacement\": 151.0, \"horsepower\": 90.0, \"weight\": 2950, \"acceleration\": 17.3, \"model_year\": 82, \"origin\": \"usa\", \"name\": \"chevrolet camaro\"}, {\"mpg\": 27.0, \"cylinders\": 4, \"displacement\": 140.0, \"horsepower\": 86.0, \"weight\": 2790, \"acceleration\": 15.6, \"model_year\": 82, \"origin\": \"usa\", \"name\": \"ford mustang gl\"}, {\"mpg\": 44.0, \"cylinders\": 4, \"displacement\": 97.0, \"horsepower\": 52.0, \"weight\": 2130, \"acceleration\": 24.6, \"model_year\": 82, \"origin\": \"europe\", \"name\": \"vw pickup\"}, {\"mpg\": 32.0, \"cylinders\": 4, \"displacement\": 135.0, \"horsepower\": 84.0, \"weight\": 2295, \"acceleration\": 11.6, \"model_year\": 82, \"origin\": \"usa\", \"name\": \"dodge rampage\"}, {\"mpg\": 28.0, \"cylinders\": 4, \"displacement\": 120.0, \"horsepower\": 79.0, \"weight\": 2625, \"acceleration\": 18.6, \"model_year\": 82, \"origin\": \"usa\", \"name\": \"ford ranger\"}, {\"mpg\": 31.0, \"cylinders\": 4, \"displacement\": 119.0, \"horsepower\": 82.0, \"weight\": 2720, \"acceleration\": 19.4, \"model_year\": 82, \"origin\": \"usa\", \"name\": \"chevy s-10\"}]}}, {\"mode\": \"vega-lite\"});\n",
       "</script>"
      ],
      "text/plain": [
       "alt.Chart(...)"
      ]
     },
     "execution_count": 49,
     "metadata": {},
     "output_type": "execute_result"
    }
   ],
   "source": [
    "alt.Chart(df).mark_circle().encode(\n",
    "    x=\"weight\",\n",
    "    y=\"mpg\",\n",
    "    color=\"origin\",\n",
    "    tooltip = [\"weight\",\"mpg\",\"origin\",\"model_year\",\"name\"]\n",
    ")"
   ]
  },
  {
   "cell_type": "markdown",
   "metadata": {
    "cell_id": "22eb926a896640b186ff678720d34be8",
    "deepnote_cell_type": "markdown"
   },
   "source": [
    "## Visualizing the data using Seaborn and Plotly"
   ]
  },
  {
   "cell_type": "markdown",
   "metadata": {
    "cell_id": "0459e662552e4735867d13821cc004e3",
    "deepnote_cell_type": "markdown"
   },
   "source": [
    "Main Points:\n",
    " 1.) I will show you these libraries exist\n",
    " 2.) I will show you the basic syntax - appreciate how similar it is to Altair\n"
   ]
  },
  {
   "cell_type": "markdown",
   "metadata": {
    "cell_id": "991c7f059c834858bf9127cfe1dbae8c",
    "deepnote_cell_type": "markdown"
   },
   "source": [
    "* Make a similar chart (xy-axes, color, but not tooltip) using Seaborn."
   ]
  },
  {
   "cell_type": "code",
   "execution_count": 51,
   "metadata": {
    "cell_id": "fafd8e4bd43f4c45a0bd0755d4388e39",
    "deepnote_cell_type": "code",
    "deepnote_to_be_reexecuted": false,
    "execution_millis": 75,
    "execution_start": 1692225036110,
    "source_hash": "c9d2f67b"
   },
   "outputs": [],
   "source": [
    "import seaborn as sns"
   ]
  },
  {
   "cell_type": "code",
   "execution_count": 52,
   "metadata": {
    "cell_id": "e79449a69aed42e4902117ba55ff9c78",
    "deepnote_cell_type": "code",
    "deepnote_to_be_reexecuted": false,
    "execution_millis": 228,
    "execution_start": 1692225037999,
    "source_hash": "ef317924"
   },
   "outputs": [
    {
     "data": {
      "text/plain": [
       "<AxesSubplot:xlabel='weight', ylabel='mpg'>"
      ]
     },
     "execution_count": 52,
     "metadata": {},
     "output_type": "execute_result"
    },
    {
     "data": {
      "image/png": "[encoded data removed]",
      "text/plain": [
       "<Figure size 640x480 with 1 Axes>"
      ]
     },
     "metadata": {},
     "output_type": "display_data"
    }
   ],
   "source": [
    "sns.scatterplot(\n",
    "    data=df,\n",
    "    x=\"weight\",\n",
    "    y=\"mpg\",\n",
    "    hue=\"origin\"\n",
    ")"
   ]
  },
  {
   "cell_type": "markdown",
   "metadata": {
    "cell_id": "d6edf15d438f4920bf33fa5e0b5f4916",
    "deepnote_cell_type": "markdown"
   },
   "source": [
    "* Make a similar chart with Plotly Express."
   ]
  },
  {
   "cell_type": "code",
   "execution_count": 53,
   "metadata": {
    "cell_id": "7395d6cc741e442fa07685a132b2468b",
    "deepnote_cell_type": "code",
    "deepnote_to_be_reexecuted": false,
    "execution_millis": 157,
    "execution_start": 1692225041652,
    "source_hash": "bceeddb3"
   },
   "outputs": [],
   "source": [
    "import plotly.express as px"
   ]
  },
  {
   "cell_type": "code",
   "execution_count": 55,
   "metadata": {
    "cell_id": "42baabf3bdb04c85a58489307fd64f84",
    "deepnote_cell_type": "code",
    "deepnote_to_be_reexecuted": false,
    "execution_millis": 2884,
    "execution_start": 1692225043617,
    "source_hash": "c6c05e1e"
   },
   "outputs": [
    {
     "data": {
      "application/vnd.plotly.v1+json": {
       "config": {
        "plotlyServerURL": "https://plot.ly"
       },
       "data": [
        {
         "hovertemplate": "origin=usa<br>weight=%{x}<br>mpg=%{y}<extra></extra>",
         "legendgroup": "usa",
         "marker": {
          "color": "#636efa",
          "symbol": "circle"
         },
         "mode": "markers",
         "name": "usa",
         "orientation": "v",
         "showlegend": true,
         "type": "scatter",
         "x": [
          3504,
          3693,
          3436,
          3433,
          3449,
          4341,
          4354,
          4312,
          4425,
          3850,
          3563,
          3609,
          3761,
          3086,
          2833,
          2774,
          2587,
          2648,
          4615,
          4376,
          4382,
          4732,
          2264,
          2046,
          2634,
          3439,
          3329,
          3302,
          3288,
          4209,
          4464,
          4154,
          4096,
          4955,
          4746,
          5140,
          2962,
          2408,
          3282,
          3139,
          2220,
          1955,
          2126,
          2408,
          2226,
          4274,
          4385,
          4135,
          4129,
          3672,
          4633,
          4502,
          4456,
          4422,
          3892,
          4098,
          4294,
          4077,
          2395,
          2164,
          4100,
          3672,
          3988,
          4042,
          3777,
          4952,
          4464,
          4363,
          4237,
          4735,
          4951,
          3821,
          3121,
          3278,
          2945,
          3021,
          2904,
          4997,
          4906,
          4654,
          4499,
          2789,
          2401,
          2310,
          2472,
          4082,
          4278,
          3399,
          3664,
          3102,
          2875,
          2901,
          3336,
          2451,
          2542,
          3781,
          3632,
          3613,
          4141,
          4699,
          4457,
          4638,
          4257,
          2125,
          3264,
          3459,
          3432,
          3158,
          4668,
          4440,
          4498,
          4657,
          3907,
          3897,
          3730,
          3785,
          3039,
          3221,
          3169,
          2639,
          2914,
          2592,
          2984,
          3211,
          2572,
          2255,
          4215,
          4190,
          3962,
          4215,
          3233,
          3353,
          3012,
          3085,
          2035,
          2164,
          3651,
          3574,
          3645,
          3193,
          2565,
          3940,
          4380,
          4055,
          3870,
          3755,
          2155,
          2300,
          3880,
          4060,
          4140,
          4295,
          3520,
          3425,
          3630,
          3525,
          4220,
          4165,
          4325,
          4335,
          2740,
          2755,
          2051,
          2075,
          1800,
          3365,
          3735,
          3570,
          3535,
          3155,
          2965,
          2720,
          3430,
          3210,
          3380,
          3070,
          3620,
          3410,
          3425,
          3445,
          3205,
          4080,
          2155,
          2230,
          2745,
          2855,
          3245,
          2990,
          2890,
          3265,
          3360,
          3840,
          3725,
          3955,
          3830,
          4360,
          4054,
          3605,
          3940,
          1915,
          2670,
          3900,
          3420,
          2200,
          2150,
          2670,
          2595,
          2700,
          2556,
          2120,
          2678,
          2870,
          3003,
          3381,
          2800,
          2905,
          2490,
          2635,
          2620,
          2725,
          2385,
          1875,
          2215,
          2045,
          2380,
          3415,
          3725,
          3060,
          3465,
          2605,
          2640,
          2395,
          2575,
          2525,
          2735,
          2865,
          3035,
          2125,
          2125,
          2945,
          3015,
          2585,
          2835,
          2370,
          2950,
          2790,
          2295,
          2625,
          2720
         ],
         "xaxis": "x",
         "y": [
          18,
          15,
          18,
          16,
          17,
          15,
          14,
          14,
          14,
          15,
          15,
          14,
          15,
          14,
          22,
          18,
          21,
          21,
          10,
          10,
          11,
          9,
          28,
          25,
          19,
          16,
          17,
          19,
          18,
          14,
          14,
          14,
          14,
          12,
          13,
          13,
          18,
          22,
          19,
          18,
          23,
          26,
          25,
          20,
          21,
          13,
          14,
          15,
          14,
          17,
          11,
          13,
          12,
          13,
          15,
          13,
          13,
          14,
          22,
          28,
          13,
          14,
          13,
          14,
          15,
          12,
          13,
          13,
          14,
          13,
          12,
          13,
          18,
          16,
          18,
          18,
          23,
          11,
          12,
          13,
          12,
          18,
          21,
          19,
          21,
          15,
          16,
          15,
          11,
          20,
          21,
          19,
          15,
          26,
          25,
          16,
          16,
          18,
          16,
          13,
          14,
          14,
          14,
          28,
          19,
          18,
          15,
          15,
          16,
          15,
          16,
          14,
          17,
          16,
          15,
          18,
          21,
          20,
          13,
          23,
          20,
          23,
          18,
          19,
          25,
          26,
          17.5,
          16,
          15.5,
          14.5,
          22,
          22,
          24,
          22.5,
          29,
          24.5,
          20,
          18,
          18.5,
          17.5,
          26.5,
          13,
          16.5,
          13,
          13,
          13,
          30,
          25.5,
          17.5,
          17,
          15.5,
          15,
          17.5,
          20.5,
          19,
          18.5,
          16,
          15.5,
          15.5,
          16,
          24.5,
          25.5,
          30.5,
          33.5,
          36.1,
          19.9,
          19.4,
          20.2,
          19.2,
          20.5,
          20.2,
          25.1,
          20.5,
          19.4,
          20.6,
          20.8,
          18.6,
          18.1,
          19.2,
          17.7,
          18.1,
          17.5,
          30,
          30.9,
          23.2,
          23.8,
          21.5,
          19.8,
          22.3,
          20.2,
          20.6,
          17,
          17.6,
          16.5,
          18.2,
          16.9,
          15.5,
          19.2,
          18.5,
          35.7,
          27.4,
          23,
          23.9,
          34.2,
          34.5,
          28.4,
          28.8,
          26.8,
          33.5,
          32.1,
          28,
          26.4,
          24.3,
          19.1,
          27.9,
          23.6,
          27.2,
          26.6,
          25.8,
          23.5,
          30,
          39,
          34.7,
          34.4,
          29.9,
          22.4,
          26.6,
          20.2,
          17.6,
          28,
          27,
          34,
          31,
          29,
          27,
          24,
          23,
          38,
          36,
          25,
          38,
          26,
          22,
          36,
          27,
          27,
          32,
          28,
          31
         ],
         "yaxis": "y"
        },
        {
         "hovertemplate": "origin=japan<br>weight=%{x}<br>mpg=%{y}<extra></extra>",
         "legendgroup": "japan",
         "marker": {
          "color": "#EF553B",
          "symbol": "circle"
         },
         "mode": "markers",
         "name": "japan",
         "orientation": "v",
         "showlegend": true,
         "type": "scatter",
         "x": [
          2372,
          2130,
          2130,
          2228,
          1773,
          1613,
          2278,
          2330,
          2288,
          2506,
          2100,
          2279,
          2379,
          2124,
          2807,
          1950,
          1836,
          1649,
          2003,
          2489,
          2391,
          2171,
          2702,
          2545,
          1795,
          1795,
          1990,
          2155,
          2930,
          2045,
          1945,
          2265,
          1985,
          2815,
          2720,
          1985,
          2070,
          1800,
          2560,
          2300,
          2515,
          2405,
          2135,
          1975,
          2020,
          1968,
          2019,
          2711,
          2542,
          2434,
          2265,
          2110,
          2110,
          1850,
          2145,
          2910,
          2420,
          2290,
          1755,
          1760,
          2065,
          1975,
          2050,
          1985,
          2210,
          2350,
          2615,
          2635,
          2900,
          2930,
          2025,
          1970,
          2160,
          2205,
          2245,
          1965,
          1965,
          1995,
          2665
         ],
         "xaxis": "x",
         "y": [
          24,
          27,
          27,
          25,
          31,
          35,
          24,
          19,
          28,
          23,
          27,
          20,
          22,
          18,
          20,
          31,
          32,
          31,
          32,
          24,
          26,
          29,
          24,
          24,
          33,
          33,
          32,
          28,
          19,
          31.5,
          33.5,
          26,
          30,
          22,
          21.5,
          32.8,
          39.4,
          36.1,
          27.5,
          27.2,
          21.1,
          23.9,
          29.5,
          34.1,
          31.8,
          38.1,
          37.2,
          29.8,
          31.3,
          37,
          32.2,
          46.6,
          40.8,
          44.6,
          33.8,
          32.7,
          23.7,
          32.4,
          39.1,
          35.1,
          32.3,
          37,
          37.7,
          34.1,
          33.7,
          32.4,
          32.9,
          31.6,
          25.4,
          24.2,
          37,
          31,
          36,
          36,
          34,
          38,
          32,
          38,
          32
         ],
         "yaxis": "y"
        },
        {
         "hovertemplate": "origin=europe<br>weight=%{x}<br>mpg=%{y}<extra></extra>",
         "legendgroup": "europe",
         "marker": {
          "color": "#00cc96",
          "symbol": "circle"
         },
         "mode": "markers",
         "name": "europe",
         "orientation": "v",
         "showlegend": true,
         "type": "scatter",
         "x": [
          1835,
          2672,
          2430,
          2375,
          2234,
          2123,
          2074,
          2065,
          1834,
          2254,
          2933,
          2511,
          2979,
          2189,
          1950,
          2265,
          1867,
          2158,
          2582,
          2868,
          2660,
          2219,
          1963,
          2300,
          2108,
          2246,
          2000,
          2223,
          1937,
          2694,
          2957,
          2945,
          2671,
          2464,
          2220,
          2202,
          1937,
          1825,
          3150,
          3270,
          3820,
          1825,
          1940,
          2190,
          2600,
          1985,
          2830,
          3140,
          2795,
          3410,
          1990,
          1925,
          3530,
          3190,
          2130,
          2144,
          2188,
          2085,
          2335,
          2950,
          3250,
          1835,
          1845,
          2500,
          2190,
          2320,
          3230,
          3160,
          1980,
          2130
         ],
         "xaxis": "x",
         "y": [
          26,
          25,
          24,
          25,
          26,
          28,
          30,
          30,
          27,
          23,
          18,
          22,
          21,
          26,
          26,
          26,
          29,
          24,
          20,
          19,
          24,
          29,
          26,
          26,
          24,
          26,
          31,
          25,
          29,
          23,
          23,
          22,
          25,
          28,
          25,
          27,
          29,
          29.5,
          20,
          19,
          16.5,
          36,
          29,
          30.5,
          21.5,
          43.1,
          20.3,
          17,
          21.6,
          16.2,
          31.5,
          31.9,
          25.4,
          27.2,
          37.3,
          41.5,
          34.3,
          44.3,
          43.4,
          36.4,
          30,
          40.9,
          29.8,
          35,
          33,
          34.5,
          28.1,
          30.7,
          36,
          44
         ],
         "yaxis": "y"
        }
       ],
       "layout": {
        "legend": {
         "title": {
          "text": "origin"
         },
         "tracegroupgap": 0
        },
        "margin": {
         "t": 60
        },
        "template": {
         "data": {
          "bar": [
           {
            "error_x": {
             "color": "#2a3f5f"
            },
            "error_y": {
             "color": "#2a3f5f"
            },
            "marker": {
             "line": {
              "color": "#E5ECF6",
              "width": 0.5
             },
             "pattern": {
              "fillmode": "overlay",
              "size": 10,
              "solidity": 0.2
             }
            },
            "type": "bar"
           }
          ],
          "barpolar": [
           {
            "marker": {
             "line": {
              "color": "#E5ECF6",
              "width": 0.5
             },
             "pattern": {
              "fillmode": "overlay",
              "size": 10,
              "solidity": 0.2
             }
            },
            "type": "barpolar"
           }
          ],
          "carpet": [
           {
            "aaxis": {
             "endlinecolor": "#2a3f5f",
             "gridcolor": "white",
             "linecolor": "white",
             "minorgridcolor": "white",
             "startlinecolor": "#2a3f5f"
            },
            "baxis": {
             "endlinecolor": "#2a3f5f",
             "gridcolor": "white",
             "linecolor": "white",
             "minorgridcolor": "white",
             "startlinecolor": "#2a3f5f"
            },
            "type": "carpet"
           }
          ],
          "choropleth": [
           {
            "colorbar": {
             "outlinewidth": 0,
             "ticks": ""
            },
            "type": "choropleth"
           }
          ],
          "contour": [
           {
            "colorbar": {
             "outlinewidth": 0,
             "ticks": ""
            },
            "colorscale": [
             [
              0,
              "#0d0887"
             ],
             [
              0.1111111111111111,
              "#46039f"
             ],
             [
              0.2222222222222222,
              "#7201a8"
             ],
             [
              0.3333333333333333,
              "#9c179e"
             ],
             [
              0.4444444444444444,
              "#bd3786"
             ],
             [
              0.5555555555555556,
              "#d8576b"
             ],
             [
              0.6666666666666666,
              "#ed7953"
             ],
             [
              0.7777777777777778,
              "#fb9f3a"
             ],
             [
              0.8888888888888888,
              "#fdca26"
             ],
             [
              1,
              "#f0f921"
             ]
            ],
            "type": "contour"
           }
          ],
          "contourcarpet": [
           {
            "colorbar": {
             "outlinewidth": 0,
             "ticks": ""
            },
            "type": "contourcarpet"
           }
          ],
          "heatmap": [
           {
            "colorbar": {
             "outlinewidth": 0,
             "ticks": ""
            },
            "colorscale": [
             [
              0,
              "#0d0887"
             ],
             [
              0.1111111111111111,
              "#46039f"
             ],
             [
              0.2222222222222222,
              "#7201a8"
             ],
             [
              0.3333333333333333,
              "#9c179e"
             ],
             [
              0.4444444444444444,
              "#bd3786"
             ],
             [
              0.5555555555555556,
              "#d8576b"
             ],
             [
              0.6666666666666666,
              "#ed7953"
             ],
             [
              0.7777777777777778,
              "#fb9f3a"
             ],
             [
              0.8888888888888888,
              "#fdca26"
             ],
             [
              1,
              "#f0f921"
             ]
            ],
            "type": "heatmap"
           }
          ],
          "heatmapgl": [
           {
            "colorbar": {
             "outlinewidth": 0,
             "ticks": ""
            },
            "colorscale": [
             [
              0,
              "#0d0887"
             ],
             [
              0.1111111111111111,
              "#46039f"
             ],
             [
              0.2222222222222222,
              "#7201a8"
             ],
             [
              0.3333333333333333,
              "#9c179e"
             ],
             [
              0.4444444444444444,
              "#bd3786"
             ],
             [
              0.5555555555555556,
              "#d8576b"
             ],
             [
              0.6666666666666666,
              "#ed7953"
             ],
             [
              0.7777777777777778,
              "#fb9f3a"
             ],
             [
              0.8888888888888888,
              "#fdca26"
             ],
             [
              1,
              "#f0f921"
             ]
            ],
            "type": "heatmapgl"
           }
          ],
          "histogram": [
           {
            "marker": {
             "pattern": {
              "fillmode": "overlay",
              "size": 10,
              "solidity": 0.2
             }
            },
            "type": "histogram"
           }
          ],
          "histogram2d": [
           {
            "colorbar": {
             "outlinewidth": 0,
             "ticks": ""
            },
            "colorscale": [
             [
              0,
              "#0d0887"
             ],
             [
              0.1111111111111111,
              "#46039f"
             ],
             [
              0.2222222222222222,
              "#7201a8"
             ],
             [
              0.3333333333333333,
              "#9c179e"
             ],
             [
              0.4444444444444444,
              "#bd3786"
             ],
             [
              0.5555555555555556,
              "#d8576b"
             ],
             [
              0.6666666666666666,
              "#ed7953"
             ],
             [
              0.7777777777777778,
              "#fb9f3a"
             ],
             [
              0.8888888888888888,
              "#fdca26"
             ],
             [
              1,
              "#f0f921"
             ]
            ],
            "type": "histogram2d"
           }
          ],
          "histogram2dcontour": [
           {
            "colorbar": {
             "outlinewidth": 0,
             "ticks": ""
            },
            "colorscale": [
             [
              0,
              "#0d0887"
             ],
             [
              0.1111111111111111,
              "#46039f"
             ],
             [
              0.2222222222222222,
              "#7201a8"
             ],
             [
              0.3333333333333333,
              "#9c179e"
             ],
             [
              0.4444444444444444,
              "#bd3786"
             ],
             [
              0.5555555555555556,
              "#d8576b"
             ],
             [
              0.6666666666666666,
              "#ed7953"
             ],
             [
              0.7777777777777778,
              "#fb9f3a"
             ],
             [
              0.8888888888888888,
              "#fdca26"
             ],
             [
              1,
              "#f0f921"
             ]
            ],
            "type": "histogram2dcontour"
           }
          ],
          "mesh3d": [
           {
            "colorbar": {
             "outlinewidth": 0,
             "ticks": ""
            },
            "type": "mesh3d"
           }
          ],
          "parcoords": [
           {
            "line": {
             "colorbar": {
              "outlinewidth": 0,
              "ticks": ""
             }
            },
            "type": "parcoords"
           }
          ],
          "pie": [
           {
            "automargin": true,
            "type": "pie"
           }
          ],
          "scatter": [
           {
            "fillpattern": {
             "fillmode": "overlay",
             "size": 10,
             "solidity": 0.2
            },
            "type": "scatter"
           }
          ],
          "scatter3d": [
           {
            "line": {
             "colorbar": {
              "outlinewidth": 0,
              "ticks": ""
             }
            },
            "marker": {
             "colorbar": {
              "outlinewidth": 0,
              "ticks": ""
             }
            },
            "type": "scatter3d"
           }
          ],
          "scattercarpet": [
           {
            "marker": {
             "colorbar": {
              "outlinewidth": 0,
              "ticks": ""
             }
            },
            "type": "scattercarpet"
           }
          ],
          "scattergeo": [
           {
            "marker": {
             "colorbar": {
              "outlinewidth": 0,
              "ticks": ""
             }
            },
            "type": "scattergeo"
           }
          ],
          "scattergl": [
           {
            "marker": {
             "colorbar": {
              "outlinewidth": 0,
              "ticks": ""
             }
            },
            "type": "scattergl"
           }
          ],
          "scattermapbox": [
           {
            "marker": {
             "colorbar": {
              "outlinewidth": 0,
              "ticks": ""
             }
            },
            "type": "scattermapbox"
           }
          ],
          "scatterpolar": [
           {
            "marker": {
             "colorbar": {
              "outlinewidth": 0,
              "ticks": ""
             }
            },
            "type": "scatterpolar"
           }
          ],
          "scatterpolargl": [
           {
            "marker": {
             "colorbar": {
              "outlinewidth": 0,
              "ticks": ""
             }
            },
            "type": "scatterpolargl"
           }
          ],
          "scatterternary": [
           {
            "marker": {
             "colorbar": {
              "outlinewidth": 0,
              "ticks": ""
             }
            },
            "type": "scatterternary"
           }
          ],
          "surface": [
           {
            "colorbar": {
             "outlinewidth": 0,
             "ticks": ""
            },
            "colorscale": [
             [
              0,
              "#0d0887"
             ],
             [
              0.1111111111111111,
              "#46039f"
             ],
             [
              0.2222222222222222,
              "#7201a8"
             ],
             [
              0.3333333333333333,
              "#9c179e"
             ],
             [
              0.4444444444444444,
              "#bd3786"
             ],
             [
              0.5555555555555556,
              "#d8576b"
             ],
             [
              0.6666666666666666,
              "#ed7953"
             ],
             [
              0.7777777777777778,
              "#fb9f3a"
             ],
             [
              0.8888888888888888,
              "#fdca26"
             ],
             [
              1,
              "#f0f921"
             ]
            ],
            "type": "surface"
           }
          ],
          "table": [
           {
            "cells": {
             "fill": {
              "color": "#EBF0F8"
             },
             "line": {
              "color": "white"
             }
            },
            "header": {
             "fill": {
              "color": "#C8D4E3"
             },
             "line": {
              "color": "white"
             }
            },
            "type": "table"
           }
          ]
         },
         "layout": {
          "annotationdefaults": {
           "arrowcolor": "#2a3f5f",
           "arrowhead": 0,
           "arrowwidth": 1
          },
          "autotypenumbers": "strict",
          "coloraxis": {
           "colorbar": {
            "outlinewidth": 0,
            "ticks": ""
           }
          },
          "colorscale": {
           "diverging": [
            [
             0,
             "#8e0152"
            ],
            [
             0.1,
             "#c51b7d"
            ],
            [
             0.2,
             "#de77ae"
            ],
            [
             0.3,
             "#f1b6da"
            ],
            [
             0.4,
             "#fde0ef"
            ],
            [
             0.5,
             "#f7f7f7"
            ],
            [
             0.6,
             "#e6f5d0"
            ],
            [
             0.7,
             "#b8e186"
            ],
            [
             0.8,
             "#7fbc41"
            ],
            [
             0.9,
             "#4d9221"
            ],
            [
             1,
             "#276419"
            ]
           ],
           "sequential": [
            [
             0,
             "#0d0887"
            ],
            [
             0.1111111111111111,
             "#46039f"
            ],
            [
             0.2222222222222222,
             "#7201a8"
            ],
            [
             0.3333333333333333,
             "#9c179e"
            ],
            [
             0.4444444444444444,
             "#bd3786"
            ],
            [
             0.5555555555555556,
             "#d8576b"
            ],
            [
             0.6666666666666666,
             "#ed7953"
            ],
            [
             0.7777777777777778,
             "#fb9f3a"
            ],
            [
             0.8888888888888888,
             "#fdca26"
            ],
            [
             1,
             "#f0f921"
            ]
           ],
           "sequentialminus": [
            [
             0,
             "#0d0887"
            ],
            [
             0.1111111111111111,
             "#46039f"
            ],
            [
             0.2222222222222222,
             "#7201a8"
            ],
            [
             0.3333333333333333,
             "#9c179e"
            ],
            [
             0.4444444444444444,
             "#bd3786"
            ],
            [
             0.5555555555555556,
             "#d8576b"
            ],
            [
             0.6666666666666666,
             "#ed7953"
            ],
            [
             0.7777777777777778,
             "#fb9f3a"
            ],
            [
             0.8888888888888888,
             "#fdca26"
            ],
            [
             1,
             "#f0f921"
            ]
           ]
          },
          "colorway": [
           "#636efa",
           "#EF553B",
           "#00cc96",
           "#ab63fa",
           "#FFA15A",
           "#19d3f3",
           "#FF6692",
           "#B6E880",
           "#FF97FF",
           "#FECB52"
          ],
          "font": {
           "color": "#2a3f5f"
          },
          "geo": {
           "bgcolor": "white",
           "lakecolor": "white",
           "landcolor": "#E5ECF6",
           "showlakes": true,
           "showland": true,
           "subunitcolor": "white"
          },
          "hoverlabel": {
           "align": "left"
          },
          "hovermode": "closest",
          "mapbox": {
           "style": "light"
          },
          "paper_bgcolor": "white",
          "plot_bgcolor": "#E5ECF6",
          "polar": {
           "angularaxis": {
            "gridcolor": "white",
            "linecolor": "white",
            "ticks": ""
           },
           "bgcolor": "#E5ECF6",
           "radialaxis": {
            "gridcolor": "white",
            "linecolor": "white",
            "ticks": ""
           }
          },
          "scene": {
           "xaxis": {
            "backgroundcolor": "#E5ECF6",
            "gridcolor": "white",
            "gridwidth": 2,
            "linecolor": "white",
            "showbackground": true,
            "ticks": "",
            "zerolinecolor": "white"
           },
           "yaxis": {
            "backgroundcolor": "#E5ECF6",
            "gridcolor": "white",
            "gridwidth": 2,
            "linecolor": "white",
            "showbackground": true,
            "ticks": "",
            "zerolinecolor": "white"
           },
           "zaxis": {
            "backgroundcolor": "#E5ECF6",
            "gridcolor": "white",
            "gridwidth": 2,
            "linecolor": "white",
            "showbackground": true,
            "ticks": "",
            "zerolinecolor": "white"
           }
          },
          "shapedefaults": {
           "line": {
            "color": "#2a3f5f"
           }
          },
          "ternary": {
           "aaxis": {
            "gridcolor": "white",
            "linecolor": "white",
            "ticks": ""
           },
           "baxis": {
            "gridcolor": "white",
            "linecolor": "white",
            "ticks": ""
           },
           "bgcolor": "#E5ECF6",
           "caxis": {
            "gridcolor": "white",
            "linecolor": "white",
            "ticks": ""
           }
          },
          "title": {
           "x": 0.05
          },
          "xaxis": {
           "automargin": true,
           "gridcolor": "white",
           "linecolor": "white",
           "ticks": "",
           "title": {
            "standoff": 15
           },
           "zerolinecolor": "white",
           "zerolinewidth": 2
          },
          "yaxis": {
           "automargin": true,
           "gridcolor": "white",
           "linecolor": "white",
           "ticks": "",
           "title": {
            "standoff": 15
           },
           "zerolinecolor": "white",
           "zerolinewidth": 2
          }
         }
        },
        "xaxis": {
         "anchor": "y",
         "domain": [
          0,
          1
         ],
         "title": {
          "text": "weight"
         }
        },
        "yaxis": {
         "anchor": "x",
         "domain": [
          0,
          1
         ],
         "title": {
          "text": "mpg"
         }
        }
       }
      },
      "text/html": [
       "<div>                            <div id=\"0a0305df-9155-41ab-9df1-ab5685c0b31d\" class=\"plotly-graph-div\" style=\"height:525px; width:100%;\"></div>            <script type=\"text/javascript\">                require([\"plotly\"], function(Plotly) {                    window.PLOTLYENV=window.PLOTLYENV || {};                                    if (document.getElementById(\"0a0305df-9155-41ab-9df1-ab5685c0b31d\")) {                    Plotly.newPlot(                        \"0a0305df-9155-41ab-9df1-ab5685c0b31d\",                        [{\"hovertemplate\":\"origin=usa\\u003cbr\\u003eweight=%{x}\\u003cbr\\u003empg=%{y}\\u003cextra\\u003e\\u003c\\u002fextra\\u003e\",\"legendgroup\":\"usa\",\"marker\":{\"color\":\"#636efa\",\"symbol\":\"circle\"},\"mode\":\"markers\",\"name\":\"usa\",\"orientation\":\"v\",\"showlegend\":true,\"x\":[3504,3693,3436,3433,3449,4341,4354,4312,4425,3850,3563,3609,3761,3086,2833,2774,2587,2648,4615,4376,4382,4732,2264,2046,2634,3439,3329,3302,3288,4209,4464,4154,4096,4955,4746,5140,2962,2408,3282,3139,2220,1955,2126,2408,2226,4274,4385,4135,4129,3672,4633,4502,4456,4422,3892,4098,4294,4077,2395,2164,4100,3672,3988,4042,3777,4952,4464,4363,4237,4735,4951,3821,3121,3278,2945,3021,2904,4997,4906,4654,4499,2789,2401,2310,2472,4082,4278,3399,3664,3102,2875,2901,3336,2451,2542,3781,3632,3613,4141,4699,4457,4638,4257,2125,3264,3459,3432,3158,4668,4440,4498,4657,3907,3897,3730,3785,3039,3221,3169,2639,2914,2592,2984,3211,2572,2255,4215,4190,3962,4215,3233,3353,3012,3085,2035,2164,3651,3574,3645,3193,2565,3940,4380,4055,3870,3755,2155,2300,3880,4060,4140,4295,3520,3425,3630,3525,4220,4165,4325,4335,2740,2755,2051,2075,1800,3365,3735,3570,3535,3155,2965,2720,3430,3210,3380,3070,3620,3410,3425,3445,3205,4080,2155,2230,2745,2855,3245,2990,2890,3265,3360,3840,3725,3955,3830,4360,4054,3605,3940,1915,2670,3900,3420,2200,2150,2670,2595,2700,2556,2120,2678,2870,3003,3381,2800,2905,2490,2635,2620,2725,2385,1875,2215,2045,2380,3415,3725,3060,3465,2605,2640,2395,2575,2525,2735,2865,3035,2125,2125,2945,3015,2585,2835,2370,2950,2790,2295,2625,2720],\"xaxis\":\"x\",\"y\":[18.0,15.0,18.0,16.0,17.0,15.0,14.0,14.0,14.0,15.0,15.0,14.0,15.0,14.0,22.0,18.0,21.0,21.0,10.0,10.0,11.0,9.0,28.0,25.0,19.0,16.0,17.0,19.0,18.0,14.0,14.0,14.0,14.0,12.0,13.0,13.0,18.0,22.0,19.0,18.0,23.0,26.0,25.0,20.0,21.0,13.0,14.0,15.0,14.0,17.0,11.0,13.0,12.0,13.0,15.0,13.0,13.0,14.0,22.0,28.0,13.0,14.0,13.0,14.0,15.0,12.0,13.0,13.0,14.0,13.0,12.0,13.0,18.0,16.0,18.0,18.0,23.0,11.0,12.0,13.0,12.0,18.0,21.0,19.0,21.0,15.0,16.0,15.0,11.0,20.0,21.0,19.0,15.0,26.0,25.0,16.0,16.0,18.0,16.0,13.0,14.0,14.0,14.0,28.0,19.0,18.0,15.0,15.0,16.0,15.0,16.0,14.0,17.0,16.0,15.0,18.0,21.0,20.0,13.0,23.0,20.0,23.0,18.0,19.0,25.0,26.0,17.5,16.0,15.5,14.5,22.0,22.0,24.0,22.5,29.0,24.5,20.0,18.0,18.5,17.5,26.5,13.0,16.5,13.0,13.0,13.0,30.0,25.5,17.5,17.0,15.5,15.0,17.5,20.5,19.0,18.5,16.0,15.5,15.5,16.0,24.5,25.5,30.5,33.5,36.1,19.9,19.4,20.2,19.2,20.5,20.2,25.1,20.5,19.4,20.6,20.8,18.6,18.1,19.2,17.7,18.1,17.5,30.0,30.9,23.2,23.8,21.5,19.8,22.3,20.2,20.6,17.0,17.6,16.5,18.2,16.9,15.5,19.2,18.5,35.7,27.4,23.0,23.9,34.2,34.5,28.4,28.8,26.8,33.5,32.1,28.0,26.4,24.3,19.1,27.9,23.6,27.2,26.6,25.8,23.5,30.0,39.0,34.7,34.4,29.9,22.4,26.6,20.2,17.6,28.0,27.0,34.0,31.0,29.0,27.0,24.0,23.0,38.0,36.0,25.0,38.0,26.0,22.0,36.0,27.0,27.0,32.0,28.0,31.0],\"yaxis\":\"y\",\"type\":\"scatter\"},{\"hovertemplate\":\"origin=japan\\u003cbr\\u003eweight=%{x}\\u003cbr\\u003empg=%{y}\\u003cextra\\u003e\\u003c\\u002fextra\\u003e\",\"legendgroup\":\"japan\",\"marker\":{\"color\":\"#EF553B\",\"symbol\":\"circle\"},\"mode\":\"markers\",\"name\":\"japan\",\"orientation\":\"v\",\"showlegend\":true,\"x\":[2372,2130,2130,2228,1773,1613,2278,2330,2288,2506,2100,2279,2379,2124,2807,1950,1836,1649,2003,2489,2391,2171,2702,2545,1795,1795,1990,2155,2930,2045,1945,2265,1985,2815,2720,1985,2070,1800,2560,2300,2515,2405,2135,1975,2020,1968,2019,2711,2542,2434,2265,2110,2110,1850,2145,2910,2420,2290,1755,1760,2065,1975,2050,1985,2210,2350,2615,2635,2900,2930,2025,1970,2160,2205,2245,1965,1965,1995,2665],\"xaxis\":\"x\",\"y\":[24.0,27.0,27.0,25.0,31.0,35.0,24.0,19.0,28.0,23.0,27.0,20.0,22.0,18.0,20.0,31.0,32.0,31.0,32.0,24.0,26.0,29.0,24.0,24.0,33.0,33.0,32.0,28.0,19.0,31.5,33.5,26.0,30.0,22.0,21.5,32.8,39.4,36.1,27.5,27.2,21.1,23.9,29.5,34.1,31.8,38.1,37.2,29.8,31.3,37.0,32.2,46.6,40.8,44.6,33.8,32.7,23.7,32.4,39.1,35.1,32.3,37.0,37.7,34.1,33.7,32.4,32.9,31.6,25.4,24.2,37.0,31.0,36.0,36.0,34.0,38.0,32.0,38.0,32.0],\"yaxis\":\"y\",\"type\":\"scatter\"},{\"hovertemplate\":\"origin=europe\\u003cbr\\u003eweight=%{x}\\u003cbr\\u003empg=%{y}\\u003cextra\\u003e\\u003c\\u002fextra\\u003e\",\"legendgroup\":\"europe\",\"marker\":{\"color\":\"#00cc96\",\"symbol\":\"circle\"},\"mode\":\"markers\",\"name\":\"europe\",\"orientation\":\"v\",\"showlegend\":true,\"x\":[1835,2672,2430,2375,2234,2123,2074,2065,1834,2254,2933,2511,2979,2189,1950,2265,1867,2158,2582,2868,2660,2219,1963,2300,2108,2246,2000,2223,1937,2694,2957,2945,2671,2464,2220,2202,1937,1825,3150,3270,3820,1825,1940,2190,2600,1985,2830,3140,2795,3410,1990,1925,3530,3190,2130,2144,2188,2085,2335,2950,3250,1835,1845,2500,2190,2320,3230,3160,1980,2130],\"xaxis\":\"x\",\"y\":[26.0,25.0,24.0,25.0,26.0,28.0,30.0,30.0,27.0,23.0,18.0,22.0,21.0,26.0,26.0,26.0,29.0,24.0,20.0,19.0,24.0,29.0,26.0,26.0,24.0,26.0,31.0,25.0,29.0,23.0,23.0,22.0,25.0,28.0,25.0,27.0,29.0,29.5,20.0,19.0,16.5,36.0,29.0,30.5,21.5,43.1,20.3,17.0,21.6,16.2,31.5,31.9,25.4,27.2,37.3,41.5,34.3,44.3,43.4,36.4,30.0,40.9,29.8,35.0,33.0,34.5,28.1,30.7,36.0,44.0],\"yaxis\":\"y\",\"type\":\"scatter\"}],                        {\"template\":{\"data\":{\"histogram2dcontour\":[{\"type\":\"histogram2dcontour\",\"colorbar\":{\"outlinewidth\":0,\"ticks\":\"\"},\"colorscale\":[[0.0,\"#0d0887\"],[0.1111111111111111,\"#46039f\"],[0.2222222222222222,\"#7201a8\"],[0.3333333333333333,\"#9c179e\"],[0.4444444444444444,\"#bd3786\"],[0.5555555555555556,\"#d8576b\"],[0.6666666666666666,\"#ed7953\"],[0.7777777777777778,\"#fb9f3a\"],[0.8888888888888888,\"#fdca26\"],[1.0,\"#f0f921\"]]}],\"choropleth\":[{\"type\":\"choropleth\",\"colorbar\":{\"outlinewidth\":0,\"ticks\":\"\"}}],\"histogram2d\":[{\"type\":\"histogram2d\",\"colorbar\":{\"outlinewidth\":0,\"ticks\":\"\"},\"colorscale\":[[0.0,\"#0d0887\"],[0.1111111111111111,\"#46039f\"],[0.2222222222222222,\"#7201a8\"],[0.3333333333333333,\"#9c179e\"],[0.4444444444444444,\"#bd3786\"],[0.5555555555555556,\"#d8576b\"],[0.6666666666666666,\"#ed7953\"],[0.7777777777777778,\"#fb9f3a\"],[0.8888888888888888,\"#fdca26\"],[1.0,\"#f0f921\"]]}],\"heatmap\":[{\"type\":\"heatmap\",\"colorbar\":{\"outlinewidth\":0,\"ticks\":\"\"},\"colorscale\":[[0.0,\"#0d0887\"],[0.1111111111111111,\"#46039f\"],[0.2222222222222222,\"#7201a8\"],[0.3333333333333333,\"#9c179e\"],[0.4444444444444444,\"#bd3786\"],[0.5555555555555556,\"#d8576b\"],[0.6666666666666666,\"#ed7953\"],[0.7777777777777778,\"#fb9f3a\"],[0.8888888888888888,\"#fdca26\"],[1.0,\"#f0f921\"]]}],\"heatmapgl\":[{\"type\":\"heatmapgl\",\"colorbar\":{\"outlinewidth\":0,\"ticks\":\"\"},\"colorscale\":[[0.0,\"#0d0887\"],[0.1111111111111111,\"#46039f\"],[0.2222222222222222,\"#7201a8\"],[0.3333333333333333,\"#9c179e\"],[0.4444444444444444,\"#bd3786\"],[0.5555555555555556,\"#d8576b\"],[0.6666666666666666,\"#ed7953\"],[0.7777777777777778,\"#fb9f3a\"],[0.8888888888888888,\"#fdca26\"],[1.0,\"#f0f921\"]]}],\"contourcarpet\":[{\"type\":\"contourcarpet\",\"colorbar\":{\"outlinewidth\":0,\"ticks\":\"\"}}],\"contour\":[{\"type\":\"contour\",\"colorbar\":{\"outlinewidth\":0,\"ticks\":\"\"},\"colorscale\":[[0.0,\"#0d0887\"],[0.1111111111111111,\"#46039f\"],[0.2222222222222222,\"#7201a8\"],[0.3333333333333333,\"#9c179e\"],[0.4444444444444444,\"#bd3786\"],[0.5555555555555556,\"#d8576b\"],[0.6666666666666666,\"#ed7953\"],[0.7777777777777778,\"#fb9f3a\"],[0.8888888888888888,\"#fdca26\"],[1.0,\"#f0f921\"]]}],\"surface\":[{\"type\":\"surface\",\"colorbar\":{\"outlinewidth\":0,\"ticks\":\"\"},\"colorscale\":[[0.0,\"#0d0887\"],[0.1111111111111111,\"#46039f\"],[0.2222222222222222,\"#7201a8\"],[0.3333333333333333,\"#9c179e\"],[0.4444444444444444,\"#bd3786\"],[0.5555555555555556,\"#d8576b\"],[0.6666666666666666,\"#ed7953\"],[0.7777777777777778,\"#fb9f3a\"],[0.8888888888888888,\"#fdca26\"],[1.0,\"#f0f921\"]]}],\"mesh3d\":[{\"type\":\"mesh3d\",\"colorbar\":{\"outlinewidth\":0,\"ticks\":\"\"}}],\"scatter\":[{\"fillpattern\":{\"fillmode\":\"overlay\",\"size\":10,\"solidity\":0.2},\"type\":\"scatter\"}],\"parcoords\":[{\"type\":\"parcoords\",\"line\":{\"colorbar\":{\"outlinewidth\":0,\"ticks\":\"\"}}}],\"scatterpolargl\":[{\"type\":\"scatterpolargl\",\"marker\":{\"colorbar\":{\"outlinewidth\":0,\"ticks\":\"\"}}}],\"bar\":[{\"error_x\":{\"color\":\"#2a3f5f\"},\"error_y\":{\"color\":\"#2a3f5f\"},\"marker\":{\"line\":{\"color\":\"#E5ECF6\",\"width\":0.5},\"pattern\":{\"fillmode\":\"overlay\",\"size\":10,\"solidity\":0.2}},\"type\":\"bar\"}],\"scattergeo\":[{\"type\":\"scattergeo\",\"marker\":{\"colorbar\":{\"outlinewidth\":0,\"ticks\":\"\"}}}],\"scatterpolar\":[{\"type\":\"scatterpolar\",\"marker\":{\"colorbar\":{\"outlinewidth\":0,\"ticks\":\"\"}}}],\"histogram\":[{\"marker\":{\"pattern\":{\"fillmode\":\"overlay\",\"size\":10,\"solidity\":0.2}},\"type\":\"histogram\"}],\"scattergl\":[{\"type\":\"scattergl\",\"marker\":{\"colorbar\":{\"outlinewidth\":0,\"ticks\":\"\"}}}],\"scatter3d\":[{\"type\":\"scatter3d\",\"line\":{\"colorbar\":{\"outlinewidth\":0,\"ticks\":\"\"}},\"marker\":{\"colorbar\":{\"outlinewidth\":0,\"ticks\":\"\"}}}],\"scattermapbox\":[{\"type\":\"scattermapbox\",\"marker\":{\"colorbar\":{\"outlinewidth\":0,\"ticks\":\"\"}}}],\"scatterternary\":[{\"type\":\"scatterternary\",\"marker\":{\"colorbar\":{\"outlinewidth\":0,\"ticks\":\"\"}}}],\"scattercarpet\":[{\"type\":\"scattercarpet\",\"marker\":{\"colorbar\":{\"outlinewidth\":0,\"ticks\":\"\"}}}],\"carpet\":[{\"aaxis\":{\"endlinecolor\":\"#2a3f5f\",\"gridcolor\":\"white\",\"linecolor\":\"white\",\"minorgridcolor\":\"white\",\"startlinecolor\":\"#2a3f5f\"},\"baxis\":{\"endlinecolor\":\"#2a3f5f\",\"gridcolor\":\"white\",\"linecolor\":\"white\",\"minorgridcolor\":\"white\",\"startlinecolor\":\"#2a3f5f\"},\"type\":\"carpet\"}],\"table\":[{\"cells\":{\"fill\":{\"color\":\"#EBF0F8\"},\"line\":{\"color\":\"white\"}},\"header\":{\"fill\":{\"color\":\"#C8D4E3\"},\"line\":{\"color\":\"white\"}},\"type\":\"table\"}],\"barpolar\":[{\"marker\":{\"line\":{\"color\":\"#E5ECF6\",\"width\":0.5},\"pattern\":{\"fillmode\":\"overlay\",\"size\":10,\"solidity\":0.2}},\"type\":\"barpolar\"}],\"pie\":[{\"automargin\":true,\"type\":\"pie\"}]},\"layout\":{\"autotypenumbers\":\"strict\",\"colorway\":[\"#636efa\",\"#EF553B\",\"#00cc96\",\"#ab63fa\",\"#FFA15A\",\"#19d3f3\",\"#FF6692\",\"#B6E880\",\"#FF97FF\",\"#FECB52\"],\"font\":{\"color\":\"#2a3f5f\"},\"hovermode\":\"closest\",\"hoverlabel\":{\"align\":\"left\"},\"paper_bgcolor\":\"white\",\"plot_bgcolor\":\"#E5ECF6\",\"polar\":{\"bgcolor\":\"#E5ECF6\",\"angularaxis\":{\"gridcolor\":\"white\",\"linecolor\":\"white\",\"ticks\":\"\"},\"radialaxis\":{\"gridcolor\":\"white\",\"linecolor\":\"white\",\"ticks\":\"\"}},\"ternary\":{\"bgcolor\":\"#E5ECF6\",\"aaxis\":{\"gridcolor\":\"white\",\"linecolor\":\"white\",\"ticks\":\"\"},\"baxis\":{\"gridcolor\":\"white\",\"linecolor\":\"white\",\"ticks\":\"\"},\"caxis\":{\"gridcolor\":\"white\",\"linecolor\":\"white\",\"ticks\":\"\"}},\"coloraxis\":{\"colorbar\":{\"outlinewidth\":0,\"ticks\":\"\"}},\"colorscale\":{\"sequential\":[[0.0,\"#0d0887\"],[0.1111111111111111,\"#46039f\"],[0.2222222222222222,\"#7201a8\"],[0.3333333333333333,\"#9c179e\"],[0.4444444444444444,\"#bd3786\"],[0.5555555555555556,\"#d8576b\"],[0.6666666666666666,\"#ed7953\"],[0.7777777777777778,\"#fb9f3a\"],[0.8888888888888888,\"#fdca26\"],[1.0,\"#f0f921\"]],\"sequentialminus\":[[0.0,\"#0d0887\"],[0.1111111111111111,\"#46039f\"],[0.2222222222222222,\"#7201a8\"],[0.3333333333333333,\"#9c179e\"],[0.4444444444444444,\"#bd3786\"],[0.5555555555555556,\"#d8576b\"],[0.6666666666666666,\"#ed7953\"],[0.7777777777777778,\"#fb9f3a\"],[0.8888888888888888,\"#fdca26\"],[1.0,\"#f0f921\"]],\"diverging\":[[0,\"#8e0152\"],[0.1,\"#c51b7d\"],[0.2,\"#de77ae\"],[0.3,\"#f1b6da\"],[0.4,\"#fde0ef\"],[0.5,\"#f7f7f7\"],[0.6,\"#e6f5d0\"],[0.7,\"#b8e186\"],[0.8,\"#7fbc41\"],[0.9,\"#4d9221\"],[1,\"#276419\"]]},\"xaxis\":{\"gridcolor\":\"white\",\"linecolor\":\"white\",\"ticks\":\"\",\"title\":{\"standoff\":15},\"zerolinecolor\":\"white\",\"automargin\":true,\"zerolinewidth\":2},\"yaxis\":{\"gridcolor\":\"white\",\"linecolor\":\"white\",\"ticks\":\"\",\"title\":{\"standoff\":15},\"zerolinecolor\":\"white\",\"automargin\":true,\"zerolinewidth\":2},\"scene\":{\"xaxis\":{\"backgroundcolor\":\"#E5ECF6\",\"gridcolor\":\"white\",\"linecolor\":\"white\",\"showbackground\":true,\"ticks\":\"\",\"zerolinecolor\":\"white\",\"gridwidth\":2},\"yaxis\":{\"backgroundcolor\":\"#E5ECF6\",\"gridcolor\":\"white\",\"linecolor\":\"white\",\"showbackground\":true,\"ticks\":\"\",\"zerolinecolor\":\"white\",\"gridwidth\":2},\"zaxis\":{\"backgroundcolor\":\"#E5ECF6\",\"gridcolor\":\"white\",\"linecolor\":\"white\",\"showbackground\":true,\"ticks\":\"\",\"zerolinecolor\":\"white\",\"gridwidth\":2}},\"shapedefaults\":{\"line\":{\"color\":\"#2a3f5f\"}},\"annotationdefaults\":{\"arrowcolor\":\"#2a3f5f\",\"arrowhead\":0,\"arrowwidth\":1},\"geo\":{\"bgcolor\":\"white\",\"landcolor\":\"#E5ECF6\",\"subunitcolor\":\"white\",\"showland\":true,\"showlakes\":true,\"lakecolor\":\"white\"},\"title\":{\"x\":0.05},\"mapbox\":{\"style\":\"light\"}}},\"xaxis\":{\"anchor\":\"y\",\"domain\":[0.0,1.0],\"title\":{\"text\":\"weight\"}},\"yaxis\":{\"anchor\":\"x\",\"domain\":[0.0,1.0],\"title\":{\"text\":\"mpg\"}},\"legend\":{\"title\":{\"text\":\"origin\"},\"tracegroupgap\":0},\"margin\":{\"t\":60}},                        {\"responsive\": true}                    ).then(function(){\n",
       "                            \n",
       "var gd = document.getElementById('0a0305df-9155-41ab-9df1-ab5685c0b31d');\n",
       "var x = new MutationObserver(function (mutations, observer) {{\n",
       "        var display = window.getComputedStyle(gd).display;\n",
       "        if (!display || display === 'none') {{\n",
       "            console.log([gd, 'removed!']);\n",
       "            Plotly.purge(gd);\n",
       "            observer.disconnect();\n",
       "        }}\n",
       "}});\n",
       "\n",
       "// Listen for the removal of the full notebook cells\n",
       "var notebookContainer = gd.closest('#notebook-container');\n",
       "if (notebookContainer) {{\n",
       "    x.observe(notebookContainer, {childList: true});\n",
       "}}\n",
       "\n",
       "// Listen for the clearing of the current output cell\n",
       "var outputEl = gd.closest('.output');\n",
       "if (outputEl) {{\n",
       "    x.observe(outputEl, {childList: true});\n",
       "}}\n",
       "\n",
       "                        })                };                });            </script>        </div>"
      ]
     },
     "metadata": {},
     "output_type": "display_data"
    }
   ],
   "source": [
    "px.scatter(\n",
    "    data_frame=df,\n",
    "    x=\"weight\",\n",
    "    y=\"mpg\",\n",
    "    color=\"origin\"\n",
    ")"
   ]
  },
  {
   "cell_type": "markdown",
   "metadata": {
    "created_in_deepnote_cell": true,
    "deepnote_cell_type": "markdown"
   },
   "source": [
    "<a style='text-decoration:none;line-height:16px;display:flex;color:#5B5B62;padding:10px;justify-content:end;' href='https://deepnote.com?utm_source=created-in-deepnote-cell&projectId=223b9534-577a-4222-9ad1-2a1791b08931' target=\"_blank\">\n",
    "<img alt='Created in deepnote.com' style='display:inline;max-height:16px;margin:0px;margin-right:7.5px;' src='data:image/svg+xml;base64,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' > </img>\n",
    "Created in <span style='font-weight:600;margin-left:4px;'>Deepnote</span></a>"
   ]
  }
 ],
 "metadata": {
  "deepnote": {},
  "deepnote_execution_queue": [],
  "deepnote_notebook_id": "14839e917dfc4110b5430e12d37a0703",
  "deepnote_persisted_session": {
   "createdAt": "2023-08-16T21:16:23.983Z"
  },
  "kernelspec": {
   "display_name": "Python 3 (ipykernel)",
   "language": "python",
   "name": "python3"
  },
  "language_info": {
   "codemirror_mode": {
    "name": "ipython",
    "version": 3
   },
   "file_extension": ".py",
   "mimetype": "text/x-python",
   "name": "python",
   "nbconvert_exporter": "python",
   "pygments_lexer": "ipython3",
   "version": "3.9.13"
  }
 },
 "nbformat": 4,
 "nbformat_minor": 1
}
