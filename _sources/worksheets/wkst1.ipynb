{
 "cells": [
  {
   "cell_type": "markdown",
   "metadata": {
    "cell_id": "778382d3bf3f48549339866864a7eedc",
    "deepnote_cell_type": "markdown",
    "tags": []
   },
   "source": [
    "# Discussion 1: August 7th, 2023\n",
    "## Worksheet #1\n",
    "\n",
    "This is a discussion worksheet meant to help you get started with the collaborative features of Deepnote. For best results, try to complete this worksheet with at least one other person from the class.\n",
    "\n",
    "This worksheet will not be collected for credit, but use it as a way to get practice with some of our python review."
   ]
  },
  {
   "cell_type": "markdown",
   "metadata": {
    "cell_id": "281c4cbdbcab453691586e1aae409480",
    "deepnote_cell_type": "markdown"
   },
   "source": [
    "## Instructions to create a workspace for your group\n",
    "\n",
    "One group member should create a workspace for the group using the following instructions.\n",
    "\n",
    "* Click on the workspace name \"Math 10 S23\" at the top left, then click the \"+\" icon next to your name.\n",
    "* Choose the \"Free\" plan if you are asked to choose a plan.\n",
    "* Give your workspace a name, like \"Worksheet 1 group\".  Select the option \"For a class (I'm a student)\".\n",
    "* Invite your groupmates, giving them \"Editor\" or \"Admin\" access.\n",
    "* Click on \"Settings & members\", then \"Upgrade\", then \"Get free education plan\".\n",
    "* If you click on the ... next to this `Worksheet 1` project, you should be able to duplicate it into your the new workspace you just created.  Once you have this duplicate copy, you can edit it."
   ]
  },
  {
   "cell_type": "markdown",
   "metadata": {
    "cell_id": "db7fb00bbaee41609421316e25066f60",
    "deepnote_cell_type": "markdown"
   },
   "source": [
    "## Names"
   ]
  },
  {
   "cell_type": "markdown",
   "metadata": {
    "cell_id": "e14c48609317456f88e364a1ed65f086",
    "deepnote_cell_type": "markdown"
   },
   "source": [
    "**Names**: (put the names of everyone in your group here in this markdown cell)"
   ]
  },
  {
   "cell_type": "markdown",
   "metadata": {
    "cell_id": "e448e81880684a9ca94aa3b4715d3520",
    "deepnote_cell_type": "markdown"
   },
   "source": [
    "## Python warm-up\n",
    "\n",
    "Here is a list of lists.  (You need to execute the following code cell every time you start this notebook.)"
   ]
  },
  {
   "cell_type": "code",
   "execution_count": 1,
   "metadata": {
    "cell_id": "1727911081374301a4fc96e8d5cdec3a",
    "deepnote_cell_type": "code",
    "deepnote_to_be_reexecuted": false,
    "execution_millis": 13,
    "execution_start": 1680197877165,
    "source_hash": "d70823b0",
    "tags": []
   },
   "outputs": [],
   "source": [
    "mylist = [\n",
    "    [2, 4],\n",
    "    [3, 1],\n",
    "    [-2, 5],\n",
    "    [6.2, 4],\n",
    "    [1, 4]\n",
    "]"
   ]
  },
  {
   "cell_type": "markdown",
   "metadata": {
    "cell_id": "0a9bd940f546481c941db06c03d331da",
    "deepnote_cell_type": "markdown"
   },
   "source": [
    "* Check the data type of `mylist`, using `type`."
   ]
  },
  {
   "cell_type": "markdown",
   "metadata": {
    "cell_id": "3232715cb1ae43bca36843b6735f6c8b",
    "deepnote_cell_type": "markdown"
   },
   "source": [
    "* Check the length of `mylist` using `len`."
   ]
  },
  {
   "cell_type": "markdown",
   "metadata": {
    "cell_id": "cf1779c0bedd46dcbf6d3d836d733f1b",
    "deepnote_cell_type": "markdown"
   },
   "source": [
    "* What is the zero-th element of the inside list at index 3.  (In Python, there is some ambiguity if I say the \"third\" element.  I will try to consistently start counting at zero, so in this case, I would say the \"third inside list\" is the list `[6.2, 4]`.  The answer to this question should be `6.2`.)"
   ]
  },
  {
   "cell_type": "markdown",
   "metadata": {
    "cell_id": "2cfa2b598e4848af8dfda64f45e1cf68",
    "deepnote_cell_type": "markdown"
   },
   "source": [
    "* Create a new object named `myarray` by converting `mylist` into a NumPy array.  Use the `np.array` function to make this conversion.  You will need to import NumPy."
   ]
  },
  {
   "cell_type": "markdown",
   "metadata": {
    "cell_id": "eb2debfc08d941e7b4fbe5560db0d313",
    "deepnote_cell_type": "markdown"
   },
   "source": [
    "* Display `myarray`.  (Just evaluate the name on its own line.)"
   ]
  },
  {
   "cell_type": "markdown",
   "metadata": {
    "cell_id": "2d1d0e02ddb64b8bb16db734ca4ada2d",
    "deepnote_cell_type": "markdown"
   },
   "source": [
    "## Counting elements\n",
    "\n",
    "Don't worry if this material is totally unfamiliar to you. We have done some review in Monday lecture, and will see it much more throughout this summer session.\n",
    "\n",
    "* How many of the inside lists in `mylist` have last element equal to `4`?  Use a `for` loop."
   ]
  },
  {
   "cell_type": "markdown",
   "metadata": {
    "cell_id": "8915d862f96f4f3b83f2a465e72e3992",
    "deepnote_cell_type": "markdown"
   },
   "source": [
    "* Overall question: How many of the elements in the last column of myarray are equal to 4?  First, use `myarray[:, -1]` to access this last column.  (We'll answer the overall question below.)"
   ]
  },
  {
   "cell_type": "markdown",
   "metadata": {
    "cell_id": "86657074160b4b7bb1ad173b700a9cea",
    "deepnote_cell_type": "markdown"
   },
   "source": [
    "* Use ` == 4` to create a Boolean array with entries `True` or `False` corresponding to whether the elements in this column are `4` or not."
   ]
  },
  {
   "cell_type": "markdown",
   "metadata": {
    "cell_id": "eefb9f35523f4600bc79fabc4ce8d729",
    "deepnote_cell_type": "markdown"
   },
   "source": [
    "* Count how many of the elements in the last column of `myarray` are equal to `4`by either using `.sum()` at the end (and adding parentheses) or by wrapping the last expression like `sum(???)`."
   ]
  },
  {
   "cell_type": "markdown",
   "metadata": {
    "cell_id": "9203d7bb47954ca1963abe1aba20174a",
    "deepnote_cell_type": "markdown"
   },
   "source": [
    "## Markdown practice\n",
    "\n",
    "* Make a markdown cell below this one.  Find a dataset on [Kaggle](https://www.kaggle.com/) that you think looks interesting.  Provide a link to that dataset using this format: `[text to display](URL)`.  For example, the link to Kaggle I provided above was made using `[Kaggle](https://www.kaggle.com/)`.\n",
    "\n",
    "* Write just one or two sentences about what you think is interesting about this dataset."
   ]
  },
  {
   "cell_type": "markdown",
   "metadata": {
    "created_in_deepnote_cell": true,
    "deepnote_cell_type": "markdown"
   },
   "source": [
    "<a style='text-decoration:none;line-height:16px;display:flex;color:#5B5B62;padding:10px;justify-content:end;' href='https://deepnote.com?utm_source=created-in-deepnote-cell&projectId=146753b4-ccea-4a01-a728-254bd1ccca6a' target=\"_blank\">\n",
    "<img alt='Created in deepnote.com' style='display:inline;max-height:16px;margin:0px;margin-right:7.5px;' src='data:image/svg+xml;base64,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' > </img>\n",
    "Created in <span style='font-weight:600;margin-left:4px;'>Deepnote</span></a>"
   ]
  }
 ],
 "metadata": {
  "deepnote": {
   "is_reactive": false
  },
  "deepnote_execution_queue": [],
  "deepnote_notebook_id": "93a21edd401342f5991b9da2c7e51c32",
  "deepnote_persisted_session": {
   "createdAt": "2023-03-29T03:16:34.478Z"
  },
  "kernelspec": {
   "display_name": "Python 3 (ipykernel)",
   "language": "python",
   "name": "python3"
  },
  "language_info": {
   "codemirror_mode": {
    "name": "ipython",
    "version": 3
   },
   "file_extension": ".py",
   "mimetype": "text/x-python",
   "name": "python",
   "nbconvert_exporter": "python",
   "pygments_lexer": "ipython3",
   "version": "3.9.13"
  }
 },
 "nbformat": 4,
 "nbformat_minor": 4
}
