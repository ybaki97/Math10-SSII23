{
 "cells": [
  {
   "cell_type": "markdown",
   "metadata": {
    "cell_id": "0459dceb75ed4db595e3a6bb9b5aa97a",
    "deepnote_cell_type": "markdown",
    "tags": []
   },
   "source": [
    "# Discussion 2: August 9th, 2023\n",
    "## Worksheet #2\n",
    "\n",
    "This is a discussion worksheet meant to help you practice with some of the topics we've seen up until this point. This worksheet will not be collected for credit, but definitely use it to help learn the following EDA outcomes:\n",
    "* P1. Perform boolean indexing on data frames."
   ]
  },
  {
   "cell_type": "markdown",
   "metadata": {
    "cell_id": "9c8d5226f42c490cbae76ee2a1114f3b",
    "deepnote_cell_type": "markdown"
   },
   "source": [
    "## Loading a NumPy array from a pickle file\n",
    "\n",
    "* Import `numpy` using the usual abbreviation `np`, and also import the Python `pickle` module (no abbreviation).\n",
    "* Notice that there is an attached file `wkst2-starter.pickle`.  Load the data from that file and store it in the variable `arr` using the following code.\n",
    "```\n",
    "with open(\"wkst2-starter.pickle\", \"rb\") as f:\n",
    "    arr = pickle.load(f)\n",
    "```\n",
    "* Check the type of this object using the function `type` and check its dimensions by computing the `shape` attribute (no parentheses after `shape`).  The variable `arr` should represent an 8000 by 7 NumPy array."
   ]
  },
  {
   "cell_type": "markdown",
   "metadata": {
    "cell_id": "74279e6524ab4c97a7928cf34bd3acdc",
    "deepnote_cell_type": "markdown"
   },
   "source": [
    "## Practice with Boolean indexing"
   ]
  },
  {
   "cell_type": "markdown",
   "metadata": {
    "cell_id": "28a6679ac3e24b4485e12e0e7e5c166c",
    "deepnote_cell_type": "markdown"
   },
   "source": [
    "* Define the variable `x` to be the column at index `4`.\n",
    "* Check that `x` is a length-8000 NumPy array.\n",
    "* How many values in `x` are equal to `10`?\n",
    "* Define `arrsub` to be the sub-array of `arr` containing all the rows for which the column at index `4` is equal to the integer `10`.  Use Boolean indexing with `arr` and `x`.\n",
    "* What is the shape of `arrsub`?  Use the `shape` attribute again.  (It should be `7` columns, but how many rows?)\n",
    "* Define a new variable, `a`, to be equal to the number of rows of `arrsub`."
   ]
  },
  {
   "cell_type": "markdown",
   "metadata": {
    "cell_id": "a7dc968030124529940f79b589e17ea7",
    "deepnote_cell_type": "markdown"
   },
   "source": [
    "## Counting rows satisfying a condition using NumPy\n",
    "\n",
    "* How many rows in `arr` contain the number `40`?  You can use `arr == 40` to create a Boolean array.  From the resulting Boolean array, you can use the `sum` method, in particular, `.sum(axis=1)`, to count for each row, how many times `40` appears.  We want to find all the rows where `40` occurs at least once.  Once you have a length-8000 array of `True` and `False` values (with `True` if `40` occurs in the row and with `False` otherwise).  You want to count the number of times `True` occurs.  Save the result with the variable name `b`.  (Reality check: the answer should be between 500 and 700.)"
   ]
  },
  {
   "cell_type": "markdown",
   "metadata": {
    "cell_id": "b530ee29126f4344b99bb2e18c4b48f3",
    "deepnote_cell_type": "markdown"
   },
   "source": [
    "## Practice with preparing solutions\n",
    "\n",
    "You will not be turning in this worksheet, but it is good to practice with how you will be submitting homework.\n",
    "\n",
    "* Store these answers, as well as the names of everyone in your group, as a Python dictionary\n",
    "```\n",
    "ansdict = {\"names\": [name1, name2, name3], \"a\": a, \"b\": b}\n",
    "```\n",
    "The `\"names\"` value must be a list, with length the number of group members, and with entries the full names of your group members.  The names of your group members should be strings.  For example, `[\"Yasmeen Baki\", \"Anthony Zamora\"]`.\n",
    "* Save the resulting dictionary in a pickle file using the following code.\n",
    "```\n",
    "with open(\"wkst2-ans.pickle\", \"wb\") as f:\n",
    "    pickle.dump(ansdict, f)\n",
    "```"
   ]
  },
  {
   "cell_type": "markdown",
   "metadata": {
    "created_in_deepnote_cell": true,
    "deepnote_cell_type": "markdown"
   },
   "source": [
    "<a style='text-decoration:none;line-height:16px;display:flex;color:#5B5B62;padding:10px;justify-content:end;' href='https://deepnote.com?utm_source=created-in-deepnote-cell&projectId=a771ef45-5432-4f63-bd03-80619f40d8d3' target=\"_blank\">\n",
    "<img alt='Created in deepnote.com' style='display:inline;max-height:16px;margin:0px;margin-right:7.5px;' src='data:image/svg+xml;base64,PD94bWwgdmVyc2lvbj0iMS4wIiBlbmNvZGluZz0iVVRGLTgiPz4KPHN2ZyB3aWR0aD0iODBweCIgaGVpZ2h0PSI4MHB4IiB2aWV3Qm94PSIwIDAgODAgODAiIHZlcnNpb249IjEuMSIgeG1sbnM9Imh0dHA6Ly93d3cudzMub3JnLzIwMDAvc3ZnIiB4bWxuczp4bGluaz0iaHR0cDovL3d3dy53My5vcmcvMTk5OS94bGluayI+CiAgICA8IS0tIEdlbmVyYXRvcjogU2tldGNoIDU0LjEgKDc2NDkwKSAtIGh0dHBzOi8vc2tldGNoYXBwLmNvbSAtLT4KICAgIDx0aXRsZT5Hcm91cCAzPC90aXRsZT4KICAgIDxkZXNjPkNyZWF0ZWQgd2l0aCBTa2V0Y2guPC9kZXNjPgogICAgPGcgaWQ9IkxhbmRpbmciIHN0cm9rZT0ibm9uZSIgc3Ryb2tlLXdpZHRoPSIxIiBmaWxsPSJub25lIiBmaWxsLXJ1bGU9ImV2ZW5vZGQiPgogICAgICAgIDxnIGlkPSJBcnRib2FyZCIgdHJhbnNmb3JtPSJ0cmFuc2xhdGUoLTEyMzUuMDAwMDAwLCAtNzkuMDAwMDAwKSI+CiAgICAgICAgICAgIDxnIGlkPSJHcm91cC0zIiB0cmFuc2Zvcm09InRyYW5zbGF0ZSgxMjM1LjAwMDAwMCwgNzkuMDAwMDAwKSI+CiAgICAgICAgICAgICAgICA8cG9seWdvbiBpZD0iUGF0aC0yMCIgZmlsbD0iIzAyNjVCNCIgcG9pbnRzPSIyLjM3NjIzNzYyIDgwIDM4LjA0NzY2NjcgODAgNTcuODIxNzgyMiA3My44MDU3NTkyIDU3LjgyMTc4MjIgMzIuNzU5MjczOSAzOS4xNDAyMjc4IDMxLjY4MzE2ODMiPjwvcG9seWdvbj4KICAgICAgICAgICAgICAgIDxwYXRoIGQ9Ik0zNS4wMDc3MTgsODAgQzQyLjkwNjIwMDcsNzYuNDU0OTM1OCA0Ny41NjQ5MTY3LDcxLjU0MjI2NzEgNDguOTgzODY2LDY1LjI2MTk5MzkgQzUxLjExMjI4OTksNTUuODQxNTg0MiA0MS42NzcxNzk1LDQ5LjIxMjIyODQgMjUuNjIzOTg0Niw0OS4yMTIyMjg0IEMyNS40ODQ5Mjg5LDQ5LjEyNjg0NDggMjkuODI2MTI5Niw0My4yODM4MjQ4IDM4LjY0NzU4NjksMzEuNjgzMTY4MyBMNzIuODcxMjg3MSwzMi41NTQ0MjUgTDY1LjI4MDk3Myw2Ny42NzYzNDIxIEw1MS4xMTIyODk5LDc3LjM3NjE0NCBMMzUuMDA3NzE4LDgwIFoiIGlkPSJQYXRoLTIyIiBmaWxsPSIjMDAyODY4Ij48L3BhdGg+CiAgICAgICAgICAgICAgICA8cGF0aCBkPSJNMCwzNy43MzA0NDA1IEwyNy4xMTQ1MzcsMC4yNTcxMTE0MzYgQzYyLjM3MTUxMjMsLTEuOTkwNzE3MDEgODAsMTAuNTAwMzkyNyA4MCwzNy43MzA0NDA1IEM4MCw2NC45NjA0ODgyIDY0Ljc3NjUwMzgsNzkuMDUwMzQxNCAzNC4zMjk1MTEzLDgwIEM0Ny4wNTUzNDg5LDc3LjU2NzA4MDggNTMuNDE4MjY3Nyw3MC4zMTM2MTAzIDUzLjQxODI2NzcsNTguMjM5NTg4NSBDNTMuNDE4MjY3Nyw0MC4xMjg1NTU3IDM2LjMwMzk1NDQsMzcuNzMwNDQwNSAyNS4yMjc0MTcsMzcuNzMwNDQwNSBDMTcuODQzMDU4NiwzNy43MzA0NDA1IDkuNDMzOTE5NjYsMzcuNzMwNDQwNSAwLDM3LjczMDQ0MDUgWiIgaWQ9IlBhdGgtMTkiIGZpbGw9IiMzNzkzRUYiPjwvcGF0aD4KICAgICAgICAgICAgPC9nPgogICAgICAgIDwvZz4KICAgIDwvZz4KPC9zdmc+' > </img>\n",
    "Created in <span style='font-weight:600;margin-left:4px;'>Deepnote</span></a>"
   ]
  }
 ],
 "metadata": {
  "deepnote": {
   "is_reactive": false
  },
  "deepnote_execution_queue": [],
  "deepnote_notebook_id": "b7f23ac5d78d42739b6cbf35d244c73d",
  "deepnote_persisted_session": {
   "createdAt": "2023-04-04T20:24:37.715Z"
  },
  "kernelspec": {
   "display_name": "Python 3 (ipykernel)",
   "language": "python",
   "name": "python3"
  },
  "language_info": {
   "codemirror_mode": {
    "name": "ipython",
    "version": 3
   },
   "file_extension": ".py",
   "mimetype": "text/x-python",
   "name": "python",
   "nbconvert_exporter": "python",
   "pygments_lexer": "ipython3",
   "version": "3.9.13"
  }
 },
 "nbformat": 4,
 "nbformat_minor": 4
}
