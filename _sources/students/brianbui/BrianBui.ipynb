{
 "cells": [
  {
   "cell_type": "markdown",
   "metadata": {
    "cell_id": "e327278928d644eb992cf3082a458f91",
    "deepnote_cell_type": "markdown",
    "tags": []
   },
   "source": [
    "# League of Legends 13.13\n",
    "\n",
    "Author: Brian H. Bui (brianhb@uci.edu)\n",
    "\n",
    "Course Project, UC Irvine, Math 10, Summer 2023"
   ]
  },
  {
   "cell_type": "markdown",
   "metadata": {
    "cell_id": "9e223595fe9946b9ad3096deb01ed1ff",
    "deepnote_cell_type": "markdown"
   },
   "source": [
    "## Introduction"
   ]
  },
  {
   "cell_type": "markdown",
   "metadata": {
    "cell_id": "6218828a4fd64faf9e995f9284ca9f64",
    "deepnote_cell_type": "image",
    "deepnote_img_src": "EGS_LeagueofLegends_RiotGames_S1_2560x1440-2935d0a3e332decb8e727fe56789b6ab.jpg"
   },
   "source": [
    "![](EGS_LeagueofLegends_RiotGames_S1_2560x1440-2935d0a3e332decb8e727fe56789b6ab.jpg)"
   ]
  },
  {
   "cell_type": "markdown",
   "metadata": {
    "cell_id": "0ec9054b82e64e47b3ea9b75417ef98f",
    "deepnote_cell_type": "markdown",
    "tags": []
   },
   "source": [
    "League of Legends, made by Riot Games,is a free to play Multiplayer Online Battle Areana (MOBA) video game where a team of players duke it out against an opposing team of players where every player plays a certain champion,in which there are a variety, to accomplish a victory at the end of the game. League of Legends is that type of game that runs on patches or updates. Each patches will see some champions, items, or other components get buffed (beneficial boost in effectivenes) and nerf(a decrease in effectiveness) to balance the game and create an environment of fairness. As a hobby of mine is playing games, with League of Legends being one of my favorites, I thought I would analyze data involving League. "
   ]
  },
  {
   "cell_type": "markdown",
   "metadata": {
    "cell_id": "03074adf30754d309c5d6a689fc64c9b",
    "deepnote_cell_type": "markdown"
   },
   "source": [
    "The provided data is on champions on League of Legends Patch 13.13, I intend on analyzing the champions on League of Legends, using what was learned in Math 10 , to find any relationship in the data visually and explore champions performances based off their associated rates or features. "
   ]
  },
  {
   "cell_type": "markdown",
   "metadata": {
    "cell_id": "504fb50bcfdf4ce192b8f5b8f74e345b",
    "deepnote_cell_type": "markdown",
    "tags": []
   },
   "source": [
    "## Importing and loading the Data"
   ]
  },
  {
   "cell_type": "code",
   "execution_count": 1,
   "metadata": {
    "cell_id": "5c4c029f31fe4c91b9f838a304f30676",
    "deepnote_cell_type": "code",
    "deepnote_to_be_reexecuted": false,
    "execution_millis": 3345,
    "execution_start": 1695796812685,
    "source_hash": "46994818"
   },
   "outputs": [],
   "source": [
    "import pandas as pd\n",
    "import numpy as np\n",
    "import altair as alt\n",
    "import plotly.express as px\n",
    "import seaborn as sns \n",
    "import matplotlib.pyplot as plt\n",
    "from sklearn.linear_model import LinearRegression\n",
    "from sklearn.linear_model import LogisticRegression\n",
    "from sklearn.metrics import mean_absolute_error, mean_squared_error\n",
    "from sklearn.model_selection import train_test_split\n",
    "from sklearn.neighbors import KNeighborsRegressor, KNeighborsClassifier\n",
    "from sklearn.metrics import log_loss\n",
    "from sklearn.ensemble import RandomForestRegressor\n",
    "from sklearn.tree import DecisionTreeClassifier\n",
    "from sklearn.ensemble import RandomForestClassifier"
   ]
  },
  {
   "cell_type": "markdown",
   "metadata": {
    "cell_id": "489a5343e6764a9496f7d47e0ed0559d",
    "deepnote_cell_type": "markdown"
   },
   "source": [
    "Here, I am uploading the data and getting a good look at it to make sure everything is running smoothly. I am also checking the amount of the features belonging to certain colummns."
   ]
  },
  {
   "cell_type": "markdown",
   "metadata": {
    "cell_id": "8a876b008a53498794f3d842283871bf",
    "deepnote_cell_type": "markdown"
   },
   "source": [
    "### Column names and features\n",
    "\n",
    "Here is the column names and a description of what is each in column:\n",
    "\n",
    "* Name - Champion names (ex. Aatrox)\n",
    "* Class - Champions are either a Fighter, Assasin, Mage, Marksman, Support, or Tank\n",
    "* Role - Top, Jungle, Mid, ADC, or Support \n",
    "* Tier - Ranking of how the champion is on the patch. Highest tier to lowest is God, S, A, B, C, D\n",
    "* Score - Champion overall score\n",
    "* Trend - Trend of the champion's score\n",
    "* Win % - Win rate/percentage of the champion\n",
    "* Role % - Role rate/percentage of the champion\n",
    "* Pick % - Pick percentage of the champion\n",
    "* Ban % - Ban percentage of the champion\n",
    "* KDA - the champion's Kill/Death/Assist ratio\n",
    "\n",
    "Champions in the `Name` column are sorted alphabetically A-Z. "
   ]
  },
  {
   "cell_type": "code",
   "execution_count": 2,
   "metadata": {
    "cell_id": "b739e93771a143faab88ebda2a37a936",
    "deepnote_cell_type": "code",
    "deepnote_table_loading": false,
    "deepnote_table_state": {
     "filters": [],
     "pageIndex": 0,
     "pageSize": 10,
     "sortBy": []
    },
    "deepnote_to_be_reexecuted": false,
    "execution_millis": 332,
    "execution_start": 1695796816036,
    "source_hash": "7f29653"
   },
   "outputs": [
    {
     "data": {
      "application/vnd.deepnote.dataframe.v3+json": {
       "column_count": 11,
       "columns": [
        {
         "dtype": "object",
         "name": "Name",
         "stats": {
          "categories": [
           {
            "count": 3,
            "name": "Gragas"
           },
           {
            "count": 3,
            "name": "Heimerdinger"
           },
           {
            "count": 241,
            "name": "161 others"
           }
          ],
          "nan_count": 0,
          "unique_count": 163
         }
        },
        {
         "dtype": "object",
         "name": "Class",
         "stats": {
          "categories": [
           {
            "count": 69,
            "name": "Fighter"
           },
           {
            "count": 62,
            "name": "Mage"
           },
           {
            "count": 116,
            "name": "4 others"
           }
          ],
          "nan_count": 0,
          "unique_count": 6
         }
        },
        {
         "dtype": "object",
         "name": "Role",
         "stats": {
          "categories": [
           {
            "count": 62,
            "name": "MID"
           },
           {
            "count": 60,
            "name": "TOP"
           },
           {
            "count": 125,
            "name": "3 others"
           }
          ],
          "nan_count": 0,
          "unique_count": 5
         }
        },
        {
         "dtype": "object",
         "name": "Tier",
         "stats": {
          "categories": [
           {
            "count": 62,
            "name": "A"
           },
           {
            "count": 62,
            "name": "B"
           },
           {
            "count": 123,
            "name": "4 others"
           }
          ],
          "nan_count": 0,
          "unique_count": 6
         }
        },
        {
         "dtype": "float64",
         "name": "Score",
         "stats": {
          "histogram": [
           {
            "bin_end": 28,
            "bin_start": 20.78,
            "count": 3
           },
           {
            "bin_end": 35.22,
            "bin_start": 28,
            "count": 25
           },
           {
            "bin_end": 42.440000000000005,
            "bin_start": 35.22,
            "count": 47
           },
           {
            "bin_end": 49.660000000000004,
            "bin_start": 42.440000000000005,
            "count": 69
           },
           {
            "bin_end": 56.88,
            "bin_start": 49.660000000000004,
            "count": 42
           },
           {
            "bin_end": 64.10000000000001,
            "bin_start": 56.88,
            "count": 24
           },
           {
            "bin_end": 71.32000000000001,
            "bin_start": 64.10000000000001,
            "count": 15
           },
           {
            "bin_end": 78.54,
            "bin_start": 71.32000000000001,
            "count": 7
           },
           {
            "bin_end": 85.76,
            "bin_start": 78.54,
            "count": 7
           },
           {
            "bin_end": 92.98,
            "bin_start": 85.76,
            "count": 8
           }
          ],
          "max": "92.98",
          "min": "20.78",
          "nan_count": 0,
          "unique_count": 243
         }
        },
        {
         "dtype": "float64",
         "name": "Trend",
         "stats": {
          "histogram": [
           {
            "bin_end": -19.747,
            "bin_start": -23.49,
            "count": 3
           },
           {
            "bin_end": -16.003999999999998,
            "bin_start": -19.747,
            "count": 1
           },
           {
            "bin_end": -12.261,
            "bin_start": -16.003999999999998,
            "count": 3
           },
           {
            "bin_end": -8.517999999999999,
            "bin_start": -12.261,
            "count": 3
           },
           {
            "bin_end": -4.774999999999999,
            "bin_start": -8.517999999999999,
            "count": 15
           },
           {
            "bin_end": -1.032,
            "bin_start": -4.774999999999999,
            "count": 67
           },
           {
            "bin_end": 2.711000000000002,
            "bin_start": -1.032,
            "count": 107
           },
           {
            "bin_end": 6.454000000000001,
            "bin_start": 2.711000000000002,
            "count": 34
           },
           {
            "bin_end": 10.197,
            "bin_start": 6.454000000000001,
            "count": 11
           },
           {
            "bin_end": 13.94,
            "bin_start": 10.197,
            "count": 3
           }
          ],
          "max": "13.94",
          "min": "-23.49",
          "nan_count": 0,
          "unique_count": 222
         }
        },
        {
         "dtype": "object",
         "name": "Win %",
         "stats": {
          "categories": [
           {
            "count": 4,
            "name": "50.87%"
           },
           {
            "count": 4,
            "name": "50.52%"
           },
           {
            "count": 239,
            "name": "193 others"
           }
          ],
          "nan_count": 0,
          "unique_count": 195
         }
        },
        {
         "dtype": "object",
         "name": "Role %",
         "stats": {
          "categories": [
           {
            "count": 2,
            "name": "92.99%"
           },
           {
            "count": 2,
            "name": "72.61%"
           },
           {
            "count": 243,
            "name": "240 others"
           }
          ],
          "nan_count": 0,
          "unique_count": 242
         }
        },
        {
         "dtype": "object",
         "name": "Pick %",
         "stats": {
          "categories": [
           {
            "count": 3,
            "name": "0.66%"
           },
           {
            "count": 3,
            "name": "1.84%"
           },
           {
            "count": 241,
            "name": "216 others"
           }
          ],
          "nan_count": 0,
          "unique_count": 218
         }
        },
        {
         "dtype": "object",
         "name": "Ban %",
         "stats": {
          "categories": [
           {
            "count": 6,
            "name": "0.41%"
           },
           {
            "count": 5,
            "name": "5.94%"
           },
           {
            "count": 236,
            "name": "152 others"
           }
          ],
          "nan_count": 0,
          "unique_count": 154
         }
        },
        {
         "dtype": "float64",
         "name": "KDA",
         "stats": {
          "histogram": [
           {
            "bin_end": 1.6059999999999999,
            "bin_start": 1.32,
            "count": 6
           },
           {
            "bin_end": 1.892,
            "bin_start": 1.6059999999999999,
            "count": 35
           },
           {
            "bin_end": 2.178,
            "bin_start": 1.892,
            "count": 55
           },
           {
            "bin_end": 2.4639999999999995,
            "bin_start": 2.178,
            "count": 70
           },
           {
            "bin_end": 2.75,
            "bin_start": 2.4639999999999995,
            "count": 41
           },
           {
            "bin_end": 3.0359999999999996,
            "bin_start": 2.75,
            "count": 28
           },
           {
            "bin_end": 3.321999999999999,
            "bin_start": 3.0359999999999996,
            "count": 6
           },
           {
            "bin_end": 3.6079999999999997,
            "bin_start": 3.321999999999999,
            "count": 5
           },
           {
            "bin_end": 3.8939999999999992,
            "bin_start": 3.6079999999999997,
            "count": 0
           },
           {
            "bin_end": 4.18,
            "bin_start": 3.8939999999999992,
            "count": 1
           }
          ],
          "max": "4.18",
          "min": "1.32",
          "nan_count": 0,
          "unique_count": 128
         }
        },
        {
         "dtype": "int64",
         "name": "_deepnote_index_column"
        }
       ],
       "row_count": 247,
       "rows": [
        {
         "Ban %": "5.81%",
         "Class": "Fighter",
         "KDA": 1.85,
         "Name": "Aatrox",
         "Pick %": "7.01%",
         "Role": "TOP",
         "Role %": "92.28%",
         "Score": 71.25,
         "Tier": "God",
         "Trend": -3.39,
         "Win %": "48.84%",
         "_deepnote_index_column": 0
        },
        {
         "Ban %": "6.47%",
         "Class": "Mage",
         "KDA": 2.63,
         "Name": "Ahri",
         "Pick %": "10.63%",
         "Role": "MID",
         "Role %": "95.23%",
         "Score": 77.12,
         "Tier": "God",
         "Trend": -5.03,
         "Win %": "50.90%",
         "_deepnote_index_column": 1
        },
        {
         "Ban %": "8.10%",
         "Class": "Assassin",
         "KDA": 2.3,
         "Name": "Akali",
         "Pick %": "5.99%",
         "Role": "MID",
         "Role %": "78.45%",
         "Score": 55.37,
         "Tier": "A",
         "Trend": -5.08,
         "Win %": "48.18%",
         "_deepnote_index_column": 2
        },
        {
         "Ban %": "8.10%",
         "Class": "Assassin",
         "KDA": 2.06,
         "Name": "Akali",
         "Pick %": "1.45%",
         "Role": "TOP",
         "Role %": "20.39%",
         "Score": 36.35,
         "Tier": "C",
         "Trend": -0.6,
         "Win %": "48.50%",
         "_deepnote_index_column": 3
        },
        {
         "Ban %": "5.94%",
         "Class": "Marksman",
         "KDA": 2.16,
         "Name": "Akshan",
         "Pick %": "2.88%",
         "Role": "MID",
         "Role %": "69.32%",
         "Score": 47.25,
         "Tier": "B",
         "Trend": -1.5,
         "Win %": "50.15%",
         "_deepnote_index_column": 4
        },
        {
         "Ban %": "5.94%",
         "Class": "Marksman",
         "KDA": 1.89,
         "Name": "Akshan",
         "Pick %": "0.96%",
         "Role": "TOP",
         "Role %": "22.48%",
         "Score": 37.24,
         "Tier": "C",
         "Trend": 0.83,
         "Win %": "50.87%",
         "_deepnote_index_column": 5
        },
        {
         "Ban %": "1.43%",
         "Class": "Tank",
         "KDA": 2.51,
         "Name": "Alistar",
         "Pick %": "4.58%",
         "Role": "SUPPORT",
         "Role %": "95.57%",
         "Score": 54.33,
         "Tier": "A",
         "Trend": 4.6,
         "Win %": "51.13%",
         "_deepnote_index_column": 6
        },
        {
         "Ban %": "2.10%",
         "Class": "Tank",
         "KDA": 2.64,
         "Name": "Amumu",
         "Pick %": "2.86%",
         "Role": "JUNGLE",
         "Role %": "66.72%",
         "Score": 44.96,
         "Tier": "B",
         "Trend": -0.85,
         "Win %": "51.16%",
         "_deepnote_index_column": 7
        },
        {
         "Ban %": "2.10%",
         "Class": "Tank",
         "KDA": 2.08,
         "Name": "Amumu",
         "Pick %": "1.10%",
         "Role": "SUPPORT",
         "Role %": "31.76%",
         "Score": 40.1,
         "Tier": "B",
         "Trend": -1.92,
         "Win %": "51.50%",
         "_deepnote_index_column": 8
        },
        {
         "Ban %": "2.59%",
         "Class": "Mage",
         "KDA": 2.84,
         "Name": "Anivia",
         "Pick %": "2.22%",
         "Role": "MID",
         "Role %": "79.48%",
         "Score": 50.85,
         "Tier": "A",
         "Trend": -1.84,
         "Win %": "51.67%",
         "_deepnote_index_column": 9
        }
       ]
      },
      "text/html": [
       "<div>\n",
       "<style scoped>\n",
       "    .dataframe tbody tr th:only-of-type {\n",
       "        vertical-align: middle;\n",
       "    }\n",
       "\n",
       "    .dataframe tbody tr th {\n",
       "        vertical-align: top;\n",
       "    }\n",
       "\n",
       "    .dataframe thead th {\n",
       "        text-align: right;\n",
       "    }\n",
       "</style>\n",
       "<table border=\"1\" class=\"dataframe\">\n",
       "  <thead>\n",
       "    <tr style=\"text-align: right;\">\n",
       "      <th></th>\n",
       "      <th>Name</th>\n",
       "      <th>Class</th>\n",
       "      <th>Role</th>\n",
       "      <th>Tier</th>\n",
       "      <th>Score</th>\n",
       "      <th>Trend</th>\n",
       "      <th>Win %</th>\n",
       "      <th>Role %</th>\n",
       "      <th>Pick %</th>\n",
       "      <th>Ban %</th>\n",
       "      <th>KDA</th>\n",
       "    </tr>\n",
       "  </thead>\n",
       "  <tbody>\n",
       "    <tr>\n",
       "      <th>0</th>\n",
       "      <td>Aatrox</td>\n",
       "      <td>Fighter</td>\n",
       "      <td>TOP</td>\n",
       "      <td>God</td>\n",
       "      <td>71.25</td>\n",
       "      <td>-3.39</td>\n",
       "      <td>48.84%</td>\n",
       "      <td>92.28%</td>\n",
       "      <td>7.01%</td>\n",
       "      <td>5.81%</td>\n",
       "      <td>1.85</td>\n",
       "    </tr>\n",
       "    <tr>\n",
       "      <th>1</th>\n",
       "      <td>Ahri</td>\n",
       "      <td>Mage</td>\n",
       "      <td>MID</td>\n",
       "      <td>God</td>\n",
       "      <td>77.12</td>\n",
       "      <td>-5.03</td>\n",
       "      <td>50.90%</td>\n",
       "      <td>95.23%</td>\n",
       "      <td>10.63%</td>\n",
       "      <td>6.47%</td>\n",
       "      <td>2.63</td>\n",
       "    </tr>\n",
       "    <tr>\n",
       "      <th>2</th>\n",
       "      <td>Akali</td>\n",
       "      <td>Assassin</td>\n",
       "      <td>MID</td>\n",
       "      <td>A</td>\n",
       "      <td>55.37</td>\n",
       "      <td>-5.08</td>\n",
       "      <td>48.18%</td>\n",
       "      <td>78.45%</td>\n",
       "      <td>5.99%</td>\n",
       "      <td>8.10%</td>\n",
       "      <td>2.30</td>\n",
       "    </tr>\n",
       "    <tr>\n",
       "      <th>3</th>\n",
       "      <td>Akali</td>\n",
       "      <td>Assassin</td>\n",
       "      <td>TOP</td>\n",
       "      <td>C</td>\n",
       "      <td>36.35</td>\n",
       "      <td>-0.60</td>\n",
       "      <td>48.50%</td>\n",
       "      <td>20.39%</td>\n",
       "      <td>1.45%</td>\n",
       "      <td>8.10%</td>\n",
       "      <td>2.06</td>\n",
       "    </tr>\n",
       "    <tr>\n",
       "      <th>4</th>\n",
       "      <td>Akshan</td>\n",
       "      <td>Marksman</td>\n",
       "      <td>MID</td>\n",
       "      <td>B</td>\n",
       "      <td>47.25</td>\n",
       "      <td>-1.50</td>\n",
       "      <td>50.15%</td>\n",
       "      <td>69.32%</td>\n",
       "      <td>2.88%</td>\n",
       "      <td>5.94%</td>\n",
       "      <td>2.16</td>\n",
       "    </tr>\n",
       "    <tr>\n",
       "      <th>...</th>\n",
       "      <td>...</td>\n",
       "      <td>...</td>\n",
       "      <td>...</td>\n",
       "      <td>...</td>\n",
       "      <td>...</td>\n",
       "      <td>...</td>\n",
       "      <td>...</td>\n",
       "      <td>...</td>\n",
       "      <td>...</td>\n",
       "      <td>...</td>\n",
       "      <td>...</td>\n",
       "    </tr>\n",
       "    <tr>\n",
       "      <th>242</th>\n",
       "      <td>Zilean</td>\n",
       "      <td>Support</td>\n",
       "      <td>MID</td>\n",
       "      <td>A</td>\n",
       "      <td>52.02</td>\n",
       "      <td>4.90</td>\n",
       "      <td>53.91%</td>\n",
       "      <td>13.72%</td>\n",
       "      <td>0.31%</td>\n",
       "      <td>0.76%</td>\n",
       "      <td>3.52</td>\n",
       "    </tr>\n",
       "    <tr>\n",
       "      <th>243</th>\n",
       "      <td>Zilean</td>\n",
       "      <td>Support</td>\n",
       "      <td>SUPPORT</td>\n",
       "      <td>B</td>\n",
       "      <td>45.21</td>\n",
       "      <td>1.15</td>\n",
       "      <td>50.12%</td>\n",
       "      <td>82.08%</td>\n",
       "      <td>2.11%</td>\n",
       "      <td>0.76%</td>\n",
       "      <td>3.03</td>\n",
       "    </tr>\n",
       "    <tr>\n",
       "      <th>244</th>\n",
       "      <td>Zoe</td>\n",
       "      <td>Mage</td>\n",
       "      <td>MID</td>\n",
       "      <td>A</td>\n",
       "      <td>49.82</td>\n",
       "      <td>1.34</td>\n",
       "      <td>50.44%</td>\n",
       "      <td>86.34%</td>\n",
       "      <td>2.98%</td>\n",
       "      <td>1.93%</td>\n",
       "      <td>2.60</td>\n",
       "    </tr>\n",
       "    <tr>\n",
       "      <th>245</th>\n",
       "      <td>Zoe</td>\n",
       "      <td>Mage</td>\n",
       "      <td>SUPPORT</td>\n",
       "      <td>D</td>\n",
       "      <td>32.21</td>\n",
       "      <td>-1.45</td>\n",
       "      <td>48.67%</td>\n",
       "      <td>11.43%</td>\n",
       "      <td>0.40%</td>\n",
       "      <td>1.97%</td>\n",
       "      <td>2.11</td>\n",
       "    </tr>\n",
       "    <tr>\n",
       "      <th>246</th>\n",
       "      <td>Zyra</td>\n",
       "      <td>Mage</td>\n",
       "      <td>SUPPORT</td>\n",
       "      <td>B</td>\n",
       "      <td>46.64</td>\n",
       "      <td>-0.95</td>\n",
       "      <td>51.44%</td>\n",
       "      <td>90.88%</td>\n",
       "      <td>2.87%</td>\n",
       "      <td>1.96%</td>\n",
       "      <td>2.06</td>\n",
       "    </tr>\n",
       "  </tbody>\n",
       "</table>\n",
       "<p>247 rows × 11 columns</p>\n",
       "</div>"
      ],
      "text/plain": [
       "       Name     Class     Role Tier  Score  Trend   Win %  Role %  Pick %  \\\n",
       "0    Aatrox   Fighter      TOP  God  71.25  -3.39  48.84%  92.28%   7.01%   \n",
       "1      Ahri      Mage      MID  God  77.12  -5.03  50.90%  95.23%  10.63%   \n",
       "2     Akali  Assassin      MID    A  55.37  -5.08  48.18%  78.45%   5.99%   \n",
       "3     Akali  Assassin      TOP    C  36.35  -0.60  48.50%  20.39%   1.45%   \n",
       "4    Akshan  Marksman      MID    B  47.25  -1.50  50.15%  69.32%   2.88%   \n",
       "..      ...       ...      ...  ...    ...    ...     ...     ...     ...   \n",
       "242  Zilean   Support      MID    A  52.02   4.90  53.91%  13.72%   0.31%   \n",
       "243  Zilean   Support  SUPPORT    B  45.21   1.15  50.12%  82.08%   2.11%   \n",
       "244     Zoe      Mage      MID    A  49.82   1.34  50.44%  86.34%   2.98%   \n",
       "245     Zoe      Mage  SUPPORT    D  32.21  -1.45  48.67%  11.43%   0.40%   \n",
       "246    Zyra      Mage  SUPPORT    B  46.64  -0.95  51.44%  90.88%   2.87%   \n",
       "\n",
       "     Ban %   KDA  \n",
       "0    5.81%  1.85  \n",
       "1    6.47%  2.63  \n",
       "2    8.10%  2.30  \n",
       "3    8.10%  2.06  \n",
       "4    5.94%  2.16  \n",
       "..     ...   ...  \n",
       "242  0.76%  3.52  \n",
       "243  0.76%  3.03  \n",
       "244  1.93%  2.60  \n",
       "245  1.97%  2.11  \n",
       "246  1.96%  2.06  \n",
       "\n",
       "[247 rows x 11 columns]"
      ]
     },
     "execution_count": 2,
     "metadata": {},
     "output_type": "execute_result"
    }
   ],
   "source": [
    "df = pd.read_csv(\"./League of Legends Champion Stats 13.13.csv\", sep=';') #reading the csv file\n",
    "df #running the df"
   ]
  },
  {
   "cell_type": "code",
   "execution_count": 3,
   "metadata": {
    "cell_id": "c3a9e1ae20a94344ac53321b30a216c9",
    "deepnote_cell_type": "code",
    "deepnote_to_be_reexecuted": false,
    "execution_millis": 20,
    "execution_start": 1695796816201,
    "source_hash": "14f60b8f"
   },
   "outputs": [
    {
     "data": {
      "text/plain": [
       "(247, 11)"
      ]
     },
     "execution_count": 3,
     "metadata": {},
     "output_type": "execute_result"
    }
   ],
   "source": [
    "df.shape"
   ]
  },
  {
   "cell_type": "markdown",
   "metadata": {
    "cell_id": "2e6cc63a73e3457696339d48ee59f24f",
    "deepnote_cell_type": "markdown"
   },
   "source": [
    "As the dataset shows, there are 247 rows and 11 columns. However there are some champions with that can be played at different roles, hence why you see duplicates of them, such as Akali. "
   ]
  },
  {
   "cell_type": "markdown",
   "metadata": {
    "cell_id": "5d94288d8f7c4c9d8b278922d0f53532",
    "deepnote_cell_type": "markdown"
   },
   "source": [
    "Below, we are exploring the dataset more as we want to see the amount of values certain columns have. "
   ]
  },
  {
   "cell_type": "code",
   "execution_count": 4,
   "metadata": {
    "cell_id": "571d5327390a44c28670eab31d7129b3",
    "deepnote_cell_type": "code",
    "deepnote_to_be_reexecuted": false,
    "execution_millis": 28,
    "execution_start": 1695796816202,
    "source_hash": "bf2efb27"
   },
   "outputs": [
    {
     "data": {
      "text/plain": [
       "Name     163\n",
       "Class      6\n",
       "Role       5\n",
       "Tier       6\n",
       "dtype: int64"
      ]
     },
     "execution_count": 4,
     "metadata": {},
     "output_type": "execute_result"
    }
   ],
   "source": [
    "df[[\"Name\", \"Class\", \"Role\",\"Tier\"]].nunique()"
   ]
  },
  {
   "cell_type": "code",
   "execution_count": 5,
   "metadata": {
    "cell_id": "f2337bb29ca14ea3be791d75c4037e19",
    "deepnote_cell_type": "code",
    "deepnote_to_be_reexecuted": false,
    "execution_millis": 271,
    "execution_start": 1695796816251,
    "source_hash": "f88152d9"
   },
   "outputs": [
    {
     "data": {
      "application/vnd.deepnote.dataframe.v3+json": {
       "column_count": 3,
       "columns": [
        {
         "dtype": "float64",
         "name": "Score",
         "stats": {
          "histogram": [
           {
            "bin_end": 37.58950539092834,
            "bin_start": 14.321672656587047,
            "count": 2
           },
           {
            "bin_end": 60.857338125269635,
            "bin_start": 37.58950539092834,
            "count": 4
           },
           {
            "bin_end": 84.12517085961093,
            "bin_start": 60.857338125269635,
            "count": 0
           },
           {
            "bin_end": 107.39300359395222,
            "bin_start": 84.12517085961093,
            "count": 1
           },
           {
            "bin_end": 130.66083632829353,
            "bin_start": 107.39300359395222,
            "count": 0
           },
           {
            "bin_end": 153.9286690626348,
            "bin_start": 130.66083632829353,
            "count": 0
           },
           {
            "bin_end": 177.19650179697612,
            "bin_start": 153.9286690626348,
            "count": 0
           },
           {
            "bin_end": 200.4643345313174,
            "bin_start": 177.19650179697612,
            "count": 0
           },
           {
            "bin_end": 223.7321672656587,
            "bin_start": 200.4643345313174,
            "count": 0
           },
           {
            "bin_end": 247,
            "bin_start": 223.7321672656587,
            "count": 1
           }
          ],
          "max": "247.0",
          "min": "14.321672656587047",
          "nan_count": 0,
          "unique_count": 8
         }
        },
        {
         "dtype": "float64",
         "name": "Trend",
         "stats": {
          "histogram": [
           {
            "bin_end": 3.559000000000001,
            "bin_start": -23.49,
            "count": 5
           },
           {
            "bin_end": 30.608,
            "bin_start": 3.559000000000001,
            "count": 2
           },
           {
            "bin_end": 57.657,
            "bin_start": 30.608,
            "count": 0
           },
           {
            "bin_end": 84.706,
            "bin_start": 57.657,
            "count": 0
           },
           {
            "bin_end": 111.75500000000001,
            "bin_start": 84.706,
            "count": 0
           },
           {
            "bin_end": 138.80399999999997,
            "bin_start": 111.75500000000001,
            "count": 0
           },
           {
            "bin_end": 165.85299999999998,
            "bin_start": 138.80399999999997,
            "count": 0
           },
           {
            "bin_end": 192.902,
            "bin_start": 165.85299999999998,
            "count": 0
           },
           {
            "bin_end": 219.951,
            "bin_start": 192.902,
            "count": 0
           },
           {
            "bin_end": 247,
            "bin_start": 219.951,
            "count": 1
           }
          ],
          "max": "247.0",
          "min": "-23.49",
          "nan_count": 0,
          "unique_count": 8
         }
        },
        {
         "dtype": "float64",
         "name": "KDA",
         "stats": {
          "histogram": [
           {
            "bin_end": 25.091493430786986,
            "bin_start": 0.43499270087442676,
            "count": 7
           },
           {
            "bin_end": 49.74799416069954,
            "bin_start": 25.091493430786986,
            "count": 0
           },
           {
            "bin_end": 74.40449489061211,
            "bin_start": 49.74799416069954,
            "count": 0
           },
           {
            "bin_end": 99.06099562052466,
            "bin_start": 74.40449489061211,
            "count": 0
           },
           {
            "bin_end": 123.71749635043722,
            "bin_start": 99.06099562052466,
            "count": 0
           },
           {
            "bin_end": 148.3739970803498,
            "bin_start": 123.71749635043722,
            "count": 0
           },
           {
            "bin_end": 173.03049781026235,
            "bin_start": 148.3739970803498,
            "count": 0
           },
           {
            "bin_end": 197.6869985401749,
            "bin_start": 173.03049781026235,
            "count": 0
           },
           {
            "bin_end": 222.34349927008745,
            "bin_start": 197.6869985401749,
            "count": 0
           },
           {
            "bin_end": 247,
            "bin_start": 222.34349927008745,
            "count": 1
           }
          ],
          "max": "247.0",
          "min": "0.43499270087442676",
          "nan_count": 0,
          "unique_count": 8
         }
        },
        {
         "dtype": "object",
         "name": "_deepnote_index_column"
        }
       ],
       "row_count": 8,
       "rows": [
        {
         "KDA": 247,
         "Score": 247,
         "Trend": 247,
         "_deepnote_index_column": "count"
        },
        {
         "KDA": 2.317975708502025,
         "Score": 49.999797570850205,
         "Trend": -0.2337246963562754,
         "_deepnote_index_column": "mean"
        },
        {
         "KDA": 0.43499270087442676,
         "Score": 14.321672656587047,
         "Trend": 4.7596286548458675,
         "_deepnote_index_column": "std"
        },
        {
         "KDA": 1.32,
         "Score": 20.78,
         "Trend": -23.49,
         "_deepnote_index_column": "min"
        },
        {
         "KDA": 2.02,
         "Score": 40.019999999999996,
         "Trend": -2.15,
         "_deepnote_index_column": "25%"
        },
        {
         "KDA": 2.28,
         "Score": 47.38,
         "Trend": 0.03,
         "_deepnote_index_column": "50%"
        },
        {
         "KDA": 2.6,
         "Score": 56.375,
         "Trend": 2.17,
         "_deepnote_index_column": "75%"
        },
        {
         "KDA": 4.18,
         "Score": 92.98,
         "Trend": 13.94,
         "_deepnote_index_column": "max"
        }
       ]
      },
      "text/html": [
       "<div>\n",
       "<style scoped>\n",
       "    .dataframe tbody tr th:only-of-type {\n",
       "        vertical-align: middle;\n",
       "    }\n",
       "\n",
       "    .dataframe tbody tr th {\n",
       "        vertical-align: top;\n",
       "    }\n",
       "\n",
       "    .dataframe thead th {\n",
       "        text-align: right;\n",
       "    }\n",
       "</style>\n",
       "<table border=\"1\" class=\"dataframe\">\n",
       "  <thead>\n",
       "    <tr style=\"text-align: right;\">\n",
       "      <th></th>\n",
       "      <th>Score</th>\n",
       "      <th>Trend</th>\n",
       "      <th>KDA</th>\n",
       "    </tr>\n",
       "  </thead>\n",
       "  <tbody>\n",
       "    <tr>\n",
       "      <th>count</th>\n",
       "      <td>247.000000</td>\n",
       "      <td>247.000000</td>\n",
       "      <td>247.000000</td>\n",
       "    </tr>\n",
       "    <tr>\n",
       "      <th>mean</th>\n",
       "      <td>49.999798</td>\n",
       "      <td>-0.233725</td>\n",
       "      <td>2.317976</td>\n",
       "    </tr>\n",
       "    <tr>\n",
       "      <th>std</th>\n",
       "      <td>14.321673</td>\n",
       "      <td>4.759629</td>\n",
       "      <td>0.434993</td>\n",
       "    </tr>\n",
       "    <tr>\n",
       "      <th>min</th>\n",
       "      <td>20.780000</td>\n",
       "      <td>-23.490000</td>\n",
       "      <td>1.320000</td>\n",
       "    </tr>\n",
       "    <tr>\n",
       "      <th>25%</th>\n",
       "      <td>40.020000</td>\n",
       "      <td>-2.150000</td>\n",
       "      <td>2.020000</td>\n",
       "    </tr>\n",
       "    <tr>\n",
       "      <th>50%</th>\n",
       "      <td>47.380000</td>\n",
       "      <td>0.030000</td>\n",
       "      <td>2.280000</td>\n",
       "    </tr>\n",
       "    <tr>\n",
       "      <th>75%</th>\n",
       "      <td>56.375000</td>\n",
       "      <td>2.170000</td>\n",
       "      <td>2.600000</td>\n",
       "    </tr>\n",
       "    <tr>\n",
       "      <th>max</th>\n",
       "      <td>92.980000</td>\n",
       "      <td>13.940000</td>\n",
       "      <td>4.180000</td>\n",
       "    </tr>\n",
       "  </tbody>\n",
       "</table>\n",
       "</div>"
      ],
      "text/plain": [
       "            Score       Trend         KDA\n",
       "count  247.000000  247.000000  247.000000\n",
       "mean    49.999798   -0.233725    2.317976\n",
       "std     14.321673    4.759629    0.434993\n",
       "min     20.780000  -23.490000    1.320000\n",
       "25%     40.020000   -2.150000    2.020000\n",
       "50%     47.380000    0.030000    2.280000\n",
       "75%     56.375000    2.170000    2.600000\n",
       "max     92.980000   13.940000    4.180000"
      ]
     },
     "execution_count": 5,
     "metadata": {},
     "output_type": "execute_result"
    }
   ],
   "source": [
    "df.describe()"
   ]
  },
  {
   "cell_type": "code",
   "execution_count": 6,
   "metadata": {
    "cell_id": "adc21e5efb9f4e29aa90645da4dba79f",
    "deepnote_cell_type": "code",
    "deepnote_to_be_reexecuted": false,
    "execution_millis": 64,
    "execution_start": 1695796816275,
    "source_hash": "19a2af57"
   },
   "outputs": [
    {
     "data": {
      "text/plain": [
       "A      62\n",
       "B      62\n",
       "C      37\n",
       "S      37\n",
       "D      25\n",
       "God    24\n",
       "Name: Tier, dtype: int64"
      ]
     },
     "execution_count": 6,
     "metadata": {},
     "output_type": "execute_result"
    }
   ],
   "source": [
    "df.Tier.value_counts()"
   ]
  },
  {
   "cell_type": "markdown",
   "metadata": {
    "cell_id": "46756c8784f2408a852cfab651854a61",
    "deepnote_cell_type": "markdown"
   },
   "source": [
    "The A and B are the most common tiers for champions, with God being the least common tier. This is reasonable as there should limit amounts of champions are God Tier (or overpowered/OP) to make the game state fair."
   ]
  },
  {
   "cell_type": "markdown",
   "metadata": {
    "cell_id": "020b869f5a834a799b28289ae3c91c17",
    "deepnote_cell_type": "markdown"
   },
   "source": [
    "## Cleaning the Data"
   ]
  },
  {
   "cell_type": "markdown",
   "metadata": {
    "cell_id": "3b1f165802924c77942a5123768996b9",
    "deepnote_cell_type": "markdown"
   },
   "source": [
    "As the data shows, there appears to be no columns that contain any missing values. Since there is no missing values, we will not need execute df.dropna() as there a value that is in each space. "
   ]
  },
  {
   "cell_type": "code",
   "execution_count": 7,
   "metadata": {
    "cell_id": "4f558f0284ed4291bd3aa06a55bcb592",
    "deepnote_cell_type": "code",
    "deepnote_to_be_reexecuted": false,
    "execution_millis": 97,
    "execution_start": 1695796816280,
    "source_hash": "3ba3a669"
   },
   "outputs": [
    {
     "data": {
      "text/plain": [
       "Name      False\n",
       "Class     False\n",
       "Role      False\n",
       "Tier      False\n",
       "Score     False\n",
       "Trend     False\n",
       "Win %     False\n",
       "Role %    False\n",
       "Pick %    False\n",
       "Ban %     False\n",
       "KDA       False\n",
       "dtype: bool"
      ]
     },
     "execution_count": 7,
     "metadata": {},
     "output_type": "execute_result"
    }
   ],
   "source": [
    "df.isna().any()"
   ]
  },
  {
   "cell_type": "code",
   "execution_count": 8,
   "metadata": {
    "cell_id": "183f7fb606b649ea93ff604dba3ccee1",
    "deepnote_cell_type": "code",
    "deepnote_to_be_reexecuted": false,
    "execution_millis": 82,
    "execution_start": 1695796816326,
    "source_hash": "fd976c2e"
   },
   "outputs": [
    {
     "data": {
      "text/plain": [
       "Name      0\n",
       "Class     0\n",
       "Role      0\n",
       "Tier      0\n",
       "Score     0\n",
       "Trend     0\n",
       "Win %     0\n",
       "Role %    0\n",
       "Pick %    0\n",
       "Ban %     0\n",
       "KDA       0\n",
       "dtype: int64"
      ]
     },
     "execution_count": 8,
     "metadata": {},
     "output_type": "execute_result"
    }
   ],
   "source": [
    "df.isna().sum(axis=0)"
   ]
  },
  {
   "cell_type": "markdown",
   "metadata": {
    "cell_id": "6e152d5f4b214e89ab884b3599853957",
    "deepnote_cell_type": "markdown"
   },
   "source": [
    "#### Converting datatypes"
   ]
  },
  {
   "cell_type": "code",
   "execution_count": 9,
   "metadata": {
    "cell_id": "13a014d7d36a4aed83b799a381566d88",
    "deepnote_cell_type": "code",
    "deepnote_to_be_reexecuted": false,
    "execution_millis": 228,
    "execution_start": 1695796816386,
    "source_hash": "65642ef7"
   },
   "outputs": [],
   "source": [
    "df[\"Win %\"] = df[\"Win %\"].replace(to_replace=\"%\", value=\" \", regex=True)\n",
    "df[\"Role %\"] = df[\"Role %\"].replace(to_replace=\"%\", value=\" \", regex=True)\n",
    "df[\"Pick %\"] = df[\"Pick %\"].replace(to_replace=\"%\", value=\" \", regex=True)\n",
    "df[\"Ban %\"] = df[\"Ban %\"].replace(to_replace=\"%\", value=\" \", regex = True)"
   ]
  },
  {
   "cell_type": "markdown",
   "metadata": {
    "cell_id": "f0e79f82da8f4b66863a66e27f5e1e4e",
    "deepnote_cell_type": "markdown"
   },
   "source": [
    "Some columns have an object dtypes which can be converted into floats that may be useful for later purposes. We are going to convert these columns dtypes."
   ]
  },
  {
   "cell_type": "code",
   "execution_count": 10,
   "metadata": {
    "cell_id": "7f99fe139b864dcba1801e06a74cbd79",
    "deepnote_cell_type": "code",
    "deepnote_to_be_reexecuted": false,
    "execution_millis": 89,
    "execution_start": 1695796816387,
    "source_hash": "2d8d427f"
   },
   "outputs": [],
   "source": [
    "df[\"Win %\"] = df[\"Win %\"].astype('float')\n",
    "df[\"Role %\"] = df[\"Role %\"].astype('float')\n",
    "df[\"Pick %\"] = df[\"Pick %\"].astype(\"float\")\n",
    "df[\"Ban %\"] = df[\"Ban %\"].astype(\"float\")"
   ]
  },
  {
   "cell_type": "markdown",
   "metadata": {
    "cell_id": "3c57c895dc5749f8ab6d0281b86e8a7c",
    "deepnote_cell_type": "markdown"
   },
   "source": [
    "Checking the dytpes to make sure the new columns changed from object to float"
   ]
  },
  {
   "cell_type": "code",
   "execution_count": 11,
   "metadata": {
    "cell_id": "97b58f2c0c574027804965368760db77",
    "deepnote_cell_type": "code",
    "deepnote_to_be_reexecuted": false,
    "execution_millis": 43,
    "execution_start": 1695796816388,
    "source_hash": "52430027"
   },
   "outputs": [
    {
     "data": {
      "text/plain": [
       "Name       object\n",
       "Class      object\n",
       "Role       object\n",
       "Tier       object\n",
       "Score     float64\n",
       "Trend     float64\n",
       "Win %     float64\n",
       "Role %    float64\n",
       "Pick %    float64\n",
       "Ban %     float64\n",
       "KDA       float64\n",
       "dtype: object"
      ]
     },
     "execution_count": 11,
     "metadata": {},
     "output_type": "execute_result"
    }
   ],
   "source": [
    "df.dtypes"
   ]
  },
  {
   "cell_type": "markdown",
   "metadata": {
    "cell_id": "7ebb14bcc47449659e3163a4d2ef2cf4",
    "deepnote_cell_type": "markdown"
   },
   "source": [
    "## Data Visualization"
   ]
  },
  {
   "cell_type": "markdown",
   "metadata": {
    "cell_id": "9eb197383dc04b188e7ffa6683ac53d3",
    "deepnote_cell_type": "markdown"
   },
   "source": [
    "### Giving Context: \n",
    "\n",
    "A question League of Legends players have is what kind of champions is good to pick during a match.  Each player is playing a certain champion in 1 of the 5 roles in a match. As mentioned earlier, League of Legends is run on patches. On each patch, some champions receive a buff while other are nerfed. This is a factor that influences both the win and pick rate of different champions among the 5 roles. As the goal of every League player is to win their match to boost their serotonin, players tend play champions associated with a high winrate more to guarantee a victory, else they will feel sad from a defeat. Champions with a higher winrate and high score rating, attracts more players to play them. Let's visualize the data with `x=Win %` and `y=Score`"
   ]
  },
  {
   "cell_type": "code",
   "execution_count": 12,
   "metadata": {
    "cell_id": "082e6ef9d45346abbaf7ecd60088aea2",
    "deepnote_cell_type": "code",
    "deepnote_to_be_reexecuted": false,
    "execution_millis": 437,
    "execution_start": 1695796816450,
    "source_hash": "ebda3cc2"
   },
   "outputs": [
    {
     "data": {
      "text/html": [
       "\n",
       "<div id=\"altair-viz-f87f6e045fff488ebbfbd04d147bb0ae\"></div>\n",
       "<script type=\"text/javascript\">\n",
       "  var VEGA_DEBUG = (typeof VEGA_DEBUG == \"undefined\") ? {} : VEGA_DEBUG;\n",
       "  (function(spec, embedOpt){\n",
       "    let outputDiv = document.currentScript.previousElementSibling;\n",
       "    if (outputDiv.id !== \"altair-viz-f87f6e045fff488ebbfbd04d147bb0ae\") {\n",
       "      outputDiv = document.getElementById(\"altair-viz-f87f6e045fff488ebbfbd04d147bb0ae\");\n",
       "    }\n",
       "    const paths = {\n",
       "      \"vega\": \"https://cdn.jsdelivr.net/npm//vega@5?noext\",\n",
       "      \"vega-lib\": \"https://cdn.jsdelivr.net/npm//vega-lib?noext\",\n",
       "      \"vega-lite\": \"https://cdn.jsdelivr.net/npm//vega-lite@4.17.0?noext\",\n",
       "      \"vega-embed\": \"https://cdn.jsdelivr.net/npm//vega-embed@6?noext\",\n",
       "    };\n",
       "\n",
       "    function maybeLoadScript(lib, version) {\n",
       "      var key = `${lib.replace(\"-\", \"\")}_version`;\n",
       "      return (VEGA_DEBUG[key] == version) ?\n",
       "        Promise.resolve(paths[lib]) :\n",
       "        new Promise(function(resolve, reject) {\n",
       "          var s = document.createElement('script');\n",
       "          document.getElementsByTagName(\"head\")[0].appendChild(s);\n",
       "          s.async = true;\n",
       "          s.onload = () => {\n",
       "            VEGA_DEBUG[key] = version;\n",
       "            return resolve(paths[lib]);\n",
       "          };\n",
       "          s.onerror = () => reject(`Error loading script: ${paths[lib]}`);\n",
       "          s.src = paths[lib];\n",
       "        });\n",
       "    }\n",
       "\n",
       "    function showError(err) {\n",
       "      outputDiv.innerHTML = `<div class=\"error\" style=\"color:red;\">${err}</div>`;\n",
       "      throw err;\n",
       "    }\n",
       "\n",
       "    function displayChart(vegaEmbed) {\n",
       "      vegaEmbed(outputDiv, spec, embedOpt)\n",
       "        .catch(err => showError(`Javascript Error: ${err.message}<br>This usually means there's a typo in your chart specification. See the javascript console for the full traceback.`));\n",
       "    }\n",
       "\n",
       "    if(typeof define === \"function\" && define.amd) {\n",
       "      requirejs.config({paths});\n",
       "      require([\"vega-embed\"], displayChart, err => showError(`Error loading script: ${err.message}`));\n",
       "    } else {\n",
       "      maybeLoadScript(\"vega\", \"5\")\n",
       "        .then(() => maybeLoadScript(\"vega-lite\", \"4.17.0\"))\n",
       "        .then(() => maybeLoadScript(\"vega-embed\", \"6\"))\n",
       "        .catch(showError)\n",
       "        .then(() => displayChart(vegaEmbed));\n",
       "    }\n",
       "  })({\"config\": {\"view\": {\"continuousWidth\": 400, \"continuousHeight\": 300}}, \"data\": {\"name\": \"data-63b79ee889c299745df26396c1728fdf\"}, \"mark\": \"circle\", \"encoding\": {\"color\": {\"field\": \"Tier\", \"type\": \"nominal\"}, \"tooltip\": [{\"field\": \"Win %\", \"type\": \"quantitative\"}, {\"field\": \"Score\", \"type\": \"quantitative\"}], \"x\": {\"field\": \"Win %\", \"scale\": {\"zero\": false}, \"type\": \"quantitative\"}, \"y\": {\"field\": \"Score\", \"type\": \"quantitative\"}}, \"selection\": {\"selector001\": {\"type\": \"interval\"}}, \"$schema\": \"https://vega.github.io/schema/vega-lite/v4.17.0.json\", \"datasets\": {\"data-63b79ee889c299745df26396c1728fdf\": [{\"Name\": \"Aatrox\", \"Class\": \"Fighter\", \"Role\": \"TOP\", \"Tier\": \"God\", \"Score\": 71.25, \"Trend\": -3.39, \"Win %\": 48.84, \"Role %\": 92.28, \"Pick %\": 7.01, \"Ban %\": 5.81, \"KDA\": 1.85}, {\"Name\": \"Ahri\", \"Class\": \"Mage\", \"Role\": \"MID\", \"Tier\": \"God\", \"Score\": 77.12, \"Trend\": -5.03, \"Win %\": 50.9, \"Role %\": 95.23, \"Pick %\": 10.63, \"Ban %\": 6.47, \"KDA\": 2.63}, {\"Name\": \"Akali\", \"Class\": \"Assassin\", \"Role\": \"MID\", \"Tier\": \"A\", \"Score\": 55.37, \"Trend\": -5.08, \"Win %\": 48.18, \"Role %\": 78.45, \"Pick %\": 5.99, \"Ban %\": 8.1, \"KDA\": 2.3}, {\"Name\": \"Akali\", \"Class\": \"Assassin\", \"Role\": \"TOP\", \"Tier\": \"C\", \"Score\": 36.35, \"Trend\": -0.6, \"Win %\": 48.5, \"Role %\": 20.39, \"Pick %\": 1.45, \"Ban %\": 8.1, \"KDA\": 2.06}, {\"Name\": \"Akshan\", \"Class\": \"Marksman\", \"Role\": \"MID\", \"Tier\": \"B\", \"Score\": 47.25, \"Trend\": -1.5, \"Win %\": 50.15, \"Role %\": 69.32, \"Pick %\": 2.88, \"Ban %\": 5.94, \"KDA\": 2.16}, {\"Name\": \"Akshan\", \"Class\": \"Marksman\", \"Role\": \"TOP\", \"Tier\": \"C\", \"Score\": 37.24, \"Trend\": 0.83, \"Win %\": 50.87, \"Role %\": 22.48, \"Pick %\": 0.96, \"Ban %\": 5.94, \"KDA\": 1.89}, {\"Name\": \"Alistar\", \"Class\": \"Tank\", \"Role\": \"SUPPORT\", \"Tier\": \"A\", \"Score\": 54.33, \"Trend\": 4.6, \"Win %\": 51.13, \"Role %\": 95.57, \"Pick %\": 4.58, \"Ban %\": 1.43, \"KDA\": 2.51}, {\"Name\": \"Amumu\", \"Class\": \"Tank\", \"Role\": \"JUNGLE\", \"Tier\": \"B\", \"Score\": 44.96, \"Trend\": -0.85, \"Win %\": 51.16, \"Role %\": 66.72, \"Pick %\": 2.86, \"Ban %\": 2.1, \"KDA\": 2.64}, {\"Name\": \"Amumu\", \"Class\": \"Tank\", \"Role\": \"SUPPORT\", \"Tier\": \"B\", \"Score\": 40.1, \"Trend\": -1.92, \"Win %\": 51.5, \"Role %\": 31.76, \"Pick %\": 1.1, \"Ban %\": 2.1, \"KDA\": 2.08}, {\"Name\": \"Anivia\", \"Class\": \"Mage\", \"Role\": \"MID\", \"Tier\": \"A\", \"Score\": 50.85, \"Trend\": -1.84, \"Win %\": 51.67, \"Role %\": 79.48, \"Pick %\": 2.22, \"Ban %\": 2.59, \"KDA\": 2.84}, {\"Name\": \"Anivia\", \"Class\": \"Mage\", \"Role\": \"SUPPORT\", \"Tier\": \"D\", \"Score\": 24.49, \"Trend\": -5.76, \"Win %\": 44.86, \"Role %\": 12.07, \"Pick %\": 0.29, \"Ban %\": 2.59, \"KDA\": 2.07}, {\"Name\": \"Annie\", \"Class\": \"Mage\", \"Role\": \"MID\", \"Tier\": \"A\", \"Score\": 48.73, \"Trend\": -8.33, \"Win %\": 50.61, \"Role %\": 79.68, \"Pick %\": 2.93, \"Ban %\": 2.28, \"KDA\": 2.34}, {\"Name\": \"Annie\", \"Class\": \"Mage\", \"Role\": \"SUPPORT\", \"Tier\": \"C\", \"Score\": 36.74, \"Trend\": -3.16, \"Win %\": 50.33, \"Role %\": 15.84, \"Pick %\": 0.6, \"Ban %\": 2.28, \"KDA\": 2.27}, {\"Name\": \"Aphelios\", \"Class\": \"Marksman\", \"Role\": \"ADC\", \"Tier\": \"B\", \"Score\": 44.69, \"Trend\": -23.49, \"Win %\": 47.44, \"Role %\": 97.7, \"Pick %\": 9.01, \"Ban %\": 3.11, \"KDA\": 1.95}, {\"Name\": \"Ashe\", \"Class\": \"Marksman\", \"Role\": \"ADC\", \"Tier\": \"S\", \"Score\": 67.31, \"Trend\": 4.14, \"Win %\": 52.39, \"Role %\": 85.21, \"Pick %\": 15.12, \"Ban %\": 5.7, \"KDA\": 2.45}, {\"Name\": \"Ashe\", \"Class\": \"Marksman\", \"Role\": \"SUPPORT\", \"Tier\": \"C\", \"Score\": 37.02, \"Trend\": 1.58, \"Win %\": 47.67, \"Role %\": 12.55, \"Pick %\": 2.14, \"Ban %\": 5.7, \"KDA\": 2.06}, {\"Name\": \"Aurelion Sol\", \"Class\": \"Mage\", \"Role\": \"MID\", \"Tier\": \"A\", \"Score\": 54.0, \"Trend\": 0.48, \"Win %\": 51.48, \"Role %\": 87.38, \"Pick %\": 3.5, \"Ban %\": 5.2, \"KDA\": 2.64}, {\"Name\": \"Azir\", \"Class\": \"Mage\", \"Role\": \"MID\", \"Tier\": \"A\", \"Score\": 47.51, \"Trend\": 0.27, \"Win %\": 48.12, \"Role %\": 92.08, \"Pick %\": 4.37, \"Ban %\": 1.15, \"KDA\": 2.09}, {\"Name\": \"Bard\", \"Class\": \"Support\", \"Role\": \"SUPPORT\", \"Tier\": \"B\", \"Score\": 43.6, \"Trend\": -2.68, \"Win %\": 49.55, \"Role %\": 95.39, \"Pick %\": 2.14, \"Ban %\": 0.31, \"KDA\": 2.88}, {\"Name\": \"Bel'Veth\", \"Class\": \"Fighter\", \"Role\": \"JUNGLE\", \"Tier\": \"A\", \"Score\": 49.69, \"Trend\": 1.57, \"Win %\": 50.6, \"Role %\": 89.84, \"Pick %\": 4.26, \"Ban %\": 6.09, \"KDA\": 2.41}, {\"Name\": \"Blitzcrank\", \"Class\": \"Tank\", \"Role\": \"SUPPORT\", \"Tier\": \"God\", \"Score\": 79.03, \"Trend\": 4.56, \"Win %\": 50.96, \"Role %\": 97.14, \"Pick %\": 8.78, \"Ban %\": 23.8, \"KDA\": 2.37}, {\"Name\": \"Brand\", \"Class\": \"Mage\", \"Role\": \"SUPPORT\", \"Tier\": \"B\", \"Score\": 41.62, \"Trend\": -3.46, \"Win %\": 49.16, \"Role %\": 72.74, \"Pick %\": 2.96, \"Ban %\": 3.38, \"KDA\": 1.75}, {\"Name\": \"Brand\", \"Class\": \"Mage\", \"Role\": \"MID\", \"Tier\": \"B\", \"Score\": 40.08, \"Trend\": 5.34, \"Win %\": 50.52, \"Role %\": 19.47, \"Pick %\": 0.72, \"Ban %\": 3.38, \"KDA\": 2.06}, {\"Name\": \"Braum\", \"Class\": \"Support\", \"Role\": \"SUPPORT\", \"Tier\": \"B\", \"Score\": 47.38, \"Trend\": 0.89, \"Win %\": 49.83, \"Role %\": 98.48, \"Pick %\": 3.1, \"Ban %\": 0.53, \"KDA\": 2.79}, {\"Name\": \"Caitlyn\", \"Class\": \"Marksman\", \"Role\": \"ADC\", \"Tier\": \"B\", \"Score\": 46.61, \"Trend\": -2.93, \"Win %\": 47.84, \"Role %\": 94.39, \"Pick %\": 8.77, \"Ban %\": 6.08, \"KDA\": 2.12}, {\"Name\": \"Camille\", \"Class\": \"Fighter\", \"Role\": \"TOP\", \"Tier\": \"A\", \"Score\": 50.66, \"Trend\": -0.83, \"Win %\": 50.52, \"Role %\": 92.99, \"Pick %\": 3.26, \"Ban %\": 1.75, \"KDA\": 1.94}, {\"Name\": \"Cassiopeia\", \"Class\": \"Mage\", \"Role\": \"MID\", \"Tier\": \"B\", \"Score\": 47.36, \"Trend\": -1.15, \"Win %\": 51.45, \"Role %\": 73.55, \"Pick %\": 2.3, \"Ban %\": 2.34, \"KDA\": 2.16}, {\"Name\": \"Cassiopeia\", \"Class\": \"Mage\", \"Role\": \"TOP\", \"Tier\": \"C\", \"Score\": 37.99, \"Trend\": -1.37, \"Win %\": 52.33, \"Role %\": 16.69, \"Pick %\": 0.53, \"Ban %\": 2.34, \"KDA\": 1.95}, {\"Name\": \"Cho'Gath\", \"Class\": \"Tank\", \"Role\": \"TOP\", \"Tier\": \"A\", \"Score\": 51.89, \"Trend\": -1.43, \"Win %\": 51.25, \"Role %\": 65.85, \"Pick %\": 3.06, \"Ban %\": 1.32, \"KDA\": 2.07}, {\"Name\": \"Cho'Gath\", \"Class\": \"Tank\", \"Role\": \"MID\", \"Tier\": \"B\", \"Score\": 43.75, \"Trend\": 0.1, \"Win %\": 51.56, \"Role %\": 18.54, \"Pick %\": 0.76, \"Ban %\": 1.32, \"KDA\": 2.41}, {\"Name\": \"Corki\", \"Class\": \"Marksman\", \"Role\": \"MID\", \"Tier\": \"C\", \"Score\": 37.15, \"Trend\": -0.31, \"Win %\": 48.34, \"Role %\": 86.3, \"Pick %\": 0.88, \"Ban %\": 0.18, \"KDA\": 2.19}, {\"Name\": \"Darius\", \"Class\": \"Fighter\", \"Role\": \"TOP\", \"Tier\": \"God\", \"Score\": 89.77, \"Trend\": 2.57, \"Win %\": 49.01, \"Role %\": 92.99, \"Pick %\": 8.46, \"Ban %\": 19.04, \"KDA\": 1.8}, {\"Name\": \"Diana\", \"Class\": \"Fighter\", \"Role\": \"MID\", \"Tier\": \"B\", \"Score\": 40.75, \"Trend\": -2.3, \"Win %\": 49.94, \"Role %\": 24.93, \"Pick %\": 1.18, \"Ban %\": 1.35, \"KDA\": 2.13}, {\"Name\": \"Diana\", \"Class\": \"Fighter\", \"Role\": \"JUNGLE\", \"Tier\": \"C\", \"Score\": 39.37, \"Trend\": -2.64, \"Win %\": 48.59, \"Role %\": 72.61, \"Pick %\": 3.35, \"Ban %\": 1.35, \"KDA\": 2.38}, {\"Name\": \"Dr. Mundo\", \"Class\": \"Marksman\", \"Role\": \"TOP\", \"Tier\": \"A\", \"Score\": 50.46, \"Trend\": -2.71, \"Win %\": 51.84, \"Role %\": 85.89, \"Pick %\": 2.78, \"Ban %\": 2.61, \"KDA\": 1.87}, {\"Name\": \"Draven\", \"Class\": \"Fighter\", \"Role\": \"ADC\", \"Tier\": \"A\", \"Score\": 48.93, \"Trend\": -0.17, \"Win %\": 50.13, \"Role %\": 95.95, \"Pick %\": 6.31, \"Ban %\": 21.39, \"KDA\": 2.14}, {\"Name\": \"Ekko\", \"Class\": \"Assassin\", \"Role\": \"JUNGLE\", \"Tier\": \"A\", \"Score\": 53.28, \"Trend\": 2.72, \"Win %\": 50.55, \"Role %\": 63.13, \"Pick %\": 4.83, \"Ban %\": 3.14, \"KDA\": 2.68}, {\"Name\": \"Ekko\", \"Class\": \"Assassin\", \"Role\": \"MID\", \"Tier\": \"B\", \"Score\": 46.68, \"Trend\": 0.75, \"Win %\": 50.43, \"Role %\": 34.0, \"Pick %\": 2.52, \"Ban %\": 3.14, \"KDA\": 2.24}, {\"Name\": \"Elise\", \"Class\": \"Mage\", \"Role\": \"JUNGLE\", \"Tier\": \"C\", \"Score\": 36.51, \"Trend\": 1.0, \"Win %\": 49.21, \"Role %\": 92.93, \"Pick %\": 1.98, \"Ban %\": 1.72, \"KDA\": 2.71}, {\"Name\": \"Evelynn\", \"Class\": \"Assassin\", \"Role\": \"JUNGLE\", \"Tier\": \"S\", \"Score\": 57.3, \"Trend\": 2.59, \"Win %\": 51.18, \"Role %\": 97.95, \"Pick %\": 4.67, \"Ban %\": 9.69, \"KDA\": 2.95}, {\"Name\": \"Ezreal\", \"Class\": \"Marksman\", \"Role\": \"ADC\", \"Tier\": \"God\", \"Score\": 72.99, \"Trend\": -19.84, \"Win %\": 50.1, \"Role %\": 87.8, \"Pick %\": 19.96, \"Ban %\": 8.96, \"KDA\": 2.49}, {\"Name\": \"Ezreal\", \"Class\": \"Marksman\", \"Role\": \"MID\", \"Tier\": \"D\", \"Score\": 33.67, \"Trend\": -7.35, \"Win %\": 44.02, \"Role %\": 10.31, \"Pick %\": 2.37, \"Ban %\": 8.96, \"KDA\": 1.98}, {\"Name\": \"Fiddlesticks\", \"Class\": \"Mage\", \"Role\": \"JUNGLE\", \"Tier\": \"A\", \"Score\": 48.92, \"Trend\": 0.28, \"Win %\": 51.22, \"Role %\": 79.76, \"Pick %\": 3.48, \"Ban %\": 3.61, \"KDA\": 2.75}, {\"Name\": \"Fiddlesticks\", \"Class\": \"Mage\", \"Role\": \"SUPPORT\", \"Tier\": \"C\", \"Score\": 37.61, \"Trend\": -0.4, \"Win %\": 51.49, \"Role %\": 12.24, \"Pick %\": 0.5, \"Ban %\": 3.53, \"KDA\": 2.03}, {\"Name\": \"Fiora\", \"Class\": \"Fighter\", \"Role\": \"TOP\", \"Tier\": \"S\", \"Score\": 69.54, \"Trend\": 0.38, \"Win %\": 51.21, \"Role %\": 97.48, \"Pick %\": 5.55, \"Ban %\": 13.56, \"KDA\": 1.69}, {\"Name\": \"Fizz\", \"Class\": \"Assassin\", \"Role\": \"MID\", \"Tier\": \"S\", \"Score\": 62.51, \"Trend\": 1.61, \"Win %\": 51.79, \"Role %\": 95.0, \"Pick %\": 5.92, \"Ban %\": 9.4, \"KDA\": 2.39}, {\"Name\": \"Galio\", \"Class\": \"Tank\", \"Role\": \"MID\", \"Tier\": \"B\", \"Score\": 46.34, \"Trend\": 0.19, \"Win %\": 50.84, \"Role %\": 75.81, \"Pick %\": 1.67, \"Ban %\": 0.33, \"KDA\": 2.62}, {\"Name\": \"Galio\", \"Class\": \"Tank\", \"Role\": \"SUPPORT\", \"Tier\": \"C\", \"Score\": 35.96, \"Trend\": 0.01, \"Win %\": 50.22, \"Role %\": 19.28, \"Pick %\": 0.38, \"Ban %\": 0.33, \"KDA\": 2.33}, {\"Name\": \"Gangplank\", \"Class\": \"Fighter\", \"Role\": \"TOP\", \"Tier\": \"S\", \"Score\": 58.79, \"Trend\": 0.16, \"Win %\": 49.58, \"Role %\": 85.39, \"Pick %\": 4.78, \"Ban %\": 4.41, \"KDA\": 1.95}, {\"Name\": \"Gangplank\", \"Class\": \"Fighter\", \"Role\": \"MID\", \"Tier\": \"B\", \"Score\": 44.29, \"Trend\": 1.67, \"Win %\": 52.23, \"Role %\": 13.06, \"Pick %\": 0.76, \"Ban %\": 4.41, \"KDA\": 2.25}, {\"Name\": \"Garen\", \"Class\": \"Fighter\", \"Role\": \"TOP\", \"Tier\": \"S\", \"Score\": 70.64, \"Trend\": 0.3, \"Win %\": 50.59, \"Role %\": 86.57, \"Pick %\": 6.36, \"Ban %\": 2.43, \"KDA\": 1.99}, {\"Name\": \"Gnar\", \"Class\": \"Fighter\", \"Role\": \"TOP\", \"Tier\": \"B\", \"Score\": 40.81, \"Trend\": -1.82, \"Win %\": 47.68, \"Role %\": 95.79, \"Pick %\": 2.9, \"Ban %\": 0.57, \"KDA\": 1.8}, {\"Name\": \"Gragas\", \"Class\": \"Fighter\", \"Role\": \"JUNGLE\", \"Tier\": \"B\", \"Score\": 45.62, \"Trend\": 0.69, \"Win %\": 49.04, \"Role %\": 49.51, \"Pick %\": 3.81, \"Ban %\": 3.23, \"KDA\": 2.8}, {\"Name\": \"Gragas\", \"Class\": \"Fighter\", \"Role\": \"TOP\", \"Tier\": \"C\", \"Score\": 38.22, \"Trend\": -3.15, \"Win %\": 46.45, \"Role %\": 33.32, \"Pick %\": 2.67, \"Ban %\": 3.23, \"KDA\": 1.96}, {\"Name\": \"Gragas\", \"Class\": \"Fighter\", \"Role\": \"MID\", \"Tier\": \"C\", \"Score\": 36.71, \"Trend\": -1.32, \"Win %\": 48.01, \"Role %\": 10.62, \"Pick %\": 0.8, \"Ban %\": 3.23, \"KDA\": 2.26}, {\"Name\": \"Graves\", \"Class\": \"Marksman\", \"Role\": \"JUNGLE\", \"Tier\": \"God\", \"Score\": 72.71, \"Trend\": 1.85, \"Win %\": 50.77, \"Role %\": 91.21, \"Pick %\": 8.58, \"Ban %\": 4.98, \"KDA\": 2.65}, {\"Name\": \"Gwen\", \"Class\": \"Fighter\", \"Role\": \"TOP\", \"Tier\": \"A\", \"Score\": 53.66, \"Trend\": 2.4, \"Win %\": 49.92, \"Role %\": 89.55, \"Pick %\": 4.22, \"Ban %\": 2.41, \"KDA\": 1.7}, {\"Name\": \"Hecarim\", \"Class\": \"Fighter\", \"Role\": \"JUNGLE\", \"Tier\": \"S\", \"Score\": 62.04, \"Trend\": 4.1, \"Win %\": 50.31, \"Role %\": 99.16, \"Pick %\": 6.21, \"Ban %\": 11.3, \"KDA\": 2.65}, {\"Name\": \"Heimerdinger\", \"Class\": \"Mage\", \"Role\": \"MID\", \"Tier\": \"B\", \"Score\": 44.22, \"Trend\": 0.5, \"Win %\": 52.83, \"Role %\": 22.49, \"Pick %\": 0.78, \"Ban %\": 1.53, \"KDA\": 2.01}, {\"Name\": \"Heimerdinger\", \"Class\": \"Mage\", \"Role\": \"SUPPORT\", \"Tier\": \"C\", \"Score\": 39.84, \"Trend\": -0.65, \"Win %\": 50.81, \"Role %\": 48.93, \"Pick %\": 1.57, \"Ban %\": 1.53, \"KDA\": 1.92}, {\"Name\": \"Heimerdinger\", \"Class\": \"Mage\", \"Role\": \"TOP\", \"Tier\": \"D\", \"Score\": 33.45, \"Trend\": -0.59, \"Win %\": 50.64, \"Role %\": 19.31, \"Pick %\": 0.66, \"Ban %\": 1.53, \"KDA\": 1.73}, {\"Name\": \"Illaoi\", \"Class\": \"Fighter\", \"Role\": \"TOP\", \"Tier\": \"S\", \"Score\": 63.63, \"Trend\": 3.5, \"Win %\": 51.46, \"Role %\": 94.01, \"Pick %\": 4.89, \"Ban %\": 12.19, \"KDA\": 1.45}, {\"Name\": \"Irelia\", \"Class\": \"Fighter\", \"Role\": \"TOP\", \"Tier\": \"A\", \"Score\": 54.9, \"Trend\": 0.85, \"Win %\": 49.67, \"Role %\": 51.43, \"Pick %\": 4.14, \"Ban %\": 11.2, \"KDA\": 1.66}, {\"Name\": \"Irelia\", \"Class\": \"Fighter\", \"Role\": \"MID\", \"Tier\": \"A\", \"Score\": 49.15, \"Trend\": 1.54, \"Win %\": 50.01, \"Role %\": 46.91, \"Pick %\": 3.79, \"Ban %\": 11.2, \"KDA\": 1.82}, {\"Name\": \"Ivern\", \"Class\": \"Support\", \"Role\": \"JUNGLE\", \"Tier\": \"A\", \"Score\": 51.46, \"Trend\": -8.06, \"Win %\": 51.35, \"Role %\": 74.38, \"Pick %\": 2.99, \"Ban %\": 5.29, \"KDA\": 3.44}, {\"Name\": \"Ivern\", \"Class\": \"Support\", \"Role\": \"SUPPORT\", \"Tier\": \"D\", \"Score\": 33.65, \"Trend\": -4.87, \"Win %\": 48.47, \"Role %\": 11.09, \"Pick %\": 0.43, \"Ban %\": 5.29, \"KDA\": 2.5}, {\"Name\": \"Janna\", \"Class\": \"Support\", \"Role\": \"SUPPORT\", \"Tier\": \"S\", \"Score\": 61.02, \"Trend\": 2.58, \"Win %\": 52.4, \"Role %\": 98.81, \"Pick %\": 4.92, \"Ban %\": 1.69, \"KDA\": 3.2}, {\"Name\": \"Jarvan IV\", \"Class\": \"Tank\", \"Role\": \"JUNGLE\", \"Tier\": \"S\", \"Score\": 64.68, \"Trend\": 1.7, \"Win %\": 51.45, \"Role %\": 92.12, \"Pick %\": 6.06, \"Ban %\": 2.47, \"KDA\": 3.27}, {\"Name\": \"Jax\", \"Class\": \"Fighter\", \"Role\": \"TOP\", \"Tier\": \"God\", \"Score\": 92.58, \"Trend\": -0.44, \"Win %\": 50.78, \"Role %\": 85.77, \"Pick %\": 8.51, \"Ban %\": 17.43, \"KDA\": 1.71}, {\"Name\": \"Jax\", \"Class\": \"Fighter\", \"Role\": \"JUNGLE\", \"Tier\": \"D\", \"Score\": 32.93, \"Trend\": 4.29, \"Win %\": 50.57, \"Role %\": 11.25, \"Pick %\": 1.1, \"Ban %\": 17.43, \"KDA\": 2.14}, {\"Name\": \"Jayce\", \"Class\": \"Fighter\", \"Role\": \"TOP\", \"Tier\": \"A\", \"Score\": 54.24, \"Trend\": -1.01, \"Win %\": 49.48, \"Role %\": 66.06, \"Pick %\": 4.29, \"Ban %\": 2.77, \"KDA\": 1.82}, {\"Name\": \"Jayce\", \"Class\": \"Fighter\", \"Role\": \"MID\", \"Tier\": \"B\", \"Score\": 45.75, \"Trend\": 0.7, \"Win %\": 50.87, \"Role %\": 31.85, \"Pick %\": 2.1, \"Ban %\": 2.77, \"KDA\": 2.16}, {\"Name\": \"Jhin\", \"Class\": \"Marksman\", \"Role\": \"ADC\", \"Tier\": \"S\", \"Score\": 59.38, \"Trend\": -16.54, \"Win %\": 50.41, \"Role %\": 95.81, \"Pick %\": 11.46, \"Ban %\": 4.05, \"KDA\": 2.82}, {\"Name\": \"Jinx\", \"Class\": \"Marksman\", \"Role\": \"ADC\", \"Tier\": \"A\", \"Score\": 48.29, \"Trend\": -4.48, \"Win %\": 49.15, \"Role %\": 98.11, \"Pick %\": 8.47, \"Ban %\": 1.44, \"KDA\": 2.24}, {\"Name\": \"K'Sante\", \"Class\": \"Fighter\", \"Role\": \"TOP\", \"Tier\": \"S\", \"Score\": 59.69, \"Trend\": -2.15, \"Win %\": 45.25, \"Role %\": 87.99, \"Pick %\": 6.48, \"Ban %\": 5.83, \"KDA\": 1.82}, {\"Name\": \"Kai'Sa\", \"Class\": \"Marksman\", \"Role\": \"ADC\", \"Tier\": \"God\", \"Score\": 92.98, \"Trend\": 3.24, \"Win %\": 51.4, \"Role %\": 91.68, \"Pick %\": 28.67, \"Ban %\": 11.96, \"KDA\": 2.48}, {\"Name\": \"Kalista\", \"Class\": \"Marksman\", \"Role\": \"ADC\", \"Tier\": \"C\", \"Score\": 34.73, \"Trend\": 6.99, \"Win %\": 47.64, \"Role %\": 88.59, \"Pick %\": 2.28, \"Ban %\": 0.68, \"KDA\": 2.12}, {\"Name\": \"Karma\", \"Class\": \"Mage\", \"Role\": \"SUPPORT\", \"Tier\": \"A\", \"Score\": 50.43, \"Trend\": -0.38, \"Win %\": 48.0, \"Role %\": 89.34, \"Pick %\": 5.1, \"Ban %\": 0.93, \"KDA\": 2.55}, {\"Name\": \"Karthus\", \"Class\": \"Mage\", \"Role\": \"ADC\", \"Tier\": \"B\", \"Score\": 46.76, \"Trend\": 6.48, \"Win %\": 54.12, \"Role %\": 34.38, \"Pick %\": 1.84, \"Ban %\": 5.94, \"KDA\": 2.27}, {\"Name\": \"Karthus\", \"Class\": \"Mage\", \"Role\": \"MID\", \"Tier\": \"B\", \"Score\": 42.52, \"Trend\": 3.23, \"Win %\": 51.76, \"Role %\": 10.07, \"Pick %\": 0.47, \"Ban %\": 5.94, \"KDA\": 2.25}, {\"Name\": \"Karthus\", \"Class\": \"Mage\", \"Role\": \"JUNGLE\", \"Tier\": \"C\", \"Score\": 38.01, \"Trend\": -1.81, \"Win %\": 49.56, \"Role %\": 48.67, \"Pick %\": 2.31, \"Ban %\": 5.94, \"KDA\": 2.46}, {\"Name\": \"Kassadin\", \"Class\": \"Assassin\", \"Role\": \"MID\", \"Tier\": \"B\", \"Score\": 45.87, \"Trend\": -1.12, \"Win %\": 50.38, \"Role %\": 95.52, \"Pick %\": 1.92, \"Ban %\": 3.09, \"KDA\": 2.5}, {\"Name\": \"Katarina\", \"Class\": \"Assassin\", \"Role\": \"MID\", \"Tier\": \"S\", \"Score\": 64.8, \"Trend\": 2.24, \"Win %\": 49.37, \"Role %\": 95.1, \"Pick %\": 7.86, \"Ban %\": 12.01, \"KDA\": 2.24}, {\"Name\": \"Kayle\", \"Class\": \"Fighter\", \"Role\": \"TOP\", \"Tier\": \"S\", \"Score\": 59.91, \"Trend\": -2.81, \"Win %\": 52.36, \"Role %\": 84.12, \"Pick %\": 4.17, \"Ban %\": 2.69, \"KDA\": 1.83}, {\"Name\": \"Kayle\", \"Class\": \"Fighter\", \"Role\": \"MID\", \"Tier\": \"B\", \"Score\": 47.19, \"Trend\": -0.96, \"Win %\": 54.21, \"Role %\": 13.41, \"Pick %\": 0.6, \"Ban %\": 2.69, \"KDA\": 2.22}, {\"Name\": \"Kayn\", \"Class\": \"Fighter\", \"Role\": \"JUNGLE\", \"Tier\": \"God\", \"Score\": 83.56, \"Trend\": 7.31, \"Win %\": 51.06, \"Role %\": 93.96, \"Pick %\": 10.28, \"Ban %\": 10.65, \"KDA\": 2.45}, {\"Name\": \"Kennen\", \"Class\": \"Mage\", \"Role\": \"TOP\", \"Tier\": \"C\", \"Score\": 38.75, \"Trend\": -6.52, \"Win %\": 48.76, \"Role %\": 80.59, \"Pick %\": 2.03, \"Ban %\": 1.97, \"KDA\": 1.88}, {\"Name\": \"Kennen\", \"Class\": \"Mage\", \"Role\": \"MID\", \"Tier\": \"C\", \"Score\": 37.55, \"Trend\": -3.41, \"Win %\": 49.12, \"Role %\": 14.67, \"Pick %\": 0.39, \"Ban %\": 1.97, \"KDA\": 2.29}, {\"Name\": \"Kha'Zix\", \"Class\": \"Assassin\", \"Role\": \"JUNGLE\", \"Tier\": \"God\", \"Score\": 89.93, \"Trend\": -3.1, \"Win %\": 51.13, \"Role %\": 99.12, \"Pick %\": 10.1, \"Ban %\": 19.44, \"KDA\": 2.64}, {\"Name\": \"Kindred\", \"Class\": \"Marksman\", \"Role\": \"JUNGLE\", \"Tier\": \"God\", \"Score\": 73.66, \"Trend\": -12.38, \"Win %\": 51.32, \"Role %\": 96.38, \"Pick %\": 7.2, \"Ban %\": 19.82, \"KDA\": 2.31}, {\"Name\": \"Kled\", \"Class\": \"Fighter\", \"Role\": \"TOP\", \"Tier\": \"A\", \"Score\": 48.26, \"Trend\": -0.11, \"Win %\": 52.16, \"Role %\": 88.41, \"Pick %\": 1.98, \"Ban %\": 1.33, \"KDA\": 2.21}, {\"Name\": \"Kog'Maw\", \"Class\": \"Marksman\", \"Role\": \"ADC\", \"Tier\": \"B\", \"Score\": 42.51, \"Trend\": 8.28, \"Win %\": 51.88, \"Role %\": 89.95, \"Pick %\": 2.34, \"Ban %\": 2.26, \"KDA\": 2.13}, {\"Name\": \"LeBlanc\", \"Class\": \"Assassin\", \"Role\": \"MID\", \"Tier\": \"S\", \"Score\": 66.02, \"Trend\": -21.94, \"Win %\": 49.58, \"Role %\": 90.18, \"Pick %\": 6.61, \"Ban %\": 18.83, \"KDA\": 2.74}, {\"Name\": \"Lee Sin\", \"Class\": \"Fighter\", \"Role\": \"JUNGLE\", \"Tier\": \"God\", \"Score\": 91.03, \"Trend\": 13.94, \"Win %\": 47.95, \"Role %\": 92.93, \"Pick %\": 13.32, \"Ban %\": 7.59, \"KDA\": 2.67}, {\"Name\": \"Leona\", \"Class\": \"Tank\", \"Role\": \"SUPPORT\", \"Tier\": \"S\", \"Score\": 57.54, \"Trend\": -0.02, \"Win %\": 51.01, \"Role %\": 98.61, \"Pick %\": 5.49, \"Ban %\": 3.77, \"KDA\": 2.39}, {\"Name\": \"Lillia\", \"Class\": \"Fighter\", \"Role\": \"JUNGLE\", \"Tier\": \"A\", \"Score\": 51.06, \"Trend\": 0.54, \"Win %\": 51.41, \"Role %\": 87.66, \"Pick %\": 3.89, \"Ban %\": 2.04, \"KDA\": 2.75}, {\"Name\": \"Lissandra\", \"Class\": \"Mage\", \"Role\": \"MID\", \"Tier\": \"A\", \"Score\": 47.5, \"Trend\": -3.35, \"Win %\": 49.79, \"Role %\": 92.35, \"Pick %\": 2.95, \"Ban %\": 1.4, \"KDA\": 2.4}, {\"Name\": \"Lucian\", \"Class\": \"Marksman\", \"Role\": \"ADC\", \"Tier\": \"B\", \"Score\": 45.63, \"Trend\": -7.42, \"Win %\": 48.67, \"Role %\": 92.8, \"Pick %\": 7.36, \"Ban %\": 2.3, \"KDA\": 2.22}, {\"Name\": \"Lulu\", \"Class\": \"Support\", \"Role\": \"SUPPORT\", \"Tier\": \"S\", \"Score\": 59.04, \"Trend\": -0.46, \"Win %\": 47.93, \"Role %\": 97.34, \"Pick %\": 6.64, \"Ban %\": 6.75, \"KDA\": 2.85}, {\"Name\": \"Lux\", \"Class\": \"Mage\", \"Role\": \"SUPPORT\", \"Tier\": \"God\", \"Score\": 84.82, \"Trend\": 7.57, \"Win %\": 50.0, \"Role %\": 64.68, \"Pick %\": 11.55, \"Ban %\": 11.12, \"KDA\": 2.36}, {\"Name\": \"Lux\", \"Class\": \"Mage\", \"Role\": \"MID\", \"Tier\": \"S\", \"Score\": 60.79, \"Trend\": -0.11, \"Win %\": 51.03, \"Role %\": 31.83, \"Pick %\": 5.03, \"Ban %\": 11.12, \"KDA\": 2.87}, {\"Name\": \"Malphite\", \"Class\": \"Tank\", \"Role\": \"TOP\", \"Tier\": \"God\", \"Score\": 83.04, \"Trend\": -1.26, \"Win %\": 51.43, \"Role %\": 72.61, \"Pick %\": 6.62, \"Ban %\": 13.84, \"KDA\": 2.48}, {\"Name\": \"Malphite\", \"Class\": \"Tank\", \"Role\": \"MID\", \"Tier\": \"B\", \"Score\": 46.92, \"Trend\": -1.33, \"Win %\": 52.0, \"Role %\": 12.29, \"Pick %\": 1.12, \"Ban %\": 13.84, \"KDA\": 2.55}, {\"Name\": \"Malphite\", \"Class\": \"Tank\", \"Role\": \"SUPPORT\", \"Tier\": \"D\", \"Score\": 30.04, \"Trend\": -4.96, \"Win %\": 46.11, \"Role %\": 11.74, \"Pick %\": 1.09, \"Ban %\": 13.79, \"KDA\": 1.99}, {\"Name\": \"Malzahar\", \"Class\": \"Mage\", \"Role\": \"MID\", \"Tier\": \"A\", \"Score\": 51.78, \"Trend\": -1.03, \"Win %\": 50.78, \"Role %\": 89.78, \"Pick %\": 3.73, \"Ban %\": 5.55, \"KDA\": 2.27}, {\"Name\": \"Maokai\", \"Class\": \"Tank\", \"Role\": \"JUNGLE\", \"Tier\": \"A\", \"Score\": 52.39, \"Trend\": 1.0, \"Win %\": 51.84, \"Role %\": 64.48, \"Pick %\": 3.61, \"Ban %\": 1.08, \"KDA\": 3.05}, {\"Name\": \"Maokai\", \"Class\": \"Tank\", \"Role\": \"SUPPORT\", \"Tier\": \"B\", \"Score\": 46.53, \"Trend\": 5.55, \"Win %\": 54.49, \"Role %\": 18.87, \"Pick %\": 1.01, \"Ban %\": 1.08, \"KDA\": 2.37}, {\"Name\": \"Maokai\", \"Class\": \"Tank\", \"Role\": \"TOP\", \"Tier\": \"B\", \"Score\": 43.6, \"Trend\": 2.19, \"Win %\": 52.33, \"Role %\": 15.61, \"Pick %\": 0.89, \"Ban %\": 1.08, \"KDA\": 2.44}, {\"Name\": \"Master Yi\", \"Class\": \"Assassin\", \"Role\": \"JUNGLE\", \"Tier\": \"God\", \"Score\": 71.87, \"Trend\": -1.37, \"Win %\": 49.7, \"Role %\": 91.72, \"Pick %\": 7.9, \"Ban %\": 19.09, \"KDA\": 2.06}, {\"Name\": \"Milio\", \"Class\": \"Support\", \"Role\": \"SUPPORT\", \"Tier\": \"God\", \"Score\": 81.15, \"Trend\": -11.18, \"Win %\": 50.52, \"Role %\": 99.51, \"Pick %\": 8.81, \"Ban %\": 18.76, \"KDA\": 3.39}, {\"Name\": \"Miss Fortune\", \"Class\": \"Marksman\", \"Role\": \"ADC\", \"Tier\": \"S\", \"Score\": 60.44, \"Trend\": -4.87, \"Win %\": 51.75, \"Role %\": 91.94, \"Pick %\": 12.21, \"Ban %\": 4.64, \"KDA\": 2.31}, {\"Name\": \"Mordekaiser\", \"Class\": \"Fighter\", \"Role\": \"TOP\", \"Tier\": \"God\", \"Score\": 72.79, \"Trend\": -1.18, \"Win %\": 49.87, \"Role %\": 85.39, \"Pick %\": 6.38, \"Ban %\": 11.25, \"KDA\": 1.83}, {\"Name\": \"Morgana\", \"Class\": \"Mage\", \"Role\": \"SUPPORT\", \"Tier\": \"S\", \"Score\": 64.13, \"Trend\": 5.31, \"Win %\": 49.29, \"Role %\": 89.62, \"Pick %\": 5.96, \"Ban %\": 24.57, \"KDA\": 2.36}, {\"Name\": \"Nami\", \"Class\": \"Support\", \"Role\": \"SUPPORT\", \"Tier\": \"A\", \"Score\": 52.82, \"Trend\": -2.31, \"Win %\": 49.25, \"Role %\": 99.39, \"Pick %\": 4.7, \"Ban %\": 0.46, \"KDA\": 2.93}, {\"Name\": \"Nasus\", \"Class\": \"Fighter\", \"Role\": \"TOP\", \"Tier\": \"S\", \"Score\": 66.24, \"Trend\": -5.88, \"Win %\": 51.4, \"Role %\": 81.24, \"Pick %\": 5.26, \"Ban %\": 5.33, \"KDA\": 1.92}, {\"Name\": \"Nasus\", \"Class\": \"Fighter\", \"Role\": \"MID\", \"Tier\": \"B\", \"Score\": 42.5, \"Trend\": 1.0, \"Win %\": 51.71, \"Role %\": 11.6, \"Pick %\": 0.58, \"Ban %\": 5.33, \"KDA\": 2.2}, {\"Name\": \"Nautilus\", \"Class\": \"Tank\", \"Role\": \"SUPPORT\", \"Tier\": \"God\", \"Score\": 87.81, \"Trend\": 8.42, \"Win %\": 50.82, \"Role %\": 96.15, \"Pick %\": 11.97, \"Ban %\": 14.67, \"KDA\": 2.3}, {\"Name\": \"Neeko\", \"Class\": \"Mage\", \"Role\": \"MID\", \"Tier\": \"A\", \"Score\": 54.1, \"Trend\": -11.96, \"Win %\": 51.61, \"Role %\": 47.72, \"Pick %\": 3.25, \"Ban %\": 15.44, \"KDA\": 2.51}, {\"Name\": \"Neeko\", \"Class\": \"Mage\", \"Role\": \"SUPPORT\", \"Tier\": \"B\", \"Score\": 44.74, \"Trend\": -2.19, \"Win %\": 49.94, \"Role %\": 37.24, \"Pick %\": 2.75, \"Ban %\": 15.44, \"KDA\": 2.02}, {\"Name\": \"Nidalee\", \"Class\": \"Assassin\", \"Role\": \"JUNGLE\", \"Tier\": \"A\", \"Score\": 54.05, \"Trend\": 6.14, \"Win %\": 48.74, \"Role %\": 90.77, \"Pick %\": 5.29, \"Ban %\": 5.7, \"KDA\": 2.92}, {\"Name\": \"Nilah\", \"Class\": \"Marksman\", \"Role\": \"ADC\", \"Tier\": \"B\", \"Score\": 45.72, \"Trend\": 5.1, \"Win %\": 52.55, \"Role %\": 97.23, \"Pick %\": 3.03, \"Ban %\": 5.33, \"KDA\": 2.25}, {\"Name\": \"Nocturne\", \"Class\": \"Assassin\", \"Role\": \"JUNGLE\", \"Tier\": \"A\", \"Score\": 56.43, \"Trend\": 3.43, \"Win %\": 51.84, \"Role %\": 94.08, \"Pick %\": 4.79, \"Ban %\": 4.66, \"KDA\": 2.65}, {\"Name\": \"Nunu\", \"Class\": \"Tank\", \"Role\": \"JUNGLE\", \"Tier\": \"B\", \"Score\": 42.05, \"Trend\": -2.96, \"Win %\": 48.11, \"Role %\": 90.95, \"Pick %\": 3.81, \"Ban %\": 0.92, \"KDA\": 2.66}, {\"Name\": \"Olaf\", \"Class\": \"Fighter\", \"Role\": \"TOP\", \"Tier\": \"A\", \"Score\": 48.79, \"Trend\": 0.53, \"Win %\": 51.34, \"Role %\": 86.29, \"Pick %\": 2.82, \"Ban %\": 3.77, \"KDA\": 1.74}, {\"Name\": \"Olaf\", \"Class\": \"Fighter\", \"Role\": \"JUNGLE\", \"Tier\": \"D\", \"Score\": 22.96, \"Trend\": -3.37, \"Win %\": 48.21, \"Role %\": 10.8, \"Pick %\": 0.31, \"Ban %\": 3.77, \"KDA\": 2.17}, {\"Name\": \"Orianna\", \"Class\": \"Mage\", \"Role\": \"MID\", \"Tier\": \"A\", \"Score\": 50.56, \"Trend\": -0.15, \"Win %\": 50.69, \"Role %\": 89.37, \"Pick %\": 2.87, \"Ban %\": 0.27, \"KDA\": 2.76}, {\"Name\": \"Ornn\", \"Class\": \"Tank\", \"Role\": \"TOP\", \"Tier\": \"S\", \"Score\": 60.18, \"Trend\": -1.99, \"Win %\": 50.28, \"Role %\": 93.53, \"Pick %\": 4.4, \"Ban %\": 1.16, \"KDA\": 2.4}, {\"Name\": \"Pantheon\", \"Class\": \"Fighter\", \"Role\": \"MID\", \"Tier\": \"A\", \"Score\": 49.94, \"Trend\": -2.96, \"Win %\": 51.3, \"Role %\": 32.08, \"Pick %\": 2.89, \"Ban %\": 5.56, \"KDA\": 2.29}, {\"Name\": \"Pantheon\", \"Class\": \"Fighter\", \"Role\": \"TOP\", \"Tier\": \"A\", \"Score\": 49.25, \"Trend\": 3.86, \"Win %\": 50.86, \"Role %\": 32.83, \"Pick %\": 2.7, \"Ban %\": 5.56, \"KDA\": 2.03}, {\"Name\": \"Pantheon\", \"Class\": \"Fighter\", \"Role\": \"SUPPORT\", \"Tier\": \"C\", \"Score\": 36.47, \"Trend\": 1.46, \"Win %\": 47.4, \"Role %\": 25.58, \"Pick %\": 2.33, \"Ban %\": 5.56, \"KDA\": 1.85}, {\"Name\": \"Poppy\", \"Class\": \"Tank\", \"Role\": \"TOP\", \"Tier\": \"A\", \"Score\": 49.74, \"Trend\": 0.42, \"Win %\": 51.66, \"Role %\": 42.02, \"Pick %\": 2.35, \"Ban %\": 2.98, \"KDA\": 2.21}, {\"Name\": \"Poppy\", \"Class\": \"Tank\", \"Role\": \"JUNGLE\", \"Tier\": \"B\", \"Score\": 44.39, \"Trend\": 0.46, \"Win %\": 50.7, \"Role %\": 49.46, \"Pick %\": 2.64, \"Ban %\": 2.98, \"KDA\": 2.89}, {\"Name\": \"Pyke\", \"Class\": \"Support\", \"Role\": \"SUPPORT\", \"Tier\": \"S\", \"Score\": 67.1, \"Trend\": 4.07, \"Win %\": 49.12, \"Role %\": 95.33, \"Pick %\": 8.26, \"Ban %\": 12.75, \"KDA\": 2.16}, {\"Name\": \"Qiyana\", \"Class\": \"Assassin\", \"Role\": \"MID\", \"Tier\": \"A\", \"Score\": 47.41, \"Trend\": 5.15, \"Win %\": 50.02, \"Role %\": 82.89, \"Pick %\": 3.1, \"Ban %\": 1.14, \"KDA\": 2.2}, {\"Name\": \"Qiyana\", \"Class\": \"Assassin\", \"Role\": \"JUNGLE\", \"Tier\": \"D\", \"Score\": 20.78, \"Trend\": -2.99, \"Win %\": 46.71, \"Role %\": 11.0, \"Pick %\": 0.39, \"Ban %\": 1.14, \"KDA\": 2.34}, {\"Name\": \"Quinn\", \"Class\": \"Marksman\", \"Role\": \"TOP\", \"Tier\": \"A\", \"Score\": 49.07, \"Trend\": 5.45, \"Win %\": 52.52, \"Role %\": 80.07, \"Pick %\": 2.25, \"Ban %\": 1.36, \"KDA\": 1.97}, {\"Name\": \"Quinn\", \"Class\": \"Marksman\", \"Role\": \"MID\", \"Tier\": \"B\", \"Score\": 44.2, \"Trend\": -2.63, \"Win %\": 52.97, \"Role %\": 11.23, \"Pick %\": 0.29, \"Ban %\": 1.36, \"KDA\": 2.28}, {\"Name\": \"Rakan\", \"Class\": \"Support\", \"Role\": \"SUPPORT\", \"Tier\": \"God\", \"Score\": 70.91, \"Trend\": 3.7, \"Win %\": 51.57, \"Role %\": 98.95, \"Pick %\": 8.24, \"Ban %\": 1.93, \"KDA\": 2.9}, {\"Name\": \"Rammus\", \"Class\": \"Tank\", \"Role\": \"JUNGLE\", \"Tier\": \"A\", \"Score\": 49.63, \"Trend\": -1.58, \"Win %\": 51.87, \"Role %\": 80.9, \"Pick %\": 2.69, \"Ban %\": 8.45, \"KDA\": 3.11}, {\"Name\": \"Rammus\", \"Class\": \"Tank\", \"Role\": \"TOP\", \"Tier\": \"D\", \"Score\": 30.44, \"Trend\": -3.91, \"Win %\": 50.24, \"Role %\": 15.06, \"Pick %\": 0.43, \"Ban %\": 8.45, \"KDA\": 1.61}, {\"Name\": \"Rek'Sai\", \"Class\": \"Fighter\", \"Role\": \"JUNGLE\", \"Tier\": \"S\", \"Score\": 69.23, \"Trend\": -9.71, \"Win %\": 52.87, \"Role %\": 91.38, \"Pick %\": 5.5, \"Ban %\": 18.74, \"KDA\": 2.79}, {\"Name\": \"Rell\", \"Class\": \"Tank\", \"Role\": \"SUPPORT\", \"Tier\": \"God\", \"Score\": 80.81, \"Trend\": 11.71, \"Win %\": 54.34, \"Role %\": 85.97, \"Pick %\": 7.93, \"Ban %\": 13.06, \"KDA\": 2.95}, {\"Name\": \"Rell\", \"Class\": \"Tank\", \"Role\": \"JUNGLE\", \"Tier\": \"B\", \"Score\": 46.63, \"Trend\": 0.0, \"Win %\": 52.51, \"Role %\": 13.0, \"Pick %\": 1.15, \"Ban %\": 13.06, \"KDA\": 3.58}, {\"Name\": \"Renata Glasc\", \"Class\": \"Support\", \"Role\": \"SUPPORT\", \"Tier\": \"B\", \"Score\": 44.57, \"Trend\": -0.25, \"Win %\": 51.03, \"Role %\": 98.68, \"Pick %\": 1.93, \"Ban %\": 0.5, \"KDA\": 2.64}, {\"Name\": \"Renekton\", \"Class\": \"Fighter\", \"Role\": \"TOP\", \"Tier\": \"God\", \"Score\": 77.61, \"Trend\": 12.07, \"Win %\": 50.03, \"Role %\": 91.06, \"Pick %\": 7.64, \"Ban %\": 3.83, \"KDA\": 1.9}, {\"Name\": \"Rengar\", \"Class\": \"Assassin\", \"Role\": \"JUNGLE\", \"Tier\": \"S\", \"Score\": 62.69, \"Trend\": 0.83, \"Win %\": 49.97, \"Role %\": 82.23, \"Pick %\": 5.92, \"Ban %\": 21.29, \"KDA\": 2.37}, {\"Name\": \"Rengar\", \"Class\": \"Assassin\", \"Role\": \"TOP\", \"Tier\": \"C\", \"Score\": 39.96, \"Trend\": -1.09, \"Win %\": 50.65, \"Role %\": 14.21, \"Pick %\": 1.06, \"Ban %\": 21.29, \"KDA\": 2.02}, {\"Name\": \"Riven\", \"Class\": \"Fighter\", \"Role\": \"TOP\", \"Tier\": \"A\", \"Score\": 55.5, \"Trend\": 0.6, \"Win %\": 50.19, \"Role %\": 89.32, \"Pick %\": 4.32, \"Ban %\": 1.51, \"KDA\": 1.81}, {\"Name\": \"Rumble\", \"Class\": \"Fighter\", \"Role\": \"MID\", \"Tier\": \"B\", \"Score\": 47.23, \"Trend\": 6.27, \"Win %\": 53.2, \"Role %\": 18.85, \"Pick %\": 0.65, \"Ban %\": 1.37, \"KDA\": 2.58}, {\"Name\": \"Rumble\", \"Class\": \"Fighter\", \"Role\": \"TOP\", \"Tier\": \"B\", \"Score\": 45.51, \"Trend\": 3.43, \"Win %\": 50.28, \"Role %\": 65.29, \"Pick %\": 2.31, \"Ban %\": 1.37, \"KDA\": 2.12}, {\"Name\": \"Rumble\", \"Class\": \"Fighter\", \"Role\": \"JUNGLE\", \"Tier\": \"D\", \"Score\": 31.2, \"Trend\": 2.43, \"Win %\": 49.62, \"Role %\": 13.22, \"Pick %\": 0.47, \"Ban %\": 1.37, \"KDA\": 2.86}, {\"Name\": \"Ryze\", \"Class\": \"Mage\", \"Role\": \"MID\", \"Tier\": \"B\", \"Score\": 45.59, \"Trend\": -0.42, \"Win %\": 50.26, \"Role %\": 82.64, \"Pick %\": 2.18, \"Ban %\": 0.23, \"KDA\": 2.35}, {\"Name\": \"Ryze\", \"Class\": \"Mage\", \"Role\": \"TOP\", \"Tier\": \"C\", \"Score\": 35.71, \"Trend\": -1.31, \"Win %\": 51.59, \"Role %\": 14.87, \"Pick %\": 0.41, \"Ban %\": 0.23, \"KDA\": 1.98}, {\"Name\": \"Samira\", \"Class\": \"Marksman\", \"Role\": \"ADC\", \"Tier\": \"S\", \"Score\": 57.04, \"Trend\": -4.91, \"Win %\": 49.47, \"Role %\": 97.6, \"Pick %\": 10.77, \"Ban %\": 21.63, \"KDA\": 2.19}, {\"Name\": \"Sejuani\", \"Class\": \"Tank\", \"Role\": \"JUNGLE\", \"Tier\": \"A\", \"Score\": 49.91, \"Trend\": 3.2, \"Win %\": 50.44, \"Role %\": 85.88, \"Pick %\": 3.52, \"Ban %\": 0.72, \"KDA\": 3.27}, {\"Name\": \"Senna\", \"Class\": \"Marksman\", \"Role\": \"SUPPORT\", \"Tier\": \"S\", \"Score\": 62.66, \"Trend\": 1.54, \"Win %\": 50.84, \"Role %\": 91.84, \"Pick %\": 6.86, \"Ban %\": 2.56, \"KDA\": 2.51}, {\"Name\": \"Seraphine\", \"Class\": \"Mage\", \"Role\": \"SUPPORT\", \"Tier\": \"A\", \"Score\": 52.34, \"Trend\": 0.66, \"Win %\": 49.76, \"Role %\": 66.64, \"Pick %\": 4.81, \"Ban %\": 1.33, \"KDA\": 2.45}, {\"Name\": \"Seraphine\", \"Class\": \"Mage\", \"Role\": \"ADC\", \"Tier\": \"A\", \"Score\": 49.21, \"Trend\": 9.81, \"Win %\": 53.81, \"Role %\": 22.28, \"Pick %\": 1.28, \"Ban %\": 1.33, \"KDA\": 3.0}, {\"Name\": \"Seraphine\", \"Class\": \"Mage\", \"Role\": \"MID\", \"Tier\": \"B\", \"Score\": 46.72, \"Trend\": 1.94, \"Win %\": 51.81, \"Role %\": 10.71, \"Pick %\": 0.75, \"Ban %\": 1.33, \"KDA\": 2.93}, {\"Name\": \"Sett\", \"Class\": \"Fighter\", \"Role\": \"TOP\", \"Tier\": \"S\", \"Score\": 65.36, \"Trend\": 0.03, \"Win %\": 49.81, \"Role %\": 82.55, \"Pick %\": 6.05, \"Ban %\": 3.17, \"KDA\": 1.69}, {\"Name\": \"Shaco\", \"Class\": \"Assassin\", \"Role\": \"JUNGLE\", \"Tier\": \"S\", \"Score\": 58.88, \"Trend\": -1.71, \"Win %\": 48.97, \"Role %\": 74.03, \"Pick %\": 5.6, \"Ban %\": 16.77, \"KDA\": 2.7}, {\"Name\": \"Shaco\", \"Class\": \"Assassin\", \"Role\": \"SUPPORT\", \"Tier\": \"C\", \"Score\": 36.03, \"Trend\": -2.37, \"Win %\": 47.6, \"Role %\": 18.41, \"Pick %\": 1.43, \"Ban %\": 16.77, \"KDA\": 2.29}, {\"Name\": \"Shen\", \"Class\": \"Tank\", \"Role\": \"TOP\", \"Tier\": \"S\", \"Score\": 57.59, \"Trend\": 1.12, \"Win %\": 51.53, \"Role %\": 82.25, \"Pick %\": 2.91, \"Ban %\": 0.46, \"KDA\": 2.95}, {\"Name\": \"Shen\", \"Class\": \"Tank\", \"Role\": \"SUPPORT\", \"Tier\": \"D\", \"Score\": 30.62, \"Trend\": -3.85, \"Win %\": 46.95, \"Role %\": 10.97, \"Pick %\": 0.38, \"Ban %\": 0.46, \"KDA\": 2.52}, {\"Name\": \"Shyvana\", \"Class\": \"Fighter\", \"Role\": \"JUNGLE\", \"Tier\": \"D\", \"Score\": 31.35, \"Trend\": -1.37, \"Win %\": 49.07, \"Role %\": 81.87, \"Pick %\": 1.34, \"Ban %\": 0.34, \"KDA\": 2.44}, {\"Name\": \"Shyvana\", \"Class\": \"Fighter\", \"Role\": \"TOP\", \"Tier\": \"D\", \"Score\": 28.01, \"Trend\": 1.2, \"Win %\": 49.04, \"Role %\": 11.87, \"Pick %\": 0.21, \"Ban %\": 0.4, \"KDA\": 1.88}, {\"Name\": \"Singed\", \"Class\": \"Tank\", \"Role\": \"MID\", \"Tier\": \"A\", \"Score\": 48.88, \"Trend\": 0.0, \"Win %\": 54.3, \"Role %\": 10.14, \"Pick %\": 0.22, \"Ban %\": 0.41, \"KDA\": 2.79}, {\"Name\": \"Singed\", \"Class\": \"Tank\", \"Role\": \"TOP\", \"Tier\": \"B\", \"Score\": 40.16, \"Trend\": 0.15, \"Win %\": 50.48, \"Role %\": 77.44, \"Pick %\": 1.56, \"Ban %\": 0.43, \"KDA\": 1.97}, {\"Name\": \"Sion\", \"Class\": \"Tank\", \"Role\": \"TOP\", \"Tier\": \"S\", \"Score\": 57.0, \"Trend\": -5.09, \"Win %\": 49.47, \"Role %\": 78.9, \"Pick %\": 4.99, \"Ban %\": 2.62, \"KDA\": 1.62}, {\"Name\": \"Sion\", \"Class\": \"Tank\", \"Role\": \"MID\", \"Tier\": \"C\", \"Score\": 35.89, \"Trend\": -2.49, \"Win %\": 50.31, \"Role %\": 10.7, \"Pick %\": 0.66, \"Ban %\": 2.62, \"KDA\": 1.32}, {\"Name\": \"Sivir\", \"Class\": \"Marksman\", \"Role\": \"ADC\", \"Tier\": \"B\", \"Score\": 42.9, \"Trend\": 6.74, \"Win %\": 50.57, \"Role %\": 97.18, \"Pick %\": 3.2, \"Ban %\": 0.65, \"KDA\": 2.37}, {\"Name\": \"Skarner\", \"Class\": \"Fighter\", \"Role\": \"JUNGLE\", \"Tier\": \"C\", \"Score\": 38.1, \"Trend\": 2.14, \"Win %\": 52.13, \"Role %\": 78.56, \"Pick %\": 0.86, \"Ban %\": 0.2, \"KDA\": 2.72}, {\"Name\": \"Skarner\", \"Class\": \"Fighter\", \"Role\": \"TOP\", \"Tier\": \"D\", \"Score\": 30.61, \"Trend\": 2.28, \"Win %\": 49.34, \"Role %\": 16.44, \"Pick %\": 0.14, \"Ban %\": 0.18, \"KDA\": 2.21}, {\"Name\": \"Sona\", \"Class\": \"Support\", \"Role\": \"SUPPORT\", \"Tier\": \"A\", \"Score\": 53.15, \"Trend\": 1.33, \"Win %\": 52.29, \"Role %\": 97.95, \"Pick %\": 3.36, \"Ban %\": 0.19, \"KDA\": 2.85}, {\"Name\": \"Soraka\", \"Class\": \"Support\", \"Role\": \"SUPPORT\", \"Tier\": \"S\", \"Score\": 60.35, \"Trend\": 1.97, \"Win %\": 51.66, \"Role %\": 96.76, \"Pick %\": 5.62, \"Ban %\": 1.61, \"KDA\": 2.77}, {\"Name\": \"Swain\", \"Class\": \"Mage\", \"Role\": \"ADC\", \"Tier\": \"A\", \"Score\": 50.89, \"Trend\": 0.0, \"Win %\": 55.5, \"Role %\": 11.54, \"Pick %\": 0.51, \"Ban %\": 2.91, \"KDA\": 2.98}, {\"Name\": \"Swain\", \"Class\": \"Mage\", \"Role\": \"MID\", \"Tier\": \"A\", \"Score\": 49.53, \"Trend\": 2.35, \"Win %\": 52.94, \"Role %\": 24.19, \"Pick %\": 1.29, \"Ban %\": 2.91, \"KDA\": 2.72}, {\"Name\": \"Swain\", \"Class\": \"Mage\", \"Role\": \"SUPPORT\", \"Tier\": \"A\", \"Score\": 49.45, \"Trend\": 2.38, \"Win %\": 50.54, \"Role %\": 57.41, \"Pick %\": 3.69, \"Ban %\": 2.91, \"KDA\": 2.34}, {\"Name\": \"Sylas\", \"Class\": \"Mage\", \"Role\": \"MID\", \"Tier\": \"A\", \"Score\": 55.65, \"Trend\": 0.17, \"Win %\": 49.23, \"Role %\": 57.23, \"Pick %\": 5.79, \"Ban %\": 8.24, \"KDA\": 2.13}, {\"Name\": \"Sylas\", \"Class\": \"Mage\", \"Role\": \"JUNGLE\", \"Tier\": \"C\", \"Score\": 39.44, \"Trend\": -0.52, \"Win %\": 48.69, \"Role %\": 30.22, \"Pick %\": 3.05, \"Ban %\": 8.24, \"KDA\": 2.4}, {\"Name\": \"Syndra\", \"Class\": \"Mage\", \"Role\": \"MID\", \"Tier\": \"A\", \"Score\": 56.32, \"Trend\": 2.63, \"Win %\": 50.55, \"Role %\": 92.2, \"Pick %\": 5.32, \"Ban %\": 2.87, \"KDA\": 2.29}, {\"Name\": \"Tahm Kench\", \"Class\": \"Support\", \"Role\": \"TOP\", \"Tier\": \"C\", \"Score\": 38.72, \"Trend\": -1.8, \"Win %\": 48.0, \"Role %\": 62.72, \"Pick %\": 1.84, \"Ban %\": 0.89, \"KDA\": 2.32}, {\"Name\": \"Tahm Kench\", \"Class\": \"Support\", \"Role\": \"SUPPORT\", \"Tier\": \"C\", \"Score\": 34.87, \"Trend\": -5.55, \"Win %\": 49.08, \"Role %\": 27.7, \"Pick %\": 0.74, \"Ban %\": 0.96, \"KDA\": 2.25}, {\"Name\": \"Taliyah\", \"Class\": \"Mage\", \"Role\": \"MID\", \"Tier\": \"B\", \"Score\": 44.88, \"Trend\": 2.15, \"Win %\": 51.6, \"Role %\": 62.89, \"Pick %\": 1.24, \"Ban %\": 0.34, \"KDA\": 2.32}, {\"Name\": \"Taliyah\", \"Class\": \"Mage\", \"Role\": \"JUNGLE\", \"Tier\": \"D\", \"Score\": 33.28, \"Trend\": 2.33, \"Win %\": 50.82, \"Role %\": 23.12, \"Pick %\": 0.45, \"Ban %\": 0.34, \"KDA\": 2.75}, {\"Name\": \"Talon\", \"Class\": \"Assassin\", \"Role\": \"MID\", \"Tier\": \"A\", \"Score\": 52.37, \"Trend\": 0.53, \"Win %\": 51.25, \"Role %\": 71.73, \"Pick %\": 3.76, \"Ban %\": 2.44, \"KDA\": 2.29}, {\"Name\": \"Talon\", \"Class\": \"Assassin\", \"Role\": \"JUNGLE\", \"Tier\": \"D\", \"Score\": 33.38, \"Trend\": -1.72, \"Win %\": 49.56, \"Role %\": 24.97, \"Pick %\": 1.39, \"Ban %\": 2.44, \"KDA\": 2.51}, {\"Name\": \"Taric\", \"Class\": \"Support\", \"Role\": \"SUPPORT\", \"Tier\": \"A\", \"Score\": 47.44, \"Trend\": -1.88, \"Win %\": 52.17, \"Role %\": 91.8, \"Pick %\": 1.96, \"Ban %\": 0.42, \"KDA\": 2.78}, {\"Name\": \"Teemo\", \"Class\": \"Marksman\", \"Role\": \"TOP\", \"Tier\": \"S\", \"Score\": 58.84, \"Trend\": -1.71, \"Win %\": 50.72, \"Role %\": 70.59, \"Pick %\": 4.37, \"Ban %\": 7.02, \"KDA\": 1.72}, {\"Name\": \"Teemo\", \"Class\": \"Marksman\", \"Role\": \"SUPPORT\", \"Tier\": \"D\", \"Score\": 30.82, \"Trend\": -4.14, \"Win %\": 47.98, \"Role %\": 10.89, \"Pick %\": 0.72, \"Ban %\": 7.69, \"KDA\": 1.73}, {\"Name\": \"Thresh\", \"Class\": \"Support\", \"Role\": \"SUPPORT\", \"Tier\": \"God\", \"Score\": 91.09, \"Trend\": 6.4, \"Win %\": 50.65, \"Role %\": 95.92, \"Pick %\": 13.79, \"Ban %\": 5.98, \"KDA\": 2.58}, {\"Name\": \"Tristana\", \"Class\": \"Marksman\", \"Role\": \"MID\", \"Tier\": \"B\", \"Score\": 47.21, \"Trend\": 4.01, \"Win %\": 50.67, \"Role %\": 31.64, \"Pick %\": 2.91, \"Ban %\": 3.62, \"KDA\": 1.99}, {\"Name\": \"Tristana\", \"Class\": \"Marksman\", \"Role\": \"ADC\", \"Tier\": \"B\", \"Score\": 44.29, \"Trend\": 3.9, \"Win %\": 49.03, \"Role %\": 63.87, \"Pick %\": 6.15, \"Ban %\": 3.62, \"KDA\": 2.2}, {\"Name\": \"Trundle\", \"Class\": \"Fighter\", \"Role\": \"JUNGLE\", \"Tier\": \"C\", \"Score\": 39.07, \"Trend\": 0.94, \"Win %\": 50.87, \"Role %\": 63.74, \"Pick %\": 1.84, \"Ban %\": 0.99, \"KDA\": 2.6}, {\"Name\": \"Trundle\", \"Class\": \"Fighter\", \"Role\": \"TOP\", \"Tier\": \"C\", \"Score\": 35.29, \"Trend\": -1.63, \"Win %\": 51.56, \"Role %\": 31.04, \"Pick %\": 0.8, \"Ban %\": 0.99, \"KDA\": 1.58}, {\"Name\": \"Tryndamere\", \"Class\": \"Fighter\", \"Role\": \"MID\", \"Tier\": \"B\", \"Score\": 41.47, \"Trend\": 1.77, \"Win %\": 51.99, \"Role %\": 11.3, \"Pick %\": 0.32, \"Ban %\": 2.05, \"KDA\": 2.07}, {\"Name\": \"Tryndamere\", \"Class\": \"Fighter\", \"Role\": \"TOP\", \"Tier\": \"B\", \"Score\": 40.25, \"Trend\": -0.88, \"Win %\": 49.36, \"Role %\": 79.39, \"Pick %\": 2.21, \"Ban %\": 2.05, \"KDA\": 1.75}, {\"Name\": \"Twisted Fate\", \"Class\": \"Mage\", \"Role\": \"MID\", \"Tier\": \"B\", \"Score\": 43.98, \"Trend\": -0.59, \"Win %\": 48.43, \"Role %\": 89.24, \"Pick %\": 3.0, \"Ban %\": 0.27, \"KDA\": 2.17}, {\"Name\": \"Twitch\", \"Class\": \"Marksman\", \"Role\": \"ADC\", \"Tier\": \"B\", \"Score\": 46.23, \"Trend\": 3.18, \"Win %\": 51.04, \"Role %\": 76.3, \"Pick %\": 4.53, \"Ban %\": 4.54, \"KDA\": 2.37}, {\"Name\": \"Twitch\", \"Class\": \"Marksman\", \"Role\": \"SUPPORT\", \"Tier\": \"D\", \"Score\": 33.25, \"Trend\": 0.76, \"Win %\": 48.49, \"Role %\": 12.59, \"Pick %\": 0.77, \"Ban %\": 4.54, \"KDA\": 2.08}, {\"Name\": \"Udyr\", \"Class\": \"Fighter\", \"Role\": \"JUNGLE\", \"Tier\": \"C\", \"Score\": 39.12, \"Trend\": 0.8, \"Win %\": 49.9, \"Role %\": 80.64, \"Pick %\": 2.45, \"Ban %\": 2.1, \"KDA\": 2.5}, {\"Name\": \"Udyr\", \"Class\": \"Fighter\", \"Role\": \"TOP\", \"Tier\": \"D\", \"Score\": 32.19, \"Trend\": 2.43, \"Win %\": 50.58, \"Role %\": 16.87, \"Pick %\": 0.52, \"Ban %\": 2.1, \"KDA\": 1.7}, {\"Name\": \"Urgot\", \"Class\": \"Fighter\", \"Role\": \"TOP\", \"Tier\": \"B\", \"Score\": 46.28, \"Trend\": 0.42, \"Win %\": 50.96, \"Role %\": 90.93, \"Pick %\": 2.41, \"Ban %\": 1.0, \"KDA\": 1.94}, {\"Name\": \"Varus\", \"Class\": \"Marksman\", \"Role\": \"ADC\", \"Tier\": \"B\", \"Score\": 45.2, \"Trend\": -1.82, \"Win %\": 49.65, \"Role %\": 76.66, \"Pick %\": 6.08, \"Ban %\": 2.39, \"KDA\": 2.21}, {\"Name\": \"Varus\", \"Class\": \"Marksman\", \"Role\": \"TOP\", \"Tier\": \"D\", \"Score\": 28.59, \"Trend\": -14.81, \"Win %\": 47.32, \"Role %\": 13.88, \"Pick %\": 1.11, \"Ban %\": 2.39, \"KDA\": 1.71}, {\"Name\": \"Vayne\", \"Class\": \"Marksman\", \"Role\": \"ADC\", \"Tier\": \"B\", \"Score\": 44.25, \"Trend\": 3.85, \"Win %\": 49.37, \"Role %\": 81.02, \"Pick %\": 6.32, \"Ban %\": 4.53, \"KDA\": 2.02}, {\"Name\": \"Vayne\", \"Class\": \"Marksman\", \"Role\": \"TOP\", \"Tier\": \"C\", \"Score\": 35.52, \"Trend\": 4.94, \"Win %\": 50.52, \"Role %\": 15.47, \"Pick %\": 1.21, \"Ban %\": 4.53, \"KDA\": 1.55}, {\"Name\": \"Veigar\", \"Class\": \"Mage\", \"Role\": \"MID\", \"Tier\": \"A\", \"Score\": 54.59, \"Trend\": -3.66, \"Win %\": 50.59, \"Role %\": 73.42, \"Pick %\": 4.86, \"Ban %\": 3.97, \"KDA\": 2.17}, {\"Name\": \"Veigar\", \"Class\": \"Mage\", \"Role\": \"ADC\", \"Tier\": \"C\", \"Score\": 39.26, \"Trend\": 7.06, \"Win %\": 51.16, \"Role %\": 13.32, \"Pick %\": 0.82, \"Ban %\": 3.97, \"KDA\": 2.22}, {\"Name\": \"Veigar\", \"Class\": \"Mage\", \"Role\": \"SUPPORT\", \"Tier\": \"D\", \"Score\": 28.09, \"Trend\": 0.0, \"Win %\": 46.5, \"Role %\": 10.67, \"Pick %\": 0.7, \"Ban %\": 4.32, \"KDA\": 1.8}, {\"Name\": \"Vel'Koz\", \"Class\": \"Mage\", \"Role\": \"MID\", \"Tier\": \"B\", \"Score\": 44.1, \"Trend\": 2.21, \"Win %\": 51.38, \"Role %\": 29.58, \"Pick %\": 0.7, \"Ban %\": 0.41, \"KDA\": 2.6}, {\"Name\": \"Vel'Koz\", \"Class\": \"Mage\", \"Role\": \"SUPPORT\", \"Tier\": \"B\", \"Score\": 41.32, \"Trend\": 1.55, \"Win %\": 50.97, \"Role %\": 65.61, \"Pick %\": 1.66, \"Ban %\": 0.41, \"KDA\": 2.14}, {\"Name\": \"Vex\", \"Class\": \"Mage\", \"Role\": \"MID\", \"Tier\": \"A\", \"Score\": 50.2, \"Trend\": -2.15, \"Win %\": 50.6, \"Role %\": 93.02, \"Pick %\": 3.28, \"Ban %\": 3.76, \"KDA\": 2.37}, {\"Name\": \"Vi\", \"Class\": \"Fighter\", \"Role\": \"JUNGLE\", \"Tier\": \"B\", \"Score\": 42.18, \"Trend\": -13.38, \"Win %\": 48.51, \"Role %\": 94.59, \"Pick %\": 4.05, \"Ban %\": 1.94, \"KDA\": 2.3}, {\"Name\": \"Viego\", \"Class\": \"Assassin\", \"Role\": \"JUNGLE\", \"Tier\": \"S\", \"Score\": 70.33, \"Trend\": 5.05, \"Win %\": 49.72, \"Role %\": 95.17, \"Pick %\": 9.12, \"Ban %\": 2.56, \"KDA\": 2.47}, {\"Name\": \"Viktor\", \"Class\": \"Mage\", \"Role\": \"MID\", \"Tier\": \"A\", \"Score\": 54.13, \"Trend\": 2.05, \"Win %\": 51.34, \"Role %\": 94.35, \"Pick %\": 4.28, \"Ban %\": 2.41, \"KDA\": 2.27}, {\"Name\": \"Vladimir\", \"Class\": \"Mage\", \"Role\": \"MID\", \"Tier\": \"A\", \"Score\": 54.65, \"Trend\": 3.61, \"Win %\": 51.53, \"Role %\": 77.73, \"Pick %\": 3.96, \"Ban %\": 5.95, \"KDA\": 2.42}, {\"Name\": \"Vladimir\", \"Class\": \"Mage\", \"Role\": \"TOP\", \"Tier\": \"C\", \"Score\": 34.53, \"Trend\": -0.44, \"Win %\": 49.13, \"Role %\": 20.15, \"Pick %\": 0.99, \"Ban %\": 5.95, \"KDA\": 2.05}, {\"Name\": \"Volibear\", \"Class\": \"Fighter\", \"Role\": \"TOP\", \"Tier\": \"C\", \"Score\": 36.96, \"Trend\": -0.57, \"Win %\": 48.43, \"Role %\": 61.85, \"Pick %\": 2.17, \"Ban %\": 0.63, \"KDA\": 1.64}, {\"Name\": \"Volibear\", \"Class\": \"Fighter\", \"Role\": \"JUNGLE\", \"Tier\": \"D\", \"Score\": 33.68, \"Trend\": -1.42, \"Win %\": 50.15, \"Role %\": 32.98, \"Pick %\": 1.02, \"Ban %\": 0.63, \"KDA\": 2.64}, {\"Name\": \"Warwick\", \"Class\": \"Fighter\", \"Role\": \"JUNGLE\", \"Tier\": \"A\", \"Score\": 49.91, \"Trend\": -3.99, \"Win %\": 50.07, \"Role %\": 68.71, \"Pick %\": 4.74, \"Ban %\": 5.18, \"KDA\": 2.17}, {\"Name\": \"Warwick\", \"Class\": \"Fighter\", \"Role\": \"TOP\", \"Tier\": \"C\", \"Score\": 36.27, \"Trend\": -3.06, \"Win %\": 49.47, \"Role %\": 28.1, \"Pick %\": 1.42, \"Ban %\": 5.18, \"KDA\": 1.79}, {\"Name\": \"Wukong\", \"Class\": \"Fighter\", \"Role\": \"JUNGLE\", \"Tier\": \"C\", \"Score\": 38.79, \"Trend\": -4.57, \"Win %\": 49.13, \"Role %\": 75.46, \"Pick %\": 2.62, \"Ban %\": 1.25, \"KDA\": 2.64}, {\"Name\": \"Wukong\", \"Class\": \"Fighter\", \"Role\": \"TOP\", \"Tier\": \"D\", \"Score\": 33.59, \"Trend\": 0.72, \"Win %\": 49.92, \"Role %\": 18.56, \"Pick %\": 0.58, \"Ban %\": 1.25, \"KDA\": 2.06}, {\"Name\": \"Xayah\", \"Class\": \"Marksman\", \"Role\": \"ADC\", \"Tier\": \"A\", \"Score\": 52.38, \"Trend\": 1.57, \"Win %\": 49.83, \"Role %\": 98.94, \"Pick %\": 9.73, \"Ban %\": 3.88, \"KDA\": 2.3}, {\"Name\": \"Xerath\", \"Class\": \"Mage\", \"Role\": \"SUPPORT\", \"Tier\": \"A\", \"Score\": 53.03, \"Trend\": 0.58, \"Win %\": 51.26, \"Role %\": 70.8, \"Pick %\": 4.09, \"Ban %\": 4.04, \"KDA\": 2.48}, {\"Name\": \"Xerath\", \"Class\": \"Mage\", \"Role\": \"MID\", \"Tier\": \"A\", \"Score\": 48.19, \"Trend\": -2.63, \"Win %\": 50.81, \"Role %\": 26.08, \"Pick %\": 1.44, \"Ban %\": 4.04, \"KDA\": 3.13}, {\"Name\": \"Xin Zhao\", \"Class\": \"Fighter\", \"Role\": \"JUNGLE\", \"Tier\": \"C\", \"Score\": 38.19, \"Trend\": 0.99, \"Win %\": 50.34, \"Role %\": 84.64, \"Pick %\": 2.4, \"Ban %\": 0.41, \"KDA\": 2.25}, {\"Name\": \"Yasuo\", \"Class\": \"Fighter\", \"Role\": \"MID\", \"Tier\": \"God\", \"Score\": 85.15, \"Trend\": -2.72, \"Win %\": 48.78, \"Role %\": 69.95, \"Pick %\": 12.73, \"Ban %\": 21.08, \"KDA\": 1.76}, {\"Name\": \"Yasuo\", \"Class\": \"Fighter\", \"Role\": \"TOP\", \"Tier\": \"B\", \"Score\": 43.76, \"Trend\": -2.39, \"Win %\": 47.51, \"Role %\": 17.19, \"Pick %\": 2.96, \"Ban %\": 21.08, \"KDA\": 1.49}, {\"Name\": \"Yasuo\", \"Class\": \"Fighter\", \"Role\": \"ADC\", \"Tier\": \"B\", \"Score\": 40.1, \"Trend\": 7.72, \"Win %\": 50.87, \"Role %\": 11.31, \"Pick %\": 1.89, \"Ban %\": 21.08, \"KDA\": 2.01}, {\"Name\": \"Yone\", \"Class\": \"Assassin\", \"Role\": \"MID\", \"Tier\": \"S\", \"Score\": 58.02, \"Trend\": -1.12, \"Win %\": 49.25, \"Role %\": 54.68, \"Pick %\": 6.82, \"Ban %\": 7.36, \"KDA\": 1.89}, {\"Name\": \"Yone\", \"Class\": \"Assassin\", \"Role\": \"TOP\", \"Tier\": \"S\", \"Score\": 57.2, \"Trend\": 1.88, \"Win %\": 49.34, \"Role %\": 41.19, \"Pick %\": 4.81, \"Ban %\": 7.36, \"KDA\": 1.63}, {\"Name\": \"Yorick\", \"Class\": \"Fighter\", \"Role\": \"TOP\", \"Tier\": \"A\", \"Score\": 48.83, \"Trend\": 0.63, \"Win %\": 51.68, \"Role %\": 88.56, \"Pick %\": 2.92, \"Ban %\": 4.03, \"KDA\": 1.52}, {\"Name\": \"Yuumi\", \"Class\": \"Support\", \"Role\": \"SUPPORT\", \"Tier\": \"S\", \"Score\": 69.04, \"Trend\": -4.32, \"Win %\": 46.68, \"Role %\": 98.78, \"Pick %\": 7.67, \"Ban %\": 14.06, \"KDA\": 4.18}, {\"Name\": \"Zac\", \"Class\": \"Tank\", \"Role\": \"JUNGLE\", \"Tier\": \"A\", \"Score\": 53.35, \"Trend\": 0.93, \"Win %\": 51.77, \"Role %\": 71.96, \"Pick %\": 3.11, \"Ban %\": 2.51, \"KDA\": 3.59}, {\"Name\": \"Zac\", \"Class\": \"Tank\", \"Role\": \"TOP\", \"Tier\": \"B\", \"Score\": 44.32, \"Trend\": -2.26, \"Win %\": 52.47, \"Role %\": 13.44, \"Pick %\": 0.66, \"Ban %\": 2.51, \"KDA\": 2.69}, {\"Name\": \"Zed\", \"Class\": \"Assassin\", \"Role\": \"MID\", \"Tier\": \"God\", \"Score\": 90.84, \"Trend\": 2.83, \"Win %\": 50.02, \"Role %\": 84.93, \"Pick %\": 11.5, \"Ban %\": 30.48, \"KDA\": 2.26}, {\"Name\": \"Zeri\", \"Class\": \"Marksman\", \"Role\": \"ADC\", \"Tier\": \"C\", \"Score\": 39.89, \"Trend\": 0.19, \"Win %\": 48.18, \"Role %\": 89.31, \"Pick %\": 4.21, \"Ban %\": 3.23, \"KDA\": 2.27}, {\"Name\": \"Ziggs\", \"Class\": \"Mage\", \"Role\": \"MID\", \"Tier\": \"B\", \"Score\": 43.66, \"Trend\": 4.37, \"Win %\": 50.11, \"Role %\": 55.93, \"Pick %\": 1.67, \"Ban %\": 0.41, \"KDA\": 2.34}, {\"Name\": \"Ziggs\", \"Class\": \"Mage\", \"Role\": \"ADC\", \"Tier\": \"B\", \"Score\": 41.4, \"Trend\": 7.33, \"Win %\": 51.54, \"Role %\": 30.6, \"Pick %\": 0.83, \"Ban %\": 0.41, \"KDA\": 2.48}, {\"Name\": \"Ziggs\", \"Class\": \"Mage\", \"Role\": \"SUPPORT\", \"Tier\": \"D\", \"Score\": 31.09, \"Trend\": -3.87, \"Win %\": 48.43, \"Role %\": 12.71, \"Pick %\": 0.37, \"Ban %\": 0.42, \"KDA\": 1.98}, {\"Name\": \"Zilean\", \"Class\": \"Support\", \"Role\": \"MID\", \"Tier\": \"A\", \"Score\": 52.02, \"Trend\": 4.9, \"Win %\": 53.91, \"Role %\": 13.72, \"Pick %\": 0.31, \"Ban %\": 0.76, \"KDA\": 3.52}, {\"Name\": \"Zilean\", \"Class\": \"Support\", \"Role\": \"SUPPORT\", \"Tier\": \"B\", \"Score\": 45.21, \"Trend\": 1.15, \"Win %\": 50.12, \"Role %\": 82.08, \"Pick %\": 2.11, \"Ban %\": 0.76, \"KDA\": 3.03}, {\"Name\": \"Zoe\", \"Class\": \"Mage\", \"Role\": \"MID\", \"Tier\": \"A\", \"Score\": 49.82, \"Trend\": 1.34, \"Win %\": 50.44, \"Role %\": 86.34, \"Pick %\": 2.98, \"Ban %\": 1.93, \"KDA\": 2.6}, {\"Name\": \"Zoe\", \"Class\": \"Mage\", \"Role\": \"SUPPORT\", \"Tier\": \"D\", \"Score\": 32.21, \"Trend\": -1.45, \"Win %\": 48.67, \"Role %\": 11.43, \"Pick %\": 0.4, \"Ban %\": 1.97, \"KDA\": 2.11}, {\"Name\": \"Zyra\", \"Class\": \"Mage\", \"Role\": \"SUPPORT\", \"Tier\": \"B\", \"Score\": 46.64, \"Trend\": -0.95, \"Win %\": 51.44, \"Role %\": 90.88, \"Pick %\": 2.87, \"Ban %\": 1.96, \"KDA\": 2.06}]}}, {\"mode\": \"vega-lite\"});\n",
       "</script>"
      ],
      "text/plain": [
       "alt.Chart(...)"
      ]
     },
     "execution_count": 12,
     "metadata": {},
     "output_type": "execute_result"
    }
   ],
   "source": [
    "sel = alt.selection_interval()\n",
    "\n",
    "c = alt.Chart(df).mark_circle().encode(\n",
    "    x=alt.X(\"Win %\", scale=alt.Scale(zero=False)),\n",
    "    y=\"Score\",\n",
    "    color=\"Tier\",\n",
    "    tooltip=[\"Win %\",\"Score\"],\n",
    ").add_selection(sel)\n",
    "\n",
    "c"
   ]
  },
  {
   "cell_type": "markdown",
   "metadata": {
    "cell_id": "fa21308625a14e8fa67a95665a9f101f",
    "deepnote_cell_type": "markdown"
   },
   "source": [
    "Looking at the scatterplot, it seems to be that champions of a lower Win rate(%) tend to have a lower score than those whose winrate are higher. It seems, that there might be a  relation between Win % and Score, which we will check soon. Most players will not want to play a champion that has a low win rate because people associate these champions with defeats in matches they are played in and instead play champions that have a high win rate, since they are associated with victories in matches. Also, as points are distinct by [Champion] `Tiers`, we can conclude that the higher tiers champions (like God,S,A) will have a better score there is. This leads us to see explore the champion's tier with their associated win, pick, ban rate, and KDA."
   ]
  },
  {
   "cell_type": "code",
   "execution_count": 13,
   "metadata": {
    "cell_id": "14deca936036465388ff8561f116c751",
    "deepnote_cell_type": "code",
    "deepnote_to_be_reexecuted": false,
    "execution_millis": 338,
    "execution_start": 1695796816693,
    "source_hash": "5229a53c"
   },
   "outputs": [
    {
     "data": {
      "text/html": [
       "\n",
       "<div id=\"altair-viz-39537c70748d4c25b57b299c44ca8971\"></div>\n",
       "<script type=\"text/javascript\">\n",
       "  var VEGA_DEBUG = (typeof VEGA_DEBUG == \"undefined\") ? {} : VEGA_DEBUG;\n",
       "  (function(spec, embedOpt){\n",
       "    let outputDiv = document.currentScript.previousElementSibling;\n",
       "    if (outputDiv.id !== \"altair-viz-39537c70748d4c25b57b299c44ca8971\") {\n",
       "      outputDiv = document.getElementById(\"altair-viz-39537c70748d4c25b57b299c44ca8971\");\n",
       "    }\n",
       "    const paths = {\n",
       "      \"vega\": \"https://cdn.jsdelivr.net/npm//vega@5?noext\",\n",
       "      \"vega-lib\": \"https://cdn.jsdelivr.net/npm//vega-lib?noext\",\n",
       "      \"vega-lite\": \"https://cdn.jsdelivr.net/npm//vega-lite@4.17.0?noext\",\n",
       "      \"vega-embed\": \"https://cdn.jsdelivr.net/npm//vega-embed@6?noext\",\n",
       "    };\n",
       "\n",
       "    function maybeLoadScript(lib, version) {\n",
       "      var key = `${lib.replace(\"-\", \"\")}_version`;\n",
       "      return (VEGA_DEBUG[key] == version) ?\n",
       "        Promise.resolve(paths[lib]) :\n",
       "        new Promise(function(resolve, reject) {\n",
       "          var s = document.createElement('script');\n",
       "          document.getElementsByTagName(\"head\")[0].appendChild(s);\n",
       "          s.async = true;\n",
       "          s.onload = () => {\n",
       "            VEGA_DEBUG[key] = version;\n",
       "            return resolve(paths[lib]);\n",
       "          };\n",
       "          s.onerror = () => reject(`Error loading script: ${paths[lib]}`);\n",
       "          s.src = paths[lib];\n",
       "        });\n",
       "    }\n",
       "\n",
       "    function showError(err) {\n",
       "      outputDiv.innerHTML = `<div class=\"error\" style=\"color:red;\">${err}</div>`;\n",
       "      throw err;\n",
       "    }\n",
       "\n",
       "    function displayChart(vegaEmbed) {\n",
       "      vegaEmbed(outputDiv, spec, embedOpt)\n",
       "        .catch(err => showError(`Javascript Error: ${err.message}<br>This usually means there's a typo in your chart specification. See the javascript console for the full traceback.`));\n",
       "    }\n",
       "\n",
       "    if(typeof define === \"function\" && define.amd) {\n",
       "      requirejs.config({paths});\n",
       "      require([\"vega-embed\"], displayChart, err => showError(`Error loading script: ${err.message}`));\n",
       "    } else {\n",
       "      maybeLoadScript(\"vega\", \"5\")\n",
       "        .then(() => maybeLoadScript(\"vega-lite\", \"4.17.0\"))\n",
       "        .then(() => maybeLoadScript(\"vega-embed\", \"6\"))\n",
       "        .catch(showError)\n",
       "        .then(() => displayChart(vegaEmbed));\n",
       "    }\n",
       "  })({\"config\": {\"view\": {\"continuousWidth\": 400, \"continuousHeight\": 300}}, \"hconcat\": [{\"mark\": \"bar\", \"encoding\": {\"x\": {\"field\": \"Tier\", \"type\": \"nominal\"}, \"y\": {\"aggregate\": \"mean\", \"field\": \"Win %\", \"type\": \"quantitative\"}}}, {\"mark\": \"bar\", \"encoding\": {\"x\": {\"field\": \"Tier\", \"type\": \"nominal\"}, \"y\": {\"aggregate\": \"mean\", \"field\": \"Pick %\", \"type\": \"quantitative\"}}}, {\"mark\": \"bar\", \"encoding\": {\"x\": {\"field\": \"Tier\", \"type\": \"nominal\"}, \"y\": {\"aggregate\": \"mean\", \"field\": \"Ban %\", \"type\": \"quantitative\"}}}, {\"mark\": \"bar\", \"encoding\": {\"x\": {\"field\": \"Tier\", \"type\": \"nominal\"}, \"y\": {\"aggregate\": \"mean\", \"field\": \"KDA\", \"type\": \"quantitative\"}}}], \"data\": {\"name\": \"data-63b79ee889c299745df26396c1728fdf\"}, \"$schema\": \"https://vega.github.io/schema/vega-lite/v4.17.0.json\", \"datasets\": {\"data-63b79ee889c299745df26396c1728fdf\": [{\"Name\": \"Aatrox\", \"Class\": \"Fighter\", \"Role\": \"TOP\", \"Tier\": \"God\", \"Score\": 71.25, \"Trend\": -3.39, \"Win %\": 48.84, \"Role %\": 92.28, \"Pick %\": 7.01, \"Ban %\": 5.81, \"KDA\": 1.85}, {\"Name\": \"Ahri\", \"Class\": \"Mage\", \"Role\": \"MID\", \"Tier\": \"God\", \"Score\": 77.12, \"Trend\": -5.03, \"Win %\": 50.9, \"Role %\": 95.23, \"Pick %\": 10.63, \"Ban %\": 6.47, \"KDA\": 2.63}, {\"Name\": \"Akali\", \"Class\": \"Assassin\", \"Role\": \"MID\", \"Tier\": \"A\", \"Score\": 55.37, \"Trend\": -5.08, \"Win %\": 48.18, \"Role %\": 78.45, \"Pick %\": 5.99, \"Ban %\": 8.1, \"KDA\": 2.3}, {\"Name\": \"Akali\", \"Class\": \"Assassin\", \"Role\": \"TOP\", \"Tier\": \"C\", \"Score\": 36.35, \"Trend\": -0.6, \"Win %\": 48.5, \"Role %\": 20.39, \"Pick %\": 1.45, \"Ban %\": 8.1, \"KDA\": 2.06}, {\"Name\": \"Akshan\", \"Class\": \"Marksman\", \"Role\": \"MID\", \"Tier\": \"B\", \"Score\": 47.25, \"Trend\": -1.5, \"Win %\": 50.15, \"Role %\": 69.32, \"Pick %\": 2.88, \"Ban %\": 5.94, \"KDA\": 2.16}, {\"Name\": \"Akshan\", \"Class\": \"Marksman\", \"Role\": \"TOP\", \"Tier\": \"C\", \"Score\": 37.24, \"Trend\": 0.83, \"Win %\": 50.87, \"Role %\": 22.48, \"Pick %\": 0.96, \"Ban %\": 5.94, \"KDA\": 1.89}, {\"Name\": \"Alistar\", \"Class\": \"Tank\", \"Role\": \"SUPPORT\", \"Tier\": \"A\", \"Score\": 54.33, \"Trend\": 4.6, \"Win %\": 51.13, \"Role %\": 95.57, \"Pick %\": 4.58, \"Ban %\": 1.43, \"KDA\": 2.51}, {\"Name\": \"Amumu\", \"Class\": \"Tank\", \"Role\": \"JUNGLE\", \"Tier\": \"B\", \"Score\": 44.96, \"Trend\": -0.85, \"Win %\": 51.16, \"Role %\": 66.72, \"Pick %\": 2.86, \"Ban %\": 2.1, \"KDA\": 2.64}, {\"Name\": \"Amumu\", \"Class\": \"Tank\", \"Role\": \"SUPPORT\", \"Tier\": \"B\", \"Score\": 40.1, \"Trend\": -1.92, \"Win %\": 51.5, \"Role %\": 31.76, \"Pick %\": 1.1, \"Ban %\": 2.1, \"KDA\": 2.08}, {\"Name\": \"Anivia\", \"Class\": \"Mage\", \"Role\": \"MID\", \"Tier\": \"A\", \"Score\": 50.85, \"Trend\": -1.84, \"Win %\": 51.67, \"Role %\": 79.48, \"Pick %\": 2.22, \"Ban %\": 2.59, \"KDA\": 2.84}, {\"Name\": \"Anivia\", \"Class\": \"Mage\", \"Role\": \"SUPPORT\", \"Tier\": \"D\", \"Score\": 24.49, \"Trend\": -5.76, \"Win %\": 44.86, \"Role %\": 12.07, \"Pick %\": 0.29, \"Ban %\": 2.59, \"KDA\": 2.07}, {\"Name\": \"Annie\", \"Class\": \"Mage\", \"Role\": \"MID\", \"Tier\": \"A\", \"Score\": 48.73, \"Trend\": -8.33, \"Win %\": 50.61, \"Role %\": 79.68, \"Pick %\": 2.93, \"Ban %\": 2.28, \"KDA\": 2.34}, {\"Name\": \"Annie\", \"Class\": \"Mage\", \"Role\": \"SUPPORT\", \"Tier\": \"C\", \"Score\": 36.74, \"Trend\": -3.16, \"Win %\": 50.33, \"Role %\": 15.84, \"Pick %\": 0.6, \"Ban %\": 2.28, \"KDA\": 2.27}, {\"Name\": \"Aphelios\", \"Class\": \"Marksman\", \"Role\": \"ADC\", \"Tier\": \"B\", \"Score\": 44.69, \"Trend\": -23.49, \"Win %\": 47.44, \"Role %\": 97.7, \"Pick %\": 9.01, \"Ban %\": 3.11, \"KDA\": 1.95}, {\"Name\": \"Ashe\", \"Class\": \"Marksman\", \"Role\": \"ADC\", \"Tier\": \"S\", \"Score\": 67.31, \"Trend\": 4.14, \"Win %\": 52.39, \"Role %\": 85.21, \"Pick %\": 15.12, \"Ban %\": 5.7, \"KDA\": 2.45}, {\"Name\": \"Ashe\", \"Class\": \"Marksman\", \"Role\": \"SUPPORT\", \"Tier\": \"C\", \"Score\": 37.02, \"Trend\": 1.58, \"Win %\": 47.67, \"Role %\": 12.55, \"Pick %\": 2.14, \"Ban %\": 5.7, \"KDA\": 2.06}, {\"Name\": \"Aurelion Sol\", \"Class\": \"Mage\", \"Role\": \"MID\", \"Tier\": \"A\", \"Score\": 54.0, \"Trend\": 0.48, \"Win %\": 51.48, \"Role %\": 87.38, \"Pick %\": 3.5, \"Ban %\": 5.2, \"KDA\": 2.64}, {\"Name\": \"Azir\", \"Class\": \"Mage\", \"Role\": \"MID\", \"Tier\": \"A\", \"Score\": 47.51, \"Trend\": 0.27, \"Win %\": 48.12, \"Role %\": 92.08, \"Pick %\": 4.37, \"Ban %\": 1.15, \"KDA\": 2.09}, {\"Name\": \"Bard\", \"Class\": \"Support\", \"Role\": \"SUPPORT\", \"Tier\": \"B\", \"Score\": 43.6, \"Trend\": -2.68, \"Win %\": 49.55, \"Role %\": 95.39, \"Pick %\": 2.14, \"Ban %\": 0.31, \"KDA\": 2.88}, {\"Name\": \"Bel'Veth\", \"Class\": \"Fighter\", \"Role\": \"JUNGLE\", \"Tier\": \"A\", \"Score\": 49.69, \"Trend\": 1.57, \"Win %\": 50.6, \"Role %\": 89.84, \"Pick %\": 4.26, \"Ban %\": 6.09, \"KDA\": 2.41}, {\"Name\": \"Blitzcrank\", \"Class\": \"Tank\", \"Role\": \"SUPPORT\", \"Tier\": \"God\", \"Score\": 79.03, \"Trend\": 4.56, \"Win %\": 50.96, \"Role %\": 97.14, \"Pick %\": 8.78, \"Ban %\": 23.8, \"KDA\": 2.37}, {\"Name\": \"Brand\", \"Class\": \"Mage\", \"Role\": \"SUPPORT\", \"Tier\": \"B\", \"Score\": 41.62, \"Trend\": -3.46, \"Win %\": 49.16, \"Role %\": 72.74, \"Pick %\": 2.96, \"Ban %\": 3.38, \"KDA\": 1.75}, {\"Name\": \"Brand\", \"Class\": \"Mage\", \"Role\": \"MID\", \"Tier\": \"B\", \"Score\": 40.08, \"Trend\": 5.34, \"Win %\": 50.52, \"Role %\": 19.47, \"Pick %\": 0.72, \"Ban %\": 3.38, \"KDA\": 2.06}, {\"Name\": \"Braum\", \"Class\": \"Support\", \"Role\": \"SUPPORT\", \"Tier\": \"B\", \"Score\": 47.38, \"Trend\": 0.89, \"Win %\": 49.83, \"Role %\": 98.48, \"Pick %\": 3.1, \"Ban %\": 0.53, \"KDA\": 2.79}, {\"Name\": \"Caitlyn\", \"Class\": \"Marksman\", \"Role\": \"ADC\", \"Tier\": \"B\", \"Score\": 46.61, \"Trend\": -2.93, \"Win %\": 47.84, \"Role %\": 94.39, \"Pick %\": 8.77, \"Ban %\": 6.08, \"KDA\": 2.12}, {\"Name\": \"Camille\", \"Class\": \"Fighter\", \"Role\": \"TOP\", \"Tier\": \"A\", \"Score\": 50.66, \"Trend\": -0.83, \"Win %\": 50.52, \"Role %\": 92.99, \"Pick %\": 3.26, \"Ban %\": 1.75, \"KDA\": 1.94}, {\"Name\": \"Cassiopeia\", \"Class\": \"Mage\", \"Role\": \"MID\", \"Tier\": \"B\", \"Score\": 47.36, \"Trend\": -1.15, \"Win %\": 51.45, \"Role %\": 73.55, \"Pick %\": 2.3, \"Ban %\": 2.34, \"KDA\": 2.16}, {\"Name\": \"Cassiopeia\", \"Class\": \"Mage\", \"Role\": \"TOP\", \"Tier\": \"C\", \"Score\": 37.99, \"Trend\": -1.37, \"Win %\": 52.33, \"Role %\": 16.69, \"Pick %\": 0.53, \"Ban %\": 2.34, \"KDA\": 1.95}, {\"Name\": \"Cho'Gath\", \"Class\": \"Tank\", \"Role\": \"TOP\", \"Tier\": \"A\", \"Score\": 51.89, \"Trend\": -1.43, \"Win %\": 51.25, \"Role %\": 65.85, \"Pick %\": 3.06, \"Ban %\": 1.32, \"KDA\": 2.07}, {\"Name\": \"Cho'Gath\", \"Class\": \"Tank\", \"Role\": \"MID\", \"Tier\": \"B\", \"Score\": 43.75, \"Trend\": 0.1, \"Win %\": 51.56, \"Role %\": 18.54, \"Pick %\": 0.76, \"Ban %\": 1.32, \"KDA\": 2.41}, {\"Name\": \"Corki\", \"Class\": \"Marksman\", \"Role\": \"MID\", \"Tier\": \"C\", \"Score\": 37.15, \"Trend\": -0.31, \"Win %\": 48.34, \"Role %\": 86.3, \"Pick %\": 0.88, \"Ban %\": 0.18, \"KDA\": 2.19}, {\"Name\": \"Darius\", \"Class\": \"Fighter\", \"Role\": \"TOP\", \"Tier\": \"God\", \"Score\": 89.77, \"Trend\": 2.57, \"Win %\": 49.01, \"Role %\": 92.99, \"Pick %\": 8.46, \"Ban %\": 19.04, \"KDA\": 1.8}, {\"Name\": \"Diana\", \"Class\": \"Fighter\", \"Role\": \"MID\", \"Tier\": \"B\", \"Score\": 40.75, \"Trend\": -2.3, \"Win %\": 49.94, \"Role %\": 24.93, \"Pick %\": 1.18, \"Ban %\": 1.35, \"KDA\": 2.13}, {\"Name\": \"Diana\", \"Class\": \"Fighter\", \"Role\": \"JUNGLE\", \"Tier\": \"C\", \"Score\": 39.37, \"Trend\": -2.64, \"Win %\": 48.59, \"Role %\": 72.61, \"Pick %\": 3.35, \"Ban %\": 1.35, \"KDA\": 2.38}, {\"Name\": \"Dr. Mundo\", \"Class\": \"Marksman\", \"Role\": \"TOP\", \"Tier\": \"A\", \"Score\": 50.46, \"Trend\": -2.71, \"Win %\": 51.84, \"Role %\": 85.89, \"Pick %\": 2.78, \"Ban %\": 2.61, \"KDA\": 1.87}, {\"Name\": \"Draven\", \"Class\": \"Fighter\", \"Role\": \"ADC\", \"Tier\": \"A\", \"Score\": 48.93, \"Trend\": -0.17, \"Win %\": 50.13, \"Role %\": 95.95, \"Pick %\": 6.31, \"Ban %\": 21.39, \"KDA\": 2.14}, {\"Name\": \"Ekko\", \"Class\": \"Assassin\", \"Role\": \"JUNGLE\", \"Tier\": \"A\", \"Score\": 53.28, \"Trend\": 2.72, \"Win %\": 50.55, \"Role %\": 63.13, \"Pick %\": 4.83, \"Ban %\": 3.14, \"KDA\": 2.68}, {\"Name\": \"Ekko\", \"Class\": \"Assassin\", \"Role\": \"MID\", \"Tier\": \"B\", \"Score\": 46.68, \"Trend\": 0.75, \"Win %\": 50.43, \"Role %\": 34.0, \"Pick %\": 2.52, \"Ban %\": 3.14, \"KDA\": 2.24}, {\"Name\": \"Elise\", \"Class\": \"Mage\", \"Role\": \"JUNGLE\", \"Tier\": \"C\", \"Score\": 36.51, \"Trend\": 1.0, \"Win %\": 49.21, \"Role %\": 92.93, \"Pick %\": 1.98, \"Ban %\": 1.72, \"KDA\": 2.71}, {\"Name\": \"Evelynn\", \"Class\": \"Assassin\", \"Role\": \"JUNGLE\", \"Tier\": \"S\", \"Score\": 57.3, \"Trend\": 2.59, \"Win %\": 51.18, \"Role %\": 97.95, \"Pick %\": 4.67, \"Ban %\": 9.69, \"KDA\": 2.95}, {\"Name\": \"Ezreal\", \"Class\": \"Marksman\", \"Role\": \"ADC\", \"Tier\": \"God\", \"Score\": 72.99, \"Trend\": -19.84, \"Win %\": 50.1, \"Role %\": 87.8, \"Pick %\": 19.96, \"Ban %\": 8.96, \"KDA\": 2.49}, {\"Name\": \"Ezreal\", \"Class\": \"Marksman\", \"Role\": \"MID\", \"Tier\": \"D\", \"Score\": 33.67, \"Trend\": -7.35, \"Win %\": 44.02, \"Role %\": 10.31, \"Pick %\": 2.37, \"Ban %\": 8.96, \"KDA\": 1.98}, {\"Name\": \"Fiddlesticks\", \"Class\": \"Mage\", \"Role\": \"JUNGLE\", \"Tier\": \"A\", \"Score\": 48.92, \"Trend\": 0.28, \"Win %\": 51.22, \"Role %\": 79.76, \"Pick %\": 3.48, \"Ban %\": 3.61, \"KDA\": 2.75}, {\"Name\": \"Fiddlesticks\", \"Class\": \"Mage\", \"Role\": \"SUPPORT\", \"Tier\": \"C\", \"Score\": 37.61, \"Trend\": -0.4, \"Win %\": 51.49, \"Role %\": 12.24, \"Pick %\": 0.5, \"Ban %\": 3.53, \"KDA\": 2.03}, {\"Name\": \"Fiora\", \"Class\": \"Fighter\", \"Role\": \"TOP\", \"Tier\": \"S\", \"Score\": 69.54, \"Trend\": 0.38, \"Win %\": 51.21, \"Role %\": 97.48, \"Pick %\": 5.55, \"Ban %\": 13.56, \"KDA\": 1.69}, {\"Name\": \"Fizz\", \"Class\": \"Assassin\", \"Role\": \"MID\", \"Tier\": \"S\", \"Score\": 62.51, \"Trend\": 1.61, \"Win %\": 51.79, \"Role %\": 95.0, \"Pick %\": 5.92, \"Ban %\": 9.4, \"KDA\": 2.39}, {\"Name\": \"Galio\", \"Class\": \"Tank\", \"Role\": \"MID\", \"Tier\": \"B\", \"Score\": 46.34, \"Trend\": 0.19, \"Win %\": 50.84, \"Role %\": 75.81, \"Pick %\": 1.67, \"Ban %\": 0.33, \"KDA\": 2.62}, {\"Name\": \"Galio\", \"Class\": \"Tank\", \"Role\": \"SUPPORT\", \"Tier\": \"C\", \"Score\": 35.96, \"Trend\": 0.01, \"Win %\": 50.22, \"Role %\": 19.28, \"Pick %\": 0.38, \"Ban %\": 0.33, \"KDA\": 2.33}, {\"Name\": \"Gangplank\", \"Class\": \"Fighter\", \"Role\": \"TOP\", \"Tier\": \"S\", \"Score\": 58.79, \"Trend\": 0.16, \"Win %\": 49.58, \"Role %\": 85.39, \"Pick %\": 4.78, \"Ban %\": 4.41, \"KDA\": 1.95}, {\"Name\": \"Gangplank\", \"Class\": \"Fighter\", \"Role\": \"MID\", \"Tier\": \"B\", \"Score\": 44.29, \"Trend\": 1.67, \"Win %\": 52.23, \"Role %\": 13.06, \"Pick %\": 0.76, \"Ban %\": 4.41, \"KDA\": 2.25}, {\"Name\": \"Garen\", \"Class\": \"Fighter\", \"Role\": \"TOP\", \"Tier\": \"S\", \"Score\": 70.64, \"Trend\": 0.3, \"Win %\": 50.59, \"Role %\": 86.57, \"Pick %\": 6.36, \"Ban %\": 2.43, \"KDA\": 1.99}, {\"Name\": \"Gnar\", \"Class\": \"Fighter\", \"Role\": \"TOP\", \"Tier\": \"B\", \"Score\": 40.81, \"Trend\": -1.82, \"Win %\": 47.68, \"Role %\": 95.79, \"Pick %\": 2.9, \"Ban %\": 0.57, \"KDA\": 1.8}, {\"Name\": \"Gragas\", \"Class\": \"Fighter\", \"Role\": \"JUNGLE\", \"Tier\": \"B\", \"Score\": 45.62, \"Trend\": 0.69, \"Win %\": 49.04, \"Role %\": 49.51, \"Pick %\": 3.81, \"Ban %\": 3.23, \"KDA\": 2.8}, {\"Name\": \"Gragas\", \"Class\": \"Fighter\", \"Role\": \"TOP\", \"Tier\": \"C\", \"Score\": 38.22, \"Trend\": -3.15, \"Win %\": 46.45, \"Role %\": 33.32, \"Pick %\": 2.67, \"Ban %\": 3.23, \"KDA\": 1.96}, {\"Name\": \"Gragas\", \"Class\": \"Fighter\", \"Role\": \"MID\", \"Tier\": \"C\", \"Score\": 36.71, \"Trend\": -1.32, \"Win %\": 48.01, \"Role %\": 10.62, \"Pick %\": 0.8, \"Ban %\": 3.23, \"KDA\": 2.26}, {\"Name\": \"Graves\", \"Class\": \"Marksman\", \"Role\": \"JUNGLE\", \"Tier\": \"God\", \"Score\": 72.71, \"Trend\": 1.85, \"Win %\": 50.77, \"Role %\": 91.21, \"Pick %\": 8.58, \"Ban %\": 4.98, \"KDA\": 2.65}, {\"Name\": \"Gwen\", \"Class\": \"Fighter\", \"Role\": \"TOP\", \"Tier\": \"A\", \"Score\": 53.66, \"Trend\": 2.4, \"Win %\": 49.92, \"Role %\": 89.55, \"Pick %\": 4.22, \"Ban %\": 2.41, \"KDA\": 1.7}, {\"Name\": \"Hecarim\", \"Class\": \"Fighter\", \"Role\": \"JUNGLE\", \"Tier\": \"S\", \"Score\": 62.04, \"Trend\": 4.1, \"Win %\": 50.31, \"Role %\": 99.16, \"Pick %\": 6.21, \"Ban %\": 11.3, \"KDA\": 2.65}, {\"Name\": \"Heimerdinger\", \"Class\": \"Mage\", \"Role\": \"MID\", \"Tier\": \"B\", \"Score\": 44.22, \"Trend\": 0.5, \"Win %\": 52.83, \"Role %\": 22.49, \"Pick %\": 0.78, \"Ban %\": 1.53, \"KDA\": 2.01}, {\"Name\": \"Heimerdinger\", \"Class\": \"Mage\", \"Role\": \"SUPPORT\", \"Tier\": \"C\", \"Score\": 39.84, \"Trend\": -0.65, \"Win %\": 50.81, \"Role %\": 48.93, \"Pick %\": 1.57, \"Ban %\": 1.53, \"KDA\": 1.92}, {\"Name\": \"Heimerdinger\", \"Class\": \"Mage\", \"Role\": \"TOP\", \"Tier\": \"D\", \"Score\": 33.45, \"Trend\": -0.59, \"Win %\": 50.64, \"Role %\": 19.31, \"Pick %\": 0.66, \"Ban %\": 1.53, \"KDA\": 1.73}, {\"Name\": \"Illaoi\", \"Class\": \"Fighter\", \"Role\": \"TOP\", \"Tier\": \"S\", \"Score\": 63.63, \"Trend\": 3.5, \"Win %\": 51.46, \"Role %\": 94.01, \"Pick %\": 4.89, \"Ban %\": 12.19, \"KDA\": 1.45}, {\"Name\": \"Irelia\", \"Class\": \"Fighter\", \"Role\": \"TOP\", \"Tier\": \"A\", \"Score\": 54.9, \"Trend\": 0.85, \"Win %\": 49.67, \"Role %\": 51.43, \"Pick %\": 4.14, \"Ban %\": 11.2, \"KDA\": 1.66}, {\"Name\": \"Irelia\", \"Class\": \"Fighter\", \"Role\": \"MID\", \"Tier\": \"A\", \"Score\": 49.15, \"Trend\": 1.54, \"Win %\": 50.01, \"Role %\": 46.91, \"Pick %\": 3.79, \"Ban %\": 11.2, \"KDA\": 1.82}, {\"Name\": \"Ivern\", \"Class\": \"Support\", \"Role\": \"JUNGLE\", \"Tier\": \"A\", \"Score\": 51.46, \"Trend\": -8.06, \"Win %\": 51.35, \"Role %\": 74.38, \"Pick %\": 2.99, \"Ban %\": 5.29, \"KDA\": 3.44}, {\"Name\": \"Ivern\", \"Class\": \"Support\", \"Role\": \"SUPPORT\", \"Tier\": \"D\", \"Score\": 33.65, \"Trend\": -4.87, \"Win %\": 48.47, \"Role %\": 11.09, \"Pick %\": 0.43, \"Ban %\": 5.29, \"KDA\": 2.5}, {\"Name\": \"Janna\", \"Class\": \"Support\", \"Role\": \"SUPPORT\", \"Tier\": \"S\", \"Score\": 61.02, \"Trend\": 2.58, \"Win %\": 52.4, \"Role %\": 98.81, \"Pick %\": 4.92, \"Ban %\": 1.69, \"KDA\": 3.2}, {\"Name\": \"Jarvan IV\", \"Class\": \"Tank\", \"Role\": \"JUNGLE\", \"Tier\": \"S\", \"Score\": 64.68, \"Trend\": 1.7, \"Win %\": 51.45, \"Role %\": 92.12, \"Pick %\": 6.06, \"Ban %\": 2.47, \"KDA\": 3.27}, {\"Name\": \"Jax\", \"Class\": \"Fighter\", \"Role\": \"TOP\", \"Tier\": \"God\", \"Score\": 92.58, \"Trend\": -0.44, \"Win %\": 50.78, \"Role %\": 85.77, \"Pick %\": 8.51, \"Ban %\": 17.43, \"KDA\": 1.71}, {\"Name\": \"Jax\", \"Class\": \"Fighter\", \"Role\": \"JUNGLE\", \"Tier\": \"D\", \"Score\": 32.93, \"Trend\": 4.29, \"Win %\": 50.57, \"Role %\": 11.25, \"Pick %\": 1.1, \"Ban %\": 17.43, \"KDA\": 2.14}, {\"Name\": \"Jayce\", \"Class\": \"Fighter\", \"Role\": \"TOP\", \"Tier\": \"A\", \"Score\": 54.24, \"Trend\": -1.01, \"Win %\": 49.48, \"Role %\": 66.06, \"Pick %\": 4.29, \"Ban %\": 2.77, \"KDA\": 1.82}, {\"Name\": \"Jayce\", \"Class\": \"Fighter\", \"Role\": \"MID\", \"Tier\": \"B\", \"Score\": 45.75, \"Trend\": 0.7, \"Win %\": 50.87, \"Role %\": 31.85, \"Pick %\": 2.1, \"Ban %\": 2.77, \"KDA\": 2.16}, {\"Name\": \"Jhin\", \"Class\": \"Marksman\", \"Role\": \"ADC\", \"Tier\": \"S\", \"Score\": 59.38, \"Trend\": -16.54, \"Win %\": 50.41, \"Role %\": 95.81, \"Pick %\": 11.46, \"Ban %\": 4.05, \"KDA\": 2.82}, {\"Name\": \"Jinx\", \"Class\": \"Marksman\", \"Role\": \"ADC\", \"Tier\": \"A\", \"Score\": 48.29, \"Trend\": -4.48, \"Win %\": 49.15, \"Role %\": 98.11, \"Pick %\": 8.47, \"Ban %\": 1.44, \"KDA\": 2.24}, {\"Name\": \"K'Sante\", \"Class\": \"Fighter\", \"Role\": \"TOP\", \"Tier\": \"S\", \"Score\": 59.69, \"Trend\": -2.15, \"Win %\": 45.25, \"Role %\": 87.99, \"Pick %\": 6.48, \"Ban %\": 5.83, \"KDA\": 1.82}, {\"Name\": \"Kai'Sa\", \"Class\": \"Marksman\", \"Role\": \"ADC\", \"Tier\": \"God\", \"Score\": 92.98, \"Trend\": 3.24, \"Win %\": 51.4, \"Role %\": 91.68, \"Pick %\": 28.67, \"Ban %\": 11.96, \"KDA\": 2.48}, {\"Name\": \"Kalista\", \"Class\": \"Marksman\", \"Role\": \"ADC\", \"Tier\": \"C\", \"Score\": 34.73, \"Trend\": 6.99, \"Win %\": 47.64, \"Role %\": 88.59, \"Pick %\": 2.28, \"Ban %\": 0.68, \"KDA\": 2.12}, {\"Name\": \"Karma\", \"Class\": \"Mage\", \"Role\": \"SUPPORT\", \"Tier\": \"A\", \"Score\": 50.43, \"Trend\": -0.38, \"Win %\": 48.0, \"Role %\": 89.34, \"Pick %\": 5.1, \"Ban %\": 0.93, \"KDA\": 2.55}, {\"Name\": \"Karthus\", \"Class\": \"Mage\", \"Role\": \"ADC\", \"Tier\": \"B\", \"Score\": 46.76, \"Trend\": 6.48, \"Win %\": 54.12, \"Role %\": 34.38, \"Pick %\": 1.84, \"Ban %\": 5.94, \"KDA\": 2.27}, {\"Name\": \"Karthus\", \"Class\": \"Mage\", \"Role\": \"MID\", \"Tier\": \"B\", \"Score\": 42.52, \"Trend\": 3.23, \"Win %\": 51.76, \"Role %\": 10.07, \"Pick %\": 0.47, \"Ban %\": 5.94, \"KDA\": 2.25}, {\"Name\": \"Karthus\", \"Class\": \"Mage\", \"Role\": \"JUNGLE\", \"Tier\": \"C\", \"Score\": 38.01, \"Trend\": -1.81, \"Win %\": 49.56, \"Role %\": 48.67, \"Pick %\": 2.31, \"Ban %\": 5.94, \"KDA\": 2.46}, {\"Name\": \"Kassadin\", \"Class\": \"Assassin\", \"Role\": \"MID\", \"Tier\": \"B\", \"Score\": 45.87, \"Trend\": -1.12, \"Win %\": 50.38, \"Role %\": 95.52, \"Pick %\": 1.92, \"Ban %\": 3.09, \"KDA\": 2.5}, {\"Name\": \"Katarina\", \"Class\": \"Assassin\", \"Role\": \"MID\", \"Tier\": \"S\", \"Score\": 64.8, \"Trend\": 2.24, \"Win %\": 49.37, \"Role %\": 95.1, \"Pick %\": 7.86, \"Ban %\": 12.01, \"KDA\": 2.24}, {\"Name\": \"Kayle\", \"Class\": \"Fighter\", \"Role\": \"TOP\", \"Tier\": \"S\", \"Score\": 59.91, \"Trend\": -2.81, \"Win %\": 52.36, \"Role %\": 84.12, \"Pick %\": 4.17, \"Ban %\": 2.69, \"KDA\": 1.83}, {\"Name\": \"Kayle\", \"Class\": \"Fighter\", \"Role\": \"MID\", \"Tier\": \"B\", \"Score\": 47.19, \"Trend\": -0.96, \"Win %\": 54.21, \"Role %\": 13.41, \"Pick %\": 0.6, \"Ban %\": 2.69, \"KDA\": 2.22}, {\"Name\": \"Kayn\", \"Class\": \"Fighter\", \"Role\": \"JUNGLE\", \"Tier\": \"God\", \"Score\": 83.56, \"Trend\": 7.31, \"Win %\": 51.06, \"Role %\": 93.96, \"Pick %\": 10.28, \"Ban %\": 10.65, \"KDA\": 2.45}, {\"Name\": \"Kennen\", \"Class\": \"Mage\", \"Role\": \"TOP\", \"Tier\": \"C\", \"Score\": 38.75, \"Trend\": -6.52, \"Win %\": 48.76, \"Role %\": 80.59, \"Pick %\": 2.03, \"Ban %\": 1.97, \"KDA\": 1.88}, {\"Name\": \"Kennen\", \"Class\": \"Mage\", \"Role\": \"MID\", \"Tier\": \"C\", \"Score\": 37.55, \"Trend\": -3.41, \"Win %\": 49.12, \"Role %\": 14.67, \"Pick %\": 0.39, \"Ban %\": 1.97, \"KDA\": 2.29}, {\"Name\": \"Kha'Zix\", \"Class\": \"Assassin\", \"Role\": \"JUNGLE\", \"Tier\": \"God\", \"Score\": 89.93, \"Trend\": -3.1, \"Win %\": 51.13, \"Role %\": 99.12, \"Pick %\": 10.1, \"Ban %\": 19.44, \"KDA\": 2.64}, {\"Name\": \"Kindred\", \"Class\": \"Marksman\", \"Role\": \"JUNGLE\", \"Tier\": \"God\", \"Score\": 73.66, \"Trend\": -12.38, \"Win %\": 51.32, \"Role %\": 96.38, \"Pick %\": 7.2, \"Ban %\": 19.82, \"KDA\": 2.31}, {\"Name\": \"Kled\", \"Class\": \"Fighter\", \"Role\": \"TOP\", \"Tier\": \"A\", \"Score\": 48.26, \"Trend\": -0.11, \"Win %\": 52.16, \"Role %\": 88.41, \"Pick %\": 1.98, \"Ban %\": 1.33, \"KDA\": 2.21}, {\"Name\": \"Kog'Maw\", \"Class\": \"Marksman\", \"Role\": \"ADC\", \"Tier\": \"B\", \"Score\": 42.51, \"Trend\": 8.28, \"Win %\": 51.88, \"Role %\": 89.95, \"Pick %\": 2.34, \"Ban %\": 2.26, \"KDA\": 2.13}, {\"Name\": \"LeBlanc\", \"Class\": \"Assassin\", \"Role\": \"MID\", \"Tier\": \"S\", \"Score\": 66.02, \"Trend\": -21.94, \"Win %\": 49.58, \"Role %\": 90.18, \"Pick %\": 6.61, \"Ban %\": 18.83, \"KDA\": 2.74}, {\"Name\": \"Lee Sin\", \"Class\": \"Fighter\", \"Role\": \"JUNGLE\", \"Tier\": \"God\", \"Score\": 91.03, \"Trend\": 13.94, \"Win %\": 47.95, \"Role %\": 92.93, \"Pick %\": 13.32, \"Ban %\": 7.59, \"KDA\": 2.67}, {\"Name\": \"Leona\", \"Class\": \"Tank\", \"Role\": \"SUPPORT\", \"Tier\": \"S\", \"Score\": 57.54, \"Trend\": -0.02, \"Win %\": 51.01, \"Role %\": 98.61, \"Pick %\": 5.49, \"Ban %\": 3.77, \"KDA\": 2.39}, {\"Name\": \"Lillia\", \"Class\": \"Fighter\", \"Role\": \"JUNGLE\", \"Tier\": \"A\", \"Score\": 51.06, \"Trend\": 0.54, \"Win %\": 51.41, \"Role %\": 87.66, \"Pick %\": 3.89, \"Ban %\": 2.04, \"KDA\": 2.75}, {\"Name\": \"Lissandra\", \"Class\": \"Mage\", \"Role\": \"MID\", \"Tier\": \"A\", \"Score\": 47.5, \"Trend\": -3.35, \"Win %\": 49.79, \"Role %\": 92.35, \"Pick %\": 2.95, \"Ban %\": 1.4, \"KDA\": 2.4}, {\"Name\": \"Lucian\", \"Class\": \"Marksman\", \"Role\": \"ADC\", \"Tier\": \"B\", \"Score\": 45.63, \"Trend\": -7.42, \"Win %\": 48.67, \"Role %\": 92.8, \"Pick %\": 7.36, \"Ban %\": 2.3, \"KDA\": 2.22}, {\"Name\": \"Lulu\", \"Class\": \"Support\", \"Role\": \"SUPPORT\", \"Tier\": \"S\", \"Score\": 59.04, \"Trend\": -0.46, \"Win %\": 47.93, \"Role %\": 97.34, \"Pick %\": 6.64, \"Ban %\": 6.75, \"KDA\": 2.85}, {\"Name\": \"Lux\", \"Class\": \"Mage\", \"Role\": \"SUPPORT\", \"Tier\": \"God\", \"Score\": 84.82, \"Trend\": 7.57, \"Win %\": 50.0, \"Role %\": 64.68, \"Pick %\": 11.55, \"Ban %\": 11.12, \"KDA\": 2.36}, {\"Name\": \"Lux\", \"Class\": \"Mage\", \"Role\": \"MID\", \"Tier\": \"S\", \"Score\": 60.79, \"Trend\": -0.11, \"Win %\": 51.03, \"Role %\": 31.83, \"Pick %\": 5.03, \"Ban %\": 11.12, \"KDA\": 2.87}, {\"Name\": \"Malphite\", \"Class\": \"Tank\", \"Role\": \"TOP\", \"Tier\": \"God\", \"Score\": 83.04, \"Trend\": -1.26, \"Win %\": 51.43, \"Role %\": 72.61, \"Pick %\": 6.62, \"Ban %\": 13.84, \"KDA\": 2.48}, {\"Name\": \"Malphite\", \"Class\": \"Tank\", \"Role\": \"MID\", \"Tier\": \"B\", \"Score\": 46.92, \"Trend\": -1.33, \"Win %\": 52.0, \"Role %\": 12.29, \"Pick %\": 1.12, \"Ban %\": 13.84, \"KDA\": 2.55}, {\"Name\": \"Malphite\", \"Class\": \"Tank\", \"Role\": \"SUPPORT\", \"Tier\": \"D\", \"Score\": 30.04, \"Trend\": -4.96, \"Win %\": 46.11, \"Role %\": 11.74, \"Pick %\": 1.09, \"Ban %\": 13.79, \"KDA\": 1.99}, {\"Name\": \"Malzahar\", \"Class\": \"Mage\", \"Role\": \"MID\", \"Tier\": \"A\", \"Score\": 51.78, \"Trend\": -1.03, \"Win %\": 50.78, \"Role %\": 89.78, \"Pick %\": 3.73, \"Ban %\": 5.55, \"KDA\": 2.27}, {\"Name\": \"Maokai\", \"Class\": \"Tank\", \"Role\": \"JUNGLE\", \"Tier\": \"A\", \"Score\": 52.39, \"Trend\": 1.0, \"Win %\": 51.84, \"Role %\": 64.48, \"Pick %\": 3.61, \"Ban %\": 1.08, \"KDA\": 3.05}, {\"Name\": \"Maokai\", \"Class\": \"Tank\", \"Role\": \"SUPPORT\", \"Tier\": \"B\", \"Score\": 46.53, \"Trend\": 5.55, \"Win %\": 54.49, \"Role %\": 18.87, \"Pick %\": 1.01, \"Ban %\": 1.08, \"KDA\": 2.37}, {\"Name\": \"Maokai\", \"Class\": \"Tank\", \"Role\": \"TOP\", \"Tier\": \"B\", \"Score\": 43.6, \"Trend\": 2.19, \"Win %\": 52.33, \"Role %\": 15.61, \"Pick %\": 0.89, \"Ban %\": 1.08, \"KDA\": 2.44}, {\"Name\": \"Master Yi\", \"Class\": \"Assassin\", \"Role\": \"JUNGLE\", \"Tier\": \"God\", \"Score\": 71.87, \"Trend\": -1.37, \"Win %\": 49.7, \"Role %\": 91.72, \"Pick %\": 7.9, \"Ban %\": 19.09, \"KDA\": 2.06}, {\"Name\": \"Milio\", \"Class\": \"Support\", \"Role\": \"SUPPORT\", \"Tier\": \"God\", \"Score\": 81.15, \"Trend\": -11.18, \"Win %\": 50.52, \"Role %\": 99.51, \"Pick %\": 8.81, \"Ban %\": 18.76, \"KDA\": 3.39}, {\"Name\": \"Miss Fortune\", \"Class\": \"Marksman\", \"Role\": \"ADC\", \"Tier\": \"S\", \"Score\": 60.44, \"Trend\": -4.87, \"Win %\": 51.75, \"Role %\": 91.94, \"Pick %\": 12.21, \"Ban %\": 4.64, \"KDA\": 2.31}, {\"Name\": \"Mordekaiser\", \"Class\": \"Fighter\", \"Role\": \"TOP\", \"Tier\": \"God\", \"Score\": 72.79, \"Trend\": -1.18, \"Win %\": 49.87, \"Role %\": 85.39, \"Pick %\": 6.38, \"Ban %\": 11.25, \"KDA\": 1.83}, {\"Name\": \"Morgana\", \"Class\": \"Mage\", \"Role\": \"SUPPORT\", \"Tier\": \"S\", \"Score\": 64.13, \"Trend\": 5.31, \"Win %\": 49.29, \"Role %\": 89.62, \"Pick %\": 5.96, \"Ban %\": 24.57, \"KDA\": 2.36}, {\"Name\": \"Nami\", \"Class\": \"Support\", \"Role\": \"SUPPORT\", \"Tier\": \"A\", \"Score\": 52.82, \"Trend\": -2.31, \"Win %\": 49.25, \"Role %\": 99.39, \"Pick %\": 4.7, \"Ban %\": 0.46, \"KDA\": 2.93}, {\"Name\": \"Nasus\", \"Class\": \"Fighter\", \"Role\": \"TOP\", \"Tier\": \"S\", \"Score\": 66.24, \"Trend\": -5.88, \"Win %\": 51.4, \"Role %\": 81.24, \"Pick %\": 5.26, \"Ban %\": 5.33, \"KDA\": 1.92}, {\"Name\": \"Nasus\", \"Class\": \"Fighter\", \"Role\": \"MID\", \"Tier\": \"B\", \"Score\": 42.5, \"Trend\": 1.0, \"Win %\": 51.71, \"Role %\": 11.6, \"Pick %\": 0.58, \"Ban %\": 5.33, \"KDA\": 2.2}, {\"Name\": \"Nautilus\", \"Class\": \"Tank\", \"Role\": \"SUPPORT\", \"Tier\": \"God\", \"Score\": 87.81, \"Trend\": 8.42, \"Win %\": 50.82, \"Role %\": 96.15, \"Pick %\": 11.97, \"Ban %\": 14.67, \"KDA\": 2.3}, {\"Name\": \"Neeko\", \"Class\": \"Mage\", \"Role\": \"MID\", \"Tier\": \"A\", \"Score\": 54.1, \"Trend\": -11.96, \"Win %\": 51.61, \"Role %\": 47.72, \"Pick %\": 3.25, \"Ban %\": 15.44, \"KDA\": 2.51}, {\"Name\": \"Neeko\", \"Class\": \"Mage\", \"Role\": \"SUPPORT\", \"Tier\": \"B\", \"Score\": 44.74, \"Trend\": -2.19, \"Win %\": 49.94, \"Role %\": 37.24, \"Pick %\": 2.75, \"Ban %\": 15.44, \"KDA\": 2.02}, {\"Name\": \"Nidalee\", \"Class\": \"Assassin\", \"Role\": \"JUNGLE\", \"Tier\": \"A\", \"Score\": 54.05, \"Trend\": 6.14, \"Win %\": 48.74, \"Role %\": 90.77, \"Pick %\": 5.29, \"Ban %\": 5.7, \"KDA\": 2.92}, {\"Name\": \"Nilah\", \"Class\": \"Marksman\", \"Role\": \"ADC\", \"Tier\": \"B\", \"Score\": 45.72, \"Trend\": 5.1, \"Win %\": 52.55, \"Role %\": 97.23, \"Pick %\": 3.03, \"Ban %\": 5.33, \"KDA\": 2.25}, {\"Name\": \"Nocturne\", \"Class\": \"Assassin\", \"Role\": \"JUNGLE\", \"Tier\": \"A\", \"Score\": 56.43, \"Trend\": 3.43, \"Win %\": 51.84, \"Role %\": 94.08, \"Pick %\": 4.79, \"Ban %\": 4.66, \"KDA\": 2.65}, {\"Name\": \"Nunu\", \"Class\": \"Tank\", \"Role\": \"JUNGLE\", \"Tier\": \"B\", \"Score\": 42.05, \"Trend\": -2.96, \"Win %\": 48.11, \"Role %\": 90.95, \"Pick %\": 3.81, \"Ban %\": 0.92, \"KDA\": 2.66}, {\"Name\": \"Olaf\", \"Class\": \"Fighter\", \"Role\": \"TOP\", \"Tier\": \"A\", \"Score\": 48.79, \"Trend\": 0.53, \"Win %\": 51.34, \"Role %\": 86.29, \"Pick %\": 2.82, \"Ban %\": 3.77, \"KDA\": 1.74}, {\"Name\": \"Olaf\", \"Class\": \"Fighter\", \"Role\": \"JUNGLE\", \"Tier\": \"D\", \"Score\": 22.96, \"Trend\": -3.37, \"Win %\": 48.21, \"Role %\": 10.8, \"Pick %\": 0.31, \"Ban %\": 3.77, \"KDA\": 2.17}, {\"Name\": \"Orianna\", \"Class\": \"Mage\", \"Role\": \"MID\", \"Tier\": \"A\", \"Score\": 50.56, \"Trend\": -0.15, \"Win %\": 50.69, \"Role %\": 89.37, \"Pick %\": 2.87, \"Ban %\": 0.27, \"KDA\": 2.76}, {\"Name\": \"Ornn\", \"Class\": \"Tank\", \"Role\": \"TOP\", \"Tier\": \"S\", \"Score\": 60.18, \"Trend\": -1.99, \"Win %\": 50.28, \"Role %\": 93.53, \"Pick %\": 4.4, \"Ban %\": 1.16, \"KDA\": 2.4}, {\"Name\": \"Pantheon\", \"Class\": \"Fighter\", \"Role\": \"MID\", \"Tier\": \"A\", \"Score\": 49.94, \"Trend\": -2.96, \"Win %\": 51.3, \"Role %\": 32.08, \"Pick %\": 2.89, \"Ban %\": 5.56, \"KDA\": 2.29}, {\"Name\": \"Pantheon\", \"Class\": \"Fighter\", \"Role\": \"TOP\", \"Tier\": \"A\", \"Score\": 49.25, \"Trend\": 3.86, \"Win %\": 50.86, \"Role %\": 32.83, \"Pick %\": 2.7, \"Ban %\": 5.56, \"KDA\": 2.03}, {\"Name\": \"Pantheon\", \"Class\": \"Fighter\", \"Role\": \"SUPPORT\", \"Tier\": \"C\", \"Score\": 36.47, \"Trend\": 1.46, \"Win %\": 47.4, \"Role %\": 25.58, \"Pick %\": 2.33, \"Ban %\": 5.56, \"KDA\": 1.85}, {\"Name\": \"Poppy\", \"Class\": \"Tank\", \"Role\": \"TOP\", \"Tier\": \"A\", \"Score\": 49.74, \"Trend\": 0.42, \"Win %\": 51.66, \"Role %\": 42.02, \"Pick %\": 2.35, \"Ban %\": 2.98, \"KDA\": 2.21}, {\"Name\": \"Poppy\", \"Class\": \"Tank\", \"Role\": \"JUNGLE\", \"Tier\": \"B\", \"Score\": 44.39, \"Trend\": 0.46, \"Win %\": 50.7, \"Role %\": 49.46, \"Pick %\": 2.64, \"Ban %\": 2.98, \"KDA\": 2.89}, {\"Name\": \"Pyke\", \"Class\": \"Support\", \"Role\": \"SUPPORT\", \"Tier\": \"S\", \"Score\": 67.1, \"Trend\": 4.07, \"Win %\": 49.12, \"Role %\": 95.33, \"Pick %\": 8.26, \"Ban %\": 12.75, \"KDA\": 2.16}, {\"Name\": \"Qiyana\", \"Class\": \"Assassin\", \"Role\": \"MID\", \"Tier\": \"A\", \"Score\": 47.41, \"Trend\": 5.15, \"Win %\": 50.02, \"Role %\": 82.89, \"Pick %\": 3.1, \"Ban %\": 1.14, \"KDA\": 2.2}, {\"Name\": \"Qiyana\", \"Class\": \"Assassin\", \"Role\": \"JUNGLE\", \"Tier\": \"D\", \"Score\": 20.78, \"Trend\": -2.99, \"Win %\": 46.71, \"Role %\": 11.0, \"Pick %\": 0.39, \"Ban %\": 1.14, \"KDA\": 2.34}, {\"Name\": \"Quinn\", \"Class\": \"Marksman\", \"Role\": \"TOP\", \"Tier\": \"A\", \"Score\": 49.07, \"Trend\": 5.45, \"Win %\": 52.52, \"Role %\": 80.07, \"Pick %\": 2.25, \"Ban %\": 1.36, \"KDA\": 1.97}, {\"Name\": \"Quinn\", \"Class\": \"Marksman\", \"Role\": \"MID\", \"Tier\": \"B\", \"Score\": 44.2, \"Trend\": -2.63, \"Win %\": 52.97, \"Role %\": 11.23, \"Pick %\": 0.29, \"Ban %\": 1.36, \"KDA\": 2.28}, {\"Name\": \"Rakan\", \"Class\": \"Support\", \"Role\": \"SUPPORT\", \"Tier\": \"God\", \"Score\": 70.91, \"Trend\": 3.7, \"Win %\": 51.57, \"Role %\": 98.95, \"Pick %\": 8.24, \"Ban %\": 1.93, \"KDA\": 2.9}, {\"Name\": \"Rammus\", \"Class\": \"Tank\", \"Role\": \"JUNGLE\", \"Tier\": \"A\", \"Score\": 49.63, \"Trend\": -1.58, \"Win %\": 51.87, \"Role %\": 80.9, \"Pick %\": 2.69, \"Ban %\": 8.45, \"KDA\": 3.11}, {\"Name\": \"Rammus\", \"Class\": \"Tank\", \"Role\": \"TOP\", \"Tier\": \"D\", \"Score\": 30.44, \"Trend\": -3.91, \"Win %\": 50.24, \"Role %\": 15.06, \"Pick %\": 0.43, \"Ban %\": 8.45, \"KDA\": 1.61}, {\"Name\": \"Rek'Sai\", \"Class\": \"Fighter\", \"Role\": \"JUNGLE\", \"Tier\": \"S\", \"Score\": 69.23, \"Trend\": -9.71, \"Win %\": 52.87, \"Role %\": 91.38, \"Pick %\": 5.5, \"Ban %\": 18.74, \"KDA\": 2.79}, {\"Name\": \"Rell\", \"Class\": \"Tank\", \"Role\": \"SUPPORT\", \"Tier\": \"God\", \"Score\": 80.81, \"Trend\": 11.71, \"Win %\": 54.34, \"Role %\": 85.97, \"Pick %\": 7.93, \"Ban %\": 13.06, \"KDA\": 2.95}, {\"Name\": \"Rell\", \"Class\": \"Tank\", \"Role\": \"JUNGLE\", \"Tier\": \"B\", \"Score\": 46.63, \"Trend\": 0.0, \"Win %\": 52.51, \"Role %\": 13.0, \"Pick %\": 1.15, \"Ban %\": 13.06, \"KDA\": 3.58}, {\"Name\": \"Renata Glasc\", \"Class\": \"Support\", \"Role\": \"SUPPORT\", \"Tier\": \"B\", \"Score\": 44.57, \"Trend\": -0.25, \"Win %\": 51.03, \"Role %\": 98.68, \"Pick %\": 1.93, \"Ban %\": 0.5, \"KDA\": 2.64}, {\"Name\": \"Renekton\", \"Class\": \"Fighter\", \"Role\": \"TOP\", \"Tier\": \"God\", \"Score\": 77.61, \"Trend\": 12.07, \"Win %\": 50.03, \"Role %\": 91.06, \"Pick %\": 7.64, \"Ban %\": 3.83, \"KDA\": 1.9}, {\"Name\": \"Rengar\", \"Class\": \"Assassin\", \"Role\": \"JUNGLE\", \"Tier\": \"S\", \"Score\": 62.69, \"Trend\": 0.83, \"Win %\": 49.97, \"Role %\": 82.23, \"Pick %\": 5.92, \"Ban %\": 21.29, \"KDA\": 2.37}, {\"Name\": \"Rengar\", \"Class\": \"Assassin\", \"Role\": \"TOP\", \"Tier\": \"C\", \"Score\": 39.96, \"Trend\": -1.09, \"Win %\": 50.65, \"Role %\": 14.21, \"Pick %\": 1.06, \"Ban %\": 21.29, \"KDA\": 2.02}, {\"Name\": \"Riven\", \"Class\": \"Fighter\", \"Role\": \"TOP\", \"Tier\": \"A\", \"Score\": 55.5, \"Trend\": 0.6, \"Win %\": 50.19, \"Role %\": 89.32, \"Pick %\": 4.32, \"Ban %\": 1.51, \"KDA\": 1.81}, {\"Name\": \"Rumble\", \"Class\": \"Fighter\", \"Role\": \"MID\", \"Tier\": \"B\", \"Score\": 47.23, \"Trend\": 6.27, \"Win %\": 53.2, \"Role %\": 18.85, \"Pick %\": 0.65, \"Ban %\": 1.37, \"KDA\": 2.58}, {\"Name\": \"Rumble\", \"Class\": \"Fighter\", \"Role\": \"TOP\", \"Tier\": \"B\", \"Score\": 45.51, \"Trend\": 3.43, \"Win %\": 50.28, \"Role %\": 65.29, \"Pick %\": 2.31, \"Ban %\": 1.37, \"KDA\": 2.12}, {\"Name\": \"Rumble\", \"Class\": \"Fighter\", \"Role\": \"JUNGLE\", \"Tier\": \"D\", \"Score\": 31.2, \"Trend\": 2.43, \"Win %\": 49.62, \"Role %\": 13.22, \"Pick %\": 0.47, \"Ban %\": 1.37, \"KDA\": 2.86}, {\"Name\": \"Ryze\", \"Class\": \"Mage\", \"Role\": \"MID\", \"Tier\": \"B\", \"Score\": 45.59, \"Trend\": -0.42, \"Win %\": 50.26, \"Role %\": 82.64, \"Pick %\": 2.18, \"Ban %\": 0.23, \"KDA\": 2.35}, {\"Name\": \"Ryze\", \"Class\": \"Mage\", \"Role\": \"TOP\", \"Tier\": \"C\", \"Score\": 35.71, \"Trend\": -1.31, \"Win %\": 51.59, \"Role %\": 14.87, \"Pick %\": 0.41, \"Ban %\": 0.23, \"KDA\": 1.98}, {\"Name\": \"Samira\", \"Class\": \"Marksman\", \"Role\": \"ADC\", \"Tier\": \"S\", \"Score\": 57.04, \"Trend\": -4.91, \"Win %\": 49.47, \"Role %\": 97.6, \"Pick %\": 10.77, \"Ban %\": 21.63, \"KDA\": 2.19}, {\"Name\": \"Sejuani\", \"Class\": \"Tank\", \"Role\": \"JUNGLE\", \"Tier\": \"A\", \"Score\": 49.91, \"Trend\": 3.2, \"Win %\": 50.44, \"Role %\": 85.88, \"Pick %\": 3.52, \"Ban %\": 0.72, \"KDA\": 3.27}, {\"Name\": \"Senna\", \"Class\": \"Marksman\", \"Role\": \"SUPPORT\", \"Tier\": \"S\", \"Score\": 62.66, \"Trend\": 1.54, \"Win %\": 50.84, \"Role %\": 91.84, \"Pick %\": 6.86, \"Ban %\": 2.56, \"KDA\": 2.51}, {\"Name\": \"Seraphine\", \"Class\": \"Mage\", \"Role\": \"SUPPORT\", \"Tier\": \"A\", \"Score\": 52.34, \"Trend\": 0.66, \"Win %\": 49.76, \"Role %\": 66.64, \"Pick %\": 4.81, \"Ban %\": 1.33, \"KDA\": 2.45}, {\"Name\": \"Seraphine\", \"Class\": \"Mage\", \"Role\": \"ADC\", \"Tier\": \"A\", \"Score\": 49.21, \"Trend\": 9.81, \"Win %\": 53.81, \"Role %\": 22.28, \"Pick %\": 1.28, \"Ban %\": 1.33, \"KDA\": 3.0}, {\"Name\": \"Seraphine\", \"Class\": \"Mage\", \"Role\": \"MID\", \"Tier\": \"B\", \"Score\": 46.72, \"Trend\": 1.94, \"Win %\": 51.81, \"Role %\": 10.71, \"Pick %\": 0.75, \"Ban %\": 1.33, \"KDA\": 2.93}, {\"Name\": \"Sett\", \"Class\": \"Fighter\", \"Role\": \"TOP\", \"Tier\": \"S\", \"Score\": 65.36, \"Trend\": 0.03, \"Win %\": 49.81, \"Role %\": 82.55, \"Pick %\": 6.05, \"Ban %\": 3.17, \"KDA\": 1.69}, {\"Name\": \"Shaco\", \"Class\": \"Assassin\", \"Role\": \"JUNGLE\", \"Tier\": \"S\", \"Score\": 58.88, \"Trend\": -1.71, \"Win %\": 48.97, \"Role %\": 74.03, \"Pick %\": 5.6, \"Ban %\": 16.77, \"KDA\": 2.7}, {\"Name\": \"Shaco\", \"Class\": \"Assassin\", \"Role\": \"SUPPORT\", \"Tier\": \"C\", \"Score\": 36.03, \"Trend\": -2.37, \"Win %\": 47.6, \"Role %\": 18.41, \"Pick %\": 1.43, \"Ban %\": 16.77, \"KDA\": 2.29}, {\"Name\": \"Shen\", \"Class\": \"Tank\", \"Role\": \"TOP\", \"Tier\": \"S\", \"Score\": 57.59, \"Trend\": 1.12, \"Win %\": 51.53, \"Role %\": 82.25, \"Pick %\": 2.91, \"Ban %\": 0.46, \"KDA\": 2.95}, {\"Name\": \"Shen\", \"Class\": \"Tank\", \"Role\": \"SUPPORT\", \"Tier\": \"D\", \"Score\": 30.62, \"Trend\": -3.85, \"Win %\": 46.95, \"Role %\": 10.97, \"Pick %\": 0.38, \"Ban %\": 0.46, \"KDA\": 2.52}, {\"Name\": \"Shyvana\", \"Class\": \"Fighter\", \"Role\": \"JUNGLE\", \"Tier\": \"D\", \"Score\": 31.35, \"Trend\": -1.37, \"Win %\": 49.07, \"Role %\": 81.87, \"Pick %\": 1.34, \"Ban %\": 0.34, \"KDA\": 2.44}, {\"Name\": \"Shyvana\", \"Class\": \"Fighter\", \"Role\": \"TOP\", \"Tier\": \"D\", \"Score\": 28.01, \"Trend\": 1.2, \"Win %\": 49.04, \"Role %\": 11.87, \"Pick %\": 0.21, \"Ban %\": 0.4, \"KDA\": 1.88}, {\"Name\": \"Singed\", \"Class\": \"Tank\", \"Role\": \"MID\", \"Tier\": \"A\", \"Score\": 48.88, \"Trend\": 0.0, \"Win %\": 54.3, \"Role %\": 10.14, \"Pick %\": 0.22, \"Ban %\": 0.41, \"KDA\": 2.79}, {\"Name\": \"Singed\", \"Class\": \"Tank\", \"Role\": \"TOP\", \"Tier\": \"B\", \"Score\": 40.16, \"Trend\": 0.15, \"Win %\": 50.48, \"Role %\": 77.44, \"Pick %\": 1.56, \"Ban %\": 0.43, \"KDA\": 1.97}, {\"Name\": \"Sion\", \"Class\": \"Tank\", \"Role\": \"TOP\", \"Tier\": \"S\", \"Score\": 57.0, \"Trend\": -5.09, \"Win %\": 49.47, \"Role %\": 78.9, \"Pick %\": 4.99, \"Ban %\": 2.62, \"KDA\": 1.62}, {\"Name\": \"Sion\", \"Class\": \"Tank\", \"Role\": \"MID\", \"Tier\": \"C\", \"Score\": 35.89, \"Trend\": -2.49, \"Win %\": 50.31, \"Role %\": 10.7, \"Pick %\": 0.66, \"Ban %\": 2.62, \"KDA\": 1.32}, {\"Name\": \"Sivir\", \"Class\": \"Marksman\", \"Role\": \"ADC\", \"Tier\": \"B\", \"Score\": 42.9, \"Trend\": 6.74, \"Win %\": 50.57, \"Role %\": 97.18, \"Pick %\": 3.2, \"Ban %\": 0.65, \"KDA\": 2.37}, {\"Name\": \"Skarner\", \"Class\": \"Fighter\", \"Role\": \"JUNGLE\", \"Tier\": \"C\", \"Score\": 38.1, \"Trend\": 2.14, \"Win %\": 52.13, \"Role %\": 78.56, \"Pick %\": 0.86, \"Ban %\": 0.2, \"KDA\": 2.72}, {\"Name\": \"Skarner\", \"Class\": \"Fighter\", \"Role\": \"TOP\", \"Tier\": \"D\", \"Score\": 30.61, \"Trend\": 2.28, \"Win %\": 49.34, \"Role %\": 16.44, \"Pick %\": 0.14, \"Ban %\": 0.18, \"KDA\": 2.21}, {\"Name\": \"Sona\", \"Class\": \"Support\", \"Role\": \"SUPPORT\", \"Tier\": \"A\", \"Score\": 53.15, \"Trend\": 1.33, \"Win %\": 52.29, \"Role %\": 97.95, \"Pick %\": 3.36, \"Ban %\": 0.19, \"KDA\": 2.85}, {\"Name\": \"Soraka\", \"Class\": \"Support\", \"Role\": \"SUPPORT\", \"Tier\": \"S\", \"Score\": 60.35, \"Trend\": 1.97, \"Win %\": 51.66, \"Role %\": 96.76, \"Pick %\": 5.62, \"Ban %\": 1.61, \"KDA\": 2.77}, {\"Name\": \"Swain\", \"Class\": \"Mage\", \"Role\": \"ADC\", \"Tier\": \"A\", \"Score\": 50.89, \"Trend\": 0.0, \"Win %\": 55.5, \"Role %\": 11.54, \"Pick %\": 0.51, \"Ban %\": 2.91, \"KDA\": 2.98}, {\"Name\": \"Swain\", \"Class\": \"Mage\", \"Role\": \"MID\", \"Tier\": \"A\", \"Score\": 49.53, \"Trend\": 2.35, \"Win %\": 52.94, \"Role %\": 24.19, \"Pick %\": 1.29, \"Ban %\": 2.91, \"KDA\": 2.72}, {\"Name\": \"Swain\", \"Class\": \"Mage\", \"Role\": \"SUPPORT\", \"Tier\": \"A\", \"Score\": 49.45, \"Trend\": 2.38, \"Win %\": 50.54, \"Role %\": 57.41, \"Pick %\": 3.69, \"Ban %\": 2.91, \"KDA\": 2.34}, {\"Name\": \"Sylas\", \"Class\": \"Mage\", \"Role\": \"MID\", \"Tier\": \"A\", \"Score\": 55.65, \"Trend\": 0.17, \"Win %\": 49.23, \"Role %\": 57.23, \"Pick %\": 5.79, \"Ban %\": 8.24, \"KDA\": 2.13}, {\"Name\": \"Sylas\", \"Class\": \"Mage\", \"Role\": \"JUNGLE\", \"Tier\": \"C\", \"Score\": 39.44, \"Trend\": -0.52, \"Win %\": 48.69, \"Role %\": 30.22, \"Pick %\": 3.05, \"Ban %\": 8.24, \"KDA\": 2.4}, {\"Name\": \"Syndra\", \"Class\": \"Mage\", \"Role\": \"MID\", \"Tier\": \"A\", \"Score\": 56.32, \"Trend\": 2.63, \"Win %\": 50.55, \"Role %\": 92.2, \"Pick %\": 5.32, \"Ban %\": 2.87, \"KDA\": 2.29}, {\"Name\": \"Tahm Kench\", \"Class\": \"Support\", \"Role\": \"TOP\", \"Tier\": \"C\", \"Score\": 38.72, \"Trend\": -1.8, \"Win %\": 48.0, \"Role %\": 62.72, \"Pick %\": 1.84, \"Ban %\": 0.89, \"KDA\": 2.32}, {\"Name\": \"Tahm Kench\", \"Class\": \"Support\", \"Role\": \"SUPPORT\", \"Tier\": \"C\", \"Score\": 34.87, \"Trend\": -5.55, \"Win %\": 49.08, \"Role %\": 27.7, \"Pick %\": 0.74, \"Ban %\": 0.96, \"KDA\": 2.25}, {\"Name\": \"Taliyah\", \"Class\": \"Mage\", \"Role\": \"MID\", \"Tier\": \"B\", \"Score\": 44.88, \"Trend\": 2.15, \"Win %\": 51.6, \"Role %\": 62.89, \"Pick %\": 1.24, \"Ban %\": 0.34, \"KDA\": 2.32}, {\"Name\": \"Taliyah\", \"Class\": \"Mage\", \"Role\": \"JUNGLE\", \"Tier\": \"D\", \"Score\": 33.28, \"Trend\": 2.33, \"Win %\": 50.82, \"Role %\": 23.12, \"Pick %\": 0.45, \"Ban %\": 0.34, \"KDA\": 2.75}, {\"Name\": \"Talon\", \"Class\": \"Assassin\", \"Role\": \"MID\", \"Tier\": \"A\", \"Score\": 52.37, \"Trend\": 0.53, \"Win %\": 51.25, \"Role %\": 71.73, \"Pick %\": 3.76, \"Ban %\": 2.44, \"KDA\": 2.29}, {\"Name\": \"Talon\", \"Class\": \"Assassin\", \"Role\": \"JUNGLE\", \"Tier\": \"D\", \"Score\": 33.38, \"Trend\": -1.72, \"Win %\": 49.56, \"Role %\": 24.97, \"Pick %\": 1.39, \"Ban %\": 2.44, \"KDA\": 2.51}, {\"Name\": \"Taric\", \"Class\": \"Support\", \"Role\": \"SUPPORT\", \"Tier\": \"A\", \"Score\": 47.44, \"Trend\": -1.88, \"Win %\": 52.17, \"Role %\": 91.8, \"Pick %\": 1.96, \"Ban %\": 0.42, \"KDA\": 2.78}, {\"Name\": \"Teemo\", \"Class\": \"Marksman\", \"Role\": \"TOP\", \"Tier\": \"S\", \"Score\": 58.84, \"Trend\": -1.71, \"Win %\": 50.72, \"Role %\": 70.59, \"Pick %\": 4.37, \"Ban %\": 7.02, \"KDA\": 1.72}, {\"Name\": \"Teemo\", \"Class\": \"Marksman\", \"Role\": \"SUPPORT\", \"Tier\": \"D\", \"Score\": 30.82, \"Trend\": -4.14, \"Win %\": 47.98, \"Role %\": 10.89, \"Pick %\": 0.72, \"Ban %\": 7.69, \"KDA\": 1.73}, {\"Name\": \"Thresh\", \"Class\": \"Support\", \"Role\": \"SUPPORT\", \"Tier\": \"God\", \"Score\": 91.09, \"Trend\": 6.4, \"Win %\": 50.65, \"Role %\": 95.92, \"Pick %\": 13.79, \"Ban %\": 5.98, \"KDA\": 2.58}, {\"Name\": \"Tristana\", \"Class\": \"Marksman\", \"Role\": \"MID\", \"Tier\": \"B\", \"Score\": 47.21, \"Trend\": 4.01, \"Win %\": 50.67, \"Role %\": 31.64, \"Pick %\": 2.91, \"Ban %\": 3.62, \"KDA\": 1.99}, {\"Name\": \"Tristana\", \"Class\": \"Marksman\", \"Role\": \"ADC\", \"Tier\": \"B\", \"Score\": 44.29, \"Trend\": 3.9, \"Win %\": 49.03, \"Role %\": 63.87, \"Pick %\": 6.15, \"Ban %\": 3.62, \"KDA\": 2.2}, {\"Name\": \"Trundle\", \"Class\": \"Fighter\", \"Role\": \"JUNGLE\", \"Tier\": \"C\", \"Score\": 39.07, \"Trend\": 0.94, \"Win %\": 50.87, \"Role %\": 63.74, \"Pick %\": 1.84, \"Ban %\": 0.99, \"KDA\": 2.6}, {\"Name\": \"Trundle\", \"Class\": \"Fighter\", \"Role\": \"TOP\", \"Tier\": \"C\", \"Score\": 35.29, \"Trend\": -1.63, \"Win %\": 51.56, \"Role %\": 31.04, \"Pick %\": 0.8, \"Ban %\": 0.99, \"KDA\": 1.58}, {\"Name\": \"Tryndamere\", \"Class\": \"Fighter\", \"Role\": \"MID\", \"Tier\": \"B\", \"Score\": 41.47, \"Trend\": 1.77, \"Win %\": 51.99, \"Role %\": 11.3, \"Pick %\": 0.32, \"Ban %\": 2.05, \"KDA\": 2.07}, {\"Name\": \"Tryndamere\", \"Class\": \"Fighter\", \"Role\": \"TOP\", \"Tier\": \"B\", \"Score\": 40.25, \"Trend\": -0.88, \"Win %\": 49.36, \"Role %\": 79.39, \"Pick %\": 2.21, \"Ban %\": 2.05, \"KDA\": 1.75}, {\"Name\": \"Twisted Fate\", \"Class\": \"Mage\", \"Role\": \"MID\", \"Tier\": \"B\", \"Score\": 43.98, \"Trend\": -0.59, \"Win %\": 48.43, \"Role %\": 89.24, \"Pick %\": 3.0, \"Ban %\": 0.27, \"KDA\": 2.17}, {\"Name\": \"Twitch\", \"Class\": \"Marksman\", \"Role\": \"ADC\", \"Tier\": \"B\", \"Score\": 46.23, \"Trend\": 3.18, \"Win %\": 51.04, \"Role %\": 76.3, \"Pick %\": 4.53, \"Ban %\": 4.54, \"KDA\": 2.37}, {\"Name\": \"Twitch\", \"Class\": \"Marksman\", \"Role\": \"SUPPORT\", \"Tier\": \"D\", \"Score\": 33.25, \"Trend\": 0.76, \"Win %\": 48.49, \"Role %\": 12.59, \"Pick %\": 0.77, \"Ban %\": 4.54, \"KDA\": 2.08}, {\"Name\": \"Udyr\", \"Class\": \"Fighter\", \"Role\": \"JUNGLE\", \"Tier\": \"C\", \"Score\": 39.12, \"Trend\": 0.8, \"Win %\": 49.9, \"Role %\": 80.64, \"Pick %\": 2.45, \"Ban %\": 2.1, \"KDA\": 2.5}, {\"Name\": \"Udyr\", \"Class\": \"Fighter\", \"Role\": \"TOP\", \"Tier\": \"D\", \"Score\": 32.19, \"Trend\": 2.43, \"Win %\": 50.58, \"Role %\": 16.87, \"Pick %\": 0.52, \"Ban %\": 2.1, \"KDA\": 1.7}, {\"Name\": \"Urgot\", \"Class\": \"Fighter\", \"Role\": \"TOP\", \"Tier\": \"B\", \"Score\": 46.28, \"Trend\": 0.42, \"Win %\": 50.96, \"Role %\": 90.93, \"Pick %\": 2.41, \"Ban %\": 1.0, \"KDA\": 1.94}, {\"Name\": \"Varus\", \"Class\": \"Marksman\", \"Role\": \"ADC\", \"Tier\": \"B\", \"Score\": 45.2, \"Trend\": -1.82, \"Win %\": 49.65, \"Role %\": 76.66, \"Pick %\": 6.08, \"Ban %\": 2.39, \"KDA\": 2.21}, {\"Name\": \"Varus\", \"Class\": \"Marksman\", \"Role\": \"TOP\", \"Tier\": \"D\", \"Score\": 28.59, \"Trend\": -14.81, \"Win %\": 47.32, \"Role %\": 13.88, \"Pick %\": 1.11, \"Ban %\": 2.39, \"KDA\": 1.71}, {\"Name\": \"Vayne\", \"Class\": \"Marksman\", \"Role\": \"ADC\", \"Tier\": \"B\", \"Score\": 44.25, \"Trend\": 3.85, \"Win %\": 49.37, \"Role %\": 81.02, \"Pick %\": 6.32, \"Ban %\": 4.53, \"KDA\": 2.02}, {\"Name\": \"Vayne\", \"Class\": \"Marksman\", \"Role\": \"TOP\", \"Tier\": \"C\", \"Score\": 35.52, \"Trend\": 4.94, \"Win %\": 50.52, \"Role %\": 15.47, \"Pick %\": 1.21, \"Ban %\": 4.53, \"KDA\": 1.55}, {\"Name\": \"Veigar\", \"Class\": \"Mage\", \"Role\": \"MID\", \"Tier\": \"A\", \"Score\": 54.59, \"Trend\": -3.66, \"Win %\": 50.59, \"Role %\": 73.42, \"Pick %\": 4.86, \"Ban %\": 3.97, \"KDA\": 2.17}, {\"Name\": \"Veigar\", \"Class\": \"Mage\", \"Role\": \"ADC\", \"Tier\": \"C\", \"Score\": 39.26, \"Trend\": 7.06, \"Win %\": 51.16, \"Role %\": 13.32, \"Pick %\": 0.82, \"Ban %\": 3.97, \"KDA\": 2.22}, {\"Name\": \"Veigar\", \"Class\": \"Mage\", \"Role\": \"SUPPORT\", \"Tier\": \"D\", \"Score\": 28.09, \"Trend\": 0.0, \"Win %\": 46.5, \"Role %\": 10.67, \"Pick %\": 0.7, \"Ban %\": 4.32, \"KDA\": 1.8}, {\"Name\": \"Vel'Koz\", \"Class\": \"Mage\", \"Role\": \"MID\", \"Tier\": \"B\", \"Score\": 44.1, \"Trend\": 2.21, \"Win %\": 51.38, \"Role %\": 29.58, \"Pick %\": 0.7, \"Ban %\": 0.41, \"KDA\": 2.6}, {\"Name\": \"Vel'Koz\", \"Class\": \"Mage\", \"Role\": \"SUPPORT\", \"Tier\": \"B\", \"Score\": 41.32, \"Trend\": 1.55, \"Win %\": 50.97, \"Role %\": 65.61, \"Pick %\": 1.66, \"Ban %\": 0.41, \"KDA\": 2.14}, {\"Name\": \"Vex\", \"Class\": \"Mage\", \"Role\": \"MID\", \"Tier\": \"A\", \"Score\": 50.2, \"Trend\": -2.15, \"Win %\": 50.6, \"Role %\": 93.02, \"Pick %\": 3.28, \"Ban %\": 3.76, \"KDA\": 2.37}, {\"Name\": \"Vi\", \"Class\": \"Fighter\", \"Role\": \"JUNGLE\", \"Tier\": \"B\", \"Score\": 42.18, \"Trend\": -13.38, \"Win %\": 48.51, \"Role %\": 94.59, \"Pick %\": 4.05, \"Ban %\": 1.94, \"KDA\": 2.3}, {\"Name\": \"Viego\", \"Class\": \"Assassin\", \"Role\": \"JUNGLE\", \"Tier\": \"S\", \"Score\": 70.33, \"Trend\": 5.05, \"Win %\": 49.72, \"Role %\": 95.17, \"Pick %\": 9.12, \"Ban %\": 2.56, \"KDA\": 2.47}, {\"Name\": \"Viktor\", \"Class\": \"Mage\", \"Role\": \"MID\", \"Tier\": \"A\", \"Score\": 54.13, \"Trend\": 2.05, \"Win %\": 51.34, \"Role %\": 94.35, \"Pick %\": 4.28, \"Ban %\": 2.41, \"KDA\": 2.27}, {\"Name\": \"Vladimir\", \"Class\": \"Mage\", \"Role\": \"MID\", \"Tier\": \"A\", \"Score\": 54.65, \"Trend\": 3.61, \"Win %\": 51.53, \"Role %\": 77.73, \"Pick %\": 3.96, \"Ban %\": 5.95, \"KDA\": 2.42}, {\"Name\": \"Vladimir\", \"Class\": \"Mage\", \"Role\": \"TOP\", \"Tier\": \"C\", \"Score\": 34.53, \"Trend\": -0.44, \"Win %\": 49.13, \"Role %\": 20.15, \"Pick %\": 0.99, \"Ban %\": 5.95, \"KDA\": 2.05}, {\"Name\": \"Volibear\", \"Class\": \"Fighter\", \"Role\": \"TOP\", \"Tier\": \"C\", \"Score\": 36.96, \"Trend\": -0.57, \"Win %\": 48.43, \"Role %\": 61.85, \"Pick %\": 2.17, \"Ban %\": 0.63, \"KDA\": 1.64}, {\"Name\": \"Volibear\", \"Class\": \"Fighter\", \"Role\": \"JUNGLE\", \"Tier\": \"D\", \"Score\": 33.68, \"Trend\": -1.42, \"Win %\": 50.15, \"Role %\": 32.98, \"Pick %\": 1.02, \"Ban %\": 0.63, \"KDA\": 2.64}, {\"Name\": \"Warwick\", \"Class\": \"Fighter\", \"Role\": \"JUNGLE\", \"Tier\": \"A\", \"Score\": 49.91, \"Trend\": -3.99, \"Win %\": 50.07, \"Role %\": 68.71, \"Pick %\": 4.74, \"Ban %\": 5.18, \"KDA\": 2.17}, {\"Name\": \"Warwick\", \"Class\": \"Fighter\", \"Role\": \"TOP\", \"Tier\": \"C\", \"Score\": 36.27, \"Trend\": -3.06, \"Win %\": 49.47, \"Role %\": 28.1, \"Pick %\": 1.42, \"Ban %\": 5.18, \"KDA\": 1.79}, {\"Name\": \"Wukong\", \"Class\": \"Fighter\", \"Role\": \"JUNGLE\", \"Tier\": \"C\", \"Score\": 38.79, \"Trend\": -4.57, \"Win %\": 49.13, \"Role %\": 75.46, \"Pick %\": 2.62, \"Ban %\": 1.25, \"KDA\": 2.64}, {\"Name\": \"Wukong\", \"Class\": \"Fighter\", \"Role\": \"TOP\", \"Tier\": \"D\", \"Score\": 33.59, \"Trend\": 0.72, \"Win %\": 49.92, \"Role %\": 18.56, \"Pick %\": 0.58, \"Ban %\": 1.25, \"KDA\": 2.06}, {\"Name\": \"Xayah\", \"Class\": \"Marksman\", \"Role\": \"ADC\", \"Tier\": \"A\", \"Score\": 52.38, \"Trend\": 1.57, \"Win %\": 49.83, \"Role %\": 98.94, \"Pick %\": 9.73, \"Ban %\": 3.88, \"KDA\": 2.3}, {\"Name\": \"Xerath\", \"Class\": \"Mage\", \"Role\": \"SUPPORT\", \"Tier\": \"A\", \"Score\": 53.03, \"Trend\": 0.58, \"Win %\": 51.26, \"Role %\": 70.8, \"Pick %\": 4.09, \"Ban %\": 4.04, \"KDA\": 2.48}, {\"Name\": \"Xerath\", \"Class\": \"Mage\", \"Role\": \"MID\", \"Tier\": \"A\", \"Score\": 48.19, \"Trend\": -2.63, \"Win %\": 50.81, \"Role %\": 26.08, \"Pick %\": 1.44, \"Ban %\": 4.04, \"KDA\": 3.13}, {\"Name\": \"Xin Zhao\", \"Class\": \"Fighter\", \"Role\": \"JUNGLE\", \"Tier\": \"C\", \"Score\": 38.19, \"Trend\": 0.99, \"Win %\": 50.34, \"Role %\": 84.64, \"Pick %\": 2.4, \"Ban %\": 0.41, \"KDA\": 2.25}, {\"Name\": \"Yasuo\", \"Class\": \"Fighter\", \"Role\": \"MID\", \"Tier\": \"God\", \"Score\": 85.15, \"Trend\": -2.72, \"Win %\": 48.78, \"Role %\": 69.95, \"Pick %\": 12.73, \"Ban %\": 21.08, \"KDA\": 1.76}, {\"Name\": \"Yasuo\", \"Class\": \"Fighter\", \"Role\": \"TOP\", \"Tier\": \"B\", \"Score\": 43.76, \"Trend\": -2.39, \"Win %\": 47.51, \"Role %\": 17.19, \"Pick %\": 2.96, \"Ban %\": 21.08, \"KDA\": 1.49}, {\"Name\": \"Yasuo\", \"Class\": \"Fighter\", \"Role\": \"ADC\", \"Tier\": \"B\", \"Score\": 40.1, \"Trend\": 7.72, \"Win %\": 50.87, \"Role %\": 11.31, \"Pick %\": 1.89, \"Ban %\": 21.08, \"KDA\": 2.01}, {\"Name\": \"Yone\", \"Class\": \"Assassin\", \"Role\": \"MID\", \"Tier\": \"S\", \"Score\": 58.02, \"Trend\": -1.12, \"Win %\": 49.25, \"Role %\": 54.68, \"Pick %\": 6.82, \"Ban %\": 7.36, \"KDA\": 1.89}, {\"Name\": \"Yone\", \"Class\": \"Assassin\", \"Role\": \"TOP\", \"Tier\": \"S\", \"Score\": 57.2, \"Trend\": 1.88, \"Win %\": 49.34, \"Role %\": 41.19, \"Pick %\": 4.81, \"Ban %\": 7.36, \"KDA\": 1.63}, {\"Name\": \"Yorick\", \"Class\": \"Fighter\", \"Role\": \"TOP\", \"Tier\": \"A\", \"Score\": 48.83, \"Trend\": 0.63, \"Win %\": 51.68, \"Role %\": 88.56, \"Pick %\": 2.92, \"Ban %\": 4.03, \"KDA\": 1.52}, {\"Name\": \"Yuumi\", \"Class\": \"Support\", \"Role\": \"SUPPORT\", \"Tier\": \"S\", \"Score\": 69.04, \"Trend\": -4.32, \"Win %\": 46.68, \"Role %\": 98.78, \"Pick %\": 7.67, \"Ban %\": 14.06, \"KDA\": 4.18}, {\"Name\": \"Zac\", \"Class\": \"Tank\", \"Role\": \"JUNGLE\", \"Tier\": \"A\", \"Score\": 53.35, \"Trend\": 0.93, \"Win %\": 51.77, \"Role %\": 71.96, \"Pick %\": 3.11, \"Ban %\": 2.51, \"KDA\": 3.59}, {\"Name\": \"Zac\", \"Class\": \"Tank\", \"Role\": \"TOP\", \"Tier\": \"B\", \"Score\": 44.32, \"Trend\": -2.26, \"Win %\": 52.47, \"Role %\": 13.44, \"Pick %\": 0.66, \"Ban %\": 2.51, \"KDA\": 2.69}, {\"Name\": \"Zed\", \"Class\": \"Assassin\", \"Role\": \"MID\", \"Tier\": \"God\", \"Score\": 90.84, \"Trend\": 2.83, \"Win %\": 50.02, \"Role %\": 84.93, \"Pick %\": 11.5, \"Ban %\": 30.48, \"KDA\": 2.26}, {\"Name\": \"Zeri\", \"Class\": \"Marksman\", \"Role\": \"ADC\", \"Tier\": \"C\", \"Score\": 39.89, \"Trend\": 0.19, \"Win %\": 48.18, \"Role %\": 89.31, \"Pick %\": 4.21, \"Ban %\": 3.23, \"KDA\": 2.27}, {\"Name\": \"Ziggs\", \"Class\": \"Mage\", \"Role\": \"MID\", \"Tier\": \"B\", \"Score\": 43.66, \"Trend\": 4.37, \"Win %\": 50.11, \"Role %\": 55.93, \"Pick %\": 1.67, \"Ban %\": 0.41, \"KDA\": 2.34}, {\"Name\": \"Ziggs\", \"Class\": \"Mage\", \"Role\": \"ADC\", \"Tier\": \"B\", \"Score\": 41.4, \"Trend\": 7.33, \"Win %\": 51.54, \"Role %\": 30.6, \"Pick %\": 0.83, \"Ban %\": 0.41, \"KDA\": 2.48}, {\"Name\": \"Ziggs\", \"Class\": \"Mage\", \"Role\": \"SUPPORT\", \"Tier\": \"D\", \"Score\": 31.09, \"Trend\": -3.87, \"Win %\": 48.43, \"Role %\": 12.71, \"Pick %\": 0.37, \"Ban %\": 0.42, \"KDA\": 1.98}, {\"Name\": \"Zilean\", \"Class\": \"Support\", \"Role\": \"MID\", \"Tier\": \"A\", \"Score\": 52.02, \"Trend\": 4.9, \"Win %\": 53.91, \"Role %\": 13.72, \"Pick %\": 0.31, \"Ban %\": 0.76, \"KDA\": 3.52}, {\"Name\": \"Zilean\", \"Class\": \"Support\", \"Role\": \"SUPPORT\", \"Tier\": \"B\", \"Score\": 45.21, \"Trend\": 1.15, \"Win %\": 50.12, \"Role %\": 82.08, \"Pick %\": 2.11, \"Ban %\": 0.76, \"KDA\": 3.03}, {\"Name\": \"Zoe\", \"Class\": \"Mage\", \"Role\": \"MID\", \"Tier\": \"A\", \"Score\": 49.82, \"Trend\": 1.34, \"Win %\": 50.44, \"Role %\": 86.34, \"Pick %\": 2.98, \"Ban %\": 1.93, \"KDA\": 2.6}, {\"Name\": \"Zoe\", \"Class\": \"Mage\", \"Role\": \"SUPPORT\", \"Tier\": \"D\", \"Score\": 32.21, \"Trend\": -1.45, \"Win %\": 48.67, \"Role %\": 11.43, \"Pick %\": 0.4, \"Ban %\": 1.97, \"KDA\": 2.11}, {\"Name\": \"Zyra\", \"Class\": \"Mage\", \"Role\": \"SUPPORT\", \"Tier\": \"B\", \"Score\": 46.64, \"Trend\": -0.95, \"Win %\": 51.44, \"Role %\": 90.88, \"Pick %\": 2.87, \"Ban %\": 1.96, \"KDA\": 2.06}]}}, {\"mode\": \"vega-lite\"});\n",
       "</script>"
      ],
      "text/plain": [
       "alt.HConcatChart(...)"
      ]
     },
     "execution_count": 13,
     "metadata": {},
     "output_type": "execute_result"
    }
   ],
   "source": [
    "c1 = alt.Chart(df).mark_bar().encode(\n",
    "    x=\"Tier\",\n",
    "    y=\"mean(Win %)\",\n",
    ")\n",
    "c2 = alt.Chart(df).mark_bar().encode(\n",
    "    x=\"Tier\",\n",
    "    y = \"mean(Pick %)\",\n",
    ")\n",
    "\n",
    "c3 = alt.Chart(df).mark_bar().encode(\n",
    "    x=\"Tier\",\n",
    "    y=\"mean(Ban %)\",\n",
    ")\n",
    "c4 = alt.Chart(df).mark_bar().encode(\n",
    "    x=\"Tier\",\n",
    "    y=\"mean(KDA)\"\n",
    ")\n",
    "\n",
    "c1|c2|c3|c4"
   ]
  },
  {
   "cell_type": "markdown",
   "metadata": {
    "cell_id": "db309967d6e44aa2addfc26249a699b5",
    "deepnote_cell_type": "markdown"
   },
   "source": [
    "The bar graphs show the distribution of the mean of `Win %`, `Pick %`, `Ban %`, and `KDA` in relation to Champion tiers. You many recognize that lower tiers, C and D, have some of the lowest Win %, Pick %, Score, and KDA. This is because lower tiers are nerfed champions or others that are inferior to the buffed champions when it comes to battling them on the summoner rift (game map). So people shy away from these lower tier champs. "
   ]
  },
  {
   "cell_type": "markdown",
   "metadata": {
    "cell_id": "940b4cc4d08f4039940b680e2eb3e79c",
    "deepnote_cell_type": "markdown"
   },
   "source": [
    "## Regressions and Classifiers "
   ]
  },
  {
   "cell_type": "markdown",
   "metadata": {
    "cell_id": "5b73f33d8cf14520a989422d16030b26",
    "deepnote_cell_type": "markdown"
   },
   "source": [
    "Here, we will use different Regression methods on the champions to explore correlations between other columns in the dataset"
   ]
  },
  {
   "cell_type": "markdown",
   "metadata": {
    "cell_id": "67424e6e27ad4f2486ac87da9b768f4d",
    "deepnote_cell_type": "markdown"
   },
   "source": [
    "### Linear Regression Model for Champions' Win Rate and Score"
   ]
  },
  {
   "cell_type": "code",
   "execution_count": 14,
   "metadata": {
    "cell_id": "19c133063f2d49a3aa91588f08bd25ce",
    "deepnote_cell_type": "code",
    "deepnote_to_be_reexecuted": false,
    "execution_millis": 21,
    "execution_start": 1695796816764,
    "source_hash": "bc2d21f9"
   },
   "outputs": [],
   "source": [
    "reg = LinearRegression()\n",
    "reg.fit(df[[\"Win %\"]],df[\"Score\"])\n",
    "reg.predict(df[[\"Win %\"]])\n",
    "df[\"Pred\"] = reg.predict(df[[\"Win %\"]])"
   ]
  },
  {
   "cell_type": "code",
   "execution_count": 15,
   "metadata": {
    "cell_id": "6fbcbddb9ace4c1490e94264c920f40b",
    "deepnote_cell_type": "code",
    "deepnote_to_be_reexecuted": false,
    "execution_millis": 417,
    "execution_start": 1695796816858,
    "source_hash": "101cc953"
   },
   "outputs": [
    {
     "data": {
      "text/html": [
       "\n",
       "<div id=\"altair-viz-09684bfadb294feca53713d0e50a8791\"></div>\n",
       "<script type=\"text/javascript\">\n",
       "  var VEGA_DEBUG = (typeof VEGA_DEBUG == \"undefined\") ? {} : VEGA_DEBUG;\n",
       "  (function(spec, embedOpt){\n",
       "    let outputDiv = document.currentScript.previousElementSibling;\n",
       "    if (outputDiv.id !== \"altair-viz-09684bfadb294feca53713d0e50a8791\") {\n",
       "      outputDiv = document.getElementById(\"altair-viz-09684bfadb294feca53713d0e50a8791\");\n",
       "    }\n",
       "    const paths = {\n",
       "      \"vega\": \"https://cdn.jsdelivr.net/npm//vega@5?noext\",\n",
       "      \"vega-lib\": \"https://cdn.jsdelivr.net/npm//vega-lib?noext\",\n",
       "      \"vega-lite\": \"https://cdn.jsdelivr.net/npm//vega-lite@4.17.0?noext\",\n",
       "      \"vega-embed\": \"https://cdn.jsdelivr.net/npm//vega-embed@6?noext\",\n",
       "    };\n",
       "\n",
       "    function maybeLoadScript(lib, version) {\n",
       "      var key = `${lib.replace(\"-\", \"\")}_version`;\n",
       "      return (VEGA_DEBUG[key] == version) ?\n",
       "        Promise.resolve(paths[lib]) :\n",
       "        new Promise(function(resolve, reject) {\n",
       "          var s = document.createElement('script');\n",
       "          document.getElementsByTagName(\"head\")[0].appendChild(s);\n",
       "          s.async = true;\n",
       "          s.onload = () => {\n",
       "            VEGA_DEBUG[key] = version;\n",
       "            return resolve(paths[lib]);\n",
       "          };\n",
       "          s.onerror = () => reject(`Error loading script: ${paths[lib]}`);\n",
       "          s.src = paths[lib];\n",
       "        });\n",
       "    }\n",
       "\n",
       "    function showError(err) {\n",
       "      outputDiv.innerHTML = `<div class=\"error\" style=\"color:red;\">${err}</div>`;\n",
       "      throw err;\n",
       "    }\n",
       "\n",
       "    function displayChart(vegaEmbed) {\n",
       "      vegaEmbed(outputDiv, spec, embedOpt)\n",
       "        .catch(err => showError(`Javascript Error: ${err.message}<br>This usually means there's a typo in your chart specification. See the javascript console for the full traceback.`));\n",
       "    }\n",
       "\n",
       "    if(typeof define === \"function\" && define.amd) {\n",
       "      requirejs.config({paths});\n",
       "      require([\"vega-embed\"], displayChart, err => showError(`Error loading script: ${err.message}`));\n",
       "    } else {\n",
       "      maybeLoadScript(\"vega\", \"5\")\n",
       "        .then(() => maybeLoadScript(\"vega-lite\", \"4.17.0\"))\n",
       "        .then(() => maybeLoadScript(\"vega-embed\", \"6\"))\n",
       "        .catch(showError)\n",
       "        .then(() => displayChart(vegaEmbed));\n",
       "    }\n",
       "  })({\"config\": {\"view\": {\"continuousWidth\": 400, \"continuousHeight\": 300}}, \"layer\": [{\"mark\": \"circle\", \"encoding\": {\"x\": {\"field\": \"Win %\", \"scale\": {\"zero\": false}, \"type\": \"quantitative\"}, \"y\": {\"field\": \"Score\", \"type\": \"quantitative\"}}}, {\"mark\": {\"type\": \"line\", \"color\": \"red\"}, \"encoding\": {\"x\": {\"field\": \"Win %\", \"scale\": {\"zero\": false}, \"type\": \"quantitative\"}, \"y\": {\"field\": \"Pred\", \"type\": \"quantitative\"}}}], \"data\": {\"name\": \"data-ea8391577fd9492747255e5e6b45b604\"}, \"$schema\": \"https://vega.github.io/schema/vega-lite/v4.17.0.json\", \"datasets\": {\"data-ea8391577fd9492747255e5e6b45b604\": [{\"Name\": \"Aatrox\", \"Class\": \"Fighter\", \"Role\": \"TOP\", \"Tier\": \"God\", \"Score\": 71.25, \"Trend\": -3.39, \"Win %\": 48.84, \"Role %\": 92.28, \"Pick %\": 7.01, \"Ban %\": 5.81, \"KDA\": 1.85, \"Pred\": 47.11721369834213}, {\"Name\": \"Ahri\", \"Class\": \"Mage\", \"Role\": \"MID\", \"Tier\": \"God\", \"Score\": 77.12, \"Trend\": -5.03, \"Win %\": 50.9, \"Role %\": 95.23, \"Pick %\": 10.63, \"Ban %\": 6.47, \"KDA\": 2.63, \"Pred\": 51.18487226512221}, {\"Name\": \"Akali\", \"Class\": \"Assassin\", \"Role\": \"MID\", \"Tier\": \"A\", \"Score\": 55.37, \"Trend\": -5.08, \"Win %\": 48.18, \"Role %\": 78.45, \"Pick %\": 5.99, \"Ban %\": 8.1, \"KDA\": 2.3, \"Pred\": 45.81398328374267}, {\"Name\": \"Akali\", \"Class\": \"Assassin\", \"Role\": \"TOP\", \"Tier\": \"C\", \"Score\": 36.35, \"Trend\": -0.6, \"Win %\": 48.5, \"Role %\": 20.39, \"Pick %\": 1.45, \"Ban %\": 8.1, \"KDA\": 2.06, \"Pred\": 46.445852575669676}, {\"Name\": \"Akshan\", \"Class\": \"Marksman\", \"Role\": \"MID\", \"Tier\": \"B\", \"Score\": 47.25, \"Trend\": -1.5, \"Win %\": 50.15, \"Role %\": 69.32, \"Pick %\": 2.88, \"Ban %\": 5.94, \"KDA\": 2.16, \"Pred\": 49.70392861216828}, {\"Name\": \"Akshan\", \"Class\": \"Marksman\", \"Role\": \"TOP\", \"Tier\": \"C\", \"Score\": 37.24, \"Trend\": 0.83, \"Win %\": 50.87, \"Role %\": 22.48, \"Pick %\": 0.96, \"Ban %\": 5.94, \"KDA\": 1.89, \"Pred\": 51.12563451900405}, {\"Name\": \"Alistar\", \"Class\": \"Tank\", \"Role\": \"SUPPORT\", \"Tier\": \"A\", \"Score\": 54.33, \"Trend\": 4.6, \"Win %\": 51.13, \"Role %\": 95.57, \"Pick %\": 4.58, \"Ban %\": 1.43, \"KDA\": 2.51, \"Pred\": 51.639028318694756}, {\"Name\": \"Amumu\", \"Class\": \"Tank\", \"Role\": \"JUNGLE\", \"Tier\": \"B\", \"Score\": 44.96, \"Trend\": -0.85, \"Win %\": 51.16, \"Role %\": 66.72, \"Pick %\": 2.86, \"Ban %\": 2.1, \"KDA\": 2.64, \"Pred\": 51.6982660648129}, {\"Name\": \"Amumu\", \"Class\": \"Tank\", \"Role\": \"SUPPORT\", \"Tier\": \"B\", \"Score\": 40.1, \"Trend\": -1.92, \"Win %\": 51.5, \"Role %\": 31.76, \"Pick %\": 1.1, \"Ban %\": 2.1, \"KDA\": 2.08, \"Pred\": 52.36962718748535}, {\"Name\": \"Anivia\", \"Class\": \"Mage\", \"Role\": \"MID\", \"Tier\": \"A\", \"Score\": 50.85, \"Trend\": -1.84, \"Win %\": 51.67, \"Role %\": 79.48, \"Pick %\": 2.22, \"Ban %\": 2.59, \"KDA\": 2.84, \"Pred\": 52.70530774882157}, {\"Name\": \"Anivia\", \"Class\": \"Mage\", \"Role\": \"SUPPORT\", \"Tier\": \"D\", \"Score\": 24.49, \"Trend\": -5.76, \"Win %\": 44.86, \"Role %\": 12.07, \"Pick %\": 0.29, \"Ban %\": 2.59, \"KDA\": 2.07, \"Pred\": 39.25833937999998}, {\"Name\": \"Annie\", \"Class\": \"Mage\", \"Role\": \"MID\", \"Tier\": \"A\", \"Score\": 48.73, \"Trend\": -8.33, \"Win %\": 50.61, \"Role %\": 79.68, \"Pick %\": 2.93, \"Ban %\": 2.28, \"KDA\": 2.34, \"Pred\": 50.61224071931336}, {\"Name\": \"Annie\", \"Class\": \"Mage\", \"Role\": \"SUPPORT\", \"Tier\": \"C\", \"Score\": 36.74, \"Trend\": -3.16, \"Win %\": 50.33, \"Role %\": 15.84, \"Pick %\": 0.6, \"Ban %\": 2.28, \"KDA\": 2.27, \"Pred\": 50.059355088877226}, {\"Name\": \"Aphelios\", \"Class\": \"Marksman\", \"Role\": \"ADC\", \"Tier\": \"B\", \"Score\": 44.69, \"Trend\": -23.49, \"Win %\": 47.44, \"Role %\": 97.7, \"Pick %\": 9.01, \"Ban %\": 3.11, \"KDA\": 1.95, \"Pred\": 44.352785546161456}, {\"Name\": \"Ashe\", \"Class\": \"Marksman\", \"Role\": \"ADC\", \"Tier\": \"S\", \"Score\": 67.31, \"Trend\": 4.14, \"Win %\": 52.39, \"Role %\": 85.21, \"Pick %\": 15.12, \"Ban %\": 5.7, \"KDA\": 2.45, \"Pred\": 54.127013655657336}, {\"Name\": \"Ashe\", \"Class\": \"Marksman\", \"Role\": \"SUPPORT\", \"Tier\": \"C\", \"Score\": 37.02, \"Trend\": 1.58, \"Win %\": 47.67, \"Role %\": 12.55, \"Pick %\": 2.14, \"Ban %\": 5.7, \"KDA\": 2.06, \"Pred\": 44.806941599734}, {\"Name\": \"Aurelion Sol\", \"Class\": \"Mage\", \"Role\": \"MID\", \"Tier\": \"A\", \"Score\": 54.0, \"Trend\": 0.48, \"Win %\": 51.48, \"Role %\": 87.38, \"Pick %\": 3.5, \"Ban %\": 5.2, \"KDA\": 2.64, \"Pred\": 52.3301353567399}, {\"Name\": \"Azir\", \"Class\": \"Mage\", \"Role\": \"MID\", \"Tier\": \"A\", \"Score\": 47.51, \"Trend\": 0.27, \"Win %\": 48.12, \"Role %\": 92.08, \"Pick %\": 4.37, \"Ban %\": 1.15, \"KDA\": 2.09, \"Pred\": 45.695507791506344}, {\"Name\": \"Bard\", \"Class\": \"Support\", \"Role\": \"SUPPORT\", \"Tier\": \"B\", \"Score\": 43.6, \"Trend\": -2.68, \"Win %\": 49.55, \"Role %\": 95.39, \"Pick %\": 2.14, \"Ban %\": 0.31, \"KDA\": 2.88, \"Pred\": 48.51917368980516}, {\"Name\": \"Bel'Veth\", \"Class\": \"Fighter\", \"Role\": \"JUNGLE\", \"Tier\": \"A\", \"Score\": 49.69, \"Trend\": 1.57, \"Win %\": 50.6, \"Role %\": 89.84, \"Pick %\": 4.26, \"Ban %\": 6.09, \"KDA\": 2.41, \"Pred\": 50.59249480394065}, {\"Name\": \"Blitzcrank\", \"Class\": \"Tank\", \"Role\": \"SUPPORT\", \"Tier\": \"God\", \"Score\": 79.03, \"Trend\": 4.56, \"Win %\": 50.96, \"Role %\": 97.14, \"Pick %\": 8.78, \"Ban %\": 23.8, \"KDA\": 2.37, \"Pred\": 51.30334775735852}, {\"Name\": \"Brand\", \"Class\": \"Mage\", \"Role\": \"SUPPORT\", \"Tier\": \"B\", \"Score\": 41.62, \"Trend\": -3.46, \"Win %\": 49.16, \"Role %\": 72.74, \"Pick %\": 2.96, \"Ban %\": 3.38, \"KDA\": 1.75, \"Pred\": 47.749082990269116}, {\"Name\": \"Brand\", \"Class\": \"Mage\", \"Role\": \"MID\", \"Tier\": \"B\", \"Score\": 40.08, \"Trend\": 5.34, \"Win %\": 50.52, \"Role %\": 19.47, \"Pick %\": 0.72, \"Ban %\": 3.38, \"KDA\": 2.06, \"Pred\": 50.434527480958906}, {\"Name\": \"Braum\", \"Class\": \"Support\", \"Role\": \"SUPPORT\", \"Tier\": \"B\", \"Score\": 47.38, \"Trend\": 0.89, \"Win %\": 49.83, \"Role %\": 98.48, \"Pick %\": 3.1, \"Ban %\": 0.53, \"KDA\": 2.79, \"Pred\": 49.07205932024128}, {\"Name\": \"Caitlyn\", \"Class\": \"Marksman\", \"Role\": \"ADC\", \"Tier\": \"B\", \"Score\": 46.61, \"Trend\": -2.93, \"Win %\": 47.84, \"Role %\": 94.39, \"Pick %\": 8.77, \"Ban %\": 6.08, \"KDA\": 2.12, \"Pred\": 45.142622161070236}, {\"Name\": \"Camille\", \"Class\": \"Fighter\", \"Role\": \"TOP\", \"Tier\": \"A\", \"Score\": 50.66, \"Trend\": -0.83, \"Win %\": 50.52, \"Role %\": 92.99, \"Pick %\": 3.26, \"Ban %\": 1.75, \"KDA\": 1.94, \"Pred\": 50.434527480958906}, {\"Name\": \"Cassiopeia\", \"Class\": \"Mage\", \"Role\": \"MID\", \"Tier\": \"B\", \"Score\": 47.36, \"Trend\": -1.15, \"Win %\": 51.45, \"Role %\": 73.55, \"Pick %\": 2.3, \"Ban %\": 2.34, \"KDA\": 2.16, \"Pred\": 52.27089761062176}, {\"Name\": \"Cassiopeia\", \"Class\": \"Mage\", \"Role\": \"TOP\", \"Tier\": \"C\", \"Score\": 37.99, \"Trend\": -1.37, \"Win %\": 52.33, \"Role %\": 16.69, \"Pick %\": 0.53, \"Ban %\": 2.34, \"KDA\": 1.95, \"Pred\": 54.00853816342101}, {\"Name\": \"Cho'Gath\", \"Class\": \"Tank\", \"Role\": \"TOP\", \"Tier\": \"A\", \"Score\": 51.89, \"Trend\": -1.43, \"Win %\": 51.25, \"Role %\": 65.85, \"Pick %\": 3.06, \"Ban %\": 1.32, \"KDA\": 2.07, \"Pred\": 51.87597930316737}, {\"Name\": \"Cho'Gath\", \"Class\": \"Tank\", \"Role\": \"MID\", \"Tier\": \"B\", \"Score\": 43.75, \"Trend\": 0.1, \"Win %\": 51.56, \"Role %\": 18.54, \"Pick %\": 0.76, \"Ban %\": 1.32, \"KDA\": 2.41, \"Pred\": 52.48810267972166}, {\"Name\": \"Corki\", \"Class\": \"Marksman\", \"Role\": \"MID\", \"Tier\": \"C\", \"Score\": 37.15, \"Trend\": -0.31, \"Win %\": 48.34, \"Role %\": 86.3, \"Pick %\": 0.88, \"Ban %\": 0.18, \"KDA\": 2.19, \"Pred\": 46.12991792970618}, {\"Name\": \"Darius\", \"Class\": \"Fighter\", \"Role\": \"TOP\", \"Tier\": \"God\", \"Score\": 89.77, \"Trend\": 2.57, \"Win %\": 49.01, \"Role %\": 92.99, \"Pick %\": 8.46, \"Ban %\": 19.04, \"KDA\": 1.8, \"Pred\": 47.45289425967833}, {\"Name\": \"Diana\", \"Class\": \"Fighter\", \"Role\": \"MID\", \"Tier\": \"B\", \"Score\": 40.75, \"Trend\": -2.3, \"Win %\": 49.94, \"Role %\": 24.93, \"Pick %\": 1.18, \"Ban %\": 1.35, \"KDA\": 2.13, \"Pred\": 49.2892643893412}, {\"Name\": \"Diana\", \"Class\": \"Fighter\", \"Role\": \"JUNGLE\", \"Tier\": \"C\", \"Score\": 39.37, \"Trend\": -2.64, \"Win %\": 48.59, \"Role %\": 72.61, \"Pick %\": 3.35, \"Ban %\": 1.35, \"KDA\": 2.38, \"Pred\": 46.62356581402415}, {\"Name\": \"Dr. Mundo\", \"Class\": \"Marksman\", \"Role\": \"TOP\", \"Tier\": \"A\", \"Score\": 50.46, \"Trend\": -2.71, \"Win %\": 51.84, \"Role %\": 85.89, \"Pick %\": 2.78, \"Ban %\": 2.61, \"KDA\": 1.87, \"Pred\": 53.0409883101578}, {\"Name\": \"Draven\", \"Class\": \"Fighter\", \"Role\": \"ADC\", \"Tier\": \"A\", \"Score\": 48.93, \"Trend\": -0.17, \"Win %\": 50.13, \"Role %\": 95.95, \"Pick %\": 6.31, \"Ban %\": 21.39, \"KDA\": 2.14, \"Pred\": 49.664436781422864}, {\"Name\": \"Ekko\", \"Class\": \"Assassin\", \"Role\": \"JUNGLE\", \"Tier\": \"A\", \"Score\": 53.28, \"Trend\": 2.72, \"Win %\": 50.55, \"Role %\": 63.13, \"Pick %\": 4.83, \"Ban %\": 3.14, \"KDA\": 2.68, \"Pred\": 50.49376522707705}, {\"Name\": \"Ekko\", \"Class\": \"Assassin\", \"Role\": \"MID\", \"Tier\": \"B\", \"Score\": 46.68, \"Trend\": 0.75, \"Win %\": 50.43, \"Role %\": 34.0, \"Pick %\": 2.52, \"Ban %\": 3.14, \"KDA\": 2.24, \"Pred\": 50.25681424260442}, {\"Name\": \"Elise\", \"Class\": \"Mage\", \"Role\": \"JUNGLE\", \"Tier\": \"C\", \"Score\": 36.51, \"Trend\": 1.0, \"Win %\": 49.21, \"Role %\": 92.93, \"Pick %\": 1.98, \"Ban %\": 1.72, \"KDA\": 2.71, \"Pred\": 47.84781256713272}, {\"Name\": \"Evelynn\", \"Class\": \"Assassin\", \"Role\": \"JUNGLE\", \"Tier\": \"S\", \"Score\": 57.3, \"Trend\": 2.59, \"Win %\": 51.18, \"Role %\": 97.95, \"Pick %\": 4.67, \"Ban %\": 9.69, \"KDA\": 2.95, \"Pred\": 51.737757895558346}, {\"Name\": \"Ezreal\", \"Class\": \"Marksman\", \"Role\": \"ADC\", \"Tier\": \"God\", \"Score\": 72.99, \"Trend\": -19.84, \"Win %\": 50.1, \"Role %\": 87.8, \"Pick %\": 19.96, \"Ban %\": 8.96, \"KDA\": 2.49, \"Pred\": 49.60519903530471}, {\"Name\": \"Ezreal\", \"Class\": \"Marksman\", \"Role\": \"MID\", \"Tier\": \"D\", \"Score\": 33.67, \"Trend\": -7.35, \"Win %\": 44.02, \"Role %\": 10.31, \"Pick %\": 2.37, \"Ban %\": 8.96, \"KDA\": 1.98, \"Pred\": 37.5996824886916}, {\"Name\": \"Fiddlesticks\", \"Class\": \"Mage\", \"Role\": \"JUNGLE\", \"Tier\": \"A\", \"Score\": 48.92, \"Trend\": 0.28, \"Win %\": 51.22, \"Role %\": 79.76, \"Pick %\": 3.48, \"Ban %\": 3.61, \"KDA\": 2.75, \"Pred\": 51.81674155704921}, {\"Name\": \"Fiddlesticks\", \"Class\": \"Mage\", \"Role\": \"SUPPORT\", \"Tier\": \"C\", \"Score\": 37.61, \"Trend\": -0.4, \"Win %\": 51.49, \"Role %\": 12.24, \"Pick %\": 0.5, \"Ban %\": 3.53, \"KDA\": 2.03, \"Pred\": 52.349881272112626}, {\"Name\": \"Fiora\", \"Class\": \"Fighter\", \"Role\": \"TOP\", \"Tier\": \"S\", \"Score\": 69.54, \"Trend\": 0.38, \"Win %\": 51.21, \"Role %\": 97.48, \"Pick %\": 5.55, \"Ban %\": 13.56, \"KDA\": 1.69, \"Pred\": 51.7969956416765}, {\"Name\": \"Fizz\", \"Class\": \"Assassin\", \"Role\": \"MID\", \"Tier\": \"S\", \"Score\": 62.51, \"Trend\": 1.61, \"Win %\": 51.79, \"Role %\": 95.0, \"Pick %\": 5.92, \"Ban %\": 9.4, \"KDA\": 2.39, \"Pred\": 52.942258733294196}, {\"Name\": \"Galio\", \"Class\": \"Tank\", \"Role\": \"MID\", \"Tier\": \"B\", \"Score\": 46.34, \"Trend\": 0.19, \"Win %\": 50.84, \"Role %\": 75.81, \"Pick %\": 1.67, \"Ban %\": 0.33, \"KDA\": 2.62, \"Pred\": 51.06639677288591}, {\"Name\": \"Galio\", \"Class\": \"Tank\", \"Role\": \"SUPPORT\", \"Tier\": \"C\", \"Score\": 35.96, \"Trend\": 0.01, \"Win %\": 50.22, \"Role %\": 19.28, \"Pick %\": 0.38, \"Ban %\": 0.33, \"KDA\": 2.33, \"Pred\": 49.84215001977732}, {\"Name\": \"Gangplank\", \"Class\": \"Fighter\", \"Role\": \"TOP\", \"Tier\": \"S\", \"Score\": 58.79, \"Trend\": 0.16, \"Win %\": 49.58, \"Role %\": 85.39, \"Pick %\": 4.78, \"Ban %\": 4.41, \"KDA\": 1.95, \"Pred\": 48.578411435923314}, {\"Name\": \"Gangplank\", \"Class\": \"Fighter\", \"Role\": \"MID\", \"Tier\": \"B\", \"Score\": 44.29, \"Trend\": 1.67, \"Win %\": 52.23, \"Role %\": 13.06, \"Pick %\": 0.76, \"Ban %\": 4.41, \"KDA\": 2.25, \"Pred\": 53.81107900969383}, {\"Name\": \"Garen\", \"Class\": \"Fighter\", \"Role\": \"TOP\", \"Tier\": \"S\", \"Score\": 70.64, \"Trend\": 0.3, \"Win %\": 50.59, \"Role %\": 86.57, \"Pick %\": 6.36, \"Ban %\": 2.43, \"KDA\": 1.99, \"Pred\": 50.57274888856793}, {\"Name\": \"Gnar\", \"Class\": \"Fighter\", \"Role\": \"TOP\", \"Tier\": \"B\", \"Score\": 40.81, \"Trend\": -1.82, \"Win %\": 47.68, \"Role %\": 95.79, \"Pick %\": 2.9, \"Ban %\": 0.57, \"KDA\": 1.8, \"Pred\": 44.82668751510673}, {\"Name\": \"Gragas\", \"Class\": \"Fighter\", \"Role\": \"JUNGLE\", \"Tier\": \"B\", \"Score\": 45.62, \"Trend\": 0.69, \"Win %\": 49.04, \"Role %\": 49.51, \"Pick %\": 3.81, \"Ban %\": 3.23, \"KDA\": 2.8, \"Pred\": 47.51213200579649}, {\"Name\": \"Gragas\", \"Class\": \"Fighter\", \"Role\": \"TOP\", \"Tier\": \"C\", \"Score\": 38.22, \"Trend\": -3.15, \"Win %\": 46.45, \"Role %\": 33.32, \"Pick %\": 2.67, \"Ban %\": 3.23, \"KDA\": 1.96, \"Pred\": 42.3979399242623}, {\"Name\": \"Gragas\", \"Class\": \"Fighter\", \"Role\": \"MID\", \"Tier\": \"C\", \"Score\": 36.71, \"Trend\": -1.32, \"Win %\": 48.01, \"Role %\": 10.62, \"Pick %\": 0.8, \"Ban %\": 3.23, \"KDA\": 2.26, \"Pred\": 45.47830272240644}, {\"Name\": \"Graves\", \"Class\": \"Marksman\", \"Role\": \"JUNGLE\", \"Tier\": \"God\", \"Score\": 72.71, \"Trend\": 1.85, \"Win %\": 50.77, \"Role %\": 91.21, \"Pick %\": 8.58, \"Ban %\": 4.98, \"KDA\": 2.65, \"Pred\": 50.92817536527687}, {\"Name\": \"Gwen\", \"Class\": \"Fighter\", \"Role\": \"TOP\", \"Tier\": \"A\", \"Score\": 53.66, \"Trend\": 2.4, \"Win %\": 49.92, \"Role %\": 89.55, \"Pick %\": 4.22, \"Ban %\": 2.41, \"KDA\": 1.7, \"Pred\": 49.249772558595765}, {\"Name\": \"Hecarim\", \"Class\": \"Fighter\", \"Role\": \"JUNGLE\", \"Tier\": \"S\", \"Score\": 62.04, \"Trend\": 4.1, \"Win %\": 50.31, \"Role %\": 99.16, \"Pick %\": 6.21, \"Ban %\": 11.3, \"KDA\": 2.65, \"Pred\": 50.01986325813181}, {\"Name\": \"Heimerdinger\", \"Class\": \"Mage\", \"Role\": \"MID\", \"Tier\": \"B\", \"Score\": 44.22, \"Trend\": 0.5, \"Win %\": 52.83, \"Role %\": 22.49, \"Pick %\": 0.78, \"Ban %\": 1.53, \"KDA\": 2.01, \"Pred\": 54.995833932056954}, {\"Name\": \"Heimerdinger\", \"Class\": \"Mage\", \"Role\": \"SUPPORT\", \"Tier\": \"C\", \"Score\": 39.84, \"Trend\": -0.65, \"Win %\": 50.81, \"Role %\": 48.93, \"Pick %\": 1.57, \"Ban %\": 1.53, \"KDA\": 1.92, \"Pred\": 51.00715902676775}, {\"Name\": \"Heimerdinger\", \"Class\": \"Mage\", \"Role\": \"TOP\", \"Tier\": \"D\", \"Score\": 33.45, \"Trend\": -0.59, \"Win %\": 50.64, \"Role %\": 19.31, \"Pick %\": 0.66, \"Ban %\": 1.53, \"KDA\": 1.73, \"Pred\": 50.67147846543152}, {\"Name\": \"Illaoi\", \"Class\": \"Fighter\", \"Role\": \"TOP\", \"Tier\": \"S\", \"Score\": 63.63, \"Trend\": 3.5, \"Win %\": 51.46, \"Role %\": 94.01, \"Pick %\": 4.89, \"Ban %\": 12.19, \"KDA\": 1.45, \"Pred\": 52.29064352599447}, {\"Name\": \"Irelia\", \"Class\": \"Fighter\", \"Role\": \"TOP\", \"Tier\": \"A\", \"Score\": 54.9, \"Trend\": 0.85, \"Win %\": 49.67, \"Role %\": 51.43, \"Pick %\": 4.14, \"Ban %\": 11.2, \"KDA\": 1.66, \"Pred\": 48.756124674277785}, {\"Name\": \"Irelia\", \"Class\": \"Fighter\", \"Role\": \"MID\", \"Tier\": \"A\", \"Score\": 49.15, \"Trend\": 1.54, \"Win %\": 50.01, \"Role %\": 46.91, \"Pick %\": 3.79, \"Ban %\": 11.2, \"KDA\": 1.82, \"Pred\": 49.42748579695022}, {\"Name\": \"Ivern\", \"Class\": \"Support\", \"Role\": \"JUNGLE\", \"Tier\": \"A\", \"Score\": 51.46, \"Trend\": -8.06, \"Win %\": 51.35, \"Role %\": 74.38, \"Pick %\": 2.99, \"Ban %\": 5.29, \"KDA\": 3.44, \"Pred\": 52.073438456894564}, {\"Name\": \"Ivern\", \"Class\": \"Support\", \"Role\": \"SUPPORT\", \"Tier\": \"D\", \"Score\": 33.65, \"Trend\": -4.87, \"Win %\": 48.47, \"Role %\": 11.09, \"Pick %\": 0.43, \"Ban %\": 5.29, \"KDA\": 2.5, \"Pred\": 46.38661482955152}, {\"Name\": \"Janna\", \"Class\": \"Support\", \"Role\": \"SUPPORT\", \"Tier\": \"S\", \"Score\": 61.02, \"Trend\": 2.58, \"Win %\": 52.4, \"Role %\": 98.81, \"Pick %\": 4.92, \"Ban %\": 1.69, \"KDA\": 3.2, \"Pred\": 54.146759571030046}, {\"Name\": \"Jarvan IV\", \"Class\": \"Tank\", \"Role\": \"JUNGLE\", \"Tier\": \"S\", \"Score\": 64.68, \"Trend\": 1.7, \"Win %\": 51.45, \"Role %\": 92.12, \"Pick %\": 6.06, \"Ban %\": 2.47, \"KDA\": 3.27, \"Pred\": 52.27089761062176}, {\"Name\": \"Jax\", \"Class\": \"Fighter\", \"Role\": \"TOP\", \"Tier\": \"God\", \"Score\": 92.58, \"Trend\": -0.44, \"Win %\": 50.78, \"Role %\": 85.77, \"Pick %\": 8.51, \"Ban %\": 17.43, \"KDA\": 1.71, \"Pred\": 50.94792128064958}, {\"Name\": \"Jax\", \"Class\": \"Fighter\", \"Role\": \"JUNGLE\", \"Tier\": \"D\", \"Score\": 32.93, \"Trend\": 4.29, \"Win %\": 50.57, \"Role %\": 11.25, \"Pick %\": 1.1, \"Ban %\": 17.43, \"KDA\": 2.14, \"Pred\": 50.53325705782248}, {\"Name\": \"Jayce\", \"Class\": \"Fighter\", \"Role\": \"TOP\", \"Tier\": \"A\", \"Score\": 54.24, \"Trend\": -1.01, \"Win %\": 49.48, \"Role %\": 66.06, \"Pick %\": 4.29, \"Ban %\": 2.77, \"KDA\": 1.82, \"Pred\": 48.38095228219612}, {\"Name\": \"Jayce\", \"Class\": \"Fighter\", \"Role\": \"MID\", \"Tier\": \"B\", \"Score\": 45.75, \"Trend\": 0.7, \"Win %\": 50.87, \"Role %\": 31.85, \"Pick %\": 2.1, \"Ban %\": 2.77, \"KDA\": 2.16, \"Pred\": 51.12563451900405}, {\"Name\": \"Jhin\", \"Class\": \"Marksman\", \"Role\": \"ADC\", \"Tier\": \"S\", \"Score\": 59.38, \"Trend\": -16.54, \"Win %\": 50.41, \"Role %\": 95.81, \"Pick %\": 11.46, \"Ban %\": 4.05, \"KDA\": 2.82, \"Pred\": 50.21732241185897}, {\"Name\": \"Jinx\", \"Class\": \"Marksman\", \"Role\": \"ADC\", \"Tier\": \"A\", \"Score\": 48.29, \"Trend\": -4.48, \"Win %\": 49.15, \"Role %\": 98.11, \"Pick %\": 8.47, \"Ban %\": 1.44, \"KDA\": 2.24, \"Pred\": 47.72933707489639}, {\"Name\": \"K'Sante\", \"Class\": \"Fighter\", \"Role\": \"TOP\", \"Tier\": \"S\", \"Score\": 59.69, \"Trend\": -2.15, \"Win %\": 45.25, \"Role %\": 87.99, \"Pick %\": 6.48, \"Ban %\": 5.83, \"KDA\": 1.82, \"Pred\": 40.02843007953602}, {\"Name\": \"Kai'Sa\", \"Class\": \"Marksman\", \"Role\": \"ADC\", \"Tier\": \"God\", \"Score\": 92.98, \"Trend\": 3.24, \"Win %\": 51.4, \"Role %\": 91.68, \"Pick %\": 28.67, \"Ban %\": 11.96, \"KDA\": 2.48, \"Pred\": 52.172168033758155}, {\"Name\": \"Kalista\", \"Class\": \"Marksman\", \"Role\": \"ADC\", \"Tier\": \"C\", \"Score\": 34.73, \"Trend\": 6.99, \"Win %\": 47.64, \"Role %\": 88.59, \"Pick %\": 2.28, \"Ban %\": 0.68, \"KDA\": 2.12, \"Pred\": 44.747703853615846}, {\"Name\": \"Karma\", \"Class\": \"Mage\", \"Role\": \"SUPPORT\", \"Tier\": \"A\", \"Score\": 50.43, \"Trend\": -0.38, \"Win %\": 48.0, \"Role %\": 89.34, \"Pick %\": 5.1, \"Ban %\": 0.93, \"KDA\": 2.55, \"Pred\": 45.45855680703373}, {\"Name\": \"Karthus\", \"Class\": \"Mage\", \"Role\": \"ADC\", \"Tier\": \"B\", \"Score\": 46.76, \"Trend\": 6.48, \"Win %\": 54.12, \"Role %\": 34.38, \"Pick %\": 1.84, \"Ban %\": 5.94, \"KDA\": 2.27, \"Pred\": 57.54305701513769}, {\"Name\": \"Karthus\", \"Class\": \"Mage\", \"Role\": \"MID\", \"Tier\": \"B\", \"Score\": 42.52, \"Trend\": 3.23, \"Win %\": 51.76, \"Role %\": 10.07, \"Pick %\": 0.47, \"Ban %\": 5.94, \"KDA\": 2.25, \"Pred\": 52.88302098717604}, {\"Name\": \"Karthus\", \"Class\": \"Mage\", \"Role\": \"JUNGLE\", \"Tier\": \"C\", \"Score\": 38.01, \"Trend\": -1.81, \"Win %\": 49.56, \"Role %\": 48.67, \"Pick %\": 2.31, \"Ban %\": 5.94, \"KDA\": 2.46, \"Pred\": 48.53891960517788}, {\"Name\": \"Kassadin\", \"Class\": \"Assassin\", \"Role\": \"MID\", \"Tier\": \"B\", \"Score\": 45.87, \"Trend\": -1.12, \"Win %\": 50.38, \"Role %\": 95.52, \"Pick %\": 1.92, \"Ban %\": 3.09, \"KDA\": 2.5, \"Pred\": 50.15808466574083}, {\"Name\": \"Katarina\", \"Class\": \"Assassin\", \"Role\": \"MID\", \"Tier\": \"S\", \"Score\": 64.8, \"Trend\": 2.24, \"Win %\": 49.37, \"Role %\": 95.1, \"Pick %\": 7.86, \"Ban %\": 12.01, \"KDA\": 2.24, \"Pred\": 48.163747213096215}, {\"Name\": \"Kayle\", \"Class\": \"Fighter\", \"Role\": \"TOP\", \"Tier\": \"S\", \"Score\": 59.91, \"Trend\": -2.81, \"Win %\": 52.36, \"Role %\": 84.12, \"Pick %\": 4.17, \"Ban %\": 2.69, \"KDA\": 1.83, \"Pred\": 54.067775909539165}, {\"Name\": \"Kayle\", \"Class\": \"Fighter\", \"Role\": \"MID\", \"Tier\": \"B\", \"Score\": 47.19, \"Trend\": -0.96, \"Win %\": 54.21, \"Role %\": 13.41, \"Pick %\": 0.6, \"Ban %\": 2.69, \"KDA\": 2.22, \"Pred\": 57.72077025349218}, {\"Name\": \"Kayn\", \"Class\": \"Fighter\", \"Role\": \"JUNGLE\", \"Tier\": \"God\", \"Score\": 83.56, \"Trend\": 7.31, \"Win %\": 51.06, \"Role %\": 93.96, \"Pick %\": 10.28, \"Ban %\": 10.65, \"KDA\": 2.45, \"Pred\": 51.50080691108572}, {\"Name\": \"Kennen\", \"Class\": \"Mage\", \"Role\": \"TOP\", \"Tier\": \"C\", \"Score\": 38.75, \"Trend\": -6.52, \"Win %\": 48.76, \"Role %\": 80.59, \"Pick %\": 2.03, \"Ban %\": 1.97, \"KDA\": 1.88, \"Pred\": 46.959246375360365}, {\"Name\": \"Kennen\", \"Class\": \"Mage\", \"Role\": \"MID\", \"Tier\": \"C\", \"Score\": 37.55, \"Trend\": -3.41, \"Win %\": 49.12, \"Role %\": 14.67, \"Pick %\": 0.39, \"Ban %\": 1.97, \"KDA\": 2.29, \"Pred\": 47.670099328778235}, {\"Name\": \"Kha'Zix\", \"Class\": \"Assassin\", \"Role\": \"JUNGLE\", \"Tier\": \"God\", \"Score\": 89.93, \"Trend\": -3.1, \"Win %\": 51.13, \"Role %\": 99.12, \"Pick %\": 10.1, \"Ban %\": 19.44, \"KDA\": 2.64, \"Pred\": 51.639028318694756}, {\"Name\": \"Kindred\", \"Class\": \"Marksman\", \"Role\": \"JUNGLE\", \"Tier\": \"God\", \"Score\": 73.66, \"Trend\": -12.38, \"Win %\": 51.32, \"Role %\": 96.38, \"Pick %\": 7.2, \"Ban %\": 19.82, \"KDA\": 2.31, \"Pred\": 52.01420071077641}, {\"Name\": \"Kled\", \"Class\": \"Fighter\", \"Role\": \"TOP\", \"Tier\": \"A\", \"Score\": 48.26, \"Trend\": -0.11, \"Win %\": 52.16, \"Role %\": 88.41, \"Pick %\": 1.98, \"Ban %\": 1.33, \"KDA\": 2.21, \"Pred\": 53.67285760208479}, {\"Name\": \"Kog'Maw\", \"Class\": \"Marksman\", \"Role\": \"ADC\", \"Tier\": \"B\", \"Score\": 42.51, \"Trend\": 8.28, \"Win %\": 51.88, \"Role %\": 89.95, \"Pick %\": 2.34, \"Ban %\": 2.26, \"KDA\": 2.13, \"Pred\": 53.11997197164867}, {\"Name\": \"LeBlanc\", \"Class\": \"Assassin\", \"Role\": \"MID\", \"Tier\": \"S\", \"Score\": 66.02, \"Trend\": -21.94, \"Win %\": 49.58, \"Role %\": 90.18, \"Pick %\": 6.61, \"Ban %\": 18.83, \"KDA\": 2.74, \"Pred\": 48.578411435923314}, {\"Name\": \"Lee Sin\", \"Class\": \"Fighter\", \"Role\": \"JUNGLE\", \"Tier\": \"God\", \"Score\": 91.03, \"Trend\": 13.94, \"Win %\": 47.95, \"Role %\": 92.93, \"Pick %\": 13.32, \"Ban %\": 7.59, \"KDA\": 2.67, \"Pred\": 45.35982723017014}, {\"Name\": \"Leona\", \"Class\": \"Tank\", \"Role\": \"SUPPORT\", \"Tier\": \"S\", \"Score\": 57.54, \"Trend\": -0.02, \"Win %\": 51.01, \"Role %\": 98.61, \"Pick %\": 5.49, \"Ban %\": 3.77, \"KDA\": 2.39, \"Pred\": 51.40207733422211}, {\"Name\": \"Lillia\", \"Class\": \"Fighter\", \"Role\": \"JUNGLE\", \"Tier\": \"A\", \"Score\": 51.06, \"Trend\": 0.54, \"Win %\": 51.41, \"Role %\": 87.66, \"Pick %\": 3.89, \"Ban %\": 2.04, \"KDA\": 2.75, \"Pred\": 52.191913949130864}, {\"Name\": \"Lissandra\", \"Class\": \"Mage\", \"Role\": \"MID\", \"Tier\": \"A\", \"Score\": 47.5, \"Trend\": -3.35, \"Win %\": 49.79, \"Role %\": 92.35, \"Pick %\": 2.95, \"Ban %\": 1.4, \"KDA\": 2.4, \"Pred\": 48.99307565875041}, {\"Name\": \"Lucian\", \"Class\": \"Marksman\", \"Role\": \"ADC\", \"Tier\": \"B\", \"Score\": 45.63, \"Trend\": -7.42, \"Win %\": 48.67, \"Role %\": 92.8, \"Pick %\": 7.36, \"Ban %\": 2.3, \"KDA\": 2.22, \"Pred\": 46.781533137005894}, {\"Name\": \"Lulu\", \"Class\": \"Support\", \"Role\": \"SUPPORT\", \"Tier\": \"S\", \"Score\": 59.04, \"Trend\": -0.46, \"Win %\": 47.93, \"Role %\": 97.34, \"Pick %\": 6.64, \"Ban %\": 6.75, \"KDA\": 2.85, \"Pred\": 45.32033539942469}, {\"Name\": \"Lux\", \"Class\": \"Mage\", \"Role\": \"SUPPORT\", \"Tier\": \"God\", \"Score\": 84.82, \"Trend\": 7.57, \"Win %\": 50.0, \"Role %\": 64.68, \"Pick %\": 11.55, \"Ban %\": 11.12, \"KDA\": 2.36, \"Pred\": 49.40773988157751}, {\"Name\": \"Lux\", \"Class\": \"Mage\", \"Role\": \"MID\", \"Tier\": \"S\", \"Score\": 60.79, \"Trend\": -0.11, \"Win %\": 51.03, \"Role %\": 31.83, \"Pick %\": 5.03, \"Ban %\": 11.12, \"KDA\": 2.87, \"Pred\": 51.44156916496756}, {\"Name\": \"Malphite\", \"Class\": \"Tank\", \"Role\": \"TOP\", \"Tier\": \"God\", \"Score\": 83.04, \"Trend\": -1.26, \"Win %\": 51.43, \"Role %\": 72.61, \"Pick %\": 6.62, \"Ban %\": 13.84, \"KDA\": 2.48, \"Pred\": 52.23140577987631}, {\"Name\": \"Malphite\", \"Class\": \"Tank\", \"Role\": \"MID\", \"Tier\": \"B\", \"Score\": 46.92, \"Trend\": -1.33, \"Win %\": 52.0, \"Role %\": 12.29, \"Pick %\": 1.12, \"Ban %\": 13.84, \"KDA\": 2.55, \"Pred\": 53.356922956121295}, {\"Name\": \"Malphite\", \"Class\": \"Tank\", \"Role\": \"SUPPORT\", \"Tier\": \"D\", \"Score\": 30.04, \"Trend\": -4.96, \"Win %\": 46.11, \"Role %\": 11.74, \"Pick %\": 1.09, \"Ban %\": 13.79, \"KDA\": 1.99, \"Pred\": 41.72657880158985}, {\"Name\": \"Malzahar\", \"Class\": \"Mage\", \"Role\": \"MID\", \"Tier\": \"A\", \"Score\": 51.78, \"Trend\": -1.03, \"Win %\": 50.78, \"Role %\": 89.78, \"Pick %\": 3.73, \"Ban %\": 5.55, \"KDA\": 2.27, \"Pred\": 50.94792128064958}, {\"Name\": \"Maokai\", \"Class\": \"Tank\", \"Role\": \"JUNGLE\", \"Tier\": \"A\", \"Score\": 52.39, \"Trend\": 1.0, \"Win %\": 51.84, \"Role %\": 64.48, \"Pick %\": 3.61, \"Ban %\": 1.08, \"KDA\": 3.05, \"Pred\": 53.0409883101578}, {\"Name\": \"Maokai\", \"Class\": \"Tank\", \"Role\": \"SUPPORT\", \"Tier\": \"B\", \"Score\": 46.53, \"Trend\": 5.55, \"Win %\": 54.49, \"Role %\": 18.87, \"Pick %\": 1.01, \"Ban %\": 1.08, \"KDA\": 2.37, \"Pred\": 58.2736558839283}, {\"Name\": \"Maokai\", \"Class\": \"Tank\", \"Role\": \"TOP\", \"Tier\": \"B\", \"Score\": 43.6, \"Trend\": 2.19, \"Win %\": 52.33, \"Role %\": 15.61, \"Pick %\": 0.89, \"Ban %\": 1.08, \"KDA\": 2.44, \"Pred\": 54.00853816342101}, {\"Name\": \"Master Yi\", \"Class\": \"Assassin\", \"Role\": \"JUNGLE\", \"Tier\": \"God\", \"Score\": 71.87, \"Trend\": -1.37, \"Win %\": 49.7, \"Role %\": 91.72, \"Pick %\": 7.9, \"Ban %\": 19.09, \"KDA\": 2.06, \"Pred\": 48.81536242039594}, {\"Name\": \"Milio\", \"Class\": \"Support\", \"Role\": \"SUPPORT\", \"Tier\": \"God\", \"Score\": 81.15, \"Trend\": -11.18, \"Win %\": 50.52, \"Role %\": 99.51, \"Pick %\": 8.81, \"Ban %\": 18.76, \"KDA\": 3.39, \"Pred\": 50.434527480958906}, {\"Name\": \"Miss Fortune\", \"Class\": \"Marksman\", \"Role\": \"ADC\", \"Tier\": \"S\", \"Score\": 60.44, \"Trend\": -4.87, \"Win %\": 51.75, \"Role %\": 91.94, \"Pick %\": 12.21, \"Ban %\": 4.64, \"KDA\": 2.31, \"Pred\": 52.863275071803315}, {\"Name\": \"Mordekaiser\", \"Class\": \"Fighter\", \"Role\": \"TOP\", \"Tier\": \"God\", \"Score\": 72.79, \"Trend\": -1.18, \"Win %\": 49.87, \"Role %\": 85.39, \"Pick %\": 6.38, \"Ban %\": 11.25, \"KDA\": 1.83, \"Pred\": 49.15104298173216}, {\"Name\": \"Morgana\", \"Class\": \"Mage\", \"Role\": \"SUPPORT\", \"Tier\": \"S\", \"Score\": 64.13, \"Trend\": 5.31, \"Win %\": 49.29, \"Role %\": 89.62, \"Pick %\": 5.96, \"Ban %\": 24.57, \"KDA\": 2.36, \"Pred\": 48.00577989011447}, {\"Name\": \"Nami\", \"Class\": \"Support\", \"Role\": \"SUPPORT\", \"Tier\": \"A\", \"Score\": 52.82, \"Trend\": -2.31, \"Win %\": 49.25, \"Role %\": 99.39, \"Pick %\": 4.7, \"Ban %\": 0.46, \"KDA\": 2.93, \"Pred\": 47.92679622862359}, {\"Name\": \"Nasus\", \"Class\": \"Fighter\", \"Role\": \"TOP\", \"Tier\": \"S\", \"Score\": 66.24, \"Trend\": -5.88, \"Win %\": 51.4, \"Role %\": 81.24, \"Pick %\": 5.26, \"Ban %\": 5.33, \"KDA\": 1.92, \"Pred\": 52.172168033758155}, {\"Name\": \"Nasus\", \"Class\": \"Fighter\", \"Role\": \"MID\", \"Tier\": \"B\", \"Score\": 42.5, \"Trend\": 1.0, \"Win %\": 51.71, \"Role %\": 11.6, \"Pick %\": 0.58, \"Ban %\": 5.33, \"KDA\": 2.2, \"Pred\": 52.78429141031245}, {\"Name\": \"Nautilus\", \"Class\": \"Tank\", \"Role\": \"SUPPORT\", \"Tier\": \"God\", \"Score\": 87.81, \"Trend\": 8.42, \"Win %\": 50.82, \"Role %\": 96.15, \"Pick %\": 11.97, \"Ban %\": 14.67, \"KDA\": 2.3, \"Pred\": 51.02690494214046}, {\"Name\": \"Neeko\", \"Class\": \"Mage\", \"Role\": \"MID\", \"Tier\": \"A\", \"Score\": 54.1, \"Trend\": -11.96, \"Win %\": 51.61, \"Role %\": 47.72, \"Pick %\": 3.25, \"Ban %\": 15.44, \"KDA\": 2.51, \"Pred\": 52.586832256585254}, {\"Name\": \"Neeko\", \"Class\": \"Mage\", \"Role\": \"SUPPORT\", \"Tier\": \"B\", \"Score\": 44.74, \"Trend\": -2.19, \"Win %\": 49.94, \"Role %\": 37.24, \"Pick %\": 2.75, \"Ban %\": 15.44, \"KDA\": 2.02, \"Pred\": 49.2892643893412}, {\"Name\": \"Nidalee\", \"Class\": \"Assassin\", \"Role\": \"JUNGLE\", \"Tier\": \"A\", \"Score\": 54.05, \"Trend\": 6.14, \"Win %\": 48.74, \"Role %\": 90.77, \"Pick %\": 5.29, \"Ban %\": 5.7, \"KDA\": 2.92, \"Pred\": 46.91975454461493}, {\"Name\": \"Nilah\", \"Class\": \"Marksman\", \"Role\": \"ADC\", \"Tier\": \"B\", \"Score\": 45.72, \"Trend\": 5.1, \"Win %\": 52.55, \"Role %\": 97.23, \"Pick %\": 3.03, \"Ban %\": 5.33, \"KDA\": 2.25, \"Pred\": 54.44294830162083}, {\"Name\": \"Nocturne\", \"Class\": \"Assassin\", \"Role\": \"JUNGLE\", \"Tier\": \"A\", \"Score\": 56.43, \"Trend\": 3.43, \"Win %\": 51.84, \"Role %\": 94.08, \"Pick %\": 4.79, \"Ban %\": 4.66, \"KDA\": 2.65, \"Pred\": 53.0409883101578}, {\"Name\": \"Nunu\", \"Class\": \"Tank\", \"Role\": \"JUNGLE\", \"Tier\": \"B\", \"Score\": 42.05, \"Trend\": -2.96, \"Win %\": 48.11, \"Role %\": 90.95, \"Pick %\": 3.81, \"Ban %\": 0.92, \"KDA\": 2.66, \"Pred\": 45.675761876133635}, {\"Name\": \"Olaf\", \"Class\": \"Fighter\", \"Role\": \"TOP\", \"Tier\": \"A\", \"Score\": 48.79, \"Trend\": 0.53, \"Win %\": 51.34, \"Role %\": 86.29, \"Pick %\": 2.82, \"Ban %\": 3.77, \"KDA\": 1.74, \"Pred\": 52.053692541521855}, {\"Name\": \"Olaf\", \"Class\": \"Fighter\", \"Role\": \"JUNGLE\", \"Tier\": \"D\", \"Score\": 22.96, \"Trend\": -3.37, \"Win %\": 48.21, \"Role %\": 10.8, \"Pick %\": 0.31, \"Ban %\": 3.77, \"KDA\": 2.17, \"Pred\": 45.87322102986083}, {\"Name\": \"Orianna\", \"Class\": \"Mage\", \"Role\": \"MID\", \"Tier\": \"A\", \"Score\": 50.56, \"Trend\": -0.15, \"Win %\": 50.69, \"Role %\": 89.37, \"Pick %\": 2.87, \"Ban %\": 0.27, \"KDA\": 2.76, \"Pred\": 50.77020804229511}, {\"Name\": \"Ornn\", \"Class\": \"Tank\", \"Role\": \"TOP\", \"Tier\": \"S\", \"Score\": 60.18, \"Trend\": -1.99, \"Win %\": 50.28, \"Role %\": 93.53, \"Pick %\": 4.4, \"Ban %\": 1.16, \"KDA\": 2.4, \"Pred\": 49.960625512013635}, {\"Name\": \"Pantheon\", \"Class\": \"Fighter\", \"Role\": \"MID\", \"Tier\": \"A\", \"Score\": 49.94, \"Trend\": -2.96, \"Win %\": 51.3, \"Role %\": 32.08, \"Pick %\": 2.89, \"Ban %\": 5.56, \"KDA\": 2.29, \"Pred\": 51.97470888003096}, {\"Name\": \"Pantheon\", \"Class\": \"Fighter\", \"Role\": \"TOP\", \"Tier\": \"A\", \"Score\": 49.25, \"Trend\": 3.86, \"Win %\": 50.86, \"Role %\": 32.83, \"Pick %\": 2.7, \"Ban %\": 5.56, \"KDA\": 2.03, \"Pred\": 51.10588860363133}, {\"Name\": \"Pantheon\", \"Class\": \"Fighter\", \"Role\": \"SUPPORT\", \"Tier\": \"C\", \"Score\": 36.47, \"Trend\": 1.46, \"Win %\": 47.4, \"Role %\": 25.58, \"Pick %\": 2.33, \"Ban %\": 5.56, \"KDA\": 1.85, \"Pred\": 44.27380188467059}, {\"Name\": \"Poppy\", \"Class\": \"Tank\", \"Role\": \"TOP\", \"Tier\": \"A\", \"Score\": 49.74, \"Trend\": 0.42, \"Win %\": 51.66, \"Role %\": 42.02, \"Pick %\": 2.35, \"Ban %\": 2.98, \"KDA\": 2.21, \"Pred\": 52.685561833448844}, {\"Name\": \"Poppy\", \"Class\": \"Tank\", \"Role\": \"JUNGLE\", \"Tier\": \"B\", \"Score\": 44.39, \"Trend\": 0.46, \"Win %\": 50.7, \"Role %\": 49.46, \"Pick %\": 2.64, \"Ban %\": 2.98, \"KDA\": 2.89, \"Pred\": 50.789953957667834}, {\"Name\": \"Pyke\", \"Class\": \"Support\", \"Role\": \"SUPPORT\", \"Tier\": \"S\", \"Score\": 67.1, \"Trend\": 4.07, \"Win %\": 49.12, \"Role %\": 95.33, \"Pick %\": 8.26, \"Ban %\": 12.75, \"KDA\": 2.16, \"Pred\": 47.670099328778235}, {\"Name\": \"Qiyana\", \"Class\": \"Assassin\", \"Role\": \"MID\", \"Tier\": \"A\", \"Score\": 47.41, \"Trend\": 5.15, \"Win %\": 50.02, \"Role %\": 82.89, \"Pick %\": 3.1, \"Ban %\": 1.14, \"KDA\": 2.2, \"Pred\": 49.44723171232296}, {\"Name\": \"Qiyana\", \"Class\": \"Assassin\", \"Role\": \"JUNGLE\", \"Tier\": \"D\", \"Score\": 20.78, \"Trend\": -2.99, \"Win %\": 46.71, \"Role %\": 11.0, \"Pick %\": 0.39, \"Ban %\": 1.14, \"KDA\": 2.34, \"Pred\": 42.91133372395299}, {\"Name\": \"Quinn\", \"Class\": \"Marksman\", \"Role\": \"TOP\", \"Tier\": \"A\", \"Score\": 49.07, \"Trend\": 5.45, \"Win %\": 52.52, \"Role %\": 80.07, \"Pick %\": 2.25, \"Ban %\": 1.36, \"KDA\": 1.97, \"Pred\": 54.38371055550269}, {\"Name\": \"Quinn\", \"Class\": \"Marksman\", \"Role\": \"MID\", \"Tier\": \"B\", \"Score\": 44.2, \"Trend\": -2.63, \"Win %\": 52.97, \"Role %\": 11.23, \"Pick %\": 0.29, \"Ban %\": 1.36, \"KDA\": 2.28, \"Pred\": 55.27227674727503}, {\"Name\": \"Rakan\", \"Class\": \"Support\", \"Role\": \"SUPPORT\", \"Tier\": \"God\", \"Score\": 70.91, \"Trend\": 3.7, \"Win %\": 51.57, \"Role %\": 98.95, \"Pick %\": 8.24, \"Ban %\": 1.93, \"KDA\": 2.9, \"Pred\": 52.50784859509437}, {\"Name\": \"Rammus\", \"Class\": \"Tank\", \"Role\": \"JUNGLE\", \"Tier\": \"A\", \"Score\": 49.63, \"Trend\": -1.58, \"Win %\": 51.87, \"Role %\": 80.9, \"Pick %\": 2.69, \"Ban %\": 8.45, \"KDA\": 3.11, \"Pred\": 53.10022605627594}, {\"Name\": \"Rammus\", \"Class\": \"Tank\", \"Role\": \"TOP\", \"Tier\": \"D\", \"Score\": 30.44, \"Trend\": -3.91, \"Win %\": 50.24, \"Role %\": 15.06, \"Pick %\": 0.43, \"Ban %\": 8.45, \"KDA\": 1.61, \"Pred\": 49.88164185052277}, {\"Name\": \"Rek'Sai\", \"Class\": \"Fighter\", \"Role\": \"JUNGLE\", \"Tier\": \"S\", \"Score\": 69.23, \"Trend\": -9.71, \"Win %\": 52.87, \"Role %\": 91.38, \"Pick %\": 5.5, \"Ban %\": 18.74, \"KDA\": 2.79, \"Pred\": 55.074817593547834}, {\"Name\": \"Rell\", \"Class\": \"Tank\", \"Role\": \"SUPPORT\", \"Tier\": \"God\", \"Score\": 80.81, \"Trend\": 11.71, \"Win %\": 54.34, \"Role %\": 85.97, \"Pick %\": 7.93, \"Ban %\": 13.06, \"KDA\": 2.95, \"Pred\": 57.97746715333753}, {\"Name\": \"Rell\", \"Class\": \"Tank\", \"Role\": \"JUNGLE\", \"Tier\": \"B\", \"Score\": 46.63, \"Trend\": 0.0, \"Win %\": 52.51, \"Role %\": 13.0, \"Pick %\": 1.15, \"Ban %\": 13.06, \"KDA\": 3.58, \"Pred\": 54.36396464012995}, {\"Name\": \"Renata Glasc\", \"Class\": \"Support\", \"Role\": \"SUPPORT\", \"Tier\": \"B\", \"Score\": 44.57, \"Trend\": -0.25, \"Win %\": 51.03, \"Role %\": 98.68, \"Pick %\": 1.93, \"Ban %\": 0.5, \"KDA\": 2.64, \"Pred\": 51.44156916496756}, {\"Name\": \"Renekton\", \"Class\": \"Fighter\", \"Role\": \"TOP\", \"Tier\": \"God\", \"Score\": 77.61, \"Trend\": 12.07, \"Win %\": 50.03, \"Role %\": 91.06, \"Pick %\": 7.64, \"Ban %\": 3.83, \"KDA\": 1.9, \"Pred\": 49.46697762769567}, {\"Name\": \"Rengar\", \"Class\": \"Assassin\", \"Role\": \"JUNGLE\", \"Tier\": \"S\", \"Score\": 62.69, \"Trend\": 0.83, \"Win %\": 49.97, \"Role %\": 82.23, \"Pick %\": 5.92, \"Ban %\": 21.29, \"KDA\": 2.37, \"Pred\": 49.348502135459356}, {\"Name\": \"Rengar\", \"Class\": \"Assassin\", \"Role\": \"TOP\", \"Tier\": \"C\", \"Score\": 39.96, \"Trend\": -1.09, \"Win %\": 50.65, \"Role %\": 14.21, \"Pick %\": 1.06, \"Ban %\": 21.29, \"KDA\": 2.02, \"Pred\": 50.69122438080423}, {\"Name\": \"Riven\", \"Class\": \"Fighter\", \"Role\": \"TOP\", \"Tier\": \"A\", \"Score\": 55.5, \"Trend\": 0.6, \"Win %\": 50.19, \"Role %\": 89.32, \"Pick %\": 4.32, \"Ban %\": 1.51, \"KDA\": 1.81, \"Pred\": 49.782912273659164}, {\"Name\": \"Rumble\", \"Class\": \"Fighter\", \"Role\": \"MID\", \"Tier\": \"B\", \"Score\": 47.23, \"Trend\": 6.27, \"Win %\": 53.2, \"Role %\": 18.85, \"Pick %\": 0.65, \"Ban %\": 1.37, \"KDA\": 2.58, \"Pred\": 55.72643280084756}, {\"Name\": \"Rumble\", \"Class\": \"Fighter\", \"Role\": \"TOP\", \"Tier\": \"B\", \"Score\": 45.51, \"Trend\": 3.43, \"Win %\": 50.28, \"Role %\": 65.29, \"Pick %\": 2.31, \"Ban %\": 1.37, \"KDA\": 2.12, \"Pred\": 49.960625512013635}, {\"Name\": \"Rumble\", \"Class\": \"Fighter\", \"Role\": \"JUNGLE\", \"Tier\": \"D\", \"Score\": 31.2, \"Trend\": 2.43, \"Win %\": 49.62, \"Role %\": 13.22, \"Pick %\": 0.47, \"Ban %\": 1.37, \"KDA\": 2.86, \"Pred\": 48.65739509741418}, {\"Name\": \"Ryze\", \"Class\": \"Mage\", \"Role\": \"MID\", \"Tier\": \"B\", \"Score\": 45.59, \"Trend\": -0.42, \"Win %\": 50.26, \"Role %\": 82.64, \"Pick %\": 2.18, \"Ban %\": 0.23, \"KDA\": 2.35, \"Pred\": 49.9211336812682}, {\"Name\": \"Ryze\", \"Class\": \"Mage\", \"Role\": \"TOP\", \"Tier\": \"C\", \"Score\": 35.71, \"Trend\": -1.31, \"Win %\": 51.59, \"Role %\": 14.87, \"Pick %\": 0.41, \"Ban %\": 0.23, \"KDA\": 1.98, \"Pred\": 52.54734042583982}, {\"Name\": \"Samira\", \"Class\": \"Marksman\", \"Role\": \"ADC\", \"Tier\": \"S\", \"Score\": 57.04, \"Trend\": -4.91, \"Win %\": 49.47, \"Role %\": 97.6, \"Pick %\": 10.77, \"Ban %\": 21.63, \"KDA\": 2.19, \"Pred\": 48.36120636682341}, {\"Name\": \"Sejuani\", \"Class\": \"Tank\", \"Role\": \"JUNGLE\", \"Tier\": \"A\", \"Score\": 49.91, \"Trend\": 3.2, \"Win %\": 50.44, \"Role %\": 85.88, \"Pick %\": 3.52, \"Ban %\": 0.72, \"KDA\": 3.27, \"Pred\": 50.276560157977144}, {\"Name\": \"Senna\", \"Class\": \"Marksman\", \"Role\": \"SUPPORT\", \"Tier\": \"S\", \"Score\": 62.66, \"Trend\": 1.54, \"Win %\": 50.84, \"Role %\": 91.84, \"Pick %\": 6.86, \"Ban %\": 2.56, \"KDA\": 2.51, \"Pred\": 51.06639677288591}, {\"Name\": \"Seraphine\", \"Class\": \"Mage\", \"Role\": \"SUPPORT\", \"Tier\": \"A\", \"Score\": 52.34, \"Trend\": 0.66, \"Win %\": 49.76, \"Role %\": 66.64, \"Pick %\": 4.81, \"Ban %\": 1.33, \"KDA\": 2.45, \"Pred\": 48.93383791263226}, {\"Name\": \"Seraphine\", \"Class\": \"Mage\", \"Role\": \"ADC\", \"Tier\": \"A\", \"Score\": 49.21, \"Trend\": 9.81, \"Win %\": 53.81, \"Role %\": 22.28, \"Pick %\": 1.28, \"Ban %\": 1.33, \"KDA\": 3.0, \"Pred\": 56.930933638583426}, {\"Name\": \"Seraphine\", \"Class\": \"Mage\", \"Role\": \"MID\", \"Tier\": \"B\", \"Score\": 46.72, \"Trend\": 1.94, \"Win %\": 51.81, \"Role %\": 10.71, \"Pick %\": 0.75, \"Ban %\": 1.33, \"KDA\": 2.93, \"Pred\": 52.98175056403964}, {\"Name\": \"Sett\", \"Class\": \"Fighter\", \"Role\": \"TOP\", \"Tier\": \"S\", \"Score\": 65.36, \"Trend\": 0.03, \"Win %\": 49.81, \"Role %\": 82.55, \"Pick %\": 6.05, \"Ban %\": 3.17, \"KDA\": 1.69, \"Pred\": 49.03256748949586}, {\"Name\": \"Shaco\", \"Class\": \"Assassin\", \"Role\": \"JUNGLE\", \"Tier\": \"S\", \"Score\": 58.88, \"Trend\": -1.71, \"Win %\": 48.97, \"Role %\": 74.03, \"Pick %\": 5.6, \"Ban %\": 16.77, \"KDA\": 2.7, \"Pred\": 47.373910598187464}, {\"Name\": \"Shaco\", \"Class\": \"Assassin\", \"Role\": \"SUPPORT\", \"Tier\": \"C\", \"Score\": 36.03, \"Trend\": -2.37, \"Win %\": 47.6, \"Role %\": 18.41, \"Pick %\": 1.43, \"Ban %\": 16.77, \"KDA\": 2.29, \"Pred\": 44.66872019212498}, {\"Name\": \"Shen\", \"Class\": \"Tank\", \"Role\": \"TOP\", \"Tier\": \"S\", \"Score\": 57.59, \"Trend\": 1.12, \"Win %\": 51.53, \"Role %\": 82.25, \"Pick %\": 2.91, \"Ban %\": 0.46, \"KDA\": 2.95, \"Pred\": 52.428864933603506}, {\"Name\": \"Shen\", \"Class\": \"Tank\", \"Role\": \"SUPPORT\", \"Tier\": \"D\", \"Score\": 30.62, \"Trend\": -3.85, \"Win %\": 46.95, \"Role %\": 10.97, \"Pick %\": 0.38, \"Ban %\": 0.46, \"KDA\": 2.52, \"Pred\": 43.38523569289825}, {\"Name\": \"Shyvana\", \"Class\": \"Fighter\", \"Role\": \"JUNGLE\", \"Tier\": \"D\", \"Score\": 31.35, \"Trend\": -1.37, \"Win %\": 49.07, \"Role %\": 81.87, \"Pick %\": 1.34, \"Ban %\": 0.34, \"KDA\": 2.44, \"Pred\": 47.571369751914645}, {\"Name\": \"Shyvana\", \"Class\": \"Fighter\", \"Role\": \"TOP\", \"Tier\": \"D\", \"Score\": 28.01, \"Trend\": 1.2, \"Win %\": 49.04, \"Role %\": 11.87, \"Pick %\": 0.21, \"Ban %\": 0.4, \"KDA\": 1.88, \"Pred\": 47.51213200579649}, {\"Name\": \"Singed\", \"Class\": \"Tank\", \"Role\": \"MID\", \"Tier\": \"A\", \"Score\": 48.88, \"Trend\": 0.0, \"Win %\": 54.3, \"Role %\": 10.14, \"Pick %\": 0.22, \"Ban %\": 0.41, \"KDA\": 2.79, \"Pred\": 57.89848349184663}, {\"Name\": \"Singed\", \"Class\": \"Tank\", \"Role\": \"TOP\", \"Tier\": \"B\", \"Score\": 40.16, \"Trend\": 0.15, \"Win %\": 50.48, \"Role %\": 77.44, \"Pick %\": 1.56, \"Ban %\": 0.43, \"KDA\": 1.97, \"Pred\": 50.35554381946801}, {\"Name\": \"Sion\", \"Class\": \"Tank\", \"Role\": \"TOP\", \"Tier\": \"S\", \"Score\": 57.0, \"Trend\": -5.09, \"Win %\": 49.47, \"Role %\": 78.9, \"Pick %\": 4.99, \"Ban %\": 2.62, \"KDA\": 1.62, \"Pred\": 48.36120636682341}, {\"Name\": \"Sion\", \"Class\": \"Tank\", \"Role\": \"MID\", \"Tier\": \"C\", \"Score\": 35.89, \"Trend\": -2.49, \"Win %\": 50.31, \"Role %\": 10.7, \"Pick %\": 0.66, \"Ban %\": 2.62, \"KDA\": 1.32, \"Pred\": 50.01986325813181}, {\"Name\": \"Sivir\", \"Class\": \"Marksman\", \"Role\": \"ADC\", \"Tier\": \"B\", \"Score\": 42.9, \"Trend\": 6.74, \"Win %\": 50.57, \"Role %\": 97.18, \"Pick %\": 3.2, \"Ban %\": 0.65, \"KDA\": 2.37, \"Pred\": 50.53325705782248}, {\"Name\": \"Skarner\", \"Class\": \"Fighter\", \"Role\": \"JUNGLE\", \"Tier\": \"C\", \"Score\": 38.1, \"Trend\": 2.14, \"Win %\": 52.13, \"Role %\": 78.56, \"Pick %\": 0.86, \"Ban %\": 0.2, \"KDA\": 2.72, \"Pred\": 53.61361985596665}, {\"Name\": \"Skarner\", \"Class\": \"Fighter\", \"Role\": \"TOP\", \"Tier\": \"D\", \"Score\": 30.61, \"Trend\": 2.28, \"Win %\": 49.34, \"Role %\": 16.44, \"Pick %\": 0.14, \"Ban %\": 0.18, \"KDA\": 2.21, \"Pred\": 48.10450946697807}, {\"Name\": \"Sona\", \"Class\": \"Support\", \"Role\": \"SUPPORT\", \"Tier\": \"A\", \"Score\": 53.15, \"Trend\": 1.33, \"Win %\": 52.29, \"Role %\": 97.95, \"Pick %\": 3.36, \"Ban %\": 0.19, \"KDA\": 2.85, \"Pred\": 53.92955450193014}, {\"Name\": \"Soraka\", \"Class\": \"Support\", \"Role\": \"SUPPORT\", \"Tier\": \"S\", \"Score\": 60.35, \"Trend\": 1.97, \"Win %\": 51.66, \"Role %\": 96.76, \"Pick %\": 5.62, \"Ban %\": 1.61, \"KDA\": 2.77, \"Pred\": 52.685561833448844}, {\"Name\": \"Swain\", \"Class\": \"Mage\", \"Role\": \"ADC\", \"Tier\": \"A\", \"Score\": 50.89, \"Trend\": 0.0, \"Win %\": 55.5, \"Role %\": 11.54, \"Pick %\": 0.51, \"Ban %\": 2.91, \"KDA\": 2.98, \"Pred\": 60.267993336572914}, {\"Name\": \"Swain\", \"Class\": \"Mage\", \"Role\": \"MID\", \"Tier\": \"A\", \"Score\": 49.53, \"Trend\": 2.35, \"Win %\": 52.94, \"Role %\": 24.19, \"Pick %\": 1.29, \"Ban %\": 2.91, \"KDA\": 2.72, \"Pred\": 55.21303900115687}, {\"Name\": \"Swain\", \"Class\": \"Mage\", \"Role\": \"SUPPORT\", \"Tier\": \"A\", \"Score\": 49.45, \"Trend\": 2.38, \"Win %\": 50.54, \"Role %\": 57.41, \"Pick %\": 3.69, \"Ban %\": 2.91, \"KDA\": 2.34, \"Pred\": 50.474019311704325}, {\"Name\": \"Sylas\", \"Class\": \"Mage\", \"Role\": \"MID\", \"Tier\": \"A\", \"Score\": 55.65, \"Trend\": 0.17, \"Win %\": 49.23, \"Role %\": 57.23, \"Pick %\": 5.79, \"Ban %\": 8.24, \"KDA\": 2.13, \"Pred\": 47.887304397878154}, {\"Name\": \"Sylas\", \"Class\": \"Mage\", \"Role\": \"JUNGLE\", \"Tier\": \"C\", \"Score\": 39.44, \"Trend\": -0.52, \"Win %\": 48.69, \"Role %\": 30.22, \"Pick %\": 3.05, \"Ban %\": 8.24, \"KDA\": 2.4, \"Pred\": 46.82102496775133}, {\"Name\": \"Syndra\", \"Class\": \"Mage\", \"Role\": \"MID\", \"Tier\": \"A\", \"Score\": 56.32, \"Trend\": 2.63, \"Win %\": 50.55, \"Role %\": 92.2, \"Pick %\": 5.32, \"Ban %\": 2.87, \"KDA\": 2.29, \"Pred\": 50.49376522707705}, {\"Name\": \"Tahm Kench\", \"Class\": \"Support\", \"Role\": \"TOP\", \"Tier\": \"C\", \"Score\": 38.72, \"Trend\": -1.8, \"Win %\": 48.0, \"Role %\": 62.72, \"Pick %\": 1.84, \"Ban %\": 0.89, \"KDA\": 2.32, \"Pred\": 45.45855680703373}, {\"Name\": \"Tahm Kench\", \"Class\": \"Support\", \"Role\": \"SUPPORT\", \"Tier\": \"C\", \"Score\": 34.87, \"Trend\": -5.55, \"Win %\": 49.08, \"Role %\": 27.7, \"Pick %\": 0.74, \"Ban %\": 0.96, \"KDA\": 2.25, \"Pred\": 47.59111566728737}, {\"Name\": \"Taliyah\", \"Class\": \"Mage\", \"Role\": \"MID\", \"Tier\": \"B\", \"Score\": 44.88, \"Trend\": 2.15, \"Win %\": 51.6, \"Role %\": 62.89, \"Pick %\": 1.24, \"Ban %\": 0.34, \"KDA\": 2.32, \"Pred\": 52.567086341212544}, {\"Name\": \"Taliyah\", \"Class\": \"Mage\", \"Role\": \"JUNGLE\", \"Tier\": \"D\", \"Score\": 33.28, \"Trend\": 2.33, \"Win %\": 50.82, \"Role %\": 23.12, \"Pick %\": 0.45, \"Ban %\": 0.34, \"KDA\": 2.75, \"Pred\": 51.02690494214046}, {\"Name\": \"Talon\", \"Class\": \"Assassin\", \"Role\": \"MID\", \"Tier\": \"A\", \"Score\": 52.37, \"Trend\": 0.53, \"Win %\": 51.25, \"Role %\": 71.73, \"Pick %\": 3.76, \"Ban %\": 2.44, \"KDA\": 2.29, \"Pred\": 51.87597930316737}, {\"Name\": \"Talon\", \"Class\": \"Assassin\", \"Role\": \"JUNGLE\", \"Tier\": \"D\", \"Score\": 33.38, \"Trend\": -1.72, \"Win %\": 49.56, \"Role %\": 24.97, \"Pick %\": 1.39, \"Ban %\": 2.44, \"KDA\": 2.51, \"Pred\": 48.53891960517788}, {\"Name\": \"Taric\", \"Class\": \"Support\", \"Role\": \"SUPPORT\", \"Tier\": \"A\", \"Score\": 47.44, \"Trend\": -1.88, \"Win %\": 52.17, \"Role %\": 91.8, \"Pick %\": 1.96, \"Ban %\": 0.42, \"KDA\": 2.78, \"Pred\": 53.69260351745751}, {\"Name\": \"Teemo\", \"Class\": \"Marksman\", \"Role\": \"TOP\", \"Tier\": \"S\", \"Score\": 58.84, \"Trend\": -1.71, \"Win %\": 50.72, \"Role %\": 70.59, \"Pick %\": 4.37, \"Ban %\": 7.02, \"KDA\": 1.72, \"Pred\": 50.82944578841327}, {\"Name\": \"Teemo\", \"Class\": \"Marksman\", \"Role\": \"SUPPORT\", \"Tier\": \"D\", \"Score\": 30.82, \"Trend\": -4.14, \"Win %\": 47.98, \"Role %\": 10.89, \"Pick %\": 0.72, \"Ban %\": 7.69, \"KDA\": 1.73, \"Pred\": 45.41906497628828}, {\"Name\": \"Thresh\", \"Class\": \"Support\", \"Role\": \"SUPPORT\", \"Tier\": \"God\", \"Score\": 91.09, \"Trend\": 6.4, \"Win %\": 50.65, \"Role %\": 95.92, \"Pick %\": 13.79, \"Ban %\": 5.98, \"KDA\": 2.58, \"Pred\": 50.69122438080423}, {\"Name\": \"Tristana\", \"Class\": \"Marksman\", \"Role\": \"MID\", \"Tier\": \"B\", \"Score\": 47.21, \"Trend\": 4.01, \"Win %\": 50.67, \"Role %\": 31.64, \"Pick %\": 2.91, \"Ban %\": 3.62, \"KDA\": 1.99, \"Pred\": 50.73071621154968}, {\"Name\": \"Tristana\", \"Class\": \"Marksman\", \"Role\": \"ADC\", \"Tier\": \"B\", \"Score\": 44.29, \"Trend\": 3.9, \"Win %\": 49.03, \"Role %\": 63.87, \"Pick %\": 6.15, \"Ban %\": 3.62, \"KDA\": 2.2, \"Pred\": 47.49238609042378}, {\"Name\": \"Trundle\", \"Class\": \"Fighter\", \"Role\": \"JUNGLE\", \"Tier\": \"C\", \"Score\": 39.07, \"Trend\": 0.94, \"Win %\": 50.87, \"Role %\": 63.74, \"Pick %\": 1.84, \"Ban %\": 0.99, \"KDA\": 2.6, \"Pred\": 51.12563451900405}, {\"Name\": \"Trundle\", \"Class\": \"Fighter\", \"Role\": \"TOP\", \"Tier\": \"C\", \"Score\": 35.29, \"Trend\": -1.63, \"Win %\": 51.56, \"Role %\": 31.04, \"Pick %\": 0.8, \"Ban %\": 0.99, \"KDA\": 1.58, \"Pred\": 52.48810267972166}, {\"Name\": \"Tryndamere\", \"Class\": \"Fighter\", \"Role\": \"MID\", \"Tier\": \"B\", \"Score\": 41.47, \"Trend\": 1.77, \"Win %\": 51.99, \"Role %\": 11.3, \"Pick %\": 0.32, \"Ban %\": 2.05, \"KDA\": 2.07, \"Pred\": 53.33717704074857}, {\"Name\": \"Tryndamere\", \"Class\": \"Fighter\", \"Role\": \"TOP\", \"Tier\": \"B\", \"Score\": 40.25, \"Trend\": -0.88, \"Win %\": 49.36, \"Role %\": 79.39, \"Pick %\": 2.21, \"Ban %\": 2.05, \"KDA\": 1.75, \"Pred\": 48.14400129772349}, {\"Name\": \"Twisted Fate\", \"Class\": \"Mage\", \"Role\": \"MID\", \"Tier\": \"B\", \"Score\": 43.98, \"Trend\": -0.59, \"Win %\": 48.43, \"Role %\": 89.24, \"Pick %\": 3.0, \"Ban %\": 0.27, \"KDA\": 2.17, \"Pred\": 46.30763116806064}, {\"Name\": \"Twitch\", \"Class\": \"Marksman\", \"Role\": \"ADC\", \"Tier\": \"B\", \"Score\": 46.23, \"Trend\": 3.18, \"Win %\": 51.04, \"Role %\": 76.3, \"Pick %\": 4.53, \"Ban %\": 4.54, \"KDA\": 2.37, \"Pred\": 51.46131508034027}, {\"Name\": \"Twitch\", \"Class\": \"Marksman\", \"Role\": \"SUPPORT\", \"Tier\": \"D\", \"Score\": 33.25, \"Trend\": 0.76, \"Win %\": 48.49, \"Role %\": 12.59, \"Pick %\": 0.77, \"Ban %\": 4.54, \"KDA\": 2.08, \"Pred\": 46.42610666029695}, {\"Name\": \"Udyr\", \"Class\": \"Fighter\", \"Role\": \"JUNGLE\", \"Tier\": \"C\", \"Score\": 39.12, \"Trend\": 0.8, \"Win %\": 49.9, \"Role %\": 80.64, \"Pick %\": 2.45, \"Ban %\": 2.1, \"KDA\": 2.5, \"Pred\": 49.21028072785032}, {\"Name\": \"Udyr\", \"Class\": \"Fighter\", \"Role\": \"TOP\", \"Tier\": \"D\", \"Score\": 32.19, \"Trend\": 2.43, \"Win %\": 50.58, \"Role %\": 16.87, \"Pick %\": 0.52, \"Ban %\": 2.1, \"KDA\": 1.7, \"Pred\": 50.553002973195206}, {\"Name\": \"Urgot\", \"Class\": \"Fighter\", \"Role\": \"TOP\", \"Tier\": \"B\", \"Score\": 46.28, \"Trend\": 0.42, \"Win %\": 50.96, \"Role %\": 90.93, \"Pick %\": 2.41, \"Ban %\": 1.0, \"KDA\": 1.94, \"Pred\": 51.30334775735852}, {\"Name\": \"Varus\", \"Class\": \"Marksman\", \"Role\": \"ADC\", \"Tier\": \"B\", \"Score\": 45.2, \"Trend\": -1.82, \"Win %\": 49.65, \"Role %\": 76.66, \"Pick %\": 6.08, \"Ban %\": 2.39, \"KDA\": 2.21, \"Pred\": 48.71663284353234}, {\"Name\": \"Varus\", \"Class\": \"Marksman\", \"Role\": \"TOP\", \"Tier\": \"D\", \"Score\": 28.59, \"Trend\": -14.81, \"Win %\": 47.32, \"Role %\": 13.88, \"Pick %\": 1.11, \"Ban %\": 2.39, \"KDA\": 1.71, \"Pred\": 44.11583456168884}, {\"Name\": \"Vayne\", \"Class\": \"Marksman\", \"Role\": \"ADC\", \"Tier\": \"B\", \"Score\": 44.25, \"Trend\": 3.85, \"Win %\": 49.37, \"Role %\": 81.02, \"Pick %\": 6.32, \"Ban %\": 4.53, \"KDA\": 2.02, \"Pred\": 48.163747213096215}, {\"Name\": \"Vayne\", \"Class\": \"Marksman\", \"Role\": \"TOP\", \"Tier\": \"C\", \"Score\": 35.52, \"Trend\": 4.94, \"Win %\": 50.52, \"Role %\": 15.47, \"Pick %\": 1.21, \"Ban %\": 4.53, \"KDA\": 1.55, \"Pred\": 50.434527480958906}, {\"Name\": \"Veigar\", \"Class\": \"Mage\", \"Role\": \"MID\", \"Tier\": \"A\", \"Score\": 54.59, \"Trend\": -3.66, \"Win %\": 50.59, \"Role %\": 73.42, \"Pick %\": 4.86, \"Ban %\": 3.97, \"KDA\": 2.17, \"Pred\": 50.57274888856793}, {\"Name\": \"Veigar\", \"Class\": \"Mage\", \"Role\": \"ADC\", \"Tier\": \"C\", \"Score\": 39.26, \"Trend\": 7.06, \"Win %\": 51.16, \"Role %\": 13.32, \"Pick %\": 0.82, \"Ban %\": 3.97, \"KDA\": 2.22, \"Pred\": 51.6982660648129}, {\"Name\": \"Veigar\", \"Class\": \"Mage\", \"Role\": \"SUPPORT\", \"Tier\": \"D\", \"Score\": 28.09, \"Trend\": 0.0, \"Win %\": 46.5, \"Role %\": 10.67, \"Pick %\": 0.7, \"Ban %\": 4.32, \"KDA\": 1.8, \"Pred\": 42.49666950112589}, {\"Name\": \"Vel'Koz\", \"Class\": \"Mage\", \"Role\": \"MID\", \"Tier\": \"B\", \"Score\": 44.1, \"Trend\": 2.21, \"Win %\": 51.38, \"Role %\": 29.58, \"Pick %\": 0.7, \"Ban %\": 0.41, \"KDA\": 2.6, \"Pred\": 52.13267620301272}, {\"Name\": \"Vel'Koz\", \"Class\": \"Mage\", \"Role\": \"SUPPORT\", \"Tier\": \"B\", \"Score\": 41.32, \"Trend\": 1.55, \"Win %\": 50.97, \"Role %\": 65.61, \"Pick %\": 1.66, \"Ban %\": 0.41, \"KDA\": 2.14, \"Pred\": 51.32309367273125}, {\"Name\": \"Vex\", \"Class\": \"Mage\", \"Role\": \"MID\", \"Tier\": \"A\", \"Score\": 50.2, \"Trend\": -2.15, \"Win %\": 50.6, \"Role %\": 93.02, \"Pick %\": 3.28, \"Ban %\": 3.76, \"KDA\": 2.37, \"Pred\": 50.59249480394065}, {\"Name\": \"Vi\", \"Class\": \"Fighter\", \"Role\": \"JUNGLE\", \"Tier\": \"B\", \"Score\": 42.18, \"Trend\": -13.38, \"Win %\": 48.51, \"Role %\": 94.59, \"Pick %\": 4.05, \"Ban %\": 1.94, \"KDA\": 2.3, \"Pred\": 46.465598491042385}, {\"Name\": \"Viego\", \"Class\": \"Assassin\", \"Role\": \"JUNGLE\", \"Tier\": \"S\", \"Score\": 70.33, \"Trend\": 5.05, \"Win %\": 49.72, \"Role %\": 95.17, \"Pick %\": 9.12, \"Ban %\": 2.56, \"KDA\": 2.47, \"Pred\": 48.854854251141376}, {\"Name\": \"Viktor\", \"Class\": \"Mage\", \"Role\": \"MID\", \"Tier\": \"A\", \"Score\": 54.13, \"Trend\": 2.05, \"Win %\": 51.34, \"Role %\": 94.35, \"Pick %\": 4.28, \"Ban %\": 2.41, \"KDA\": 2.27, \"Pred\": 52.053692541521855}, {\"Name\": \"Vladimir\", \"Class\": \"Mage\", \"Role\": \"MID\", \"Tier\": \"A\", \"Score\": 54.65, \"Trend\": 3.61, \"Win %\": 51.53, \"Role %\": 77.73, \"Pick %\": 3.96, \"Ban %\": 5.95, \"KDA\": 2.42, \"Pred\": 52.428864933603506}, {\"Name\": \"Vladimir\", \"Class\": \"Mage\", \"Role\": \"TOP\", \"Tier\": \"C\", \"Score\": 34.53, \"Trend\": -0.44, \"Win %\": 49.13, \"Role %\": 20.15, \"Pick %\": 0.99, \"Ban %\": 5.95, \"KDA\": 2.05, \"Pred\": 47.68984524415097}, {\"Name\": \"Volibear\", \"Class\": \"Fighter\", \"Role\": \"TOP\", \"Tier\": \"C\", \"Score\": 36.96, \"Trend\": -0.57, \"Win %\": 48.43, \"Role %\": 61.85, \"Pick %\": 2.17, \"Ban %\": 0.63, \"KDA\": 1.64, \"Pred\": 46.30763116806064}, {\"Name\": \"Volibear\", \"Class\": \"Fighter\", \"Role\": \"JUNGLE\", \"Tier\": \"D\", \"Score\": 33.68, \"Trend\": -1.42, \"Win %\": 50.15, \"Role %\": 32.98, \"Pick %\": 1.02, \"Ban %\": 0.63, \"KDA\": 2.64, \"Pred\": 49.70392861216828}, {\"Name\": \"Warwick\", \"Class\": \"Fighter\", \"Role\": \"JUNGLE\", \"Tier\": \"A\", \"Score\": 49.91, \"Trend\": -3.99, \"Win %\": 50.07, \"Role %\": 68.71, \"Pick %\": 4.74, \"Ban %\": 5.18, \"KDA\": 2.17, \"Pred\": 49.545961289186536}, {\"Name\": \"Warwick\", \"Class\": \"Fighter\", \"Role\": \"TOP\", \"Tier\": \"C\", \"Score\": 36.27, \"Trend\": -3.06, \"Win %\": 49.47, \"Role %\": 28.1, \"Pick %\": 1.42, \"Ban %\": 5.18, \"KDA\": 1.79, \"Pred\": 48.36120636682341}, {\"Name\": \"Wukong\", \"Class\": \"Fighter\", \"Role\": \"JUNGLE\", \"Tier\": \"C\", \"Score\": 38.79, \"Trend\": -4.57, \"Win %\": 49.13, \"Role %\": 75.46, \"Pick %\": 2.62, \"Ban %\": 1.25, \"KDA\": 2.64, \"Pred\": 47.68984524415097}, {\"Name\": \"Wukong\", \"Class\": \"Fighter\", \"Role\": \"TOP\", \"Tier\": \"D\", \"Score\": 33.59, \"Trend\": 0.72, \"Win %\": 49.92, \"Role %\": 18.56, \"Pick %\": 0.58, \"Ban %\": 1.25, \"KDA\": 2.06, \"Pred\": 49.249772558595765}, {\"Name\": \"Xayah\", \"Class\": \"Marksman\", \"Role\": \"ADC\", \"Tier\": \"A\", \"Score\": 52.38, \"Trend\": 1.57, \"Win %\": 49.83, \"Role %\": 98.94, \"Pick %\": 9.73, \"Ban %\": 3.88, \"KDA\": 2.3, \"Pred\": 49.07205932024128}, {\"Name\": \"Xerath\", \"Class\": \"Mage\", \"Role\": \"SUPPORT\", \"Tier\": \"A\", \"Score\": 53.03, \"Trend\": 0.58, \"Win %\": 51.26, \"Role %\": 70.8, \"Pick %\": 4.09, \"Ban %\": 4.04, \"KDA\": 2.48, \"Pred\": 51.89572521854009}, {\"Name\": \"Xerath\", \"Class\": \"Mage\", \"Role\": \"MID\", \"Tier\": \"A\", \"Score\": 48.19, \"Trend\": -2.63, \"Win %\": 50.81, \"Role %\": 26.08, \"Pick %\": 1.44, \"Ban %\": 4.04, \"KDA\": 3.13, \"Pred\": 51.00715902676775}, {\"Name\": \"Xin Zhao\", \"Class\": \"Fighter\", \"Role\": \"JUNGLE\", \"Tier\": \"C\", \"Score\": 38.19, \"Trend\": 0.99, \"Win %\": 50.34, \"Role %\": 84.64, \"Pick %\": 2.4, \"Ban %\": 0.41, \"KDA\": 2.25, \"Pred\": 50.079101004249964}, {\"Name\": \"Yasuo\", \"Class\": \"Fighter\", \"Role\": \"MID\", \"Tier\": \"God\", \"Score\": 85.15, \"Trend\": -2.72, \"Win %\": 48.78, \"Role %\": 69.95, \"Pick %\": 12.73, \"Ban %\": 21.08, \"KDA\": 1.76, \"Pred\": 46.9987382061058}, {\"Name\": \"Yasuo\", \"Class\": \"Fighter\", \"Role\": \"TOP\", \"Tier\": \"B\", \"Score\": 43.76, \"Trend\": -2.39, \"Win %\": 47.51, \"Role %\": 17.19, \"Pick %\": 2.96, \"Ban %\": 21.08, \"KDA\": 1.49, \"Pred\": 44.491006953770494}, {\"Name\": \"Yasuo\", \"Class\": \"Fighter\", \"Role\": \"ADC\", \"Tier\": \"B\", \"Score\": 40.1, \"Trend\": 7.72, \"Win %\": 50.87, \"Role %\": 11.31, \"Pick %\": 1.89, \"Ban %\": 21.08, \"KDA\": 2.01, \"Pred\": 51.12563451900405}, {\"Name\": \"Yone\", \"Class\": \"Assassin\", \"Role\": \"MID\", \"Tier\": \"S\", \"Score\": 58.02, \"Trend\": -1.12, \"Win %\": 49.25, \"Role %\": 54.68, \"Pick %\": 6.82, \"Ban %\": 7.36, \"KDA\": 1.89, \"Pred\": 47.92679622862359}, {\"Name\": \"Yone\", \"Class\": \"Assassin\", \"Role\": \"TOP\", \"Tier\": \"S\", \"Score\": 57.2, \"Trend\": 1.88, \"Win %\": 49.34, \"Role %\": 41.19, \"Pick %\": 4.81, \"Ban %\": 7.36, \"KDA\": 1.63, \"Pred\": 48.10450946697807}, {\"Name\": \"Yorick\", \"Class\": \"Fighter\", \"Role\": \"TOP\", \"Tier\": \"A\", \"Score\": 48.83, \"Trend\": 0.63, \"Win %\": 51.68, \"Role %\": 88.56, \"Pick %\": 2.92, \"Ban %\": 4.03, \"KDA\": 1.52, \"Pred\": 52.72505366419429}, {\"Name\": \"Yuumi\", \"Class\": \"Support\", \"Role\": \"SUPPORT\", \"Tier\": \"S\", \"Score\": 69.04, \"Trend\": -4.32, \"Win %\": 46.68, \"Role %\": 98.78, \"Pick %\": 7.67, \"Ban %\": 14.06, \"KDA\": 4.18, \"Pred\": 42.852095977834836}, {\"Name\": \"Zac\", \"Class\": \"Tank\", \"Role\": \"JUNGLE\", \"Tier\": \"A\", \"Score\": 53.35, \"Trend\": 0.93, \"Win %\": 51.77, \"Role %\": 71.96, \"Pick %\": 3.11, \"Ban %\": 2.51, \"KDA\": 3.59, \"Pred\": 52.90276690254876}, {\"Name\": \"Zac\", \"Class\": \"Tank\", \"Role\": \"TOP\", \"Tier\": \"B\", \"Score\": 44.32, \"Trend\": -2.26, \"Win %\": 52.47, \"Role %\": 13.44, \"Pick %\": 0.66, \"Ban %\": 2.51, \"KDA\": 2.69, \"Pred\": 54.284980978639084}, {\"Name\": \"Zed\", \"Class\": \"Assassin\", \"Role\": \"MID\", \"Tier\": \"God\", \"Score\": 90.84, \"Trend\": 2.83, \"Win %\": 50.02, \"Role %\": 84.93, \"Pick %\": 11.5, \"Ban %\": 30.48, \"KDA\": 2.26, \"Pred\": 49.44723171232296}, {\"Name\": \"Zeri\", \"Class\": \"Marksman\", \"Role\": \"ADC\", \"Tier\": \"C\", \"Score\": 39.89, \"Trend\": 0.19, \"Win %\": 48.18, \"Role %\": 89.31, \"Pick %\": 4.21, \"Ban %\": 3.23, \"KDA\": 2.27, \"Pred\": 45.81398328374267}, {\"Name\": \"Ziggs\", \"Class\": \"Mage\", \"Role\": \"MID\", \"Tier\": \"B\", \"Score\": 43.66, \"Trend\": 4.37, \"Win %\": 50.11, \"Role %\": 55.93, \"Pick %\": 1.67, \"Ban %\": 0.41, \"KDA\": 2.34, \"Pred\": 49.62494495067742}, {\"Name\": \"Ziggs\", \"Class\": \"Mage\", \"Role\": \"ADC\", \"Tier\": \"B\", \"Score\": 41.4, \"Trend\": 7.33, \"Win %\": 51.54, \"Role %\": 30.6, \"Pick %\": 0.83, \"Ban %\": 0.41, \"KDA\": 2.48, \"Pred\": 52.448610848976216}, {\"Name\": \"Ziggs\", \"Class\": \"Mage\", \"Role\": \"SUPPORT\", \"Tier\": \"D\", \"Score\": 31.09, \"Trend\": -3.87, \"Win %\": 48.43, \"Role %\": 12.71, \"Pick %\": 0.37, \"Ban %\": 0.42, \"KDA\": 1.98, \"Pred\": 46.30763116806064}, {\"Name\": \"Zilean\", \"Class\": \"Support\", \"Role\": \"MID\", \"Tier\": \"A\", \"Score\": 52.02, \"Trend\": 4.9, \"Win %\": 53.91, \"Role %\": 13.72, \"Pick %\": 0.31, \"Ban %\": 0.76, \"KDA\": 3.52, \"Pred\": 57.12839279231059}, {\"Name\": \"Zilean\", \"Class\": \"Support\", \"Role\": \"SUPPORT\", \"Tier\": \"B\", \"Score\": 45.21, \"Trend\": 1.15, \"Win %\": 50.12, \"Role %\": 82.08, \"Pick %\": 2.11, \"Ban %\": 0.76, \"KDA\": 3.03, \"Pred\": 49.64469086605013}, {\"Name\": \"Zoe\", \"Class\": \"Mage\", \"Role\": \"MID\", \"Tier\": \"A\", \"Score\": 49.82, \"Trend\": 1.34, \"Win %\": 50.44, \"Role %\": 86.34, \"Pick %\": 2.98, \"Ban %\": 1.93, \"KDA\": 2.6, \"Pred\": 50.276560157977144}, {\"Name\": \"Zoe\", \"Class\": \"Mage\", \"Role\": \"SUPPORT\", \"Tier\": \"D\", \"Score\": 32.21, \"Trend\": -1.45, \"Win %\": 48.67, \"Role %\": 11.43, \"Pick %\": 0.4, \"Ban %\": 1.97, \"KDA\": 2.11, \"Pred\": 46.781533137005894}, {\"Name\": \"Zyra\", \"Class\": \"Mage\", \"Role\": \"SUPPORT\", \"Tier\": \"B\", \"Score\": 46.64, \"Trend\": -0.95, \"Win %\": 51.44, \"Role %\": 90.88, \"Pick %\": 2.87, \"Ban %\": 1.96, \"KDA\": 2.06, \"Pred\": 52.251151695249035}]}}, {\"mode\": \"vega-lite\"});\n",
       "</script>"
      ],
      "text/plain": [
       "alt.LayerChart(...)"
      ]
     },
     "execution_count": 15,
     "metadata": {},
     "output_type": "execute_result"
    }
   ],
   "source": [
    "c4 = alt.Chart(df).mark_circle().encode(\n",
    "    x = alt.X(\"Win %\", scale=alt.Scale(zero=False)),\n",
    "    y = \"Score\"\n",
    ")\n",
    "\n",
    "c5 = alt.Chart(df).mark_line(color=\"red\").encode(\n",
    "    alt.X(\"Win %\", scale=alt.Scale(zero=False)),\n",
    "    y = \"Pred\"\n",
    ")\n",
    "\n",
    "c4 + c5"
   ]
  },
  {
   "cell_type": "markdown",
   "metadata": {
    "cell_id": "a1110912815c426d8b8b8d90fed09258",
    "deepnote_cell_type": "markdown"
   },
   "source": [
    "Looking at the linear regression model, there is looks to be a small correlation between `Win %` and `Score` in regards to champions since the line appears to be a shallow slope. This means there is a gradual change between the axis. But, using this information, we will try to see later if these scores and win % can help us predict role the champion with these win rates and score is played in since the 5 roles is vital in the League of Legends game. "
   ]
  },
  {
   "cell_type": "markdown",
   "metadata": {
    "cell_id": "2c2246ec778c4c01a5da2328b10bda96",
    "deepnote_cell_type": "markdown"
   },
   "source": [
    "### Using Linear Regression and Train Test Split "
   ]
  },
  {
   "cell_type": "markdown",
   "metadata": {
    "cell_id": "f602a2e7701740699c4092d1854f3ea9",
    "deepnote_cell_type": "markdown"
   },
   "source": [
    "The previous graph saw only Win % in relation to score. What if we were to include the other columns as well along with Win % to see if there correlation to the score. This is where we will explore this."
   ]
  },
  {
   "cell_type": "code",
   "execution_count": 16,
   "metadata": {
    "cell_id": "b011312de3de4abab1e26bcc95b71a99",
    "deepnote_cell_type": "code",
    "deepnote_to_be_reexecuted": false,
    "execution_millis": 126,
    "execution_start": 1695796816883,
    "source_hash": "860bf5c0"
   },
   "outputs": [],
   "source": [
    "#Adapted from the Kaggle Notebook analyzing this data. Reference #1:  \n",
    "df2 = df.copy()\n",
    "df2.drop(\"Name\", axis=1, inplace=True)\n",
    "df2[\"Class\"] = df2[\"Class\"].map({\"Support\":0, \"Assassin\":1, \"Tank\":2, \"Marksman\":3, \"Mage\":4, \"Fighter\":5})\n",
    "df2[\"Role\"] = df2[\"Role\"].map({\"TOP\":0, \"JUNGLE\":1, \"MID\":2, \"ADC\":3, \"SUPPORT\":4})\n",
    "df2[\"Tier\"] = df2[\"Tier\"].map({\"God\":0, \"S\":1, \"A\":2, \"B\":3, \"C\":4, \"D\":5})"
   ]
  },
  {
   "cell_type": "code",
   "execution_count": 17,
   "metadata": {
    "cell_id": "94dfea79ed4b49008cbb62b656dfa74a",
    "deepnote_cell_type": "code",
    "deepnote_to_be_reexecuted": false,
    "execution_millis": 223,
    "execution_start": 1695796816924,
    "source_hash": "65a74e41"
   },
   "outputs": [],
   "source": [
    "X = df2.drop(\"Score\", axis=1)\n",
    "y = df2[\"Score\"]\n",
    "X_train, X_test, y_train, y_test = train_test_split(X, y, test_size=0.2, random_state=42)"
   ]
  },
  {
   "cell_type": "code",
   "execution_count": 18,
   "metadata": {
    "cell_id": "5158db5a8f924a8b84773c86f73ee002",
    "deepnote_cell_type": "code",
    "deepnote_to_be_reexecuted": false,
    "execution_millis": 23,
    "execution_start": 1695796816945,
    "source_hash": "2f08e695"
   },
   "outputs": [],
   "source": [
    "reg1 = LinearRegression()\n",
    "reg1.fit(X_train, y_train)\n",
    "y_pred_reg1 = reg1.predict(X_test)"
   ]
  },
  {
   "cell_type": "code",
   "execution_count": 19,
   "metadata": {
    "cell_id": "1cbfc3f0271041deb4cedaef064e1af7",
    "deepnote_cell_type": "code",
    "deepnote_to_be_reexecuted": false,
    "execution_millis": 30,
    "execution_start": 1695796817003,
    "source_hash": "95918c91"
   },
   "outputs": [
    {
     "data": {
      "text/plain": [
       "0.927373864278309"
      ]
     },
     "execution_count": 19,
     "metadata": {},
     "output_type": "execute_result"
    }
   ],
   "source": [
    "reg1.score(X_train, y_train)"
   ]
  },
  {
   "cell_type": "markdown",
   "metadata": {
    "cell_id": "4a4ed8e1a7e648cdbdc675285c57cacf",
    "deepnote_cell_type": "markdown"
   },
   "source": [
    "The prediction accuracy for the training set appears to be similar to the test set. These similar values suggest that overfitting is not a big serious concern."
   ]
  },
  {
   "cell_type": "code",
   "execution_count": 20,
   "metadata": {
    "cell_id": "79aff479a7674caa90e355a88b7bed44",
    "deepnote_cell_type": "code",
    "deepnote_to_be_reexecuted": false,
    "execution_millis": 26,
    "execution_start": 1695796817003,
    "source_hash": "1a151766"
   },
   "outputs": [
    {
     "data": {
      "text/plain": [
       "0.9299849474649416"
      ]
     },
     "execution_count": 20,
     "metadata": {},
     "output_type": "execute_result"
    }
   ],
   "source": [
    "reg1.score(X_test, y_test)"
   ]
  },
  {
   "cell_type": "code",
   "execution_count": 21,
   "metadata": {
    "cell_id": "ed14316e434c4cf8ba88c338fd338170",
    "deepnote_cell_type": "code",
    "deepnote_to_be_reexecuted": false,
    "execution_millis": 61,
    "execution_start": 1695796817045,
    "source_hash": "2e16121"
   },
   "outputs": [
    {
     "data": {
      "text/plain": [
       "array([ 2.48148142e-02, -3.98702563e-01, -6.96542621e+00,  2.66049403e-01,\n",
       "        8.33215784e+12, -1.60632604e-02,  1.12747254e+00,  2.26218621e-01,\n",
       "        8.33983920e-01, -4.21968680e+12])"
      ]
     },
     "execution_count": 21,
     "metadata": {},
     "output_type": "execute_result"
    }
   ],
   "source": [
    "reg1.coef_"
   ]
  },
  {
   "cell_type": "code",
   "execution_count": 22,
   "metadata": {
    "cell_id": "ac417f9877dd4a88a0e666f5c6fa122d",
    "deepnote_cell_type": "code",
    "deepnote_to_be_reexecuted": false,
    "execution_millis": 72,
    "execution_start": 1695796817046,
    "source_hash": "4062cad6"
   },
   "outputs": [
    {
     "data": {
      "text/plain": [
       "-208122704447353.3"
      ]
     },
     "execution_count": 22,
     "metadata": {},
     "output_type": "execute_result"
    }
   ],
   "source": [
    "reg1.intercept_"
   ]
  },
  {
   "cell_type": "code",
   "execution_count": 23,
   "metadata": {
    "cell_id": "b6ac96ec237b4abca6134d28ff00b3ab",
    "deepnote_cell_type": "code",
    "deepnote_to_be_reexecuted": false,
    "execution_millis": 196,
    "execution_start": 1695796817099,
    "source_hash": "bb2d5032"
   },
   "outputs": [
    {
     "data": {
      "text/plain": [
       "<AxesSubplot:xlabel='Score'>"
      ]
     },
     "execution_count": 23,
     "metadata": {},
     "output_type": "execute_result"
    },
    {
     "data": {
      "image/png": "[encoded data removed]",
      "text/plain": [
       "<Figure size 640x480 with 1 Axes>"
      ]
     },
     "metadata": {
      "image/png": {
       "height": 432,
       "width": 543
      }
     },
     "output_type": "display_data"
    }
   ],
   "source": [
    "#Asked Chat GPT how to plot a regression graph using seaborn. Reference #2 \n",
    "sns.regplot(x=y_test, y=y_pred_reg1, scatter_kws={'alpha':0.5},line_kws={'color':'red'})"
   ]
  },
  {
   "cell_type": "markdown",
   "metadata": {
    "cell_id": "ef27d2cf14964187a3cd9def87a1b0ba",
    "deepnote_cell_type": "markdown"
   },
   "source": [
    "The graph here shows a more steep slope between Scores the other columns used in the model compared to the slope we saw earlier. The steeper slope indicates there is a more significant change and that there is a postive correlation between scores and all the columns that were used. "
   ]
  },
  {
   "cell_type": "markdown",
   "metadata": {
    "cell_id": "886a818910584befacdde0fe4513c15b",
    "deepnote_cell_type": "markdown"
   },
   "source": [
    "### Random Forest Regressor"
   ]
  },
  {
   "cell_type": "code",
   "execution_count": 24,
   "metadata": {
    "cell_id": "4007ab2cac814ae1982213b24f5fa2c8",
    "deepnote_cell_type": "code",
    "deepnote_to_be_reexecuted": false,
    "execution_millis": 16114,
    "execution_start": 1695796817569,
    "source_hash": "a37fd7b7"
   },
   "outputs": [],
   "source": [
    "df_err = pd.DataFrame(columns=['leaves','error', 'set'])\n",
    "for i in range(2,100):\n",
    "    rfr = RandomForestRegressor(max_leaf_nodes=i)\n",
    "    rfr.fit(X_train, y_train)\n",
    "    d1 = {\"leaves\": i, \"error\": (1 - rfr.score(X_train, y_train)), \"set\":\"train\"}\n",
    "    d2 = {\"leaves\": i, \"error\": (1 - rfr.score(X_test, y_test)), \"set\": \"test\"}\n",
    "    df_err.loc[len(df_err)] = d1\n",
    "    df_err.loc[len(df_err)] = d2"
   ]
  },
  {
   "cell_type": "code",
   "execution_count": 25,
   "metadata": {
    "cell_id": "e325d10ae8ae405ab092927390a65196",
    "deepnote_cell_type": "code",
    "deepnote_to_be_reexecuted": false,
    "execution_millis": 438,
    "execution_start": 1695796833718,
    "source_hash": "460d3036"
   },
   "outputs": [
    {
     "data": {
      "text/html": [
       "\n",
       "<div id=\"altair-viz-d8ae9a1a93454c60994e6dc7299cde7d\"></div>\n",
       "<script type=\"text/javascript\">\n",
       "  var VEGA_DEBUG = (typeof VEGA_DEBUG == \"undefined\") ? {} : VEGA_DEBUG;\n",
       "  (function(spec, embedOpt){\n",
       "    let outputDiv = document.currentScript.previousElementSibling;\n",
       "    if (outputDiv.id !== \"altair-viz-d8ae9a1a93454c60994e6dc7299cde7d\") {\n",
       "      outputDiv = document.getElementById(\"altair-viz-d8ae9a1a93454c60994e6dc7299cde7d\");\n",
       "    }\n",
       "    const paths = {\n",
       "      \"vega\": \"https://cdn.jsdelivr.net/npm//vega@5?noext\",\n",
       "      \"vega-lib\": \"https://cdn.jsdelivr.net/npm//vega-lib?noext\",\n",
       "      \"vega-lite\": \"https://cdn.jsdelivr.net/npm//vega-lite@4.17.0?noext\",\n",
       "      \"vega-embed\": \"https://cdn.jsdelivr.net/npm//vega-embed@6?noext\",\n",
       "    };\n",
       "\n",
       "    function maybeLoadScript(lib, version) {\n",
       "      var key = `${lib.replace(\"-\", \"\")}_version`;\n",
       "      return (VEGA_DEBUG[key] == version) ?\n",
       "        Promise.resolve(paths[lib]) :\n",
       "        new Promise(function(resolve, reject) {\n",
       "          var s = document.createElement('script');\n",
       "          document.getElementsByTagName(\"head\")[0].appendChild(s);\n",
       "          s.async = true;\n",
       "          s.onload = () => {\n",
       "            VEGA_DEBUG[key] = version;\n",
       "            return resolve(paths[lib]);\n",
       "          };\n",
       "          s.onerror = () => reject(`Error loading script: ${paths[lib]}`);\n",
       "          s.src = paths[lib];\n",
       "        });\n",
       "    }\n",
       "\n",
       "    function showError(err) {\n",
       "      outputDiv.innerHTML = `<div class=\"error\" style=\"color:red;\">${err}</div>`;\n",
       "      throw err;\n",
       "    }\n",
       "\n",
       "    function displayChart(vegaEmbed) {\n",
       "      vegaEmbed(outputDiv, spec, embedOpt)\n",
       "        .catch(err => showError(`Javascript Error: ${err.message}<br>This usually means there's a typo in your chart specification. See the javascript console for the full traceback.`));\n",
       "    }\n",
       "\n",
       "    if(typeof define === \"function\" && define.amd) {\n",
       "      requirejs.config({paths});\n",
       "      require([\"vega-embed\"], displayChart, err => showError(`Error loading script: ${err.message}`));\n",
       "    } else {\n",
       "      maybeLoadScript(\"vega\", \"5\")\n",
       "        .then(() => maybeLoadScript(\"vega-lite\", \"4.17.0\"))\n",
       "        .then(() => maybeLoadScript(\"vega-embed\", \"6\"))\n",
       "        .catch(showError)\n",
       "        .then(() => displayChart(vegaEmbed));\n",
       "    }\n",
       "  })({\"config\": {\"view\": {\"continuousWidth\": 400, \"continuousHeight\": 300}}, \"data\": {\"name\": \"data-73015dd487882ed3d8a7276b411842de\"}, \"mark\": \"line\", \"encoding\": {\"color\": {\"field\": \"set\", \"type\": \"nominal\"}, \"x\": {\"field\": \"leaves\", \"type\": \"quantitative\"}, \"y\": {\"field\": \"error\", \"type\": \"quantitative\"}}, \"$schema\": \"https://vega.github.io/schema/vega-lite/v4.17.0.json\", \"datasets\": {\"data-73015dd487882ed3d8a7276b411842de\": [{\"leaves\": 2, \"error\": 0.34284547800081855, \"set\": \"train\"}, {\"leaves\": 2, \"error\": 0.3884412643668328, \"set\": \"test\"}, {\"leaves\": 3, \"error\": 0.17167795127557361, \"set\": \"train\"}, {\"leaves\": 3, \"error\": 0.18592523104605507, \"set\": \"test\"}, {\"leaves\": 4, \"error\": 0.10263976131514696, \"set\": \"train\"}, {\"leaves\": 4, \"error\": 0.11056315043256659, \"set\": \"test\"}, {\"leaves\": 5, \"error\": 0.07311832053650125, \"set\": \"train\"}, {\"leaves\": 5, \"error\": 0.07078088337229138, \"set\": \"test\"}, {\"leaves\": 6, \"error\": 0.05554348290436473, \"set\": \"train\"}, {\"leaves\": 6, \"error\": 0.056372319968580276, \"set\": \"test\"}, {\"leaves\": 7, \"error\": 0.0473114038628778, \"set\": \"train\"}, {\"leaves\": 7, \"error\": 0.05441916009820724, \"set\": \"test\"}, {\"leaves\": 8, \"error\": 0.04084336665505495, \"set\": \"train\"}, {\"leaves\": 8, \"error\": 0.052067978134181514, \"set\": \"test\"}, {\"leaves\": 9, \"error\": 0.03679214768496808, \"set\": \"train\"}, {\"leaves\": 9, \"error\": 0.04955342648939187, \"set\": \"test\"}, {\"leaves\": 10, \"error\": 0.03343151740697958, \"set\": \"train\"}, {\"leaves\": 10, \"error\": 0.04899593449649231, \"set\": \"test\"}, {\"leaves\": 11, \"error\": 0.030454923771641385, \"set\": \"train\"}, {\"leaves\": 11, \"error\": 0.04870992320235512, \"set\": \"test\"}, {\"leaves\": 12, \"error\": 0.028072080394040744, \"set\": \"train\"}, {\"leaves\": 12, \"error\": 0.0507503135333206, \"set\": \"test\"}, {\"leaves\": 13, \"error\": 0.02561456907063686, \"set\": \"train\"}, {\"leaves\": 13, \"error\": 0.0495846624238635, \"set\": \"test\"}, {\"leaves\": 14, \"error\": 0.024215510390380945, \"set\": \"train\"}, {\"leaves\": 14, \"error\": 0.048709524945926286, \"set\": \"test\"}, {\"leaves\": 15, \"error\": 0.022443225209497153, \"set\": \"train\"}, {\"leaves\": 15, \"error\": 0.050531078454153056, \"set\": \"test\"}, {\"leaves\": 16, \"error\": 0.021201647982076133, \"set\": \"train\"}, {\"leaves\": 16, \"error\": 0.05305365349429003, \"set\": \"test\"}, {\"leaves\": 17, \"error\": 0.02030290757954245, \"set\": \"train\"}, {\"leaves\": 17, \"error\": 0.05528216505429784, \"set\": \"test\"}, {\"leaves\": 18, \"error\": 0.019729197504661067, \"set\": \"train\"}, {\"leaves\": 18, \"error\": 0.05131756369554141, \"set\": \"test\"}, {\"leaves\": 19, \"error\": 0.01837692697989901, \"set\": \"train\"}, {\"leaves\": 19, \"error\": 0.05341061152702997, \"set\": \"test\"}, {\"leaves\": 20, \"error\": 0.016687143533994364, \"set\": \"train\"}, {\"leaves\": 20, \"error\": 0.0517393006214546, \"set\": \"test\"}, {\"leaves\": 21, \"error\": 0.01748972890861078, \"set\": \"train\"}, {\"leaves\": 21, \"error\": 0.05213654672559187, \"set\": \"test\"}, {\"leaves\": 22, \"error\": 0.01589463015663284, \"set\": \"train\"}, {\"leaves\": 22, \"error\": 0.05120290867219368, \"set\": \"test\"}, {\"leaves\": 23, \"error\": 0.01597793090402544, \"set\": \"train\"}, {\"leaves\": 23, \"error\": 0.04935073352913344, \"set\": \"test\"}, {\"leaves\": 24, \"error\": 0.015700458869655542, \"set\": \"train\"}, {\"leaves\": 24, \"error\": 0.05264972190589001, \"set\": \"test\"}, {\"leaves\": 25, \"error\": 0.015063265629355893, \"set\": \"train\"}, {\"leaves\": 25, \"error\": 0.04678495583652842, \"set\": \"test\"}, {\"leaves\": 26, \"error\": 0.013990253130989783, \"set\": \"train\"}, {\"leaves\": 26, \"error\": 0.04900314758906543, \"set\": \"test\"}, {\"leaves\": 27, \"error\": 0.013653173059791301, \"set\": \"train\"}, {\"leaves\": 27, \"error\": 0.050749105687120655, \"set\": \"test\"}, {\"leaves\": 28, \"error\": 0.013868621050500796, \"set\": \"train\"}, {\"leaves\": 28, \"error\": 0.05019116493915654, \"set\": \"test\"}, {\"leaves\": 29, \"error\": 0.012722139113184205, \"set\": \"train\"}, {\"leaves\": 29, \"error\": 0.0483328319938684, \"set\": \"test\"}, {\"leaves\": 30, \"error\": 0.012729030189159607, \"set\": \"train\"}, {\"leaves\": 30, \"error\": 0.047034656295983246, \"set\": \"test\"}, {\"leaves\": 31, \"error\": 0.012467577192204038, \"set\": \"train\"}, {\"leaves\": 31, \"error\": 0.04877964415300651, \"set\": \"test\"}, {\"leaves\": 32, \"error\": 0.012402086876669882, \"set\": \"train\"}, {\"leaves\": 32, \"error\": 0.04742966537683235, \"set\": \"test\"}, {\"leaves\": 33, \"error\": 0.01205303669103408, \"set\": \"train\"}, {\"leaves\": 33, \"error\": 0.05321307551967491, \"set\": \"test\"}, {\"leaves\": 34, \"error\": 0.01296843479986054, \"set\": \"train\"}, {\"leaves\": 34, \"error\": 0.05033760258226028, \"set\": \"test\"}, {\"leaves\": 35, \"error\": 0.012376422572780155, \"set\": \"train\"}, {\"leaves\": 35, \"error\": 0.05111283093655361, \"set\": \"test\"}, {\"leaves\": 36, \"error\": 0.011607864820801672, \"set\": \"train\"}, {\"leaves\": 36, \"error\": 0.04714389613841452, \"set\": \"test\"}, {\"leaves\": 37, \"error\": 0.01120794259923552, \"set\": \"train\"}, {\"leaves\": 37, \"error\": 0.05001857154134359, \"set\": \"test\"}, {\"leaves\": 38, \"error\": 0.011141182557549145, \"set\": \"train\"}, {\"leaves\": 38, \"error\": 0.050193063601204235, \"set\": \"test\"}, {\"leaves\": 39, \"error\": 0.011399215179419664, \"set\": \"train\"}, {\"leaves\": 39, \"error\": 0.04555162943515023, \"set\": \"test\"}, {\"leaves\": 40, \"error\": 0.011035882674180986, \"set\": \"train\"}, {\"leaves\": 40, \"error\": 0.04988753853865857, \"set\": \"test\"}, {\"leaves\": 41, \"error\": 0.010594340573989891, \"set\": \"train\"}, {\"leaves\": 41, \"error\": 0.050377650853626776, \"set\": \"test\"}, {\"leaves\": 42, \"error\": 0.010726455533188628, \"set\": \"train\"}, {\"leaves\": 42, \"error\": 0.047954962743786966, \"set\": \"test\"}, {\"leaves\": 43, \"error\": 0.01032918997235388, \"set\": \"train\"}, {\"leaves\": 43, \"error\": 0.05046196610599307, \"set\": \"test\"}, {\"leaves\": 44, \"error\": 0.010006449336697698, \"set\": \"train\"}, {\"leaves\": 44, \"error\": 0.05111104436950453, \"set\": \"test\"}, {\"leaves\": 45, \"error\": 0.009812253681669825, \"set\": \"train\"}, {\"leaves\": 45, \"error\": 0.04759371453782335, \"set\": \"test\"}, {\"leaves\": 46, \"error\": 0.010009766452866109, \"set\": \"train\"}, {\"leaves\": 46, \"error\": 0.04928917136175037, \"set\": \"test\"}, {\"leaves\": 47, \"error\": 0.010061390873061127, \"set\": \"train\"}, {\"leaves\": 47, \"error\": 0.04742481530494458, \"set\": \"test\"}, {\"leaves\": 48, \"error\": 0.010494767582431952, \"set\": \"train\"}, {\"leaves\": 48, \"error\": 0.045804596805038345, \"set\": \"test\"}, {\"leaves\": 49, \"error\": 0.009555756474343813, \"set\": \"train\"}, {\"leaves\": 49, \"error\": 0.04853532468169053, \"set\": \"test\"}, {\"leaves\": 50, \"error\": 0.009668052619969392, \"set\": \"train\"}, {\"leaves\": 50, \"error\": 0.04946892027122418, \"set\": \"test\"}, {\"leaves\": 51, \"error\": 0.0099307840237004, \"set\": \"train\"}, {\"leaves\": 51, \"error\": 0.04695494671029454, \"set\": \"test\"}, {\"leaves\": 52, \"error\": 0.009703328864248406, \"set\": \"train\"}, {\"leaves\": 52, \"error\": 0.05021226607075069, \"set\": \"test\"}, {\"leaves\": 53, \"error\": 0.009958796670322845, \"set\": \"train\"}, {\"leaves\": 53, \"error\": 0.04909206039596803, \"set\": \"test\"}, {\"leaves\": 54, \"error\": 0.009200659972067426, \"set\": \"train\"}, {\"leaves\": 54, \"error\": 0.04786002180918392, \"set\": \"test\"}, {\"leaves\": 55, \"error\": 0.009481319895586648, \"set\": \"train\"}, {\"leaves\": 55, \"error\": 0.04926407711927716, \"set\": \"test\"}, {\"leaves\": 56, \"error\": 0.00973474220190651, \"set\": \"train\"}, {\"leaves\": 56, \"error\": 0.04494403970970717, \"set\": \"test\"}, {\"leaves\": 57, \"error\": 0.00943440175669541, \"set\": \"train\"}, {\"leaves\": 57, \"error\": 0.052074767837530844, \"set\": \"test\"}, {\"leaves\": 58, \"error\": 0.009654686565999215, \"set\": \"train\"}, {\"leaves\": 58, \"error\": 0.04800706966068635, \"set\": \"test\"}, {\"leaves\": 59, \"error\": 0.009684975724162492, \"set\": \"train\"}, {\"leaves\": 59, \"error\": 0.04772265992072611, \"set\": \"test\"}, {\"leaves\": 60, \"error\": 0.008651546820910294, \"set\": \"train\"}, {\"leaves\": 60, \"error\": 0.05107263869530776, \"set\": \"test\"}, {\"leaves\": 61, \"error\": 0.009356132061363653, \"set\": \"train\"}, {\"leaves\": 61, \"error\": 0.04796001274278361, \"set\": \"test\"}, {\"leaves\": 62, \"error\": 0.008564940782115449, \"set\": \"train\"}, {\"leaves\": 62, \"error\": 0.049392185675419364, \"set\": \"test\"}, {\"leaves\": 63, \"error\": 0.00854530439500567, \"set\": \"train\"}, {\"leaves\": 63, \"error\": 0.04840978504750992, \"set\": \"test\"}, {\"leaves\": 64, \"error\": 0.009297358369738995, \"set\": \"train\"}, {\"leaves\": 64, \"error\": 0.049054381716294726, \"set\": \"test\"}, {\"leaves\": 65, \"error\": 0.009379316578087216, \"set\": \"train\"}, {\"leaves\": 65, \"error\": 0.05082290748102303, \"set\": \"test\"}, {\"leaves\": 66, \"error\": 0.00882361015779809, \"set\": \"train\"}, {\"leaves\": 66, \"error\": 0.05205340074222753, \"set\": \"test\"}, {\"leaves\": 67, \"error\": 0.009206366467739868, \"set\": \"train\"}, {\"leaves\": 67, \"error\": 0.04947358667488089, \"set\": \"test\"}, {\"leaves\": 68, \"error\": 0.008971518199605844, \"set\": \"train\"}, {\"leaves\": 68, \"error\": 0.04784811837219549, \"set\": \"test\"}, {\"leaves\": 69, \"error\": 0.008942613525607657, \"set\": \"train\"}, {\"leaves\": 69, \"error\": 0.045723791191932484, \"set\": \"test\"}, {\"leaves\": 70, \"error\": 0.008594097248010857, \"set\": \"train\"}, {\"leaves\": 70, \"error\": 0.04731170027286724, \"set\": \"test\"}, {\"leaves\": 71, \"error\": 0.00842243444652968, \"set\": \"train\"}, {\"leaves\": 71, \"error\": 0.04777536490949741, \"set\": \"test\"}, {\"leaves\": 72, \"error\": 0.008530861259841926, \"set\": \"train\"}, {\"leaves\": 72, \"error\": 0.046468841482745216, \"set\": \"test\"}, {\"leaves\": 73, \"error\": 0.008604461368005967, \"set\": \"train\"}, {\"leaves\": 73, \"error\": 0.04950941093358818, \"set\": \"test\"}, {\"leaves\": 74, \"error\": 0.009188785476631378, \"set\": \"train\"}, {\"leaves\": 74, \"error\": 0.04854677910529581, \"set\": \"test\"}, {\"leaves\": 75, \"error\": 0.009105900788715315, \"set\": \"train\"}, {\"leaves\": 75, \"error\": 0.04841266500047137, \"set\": \"test\"}, {\"leaves\": 76, \"error\": 0.0092261036299367, \"set\": \"train\"}, {\"leaves\": 76, \"error\": 0.047094291748337236, \"set\": \"test\"}, {\"leaves\": 77, \"error\": 0.009653591243132364, \"set\": \"train\"}, {\"leaves\": 77, \"error\": 0.044175539793879226, \"set\": \"test\"}, {\"leaves\": 78, \"error\": 0.009383244822763204, \"set\": \"train\"}, {\"leaves\": 78, \"error\": 0.04825313115108554, \"set\": \"test\"}, {\"leaves\": 79, \"error\": 0.009111567392657949, \"set\": \"train\"}, {\"leaves\": 79, \"error\": 0.05035360338456596, \"set\": \"test\"}, {\"leaves\": 80, \"error\": 0.008467073884270815, \"set\": \"train\"}, {\"leaves\": 80, \"error\": 0.04619121681147065, \"set\": \"test\"}, {\"leaves\": 81, \"error\": 0.009336387970734883, \"set\": \"train\"}, {\"leaves\": 81, \"error\": 0.0494781209619749, \"set\": \"test\"}, {\"leaves\": 82, \"error\": 0.009248764183063196, \"set\": \"train\"}, {\"leaves\": 82, \"error\": 0.047078858071249896, \"set\": \"test\"}, {\"leaves\": 83, \"error\": 0.009155778748399013, \"set\": \"train\"}, {\"leaves\": 83, \"error\": 0.04687322683469686, \"set\": \"test\"}, {\"leaves\": 84, \"error\": 0.009290767247480347, \"set\": \"train\"}, {\"leaves\": 84, \"error\": 0.04658209728753915, \"set\": \"test\"}, {\"leaves\": 85, \"error\": 0.008962111043891108, \"set\": \"train\"}, {\"leaves\": 85, \"error\": 0.04579732960894756, \"set\": \"test\"}, {\"leaves\": 86, \"error\": 0.009395654725401492, \"set\": \"train\"}, {\"leaves\": 86, \"error\": 0.04783466461579389, \"set\": \"test\"}, {\"leaves\": 87, \"error\": 0.008500536422407223, \"set\": \"train\"}, {\"leaves\": 87, \"error\": 0.04730600485679237, \"set\": \"test\"}, {\"leaves\": 88, \"error\": 0.009344081889547162, \"set\": \"train\"}, {\"leaves\": 88, \"error\": 0.05007017140517789, \"set\": \"test\"}, {\"leaves\": 89, \"error\": 0.008585484985367597, \"set\": \"train\"}, {\"leaves\": 89, \"error\": 0.04790268036791312, \"set\": \"test\"}, {\"leaves\": 90, \"error\": 0.009502638507467798, \"set\": \"train\"}, {\"leaves\": 90, \"error\": 0.049672350315453695, \"set\": \"test\"}, {\"leaves\": 91, \"error\": 0.008848497598299199, \"set\": \"train\"}, {\"leaves\": 91, \"error\": 0.04917580245605446, \"set\": \"test\"}, {\"leaves\": 92, \"error\": 0.008555412129182982, \"set\": \"train\"}, {\"leaves\": 92, \"error\": 0.04701431460632399, \"set\": \"test\"}, {\"leaves\": 93, \"error\": 0.009040924380936621, \"set\": \"train\"}, {\"leaves\": 93, \"error\": 0.04535764375772944, \"set\": \"test\"}, {\"leaves\": 94, \"error\": 0.009161827184841265, \"set\": \"train\"}, {\"leaves\": 94, \"error\": 0.05034971344803063, \"set\": \"test\"}, {\"leaves\": 95, \"error\": 0.009392979073312935, \"set\": \"train\"}, {\"leaves\": 95, \"error\": 0.048761726572685404, \"set\": \"test\"}, {\"leaves\": 96, \"error\": 0.008607358022386435, \"set\": \"train\"}, {\"leaves\": 96, \"error\": 0.04991187239312933, \"set\": \"test\"}, {\"leaves\": 97, \"error\": 0.009198391194289668, \"set\": \"train\"}, {\"leaves\": 97, \"error\": 0.04937340490925912, \"set\": \"test\"}, {\"leaves\": 98, \"error\": 0.008758340049800473, \"set\": \"train\"}, {\"leaves\": 98, \"error\": 0.049727863632645475, \"set\": \"test\"}, {\"leaves\": 99, \"error\": 0.008912407929418942, \"set\": \"train\"}, {\"leaves\": 99, \"error\": 0.04697054753361629, \"set\": \"test\"}]}}, {\"mode\": \"vega-lite\"});\n",
       "</script>"
      ],
      "text/plain": [
       "alt.Chart(...)"
      ]
     },
     "execution_count": 25,
     "metadata": {},
     "output_type": "execute_result"
    }
   ],
   "source": [
    "alt.Chart(df_err).mark_line().encode(\n",
    "    x=\"leaves\",\n",
    "    y = \"error\",\n",
    "    color = \"set\",\n",
    ")"
   ]
  },
  {
   "cell_type": "markdown",
   "metadata": {
    "cell_id": "71b9c6fcffb94a97ac45b223e062aa78",
    "deepnote_cell_type": "markdown"
   },
   "source": [
    "The blue curve represents the score of score of champions while the orange line is representing the predicted score. Here, the test error curve shows how a max_leaf_nodes = 10 produces a slightly different result since it is the instance where the slope changes from negative to positive. "
   ]
  },
  {
   "cell_type": "markdown",
   "metadata": {
    "cell_id": "3d874cdcfc5945439f976e377044e7b3",
    "deepnote_cell_type": "markdown"
   },
   "source": [
    "### Logistics Regression for predicting Mid lane champions"
   ]
  },
  {
   "cell_type": "markdown",
   "metadata": {
    "cell_id": "f0bdcd8958054fcbbb1812590b0f5a88",
    "deepnote_cell_type": "markdown"
   },
   "source": [
    "There are 5 roles that players have to select in a League of Legends match. MID, however, is one of the common roles people opt to play. A reason for this because of a famous and popular competitive player named \"Faker\" who is pictured below. As the Mid role has best potential to get many kills and deaths/assists, it will have a great influencing a victory or defeat of a match, thus attracting many players to play Mid role champions. So lets focus on the Mid lane role"
   ]
  },
  {
   "cell_type": "code",
   "execution_count": 26,
   "metadata": {
    "cell_id": "785330fd6f8d4e3b9bcf739bc46541e6",
    "deepnote_cell_type": "code",
    "deepnote_to_be_reexecuted": false,
    "execution_millis": 294,
    "execution_start": 1695796833730,
    "source_hash": "88d029b5"
   },
   "outputs": [
    {
     "data": {
      "image/png": "[encoded data removed]",
      "text/plain": [
       "<PIL.JpegImagePlugin.JpegImageFile image mode=RGB size=263x192>"
      ]
     },
     "metadata": {
      "image/png": {
       "height": 192,
       "width": 263
      }
     },
     "output_type": "display_data"
    }
   ],
   "source": [
    "#extra\n",
    "from PIL import Image\n",
    "img = Image.open(\"faker.jpg\") #Go Faker and T1!\n",
    "img.show()"
   ]
  },
  {
   "cell_type": "code",
   "execution_count": 27,
   "metadata": {
    "cell_id": "e1a68eb3fc3546adab7858cebed265ce",
    "deepnote_cell_type": "code",
    "deepnote_to_be_reexecuted": false,
    "execution_millis": 143,
    "execution_start": 1695796833776,
    "source_hash": "7ec0602"
   },
   "outputs": [],
   "source": [
    "df[\"isMid\"] = (df[\"Role\"] == \"MID\")\n",
    "df[\"Mid Champs\"] = df[\"isMid\"].astype(int)"
   ]
  },
  {
   "cell_type": "code",
   "execution_count": 28,
   "metadata": {
    "cell_id": "f9987f3712474fd8bf0dccd6c2555f60",
    "deepnote_cell_type": "code",
    "deepnote_to_be_reexecuted": false,
    "execution_millis": 322,
    "execution_start": 1695796833834,
    "source_hash": "f8519f85"
   },
   "outputs": [
    {
     "data": {
      "text/html": [
       "\n",
       "<div id=\"altair-viz-0ed1dbf49dff42c6896139f34b9b9177\"></div>\n",
       "<script type=\"text/javascript\">\n",
       "  var VEGA_DEBUG = (typeof VEGA_DEBUG == \"undefined\") ? {} : VEGA_DEBUG;\n",
       "  (function(spec, embedOpt){\n",
       "    let outputDiv = document.currentScript.previousElementSibling;\n",
       "    if (outputDiv.id !== \"altair-viz-0ed1dbf49dff42c6896139f34b9b9177\") {\n",
       "      outputDiv = document.getElementById(\"altair-viz-0ed1dbf49dff42c6896139f34b9b9177\");\n",
       "    }\n",
       "    const paths = {\n",
       "      \"vega\": \"https://cdn.jsdelivr.net/npm//vega@5?noext\",\n",
       "      \"vega-lib\": \"https://cdn.jsdelivr.net/npm//vega-lib?noext\",\n",
       "      \"vega-lite\": \"https://cdn.jsdelivr.net/npm//vega-lite@4.17.0?noext\",\n",
       "      \"vega-embed\": \"https://cdn.jsdelivr.net/npm//vega-embed@6?noext\",\n",
       "    };\n",
       "\n",
       "    function maybeLoadScript(lib, version) {\n",
       "      var key = `${lib.replace(\"-\", \"\")}_version`;\n",
       "      return (VEGA_DEBUG[key] == version) ?\n",
       "        Promise.resolve(paths[lib]) :\n",
       "        new Promise(function(resolve, reject) {\n",
       "          var s = document.createElement('script');\n",
       "          document.getElementsByTagName(\"head\")[0].appendChild(s);\n",
       "          s.async = true;\n",
       "          s.onload = () => {\n",
       "            VEGA_DEBUG[key] = version;\n",
       "            return resolve(paths[lib]);\n",
       "          };\n",
       "          s.onerror = () => reject(`Error loading script: ${paths[lib]}`);\n",
       "          s.src = paths[lib];\n",
       "        });\n",
       "    }\n",
       "\n",
       "    function showError(err) {\n",
       "      outputDiv.innerHTML = `<div class=\"error\" style=\"color:red;\">${err}</div>`;\n",
       "      throw err;\n",
       "    }\n",
       "\n",
       "    function displayChart(vegaEmbed) {\n",
       "      vegaEmbed(outputDiv, spec, embedOpt)\n",
       "        .catch(err => showError(`Javascript Error: ${err.message}<br>This usually means there's a typo in your chart specification. See the javascript console for the full traceback.`));\n",
       "    }\n",
       "\n",
       "    if(typeof define === \"function\" && define.amd) {\n",
       "      requirejs.config({paths});\n",
       "      require([\"vega-embed\"], displayChart, err => showError(`Error loading script: ${err.message}`));\n",
       "    } else {\n",
       "      maybeLoadScript(\"vega\", \"5\")\n",
       "        .then(() => maybeLoadScript(\"vega-lite\", \"4.17.0\"))\n",
       "        .then(() => maybeLoadScript(\"vega-embed\", \"6\"))\n",
       "        .catch(showError)\n",
       "        .then(() => displayChart(vegaEmbed));\n",
       "    }\n",
       "  })({\"config\": {\"view\": {\"continuousWidth\": 400, \"continuousHeight\": 300}}, \"hconcat\": [{\"mark\": \"circle\", \"encoding\": {\"x\": {\"field\": \"Win %\", \"type\": \"quantitative\"}, \"y\": {\"field\": \"Mid Champs\", \"type\": \"quantitative\"}}}, {\"mark\": \"circle\", \"encoding\": {\"x\": {\"field\": \"Score\", \"type\": \"quantitative\"}, \"y\": {\"field\": \"Mid Champs\", \"type\": \"quantitative\"}}}], \"data\": {\"name\": \"data-0fbe7d99cc6f14ee2b9bee3f56b75b4a\"}, \"$schema\": \"https://vega.github.io/schema/vega-lite/v4.17.0.json\", \"datasets\": {\"data-0fbe7d99cc6f14ee2b9bee3f56b75b4a\": [{\"Name\": \"Aatrox\", \"Class\": \"Fighter\", \"Role\": \"TOP\", \"Tier\": \"God\", \"Score\": 71.25, \"Trend\": -3.39, \"Win %\": 48.84, \"Role %\": 92.28, \"Pick %\": 7.01, \"Ban %\": 5.81, \"KDA\": 1.85, \"Pred\": 47.11721369834213, \"isMid\": false, \"Mid Champs\": 0}, {\"Name\": \"Ahri\", \"Class\": \"Mage\", \"Role\": \"MID\", \"Tier\": \"God\", \"Score\": 77.12, \"Trend\": -5.03, \"Win %\": 50.9, \"Role %\": 95.23, \"Pick %\": 10.63, \"Ban %\": 6.47, \"KDA\": 2.63, \"Pred\": 51.18487226512221, \"isMid\": true, \"Mid Champs\": 1}, {\"Name\": \"Akali\", \"Class\": \"Assassin\", \"Role\": \"MID\", \"Tier\": \"A\", \"Score\": 55.37, \"Trend\": -5.08, \"Win %\": 48.18, \"Role %\": 78.45, \"Pick %\": 5.99, \"Ban %\": 8.1, \"KDA\": 2.3, \"Pred\": 45.81398328374267, \"isMid\": true, \"Mid Champs\": 1}, {\"Name\": \"Akali\", \"Class\": \"Assassin\", \"Role\": \"TOP\", \"Tier\": \"C\", \"Score\": 36.35, \"Trend\": -0.6, \"Win %\": 48.5, \"Role %\": 20.39, \"Pick %\": 1.45, \"Ban %\": 8.1, \"KDA\": 2.06, \"Pred\": 46.445852575669676, \"isMid\": false, \"Mid Champs\": 0}, {\"Name\": \"Akshan\", \"Class\": \"Marksman\", \"Role\": \"MID\", \"Tier\": \"B\", \"Score\": 47.25, \"Trend\": -1.5, \"Win %\": 50.15, \"Role %\": 69.32, \"Pick %\": 2.88, \"Ban %\": 5.94, \"KDA\": 2.16, \"Pred\": 49.70392861216828, \"isMid\": true, \"Mid Champs\": 1}, {\"Name\": \"Akshan\", \"Class\": \"Marksman\", \"Role\": \"TOP\", \"Tier\": \"C\", \"Score\": 37.24, \"Trend\": 0.83, \"Win %\": 50.87, \"Role %\": 22.48, \"Pick %\": 0.96, \"Ban %\": 5.94, \"KDA\": 1.89, \"Pred\": 51.12563451900405, \"isMid\": false, \"Mid Champs\": 0}, {\"Name\": \"Alistar\", \"Class\": \"Tank\", \"Role\": \"SUPPORT\", \"Tier\": \"A\", \"Score\": 54.33, \"Trend\": 4.6, \"Win %\": 51.13, \"Role %\": 95.57, \"Pick %\": 4.58, \"Ban %\": 1.43, \"KDA\": 2.51, \"Pred\": 51.639028318694756, \"isMid\": false, \"Mid Champs\": 0}, {\"Name\": \"Amumu\", \"Class\": \"Tank\", \"Role\": \"JUNGLE\", \"Tier\": \"B\", \"Score\": 44.96, \"Trend\": -0.85, \"Win %\": 51.16, \"Role %\": 66.72, \"Pick %\": 2.86, \"Ban %\": 2.1, \"KDA\": 2.64, \"Pred\": 51.6982660648129, \"isMid\": false, \"Mid Champs\": 0}, {\"Name\": \"Amumu\", \"Class\": \"Tank\", \"Role\": \"SUPPORT\", \"Tier\": \"B\", \"Score\": 40.1, \"Trend\": -1.92, \"Win %\": 51.5, \"Role %\": 31.76, \"Pick %\": 1.1, \"Ban %\": 2.1, \"KDA\": 2.08, \"Pred\": 52.36962718748535, \"isMid\": false, \"Mid Champs\": 0}, {\"Name\": \"Anivia\", \"Class\": \"Mage\", \"Role\": \"MID\", \"Tier\": \"A\", \"Score\": 50.85, \"Trend\": -1.84, \"Win %\": 51.67, \"Role %\": 79.48, \"Pick %\": 2.22, \"Ban %\": 2.59, \"KDA\": 2.84, \"Pred\": 52.70530774882157, \"isMid\": true, \"Mid Champs\": 1}, {\"Name\": \"Anivia\", \"Class\": \"Mage\", \"Role\": \"SUPPORT\", \"Tier\": \"D\", \"Score\": 24.49, \"Trend\": -5.76, \"Win %\": 44.86, \"Role %\": 12.07, \"Pick %\": 0.29, \"Ban %\": 2.59, \"KDA\": 2.07, \"Pred\": 39.25833937999998, \"isMid\": false, \"Mid Champs\": 0}, {\"Name\": \"Annie\", \"Class\": \"Mage\", \"Role\": \"MID\", \"Tier\": \"A\", \"Score\": 48.73, \"Trend\": -8.33, \"Win %\": 50.61, \"Role %\": 79.68, \"Pick %\": 2.93, \"Ban %\": 2.28, \"KDA\": 2.34, \"Pred\": 50.61224071931336, \"isMid\": true, \"Mid Champs\": 1}, {\"Name\": \"Annie\", \"Class\": \"Mage\", \"Role\": \"SUPPORT\", \"Tier\": \"C\", \"Score\": 36.74, \"Trend\": -3.16, \"Win %\": 50.33, \"Role %\": 15.84, \"Pick %\": 0.6, \"Ban %\": 2.28, \"KDA\": 2.27, \"Pred\": 50.059355088877226, \"isMid\": false, \"Mid Champs\": 0}, {\"Name\": \"Aphelios\", \"Class\": \"Marksman\", \"Role\": \"ADC\", \"Tier\": \"B\", \"Score\": 44.69, \"Trend\": -23.49, \"Win %\": 47.44, \"Role %\": 97.7, \"Pick %\": 9.01, \"Ban %\": 3.11, \"KDA\": 1.95, \"Pred\": 44.352785546161456, \"isMid\": false, \"Mid Champs\": 0}, {\"Name\": \"Ashe\", \"Class\": \"Marksman\", \"Role\": \"ADC\", \"Tier\": \"S\", \"Score\": 67.31, \"Trend\": 4.14, \"Win %\": 52.39, \"Role %\": 85.21, \"Pick %\": 15.12, \"Ban %\": 5.7, \"KDA\": 2.45, \"Pred\": 54.127013655657336, \"isMid\": false, \"Mid Champs\": 0}, {\"Name\": \"Ashe\", \"Class\": \"Marksman\", \"Role\": \"SUPPORT\", \"Tier\": \"C\", \"Score\": 37.02, \"Trend\": 1.58, \"Win %\": 47.67, \"Role %\": 12.55, \"Pick %\": 2.14, \"Ban %\": 5.7, \"KDA\": 2.06, \"Pred\": 44.806941599734, \"isMid\": false, \"Mid Champs\": 0}, {\"Name\": \"Aurelion Sol\", \"Class\": \"Mage\", \"Role\": \"MID\", \"Tier\": \"A\", \"Score\": 54.0, \"Trend\": 0.48, \"Win %\": 51.48, \"Role %\": 87.38, \"Pick %\": 3.5, \"Ban %\": 5.2, \"KDA\": 2.64, \"Pred\": 52.3301353567399, \"isMid\": true, \"Mid Champs\": 1}, {\"Name\": \"Azir\", \"Class\": \"Mage\", \"Role\": \"MID\", \"Tier\": \"A\", \"Score\": 47.51, \"Trend\": 0.27, \"Win %\": 48.12, \"Role %\": 92.08, \"Pick %\": 4.37, \"Ban %\": 1.15, \"KDA\": 2.09, \"Pred\": 45.695507791506344, \"isMid\": true, \"Mid Champs\": 1}, {\"Name\": \"Bard\", \"Class\": \"Support\", \"Role\": \"SUPPORT\", \"Tier\": \"B\", \"Score\": 43.6, \"Trend\": -2.68, \"Win %\": 49.55, \"Role %\": 95.39, \"Pick %\": 2.14, \"Ban %\": 0.31, \"KDA\": 2.88, \"Pred\": 48.51917368980516, \"isMid\": false, \"Mid Champs\": 0}, {\"Name\": \"Bel'Veth\", \"Class\": \"Fighter\", \"Role\": \"JUNGLE\", \"Tier\": \"A\", \"Score\": 49.69, \"Trend\": 1.57, \"Win %\": 50.6, \"Role %\": 89.84, \"Pick %\": 4.26, \"Ban %\": 6.09, \"KDA\": 2.41, \"Pred\": 50.59249480394065, \"isMid\": false, \"Mid Champs\": 0}, {\"Name\": \"Blitzcrank\", \"Class\": \"Tank\", \"Role\": \"SUPPORT\", \"Tier\": \"God\", \"Score\": 79.03, \"Trend\": 4.56, \"Win %\": 50.96, \"Role %\": 97.14, \"Pick %\": 8.78, \"Ban %\": 23.8, \"KDA\": 2.37, \"Pred\": 51.30334775735852, \"isMid\": false, \"Mid Champs\": 0}, {\"Name\": \"Brand\", \"Class\": \"Mage\", \"Role\": \"SUPPORT\", \"Tier\": \"B\", \"Score\": 41.62, \"Trend\": -3.46, \"Win %\": 49.16, \"Role %\": 72.74, \"Pick %\": 2.96, \"Ban %\": 3.38, \"KDA\": 1.75, \"Pred\": 47.749082990269116, \"isMid\": false, \"Mid Champs\": 0}, {\"Name\": \"Brand\", \"Class\": \"Mage\", \"Role\": \"MID\", \"Tier\": \"B\", \"Score\": 40.08, \"Trend\": 5.34, \"Win %\": 50.52, \"Role %\": 19.47, \"Pick %\": 0.72, \"Ban %\": 3.38, \"KDA\": 2.06, \"Pred\": 50.434527480958906, \"isMid\": true, \"Mid Champs\": 1}, {\"Name\": \"Braum\", \"Class\": \"Support\", \"Role\": \"SUPPORT\", \"Tier\": \"B\", \"Score\": 47.38, \"Trend\": 0.89, \"Win %\": 49.83, \"Role %\": 98.48, \"Pick %\": 3.1, \"Ban %\": 0.53, \"KDA\": 2.79, \"Pred\": 49.07205932024128, \"isMid\": false, \"Mid Champs\": 0}, {\"Name\": \"Caitlyn\", \"Class\": \"Marksman\", \"Role\": \"ADC\", \"Tier\": \"B\", \"Score\": 46.61, \"Trend\": -2.93, \"Win %\": 47.84, \"Role %\": 94.39, \"Pick %\": 8.77, \"Ban %\": 6.08, \"KDA\": 2.12, \"Pred\": 45.142622161070236, \"isMid\": false, \"Mid Champs\": 0}, {\"Name\": \"Camille\", \"Class\": \"Fighter\", \"Role\": \"TOP\", \"Tier\": \"A\", \"Score\": 50.66, \"Trend\": -0.83, \"Win %\": 50.52, \"Role %\": 92.99, \"Pick %\": 3.26, \"Ban %\": 1.75, \"KDA\": 1.94, \"Pred\": 50.434527480958906, \"isMid\": false, \"Mid Champs\": 0}, {\"Name\": \"Cassiopeia\", \"Class\": \"Mage\", \"Role\": \"MID\", \"Tier\": \"B\", \"Score\": 47.36, \"Trend\": -1.15, \"Win %\": 51.45, \"Role %\": 73.55, \"Pick %\": 2.3, \"Ban %\": 2.34, \"KDA\": 2.16, \"Pred\": 52.27089761062176, \"isMid\": true, \"Mid Champs\": 1}, {\"Name\": \"Cassiopeia\", \"Class\": \"Mage\", \"Role\": \"TOP\", \"Tier\": \"C\", \"Score\": 37.99, \"Trend\": -1.37, \"Win %\": 52.33, \"Role %\": 16.69, \"Pick %\": 0.53, \"Ban %\": 2.34, \"KDA\": 1.95, \"Pred\": 54.00853816342101, \"isMid\": false, \"Mid Champs\": 0}, {\"Name\": \"Cho'Gath\", \"Class\": \"Tank\", \"Role\": \"TOP\", \"Tier\": \"A\", \"Score\": 51.89, \"Trend\": -1.43, \"Win %\": 51.25, \"Role %\": 65.85, \"Pick %\": 3.06, \"Ban %\": 1.32, \"KDA\": 2.07, \"Pred\": 51.87597930316737, \"isMid\": false, \"Mid Champs\": 0}, {\"Name\": \"Cho'Gath\", \"Class\": \"Tank\", \"Role\": \"MID\", \"Tier\": \"B\", \"Score\": 43.75, \"Trend\": 0.1, \"Win %\": 51.56, \"Role %\": 18.54, \"Pick %\": 0.76, \"Ban %\": 1.32, \"KDA\": 2.41, \"Pred\": 52.48810267972166, \"isMid\": true, \"Mid Champs\": 1}, {\"Name\": \"Corki\", \"Class\": \"Marksman\", \"Role\": \"MID\", \"Tier\": \"C\", \"Score\": 37.15, \"Trend\": -0.31, \"Win %\": 48.34, \"Role %\": 86.3, \"Pick %\": 0.88, \"Ban %\": 0.18, \"KDA\": 2.19, \"Pred\": 46.12991792970618, \"isMid\": true, \"Mid Champs\": 1}, {\"Name\": \"Darius\", \"Class\": \"Fighter\", \"Role\": \"TOP\", \"Tier\": \"God\", \"Score\": 89.77, \"Trend\": 2.57, \"Win %\": 49.01, \"Role %\": 92.99, \"Pick %\": 8.46, \"Ban %\": 19.04, \"KDA\": 1.8, \"Pred\": 47.45289425967833, \"isMid\": false, \"Mid Champs\": 0}, {\"Name\": \"Diana\", \"Class\": \"Fighter\", \"Role\": \"MID\", \"Tier\": \"B\", \"Score\": 40.75, \"Trend\": -2.3, \"Win %\": 49.94, \"Role %\": 24.93, \"Pick %\": 1.18, \"Ban %\": 1.35, \"KDA\": 2.13, \"Pred\": 49.2892643893412, \"isMid\": true, \"Mid Champs\": 1}, {\"Name\": \"Diana\", \"Class\": \"Fighter\", \"Role\": \"JUNGLE\", \"Tier\": \"C\", \"Score\": 39.37, \"Trend\": -2.64, \"Win %\": 48.59, \"Role %\": 72.61, \"Pick %\": 3.35, \"Ban %\": 1.35, \"KDA\": 2.38, \"Pred\": 46.62356581402415, \"isMid\": false, \"Mid Champs\": 0}, {\"Name\": \"Dr. Mundo\", \"Class\": \"Marksman\", \"Role\": \"TOP\", \"Tier\": \"A\", \"Score\": 50.46, \"Trend\": -2.71, \"Win %\": 51.84, \"Role %\": 85.89, \"Pick %\": 2.78, \"Ban %\": 2.61, \"KDA\": 1.87, \"Pred\": 53.0409883101578, \"isMid\": false, \"Mid Champs\": 0}, {\"Name\": \"Draven\", \"Class\": \"Fighter\", \"Role\": \"ADC\", \"Tier\": \"A\", \"Score\": 48.93, \"Trend\": -0.17, \"Win %\": 50.13, \"Role %\": 95.95, \"Pick %\": 6.31, \"Ban %\": 21.39, \"KDA\": 2.14, \"Pred\": 49.664436781422864, \"isMid\": false, \"Mid Champs\": 0}, {\"Name\": \"Ekko\", \"Class\": \"Assassin\", \"Role\": \"JUNGLE\", \"Tier\": \"A\", \"Score\": 53.28, \"Trend\": 2.72, \"Win %\": 50.55, \"Role %\": 63.13, \"Pick %\": 4.83, \"Ban %\": 3.14, \"KDA\": 2.68, \"Pred\": 50.49376522707705, \"isMid\": false, \"Mid Champs\": 0}, {\"Name\": \"Ekko\", \"Class\": \"Assassin\", \"Role\": \"MID\", \"Tier\": \"B\", \"Score\": 46.68, \"Trend\": 0.75, \"Win %\": 50.43, \"Role %\": 34.0, \"Pick %\": 2.52, \"Ban %\": 3.14, \"KDA\": 2.24, \"Pred\": 50.25681424260442, \"isMid\": true, \"Mid Champs\": 1}, {\"Name\": \"Elise\", \"Class\": \"Mage\", \"Role\": \"JUNGLE\", \"Tier\": \"C\", \"Score\": 36.51, \"Trend\": 1.0, \"Win %\": 49.21, \"Role %\": 92.93, \"Pick %\": 1.98, \"Ban %\": 1.72, \"KDA\": 2.71, \"Pred\": 47.84781256713272, \"isMid\": false, \"Mid Champs\": 0}, {\"Name\": \"Evelynn\", \"Class\": \"Assassin\", \"Role\": \"JUNGLE\", \"Tier\": \"S\", \"Score\": 57.3, \"Trend\": 2.59, \"Win %\": 51.18, \"Role %\": 97.95, \"Pick %\": 4.67, \"Ban %\": 9.69, \"KDA\": 2.95, \"Pred\": 51.737757895558346, \"isMid\": false, \"Mid Champs\": 0}, {\"Name\": \"Ezreal\", \"Class\": \"Marksman\", \"Role\": \"ADC\", \"Tier\": \"God\", \"Score\": 72.99, \"Trend\": -19.84, \"Win %\": 50.1, \"Role %\": 87.8, \"Pick %\": 19.96, \"Ban %\": 8.96, \"KDA\": 2.49, \"Pred\": 49.60519903530471, \"isMid\": false, \"Mid Champs\": 0}, {\"Name\": \"Ezreal\", \"Class\": \"Marksman\", \"Role\": \"MID\", \"Tier\": \"D\", \"Score\": 33.67, \"Trend\": -7.35, \"Win %\": 44.02, \"Role %\": 10.31, \"Pick %\": 2.37, \"Ban %\": 8.96, \"KDA\": 1.98, \"Pred\": 37.5996824886916, \"isMid\": true, \"Mid Champs\": 1}, {\"Name\": \"Fiddlesticks\", \"Class\": \"Mage\", \"Role\": \"JUNGLE\", \"Tier\": \"A\", \"Score\": 48.92, \"Trend\": 0.28, \"Win %\": 51.22, \"Role %\": 79.76, \"Pick %\": 3.48, \"Ban %\": 3.61, \"KDA\": 2.75, \"Pred\": 51.81674155704921, \"isMid\": false, \"Mid Champs\": 0}, {\"Name\": \"Fiddlesticks\", \"Class\": \"Mage\", \"Role\": \"SUPPORT\", \"Tier\": \"C\", \"Score\": 37.61, \"Trend\": -0.4, \"Win %\": 51.49, \"Role %\": 12.24, \"Pick %\": 0.5, \"Ban %\": 3.53, \"KDA\": 2.03, \"Pred\": 52.349881272112626, \"isMid\": false, \"Mid Champs\": 0}, {\"Name\": \"Fiora\", \"Class\": \"Fighter\", \"Role\": \"TOP\", \"Tier\": \"S\", \"Score\": 69.54, \"Trend\": 0.38, \"Win %\": 51.21, \"Role %\": 97.48, \"Pick %\": 5.55, \"Ban %\": 13.56, \"KDA\": 1.69, \"Pred\": 51.7969956416765, \"isMid\": false, \"Mid Champs\": 0}, {\"Name\": \"Fizz\", \"Class\": \"Assassin\", \"Role\": \"MID\", \"Tier\": \"S\", \"Score\": 62.51, \"Trend\": 1.61, \"Win %\": 51.79, \"Role %\": 95.0, \"Pick %\": 5.92, \"Ban %\": 9.4, \"KDA\": 2.39, \"Pred\": 52.942258733294196, \"isMid\": true, \"Mid Champs\": 1}, {\"Name\": \"Galio\", \"Class\": \"Tank\", \"Role\": \"MID\", \"Tier\": \"B\", \"Score\": 46.34, \"Trend\": 0.19, \"Win %\": 50.84, \"Role %\": 75.81, \"Pick %\": 1.67, \"Ban %\": 0.33, \"KDA\": 2.62, \"Pred\": 51.06639677288591, \"isMid\": true, \"Mid Champs\": 1}, {\"Name\": \"Galio\", \"Class\": \"Tank\", \"Role\": \"SUPPORT\", \"Tier\": \"C\", \"Score\": 35.96, \"Trend\": 0.01, \"Win %\": 50.22, \"Role %\": 19.28, \"Pick %\": 0.38, \"Ban %\": 0.33, \"KDA\": 2.33, \"Pred\": 49.84215001977732, \"isMid\": false, \"Mid Champs\": 0}, {\"Name\": \"Gangplank\", \"Class\": \"Fighter\", \"Role\": \"TOP\", \"Tier\": \"S\", \"Score\": 58.79, \"Trend\": 0.16, \"Win %\": 49.58, \"Role %\": 85.39, \"Pick %\": 4.78, \"Ban %\": 4.41, \"KDA\": 1.95, \"Pred\": 48.578411435923314, \"isMid\": false, \"Mid Champs\": 0}, {\"Name\": \"Gangplank\", \"Class\": \"Fighter\", \"Role\": \"MID\", \"Tier\": \"B\", \"Score\": 44.29, \"Trend\": 1.67, \"Win %\": 52.23, \"Role %\": 13.06, \"Pick %\": 0.76, \"Ban %\": 4.41, \"KDA\": 2.25, \"Pred\": 53.81107900969383, \"isMid\": true, \"Mid Champs\": 1}, {\"Name\": \"Garen\", \"Class\": \"Fighter\", \"Role\": \"TOP\", \"Tier\": \"S\", \"Score\": 70.64, \"Trend\": 0.3, \"Win %\": 50.59, \"Role %\": 86.57, \"Pick %\": 6.36, \"Ban %\": 2.43, \"KDA\": 1.99, \"Pred\": 50.57274888856793, \"isMid\": false, \"Mid Champs\": 0}, {\"Name\": \"Gnar\", \"Class\": \"Fighter\", \"Role\": \"TOP\", \"Tier\": \"B\", \"Score\": 40.81, \"Trend\": -1.82, \"Win %\": 47.68, \"Role %\": 95.79, \"Pick %\": 2.9, \"Ban %\": 0.57, \"KDA\": 1.8, \"Pred\": 44.82668751510673, \"isMid\": false, \"Mid Champs\": 0}, {\"Name\": \"Gragas\", \"Class\": \"Fighter\", \"Role\": \"JUNGLE\", \"Tier\": \"B\", \"Score\": 45.62, \"Trend\": 0.69, \"Win %\": 49.04, \"Role %\": 49.51, \"Pick %\": 3.81, \"Ban %\": 3.23, \"KDA\": 2.8, \"Pred\": 47.51213200579649, \"isMid\": false, \"Mid Champs\": 0}, {\"Name\": \"Gragas\", \"Class\": \"Fighter\", \"Role\": \"TOP\", \"Tier\": \"C\", \"Score\": 38.22, \"Trend\": -3.15, \"Win %\": 46.45, \"Role %\": 33.32, \"Pick %\": 2.67, \"Ban %\": 3.23, \"KDA\": 1.96, \"Pred\": 42.3979399242623, \"isMid\": false, \"Mid Champs\": 0}, {\"Name\": \"Gragas\", \"Class\": \"Fighter\", \"Role\": \"MID\", \"Tier\": \"C\", \"Score\": 36.71, \"Trend\": -1.32, \"Win %\": 48.01, \"Role %\": 10.62, \"Pick %\": 0.8, \"Ban %\": 3.23, \"KDA\": 2.26, \"Pred\": 45.47830272240644, \"isMid\": true, \"Mid Champs\": 1}, {\"Name\": \"Graves\", \"Class\": \"Marksman\", \"Role\": \"JUNGLE\", \"Tier\": \"God\", \"Score\": 72.71, \"Trend\": 1.85, \"Win %\": 50.77, \"Role %\": 91.21, \"Pick %\": 8.58, \"Ban %\": 4.98, \"KDA\": 2.65, \"Pred\": 50.92817536527687, \"isMid\": false, \"Mid Champs\": 0}, {\"Name\": \"Gwen\", \"Class\": \"Fighter\", \"Role\": \"TOP\", \"Tier\": \"A\", \"Score\": 53.66, \"Trend\": 2.4, \"Win %\": 49.92, \"Role %\": 89.55, \"Pick %\": 4.22, \"Ban %\": 2.41, \"KDA\": 1.7, \"Pred\": 49.249772558595765, \"isMid\": false, \"Mid Champs\": 0}, {\"Name\": \"Hecarim\", \"Class\": \"Fighter\", \"Role\": \"JUNGLE\", \"Tier\": \"S\", \"Score\": 62.04, \"Trend\": 4.1, \"Win %\": 50.31, \"Role %\": 99.16, \"Pick %\": 6.21, \"Ban %\": 11.3, \"KDA\": 2.65, \"Pred\": 50.01986325813181, \"isMid\": false, \"Mid Champs\": 0}, {\"Name\": \"Heimerdinger\", \"Class\": \"Mage\", \"Role\": \"MID\", \"Tier\": \"B\", \"Score\": 44.22, \"Trend\": 0.5, \"Win %\": 52.83, \"Role %\": 22.49, \"Pick %\": 0.78, \"Ban %\": 1.53, \"KDA\": 2.01, \"Pred\": 54.995833932056954, \"isMid\": true, \"Mid Champs\": 1}, {\"Name\": \"Heimerdinger\", \"Class\": \"Mage\", \"Role\": \"SUPPORT\", \"Tier\": \"C\", \"Score\": 39.84, \"Trend\": -0.65, \"Win %\": 50.81, \"Role %\": 48.93, \"Pick %\": 1.57, \"Ban %\": 1.53, \"KDA\": 1.92, \"Pred\": 51.00715902676775, \"isMid\": false, \"Mid Champs\": 0}, {\"Name\": \"Heimerdinger\", \"Class\": \"Mage\", \"Role\": \"TOP\", \"Tier\": \"D\", \"Score\": 33.45, \"Trend\": -0.59, \"Win %\": 50.64, \"Role %\": 19.31, \"Pick %\": 0.66, \"Ban %\": 1.53, \"KDA\": 1.73, \"Pred\": 50.67147846543152, \"isMid\": false, \"Mid Champs\": 0}, {\"Name\": \"Illaoi\", \"Class\": \"Fighter\", \"Role\": \"TOP\", \"Tier\": \"S\", \"Score\": 63.63, \"Trend\": 3.5, \"Win %\": 51.46, \"Role %\": 94.01, \"Pick %\": 4.89, \"Ban %\": 12.19, \"KDA\": 1.45, \"Pred\": 52.29064352599447, \"isMid\": false, \"Mid Champs\": 0}, {\"Name\": \"Irelia\", \"Class\": \"Fighter\", \"Role\": \"TOP\", \"Tier\": \"A\", \"Score\": 54.9, \"Trend\": 0.85, \"Win %\": 49.67, \"Role %\": 51.43, \"Pick %\": 4.14, \"Ban %\": 11.2, \"KDA\": 1.66, \"Pred\": 48.756124674277785, \"isMid\": false, \"Mid Champs\": 0}, {\"Name\": \"Irelia\", \"Class\": \"Fighter\", \"Role\": \"MID\", \"Tier\": \"A\", \"Score\": 49.15, \"Trend\": 1.54, \"Win %\": 50.01, \"Role %\": 46.91, \"Pick %\": 3.79, \"Ban %\": 11.2, \"KDA\": 1.82, \"Pred\": 49.42748579695022, \"isMid\": true, \"Mid Champs\": 1}, {\"Name\": \"Ivern\", \"Class\": \"Support\", \"Role\": \"JUNGLE\", \"Tier\": \"A\", \"Score\": 51.46, \"Trend\": -8.06, \"Win %\": 51.35, \"Role %\": 74.38, \"Pick %\": 2.99, \"Ban %\": 5.29, \"KDA\": 3.44, \"Pred\": 52.073438456894564, \"isMid\": false, \"Mid Champs\": 0}, {\"Name\": \"Ivern\", \"Class\": \"Support\", \"Role\": \"SUPPORT\", \"Tier\": \"D\", \"Score\": 33.65, \"Trend\": -4.87, \"Win %\": 48.47, \"Role %\": 11.09, \"Pick %\": 0.43, \"Ban %\": 5.29, \"KDA\": 2.5, \"Pred\": 46.38661482955152, \"isMid\": false, \"Mid Champs\": 0}, {\"Name\": \"Janna\", \"Class\": \"Support\", \"Role\": \"SUPPORT\", \"Tier\": \"S\", \"Score\": 61.02, \"Trend\": 2.58, \"Win %\": 52.4, \"Role %\": 98.81, \"Pick %\": 4.92, \"Ban %\": 1.69, \"KDA\": 3.2, \"Pred\": 54.146759571030046, \"isMid\": false, \"Mid Champs\": 0}, {\"Name\": \"Jarvan IV\", \"Class\": \"Tank\", \"Role\": \"JUNGLE\", \"Tier\": \"S\", \"Score\": 64.68, \"Trend\": 1.7, \"Win %\": 51.45, \"Role %\": 92.12, \"Pick %\": 6.06, \"Ban %\": 2.47, \"KDA\": 3.27, \"Pred\": 52.27089761062176, \"isMid\": false, \"Mid Champs\": 0}, {\"Name\": \"Jax\", \"Class\": \"Fighter\", \"Role\": \"TOP\", \"Tier\": \"God\", \"Score\": 92.58, \"Trend\": -0.44, \"Win %\": 50.78, \"Role %\": 85.77, \"Pick %\": 8.51, \"Ban %\": 17.43, \"KDA\": 1.71, \"Pred\": 50.94792128064958, \"isMid\": false, \"Mid Champs\": 0}, {\"Name\": \"Jax\", \"Class\": \"Fighter\", \"Role\": \"JUNGLE\", \"Tier\": \"D\", \"Score\": 32.93, \"Trend\": 4.29, \"Win %\": 50.57, \"Role %\": 11.25, \"Pick %\": 1.1, \"Ban %\": 17.43, \"KDA\": 2.14, \"Pred\": 50.53325705782248, \"isMid\": false, \"Mid Champs\": 0}, {\"Name\": \"Jayce\", \"Class\": \"Fighter\", \"Role\": \"TOP\", \"Tier\": \"A\", \"Score\": 54.24, \"Trend\": -1.01, \"Win %\": 49.48, \"Role %\": 66.06, \"Pick %\": 4.29, \"Ban %\": 2.77, \"KDA\": 1.82, \"Pred\": 48.38095228219612, \"isMid\": false, \"Mid Champs\": 0}, {\"Name\": \"Jayce\", \"Class\": \"Fighter\", \"Role\": \"MID\", \"Tier\": \"B\", \"Score\": 45.75, \"Trend\": 0.7, \"Win %\": 50.87, \"Role %\": 31.85, \"Pick %\": 2.1, \"Ban %\": 2.77, \"KDA\": 2.16, \"Pred\": 51.12563451900405, \"isMid\": true, \"Mid Champs\": 1}, {\"Name\": \"Jhin\", \"Class\": \"Marksman\", \"Role\": \"ADC\", \"Tier\": \"S\", \"Score\": 59.38, \"Trend\": -16.54, \"Win %\": 50.41, \"Role %\": 95.81, \"Pick %\": 11.46, \"Ban %\": 4.05, \"KDA\": 2.82, \"Pred\": 50.21732241185897, \"isMid\": false, \"Mid Champs\": 0}, {\"Name\": \"Jinx\", \"Class\": \"Marksman\", \"Role\": \"ADC\", \"Tier\": \"A\", \"Score\": 48.29, \"Trend\": -4.48, \"Win %\": 49.15, \"Role %\": 98.11, \"Pick %\": 8.47, \"Ban %\": 1.44, \"KDA\": 2.24, \"Pred\": 47.72933707489639, \"isMid\": false, \"Mid Champs\": 0}, {\"Name\": \"K'Sante\", \"Class\": \"Fighter\", \"Role\": \"TOP\", \"Tier\": \"S\", \"Score\": 59.69, \"Trend\": -2.15, \"Win %\": 45.25, \"Role %\": 87.99, \"Pick %\": 6.48, \"Ban %\": 5.83, \"KDA\": 1.82, \"Pred\": 40.02843007953602, \"isMid\": false, \"Mid Champs\": 0}, {\"Name\": \"Kai'Sa\", \"Class\": \"Marksman\", \"Role\": \"ADC\", \"Tier\": \"God\", \"Score\": 92.98, \"Trend\": 3.24, \"Win %\": 51.4, \"Role %\": 91.68, \"Pick %\": 28.67, \"Ban %\": 11.96, \"KDA\": 2.48, \"Pred\": 52.172168033758155, \"isMid\": false, \"Mid Champs\": 0}, {\"Name\": \"Kalista\", \"Class\": \"Marksman\", \"Role\": \"ADC\", \"Tier\": \"C\", \"Score\": 34.73, \"Trend\": 6.99, \"Win %\": 47.64, \"Role %\": 88.59, \"Pick %\": 2.28, \"Ban %\": 0.68, \"KDA\": 2.12, \"Pred\": 44.747703853615846, \"isMid\": false, \"Mid Champs\": 0}, {\"Name\": \"Karma\", \"Class\": \"Mage\", \"Role\": \"SUPPORT\", \"Tier\": \"A\", \"Score\": 50.43, \"Trend\": -0.38, \"Win %\": 48.0, \"Role %\": 89.34, \"Pick %\": 5.1, \"Ban %\": 0.93, \"KDA\": 2.55, \"Pred\": 45.45855680703373, \"isMid\": false, \"Mid Champs\": 0}, {\"Name\": \"Karthus\", \"Class\": \"Mage\", \"Role\": \"ADC\", \"Tier\": \"B\", \"Score\": 46.76, \"Trend\": 6.48, \"Win %\": 54.12, \"Role %\": 34.38, \"Pick %\": 1.84, \"Ban %\": 5.94, \"KDA\": 2.27, \"Pred\": 57.54305701513769, \"isMid\": false, \"Mid Champs\": 0}, {\"Name\": \"Karthus\", \"Class\": \"Mage\", \"Role\": \"MID\", \"Tier\": \"B\", \"Score\": 42.52, \"Trend\": 3.23, \"Win %\": 51.76, \"Role %\": 10.07, \"Pick %\": 0.47, \"Ban %\": 5.94, \"KDA\": 2.25, \"Pred\": 52.88302098717604, \"isMid\": true, \"Mid Champs\": 1}, {\"Name\": \"Karthus\", \"Class\": \"Mage\", \"Role\": \"JUNGLE\", \"Tier\": \"C\", \"Score\": 38.01, \"Trend\": -1.81, \"Win %\": 49.56, \"Role %\": 48.67, \"Pick %\": 2.31, \"Ban %\": 5.94, \"KDA\": 2.46, \"Pred\": 48.53891960517788, \"isMid\": false, \"Mid Champs\": 0}, {\"Name\": \"Kassadin\", \"Class\": \"Assassin\", \"Role\": \"MID\", \"Tier\": \"B\", \"Score\": 45.87, \"Trend\": -1.12, \"Win %\": 50.38, \"Role %\": 95.52, \"Pick %\": 1.92, \"Ban %\": 3.09, \"KDA\": 2.5, \"Pred\": 50.15808466574083, \"isMid\": true, \"Mid Champs\": 1}, {\"Name\": \"Katarina\", \"Class\": \"Assassin\", \"Role\": \"MID\", \"Tier\": \"S\", \"Score\": 64.8, \"Trend\": 2.24, \"Win %\": 49.37, \"Role %\": 95.1, \"Pick %\": 7.86, \"Ban %\": 12.01, \"KDA\": 2.24, \"Pred\": 48.163747213096215, \"isMid\": true, \"Mid Champs\": 1}, {\"Name\": \"Kayle\", \"Class\": \"Fighter\", \"Role\": \"TOP\", \"Tier\": \"S\", \"Score\": 59.91, \"Trend\": -2.81, \"Win %\": 52.36, \"Role %\": 84.12, \"Pick %\": 4.17, \"Ban %\": 2.69, \"KDA\": 1.83, \"Pred\": 54.067775909539165, \"isMid\": false, \"Mid Champs\": 0}, {\"Name\": \"Kayle\", \"Class\": \"Fighter\", \"Role\": \"MID\", \"Tier\": \"B\", \"Score\": 47.19, \"Trend\": -0.96, \"Win %\": 54.21, \"Role %\": 13.41, \"Pick %\": 0.6, \"Ban %\": 2.69, \"KDA\": 2.22, \"Pred\": 57.72077025349218, \"isMid\": true, \"Mid Champs\": 1}, {\"Name\": \"Kayn\", \"Class\": \"Fighter\", \"Role\": \"JUNGLE\", \"Tier\": \"God\", \"Score\": 83.56, \"Trend\": 7.31, \"Win %\": 51.06, \"Role %\": 93.96, \"Pick %\": 10.28, \"Ban %\": 10.65, \"KDA\": 2.45, \"Pred\": 51.50080691108572, \"isMid\": false, \"Mid Champs\": 0}, {\"Name\": \"Kennen\", \"Class\": \"Mage\", \"Role\": \"TOP\", \"Tier\": \"C\", \"Score\": 38.75, \"Trend\": -6.52, \"Win %\": 48.76, \"Role %\": 80.59, \"Pick %\": 2.03, \"Ban %\": 1.97, \"KDA\": 1.88, \"Pred\": 46.959246375360365, \"isMid\": false, \"Mid Champs\": 0}, {\"Name\": \"Kennen\", \"Class\": \"Mage\", \"Role\": \"MID\", \"Tier\": \"C\", \"Score\": 37.55, \"Trend\": -3.41, \"Win %\": 49.12, \"Role %\": 14.67, \"Pick %\": 0.39, \"Ban %\": 1.97, \"KDA\": 2.29, \"Pred\": 47.670099328778235, \"isMid\": true, \"Mid Champs\": 1}, {\"Name\": \"Kha'Zix\", \"Class\": \"Assassin\", \"Role\": \"JUNGLE\", \"Tier\": \"God\", \"Score\": 89.93, \"Trend\": -3.1, \"Win %\": 51.13, \"Role %\": 99.12, \"Pick %\": 10.1, \"Ban %\": 19.44, \"KDA\": 2.64, \"Pred\": 51.639028318694756, \"isMid\": false, \"Mid Champs\": 0}, {\"Name\": \"Kindred\", \"Class\": \"Marksman\", \"Role\": \"JUNGLE\", \"Tier\": \"God\", \"Score\": 73.66, \"Trend\": -12.38, \"Win %\": 51.32, \"Role %\": 96.38, \"Pick %\": 7.2, \"Ban %\": 19.82, \"KDA\": 2.31, \"Pred\": 52.01420071077641, \"isMid\": false, \"Mid Champs\": 0}, {\"Name\": \"Kled\", \"Class\": \"Fighter\", \"Role\": \"TOP\", \"Tier\": \"A\", \"Score\": 48.26, \"Trend\": -0.11, \"Win %\": 52.16, \"Role %\": 88.41, \"Pick %\": 1.98, \"Ban %\": 1.33, \"KDA\": 2.21, \"Pred\": 53.67285760208479, \"isMid\": false, \"Mid Champs\": 0}, {\"Name\": \"Kog'Maw\", \"Class\": \"Marksman\", \"Role\": \"ADC\", \"Tier\": \"B\", \"Score\": 42.51, \"Trend\": 8.28, \"Win %\": 51.88, \"Role %\": 89.95, \"Pick %\": 2.34, \"Ban %\": 2.26, \"KDA\": 2.13, \"Pred\": 53.11997197164867, \"isMid\": false, \"Mid Champs\": 0}, {\"Name\": \"LeBlanc\", \"Class\": \"Assassin\", \"Role\": \"MID\", \"Tier\": \"S\", \"Score\": 66.02, \"Trend\": -21.94, \"Win %\": 49.58, \"Role %\": 90.18, \"Pick %\": 6.61, \"Ban %\": 18.83, \"KDA\": 2.74, \"Pred\": 48.578411435923314, \"isMid\": true, \"Mid Champs\": 1}, {\"Name\": \"Lee Sin\", \"Class\": \"Fighter\", \"Role\": \"JUNGLE\", \"Tier\": \"God\", \"Score\": 91.03, \"Trend\": 13.94, \"Win %\": 47.95, \"Role %\": 92.93, \"Pick %\": 13.32, \"Ban %\": 7.59, \"KDA\": 2.67, \"Pred\": 45.35982723017014, \"isMid\": false, \"Mid Champs\": 0}, {\"Name\": \"Leona\", \"Class\": \"Tank\", \"Role\": \"SUPPORT\", \"Tier\": \"S\", \"Score\": 57.54, \"Trend\": -0.02, \"Win %\": 51.01, \"Role %\": 98.61, \"Pick %\": 5.49, \"Ban %\": 3.77, \"KDA\": 2.39, \"Pred\": 51.40207733422211, \"isMid\": false, \"Mid Champs\": 0}, {\"Name\": \"Lillia\", \"Class\": \"Fighter\", \"Role\": \"JUNGLE\", \"Tier\": \"A\", \"Score\": 51.06, \"Trend\": 0.54, \"Win %\": 51.41, \"Role %\": 87.66, \"Pick %\": 3.89, \"Ban %\": 2.04, \"KDA\": 2.75, \"Pred\": 52.191913949130864, \"isMid\": false, \"Mid Champs\": 0}, {\"Name\": \"Lissandra\", \"Class\": \"Mage\", \"Role\": \"MID\", \"Tier\": \"A\", \"Score\": 47.5, \"Trend\": -3.35, \"Win %\": 49.79, \"Role %\": 92.35, \"Pick %\": 2.95, \"Ban %\": 1.4, \"KDA\": 2.4, \"Pred\": 48.99307565875041, \"isMid\": true, \"Mid Champs\": 1}, {\"Name\": \"Lucian\", \"Class\": \"Marksman\", \"Role\": \"ADC\", \"Tier\": \"B\", \"Score\": 45.63, \"Trend\": -7.42, \"Win %\": 48.67, \"Role %\": 92.8, \"Pick %\": 7.36, \"Ban %\": 2.3, \"KDA\": 2.22, \"Pred\": 46.781533137005894, \"isMid\": false, \"Mid Champs\": 0}, {\"Name\": \"Lulu\", \"Class\": \"Support\", \"Role\": \"SUPPORT\", \"Tier\": \"S\", \"Score\": 59.04, \"Trend\": -0.46, \"Win %\": 47.93, \"Role %\": 97.34, \"Pick %\": 6.64, \"Ban %\": 6.75, \"KDA\": 2.85, \"Pred\": 45.32033539942469, \"isMid\": false, \"Mid Champs\": 0}, {\"Name\": \"Lux\", \"Class\": \"Mage\", \"Role\": \"SUPPORT\", \"Tier\": \"God\", \"Score\": 84.82, \"Trend\": 7.57, \"Win %\": 50.0, \"Role %\": 64.68, \"Pick %\": 11.55, \"Ban %\": 11.12, \"KDA\": 2.36, \"Pred\": 49.40773988157751, \"isMid\": false, \"Mid Champs\": 0}, {\"Name\": \"Lux\", \"Class\": \"Mage\", \"Role\": \"MID\", \"Tier\": \"S\", \"Score\": 60.79, \"Trend\": -0.11, \"Win %\": 51.03, \"Role %\": 31.83, \"Pick %\": 5.03, \"Ban %\": 11.12, \"KDA\": 2.87, \"Pred\": 51.44156916496756, \"isMid\": true, \"Mid Champs\": 1}, {\"Name\": \"Malphite\", \"Class\": \"Tank\", \"Role\": \"TOP\", \"Tier\": \"God\", \"Score\": 83.04, \"Trend\": -1.26, \"Win %\": 51.43, \"Role %\": 72.61, \"Pick %\": 6.62, \"Ban %\": 13.84, \"KDA\": 2.48, \"Pred\": 52.23140577987631, \"isMid\": false, \"Mid Champs\": 0}, {\"Name\": \"Malphite\", \"Class\": \"Tank\", \"Role\": \"MID\", \"Tier\": \"B\", \"Score\": 46.92, \"Trend\": -1.33, \"Win %\": 52.0, \"Role %\": 12.29, \"Pick %\": 1.12, \"Ban %\": 13.84, \"KDA\": 2.55, \"Pred\": 53.356922956121295, \"isMid\": true, \"Mid Champs\": 1}, {\"Name\": \"Malphite\", \"Class\": \"Tank\", \"Role\": \"SUPPORT\", \"Tier\": \"D\", \"Score\": 30.04, \"Trend\": -4.96, \"Win %\": 46.11, \"Role %\": 11.74, \"Pick %\": 1.09, \"Ban %\": 13.79, \"KDA\": 1.99, \"Pred\": 41.72657880158985, \"isMid\": false, \"Mid Champs\": 0}, {\"Name\": \"Malzahar\", \"Class\": \"Mage\", \"Role\": \"MID\", \"Tier\": \"A\", \"Score\": 51.78, \"Trend\": -1.03, \"Win %\": 50.78, \"Role %\": 89.78, \"Pick %\": 3.73, \"Ban %\": 5.55, \"KDA\": 2.27, \"Pred\": 50.94792128064958, \"isMid\": true, \"Mid Champs\": 1}, {\"Name\": \"Maokai\", \"Class\": \"Tank\", \"Role\": \"JUNGLE\", \"Tier\": \"A\", \"Score\": 52.39, \"Trend\": 1.0, \"Win %\": 51.84, \"Role %\": 64.48, \"Pick %\": 3.61, \"Ban %\": 1.08, \"KDA\": 3.05, \"Pred\": 53.0409883101578, \"isMid\": false, \"Mid Champs\": 0}, {\"Name\": \"Maokai\", \"Class\": \"Tank\", \"Role\": \"SUPPORT\", \"Tier\": \"B\", \"Score\": 46.53, \"Trend\": 5.55, \"Win %\": 54.49, \"Role %\": 18.87, \"Pick %\": 1.01, \"Ban %\": 1.08, \"KDA\": 2.37, \"Pred\": 58.2736558839283, \"isMid\": false, \"Mid Champs\": 0}, {\"Name\": \"Maokai\", \"Class\": \"Tank\", \"Role\": \"TOP\", \"Tier\": \"B\", \"Score\": 43.6, \"Trend\": 2.19, \"Win %\": 52.33, \"Role %\": 15.61, \"Pick %\": 0.89, \"Ban %\": 1.08, \"KDA\": 2.44, \"Pred\": 54.00853816342101, \"isMid\": false, \"Mid Champs\": 0}, {\"Name\": \"Master Yi\", \"Class\": \"Assassin\", \"Role\": \"JUNGLE\", \"Tier\": \"God\", \"Score\": 71.87, \"Trend\": -1.37, \"Win %\": 49.7, \"Role %\": 91.72, \"Pick %\": 7.9, \"Ban %\": 19.09, \"KDA\": 2.06, \"Pred\": 48.81536242039594, \"isMid\": false, \"Mid Champs\": 0}, {\"Name\": \"Milio\", \"Class\": \"Support\", \"Role\": \"SUPPORT\", \"Tier\": \"God\", \"Score\": 81.15, \"Trend\": -11.18, \"Win %\": 50.52, \"Role %\": 99.51, \"Pick %\": 8.81, \"Ban %\": 18.76, \"KDA\": 3.39, \"Pred\": 50.434527480958906, \"isMid\": false, \"Mid Champs\": 0}, {\"Name\": \"Miss Fortune\", \"Class\": \"Marksman\", \"Role\": \"ADC\", \"Tier\": \"S\", \"Score\": 60.44, \"Trend\": -4.87, \"Win %\": 51.75, \"Role %\": 91.94, \"Pick %\": 12.21, \"Ban %\": 4.64, \"KDA\": 2.31, \"Pred\": 52.863275071803315, \"isMid\": false, \"Mid Champs\": 0}, {\"Name\": \"Mordekaiser\", \"Class\": \"Fighter\", \"Role\": \"TOP\", \"Tier\": \"God\", \"Score\": 72.79, \"Trend\": -1.18, \"Win %\": 49.87, \"Role %\": 85.39, \"Pick %\": 6.38, \"Ban %\": 11.25, \"KDA\": 1.83, \"Pred\": 49.15104298173216, \"isMid\": false, \"Mid Champs\": 0}, {\"Name\": \"Morgana\", \"Class\": \"Mage\", \"Role\": \"SUPPORT\", \"Tier\": \"S\", \"Score\": 64.13, \"Trend\": 5.31, \"Win %\": 49.29, \"Role %\": 89.62, \"Pick %\": 5.96, \"Ban %\": 24.57, \"KDA\": 2.36, \"Pred\": 48.00577989011447, \"isMid\": false, \"Mid Champs\": 0}, {\"Name\": \"Nami\", \"Class\": \"Support\", \"Role\": \"SUPPORT\", \"Tier\": \"A\", \"Score\": 52.82, \"Trend\": -2.31, \"Win %\": 49.25, \"Role %\": 99.39, \"Pick %\": 4.7, \"Ban %\": 0.46, \"KDA\": 2.93, \"Pred\": 47.92679622862359, \"isMid\": false, \"Mid Champs\": 0}, {\"Name\": \"Nasus\", \"Class\": \"Fighter\", \"Role\": \"TOP\", \"Tier\": \"S\", \"Score\": 66.24, \"Trend\": -5.88, \"Win %\": 51.4, \"Role %\": 81.24, \"Pick %\": 5.26, \"Ban %\": 5.33, \"KDA\": 1.92, \"Pred\": 52.172168033758155, \"isMid\": false, \"Mid Champs\": 0}, {\"Name\": \"Nasus\", \"Class\": \"Fighter\", \"Role\": \"MID\", \"Tier\": \"B\", \"Score\": 42.5, \"Trend\": 1.0, \"Win %\": 51.71, \"Role %\": 11.6, \"Pick %\": 0.58, \"Ban %\": 5.33, \"KDA\": 2.2, \"Pred\": 52.78429141031245, \"isMid\": true, \"Mid Champs\": 1}, {\"Name\": \"Nautilus\", \"Class\": \"Tank\", \"Role\": \"SUPPORT\", \"Tier\": \"God\", \"Score\": 87.81, \"Trend\": 8.42, \"Win %\": 50.82, \"Role %\": 96.15, \"Pick %\": 11.97, \"Ban %\": 14.67, \"KDA\": 2.3, \"Pred\": 51.02690494214046, \"isMid\": false, \"Mid Champs\": 0}, {\"Name\": \"Neeko\", \"Class\": \"Mage\", \"Role\": \"MID\", \"Tier\": \"A\", \"Score\": 54.1, \"Trend\": -11.96, \"Win %\": 51.61, \"Role %\": 47.72, \"Pick %\": 3.25, \"Ban %\": 15.44, \"KDA\": 2.51, \"Pred\": 52.586832256585254, \"isMid\": true, \"Mid Champs\": 1}, {\"Name\": \"Neeko\", \"Class\": \"Mage\", \"Role\": \"SUPPORT\", \"Tier\": \"B\", \"Score\": 44.74, \"Trend\": -2.19, \"Win %\": 49.94, \"Role %\": 37.24, \"Pick %\": 2.75, \"Ban %\": 15.44, \"KDA\": 2.02, \"Pred\": 49.2892643893412, \"isMid\": false, \"Mid Champs\": 0}, {\"Name\": \"Nidalee\", \"Class\": \"Assassin\", \"Role\": \"JUNGLE\", \"Tier\": \"A\", \"Score\": 54.05, \"Trend\": 6.14, \"Win %\": 48.74, \"Role %\": 90.77, \"Pick %\": 5.29, \"Ban %\": 5.7, \"KDA\": 2.92, \"Pred\": 46.91975454461493, \"isMid\": false, \"Mid Champs\": 0}, {\"Name\": \"Nilah\", \"Class\": \"Marksman\", \"Role\": \"ADC\", \"Tier\": \"B\", \"Score\": 45.72, \"Trend\": 5.1, \"Win %\": 52.55, \"Role %\": 97.23, \"Pick %\": 3.03, \"Ban %\": 5.33, \"KDA\": 2.25, \"Pred\": 54.44294830162083, \"isMid\": false, \"Mid Champs\": 0}, {\"Name\": \"Nocturne\", \"Class\": \"Assassin\", \"Role\": \"JUNGLE\", \"Tier\": \"A\", \"Score\": 56.43, \"Trend\": 3.43, \"Win %\": 51.84, \"Role %\": 94.08, \"Pick %\": 4.79, \"Ban %\": 4.66, \"KDA\": 2.65, \"Pred\": 53.0409883101578, \"isMid\": false, \"Mid Champs\": 0}, {\"Name\": \"Nunu\", \"Class\": \"Tank\", \"Role\": \"JUNGLE\", \"Tier\": \"B\", \"Score\": 42.05, \"Trend\": -2.96, \"Win %\": 48.11, \"Role %\": 90.95, \"Pick %\": 3.81, \"Ban %\": 0.92, \"KDA\": 2.66, \"Pred\": 45.675761876133635, \"isMid\": false, \"Mid Champs\": 0}, {\"Name\": \"Olaf\", \"Class\": \"Fighter\", \"Role\": \"TOP\", \"Tier\": \"A\", \"Score\": 48.79, \"Trend\": 0.53, \"Win %\": 51.34, \"Role %\": 86.29, \"Pick %\": 2.82, \"Ban %\": 3.77, \"KDA\": 1.74, \"Pred\": 52.053692541521855, \"isMid\": false, \"Mid Champs\": 0}, {\"Name\": \"Olaf\", \"Class\": \"Fighter\", \"Role\": \"JUNGLE\", \"Tier\": \"D\", \"Score\": 22.96, \"Trend\": -3.37, \"Win %\": 48.21, \"Role %\": 10.8, \"Pick %\": 0.31, \"Ban %\": 3.77, \"KDA\": 2.17, \"Pred\": 45.87322102986083, \"isMid\": false, \"Mid Champs\": 0}, {\"Name\": \"Orianna\", \"Class\": \"Mage\", \"Role\": \"MID\", \"Tier\": \"A\", \"Score\": 50.56, \"Trend\": -0.15, \"Win %\": 50.69, \"Role %\": 89.37, \"Pick %\": 2.87, \"Ban %\": 0.27, \"KDA\": 2.76, \"Pred\": 50.77020804229511, \"isMid\": true, \"Mid Champs\": 1}, {\"Name\": \"Ornn\", \"Class\": \"Tank\", \"Role\": \"TOP\", \"Tier\": \"S\", \"Score\": 60.18, \"Trend\": -1.99, \"Win %\": 50.28, \"Role %\": 93.53, \"Pick %\": 4.4, \"Ban %\": 1.16, \"KDA\": 2.4, \"Pred\": 49.960625512013635, \"isMid\": false, \"Mid Champs\": 0}, {\"Name\": \"Pantheon\", \"Class\": \"Fighter\", \"Role\": \"MID\", \"Tier\": \"A\", \"Score\": 49.94, \"Trend\": -2.96, \"Win %\": 51.3, \"Role %\": 32.08, \"Pick %\": 2.89, \"Ban %\": 5.56, \"KDA\": 2.29, \"Pred\": 51.97470888003096, \"isMid\": true, \"Mid Champs\": 1}, {\"Name\": \"Pantheon\", \"Class\": \"Fighter\", \"Role\": \"TOP\", \"Tier\": \"A\", \"Score\": 49.25, \"Trend\": 3.86, \"Win %\": 50.86, \"Role %\": 32.83, \"Pick %\": 2.7, \"Ban %\": 5.56, \"KDA\": 2.03, \"Pred\": 51.10588860363133, \"isMid\": false, \"Mid Champs\": 0}, {\"Name\": \"Pantheon\", \"Class\": \"Fighter\", \"Role\": \"SUPPORT\", \"Tier\": \"C\", \"Score\": 36.47, \"Trend\": 1.46, \"Win %\": 47.4, \"Role %\": 25.58, \"Pick %\": 2.33, \"Ban %\": 5.56, \"KDA\": 1.85, \"Pred\": 44.27380188467059, \"isMid\": false, \"Mid Champs\": 0}, {\"Name\": \"Poppy\", \"Class\": \"Tank\", \"Role\": \"TOP\", \"Tier\": \"A\", \"Score\": 49.74, \"Trend\": 0.42, \"Win %\": 51.66, \"Role %\": 42.02, \"Pick %\": 2.35, \"Ban %\": 2.98, \"KDA\": 2.21, \"Pred\": 52.685561833448844, \"isMid\": false, \"Mid Champs\": 0}, {\"Name\": \"Poppy\", \"Class\": \"Tank\", \"Role\": \"JUNGLE\", \"Tier\": \"B\", \"Score\": 44.39, \"Trend\": 0.46, \"Win %\": 50.7, \"Role %\": 49.46, \"Pick %\": 2.64, \"Ban %\": 2.98, \"KDA\": 2.89, \"Pred\": 50.789953957667834, \"isMid\": false, \"Mid Champs\": 0}, {\"Name\": \"Pyke\", \"Class\": \"Support\", \"Role\": \"SUPPORT\", \"Tier\": \"S\", \"Score\": 67.1, \"Trend\": 4.07, \"Win %\": 49.12, \"Role %\": 95.33, \"Pick %\": 8.26, \"Ban %\": 12.75, \"KDA\": 2.16, \"Pred\": 47.670099328778235, \"isMid\": false, \"Mid Champs\": 0}, {\"Name\": \"Qiyana\", \"Class\": \"Assassin\", \"Role\": \"MID\", \"Tier\": \"A\", \"Score\": 47.41, \"Trend\": 5.15, \"Win %\": 50.02, \"Role %\": 82.89, \"Pick %\": 3.1, \"Ban %\": 1.14, \"KDA\": 2.2, \"Pred\": 49.44723171232296, \"isMid\": true, \"Mid Champs\": 1}, {\"Name\": \"Qiyana\", \"Class\": \"Assassin\", \"Role\": \"JUNGLE\", \"Tier\": \"D\", \"Score\": 20.78, \"Trend\": -2.99, \"Win %\": 46.71, \"Role %\": 11.0, \"Pick %\": 0.39, \"Ban %\": 1.14, \"KDA\": 2.34, \"Pred\": 42.91133372395299, \"isMid\": false, \"Mid Champs\": 0}, {\"Name\": \"Quinn\", \"Class\": \"Marksman\", \"Role\": \"TOP\", \"Tier\": \"A\", \"Score\": 49.07, \"Trend\": 5.45, \"Win %\": 52.52, \"Role %\": 80.07, \"Pick %\": 2.25, \"Ban %\": 1.36, \"KDA\": 1.97, \"Pred\": 54.38371055550269, \"isMid\": false, \"Mid Champs\": 0}, {\"Name\": \"Quinn\", \"Class\": \"Marksman\", \"Role\": \"MID\", \"Tier\": \"B\", \"Score\": 44.2, \"Trend\": -2.63, \"Win %\": 52.97, \"Role %\": 11.23, \"Pick %\": 0.29, \"Ban %\": 1.36, \"KDA\": 2.28, \"Pred\": 55.27227674727503, \"isMid\": true, \"Mid Champs\": 1}, {\"Name\": \"Rakan\", \"Class\": \"Support\", \"Role\": \"SUPPORT\", \"Tier\": \"God\", \"Score\": 70.91, \"Trend\": 3.7, \"Win %\": 51.57, \"Role %\": 98.95, \"Pick %\": 8.24, \"Ban %\": 1.93, \"KDA\": 2.9, \"Pred\": 52.50784859509437, \"isMid\": false, \"Mid Champs\": 0}, {\"Name\": \"Rammus\", \"Class\": \"Tank\", \"Role\": \"JUNGLE\", \"Tier\": \"A\", \"Score\": 49.63, \"Trend\": -1.58, \"Win %\": 51.87, \"Role %\": 80.9, \"Pick %\": 2.69, \"Ban %\": 8.45, \"KDA\": 3.11, \"Pred\": 53.10022605627594, \"isMid\": false, \"Mid Champs\": 0}, {\"Name\": \"Rammus\", \"Class\": \"Tank\", \"Role\": \"TOP\", \"Tier\": \"D\", \"Score\": 30.44, \"Trend\": -3.91, \"Win %\": 50.24, \"Role %\": 15.06, \"Pick %\": 0.43, \"Ban %\": 8.45, \"KDA\": 1.61, \"Pred\": 49.88164185052277, \"isMid\": false, \"Mid Champs\": 0}, {\"Name\": \"Rek'Sai\", \"Class\": \"Fighter\", \"Role\": \"JUNGLE\", \"Tier\": \"S\", \"Score\": 69.23, \"Trend\": -9.71, \"Win %\": 52.87, \"Role %\": 91.38, \"Pick %\": 5.5, \"Ban %\": 18.74, \"KDA\": 2.79, \"Pred\": 55.074817593547834, \"isMid\": false, \"Mid Champs\": 0}, {\"Name\": \"Rell\", \"Class\": \"Tank\", \"Role\": \"SUPPORT\", \"Tier\": \"God\", \"Score\": 80.81, \"Trend\": 11.71, \"Win %\": 54.34, \"Role %\": 85.97, \"Pick %\": 7.93, \"Ban %\": 13.06, \"KDA\": 2.95, \"Pred\": 57.97746715333753, \"isMid\": false, \"Mid Champs\": 0}, {\"Name\": \"Rell\", \"Class\": \"Tank\", \"Role\": \"JUNGLE\", \"Tier\": \"B\", \"Score\": 46.63, \"Trend\": 0.0, \"Win %\": 52.51, \"Role %\": 13.0, \"Pick %\": 1.15, \"Ban %\": 13.06, \"KDA\": 3.58, \"Pred\": 54.36396464012995, \"isMid\": false, \"Mid Champs\": 0}, {\"Name\": \"Renata Glasc\", \"Class\": \"Support\", \"Role\": \"SUPPORT\", \"Tier\": \"B\", \"Score\": 44.57, \"Trend\": -0.25, \"Win %\": 51.03, \"Role %\": 98.68, \"Pick %\": 1.93, \"Ban %\": 0.5, \"KDA\": 2.64, \"Pred\": 51.44156916496756, \"isMid\": false, \"Mid Champs\": 0}, {\"Name\": \"Renekton\", \"Class\": \"Fighter\", \"Role\": \"TOP\", \"Tier\": \"God\", \"Score\": 77.61, \"Trend\": 12.07, \"Win %\": 50.03, \"Role %\": 91.06, \"Pick %\": 7.64, \"Ban %\": 3.83, \"KDA\": 1.9, \"Pred\": 49.46697762769567, \"isMid\": false, \"Mid Champs\": 0}, {\"Name\": \"Rengar\", \"Class\": \"Assassin\", \"Role\": \"JUNGLE\", \"Tier\": \"S\", \"Score\": 62.69, \"Trend\": 0.83, \"Win %\": 49.97, \"Role %\": 82.23, \"Pick %\": 5.92, \"Ban %\": 21.29, \"KDA\": 2.37, \"Pred\": 49.348502135459356, \"isMid\": false, \"Mid Champs\": 0}, {\"Name\": \"Rengar\", \"Class\": \"Assassin\", \"Role\": \"TOP\", \"Tier\": \"C\", \"Score\": 39.96, \"Trend\": -1.09, \"Win %\": 50.65, \"Role %\": 14.21, \"Pick %\": 1.06, \"Ban %\": 21.29, \"KDA\": 2.02, \"Pred\": 50.69122438080423, \"isMid\": false, \"Mid Champs\": 0}, {\"Name\": \"Riven\", \"Class\": \"Fighter\", \"Role\": \"TOP\", \"Tier\": \"A\", \"Score\": 55.5, \"Trend\": 0.6, \"Win %\": 50.19, \"Role %\": 89.32, \"Pick %\": 4.32, \"Ban %\": 1.51, \"KDA\": 1.81, \"Pred\": 49.782912273659164, \"isMid\": false, \"Mid Champs\": 0}, {\"Name\": \"Rumble\", \"Class\": \"Fighter\", \"Role\": \"MID\", \"Tier\": \"B\", \"Score\": 47.23, \"Trend\": 6.27, \"Win %\": 53.2, \"Role %\": 18.85, \"Pick %\": 0.65, \"Ban %\": 1.37, \"KDA\": 2.58, \"Pred\": 55.72643280084756, \"isMid\": true, \"Mid Champs\": 1}, {\"Name\": \"Rumble\", \"Class\": \"Fighter\", \"Role\": \"TOP\", \"Tier\": \"B\", \"Score\": 45.51, \"Trend\": 3.43, \"Win %\": 50.28, \"Role %\": 65.29, \"Pick %\": 2.31, \"Ban %\": 1.37, \"KDA\": 2.12, \"Pred\": 49.960625512013635, \"isMid\": false, \"Mid Champs\": 0}, {\"Name\": \"Rumble\", \"Class\": \"Fighter\", \"Role\": \"JUNGLE\", \"Tier\": \"D\", \"Score\": 31.2, \"Trend\": 2.43, \"Win %\": 49.62, \"Role %\": 13.22, \"Pick %\": 0.47, \"Ban %\": 1.37, \"KDA\": 2.86, \"Pred\": 48.65739509741418, \"isMid\": false, \"Mid Champs\": 0}, {\"Name\": \"Ryze\", \"Class\": \"Mage\", \"Role\": \"MID\", \"Tier\": \"B\", \"Score\": 45.59, \"Trend\": -0.42, \"Win %\": 50.26, \"Role %\": 82.64, \"Pick %\": 2.18, \"Ban %\": 0.23, \"KDA\": 2.35, \"Pred\": 49.9211336812682, \"isMid\": true, \"Mid Champs\": 1}, {\"Name\": \"Ryze\", \"Class\": \"Mage\", \"Role\": \"TOP\", \"Tier\": \"C\", \"Score\": 35.71, \"Trend\": -1.31, \"Win %\": 51.59, \"Role %\": 14.87, \"Pick %\": 0.41, \"Ban %\": 0.23, \"KDA\": 1.98, \"Pred\": 52.54734042583982, \"isMid\": false, \"Mid Champs\": 0}, {\"Name\": \"Samira\", \"Class\": \"Marksman\", \"Role\": \"ADC\", \"Tier\": \"S\", \"Score\": 57.04, \"Trend\": -4.91, \"Win %\": 49.47, \"Role %\": 97.6, \"Pick %\": 10.77, \"Ban %\": 21.63, \"KDA\": 2.19, \"Pred\": 48.36120636682341, \"isMid\": false, \"Mid Champs\": 0}, {\"Name\": \"Sejuani\", \"Class\": \"Tank\", \"Role\": \"JUNGLE\", \"Tier\": \"A\", \"Score\": 49.91, \"Trend\": 3.2, \"Win %\": 50.44, \"Role %\": 85.88, \"Pick %\": 3.52, \"Ban %\": 0.72, \"KDA\": 3.27, \"Pred\": 50.276560157977144, \"isMid\": false, \"Mid Champs\": 0}, {\"Name\": \"Senna\", \"Class\": \"Marksman\", \"Role\": \"SUPPORT\", \"Tier\": \"S\", \"Score\": 62.66, \"Trend\": 1.54, \"Win %\": 50.84, \"Role %\": 91.84, \"Pick %\": 6.86, \"Ban %\": 2.56, \"KDA\": 2.51, \"Pred\": 51.06639677288591, \"isMid\": false, \"Mid Champs\": 0}, {\"Name\": \"Seraphine\", \"Class\": \"Mage\", \"Role\": \"SUPPORT\", \"Tier\": \"A\", \"Score\": 52.34, \"Trend\": 0.66, \"Win %\": 49.76, \"Role %\": 66.64, \"Pick %\": 4.81, \"Ban %\": 1.33, \"KDA\": 2.45, \"Pred\": 48.93383791263226, \"isMid\": false, \"Mid Champs\": 0}, {\"Name\": \"Seraphine\", \"Class\": \"Mage\", \"Role\": \"ADC\", \"Tier\": \"A\", \"Score\": 49.21, \"Trend\": 9.81, \"Win %\": 53.81, \"Role %\": 22.28, \"Pick %\": 1.28, \"Ban %\": 1.33, \"KDA\": 3.0, \"Pred\": 56.930933638583426, \"isMid\": false, \"Mid Champs\": 0}, {\"Name\": \"Seraphine\", \"Class\": \"Mage\", \"Role\": \"MID\", \"Tier\": \"B\", \"Score\": 46.72, \"Trend\": 1.94, \"Win %\": 51.81, \"Role %\": 10.71, \"Pick %\": 0.75, \"Ban %\": 1.33, \"KDA\": 2.93, \"Pred\": 52.98175056403964, \"isMid\": true, \"Mid Champs\": 1}, {\"Name\": \"Sett\", \"Class\": \"Fighter\", \"Role\": \"TOP\", \"Tier\": \"S\", \"Score\": 65.36, \"Trend\": 0.03, \"Win %\": 49.81, \"Role %\": 82.55, \"Pick %\": 6.05, \"Ban %\": 3.17, \"KDA\": 1.69, \"Pred\": 49.03256748949586, \"isMid\": false, \"Mid Champs\": 0}, {\"Name\": \"Shaco\", \"Class\": \"Assassin\", \"Role\": \"JUNGLE\", \"Tier\": \"S\", \"Score\": 58.88, \"Trend\": -1.71, \"Win %\": 48.97, \"Role %\": 74.03, \"Pick %\": 5.6, \"Ban %\": 16.77, \"KDA\": 2.7, \"Pred\": 47.373910598187464, \"isMid\": false, \"Mid Champs\": 0}, {\"Name\": \"Shaco\", \"Class\": \"Assassin\", \"Role\": \"SUPPORT\", \"Tier\": \"C\", \"Score\": 36.03, \"Trend\": -2.37, \"Win %\": 47.6, \"Role %\": 18.41, \"Pick %\": 1.43, \"Ban %\": 16.77, \"KDA\": 2.29, \"Pred\": 44.66872019212498, \"isMid\": false, \"Mid Champs\": 0}, {\"Name\": \"Shen\", \"Class\": \"Tank\", \"Role\": \"TOP\", \"Tier\": \"S\", \"Score\": 57.59, \"Trend\": 1.12, \"Win %\": 51.53, \"Role %\": 82.25, \"Pick %\": 2.91, \"Ban %\": 0.46, \"KDA\": 2.95, \"Pred\": 52.428864933603506, \"isMid\": false, \"Mid Champs\": 0}, {\"Name\": \"Shen\", \"Class\": \"Tank\", \"Role\": \"SUPPORT\", \"Tier\": \"D\", \"Score\": 30.62, \"Trend\": -3.85, \"Win %\": 46.95, \"Role %\": 10.97, \"Pick %\": 0.38, \"Ban %\": 0.46, \"KDA\": 2.52, \"Pred\": 43.38523569289825, \"isMid\": false, \"Mid Champs\": 0}, {\"Name\": \"Shyvana\", \"Class\": \"Fighter\", \"Role\": \"JUNGLE\", \"Tier\": \"D\", \"Score\": 31.35, \"Trend\": -1.37, \"Win %\": 49.07, \"Role %\": 81.87, \"Pick %\": 1.34, \"Ban %\": 0.34, \"KDA\": 2.44, \"Pred\": 47.571369751914645, \"isMid\": false, \"Mid Champs\": 0}, {\"Name\": \"Shyvana\", \"Class\": \"Fighter\", \"Role\": \"TOP\", \"Tier\": \"D\", \"Score\": 28.01, \"Trend\": 1.2, \"Win %\": 49.04, \"Role %\": 11.87, \"Pick %\": 0.21, \"Ban %\": 0.4, \"KDA\": 1.88, \"Pred\": 47.51213200579649, \"isMid\": false, \"Mid Champs\": 0}, {\"Name\": \"Singed\", \"Class\": \"Tank\", \"Role\": \"MID\", \"Tier\": \"A\", \"Score\": 48.88, \"Trend\": 0.0, \"Win %\": 54.3, \"Role %\": 10.14, \"Pick %\": 0.22, \"Ban %\": 0.41, \"KDA\": 2.79, \"Pred\": 57.89848349184663, \"isMid\": true, \"Mid Champs\": 1}, {\"Name\": \"Singed\", \"Class\": \"Tank\", \"Role\": \"TOP\", \"Tier\": \"B\", \"Score\": 40.16, \"Trend\": 0.15, \"Win %\": 50.48, \"Role %\": 77.44, \"Pick %\": 1.56, \"Ban %\": 0.43, \"KDA\": 1.97, \"Pred\": 50.35554381946801, \"isMid\": false, \"Mid Champs\": 0}, {\"Name\": \"Sion\", \"Class\": \"Tank\", \"Role\": \"TOP\", \"Tier\": \"S\", \"Score\": 57.0, \"Trend\": -5.09, \"Win %\": 49.47, \"Role %\": 78.9, \"Pick %\": 4.99, \"Ban %\": 2.62, \"KDA\": 1.62, \"Pred\": 48.36120636682341, \"isMid\": false, \"Mid Champs\": 0}, {\"Name\": \"Sion\", \"Class\": \"Tank\", \"Role\": \"MID\", \"Tier\": \"C\", \"Score\": 35.89, \"Trend\": -2.49, \"Win %\": 50.31, \"Role %\": 10.7, \"Pick %\": 0.66, \"Ban %\": 2.62, \"KDA\": 1.32, \"Pred\": 50.01986325813181, \"isMid\": true, \"Mid Champs\": 1}, {\"Name\": \"Sivir\", \"Class\": \"Marksman\", \"Role\": \"ADC\", \"Tier\": \"B\", \"Score\": 42.9, \"Trend\": 6.74, \"Win %\": 50.57, \"Role %\": 97.18, \"Pick %\": 3.2, \"Ban %\": 0.65, \"KDA\": 2.37, \"Pred\": 50.53325705782248, \"isMid\": false, \"Mid Champs\": 0}, {\"Name\": \"Skarner\", \"Class\": \"Fighter\", \"Role\": \"JUNGLE\", \"Tier\": \"C\", \"Score\": 38.1, \"Trend\": 2.14, \"Win %\": 52.13, \"Role %\": 78.56, \"Pick %\": 0.86, \"Ban %\": 0.2, \"KDA\": 2.72, \"Pred\": 53.61361985596665, \"isMid\": false, \"Mid Champs\": 0}, {\"Name\": \"Skarner\", \"Class\": \"Fighter\", \"Role\": \"TOP\", \"Tier\": \"D\", \"Score\": 30.61, \"Trend\": 2.28, \"Win %\": 49.34, \"Role %\": 16.44, \"Pick %\": 0.14, \"Ban %\": 0.18, \"KDA\": 2.21, \"Pred\": 48.10450946697807, \"isMid\": false, \"Mid Champs\": 0}, {\"Name\": \"Sona\", \"Class\": \"Support\", \"Role\": \"SUPPORT\", \"Tier\": \"A\", \"Score\": 53.15, \"Trend\": 1.33, \"Win %\": 52.29, \"Role %\": 97.95, \"Pick %\": 3.36, \"Ban %\": 0.19, \"KDA\": 2.85, \"Pred\": 53.92955450193014, \"isMid\": false, \"Mid Champs\": 0}, {\"Name\": \"Soraka\", \"Class\": \"Support\", \"Role\": \"SUPPORT\", \"Tier\": \"S\", \"Score\": 60.35, \"Trend\": 1.97, \"Win %\": 51.66, \"Role %\": 96.76, \"Pick %\": 5.62, \"Ban %\": 1.61, \"KDA\": 2.77, \"Pred\": 52.685561833448844, \"isMid\": false, \"Mid Champs\": 0}, {\"Name\": \"Swain\", \"Class\": \"Mage\", \"Role\": \"ADC\", \"Tier\": \"A\", \"Score\": 50.89, \"Trend\": 0.0, \"Win %\": 55.5, \"Role %\": 11.54, \"Pick %\": 0.51, \"Ban %\": 2.91, \"KDA\": 2.98, \"Pred\": 60.267993336572914, \"isMid\": false, \"Mid Champs\": 0}, {\"Name\": \"Swain\", \"Class\": \"Mage\", \"Role\": \"MID\", \"Tier\": \"A\", \"Score\": 49.53, \"Trend\": 2.35, \"Win %\": 52.94, \"Role %\": 24.19, \"Pick %\": 1.29, \"Ban %\": 2.91, \"KDA\": 2.72, \"Pred\": 55.21303900115687, \"isMid\": true, \"Mid Champs\": 1}, {\"Name\": \"Swain\", \"Class\": \"Mage\", \"Role\": \"SUPPORT\", \"Tier\": \"A\", \"Score\": 49.45, \"Trend\": 2.38, \"Win %\": 50.54, \"Role %\": 57.41, \"Pick %\": 3.69, \"Ban %\": 2.91, \"KDA\": 2.34, \"Pred\": 50.474019311704325, \"isMid\": false, \"Mid Champs\": 0}, {\"Name\": \"Sylas\", \"Class\": \"Mage\", \"Role\": \"MID\", \"Tier\": \"A\", \"Score\": 55.65, \"Trend\": 0.17, \"Win %\": 49.23, \"Role %\": 57.23, \"Pick %\": 5.79, \"Ban %\": 8.24, \"KDA\": 2.13, \"Pred\": 47.887304397878154, \"isMid\": true, \"Mid Champs\": 1}, {\"Name\": \"Sylas\", \"Class\": \"Mage\", \"Role\": \"JUNGLE\", \"Tier\": \"C\", \"Score\": 39.44, \"Trend\": -0.52, \"Win %\": 48.69, \"Role %\": 30.22, \"Pick %\": 3.05, \"Ban %\": 8.24, \"KDA\": 2.4, \"Pred\": 46.82102496775133, \"isMid\": false, \"Mid Champs\": 0}, {\"Name\": \"Syndra\", \"Class\": \"Mage\", \"Role\": \"MID\", \"Tier\": \"A\", \"Score\": 56.32, \"Trend\": 2.63, \"Win %\": 50.55, \"Role %\": 92.2, \"Pick %\": 5.32, \"Ban %\": 2.87, \"KDA\": 2.29, \"Pred\": 50.49376522707705, \"isMid\": true, \"Mid Champs\": 1}, {\"Name\": \"Tahm Kench\", \"Class\": \"Support\", \"Role\": \"TOP\", \"Tier\": \"C\", \"Score\": 38.72, \"Trend\": -1.8, \"Win %\": 48.0, \"Role %\": 62.72, \"Pick %\": 1.84, \"Ban %\": 0.89, \"KDA\": 2.32, \"Pred\": 45.45855680703373, \"isMid\": false, \"Mid Champs\": 0}, {\"Name\": \"Tahm Kench\", \"Class\": \"Support\", \"Role\": \"SUPPORT\", \"Tier\": \"C\", \"Score\": 34.87, \"Trend\": -5.55, \"Win %\": 49.08, \"Role %\": 27.7, \"Pick %\": 0.74, \"Ban %\": 0.96, \"KDA\": 2.25, \"Pred\": 47.59111566728737, \"isMid\": false, \"Mid Champs\": 0}, {\"Name\": \"Taliyah\", \"Class\": \"Mage\", \"Role\": \"MID\", \"Tier\": \"B\", \"Score\": 44.88, \"Trend\": 2.15, \"Win %\": 51.6, \"Role %\": 62.89, \"Pick %\": 1.24, \"Ban %\": 0.34, \"KDA\": 2.32, \"Pred\": 52.567086341212544, \"isMid\": true, \"Mid Champs\": 1}, {\"Name\": \"Taliyah\", \"Class\": \"Mage\", \"Role\": \"JUNGLE\", \"Tier\": \"D\", \"Score\": 33.28, \"Trend\": 2.33, \"Win %\": 50.82, \"Role %\": 23.12, \"Pick %\": 0.45, \"Ban %\": 0.34, \"KDA\": 2.75, \"Pred\": 51.02690494214046, \"isMid\": false, \"Mid Champs\": 0}, {\"Name\": \"Talon\", \"Class\": \"Assassin\", \"Role\": \"MID\", \"Tier\": \"A\", \"Score\": 52.37, \"Trend\": 0.53, \"Win %\": 51.25, \"Role %\": 71.73, \"Pick %\": 3.76, \"Ban %\": 2.44, \"KDA\": 2.29, \"Pred\": 51.87597930316737, \"isMid\": true, \"Mid Champs\": 1}, {\"Name\": \"Talon\", \"Class\": \"Assassin\", \"Role\": \"JUNGLE\", \"Tier\": \"D\", \"Score\": 33.38, \"Trend\": -1.72, \"Win %\": 49.56, \"Role %\": 24.97, \"Pick %\": 1.39, \"Ban %\": 2.44, \"KDA\": 2.51, \"Pred\": 48.53891960517788, \"isMid\": false, \"Mid Champs\": 0}, {\"Name\": \"Taric\", \"Class\": \"Support\", \"Role\": \"SUPPORT\", \"Tier\": \"A\", \"Score\": 47.44, \"Trend\": -1.88, \"Win %\": 52.17, \"Role %\": 91.8, \"Pick %\": 1.96, \"Ban %\": 0.42, \"KDA\": 2.78, \"Pred\": 53.69260351745751, \"isMid\": false, \"Mid Champs\": 0}, {\"Name\": \"Teemo\", \"Class\": \"Marksman\", \"Role\": \"TOP\", \"Tier\": \"S\", \"Score\": 58.84, \"Trend\": -1.71, \"Win %\": 50.72, \"Role %\": 70.59, \"Pick %\": 4.37, \"Ban %\": 7.02, \"KDA\": 1.72, \"Pred\": 50.82944578841327, \"isMid\": false, \"Mid Champs\": 0}, {\"Name\": \"Teemo\", \"Class\": \"Marksman\", \"Role\": \"SUPPORT\", \"Tier\": \"D\", \"Score\": 30.82, \"Trend\": -4.14, \"Win %\": 47.98, \"Role %\": 10.89, \"Pick %\": 0.72, \"Ban %\": 7.69, \"KDA\": 1.73, \"Pred\": 45.41906497628828, \"isMid\": false, \"Mid Champs\": 0}, {\"Name\": \"Thresh\", \"Class\": \"Support\", \"Role\": \"SUPPORT\", \"Tier\": \"God\", \"Score\": 91.09, \"Trend\": 6.4, \"Win %\": 50.65, \"Role %\": 95.92, \"Pick %\": 13.79, \"Ban %\": 5.98, \"KDA\": 2.58, \"Pred\": 50.69122438080423, \"isMid\": false, \"Mid Champs\": 0}, {\"Name\": \"Tristana\", \"Class\": \"Marksman\", \"Role\": \"MID\", \"Tier\": \"B\", \"Score\": 47.21, \"Trend\": 4.01, \"Win %\": 50.67, \"Role %\": 31.64, \"Pick %\": 2.91, \"Ban %\": 3.62, \"KDA\": 1.99, \"Pred\": 50.73071621154968, \"isMid\": true, \"Mid Champs\": 1}, {\"Name\": \"Tristana\", \"Class\": \"Marksman\", \"Role\": \"ADC\", \"Tier\": \"B\", \"Score\": 44.29, \"Trend\": 3.9, \"Win %\": 49.03, \"Role %\": 63.87, \"Pick %\": 6.15, \"Ban %\": 3.62, \"KDA\": 2.2, \"Pred\": 47.49238609042378, \"isMid\": false, \"Mid Champs\": 0}, {\"Name\": \"Trundle\", \"Class\": \"Fighter\", \"Role\": \"JUNGLE\", \"Tier\": \"C\", \"Score\": 39.07, \"Trend\": 0.94, \"Win %\": 50.87, \"Role %\": 63.74, \"Pick %\": 1.84, \"Ban %\": 0.99, \"KDA\": 2.6, \"Pred\": 51.12563451900405, \"isMid\": false, \"Mid Champs\": 0}, {\"Name\": \"Trundle\", \"Class\": \"Fighter\", \"Role\": \"TOP\", \"Tier\": \"C\", \"Score\": 35.29, \"Trend\": -1.63, \"Win %\": 51.56, \"Role %\": 31.04, \"Pick %\": 0.8, \"Ban %\": 0.99, \"KDA\": 1.58, \"Pred\": 52.48810267972166, \"isMid\": false, \"Mid Champs\": 0}, {\"Name\": \"Tryndamere\", \"Class\": \"Fighter\", \"Role\": \"MID\", \"Tier\": \"B\", \"Score\": 41.47, \"Trend\": 1.77, \"Win %\": 51.99, \"Role %\": 11.3, \"Pick %\": 0.32, \"Ban %\": 2.05, \"KDA\": 2.07, \"Pred\": 53.33717704074857, \"isMid\": true, \"Mid Champs\": 1}, {\"Name\": \"Tryndamere\", \"Class\": \"Fighter\", \"Role\": \"TOP\", \"Tier\": \"B\", \"Score\": 40.25, \"Trend\": -0.88, \"Win %\": 49.36, \"Role %\": 79.39, \"Pick %\": 2.21, \"Ban %\": 2.05, \"KDA\": 1.75, \"Pred\": 48.14400129772349, \"isMid\": false, \"Mid Champs\": 0}, {\"Name\": \"Twisted Fate\", \"Class\": \"Mage\", \"Role\": \"MID\", \"Tier\": \"B\", \"Score\": 43.98, \"Trend\": -0.59, \"Win %\": 48.43, \"Role %\": 89.24, \"Pick %\": 3.0, \"Ban %\": 0.27, \"KDA\": 2.17, \"Pred\": 46.30763116806064, \"isMid\": true, \"Mid Champs\": 1}, {\"Name\": \"Twitch\", \"Class\": \"Marksman\", \"Role\": \"ADC\", \"Tier\": \"B\", \"Score\": 46.23, \"Trend\": 3.18, \"Win %\": 51.04, \"Role %\": 76.3, \"Pick %\": 4.53, \"Ban %\": 4.54, \"KDA\": 2.37, \"Pred\": 51.46131508034027, \"isMid\": false, \"Mid Champs\": 0}, {\"Name\": \"Twitch\", \"Class\": \"Marksman\", \"Role\": \"SUPPORT\", \"Tier\": \"D\", \"Score\": 33.25, \"Trend\": 0.76, \"Win %\": 48.49, \"Role %\": 12.59, \"Pick %\": 0.77, \"Ban %\": 4.54, \"KDA\": 2.08, \"Pred\": 46.42610666029695, \"isMid\": false, \"Mid Champs\": 0}, {\"Name\": \"Udyr\", \"Class\": \"Fighter\", \"Role\": \"JUNGLE\", \"Tier\": \"C\", \"Score\": 39.12, \"Trend\": 0.8, \"Win %\": 49.9, \"Role %\": 80.64, \"Pick %\": 2.45, \"Ban %\": 2.1, \"KDA\": 2.5, \"Pred\": 49.21028072785032, \"isMid\": false, \"Mid Champs\": 0}, {\"Name\": \"Udyr\", \"Class\": \"Fighter\", \"Role\": \"TOP\", \"Tier\": \"D\", \"Score\": 32.19, \"Trend\": 2.43, \"Win %\": 50.58, \"Role %\": 16.87, \"Pick %\": 0.52, \"Ban %\": 2.1, \"KDA\": 1.7, \"Pred\": 50.553002973195206, \"isMid\": false, \"Mid Champs\": 0}, {\"Name\": \"Urgot\", \"Class\": \"Fighter\", \"Role\": \"TOP\", \"Tier\": \"B\", \"Score\": 46.28, \"Trend\": 0.42, \"Win %\": 50.96, \"Role %\": 90.93, \"Pick %\": 2.41, \"Ban %\": 1.0, \"KDA\": 1.94, \"Pred\": 51.30334775735852, \"isMid\": false, \"Mid Champs\": 0}, {\"Name\": \"Varus\", \"Class\": \"Marksman\", \"Role\": \"ADC\", \"Tier\": \"B\", \"Score\": 45.2, \"Trend\": -1.82, \"Win %\": 49.65, \"Role %\": 76.66, \"Pick %\": 6.08, \"Ban %\": 2.39, \"KDA\": 2.21, \"Pred\": 48.71663284353234, \"isMid\": false, \"Mid Champs\": 0}, {\"Name\": \"Varus\", \"Class\": \"Marksman\", \"Role\": \"TOP\", \"Tier\": \"D\", \"Score\": 28.59, \"Trend\": -14.81, \"Win %\": 47.32, \"Role %\": 13.88, \"Pick %\": 1.11, \"Ban %\": 2.39, \"KDA\": 1.71, \"Pred\": 44.11583456168884, \"isMid\": false, \"Mid Champs\": 0}, {\"Name\": \"Vayne\", \"Class\": \"Marksman\", \"Role\": \"ADC\", \"Tier\": \"B\", \"Score\": 44.25, \"Trend\": 3.85, \"Win %\": 49.37, \"Role %\": 81.02, \"Pick %\": 6.32, \"Ban %\": 4.53, \"KDA\": 2.02, \"Pred\": 48.163747213096215, \"isMid\": false, \"Mid Champs\": 0}, {\"Name\": \"Vayne\", \"Class\": \"Marksman\", \"Role\": \"TOP\", \"Tier\": \"C\", \"Score\": 35.52, \"Trend\": 4.94, \"Win %\": 50.52, \"Role %\": 15.47, \"Pick %\": 1.21, \"Ban %\": 4.53, \"KDA\": 1.55, \"Pred\": 50.434527480958906, \"isMid\": false, \"Mid Champs\": 0}, {\"Name\": \"Veigar\", \"Class\": \"Mage\", \"Role\": \"MID\", \"Tier\": \"A\", \"Score\": 54.59, \"Trend\": -3.66, \"Win %\": 50.59, \"Role %\": 73.42, \"Pick %\": 4.86, \"Ban %\": 3.97, \"KDA\": 2.17, \"Pred\": 50.57274888856793, \"isMid\": true, \"Mid Champs\": 1}, {\"Name\": \"Veigar\", \"Class\": \"Mage\", \"Role\": \"ADC\", \"Tier\": \"C\", \"Score\": 39.26, \"Trend\": 7.06, \"Win %\": 51.16, \"Role %\": 13.32, \"Pick %\": 0.82, \"Ban %\": 3.97, \"KDA\": 2.22, \"Pred\": 51.6982660648129, \"isMid\": false, \"Mid Champs\": 0}, {\"Name\": \"Veigar\", \"Class\": \"Mage\", \"Role\": \"SUPPORT\", \"Tier\": \"D\", \"Score\": 28.09, \"Trend\": 0.0, \"Win %\": 46.5, \"Role %\": 10.67, \"Pick %\": 0.7, \"Ban %\": 4.32, \"KDA\": 1.8, \"Pred\": 42.49666950112589, \"isMid\": false, \"Mid Champs\": 0}, {\"Name\": \"Vel'Koz\", \"Class\": \"Mage\", \"Role\": \"MID\", \"Tier\": \"B\", \"Score\": 44.1, \"Trend\": 2.21, \"Win %\": 51.38, \"Role %\": 29.58, \"Pick %\": 0.7, \"Ban %\": 0.41, \"KDA\": 2.6, \"Pred\": 52.13267620301272, \"isMid\": true, \"Mid Champs\": 1}, {\"Name\": \"Vel'Koz\", \"Class\": \"Mage\", \"Role\": \"SUPPORT\", \"Tier\": \"B\", \"Score\": 41.32, \"Trend\": 1.55, \"Win %\": 50.97, \"Role %\": 65.61, \"Pick %\": 1.66, \"Ban %\": 0.41, \"KDA\": 2.14, \"Pred\": 51.32309367273125, \"isMid\": false, \"Mid Champs\": 0}, {\"Name\": \"Vex\", \"Class\": \"Mage\", \"Role\": \"MID\", \"Tier\": \"A\", \"Score\": 50.2, \"Trend\": -2.15, \"Win %\": 50.6, \"Role %\": 93.02, \"Pick %\": 3.28, \"Ban %\": 3.76, \"KDA\": 2.37, \"Pred\": 50.59249480394065, \"isMid\": true, \"Mid Champs\": 1}, {\"Name\": \"Vi\", \"Class\": \"Fighter\", \"Role\": \"JUNGLE\", \"Tier\": \"B\", \"Score\": 42.18, \"Trend\": -13.38, \"Win %\": 48.51, \"Role %\": 94.59, \"Pick %\": 4.05, \"Ban %\": 1.94, \"KDA\": 2.3, \"Pred\": 46.465598491042385, \"isMid\": false, \"Mid Champs\": 0}, {\"Name\": \"Viego\", \"Class\": \"Assassin\", \"Role\": \"JUNGLE\", \"Tier\": \"S\", \"Score\": 70.33, \"Trend\": 5.05, \"Win %\": 49.72, \"Role %\": 95.17, \"Pick %\": 9.12, \"Ban %\": 2.56, \"KDA\": 2.47, \"Pred\": 48.854854251141376, \"isMid\": false, \"Mid Champs\": 0}, {\"Name\": \"Viktor\", \"Class\": \"Mage\", \"Role\": \"MID\", \"Tier\": \"A\", \"Score\": 54.13, \"Trend\": 2.05, \"Win %\": 51.34, \"Role %\": 94.35, \"Pick %\": 4.28, \"Ban %\": 2.41, \"KDA\": 2.27, \"Pred\": 52.053692541521855, \"isMid\": true, \"Mid Champs\": 1}, {\"Name\": \"Vladimir\", \"Class\": \"Mage\", \"Role\": \"MID\", \"Tier\": \"A\", \"Score\": 54.65, \"Trend\": 3.61, \"Win %\": 51.53, \"Role %\": 77.73, \"Pick %\": 3.96, \"Ban %\": 5.95, \"KDA\": 2.42, \"Pred\": 52.428864933603506, \"isMid\": true, \"Mid Champs\": 1}, {\"Name\": \"Vladimir\", \"Class\": \"Mage\", \"Role\": \"TOP\", \"Tier\": \"C\", \"Score\": 34.53, \"Trend\": -0.44, \"Win %\": 49.13, \"Role %\": 20.15, \"Pick %\": 0.99, \"Ban %\": 5.95, \"KDA\": 2.05, \"Pred\": 47.68984524415097, \"isMid\": false, \"Mid Champs\": 0}, {\"Name\": \"Volibear\", \"Class\": \"Fighter\", \"Role\": \"TOP\", \"Tier\": \"C\", \"Score\": 36.96, \"Trend\": -0.57, \"Win %\": 48.43, \"Role %\": 61.85, \"Pick %\": 2.17, \"Ban %\": 0.63, \"KDA\": 1.64, \"Pred\": 46.30763116806064, \"isMid\": false, \"Mid Champs\": 0}, {\"Name\": \"Volibear\", \"Class\": \"Fighter\", \"Role\": \"JUNGLE\", \"Tier\": \"D\", \"Score\": 33.68, \"Trend\": -1.42, \"Win %\": 50.15, \"Role %\": 32.98, \"Pick %\": 1.02, \"Ban %\": 0.63, \"KDA\": 2.64, \"Pred\": 49.70392861216828, \"isMid\": false, \"Mid Champs\": 0}, {\"Name\": \"Warwick\", \"Class\": \"Fighter\", \"Role\": \"JUNGLE\", \"Tier\": \"A\", \"Score\": 49.91, \"Trend\": -3.99, \"Win %\": 50.07, \"Role %\": 68.71, \"Pick %\": 4.74, \"Ban %\": 5.18, \"KDA\": 2.17, \"Pred\": 49.545961289186536, \"isMid\": false, \"Mid Champs\": 0}, {\"Name\": \"Warwick\", \"Class\": \"Fighter\", \"Role\": \"TOP\", \"Tier\": \"C\", \"Score\": 36.27, \"Trend\": -3.06, \"Win %\": 49.47, \"Role %\": 28.1, \"Pick %\": 1.42, \"Ban %\": 5.18, \"KDA\": 1.79, \"Pred\": 48.36120636682341, \"isMid\": false, \"Mid Champs\": 0}, {\"Name\": \"Wukong\", \"Class\": \"Fighter\", \"Role\": \"JUNGLE\", \"Tier\": \"C\", \"Score\": 38.79, \"Trend\": -4.57, \"Win %\": 49.13, \"Role %\": 75.46, \"Pick %\": 2.62, \"Ban %\": 1.25, \"KDA\": 2.64, \"Pred\": 47.68984524415097, \"isMid\": false, \"Mid Champs\": 0}, {\"Name\": \"Wukong\", \"Class\": \"Fighter\", \"Role\": \"TOP\", \"Tier\": \"D\", \"Score\": 33.59, \"Trend\": 0.72, \"Win %\": 49.92, \"Role %\": 18.56, \"Pick %\": 0.58, \"Ban %\": 1.25, \"KDA\": 2.06, \"Pred\": 49.249772558595765, \"isMid\": false, \"Mid Champs\": 0}, {\"Name\": \"Xayah\", \"Class\": \"Marksman\", \"Role\": \"ADC\", \"Tier\": \"A\", \"Score\": 52.38, \"Trend\": 1.57, \"Win %\": 49.83, \"Role %\": 98.94, \"Pick %\": 9.73, \"Ban %\": 3.88, \"KDA\": 2.3, \"Pred\": 49.07205932024128, \"isMid\": false, \"Mid Champs\": 0}, {\"Name\": \"Xerath\", \"Class\": \"Mage\", \"Role\": \"SUPPORT\", \"Tier\": \"A\", \"Score\": 53.03, \"Trend\": 0.58, \"Win %\": 51.26, \"Role %\": 70.8, \"Pick %\": 4.09, \"Ban %\": 4.04, \"KDA\": 2.48, \"Pred\": 51.89572521854009, \"isMid\": false, \"Mid Champs\": 0}, {\"Name\": \"Xerath\", \"Class\": \"Mage\", \"Role\": \"MID\", \"Tier\": \"A\", \"Score\": 48.19, \"Trend\": -2.63, \"Win %\": 50.81, \"Role %\": 26.08, \"Pick %\": 1.44, \"Ban %\": 4.04, \"KDA\": 3.13, \"Pred\": 51.00715902676775, \"isMid\": true, \"Mid Champs\": 1}, {\"Name\": \"Xin Zhao\", \"Class\": \"Fighter\", \"Role\": \"JUNGLE\", \"Tier\": \"C\", \"Score\": 38.19, \"Trend\": 0.99, \"Win %\": 50.34, \"Role %\": 84.64, \"Pick %\": 2.4, \"Ban %\": 0.41, \"KDA\": 2.25, \"Pred\": 50.079101004249964, \"isMid\": false, \"Mid Champs\": 0}, {\"Name\": \"Yasuo\", \"Class\": \"Fighter\", \"Role\": \"MID\", \"Tier\": \"God\", \"Score\": 85.15, \"Trend\": -2.72, \"Win %\": 48.78, \"Role %\": 69.95, \"Pick %\": 12.73, \"Ban %\": 21.08, \"KDA\": 1.76, \"Pred\": 46.9987382061058, \"isMid\": true, \"Mid Champs\": 1}, {\"Name\": \"Yasuo\", \"Class\": \"Fighter\", \"Role\": \"TOP\", \"Tier\": \"B\", \"Score\": 43.76, \"Trend\": -2.39, \"Win %\": 47.51, \"Role %\": 17.19, \"Pick %\": 2.96, \"Ban %\": 21.08, \"KDA\": 1.49, \"Pred\": 44.491006953770494, \"isMid\": false, \"Mid Champs\": 0}, {\"Name\": \"Yasuo\", \"Class\": \"Fighter\", \"Role\": \"ADC\", \"Tier\": \"B\", \"Score\": 40.1, \"Trend\": 7.72, \"Win %\": 50.87, \"Role %\": 11.31, \"Pick %\": 1.89, \"Ban %\": 21.08, \"KDA\": 2.01, \"Pred\": 51.12563451900405, \"isMid\": false, \"Mid Champs\": 0}, {\"Name\": \"Yone\", \"Class\": \"Assassin\", \"Role\": \"MID\", \"Tier\": \"S\", \"Score\": 58.02, \"Trend\": -1.12, \"Win %\": 49.25, \"Role %\": 54.68, \"Pick %\": 6.82, \"Ban %\": 7.36, \"KDA\": 1.89, \"Pred\": 47.92679622862359, \"isMid\": true, \"Mid Champs\": 1}, {\"Name\": \"Yone\", \"Class\": \"Assassin\", \"Role\": \"TOP\", \"Tier\": \"S\", \"Score\": 57.2, \"Trend\": 1.88, \"Win %\": 49.34, \"Role %\": 41.19, \"Pick %\": 4.81, \"Ban %\": 7.36, \"KDA\": 1.63, \"Pred\": 48.10450946697807, \"isMid\": false, \"Mid Champs\": 0}, {\"Name\": \"Yorick\", \"Class\": \"Fighter\", \"Role\": \"TOP\", \"Tier\": \"A\", \"Score\": 48.83, \"Trend\": 0.63, \"Win %\": 51.68, \"Role %\": 88.56, \"Pick %\": 2.92, \"Ban %\": 4.03, \"KDA\": 1.52, \"Pred\": 52.72505366419429, \"isMid\": false, \"Mid Champs\": 0}, {\"Name\": \"Yuumi\", \"Class\": \"Support\", \"Role\": \"SUPPORT\", \"Tier\": \"S\", \"Score\": 69.04, \"Trend\": -4.32, \"Win %\": 46.68, \"Role %\": 98.78, \"Pick %\": 7.67, \"Ban %\": 14.06, \"KDA\": 4.18, \"Pred\": 42.852095977834836, \"isMid\": false, \"Mid Champs\": 0}, {\"Name\": \"Zac\", \"Class\": \"Tank\", \"Role\": \"JUNGLE\", \"Tier\": \"A\", \"Score\": 53.35, \"Trend\": 0.93, \"Win %\": 51.77, \"Role %\": 71.96, \"Pick %\": 3.11, \"Ban %\": 2.51, \"KDA\": 3.59, \"Pred\": 52.90276690254876, \"isMid\": false, \"Mid Champs\": 0}, {\"Name\": \"Zac\", \"Class\": \"Tank\", \"Role\": \"TOP\", \"Tier\": \"B\", \"Score\": 44.32, \"Trend\": -2.26, \"Win %\": 52.47, \"Role %\": 13.44, \"Pick %\": 0.66, \"Ban %\": 2.51, \"KDA\": 2.69, \"Pred\": 54.284980978639084, \"isMid\": false, \"Mid Champs\": 0}, {\"Name\": \"Zed\", \"Class\": \"Assassin\", \"Role\": \"MID\", \"Tier\": \"God\", \"Score\": 90.84, \"Trend\": 2.83, \"Win %\": 50.02, \"Role %\": 84.93, \"Pick %\": 11.5, \"Ban %\": 30.48, \"KDA\": 2.26, \"Pred\": 49.44723171232296, \"isMid\": true, \"Mid Champs\": 1}, {\"Name\": \"Zeri\", \"Class\": \"Marksman\", \"Role\": \"ADC\", \"Tier\": \"C\", \"Score\": 39.89, \"Trend\": 0.19, \"Win %\": 48.18, \"Role %\": 89.31, \"Pick %\": 4.21, \"Ban %\": 3.23, \"KDA\": 2.27, \"Pred\": 45.81398328374267, \"isMid\": false, \"Mid Champs\": 0}, {\"Name\": \"Ziggs\", \"Class\": \"Mage\", \"Role\": \"MID\", \"Tier\": \"B\", \"Score\": 43.66, \"Trend\": 4.37, \"Win %\": 50.11, \"Role %\": 55.93, \"Pick %\": 1.67, \"Ban %\": 0.41, \"KDA\": 2.34, \"Pred\": 49.62494495067742, \"isMid\": true, \"Mid Champs\": 1}, {\"Name\": \"Ziggs\", \"Class\": \"Mage\", \"Role\": \"ADC\", \"Tier\": \"B\", \"Score\": 41.4, \"Trend\": 7.33, \"Win %\": 51.54, \"Role %\": 30.6, \"Pick %\": 0.83, \"Ban %\": 0.41, \"KDA\": 2.48, \"Pred\": 52.448610848976216, \"isMid\": false, \"Mid Champs\": 0}, {\"Name\": \"Ziggs\", \"Class\": \"Mage\", \"Role\": \"SUPPORT\", \"Tier\": \"D\", \"Score\": 31.09, \"Trend\": -3.87, \"Win %\": 48.43, \"Role %\": 12.71, \"Pick %\": 0.37, \"Ban %\": 0.42, \"KDA\": 1.98, \"Pred\": 46.30763116806064, \"isMid\": false, \"Mid Champs\": 0}, {\"Name\": \"Zilean\", \"Class\": \"Support\", \"Role\": \"MID\", \"Tier\": \"A\", \"Score\": 52.02, \"Trend\": 4.9, \"Win %\": 53.91, \"Role %\": 13.72, \"Pick %\": 0.31, \"Ban %\": 0.76, \"KDA\": 3.52, \"Pred\": 57.12839279231059, \"isMid\": true, \"Mid Champs\": 1}, {\"Name\": \"Zilean\", \"Class\": \"Support\", \"Role\": \"SUPPORT\", \"Tier\": \"B\", \"Score\": 45.21, \"Trend\": 1.15, \"Win %\": 50.12, \"Role %\": 82.08, \"Pick %\": 2.11, \"Ban %\": 0.76, \"KDA\": 3.03, \"Pred\": 49.64469086605013, \"isMid\": false, \"Mid Champs\": 0}, {\"Name\": \"Zoe\", \"Class\": \"Mage\", \"Role\": \"MID\", \"Tier\": \"A\", \"Score\": 49.82, \"Trend\": 1.34, \"Win %\": 50.44, \"Role %\": 86.34, \"Pick %\": 2.98, \"Ban %\": 1.93, \"KDA\": 2.6, \"Pred\": 50.276560157977144, \"isMid\": true, \"Mid Champs\": 1}, {\"Name\": \"Zoe\", \"Class\": \"Mage\", \"Role\": \"SUPPORT\", \"Tier\": \"D\", \"Score\": 32.21, \"Trend\": -1.45, \"Win %\": 48.67, \"Role %\": 11.43, \"Pick %\": 0.4, \"Ban %\": 1.97, \"KDA\": 2.11, \"Pred\": 46.781533137005894, \"isMid\": false, \"Mid Champs\": 0}, {\"Name\": \"Zyra\", \"Class\": \"Mage\", \"Role\": \"SUPPORT\", \"Tier\": \"B\", \"Score\": 46.64, \"Trend\": -0.95, \"Win %\": 51.44, \"Role %\": 90.88, \"Pick %\": 2.87, \"Ban %\": 1.96, \"KDA\": 2.06, \"Pred\": 52.251151695249035, \"isMid\": false, \"Mid Champs\": 0}]}}, {\"mode\": \"vega-lite\"});\n",
       "</script>"
      ],
      "text/plain": [
       "alt.HConcatChart(...)"
      ]
     },
     "execution_count": 28,
     "metadata": {},
     "output_type": "execute_result"
    }
   ],
   "source": [
    "c5 = alt.Chart(df).mark_circle().encode(\n",
    "    x=\"Win %\",\n",
    "    y=\"Mid Champs\"\n",
    ") \n",
    "c6 = alt.Chart(df).mark_circle().encode(\n",
    "    x=\"Score\",\n",
    "    y=\"Mid Champs\"\n",
    ")\n",
    "c5|c6"
   ]
  },
  {
   "cell_type": "code",
   "execution_count": 29,
   "metadata": {
    "cell_id": "72097935ede84523954de44e4ba661f7",
    "deepnote_cell_type": "code",
    "deepnote_to_be_reexecuted": false,
    "execution_millis": 523,
    "execution_start": 1695796833874,
    "source_hash": "d52d5f0d"
   },
   "outputs": [
    {
     "data": {
      "text/html": [
       "\n",
       "<div id=\"altair-viz-b1a5018771954a87835cfb7b630c12c6\"></div>\n",
       "<script type=\"text/javascript\">\n",
       "  var VEGA_DEBUG = (typeof VEGA_DEBUG == \"undefined\") ? {} : VEGA_DEBUG;\n",
       "  (function(spec, embedOpt){\n",
       "    let outputDiv = document.currentScript.previousElementSibling;\n",
       "    if (outputDiv.id !== \"altair-viz-b1a5018771954a87835cfb7b630c12c6\") {\n",
       "      outputDiv = document.getElementById(\"altair-viz-b1a5018771954a87835cfb7b630c12c6\");\n",
       "    }\n",
       "    const paths = {\n",
       "      \"vega\": \"https://cdn.jsdelivr.net/npm//vega@5?noext\",\n",
       "      \"vega-lib\": \"https://cdn.jsdelivr.net/npm//vega-lib?noext\",\n",
       "      \"vega-lite\": \"https://cdn.jsdelivr.net/npm//vega-lite@4.17.0?noext\",\n",
       "      \"vega-embed\": \"https://cdn.jsdelivr.net/npm//vega-embed@6?noext\",\n",
       "    };\n",
       "\n",
       "    function maybeLoadScript(lib, version) {\n",
       "      var key = `${lib.replace(\"-\", \"\")}_version`;\n",
       "      return (VEGA_DEBUG[key] == version) ?\n",
       "        Promise.resolve(paths[lib]) :\n",
       "        new Promise(function(resolve, reject) {\n",
       "          var s = document.createElement('script');\n",
       "          document.getElementsByTagName(\"head\")[0].appendChild(s);\n",
       "          s.async = true;\n",
       "          s.onload = () => {\n",
       "            VEGA_DEBUG[key] = version;\n",
       "            return resolve(paths[lib]);\n",
       "          };\n",
       "          s.onerror = () => reject(`Error loading script: ${paths[lib]}`);\n",
       "          s.src = paths[lib];\n",
       "        });\n",
       "    }\n",
       "\n",
       "    function showError(err) {\n",
       "      outputDiv.innerHTML = `<div class=\"error\" style=\"color:red;\">${err}</div>`;\n",
       "      throw err;\n",
       "    }\n",
       "\n",
       "    function displayChart(vegaEmbed) {\n",
       "      vegaEmbed(outputDiv, spec, embedOpt)\n",
       "        .catch(err => showError(`Javascript Error: ${err.message}<br>This usually means there's a typo in your chart specification. See the javascript console for the full traceback.`));\n",
       "    }\n",
       "\n",
       "    if(typeof define === \"function\" && define.amd) {\n",
       "      requirejs.config({paths});\n",
       "      require([\"vega-embed\"], displayChart, err => showError(`Error loading script: ${err.message}`));\n",
       "    } else {\n",
       "      maybeLoadScript(\"vega\", \"5\")\n",
       "        .then(() => maybeLoadScript(\"vega-lite\", \"4.17.0\"))\n",
       "        .then(() => maybeLoadScript(\"vega-embed\", \"6\"))\n",
       "        .catch(showError)\n",
       "        .then(() => displayChart(vegaEmbed));\n",
       "    }\n",
       "  })({\"config\": {\"view\": {\"continuousWidth\": 400, \"continuousHeight\": 300}}, \"hconcat\": [{\"mark\": {\"type\": \"circle\", \"color\": \"red\"}, \"encoding\": {\"x\": {\"field\": \"Win %\", \"type\": \"quantitative\"}, \"y\": {\"field\": \"pred win\", \"type\": \"quantitative\"}}}, {\"layer\": [{\"mark\": {\"type\": \"circle\", \"color\": \"orange\"}, \"encoding\": {\"x\": {\"field\": \"Win %\", \"type\": \"quantitative\"}, \"y\": {\"field\": \"pred_win1\", \"type\": \"quantitative\"}}}, {\"mark\": \"circle\", \"encoding\": {\"x\": {\"field\": \"Win %\", \"type\": \"quantitative\"}, \"y\": {\"field\": \"Mid Champs\", \"type\": \"quantitative\"}}}]}], \"data\": {\"name\": \"data-bec7d4a0d12f68a21c5b400c203c8263\"}, \"$schema\": \"https://vega.github.io/schema/vega-lite/v4.17.0.json\", \"datasets\": {\"data-bec7d4a0d12f68a21c5b400c203c8263\": [{\"Name\": \"Aatrox\", \"Class\": \"Fighter\", \"Role\": \"TOP\", \"Tier\": \"God\", \"Score\": 71.25, \"Trend\": -3.39, \"Win %\": 48.84, \"Role %\": 92.28, \"Pick %\": 7.01, \"Ban %\": 5.81, \"KDA\": 1.85, \"Pred\": 47.11721369834213, \"isMid\": false, \"Mid Champs\": 0, \"pred win\": 0, \"pred_win1\": 0.1922822872009423}, {\"Name\": \"Ahri\", \"Class\": \"Mage\", \"Role\": \"MID\", \"Tier\": \"God\", \"Score\": 77.12, \"Trend\": -5.03, \"Win %\": 50.9, \"Role %\": 95.23, \"Pick %\": 10.63, \"Ban %\": 6.47, \"KDA\": 2.63, \"Pred\": 51.18487226512221, \"isMid\": true, \"Mid Champs\": 1, \"pred win\": 0, \"pred_win1\": 0.2695337561650089}, {\"Name\": \"Akali\", \"Class\": \"Assassin\", \"Role\": \"MID\", \"Tier\": \"A\", \"Score\": 55.37, \"Trend\": -5.08, \"Win %\": 48.18, \"Role %\": 78.45, \"Pick %\": 5.99, \"Ban %\": 8.1, \"KDA\": 2.3, \"Pred\": 45.81398328374267, \"isMid\": true, \"Mid Champs\": 1, \"pred win\": 0, \"pred_win1\": 0.1714108570664639}, {\"Name\": \"Akali\", \"Class\": \"Assassin\", \"Role\": \"TOP\", \"Tier\": \"C\", \"Score\": 36.35, \"Trend\": -0.6, \"Win %\": 48.5, \"Role %\": 20.39, \"Pick %\": 1.45, \"Ban %\": 8.1, \"KDA\": 2.06, \"Pred\": 46.445852575669676, \"isMid\": false, \"Mid Champs\": 0, \"pred win\": 0, \"pred_win1\": 0.1812974088096342}, {\"Name\": \"Akshan\", \"Class\": \"Marksman\", \"Role\": \"MID\", \"Tier\": \"B\", \"Score\": 47.25, \"Trend\": -1.5, \"Win %\": 50.15, \"Role %\": 69.32, \"Pick %\": 2.88, \"Ban %\": 5.94, \"KDA\": 2.16, \"Pred\": 49.70392861216828, \"isMid\": true, \"Mid Champs\": 1, \"pred win\": 0, \"pred_win1\": 0.23929480723272392}, {\"Name\": \"Akshan\", \"Class\": \"Marksman\", \"Role\": \"TOP\", \"Tier\": \"C\", \"Score\": 37.24, \"Trend\": 0.83, \"Win %\": 50.87, \"Role %\": 22.48, \"Pick %\": 0.96, \"Ban %\": 5.94, \"KDA\": 1.89, \"Pred\": 51.12563451900405, \"isMid\": false, \"Mid Champs\": 0, \"pred win\": 0, \"pred_win1\": 0.26827900361581525}, {\"Name\": \"Alistar\", \"Class\": \"Tank\", \"Role\": \"SUPPORT\", \"Tier\": \"A\", \"Score\": 54.33, \"Trend\": 4.6, \"Win %\": 51.13, \"Role %\": 95.57, \"Pick %\": 4.58, \"Ban %\": 1.43, \"KDA\": 2.51, \"Pred\": 51.639028318694756, \"isMid\": false, \"Mid Champs\": 0, \"pred win\": 0, \"pred_win1\": 0.2792756249811088}, {\"Name\": \"Amumu\", \"Class\": \"Tank\", \"Role\": \"JUNGLE\", \"Tier\": \"B\", \"Score\": 44.96, \"Trend\": -0.85, \"Win %\": 51.16, \"Role %\": 66.72, \"Pick %\": 2.86, \"Ban %\": 2.1, \"KDA\": 2.64, \"Pred\": 51.6982660648129, \"isMid\": false, \"Mid Champs\": 0, \"pred win\": 0, \"pred_win1\": 0.2805620888775237}, {\"Name\": \"Amumu\", \"Class\": \"Tank\", \"Role\": \"SUPPORT\", \"Tier\": \"B\", \"Score\": 40.1, \"Trend\": -1.92, \"Win %\": 51.5, \"Role %\": 31.76, \"Pick %\": 1.1, \"Ban %\": 2.1, \"KDA\": 2.08, \"Pred\": 52.36962718748535, \"isMid\": false, \"Mid Champs\": 0, \"pred win\": 0, \"pred_win1\": 0.29539139995515823}, {\"Name\": \"Anivia\", \"Class\": \"Mage\", \"Role\": \"MID\", \"Tier\": \"A\", \"Score\": 50.85, \"Trend\": -1.84, \"Win %\": 51.67, \"Role %\": 79.48, \"Pick %\": 2.22, \"Ban %\": 2.59, \"KDA\": 2.84, \"Pred\": 52.70530774882157, \"isMid\": true, \"Mid Champs\": 1, \"pred win\": 0, \"pred_win1\": 0.30297431372787875}, {\"Name\": \"Anivia\", \"Class\": \"Mage\", \"Role\": \"SUPPORT\", \"Tier\": \"D\", \"Score\": 24.49, \"Trend\": -5.76, \"Win %\": 44.86, \"Role %\": 12.07, \"Pick %\": 0.29, \"Ban %\": 2.59, \"KDA\": 2.07, \"Pred\": 39.25833937999998, \"isMid\": false, \"Mid Champs\": 0, \"pred win\": 0, \"pred_win1\": 0.09262632699085141}, {\"Name\": \"Annie\", \"Class\": \"Mage\", \"Role\": \"MID\", \"Tier\": \"A\", \"Score\": 48.73, \"Trend\": -8.33, \"Win %\": 50.61, \"Role %\": 79.68, \"Pick %\": 2.93, \"Ban %\": 2.28, \"KDA\": 2.34, \"Pred\": 50.61224071931336, \"isMid\": true, \"Mid Champs\": 1, \"pred win\": 0, \"pred_win1\": 0.25756064229241804}, {\"Name\": \"Annie\", \"Class\": \"Mage\", \"Role\": \"SUPPORT\", \"Tier\": \"C\", \"Score\": 36.74, \"Trend\": -3.16, \"Win %\": 50.33, \"Role %\": 15.84, \"Pick %\": 0.6, \"Ban %\": 2.28, \"KDA\": 2.27, \"Pred\": 50.059355088877226, \"isMid\": false, \"Mid Champs\": 0, \"pred win\": 0, \"pred_win1\": 0.24633508003161073}, {\"Name\": \"Aphelios\", \"Class\": \"Marksman\", \"Role\": \"ADC\", \"Tier\": \"B\", \"Score\": 44.69, \"Trend\": -23.49, \"Win %\": 47.44, \"Role %\": 97.7, \"Pick %\": 9.01, \"Ban %\": 3.11, \"KDA\": 1.95, \"Pred\": 44.352785546161456, \"isMid\": false, \"Mid Champs\": 0, \"pred win\": 0, \"pred_win1\": 0.15019227392613124}, {\"Name\": \"Ashe\", \"Class\": \"Marksman\", \"Role\": \"ADC\", \"Tier\": \"S\", \"Score\": 67.31, \"Trend\": 4.14, \"Win %\": 52.39, \"Role %\": 85.21, \"Pick %\": 15.12, \"Ban %\": 5.7, \"KDA\": 2.45, \"Pred\": 54.127013655657336, \"isMid\": false, \"Mid Champs\": 0, \"pred win\": 0, \"pred_win1\": 0.3362620989140715}, {\"Name\": \"Ashe\", \"Class\": \"Marksman\", \"Role\": \"SUPPORT\", \"Tier\": \"C\", \"Score\": 37.02, \"Trend\": 1.58, \"Win %\": 47.67, \"Role %\": 12.55, \"Pick %\": 2.14, \"Ban %\": 5.7, \"KDA\": 2.06, \"Pred\": 44.806941599734, \"isMid\": false, \"Mid Champs\": 0, \"pred win\": 0, \"pred_win1\": 0.15654513478610763}, {\"Name\": \"Aurelion Sol\", \"Class\": \"Mage\", \"Role\": \"MID\", \"Tier\": \"A\", \"Score\": 54.0, \"Trend\": 0.48, \"Win %\": 51.48, \"Role %\": 87.38, \"Pick %\": 3.5, \"Ban %\": 5.2, \"KDA\": 2.64, \"Pred\": 52.3301353567399, \"isMid\": true, \"Mid Champs\": 1, \"pred win\": 0, \"pred_win1\": 0.29450656854048674}, {\"Name\": \"Azir\", \"Class\": \"Mage\", \"Role\": \"MID\", \"Tier\": \"A\", \"Score\": 47.51, \"Trend\": 0.27, \"Win %\": 48.12, \"Role %\": 92.08, \"Pick %\": 4.37, \"Ban %\": 1.15, \"KDA\": 2.09, \"Pred\": 45.695507791506344, \"isMid\": true, \"Mid Champs\": 1, \"pred win\": 0, \"pred_win1\": 0.16960547762434613}, {\"Name\": \"Bard\", \"Class\": \"Support\", \"Role\": \"SUPPORT\", \"Tier\": \"B\", \"Score\": 43.6, \"Trend\": -2.68, \"Win %\": 49.55, \"Role %\": 95.39, \"Pick %\": 2.14, \"Ban %\": 0.31, \"KDA\": 2.88, \"Pred\": 48.51917368980516, \"isMid\": false, \"Mid Champs\": 0, \"pred win\": 0, \"pred_win1\": 0.2168365189330033}, {\"Name\": \"Bel'Veth\", \"Class\": \"Fighter\", \"Role\": \"JUNGLE\", \"Tier\": \"A\", \"Score\": 49.69, \"Trend\": 1.57, \"Win %\": 50.6, \"Role %\": 89.84, \"Pick %\": 4.26, \"Ban %\": 6.09, \"KDA\": 2.41, \"Pred\": 50.59249480394065, \"isMid\": false, \"Mid Champs\": 0, \"pred win\": 0, \"pred_win1\": 0.2571540307385524}, {\"Name\": \"Blitzcrank\", \"Class\": \"Tank\", \"Role\": \"SUPPORT\", \"Tier\": \"God\", \"Score\": 79.03, \"Trend\": 4.56, \"Win %\": 50.96, \"Role %\": 97.14, \"Pick %\": 8.78, \"Ban %\": 23.8, \"KDA\": 2.37, \"Pred\": 51.30334775735852, \"isMid\": false, \"Mid Champs\": 0, \"pred win\": 0, \"pred_win1\": 0.27205434207163703}, {\"Name\": \"Brand\", \"Class\": \"Mage\", \"Role\": \"SUPPORT\", \"Tier\": \"B\", \"Score\": 41.62, \"Trend\": -3.46, \"Win %\": 49.16, \"Role %\": 72.74, \"Pick %\": 2.96, \"Ban %\": 3.38, \"KDA\": 1.75, \"Pred\": 47.749082990269116, \"isMid\": false, \"Mid Champs\": 0, \"pred win\": 0, \"pred_win1\": 0.20307761067345506}, {\"Name\": \"Brand\", \"Class\": \"Mage\", \"Role\": \"MID\", \"Tier\": \"B\", \"Score\": 40.08, \"Trend\": 5.34, \"Win %\": 50.52, \"Role %\": 19.47, \"Pick %\": 0.72, \"Ban %\": 3.38, \"KDA\": 2.06, \"Pred\": 50.434527480958906, \"isMid\": true, \"Mid Champs\": 1, \"pred win\": 0, \"pred_win1\": 0.25391627804762246}, {\"Name\": \"Braum\", \"Class\": \"Support\", \"Role\": \"SUPPORT\", \"Tier\": \"B\", \"Score\": 47.38, \"Trend\": 0.89, \"Win %\": 49.83, \"Role %\": 98.48, \"Pick %\": 3.1, \"Ban %\": 0.53, \"KDA\": 2.79, \"Pred\": 49.07205932024128, \"isMid\": false, \"Mid Champs\": 0, \"pred win\": 0, \"pred_win1\": 0.22712292595669117}, {\"Name\": \"Caitlyn\", \"Class\": \"Marksman\", \"Role\": \"ADC\", \"Tier\": \"B\", \"Score\": 46.61, \"Trend\": -2.93, \"Win %\": 47.84, \"Role %\": 94.39, \"Pick %\": 8.77, \"Ban %\": 6.08, \"KDA\": 2.12, \"Pred\": 45.142622161070236, \"isMid\": false, \"Mid Champs\": 0, \"pred win\": 0, \"pred_win1\": 0.16138010965878483}, {\"Name\": \"Camille\", \"Class\": \"Fighter\", \"Role\": \"TOP\", \"Tier\": \"A\", \"Score\": 50.66, \"Trend\": -0.83, \"Win %\": 50.52, \"Role %\": 92.99, \"Pick %\": 3.26, \"Ban %\": 1.75, \"KDA\": 1.94, \"Pred\": 50.434527480958906, \"isMid\": false, \"Mid Champs\": 0, \"pred win\": 0, \"pred_win1\": 0.25391627804762246}, {\"Name\": \"Cassiopeia\", \"Class\": \"Mage\", \"Role\": \"MID\", \"Tier\": \"B\", \"Score\": 47.36, \"Trend\": -1.15, \"Win %\": 51.45, \"Role %\": 73.55, \"Pick %\": 2.3, \"Ban %\": 2.34, \"KDA\": 2.16, \"Pred\": 52.27089761062176, \"isMid\": true, \"Mid Champs\": 1, \"pred win\": 0, \"pred_win1\": 0.29318222134442473}, {\"Name\": \"Cassiopeia\", \"Class\": \"Mage\", \"Role\": \"TOP\", \"Tier\": \"C\", \"Score\": 37.99, \"Trend\": -1.37, \"Win %\": 52.33, \"Role %\": 16.69, \"Pick %\": 0.53, \"Ban %\": 2.34, \"KDA\": 1.95, \"Pred\": 54.00853816342101, \"isMid\": false, \"Mid Champs\": 0, \"pred win\": 0, \"pred_win1\": 0.33341910143509074}, {\"Name\": \"Cho'Gath\", \"Class\": \"Tank\", \"Role\": \"TOP\", \"Tier\": \"A\", \"Score\": 51.89, \"Trend\": -1.43, \"Win %\": 51.25, \"Role %\": 65.85, \"Pick %\": 3.06, \"Ban %\": 1.32, \"KDA\": 2.07, \"Pred\": 51.87597930316737, \"isMid\": false, \"Mid Champs\": 0, \"pred win\": 0, \"pred_win1\": 0.2844430868466742}, {\"Name\": \"Cho'Gath\", \"Class\": \"Tank\", \"Role\": \"MID\", \"Tier\": \"B\", \"Score\": 43.75, \"Trend\": 0.1, \"Win %\": 51.56, \"Role %\": 18.54, \"Pick %\": 0.76, \"Ban %\": 1.32, \"KDA\": 2.41, \"Pred\": 52.48810267972166, \"isMid\": true, \"Mid Champs\": 1, \"pred win\": 0, \"pred_win1\": 0.2980551301372939}, {\"Name\": \"Corki\", \"Class\": \"Marksman\", \"Role\": \"MID\", \"Tier\": \"C\", \"Score\": 37.15, \"Trend\": -0.31, \"Win %\": 48.34, \"Role %\": 86.3, \"Pick %\": 0.88, \"Ban %\": 0.18, \"KDA\": 2.19, \"Pred\": 46.12991792970618, \"isMid\": true, \"Mid Champs\": 1, \"pred win\": 0, \"pred_win1\": 0.17629967021173976}, {\"Name\": \"Darius\", \"Class\": \"Fighter\", \"Role\": \"TOP\", \"Tier\": \"God\", \"Score\": 89.77, \"Trend\": 2.57, \"Win %\": 49.01, \"Role %\": 92.99, \"Pick %\": 8.46, \"Ban %\": 19.04, \"KDA\": 1.8, \"Pred\": 47.45289425967833, \"isMid\": false, \"Mid Champs\": 0, \"pred win\": 0, \"pred_win1\": 0.1979619654162656}, {\"Name\": \"Diana\", \"Class\": \"Fighter\", \"Role\": \"MID\", \"Tier\": \"B\", \"Score\": 40.75, \"Trend\": -2.3, \"Win %\": 49.94, \"Role %\": 24.93, \"Pick %\": 1.18, \"Ban %\": 1.35, \"KDA\": 2.13, \"Pred\": 49.2892643893412, \"isMid\": true, \"Mid Champs\": 1, \"pred win\": 0, \"pred_win1\": 0.23125710931271562}, {\"Name\": \"Diana\", \"Class\": \"Fighter\", \"Role\": \"JUNGLE\", \"Tier\": \"C\", \"Score\": 39.37, \"Trend\": -2.64, \"Win %\": 48.59, \"Role %\": 72.61, \"Pick %\": 3.35, \"Ban %\": 1.35, \"KDA\": 2.38, \"Pred\": 46.62356581402415, \"isMid\": false, \"Mid Champs\": 0, \"pred win\": 0, \"pred_win1\": 0.18415676698196692}, {\"Name\": \"Dr. Mundo\", \"Class\": \"Marksman\", \"Role\": \"TOP\", \"Tier\": \"A\", \"Score\": 50.46, \"Trend\": -2.71, \"Win %\": 51.84, \"Role %\": 85.89, \"Pick %\": 2.78, \"Ban %\": 2.61, \"KDA\": 1.87, \"Pred\": 53.0409883101578, \"isMid\": false, \"Mid Champs\": 0, \"pred win\": 0, \"pred_win1\": 0.3106660601819005}, {\"Name\": \"Draven\", \"Class\": \"Fighter\", \"Role\": \"ADC\", \"Tier\": \"A\", \"Score\": 48.93, \"Trend\": -0.17, \"Win %\": 50.13, \"Role %\": 95.95, \"Pick %\": 6.31, \"Ban %\": 21.39, \"KDA\": 2.14, \"Pred\": 49.664436781422864, \"isMid\": false, \"Mid Champs\": 0, \"pred win\": 0, \"pred_win1\": 0.23852112817067764}, {\"Name\": \"Ekko\", \"Class\": \"Assassin\", \"Role\": \"JUNGLE\", \"Tier\": \"A\", \"Score\": 53.28, \"Trend\": 2.72, \"Win %\": 50.55, \"Role %\": 63.13, \"Pick %\": 4.83, \"Ban %\": 3.14, \"KDA\": 2.68, \"Pred\": 50.49376522707705, \"isMid\": false, \"Mid Champs\": 0, \"pred win\": 0, \"pred_win1\": 0.2551272772718757}, {\"Name\": \"Ekko\", \"Class\": \"Assassin\", \"Role\": \"MID\", \"Tier\": \"B\", \"Score\": 46.68, \"Trend\": 0.75, \"Win %\": 50.43, \"Role %\": 34.0, \"Pick %\": 2.52, \"Ban %\": 3.14, \"KDA\": 2.24, \"Pred\": 50.25681424260442, \"isMid\": true, \"Mid Champs\": 1, \"pred win\": 0, \"pred_win1\": 0.2503060948833929}, {\"Name\": \"Elise\", \"Class\": \"Mage\", \"Role\": \"JUNGLE\", \"Tier\": \"C\", \"Score\": 36.51, \"Trend\": 1.0, \"Win %\": 49.21, \"Role %\": 92.93, \"Pick %\": 1.98, \"Ban %\": 1.72, \"KDA\": 2.71, \"Pred\": 47.84781256713272, \"isMid\": false, \"Mid Champs\": 0, \"pred win\": 0, \"pred_win1\": 0.20480456631173483}, {\"Name\": \"Evelynn\", \"Class\": \"Assassin\", \"Role\": \"JUNGLE\", \"Tier\": \"S\", \"Score\": 57.3, \"Trend\": 2.59, \"Win %\": 51.18, \"Role %\": 97.95, \"Pick %\": 4.67, \"Ban %\": 9.69, \"KDA\": 2.95, \"Pred\": 51.737757895558346, \"isMid\": false, \"Mid Champs\": 0, \"pred win\": 0, \"pred_win1\": 0.2814217369033072}, {\"Name\": \"Ezreal\", \"Class\": \"Marksman\", \"Role\": \"ADC\", \"Tier\": \"God\", \"Score\": 72.99, \"Trend\": -19.84, \"Win %\": 50.1, \"Role %\": 87.8, \"Pick %\": 19.96, \"Ban %\": 8.96, \"KDA\": 2.49, \"Pred\": 49.60519903530471, \"isMid\": false, \"Mid Champs\": 0, \"pred win\": 0, \"pred_win1\": 0.23736383428833274}, {\"Name\": \"Ezreal\", \"Class\": \"Marksman\", \"Role\": \"MID\", \"Tier\": \"D\", \"Score\": 33.67, \"Trend\": -7.35, \"Win %\": 44.02, \"Role %\": 10.31, \"Pick %\": 2.37, \"Ban %\": 8.96, \"KDA\": 1.98, \"Pred\": 37.5996824886916, \"isMid\": true, \"Mid Champs\": 1, \"pred win\": 0, \"pred_win1\": 0.07866043385332322}, {\"Name\": \"Fiddlesticks\", \"Class\": \"Mage\", \"Role\": \"JUNGLE\", \"Tier\": \"A\", \"Score\": 48.92, \"Trend\": 0.28, \"Win %\": 51.22, \"Role %\": 79.76, \"Pick %\": 3.48, \"Ban %\": 3.61, \"KDA\": 2.75, \"Pred\": 51.81674155704921, \"isMid\": false, \"Mid Champs\": 0, \"pred win\": 0, \"pred_win1\": 0.28314583109674674}, {\"Name\": \"Fiddlesticks\", \"Class\": \"Mage\", \"Role\": \"SUPPORT\", \"Tier\": \"C\", \"Score\": 37.61, \"Trend\": -0.4, \"Win %\": 51.49, \"Role %\": 12.24, \"Pick %\": 0.5, \"Ban %\": 3.53, \"KDA\": 2.03, \"Pred\": 52.349881272112626, \"isMid\": false, \"Mid Champs\": 0, \"pred win\": 0, \"pred_win1\": 0.29494879124838463}, {\"Name\": \"Fiora\", \"Class\": \"Fighter\", \"Role\": \"TOP\", \"Tier\": \"S\", \"Score\": 69.54, \"Trend\": 0.38, \"Win %\": 51.21, \"Role %\": 97.48, \"Pick %\": 5.55, \"Ban %\": 13.56, \"KDA\": 1.69, \"Pred\": 51.7969956416765, \"isMid\": false, \"Mid Champs\": 0, \"pred win\": 0, \"pred_win1\": 0.2827142088273038}, {\"Name\": \"Fizz\", \"Class\": \"Assassin\", \"Role\": \"MID\", \"Tier\": \"S\", \"Score\": 62.51, \"Trend\": 1.61, \"Win %\": 51.79, \"Role %\": 95.0, \"Pick %\": 5.92, \"Ban %\": 9.4, \"KDA\": 2.39, \"Pred\": 52.942258733294196, \"isMid\": true, \"Mid Champs\": 1, \"pred win\": 0, \"pred_win1\": 0.308392644081258}, {\"Name\": \"Galio\", \"Class\": \"Tank\", \"Role\": \"MID\", \"Tier\": \"B\", \"Score\": 46.34, \"Trend\": 0.19, \"Win %\": 50.84, \"Role %\": 75.81, \"Pick %\": 1.67, \"Ban %\": 0.33, \"KDA\": 2.62, \"Pred\": 51.06639677288591, \"isMid\": true, \"Mid Champs\": 1, \"pred win\": 0, \"pred_win1\": 0.267027956975774}, {\"Name\": \"Galio\", \"Class\": \"Tank\", \"Role\": \"SUPPORT\", \"Tier\": \"C\", \"Score\": 35.96, \"Trend\": 0.01, \"Win %\": 50.22, \"Role %\": 19.28, \"Pick %\": 0.38, \"Ban %\": 0.33, \"KDA\": 2.33, \"Pred\": 49.84215001977732, \"isMid\": false, \"Mid Champs\": 0, \"pred win\": 0, \"pred_win1\": 0.2420162073717194}, {\"Name\": \"Gangplank\", \"Class\": \"Fighter\", \"Role\": \"TOP\", \"Tier\": \"S\", \"Score\": 58.79, \"Trend\": 0.16, \"Win %\": 49.58, \"Role %\": 85.39, \"Pick %\": 4.78, \"Ban %\": 4.41, \"KDA\": 1.95, \"Pred\": 48.578411435923314, \"isMid\": false, \"Mid Champs\": 0, \"pred win\": 0, \"pred_win1\": 0.21792232825109056}, {\"Name\": \"Gangplank\", \"Class\": \"Fighter\", \"Role\": \"MID\", \"Tier\": \"B\", \"Score\": 44.29, \"Trend\": 1.67, \"Win %\": 52.23, \"Role %\": 13.06, \"Pick %\": 0.76, \"Ban %\": 4.41, \"KDA\": 2.25, \"Pred\": 53.81107900969383, \"isMid\": true, \"Mid Champs\": 1, \"pred win\": 0, \"pred_win1\": 0.32870765828683773}, {\"Name\": \"Garen\", \"Class\": \"Fighter\", \"Role\": \"TOP\", \"Tier\": \"S\", \"Score\": 70.64, \"Trend\": 0.3, \"Win %\": 50.59, \"Role %\": 86.57, \"Pick %\": 6.36, \"Ban %\": 2.43, \"KDA\": 1.99, \"Pred\": 50.57274888856793, \"isMid\": false, \"Mid Champs\": 0, \"pred win\": 0, \"pred_win1\": 0.25674783911716426}, {\"Name\": \"Gnar\", \"Class\": \"Fighter\", \"Role\": \"TOP\", \"Tier\": \"B\", \"Score\": 40.81, \"Trend\": -1.82, \"Win %\": 47.68, \"Role %\": 95.79, \"Pick %\": 2.9, \"Ban %\": 0.57, \"KDA\": 1.8, \"Pred\": 44.82668751510673, \"isMid\": false, \"Mid Champs\": 0, \"pred win\": 0, \"pred_win1\": 0.15682624850832813}, {\"Name\": \"Gragas\", \"Class\": \"Fighter\", \"Role\": \"JUNGLE\", \"Tier\": \"B\", \"Score\": 45.62, \"Trend\": 0.69, \"Win %\": 49.04, \"Role %\": 49.51, \"Pick %\": 3.81, \"Ban %\": 3.23, \"KDA\": 2.8, \"Pred\": 47.51213200579649, \"isMid\": false, \"Mid Champs\": 0, \"pred win\": 0, \"pred_win1\": 0.19897727350403585}, {\"Name\": \"Gragas\", \"Class\": \"Fighter\", \"Role\": \"TOP\", \"Tier\": \"C\", \"Score\": 38.22, \"Trend\": -3.15, \"Win %\": 46.45, \"Role %\": 33.32, \"Pick %\": 2.67, \"Ban %\": 3.23, \"KDA\": 1.96, \"Pred\": 42.3979399242623, \"isMid\": false, \"Mid Champs\": 0, \"pred win\": 0, \"pred_win1\": 0.12524047866481147}, {\"Name\": \"Gragas\", \"Class\": \"Fighter\", \"Role\": \"MID\", \"Tier\": \"C\", \"Score\": 36.71, \"Trend\": -1.32, \"Win %\": 48.01, \"Role %\": 10.62, \"Pick %\": 0.8, \"Ban %\": 3.23, \"KDA\": 2.26, \"Pred\": 45.47830272240644, \"isMid\": true, \"Mid Champs\": 1, \"pred win\": 0, \"pred_win1\": 0.16633496614984072}, {\"Name\": \"Graves\", \"Class\": \"Marksman\", \"Role\": \"JUNGLE\", \"Tier\": \"God\", \"Score\": 72.71, \"Trend\": 1.85, \"Win %\": 50.77, \"Role %\": 91.21, \"Pick %\": 8.58, \"Ban %\": 4.98, \"KDA\": 2.65, \"Pred\": 50.92817536527687, \"isMid\": false, \"Mid Champs\": 0, \"pred win\": 0, \"pred_win1\": 0.2641233100445627}, {\"Name\": \"Gwen\", \"Class\": \"Fighter\", \"Role\": \"TOP\", \"Tier\": \"A\", \"Score\": 53.66, \"Trend\": 2.4, \"Win %\": 49.92, \"Role %\": 89.55, \"Pick %\": 4.22, \"Ban %\": 2.41, \"KDA\": 1.7, \"Pred\": 49.249772558595765, \"isMid\": false, \"Mid Champs\": 0, \"pred win\": 0, \"pred_win1\": 0.23050154305024603}, {\"Name\": \"Hecarim\", \"Class\": \"Fighter\", \"Role\": \"JUNGLE\", \"Tier\": \"S\", \"Score\": 62.04, \"Trend\": 4.1, \"Win %\": 50.31, \"Role %\": 99.16, \"Pick %\": 6.21, \"Ban %\": 11.3, \"KDA\": 2.65, \"Pred\": 50.01986325813181, \"isMid\": false, \"Mid Champs\": 0, \"pred win\": 0, \"pred_win1\": 0.24554598601879904}, {\"Name\": \"Heimerdinger\", \"Class\": \"Mage\", \"Role\": \"MID\", \"Tier\": \"B\", \"Score\": 44.22, \"Trend\": 0.5, \"Win %\": 52.83, \"Role %\": 22.49, \"Pick %\": 0.78, \"Ban %\": 1.53, \"KDA\": 2.01, \"Pred\": 54.995833932056954, \"isMid\": true, \"Mid Champs\": 1, \"pred win\": 0, \"pred_win1\": 0.3574640948941815}, {\"Name\": \"Heimerdinger\", \"Class\": \"Mage\", \"Role\": \"SUPPORT\", \"Tier\": \"C\", \"Score\": 39.84, \"Trend\": -0.65, \"Win %\": 50.81, \"Role %\": 48.93, \"Pick %\": 1.57, \"Ban %\": 1.53, \"KDA\": 1.92, \"Pred\": 51.00715902676775, \"isMid\": false, \"Mid Champs\": 0, \"pred win\": 0, \"pred_win1\": 0.265780625218741}, {\"Name\": \"Heimerdinger\", \"Class\": \"Mage\", \"Role\": \"TOP\", \"Tier\": \"D\", \"Score\": 33.45, \"Trend\": -0.59, \"Win %\": 50.64, \"Role %\": 19.31, \"Pick %\": 0.66, \"Ban %\": 1.53, \"KDA\": 1.73, \"Pred\": 50.67147846543152, \"isMid\": false, \"Mid Champs\": 0, \"pred win\": 0, \"pred_win1\": 0.25878299383587733}, {\"Name\": \"Illaoi\", \"Class\": \"Fighter\", \"Role\": \"TOP\", \"Tier\": \"S\", \"Score\": 63.63, \"Trend\": 3.5, \"Win %\": 51.46, \"Role %\": 94.01, \"Pick %\": 4.89, \"Ban %\": 12.19, \"KDA\": 1.45, \"Pred\": 52.29064352599447, \"isMid\": false, \"Mid Champs\": 0, \"pred win\": 0, \"pred_win1\": 0.2936232830976815}, {\"Name\": \"Irelia\", \"Class\": \"Fighter\", \"Role\": \"TOP\", \"Tier\": \"A\", \"Score\": 54.9, \"Trend\": 0.85, \"Win %\": 49.67, \"Role %\": 51.43, \"Pick %\": 4.14, \"Ban %\": 11.2, \"KDA\": 1.66, \"Pred\": 48.756124674277785, \"isMid\": false, \"Mid Champs\": 0, \"pred win\": 0, \"pred_win1\": 0.221203251771598}, {\"Name\": \"Irelia\", \"Class\": \"Fighter\", \"Role\": \"MID\", \"Tier\": \"A\", \"Score\": 49.15, \"Trend\": 1.54, \"Win %\": 50.01, \"Role %\": 46.91, \"Pick %\": 3.79, \"Ban %\": 11.2, \"KDA\": 1.82, \"Pred\": 49.42748579695022, \"isMid\": true, \"Mid Champs\": 1, \"pred win\": 0, \"pred_win1\": 0.23391520825259968}, {\"Name\": \"Ivern\", \"Class\": \"Support\", \"Role\": \"JUNGLE\", \"Tier\": \"A\", \"Score\": 51.46, \"Trend\": -8.06, \"Win %\": 51.35, \"Role %\": 74.38, \"Pick %\": 2.99, \"Ban %\": 5.29, \"KDA\": 3.44, \"Pred\": 52.073438456894564, \"isMid\": false, \"Mid Champs\": 0, \"pred win\": 0, \"pred_win1\": 0.28879302077988833}, {\"Name\": \"Ivern\", \"Class\": \"Support\", \"Role\": \"SUPPORT\", \"Tier\": \"D\", \"Score\": 33.65, \"Trend\": -4.87, \"Win %\": 48.47, \"Role %\": 11.09, \"Pick %\": 0.43, \"Ban %\": 5.29, \"KDA\": 2.5, \"Pred\": 46.38661482955152, \"isMid\": false, \"Mid Champs\": 0, \"pred win\": 0, \"pred_win1\": 0.18035200274248253}, {\"Name\": \"Janna\", \"Class\": \"Support\", \"Role\": \"SUPPORT\", \"Tier\": \"S\", \"Score\": 61.02, \"Trend\": 2.58, \"Win %\": 52.4, \"Role %\": 98.81, \"Pick %\": 4.92, \"Ban %\": 1.69, \"KDA\": 3.2, \"Pred\": 54.146759571030046, \"isMid\": false, \"Mid Champs\": 0, \"pred win\": 0, \"pred_win1\": 0.3367370938959423}, {\"Name\": \"Jarvan IV\", \"Class\": \"Tank\", \"Role\": \"JUNGLE\", \"Tier\": \"S\", \"Score\": 64.68, \"Trend\": 1.7, \"Win %\": 51.45, \"Role %\": 92.12, \"Pick %\": 6.06, \"Ban %\": 2.47, \"KDA\": 3.27, \"Pred\": 52.27089761062176, \"isMid\": false, \"Mid Champs\": 0, \"pred win\": 0, \"pred_win1\": 0.29318222134442473}, {\"Name\": \"Jax\", \"Class\": \"Fighter\", \"Role\": \"TOP\", \"Tier\": \"God\", \"Score\": 92.58, \"Trend\": -0.44, \"Win %\": 50.78, \"Role %\": 85.77, \"Pick %\": 8.51, \"Ban %\": 17.43, \"KDA\": 1.71, \"Pred\": 50.94792128064958, \"isMid\": false, \"Mid Champs\": 0, \"pred win\": 0, \"pred_win1\": 0.26453701711448246}, {\"Name\": \"Jax\", \"Class\": \"Fighter\", \"Role\": \"JUNGLE\", \"Tier\": \"D\", \"Score\": 32.93, \"Trend\": 4.29, \"Win %\": 50.57, \"Role %\": 11.25, \"Pick %\": 1.1, \"Ban %\": 17.43, \"KDA\": 2.14, \"Pred\": 50.53325705782248, \"isMid\": false, \"Mid Champs\": 0, \"pred win\": 0, \"pred_win1\": 0.2559367167398204}, {\"Name\": \"Jayce\", \"Class\": \"Fighter\", \"Role\": \"TOP\", \"Tier\": \"A\", \"Score\": 54.24, \"Trend\": -1.01, \"Win %\": 49.48, \"Role %\": 66.06, \"Pick %\": 4.29, \"Ban %\": 2.77, \"KDA\": 1.82, \"Pred\": 48.38095228219612, \"isMid\": false, \"Mid Champs\": 0, \"pred win\": 0, \"pred_win1\": 0.2143182002331845}, {\"Name\": \"Jayce\", \"Class\": \"Fighter\", \"Role\": \"MID\", \"Tier\": \"B\", \"Score\": 45.75, \"Trend\": 0.7, \"Win %\": 50.87, \"Role %\": 31.85, \"Pick %\": 2.1, \"Ban %\": 2.77, \"KDA\": 2.16, \"Pred\": 51.12563451900405, \"isMid\": true, \"Mid Champs\": 1, \"pred win\": 0, \"pred_win1\": 0.26827900361581525}, {\"Name\": \"Jhin\", \"Class\": \"Marksman\", \"Role\": \"ADC\", \"Tier\": \"S\", \"Score\": 59.38, \"Trend\": -16.54, \"Win %\": 50.41, \"Role %\": 95.81, \"Pick %\": 11.46, \"Ban %\": 4.05, \"KDA\": 2.82, \"Pred\": 50.21732241185897, \"isMid\": false, \"Mid Champs\": 0, \"pred win\": 0, \"pred_win1\": 0.24950849162604513}, {\"Name\": \"Jinx\", \"Class\": \"Marksman\", \"Role\": \"ADC\", \"Tier\": \"A\", \"Score\": 48.29, \"Trend\": -4.48, \"Win %\": 49.15, \"Role %\": 98.11, \"Pick %\": 8.47, \"Ban %\": 1.44, \"KDA\": 2.24, \"Pred\": 47.72933707489639, \"isMid\": false, \"Mid Champs\": 0, \"pred win\": 0, \"pred_win1\": 0.20273352468190486}, {\"Name\": \"K'Sante\", \"Class\": \"Fighter\", \"Role\": \"TOP\", \"Tier\": \"S\", \"Score\": 59.69, \"Trend\": -2.15, \"Win %\": 45.25, \"Role %\": 87.99, \"Pick %\": 6.48, \"Ban %\": 5.83, \"KDA\": 1.82, \"Pred\": 40.02843007953602, \"isMid\": false, \"Mid Champs\": 0, \"pred win\": 0, \"pred_win1\": 0.09983945958895242}, {\"Name\": \"Kai'Sa\", \"Class\": \"Marksman\", \"Role\": \"ADC\", \"Tier\": \"God\", \"Score\": 92.98, \"Trend\": 3.24, \"Win %\": 51.4, \"Role %\": 91.68, \"Pick %\": 28.67, \"Ban %\": 11.96, \"KDA\": 2.48, \"Pred\": 52.172168033758155, \"isMid\": false, \"Mid Champs\": 0, \"pred win\": 0, \"pred_win1\": 0.2909827416576457}, {\"Name\": \"Kalista\", \"Class\": \"Marksman\", \"Role\": \"ADC\", \"Tier\": \"C\", \"Score\": 34.73, \"Trend\": 6.99, \"Win %\": 47.64, \"Role %\": 88.59, \"Pick %\": 2.28, \"Ban %\": 0.68, \"KDA\": 2.12, \"Pred\": 44.747703853615846, \"isMid\": false, \"Mid Champs\": 0, \"pred win\": 0, \"pred_win1\": 0.15570425564182772}, {\"Name\": \"Karma\", \"Class\": \"Mage\", \"Role\": \"SUPPORT\", \"Tier\": \"A\", \"Score\": 50.43, \"Trend\": -0.38, \"Win %\": 48.0, \"Role %\": 89.34, \"Pick %\": 5.1, \"Ban %\": 0.93, \"KDA\": 2.55, \"Pred\": 45.45855680703373, \"isMid\": false, \"Mid Champs\": 0, \"pred win\": 0, \"pred_win1\": 0.16604016434804533}, {\"Name\": \"Karthus\", \"Class\": \"Mage\", \"Role\": \"ADC\", \"Tier\": \"B\", \"Score\": 46.76, \"Trend\": 6.48, \"Win %\": 54.12, \"Role %\": 34.38, \"Pick %\": 1.84, \"Ban %\": 5.94, \"KDA\": 2.27, \"Pred\": 57.54305701513769, \"isMid\": false, \"Mid Champs\": 0, \"pred win\": 0, \"pred_win1\": 0.42264024942011746}, {\"Name\": \"Karthus\", \"Class\": \"Mage\", \"Role\": \"MID\", \"Tier\": \"B\", \"Score\": 42.52, \"Trend\": 3.23, \"Win %\": 51.76, \"Role %\": 10.07, \"Pick %\": 0.47, \"Ban %\": 5.94, \"KDA\": 2.25, \"Pred\": 52.88302098717604, \"isMid\": true, \"Mid Champs\": 1, \"pred win\": 0, \"pred_win1\": 0.3070330290673564}, {\"Name\": \"Karthus\", \"Class\": \"Mage\", \"Role\": \"JUNGLE\", \"Tier\": \"C\", \"Score\": 38.01, \"Trend\": -1.81, \"Win %\": 49.56, \"Role %\": 48.67, \"Pick %\": 2.31, \"Ban %\": 5.94, \"KDA\": 2.46, \"Pred\": 48.53891960517788, \"isMid\": false, \"Mid Champs\": 0, \"pred win\": 0, \"pred_win1\": 0.21719802012573855}, {\"Name\": \"Kassadin\", \"Class\": \"Assassin\", \"Role\": \"MID\", \"Tier\": \"B\", \"Score\": 45.87, \"Trend\": -1.12, \"Win %\": 50.38, \"Role %\": 95.52, \"Pick %\": 1.92, \"Ban %\": 3.09, \"KDA\": 2.5, \"Pred\": 50.15808466574083, \"isMid\": true, \"Mid Champs\": 1, \"pred win\": 0, \"pred_win1\": 0.24831527179223017}, {\"Name\": \"Katarina\", \"Class\": \"Assassin\", \"Role\": \"MID\", \"Tier\": \"S\", \"Score\": 64.8, \"Trend\": 2.24, \"Win %\": 49.37, \"Role %\": 95.1, \"Pick %\": 7.86, \"Ban %\": 12.01, \"KDA\": 2.24, \"Pred\": 48.163747213096215, \"isMid\": true, \"Mid Champs\": 1, \"pred win\": 0, \"pred_win1\": 0.21040395316052107}, {\"Name\": \"Kayle\", \"Class\": \"Fighter\", \"Role\": \"TOP\", \"Tier\": \"S\", \"Score\": 59.91, \"Trend\": -2.81, \"Win %\": 52.36, \"Role %\": 84.12, \"Pick %\": 4.17, \"Ban %\": 2.69, \"KDA\": 1.83, \"Pred\": 54.067775909539165, \"isMid\": false, \"Mid Champs\": 0, \"pred win\": 0, \"pred_win1\": 0.3348391017432953}, {\"Name\": \"Kayle\", \"Class\": \"Fighter\", \"Role\": \"MID\", \"Tier\": \"B\", \"Score\": 47.19, \"Trend\": -0.96, \"Win %\": 54.21, \"Role %\": 13.41, \"Pick %\": 0.6, \"Ban %\": 2.69, \"KDA\": 2.22, \"Pred\": 57.72077025349218, \"isMid\": true, \"Mid Champs\": 1, \"pred win\": 0, \"pred_win1\": 0.42731925627568385}, {\"Name\": \"Kayn\", \"Class\": \"Fighter\", \"Role\": \"JUNGLE\", \"Tier\": \"God\", \"Score\": 83.56, \"Trend\": 7.31, \"Win %\": 51.06, \"Role %\": 93.96, \"Pick %\": 10.28, \"Ban %\": 10.65, \"KDA\": 2.45, \"Pred\": 51.50080691108572, \"isMid\": false, \"Mid Champs\": 0, \"pred win\": 0, \"pred_win1\": 0.27628797033126895}, {\"Name\": \"Kennen\", \"Class\": \"Mage\", \"Role\": \"TOP\", \"Tier\": \"C\", \"Score\": 38.75, \"Trend\": -6.52, \"Win %\": 48.76, \"Role %\": 80.59, \"Pick %\": 2.03, \"Ban %\": 1.97, \"KDA\": 1.88, \"Pred\": 46.959246375360365, \"isMid\": false, \"Mid Champs\": 0, \"pred win\": 0, \"pred_win1\": 0.18965278708378172}, {\"Name\": \"Kennen\", \"Class\": \"Mage\", \"Role\": \"MID\", \"Tier\": \"C\", \"Score\": 37.55, \"Trend\": -3.41, \"Win %\": 49.12, \"Role %\": 14.67, \"Pick %\": 0.39, \"Ban %\": 1.97, \"KDA\": 2.29, \"Pred\": 47.670099328778235, \"isMid\": true, \"Mid Champs\": 1, \"pred win\": 0, \"pred_win1\": 0.20170387616672844}, {\"Name\": \"Kha'Zix\", \"Class\": \"Assassin\", \"Role\": \"JUNGLE\", \"Tier\": \"God\", \"Score\": 89.93, \"Trend\": -3.1, \"Win %\": 51.13, \"Role %\": 99.12, \"Pick %\": 10.1, \"Ban %\": 19.44, \"KDA\": 2.64, \"Pred\": 51.639028318694756, \"isMid\": false, \"Mid Champs\": 0, \"pred win\": 0, \"pred_win1\": 0.2792756249811088}, {\"Name\": \"Kindred\", \"Class\": \"Marksman\", \"Role\": \"JUNGLE\", \"Tier\": \"God\", \"Score\": 73.66, \"Trend\": -12.38, \"Win %\": 51.32, \"Role %\": 96.38, \"Pick %\": 7.2, \"Ban %\": 19.82, \"KDA\": 2.31, \"Pred\": 52.01420071077641, \"isMid\": false, \"Mid Champs\": 0, \"pred win\": 0, \"pred_win1\": 0.28748389678358927}, {\"Name\": \"Kled\", \"Class\": \"Fighter\", \"Role\": \"TOP\", \"Tier\": \"A\", \"Score\": 48.26, \"Trend\": -0.11, \"Win %\": 52.16, \"Role %\": 88.41, \"Pick %\": 1.98, \"Ban %\": 1.33, \"KDA\": 2.21, \"Pred\": 53.67285760208479, \"isMid\": false, \"Mid Champs\": 0, \"pred win\": 0, \"pred_win1\": 0.3254299640346133}, {\"Name\": \"Kog'Maw\", \"Class\": \"Marksman\", \"Role\": \"ADC\", \"Tier\": \"B\", \"Score\": 42.51, \"Trend\": 8.28, \"Win %\": 51.88, \"Role %\": 89.95, \"Pick %\": 2.34, \"Ban %\": 2.26, \"KDA\": 2.13, \"Pred\": 53.11997197164867, \"isMid\": false, \"Mid Champs\": 0, \"pred win\": 0, \"pred_win1\": 0.31249140315266744}, {\"Name\": \"LeBlanc\", \"Class\": \"Assassin\", \"Role\": \"MID\", \"Tier\": \"S\", \"Score\": 66.02, \"Trend\": -21.94, \"Win %\": 49.58, \"Role %\": 90.18, \"Pick %\": 6.61, \"Ban %\": 18.83, \"KDA\": 2.74, \"Pred\": 48.578411435923314, \"isMid\": true, \"Mid Champs\": 1, \"pred win\": 0, \"pred_win1\": 0.21792232825109056}, {\"Name\": \"Lee Sin\", \"Class\": \"Fighter\", \"Role\": \"JUNGLE\", \"Tier\": \"God\", \"Score\": 91.03, \"Trend\": 13.94, \"Win %\": 47.95, \"Role %\": 92.93, \"Pick %\": 13.32, \"Ban %\": 7.59, \"KDA\": 2.67, \"Pred\": 45.35982723017014, \"isMid\": false, \"Mid Champs\": 0, \"pred win\": 0, \"pred_win1\": 0.1645724299390525}, {\"Name\": \"Leona\", \"Class\": \"Tank\", \"Role\": \"SUPPORT\", \"Tier\": \"S\", \"Score\": 57.54, \"Trend\": -0.02, \"Win %\": 51.01, \"Role %\": 98.61, \"Pick %\": 5.49, \"Ban %\": 3.77, \"KDA\": 2.39, \"Pred\": 51.40207733422211, \"isMid\": false, \"Mid Champs\": 0, \"pred win\": 0, \"pred_win1\": 0.27416607108197094}, {\"Name\": \"Lillia\", \"Class\": \"Fighter\", \"Role\": \"JUNGLE\", \"Tier\": \"A\", \"Score\": 51.06, \"Trend\": 0.54, \"Win %\": 51.41, \"Role %\": 87.66, \"Pick %\": 3.89, \"Ban %\": 2.04, \"KDA\": 2.75, \"Pred\": 52.191913949130864, \"isMid\": false, \"Mid Champs\": 0, \"pred win\": 0, \"pred_win1\": 0.2914218587831223}, {\"Name\": \"Lissandra\", \"Class\": \"Mage\", \"Role\": \"MID\", \"Tier\": \"A\", \"Score\": 47.5, \"Trend\": -3.35, \"Win %\": 49.79, \"Role %\": 92.35, \"Pick %\": 2.95, \"Ban %\": 1.4, \"KDA\": 2.4, \"Pred\": 48.99307565875041, \"isMid\": true, \"Mid Champs\": 1, \"pred win\": 0, \"pred_win1\": 0.22563258792457846}, {\"Name\": \"Lucian\", \"Class\": \"Marksman\", \"Role\": \"ADC\", \"Tier\": \"B\", \"Score\": 45.63, \"Trend\": -7.42, \"Win %\": 48.67, \"Role %\": 92.8, \"Pick %\": 7.36, \"Ban %\": 2.3, \"KDA\": 2.22, \"Pred\": 46.781533137005894, \"isMid\": false, \"Mid Champs\": 0, \"pred win\": 0, \"pred_win1\": 0.18672762481430588}, {\"Name\": \"Lulu\", \"Class\": \"Support\", \"Role\": \"SUPPORT\", \"Tier\": \"S\", \"Score\": 59.04, \"Trend\": -0.46, \"Win %\": 47.93, \"Role %\": 97.34, \"Pick %\": 6.64, \"Ban %\": 6.75, \"KDA\": 2.85, \"Pred\": 45.32033539942469, \"isMid\": false, \"Mid Champs\": 0, \"pred win\": 0, \"pred_win1\": 0.1639882600475616}, {\"Name\": \"Lux\", \"Class\": \"Mage\", \"Role\": \"SUPPORT\", \"Tier\": \"God\", \"Score\": 84.82, \"Trend\": 7.57, \"Win %\": 50.0, \"Role %\": 64.68, \"Pick %\": 11.55, \"Ban %\": 11.12, \"KDA\": 2.36, \"Pred\": 49.40773988157751, \"isMid\": false, \"Mid Champs\": 0, \"pred win\": 0, \"pred_win1\": 0.2335341839353771}, {\"Name\": \"Lux\", \"Class\": \"Mage\", \"Role\": \"MID\", \"Tier\": \"S\", \"Score\": 60.79, \"Trend\": -0.11, \"Win %\": 51.03, \"Role %\": 31.83, \"Pick %\": 5.03, \"Ban %\": 11.12, \"KDA\": 2.87, \"Pred\": 51.44156916496756, \"isMid\": true, \"Mid Champs\": 1, \"pred win\": 0, \"pred_win1\": 0.2750136129641014}, {\"Name\": \"Malphite\", \"Class\": \"Tank\", \"Role\": \"TOP\", \"Tier\": \"God\", \"Score\": 83.04, \"Trend\": -1.26, \"Win %\": 51.43, \"Role %\": 72.61, \"Pick %\": 6.62, \"Ban %\": 13.84, \"KDA\": 2.48, \"Pred\": 52.23140577987631, \"isMid\": false, \"Mid Champs\": 0, \"pred win\": 0, \"pred_win1\": 0.29230126220874775}, {\"Name\": \"Malphite\", \"Class\": \"Tank\", \"Role\": \"MID\", \"Tier\": \"B\", \"Score\": 46.92, \"Trend\": -1.33, \"Win %\": 52.0, \"Role %\": 12.29, \"Pick %\": 1.12, \"Ban %\": 13.84, \"KDA\": 2.55, \"Pred\": 53.356922956121295, \"isMid\": true, \"Mid Champs\": 1, \"pred win\": 0, \"pred_win1\": 0.31800228449469886}, {\"Name\": \"Malphite\", \"Class\": \"Tank\", \"Role\": \"SUPPORT\", \"Tier\": \"D\", \"Score\": 30.04, \"Trend\": -4.96, \"Win %\": 46.11, \"Role %\": 11.74, \"Pick %\": 1.09, \"Ban %\": 13.79, \"KDA\": 1.99, \"Pred\": 41.72657880158985, \"isMid\": false, \"Mid Champs\": 0, \"pred win\": 0, \"pred_win1\": 0.11752833166192192}, {\"Name\": \"Malzahar\", \"Class\": \"Mage\", \"Role\": \"MID\", \"Tier\": \"A\", \"Score\": 51.78, \"Trend\": -1.03, \"Win %\": 50.78, \"Role %\": 89.78, \"Pick %\": 3.73, \"Ban %\": 5.55, \"KDA\": 2.27, \"Pred\": 50.94792128064958, \"isMid\": true, \"Mid Champs\": 1, \"pred win\": 0, \"pred_win1\": 0.26453701711448246}, {\"Name\": \"Maokai\", \"Class\": \"Tank\", \"Role\": \"JUNGLE\", \"Tier\": \"A\", \"Score\": 52.39, \"Trend\": 1.0, \"Win %\": 51.84, \"Role %\": 64.48, \"Pick %\": 3.61, \"Ban %\": 1.08, \"KDA\": 3.05, \"Pred\": 53.0409883101578, \"isMid\": false, \"Mid Champs\": 0, \"pred win\": 0, \"pred_win1\": 0.3106660601819005}, {\"Name\": \"Maokai\", \"Class\": \"Tank\", \"Role\": \"SUPPORT\", \"Tier\": \"B\", \"Score\": 46.53, \"Trend\": 5.55, \"Win %\": 54.49, \"Role %\": 18.87, \"Pick %\": 1.01, \"Ban %\": 1.08, \"KDA\": 2.37, \"Pred\": 58.2736558839283, \"isMid\": false, \"Mid Champs\": 0, \"pred win\": 0, \"pred_win1\": 0.441955911051543}, {\"Name\": \"Maokai\", \"Class\": \"Tank\", \"Role\": \"TOP\", \"Tier\": \"B\", \"Score\": 43.6, \"Trend\": 2.19, \"Win %\": 52.33, \"Role %\": 15.61, \"Pick %\": 0.89, \"Ban %\": 1.08, \"KDA\": 2.44, \"Pred\": 54.00853816342101, \"isMid\": false, \"Mid Champs\": 0, \"pred win\": 0, \"pred_win1\": 0.33341910143509074}, {\"Name\": \"Master Yi\", \"Class\": \"Assassin\", \"Role\": \"JUNGLE\", \"Tier\": \"God\", \"Score\": 71.87, \"Trend\": -1.37, \"Win %\": 49.7, \"Role %\": 91.72, \"Pick %\": 7.9, \"Ban %\": 19.09, \"KDA\": 2.06, \"Pred\": 48.81536242039594, \"isMid\": false, \"Mid Champs\": 0, \"pred win\": 0, \"pred_win1\": 0.2223047206238844}, {\"Name\": \"Milio\", \"Class\": \"Support\", \"Role\": \"SUPPORT\", \"Tier\": \"God\", \"Score\": 81.15, \"Trend\": -11.18, \"Win %\": 50.52, \"Role %\": 99.51, \"Pick %\": 8.81, \"Ban %\": 18.76, \"KDA\": 3.39, \"Pred\": 50.434527480958906, \"isMid\": false, \"Mid Champs\": 0, \"pred win\": 0, \"pred_win1\": 0.25391627804762246}, {\"Name\": \"Miss Fortune\", \"Class\": \"Marksman\", \"Role\": \"ADC\", \"Tier\": \"S\", \"Score\": 60.44, \"Trend\": -4.87, \"Win %\": 51.75, \"Role %\": 91.94, \"Pick %\": 12.21, \"Ban %\": 4.64, \"KDA\": 2.31, \"Pred\": 52.863275071803315, \"isMid\": false, \"Mid Champs\": 0, \"pred win\": 0, \"pred_win1\": 0.3065805666095266}, {\"Name\": \"Mordekaiser\", \"Class\": \"Fighter\", \"Role\": \"TOP\", \"Tier\": \"God\", \"Score\": 72.79, \"Trend\": -1.18, \"Win %\": 49.87, \"Role %\": 85.39, \"Pick %\": 6.38, \"Ban %\": 11.25, \"KDA\": 1.83, \"Pred\": 49.15104298173216, \"isMid\": false, \"Mid Champs\": 0, \"pred win\": 0, \"pred_win1\": 0.2286202016358385}, {\"Name\": \"Morgana\", \"Class\": \"Mage\", \"Role\": \"SUPPORT\", \"Tier\": \"S\", \"Score\": 64.13, \"Trend\": 5.31, \"Win %\": 49.29, \"Role %\": 89.62, \"Pick %\": 5.96, \"Ban %\": 24.57, \"KDA\": 2.36, \"Pred\": 48.00577989011447, \"isMid\": false, \"Mid Champs\": 0, \"pred win\": 0, \"pred_win1\": 0.20759032672278727}, {\"Name\": \"Nami\", \"Class\": \"Support\", \"Role\": \"SUPPORT\", \"Tier\": \"A\", \"Score\": 52.82, \"Trend\": -2.31, \"Win %\": 49.25, \"Role %\": 99.39, \"Pick %\": 4.7, \"Ban %\": 0.46, \"KDA\": 2.93, \"Pred\": 47.92679622862359, \"isMid\": false, \"Mid Champs\": 0, \"pred win\": 0, \"pred_win1\": 0.20619396398468656}, {\"Name\": \"Nasus\", \"Class\": \"Fighter\", \"Role\": \"TOP\", \"Tier\": \"S\", \"Score\": 66.24, \"Trend\": -5.88, \"Win %\": 51.4, \"Role %\": 81.24, \"Pick %\": 5.26, \"Ban %\": 5.33, \"KDA\": 1.92, \"Pred\": 52.172168033758155, \"isMid\": false, \"Mid Champs\": 0, \"pred win\": 0, \"pred_win1\": 0.2909827416576457}, {\"Name\": \"Nasus\", \"Class\": \"Fighter\", \"Role\": \"MID\", \"Tier\": \"B\", \"Score\": 42.5, \"Trend\": 1.0, \"Win %\": 51.71, \"Role %\": 11.6, \"Pick %\": 0.58, \"Ban %\": 5.33, \"KDA\": 2.2, \"Pred\": 52.78429141031245, \"isMid\": true, \"Mid Champs\": 1, \"pred win\": 0, \"pred_win1\": 0.30477444457053715}, {\"Name\": \"Nautilus\", \"Class\": \"Tank\", \"Role\": \"SUPPORT\", \"Tier\": \"God\", \"Score\": 87.81, \"Trend\": 8.42, \"Win %\": 50.82, \"Role %\": 96.15, \"Pick %\": 11.97, \"Ban %\": 14.67, \"KDA\": 2.3, \"Pred\": 51.02690494214046, \"isMid\": false, \"Mid Champs\": 0, \"pred win\": 0, \"pred_win1\": 0.2661959891607698}, {\"Name\": \"Neeko\", \"Class\": \"Mage\", \"Role\": \"MID\", \"Tier\": \"A\", \"Score\": 54.1, \"Trend\": -11.96, \"Win %\": 51.61, \"Role %\": 47.72, \"Pick %\": 3.25, \"Ban %\": 15.44, \"KDA\": 2.51, \"Pred\": 52.586832256585254, \"isMid\": true, \"Mid Champs\": 1, \"pred win\": 0, \"pred_win1\": 0.3002854275427224}, {\"Name\": \"Neeko\", \"Class\": \"Mage\", \"Role\": \"SUPPORT\", \"Tier\": \"B\", \"Score\": 44.74, \"Trend\": -2.19, \"Win %\": 49.94, \"Role %\": 37.24, \"Pick %\": 2.75, \"Ban %\": 15.44, \"KDA\": 2.02, \"Pred\": 49.2892643893412, \"isMid\": false, \"Mid Champs\": 0, \"pred win\": 0, \"pred_win1\": 0.23125710931271562}, {\"Name\": \"Nidalee\", \"Class\": \"Assassin\", \"Role\": \"JUNGLE\", \"Tier\": \"A\", \"Score\": 54.05, \"Trend\": 6.14, \"Win %\": 48.74, \"Role %\": 90.77, \"Pick %\": 5.29, \"Ban %\": 5.7, \"KDA\": 2.92, \"Pred\": 46.91975454461493, \"isMid\": false, \"Mid Champs\": 0, \"pred win\": 0, \"pred_win1\": 0.18899973181333676}, {\"Name\": \"Nilah\", \"Class\": \"Marksman\", \"Role\": \"ADC\", \"Tier\": \"B\", \"Score\": 45.72, \"Trend\": 5.1, \"Win %\": 52.55, \"Role %\": 97.23, \"Pick %\": 3.03, \"Ban %\": 5.33, \"KDA\": 2.25, \"Pred\": 54.44294830162083, \"isMid\": false, \"Mid Champs\": 0, \"pred win\": 0, \"pred_win1\": 0.34390121352953174}, {\"Name\": \"Nocturne\", \"Class\": \"Assassin\", \"Role\": \"JUNGLE\", \"Tier\": \"A\", \"Score\": 56.43, \"Trend\": 3.43, \"Win %\": 51.84, \"Role %\": 94.08, \"Pick %\": 4.79, \"Ban %\": 4.66, \"KDA\": 2.65, \"Pred\": 53.0409883101578, \"isMid\": false, \"Mid Champs\": 0, \"pred win\": 0, \"pred_win1\": 0.3106660601819005}, {\"Name\": \"Nunu\", \"Class\": \"Tank\", \"Role\": \"JUNGLE\", \"Tier\": \"B\", \"Score\": 42.05, \"Trend\": -2.96, \"Win %\": 48.11, \"Role %\": 90.95, \"Pick %\": 3.81, \"Ban %\": 0.92, \"KDA\": 2.66, \"Pred\": 45.675761876133635, \"isMid\": false, \"Mid Champs\": 0, \"pred win\": 0, \"pred_win1\": 0.1693060565511657}, {\"Name\": \"Olaf\", \"Class\": \"Fighter\", \"Role\": \"TOP\", \"Tier\": \"A\", \"Score\": 48.79, \"Trend\": 0.53, \"Win %\": 51.34, \"Role %\": 86.29, \"Pick %\": 2.82, \"Ban %\": 3.77, \"KDA\": 1.74, \"Pred\": 52.053692541521855, \"isMid\": false, \"Mid Champs\": 0, \"pred win\": 0, \"pred_win1\": 0.28835625281656047}, {\"Name\": \"Olaf\", \"Class\": \"Fighter\", \"Role\": \"JUNGLE\", \"Tier\": \"D\", \"Score\": 22.96, \"Trend\": -3.37, \"Win %\": 48.21, \"Role %\": 10.8, \"Pick %\": 0.31, \"Ban %\": 3.77, \"KDA\": 2.17, \"Pred\": 45.87322102986083, \"isMid\": false, \"Mid Champs\": 0, \"pred win\": 0, \"pred_win1\": 0.17231924725175998}, {\"Name\": \"Orianna\", \"Class\": \"Mage\", \"Role\": \"MID\", \"Tier\": \"A\", \"Score\": 50.56, \"Trend\": -0.15, \"Win %\": 50.69, \"Role %\": 89.37, \"Pick %\": 2.87, \"Ban %\": 0.27, \"KDA\": 2.76, \"Pred\": 50.77020804229511, \"isMid\": true, \"Mid Champs\": 1, \"pred win\": 0, \"pred_win1\": 0.26082861936695984}, {\"Name\": \"Ornn\", \"Class\": \"Tank\", \"Role\": \"TOP\", \"Tier\": \"S\", \"Score\": 60.18, \"Trend\": -1.99, \"Win %\": 50.28, \"Role %\": 93.53, \"Pick %\": 4.4, \"Ban %\": 1.16, \"KDA\": 2.4, \"Pred\": 49.960625512013635, \"isMid\": false, \"Mid Champs\": 0, \"pred win\": 0, \"pred_win1\": 0.2443655458024944}, {\"Name\": \"Pantheon\", \"Class\": \"Fighter\", \"Role\": \"MID\", \"Tier\": \"A\", \"Score\": 49.94, \"Trend\": -2.96, \"Win %\": 51.3, \"Role %\": 32.08, \"Pick %\": 2.89, \"Ban %\": 5.56, \"KDA\": 2.29, \"Pred\": 51.97470888003096, \"isMid\": true, \"Mid Champs\": 1, \"pred win\": 0, \"pred_win1\": 0.286613116966705}, {\"Name\": \"Pantheon\", \"Class\": \"Fighter\", \"Role\": \"TOP\", \"Tier\": \"A\", \"Score\": 49.25, \"Trend\": 3.86, \"Win %\": 50.86, \"Role %\": 32.83, \"Pick %\": 2.7, \"Ban %\": 5.56, \"KDA\": 2.03, \"Pred\": 51.10588860363133, \"isMid\": false, \"Mid Champs\": 0, \"pred win\": 0, \"pred_win1\": 0.26786157585409237}, {\"Name\": \"Pantheon\", \"Class\": \"Fighter\", \"Role\": \"SUPPORT\", \"Tier\": \"C\", \"Score\": 36.47, \"Trend\": 1.46, \"Win %\": 47.4, \"Role %\": 25.58, \"Pick %\": 2.33, \"Ban %\": 5.56, \"KDA\": 1.85, \"Pred\": 44.27380188467059, \"isMid\": false, \"Mid Champs\": 0, \"pred win\": 0, \"pred_win1\": 0.14910934965859338}, {\"Name\": \"Poppy\", \"Class\": \"Tank\", \"Role\": \"TOP\", \"Tier\": \"A\", \"Score\": 49.74, \"Trend\": 0.42, \"Win %\": 51.66, \"Role %\": 42.02, \"Pick %\": 2.35, \"Ban %\": 2.98, \"KDA\": 2.21, \"Pred\": 52.685561833448844, \"isMid\": false, \"Mid Champs\": 0, \"pred win\": 0, \"pred_win1\": 0.30252522126896364}, {\"Name\": \"Poppy\", \"Class\": \"Tank\", \"Role\": \"JUNGLE\", \"Tier\": \"B\", \"Score\": 44.39, \"Trend\": 0.46, \"Win %\": 50.7, \"Role %\": 49.46, \"Pick %\": 2.64, \"Ban %\": 2.98, \"KDA\": 2.89, \"Pred\": 50.789953957667834, \"isMid\": false, \"Mid Champs\": 0, \"pred win\": 0, \"pred_win1\": 0.26123899786426447}, {\"Name\": \"Pyke\", \"Class\": \"Support\", \"Role\": \"SUPPORT\", \"Tier\": \"S\", \"Score\": 67.1, \"Trend\": 4.07, \"Win %\": 49.12, \"Role %\": 95.33, \"Pick %\": 8.26, \"Ban %\": 12.75, \"KDA\": 2.16, \"Pred\": 47.670099328778235, \"isMid\": false, \"Mid Champs\": 0, \"pred win\": 0, \"pred_win1\": 0.20170387616672844}, {\"Name\": \"Qiyana\", \"Class\": \"Assassin\", \"Role\": \"MID\", \"Tier\": \"A\", \"Score\": 47.41, \"Trend\": 5.15, \"Win %\": 50.02, \"Role %\": 82.89, \"Pick %\": 3.1, \"Ban %\": 1.14, \"KDA\": 2.2, \"Pred\": 49.44723171232296, \"isMid\": true, \"Mid Champs\": 1, \"pred win\": 0, \"pred_win1\": 0.23429666420003195}, {\"Name\": \"Qiyana\", \"Class\": \"Assassin\", \"Role\": \"JUNGLE\", \"Tier\": \"D\", \"Score\": 20.78, \"Trend\": -2.99, \"Win %\": 46.71, \"Role %\": 11.0, \"Pick %\": 0.39, \"Ban %\": 1.14, \"KDA\": 2.34, \"Pred\": 42.91133372395299, \"isMid\": false, \"Mid Champs\": 0, \"pred win\": 0, \"pred_win1\": 0.1314271118196415}, {\"Name\": \"Quinn\", \"Class\": \"Marksman\", \"Role\": \"TOP\", \"Tier\": \"A\", \"Score\": 49.07, \"Trend\": 5.45, \"Win %\": 52.52, \"Role %\": 80.07, \"Pick %\": 2.25, \"Ban %\": 1.36, \"KDA\": 1.97, \"Pred\": 54.38371055550269, \"isMid\": false, \"Mid Champs\": 0, \"pred win\": 0, \"pred_win1\": 0.3424625686805159}, {\"Name\": \"Quinn\", \"Class\": \"Marksman\", \"Role\": \"MID\", \"Tier\": \"B\", \"Score\": 44.2, \"Trend\": -2.63, \"Win %\": 52.97, \"Role %\": 11.23, \"Pick %\": 0.29, \"Ban %\": 1.36, \"KDA\": 2.28, \"Pred\": 55.27227674727503, \"isMid\": true, \"Mid Champs\": 1, \"pred win\": 0, \"pred_win1\": 0.3643337767428079}, {\"Name\": \"Rakan\", \"Class\": \"Support\", \"Role\": \"SUPPORT\", \"Tier\": \"God\", \"Score\": 70.91, \"Trend\": 3.7, \"Win %\": 51.57, \"Role %\": 98.95, \"Pick %\": 8.24, \"Ban %\": 1.93, \"KDA\": 2.9, \"Pred\": 52.50784859509437, \"isMid\": false, \"Mid Champs\": 0, \"pred win\": 0, \"pred_win1\": 0.29850042676385946}, {\"Name\": \"Rammus\", \"Class\": \"Tank\", \"Role\": \"JUNGLE\", \"Tier\": \"A\", \"Score\": 49.63, \"Trend\": -1.58, \"Win %\": 51.87, \"Role %\": 80.9, \"Pick %\": 2.69, \"Ban %\": 8.45, \"KDA\": 3.11, \"Pred\": 53.10022605627594, \"isMid\": false, \"Mid Champs\": 0, \"pred win\": 0, \"pred_win1\": 0.312034518924454}, {\"Name\": \"Rammus\", \"Class\": \"Tank\", \"Role\": \"TOP\", \"Tier\": \"D\", \"Score\": 30.44, \"Trend\": -3.91, \"Win %\": 50.24, \"Role %\": 15.06, \"Pick %\": 0.43, \"Ban %\": 8.45, \"KDA\": 1.61, \"Pred\": 49.88164185052277, \"isMid\": false, \"Mid Champs\": 0, \"pred win\": 0, \"pred_win1\": 0.24279760850338508}, {\"Name\": \"Rek'Sai\", \"Class\": \"Fighter\", \"Role\": \"JUNGLE\", \"Tier\": \"S\", \"Score\": 69.23, \"Trend\": -9.71, \"Win %\": 52.87, \"Role %\": 91.38, \"Pick %\": 5.5, \"Ban %\": 18.74, \"KDA\": 2.79, \"Pred\": 55.074817593547834, \"isMid\": false, \"Mid Champs\": 0, \"pred win\": 0, \"pred_win1\": 0.3594210354514595}, {\"Name\": \"Rell\", \"Class\": \"Tank\", \"Role\": \"SUPPORT\", \"Tier\": \"God\", \"Score\": 80.81, \"Trend\": 11.71, \"Win %\": 54.34, \"Role %\": 85.97, \"Pick %\": 7.93, \"Ban %\": 13.06, \"KDA\": 2.95, \"Pred\": 57.97746715333753, \"isMid\": false, \"Mid Champs\": 0, \"pred win\": 0, \"pred_win1\": 0.43410063291816625}, {\"Name\": \"Rell\", \"Class\": \"Tank\", \"Role\": \"JUNGLE\", \"Tier\": \"B\", \"Score\": 46.63, \"Trend\": 0.0, \"Win %\": 52.51, \"Role %\": 13.0, \"Pick %\": 1.15, \"Ban %\": 13.06, \"KDA\": 3.58, \"Pred\": 54.36396464012995, \"isMid\": false, \"Mid Champs\": 0, \"pred win\": 0, \"pred_win1\": 0.3419836616294417}, {\"Name\": \"Renata Glasc\", \"Class\": \"Support\", \"Role\": \"SUPPORT\", \"Tier\": \"B\", \"Score\": 44.57, \"Trend\": -0.25, \"Win %\": 51.03, \"Role %\": 98.68, \"Pick %\": 1.93, \"Ban %\": 0.5, \"KDA\": 2.64, \"Pred\": 51.44156916496756, \"isMid\": false, \"Mid Champs\": 0, \"pred win\": 0, \"pred_win1\": 0.2750136129641014}, {\"Name\": \"Renekton\", \"Class\": \"Fighter\", \"Role\": \"TOP\", \"Tier\": \"God\", \"Score\": 77.61, \"Trend\": 12.07, \"Win %\": 50.03, \"Role %\": 91.06, \"Pick %\": 7.64, \"Ban %\": 3.83, \"KDA\": 1.9, \"Pred\": 49.46697762769567, \"isMid\": false, \"Mid Champs\": 0, \"pred win\": 0, \"pred_win1\": 0.23467855164679974}, {\"Name\": \"Rengar\", \"Class\": \"Assassin\", \"Role\": \"JUNGLE\", \"Tier\": \"S\", \"Score\": 62.69, \"Trend\": 0.83, \"Win %\": 49.97, \"Role %\": 82.23, \"Pick %\": 5.92, \"Ban %\": 21.29, \"KDA\": 2.37, \"Pred\": 49.348502135459356, \"isMid\": false, \"Mid Champs\": 0, \"pred win\": 0, \"pred_win1\": 0.23239370204001678}, {\"Name\": \"Rengar\", \"Class\": \"Assassin\", \"Role\": \"TOP\", \"Tier\": \"C\", \"Score\": 39.96, \"Trend\": -1.09, \"Win %\": 50.65, \"Role %\": 14.21, \"Pick %\": 1.06, \"Ban %\": 21.29, \"KDA\": 2.02, \"Pred\": 50.69122438080423, \"isMid\": false, \"Mid Champs\": 0, \"pred win\": 0, \"pred_win1\": 0.2591912823943446}, {\"Name\": \"Riven\", \"Class\": \"Fighter\", \"Role\": \"TOP\", \"Tier\": \"A\", \"Score\": 55.5, \"Trend\": 0.6, \"Win %\": 50.19, \"Role %\": 89.32, \"Pick %\": 4.32, \"Ban %\": 1.51, \"KDA\": 1.81, \"Pred\": 49.782912273659164, \"isMid\": false, \"Mid Champs\": 0, \"pred win\": 0, \"pred_win1\": 0.24084731913817703}, {\"Name\": \"Rumble\", \"Class\": \"Fighter\", \"Role\": \"MID\", \"Tier\": \"B\", \"Score\": 47.23, \"Trend\": 6.27, \"Win %\": 53.2, \"Role %\": 18.85, \"Pick %\": 0.65, \"Ban %\": 1.37, \"KDA\": 2.58, \"Pred\": 55.72643280084756, \"isMid\": true, \"Mid Champs\": 1, \"pred win\": 0, \"pred_win1\": 0.3757395609984254}, {\"Name\": \"Rumble\", \"Class\": \"Fighter\", \"Role\": \"TOP\", \"Tier\": \"B\", \"Score\": 45.51, \"Trend\": 3.43, \"Win %\": 50.28, \"Role %\": 65.29, \"Pick %\": 2.31, \"Ban %\": 1.37, \"KDA\": 2.12, \"Pred\": 49.960625512013635, \"isMid\": false, \"Mid Champs\": 0, \"pred win\": 0, \"pred_win1\": 0.2443655458024944}, {\"Name\": \"Rumble\", \"Class\": \"Fighter\", \"Role\": \"JUNGLE\", \"Tier\": \"D\", \"Score\": 31.2, \"Trend\": 2.43, \"Win %\": 49.62, \"Role %\": 13.22, \"Pick %\": 0.47, \"Ban %\": 1.37, \"KDA\": 2.86, \"Pred\": 48.65739509741418, \"isMid\": false, \"Mid Champs\": 0, \"pred win\": 0, \"pred_win1\": 0.21937616643744723}, {\"Name\": \"Ryze\", \"Class\": \"Mage\", \"Role\": \"MID\", \"Tier\": \"B\", \"Score\": 45.59, \"Trend\": -0.42, \"Win %\": 50.26, \"Role %\": 82.64, \"Pick %\": 2.18, \"Ban %\": 0.23, \"KDA\": 2.35, \"Pred\": 49.9211336812682, \"isMid\": true, \"Mid Champs\": 1, \"pred win\": 0, \"pred_win1\": 0.2435807218065115}, {\"Name\": \"Ryze\", \"Class\": \"Mage\", \"Role\": \"TOP\", \"Tier\": \"C\", \"Score\": 35.71, \"Trend\": -1.31, \"Win %\": 51.59, \"Role %\": 14.87, \"Pick %\": 0.41, \"Ban %\": 0.23, \"KDA\": 1.98, \"Pred\": 52.54734042583982, \"isMid\": false, \"Mid Champs\": 0, \"pred win\": 0, \"pred_win1\": 0.2993921653392352}, {\"Name\": \"Samira\", \"Class\": \"Marksman\", \"Role\": \"ADC\", \"Tier\": \"S\", \"Score\": 57.04, \"Trend\": -4.91, \"Win %\": 49.47, \"Role %\": 97.6, \"Pick %\": 10.77, \"Ban %\": 21.63, \"KDA\": 2.19, \"Pred\": 48.36120636682341, \"isMid\": false, \"Mid Champs\": 0, \"pred win\": 0, \"pred_win1\": 0.21396018208303696}, {\"Name\": \"Sejuani\", \"Class\": \"Tank\", \"Role\": \"JUNGLE\", \"Tier\": \"A\", \"Score\": 49.91, \"Trend\": 3.2, \"Win %\": 50.44, \"Role %\": 85.88, \"Pick %\": 3.52, \"Ban %\": 0.72, \"KDA\": 3.27, \"Pred\": 50.276560157977144, \"isMid\": false, \"Mid Champs\": 0, \"pred win\": 0, \"pred_win1\": 0.2507055328507256}, {\"Name\": \"Senna\", \"Class\": \"Marksman\", \"Role\": \"SUPPORT\", \"Tier\": \"S\", \"Score\": 62.66, \"Trend\": 1.54, \"Win %\": 50.84, \"Role %\": 91.84, \"Pick %\": 6.86, \"Ban %\": 2.56, \"KDA\": 2.51, \"Pred\": 51.06639677288591, \"isMid\": false, \"Mid Champs\": 0, \"pred win\": 0, \"pred_win1\": 0.267027956975774}, {\"Name\": \"Seraphine\", \"Class\": \"Mage\", \"Role\": \"SUPPORT\", \"Tier\": \"A\", \"Score\": 52.34, \"Trend\": 0.66, \"Win %\": 49.76, \"Role %\": 66.64, \"Pick %\": 4.81, \"Ban %\": 1.33, \"KDA\": 2.45, \"Pred\": 48.93383791263226, \"isMid\": false, \"Mid Champs\": 0, \"pred win\": 0, \"pred_win1\": 0.2245193905495187}, {\"Name\": \"Seraphine\", \"Class\": \"Mage\", \"Role\": \"ADC\", \"Tier\": \"A\", \"Score\": 49.21, \"Trend\": 9.81, \"Win %\": 53.81, \"Role %\": 22.28, \"Pick %\": 1.28, \"Ban %\": 1.33, \"KDA\": 3.0, \"Pred\": 56.930933638583426, \"isMid\": false, \"Mid Champs\": 0, \"pred win\": 0, \"pred_win1\": 0.40663451248075955}, {\"Name\": \"Seraphine\", \"Class\": \"Mage\", \"Role\": \"MID\", \"Tier\": \"B\", \"Score\": 46.72, \"Trend\": 1.94, \"Win %\": 51.81, \"Role %\": 10.71, \"Pick %\": 0.75, \"Ban %\": 1.33, \"KDA\": 2.93, \"Pred\": 52.98175056403964, \"isMid\": true, \"Mid Champs\": 1, \"pred win\": 0, \"pred_win1\": 0.30930090474535793}, {\"Name\": \"Sett\", \"Class\": \"Fighter\", \"Role\": \"TOP\", \"Tier\": \"S\", \"Score\": 65.36, \"Trend\": 0.03, \"Win %\": 49.81, \"Role %\": 82.55, \"Pick %\": 6.05, \"Ban %\": 3.17, \"KDA\": 1.69, \"Pred\": 49.03256748949586, \"isMid\": false, \"Mid Champs\": 0, \"pred win\": 0, \"pred_win1\": 0.22637688937919398}, {\"Name\": \"Shaco\", \"Class\": \"Assassin\", \"Role\": \"JUNGLE\", \"Tier\": \"S\", \"Score\": 58.88, \"Trend\": -1.71, \"Win %\": 48.97, \"Role %\": 74.03, \"Pick %\": 5.6, \"Ban %\": 16.77, \"KDA\": 2.7, \"Pred\": 47.373910598187464, \"isMid\": false, \"Mid Champs\": 0, \"pred win\": 0, \"pred_win1\": 0.19661429840770148}, {\"Name\": \"Shaco\", \"Class\": \"Assassin\", \"Role\": \"SUPPORT\", \"Tier\": \"C\", \"Score\": 36.03, \"Trend\": -2.37, \"Win %\": 47.6, \"Role %\": 18.41, \"Pick %\": 1.43, \"Ban %\": 16.77, \"KDA\": 2.29, \"Pred\": 44.66872019212498, \"isMid\": false, \"Mid Champs\": 0, \"pred win\": 0, \"pred_win1\": 0.15458881821575882}, {\"Name\": \"Shen\", \"Class\": \"Tank\", \"Role\": \"TOP\", \"Tier\": \"S\", \"Score\": 57.59, \"Trend\": 1.12, \"Win %\": 51.53, \"Role %\": 82.25, \"Pick %\": 2.91, \"Ban %\": 0.46, \"KDA\": 2.95, \"Pred\": 52.428864933603506, \"isMid\": false, \"Mid Champs\": 0, \"pred win\": 0, \"pred_win1\": 0.29672153708210297}, {\"Name\": \"Shen\", \"Class\": \"Tank\", \"Role\": \"SUPPORT\", \"Tier\": \"D\", \"Score\": 30.62, \"Trend\": -3.85, \"Win %\": 46.95, \"Role %\": 10.97, \"Pick %\": 0.38, \"Ban %\": 0.46, \"KDA\": 2.52, \"Pred\": 43.38523569289825, \"isMid\": false, \"Mid Champs\": 0, \"pred win\": 0, \"pred_win1\": 0.13736621078175748}, {\"Name\": \"Shyvana\", \"Class\": \"Fighter\", \"Role\": \"JUNGLE\", \"Tier\": \"D\", \"Score\": 31.35, \"Trend\": -1.37, \"Win %\": 49.07, \"Role %\": 81.87, \"Pick %\": 1.34, \"Ban %\": 0.34, \"KDA\": 2.44, \"Pred\": 47.571369751914645, \"isMid\": false, \"Mid Champs\": 0, \"pred win\": 0, \"pred_win1\": 0.19999649040964287}, {\"Name\": \"Shyvana\", \"Class\": \"Fighter\", \"Role\": \"TOP\", \"Tier\": \"D\", \"Score\": 28.01, \"Trend\": 1.2, \"Win %\": 49.04, \"Role %\": 11.87, \"Pick %\": 0.21, \"Ban %\": 0.4, \"KDA\": 1.88, \"Pred\": 47.51213200579649, \"isMid\": false, \"Mid Champs\": 0, \"pred win\": 0, \"pred_win1\": 0.19897727350403585}, {\"Name\": \"Singed\", \"Class\": \"Tank\", \"Role\": \"MID\", \"Tier\": \"A\", \"Score\": 48.88, \"Trend\": 0.0, \"Win %\": 54.3, \"Role %\": 10.14, \"Pick %\": 0.22, \"Ban %\": 0.41, \"KDA\": 2.79, \"Pred\": 57.89848349184663, \"isMid\": true, \"Mid Champs\": 1, \"pred win\": 0, \"pred_win1\": 0.43201130381609687}, {\"Name\": \"Singed\", \"Class\": \"Tank\", \"Role\": \"TOP\", \"Tier\": \"B\", \"Score\": 40.16, \"Trend\": 0.15, \"Win %\": 50.48, \"Role %\": 77.44, \"Pick %\": 1.56, \"Ban %\": 0.43, \"KDA\": 1.97, \"Pred\": 50.35554381946801, \"isMid\": false, \"Mid Champs\": 0, \"pred win\": 0, \"pred_win1\": 0.25230752161266695}, {\"Name\": \"Sion\", \"Class\": \"Tank\", \"Role\": \"TOP\", \"Tier\": \"S\", \"Score\": 57.0, \"Trend\": -5.09, \"Win %\": 49.47, \"Role %\": 78.9, \"Pick %\": 4.99, \"Ban %\": 2.62, \"KDA\": 1.62, \"Pred\": 48.36120636682341, \"isMid\": false, \"Mid Champs\": 0, \"pred win\": 0, \"pred_win1\": 0.21396018208303696}, {\"Name\": \"Sion\", \"Class\": \"Tank\", \"Role\": \"MID\", \"Tier\": \"C\", \"Score\": 35.89, \"Trend\": -2.49, \"Win %\": 50.31, \"Role %\": 10.7, \"Pick %\": 0.66, \"Ban %\": 2.62, \"KDA\": 1.32, \"Pred\": 50.01986325813181, \"isMid\": true, \"Mid Champs\": 1, \"pred win\": 0, \"pred_win1\": 0.24554598601879904}, {\"Name\": \"Sivir\", \"Class\": \"Marksman\", \"Role\": \"ADC\", \"Tier\": \"B\", \"Score\": 42.9, \"Trend\": 6.74, \"Win %\": 50.57, \"Role %\": 97.18, \"Pick %\": 3.2, \"Ban %\": 0.65, \"KDA\": 2.37, \"Pred\": 50.53325705782248, \"isMid\": false, \"Mid Champs\": 0, \"pred win\": 0, \"pred_win1\": 0.2559367167398204}, {\"Name\": \"Skarner\", \"Class\": \"Fighter\", \"Role\": \"JUNGLE\", \"Tier\": \"C\", \"Score\": 38.1, \"Trend\": 2.14, \"Win %\": 52.13, \"Role %\": 78.56, \"Pick %\": 0.86, \"Ban %\": 0.2, \"KDA\": 2.72, \"Pred\": 53.61361985596665, \"isMid\": false, \"Mid Champs\": 0, \"pred win\": 0, \"pred_win1\": 0.3240304279794411}, {\"Name\": \"Skarner\", \"Class\": \"Fighter\", \"Role\": \"TOP\", \"Tier\": \"D\", \"Score\": 30.61, \"Trend\": 2.28, \"Win %\": 49.34, \"Role %\": 16.44, \"Pick %\": 0.14, \"Ban %\": 0.18, \"KDA\": 2.21, \"Pred\": 48.10450946697807, \"isMid\": false, \"Mid Champs\": 0, \"pred win\": 0, \"pred_win1\": 0.2093455771047759}, {\"Name\": \"Sona\", \"Class\": \"Support\", \"Role\": \"SUPPORT\", \"Tier\": \"A\", \"Score\": 53.15, \"Trend\": 1.33, \"Win %\": 52.29, \"Role %\": 97.95, \"Pick %\": 3.36, \"Ban %\": 0.19, \"KDA\": 2.85, \"Pred\": 53.92955450193014, \"isMid\": false, \"Mid Champs\": 0, \"pred win\": 0, \"pred_win1\": 0.33153046293180666}, {\"Name\": \"Soraka\", \"Class\": \"Support\", \"Role\": \"SUPPORT\", \"Tier\": \"S\", \"Score\": 60.35, \"Trend\": 1.97, \"Win %\": 51.66, \"Role %\": 96.76, \"Pick %\": 5.62, \"Ban %\": 1.61, \"KDA\": 2.77, \"Pred\": 52.685561833448844, \"isMid\": false, \"Mid Champs\": 0, \"pred win\": 0, \"pred_win1\": 0.30252522126896364}, {\"Name\": \"Swain\", \"Class\": \"Mage\", \"Role\": \"ADC\", \"Tier\": \"A\", \"Score\": 50.89, \"Trend\": 0.0, \"Win %\": 55.5, \"Role %\": 11.54, \"Pick %\": 0.51, \"Ban %\": 2.91, \"KDA\": 2.98, \"Pred\": 60.267993336572914, \"isMid\": false, \"Mid Champs\": 0, \"pred win\": 0, \"pred_win1\": 0.4954117720757121}, {\"Name\": \"Swain\", \"Class\": \"Mage\", \"Role\": \"MID\", \"Tier\": \"A\", \"Score\": 49.53, \"Trend\": 2.35, \"Win %\": 52.94, \"Role %\": 24.19, \"Pick %\": 1.29, \"Ban %\": 2.91, \"KDA\": 2.72, \"Pred\": 55.21303900115687, \"isMid\": true, \"Mid Champs\": 1, \"pred win\": 0, \"pred_win1\": 0.36285692871810676}, {\"Name\": \"Swain\", \"Class\": \"Mage\", \"Role\": \"SUPPORT\", \"Tier\": \"A\", \"Score\": 49.45, \"Trend\": 2.38, \"Win %\": 50.54, \"Role %\": 57.41, \"Pick %\": 3.69, \"Ban %\": 2.91, \"KDA\": 2.34, \"Pred\": 50.474019311704325, \"isMid\": false, \"Mid Champs\": 0, \"pred win\": 0, \"pred_win1\": 0.2547231892780585}, {\"Name\": \"Sylas\", \"Class\": \"Mage\", \"Role\": \"MID\", \"Tier\": \"A\", \"Score\": 55.65, \"Trend\": 0.17, \"Win %\": 49.23, \"Role %\": 57.23, \"Pick %\": 5.79, \"Ban %\": 8.24, \"KDA\": 2.13, \"Pred\": 47.887304397878154, \"isMid\": true, \"Mid Champs\": 1, \"pred win\": 0, \"pred_win1\": 0.20549839463189565}, {\"Name\": \"Sylas\", \"Class\": \"Mage\", \"Role\": \"JUNGLE\", \"Tier\": \"C\", \"Score\": 39.44, \"Trend\": -0.52, \"Win %\": 48.69, \"Role %\": 30.22, \"Pick %\": 3.05, \"Ban %\": 8.24, \"KDA\": 2.4, \"Pred\": 46.82102496775133, \"isMid\": false, \"Mid Champs\": 0, \"pred win\": 0, \"pred_win1\": 0.18737464309435733}, {\"Name\": \"Syndra\", \"Class\": \"Mage\", \"Role\": \"MID\", \"Tier\": \"A\", \"Score\": 56.32, \"Trend\": 2.63, \"Win %\": 50.55, \"Role %\": 92.2, \"Pick %\": 5.32, \"Ban %\": 2.87, \"KDA\": 2.29, \"Pred\": 50.49376522707705, \"isMid\": true, \"Mid Champs\": 1, \"pred win\": 0, \"pred_win1\": 0.2551272772718757}, {\"Name\": \"Tahm Kench\", \"Class\": \"Support\", \"Role\": \"TOP\", \"Tier\": \"C\", \"Score\": 38.72, \"Trend\": -1.8, \"Win %\": 48.0, \"Role %\": 62.72, \"Pick %\": 1.84, \"Ban %\": 0.89, \"KDA\": 2.32, \"Pred\": 45.45855680703373, \"isMid\": false, \"Mid Champs\": 0, \"pred win\": 0, \"pred_win1\": 0.16604016434804533}, {\"Name\": \"Tahm Kench\", \"Class\": \"Support\", \"Role\": \"SUPPORT\", \"Tier\": \"C\", \"Score\": 34.87, \"Trend\": -5.55, \"Win %\": 49.08, \"Role %\": 27.7, \"Pick %\": 0.74, \"Ban %\": 0.96, \"KDA\": 2.25, \"Pred\": 47.59111566728737, \"isMid\": false, \"Mid Champs\": 0, \"pred win\": 0, \"pred_win1\": 0.20033709830886445}, {\"Name\": \"Taliyah\", \"Class\": \"Mage\", \"Role\": \"MID\", \"Tier\": \"B\", \"Score\": 44.88, \"Trend\": 2.15, \"Win %\": 51.6, \"Role %\": 62.89, \"Pick %\": 1.24, \"Ban %\": 0.34, \"KDA\": 2.32, \"Pred\": 52.567086341212544, \"isMid\": true, \"Mid Champs\": 1, \"pred win\": 0, \"pred_win1\": 0.2998386062488885}, {\"Name\": \"Taliyah\", \"Class\": \"Mage\", \"Role\": \"JUNGLE\", \"Tier\": \"D\", \"Score\": 33.28, \"Trend\": 2.33, \"Win %\": 50.82, \"Role %\": 23.12, \"Pick %\": 0.45, \"Ban %\": 0.34, \"KDA\": 2.75, \"Pred\": 51.02690494214046, \"isMid\": false, \"Mid Champs\": 0, \"pred win\": 0, \"pred_win1\": 0.2661959891607698}, {\"Name\": \"Talon\", \"Class\": \"Assassin\", \"Role\": \"MID\", \"Tier\": \"A\", \"Score\": 52.37, \"Trend\": 0.53, \"Win %\": 51.25, \"Role %\": 71.73, \"Pick %\": 3.76, \"Ban %\": 2.44, \"KDA\": 2.29, \"Pred\": 51.87597930316737, \"isMid\": true, \"Mid Champs\": 1, \"pred win\": 0, \"pred_win1\": 0.2844430868466742}, {\"Name\": \"Talon\", \"Class\": \"Assassin\", \"Role\": \"JUNGLE\", \"Tier\": \"D\", \"Score\": 33.38, \"Trend\": -1.72, \"Win %\": 49.56, \"Role %\": 24.97, \"Pick %\": 1.39, \"Ban %\": 2.44, \"KDA\": 2.51, \"Pred\": 48.53891960517788, \"isMid\": false, \"Mid Champs\": 0, \"pred win\": 0, \"pred_win1\": 0.21719802012573855}, {\"Name\": \"Taric\", \"Class\": \"Support\", \"Role\": \"SUPPORT\", \"Tier\": \"A\", \"Score\": 47.44, \"Trend\": -1.88, \"Win %\": 52.17, \"Role %\": 91.8, \"Pick %\": 1.96, \"Ban %\": 0.42, \"KDA\": 2.78, \"Pred\": 53.69260351745751, \"isMid\": false, \"Mid Champs\": 0, \"pred win\": 0, \"pred_win1\": 0.325897170754523}, {\"Name\": \"Teemo\", \"Class\": \"Marksman\", \"Role\": \"TOP\", \"Tier\": \"S\", \"Score\": 58.84, \"Trend\": -1.71, \"Win %\": 50.72, \"Role %\": 70.59, \"Pick %\": 4.37, \"Ban %\": 7.02, \"KDA\": 1.72, \"Pred\": 50.82944578841327, \"isMid\": false, \"Mid Champs\": 0, \"pred win\": 0, \"pred_win1\": 0.26206100592639847}, {\"Name\": \"Teemo\", \"Class\": \"Marksman\", \"Role\": \"SUPPORT\", \"Tier\": \"D\", \"Score\": 30.82, \"Trend\": -4.14, \"Win %\": 47.98, \"Role %\": 10.89, \"Pick %\": 0.72, \"Ban %\": 7.69, \"KDA\": 1.73, \"Pred\": 45.41906497628828, \"isMid\": false, \"Mid Champs\": 0, \"pred win\": 0, \"pred_win1\": 0.16545181634678205}, {\"Name\": \"Thresh\", \"Class\": \"Support\", \"Role\": \"SUPPORT\", \"Tier\": \"God\", \"Score\": 91.09, \"Trend\": 6.4, \"Win %\": 50.65, \"Role %\": 95.92, \"Pick %\": 13.79, \"Ban %\": 5.98, \"KDA\": 2.58, \"Pred\": 50.69122438080423, \"isMid\": false, \"Mid Champs\": 0, \"pred win\": 0, \"pred_win1\": 0.2591912823943446}, {\"Name\": \"Tristana\", \"Class\": \"Marksman\", \"Role\": \"MID\", \"Tier\": \"B\", \"Score\": 47.21, \"Trend\": 4.01, \"Win %\": 50.67, \"Role %\": 31.64, \"Pick %\": 2.91, \"Ban %\": 3.62, \"KDA\": 1.99, \"Pred\": 50.73071621154968, \"isMid\": true, \"Mid Champs\": 1, \"pred win\": 0, \"pred_win1\": 0.26000911490140294}, {\"Name\": \"Tristana\", \"Class\": \"Marksman\", \"Role\": \"ADC\", \"Tier\": \"B\", \"Score\": 44.29, \"Trend\": 3.9, \"Win %\": 49.03, \"Role %\": 63.87, \"Pick %\": 6.15, \"Ban %\": 3.62, \"KDA\": 2.2, \"Pred\": 47.49238609042378, \"isMid\": false, \"Mid Champs\": 0, \"pred win\": 0, \"pred_win1\": 0.19863840325168147}, {\"Name\": \"Trundle\", \"Class\": \"Fighter\", \"Role\": \"JUNGLE\", \"Tier\": \"C\", \"Score\": 39.07, \"Trend\": 0.94, \"Win %\": 50.87, \"Role %\": 63.74, \"Pick %\": 1.84, \"Ban %\": 0.99, \"KDA\": 2.6, \"Pred\": 51.12563451900405, \"isMid\": false, \"Mid Champs\": 0, \"pred win\": 0, \"pred_win1\": 0.26827900361581525}, {\"Name\": \"Trundle\", \"Class\": \"Fighter\", \"Role\": \"TOP\", \"Tier\": \"C\", \"Score\": 35.29, \"Trend\": -1.63, \"Win %\": 51.56, \"Role %\": 31.04, \"Pick %\": 0.8, \"Ban %\": 0.99, \"KDA\": 1.58, \"Pred\": 52.48810267972166, \"isMid\": false, \"Mid Champs\": 0, \"pred win\": 0, \"pred_win1\": 0.2980551301372939}, {\"Name\": \"Tryndamere\", \"Class\": \"Fighter\", \"Role\": \"MID\", \"Tier\": \"B\", \"Score\": 41.47, \"Trend\": 1.77, \"Win %\": 51.99, \"Role %\": 11.3, \"Pick %\": 0.32, \"Ban %\": 2.05, \"KDA\": 2.07, \"Pred\": 53.33717704074857, \"isMid\": true, \"Mid Champs\": 1, \"pred win\": 0, \"pred_win1\": 0.3175410644126624}, {\"Name\": \"Tryndamere\", \"Class\": \"Fighter\", \"Role\": \"TOP\", \"Tier\": \"B\", \"Score\": 40.25, \"Trend\": -0.88, \"Win %\": 49.36, \"Role %\": 79.39, \"Pick %\": 2.21, \"Ban %\": 2.05, \"KDA\": 1.75, \"Pred\": 48.14400129772349, \"isMid\": false, \"Mid Champs\": 0, \"pred win\": 0, \"pred_win1\": 0.2100507256308179}, {\"Name\": \"Twisted Fate\", \"Class\": \"Mage\", \"Role\": \"MID\", \"Tier\": \"B\", \"Score\": 43.98, \"Trend\": -0.59, \"Win %\": 48.43, \"Role %\": 89.24, \"Pick %\": 3.0, \"Ban %\": 0.27, \"KDA\": 2.17, \"Pred\": 46.30763116806064, \"isMid\": true, \"Mid Champs\": 1, \"pred win\": 0, \"pred_win1\": 0.17909744886657186}, {\"Name\": \"Twitch\", \"Class\": \"Marksman\", \"Role\": \"ADC\", \"Tier\": \"B\", \"Score\": 46.23, \"Trend\": 3.18, \"Win %\": 51.04, \"Role %\": 76.3, \"Pick %\": 4.53, \"Ban %\": 4.54, \"KDA\": 2.37, \"Pred\": 51.46131508034027, \"isMid\": false, \"Mid Champs\": 0, \"pred win\": 0, \"pred_win1\": 0.2754379931920886}, {\"Name\": \"Twitch\", \"Class\": \"Marksman\", \"Role\": \"SUPPORT\", \"Tier\": \"D\", \"Score\": 33.25, \"Trend\": 0.76, \"Win %\": 48.49, \"Role %\": 12.59, \"Pick %\": 0.77, \"Ban %\": 4.54, \"KDA\": 2.08, \"Pred\": 46.42610666029695, \"isMid\": false, \"Mid Champs\": 0, \"pred win\": 0, \"pred_win1\": 0.18098184545091206}, {\"Name\": \"Udyr\", \"Class\": \"Fighter\", \"Role\": \"JUNGLE\", \"Tier\": \"C\", \"Score\": 39.12, \"Trend\": 0.8, \"Win %\": 49.9, \"Role %\": 80.64, \"Pick %\": 2.45, \"Ban %\": 2.1, \"KDA\": 2.5, \"Pred\": 49.21028072785032, \"isMid\": false, \"Mid Champs\": 0, \"pred win\": 0, \"pred_win1\": 0.22974770761530422}, {\"Name\": \"Udyr\", \"Class\": \"Fighter\", \"Role\": \"TOP\", \"Tier\": \"D\", \"Score\": 32.19, \"Trend\": 2.43, \"Win %\": 50.58, \"Role %\": 16.87, \"Pick %\": 0.52, \"Ban %\": 2.1, \"KDA\": 1.7, \"Pred\": 50.553002973195206, \"isMid\": false, \"Mid Champs\": 0, \"pred win\": 0, \"pred_win1\": 0.2563420676958666}, {\"Name\": \"Urgot\", \"Class\": \"Fighter\", \"Role\": \"TOP\", \"Tier\": \"B\", \"Score\": 46.28, \"Trend\": 0.42, \"Win %\": 50.96, \"Role %\": 90.93, \"Pick %\": 2.41, \"Ban %\": 1.0, \"KDA\": 1.94, \"Pred\": 51.30334775735852, \"isMid\": false, \"Mid Champs\": 0, \"pred win\": 0, \"pred_win1\": 0.27205434207163703}, {\"Name\": \"Varus\", \"Class\": \"Marksman\", \"Role\": \"ADC\", \"Tier\": \"B\", \"Score\": 45.2, \"Trend\": -1.82, \"Win %\": 49.65, \"Role %\": 76.66, \"Pick %\": 6.08, \"Ban %\": 2.39, \"KDA\": 2.21, \"Pred\": 48.71663284353234, \"isMid\": false, \"Mid Champs\": 0, \"pred win\": 0, \"pred_win1\": 0.2204711129564891}, {\"Name\": \"Varus\", \"Class\": \"Marksman\", \"Role\": \"TOP\", \"Tier\": \"D\", \"Score\": 28.59, \"Trend\": -14.81, \"Win %\": 47.32, \"Role %\": 13.88, \"Pick %\": 1.11, \"Ban %\": 2.39, \"KDA\": 1.71, \"Pred\": 44.11583456168884, \"isMid\": false, \"Mid Champs\": 0, \"pred win\": 0, \"pred_win1\": 0.14696282636552438}, {\"Name\": \"Vayne\", \"Class\": \"Marksman\", \"Role\": \"ADC\", \"Tier\": \"B\", \"Score\": 44.25, \"Trend\": 3.85, \"Win %\": 49.37, \"Role %\": 81.02, \"Pick %\": 6.32, \"Ban %\": 4.53, \"KDA\": 2.02, \"Pred\": 48.163747213096215, \"isMid\": false, \"Mid Champs\": 0, \"pred win\": 0, \"pred_win1\": 0.21040395316052107}, {\"Name\": \"Vayne\", \"Class\": \"Marksman\", \"Role\": \"TOP\", \"Tier\": \"C\", \"Score\": 35.52, \"Trend\": 4.94, \"Win %\": 50.52, \"Role %\": 15.47, \"Pick %\": 1.21, \"Ban %\": 4.53, \"KDA\": 1.55, \"Pred\": 50.434527480958906, \"isMid\": false, \"Mid Champs\": 0, \"pred win\": 0, \"pred_win1\": 0.25391627804762246}, {\"Name\": \"Veigar\", \"Class\": \"Mage\", \"Role\": \"MID\", \"Tier\": \"A\", \"Score\": 54.59, \"Trend\": -3.66, \"Win %\": 50.59, \"Role %\": 73.42, \"Pick %\": 4.86, \"Ban %\": 3.97, \"KDA\": 2.17, \"Pred\": 50.57274888856793, \"isMid\": true, \"Mid Champs\": 1, \"pred win\": 0, \"pred_win1\": 0.25674783911716426}, {\"Name\": \"Veigar\", \"Class\": \"Mage\", \"Role\": \"ADC\", \"Tier\": \"C\", \"Score\": 39.26, \"Trend\": 7.06, \"Win %\": 51.16, \"Role %\": 13.32, \"Pick %\": 0.82, \"Ban %\": 3.97, \"KDA\": 2.22, \"Pred\": 51.6982660648129, \"isMid\": false, \"Mid Champs\": 0, \"pred win\": 0, \"pred_win1\": 0.2805620888775237}, {\"Name\": \"Veigar\", \"Class\": \"Mage\", \"Role\": \"SUPPORT\", \"Tier\": \"D\", \"Score\": 28.09, \"Trend\": 0.0, \"Win %\": 46.5, \"Role %\": 10.67, \"Pick %\": 0.7, \"Ban %\": 4.32, \"KDA\": 1.8, \"Pred\": 42.49666950112589, \"isMid\": false, \"Mid Champs\": 0, \"pred win\": 0, \"pred_win1\": 0.12641050969168677}, {\"Name\": \"Vel'Koz\", \"Class\": \"Mage\", \"Role\": \"MID\", \"Tier\": \"B\", \"Score\": 44.1, \"Trend\": 2.21, \"Win %\": 51.38, \"Role %\": 29.58, \"Pick %\": 0.7, \"Ban %\": 0.41, \"KDA\": 2.6, \"Pred\": 52.13267620301272, \"isMid\": true, \"Mid Champs\": 1, \"pred win\": 0, \"pred_win1\": 0.2901056789506731}, {\"Name\": \"Vel'Koz\", \"Class\": \"Mage\", \"Role\": \"SUPPORT\", \"Tier\": \"B\", \"Score\": 41.32, \"Trend\": 1.55, \"Win %\": 50.97, \"Role %\": 65.61, \"Pick %\": 1.66, \"Ban %\": 0.41, \"KDA\": 2.14, \"Pred\": 51.32309367273125, \"isMid\": false, \"Mid Champs\": 0, \"pred win\": 0, \"pred_win1\": 0.2724758720395062}, {\"Name\": \"Vex\", \"Class\": \"Mage\", \"Role\": \"MID\", \"Tier\": \"A\", \"Score\": 50.2, \"Trend\": -2.15, \"Win %\": 50.6, \"Role %\": 93.02, \"Pick %\": 3.28, \"Ban %\": 3.76, \"KDA\": 2.37, \"Pred\": 50.59249480394065, \"isMid\": true, \"Mid Champs\": 1, \"pred win\": 0, \"pred_win1\": 0.2571540307385524}, {\"Name\": \"Vi\", \"Class\": \"Fighter\", \"Role\": \"JUNGLE\", \"Tier\": \"B\", \"Score\": 42.18, \"Trend\": -13.38, \"Win %\": 48.51, \"Role %\": 94.59, \"Pick %\": 4.05, \"Ban %\": 1.94, \"KDA\": 2.3, \"Pred\": 46.465598491042385, \"isMid\": false, \"Mid Champs\": 0, \"pred win\": 0, \"pred_win1\": 0.18161340038140503}, {\"Name\": \"Viego\", \"Class\": \"Assassin\", \"Role\": \"JUNGLE\", \"Tier\": \"S\", \"Score\": 70.33, \"Trend\": 5.05, \"Win %\": 49.72, \"Role %\": 95.17, \"Pick %\": 9.12, \"Ban %\": 2.56, \"KDA\": 2.47, \"Pred\": 48.854854251141376, \"isMid\": false, \"Mid Champs\": 0, \"pred win\": 0, \"pred_win1\": 0.223041206257376}, {\"Name\": \"Viktor\", \"Class\": \"Mage\", \"Role\": \"MID\", \"Tier\": \"A\", \"Score\": 54.13, \"Trend\": 2.05, \"Win %\": 51.34, \"Role %\": 94.35, \"Pick %\": 4.28, \"Ban %\": 2.41, \"KDA\": 2.27, \"Pred\": 52.053692541521855, \"isMid\": true, \"Mid Champs\": 1, \"pred win\": 0, \"pred_win1\": 0.28835625281656047}, {\"Name\": \"Vladimir\", \"Class\": \"Mage\", \"Role\": \"MID\", \"Tier\": \"A\", \"Score\": 54.65, \"Trend\": 3.61, \"Win %\": 51.53, \"Role %\": 77.73, \"Pick %\": 3.96, \"Ban %\": 5.95, \"KDA\": 2.42, \"Pred\": 52.428864933603506, \"isMid\": true, \"Mid Champs\": 1, \"pred win\": 0, \"pred_win1\": 0.29672153708210297}, {\"Name\": \"Vladimir\", \"Class\": \"Mage\", \"Role\": \"TOP\", \"Tier\": \"C\", \"Score\": 34.53, \"Trend\": -0.44, \"Win %\": 49.13, \"Role %\": 20.15, \"Pick %\": 0.99, \"Ban %\": 5.95, \"KDA\": 2.05, \"Pred\": 47.68984524415097, \"isMid\": false, \"Mid Champs\": 0, \"pred win\": 0, \"pred_win1\": 0.20204665747739697}, {\"Name\": \"Volibear\", \"Class\": \"Fighter\", \"Role\": \"TOP\", \"Tier\": \"C\", \"Score\": 36.96, \"Trend\": -0.57, \"Win %\": 48.43, \"Role %\": 61.85, \"Pick %\": 2.17, \"Ban %\": 0.63, \"KDA\": 1.64, \"Pred\": 46.30763116806064, \"isMid\": false, \"Mid Champs\": 0, \"pred win\": 0, \"pred_win1\": 0.17909744886657186}, {\"Name\": \"Volibear\", \"Class\": \"Fighter\", \"Role\": \"JUNGLE\", \"Tier\": \"D\", \"Score\": 33.68, \"Trend\": -1.42, \"Win %\": 50.15, \"Role %\": 32.98, \"Pick %\": 1.02, \"Ban %\": 0.63, \"KDA\": 2.64, \"Pred\": 49.70392861216828, \"isMid\": false, \"Mid Champs\": 0, \"pred win\": 0, \"pred_win1\": 0.23929480723272392}, {\"Name\": \"Warwick\", \"Class\": \"Fighter\", \"Role\": \"JUNGLE\", \"Tier\": \"A\", \"Score\": 49.91, \"Trend\": -3.99, \"Win %\": 50.07, \"Role %\": 68.71, \"Pick %\": 4.74, \"Ban %\": 5.18, \"KDA\": 2.17, \"Pred\": 49.545961289186536, \"isMid\": false, \"Mid Champs\": 0, \"pred win\": 0, \"pred_win1\": 0.236210413730861}, {\"Name\": \"Warwick\", \"Class\": \"Fighter\", \"Role\": \"TOP\", \"Tier\": \"C\", \"Score\": 36.27, \"Trend\": -3.06, \"Win %\": 49.47, \"Role %\": 28.1, \"Pick %\": 1.42, \"Ban %\": 5.18, \"KDA\": 1.79, \"Pred\": 48.36120636682341, \"isMid\": false, \"Mid Champs\": 0, \"pred win\": 0, \"pred_win1\": 0.21396018208303696}, {\"Name\": \"Wukong\", \"Class\": \"Fighter\", \"Role\": \"JUNGLE\", \"Tier\": \"C\", \"Score\": 38.79, \"Trend\": -4.57, \"Win %\": 49.13, \"Role %\": 75.46, \"Pick %\": 2.62, \"Ban %\": 1.25, \"KDA\": 2.64, \"Pred\": 47.68984524415097, \"isMid\": false, \"Mid Champs\": 0, \"pred win\": 0, \"pred_win1\": 0.20204665747739697}, {\"Name\": \"Wukong\", \"Class\": \"Fighter\", \"Role\": \"TOP\", \"Tier\": \"D\", \"Score\": 33.59, \"Trend\": 0.72, \"Win %\": 49.92, \"Role %\": 18.56, \"Pick %\": 0.58, \"Ban %\": 1.25, \"KDA\": 2.06, \"Pred\": 49.249772558595765, \"isMid\": false, \"Mid Champs\": 0, \"pred win\": 0, \"pred_win1\": 0.23050154305024603}, {\"Name\": \"Xayah\", \"Class\": \"Marksman\", \"Role\": \"ADC\", \"Tier\": \"A\", \"Score\": 52.38, \"Trend\": 1.57, \"Win %\": 49.83, \"Role %\": 98.94, \"Pick %\": 9.73, \"Ban %\": 3.88, \"KDA\": 2.3, \"Pred\": 49.07205932024128, \"isMid\": false, \"Mid Champs\": 0, \"pred win\": 0, \"pred_win1\": 0.22712292595669117}, {\"Name\": \"Xerath\", \"Class\": \"Mage\", \"Role\": \"SUPPORT\", \"Tier\": \"A\", \"Score\": 53.03, \"Trend\": 0.58, \"Win %\": 51.26, \"Role %\": 70.8, \"Pick %\": 4.09, \"Ban %\": 4.04, \"KDA\": 2.48, \"Pred\": 51.89572521854009, \"isMid\": false, \"Mid Champs\": 0, \"pred win\": 0, \"pred_win1\": 0.28487630031164807}, {\"Name\": \"Xerath\", \"Class\": \"Mage\", \"Role\": \"MID\", \"Tier\": \"A\", \"Score\": 48.19, \"Trend\": -2.63, \"Win %\": 50.81, \"Role %\": 26.08, \"Pick %\": 1.44, \"Ban %\": 4.04, \"KDA\": 3.13, \"Pred\": 51.00715902676775, \"isMid\": true, \"Mid Champs\": 1, \"pred win\": 0, \"pred_win1\": 0.265780625218741}, {\"Name\": \"Xin Zhao\", \"Class\": \"Fighter\", \"Role\": \"JUNGLE\", \"Tier\": \"C\", \"Score\": 38.19, \"Trend\": 0.99, \"Win %\": 50.34, \"Role %\": 84.64, \"Pick %\": 2.4, \"Ban %\": 0.41, \"KDA\": 2.25, \"Pred\": 50.079101004249964, \"isMid\": false, \"Mid Champs\": 0, \"pred win\": 0, \"pred_win1\": 0.24673026659825414}, {\"Name\": \"Yasuo\", \"Class\": \"Fighter\", \"Role\": \"MID\", \"Tier\": \"God\", \"Score\": 85.15, \"Trend\": -2.72, \"Win %\": 48.78, \"Role %\": 69.95, \"Pick %\": 12.73, \"Ban %\": 21.08, \"KDA\": 1.76, \"Pred\": 46.9987382061058, \"isMid\": true, \"Mid Champs\": 1, \"pred win\": 0, \"pred_win1\": 0.1903075693621441}, {\"Name\": \"Yasuo\", \"Class\": \"Fighter\", \"Role\": \"TOP\", \"Tier\": \"B\", \"Score\": 43.76, \"Trend\": -2.39, \"Win %\": 47.51, \"Role %\": 17.19, \"Pick %\": 2.96, \"Ban %\": 21.08, \"KDA\": 1.49, \"Pred\": 44.491006953770494, \"isMid\": false, \"Mid Champs\": 0, \"pred win\": 0, \"pred_win1\": 0.1521029625556214}, {\"Name\": \"Yasuo\", \"Class\": \"Fighter\", \"Role\": \"ADC\", \"Tier\": \"B\", \"Score\": 40.1, \"Trend\": 7.72, \"Win %\": 50.87, \"Role %\": 11.31, \"Pick %\": 1.89, \"Ban %\": 21.08, \"KDA\": 2.01, \"Pred\": 51.12563451900405, \"isMid\": false, \"Mid Champs\": 0, \"pred win\": 0, \"pred_win1\": 0.26827900361581525}, {\"Name\": \"Yone\", \"Class\": \"Assassin\", \"Role\": \"MID\", \"Tier\": \"S\", \"Score\": 58.02, \"Trend\": -1.12, \"Win %\": 49.25, \"Role %\": 54.68, \"Pick %\": 6.82, \"Ban %\": 7.36, \"KDA\": 1.89, \"Pred\": 47.92679622862359, \"isMid\": true, \"Mid Champs\": 1, \"pred win\": 0, \"pred_win1\": 0.20619396398468656}, {\"Name\": \"Yone\", \"Class\": \"Assassin\", \"Role\": \"TOP\", \"Tier\": \"S\", \"Score\": 57.2, \"Trend\": 1.88, \"Win %\": 49.34, \"Role %\": 41.19, \"Pick %\": 4.81, \"Ban %\": 7.36, \"KDA\": 1.63, \"Pred\": 48.10450946697807, \"isMid\": false, \"Mid Champs\": 0, \"pred win\": 0, \"pred_win1\": 0.2093455771047759}, {\"Name\": \"Yorick\", \"Class\": \"Fighter\", \"Role\": \"TOP\", \"Tier\": \"A\", \"Score\": 48.83, \"Trend\": 0.63, \"Win %\": 51.68, \"Role %\": 88.56, \"Pick %\": 2.92, \"Ban %\": 4.03, \"KDA\": 1.52, \"Pred\": 52.72505366419429, \"isMid\": false, \"Mid Champs\": 0, \"pred win\": 0, \"pred_win1\": 0.303423782833227}, {\"Name\": \"Yuumi\", \"Class\": \"Support\", \"Role\": \"SUPPORT\", \"Tier\": \"S\", \"Score\": 69.04, \"Trend\": -4.32, \"Win %\": 46.68, \"Role %\": 98.78, \"Pick %\": 7.67, \"Ban %\": 14.06, \"KDA\": 4.18, \"Pred\": 42.852095977834836, \"isMid\": false, \"Mid Champs\": 0, \"pred win\": 0, \"pred_win1\": 0.13070024653610207}, {\"Name\": \"Zac\", \"Class\": \"Tank\", \"Role\": \"JUNGLE\", \"Tier\": \"A\", \"Score\": 53.35, \"Trend\": 0.93, \"Win %\": 51.77, \"Role %\": 71.96, \"Pick %\": 3.11, \"Ban %\": 2.51, \"KDA\": 3.59, \"Pred\": 52.90276690254876, \"isMid\": false, \"Mid Champs\": 0, \"pred win\": 0, \"pred_win1\": 0.30748586317765914}, {\"Name\": \"Zac\", \"Class\": \"Tank\", \"Role\": \"TOP\", \"Tier\": \"B\", \"Score\": 44.32, \"Trend\": -2.26, \"Win %\": 52.47, \"Role %\": 13.44, \"Pick %\": 0.66, \"Ban %\": 2.51, \"KDA\": 2.69, \"Pred\": 54.284980978639084, \"isMid\": false, \"Mid Champs\": 0, \"pred win\": 0, \"pred_win1\": 0.3400712598360178}, {\"Name\": \"Zed\", \"Class\": \"Assassin\", \"Role\": \"MID\", \"Tier\": \"God\", \"Score\": 90.84, \"Trend\": 2.83, \"Win %\": 50.02, \"Role %\": 84.93, \"Pick %\": 11.5, \"Ban %\": 30.48, \"KDA\": 2.26, \"Pred\": 49.44723171232296, \"isMid\": true, \"Mid Champs\": 1, \"pred win\": 0, \"pred_win1\": 0.23429666420003195}, {\"Name\": \"Zeri\", \"Class\": \"Marksman\", \"Role\": \"ADC\", \"Tier\": \"C\", \"Score\": 39.89, \"Trend\": 0.19, \"Win %\": 48.18, \"Role %\": 89.31, \"Pick %\": 4.21, \"Ban %\": 3.23, \"KDA\": 2.27, \"Pred\": 45.81398328374267, \"isMid\": false, \"Mid Champs\": 0, \"pred win\": 0, \"pred_win1\": 0.1714108570664639}, {\"Name\": \"Ziggs\", \"Class\": \"Mage\", \"Role\": \"MID\", \"Tier\": \"B\", \"Score\": 43.66, \"Trend\": 4.37, \"Win %\": 50.11, \"Role %\": 55.93, \"Pick %\": 1.67, \"Ban %\": 0.41, \"KDA\": 2.34, \"Pred\": 49.62494495067742, \"isMid\": true, \"Mid Champs\": 1, \"pred win\": 0, \"pred_win1\": 0.2377491687473001}, {\"Name\": \"Ziggs\", \"Class\": \"Mage\", \"Role\": \"ADC\", \"Tier\": \"B\", \"Score\": 41.4, \"Trend\": 7.33, \"Win %\": 51.54, \"Role %\": 30.6, \"Pick %\": 0.83, \"Ban %\": 0.41, \"KDA\": 2.48, \"Pred\": 52.448610848976216, \"isMid\": false, \"Mid Champs\": 0, \"pred win\": 0, \"pred_win1\": 0.2971656847846828}, {\"Name\": \"Ziggs\", \"Class\": \"Mage\", \"Role\": \"SUPPORT\", \"Tier\": \"D\", \"Score\": 31.09, \"Trend\": -3.87, \"Win %\": 48.43, \"Role %\": 12.71, \"Pick %\": 0.37, \"Ban %\": 0.42, \"KDA\": 1.98, \"Pred\": 46.30763116806064, \"isMid\": false, \"Mid Champs\": 0, \"pred win\": 0, \"pred_win1\": 0.17909744886657186}, {\"Name\": \"Zilean\", \"Class\": \"Support\", \"Role\": \"MID\", \"Tier\": \"A\", \"Score\": 52.02, \"Trend\": 4.9, \"Win %\": 53.91, \"Role %\": 13.72, \"Pick %\": 0.31, \"Ban %\": 0.76, \"KDA\": 3.52, \"Pred\": 57.12839279231059, \"isMid\": true, \"Mid Champs\": 1, \"pred win\": 0, \"pred_win1\": 0.41177775435752034}, {\"Name\": \"Zilean\", \"Class\": \"Support\", \"Role\": \"SUPPORT\", \"Tier\": \"B\", \"Score\": 45.21, \"Trend\": 1.15, \"Win %\": 50.12, \"Role %\": 82.08, \"Pick %\": 2.11, \"Ban %\": 0.76, \"KDA\": 3.03, \"Pred\": 49.64469086605013, \"isMid\": false, \"Mid Champs\": 0, \"pred win\": 0, \"pred_win1\": 0.23813493342593797}, {\"Name\": \"Zoe\", \"Class\": \"Mage\", \"Role\": \"MID\", \"Tier\": \"A\", \"Score\": 49.82, \"Trend\": 1.34, \"Win %\": 50.44, \"Role %\": 86.34, \"Pick %\": 2.98, \"Ban %\": 1.93, \"KDA\": 2.6, \"Pred\": 50.276560157977144, \"isMid\": true, \"Mid Champs\": 1, \"pred win\": 0, \"pred_win1\": 0.2507055328507256}, {\"Name\": \"Zoe\", \"Class\": \"Mage\", \"Role\": \"SUPPORT\", \"Tier\": \"D\", \"Score\": 32.21, \"Trend\": -1.45, \"Win %\": 48.67, \"Role %\": 11.43, \"Pick %\": 0.4, \"Ban %\": 1.97, \"KDA\": 2.11, \"Pred\": 46.781533137005894, \"isMid\": false, \"Mid Champs\": 0, \"pred win\": 0, \"pred_win1\": 0.18672762481430588}, {\"Name\": \"Zyra\", \"Class\": \"Mage\", \"Role\": \"SUPPORT\", \"Tier\": \"B\", \"Score\": 46.64, \"Trend\": -0.95, \"Win %\": 51.44, \"Role %\": 90.88, \"Pick %\": 2.87, \"Ban %\": 1.96, \"KDA\": 2.06, \"Pred\": 52.251151695249035, \"isMid\": false, \"Mid Champs\": 0, \"pred win\": 0, \"pred_win1\": 0.29274154755334736}]}}, {\"mode\": \"vega-lite\"});\n",
       "</script>"
      ],
      "text/plain": [
       "alt.HConcatChart(...)"
      ]
     },
     "execution_count": 29,
     "metadata": {},
     "output_type": "execute_result"
    }
   ],
   "source": [
    "clf = LogisticRegression()\n",
    "clf.fit(df[[\"Win %\"]],df[\"Mid Champs\"])\n",
    "df[\"pred win\"] = clf.predict(df[[\"Win %\"]])\n",
    "c7 = alt.Chart(df).mark_circle(color=\"red\").encode(\n",
    "    x=\"Win %\",\n",
    "    y=\"pred win\"\n",
    ")\n",
    "winning = clf.predict_proba(df[[\"Win %\"]])\n",
    "df[\"pred_win1\"] = winning[:,1]\n",
    "c8 = alt.Chart(df).mark_circle(color=\"orange\").encode(\n",
    "    x=\"Win %\",\n",
    "    y=\"pred_win1\"\n",
    ")\n",
    "c7|c8+c5"
   ]
  },
  {
   "cell_type": "markdown",
   "metadata": {
    "cell_id": "9334d86730094b33802705552dc47445",
    "deepnote_cell_type": "markdown"
   },
   "source": [
    "Here we see the the graph ,c7, predicts what the Mid lane champions are based off wins. This is difficult to predict since other champions will have similar winrates. Meanwhile, the c8+c5 graphs show a bit of a logistic regressive curve, in which the curve shows that mid role champions have win % around the 45-50 % for their win rates. So, it is a 50 % chance of defeat or victory in a game match if a player plays a mid role champion. Below we will do the same with Score."
   ]
  },
  {
   "cell_type": "code",
   "execution_count": 30,
   "metadata": {
    "cell_id": "f881bc05ba72453ea9b0ab32fd11bdf8",
    "deepnote_cell_type": "code",
    "deepnote_to_be_reexecuted": false,
    "execution_millis": 276,
    "execution_start": 1695796834079,
    "source_hash": "f7056896"
   },
   "outputs": [
    {
     "data": {
      "text/html": [
       "\n",
       "<div id=\"altair-viz-e3e12f5f627649b195b762e46e051753\"></div>\n",
       "<script type=\"text/javascript\">\n",
       "  var VEGA_DEBUG = (typeof VEGA_DEBUG == \"undefined\") ? {} : VEGA_DEBUG;\n",
       "  (function(spec, embedOpt){\n",
       "    let outputDiv = document.currentScript.previousElementSibling;\n",
       "    if (outputDiv.id !== \"altair-viz-e3e12f5f627649b195b762e46e051753\") {\n",
       "      outputDiv = document.getElementById(\"altair-viz-e3e12f5f627649b195b762e46e051753\");\n",
       "    }\n",
       "    const paths = {\n",
       "      \"vega\": \"https://cdn.jsdelivr.net/npm//vega@5?noext\",\n",
       "      \"vega-lib\": \"https://cdn.jsdelivr.net/npm//vega-lib?noext\",\n",
       "      \"vega-lite\": \"https://cdn.jsdelivr.net/npm//vega-lite@4.17.0?noext\",\n",
       "      \"vega-embed\": \"https://cdn.jsdelivr.net/npm//vega-embed@6?noext\",\n",
       "    };\n",
       "\n",
       "    function maybeLoadScript(lib, version) {\n",
       "      var key = `${lib.replace(\"-\", \"\")}_version`;\n",
       "      return (VEGA_DEBUG[key] == version) ?\n",
       "        Promise.resolve(paths[lib]) :\n",
       "        new Promise(function(resolve, reject) {\n",
       "          var s = document.createElement('script');\n",
       "          document.getElementsByTagName(\"head\")[0].appendChild(s);\n",
       "          s.async = true;\n",
       "          s.onload = () => {\n",
       "            VEGA_DEBUG[key] = version;\n",
       "            return resolve(paths[lib]);\n",
       "          };\n",
       "          s.onerror = () => reject(`Error loading script: ${paths[lib]}`);\n",
       "          s.src = paths[lib];\n",
       "        });\n",
       "    }\n",
       "\n",
       "    function showError(err) {\n",
       "      outputDiv.innerHTML = `<div class=\"error\" style=\"color:red;\">${err}</div>`;\n",
       "      throw err;\n",
       "    }\n",
       "\n",
       "    function displayChart(vegaEmbed) {\n",
       "      vegaEmbed(outputDiv, spec, embedOpt)\n",
       "        .catch(err => showError(`Javascript Error: ${err.message}<br>This usually means there's a typo in your chart specification. See the javascript console for the full traceback.`));\n",
       "    }\n",
       "\n",
       "    if(typeof define === \"function\" && define.amd) {\n",
       "      requirejs.config({paths});\n",
       "      require([\"vega-embed\"], displayChart, err => showError(`Error loading script: ${err.message}`));\n",
       "    } else {\n",
       "      maybeLoadScript(\"vega\", \"5\")\n",
       "        .then(() => maybeLoadScript(\"vega-lite\", \"4.17.0\"))\n",
       "        .then(() => maybeLoadScript(\"vega-embed\", \"6\"))\n",
       "        .catch(showError)\n",
       "        .then(() => displayChart(vegaEmbed));\n",
       "    }\n",
       "  })({\"config\": {\"view\": {\"continuousWidth\": 400, \"continuousHeight\": 300}}, \"hconcat\": [{\"mark\": {\"type\": \"circle\", \"color\": \"black\"}, \"encoding\": {\"x\": {\"field\": \"Score\", \"type\": \"quantitative\"}, \"y\": {\"field\": \"pred_score\", \"type\": \"quantitative\"}}}, {\"layer\": [{\"mark\": {\"type\": \"circle\", \"color\": \"brown\"}, \"encoding\": {\"x\": {\"field\": \"Score\", \"type\": \"quantitative\"}, \"y\": {\"field\": \"pred_score1\", \"type\": \"quantitative\"}}}, {\"mark\": \"circle\", \"encoding\": {\"x\": {\"field\": \"Score\", \"type\": \"quantitative\"}, \"y\": {\"field\": \"Mid Champs\", \"type\": \"quantitative\"}}}]}], \"data\": {\"name\": \"data-0de1af48ac6ece3cd3f06b6291545667\"}, \"$schema\": \"https://vega.github.io/schema/vega-lite/v4.17.0.json\", \"datasets\": {\"data-0de1af48ac6ece3cd3f06b6291545667\": [{\"Name\": \"Aatrox\", \"Class\": \"Fighter\", \"Role\": \"TOP\", \"Tier\": \"God\", \"Score\": 71.25, \"Trend\": -3.39, \"Win %\": 48.84, \"Role %\": 92.28, \"Pick %\": 7.01, \"Ban %\": 5.81, \"KDA\": 1.85, \"Pred\": 47.11721369834213, \"isMid\": false, \"Mid Champs\": 0, \"pred win\": 0, \"pred_win1\": 0.1922822872009423, \"pred_score\": 0, \"pred_score1\": 0.2510088761140594}, {\"Name\": \"Ahri\", \"Class\": \"Mage\", \"Role\": \"MID\", \"Tier\": \"God\", \"Score\": 77.12, \"Trend\": -5.03, \"Win %\": 50.9, \"Role %\": 95.23, \"Pick %\": 10.63, \"Ban %\": 6.47, \"KDA\": 2.63, \"Pred\": 51.18487226512221, \"isMid\": true, \"Mid Champs\": 1, \"pred win\": 0, \"pred_win1\": 0.2695337561650089, \"pred_score\": 0, \"pred_score1\": 0.2510080160636441}, {\"Name\": \"Akali\", \"Class\": \"Assassin\", \"Role\": \"MID\", \"Tier\": \"A\", \"Score\": 55.37, \"Trend\": -5.08, \"Win %\": 48.18, \"Role %\": 78.45, \"Pick %\": 5.99, \"Ban %\": 8.1, \"KDA\": 2.3, \"Pred\": 45.81398328374267, \"isMid\": true, \"Mid Champs\": 1, \"pred win\": 0, \"pred_win1\": 0.1714108570664639, \"pred_score\": 0, \"pred_score1\": 0.2510112028020043}, {\"Name\": \"Akali\", \"Class\": \"Assassin\", \"Role\": \"TOP\", \"Tier\": \"C\", \"Score\": 36.35, \"Trend\": -0.6, \"Win %\": 48.5, \"Role %\": 20.39, \"Pick %\": 1.45, \"Ban %\": 8.1, \"KDA\": 2.06, \"Pred\": 46.445852575669676, \"isMid\": false, \"Mid Champs\": 0, \"pred win\": 0, \"pred_win1\": 0.1812974088096342, \"pred_score\": 0, \"pred_score1\": 0.251013989571803}, {\"Name\": \"Akshan\", \"Class\": \"Marksman\", \"Role\": \"MID\", \"Tier\": \"B\", \"Score\": 47.25, \"Trend\": -1.5, \"Win %\": 50.15, \"Role %\": 69.32, \"Pick %\": 2.88, \"Ban %\": 5.94, \"KDA\": 2.16, \"Pred\": 49.70392861216828, \"isMid\": true, \"Mid Champs\": 1, \"pred win\": 0, \"pred_win1\": 0.23929480723272392, \"pred_score\": 0, \"pred_score1\": 0.2510123925245545}, {\"Name\": \"Akshan\", \"Class\": \"Marksman\", \"Role\": \"TOP\", \"Tier\": \"C\", \"Score\": 37.24, \"Trend\": 0.83, \"Win %\": 50.87, \"Role %\": 22.48, \"Pick %\": 0.96, \"Ban %\": 5.94, \"KDA\": 1.89, \"Pred\": 51.12563451900405, \"isMid\": false, \"Mid Champs\": 0, \"pred win\": 0, \"pred_win1\": 0.26827900361581525, \"pred_score\": 0, \"pred_score1\": 0.25101385917044405}, {\"Name\": \"Alistar\", \"Class\": \"Tank\", \"Role\": \"SUPPORT\", \"Tier\": \"A\", \"Score\": 54.33, \"Trend\": 4.6, \"Win %\": 51.13, \"Role %\": 95.57, \"Pick %\": 4.58, \"Ban %\": 1.43, \"KDA\": 2.51, \"Pred\": 51.639028318694756, \"isMid\": false, \"Mid Champs\": 0, \"pred win\": 0, \"pred_win1\": 0.2792756249811088, \"pred_score\": 0, \"pred_score1\": 0.2510113551800526}, {\"Name\": \"Amumu\", \"Class\": \"Tank\", \"Role\": \"JUNGLE\", \"Tier\": \"B\", \"Score\": 44.96, \"Trend\": -0.85, \"Win %\": 51.16, \"Role %\": 66.72, \"Pick %\": 2.86, \"Ban %\": 2.1, \"KDA\": 2.64, \"Pred\": 51.6982660648129, \"isMid\": false, \"Mid Champs\": 0, \"pred win\": 0, \"pred_win1\": 0.2805620888775237, \"pred_score\": 0, \"pred_score1\": 0.2510127280504342}, {\"Name\": \"Amumu\", \"Class\": \"Tank\", \"Role\": \"SUPPORT\", \"Tier\": \"B\", \"Score\": 40.1, \"Trend\": -1.92, \"Win %\": 51.5, \"Role %\": 31.76, \"Pick %\": 1.1, \"Ban %\": 2.1, \"KDA\": 2.08, \"Pred\": 52.36962718748535, \"isMid\": false, \"Mid Champs\": 0, \"pred win\": 0, \"pred_win1\": 0.29539139995515823, \"pred_score\": 0, \"pred_score1\": 0.25101344012817994}, {\"Name\": \"Anivia\", \"Class\": \"Mage\", \"Role\": \"MID\", \"Tier\": \"A\", \"Score\": 50.85, \"Trend\": -1.84, \"Win %\": 51.67, \"Role %\": 79.48, \"Pick %\": 2.22, \"Ban %\": 2.59, \"KDA\": 2.84, \"Pred\": 52.70530774882157, \"isMid\": true, \"Mid Champs\": 1, \"pred win\": 0, \"pred_win1\": 0.30297431372787875, \"pred_score\": 0, \"pred_score1\": 0.25101186506089224}, {\"Name\": \"Anivia\", \"Class\": \"Mage\", \"Role\": \"SUPPORT\", \"Tier\": \"D\", \"Score\": 24.49, \"Trend\": -5.76, \"Win %\": 44.86, \"Role %\": 12.07, \"Pick %\": 0.29, \"Ban %\": 2.59, \"KDA\": 2.07, \"Pred\": 39.25833937999998, \"isMid\": false, \"Mid Champs\": 0, \"pred win\": 0, \"pred_win1\": 0.09262632699085141, \"pred_score\": 0, \"pred_score1\": 0.25101572728409827}, {\"Name\": \"Annie\", \"Class\": \"Mage\", \"Role\": \"MID\", \"Tier\": \"A\", \"Score\": 48.73, \"Trend\": -8.33, \"Win %\": 50.61, \"Role %\": 79.68, \"Pick %\": 2.93, \"Ban %\": 2.28, \"KDA\": 2.34, \"Pred\": 50.61224071931336, \"isMid\": true, \"Mid Champs\": 1, \"pred win\": 0, \"pred_win1\": 0.25756064229241804, \"pred_score\": 0, \"pred_score1\": 0.251012175678293}, {\"Name\": \"Annie\", \"Class\": \"Mage\", \"Role\": \"SUPPORT\", \"Tier\": \"C\", \"Score\": 36.74, \"Trend\": -3.16, \"Win %\": 50.33, \"Role %\": 15.84, \"Pick %\": 0.6, \"Ban %\": 2.28, \"KDA\": 2.27, \"Pred\": 50.059355088877226, \"isMid\": false, \"Mid Champs\": 0, \"pred win\": 0, \"pred_win1\": 0.24633508003161073, \"pred_score\": 0, \"pred_score1\": 0.25101393242962894}, {\"Name\": \"Aphelios\", \"Class\": \"Marksman\", \"Role\": \"ADC\", \"Tier\": \"B\", \"Score\": 44.69, \"Trend\": -23.49, \"Win %\": 47.44, \"Role %\": 97.7, \"Pick %\": 9.01, \"Ban %\": 3.11, \"KDA\": 1.95, \"Pred\": 44.352785546161456, \"isMid\": false, \"Mid Champs\": 0, \"pred win\": 0, \"pred_win1\": 0.15019227392613124, \"pred_score\": 0, \"pred_score1\": 0.2510127676102737}, {\"Name\": \"Ashe\", \"Class\": \"Marksman\", \"Role\": \"ADC\", \"Tier\": \"S\", \"Score\": 67.31, \"Trend\": 4.14, \"Win %\": 52.39, \"Role %\": 85.21, \"Pick %\": 15.12, \"Ban %\": 5.7, \"KDA\": 2.45, \"Pred\": 54.127013655657336, \"isMid\": false, \"Mid Champs\": 0, \"pred win\": 0, \"pred_win1\": 0.3362620989140715, \"pred_score\": 0, \"pred_score1\": 0.2510094533892019}, {\"Name\": \"Ashe\", \"Class\": \"Marksman\", \"Role\": \"SUPPORT\", \"Tier\": \"C\", \"Score\": 37.02, \"Trend\": 1.58, \"Win %\": 47.67, \"Role %\": 12.55, \"Pick %\": 2.14, \"Ban %\": 5.7, \"KDA\": 2.06, \"Pred\": 44.806941599734, \"isMid\": false, \"Mid Champs\": 0, \"pred win\": 0, \"pred_win1\": 0.15654513478610763, \"pred_score\": 0, \"pred_score1\": 0.25101389140448366}, {\"Name\": \"Aurelion Sol\", \"Class\": \"Mage\", \"Role\": \"MID\", \"Tier\": \"A\", \"Score\": 54.0, \"Trend\": 0.48, \"Win %\": 51.48, \"Role %\": 87.38, \"Pick %\": 3.5, \"Ban %\": 5.2, \"KDA\": 2.64, \"Pred\": 52.3301353567399, \"isMid\": true, \"Mid Champs\": 1, \"pred win\": 0, \"pred_win1\": 0.29450656854048674, \"pred_score\": 0, \"pred_score1\": 0.25101140353079227}, {\"Name\": \"Azir\", \"Class\": \"Mage\", \"Role\": \"MID\", \"Tier\": \"A\", \"Score\": 47.51, \"Trend\": 0.27, \"Win %\": 48.12, \"Role %\": 92.08, \"Pick %\": 4.37, \"Ban %\": 1.15, \"KDA\": 2.09, \"Pred\": 45.695507791506344, \"isMid\": true, \"Mid Champs\": 1, \"pred win\": 0, \"pred_win1\": 0.16960547762434613, \"pred_score\": 0, \"pred_score1\": 0.2510123544299319}, {\"Name\": \"Bard\", \"Class\": \"Support\", \"Role\": \"SUPPORT\", \"Tier\": \"B\", \"Score\": 43.6, \"Trend\": -2.68, \"Win %\": 49.55, \"Role %\": 95.39, \"Pick %\": 2.14, \"Ban %\": 0.31, \"KDA\": 2.88, \"Pred\": 48.51917368980516, \"isMid\": false, \"Mid Champs\": 0, \"pred win\": 0, \"pred_win1\": 0.2168365189330033, \"pred_score\": 0, \"pred_score1\": 0.2510129273148532}, {\"Name\": \"Bel'Veth\", \"Class\": \"Fighter\", \"Role\": \"JUNGLE\", \"Tier\": \"A\", \"Score\": 49.69, \"Trend\": 1.57, \"Win %\": 50.6, \"Role %\": 89.84, \"Pick %\": 4.26, \"Ban %\": 6.09, \"KDA\": 2.41, \"Pred\": 50.59249480394065, \"isMid\": false, \"Mid Champs\": 0, \"pred win\": 0, \"pred_win1\": 0.2571540307385524, \"pred_score\": 0, \"pred_score1\": 0.25101203502132513}, {\"Name\": \"Blitzcrank\", \"Class\": \"Tank\", \"Role\": \"SUPPORT\", \"Tier\": \"God\", \"Score\": 79.03, \"Trend\": 4.56, \"Win %\": 50.96, \"Role %\": 97.14, \"Pick %\": 8.78, \"Ban %\": 23.8, \"KDA\": 2.37, \"Pred\": 51.30334775735852, \"isMid\": false, \"Mid Champs\": 0, \"pred win\": 0, \"pred_win1\": 0.27205434207163703, \"pred_score\": 0, \"pred_score1\": 0.2510077362180201}, {\"Name\": \"Brand\", \"Class\": \"Mage\", \"Role\": \"SUPPORT\", \"Tier\": \"B\", \"Score\": 41.62, \"Trend\": -3.46, \"Win %\": 49.16, \"Role %\": 72.74, \"Pick %\": 2.96, \"Ban %\": 3.38, \"KDA\": 1.75, \"Pred\": 47.749082990269116, \"isMid\": false, \"Mid Champs\": 0, \"pred win\": 0, \"pred_win1\": 0.20307761067345506, \"pred_score\": 0, \"pred_score1\": 0.25101321742059246}, {\"Name\": \"Brand\", \"Class\": \"Mage\", \"Role\": \"MID\", \"Tier\": \"B\", \"Score\": 40.08, \"Trend\": 5.34, \"Win %\": 50.52, \"Role %\": 19.47, \"Pick %\": 0.72, \"Ban %\": 3.38, \"KDA\": 2.06, \"Pred\": 50.434527480958906, \"isMid\": true, \"Mid Champs\": 1, \"pred win\": 0, \"pred_win1\": 0.25391627804762246, \"pred_score\": 0, \"pred_score1\": 0.25101344305854384}, {\"Name\": \"Braum\", \"Class\": \"Support\", \"Role\": \"SUPPORT\", \"Tier\": \"B\", \"Score\": 47.38, \"Trend\": 0.89, \"Win %\": 49.83, \"Role %\": 98.48, \"Pick %\": 3.1, \"Ban %\": 0.53, \"KDA\": 2.79, \"Pred\": 49.07205932024128, \"isMid\": false, \"Mid Champs\": 0, \"pred win\": 0, \"pred_win1\": 0.22712292595669117, \"pred_score\": 0, \"pred_score1\": 0.2510123734772427}, {\"Name\": \"Caitlyn\", \"Class\": \"Marksman\", \"Role\": \"ADC\", \"Tier\": \"B\", \"Score\": 46.61, \"Trend\": -2.93, \"Win %\": 47.84, \"Role %\": 94.39, \"Pick %\": 8.77, \"Ban %\": 6.08, \"KDA\": 2.12, \"Pred\": 45.142622161070236, \"isMid\": false, \"Mid Champs\": 0, \"pred win\": 0, \"pred_win1\": 0.16138010965878483, \"pred_score\": 0, \"pred_score1\": 0.2510124862959493}, {\"Name\": \"Camille\", \"Class\": \"Fighter\", \"Role\": \"TOP\", \"Tier\": \"A\", \"Score\": 50.66, \"Trend\": -0.83, \"Win %\": 50.52, \"Role %\": 92.99, \"Pick %\": 3.26, \"Ban %\": 1.75, \"KDA\": 1.94, \"Pred\": 50.434527480958906, \"isMid\": false, \"Mid Champs\": 0, \"pred win\": 0, \"pred_win1\": 0.25391627804762246, \"pred_score\": 0, \"pred_score1\": 0.25101189289923376}, {\"Name\": \"Cassiopeia\", \"Class\": \"Mage\", \"Role\": \"MID\", \"Tier\": \"B\", \"Score\": 47.36, \"Trend\": -1.15, \"Win %\": 51.45, \"Role %\": 73.55, \"Pick %\": 2.3, \"Ban %\": 2.34, \"KDA\": 2.16, \"Pred\": 52.27089761062176, \"isMid\": true, \"Mid Champs\": 1, \"pred win\": 0, \"pred_win1\": 0.29318222134442473, \"pred_score\": 0, \"pred_score1\": 0.2510123764075983}, {\"Name\": \"Cassiopeia\", \"Class\": \"Mage\", \"Role\": \"TOP\", \"Tier\": \"C\", \"Score\": 37.99, \"Trend\": -1.37, \"Win %\": 52.33, \"Role %\": 16.69, \"Pick %\": 0.53, \"Ban %\": 2.34, \"KDA\": 1.95, \"Pred\": 54.00853816342101, \"isMid\": false, \"Mid Champs\": 0, \"pred win\": 0, \"pred_win1\": 0.33341910143509074, \"pred_score\": 0, \"pred_score1\": 0.25101374928169345}, {\"Name\": \"Cho'Gath\", \"Class\": \"Tank\", \"Role\": \"TOP\", \"Tier\": \"A\", \"Score\": 51.89, \"Trend\": -1.43, \"Win %\": 51.25, \"Role %\": 65.85, \"Pick %\": 3.06, \"Ban %\": 1.32, \"KDA\": 2.07, \"Pred\": 51.87597930316737, \"isMid\": false, \"Mid Champs\": 0, \"pred win\": 0, \"pred_win1\": 0.2844430868466742, \"pred_score\": 0, \"pred_score1\": 0.2510117126826381}, {\"Name\": \"Cho'Gath\", \"Class\": \"Tank\", \"Role\": \"MID\", \"Tier\": \"B\", \"Score\": 43.75, \"Trend\": 0.1, \"Win %\": 51.56, \"Role %\": 18.54, \"Pick %\": 0.76, \"Ban %\": 1.32, \"KDA\": 2.41, \"Pred\": 52.48810267972166, \"isMid\": true, \"Mid Champs\": 1, \"pred win\": 0, \"pred_win1\": 0.2980551301372939, \"pred_score\": 0, \"pred_score1\": 0.25101290533715476}, {\"Name\": \"Corki\", \"Class\": \"Marksman\", \"Role\": \"MID\", \"Tier\": \"C\", \"Score\": 37.15, \"Trend\": -0.31, \"Win %\": 48.34, \"Role %\": 86.3, \"Pick %\": 0.88, \"Ban %\": 0.18, \"KDA\": 2.19, \"Pred\": 46.12991792970618, \"isMid\": true, \"Mid Champs\": 1, \"pred win\": 0, \"pred_win1\": 0.17629967021173976, \"pred_score\": 0, \"pred_score1\": 0.25101387235709627}, {\"Name\": \"Darius\", \"Class\": \"Fighter\", \"Role\": \"TOP\", \"Tier\": \"God\", \"Score\": 89.77, \"Trend\": 2.57, \"Win %\": 49.01, \"Role %\": 92.99, \"Pick %\": 8.46, \"Ban %\": 19.04, \"KDA\": 1.8, \"Pred\": 47.45289425967833, \"isMid\": false, \"Mid Champs\": 0, \"pred win\": 0, \"pred_win1\": 0.1979619654162656, \"pred_score\": 0, \"pred_score1\": 0.2510061626396825}, {\"Name\": \"Diana\", \"Class\": \"Fighter\", \"Role\": \"MID\", \"Tier\": \"B\", \"Score\": 40.75, \"Trend\": -2.3, \"Win %\": 49.94, \"Role %\": 24.93, \"Pick %\": 1.18, \"Ban %\": 1.35, \"KDA\": 2.13, \"Pred\": 49.2892643893412, \"isMid\": true, \"Mid Champs\": 1, \"pred win\": 0, \"pred_win1\": 0.23125710931271562, \"pred_score\": 0, \"pred_score1\": 0.2510133448913666}, {\"Name\": \"Diana\", \"Class\": \"Fighter\", \"Role\": \"JUNGLE\", \"Tier\": \"C\", \"Score\": 39.37, \"Trend\": -2.64, \"Win %\": 48.59, \"Role %\": 72.61, \"Pick %\": 3.35, \"Ban %\": 1.35, \"KDA\": 2.38, \"Pred\": 46.62356581402415, \"isMid\": false, \"Mid Champs\": 0, \"pred win\": 0, \"pred_win1\": 0.18415676698196692, \"pred_score\": 0, \"pred_score1\": 0.2510135470864759}, {\"Name\": \"Dr. Mundo\", \"Class\": \"Marksman\", \"Role\": \"TOP\", \"Tier\": \"A\", \"Score\": 50.46, \"Trend\": -2.71, \"Win %\": 51.84, \"Role %\": 85.89, \"Pick %\": 2.78, \"Ban %\": 2.61, \"KDA\": 1.87, \"Pred\": 53.0409883101578, \"isMid\": false, \"Mid Champs\": 0, \"pred win\": 0, \"pred_win1\": 0.3106660601819005, \"pred_score\": 0, \"pred_score1\": 0.25101192220275337}, {\"Name\": \"Draven\", \"Class\": \"Fighter\", \"Role\": \"ADC\", \"Tier\": \"A\", \"Score\": 48.93, \"Trend\": -0.17, \"Win %\": 50.13, \"Role %\": 95.95, \"Pick %\": 6.31, \"Ban %\": 21.39, \"KDA\": 2.14, \"Pred\": 49.664436781422864, \"isMid\": false, \"Mid Champs\": 0, \"pred win\": 0, \"pred_win1\": 0.23852112817067764, \"pred_score\": 0, \"pred_score1\": 0.25101214637475366}, {\"Name\": \"Ekko\", \"Class\": \"Assassin\", \"Role\": \"JUNGLE\", \"Tier\": \"A\", \"Score\": 53.28, \"Trend\": 2.72, \"Win %\": 50.55, \"Role %\": 63.13, \"Pick %\": 4.83, \"Ban %\": 3.14, \"KDA\": 2.68, \"Pred\": 50.49376522707705, \"isMid\": false, \"Mid Champs\": 0, \"pred win\": 0, \"pred_win1\": 0.2551272772718757, \"pred_score\": 0, \"pred_score1\": 0.25101150902333685}, {\"Name\": \"Ekko\", \"Class\": \"Assassin\", \"Role\": \"MID\", \"Tier\": \"B\", \"Score\": 46.68, \"Trend\": 0.75, \"Win %\": 50.43, \"Role %\": 34.0, \"Pick %\": 2.52, \"Ban %\": 3.14, \"KDA\": 2.24, \"Pred\": 50.25681424260442, \"isMid\": true, \"Mid Champs\": 1, \"pred win\": 0, \"pred_win1\": 0.2503060948833929, \"pred_score\": 0, \"pred_score1\": 0.2510124760397019}, {\"Name\": \"Elise\", \"Class\": \"Mage\", \"Role\": \"JUNGLE\", \"Tier\": \"C\", \"Score\": 36.51, \"Trend\": 1.0, \"Win %\": 49.21, \"Role %\": 92.93, \"Pick %\": 1.98, \"Ban %\": 1.72, \"KDA\": 2.71, \"Pred\": 47.84781256713272, \"isMid\": false, \"Mid Champs\": 0, \"pred win\": 0, \"pred_win1\": 0.20480456631173483, \"pred_score\": 0, \"pred_score1\": 0.25101396612885873}, {\"Name\": \"Evelynn\", \"Class\": \"Assassin\", \"Role\": \"JUNGLE\", \"Tier\": \"S\", \"Score\": 57.3, \"Trend\": 2.59, \"Win %\": 51.18, \"Role %\": 97.95, \"Pick %\": 4.67, \"Ban %\": 9.69, \"KDA\": 2.95, \"Pred\": 51.737757895558346, \"isMid\": false, \"Mid Champs\": 0, \"pred win\": 0, \"pred_win1\": 0.2814217369033072, \"pred_score\": 0, \"pred_score1\": 0.2510109200236737}, {\"Name\": \"Ezreal\", \"Class\": \"Marksman\", \"Role\": \"ADC\", \"Tier\": \"God\", \"Score\": 72.99, \"Trend\": -19.84, \"Win %\": 50.1, \"Role %\": 87.8, \"Pick %\": 19.96, \"Ban %\": 8.96, \"KDA\": 2.49, \"Pred\": 49.60519903530471, \"isMid\": false, \"Mid Champs\": 0, \"pred win\": 0, \"pred_win1\": 0.23736383428833274, \"pred_score\": 0, \"pred_score1\": 0.2510086211755719}, {\"Name\": \"Ezreal\", \"Class\": \"Marksman\", \"Role\": \"MID\", \"Tier\": \"D\", \"Score\": 33.67, \"Trend\": -7.35, \"Win %\": 44.02, \"Role %\": 10.31, \"Pick %\": 2.37, \"Ban %\": 8.96, \"KDA\": 1.98, \"Pred\": 37.5996824886916, \"isMid\": true, \"Mid Champs\": 1, \"pred win\": 0, \"pred_win1\": 0.07866043385332322, \"pred_score\": 0, \"pred_score1\": 0.25101438224133554}, {\"Name\": \"Fiddlesticks\", \"Class\": \"Mage\", \"Role\": \"JUNGLE\", \"Tier\": \"A\", \"Score\": 48.92, \"Trend\": 0.28, \"Win %\": 51.22, \"Role %\": 79.76, \"Pick %\": 3.48, \"Ban %\": 3.61, \"KDA\": 2.75, \"Pred\": 51.81674155704921, \"isMid\": false, \"Mid Champs\": 0, \"pred win\": 0, \"pred_win1\": 0.28314583109674674, \"pred_score\": 0, \"pred_score1\": 0.2510121478399306}, {\"Name\": \"Fiddlesticks\", \"Class\": \"Mage\", \"Role\": \"SUPPORT\", \"Tier\": \"C\", \"Score\": 37.61, \"Trend\": -0.4, \"Win %\": 51.49, \"Role %\": 12.24, \"Pick %\": 0.5, \"Ban %\": 3.53, \"KDA\": 2.03, \"Pred\": 52.349881272112626, \"isMid\": false, \"Mid Champs\": 0, \"pred win\": 0, \"pred_win1\": 0.29494879124838463, \"pred_score\": 0, \"pred_score1\": 0.25101380495865644}, {\"Name\": \"Fiora\", \"Class\": \"Fighter\", \"Role\": \"TOP\", \"Tier\": \"S\", \"Score\": 69.54, \"Trend\": 0.38, \"Win %\": 51.21, \"Role %\": 97.48, \"Pick %\": 5.55, \"Ban %\": 13.56, \"KDA\": 1.69, \"Pred\": 51.7969956416765, \"isMid\": false, \"Mid Champs\": 0, \"pred win\": 0, \"pred_win1\": 0.2827142088273038, \"pred_score\": 0, \"pred_score1\": 0.2510091266572235}, {\"Name\": \"Fizz\", \"Class\": \"Assassin\", \"Role\": \"MID\", \"Tier\": \"S\", \"Score\": 62.51, \"Trend\": 1.61, \"Win %\": 51.79, \"Role %\": 95.0, \"Pick %\": 5.92, \"Ban %\": 9.4, \"KDA\": 2.39, \"Pred\": 52.942258733294196, \"isMid\": true, \"Mid Champs\": 1, \"pred win\": 0, \"pred_win1\": 0.308392644081258, \"pred_score\": 0, \"pred_score1\": 0.2510101566697561}, {\"Name\": \"Galio\", \"Class\": \"Tank\", \"Role\": \"MID\", \"Tier\": \"B\", \"Score\": 46.34, \"Trend\": 0.19, \"Win %\": 50.84, \"Role %\": 75.81, \"Pick %\": 1.67, \"Ban %\": 0.33, \"KDA\": 2.62, \"Pred\": 51.06639677288591, \"isMid\": true, \"Mid Champs\": 1, \"pred win\": 0, \"pred_win1\": 0.267027956975774, \"pred_score\": 0, \"pred_score1\": 0.2510125258557635}, {\"Name\": \"Galio\", \"Class\": \"Tank\", \"Role\": \"SUPPORT\", \"Tier\": \"C\", \"Score\": 35.96, \"Trend\": 0.01, \"Win %\": 50.22, \"Role %\": 19.28, \"Pick %\": 0.38, \"Ban %\": 0.33, \"KDA\": 2.33, \"Pred\": 49.84215001977732, \"isMid\": false, \"Mid Champs\": 0, \"pred win\": 0, \"pred_win1\": 0.2420162073717194, \"pred_score\": 0, \"pred_score1\": 0.2510140467139857}, {\"Name\": \"Gangplank\", \"Class\": \"Fighter\", \"Role\": \"TOP\", \"Tier\": \"S\", \"Score\": 58.79, \"Trend\": 0.16, \"Win %\": 49.58, \"Role %\": 85.39, \"Pick %\": 4.78, \"Ban %\": 4.41, \"KDA\": 1.95, \"Pred\": 48.578411435923314, \"isMid\": false, \"Mid Champs\": 0, \"pred win\": 0, \"pred_win1\": 0.21792232825109056, \"pred_score\": 0, \"pred_score1\": 0.25101070171308676}, {\"Name\": \"Gangplank\", \"Class\": \"Fighter\", \"Role\": \"MID\", \"Tier\": \"B\", \"Score\": 44.29, \"Trend\": 1.67, \"Win %\": 52.23, \"Role %\": 13.06, \"Pick %\": 0.76, \"Ban %\": 4.41, \"KDA\": 2.25, \"Pred\": 53.81107900969383, \"isMid\": true, \"Mid Champs\": 1, \"pred win\": 0, \"pred_win1\": 0.32870765828683773, \"pred_score\": 0, \"pred_score1\": 0.251012826217451}, {\"Name\": \"Garen\", \"Class\": \"Fighter\", \"Role\": \"TOP\", \"Tier\": \"S\", \"Score\": 70.64, \"Trend\": 0.3, \"Win %\": 50.59, \"Role %\": 86.57, \"Pick %\": 6.36, \"Ban %\": 2.43, \"KDA\": 1.99, \"Pred\": 50.57274888856793, \"isMid\": false, \"Mid Champs\": 0, \"pred win\": 0, \"pred_win1\": 0.25674783911716426, \"pred_score\": 0, \"pred_score1\": 0.25100896548908713}, {\"Name\": \"Gnar\", \"Class\": \"Fighter\", \"Role\": \"TOP\", \"Tier\": \"B\", \"Score\": 40.81, \"Trend\": -1.82, \"Win %\": 47.68, \"Role %\": 95.79, \"Pick %\": 2.9, \"Ban %\": 0.57, \"KDA\": 1.8, \"Pred\": 44.82668751510673, \"isMid\": false, \"Mid Champs\": 0, \"pred win\": 0, \"pred_win1\": 0.15682624850832813, \"pred_score\": 0, \"pred_score1\": 0.2510133361002773}, {\"Name\": \"Gragas\", \"Class\": \"Fighter\", \"Role\": \"JUNGLE\", \"Tier\": \"B\", \"Score\": 45.62, \"Trend\": 0.69, \"Win %\": 49.04, \"Role %\": 49.51, \"Pick %\": 3.81, \"Ban %\": 3.23, \"KDA\": 2.8, \"Pred\": 47.51213200579649, \"isMid\": false, \"Mid Champs\": 0, \"pred win\": 0, \"pred_win1\": 0.19897727350403585, \"pred_score\": 0, \"pred_score1\": 0.2510126313486217}, {\"Name\": \"Gragas\", \"Class\": \"Fighter\", \"Role\": \"TOP\", \"Tier\": \"C\", \"Score\": 38.22, \"Trend\": -3.15, \"Win %\": 46.45, \"Role %\": 33.32, \"Pick %\": 2.67, \"Ban %\": 3.23, \"KDA\": 1.96, \"Pred\": 42.3979399242623, \"isMid\": false, \"Mid Champs\": 0, \"pred win\": 0, \"pred_win1\": 0.12524047866481147, \"pred_score\": 0, \"pred_score1\": 0.251013715582483}, {\"Name\": \"Gragas\", \"Class\": \"Fighter\", \"Role\": \"MID\", \"Tier\": \"C\", \"Score\": 36.71, \"Trend\": -1.32, \"Win %\": 48.01, \"Role %\": 10.62, \"Pick %\": 0.8, \"Ban %\": 3.23, \"KDA\": 2.26, \"Pred\": 45.47830272240644, \"isMid\": true, \"Mid Champs\": 1, \"pred win\": 0, \"pred_win1\": 0.16633496614984072, \"pred_score\": 0, \"pred_score1\": 0.2510139368251805}, {\"Name\": \"Graves\", \"Class\": \"Marksman\", \"Role\": \"JUNGLE\", \"Tier\": \"God\", \"Score\": 72.71, \"Trend\": 1.85, \"Win %\": 50.77, \"Role %\": 91.21, \"Pick %\": 8.58, \"Ban %\": 4.98, \"KDA\": 2.65, \"Pred\": 50.92817536527687, \"isMid\": false, \"Mid Champs\": 0, \"pred win\": 0, \"pred_win1\": 0.2641233100445627, \"pred_score\": 0, \"pred_score1\": 0.2510086622001444}, {\"Name\": \"Gwen\", \"Class\": \"Fighter\", \"Role\": \"TOP\", \"Tier\": \"A\", \"Score\": 53.66, \"Trend\": 2.4, \"Win %\": 49.92, \"Role %\": 89.55, \"Pick %\": 4.22, \"Ban %\": 2.41, \"KDA\": 1.7, \"Pred\": 49.249772558595765, \"isMid\": false, \"Mid Champs\": 0, \"pred win\": 0, \"pred_win1\": 0.23050154305024603, \"pred_score\": 0, \"pred_score1\": 0.25101145334671243}, {\"Name\": \"Hecarim\", \"Class\": \"Fighter\", \"Role\": \"JUNGLE\", \"Tier\": \"S\", \"Score\": 62.04, \"Trend\": 4.1, \"Win %\": 50.31, \"Role %\": 99.16, \"Pick %\": 6.21, \"Ban %\": 11.3, \"KDA\": 2.65, \"Pred\": 50.01986325813181, \"isMid\": false, \"Mid Champs\": 0, \"pred win\": 0, \"pred_win1\": 0.24554598601879904, \"pred_score\": 0, \"pred_score1\": 0.2510102255327141}, {\"Name\": \"Heimerdinger\", \"Class\": \"Mage\", \"Role\": \"MID\", \"Tier\": \"B\", \"Score\": 44.22, \"Trend\": 0.5, \"Win %\": 52.83, \"Role %\": 22.49, \"Pick %\": 0.78, \"Ban %\": 1.53, \"KDA\": 2.01, \"Pred\": 54.995833932056954, \"isMid\": true, \"Mid Champs\": 1, \"pred win\": 0, \"pred_win1\": 0.3574640948941815, \"pred_score\": 0, \"pred_score1\": 0.2510128364737079}, {\"Name\": \"Heimerdinger\", \"Class\": \"Mage\", \"Role\": \"SUPPORT\", \"Tier\": \"C\", \"Score\": 39.84, \"Trend\": -0.65, \"Win %\": 50.81, \"Role %\": 48.93, \"Pick %\": 1.57, \"Ban %\": 1.53, \"KDA\": 1.92, \"Pred\": 51.00715902676775, \"isMid\": false, \"Mid Champs\": 0, \"pred win\": 0, \"pred_win1\": 0.265780625218741, \"pred_score\": 0, \"pred_score1\": 0.25101347822291203}, {\"Name\": \"Heimerdinger\", \"Class\": \"Mage\", \"Role\": \"TOP\", \"Tier\": \"D\", \"Score\": 33.45, \"Trend\": -0.59, \"Win %\": 50.64, \"Role %\": 19.31, \"Pick %\": 0.66, \"Ban %\": 1.53, \"KDA\": 1.73, \"Pred\": 50.67147846543152, \"isMid\": false, \"Mid Champs\": 0, \"pred win\": 0, \"pred_win1\": 0.25878299383587733, \"pred_score\": 0, \"pred_score1\": 0.2510144144754197}, {\"Name\": \"Illaoi\", \"Class\": \"Fighter\", \"Role\": \"TOP\", \"Tier\": \"S\", \"Score\": 63.63, \"Trend\": 3.5, \"Win %\": 51.46, \"Role %\": 94.01, \"Pick %\": 4.89, \"Ban %\": 12.19, \"KDA\": 1.45, \"Pred\": 52.29064352599447, \"isMid\": false, \"Mid Champs\": 0, \"pred win\": 0, \"pred_win1\": 0.2936232830976815, \"pred_score\": 0, \"pred_score1\": 0.25100999257084294}, {\"Name\": \"Irelia\", \"Class\": \"Fighter\", \"Role\": \"TOP\", \"Tier\": \"A\", \"Score\": 54.9, \"Trend\": 0.85, \"Win %\": 49.67, \"Role %\": 51.43, \"Pick %\": 4.14, \"Ban %\": 11.2, \"KDA\": 1.66, \"Pred\": 48.756124674277785, \"isMid\": false, \"Mid Champs\": 0, \"pred win\": 0, \"pred_win1\": 0.221203251771598, \"pred_score\": 0, \"pred_score1\": 0.2510112716651531}, {\"Name\": \"Irelia\", \"Class\": \"Fighter\", \"Role\": \"MID\", \"Tier\": \"A\", \"Score\": 49.15, \"Trend\": 1.54, \"Win %\": 50.01, \"Role %\": 46.91, \"Pick %\": 3.79, \"Ban %\": 11.2, \"KDA\": 1.82, \"Pred\": 49.42748579695022, \"isMid\": true, \"Mid Champs\": 1, \"pred win\": 0, \"pred_win1\": 0.23391520825259968, \"pred_score\": 0, \"pred_score1\": 0.2510121141408631}, {\"Name\": \"Ivern\", \"Class\": \"Support\", \"Role\": \"JUNGLE\", \"Tier\": \"A\", \"Score\": 51.46, \"Trend\": -8.06, \"Win %\": 51.35, \"Role %\": 74.38, \"Pick %\": 2.99, \"Ban %\": 5.29, \"KDA\": 3.44, \"Pred\": 52.073438456894564, \"isMid\": false, \"Mid Champs\": 0, \"pred win\": 0, \"pred_win1\": 0.28879302077988833, \"pred_score\": 0, \"pred_score1\": 0.251011775685178}, {\"Name\": \"Ivern\", \"Class\": \"Support\", \"Role\": \"SUPPORT\", \"Tier\": \"D\", \"Score\": 33.65, \"Trend\": -4.87, \"Win %\": 48.47, \"Role %\": 11.09, \"Pick %\": 0.43, \"Ban %\": 5.29, \"KDA\": 2.5, \"Pred\": 46.38661482955152, \"isMid\": false, \"Mid Champs\": 0, \"pred win\": 0, \"pred_win1\": 0.18035200274248253, \"pred_score\": 0, \"pred_score1\": 0.2510143851717067}, {\"Name\": \"Janna\", \"Class\": \"Support\", \"Role\": \"SUPPORT\", \"Tier\": \"S\", \"Score\": 61.02, \"Trend\": 2.58, \"Win %\": 52.4, \"Role %\": 98.81, \"Pick %\": 4.92, \"Ban %\": 1.69, \"KDA\": 3.2, \"Pred\": 54.146759571030046, \"isMid\": false, \"Mid Champs\": 0, \"pred win\": 0, \"pred_win1\": 0.3367370938959423, \"pred_score\": 0, \"pred_score1\": 0.25101037498002793}, {\"Name\": \"Jarvan IV\", \"Class\": \"Tank\", \"Role\": \"JUNGLE\", \"Tier\": \"S\", \"Score\": 64.68, \"Trend\": 1.7, \"Win %\": 51.45, \"Role %\": 92.12, \"Pick %\": 6.06, \"Ban %\": 2.47, \"KDA\": 3.27, \"Pred\": 52.27089761062176, \"isMid\": false, \"Mid Champs\": 0, \"pred win\": 0, \"pred_win1\": 0.29318222134442473, \"pred_score\": 0, \"pred_score1\": 0.2510098387281766}, {\"Name\": \"Jax\", \"Class\": \"Fighter\", \"Role\": \"TOP\", \"Tier\": \"God\", \"Score\": 92.58, \"Trend\": -0.44, \"Win %\": 50.78, \"Role %\": 85.77, \"Pick %\": 8.51, \"Ban %\": 17.43, \"KDA\": 1.71, \"Pred\": 50.94792128064958, \"isMid\": false, \"Mid Champs\": 0, \"pred win\": 0, \"pred_win1\": 0.26453701711448246, \"pred_score\": 0, \"pred_score1\": 0.25100575093172145}, {\"Name\": \"Jax\", \"Class\": \"Fighter\", \"Role\": \"JUNGLE\", \"Tier\": \"D\", \"Score\": 32.93, \"Trend\": 4.29, \"Win %\": 50.57, \"Role %\": 11.25, \"Pick %\": 1.1, \"Ban %\": 17.43, \"KDA\": 2.14, \"Pred\": 50.53325705782248, \"isMid\": false, \"Mid Champs\": 0, \"pred win\": 0, \"pred_win1\": 0.2559367167398204, \"pred_score\": 0, \"pred_score1\": 0.25101449066508436}, {\"Name\": \"Jayce\", \"Class\": \"Fighter\", \"Role\": \"TOP\", \"Tier\": \"A\", \"Score\": 54.24, \"Trend\": -1.01, \"Win %\": 49.48, \"Role %\": 66.06, \"Pick %\": 4.29, \"Ban %\": 2.77, \"KDA\": 1.82, \"Pred\": 48.38095228219612, \"isMid\": false, \"Mid Champs\": 0, \"pred win\": 0, \"pred_win1\": 0.2143182002331845, \"pred_score\": 0, \"pred_score1\": 0.25101136836661736}, {\"Name\": \"Jayce\", \"Class\": \"Fighter\", \"Role\": \"MID\", \"Tier\": \"B\", \"Score\": 45.75, \"Trend\": 0.7, \"Win %\": 50.87, \"Role %\": 31.85, \"Pick %\": 2.1, \"Ban %\": 2.77, \"KDA\": 2.16, \"Pred\": 51.12563451900405, \"isMid\": true, \"Mid Champs\": 1, \"pred win\": 0, \"pred_win1\": 0.26827900361581525, \"pred_score\": 0, \"pred_score1\": 0.25101261230129784}, {\"Name\": \"Jhin\", \"Class\": \"Marksman\", \"Role\": \"ADC\", \"Tier\": \"S\", \"Score\": 59.38, \"Trend\": -16.54, \"Win %\": 50.41, \"Role %\": 95.81, \"Pick %\": 11.46, \"Ban %\": 4.05, \"KDA\": 2.82, \"Pred\": 50.21732241185897, \"isMid\": false, \"Mid Champs\": 0, \"pred win\": 0, \"pred_win1\": 0.24950849162604513, \"pred_score\": 0, \"pred_score1\": 0.25101061526798985}, {\"Name\": \"Jinx\", \"Class\": \"Marksman\", \"Role\": \"ADC\", \"Tier\": \"A\", \"Score\": 48.29, \"Trend\": -4.48, \"Win %\": 49.15, \"Role %\": 98.11, \"Pick %\": 8.47, \"Ban %\": 1.44, \"KDA\": 2.24, \"Pred\": 47.72933707489639, \"isMid\": false, \"Mid Champs\": 0, \"pred win\": 0, \"pred_win1\": 0.20273352468190486, \"pred_score\": 0, \"pred_score1\": 0.2510122401460874}, {\"Name\": \"K'Sante\", \"Class\": \"Fighter\", \"Role\": \"TOP\", \"Tier\": \"S\", \"Score\": 59.69, \"Trend\": -2.15, \"Win %\": 45.25, \"Role %\": 87.99, \"Pick %\": 6.48, \"Ban %\": 5.83, \"KDA\": 1.82, \"Pred\": 40.02843007953602, \"isMid\": false, \"Mid Champs\": 0, \"pred win\": 0, \"pred_win1\": 0.09983945958895242, \"pred_score\": 0, \"pred_score1\": 0.25101056984769266}, {\"Name\": \"Kai'Sa\", \"Class\": \"Marksman\", \"Role\": \"ADC\", \"Tier\": \"God\", \"Score\": 92.98, \"Trend\": 3.24, \"Win %\": 51.4, \"Role %\": 91.68, \"Pick %\": 28.67, \"Ban %\": 11.96, \"KDA\": 2.48, \"Pred\": 52.172168033758155, \"isMid\": false, \"Mid Champs\": 0, \"pred win\": 0, \"pred_win1\": 0.2909827416576457, \"pred_score\": 0, \"pred_score1\": 0.2510056923256425}, {\"Name\": \"Kalista\", \"Class\": \"Marksman\", \"Role\": \"ADC\", \"Tier\": \"C\", \"Score\": 34.73, \"Trend\": 6.99, \"Win %\": 47.64, \"Role %\": 88.59, \"Pick %\": 2.28, \"Ban %\": 0.68, \"KDA\": 2.12, \"Pred\": 44.747703853615846, \"isMid\": false, \"Mid Champs\": 0, \"pred win\": 0, \"pred_win1\": 0.15570425564182772, \"pred_score\": 0, \"pred_score1\": 0.25101422693169545}, {\"Name\": \"Karma\", \"Class\": \"Mage\", \"Role\": \"SUPPORT\", \"Tier\": \"A\", \"Score\": 50.43, \"Trend\": -0.38, \"Win %\": 48.0, \"Role %\": 89.34, \"Pick %\": 5.1, \"Ban %\": 0.93, \"KDA\": 2.55, \"Pred\": 45.45855680703373, \"isMid\": false, \"Mid Champs\": 0, \"pred win\": 0, \"pred_win1\": 0.16604016434804533, \"pred_score\": 0, \"pred_score1\": 0.25101192659828153}, {\"Name\": \"Karthus\", \"Class\": \"Mage\", \"Role\": \"ADC\", \"Tier\": \"B\", \"Score\": 46.76, \"Trend\": 6.48, \"Win %\": 54.12, \"Role %\": 34.38, \"Pick %\": 1.84, \"Ban %\": 5.94, \"KDA\": 2.27, \"Pred\": 57.54305701513769, \"isMid\": false, \"Mid Champs\": 0, \"pred win\": 0, \"pred_win1\": 0.42264024942011746, \"pred_score\": 0, \"pred_score1\": 0.25101246431827656}, {\"Name\": \"Karthus\", \"Class\": \"Mage\", \"Role\": \"MID\", \"Tier\": \"B\", \"Score\": 42.52, \"Trend\": 3.23, \"Win %\": 51.76, \"Role %\": 10.07, \"Pick %\": 0.47, \"Ban %\": 5.94, \"KDA\": 2.25, \"Pred\": 52.88302098717604, \"isMid\": true, \"Mid Champs\": 1, \"pred win\": 0, \"pred_win1\": 0.3070330290673564, \"pred_score\": 0, \"pred_score1\": 0.25101308555431967}, {\"Name\": \"Karthus\", \"Class\": \"Mage\", \"Role\": \"JUNGLE\", \"Tier\": \"C\", \"Score\": 38.01, \"Trend\": -1.81, \"Win %\": 49.56, \"Role %\": 48.67, \"Pick %\": 2.31, \"Ban %\": 5.94, \"KDA\": 2.46, \"Pred\": 48.53891960517788, \"isMid\": false, \"Mid Champs\": 0, \"pred win\": 0, \"pred_win1\": 0.21719802012573855, \"pred_score\": 0, \"pred_score1\": 0.2510137463513272}, {\"Name\": \"Kassadin\", \"Class\": \"Assassin\", \"Role\": \"MID\", \"Tier\": \"B\", \"Score\": 45.87, \"Trend\": -1.12, \"Win %\": 50.38, \"Role %\": 95.52, \"Pick %\": 1.92, \"Ban %\": 3.09, \"KDA\": 2.5, \"Pred\": 50.15808466574083, \"isMid\": true, \"Mid Champs\": 1, \"pred win\": 0, \"pred_win1\": 0.24831527179223017, \"pred_score\": 0, \"pred_score1\": 0.25101259471915366}, {\"Name\": \"Katarina\", \"Class\": \"Assassin\", \"Role\": \"MID\", \"Tier\": \"S\", \"Score\": 64.8, \"Trend\": 2.24, \"Win %\": 49.37, \"Role %\": 95.1, \"Pick %\": 7.86, \"Ban %\": 12.01, \"KDA\": 2.24, \"Pred\": 48.163747213096215, \"isMid\": true, \"Mid Champs\": 1, \"pred win\": 0, \"pred_win1\": 0.21040395316052107, \"pred_score\": 0, \"pred_score1\": 0.25100982114616166}, {\"Name\": \"Kayle\", \"Class\": \"Fighter\", \"Role\": \"TOP\", \"Tier\": \"S\", \"Score\": 59.91, \"Trend\": -2.81, \"Win %\": 52.36, \"Role %\": 84.12, \"Pick %\": 4.17, \"Ban %\": 2.69, \"KDA\": 1.83, \"Pred\": 54.067775909539165, \"isMid\": false, \"Mid Champs\": 0, \"pred win\": 0, \"pred_win1\": 0.3348391017432953, \"pred_score\": 0, \"pred_score1\": 0.25101053761393666}, {\"Name\": \"Kayle\", \"Class\": \"Fighter\", \"Role\": \"MID\", \"Tier\": \"B\", \"Score\": 47.19, \"Trend\": -0.96, \"Win %\": 54.21, \"Role %\": 13.41, \"Pick %\": 0.6, \"Ban %\": 2.69, \"KDA\": 2.22, \"Pred\": 57.72077025349218, \"isMid\": true, \"Mid Champs\": 1, \"pred win\": 0, \"pred_win1\": 0.42731925627568385, \"pred_score\": 0, \"pred_score1\": 0.25101240131562175}, {\"Name\": \"Kayn\", \"Class\": \"Fighter\", \"Role\": \"JUNGLE\", \"Tier\": \"God\", \"Score\": 83.56, \"Trend\": 7.31, \"Win %\": 51.06, \"Role %\": 93.96, \"Pick %\": 10.28, \"Ban %\": 10.65, \"KDA\": 2.45, \"Pred\": 51.50080691108572, \"isMid\": false, \"Mid Champs\": 0, \"pred win\": 0, \"pred_win1\": 0.27628797033126895, \"pred_score\": 0, \"pred_score1\": 0.2510070725012175}, {\"Name\": \"Kennen\", \"Class\": \"Mage\", \"Role\": \"TOP\", \"Tier\": \"C\", \"Score\": 38.75, \"Trend\": -6.52, \"Win %\": 48.76, \"Role %\": 80.59, \"Pick %\": 2.03, \"Ban %\": 1.97, \"KDA\": 1.88, \"Pred\": 46.959246375360365, \"isMid\": false, \"Mid Champs\": 0, \"pred win\": 0, \"pred_win1\": 0.18965278708378172, \"pred_score\": 0, \"pred_score1\": 0.25101363792779213}, {\"Name\": \"Kennen\", \"Class\": \"Mage\", \"Role\": \"MID\", \"Tier\": \"C\", \"Score\": 37.55, \"Trend\": -3.41, \"Win %\": 49.12, \"Role %\": 14.67, \"Pick %\": 0.39, \"Ban %\": 1.97, \"KDA\": 2.29, \"Pred\": 47.670099328778235, \"isMid\": true, \"Mid Champs\": 1, \"pred win\": 0, \"pred_win1\": 0.20170387616672844, \"pred_score\": 0, \"pred_score1\": 0.2510138137497566}, {\"Name\": \"Kha'Zix\", \"Class\": \"Assassin\", \"Role\": \"JUNGLE\", \"Tier\": \"God\", \"Score\": 89.93, \"Trend\": -3.1, \"Win %\": 51.13, \"Role %\": 99.12, \"Pick %\": 10.1, \"Ban %\": 19.44, \"KDA\": 2.64, \"Pred\": 51.639028318694756, \"isMid\": false, \"Mid Champs\": 0, \"pred win\": 0, \"pred_win1\": 0.2792756249811088, \"pred_score\": 0, \"pred_score1\": 0.25100613919722425}, {\"Name\": \"Kindred\", \"Class\": \"Marksman\", \"Role\": \"JUNGLE\", \"Tier\": \"God\", \"Score\": 73.66, \"Trend\": -12.38, \"Win %\": 51.32, \"Role %\": 96.38, \"Pick %\": 7.2, \"Ban %\": 19.82, \"KDA\": 2.31, \"Pred\": 52.01420071077641, \"isMid\": false, \"Mid Champs\": 0, \"pred win\": 0, \"pred_win1\": 0.28748389678358927, \"pred_score\": 0, \"pred_score1\": 0.2510085230096484}, {\"Name\": \"Kled\", \"Class\": \"Fighter\", \"Role\": \"TOP\", \"Tier\": \"A\", \"Score\": 48.26, \"Trend\": -0.11, \"Win %\": 52.16, \"Role %\": 88.41, \"Pick %\": 1.98, \"Ban %\": 1.33, \"KDA\": 2.21, \"Pred\": 53.67285760208479, \"isMid\": false, \"Mid Champs\": 0, \"pred win\": 0, \"pred_win1\": 0.3254299640346133, \"pred_score\": 0, \"pred_score1\": 0.2510122445416193}, {\"Name\": \"Kog'Maw\", \"Class\": \"Marksman\", \"Role\": \"ADC\", \"Tier\": \"B\", \"Score\": 42.51, \"Trend\": 8.28, \"Win %\": 51.88, \"Role %\": 89.95, \"Pick %\": 2.34, \"Ban %\": 2.26, \"KDA\": 2.13, \"Pred\": 53.11997197164867, \"isMid\": false, \"Mid Champs\": 0, \"pred win\": 0, \"pred_win1\": 0.31249140315266744, \"pred_score\": 0, \"pred_score1\": 0.25101308701950026}, {\"Name\": \"LeBlanc\", \"Class\": \"Assassin\", \"Role\": \"MID\", \"Tier\": \"S\", \"Score\": 66.02, \"Trend\": -21.94, \"Win %\": 49.58, \"Role %\": 90.18, \"Pick %\": 6.61, \"Ban %\": 18.83, \"KDA\": 2.74, \"Pred\": 48.578411435923314, \"isMid\": true, \"Mid Champs\": 1, \"pred win\": 0, \"pred_win1\": 0.21792232825109056, \"pred_score\": 0, \"pred_score1\": 0.2510096423957221}, {\"Name\": \"Lee Sin\", \"Class\": \"Fighter\", \"Role\": \"JUNGLE\", \"Tier\": \"God\", \"Score\": 91.03, \"Trend\": 13.94, \"Win %\": 47.95, \"Role %\": 92.93, \"Pick %\": 13.32, \"Ban %\": 7.59, \"KDA\": 2.67, \"Pred\": 45.35982723017014, \"isMid\": false, \"Mid Champs\": 0, \"pred win\": 0, \"pred_win1\": 0.1645724299390525, \"pred_score\": 0, \"pred_score1\": 0.2510059780303633}, {\"Name\": \"Leona\", \"Class\": \"Tank\", \"Role\": \"SUPPORT\", \"Tier\": \"S\", \"Score\": 57.54, \"Trend\": -0.02, \"Win %\": 51.01, \"Role %\": 98.61, \"Pick %\": 5.49, \"Ban %\": 3.77, \"KDA\": 2.39, \"Pred\": 51.40207733422211, \"isMid\": false, \"Mid Champs\": 0, \"pred win\": 0, \"pred_win1\": 0.27416607108197094, \"pred_score\": 0, \"pred_score1\": 0.25101088485954376}, {\"Name\": \"Lillia\", \"Class\": \"Fighter\", \"Role\": \"JUNGLE\", \"Tier\": \"A\", \"Score\": 51.06, \"Trend\": 0.54, \"Win %\": 51.41, \"Role %\": 87.66, \"Pick %\": 3.89, \"Ban %\": 2.04, \"KDA\": 2.75, \"Pred\": 52.191913949130864, \"isMid\": false, \"Mid Champs\": 0, \"pred win\": 0, \"pred_win1\": 0.2914218587831223, \"pred_score\": 0, \"pred_score1\": 0.2510118342922013}, {\"Name\": \"Lissandra\", \"Class\": \"Mage\", \"Role\": \"MID\", \"Tier\": \"A\", \"Score\": 47.5, \"Trend\": -3.35, \"Win %\": 49.79, \"Role %\": 92.35, \"Pick %\": 2.95, \"Ban %\": 1.4, \"KDA\": 2.4, \"Pred\": 48.99307565875041, \"isMid\": true, \"Mid Champs\": 1, \"pred win\": 0, \"pred_win1\": 0.22563258792457846, \"pred_score\": 0, \"pred_score1\": 0.2510123558951096}, {\"Name\": \"Lucian\", \"Class\": \"Marksman\", \"Role\": \"ADC\", \"Tier\": \"B\", \"Score\": 45.63, \"Trend\": -7.42, \"Win %\": 48.67, \"Role %\": 92.8, \"Pick %\": 7.36, \"Ban %\": 2.3, \"KDA\": 2.22, \"Pred\": 46.781533137005894, \"isMid\": false, \"Mid Champs\": 0, \"pred win\": 0, \"pred_win1\": 0.18672762481430588, \"pred_score\": 0, \"pred_score1\": 0.2510126298834429}, {\"Name\": \"Lulu\", \"Class\": \"Support\", \"Role\": \"SUPPORT\", \"Tier\": \"S\", \"Score\": 59.04, \"Trend\": -0.46, \"Win %\": 47.93, \"Role %\": 97.34, \"Pick %\": 6.64, \"Ban %\": 6.75, \"KDA\": 2.85, \"Pred\": 45.32033539942469, \"isMid\": false, \"Mid Champs\": 0, \"pred win\": 0, \"pred_win1\": 0.1639882600475616, \"pred_score\": 0, \"pred_score1\": 0.25101066508380593}, {\"Name\": \"Lux\", \"Class\": \"Mage\", \"Role\": \"SUPPORT\", \"Tier\": \"God\", \"Score\": 84.82, \"Trend\": 7.57, \"Win %\": 50.0, \"Role %\": 64.68, \"Pick %\": 11.55, \"Ban %\": 11.12, \"KDA\": 2.36, \"Pred\": 49.40773988157751, \"isMid\": false, \"Mid Champs\": 0, \"pred win\": 0, \"pred_win1\": 0.2335341839353771, \"pred_score\": 0, \"pred_score1\": 0.25100688789145337}, {\"Name\": \"Lux\", \"Class\": \"Mage\", \"Role\": \"MID\", \"Tier\": \"S\", \"Score\": 60.79, \"Trend\": -0.11, \"Win %\": 51.03, \"Role %\": 31.83, \"Pick %\": 5.03, \"Ban %\": 11.12, \"KDA\": 2.87, \"Pred\": 51.44156916496756, \"isMid\": true, \"Mid Champs\": 1, \"pred win\": 0, \"pred_win1\": 0.2750136129641014, \"pred_score\": 0, \"pred_score1\": 0.2510104086789402}, {\"Name\": \"Malphite\", \"Class\": \"Tank\", \"Role\": \"TOP\", \"Tier\": \"God\", \"Score\": 83.04, \"Trend\": -1.26, \"Win %\": 51.43, \"Role %\": 72.61, \"Pick %\": 6.62, \"Ban %\": 13.84, \"KDA\": 2.48, \"Pred\": 52.23140577987631, \"isMid\": false, \"Mid Champs\": 0, \"pred win\": 0, \"pred_win1\": 0.29230126220874775, \"pred_score\": 0, \"pred_score1\": 0.2510071486894005}, {\"Name\": \"Malphite\", \"Class\": \"Tank\", \"Role\": \"MID\", \"Tier\": \"B\", \"Score\": 46.92, \"Trend\": -1.33, \"Win %\": 52.0, \"Role %\": 12.29, \"Pick %\": 1.12, \"Ban %\": 13.84, \"KDA\": 2.55, \"Pred\": 53.356922956121295, \"isMid\": true, \"Mid Champs\": 1, \"pred win\": 0, \"pred_win1\": 0.31800228449469886, \"pred_score\": 0, \"pred_score1\": 0.251012440875427}, {\"Name\": \"Malphite\", \"Class\": \"Tank\", \"Role\": \"SUPPORT\", \"Tier\": \"D\", \"Score\": 30.04, \"Trend\": -4.96, \"Win %\": 46.11, \"Role %\": 11.74, \"Pick %\": 1.09, \"Ban %\": 13.79, \"KDA\": 1.99, \"Pred\": 41.72657880158985, \"isMid\": false, \"Mid Champs\": 0, \"pred win\": 0, \"pred_win1\": 0.11752833166192192, \"pred_score\": 0, \"pred_score1\": 0.2510149141040774}, {\"Name\": \"Malzahar\", \"Class\": \"Mage\", \"Role\": \"MID\", \"Tier\": \"A\", \"Score\": 51.78, \"Trend\": -1.03, \"Win %\": 50.78, \"Role %\": 89.78, \"Pick %\": 3.73, \"Ban %\": 5.55, \"KDA\": 2.27, \"Pred\": 50.94792128064958, \"isMid\": true, \"Mid Champs\": 1, \"pred win\": 0, \"pred_win1\": 0.26453701711448246, \"pred_score\": 0, \"pred_score1\": 0.25101172879956596}, {\"Name\": \"Maokai\", \"Class\": \"Tank\", \"Role\": \"JUNGLE\", \"Tier\": \"A\", \"Score\": 52.39, \"Trend\": 1.0, \"Win %\": 51.84, \"Role %\": 64.48, \"Pick %\": 3.61, \"Ban %\": 1.08, \"KDA\": 3.05, \"Pred\": 53.0409883101578, \"isMid\": false, \"Mid Champs\": 0, \"pred win\": 0, \"pred_win1\": 0.3106660601819005, \"pred_score\": 0, \"pred_score1\": 0.251011639423884}, {\"Name\": \"Maokai\", \"Class\": \"Tank\", \"Role\": \"SUPPORT\", \"Tier\": \"B\", \"Score\": 46.53, \"Trend\": 5.55, \"Win %\": 54.49, \"Role %\": 18.87, \"Pick %\": 1.01, \"Ban %\": 1.08, \"KDA\": 2.37, \"Pred\": 58.2736558839283, \"isMid\": false, \"Mid Champs\": 0, \"pred win\": 0, \"pred_win1\": 0.441955911051543, \"pred_score\": 0, \"pred_score1\": 0.25101249801737535}, {\"Name\": \"Maokai\", \"Class\": \"Tank\", \"Role\": \"TOP\", \"Tier\": \"B\", \"Score\": 43.6, \"Trend\": 2.19, \"Win %\": 52.33, \"Role %\": 15.61, \"Pick %\": 0.89, \"Ban %\": 1.08, \"KDA\": 2.44, \"Pred\": 54.00853816342101, \"isMid\": false, \"Mid Champs\": 0, \"pred win\": 0, \"pred_win1\": 0.33341910143509074, \"pred_score\": 0, \"pred_score1\": 0.2510129273148532}, {\"Name\": \"Master Yi\", \"Class\": \"Assassin\", \"Role\": \"JUNGLE\", \"Tier\": \"God\", \"Score\": 71.87, \"Trend\": -1.37, \"Win %\": 49.7, \"Role %\": 91.72, \"Pick %\": 7.9, \"Ban %\": 19.09, \"KDA\": 2.06, \"Pred\": 48.81536242039594, \"isMid\": false, \"Mid Champs\": 0, \"pred win\": 0, \"pred_win1\": 0.2223047206238844, \"pred_score\": 0, \"pred_score1\": 0.25100878527388887}, {\"Name\": \"Milio\", \"Class\": \"Support\", \"Role\": \"SUPPORT\", \"Tier\": \"God\", \"Score\": 81.15, \"Trend\": -11.18, \"Win %\": 50.52, \"Role %\": 99.51, \"Pick %\": 8.81, \"Ban %\": 18.76, \"KDA\": 3.39, \"Pred\": 50.434527480958906, \"isMid\": false, \"Mid Champs\": 0, \"pred win\": 0, \"pred_win1\": 0.25391627804762246, \"pred_score\": 0, \"pred_score1\": 0.25100742560427186}, {\"Name\": \"Miss Fortune\", \"Class\": \"Marksman\", \"Role\": \"ADC\", \"Tier\": \"S\", \"Score\": 60.44, \"Trend\": -4.87, \"Win %\": 51.75, \"Role %\": 91.94, \"Pick %\": 12.21, \"Ban %\": 4.64, \"KDA\": 2.31, \"Pred\": 52.863275071803315, \"isMid\": false, \"Mid Champs\": 0, \"pred win\": 0, \"pred_win1\": 0.3065805666095266, \"pred_score\": 0, \"pred_score1\": 0.2510104599598994}, {\"Name\": \"Mordekaiser\", \"Class\": \"Fighter\", \"Role\": \"TOP\", \"Tier\": \"God\", \"Score\": 72.79, \"Trend\": -1.18, \"Win %\": 49.87, \"Role %\": 85.39, \"Pick %\": 6.38, \"Ban %\": 11.25, \"KDA\": 1.83, \"Pred\": 49.15104298173216, \"isMid\": false, \"Mid Champs\": 0, \"pred win\": 0, \"pred_win1\": 0.2286202016358385, \"pred_score\": 0, \"pred_score1\": 0.25100865047883747}, {\"Name\": \"Morgana\", \"Class\": \"Mage\", \"Role\": \"SUPPORT\", \"Tier\": \"S\", \"Score\": 64.13, \"Trend\": 5.31, \"Win %\": 49.29, \"Role %\": 89.62, \"Pick %\": 5.96, \"Ban %\": 24.57, \"KDA\": 2.36, \"Pred\": 48.00577989011447, \"isMid\": false, \"Mid Champs\": 0, \"pred win\": 0, \"pred_win1\": 0.20759032672278727, \"pred_score\": 0, \"pred_score1\": 0.2510099193124226}, {\"Name\": \"Nami\", \"Class\": \"Support\", \"Role\": \"SUPPORT\", \"Tier\": \"A\", \"Score\": 52.82, \"Trend\": -2.31, \"Win %\": 49.25, \"Role %\": 99.39, \"Pick %\": 4.7, \"Ban %\": 0.46, \"KDA\": 2.93, \"Pred\": 47.92679622862359, \"isMid\": false, \"Mid Champs\": 0, \"pred win\": 0, \"pred_win1\": 0.20619396398468656, \"pred_score\": 0, \"pred_score1\": 0.25101157642136684}, {\"Name\": \"Nasus\", \"Class\": \"Fighter\", \"Role\": \"TOP\", \"Tier\": \"S\", \"Score\": 66.24, \"Trend\": -5.88, \"Win %\": 51.4, \"Role %\": 81.24, \"Pick %\": 5.26, \"Ban %\": 5.33, \"KDA\": 1.92, \"Pred\": 52.172168033758155, \"isMid\": false, \"Mid Champs\": 0, \"pred win\": 0, \"pred_win1\": 0.2909827416576457, \"pred_score\": 0, \"pred_score1\": 0.2510096101620453}, {\"Name\": \"Nasus\", \"Class\": \"Fighter\", \"Role\": \"MID\", \"Tier\": \"B\", \"Score\": 42.5, \"Trend\": 1.0, \"Win %\": 51.71, \"Role %\": 11.6, \"Pick %\": 0.58, \"Ban %\": 5.33, \"KDA\": 2.2, \"Pred\": 52.78429141031245, \"isMid\": true, \"Mid Champs\": 1, \"pred win\": 0, \"pred_win1\": 0.30477444457053715, \"pred_score\": 0, \"pred_score1\": 0.25101308848468085}, {\"Name\": \"Nautilus\", \"Class\": \"Tank\", \"Role\": \"SUPPORT\", \"Tier\": \"God\", \"Score\": 87.81, \"Trend\": 8.42, \"Win %\": 50.82, \"Role %\": 96.15, \"Pick %\": 11.97, \"Ban %\": 14.67, \"KDA\": 2.3, \"Pred\": 51.02690494214046, \"isMid\": false, \"Mid Champs\": 0, \"pred win\": 0, \"pred_win1\": 0.2661959891607698, \"pred_score\": 0, \"pred_score1\": 0.25100644980991405}, {\"Name\": \"Neeko\", \"Class\": \"Mage\", \"Role\": \"MID\", \"Tier\": \"A\", \"Score\": 54.1, \"Trend\": -11.96, \"Win %\": 51.61, \"Role %\": 47.72, \"Pick %\": 3.25, \"Ban %\": 15.44, \"KDA\": 2.51, \"Pred\": 52.586832256585254, \"isMid\": true, \"Mid Champs\": 1, \"pred win\": 0, \"pred_win1\": 0.3002854275427224, \"pred_score\": 0, \"pred_score1\": 0.25101138887905233}, {\"Name\": \"Neeko\", \"Class\": \"Mage\", \"Role\": \"SUPPORT\", \"Tier\": \"B\", \"Score\": 44.74, \"Trend\": -2.19, \"Win %\": 49.94, \"Role %\": 37.24, \"Pick %\": 2.75, \"Ban %\": 15.44, \"KDA\": 2.02, \"Pred\": 49.2892643893412, \"isMid\": false, \"Mid Champs\": 0, \"pred win\": 0, \"pred_win1\": 0.23125710931271562, \"pred_score\": 0, \"pred_score1\": 0.2510127602843772}, {\"Name\": \"Nidalee\", \"Class\": \"Assassin\", \"Role\": \"JUNGLE\", \"Tier\": \"A\", \"Score\": 54.05, \"Trend\": 6.14, \"Win %\": 48.74, \"Role %\": 90.77, \"Pick %\": 5.29, \"Ban %\": 5.7, \"KDA\": 2.92, \"Pred\": 46.91975454461493, \"isMid\": false, \"Mid Champs\": 0, \"pred win\": 0, \"pred_win1\": 0.18899973181333676, \"pred_score\": 0, \"pred_score1\": 0.25101139620492224}, {\"Name\": \"Nilah\", \"Class\": \"Marksman\", \"Role\": \"ADC\", \"Tier\": \"B\", \"Score\": 45.72, \"Trend\": 5.1, \"Win %\": 52.55, \"Role %\": 97.23, \"Pick %\": 3.03, \"Ban %\": 5.33, \"KDA\": 2.25, \"Pred\": 54.44294830162083, \"isMid\": false, \"Mid Champs\": 0, \"pred win\": 0, \"pred_win1\": 0.34390121352953174, \"pred_score\": 0, \"pred_score1\": 0.25101261669683406}, {\"Name\": \"Nocturne\", \"Class\": \"Assassin\", \"Role\": \"JUNGLE\", \"Tier\": \"A\", \"Score\": 56.43, \"Trend\": 3.43, \"Win %\": 51.84, \"Role %\": 94.08, \"Pick %\": 4.79, \"Ban %\": 4.66, \"KDA\": 2.65, \"Pred\": 53.0409883101578, \"isMid\": false, \"Mid Champs\": 0, \"pred win\": 0, \"pred_win1\": 0.3106660601819005, \"pred_score\": 0, \"pred_score1\": 0.25101104749367215}, {\"Name\": \"Nunu\", \"Class\": \"Tank\", \"Role\": \"JUNGLE\", \"Tier\": \"B\", \"Score\": 42.05, \"Trend\": -2.96, \"Win %\": 48.11, \"Role %\": 90.95, \"Pick %\": 3.81, \"Ban %\": 0.92, \"KDA\": 2.66, \"Pred\": 45.675761876133635, \"isMid\": false, \"Mid Champs\": 0, \"pred win\": 0, \"pred_win1\": 0.1693060565511657, \"pred_score\": 0, \"pred_score1\": 0.25101315441781197}, {\"Name\": \"Olaf\", \"Class\": \"Fighter\", \"Role\": \"TOP\", \"Tier\": \"A\", \"Score\": 48.79, \"Trend\": 0.53, \"Win %\": 51.34, \"Role %\": 86.29, \"Pick %\": 2.82, \"Ban %\": 3.77, \"KDA\": 1.74, \"Pred\": 52.053692541521855, \"isMid\": false, \"Mid Champs\": 0, \"pred win\": 0, \"pred_win1\": 0.28835625281656047, \"pred_score\": 0, \"pred_score1\": 0.25101216688723094}, {\"Name\": \"Olaf\", \"Class\": \"Fighter\", \"Role\": \"JUNGLE\", \"Tier\": \"D\", \"Score\": 22.96, \"Trend\": -3.37, \"Win %\": 48.21, \"Role %\": 10.8, \"Pick %\": 0.31, \"Ban %\": 3.77, \"KDA\": 2.17, \"Pred\": 45.87322102986083, \"isMid\": false, \"Mid Champs\": 0, \"pred win\": 0, \"pred_win1\": 0.17231924725175998, \"pred_score\": 0, \"pred_score1\": 0.2510159514583579}, {\"Name\": \"Orianna\", \"Class\": \"Mage\", \"Role\": \"MID\", \"Tier\": \"A\", \"Score\": 50.56, \"Trend\": -0.15, \"Win %\": 50.69, \"Role %\": 89.37, \"Pick %\": 2.87, \"Ban %\": 0.27, \"KDA\": 2.76, \"Pred\": 50.77020804229511, \"isMid\": true, \"Mid Champs\": 1, \"pred win\": 0, \"pred_win1\": 0.26082861936695984, \"pred_score\": 0, \"pred_score1\": 0.2510119075509933}, {\"Name\": \"Ornn\", \"Class\": \"Tank\", \"Role\": \"TOP\", \"Tier\": \"S\", \"Score\": 60.18, \"Trend\": -1.99, \"Win %\": 50.28, \"Role %\": 93.53, \"Pick %\": 4.4, \"Ban %\": 1.16, \"KDA\": 2.4, \"Pred\": 49.960625512013635, \"isMid\": false, \"Mid Champs\": 0, \"pred win\": 0, \"pred_win1\": 0.2443655458024944, \"pred_score\": 0, \"pred_score1\": 0.2510104980543308}, {\"Name\": \"Pantheon\", \"Class\": \"Fighter\", \"Role\": \"MID\", \"Tier\": \"A\", \"Score\": 49.94, \"Trend\": -2.96, \"Win %\": 51.3, \"Role %\": 32.08, \"Pick %\": 2.89, \"Ban %\": 5.56, \"KDA\": 2.29, \"Pred\": 51.97470888003096, \"isMid\": true, \"Mid Champs\": 1, \"pred win\": 0, \"pred_win1\": 0.286613116966705, \"pred_score\": 0, \"pred_score1\": 0.251011998391915}, {\"Name\": \"Pantheon\", \"Class\": \"Fighter\", \"Role\": \"TOP\", \"Tier\": \"A\", \"Score\": 49.25, \"Trend\": 3.86, \"Win %\": 50.86, \"Role %\": 32.83, \"Pick %\": 2.7, \"Ban %\": 5.56, \"KDA\": 2.03, \"Pred\": 51.10588860363133, \"isMid\": false, \"Mid Champs\": 0, \"pred win\": 0, \"pred_win1\": 0.26786157585409237, \"pred_score\": 0, \"pred_score1\": 0.25101209948909553}, {\"Name\": \"Pantheon\", \"Class\": \"Fighter\", \"Role\": \"SUPPORT\", \"Tier\": \"C\", \"Score\": 36.47, \"Trend\": 1.46, \"Win %\": 47.4, \"Role %\": 25.58, \"Pick %\": 2.33, \"Ban %\": 5.56, \"KDA\": 1.85, \"Pred\": 44.27380188467059, \"isMid\": false, \"Mid Champs\": 0, \"pred win\": 0, \"pred_win1\": 0.14910934965859338, \"pred_score\": 0, \"pred_score1\": 0.25101397198959463}, {\"Name\": \"Poppy\", \"Class\": \"Tank\", \"Role\": \"TOP\", \"Tier\": \"A\", \"Score\": 49.74, \"Trend\": 0.42, \"Win %\": 51.66, \"Role %\": 42.02, \"Pick %\": 2.35, \"Ban %\": 2.98, \"KDA\": 2.21, \"Pred\": 52.685561833448844, \"isMid\": false, \"Mid Champs\": 0, \"pred win\": 0, \"pred_win1\": 0.30252522126896364, \"pred_score\": 0, \"pred_score1\": 0.25101202769544284}, {\"Name\": \"Poppy\", \"Class\": \"Tank\", \"Role\": \"JUNGLE\", \"Tier\": \"B\", \"Score\": 44.39, \"Trend\": 0.46, \"Win %\": 50.7, \"Role %\": 49.46, \"Pick %\": 2.64, \"Ban %\": 2.98, \"KDA\": 2.89, \"Pred\": 50.789953957667834, \"isMid\": false, \"Mid Champs\": 0, \"pred win\": 0, \"pred_win1\": 0.26123899786426447, \"pred_score\": 0, \"pred_score1\": 0.2510128115656558}, {\"Name\": \"Pyke\", \"Class\": \"Support\", \"Role\": \"SUPPORT\", \"Tier\": \"S\", \"Score\": 67.1, \"Trend\": 4.07, \"Win %\": 49.12, \"Role %\": 95.33, \"Pick %\": 8.26, \"Ban %\": 12.75, \"KDA\": 2.16, \"Pred\": 47.670099328778235, \"isMid\": false, \"Mid Champs\": 0, \"pred win\": 0, \"pred_win1\": 0.20170387616672844, \"pred_score\": 0, \"pred_score1\": 0.25100948415769875}, {\"Name\": \"Qiyana\", \"Class\": \"Assassin\", \"Role\": \"MID\", \"Tier\": \"A\", \"Score\": 47.41, \"Trend\": 5.15, \"Win %\": 50.02, \"Role %\": 82.89, \"Pick %\": 3.1, \"Ban %\": 1.14, \"KDA\": 2.2, \"Pred\": 49.44723171232296, \"isMid\": true, \"Mid Champs\": 1, \"pred win\": 0, \"pred_win1\": 0.23429666420003195, \"pred_score\": 0, \"pred_score1\": 0.2510123690817094}, {\"Name\": \"Qiyana\", \"Class\": \"Assassin\", \"Role\": \"JUNGLE\", \"Tier\": \"D\", \"Score\": 20.78, \"Trend\": -2.99, \"Win %\": 46.71, \"Role %\": 11.0, \"Pick %\": 0.39, \"Ban %\": 1.14, \"KDA\": 2.34, \"Pred\": 42.91133372395299, \"isMid\": false, \"Mid Champs\": 0, \"pred win\": 0, \"pred_win1\": 0.1314271118196415, \"pred_score\": 0, \"pred_score1\": 0.2510162708702781}, {\"Name\": \"Quinn\", \"Class\": \"Marksman\", \"Role\": \"TOP\", \"Tier\": \"A\", \"Score\": 49.07, \"Trend\": 5.45, \"Win %\": 52.52, \"Role %\": 80.07, \"Pick %\": 2.25, \"Ban %\": 1.36, \"KDA\": 1.97, \"Pred\": 54.38371055550269, \"isMid\": false, \"Mid Champs\": 0, \"pred win\": 0, \"pred_win1\": 0.3424625686805159, \"pred_score\": 0, \"pred_score1\": 0.25101212586227756}, {\"Name\": \"Quinn\", \"Class\": \"Marksman\", \"Role\": \"MID\", \"Tier\": \"B\", \"Score\": 44.2, \"Trend\": -2.63, \"Win %\": 52.97, \"Role %\": 11.23, \"Pick %\": 0.29, \"Ban %\": 1.36, \"KDA\": 2.28, \"Pred\": 55.27227674727503, \"isMid\": true, \"Mid Champs\": 1, \"pred win\": 0, \"pred_win1\": 0.3643337767428079, \"pred_score\": 0, \"pred_score1\": 0.2510128394040671}, {\"Name\": \"Rakan\", \"Class\": \"Support\", \"Role\": \"SUPPORT\", \"Tier\": \"God\", \"Score\": 70.91, \"Trend\": 3.7, \"Win %\": 51.57, \"Role %\": 98.95, \"Pick %\": 8.24, \"Ban %\": 1.93, \"KDA\": 2.9, \"Pred\": 52.50784859509437, \"isMid\": false, \"Mid Champs\": 0, \"pred win\": 0, \"pred_win1\": 0.29850042676385946, \"pred_score\": 0, \"pred_score1\": 0.251008925929646}, {\"Name\": \"Rammus\", \"Class\": \"Tank\", \"Role\": \"JUNGLE\", \"Tier\": \"A\", \"Score\": 49.63, \"Trend\": -1.58, \"Win %\": 51.87, \"Role %\": 80.9, \"Pick %\": 2.69, \"Ban %\": 8.45, \"KDA\": 3.11, \"Pred\": 53.10022605627594, \"isMid\": false, \"Mid Champs\": 0, \"pred win\": 0, \"pred_win1\": 0.312034518924454, \"pred_score\": 0, \"pred_score1\": 0.2510120438123841}, {\"Name\": \"Rammus\", \"Class\": \"Tank\", \"Role\": \"TOP\", \"Tier\": \"D\", \"Score\": 30.44, \"Trend\": -3.91, \"Win %\": 50.24, \"Role %\": 15.06, \"Pick %\": 0.43, \"Ban %\": 8.45, \"KDA\": 1.61, \"Pred\": 49.88164185052277, \"isMid\": false, \"Mid Champs\": 0, \"pred win\": 0, \"pred_win1\": 0.24279760850338508, \"pred_score\": 0, \"pred_score1\": 0.251014855496576}, {\"Name\": \"Rek'Sai\", \"Class\": \"Fighter\", \"Role\": \"JUNGLE\", \"Tier\": \"S\", \"Score\": 69.23, \"Trend\": -9.71, \"Win %\": 52.87, \"Role %\": 91.38, \"Pick %\": 5.5, \"Ban %\": 18.74, \"KDA\": 2.79, \"Pred\": 55.074817593547834, \"isMid\": false, \"Mid Champs\": 0, \"pred win\": 0, \"pred_win1\": 0.3594210354514595, \"pred_score\": 0, \"pred_score1\": 0.2510091720773471}, {\"Name\": \"Rell\", \"Class\": \"Tank\", \"Role\": \"SUPPORT\", \"Tier\": \"God\", \"Score\": 80.81, \"Trend\": 11.71, \"Win %\": 54.34, \"Role %\": 85.97, \"Pick %\": 7.93, \"Ban %\": 13.06, \"KDA\": 2.95, \"Pred\": 57.97746715333753, \"isMid\": false, \"Mid Champs\": 0, \"pred win\": 0, \"pred_win1\": 0.43410063291816625, \"pred_score\": 0, \"pred_score1\": 0.2510074754196671}, {\"Name\": \"Rell\", \"Class\": \"Tank\", \"Role\": \"JUNGLE\", \"Tier\": \"B\", \"Score\": 46.63, \"Trend\": 0.0, \"Win %\": 52.51, \"Role %\": 13.0, \"Pick %\": 1.15, \"Ban %\": 13.06, \"KDA\": 3.58, \"Pred\": 54.36396464012995, \"isMid\": false, \"Mid Champs\": 0, \"pred win\": 0, \"pred_win1\": 0.3419836616294417, \"pred_score\": 0, \"pred_score1\": 0.2510124833655929}, {\"Name\": \"Renata Glasc\", \"Class\": \"Support\", \"Role\": \"SUPPORT\", \"Tier\": \"B\", \"Score\": 44.57, \"Trend\": -0.25, \"Win %\": 51.03, \"Role %\": 98.68, \"Pick %\": 1.93, \"Ban %\": 0.5, \"KDA\": 2.64, \"Pred\": 51.44156916496756, \"isMid\": false, \"Mid Champs\": 0, \"pred win\": 0, \"pred_win1\": 0.2750136129641014, \"pred_score\": 0, \"pred_score1\": 0.2510127851924259}, {\"Name\": \"Renekton\", \"Class\": \"Fighter\", \"Role\": \"TOP\", \"Tier\": \"God\", \"Score\": 77.61, \"Trend\": 12.07, \"Win %\": 50.03, \"Role %\": 91.06, \"Pick %\": 7.64, \"Ban %\": 3.83, \"KDA\": 1.9, \"Pred\": 49.46697762769567, \"isMid\": false, \"Mid Champs\": 0, \"pred win\": 0, \"pred_win1\": 0.23467855164679974, \"pred_score\": 0, \"pred_score1\": 0.2510079442707679}, {\"Name\": \"Rengar\", \"Class\": \"Assassin\", \"Role\": \"JUNGLE\", \"Tier\": \"S\", \"Score\": 62.69, \"Trend\": 0.83, \"Win %\": 49.97, \"Role %\": 82.23, \"Pick %\": 5.92, \"Ban %\": 21.29, \"KDA\": 2.37, \"Pred\": 49.348502135459356, \"isMid\": false, \"Mid Champs\": 0, \"pred win\": 0, \"pred_win1\": 0.23239370204001678, \"pred_score\": 0, \"pred_score1\": 0.2510101302967117}, {\"Name\": \"Rengar\", \"Class\": \"Assassin\", \"Role\": \"TOP\", \"Tier\": \"C\", \"Score\": 39.96, \"Trend\": -1.09, \"Win %\": 50.65, \"Role %\": 14.21, \"Pick %\": 1.06, \"Ban %\": 21.29, \"KDA\": 2.02, \"Pred\": 50.69122438080423, \"isMid\": false, \"Mid Champs\": 0, \"pred win\": 0, \"pred_win1\": 0.2591912823943446, \"pred_score\": 0, \"pred_score1\": 0.2510134606407275}, {\"Name\": \"Riven\", \"Class\": \"Fighter\", \"Role\": \"TOP\", \"Tier\": \"A\", \"Score\": 55.5, \"Trend\": 0.6, \"Win %\": 50.19, \"Role %\": 89.32, \"Pick %\": 4.32, \"Ban %\": 1.51, \"KDA\": 1.81, \"Pred\": 49.782912273659164, \"isMid\": false, \"Mid Champs\": 0, \"pred win\": 0, \"pred_win1\": 0.24084731913817703, \"pred_score\": 0, \"pred_score1\": 0.2510111837547525}, {\"Name\": \"Rumble\", \"Class\": \"Fighter\", \"Role\": \"MID\", \"Tier\": \"B\", \"Score\": 47.23, \"Trend\": 6.27, \"Win %\": 53.2, \"Role %\": 18.85, \"Pick %\": 0.65, \"Ban %\": 1.37, \"KDA\": 2.58, \"Pred\": 55.72643280084756, \"isMid\": true, \"Mid Champs\": 1, \"pred win\": 0, \"pred_win1\": 0.3757395609984254, \"pred_score\": 0, \"pred_score1\": 0.25101239545491016}, {\"Name\": \"Rumble\", \"Class\": \"Fighter\", \"Role\": \"TOP\", \"Tier\": \"B\", \"Score\": 45.51, \"Trend\": 3.43, \"Win %\": 50.28, \"Role %\": 65.29, \"Pick %\": 2.31, \"Ban %\": 1.37, \"KDA\": 2.12, \"Pred\": 49.960625512013635, \"isMid\": false, \"Mid Champs\": 0, \"pred win\": 0, \"pred_win1\": 0.2443655458024944, \"pred_score\": 0, \"pred_score1\": 0.25101264746558866}, {\"Name\": \"Rumble\", \"Class\": \"Fighter\", \"Role\": \"JUNGLE\", \"Tier\": \"D\", \"Score\": 31.2, \"Trend\": 2.43, \"Win %\": 49.62, \"Role %\": 13.22, \"Pick %\": 0.47, \"Ban %\": 1.37, \"KDA\": 2.86, \"Pred\": 48.65739509741418, \"isMid\": false, \"Mid Champs\": 0, \"pred win\": 0, \"pred_win1\": 0.21937616643744723, \"pred_score\": 0, \"pred_score1\": 0.2510147441423484}, {\"Name\": \"Ryze\", \"Class\": \"Mage\", \"Role\": \"MID\", \"Tier\": \"B\", \"Score\": 45.59, \"Trend\": -0.42, \"Win %\": 50.26, \"Role %\": 82.64, \"Pick %\": 2.18, \"Ban %\": 0.23, \"KDA\": 2.35, \"Pred\": 49.9211336812682, \"isMid\": true, \"Mid Champs\": 1, \"pred win\": 0, \"pred_win1\": 0.2435807218065115, \"pred_score\": 0, \"pred_score1\": 0.25101263574415805}, {\"Name\": \"Ryze\", \"Class\": \"Mage\", \"Role\": \"TOP\", \"Tier\": \"C\", \"Score\": 35.71, \"Trend\": -1.31, \"Win %\": 51.59, \"Role %\": 14.87, \"Pick %\": 0.41, \"Ban %\": 0.23, \"KDA\": 1.98, \"Pred\": 52.54734042583982, \"isMid\": false, \"Mid Champs\": 0, \"pred win\": 0, \"pred_win1\": 0.2993921653392352, \"pred_score\": 0, \"pred_score1\": 0.25101408334359454}, {\"Name\": \"Samira\", \"Class\": \"Marksman\", \"Role\": \"ADC\", \"Tier\": \"S\", \"Score\": 57.04, \"Trend\": -4.91, \"Win %\": 49.47, \"Role %\": 97.6, \"Pick %\": 10.77, \"Ban %\": 21.63, \"KDA\": 2.19, \"Pred\": 48.36120636682341, \"isMid\": false, \"Mid Champs\": 0, \"pred win\": 0, \"pred_win1\": 0.21396018208303696, \"pred_score\": 0, \"pred_score1\": 0.2510109581181515}, {\"Name\": \"Sejuani\", \"Class\": \"Tank\", \"Role\": \"JUNGLE\", \"Tier\": \"A\", \"Score\": 49.91, \"Trend\": 3.2, \"Win %\": 50.44, \"Role %\": 85.88, \"Pick %\": 3.52, \"Ban %\": 0.72, \"KDA\": 3.27, \"Pred\": 50.276560157977144, \"isMid\": false, \"Mid Champs\": 0, \"pred win\": 0, \"pred_win1\": 0.2507055328507256, \"pred_score\": 0, \"pred_score1\": 0.25101200278744407}, {\"Name\": \"Senna\", \"Class\": \"Marksman\", \"Role\": \"SUPPORT\", \"Tier\": \"S\", \"Score\": 62.66, \"Trend\": 1.54, \"Win %\": 50.84, \"Role %\": 91.84, \"Pick %\": 6.86, \"Ban %\": 2.56, \"KDA\": 2.51, \"Pred\": 51.06639677288591, \"isMid\": false, \"Mid Champs\": 0, \"pred win\": 0, \"pred_win1\": 0.267027956975774, \"pred_score\": 0, \"pred_score1\": 0.251010134692219}, {\"Name\": \"Seraphine\", \"Class\": \"Mage\", \"Role\": \"SUPPORT\", \"Tier\": \"A\", \"Score\": 52.34, \"Trend\": 0.66, \"Win %\": 49.76, \"Role %\": 66.64, \"Pick %\": 4.81, \"Ban %\": 1.33, \"KDA\": 2.45, \"Pred\": 48.93383791263226, \"isMid\": false, \"Mid Champs\": 0, \"pred win\": 0, \"pred_win1\": 0.2245193905495187, \"pred_score\": 0, \"pred_score1\": 0.25101164674975873}, {\"Name\": \"Seraphine\", \"Class\": \"Mage\", \"Role\": \"ADC\", \"Tier\": \"A\", \"Score\": 49.21, \"Trend\": 9.81, \"Win %\": 53.81, \"Role %\": 22.28, \"Pick %\": 1.28, \"Ban %\": 1.33, \"KDA\": 3.0, \"Pred\": 56.930933638583426, \"isMid\": false, \"Mid Champs\": 0, \"pred win\": 0, \"pred_win1\": 0.40663451248075955, \"pred_score\": 0, \"pred_score1\": 0.2510121053498025}, {\"Name\": \"Seraphine\", \"Class\": \"Mage\", \"Role\": \"MID\", \"Tier\": \"B\", \"Score\": 46.72, \"Trend\": 1.94, \"Win %\": 51.81, \"Role %\": 10.71, \"Pick %\": 0.75, \"Ban %\": 1.33, \"KDA\": 2.93, \"Pred\": 52.98175056403964, \"isMid\": true, \"Mid Champs\": 1, \"pred win\": 0, \"pred_win1\": 0.30930090474535793, \"pred_score\": 0, \"pred_score1\": 0.25101247017898914}, {\"Name\": \"Sett\", \"Class\": \"Fighter\", \"Role\": \"TOP\", \"Tier\": \"S\", \"Score\": 65.36, \"Trend\": 0.03, \"Win %\": 49.81, \"Role %\": 82.55, \"Pick %\": 6.05, \"Ban %\": 3.17, \"KDA\": 1.69, \"Pred\": 49.03256748949586, \"isMid\": false, \"Mid Champs\": 0, \"pred win\": 0, \"pred_win1\": 0.22637688937919398, \"pred_score\": 0, \"pred_score1\": 0.25100973909676905}, {\"Name\": \"Shaco\", \"Class\": \"Assassin\", \"Role\": \"JUNGLE\", \"Tier\": \"S\", \"Score\": 58.88, \"Trend\": -1.71, \"Win %\": 48.97, \"Role %\": 74.03, \"Pick %\": 5.6, \"Ban %\": 16.77, \"KDA\": 2.7, \"Pred\": 47.373910598187464, \"isMid\": false, \"Mid Champs\": 0, \"pred win\": 0, \"pred_win1\": 0.19661429840770148, \"pred_score\": 0, \"pred_score1\": 0.25101068852654523}, {\"Name\": \"Shaco\", \"Class\": \"Assassin\", \"Role\": \"SUPPORT\", \"Tier\": \"C\", \"Score\": 36.03, \"Trend\": -2.37, \"Win %\": 47.6, \"Role %\": 18.41, \"Pick %\": 1.43, \"Ban %\": 16.77, \"KDA\": 2.29, \"Pred\": 44.66872019212498, \"isMid\": false, \"Mid Champs\": 0, \"pred win\": 0, \"pred_win1\": 0.15458881821575882, \"pred_score\": 0, \"pred_score1\": 0.2510140364576958}, {\"Name\": \"Shen\", \"Class\": \"Tank\", \"Role\": \"TOP\", \"Tier\": \"S\", \"Score\": 57.59, \"Trend\": 1.12, \"Win %\": 51.53, \"Role %\": 82.25, \"Pick %\": 2.91, \"Ban %\": 0.46, \"KDA\": 2.95, \"Pred\": 52.428864933603506, \"isMid\": false, \"Mid Champs\": 0, \"pred win\": 0, \"pred_win1\": 0.29672153708210297, \"pred_score\": 0, \"pred_score1\": 0.2510108775336838}, {\"Name\": \"Shen\", \"Class\": \"Tank\", \"Role\": \"SUPPORT\", \"Tier\": \"D\", \"Score\": 30.62, \"Trend\": -3.85, \"Win %\": 46.95, \"Role %\": 10.97, \"Pick %\": 0.38, \"Ban %\": 0.46, \"KDA\": 2.52, \"Pred\": 43.38523569289825, \"isMid\": false, \"Mid Champs\": 0, \"pred win\": 0, \"pred_win1\": 0.13736621078175748, \"pred_score\": 0, \"pred_score1\": 0.2510148291232034}, {\"Name\": \"Shyvana\", \"Class\": \"Fighter\", \"Role\": \"JUNGLE\", \"Tier\": \"D\", \"Score\": 31.35, \"Trend\": -1.37, \"Win %\": 49.07, \"Role %\": 81.87, \"Pick %\": 1.34, \"Ban %\": 0.34, \"KDA\": 2.44, \"Pred\": 47.571369751914645, \"isMid\": false, \"Mid Champs\": 0, \"pred win\": 0, \"pred_win1\": 0.19999649040964287, \"pred_score\": 0, \"pred_score1\": 0.2510147221645442}, {\"Name\": \"Shyvana\", \"Class\": \"Fighter\", \"Role\": \"TOP\", \"Tier\": \"D\", \"Score\": 28.01, \"Trend\": 1.2, \"Win %\": 49.04, \"Role %\": 11.87, \"Pick %\": 0.21, \"Ban %\": 0.4, \"KDA\": 1.88, \"Pred\": 47.51213200579649, \"isMid\": false, \"Mid Champs\": 0, \"pred win\": 0, \"pred_win1\": 0.19897727350403585, \"pred_score\": 0, \"pred_score1\": 0.25101521153728734}, {\"Name\": \"Singed\", \"Class\": \"Tank\", \"Role\": \"MID\", \"Tier\": \"A\", \"Score\": 48.88, \"Trend\": 0.0, \"Win %\": 54.3, \"Role %\": 10.14, \"Pick %\": 0.22, \"Ban %\": 0.41, \"KDA\": 2.79, \"Pred\": 57.89848349184663, \"isMid\": true, \"Mid Champs\": 1, \"pred win\": 0, \"pred_win1\": 0.43201130381609687, \"pred_score\": 0, \"pred_score1\": 0.2510121537006383}, {\"Name\": \"Singed\", \"Class\": \"Tank\", \"Role\": \"TOP\", \"Tier\": \"B\", \"Score\": 40.16, \"Trend\": 0.15, \"Win %\": 50.48, \"Role %\": 77.44, \"Pick %\": 1.56, \"Ban %\": 0.43, \"KDA\": 1.97, \"Pred\": 50.35554381946801, \"isMid\": false, \"Mid Champs\": 0, \"pred win\": 0, \"pred_win1\": 0.25230752161266695, \"pred_score\": 0, \"pred_score1\": 0.2510134313370885}, {\"Name\": \"Sion\", \"Class\": \"Tank\", \"Role\": \"TOP\", \"Tier\": \"S\", \"Score\": 57.0, \"Trend\": -5.09, \"Win %\": 49.47, \"Role %\": 78.9, \"Pick %\": 4.99, \"Ban %\": 2.62, \"KDA\": 1.62, \"Pred\": 48.36120636682341, \"isMid\": false, \"Mid Champs\": 0, \"pred win\": 0, \"pred_win1\": 0.21396018208303696, \"pred_score\": 0, \"pred_score1\": 0.2510109639788407}, {\"Name\": \"Sion\", \"Class\": \"Tank\", \"Role\": \"MID\", \"Tier\": \"C\", \"Score\": 35.89, \"Trend\": -2.49, \"Win %\": 50.31, \"Role %\": 10.7, \"Pick %\": 0.66, \"Ban %\": 2.62, \"KDA\": 1.32, \"Pred\": 50.01986325813181, \"isMid\": true, \"Mid Champs\": 1, \"pred win\": 0, \"pred_win1\": 0.24554598601879904, \"pred_score\": 0, \"pred_score1\": 0.2510140569702758}, {\"Name\": \"Sivir\", \"Class\": \"Marksman\", \"Role\": \"ADC\", \"Tier\": \"B\", \"Score\": 42.9, \"Trend\": 6.74, \"Win %\": 50.57, \"Role %\": 97.18, \"Pick %\": 3.2, \"Ban %\": 0.65, \"KDA\": 2.37, \"Pred\": 50.53325705782248, \"isMid\": false, \"Mid Champs\": 0, \"pred win\": 0, \"pred_win1\": 0.2559367167398204, \"pred_score\": 0, \"pred_score1\": 0.2510130298774628}, {\"Name\": \"Skarner\", \"Class\": \"Fighter\", \"Role\": \"JUNGLE\", \"Tier\": \"C\", \"Score\": 38.1, \"Trend\": 2.14, \"Win %\": 52.13, \"Role %\": 78.56, \"Pick %\": 0.86, \"Ban %\": 0.2, \"KDA\": 2.72, \"Pred\": 53.61361985596665, \"isMid\": false, \"Mid Champs\": 0, \"pred win\": 0, \"pred_win1\": 0.3240304279794411, \"pred_score\": 0, \"pred_score1\": 0.2510137331646794}, {\"Name\": \"Skarner\", \"Class\": \"Fighter\", \"Role\": \"TOP\", \"Tier\": \"D\", \"Score\": 30.61, \"Trend\": 2.28, \"Win %\": 49.34, \"Role %\": 16.44, \"Pick %\": 0.14, \"Ban %\": 0.18, \"KDA\": 2.21, \"Pred\": 48.10450946697807, \"isMid\": false, \"Mid Champs\": 0, \"pred win\": 0, \"pred_win1\": 0.2093455771047759, \"pred_score\": 0, \"pred_score1\": 0.2510148305883907}, {\"Name\": \"Sona\", \"Class\": \"Support\", \"Role\": \"SUPPORT\", \"Tier\": \"A\", \"Score\": 53.15, \"Trend\": 1.33, \"Win %\": 52.29, \"Role %\": 97.95, \"Pick %\": 3.36, \"Ban %\": 0.19, \"KDA\": 2.85, \"Pred\": 53.92955450193014, \"isMid\": false, \"Mid Champs\": 0, \"pred win\": 0, \"pred_win1\": 0.33153046293180666, \"pred_score\": 0, \"pred_score1\": 0.25101152807060495}, {\"Name\": \"Soraka\", \"Class\": \"Support\", \"Role\": \"SUPPORT\", \"Tier\": \"S\", \"Score\": 60.35, \"Trend\": 1.97, \"Win %\": 51.66, \"Role %\": 96.76, \"Pick %\": 5.62, \"Ban %\": 1.61, \"KDA\": 2.77, \"Pred\": 52.685561833448844, \"isMid\": false, \"Mid Champs\": 0, \"pred win\": 0, \"pred_win1\": 0.30252522126896364, \"pred_score\": 0, \"pred_score1\": 0.2510104731464329}, {\"Name\": \"Swain\", \"Class\": \"Mage\", \"Role\": \"ADC\", \"Tier\": \"A\", \"Score\": 50.89, \"Trend\": 0.0, \"Win %\": 55.5, \"Role %\": 11.54, \"Pick %\": 0.51, \"Ban %\": 2.91, \"KDA\": 2.98, \"Pred\": 60.267993336572914, \"isMid\": false, \"Mid Champs\": 0, \"pred win\": 0, \"pred_win1\": 0.4954117720757121, \"pred_score\": 0, \"pred_score1\": 0.251011859200189}, {\"Name\": \"Swain\", \"Class\": \"Mage\", \"Role\": \"MID\", \"Tier\": \"A\", \"Score\": 49.53, \"Trend\": 2.35, \"Win %\": 52.94, \"Role %\": 24.19, \"Pick %\": 1.29, \"Ban %\": 2.91, \"KDA\": 2.72, \"Pred\": 55.21303900115687, \"isMid\": true, \"Mid Champs\": 1, \"pred win\": 0, \"pred_win1\": 0.36285692871810676, \"pred_score\": 0, \"pred_score1\": 0.2510120584641495}, {\"Name\": \"Swain\", \"Class\": \"Mage\", \"Role\": \"SUPPORT\", \"Tier\": \"A\", \"Score\": 49.45, \"Trend\": 2.38, \"Win %\": 50.54, \"Role %\": 57.41, \"Pick %\": 3.69, \"Ban %\": 2.91, \"KDA\": 2.34, \"Pred\": 50.474019311704325, \"isMid\": false, \"Mid Champs\": 0, \"pred win\": 0, \"pred_win1\": 0.2547231892780585, \"pred_score\": 0, \"pred_score1\": 0.2510120701855622}, {\"Name\": \"Sylas\", \"Class\": \"Mage\", \"Role\": \"MID\", \"Tier\": \"A\", \"Score\": 55.65, \"Trend\": 0.17, \"Win %\": 49.23, \"Role %\": 57.23, \"Pick %\": 5.79, \"Ban %\": 8.24, \"KDA\": 2.13, \"Pred\": 47.887304397878154, \"isMid\": true, \"Mid Champs\": 1, \"pred win\": 0, \"pred_win1\": 0.20549839463189565, \"pred_score\": 0, \"pred_score1\": 0.2510111617771556}, {\"Name\": \"Sylas\", \"Class\": \"Mage\", \"Role\": \"JUNGLE\", \"Tier\": \"C\", \"Score\": 39.44, \"Trend\": -0.52, \"Win %\": 48.69, \"Role %\": 30.22, \"Pick %\": 3.05, \"Ban %\": 8.24, \"KDA\": 2.4, \"Pred\": 46.82102496775133, \"isMid\": false, \"Mid Champs\": 0, \"pred win\": 0, \"pred_win1\": 0.18737464309435733, \"pred_score\": 0, \"pred_score1\": 0.2510135368301996}, {\"Name\": \"Syndra\", \"Class\": \"Mage\", \"Role\": \"MID\", \"Tier\": \"A\", \"Score\": 56.32, \"Trend\": 2.63, \"Win %\": 50.55, \"Role %\": 92.2, \"Pick %\": 5.32, \"Ban %\": 2.87, \"KDA\": 2.29, \"Pred\": 50.49376522707705, \"isMid\": true, \"Mid Champs\": 1, \"pred win\": 0, \"pred_win1\": 0.2551272772718757, \"pred_score\": 0, \"pred_score1\": 0.25101106361057157}, {\"Name\": \"Tahm Kench\", \"Class\": \"Support\", \"Role\": \"TOP\", \"Tier\": \"C\", \"Score\": 38.72, \"Trend\": -1.8, \"Win %\": 48.0, \"Role %\": 62.72, \"Pick %\": 1.84, \"Ban %\": 0.89, \"KDA\": 2.32, \"Pred\": 45.45855680703373, \"isMid\": false, \"Mid Champs\": 0, \"pred win\": 0, \"pred_win1\": 0.16604016434804533, \"pred_score\": 0, \"pred_score1\": 0.2510136423233402}, {\"Name\": \"Tahm Kench\", \"Class\": \"Support\", \"Role\": \"SUPPORT\", \"Tier\": \"C\", \"Score\": 34.87, \"Trend\": -5.55, \"Win %\": 49.08, \"Role %\": 27.7, \"Pick %\": 0.74, \"Ban %\": 0.96, \"KDA\": 2.25, \"Pred\": 47.59111566728737, \"isMid\": false, \"Mid Champs\": 0, \"pred win\": 0, \"pred_win1\": 0.20033709830886445, \"pred_score\": 0, \"pred_score1\": 0.25101420641910627}, {\"Name\": \"Taliyah\", \"Class\": \"Mage\", \"Role\": \"MID\", \"Tier\": \"B\", \"Score\": 44.88, \"Trend\": 2.15, \"Win %\": 51.6, \"Role %\": 62.89, \"Pick %\": 1.24, \"Ban %\": 0.34, \"KDA\": 2.32, \"Pred\": 52.567086341212544, \"isMid\": true, \"Mid Champs\": 1, \"pred win\": 0, \"pred_win1\": 0.2998386062488885, \"pred_score\": 0, \"pred_score1\": 0.25101273977186767}, {\"Name\": \"Taliyah\", \"Class\": \"Mage\", \"Role\": \"JUNGLE\", \"Tier\": \"D\", \"Score\": 33.28, \"Trend\": 2.33, \"Win %\": 50.82, \"Role %\": 23.12, \"Pick %\": 0.45, \"Ban %\": 0.34, \"KDA\": 2.75, \"Pred\": 51.02690494214046, \"isMid\": false, \"Mid Champs\": 0, \"pred win\": 0, \"pred_win1\": 0.2661959891607698, \"pred_score\": 0, \"pred_score1\": 0.25101443938357765}, {\"Name\": \"Talon\", \"Class\": \"Assassin\", \"Role\": \"MID\", \"Tier\": \"A\", \"Score\": 52.37, \"Trend\": 0.53, \"Win %\": 51.25, \"Role %\": 71.73, \"Pick %\": 3.76, \"Ban %\": 2.44, \"KDA\": 2.29, \"Pred\": 51.87597930316737, \"isMid\": true, \"Mid Champs\": 1, \"pred win\": 0, \"pred_win1\": 0.2844430868466742, \"pred_score\": 0, \"pred_score1\": 0.2510116423542339}, {\"Name\": \"Talon\", \"Class\": \"Assassin\", \"Role\": \"JUNGLE\", \"Tier\": \"D\", \"Score\": 33.38, \"Trend\": -1.72, \"Win %\": 49.56, \"Role %\": 24.97, \"Pick %\": 1.39, \"Ban %\": 2.44, \"KDA\": 2.51, \"Pred\": 48.53891960517788, \"isMid\": false, \"Mid Champs\": 0, \"pred win\": 0, \"pred_win1\": 0.21719802012573855, \"pred_score\": 0, \"pred_score1\": 0.25101442473171987}, {\"Name\": \"Taric\", \"Class\": \"Support\", \"Role\": \"SUPPORT\", \"Tier\": \"A\", \"Score\": 47.44, \"Trend\": -1.88, \"Win %\": 52.17, \"Role %\": 91.8, \"Pick %\": 1.96, \"Ban %\": 0.42, \"KDA\": 2.78, \"Pred\": 53.69260351745751, \"isMid\": false, \"Mid Champs\": 0, \"pred win\": 0, \"pred_win1\": 0.325897170754523, \"pred_score\": 0, \"pred_score1\": 0.25101236468617605}, {\"Name\": \"Teemo\", \"Class\": \"Marksman\", \"Role\": \"TOP\", \"Tier\": \"S\", \"Score\": 58.84, \"Trend\": -1.71, \"Win %\": 50.72, \"Role %\": 70.59, \"Pick %\": 4.37, \"Ban %\": 7.02, \"KDA\": 1.72, \"Pred\": 50.82944578841327, \"isMid\": false, \"Mid Champs\": 0, \"pred win\": 0, \"pred_win1\": 0.26206100592639847, \"pred_score\": 0, \"pred_score1\": 0.2510106943872303}, {\"Name\": \"Teemo\", \"Class\": \"Marksman\", \"Role\": \"SUPPORT\", \"Tier\": \"D\", \"Score\": 30.82, \"Trend\": -4.14, \"Win %\": 47.98, \"Role %\": 10.89, \"Pick %\": 0.72, \"Ban %\": 7.69, \"KDA\": 1.73, \"Pred\": 45.41906497628828, \"isMid\": false, \"Mid Champs\": 0, \"pred win\": 0, \"pred_win1\": 0.16545181634678205, \"pred_score\": 0, \"pred_score1\": 0.2510147998194581}, {\"Name\": \"Thresh\", \"Class\": \"Support\", \"Role\": \"SUPPORT\", \"Tier\": \"God\", \"Score\": 91.09, \"Trend\": 6.4, \"Win %\": 50.65, \"Role %\": 95.92, \"Pick %\": 13.79, \"Ban %\": 5.98, \"KDA\": 2.58, \"Pred\": 50.69122438080423, \"isMid\": false, \"Mid Champs\": 0, \"pred win\": 0, \"pred_win1\": 0.2591912823943446, \"pred_score\": 0, \"pred_score1\": 0.25100596923944557}, {\"Name\": \"Tristana\", \"Class\": \"Marksman\", \"Role\": \"MID\", \"Tier\": \"B\", \"Score\": 47.21, \"Trend\": 4.01, \"Win %\": 50.67, \"Role %\": 31.64, \"Pick %\": 2.91, \"Ban %\": 3.62, \"KDA\": 1.99, \"Pred\": 50.73071621154968, \"isMid\": true, \"Mid Champs\": 1, \"pred win\": 0, \"pred_win1\": 0.26000911490140294, \"pred_score\": 0, \"pred_score1\": 0.2510123983852659}, {\"Name\": \"Tristana\", \"Class\": \"Marksman\", \"Role\": \"ADC\", \"Tier\": \"B\", \"Score\": 44.29, \"Trend\": 3.9, \"Win %\": 49.03, \"Role %\": 63.87, \"Pick %\": 6.15, \"Ban %\": 3.62, \"KDA\": 2.2, \"Pred\": 47.49238609042378, \"isMid\": false, \"Mid Champs\": 0, \"pred win\": 0, \"pred_win1\": 0.19863840325168147, \"pred_score\": 0, \"pred_score1\": 0.251012826217451}, {\"Name\": \"Trundle\", \"Class\": \"Fighter\", \"Role\": \"JUNGLE\", \"Tier\": \"C\", \"Score\": 39.07, \"Trend\": 0.94, \"Win %\": 50.87, \"Role %\": 63.74, \"Pick %\": 1.84, \"Ban %\": 0.99, \"KDA\": 2.6, \"Pred\": 51.12563451900405, \"isMid\": false, \"Mid Champs\": 0, \"pred win\": 0, \"pred_win1\": 0.26827900361581525, \"pred_score\": 0, \"pred_score1\": 0.25101359104194876}, {\"Name\": \"Trundle\", \"Class\": \"Fighter\", \"Role\": \"TOP\", \"Tier\": \"C\", \"Score\": 35.29, \"Trend\": -1.63, \"Win %\": 51.56, \"Role %\": 31.04, \"Pick %\": 0.8, \"Ban %\": 0.99, \"KDA\": 1.58, \"Pred\": 52.48810267972166, \"isMid\": false, \"Mid Champs\": 0, \"pred win\": 0, \"pred_win1\": 0.2980551301372939, \"pred_score\": 0, \"pred_score1\": 0.2510141448813454}, {\"Name\": \"Tryndamere\", \"Class\": \"Fighter\", \"Role\": \"MID\", \"Tier\": \"B\", \"Score\": 41.47, \"Trend\": 1.77, \"Win %\": 51.99, \"Role %\": 11.3, \"Pick %\": 0.32, \"Ban %\": 2.05, \"KDA\": 2.07, \"Pred\": 53.33717704074857, \"isMid\": true, \"Mid Champs\": 1, \"pred win\": 0, \"pred_win1\": 0.3175410644126624, \"pred_score\": 0, \"pred_score1\": 0.2510132393983091}, {\"Name\": \"Tryndamere\", \"Class\": \"Fighter\", \"Role\": \"TOP\", \"Tier\": \"B\", \"Score\": 40.25, \"Trend\": -0.88, \"Win %\": 49.36, \"Role %\": 79.39, \"Pick %\": 2.21, \"Ban %\": 2.05, \"KDA\": 1.75, \"Pred\": 48.14400129772349, \"isMid\": false, \"Mid Champs\": 0, \"pred win\": 0, \"pred_win1\": 0.2100507256308179, \"pred_score\": 0, \"pred_score1\": 0.25101341815045164}, {\"Name\": \"Twisted Fate\", \"Class\": \"Mage\", \"Role\": \"MID\", \"Tier\": \"B\", \"Score\": 43.98, \"Trend\": -0.59, \"Win %\": 48.43, \"Role %\": 89.24, \"Pick %\": 3.0, \"Ban %\": 0.27, \"KDA\": 2.17, \"Pred\": 46.30763116806064, \"isMid\": true, \"Mid Champs\": 1, \"pred win\": 0, \"pred_win1\": 0.17909744886657186, \"pred_score\": 0, \"pred_score1\": 0.25101287163801966}, {\"Name\": \"Twitch\", \"Class\": \"Marksman\", \"Role\": \"ADC\", \"Tier\": \"B\", \"Score\": 46.23, \"Trend\": 3.18, \"Win %\": 51.04, \"Role %\": 76.3, \"Pick %\": 4.53, \"Ban %\": 4.54, \"KDA\": 2.37, \"Pred\": 51.46131508034027, \"isMid\": false, \"Mid Champs\": 0, \"pred win\": 0, \"pred_win1\": 0.2754379931920886, \"pred_score\": 0, \"pred_score1\": 0.25101254197272604}, {\"Name\": \"Twitch\", \"Class\": \"Marksman\", \"Role\": \"SUPPORT\", \"Tier\": \"D\", \"Score\": 33.25, \"Trend\": 0.76, \"Win %\": 48.49, \"Role %\": 12.59, \"Pick %\": 0.77, \"Ban %\": 4.54, \"KDA\": 2.08, \"Pred\": 46.42610666029695, \"isMid\": false, \"Mid Champs\": 0, \"pred win\": 0, \"pred_win1\": 0.18098184545091206, \"pred_score\": 0, \"pred_score1\": 0.2510144437791351}, {\"Name\": \"Udyr\", \"Class\": \"Fighter\", \"Role\": \"JUNGLE\", \"Tier\": \"C\", \"Score\": 39.12, \"Trend\": 0.8, \"Win %\": 49.9, \"Role %\": 80.64, \"Pick %\": 2.45, \"Ban %\": 2.1, \"KDA\": 2.5, \"Pred\": 49.21028072785032, \"isMid\": false, \"Mid Champs\": 0, \"pred win\": 0, \"pred_win1\": 0.22974770761530422, \"pred_score\": 0, \"pred_score1\": 0.25101358371603627}, {\"Name\": \"Udyr\", \"Class\": \"Fighter\", \"Role\": \"TOP\", \"Tier\": \"D\", \"Score\": 32.19, \"Trend\": 2.43, \"Win %\": 50.58, \"Role %\": 16.87, \"Pick %\": 0.52, \"Ban %\": 2.1, \"KDA\": 1.7, \"Pred\": 50.553002973195206, \"isMid\": false, \"Mid Champs\": 0, \"pred win\": 0, \"pred_win1\": 0.2563420676958666, \"pred_score\": 0, \"pred_score1\": 0.2510145990888643}, {\"Name\": \"Urgot\", \"Class\": \"Fighter\", \"Role\": \"TOP\", \"Tier\": \"B\", \"Score\": 46.28, \"Trend\": 0.42, \"Win %\": 50.96, \"Role %\": 90.93, \"Pick %\": 2.41, \"Ban %\": 1.0, \"KDA\": 1.94, \"Pred\": 51.30334775735852, \"isMid\": false, \"Mid Champs\": 0, \"pred win\": 0, \"pred_win1\": 0.27205434207163703, \"pred_score\": 0, \"pred_score1\": 0.2510125346468339}, {\"Name\": \"Varus\", \"Class\": \"Marksman\", \"Role\": \"ADC\", \"Tier\": \"B\", \"Score\": 45.2, \"Trend\": -1.82, \"Win %\": 49.65, \"Role %\": 76.66, \"Pick %\": 6.08, \"Ban %\": 2.39, \"KDA\": 2.21, \"Pred\": 48.71663284353234, \"isMid\": false, \"Mid Champs\": 0, \"pred win\": 0, \"pred_win1\": 0.2204711129564891, \"pred_score\": 0, \"pred_score1\": 0.25101269288613587}, {\"Name\": \"Varus\", \"Class\": \"Marksman\", \"Role\": \"TOP\", \"Tier\": \"D\", \"Score\": 28.59, \"Trend\": -14.81, \"Win %\": 47.32, \"Role %\": 13.88, \"Pick %\": 1.11, \"Ban %\": 2.39, \"KDA\": 1.71, \"Pred\": 44.11583456168884, \"isMid\": false, \"Mid Champs\": 0, \"pred win\": 0, \"pred_win1\": 0.14696282636552438, \"pred_score\": 0, \"pred_score1\": 0.2510151265563463}, {\"Name\": \"Vayne\", \"Class\": \"Marksman\", \"Role\": \"ADC\", \"Tier\": \"B\", \"Score\": 44.25, \"Trend\": 3.85, \"Win %\": 49.37, \"Role %\": 81.02, \"Pick %\": 6.32, \"Ban %\": 4.53, \"KDA\": 2.02, \"Pred\": 48.163747213096215, \"isMid\": false, \"Mid Champs\": 0, \"pred win\": 0, \"pred_win1\": 0.21040395316052107, \"pred_score\": 0, \"pred_score1\": 0.2510128320781692}, {\"Name\": \"Vayne\", \"Class\": \"Marksman\", \"Role\": \"TOP\", \"Tier\": \"C\", \"Score\": 35.52, \"Trend\": 4.94, \"Win %\": 50.52, \"Role %\": 15.47, \"Pick %\": 1.21, \"Ban %\": 4.53, \"KDA\": 1.55, \"Pred\": 50.434527480958906, \"isMid\": false, \"Mid Champs\": 0, \"pred win\": 0, \"pred_win1\": 0.25391627804762246, \"pred_score\": 0, \"pred_score1\": 0.2510141111820996}, {\"Name\": \"Veigar\", \"Class\": \"Mage\", \"Role\": \"MID\", \"Tier\": \"A\", \"Score\": 54.59, \"Trend\": -3.66, \"Win %\": 50.59, \"Role %\": 73.42, \"Pick %\": 4.86, \"Ban %\": 3.97, \"KDA\": 2.17, \"Pred\": 50.57274888856793, \"isMid\": true, \"Mid Champs\": 1, \"pred win\": 0, \"pred_win1\": 0.25674783911716426, \"pred_score\": 0, \"pred_score1\": 0.2510113170855347}, {\"Name\": \"Veigar\", \"Class\": \"Mage\", \"Role\": \"ADC\", \"Tier\": \"C\", \"Score\": 39.26, \"Trend\": 7.06, \"Win %\": 51.16, \"Role %\": 13.32, \"Pick %\": 0.82, \"Ban %\": 3.97, \"KDA\": 2.22, \"Pred\": 51.6982660648129, \"isMid\": false, \"Mid Champs\": 0, \"pred win\": 0, \"pred_win1\": 0.2805620888775237, \"pred_score\": 0, \"pred_score1\": 0.251013563203482}, {\"Name\": \"Veigar\", \"Class\": \"Mage\", \"Role\": \"SUPPORT\", \"Tier\": \"D\", \"Score\": 28.09, \"Trend\": 0.0, \"Win %\": 46.5, \"Role %\": 10.67, \"Pick %\": 0.7, \"Ban %\": 4.32, \"KDA\": 1.8, \"Pred\": 42.49666950112589, \"isMid\": false, \"Mid Champs\": 0, \"pred win\": 0, \"pred_win1\": 0.12641050969168677, \"pred_score\": 0, \"pred_score1\": 0.2510151998157771}, {\"Name\": \"Vel'Koz\", \"Class\": \"Mage\", \"Role\": \"MID\", \"Tier\": \"B\", \"Score\": 44.1, \"Trend\": 2.21, \"Win %\": 51.38, \"Role %\": 29.58, \"Pick %\": 0.7, \"Ban %\": 0.41, \"KDA\": 2.6, \"Pred\": 52.13267620301272, \"isMid\": true, \"Mid Champs\": 1, \"pred win\": 0, \"pred_win1\": 0.2901056789506731, \"pred_score\": 0, \"pred_score1\": 0.2510128540558634}, {\"Name\": \"Vel'Koz\", \"Class\": \"Mage\", \"Role\": \"SUPPORT\", \"Tier\": \"B\", \"Score\": 41.32, \"Trend\": 1.55, \"Win %\": 50.97, \"Role %\": 65.61, \"Pick %\": 1.66, \"Ban %\": 0.41, \"KDA\": 2.14, \"Pred\": 51.32309367273125, \"isMid\": false, \"Mid Champs\": 0, \"pred win\": 0, \"pred_win1\": 0.2724758720395062, \"pred_score\": 0, \"pred_score1\": 0.251013261376027}, {\"Name\": \"Vex\", \"Class\": \"Mage\", \"Role\": \"MID\", \"Tier\": \"A\", \"Score\": 50.2, \"Trend\": -2.15, \"Win %\": 50.6, \"Role %\": 93.02, \"Pick %\": 3.28, \"Ban %\": 3.76, \"KDA\": 2.37, \"Pred\": 50.59249480394065, \"isMid\": true, \"Mid Champs\": 1, \"pred win\": 0, \"pred_win1\": 0.2571540307385524, \"pred_score\": 0, \"pred_score1\": 0.25101196029733225}, {\"Name\": \"Vi\", \"Class\": \"Fighter\", \"Role\": \"JUNGLE\", \"Tier\": \"B\", \"Score\": 42.18, \"Trend\": -13.38, \"Win %\": 48.51, \"Role %\": 94.59, \"Pick %\": 4.05, \"Ban %\": 1.94, \"KDA\": 2.3, \"Pred\": 46.465598491042385, \"isMid\": false, \"Mid Champs\": 0, \"pred win\": 0, \"pred_win1\": 0.18161340038140503, \"pred_score\": 0, \"pred_score1\": 0.2510131353704618}, {\"Name\": \"Viego\", \"Class\": \"Assassin\", \"Role\": \"JUNGLE\", \"Tier\": \"S\", \"Score\": 70.33, \"Trend\": 5.05, \"Win %\": 49.72, \"Role %\": 95.17, \"Pick %\": 9.12, \"Ban %\": 2.56, \"KDA\": 2.47, \"Pred\": 48.854854251141376, \"isMid\": false, \"Mid Champs\": 0, \"pred win\": 0, \"pred_win1\": 0.223041206257376, \"pred_score\": 0, \"pred_score1\": 0.25100901090919137}, {\"Name\": \"Viktor\", \"Class\": \"Mage\", \"Role\": \"MID\", \"Tier\": \"A\", \"Score\": 54.13, \"Trend\": 2.05, \"Win %\": 51.34, \"Role %\": 94.35, \"Pick %\": 4.28, \"Ban %\": 2.41, \"KDA\": 2.27, \"Pred\": 52.053692541521855, \"isMid\": true, \"Mid Champs\": 1, \"pred win\": 0, \"pred_win1\": 0.28835625281656047, \"pred_score\": 0, \"pred_score1\": 0.25101138448353044}, {\"Name\": \"Vladimir\", \"Class\": \"Mage\", \"Role\": \"MID\", \"Tier\": \"A\", \"Score\": 54.65, \"Trend\": 3.61, \"Win %\": 51.53, \"Role %\": 77.73, \"Pick %\": 3.96, \"Ban %\": 5.95, \"KDA\": 2.42, \"Pred\": 52.428864933603506, \"isMid\": true, \"Mid Champs\": 1, \"pred win\": 0, \"pred_win1\": 0.29672153708210297, \"pred_score\": 0, \"pred_score1\": 0.2510113082944927}, {\"Name\": \"Vladimir\", \"Class\": \"Mage\", \"Role\": \"TOP\", \"Tier\": \"C\", \"Score\": 34.53, \"Trend\": -0.44, \"Win %\": 49.13, \"Role %\": 20.15, \"Pick %\": 0.99, \"Ban %\": 5.95, \"KDA\": 2.05, \"Pred\": 47.68984524415097, \"isMid\": false, \"Mid Champs\": 0, \"pred win\": 0, \"pred_win1\": 0.20204665747739697, \"pred_score\": 0, \"pred_score1\": 0.25101425623539625}, {\"Name\": \"Volibear\", \"Class\": \"Fighter\", \"Role\": \"TOP\", \"Tier\": \"C\", \"Score\": 36.96, \"Trend\": -0.57, \"Win %\": 48.43, \"Role %\": 61.85, \"Pick %\": 2.17, \"Ban %\": 0.63, \"KDA\": 1.64, \"Pred\": 46.30763116806064, \"isMid\": false, \"Mid Champs\": 0, \"pred win\": 0, \"pred_win1\": 0.17909744886657186, \"pred_score\": 0, \"pred_score1\": 0.25101390019558584}, {\"Name\": \"Volibear\", \"Class\": \"Fighter\", \"Role\": \"JUNGLE\", \"Tier\": \"D\", \"Score\": 33.68, \"Trend\": -1.42, \"Win %\": 50.15, \"Role %\": 32.98, \"Pick %\": 1.02, \"Ban %\": 0.63, \"KDA\": 2.64, \"Pred\": 49.70392861216828, \"isMid\": false, \"Mid Champs\": 0, \"pred win\": 0, \"pred_win1\": 0.23929480723272392, \"pred_score\": 0, \"pred_score1\": 0.25101438077614996}, {\"Name\": \"Warwick\", \"Class\": \"Fighter\", \"Role\": \"JUNGLE\", \"Tier\": \"A\", \"Score\": 49.91, \"Trend\": -3.99, \"Win %\": 50.07, \"Role %\": 68.71, \"Pick %\": 4.74, \"Ban %\": 5.18, \"KDA\": 2.17, \"Pred\": 49.545961289186536, \"isMid\": false, \"Mid Champs\": 0, \"pred win\": 0, \"pred_win1\": 0.236210413730861, \"pred_score\": 0, \"pred_score1\": 0.25101200278744407}, {\"Name\": \"Warwick\", \"Class\": \"Fighter\", \"Role\": \"TOP\", \"Tier\": \"C\", \"Score\": 36.27, \"Trend\": -3.06, \"Win %\": 49.47, \"Role %\": 28.1, \"Pick %\": 1.42, \"Ban %\": 5.18, \"KDA\": 1.79, \"Pred\": 48.36120636682341, \"isMid\": false, \"Mid Champs\": 0, \"pred win\": 0, \"pred_win1\": 0.21396018208303696, \"pred_score\": 0, \"pred_score1\": 0.25101400129327567}, {\"Name\": \"Wukong\", \"Class\": \"Fighter\", \"Role\": \"JUNGLE\", \"Tier\": \"C\", \"Score\": 38.79, \"Trend\": -4.57, \"Win %\": 49.13, \"Role %\": 75.46, \"Pick %\": 2.62, \"Ban %\": 1.25, \"KDA\": 2.64, \"Pred\": 47.68984524415097, \"isMid\": false, \"Mid Champs\": 0, \"pred win\": 0, \"pred_win1\": 0.20204665747739697, \"pred_score\": 0, \"pred_score1\": 0.2510136320670614}, {\"Name\": \"Wukong\", \"Class\": \"Fighter\", \"Role\": \"TOP\", \"Tier\": \"D\", \"Score\": 33.59, \"Trend\": 0.72, \"Win %\": 49.92, \"Role %\": 18.56, \"Pick %\": 0.58, \"Ban %\": 1.25, \"KDA\": 2.06, \"Pred\": 49.249772558595765, \"isMid\": false, \"Mid Champs\": 0, \"pred win\": 0, \"pred_win1\": 0.23050154305024603, \"pred_score\": 0, \"pred_score1\": 0.2510143939628204}, {\"Name\": \"Xayah\", \"Class\": \"Marksman\", \"Role\": \"ADC\", \"Tier\": \"A\", \"Score\": 52.38, \"Trend\": 1.57, \"Win %\": 49.83, \"Role %\": 98.94, \"Pick %\": 9.73, \"Ban %\": 3.88, \"KDA\": 2.3, \"Pred\": 49.07205932024128, \"isMid\": false, \"Mid Champs\": 0, \"pred win\": 0, \"pred_win1\": 0.22712292595669117, \"pred_score\": 0, \"pred_score1\": 0.251011640889059}, {\"Name\": \"Xerath\", \"Class\": \"Mage\", \"Role\": \"SUPPORT\", \"Tier\": \"A\", \"Score\": 53.03, \"Trend\": 0.58, \"Win %\": 51.26, \"Role %\": 70.8, \"Pick %\": 4.09, \"Ban %\": 4.04, \"KDA\": 2.48, \"Pred\": 51.89572521854009, \"isMid\": false, \"Mid Champs\": 0, \"pred win\": 0, \"pred_win1\": 0.28487630031164807, \"pred_score\": 0, \"pred_score1\": 0.25101154565269945}, {\"Name\": \"Xerath\", \"Class\": \"Mage\", \"Role\": \"MID\", \"Tier\": \"A\", \"Score\": 48.19, \"Trend\": -2.63, \"Win %\": 50.81, \"Role %\": 26.08, \"Pick %\": 1.44, \"Ban %\": 4.04, \"KDA\": 3.13, \"Pred\": 51.00715902676775, \"isMid\": true, \"Mid Champs\": 1, \"pred win\": 0, \"pred_win1\": 0.265780625218741, \"pred_score\": 0, \"pred_score1\": 0.25101225479786043}, {\"Name\": \"Xin Zhao\", \"Class\": \"Fighter\", \"Role\": \"JUNGLE\", \"Tier\": \"C\", \"Score\": 38.19, \"Trend\": 0.99, \"Win %\": 50.34, \"Role %\": 84.64, \"Pick %\": 2.4, \"Ban %\": 0.41, \"KDA\": 2.25, \"Pred\": 50.079101004249964, \"isMid\": false, \"Mid Champs\": 0, \"pred win\": 0, \"pred_win1\": 0.24673026659825414, \"pred_score\": 0, \"pred_score1\": 0.251013719978032}, {\"Name\": \"Yasuo\", \"Class\": \"Fighter\", \"Role\": \"MID\", \"Tier\": \"God\", \"Score\": 85.15, \"Trend\": -2.72, \"Win %\": 48.78, \"Role %\": 69.95, \"Pick %\": 12.73, \"Ban %\": 21.08, \"KDA\": 1.76, \"Pred\": 46.9987382061058, \"isMid\": true, \"Mid Champs\": 1, \"pred win\": 0, \"pred_win1\": 0.1903075693621441, \"pred_score\": 0, \"pred_score1\": 0.251006839541292}, {\"Name\": \"Yasuo\", \"Class\": \"Fighter\", \"Role\": \"TOP\", \"Tier\": \"B\", \"Score\": 43.76, \"Trend\": -2.39, \"Win %\": 47.51, \"Role %\": 17.19, \"Pick %\": 2.96, \"Ban %\": 21.08, \"KDA\": 1.49, \"Pred\": 44.491006953770494, \"isMid\": false, \"Mid Champs\": 0, \"pred win\": 0, \"pred_win1\": 0.1521029625556214, \"pred_score\": 0, \"pred_score1\": 0.2510129038719749}, {\"Name\": \"Yasuo\", \"Class\": \"Fighter\", \"Role\": \"ADC\", \"Tier\": \"B\", \"Score\": 40.1, \"Trend\": 7.72, \"Win %\": 50.87, \"Role %\": 11.31, \"Pick %\": 1.89, \"Ban %\": 21.08, \"KDA\": 2.01, \"Pred\": 51.12563451900405, \"isMid\": false, \"Mid Champs\": 0, \"pred win\": 0, \"pred_win1\": 0.26827900361581525, \"pred_score\": 0, \"pred_score1\": 0.25101344012817994}, {\"Name\": \"Yone\", \"Class\": \"Assassin\", \"Role\": \"MID\", \"Tier\": \"S\", \"Score\": 58.02, \"Trend\": -1.12, \"Win %\": 49.25, \"Role %\": 54.68, \"Pick %\": 6.82, \"Ban %\": 7.36, \"KDA\": 1.89, \"Pred\": 47.92679622862359, \"isMid\": true, \"Mid Champs\": 1, \"pred win\": 0, \"pred_win1\": 0.20619396398468656, \"pred_score\": 0, \"pred_score1\": 0.25101081453129376}, {\"Name\": \"Yone\", \"Class\": \"Assassin\", \"Role\": \"TOP\", \"Tier\": \"S\", \"Score\": 57.2, \"Trend\": 1.88, \"Win %\": 49.34, \"Role %\": 41.19, \"Pick %\": 4.81, \"Ban %\": 7.36, \"KDA\": 1.63, \"Pred\": 48.10450946697807, \"isMid\": false, \"Mid Champs\": 0, \"pred win\": 0, \"pred_win1\": 0.2093455771047759, \"pred_score\": 0, \"pred_score1\": 0.2510109346753955}, {\"Name\": \"Yorick\", \"Class\": \"Fighter\", \"Role\": \"TOP\", \"Tier\": \"A\", \"Score\": 48.83, \"Trend\": 0.63, \"Win %\": 51.68, \"Role %\": 88.56, \"Pick %\": 2.92, \"Ban %\": 4.03, \"KDA\": 1.52, \"Pred\": 52.72505366419429, \"isMid\": false, \"Mid Champs\": 0, \"pred win\": 0, \"pred_win1\": 0.303423782833227, \"pred_score\": 0, \"pred_score1\": 0.2510121610265231}, {\"Name\": \"Yuumi\", \"Class\": \"Support\", \"Role\": \"SUPPORT\", \"Tier\": \"S\", \"Score\": 69.04, \"Trend\": -4.32, \"Win %\": 46.68, \"Role %\": 98.78, \"Pick %\": 7.67, \"Ban %\": 14.06, \"KDA\": 4.18, \"Pred\": 42.852095977834836, \"isMid\": false, \"Mid Champs\": 0, \"pred win\": 0, \"pred_win1\": 0.13070024653610207, \"pred_score\": 0, \"pred_score1\": 0.25100919991549003}, {\"Name\": \"Zac\", \"Class\": \"Tank\", \"Role\": \"JUNGLE\", \"Tier\": \"A\", \"Score\": 53.35, \"Trend\": 0.93, \"Win %\": 51.77, \"Role %\": 71.96, \"Pick %\": 3.11, \"Ban %\": 2.51, \"KDA\": 3.59, \"Pred\": 52.90276690254876, \"isMid\": false, \"Mid Champs\": 0, \"pred win\": 0, \"pred_win1\": 0.30748586317765914, \"pred_score\": 0, \"pred_score1\": 0.2510114987671159}, {\"Name\": \"Zac\", \"Class\": \"Tank\", \"Role\": \"TOP\", \"Tier\": \"B\", \"Score\": 44.32, \"Trend\": -2.26, \"Win %\": 52.47, \"Role %\": 13.44, \"Pick %\": 0.66, \"Ban %\": 2.51, \"KDA\": 2.69, \"Pred\": 54.284980978639084, \"isMid\": false, \"Mid Champs\": 0, \"pred win\": 0, \"pred_win1\": 0.3400712598360178, \"pred_score\": 0, \"pred_score1\": 0.25101282182191237}, {\"Name\": \"Zed\", \"Class\": \"Assassin\", \"Role\": \"MID\", \"Tier\": \"God\", \"Score\": 90.84, \"Trend\": 2.83, \"Win %\": 50.02, \"Role %\": 84.93, \"Pick %\": 11.5, \"Ban %\": 30.48, \"KDA\": 2.26, \"Pred\": 49.44723171232296, \"isMid\": true, \"Mid Champs\": 1, \"pred win\": 0, \"pred_win1\": 0.23429666420003195, \"pred_score\": 0, \"pred_score1\": 0.25100600586827077}, {\"Name\": \"Zeri\", \"Class\": \"Marksman\", \"Role\": \"ADC\", \"Tier\": \"C\", \"Score\": 39.89, \"Trend\": 0.19, \"Win %\": 48.18, \"Role %\": 89.31, \"Pick %\": 4.21, \"Ban %\": 3.23, \"KDA\": 2.27, \"Pred\": 45.81398328374267, \"isMid\": false, \"Mid Champs\": 0, \"pred win\": 0, \"pred_win1\": 0.1714108570664639, \"pred_score\": 0, \"pred_score1\": 0.2510134708970017}, {\"Name\": \"Ziggs\", \"Class\": \"Mage\", \"Role\": \"MID\", \"Tier\": \"B\", \"Score\": 43.66, \"Trend\": 4.37, \"Win %\": 50.11, \"Role %\": 55.93, \"Pick %\": 1.67, \"Ban %\": 0.41, \"KDA\": 2.34, \"Pred\": 49.62494495067742, \"isMid\": true, \"Mid Champs\": 1, \"pred win\": 0, \"pred_win1\": 0.2377491687473001, \"pred_score\": 0, \"pred_score1\": 0.25101291852377366}, {\"Name\": \"Ziggs\", \"Class\": \"Mage\", \"Role\": \"ADC\", \"Tier\": \"B\", \"Score\": 41.4, \"Trend\": 7.33, \"Win %\": 51.54, \"Role %\": 30.6, \"Pick %\": 0.83, \"Ban %\": 0.41, \"KDA\": 2.48, \"Pred\": 52.448610848976216, \"isMid\": false, \"Mid Champs\": 0, \"pred win\": 0, \"pred_win1\": 0.2971656847846828, \"pred_score\": 0, \"pred_score1\": 0.2510132496545773}, {\"Name\": \"Ziggs\", \"Class\": \"Mage\", \"Role\": \"SUPPORT\", \"Tier\": \"D\", \"Score\": 31.09, \"Trend\": -3.87, \"Win %\": 48.43, \"Role %\": 12.71, \"Pick %\": 0.37, \"Ban %\": 0.42, \"KDA\": 1.98, \"Pred\": 46.30763116806064, \"isMid\": false, \"Mid Champs\": 0, \"pred win\": 0, \"pred_win1\": 0.17909744886657186, \"pred_score\": 0, \"pred_score1\": 0.2510147602594056}, {\"Name\": \"Zilean\", \"Class\": \"Support\", \"Role\": \"MID\", \"Tier\": \"A\", \"Score\": 52.02, \"Trend\": 4.9, \"Win %\": 53.91, \"Role %\": 13.72, \"Pick %\": 0.31, \"Ban %\": 0.76, \"KDA\": 3.52, \"Pred\": 57.12839279231059, \"isMid\": true, \"Mid Champs\": 1, \"pred win\": 0, \"pred_win1\": 0.41177775435752034, \"pred_score\": 0, \"pred_score1\": 0.2510116936353607}, {\"Name\": \"Zilean\", \"Class\": \"Support\", \"Role\": \"SUPPORT\", \"Tier\": \"B\", \"Score\": 45.21, \"Trend\": 1.15, \"Win %\": 50.12, \"Role %\": 82.08, \"Pick %\": 2.11, \"Ban %\": 0.76, \"KDA\": 3.03, \"Pred\": 49.64469086605013, \"isMid\": false, \"Mid Champs\": 0, \"pred win\": 0, \"pred_win1\": 0.23813493342593797, \"pred_score\": 0, \"pred_score1\": 0.25101269142095683}, {\"Name\": \"Zoe\", \"Class\": \"Mage\", \"Role\": \"MID\", \"Tier\": \"A\", \"Score\": 49.82, \"Trend\": 1.34, \"Win %\": 50.44, \"Role %\": 86.34, \"Pick %\": 2.98, \"Ban %\": 1.93, \"KDA\": 2.6, \"Pred\": 50.276560157977144, \"isMid\": true, \"Mid Champs\": 1, \"pred win\": 0, \"pred_win1\": 0.2507055328507256, \"pred_score\": 0, \"pred_score1\": 0.25101201597403144}, {\"Name\": \"Zoe\", \"Class\": \"Mage\", \"Role\": \"SUPPORT\", \"Tier\": \"D\", \"Score\": 32.21, \"Trend\": -1.45, \"Win %\": 48.67, \"Role %\": 11.43, \"Pick %\": 0.4, \"Ban %\": 1.97, \"KDA\": 2.11, \"Pred\": 46.781533137005894, \"isMid\": false, \"Mid Champs\": 0, \"pred win\": 0, \"pred_win1\": 0.18672762481430588, \"pred_score\": 0, \"pred_score1\": 0.2510145961584915}, {\"Name\": \"Zyra\", \"Class\": \"Mage\", \"Role\": \"SUPPORT\", \"Tier\": \"B\", \"Score\": 46.64, \"Trend\": -0.95, \"Win %\": 51.44, \"Role %\": 90.88, \"Pick %\": 2.87, \"Ban %\": 1.96, \"KDA\": 2.06, \"Pred\": 52.251151695249035, \"isMid\": false, \"Mid Champs\": 0, \"pred win\": 0, \"pred_win1\": 0.29274154755334736, \"pred_score\": 0, \"pred_score1\": 0.25101248190041464}]}}, {\"mode\": \"vega-lite\"});\n",
       "</script>"
      ],
      "text/plain": [
       "alt.HConcatChart(...)"
      ]
     },
     "execution_count": 30,
     "metadata": {},
     "output_type": "execute_result"
    }
   ],
   "source": [
    "clf.fit(df[[\"Score\"]],df[\"Mid Champs\"])\n",
    "df[\"pred_score\"] = clf.predict(df[[\"Score\"]])\n",
    "c9 = alt.Chart(df).mark_circle(color=\"black\").encode(\n",
    "    x=\"Score\",\n",
    "    y=\"pred_score\"\n",
    ")\n",
    "scoring = clf.predict_proba(df[[\"Score\"]])\n",
    "df[\"pred_score1\"] = scoring[:,1]\n",
    "c10 = alt.Chart(df).mark_circle(color=\"brown\").encode(\n",
    "    x=\"Score\",\n",
    "    y=\"pred_score1\"\n",
    ")\n",
    "c9|c10+c6"
   ]
  },
  {
   "cell_type": "markdown",
   "metadata": {
    "cell_id": "39b4a130bf134fb793776e91cfcb0a68",
    "deepnote_cell_type": "markdown"
   },
   "source": [
    "Graph c9 shows what the champions that might be in the mid role based on their score. This is hard to predict since the League of Legends champions in other roles may have similar scores. Graph c6+c10 is not showing a binary regression and instead is showing flat line. "
   ]
  },
  {
   "cell_type": "markdown",
   "metadata": {
    "cell_id": "92aa913aa3b449dba4a0ce55f7035b3c",
    "deepnote_cell_type": "markdown"
   },
   "source": [
    "### Train Test Split on Mid lane Champions"
   ]
  },
  {
   "cell_type": "markdown",
   "metadata": {
    "cell_id": "647a8cb79a02458fb36af4cac655fffb",
    "deepnote_cell_type": "markdown"
   },
   "source": [
    "Let's classify if a champion is played in the Mid Role based off the scores and win %."
   ]
  },
  {
   "cell_type": "code",
   "execution_count": 31,
   "metadata": {
    "cell_id": "3dc362ca31f64a8b91c6456e4b271c97",
    "deepnote_cell_type": "code",
    "deepnote_to_be_reexecuted": false,
    "execution_millis": 39,
    "execution_start": 1695796834131,
    "source_hash": "e06175a0"
   },
   "outputs": [],
   "source": [
    "winscore = [\"Win %\", \"Score\"]\n",
    "X_train, X_test, y_train, y_test = train_test_split(df[winscore], df[\"Mid Champs\"], test_size=0.2,random_state=42)"
   ]
  },
  {
   "cell_type": "code",
   "execution_count": 32,
   "metadata": {
    "cell_id": "89a8d1c23e1847a292eea5d1f831bf4a",
    "deepnote_cell_type": "code",
    "deepnote_to_be_reexecuted": false,
    "execution_millis": 48,
    "execution_start": 1695796834139,
    "source_hash": "5b0c9060"
   },
   "outputs": [
    {
     "data": {
      "text/plain": [
       "36"
      ]
     },
     "execution_count": 32,
     "metadata": {},
     "output_type": "execute_result"
    }
   ],
   "source": [
    "clf1 = LogisticRegression()\n",
    "clf1.fit(X_train, y_train)\n",
    "(clf1.predict(X_test) == y_test).sum()"
   ]
  },
  {
   "cell_type": "markdown",
   "metadata": {
    "cell_id": "b8e3dd6247194356a51f6178c3316994",
    "deepnote_cell_type": "markdown"
   },
   "source": [
    "It seems we were correct 36 times."
   ]
  },
  {
   "cell_type": "markdown",
   "metadata": {
    "cell_id": "4135133ee2ea44e9a6680756c0151044",
    "deepnote_cell_type": "markdown"
   },
   "source": [
    "I am checking the accuracy score for the model's prediction on both the test and train set"
   ]
  },
  {
   "cell_type": "code",
   "execution_count": 33,
   "metadata": {
    "cell_id": "e1e19a9805a04d11a4c99b4d673bf30d",
    "deepnote_cell_type": "code",
    "deepnote_to_be_reexecuted": false,
    "execution_millis": 85,
    "execution_start": 1695796834185,
    "source_hash": "4c0cca98"
   },
   "outputs": [
    {
     "name": "stdout",
     "output_type": "stream",
     "text": [
      "0.72 0.7563451776649747\n"
     ]
    }
   ],
   "source": [
    "a = clf1.score(X_test,y_test)\n",
    "b = clf1.score(X_train,y_train)\n",
    "print(a,b)"
   ]
  },
  {
   "cell_type": "markdown",
   "metadata": {
    "cell_id": "8e3f75ec1d504956bfb34084c4f91f27",
    "deepnote_cell_type": "markdown"
   },
   "source": [
    "Now I want to check the probability of the model of guessing a midlane champion when I give it a randon Win % and a Score to see "
   ]
  },
  {
   "cell_type": "code",
   "execution_count": 34,
   "metadata": {
    "cell_id": "054c1ba6c8134d6bbe5f9c4ad0a6a019",
    "deepnote_cell_type": "code",
    "deepnote_to_be_reexecuted": false,
    "execution_millis": 99,
    "execution_start": 1695796834236,
    "source_hash": "a1fa22a2"
   },
   "outputs": [
    {
     "data": {
      "text/plain": [
       "array([[ 0.18522227, -0.01327282]])"
      ]
     },
     "execution_count": 34,
     "metadata": {},
     "output_type": "execute_result"
    }
   ],
   "source": [
    "clf1.coef_"
   ]
  },
  {
   "cell_type": "code",
   "execution_count": 35,
   "metadata": {
    "cell_id": "2d5ad3a288ff4f59951691df20696f41",
    "deepnote_cell_type": "code",
    "deepnote_to_be_reexecuted": false,
    "execution_millis": 73,
    "execution_start": 1695796834242,
    "source_hash": "bd08e14"
   },
   "outputs": [
    {
     "data": {
      "text/plain": [
       "0.24291947112459267"
      ]
     },
     "execution_count": 35,
     "metadata": {},
     "output_type": "execute_result"
    }
   ],
   "source": [
    "#Sigma function introduced in lecture was helpful for me creating a probability function. Reference #3\n",
    "Winrate_coef, Score_coef = clf1.coef_[0]\n",
    "Winrate = 50.5\n",
    "Score = 50\n",
    "sigmoid = lambda x:1/(1+np.exp(-x))\n",
    "prob = sigmoid(Winrate_coef*Winrate + Score_coef*Score + clf1.intercept_)\n",
    "prob[0]"
   ]
  },
  {
   "cell_type": "markdown",
   "metadata": {
    "cell_id": "35a1f6305c31442db853af7f859af378",
    "deepnote_cell_type": "markdown"
   },
   "source": [
    "The probability of model prediction when the win(%) rate is 50.5 and score is 50 is 24 % that the champion is in the mid lane role. "
   ]
  },
  {
   "cell_type": "code",
   "execution_count": 36,
   "metadata": {
    "cell_id": "f7335f4a1c164c2ea4794ca135160124",
    "deepnote_cell_type": "code",
    "deepnote_to_be_reexecuted": false,
    "execution_millis": 90,
    "execution_start": 1695796834257,
    "source_hash": "42626eaf"
   },
   "outputs": [
    {
     "data": {
      "text/plain": [
       "0.5455532301898017"
      ]
     },
     "execution_count": 36,
     "metadata": {},
     "output_type": "execute_result"
    }
   ],
   "source": [
    "log_loss(y_train, clf1.predict_proba(X_train))"
   ]
  },
  {
   "cell_type": "markdown",
   "metadata": {
    "cell_id": "11272eab42e6454ca0df1d29363ccc8d",
    "deepnote_cell_type": "markdown"
   },
   "source": [
    "The value for the measure of uncertainty for the train data is alittle high which suggests that there is a chance for errors."
   ]
  },
  {
   "cell_type": "code",
   "execution_count": 37,
   "metadata": {
    "cell_id": "61c20c84ffc14c40a79c5084f9d4f0d1",
    "deepnote_cell_type": "code",
    "deepnote_to_be_reexecuted": false,
    "execution_millis": 68,
    "execution_start": 1695796834299,
    "source_hash": "f2119adb"
   },
   "outputs": [
    {
     "data": {
      "text/plain": [
       "0.5836294924200414"
      ]
     },
     "execution_count": 37,
     "metadata": {},
     "output_type": "execute_result"
    }
   ],
   "source": [
    "log_loss(y_test, clf1.predict_proba(X_test))"
   ]
  },
  {
   "cell_type": "markdown",
   "metadata": {
    "cell_id": "cc1d019014c64306949f63941e2faafa",
    "deepnote_cell_type": "markdown"
   },
   "source": [
    "Here is the measure of uncertainty for the test data. The value is near the train data, but alittle greater."
   ]
  },
  {
   "cell_type": "markdown",
   "metadata": {
    "cell_id": "052af7155cfb49bbae9442e0f7c8605e",
    "deepnote_cell_type": "markdown"
   },
   "source": [
    "### Decision Tree Clasifier"
   ]
  },
  {
   "cell_type": "markdown",
   "metadata": {
    "cell_id": "d6a539ebc84c453eb73741629b49c3fa",
    "deepnote_cell_type": "markdown"
   },
   "source": [
    "We have an initial instantiation with `max_leaf_nodes` = 10, which is a guess to see what the results look like "
   ]
  },
  {
   "cell_type": "code",
   "execution_count": 38,
   "metadata": {
    "cell_id": "2b0ee3f0529e42d7b6cd8eaaf4a54ed1",
    "deepnote_cell_type": "code",
    "deepnote_to_be_reexecuted": false,
    "execution_millis": 58,
    "execution_start": 1695796834343,
    "source_hash": "414f81bd"
   },
   "outputs": [
    {
     "data": {
      "text/plain": [
       "DecisionTreeClassifier(max_leaf_nodes=10)"
      ]
     },
     "execution_count": 38,
     "metadata": {},
     "output_type": "execute_result"
    }
   ],
   "source": [
    "clf3 = DecisionTreeClassifier(max_leaf_nodes=10)\n",
    "clf3.fit(X_train,y_train)"
   ]
  },
  {
   "cell_type": "code",
   "execution_count": 39,
   "metadata": {
    "cell_id": "9b505a449de046508707457e30a30f9a",
    "deepnote_cell_type": "code",
    "deepnote_to_be_reexecuted": false,
    "execution_millis": 44,
    "execution_start": 1695796834387,
    "source_hash": "73549692"
   },
   "outputs": [
    {
     "data": {
      "text/plain": [
       "0.8324873096446701"
      ]
     },
     "execution_count": 39,
     "metadata": {},
     "output_type": "execute_result"
    }
   ],
   "source": [
    "clf3.score(X_train, y_train)"
   ]
  },
  {
   "cell_type": "code",
   "execution_count": 40,
   "metadata": {
    "cell_id": "9fd5d40441a441318c33355b78e7d89c",
    "deepnote_cell_type": "code",
    "deepnote_to_be_reexecuted": false,
    "execution_millis": 60,
    "execution_start": 1695796834388,
    "source_hash": "1752efdf"
   },
   "outputs": [
    {
     "data": {
      "text/plain": [
       "0.72"
      ]
     },
     "execution_count": 40,
     "metadata": {},
     "output_type": "execute_result"
    }
   ],
   "source": [
    "clf3.score(X_test, y_test)"
   ]
  },
  {
   "cell_type": "code",
   "execution_count": 41,
   "metadata": {
    "cell_id": "1e8b1b0ab06a4f408c8c57fda3354401",
    "deepnote_cell_type": "code",
    "deepnote_to_be_reexecuted": false,
    "execution_millis": 691,
    "execution_start": 1695796834436,
    "source_hash": "9f60f65b"
   },
   "outputs": [],
   "source": [
    "df_err1 = pd.DataFrame(columns = ['leaves', 'error', 'set'])\n",
    "\n",
    "for i in range(2,50):\n",
    "    dtc = DecisionTreeClassifier(max_leaf_nodes=i)\n",
    "    dtc.fit(X_train, y_train)\n",
    "    d3 = {\"leaves\": i, \"error\": (1 - dtc.score(X_train, y_train)), \"set\":\"train\"}\n",
    "    d4 = {\"leaves\": i, \"error\": (1 - dtc.score(X_test, y_test)), \"set\": \"test\"}\n",
    "    df_err1.loc[len(df_err1)] = d3\n",
    "    df_err1.loc[len(df_err1)] = d4\n"
   ]
  },
  {
   "cell_type": "code",
   "execution_count": 42,
   "metadata": {
    "cell_id": "d6b5a2b36d1f4725b6683abfecd7cf8e",
    "deepnote_cell_type": "code",
    "deepnote_to_be_reexecuted": false,
    "execution_millis": 274,
    "execution_start": 1695796835143,
    "source_hash": "85ea5bfa"
   },
   "outputs": [
    {
     "data": {
      "text/html": [
       "\n",
       "<div id=\"altair-viz-f9bcfdfd25f04afd9e010b877d0ff933\"></div>\n",
       "<script type=\"text/javascript\">\n",
       "  var VEGA_DEBUG = (typeof VEGA_DEBUG == \"undefined\") ? {} : VEGA_DEBUG;\n",
       "  (function(spec, embedOpt){\n",
       "    let outputDiv = document.currentScript.previousElementSibling;\n",
       "    if (outputDiv.id !== \"altair-viz-f9bcfdfd25f04afd9e010b877d0ff933\") {\n",
       "      outputDiv = document.getElementById(\"altair-viz-f9bcfdfd25f04afd9e010b877d0ff933\");\n",
       "    }\n",
       "    const paths = {\n",
       "      \"vega\": \"https://cdn.jsdelivr.net/npm//vega@5?noext\",\n",
       "      \"vega-lib\": \"https://cdn.jsdelivr.net/npm//vega-lib?noext\",\n",
       "      \"vega-lite\": \"https://cdn.jsdelivr.net/npm//vega-lite@4.17.0?noext\",\n",
       "      \"vega-embed\": \"https://cdn.jsdelivr.net/npm//vega-embed@6?noext\",\n",
       "    };\n",
       "\n",
       "    function maybeLoadScript(lib, version) {\n",
       "      var key = `${lib.replace(\"-\", \"\")}_version`;\n",
       "      return (VEGA_DEBUG[key] == version) ?\n",
       "        Promise.resolve(paths[lib]) :\n",
       "        new Promise(function(resolve, reject) {\n",
       "          var s = document.createElement('script');\n",
       "          document.getElementsByTagName(\"head\")[0].appendChild(s);\n",
       "          s.async = true;\n",
       "          s.onload = () => {\n",
       "            VEGA_DEBUG[key] = version;\n",
       "            return resolve(paths[lib]);\n",
       "          };\n",
       "          s.onerror = () => reject(`Error loading script: ${paths[lib]}`);\n",
       "          s.src = paths[lib];\n",
       "        });\n",
       "    }\n",
       "\n",
       "    function showError(err) {\n",
       "      outputDiv.innerHTML = `<div class=\"error\" style=\"color:red;\">${err}</div>`;\n",
       "      throw err;\n",
       "    }\n",
       "\n",
       "    function displayChart(vegaEmbed) {\n",
       "      vegaEmbed(outputDiv, spec, embedOpt)\n",
       "        .catch(err => showError(`Javascript Error: ${err.message}<br>This usually means there's a typo in your chart specification. See the javascript console for the full traceback.`));\n",
       "    }\n",
       "\n",
       "    if(typeof define === \"function\" && define.amd) {\n",
       "      requirejs.config({paths});\n",
       "      require([\"vega-embed\"], displayChart, err => showError(`Error loading script: ${err.message}`));\n",
       "    } else {\n",
       "      maybeLoadScript(\"vega\", \"5\")\n",
       "        .then(() => maybeLoadScript(\"vega-lite\", \"4.17.0\"))\n",
       "        .then(() => maybeLoadScript(\"vega-embed\", \"6\"))\n",
       "        .catch(showError)\n",
       "        .then(() => displayChart(vegaEmbed));\n",
       "    }\n",
       "  })({\"config\": {\"view\": {\"continuousWidth\": 400, \"continuousHeight\": 300}}, \"data\": {\"name\": \"data-adb3de526a45003ff94df08f5883ed65\"}, \"mark\": \"line\", \"encoding\": {\"color\": {\"field\": \"set\", \"type\": \"nominal\"}, \"x\": {\"field\": \"leaves\", \"scale\": {\"zero\": false}, \"type\": \"quantitative\"}, \"y\": {\"field\": \"error\", \"scale\": {\"zero\": false}, \"type\": \"quantitative\"}}, \"$schema\": \"https://vega.github.io/schema/vega-lite/v4.17.0.json\", \"datasets\": {\"data-adb3de526a45003ff94df08f5883ed65\": [{\"leaves\": 2, \"error\": 0.24365482233502533, \"set\": \"train\"}, {\"leaves\": 2, \"error\": 0.28, \"set\": \"test\"}, {\"leaves\": 3, \"error\": 0.24365482233502533, \"set\": \"train\"}, {\"leaves\": 3, \"error\": 0.28, \"set\": \"test\"}, {\"leaves\": 4, \"error\": 0.24365482233502533, \"set\": \"train\"}, {\"leaves\": 4, \"error\": 0.28, \"set\": \"test\"}, {\"leaves\": 5, \"error\": 0.2182741116751269, \"set\": \"train\"}, {\"leaves\": 5, \"error\": 0.31999999999999995, \"set\": \"test\"}, {\"leaves\": 6, \"error\": 0.20304568527918787, \"set\": \"train\"}, {\"leaves\": 6, \"error\": 0.28, \"set\": \"test\"}, {\"leaves\": 7, \"error\": 0.19796954314720816, \"set\": \"train\"}, {\"leaves\": 7, \"error\": 0.28, \"set\": \"test\"}, {\"leaves\": 8, \"error\": 0.17766497461928932, \"set\": \"train\"}, {\"leaves\": 8, \"error\": 0.30000000000000004, \"set\": \"test\"}, {\"leaves\": 9, \"error\": 0.1675126903553299, \"set\": \"train\"}, {\"leaves\": 9, \"error\": 0.28, \"set\": \"test\"}, {\"leaves\": 10, \"error\": 0.1675126903553299, \"set\": \"train\"}, {\"leaves\": 10, \"error\": 0.28, \"set\": \"test\"}, {\"leaves\": 11, \"error\": 0.14720812182741116, \"set\": \"train\"}, {\"leaves\": 11, \"error\": 0.28, \"set\": \"test\"}, {\"leaves\": 12, \"error\": 0.14213197969543145, \"set\": \"train\"}, {\"leaves\": 12, \"error\": 0.30000000000000004, \"set\": \"test\"}, {\"leaves\": 13, \"error\": 0.13197969543147203, \"set\": \"train\"}, {\"leaves\": 13, \"error\": 0.26, \"set\": \"test\"}, {\"leaves\": 14, \"error\": 0.12690355329949243, \"set\": \"train\"}, {\"leaves\": 14, \"error\": 0.24, \"set\": \"test\"}, {\"leaves\": 15, \"error\": 0.12182741116751272, \"set\": \"train\"}, {\"leaves\": 15, \"error\": 0.24, \"set\": \"test\"}, {\"leaves\": 16, \"error\": 0.11675126903553301, \"set\": \"train\"}, {\"leaves\": 16, \"error\": 0.24, \"set\": \"test\"}, {\"leaves\": 17, \"error\": 0.1116751269035533, \"set\": \"train\"}, {\"leaves\": 17, \"error\": 0.24, \"set\": \"test\"}, {\"leaves\": 18, \"error\": 0.10659898477157359, \"set\": \"train\"}, {\"leaves\": 18, \"error\": 0.24, \"set\": \"test\"}, {\"leaves\": 19, \"error\": 0.10659898477157359, \"set\": \"train\"}, {\"leaves\": 19, \"error\": 0.24, \"set\": \"test\"}, {\"leaves\": 20, \"error\": 0.09644670050761417, \"set\": \"train\"}, {\"leaves\": 20, \"error\": 0.26, \"set\": \"test\"}, {\"leaves\": 21, \"error\": 0.09137055837563457, \"set\": \"train\"}, {\"leaves\": 21, \"error\": 0.26, \"set\": \"test\"}, {\"leaves\": 22, \"error\": 0.09137055837563457, \"set\": \"train\"}, {\"leaves\": 22, \"error\": 0.26, \"set\": \"test\"}, {\"leaves\": 23, \"error\": 0.08121827411167515, \"set\": \"train\"}, {\"leaves\": 23, \"error\": 0.28, \"set\": \"test\"}, {\"leaves\": 24, \"error\": 0.09137055837563457, \"set\": \"train\"}, {\"leaves\": 24, \"error\": 0.26, \"set\": \"test\"}, {\"leaves\": 25, \"error\": 0.08121827411167515, \"set\": \"train\"}, {\"leaves\": 25, \"error\": 0.26, \"set\": \"test\"}, {\"leaves\": 26, \"error\": 0.08121827411167515, \"set\": \"train\"}, {\"leaves\": 26, \"error\": 0.26, \"set\": \"test\"}, {\"leaves\": 27, \"error\": 0.07614213197969544, \"set\": \"train\"}, {\"leaves\": 27, \"error\": 0.26, \"set\": \"test\"}, {\"leaves\": 28, \"error\": 0.060913705583756306, \"set\": \"train\"}, {\"leaves\": 28, \"error\": 0.26, \"set\": \"test\"}, {\"leaves\": 29, \"error\": 0.06598984771573602, \"set\": \"train\"}, {\"leaves\": 29, \"error\": 0.28, \"set\": \"test\"}, {\"leaves\": 30, \"error\": 0.055837563451776595, \"set\": \"train\"}, {\"leaves\": 30, \"error\": 0.26, \"set\": \"test\"}, {\"leaves\": 31, \"error\": 0.06598984771573602, \"set\": \"train\"}, {\"leaves\": 31, \"error\": 0.28, \"set\": \"test\"}, {\"leaves\": 32, \"error\": 0.055837563451776595, \"set\": \"train\"}, {\"leaves\": 32, \"error\": 0.28, \"set\": \"test\"}, {\"leaves\": 33, \"error\": 0.050761421319796995, \"set\": \"train\"}, {\"leaves\": 33, \"error\": 0.31999999999999995, \"set\": \"test\"}, {\"leaves\": 34, \"error\": 0.045685279187817285, \"set\": \"train\"}, {\"leaves\": 34, \"error\": 0.30000000000000004, \"set\": \"test\"}, {\"leaves\": 35, \"error\": 0.035532994923857864, \"set\": \"train\"}, {\"leaves\": 35, \"error\": 0.31999999999999995, \"set\": \"test\"}, {\"leaves\": 36, \"error\": 0.035532994923857864, \"set\": \"train\"}, {\"leaves\": 36, \"error\": 0.28, \"set\": \"test\"}, {\"leaves\": 37, \"error\": 0.035532994923857864, \"set\": \"train\"}, {\"leaves\": 37, \"error\": 0.28, \"set\": \"test\"}, {\"leaves\": 38, \"error\": 0.030456852791878153, \"set\": \"train\"}, {\"leaves\": 38, \"error\": 0.30000000000000004, \"set\": \"test\"}, {\"leaves\": 39, \"error\": 0.025380710659898442, \"set\": \"train\"}, {\"leaves\": 39, \"error\": 0.28, \"set\": \"test\"}, {\"leaves\": 40, \"error\": 0.025380710659898442, \"set\": \"train\"}, {\"leaves\": 40, \"error\": 0.31999999999999995, \"set\": \"test\"}, {\"leaves\": 41, \"error\": 0.02030456852791873, \"set\": \"train\"}, {\"leaves\": 41, \"error\": 0.36, \"set\": \"test\"}, {\"leaves\": 42, \"error\": 0.02030456852791873, \"set\": \"train\"}, {\"leaves\": 42, \"error\": 0.36, \"set\": \"test\"}, {\"leaves\": 43, \"error\": 0.02030456852791873, \"set\": \"train\"}, {\"leaves\": 43, \"error\": 0.36, \"set\": \"test\"}, {\"leaves\": 44, \"error\": 0.015228426395939132, \"set\": \"train\"}, {\"leaves\": 44, \"error\": 0.36, \"set\": \"test\"}, {\"leaves\": 45, \"error\": 0.015228426395939132, \"set\": \"train\"}, {\"leaves\": 45, \"error\": 0.38, \"set\": \"test\"}, {\"leaves\": 46, \"error\": 0.010152284263959421, \"set\": \"train\"}, {\"leaves\": 46, \"error\": 0.33999999999999997, \"set\": \"test\"}, {\"leaves\": 47, \"error\": 0.010152284263959421, \"set\": \"train\"}, {\"leaves\": 47, \"error\": 0.33999999999999997, \"set\": \"test\"}, {\"leaves\": 48, \"error\": 0.005076142131979711, \"set\": \"train\"}, {\"leaves\": 48, \"error\": 0.38, \"set\": \"test\"}, {\"leaves\": 49, \"error\": 0.005076142131979711, \"set\": \"train\"}, {\"leaves\": 49, \"error\": 0.31999999999999995, \"set\": \"test\"}]}}, {\"mode\": \"vega-lite\"});\n",
       "</script>"
      ],
      "text/plain": [
       "alt.Chart(...)"
      ]
     },
     "execution_count": 42,
     "metadata": {},
     "output_type": "execute_result"
    }
   ],
   "source": [
    "alt.Chart(df_err1).mark_line().encode(\n",
    "    x = alt.X(\"leaves\", scale=alt.Scale(zero=False)),\n",
    "    y = alt.Y(\"error\", scale=alt.Scale(zero=False)),\n",
    "    color = \"set\"\n",
    ")\n"
   ]
  },
  {
   "cell_type": "markdown",
   "metadata": {
    "cell_id": "0eb8913c01ef477c85f6d457573499d0",
    "deepnote_cell_type": "markdown"
   },
   "source": [
    "From what the graph shows, the model did not produce favorable results with the max_leaf_nodes = 9. It shows the model is not a good predictor for \"mid role\" champions."
   ]
  },
  {
   "cell_type": "code",
   "execution_count": 43,
   "metadata": {
    "cell_id": "941537e129494d548e7e6f01ec52d3be",
    "deepnote_cell_type": "code",
    "deepnote_to_be_reexecuted": false,
    "execution_millis": 35,
    "execution_start": 1695796835157,
    "source_hash": "6653c338"
   },
   "outputs": [
    {
     "data": {
      "text/plain": [
       "0.3819817067141626"
      ]
     },
     "execution_count": 43,
     "metadata": {},
     "output_type": "execute_result"
    }
   ],
   "source": [
    "log_loss(y_train, clf3.predict_proba(X_train))"
   ]
  },
  {
   "cell_type": "code",
   "execution_count": 44,
   "metadata": {
    "cell_id": "b37fc735e0df4ebfbdf78ce701882c51",
    "deepnote_cell_type": "code",
    "deepnote_to_be_reexecuted": false,
    "execution_millis": 36,
    "execution_start": 1695796835179,
    "source_hash": "4db6be6"
   },
   "outputs": [
    {
     "data": {
      "text/plain": [
       "1.252284030721461"
      ]
     },
     "execution_count": 44,
     "metadata": {},
     "output_type": "execute_result"
    }
   ],
   "source": [
    "log_loss(y_test, clf3.predict_proba(X_test))"
   ]
  },
  {
   "cell_type": "markdown",
   "metadata": {
    "cell_id": "7696adbab9904130b968678fdb025201",
    "deepnote_cell_type": "markdown"
   },
   "source": [
    "The value produced by the test set is significantly higher than the training set. This indicates the clf3 model, which was defined as Decision Tree Classifier, is not an adequate model for predictions."
   ]
  },
  {
   "cell_type": "markdown",
   "metadata": {
    "cell_id": "00e9a8ecdd0c43b0841fd244bd84e462",
    "deepnote_cell_type": "markdown"
   },
   "source": []
  },
  {
   "cell_type": "markdown",
   "metadata": {
    "cell_id": "c3f81588db0e4c09a926143ce9fe19b8",
    "deepnote_cell_type": "markdown"
   },
   "source": [
    "### Random Forest Classifier"
   ]
  },
  {
   "cell_type": "code",
   "execution_count": 45,
   "metadata": {
    "cell_id": "0e97f74c4e0f4af88627d30466b20189",
    "deepnote_cell_type": "code",
    "deepnote_to_be_reexecuted": false,
    "execution_millis": 190,
    "execution_start": 1695796835274,
    "source_hash": "9a5a3d07"
   },
   "outputs": [
    {
     "data": {
      "text/plain": [
       "RandomForestClassifier(max_leaf_nodes=9, n_estimators=200)"
      ]
     },
     "execution_count": 45,
     "metadata": {},
     "output_type": "execute_result"
    }
   ],
   "source": [
    "rfc = RandomForestClassifier(max_leaf_nodes=9, n_estimators=200)\n",
    "rfc.fit(X_train,y_train)"
   ]
  },
  {
   "cell_type": "code",
   "execution_count": 46,
   "metadata": {
    "cell_id": "6719f506be5f467a8721d2745f483c48",
    "deepnote_cell_type": "code",
    "deepnote_to_be_reexecuted": false,
    "execution_millis": 24,
    "execution_start": 1695796835485,
    "source_hash": "3bded7fc"
   },
   "outputs": [
    {
     "data": {
      "text/plain": [
       "0.8527918781725888"
      ]
     },
     "execution_count": 46,
     "metadata": {},
     "output_type": "execute_result"
    }
   ],
   "source": [
    "rfc.score(X_train, y_train)"
   ]
  },
  {
   "cell_type": "code",
   "execution_count": 47,
   "metadata": {
    "cell_id": "bb4351c41b584434adf93d6fd55f0260",
    "deepnote_cell_type": "code",
    "deepnote_to_be_reexecuted": false,
    "execution_millis": 29,
    "execution_start": 1695796835529,
    "source_hash": "6cc0cc22"
   },
   "outputs": [
    {
     "data": {
      "text/plain": [
       "0.7"
      ]
     },
     "execution_count": 47,
     "metadata": {},
     "output_type": "execute_result"
    }
   ],
   "source": [
    "rfc.score(X_test, y_test)"
   ]
  },
  {
   "cell_type": "markdown",
   "metadata": {
    "cell_id": "7a9c0e8a534c44b8a5ccc7153386b076",
    "deepnote_cell_type": "markdown"
   },
   "source": [
    "The score of the test set is lower than the train set. It indicates that the Random Forest Classifier model is not an adequate model in predicting mid role champions. "
   ]
  },
  {
   "cell_type": "markdown",
   "metadata": {
    "cell_id": "834398801db2405f862503880a0b63a1",
    "deepnote_cell_type": "markdown"
   },
   "source": [
    "### K-Neighbors Regressors"
   ]
  },
  {
   "cell_type": "code",
   "execution_count": 48,
   "metadata": {
    "cell_id": "5672796155c74d1e8ec381d5ba5ab826",
    "deepnote_cell_type": "code",
    "deepnote_to_be_reexecuted": false,
    "execution_millis": 280,
    "execution_start": 1695796835573,
    "source_hash": "e3a3b995"
   },
   "outputs": [],
   "source": [
    "# the codes throughout this section was adapted from Professor Davis K-Nearest Neighbors notes. Reference #4"
   ]
  },
  {
   "cell_type": "markdown",
   "metadata": {
    "cell_id": "964da098041b4ed6bb09cc85d00d1dc3",
    "deepnote_cell_type": "markdown"
   },
   "source": [
    "I am going to use K-Neighbors Regressor to find out if there is a relationship between the Win % + Score and Pick %. "
   ]
  },
  {
   "cell_type": "code",
   "execution_count": 49,
   "metadata": {
    "cell_id": "40c7397da28740e8a7c6f80282cf991b",
    "deepnote_cell_type": "code",
    "deepnote_to_be_reexecuted": false,
    "execution_millis": 79,
    "execution_start": 1695796835574,
    "source_hash": "d96d5d09"
   },
   "outputs": [],
   "source": [
    "X_trainP, X_testP, y_trainP, y_testP = train_test_split(df[winscore],df[\"Pick %\"], train_size=0.2)"
   ]
  },
  {
   "cell_type": "code",
   "execution_count": 50,
   "metadata": {
    "cell_id": "54d7dd17b6664248a4009eea02ec2d96",
    "deepnote_cell_type": "code",
    "deepnote_to_be_reexecuted": false,
    "execution_millis": 37,
    "execution_start": 1695796835574,
    "source_hash": "3b5993c3"
   },
   "outputs": [
    {
     "data": {
      "text/plain": [
       "KNeighborsRegressor(n_neighbors=10)"
      ]
     },
     "execution_count": 50,
     "metadata": {},
     "output_type": "execute_result"
    }
   ],
   "source": [
    "reg2 = KNeighborsRegressor(n_neighbors=10)\n",
    "reg2.fit(X_trainP, y_trainP)"
   ]
  },
  {
   "cell_type": "code",
   "execution_count": 51,
   "metadata": {
    "cell_id": "42ae81dcbee74b42a4e72f4cbc37eb74",
    "deepnote_cell_type": "code",
    "deepnote_to_be_reexecuted": false,
    "execution_millis": 285,
    "execution_start": 1695796835581,
    "source_hash": "ea4147fd"
   },
   "outputs": [
    {
     "data": {
      "text/plain": [
       "array([1.054, 5.693, 3.375, 1.204, 1.588, 3.411, 5.815, 1.598, 9.187,\n",
       "       1.093, 6.869, 3.823, 1.279, 2.277, 5.815, 3.157, 2.227, 0.862,\n",
       "       2.351, 0.862, 6.557, 3.514, 1.093, 3.147, 1.093, 3.411, 0.848,\n",
       "       1.572, 6.557, 0.862, 1.23 , 2.81 , 5.827, 6.869, 2.84 , 2.493,\n",
       "       4.718, 2.212, 9.187, 5.693, 4.396, 1.093, 5.815, 1.054, 3.135,\n",
       "       2.536, 6.869, 3.289, 9.187, 2.351, 1.054, 4.062, 2.782, 0.848,\n",
       "       2.657, 2.84 , 1.857, 1.598, 6.557, 5.815, 3.157, 9.187, 9.187,\n",
       "       2.84 , 1.572, 3.394, 1.598, 3.228, 1.404, 9.187, 5.566, 0.862,\n",
       "       1.642, 4.075, 5.599, 5.815, 3.228, 3.147, 6.416, 2.36 , 3.375,\n",
       "       2.605, 2.84 , 3.446, 2.605, 2.242, 0.862, 5.815, 2.227, 9.187,\n",
       "       0.848, 4.075, 3.093, 9.187, 2.829, 5.815, 6.869, 2.36 , 6.869,\n",
       "       5.693, 2.431, 1.572, 2.605, 9.187, 1.553, 5.815, 3.411, 0.862,\n",
       "       4.273, 1.461, 2.84 , 3.411, 2.536, 6.557, 2.113, 3.093, 2.36 ,\n",
       "       0.862, 3.446, 3.618, 3.823, 2.536, 3.17 , 0.862, 2.964, 2.907,\n",
       "       2.461, 2.277, 6.557, 9.187, 3.823, 6.869, 3.228, 1.598, 2.286,\n",
       "       2.286, 0.862, 0.848, 5.815, 1.583, 5.815, 2.536, 6.869, 6.557,\n",
       "       1.054, 9.187, 6.869, 3.375, 6.058, 0.862, 2.286, 4.075, 3.157,\n",
       "       3.823, 2.536, 9.187, 2.84 , 3.093, 0.848, 2.227, 2.113, 3.446,\n",
       "       5.815, 3.228, 9.187, 9.187, 2.113, 2.461, 2.286, 6.557, 2.964,\n",
       "       1.572, 1.857, 1.598, 2.536, 1.642, 1.598, 1.583, 2.536, 4.396,\n",
       "       4.062, 4.604, 1.572, 1.598, 1.539, 2.81 , 3.093, 6.557, 1.054,\n",
       "       3.093, 2.351, 5.815, 4.075, 9.187, 2.212, 0.848, 2.286, 4.075])"
      ]
     },
     "execution_count": 51,
     "metadata": {},
     "output_type": "execute_result"
    }
   ],
   "source": [
    "reg2.predict(X_testP)"
   ]
  },
  {
   "cell_type": "markdown",
   "metadata": {
    "cell_id": "b20aa1846eb64b0b937ff9476d6bccf1",
    "deepnote_cell_type": "markdown"
   },
   "source": [
    "The above output shows the prediction of the Pick % in test data."
   ]
  },
  {
   "cell_type": "code",
   "execution_count": 52,
   "metadata": {
    "cell_id": "a3f68a8952b04943b7d0869b2ac6a3ce",
    "deepnote_cell_type": "code",
    "deepnote_to_be_reexecuted": false,
    "execution_millis": 88,
    "execution_start": 1695796835637,
    "source_hash": "12e0ae92"
   },
   "outputs": [
    {
     "data": {
      "text/plain": [
       "(198, 2)"
      ]
     },
     "execution_count": 52,
     "metadata": {},
     "output_type": "execute_result"
    }
   ],
   "source": [
    "X_testP.shape"
   ]
  },
  {
   "cell_type": "code",
   "execution_count": 53,
   "metadata": {
    "cell_id": "85c0c1243b62468bb0bee55310db12ee",
    "deepnote_cell_type": "code",
    "deepnote_to_be_reexecuted": false,
    "execution_millis": 75,
    "execution_start": 1695796835645,
    "source_hash": "bb926df"
   },
   "outputs": [
    {
     "data": {
      "text/plain": [
       "1.1866060606060604"
      ]
     },
     "execution_count": 53,
     "metadata": {},
     "output_type": "execute_result"
    }
   ],
   "source": [
    "mean_absolute_error(reg2.predict(X_testP), y_testP)"
   ]
  },
  {
   "cell_type": "code",
   "execution_count": 54,
   "metadata": {
    "cell_id": "891940ca17df45b3bb81f1fe905ea506",
    "deepnote_cell_type": "code",
    "deepnote_to_be_reexecuted": false,
    "execution_millis": 69,
    "execution_start": 1695796835670,
    "source_hash": "7eca1e45"
   },
   "outputs": [
    {
     "data": {
      "text/plain": [
       "1.2469795918367346"
      ]
     },
     "execution_count": 54,
     "metadata": {},
     "output_type": "execute_result"
    }
   ],
   "source": [
    "mean_absolute_error(reg2.predict(X_trainP), y_trainP)"
   ]
  },
  {
   "cell_type": "markdown",
   "metadata": {
    "cell_id": "fb1e473a34904f3aab58c119e77ea543",
    "deepnote_cell_type": "markdown"
   },
   "source": [
    "The MAE for the test set and train set are similar or in close proximity to each other. Reg performs slightly better on the training data. "
   ]
  },
  {
   "cell_type": "code",
   "execution_count": 55,
   "metadata": {
    "cell_id": "7a5ffe9dde274304b969d3da8f1c0dda",
    "deepnote_cell_type": "code",
    "deepnote_to_be_reexecuted": false,
    "execution_millis": 27,
    "execution_start": 1695796835674,
    "source_hash": "e648d6f9"
   },
   "outputs": [],
   "source": [
    "def get_scores(k):\n",
    "    reg2 = KNeighborsRegressor(n_neighbors=k)\n",
    "    reg2.fit(X_trainP, y_trainP)\n",
    "    train_error = mean_absolute_error(reg2.predict(X_trainP), y_trainP)\n",
    "    test_error = mean_absolute_error(reg2.predict(X_testP), y_testP)\n",
    "    return (train_error, test_error)"
   ]
  },
  {
   "cell_type": "code",
   "execution_count": 56,
   "metadata": {
    "cell_id": "c9bab50441a14d17852ab841ad2ca0ea",
    "deepnote_cell_type": "code",
    "deepnote_to_be_reexecuted": false,
    "execution_millis": 76,
    "execution_start": 1695796835726,
    "source_hash": "99708d02"
   },
   "outputs": [
    {
     "data": {
      "text/plain": [
       "(1.2469795918367346, 1.1866060606060604)"
      ]
     },
     "execution_count": 56,
     "metadata": {},
     "output_type": "execute_result"
    }
   ],
   "source": [
    "get_scores(10)"
   ]
  },
  {
   "cell_type": "code",
   "execution_count": 57,
   "metadata": {
    "cell_id": "6cbb43c2bbc4424fb6bad99eac3638a4",
    "deepnote_cell_type": "code",
    "deepnote_to_be_reexecuted": false,
    "execution_millis": 142,
    "execution_start": 1695796835760,
    "source_hash": "5872a27e"
   },
   "outputs": [],
   "source": [
    "df_scores = pd.DataFrame({\"k\":range(1,50), \"train_error\":np.nan,\"test_error\":np.nan})"
   ]
  },
  {
   "cell_type": "code",
   "execution_count": 58,
   "metadata": {
    "cell_id": "2b3cbcbb2d7046e58396b168dc59285d",
    "deepnote_cell_type": "code",
    "deepnote_to_be_reexecuted": false,
    "execution_millis": 559,
    "execution_start": 1695796835766,
    "source_hash": "1ea9f290"
   },
   "outputs": [],
   "source": [
    "for i in df_scores.index:\n",
    "    df_scores.loc[i,[\"train_error\",\"test_error\"]] = get_scores(df_scores.loc[i,\"k\"])"
   ]
  },
  {
   "cell_type": "code",
   "execution_count": 59,
   "metadata": {
    "cell_id": "59f4ed6dbb9243bd8396708e5d51bd47",
    "deepnote_cell_type": "code",
    "deepnote_to_be_reexecuted": false,
    "execution_millis": 17,
    "execution_start": 1695796836330,
    "source_hash": "6d7b0128"
   },
   "outputs": [],
   "source": [
    "df_scores[\"kinv\"] = 1/df_scores.k"
   ]
  },
  {
   "cell_type": "code",
   "execution_count": 60,
   "metadata": {
    "cell_id": "7a17ea53a7c649b0b2c8b2b83a4b4e7b",
    "deepnote_cell_type": "code",
    "deepnote_to_be_reexecuted": false,
    "execution_millis": 28,
    "execution_start": 1695796836350,
    "source_hash": "d9e0247"
   },
   "outputs": [],
   "source": [
    "ctrain = alt.Chart(df_scores).mark_line().encode(\n",
    "    x=\"kinv\",\n",
    "    y=\"train_error\"\n",
    ")"
   ]
  },
  {
   "cell_type": "code",
   "execution_count": 61,
   "metadata": {
    "cell_id": "04c2258375c645ecab0f6b34f51a78d6",
    "deepnote_cell_type": "code",
    "deepnote_to_be_reexecuted": false,
    "execution_millis": 8,
    "execution_start": 1695796836367,
    "source_hash": "99cf8edb"
   },
   "outputs": [],
   "source": [
    "ctest = alt.Chart(df_scores).mark_line(color=\"orange\").encode(\n",
    "    x=\"kinv\",\n",
    "    y=\"test_error\"\n",
    ")"
   ]
  },
  {
   "cell_type": "code",
   "execution_count": 62,
   "metadata": {
    "cell_id": "06b1bb343ad0450bbd324b320f9718fd",
    "deepnote_cell_type": "code",
    "deepnote_to_be_reexecuted": false,
    "execution_millis": 337,
    "execution_start": 1695796836424,
    "source_hash": "317a86e1"
   },
   "outputs": [
    {
     "data": {
      "text/html": [
       "\n",
       "<div id=\"altair-viz-d32679f4b7744b1186c6bfe23792ca1a\"></div>\n",
       "<script type=\"text/javascript\">\n",
       "  var VEGA_DEBUG = (typeof VEGA_DEBUG == \"undefined\") ? {} : VEGA_DEBUG;\n",
       "  (function(spec, embedOpt){\n",
       "    let outputDiv = document.currentScript.previousElementSibling;\n",
       "    if (outputDiv.id !== \"altair-viz-d32679f4b7744b1186c6bfe23792ca1a\") {\n",
       "      outputDiv = document.getElementById(\"altair-viz-d32679f4b7744b1186c6bfe23792ca1a\");\n",
       "    }\n",
       "    const paths = {\n",
       "      \"vega\": \"https://cdn.jsdelivr.net/npm//vega@5?noext\",\n",
       "      \"vega-lib\": \"https://cdn.jsdelivr.net/npm//vega-lib?noext\",\n",
       "      \"vega-lite\": \"https://cdn.jsdelivr.net/npm//vega-lite@4.17.0?noext\",\n",
       "      \"vega-embed\": \"https://cdn.jsdelivr.net/npm//vega-embed@6?noext\",\n",
       "    };\n",
       "\n",
       "    function maybeLoadScript(lib, version) {\n",
       "      var key = `${lib.replace(\"-\", \"\")}_version`;\n",
       "      return (VEGA_DEBUG[key] == version) ?\n",
       "        Promise.resolve(paths[lib]) :\n",
       "        new Promise(function(resolve, reject) {\n",
       "          var s = document.createElement('script');\n",
       "          document.getElementsByTagName(\"head\")[0].appendChild(s);\n",
       "          s.async = true;\n",
       "          s.onload = () => {\n",
       "            VEGA_DEBUG[key] = version;\n",
       "            return resolve(paths[lib]);\n",
       "          };\n",
       "          s.onerror = () => reject(`Error loading script: ${paths[lib]}`);\n",
       "          s.src = paths[lib];\n",
       "        });\n",
       "    }\n",
       "\n",
       "    function showError(err) {\n",
       "      outputDiv.innerHTML = `<div class=\"error\" style=\"color:red;\">${err}</div>`;\n",
       "      throw err;\n",
       "    }\n",
       "\n",
       "    function displayChart(vegaEmbed) {\n",
       "      vegaEmbed(outputDiv, spec, embedOpt)\n",
       "        .catch(err => showError(`Javascript Error: ${err.message}<br>This usually means there's a typo in your chart specification. See the javascript console for the full traceback.`));\n",
       "    }\n",
       "\n",
       "    if(typeof define === \"function\" && define.amd) {\n",
       "      requirejs.config({paths});\n",
       "      require([\"vega-embed\"], displayChart, err => showError(`Error loading script: ${err.message}`));\n",
       "    } else {\n",
       "      maybeLoadScript(\"vega\", \"5\")\n",
       "        .then(() => maybeLoadScript(\"vega-lite\", \"4.17.0\"))\n",
       "        .then(() => maybeLoadScript(\"vega-embed\", \"6\"))\n",
       "        .catch(showError)\n",
       "        .then(() => displayChart(vegaEmbed));\n",
       "    }\n",
       "  })({\"config\": {\"view\": {\"continuousWidth\": 400, \"continuousHeight\": 300}}, \"layer\": [{\"mark\": \"line\", \"encoding\": {\"x\": {\"field\": \"kinv\", \"type\": \"quantitative\"}, \"y\": {\"field\": \"train_error\", \"type\": \"quantitative\"}}}, {\"mark\": {\"type\": \"line\", \"color\": \"orange\"}, \"encoding\": {\"x\": {\"field\": \"kinv\", \"type\": \"quantitative\"}, \"y\": {\"field\": \"test_error\", \"type\": \"quantitative\"}}}], \"data\": {\"name\": \"data-a653175177a09d2a53a98bdc5987a303\"}, \"$schema\": \"https://vega.github.io/schema/vega-lite/v4.17.0.json\", \"datasets\": {\"data-a653175177a09d2a53a98bdc5987a303\": [{\"k\": 1, \"train_error\": 0.0, \"test_error\": 1.85479797979798, \"kinv\": 1.0}, {\"k\": 2, \"train_error\": 0.7617346938775511, \"test_error\": 1.4051767676767677, \"kinv\": 0.5}, {\"k\": 3, \"train_error\": 0.9789115646258505, \"test_error\": 1.2210269360269363, \"kinv\": 0.3333333333333333}, {\"k\": 4, \"train_error\": 1.0762755102040817, \"test_error\": 1.1360353535353536, \"kinv\": 0.25}, {\"k\": 5, \"train_error\": 1.168, \"test_error\": 1.1317373737373737, \"kinv\": 0.2}, {\"k\": 6, \"train_error\": 1.1935034013605443, \"test_error\": 1.1466245791245793, \"kinv\": 0.16666666666666666}, {\"k\": 7, \"train_error\": 1.209125364431487, \"test_error\": 1.118939393939394, \"kinv\": 0.14285714285714285}, {\"k\": 8, \"train_error\": 1.2122448979591838, \"test_error\": 1.1134280303030304, \"kinv\": 0.125}, {\"k\": 9, \"train_error\": 1.2270068027210885, \"test_error\": 1.1528282828282828, \"kinv\": 0.1111111111111111}, {\"k\": 10, \"train_error\": 1.2469795918367346, \"test_error\": 1.1866060606060604, \"kinv\": 0.1}, {\"k\": 11, \"train_error\": 1.2605751391465676, \"test_error\": 1.191354453627181, \"kinv\": 0.09090909090909091}, {\"k\": 12, \"train_error\": 1.2533843537414966, \"test_error\": 1.217996632996633, \"kinv\": 0.08333333333333333}, {\"k\": 13, \"train_error\": 1.3086813186813187, \"test_error\": 1.2360878010878011, \"kinv\": 0.07692307692307693}, {\"k\": 14, \"train_error\": 1.323381924198251, \"test_error\": 1.2591522366522365, \"kinv\": 0.07142857142857142}, {\"k\": 15, \"train_error\": 1.3452789115646255, \"test_error\": 1.2655185185185183, \"kinv\": 0.06666666666666667}, {\"k\": 16, \"train_error\": 1.355280612244898, \"test_error\": 1.291332070707071, \"kinv\": 0.0625}, {\"k\": 17, \"train_error\": 1.4072749099639856, \"test_error\": 1.342756981580511, \"kinv\": 0.058823529411764705}, {\"k\": 18, \"train_error\": 1.4565419501133787, \"test_error\": 1.4046997755331085, \"kinv\": 0.05555555555555555}, {\"k\": 19, \"train_error\": 1.4531686358754023, \"test_error\": 1.4262360446570972, \"kinv\": 0.05263157894736842}, {\"k\": 20, \"train_error\": 1.4571734693877552, \"test_error\": 1.4491919191919191, \"kinv\": 0.05}, {\"k\": 21, \"train_error\": 1.4912439261418853, \"test_error\": 1.472881192881193, \"kinv\": 0.047619047619047616}, {\"k\": 22, \"train_error\": 1.502198515769944, \"test_error\": 1.494125344352617, \"kinv\": 0.045454545454545456}, {\"k\": 23, \"train_error\": 1.5325820763087845, \"test_error\": 1.5232784365393062, \"kinv\": 0.043478260869565216}, {\"k\": 24, \"train_error\": 1.5580017006802722, \"test_error\": 1.5411889730639732, \"kinv\": 0.041666666666666664}, {\"k\": 25, \"train_error\": 1.5854122448979597, \"test_error\": 1.563767676767677, \"kinv\": 0.04}, {\"k\": 26, \"train_error\": 1.620133437990581, \"test_error\": 1.5882420357420357, \"kinv\": 0.038461538461538464}, {\"k\": 27, \"train_error\": 1.6543008314436882, \"test_error\": 1.6195809951365507, \"kinv\": 0.037037037037037035}, {\"k\": 28, \"train_error\": 1.690422740524781, \"test_error\": 1.661672077922078, \"kinv\": 0.03571428571428571}, {\"k\": 29, \"train_error\": 1.725587614356087, \"test_error\": 1.6813357715081854, \"kinv\": 0.034482758620689655}, {\"k\": 30, \"train_error\": 1.7249931972789114, \"test_error\": 1.707614478114478, \"kinv\": 0.03333333333333333}, {\"k\": 31, \"train_error\": 1.7441474654377882, \"test_error\": 1.7312495927012055, \"kinv\": 0.03225806451612903}, {\"k\": 32, \"train_error\": 1.7621301020408167, \"test_error\": 1.746137941919192, \"kinv\": 0.03125}, {\"k\": 33, \"train_error\": 1.7881818181818183, \"test_error\": 1.7714876033057851, \"kinv\": 0.030303030303030304}, {\"k\": 34, \"train_error\": 1.8095858343337334, \"test_error\": 1.8000059417706475, \"kinv\": 0.029411764705882353}, {\"k\": 35, \"train_error\": 1.8391020408163266, \"test_error\": 1.8326623376623379, \"kinv\": 0.02857142857142857}, {\"k\": 36, \"train_error\": 1.869988662131519, \"test_error\": 1.854148428731762, \"kinv\": 0.027777777777777776}, {\"k\": 37, \"train_error\": 1.9043574186431327, \"test_error\": 1.876105651105651, \"kinv\": 0.02702702702702703}, {\"k\": 38, \"train_error\": 1.9352953813104186, \"test_error\": 1.9052418926103134, \"kinv\": 0.02631578947368421}, {\"k\": 39, \"train_error\": 1.9765149136577707, \"test_error\": 1.9377531727531727, \"kinv\": 0.02564102564102564}, {\"k\": 40, \"train_error\": 2.0229336734693875, \"test_error\": 1.96815404040404, \"kinv\": 0.025}, {\"k\": 41, \"train_error\": 2.069616724738676, \"test_error\": 1.99940133037694, \"kinv\": 0.024390243902439025}, {\"k\": 42, \"train_error\": 2.148935860058309, \"test_error\": 2.0810377585377586, \"kinv\": 0.023809523809523808}, {\"k\": 43, \"train_error\": 2.1878073089701, \"test_error\": 2.104661733615222, \"kinv\": 0.023255813953488372}, {\"k\": 44, \"train_error\": 2.2268367346938773, \"test_error\": 2.1478271349862257, \"kinv\": 0.022727272727272728}, {\"k\": 45, \"train_error\": 2.278512471655328, \"test_error\": 2.206777777777777, \"kinv\": 0.022222222222222223}, {\"k\": 46, \"train_error\": 2.333460514640639, \"test_error\": 2.267812911725955, \"kinv\": 0.021739130434782608}, {\"k\": 47, \"train_error\": 2.3566304819800257, \"test_error\": 2.298979153234472, \"kinv\": 0.02127659574468085}, {\"k\": 48, \"train_error\": 2.348252551020408, \"test_error\": 2.3326346801346802, \"kinv\": 0.020833333333333332}, {\"k\": 49, \"train_error\": 2.5523948354852144, \"test_error\": 2.58273964131107, \"kinv\": 0.02040816326530612}]}}, {\"mode\": \"vega-lite\"});\n",
       "</script>"
      ],
      "text/plain": [
       "alt.LayerChart(...)"
      ]
     },
     "execution_count": 62,
     "metadata": {},
     "output_type": "execute_result"
    }
   ],
   "source": [
    "ctrain + ctest"
   ]
  },
  {
   "cell_type": "markdown",
   "metadata": {
    "cell_id": "f6924667ccdd481088c52caf2d966633",
    "deepnote_cell_type": "markdown"
   },
   "source": [
    "So the blue curve (line) is the training error while the orange curve is test eror. From observing the graph, we notice that underfitting occurs for high values ofK whereas overfiting occurs at smaller values of K."
   ]
  },
  {
   "cell_type": "markdown",
   "metadata": {
    "cell_id": "409162e3d9b44047add3d34982af7948",
    "deepnote_cell_type": "markdown"
   },
   "source": [
    "## Plots"
   ]
  },
  {
   "cell_type": "markdown",
   "metadata": {
    "cell_id": "d0a2307357524ffea071dabd170a07e2",
    "deepnote_cell_type": "markdown"
   },
   "source": [
    "Now after looking at models and whether there was an adequate one for prediction, let's take a look of all the champions and their Win % and Ban %. As there are many champions that all have different kinds of buffs, nerfs, and character skills (which are used for killing the enemy team champions) in the game, they will each have have a certain Win % and also Ban %. It is why there are different win and ban rates scattered around the scatter plot. "
   ]
  },
  {
   "cell_type": "code",
   "execution_count": 63,
   "metadata": {
    "cell_id": "764c75117f93400aa7584f1df7022f61",
    "deepnote_cell_type": "code",
    "deepnote_to_be_reexecuted": false,
    "execution_millis": 2244,
    "execution_start": 1695796836433,
    "source_hash": "e6718b2b"
   },
   "outputs": [
    {
     "data": {
      "text/html": [
       "<html>\n",
       "<head><meta charset=\"utf-8\" /></head>\n",
       "<body>\n",
       "    <div>            <script src=\"https://cdnjs.cloudflare.com/ajax/libs/mathjax/2.7.5/MathJax.js?config=TeX-AMS-MML_SVG\"></script><script type=\"text/javascript\">if (window.MathJax && window.MathJax.Hub && window.MathJax.Hub.Config) {window.MathJax.Hub.Config({SVG: {font: \"STIX-Web\"}});}</script>                <script type=\"text/javascript\">window.PlotlyConfig = {MathJaxConfig: 'local'};</script>\n",
       "        <script src=\"https://cdn.plot.ly/plotly-2.14.0.min.js\"></script>                <div id=\"17a83ac2-ccb3-4818-a77f-6d2d761a6b6e\" class=\"plotly-graph-div\" style=\"height:525px; width:100%;\"></div>            <script type=\"text/javascript\">                                    window.PLOTLYENV=window.PLOTLYENV || {};                                    if (document.getElementById(\"17a83ac2-ccb3-4818-a77f-6d2d761a6b6e\")) {                    Plotly.newPlot(                        \"17a83ac2-ccb3-4818-a77f-6d2d761a6b6e\",                        [{\"hovertemplate\":\"Name=Aatrox<br>Win %=%{x}<br>Ban %=%{y}<extra></extra>\",\"legendgroup\":\"Aatrox\",\"marker\":{\"color\":\"#636efa\",\"symbol\":\"circle\"},\"mode\":\"markers\",\"name\":\"Aatrox\",\"orientation\":\"v\",\"showlegend\":true,\"x\":[48.84],\"xaxis\":\"x\",\"y\":[5.81],\"yaxis\":\"y\",\"type\":\"scatter\"},{\"hovertemplate\":\"Name=Ahri<br>Win %=%{x}<br>Ban %=%{y}<extra></extra>\",\"legendgroup\":\"Ahri\",\"marker\":{\"color\":\"#EF553B\",\"symbol\":\"circle\"},\"mode\":\"markers\",\"name\":\"Ahri\",\"orientation\":\"v\",\"showlegend\":true,\"x\":[50.9],\"xaxis\":\"x\",\"y\":[6.47],\"yaxis\":\"y\",\"type\":\"scatter\"},{\"hovertemplate\":\"Name=Akali<br>Win %=%{x}<br>Ban %=%{y}<extra></extra>\",\"legendgroup\":\"Akali\",\"marker\":{\"color\":\"#00cc96\",\"symbol\":\"circle\"},\"mode\":\"markers\",\"name\":\"Akali\",\"orientation\":\"v\",\"showlegend\":true,\"x\":[48.18,48.5],\"xaxis\":\"x\",\"y\":[8.1,8.1],\"yaxis\":\"y\",\"type\":\"scatter\"},{\"hovertemplate\":\"Name=Akshan<br>Win %=%{x}<br>Ban %=%{y}<extra></extra>\",\"legendgroup\":\"Akshan\",\"marker\":{\"color\":\"#ab63fa\",\"symbol\":\"circle\"},\"mode\":\"markers\",\"name\":\"Akshan\",\"orientation\":\"v\",\"showlegend\":true,\"x\":[50.15,50.87],\"xaxis\":\"x\",\"y\":[5.94,5.94],\"yaxis\":\"y\",\"type\":\"scatter\"},{\"hovertemplate\":\"Name=Alistar<br>Win %=%{x}<br>Ban %=%{y}<extra></extra>\",\"legendgroup\":\"Alistar\",\"marker\":{\"color\":\"#FFA15A\",\"symbol\":\"circle\"},\"mode\":\"markers\",\"name\":\"Alistar\",\"orientation\":\"v\",\"showlegend\":true,\"x\":[51.13],\"xaxis\":\"x\",\"y\":[1.43],\"yaxis\":\"y\",\"type\":\"scatter\"},{\"hovertemplate\":\"Name=Amumu<br>Win %=%{x}<br>Ban %=%{y}<extra></extra>\",\"legendgroup\":\"Amumu\",\"marker\":{\"color\":\"#19d3f3\",\"symbol\":\"circle\"},\"mode\":\"markers\",\"name\":\"Amumu\",\"orientation\":\"v\",\"showlegend\":true,\"x\":[51.16,51.5],\"xaxis\":\"x\",\"y\":[2.1,2.1],\"yaxis\":\"y\",\"type\":\"scatter\"},{\"hovertemplate\":\"Name=Anivia<br>Win %=%{x}<br>Ban %=%{y}<extra></extra>\",\"legendgroup\":\"Anivia\",\"marker\":{\"color\":\"#FF6692\",\"symbol\":\"circle\"},\"mode\":\"markers\",\"name\":\"Anivia\",\"orientation\":\"v\",\"showlegend\":true,\"x\":[51.67,44.86],\"xaxis\":\"x\",\"y\":[2.59,2.59],\"yaxis\":\"y\",\"type\":\"scatter\"},{\"hovertemplate\":\"Name=Annie<br>Win %=%{x}<br>Ban %=%{y}<extra></extra>\",\"legendgroup\":\"Annie\",\"marker\":{\"color\":\"#B6E880\",\"symbol\":\"circle\"},\"mode\":\"markers\",\"name\":\"Annie\",\"orientation\":\"v\",\"showlegend\":true,\"x\":[50.61,50.33],\"xaxis\":\"x\",\"y\":[2.28,2.28],\"yaxis\":\"y\",\"type\":\"scatter\"},{\"hovertemplate\":\"Name=Aphelios<br>Win %=%{x}<br>Ban %=%{y}<extra></extra>\",\"legendgroup\":\"Aphelios\",\"marker\":{\"color\":\"#FF97FF\",\"symbol\":\"circle\"},\"mode\":\"markers\",\"name\":\"Aphelios\",\"orientation\":\"v\",\"showlegend\":true,\"x\":[47.44],\"xaxis\":\"x\",\"y\":[3.11],\"yaxis\":\"y\",\"type\":\"scatter\"},{\"hovertemplate\":\"Name=Ashe<br>Win %=%{x}<br>Ban %=%{y}<extra></extra>\",\"legendgroup\":\"Ashe\",\"marker\":{\"color\":\"#FECB52\",\"symbol\":\"circle\"},\"mode\":\"markers\",\"name\":\"Ashe\",\"orientation\":\"v\",\"showlegend\":true,\"x\":[52.39,47.67],\"xaxis\":\"x\",\"y\":[5.7,5.7],\"yaxis\":\"y\",\"type\":\"scatter\"},{\"hovertemplate\":\"Name=Aurelion Sol<br>Win %=%{x}<br>Ban %=%{y}<extra></extra>\",\"legendgroup\":\"Aurelion Sol\",\"marker\":{\"color\":\"#636efa\",\"symbol\":\"circle\"},\"mode\":\"markers\",\"name\":\"Aurelion Sol\",\"orientation\":\"v\",\"showlegend\":true,\"x\":[51.48],\"xaxis\":\"x\",\"y\":[5.2],\"yaxis\":\"y\",\"type\":\"scatter\"},{\"hovertemplate\":\"Name=Azir<br>Win %=%{x}<br>Ban %=%{y}<extra></extra>\",\"legendgroup\":\"Azir\",\"marker\":{\"color\":\"#EF553B\",\"symbol\":\"circle\"},\"mode\":\"markers\",\"name\":\"Azir\",\"orientation\":\"v\",\"showlegend\":true,\"x\":[48.12],\"xaxis\":\"x\",\"y\":[1.15],\"yaxis\":\"y\",\"type\":\"scatter\"},{\"hovertemplate\":\"Name=Bard<br>Win %=%{x}<br>Ban %=%{y}<extra></extra>\",\"legendgroup\":\"Bard\",\"marker\":{\"color\":\"#00cc96\",\"symbol\":\"circle\"},\"mode\":\"markers\",\"name\":\"Bard\",\"orientation\":\"v\",\"showlegend\":true,\"x\":[49.55],\"xaxis\":\"x\",\"y\":[0.31],\"yaxis\":\"y\",\"type\":\"scatter\"},{\"hovertemplate\":\"Name=Bel'Veth<br>Win %=%{x}<br>Ban %=%{y}<extra></extra>\",\"legendgroup\":\"Bel'Veth\",\"marker\":{\"color\":\"#ab63fa\",\"symbol\":\"circle\"},\"mode\":\"markers\",\"name\":\"Bel'Veth\",\"orientation\":\"v\",\"showlegend\":true,\"x\":[50.6],\"xaxis\":\"x\",\"y\":[6.09],\"yaxis\":\"y\",\"type\":\"scatter\"},{\"hovertemplate\":\"Name=Blitzcrank<br>Win %=%{x}<br>Ban %=%{y}<extra></extra>\",\"legendgroup\":\"Blitzcrank\",\"marker\":{\"color\":\"#FFA15A\",\"symbol\":\"circle\"},\"mode\":\"markers\",\"name\":\"Blitzcrank\",\"orientation\":\"v\",\"showlegend\":true,\"x\":[50.96],\"xaxis\":\"x\",\"y\":[23.8],\"yaxis\":\"y\",\"type\":\"scatter\"},{\"hovertemplate\":\"Name=Brand<br>Win %=%{x}<br>Ban %=%{y}<extra></extra>\",\"legendgroup\":\"Brand\",\"marker\":{\"color\":\"#19d3f3\",\"symbol\":\"circle\"},\"mode\":\"markers\",\"name\":\"Brand\",\"orientation\":\"v\",\"showlegend\":true,\"x\":[49.16,50.52],\"xaxis\":\"x\",\"y\":[3.38,3.38],\"yaxis\":\"y\",\"type\":\"scatter\"},{\"hovertemplate\":\"Name=Braum<br>Win %=%{x}<br>Ban %=%{y}<extra></extra>\",\"legendgroup\":\"Braum\",\"marker\":{\"color\":\"#FF6692\",\"symbol\":\"circle\"},\"mode\":\"markers\",\"name\":\"Braum\",\"orientation\":\"v\",\"showlegend\":true,\"x\":[49.83],\"xaxis\":\"x\",\"y\":[0.53],\"yaxis\":\"y\",\"type\":\"scatter\"},{\"hovertemplate\":\"Name=Caitlyn<br>Win %=%{x}<br>Ban %=%{y}<extra></extra>\",\"legendgroup\":\"Caitlyn\",\"marker\":{\"color\":\"#B6E880\",\"symbol\":\"circle\"},\"mode\":\"markers\",\"name\":\"Caitlyn\",\"orientation\":\"v\",\"showlegend\":true,\"x\":[47.84],\"xaxis\":\"x\",\"y\":[6.08],\"yaxis\":\"y\",\"type\":\"scatter\"},{\"hovertemplate\":\"Name=Camille<br>Win %=%{x}<br>Ban %=%{y}<extra></extra>\",\"legendgroup\":\"Camille\",\"marker\":{\"color\":\"#FF97FF\",\"symbol\":\"circle\"},\"mode\":\"markers\",\"name\":\"Camille\",\"orientation\":\"v\",\"showlegend\":true,\"x\":[50.52],\"xaxis\":\"x\",\"y\":[1.75],\"yaxis\":\"y\",\"type\":\"scatter\"},{\"hovertemplate\":\"Name=Cassiopeia<br>Win %=%{x}<br>Ban %=%{y}<extra></extra>\",\"legendgroup\":\"Cassiopeia\",\"marker\":{\"color\":\"#FECB52\",\"symbol\":\"circle\"},\"mode\":\"markers\",\"name\":\"Cassiopeia\",\"orientation\":\"v\",\"showlegend\":true,\"x\":[51.45,52.33],\"xaxis\":\"x\",\"y\":[2.34,2.34],\"yaxis\":\"y\",\"type\":\"scatter\"},{\"hovertemplate\":\"Name=Cho'Gath<br>Win %=%{x}<br>Ban %=%{y}<extra></extra>\",\"legendgroup\":\"Cho'Gath\",\"marker\":{\"color\":\"#636efa\",\"symbol\":\"circle\"},\"mode\":\"markers\",\"name\":\"Cho'Gath\",\"orientation\":\"v\",\"showlegend\":true,\"x\":[51.25,51.56],\"xaxis\":\"x\",\"y\":[1.32,1.32],\"yaxis\":\"y\",\"type\":\"scatter\"},{\"hovertemplate\":\"Name=Corki<br>Win %=%{x}<br>Ban %=%{y}<extra></extra>\",\"legendgroup\":\"Corki\",\"marker\":{\"color\":\"#EF553B\",\"symbol\":\"circle\"},\"mode\":\"markers\",\"name\":\"Corki\",\"orientation\":\"v\",\"showlegend\":true,\"x\":[48.34],\"xaxis\":\"x\",\"y\":[0.18],\"yaxis\":\"y\",\"type\":\"scatter\"},{\"hovertemplate\":\"Name=Darius<br>Win %=%{x}<br>Ban %=%{y}<extra></extra>\",\"legendgroup\":\"Darius\",\"marker\":{\"color\":\"#00cc96\",\"symbol\":\"circle\"},\"mode\":\"markers\",\"name\":\"Darius\",\"orientation\":\"v\",\"showlegend\":true,\"x\":[49.01],\"xaxis\":\"x\",\"y\":[19.04],\"yaxis\":\"y\",\"type\":\"scatter\"},{\"hovertemplate\":\"Name=Diana<br>Win %=%{x}<br>Ban %=%{y}<extra></extra>\",\"legendgroup\":\"Diana\",\"marker\":{\"color\":\"#ab63fa\",\"symbol\":\"circle\"},\"mode\":\"markers\",\"name\":\"Diana\",\"orientation\":\"v\",\"showlegend\":true,\"x\":[49.94,48.59],\"xaxis\":\"x\",\"y\":[1.35,1.35],\"yaxis\":\"y\",\"type\":\"scatter\"},{\"hovertemplate\":\"Name=Dr. Mundo<br>Win %=%{x}<br>Ban %=%{y}<extra></extra>\",\"legendgroup\":\"Dr. Mundo\",\"marker\":{\"color\":\"#FFA15A\",\"symbol\":\"circle\"},\"mode\":\"markers\",\"name\":\"Dr. Mundo\",\"orientation\":\"v\",\"showlegend\":true,\"x\":[51.84],\"xaxis\":\"x\",\"y\":[2.61],\"yaxis\":\"y\",\"type\":\"scatter\"},{\"hovertemplate\":\"Name=Draven<br>Win %=%{x}<br>Ban %=%{y}<extra></extra>\",\"legendgroup\":\"Draven\",\"marker\":{\"color\":\"#19d3f3\",\"symbol\":\"circle\"},\"mode\":\"markers\",\"name\":\"Draven\",\"orientation\":\"v\",\"showlegend\":true,\"x\":[50.13],\"xaxis\":\"x\",\"y\":[21.39],\"yaxis\":\"y\",\"type\":\"scatter\"},{\"hovertemplate\":\"Name=Ekko<br>Win %=%{x}<br>Ban %=%{y}<extra></extra>\",\"legendgroup\":\"Ekko\",\"marker\":{\"color\":\"#FF6692\",\"symbol\":\"circle\"},\"mode\":\"markers\",\"name\":\"Ekko\",\"orientation\":\"v\",\"showlegend\":true,\"x\":[50.55,50.43],\"xaxis\":\"x\",\"y\":[3.14,3.14],\"yaxis\":\"y\",\"type\":\"scatter\"},{\"hovertemplate\":\"Name=Elise<br>Win %=%{x}<br>Ban %=%{y}<extra></extra>\",\"legendgroup\":\"Elise\",\"marker\":{\"color\":\"#B6E880\",\"symbol\":\"circle\"},\"mode\":\"markers\",\"name\":\"Elise\",\"orientation\":\"v\",\"showlegend\":true,\"x\":[49.21],\"xaxis\":\"x\",\"y\":[1.72],\"yaxis\":\"y\",\"type\":\"scatter\"},{\"hovertemplate\":\"Name=Evelynn<br>Win %=%{x}<br>Ban %=%{y}<extra></extra>\",\"legendgroup\":\"Evelynn\",\"marker\":{\"color\":\"#FF97FF\",\"symbol\":\"circle\"},\"mode\":\"markers\",\"name\":\"Evelynn\",\"orientation\":\"v\",\"showlegend\":true,\"x\":[51.18],\"xaxis\":\"x\",\"y\":[9.69],\"yaxis\":\"y\",\"type\":\"scatter\"},{\"hovertemplate\":\"Name=Ezreal<br>Win %=%{x}<br>Ban %=%{y}<extra></extra>\",\"legendgroup\":\"Ezreal\",\"marker\":{\"color\":\"#FECB52\",\"symbol\":\"circle\"},\"mode\":\"markers\",\"name\":\"Ezreal\",\"orientation\":\"v\",\"showlegend\":true,\"x\":[50.1,44.02],\"xaxis\":\"x\",\"y\":[8.96,8.96],\"yaxis\":\"y\",\"type\":\"scatter\"},{\"hovertemplate\":\"Name=Fiddlesticks<br>Win %=%{x}<br>Ban %=%{y}<extra></extra>\",\"legendgroup\":\"Fiddlesticks\",\"marker\":{\"color\":\"#636efa\",\"symbol\":\"circle\"},\"mode\":\"markers\",\"name\":\"Fiddlesticks\",\"orientation\":\"v\",\"showlegend\":true,\"x\":[51.22,51.49],\"xaxis\":\"x\",\"y\":[3.61,3.53],\"yaxis\":\"y\",\"type\":\"scatter\"},{\"hovertemplate\":\"Name=Fiora<br>Win %=%{x}<br>Ban %=%{y}<extra></extra>\",\"legendgroup\":\"Fiora\",\"marker\":{\"color\":\"#EF553B\",\"symbol\":\"circle\"},\"mode\":\"markers\",\"name\":\"Fiora\",\"orientation\":\"v\",\"showlegend\":true,\"x\":[51.21],\"xaxis\":\"x\",\"y\":[13.56],\"yaxis\":\"y\",\"type\":\"scatter\"},{\"hovertemplate\":\"Name=Fizz<br>Win %=%{x}<br>Ban %=%{y}<extra></extra>\",\"legendgroup\":\"Fizz\",\"marker\":{\"color\":\"#00cc96\",\"symbol\":\"circle\"},\"mode\":\"markers\",\"name\":\"Fizz\",\"orientation\":\"v\",\"showlegend\":true,\"x\":[51.79],\"xaxis\":\"x\",\"y\":[9.4],\"yaxis\":\"y\",\"type\":\"scatter\"},{\"hovertemplate\":\"Name=Galio<br>Win %=%{x}<br>Ban %=%{y}<extra></extra>\",\"legendgroup\":\"Galio\",\"marker\":{\"color\":\"#ab63fa\",\"symbol\":\"circle\"},\"mode\":\"markers\",\"name\":\"Galio\",\"orientation\":\"v\",\"showlegend\":true,\"x\":[50.84,50.22],\"xaxis\":\"x\",\"y\":[0.33,0.33],\"yaxis\":\"y\",\"type\":\"scatter\"},{\"hovertemplate\":\"Name=Gangplank<br>Win %=%{x}<br>Ban %=%{y}<extra></extra>\",\"legendgroup\":\"Gangplank\",\"marker\":{\"color\":\"#FFA15A\",\"symbol\":\"circle\"},\"mode\":\"markers\",\"name\":\"Gangplank\",\"orientation\":\"v\",\"showlegend\":true,\"x\":[49.58,52.23],\"xaxis\":\"x\",\"y\":[4.41,4.41],\"yaxis\":\"y\",\"type\":\"scatter\"},{\"hovertemplate\":\"Name=Garen<br>Win %=%{x}<br>Ban %=%{y}<extra></extra>\",\"legendgroup\":\"Garen\",\"marker\":{\"color\":\"#19d3f3\",\"symbol\":\"circle\"},\"mode\":\"markers\",\"name\":\"Garen\",\"orientation\":\"v\",\"showlegend\":true,\"x\":[50.59],\"xaxis\":\"x\",\"y\":[2.43],\"yaxis\":\"y\",\"type\":\"scatter\"},{\"hovertemplate\":\"Name=Gnar<br>Win %=%{x}<br>Ban %=%{y}<extra></extra>\",\"legendgroup\":\"Gnar\",\"marker\":{\"color\":\"#FF6692\",\"symbol\":\"circle\"},\"mode\":\"markers\",\"name\":\"Gnar\",\"orientation\":\"v\",\"showlegend\":true,\"x\":[47.68],\"xaxis\":\"x\",\"y\":[0.57],\"yaxis\":\"y\",\"type\":\"scatter\"},{\"hovertemplate\":\"Name=Gragas<br>Win %=%{x}<br>Ban %=%{y}<extra></extra>\",\"legendgroup\":\"Gragas\",\"marker\":{\"color\":\"#B6E880\",\"symbol\":\"circle\"},\"mode\":\"markers\",\"name\":\"Gragas\",\"orientation\":\"v\",\"showlegend\":true,\"x\":[49.04,46.45,48.01],\"xaxis\":\"x\",\"y\":[3.23,3.23,3.23],\"yaxis\":\"y\",\"type\":\"scatter\"},{\"hovertemplate\":\"Name=Graves<br>Win %=%{x}<br>Ban %=%{y}<extra></extra>\",\"legendgroup\":\"Graves\",\"marker\":{\"color\":\"#FF97FF\",\"symbol\":\"circle\"},\"mode\":\"markers\",\"name\":\"Graves\",\"orientation\":\"v\",\"showlegend\":true,\"x\":[50.77],\"xaxis\":\"x\",\"y\":[4.98],\"yaxis\":\"y\",\"type\":\"scatter\"},{\"hovertemplate\":\"Name=Gwen<br>Win %=%{x}<br>Ban %=%{y}<extra></extra>\",\"legendgroup\":\"Gwen\",\"marker\":{\"color\":\"#FECB52\",\"symbol\":\"circle\"},\"mode\":\"markers\",\"name\":\"Gwen\",\"orientation\":\"v\",\"showlegend\":true,\"x\":[49.92],\"xaxis\":\"x\",\"y\":[2.41],\"yaxis\":\"y\",\"type\":\"scatter\"},{\"hovertemplate\":\"Name=Hecarim<br>Win %=%{x}<br>Ban %=%{y}<extra></extra>\",\"legendgroup\":\"Hecarim\",\"marker\":{\"color\":\"#636efa\",\"symbol\":\"circle\"},\"mode\":\"markers\",\"name\":\"Hecarim\",\"orientation\":\"v\",\"showlegend\":true,\"x\":[50.31],\"xaxis\":\"x\",\"y\":[11.3],\"yaxis\":\"y\",\"type\":\"scatter\"},{\"hovertemplate\":\"Name=Heimerdinger<br>Win %=%{x}<br>Ban %=%{y}<extra></extra>\",\"legendgroup\":\"Heimerdinger\",\"marker\":{\"color\":\"#EF553B\",\"symbol\":\"circle\"},\"mode\":\"markers\",\"name\":\"Heimerdinger\",\"orientation\":\"v\",\"showlegend\":true,\"x\":[52.83,50.81,50.64],\"xaxis\":\"x\",\"y\":[1.53,1.53,1.53],\"yaxis\":\"y\",\"type\":\"scatter\"},{\"hovertemplate\":\"Name=Illaoi<br>Win %=%{x}<br>Ban %=%{y}<extra></extra>\",\"legendgroup\":\"Illaoi\",\"marker\":{\"color\":\"#00cc96\",\"symbol\":\"circle\"},\"mode\":\"markers\",\"name\":\"Illaoi\",\"orientation\":\"v\",\"showlegend\":true,\"x\":[51.46],\"xaxis\":\"x\",\"y\":[12.19],\"yaxis\":\"y\",\"type\":\"scatter\"},{\"hovertemplate\":\"Name=Irelia<br>Win %=%{x}<br>Ban %=%{y}<extra></extra>\",\"legendgroup\":\"Irelia\",\"marker\":{\"color\":\"#ab63fa\",\"symbol\":\"circle\"},\"mode\":\"markers\",\"name\":\"Irelia\",\"orientation\":\"v\",\"showlegend\":true,\"x\":[49.67,50.01],\"xaxis\":\"x\",\"y\":[11.2,11.2],\"yaxis\":\"y\",\"type\":\"scatter\"},{\"hovertemplate\":\"Name=Ivern<br>Win %=%{x}<br>Ban %=%{y}<extra></extra>\",\"legendgroup\":\"Ivern\",\"marker\":{\"color\":\"#FFA15A\",\"symbol\":\"circle\"},\"mode\":\"markers\",\"name\":\"Ivern\",\"orientation\":\"v\",\"showlegend\":true,\"x\":[51.35,48.47],\"xaxis\":\"x\",\"y\":[5.29,5.29],\"yaxis\":\"y\",\"type\":\"scatter\"},{\"hovertemplate\":\"Name=Janna<br>Win %=%{x}<br>Ban %=%{y}<extra></extra>\",\"legendgroup\":\"Janna\",\"marker\":{\"color\":\"#19d3f3\",\"symbol\":\"circle\"},\"mode\":\"markers\",\"name\":\"Janna\",\"orientation\":\"v\",\"showlegend\":true,\"x\":[52.4],\"xaxis\":\"x\",\"y\":[1.69],\"yaxis\":\"y\",\"type\":\"scatter\"},{\"hovertemplate\":\"Name=Jarvan IV<br>Win %=%{x}<br>Ban %=%{y}<extra></extra>\",\"legendgroup\":\"Jarvan IV\",\"marker\":{\"color\":\"#FF6692\",\"symbol\":\"circle\"},\"mode\":\"markers\",\"name\":\"Jarvan IV\",\"orientation\":\"v\",\"showlegend\":true,\"x\":[51.45],\"xaxis\":\"x\",\"y\":[2.47],\"yaxis\":\"y\",\"type\":\"scatter\"},{\"hovertemplate\":\"Name=Jax<br>Win %=%{x}<br>Ban %=%{y}<extra></extra>\",\"legendgroup\":\"Jax\",\"marker\":{\"color\":\"#B6E880\",\"symbol\":\"circle\"},\"mode\":\"markers\",\"name\":\"Jax\",\"orientation\":\"v\",\"showlegend\":true,\"x\":[50.78,50.57],\"xaxis\":\"x\",\"y\":[17.43,17.43],\"yaxis\":\"y\",\"type\":\"scatter\"},{\"hovertemplate\":\"Name=Jayce<br>Win %=%{x}<br>Ban %=%{y}<extra></extra>\",\"legendgroup\":\"Jayce\",\"marker\":{\"color\":\"#FF97FF\",\"symbol\":\"circle\"},\"mode\":\"markers\",\"name\":\"Jayce\",\"orientation\":\"v\",\"showlegend\":true,\"x\":[49.48,50.87],\"xaxis\":\"x\",\"y\":[2.77,2.77],\"yaxis\":\"y\",\"type\":\"scatter\"},{\"hovertemplate\":\"Name=Jhin<br>Win %=%{x}<br>Ban %=%{y}<extra></extra>\",\"legendgroup\":\"Jhin\",\"marker\":{\"color\":\"#FECB52\",\"symbol\":\"circle\"},\"mode\":\"markers\",\"name\":\"Jhin\",\"orientation\":\"v\",\"showlegend\":true,\"x\":[50.41],\"xaxis\":\"x\",\"y\":[4.05],\"yaxis\":\"y\",\"type\":\"scatter\"},{\"hovertemplate\":\"Name=Jinx<br>Win %=%{x}<br>Ban %=%{y}<extra></extra>\",\"legendgroup\":\"Jinx\",\"marker\":{\"color\":\"#636efa\",\"symbol\":\"circle\"},\"mode\":\"markers\",\"name\":\"Jinx\",\"orientation\":\"v\",\"showlegend\":true,\"x\":[49.15],\"xaxis\":\"x\",\"y\":[1.44],\"yaxis\":\"y\",\"type\":\"scatter\"},{\"hovertemplate\":\"Name=K'Sante<br>Win %=%{x}<br>Ban %=%{y}<extra></extra>\",\"legendgroup\":\"K'Sante\",\"marker\":{\"color\":\"#EF553B\",\"symbol\":\"circle\"},\"mode\":\"markers\",\"name\":\"K'Sante\",\"orientation\":\"v\",\"showlegend\":true,\"x\":[45.25],\"xaxis\":\"x\",\"y\":[5.83],\"yaxis\":\"y\",\"type\":\"scatter\"},{\"hovertemplate\":\"Name=Kai'Sa<br>Win %=%{x}<br>Ban %=%{y}<extra></extra>\",\"legendgroup\":\"Kai'Sa\",\"marker\":{\"color\":\"#00cc96\",\"symbol\":\"circle\"},\"mode\":\"markers\",\"name\":\"Kai'Sa\",\"orientation\":\"v\",\"showlegend\":true,\"x\":[51.4],\"xaxis\":\"x\",\"y\":[11.96],\"yaxis\":\"y\",\"type\":\"scatter\"},{\"hovertemplate\":\"Name=Kalista<br>Win %=%{x}<br>Ban %=%{y}<extra></extra>\",\"legendgroup\":\"Kalista\",\"marker\":{\"color\":\"#ab63fa\",\"symbol\":\"circle\"},\"mode\":\"markers\",\"name\":\"Kalista\",\"orientation\":\"v\",\"showlegend\":true,\"x\":[47.64],\"xaxis\":\"x\",\"y\":[0.68],\"yaxis\":\"y\",\"type\":\"scatter\"},{\"hovertemplate\":\"Name=Karma<br>Win %=%{x}<br>Ban %=%{y}<extra></extra>\",\"legendgroup\":\"Karma\",\"marker\":{\"color\":\"#FFA15A\",\"symbol\":\"circle\"},\"mode\":\"markers\",\"name\":\"Karma\",\"orientation\":\"v\",\"showlegend\":true,\"x\":[48.0],\"xaxis\":\"x\",\"y\":[0.93],\"yaxis\":\"y\",\"type\":\"scatter\"},{\"hovertemplate\":\"Name=Karthus<br>Win %=%{x}<br>Ban %=%{y}<extra></extra>\",\"legendgroup\":\"Karthus\",\"marker\":{\"color\":\"#19d3f3\",\"symbol\":\"circle\"},\"mode\":\"markers\",\"name\":\"Karthus\",\"orientation\":\"v\",\"showlegend\":true,\"x\":[54.12,51.76,49.56],\"xaxis\":\"x\",\"y\":[5.94,5.94,5.94],\"yaxis\":\"y\",\"type\":\"scatter\"},{\"hovertemplate\":\"Name=Kassadin<br>Win %=%{x}<br>Ban %=%{y}<extra></extra>\",\"legendgroup\":\"Kassadin\",\"marker\":{\"color\":\"#FF6692\",\"symbol\":\"circle\"},\"mode\":\"markers\",\"name\":\"Kassadin\",\"orientation\":\"v\",\"showlegend\":true,\"x\":[50.38],\"xaxis\":\"x\",\"y\":[3.09],\"yaxis\":\"y\",\"type\":\"scatter\"},{\"hovertemplate\":\"Name=Katarina<br>Win %=%{x}<br>Ban %=%{y}<extra></extra>\",\"legendgroup\":\"Katarina\",\"marker\":{\"color\":\"#B6E880\",\"symbol\":\"circle\"},\"mode\":\"markers\",\"name\":\"Katarina\",\"orientation\":\"v\",\"showlegend\":true,\"x\":[49.37],\"xaxis\":\"x\",\"y\":[12.01],\"yaxis\":\"y\",\"type\":\"scatter\"},{\"hovertemplate\":\"Name=Kayle<br>Win %=%{x}<br>Ban %=%{y}<extra></extra>\",\"legendgroup\":\"Kayle\",\"marker\":{\"color\":\"#FF97FF\",\"symbol\":\"circle\"},\"mode\":\"markers\",\"name\":\"Kayle\",\"orientation\":\"v\",\"showlegend\":true,\"x\":[52.36,54.21],\"xaxis\":\"x\",\"y\":[2.69,2.69],\"yaxis\":\"y\",\"type\":\"scatter\"},{\"hovertemplate\":\"Name=Kayn<br>Win %=%{x}<br>Ban %=%{y}<extra></extra>\",\"legendgroup\":\"Kayn\",\"marker\":{\"color\":\"#FECB52\",\"symbol\":\"circle\"},\"mode\":\"markers\",\"name\":\"Kayn\",\"orientation\":\"v\",\"showlegend\":true,\"x\":[51.06],\"xaxis\":\"x\",\"y\":[10.65],\"yaxis\":\"y\",\"type\":\"scatter\"},{\"hovertemplate\":\"Name=Kennen<br>Win %=%{x}<br>Ban %=%{y}<extra></extra>\",\"legendgroup\":\"Kennen\",\"marker\":{\"color\":\"#636efa\",\"symbol\":\"circle\"},\"mode\":\"markers\",\"name\":\"Kennen\",\"orientation\":\"v\",\"showlegend\":true,\"x\":[48.76,49.12],\"xaxis\":\"x\",\"y\":[1.97,1.97],\"yaxis\":\"y\",\"type\":\"scatter\"},{\"hovertemplate\":\"Name=Kha'Zix<br>Win %=%{x}<br>Ban %=%{y}<extra></extra>\",\"legendgroup\":\"Kha'Zix\",\"marker\":{\"color\":\"#EF553B\",\"symbol\":\"circle\"},\"mode\":\"markers\",\"name\":\"Kha'Zix\",\"orientation\":\"v\",\"showlegend\":true,\"x\":[51.13],\"xaxis\":\"x\",\"y\":[19.44],\"yaxis\":\"y\",\"type\":\"scatter\"},{\"hovertemplate\":\"Name=Kindred<br>Win %=%{x}<br>Ban %=%{y}<extra></extra>\",\"legendgroup\":\"Kindred\",\"marker\":{\"color\":\"#00cc96\",\"symbol\":\"circle\"},\"mode\":\"markers\",\"name\":\"Kindred\",\"orientation\":\"v\",\"showlegend\":true,\"x\":[51.32],\"xaxis\":\"x\",\"y\":[19.82],\"yaxis\":\"y\",\"type\":\"scatter\"},{\"hovertemplate\":\"Name=Kled<br>Win %=%{x}<br>Ban %=%{y}<extra></extra>\",\"legendgroup\":\"Kled\",\"marker\":{\"color\":\"#ab63fa\",\"symbol\":\"circle\"},\"mode\":\"markers\",\"name\":\"Kled\",\"orientation\":\"v\",\"showlegend\":true,\"x\":[52.16],\"xaxis\":\"x\",\"y\":[1.33],\"yaxis\":\"y\",\"type\":\"scatter\"},{\"hovertemplate\":\"Name=Kog'Maw<br>Win %=%{x}<br>Ban %=%{y}<extra></extra>\",\"legendgroup\":\"Kog'Maw\",\"marker\":{\"color\":\"#FFA15A\",\"symbol\":\"circle\"},\"mode\":\"markers\",\"name\":\"Kog'Maw\",\"orientation\":\"v\",\"showlegend\":true,\"x\":[51.88],\"xaxis\":\"x\",\"y\":[2.26],\"yaxis\":\"y\",\"type\":\"scatter\"},{\"hovertemplate\":\"Name=LeBlanc<br>Win %=%{x}<br>Ban %=%{y}<extra></extra>\",\"legendgroup\":\"LeBlanc\",\"marker\":{\"color\":\"#19d3f3\",\"symbol\":\"circle\"},\"mode\":\"markers\",\"name\":\"LeBlanc\",\"orientation\":\"v\",\"showlegend\":true,\"x\":[49.58],\"xaxis\":\"x\",\"y\":[18.83],\"yaxis\":\"y\",\"type\":\"scatter\"},{\"hovertemplate\":\"Name=Lee Sin<br>Win %=%{x}<br>Ban %=%{y}<extra></extra>\",\"legendgroup\":\"Lee Sin\",\"marker\":{\"color\":\"#FF6692\",\"symbol\":\"circle\"},\"mode\":\"markers\",\"name\":\"Lee Sin\",\"orientation\":\"v\",\"showlegend\":true,\"x\":[47.95],\"xaxis\":\"x\",\"y\":[7.59],\"yaxis\":\"y\",\"type\":\"scatter\"},{\"hovertemplate\":\"Name=Leona<br>Win %=%{x}<br>Ban %=%{y}<extra></extra>\",\"legendgroup\":\"Leona\",\"marker\":{\"color\":\"#B6E880\",\"symbol\":\"circle\"},\"mode\":\"markers\",\"name\":\"Leona\",\"orientation\":\"v\",\"showlegend\":true,\"x\":[51.01],\"xaxis\":\"x\",\"y\":[3.77],\"yaxis\":\"y\",\"type\":\"scatter\"},{\"hovertemplate\":\"Name=Lillia<br>Win %=%{x}<br>Ban %=%{y}<extra></extra>\",\"legendgroup\":\"Lillia\",\"marker\":{\"color\":\"#FF97FF\",\"symbol\":\"circle\"},\"mode\":\"markers\",\"name\":\"Lillia\",\"orientation\":\"v\",\"showlegend\":true,\"x\":[51.41],\"xaxis\":\"x\",\"y\":[2.04],\"yaxis\":\"y\",\"type\":\"scatter\"},{\"hovertemplate\":\"Name=Lissandra<br>Win %=%{x}<br>Ban %=%{y}<extra></extra>\",\"legendgroup\":\"Lissandra\",\"marker\":{\"color\":\"#FECB52\",\"symbol\":\"circle\"},\"mode\":\"markers\",\"name\":\"Lissandra\",\"orientation\":\"v\",\"showlegend\":true,\"x\":[49.79],\"xaxis\":\"x\",\"y\":[1.4],\"yaxis\":\"y\",\"type\":\"scatter\"},{\"hovertemplate\":\"Name=Lucian<br>Win %=%{x}<br>Ban %=%{y}<extra></extra>\",\"legendgroup\":\"Lucian\",\"marker\":{\"color\":\"#636efa\",\"symbol\":\"circle\"},\"mode\":\"markers\",\"name\":\"Lucian\",\"orientation\":\"v\",\"showlegend\":true,\"x\":[48.67],\"xaxis\":\"x\",\"y\":[2.3],\"yaxis\":\"y\",\"type\":\"scatter\"},{\"hovertemplate\":\"Name=Lulu<br>Win %=%{x}<br>Ban %=%{y}<extra></extra>\",\"legendgroup\":\"Lulu\",\"marker\":{\"color\":\"#EF553B\",\"symbol\":\"circle\"},\"mode\":\"markers\",\"name\":\"Lulu\",\"orientation\":\"v\",\"showlegend\":true,\"x\":[47.93],\"xaxis\":\"x\",\"y\":[6.75],\"yaxis\":\"y\",\"type\":\"scatter\"},{\"hovertemplate\":\"Name=Lux<br>Win %=%{x}<br>Ban %=%{y}<extra></extra>\",\"legendgroup\":\"Lux\",\"marker\":{\"color\":\"#00cc96\",\"symbol\":\"circle\"},\"mode\":\"markers\",\"name\":\"Lux\",\"orientation\":\"v\",\"showlegend\":true,\"x\":[50.0,51.03],\"xaxis\":\"x\",\"y\":[11.12,11.12],\"yaxis\":\"y\",\"type\":\"scatter\"},{\"hovertemplate\":\"Name=Malphite<br>Win %=%{x}<br>Ban %=%{y}<extra></extra>\",\"legendgroup\":\"Malphite\",\"marker\":{\"color\":\"#ab63fa\",\"symbol\":\"circle\"},\"mode\":\"markers\",\"name\":\"Malphite\",\"orientation\":\"v\",\"showlegend\":true,\"x\":[51.43,52.0,46.11],\"xaxis\":\"x\",\"y\":[13.84,13.84,13.79],\"yaxis\":\"y\",\"type\":\"scatter\"},{\"hovertemplate\":\"Name=Malzahar<br>Win %=%{x}<br>Ban %=%{y}<extra></extra>\",\"legendgroup\":\"Malzahar\",\"marker\":{\"color\":\"#FFA15A\",\"symbol\":\"circle\"},\"mode\":\"markers\",\"name\":\"Malzahar\",\"orientation\":\"v\",\"showlegend\":true,\"x\":[50.78],\"xaxis\":\"x\",\"y\":[5.55],\"yaxis\":\"y\",\"type\":\"scatter\"},{\"hovertemplate\":\"Name=Maokai<br>Win %=%{x}<br>Ban %=%{y}<extra></extra>\",\"legendgroup\":\"Maokai\",\"marker\":{\"color\":\"#19d3f3\",\"symbol\":\"circle\"},\"mode\":\"markers\",\"name\":\"Maokai\",\"orientation\":\"v\",\"showlegend\":true,\"x\":[51.84,54.49,52.33],\"xaxis\":\"x\",\"y\":[1.08,1.08,1.08],\"yaxis\":\"y\",\"type\":\"scatter\"},{\"hovertemplate\":\"Name=Master Yi<br>Win %=%{x}<br>Ban %=%{y}<extra></extra>\",\"legendgroup\":\"Master Yi\",\"marker\":{\"color\":\"#FF6692\",\"symbol\":\"circle\"},\"mode\":\"markers\",\"name\":\"Master Yi\",\"orientation\":\"v\",\"showlegend\":true,\"x\":[49.7],\"xaxis\":\"x\",\"y\":[19.09],\"yaxis\":\"y\",\"type\":\"scatter\"},{\"hovertemplate\":\"Name=Milio<br>Win %=%{x}<br>Ban %=%{y}<extra></extra>\",\"legendgroup\":\"Milio\",\"marker\":{\"color\":\"#B6E880\",\"symbol\":\"circle\"},\"mode\":\"markers\",\"name\":\"Milio\",\"orientation\":\"v\",\"showlegend\":true,\"x\":[50.52],\"xaxis\":\"x\",\"y\":[18.76],\"yaxis\":\"y\",\"type\":\"scatter\"},{\"hovertemplate\":\"Name=Miss Fortune<br>Win %=%{x}<br>Ban %=%{y}<extra></extra>\",\"legendgroup\":\"Miss Fortune\",\"marker\":{\"color\":\"#FF97FF\",\"symbol\":\"circle\"},\"mode\":\"markers\",\"name\":\"Miss Fortune\",\"orientation\":\"v\",\"showlegend\":true,\"x\":[51.75],\"xaxis\":\"x\",\"y\":[4.64],\"yaxis\":\"y\",\"type\":\"scatter\"},{\"hovertemplate\":\"Name=Mordekaiser<br>Win %=%{x}<br>Ban %=%{y}<extra></extra>\",\"legendgroup\":\"Mordekaiser\",\"marker\":{\"color\":\"#FECB52\",\"symbol\":\"circle\"},\"mode\":\"markers\",\"name\":\"Mordekaiser\",\"orientation\":\"v\",\"showlegend\":true,\"x\":[49.87],\"xaxis\":\"x\",\"y\":[11.25],\"yaxis\":\"y\",\"type\":\"scatter\"},{\"hovertemplate\":\"Name=Morgana<br>Win %=%{x}<br>Ban %=%{y}<extra></extra>\",\"legendgroup\":\"Morgana\",\"marker\":{\"color\":\"#636efa\",\"symbol\":\"circle\"},\"mode\":\"markers\",\"name\":\"Morgana\",\"orientation\":\"v\",\"showlegend\":true,\"x\":[49.29],\"xaxis\":\"x\",\"y\":[24.57],\"yaxis\":\"y\",\"type\":\"scatter\"},{\"hovertemplate\":\"Name=Nami<br>Win %=%{x}<br>Ban %=%{y}<extra></extra>\",\"legendgroup\":\"Nami\",\"marker\":{\"color\":\"#EF553B\",\"symbol\":\"circle\"},\"mode\":\"markers\",\"name\":\"Nami\",\"orientation\":\"v\",\"showlegend\":true,\"x\":[49.25],\"xaxis\":\"x\",\"y\":[0.46],\"yaxis\":\"y\",\"type\":\"scatter\"},{\"hovertemplate\":\"Name=Nasus<br>Win %=%{x}<br>Ban %=%{y}<extra></extra>\",\"legendgroup\":\"Nasus\",\"marker\":{\"color\":\"#00cc96\",\"symbol\":\"circle\"},\"mode\":\"markers\",\"name\":\"Nasus\",\"orientation\":\"v\",\"showlegend\":true,\"x\":[51.4,51.71],\"xaxis\":\"x\",\"y\":[5.33,5.33],\"yaxis\":\"y\",\"type\":\"scatter\"},{\"hovertemplate\":\"Name=Nautilus<br>Win %=%{x}<br>Ban %=%{y}<extra></extra>\",\"legendgroup\":\"Nautilus\",\"marker\":{\"color\":\"#ab63fa\",\"symbol\":\"circle\"},\"mode\":\"markers\",\"name\":\"Nautilus\",\"orientation\":\"v\",\"showlegend\":true,\"x\":[50.82],\"xaxis\":\"x\",\"y\":[14.67],\"yaxis\":\"y\",\"type\":\"scatter\"},{\"hovertemplate\":\"Name=Neeko<br>Win %=%{x}<br>Ban %=%{y}<extra></extra>\",\"legendgroup\":\"Neeko\",\"marker\":{\"color\":\"#FFA15A\",\"symbol\":\"circle\"},\"mode\":\"markers\",\"name\":\"Neeko\",\"orientation\":\"v\",\"showlegend\":true,\"x\":[51.61,49.94],\"xaxis\":\"x\",\"y\":[15.44,15.44],\"yaxis\":\"y\",\"type\":\"scatter\"},{\"hovertemplate\":\"Name=Nidalee<br>Win %=%{x}<br>Ban %=%{y}<extra></extra>\",\"legendgroup\":\"Nidalee\",\"marker\":{\"color\":\"#19d3f3\",\"symbol\":\"circle\"},\"mode\":\"markers\",\"name\":\"Nidalee\",\"orientation\":\"v\",\"showlegend\":true,\"x\":[48.74],\"xaxis\":\"x\",\"y\":[5.7],\"yaxis\":\"y\",\"type\":\"scatter\"},{\"hovertemplate\":\"Name=Nilah<br>Win %=%{x}<br>Ban %=%{y}<extra></extra>\",\"legendgroup\":\"Nilah\",\"marker\":{\"color\":\"#FF6692\",\"symbol\":\"circle\"},\"mode\":\"markers\",\"name\":\"Nilah\",\"orientation\":\"v\",\"showlegend\":true,\"x\":[52.55],\"xaxis\":\"x\",\"y\":[5.33],\"yaxis\":\"y\",\"type\":\"scatter\"},{\"hovertemplate\":\"Name=Nocturne<br>Win %=%{x}<br>Ban %=%{y}<extra></extra>\",\"legendgroup\":\"Nocturne\",\"marker\":{\"color\":\"#B6E880\",\"symbol\":\"circle\"},\"mode\":\"markers\",\"name\":\"Nocturne\",\"orientation\":\"v\",\"showlegend\":true,\"x\":[51.84],\"xaxis\":\"x\",\"y\":[4.66],\"yaxis\":\"y\",\"type\":\"scatter\"},{\"hovertemplate\":\"Name=Nunu<br>Win %=%{x}<br>Ban %=%{y}<extra></extra>\",\"legendgroup\":\"Nunu\",\"marker\":{\"color\":\"#FF97FF\",\"symbol\":\"circle\"},\"mode\":\"markers\",\"name\":\"Nunu\",\"orientation\":\"v\",\"showlegend\":true,\"x\":[48.11],\"xaxis\":\"x\",\"y\":[0.92],\"yaxis\":\"y\",\"type\":\"scatter\"},{\"hovertemplate\":\"Name=Olaf<br>Win %=%{x}<br>Ban %=%{y}<extra></extra>\",\"legendgroup\":\"Olaf\",\"marker\":{\"color\":\"#FECB52\",\"symbol\":\"circle\"},\"mode\":\"markers\",\"name\":\"Olaf\",\"orientation\":\"v\",\"showlegend\":true,\"x\":[51.34,48.21],\"xaxis\":\"x\",\"y\":[3.77,3.77],\"yaxis\":\"y\",\"type\":\"scatter\"},{\"hovertemplate\":\"Name=Orianna<br>Win %=%{x}<br>Ban %=%{y}<extra></extra>\",\"legendgroup\":\"Orianna\",\"marker\":{\"color\":\"#636efa\",\"symbol\":\"circle\"},\"mode\":\"markers\",\"name\":\"Orianna\",\"orientation\":\"v\",\"showlegend\":true,\"x\":[50.69],\"xaxis\":\"x\",\"y\":[0.27],\"yaxis\":\"y\",\"type\":\"scatter\"},{\"hovertemplate\":\"Name=Ornn<br>Win %=%{x}<br>Ban %=%{y}<extra></extra>\",\"legendgroup\":\"Ornn\",\"marker\":{\"color\":\"#EF553B\",\"symbol\":\"circle\"},\"mode\":\"markers\",\"name\":\"Ornn\",\"orientation\":\"v\",\"showlegend\":true,\"x\":[50.28],\"xaxis\":\"x\",\"y\":[1.16],\"yaxis\":\"y\",\"type\":\"scatter\"},{\"hovertemplate\":\"Name=Pantheon<br>Win %=%{x}<br>Ban %=%{y}<extra></extra>\",\"legendgroup\":\"Pantheon\",\"marker\":{\"color\":\"#00cc96\",\"symbol\":\"circle\"},\"mode\":\"markers\",\"name\":\"Pantheon\",\"orientation\":\"v\",\"showlegend\":true,\"x\":[51.3,50.86,47.4],\"xaxis\":\"x\",\"y\":[5.56,5.56,5.56],\"yaxis\":\"y\",\"type\":\"scatter\"},{\"hovertemplate\":\"Name=Poppy<br>Win %=%{x}<br>Ban %=%{y}<extra></extra>\",\"legendgroup\":\"Poppy\",\"marker\":{\"color\":\"#ab63fa\",\"symbol\":\"circle\"},\"mode\":\"markers\",\"name\":\"Poppy\",\"orientation\":\"v\",\"showlegend\":true,\"x\":[51.66,50.7],\"xaxis\":\"x\",\"y\":[2.98,2.98],\"yaxis\":\"y\",\"type\":\"scatter\"},{\"hovertemplate\":\"Name=Pyke<br>Win %=%{x}<br>Ban %=%{y}<extra></extra>\",\"legendgroup\":\"Pyke\",\"marker\":{\"color\":\"#FFA15A\",\"symbol\":\"circle\"},\"mode\":\"markers\",\"name\":\"Pyke\",\"orientation\":\"v\",\"showlegend\":true,\"x\":[49.12],\"xaxis\":\"x\",\"y\":[12.75],\"yaxis\":\"y\",\"type\":\"scatter\"},{\"hovertemplate\":\"Name=Qiyana<br>Win %=%{x}<br>Ban %=%{y}<extra></extra>\",\"legendgroup\":\"Qiyana\",\"marker\":{\"color\":\"#19d3f3\",\"symbol\":\"circle\"},\"mode\":\"markers\",\"name\":\"Qiyana\",\"orientation\":\"v\",\"showlegend\":true,\"x\":[50.02,46.71],\"xaxis\":\"x\",\"y\":[1.14,1.14],\"yaxis\":\"y\",\"type\":\"scatter\"},{\"hovertemplate\":\"Name=Quinn<br>Win %=%{x}<br>Ban %=%{y}<extra></extra>\",\"legendgroup\":\"Quinn\",\"marker\":{\"color\":\"#FF6692\",\"symbol\":\"circle\"},\"mode\":\"markers\",\"name\":\"Quinn\",\"orientation\":\"v\",\"showlegend\":true,\"x\":[52.52,52.97],\"xaxis\":\"x\",\"y\":[1.36,1.36],\"yaxis\":\"y\",\"type\":\"scatter\"},{\"hovertemplate\":\"Name=Rakan<br>Win %=%{x}<br>Ban %=%{y}<extra></extra>\",\"legendgroup\":\"Rakan\",\"marker\":{\"color\":\"#B6E880\",\"symbol\":\"circle\"},\"mode\":\"markers\",\"name\":\"Rakan\",\"orientation\":\"v\",\"showlegend\":true,\"x\":[51.57],\"xaxis\":\"x\",\"y\":[1.93],\"yaxis\":\"y\",\"type\":\"scatter\"},{\"hovertemplate\":\"Name=Rammus<br>Win %=%{x}<br>Ban %=%{y}<extra></extra>\",\"legendgroup\":\"Rammus\",\"marker\":{\"color\":\"#FF97FF\",\"symbol\":\"circle\"},\"mode\":\"markers\",\"name\":\"Rammus\",\"orientation\":\"v\",\"showlegend\":true,\"x\":[51.87,50.24],\"xaxis\":\"x\",\"y\":[8.45,8.45],\"yaxis\":\"y\",\"type\":\"scatter\"},{\"hovertemplate\":\"Name=Rek'Sai<br>Win %=%{x}<br>Ban %=%{y}<extra></extra>\",\"legendgroup\":\"Rek'Sai\",\"marker\":{\"color\":\"#FECB52\",\"symbol\":\"circle\"},\"mode\":\"markers\",\"name\":\"Rek'Sai\",\"orientation\":\"v\",\"showlegend\":true,\"x\":[52.87],\"xaxis\":\"x\",\"y\":[18.74],\"yaxis\":\"y\",\"type\":\"scatter\"},{\"hovertemplate\":\"Name=Rell<br>Win %=%{x}<br>Ban %=%{y}<extra></extra>\",\"legendgroup\":\"Rell\",\"marker\":{\"color\":\"#636efa\",\"symbol\":\"circle\"},\"mode\":\"markers\",\"name\":\"Rell\",\"orientation\":\"v\",\"showlegend\":true,\"x\":[54.34,52.51],\"xaxis\":\"x\",\"y\":[13.06,13.06],\"yaxis\":\"y\",\"type\":\"scatter\"},{\"hovertemplate\":\"Name=Renata Glasc<br>Win %=%{x}<br>Ban %=%{y}<extra></extra>\",\"legendgroup\":\"Renata Glasc\",\"marker\":{\"color\":\"#EF553B\",\"symbol\":\"circle\"},\"mode\":\"markers\",\"name\":\"Renata Glasc\",\"orientation\":\"v\",\"showlegend\":true,\"x\":[51.03],\"xaxis\":\"x\",\"y\":[0.5],\"yaxis\":\"y\",\"type\":\"scatter\"},{\"hovertemplate\":\"Name=Renekton<br>Win %=%{x}<br>Ban %=%{y}<extra></extra>\",\"legendgroup\":\"Renekton\",\"marker\":{\"color\":\"#00cc96\",\"symbol\":\"circle\"},\"mode\":\"markers\",\"name\":\"Renekton\",\"orientation\":\"v\",\"showlegend\":true,\"x\":[50.03],\"xaxis\":\"x\",\"y\":[3.83],\"yaxis\":\"y\",\"type\":\"scatter\"},{\"hovertemplate\":\"Name=Rengar<br>Win %=%{x}<br>Ban %=%{y}<extra></extra>\",\"legendgroup\":\"Rengar\",\"marker\":{\"color\":\"#ab63fa\",\"symbol\":\"circle\"},\"mode\":\"markers\",\"name\":\"Rengar\",\"orientation\":\"v\",\"showlegend\":true,\"x\":[49.97,50.65],\"xaxis\":\"x\",\"y\":[21.29,21.29],\"yaxis\":\"y\",\"type\":\"scatter\"},{\"hovertemplate\":\"Name=Riven<br>Win %=%{x}<br>Ban %=%{y}<extra></extra>\",\"legendgroup\":\"Riven\",\"marker\":{\"color\":\"#FFA15A\",\"symbol\":\"circle\"},\"mode\":\"markers\",\"name\":\"Riven\",\"orientation\":\"v\",\"showlegend\":true,\"x\":[50.19],\"xaxis\":\"x\",\"y\":[1.51],\"yaxis\":\"y\",\"type\":\"scatter\"},{\"hovertemplate\":\"Name=Rumble<br>Win %=%{x}<br>Ban %=%{y}<extra></extra>\",\"legendgroup\":\"Rumble\",\"marker\":{\"color\":\"#19d3f3\",\"symbol\":\"circle\"},\"mode\":\"markers\",\"name\":\"Rumble\",\"orientation\":\"v\",\"showlegend\":true,\"x\":[53.2,50.28,49.62],\"xaxis\":\"x\",\"y\":[1.37,1.37,1.37],\"yaxis\":\"y\",\"type\":\"scatter\"},{\"hovertemplate\":\"Name=Ryze<br>Win %=%{x}<br>Ban %=%{y}<extra></extra>\",\"legendgroup\":\"Ryze\",\"marker\":{\"color\":\"#FF6692\",\"symbol\":\"circle\"},\"mode\":\"markers\",\"name\":\"Ryze\",\"orientation\":\"v\",\"showlegend\":true,\"x\":[50.26,51.59],\"xaxis\":\"x\",\"y\":[0.23,0.23],\"yaxis\":\"y\",\"type\":\"scatter\"},{\"hovertemplate\":\"Name=Samira<br>Win %=%{x}<br>Ban %=%{y}<extra></extra>\",\"legendgroup\":\"Samira\",\"marker\":{\"color\":\"#B6E880\",\"symbol\":\"circle\"},\"mode\":\"markers\",\"name\":\"Samira\",\"orientation\":\"v\",\"showlegend\":true,\"x\":[49.47],\"xaxis\":\"x\",\"y\":[21.63],\"yaxis\":\"y\",\"type\":\"scatter\"},{\"hovertemplate\":\"Name=Sejuani<br>Win %=%{x}<br>Ban %=%{y}<extra></extra>\",\"legendgroup\":\"Sejuani\",\"marker\":{\"color\":\"#FF97FF\",\"symbol\":\"circle\"},\"mode\":\"markers\",\"name\":\"Sejuani\",\"orientation\":\"v\",\"showlegend\":true,\"x\":[50.44],\"xaxis\":\"x\",\"y\":[0.72],\"yaxis\":\"y\",\"type\":\"scatter\"},{\"hovertemplate\":\"Name=Senna<br>Win %=%{x}<br>Ban %=%{y}<extra></extra>\",\"legendgroup\":\"Senna\",\"marker\":{\"color\":\"#FECB52\",\"symbol\":\"circle\"},\"mode\":\"markers\",\"name\":\"Senna\",\"orientation\":\"v\",\"showlegend\":true,\"x\":[50.84],\"xaxis\":\"x\",\"y\":[2.56],\"yaxis\":\"y\",\"type\":\"scatter\"},{\"hovertemplate\":\"Name=Seraphine<br>Win %=%{x}<br>Ban %=%{y}<extra></extra>\",\"legendgroup\":\"Seraphine\",\"marker\":{\"color\":\"#636efa\",\"symbol\":\"circle\"},\"mode\":\"markers\",\"name\":\"Seraphine\",\"orientation\":\"v\",\"showlegend\":true,\"x\":[49.76,53.81,51.81],\"xaxis\":\"x\",\"y\":[1.33,1.33,1.33],\"yaxis\":\"y\",\"type\":\"scatter\"},{\"hovertemplate\":\"Name=Sett<br>Win %=%{x}<br>Ban %=%{y}<extra></extra>\",\"legendgroup\":\"Sett\",\"marker\":{\"color\":\"#EF553B\",\"symbol\":\"circle\"},\"mode\":\"markers\",\"name\":\"Sett\",\"orientation\":\"v\",\"showlegend\":true,\"x\":[49.81],\"xaxis\":\"x\",\"y\":[3.17],\"yaxis\":\"y\",\"type\":\"scatter\"},{\"hovertemplate\":\"Name=Shaco<br>Win %=%{x}<br>Ban %=%{y}<extra></extra>\",\"legendgroup\":\"Shaco\",\"marker\":{\"color\":\"#00cc96\",\"symbol\":\"circle\"},\"mode\":\"markers\",\"name\":\"Shaco\",\"orientation\":\"v\",\"showlegend\":true,\"x\":[48.97,47.6],\"xaxis\":\"x\",\"y\":[16.77,16.77],\"yaxis\":\"y\",\"type\":\"scatter\"},{\"hovertemplate\":\"Name=Shen<br>Win %=%{x}<br>Ban %=%{y}<extra></extra>\",\"legendgroup\":\"Shen\",\"marker\":{\"color\":\"#ab63fa\",\"symbol\":\"circle\"},\"mode\":\"markers\",\"name\":\"Shen\",\"orientation\":\"v\",\"showlegend\":true,\"x\":[51.53,46.95],\"xaxis\":\"x\",\"y\":[0.46,0.46],\"yaxis\":\"y\",\"type\":\"scatter\"},{\"hovertemplate\":\"Name=Shyvana<br>Win %=%{x}<br>Ban %=%{y}<extra></extra>\",\"legendgroup\":\"Shyvana\",\"marker\":{\"color\":\"#FFA15A\",\"symbol\":\"circle\"},\"mode\":\"markers\",\"name\":\"Shyvana\",\"orientation\":\"v\",\"showlegend\":true,\"x\":[49.07,49.04],\"xaxis\":\"x\",\"y\":[0.34,0.4],\"yaxis\":\"y\",\"type\":\"scatter\"},{\"hovertemplate\":\"Name=Singed<br>Win %=%{x}<br>Ban %=%{y}<extra></extra>\",\"legendgroup\":\"Singed\",\"marker\":{\"color\":\"#19d3f3\",\"symbol\":\"circle\"},\"mode\":\"markers\",\"name\":\"Singed\",\"orientation\":\"v\",\"showlegend\":true,\"x\":[54.3,50.48],\"xaxis\":\"x\",\"y\":[0.41,0.43],\"yaxis\":\"y\",\"type\":\"scatter\"},{\"hovertemplate\":\"Name=Sion<br>Win %=%{x}<br>Ban %=%{y}<extra></extra>\",\"legendgroup\":\"Sion\",\"marker\":{\"color\":\"#FF6692\",\"symbol\":\"circle\"},\"mode\":\"markers\",\"name\":\"Sion\",\"orientation\":\"v\",\"showlegend\":true,\"x\":[49.47,50.31],\"xaxis\":\"x\",\"y\":[2.62,2.62],\"yaxis\":\"y\",\"type\":\"scatter\"},{\"hovertemplate\":\"Name=Sivir<br>Win %=%{x}<br>Ban %=%{y}<extra></extra>\",\"legendgroup\":\"Sivir\",\"marker\":{\"color\":\"#B6E880\",\"symbol\":\"circle\"},\"mode\":\"markers\",\"name\":\"Sivir\",\"orientation\":\"v\",\"showlegend\":true,\"x\":[50.57],\"xaxis\":\"x\",\"y\":[0.65],\"yaxis\":\"y\",\"type\":\"scatter\"},{\"hovertemplate\":\"Name=Skarner<br>Win %=%{x}<br>Ban %=%{y}<extra></extra>\",\"legendgroup\":\"Skarner\",\"marker\":{\"color\":\"#FF97FF\",\"symbol\":\"circle\"},\"mode\":\"markers\",\"name\":\"Skarner\",\"orientation\":\"v\",\"showlegend\":true,\"x\":[52.13,49.34],\"xaxis\":\"x\",\"y\":[0.2,0.18],\"yaxis\":\"y\",\"type\":\"scatter\"},{\"hovertemplate\":\"Name=Sona<br>Win %=%{x}<br>Ban %=%{y}<extra></extra>\",\"legendgroup\":\"Sona\",\"marker\":{\"color\":\"#FECB52\",\"symbol\":\"circle\"},\"mode\":\"markers\",\"name\":\"Sona\",\"orientation\":\"v\",\"showlegend\":true,\"x\":[52.29],\"xaxis\":\"x\",\"y\":[0.19],\"yaxis\":\"y\",\"type\":\"scatter\"},{\"hovertemplate\":\"Name=Soraka<br>Win %=%{x}<br>Ban %=%{y}<extra></extra>\",\"legendgroup\":\"Soraka\",\"marker\":{\"color\":\"#636efa\",\"symbol\":\"circle\"},\"mode\":\"markers\",\"name\":\"Soraka\",\"orientation\":\"v\",\"showlegend\":true,\"x\":[51.66],\"xaxis\":\"x\",\"y\":[1.61],\"yaxis\":\"y\",\"type\":\"scatter\"},{\"hovertemplate\":\"Name=Swain<br>Win %=%{x}<br>Ban %=%{y}<extra></extra>\",\"legendgroup\":\"Swain\",\"marker\":{\"color\":\"#EF553B\",\"symbol\":\"circle\"},\"mode\":\"markers\",\"name\":\"Swain\",\"orientation\":\"v\",\"showlegend\":true,\"x\":[55.5,52.94,50.54],\"xaxis\":\"x\",\"y\":[2.91,2.91,2.91],\"yaxis\":\"y\",\"type\":\"scatter\"},{\"hovertemplate\":\"Name=Sylas<br>Win %=%{x}<br>Ban %=%{y}<extra></extra>\",\"legendgroup\":\"Sylas\",\"marker\":{\"color\":\"#00cc96\",\"symbol\":\"circle\"},\"mode\":\"markers\",\"name\":\"Sylas\",\"orientation\":\"v\",\"showlegend\":true,\"x\":[49.23,48.69],\"xaxis\":\"x\",\"y\":[8.24,8.24],\"yaxis\":\"y\",\"type\":\"scatter\"},{\"hovertemplate\":\"Name=Syndra<br>Win %=%{x}<br>Ban %=%{y}<extra></extra>\",\"legendgroup\":\"Syndra\",\"marker\":{\"color\":\"#ab63fa\",\"symbol\":\"circle\"},\"mode\":\"markers\",\"name\":\"Syndra\",\"orientation\":\"v\",\"showlegend\":true,\"x\":[50.55],\"xaxis\":\"x\",\"y\":[2.87],\"yaxis\":\"y\",\"type\":\"scatter\"},{\"hovertemplate\":\"Name=Tahm Kench<br>Win %=%{x}<br>Ban %=%{y}<extra></extra>\",\"legendgroup\":\"Tahm Kench\",\"marker\":{\"color\":\"#FFA15A\",\"symbol\":\"circle\"},\"mode\":\"markers\",\"name\":\"Tahm Kench\",\"orientation\":\"v\",\"showlegend\":true,\"x\":[48.0,49.08],\"xaxis\":\"x\",\"y\":[0.89,0.96],\"yaxis\":\"y\",\"type\":\"scatter\"},{\"hovertemplate\":\"Name=Taliyah<br>Win %=%{x}<br>Ban %=%{y}<extra></extra>\",\"legendgroup\":\"Taliyah\",\"marker\":{\"color\":\"#19d3f3\",\"symbol\":\"circle\"},\"mode\":\"markers\",\"name\":\"Taliyah\",\"orientation\":\"v\",\"showlegend\":true,\"x\":[51.6,50.82],\"xaxis\":\"x\",\"y\":[0.34,0.34],\"yaxis\":\"y\",\"type\":\"scatter\"},{\"hovertemplate\":\"Name=Talon<br>Win %=%{x}<br>Ban %=%{y}<extra></extra>\",\"legendgroup\":\"Talon\",\"marker\":{\"color\":\"#FF6692\",\"symbol\":\"circle\"},\"mode\":\"markers\",\"name\":\"Talon\",\"orientation\":\"v\",\"showlegend\":true,\"x\":[51.25,49.56],\"xaxis\":\"x\",\"y\":[2.44,2.44],\"yaxis\":\"y\",\"type\":\"scatter\"},{\"hovertemplate\":\"Name=Taric<br>Win %=%{x}<br>Ban %=%{y}<extra></extra>\",\"legendgroup\":\"Taric\",\"marker\":{\"color\":\"#B6E880\",\"symbol\":\"circle\"},\"mode\":\"markers\",\"name\":\"Taric\",\"orientation\":\"v\",\"showlegend\":true,\"x\":[52.17],\"xaxis\":\"x\",\"y\":[0.42],\"yaxis\":\"y\",\"type\":\"scatter\"},{\"hovertemplate\":\"Name=Teemo<br>Win %=%{x}<br>Ban %=%{y}<extra></extra>\",\"legendgroup\":\"Teemo\",\"marker\":{\"color\":\"#FF97FF\",\"symbol\":\"circle\"},\"mode\":\"markers\",\"name\":\"Teemo\",\"orientation\":\"v\",\"showlegend\":true,\"x\":[50.72,47.98],\"xaxis\":\"x\",\"y\":[7.02,7.69],\"yaxis\":\"y\",\"type\":\"scatter\"},{\"hovertemplate\":\"Name=Thresh<br>Win %=%{x}<br>Ban %=%{y}<extra></extra>\",\"legendgroup\":\"Thresh\",\"marker\":{\"color\":\"#FECB52\",\"symbol\":\"circle\"},\"mode\":\"markers\",\"name\":\"Thresh\",\"orientation\":\"v\",\"showlegend\":true,\"x\":[50.65],\"xaxis\":\"x\",\"y\":[5.98],\"yaxis\":\"y\",\"type\":\"scatter\"},{\"hovertemplate\":\"Name=Tristana<br>Win %=%{x}<br>Ban %=%{y}<extra></extra>\",\"legendgroup\":\"Tristana\",\"marker\":{\"color\":\"#636efa\",\"symbol\":\"circle\"},\"mode\":\"markers\",\"name\":\"Tristana\",\"orientation\":\"v\",\"showlegend\":true,\"x\":[50.67,49.03],\"xaxis\":\"x\",\"y\":[3.62,3.62],\"yaxis\":\"y\",\"type\":\"scatter\"},{\"hovertemplate\":\"Name=Trundle<br>Win %=%{x}<br>Ban %=%{y}<extra></extra>\",\"legendgroup\":\"Trundle\",\"marker\":{\"color\":\"#EF553B\",\"symbol\":\"circle\"},\"mode\":\"markers\",\"name\":\"Trundle\",\"orientation\":\"v\",\"showlegend\":true,\"x\":[50.87,51.56],\"xaxis\":\"x\",\"y\":[0.99,0.99],\"yaxis\":\"y\",\"type\":\"scatter\"},{\"hovertemplate\":\"Name=Tryndamere<br>Win %=%{x}<br>Ban %=%{y}<extra></extra>\",\"legendgroup\":\"Tryndamere\",\"marker\":{\"color\":\"#00cc96\",\"symbol\":\"circle\"},\"mode\":\"markers\",\"name\":\"Tryndamere\",\"orientation\":\"v\",\"showlegend\":true,\"x\":[51.99,49.36],\"xaxis\":\"x\",\"y\":[2.05,2.05],\"yaxis\":\"y\",\"type\":\"scatter\"},{\"hovertemplate\":\"Name=Twisted Fate<br>Win %=%{x}<br>Ban %=%{y}<extra></extra>\",\"legendgroup\":\"Twisted Fate\",\"marker\":{\"color\":\"#ab63fa\",\"symbol\":\"circle\"},\"mode\":\"markers\",\"name\":\"Twisted Fate\",\"orientation\":\"v\",\"showlegend\":true,\"x\":[48.43],\"xaxis\":\"x\",\"y\":[0.27],\"yaxis\":\"y\",\"type\":\"scatter\"},{\"hovertemplate\":\"Name=Twitch<br>Win %=%{x}<br>Ban %=%{y}<extra></extra>\",\"legendgroup\":\"Twitch\",\"marker\":{\"color\":\"#FFA15A\",\"symbol\":\"circle\"},\"mode\":\"markers\",\"name\":\"Twitch\",\"orientation\":\"v\",\"showlegend\":true,\"x\":[51.04,48.49],\"xaxis\":\"x\",\"y\":[4.54,4.54],\"yaxis\":\"y\",\"type\":\"scatter\"},{\"hovertemplate\":\"Name=Udyr<br>Win %=%{x}<br>Ban %=%{y}<extra></extra>\",\"legendgroup\":\"Udyr\",\"marker\":{\"color\":\"#19d3f3\",\"symbol\":\"circle\"},\"mode\":\"markers\",\"name\":\"Udyr\",\"orientation\":\"v\",\"showlegend\":true,\"x\":[49.9,50.58],\"xaxis\":\"x\",\"y\":[2.1,2.1],\"yaxis\":\"y\",\"type\":\"scatter\"},{\"hovertemplate\":\"Name=Urgot<br>Win %=%{x}<br>Ban %=%{y}<extra></extra>\",\"legendgroup\":\"Urgot\",\"marker\":{\"color\":\"#FF6692\",\"symbol\":\"circle\"},\"mode\":\"markers\",\"name\":\"Urgot\",\"orientation\":\"v\",\"showlegend\":true,\"x\":[50.96],\"xaxis\":\"x\",\"y\":[1.0],\"yaxis\":\"y\",\"type\":\"scatter\"},{\"hovertemplate\":\"Name=Varus<br>Win %=%{x}<br>Ban %=%{y}<extra></extra>\",\"legendgroup\":\"Varus\",\"marker\":{\"color\":\"#B6E880\",\"symbol\":\"circle\"},\"mode\":\"markers\",\"name\":\"Varus\",\"orientation\":\"v\",\"showlegend\":true,\"x\":[49.65,47.32],\"xaxis\":\"x\",\"y\":[2.39,2.39],\"yaxis\":\"y\",\"type\":\"scatter\"},{\"hovertemplate\":\"Name=Vayne<br>Win %=%{x}<br>Ban %=%{y}<extra></extra>\",\"legendgroup\":\"Vayne\",\"marker\":{\"color\":\"#FF97FF\",\"symbol\":\"circle\"},\"mode\":\"markers\",\"name\":\"Vayne\",\"orientation\":\"v\",\"showlegend\":true,\"x\":[49.37,50.52],\"xaxis\":\"x\",\"y\":[4.53,4.53],\"yaxis\":\"y\",\"type\":\"scatter\"},{\"hovertemplate\":\"Name=Veigar<br>Win %=%{x}<br>Ban %=%{y}<extra></extra>\",\"legendgroup\":\"Veigar\",\"marker\":{\"color\":\"#FECB52\",\"symbol\":\"circle\"},\"mode\":\"markers\",\"name\":\"Veigar\",\"orientation\":\"v\",\"showlegend\":true,\"x\":[50.59,51.16,46.5],\"xaxis\":\"x\",\"y\":[3.97,3.97,4.32],\"yaxis\":\"y\",\"type\":\"scatter\"},{\"hovertemplate\":\"Name=Vel'Koz<br>Win %=%{x}<br>Ban %=%{y}<extra></extra>\",\"legendgroup\":\"Vel'Koz\",\"marker\":{\"color\":\"#636efa\",\"symbol\":\"circle\"},\"mode\":\"markers\",\"name\":\"Vel'Koz\",\"orientation\":\"v\",\"showlegend\":true,\"x\":[51.38,50.97],\"xaxis\":\"x\",\"y\":[0.41,0.41],\"yaxis\":\"y\",\"type\":\"scatter\"},{\"hovertemplate\":\"Name=Vex<br>Win %=%{x}<br>Ban %=%{y}<extra></extra>\",\"legendgroup\":\"Vex\",\"marker\":{\"color\":\"#EF553B\",\"symbol\":\"circle\"},\"mode\":\"markers\",\"name\":\"Vex\",\"orientation\":\"v\",\"showlegend\":true,\"x\":[50.6],\"xaxis\":\"x\",\"y\":[3.76],\"yaxis\":\"y\",\"type\":\"scatter\"},{\"hovertemplate\":\"Name=Vi<br>Win %=%{x}<br>Ban %=%{y}<extra></extra>\",\"legendgroup\":\"Vi\",\"marker\":{\"color\":\"#00cc96\",\"symbol\":\"circle\"},\"mode\":\"markers\",\"name\":\"Vi\",\"orientation\":\"v\",\"showlegend\":true,\"x\":[48.51],\"xaxis\":\"x\",\"y\":[1.94],\"yaxis\":\"y\",\"type\":\"scatter\"},{\"hovertemplate\":\"Name=Viego<br>Win %=%{x}<br>Ban %=%{y}<extra></extra>\",\"legendgroup\":\"Viego\",\"marker\":{\"color\":\"#ab63fa\",\"symbol\":\"circle\"},\"mode\":\"markers\",\"name\":\"Viego\",\"orientation\":\"v\",\"showlegend\":true,\"x\":[49.72],\"xaxis\":\"x\",\"y\":[2.56],\"yaxis\":\"y\",\"type\":\"scatter\"},{\"hovertemplate\":\"Name=Viktor<br>Win %=%{x}<br>Ban %=%{y}<extra></extra>\",\"legendgroup\":\"Viktor\",\"marker\":{\"color\":\"#FFA15A\",\"symbol\":\"circle\"},\"mode\":\"markers\",\"name\":\"Viktor\",\"orientation\":\"v\",\"showlegend\":true,\"x\":[51.34],\"xaxis\":\"x\",\"y\":[2.41],\"yaxis\":\"y\",\"type\":\"scatter\"},{\"hovertemplate\":\"Name=Vladimir<br>Win %=%{x}<br>Ban %=%{y}<extra></extra>\",\"legendgroup\":\"Vladimir\",\"marker\":{\"color\":\"#19d3f3\",\"symbol\":\"circle\"},\"mode\":\"markers\",\"name\":\"Vladimir\",\"orientation\":\"v\",\"showlegend\":true,\"x\":[51.53,49.13],\"xaxis\":\"x\",\"y\":[5.95,5.95],\"yaxis\":\"y\",\"type\":\"scatter\"},{\"hovertemplate\":\"Name=Volibear<br>Win %=%{x}<br>Ban %=%{y}<extra></extra>\",\"legendgroup\":\"Volibear\",\"marker\":{\"color\":\"#FF6692\",\"symbol\":\"circle\"},\"mode\":\"markers\",\"name\":\"Volibear\",\"orientation\":\"v\",\"showlegend\":true,\"x\":[48.43,50.15],\"xaxis\":\"x\",\"y\":[0.63,0.63],\"yaxis\":\"y\",\"type\":\"scatter\"},{\"hovertemplate\":\"Name=Warwick<br>Win %=%{x}<br>Ban %=%{y}<extra></extra>\",\"legendgroup\":\"Warwick\",\"marker\":{\"color\":\"#B6E880\",\"symbol\":\"circle\"},\"mode\":\"markers\",\"name\":\"Warwick\",\"orientation\":\"v\",\"showlegend\":true,\"x\":[50.07,49.47],\"xaxis\":\"x\",\"y\":[5.18,5.18],\"yaxis\":\"y\",\"type\":\"scatter\"},{\"hovertemplate\":\"Name=Wukong<br>Win %=%{x}<br>Ban %=%{y}<extra></extra>\",\"legendgroup\":\"Wukong\",\"marker\":{\"color\":\"#FF97FF\",\"symbol\":\"circle\"},\"mode\":\"markers\",\"name\":\"Wukong\",\"orientation\":\"v\",\"showlegend\":true,\"x\":[49.13,49.92],\"xaxis\":\"x\",\"y\":[1.25,1.25],\"yaxis\":\"y\",\"type\":\"scatter\"},{\"hovertemplate\":\"Name=Xayah<br>Win %=%{x}<br>Ban %=%{y}<extra></extra>\",\"legendgroup\":\"Xayah\",\"marker\":{\"color\":\"#FECB52\",\"symbol\":\"circle\"},\"mode\":\"markers\",\"name\":\"Xayah\",\"orientation\":\"v\",\"showlegend\":true,\"x\":[49.83],\"xaxis\":\"x\",\"y\":[3.88],\"yaxis\":\"y\",\"type\":\"scatter\"},{\"hovertemplate\":\"Name=Xerath<br>Win %=%{x}<br>Ban %=%{y}<extra></extra>\",\"legendgroup\":\"Xerath\",\"marker\":{\"color\":\"#636efa\",\"symbol\":\"circle\"},\"mode\":\"markers\",\"name\":\"Xerath\",\"orientation\":\"v\",\"showlegend\":true,\"x\":[51.26,50.81],\"xaxis\":\"x\",\"y\":[4.04,4.04],\"yaxis\":\"y\",\"type\":\"scatter\"},{\"hovertemplate\":\"Name=Xin Zhao<br>Win %=%{x}<br>Ban %=%{y}<extra></extra>\",\"legendgroup\":\"Xin Zhao\",\"marker\":{\"color\":\"#EF553B\",\"symbol\":\"circle\"},\"mode\":\"markers\",\"name\":\"Xin Zhao\",\"orientation\":\"v\",\"showlegend\":true,\"x\":[50.34],\"xaxis\":\"x\",\"y\":[0.41],\"yaxis\":\"y\",\"type\":\"scatter\"},{\"hovertemplate\":\"Name=Yasuo<br>Win %=%{x}<br>Ban %=%{y}<extra></extra>\",\"legendgroup\":\"Yasuo\",\"marker\":{\"color\":\"#00cc96\",\"symbol\":\"circle\"},\"mode\":\"markers\",\"name\":\"Yasuo\",\"orientation\":\"v\",\"showlegend\":true,\"x\":[48.78,47.51,50.87],\"xaxis\":\"x\",\"y\":[21.08,21.08,21.08],\"yaxis\":\"y\",\"type\":\"scatter\"},{\"hovertemplate\":\"Name=Yone<br>Win %=%{x}<br>Ban %=%{y}<extra></extra>\",\"legendgroup\":\"Yone\",\"marker\":{\"color\":\"#ab63fa\",\"symbol\":\"circle\"},\"mode\":\"markers\",\"name\":\"Yone\",\"orientation\":\"v\",\"showlegend\":true,\"x\":[49.25,49.34],\"xaxis\":\"x\",\"y\":[7.36,7.36],\"yaxis\":\"y\",\"type\":\"scatter\"},{\"hovertemplate\":\"Name=Yorick<br>Win %=%{x}<br>Ban %=%{y}<extra></extra>\",\"legendgroup\":\"Yorick\",\"marker\":{\"color\":\"#FFA15A\",\"symbol\":\"circle\"},\"mode\":\"markers\",\"name\":\"Yorick\",\"orientation\":\"v\",\"showlegend\":true,\"x\":[51.68],\"xaxis\":\"x\",\"y\":[4.03],\"yaxis\":\"y\",\"type\":\"scatter\"},{\"hovertemplate\":\"Name=Yuumi<br>Win %=%{x}<br>Ban %=%{y}<extra></extra>\",\"legendgroup\":\"Yuumi\",\"marker\":{\"color\":\"#19d3f3\",\"symbol\":\"circle\"},\"mode\":\"markers\",\"name\":\"Yuumi\",\"orientation\":\"v\",\"showlegend\":true,\"x\":[46.68],\"xaxis\":\"x\",\"y\":[14.06],\"yaxis\":\"y\",\"type\":\"scatter\"},{\"hovertemplate\":\"Name=Zac<br>Win %=%{x}<br>Ban %=%{y}<extra></extra>\",\"legendgroup\":\"Zac\",\"marker\":{\"color\":\"#FF6692\",\"symbol\":\"circle\"},\"mode\":\"markers\",\"name\":\"Zac\",\"orientation\":\"v\",\"showlegend\":true,\"x\":[51.77,52.47],\"xaxis\":\"x\",\"y\":[2.51,2.51],\"yaxis\":\"y\",\"type\":\"scatter\"},{\"hovertemplate\":\"Name=Zed<br>Win %=%{x}<br>Ban %=%{y}<extra></extra>\",\"legendgroup\":\"Zed\",\"marker\":{\"color\":\"#B6E880\",\"symbol\":\"circle\"},\"mode\":\"markers\",\"name\":\"Zed\",\"orientation\":\"v\",\"showlegend\":true,\"x\":[50.02],\"xaxis\":\"x\",\"y\":[30.48],\"yaxis\":\"y\",\"type\":\"scatter\"},{\"hovertemplate\":\"Name=Zeri<br>Win %=%{x}<br>Ban %=%{y}<extra></extra>\",\"legendgroup\":\"Zeri\",\"marker\":{\"color\":\"#FF97FF\",\"symbol\":\"circle\"},\"mode\":\"markers\",\"name\":\"Zeri\",\"orientation\":\"v\",\"showlegend\":true,\"x\":[48.18],\"xaxis\":\"x\",\"y\":[3.23],\"yaxis\":\"y\",\"type\":\"scatter\"},{\"hovertemplate\":\"Name=Ziggs<br>Win %=%{x}<br>Ban %=%{y}<extra></extra>\",\"legendgroup\":\"Ziggs\",\"marker\":{\"color\":\"#FECB52\",\"symbol\":\"circle\"},\"mode\":\"markers\",\"name\":\"Ziggs\",\"orientation\":\"v\",\"showlegend\":true,\"x\":[50.11,51.54,48.43],\"xaxis\":\"x\",\"y\":[0.41,0.41,0.42],\"yaxis\":\"y\",\"type\":\"scatter\"},{\"hovertemplate\":\"Name=Zilean<br>Win %=%{x}<br>Ban %=%{y}<extra></extra>\",\"legendgroup\":\"Zilean\",\"marker\":{\"color\":\"#636efa\",\"symbol\":\"circle\"},\"mode\":\"markers\",\"name\":\"Zilean\",\"orientation\":\"v\",\"showlegend\":true,\"x\":[53.91,50.12],\"xaxis\":\"x\",\"y\":[0.76,0.76],\"yaxis\":\"y\",\"type\":\"scatter\"},{\"hovertemplate\":\"Name=Zoe<br>Win %=%{x}<br>Ban %=%{y}<extra></extra>\",\"legendgroup\":\"Zoe\",\"marker\":{\"color\":\"#EF553B\",\"symbol\":\"circle\"},\"mode\":\"markers\",\"name\":\"Zoe\",\"orientation\":\"v\",\"showlegend\":true,\"x\":[50.44,48.67],\"xaxis\":\"x\",\"y\":[1.93,1.97],\"yaxis\":\"y\",\"type\":\"scatter\"},{\"hovertemplate\":\"Name=Zyra<br>Win %=%{x}<br>Ban %=%{y}<extra></extra>\",\"legendgroup\":\"Zyra\",\"marker\":{\"color\":\"#00cc96\",\"symbol\":\"circle\"},\"mode\":\"markers\",\"name\":\"Zyra\",\"orientation\":\"v\",\"showlegend\":true,\"x\":[51.44],\"xaxis\":\"x\",\"y\":[1.96],\"yaxis\":\"y\",\"type\":\"scatter\"}],                        {\"template\":{\"data\":{\"histogram2dcontour\":[{\"type\":\"histogram2dcontour\",\"colorbar\":{\"outlinewidth\":0,\"ticks\":\"\"},\"colorscale\":[[0.0,\"#0d0887\"],[0.1111111111111111,\"#46039f\"],[0.2222222222222222,\"#7201a8\"],[0.3333333333333333,\"#9c179e\"],[0.4444444444444444,\"#bd3786\"],[0.5555555555555556,\"#d8576b\"],[0.6666666666666666,\"#ed7953\"],[0.7777777777777778,\"#fb9f3a\"],[0.8888888888888888,\"#fdca26\"],[1.0,\"#f0f921\"]]}],\"choropleth\":[{\"type\":\"choropleth\",\"colorbar\":{\"outlinewidth\":0,\"ticks\":\"\"}}],\"histogram2d\":[{\"type\":\"histogram2d\",\"colorbar\":{\"outlinewidth\":0,\"ticks\":\"\"},\"colorscale\":[[0.0,\"#0d0887\"],[0.1111111111111111,\"#46039f\"],[0.2222222222222222,\"#7201a8\"],[0.3333333333333333,\"#9c179e\"],[0.4444444444444444,\"#bd3786\"],[0.5555555555555556,\"#d8576b\"],[0.6666666666666666,\"#ed7953\"],[0.7777777777777778,\"#fb9f3a\"],[0.8888888888888888,\"#fdca26\"],[1.0,\"#f0f921\"]]}],\"heatmap\":[{\"type\":\"heatmap\",\"colorbar\":{\"outlinewidth\":0,\"ticks\":\"\"},\"colorscale\":[[0.0,\"#0d0887\"],[0.1111111111111111,\"#46039f\"],[0.2222222222222222,\"#7201a8\"],[0.3333333333333333,\"#9c179e\"],[0.4444444444444444,\"#bd3786\"],[0.5555555555555556,\"#d8576b\"],[0.6666666666666666,\"#ed7953\"],[0.7777777777777778,\"#fb9f3a\"],[0.8888888888888888,\"#fdca26\"],[1.0,\"#f0f921\"]]}],\"heatmapgl\":[{\"type\":\"heatmapgl\",\"colorbar\":{\"outlinewidth\":0,\"ticks\":\"\"},\"colorscale\":[[0.0,\"#0d0887\"],[0.1111111111111111,\"#46039f\"],[0.2222222222222222,\"#7201a8\"],[0.3333333333333333,\"#9c179e\"],[0.4444444444444444,\"#bd3786\"],[0.5555555555555556,\"#d8576b\"],[0.6666666666666666,\"#ed7953\"],[0.7777777777777778,\"#fb9f3a\"],[0.8888888888888888,\"#fdca26\"],[1.0,\"#f0f921\"]]}],\"contourcarpet\":[{\"type\":\"contourcarpet\",\"colorbar\":{\"outlinewidth\":0,\"ticks\":\"\"}}],\"contour\":[{\"type\":\"contour\",\"colorbar\":{\"outlinewidth\":0,\"ticks\":\"\"},\"colorscale\":[[0.0,\"#0d0887\"],[0.1111111111111111,\"#46039f\"],[0.2222222222222222,\"#7201a8\"],[0.3333333333333333,\"#9c179e\"],[0.4444444444444444,\"#bd3786\"],[0.5555555555555556,\"#d8576b\"],[0.6666666666666666,\"#ed7953\"],[0.7777777777777778,\"#fb9f3a\"],[0.8888888888888888,\"#fdca26\"],[1.0,\"#f0f921\"]]}],\"surface\":[{\"type\":\"surface\",\"colorbar\":{\"outlinewidth\":0,\"ticks\":\"\"},\"colorscale\":[[0.0,\"#0d0887\"],[0.1111111111111111,\"#46039f\"],[0.2222222222222222,\"#7201a8\"],[0.3333333333333333,\"#9c179e\"],[0.4444444444444444,\"#bd3786\"],[0.5555555555555556,\"#d8576b\"],[0.6666666666666666,\"#ed7953\"],[0.7777777777777778,\"#fb9f3a\"],[0.8888888888888888,\"#fdca26\"],[1.0,\"#f0f921\"]]}],\"mesh3d\":[{\"type\":\"mesh3d\",\"colorbar\":{\"outlinewidth\":0,\"ticks\":\"\"}}],\"scatter\":[{\"fillpattern\":{\"fillmode\":\"overlay\",\"size\":10,\"solidity\":0.2},\"type\":\"scatter\"}],\"parcoords\":[{\"type\":\"parcoords\",\"line\":{\"colorbar\":{\"outlinewidth\":0,\"ticks\":\"\"}}}],\"scatterpolargl\":[{\"type\":\"scatterpolargl\",\"marker\":{\"colorbar\":{\"outlinewidth\":0,\"ticks\":\"\"}}}],\"bar\":[{\"error_x\":{\"color\":\"#2a3f5f\"},\"error_y\":{\"color\":\"#2a3f5f\"},\"marker\":{\"line\":{\"color\":\"#E5ECF6\",\"width\":0.5},\"pattern\":{\"fillmode\":\"overlay\",\"size\":10,\"solidity\":0.2}},\"type\":\"bar\"}],\"scattergeo\":[{\"type\":\"scattergeo\",\"marker\":{\"colorbar\":{\"outlinewidth\":0,\"ticks\":\"\"}}}],\"scatterpolar\":[{\"type\":\"scatterpolar\",\"marker\":{\"colorbar\":{\"outlinewidth\":0,\"ticks\":\"\"}}}],\"histogram\":[{\"marker\":{\"pattern\":{\"fillmode\":\"overlay\",\"size\":10,\"solidity\":0.2}},\"type\":\"histogram\"}],\"scattergl\":[{\"type\":\"scattergl\",\"marker\":{\"colorbar\":{\"outlinewidth\":0,\"ticks\":\"\"}}}],\"scatter3d\":[{\"type\":\"scatter3d\",\"line\":{\"colorbar\":{\"outlinewidth\":0,\"ticks\":\"\"}},\"marker\":{\"colorbar\":{\"outlinewidth\":0,\"ticks\":\"\"}}}],\"scattermapbox\":[{\"type\":\"scattermapbox\",\"marker\":{\"colorbar\":{\"outlinewidth\":0,\"ticks\":\"\"}}}],\"scatterternary\":[{\"type\":\"scatterternary\",\"marker\":{\"colorbar\":{\"outlinewidth\":0,\"ticks\":\"\"}}}],\"scattercarpet\":[{\"type\":\"scattercarpet\",\"marker\":{\"colorbar\":{\"outlinewidth\":0,\"ticks\":\"\"}}}],\"carpet\":[{\"aaxis\":{\"endlinecolor\":\"#2a3f5f\",\"gridcolor\":\"white\",\"linecolor\":\"white\",\"minorgridcolor\":\"white\",\"startlinecolor\":\"#2a3f5f\"},\"baxis\":{\"endlinecolor\":\"#2a3f5f\",\"gridcolor\":\"white\",\"linecolor\":\"white\",\"minorgridcolor\":\"white\",\"startlinecolor\":\"#2a3f5f\"},\"type\":\"carpet\"}],\"table\":[{\"cells\":{\"fill\":{\"color\":\"#EBF0F8\"},\"line\":{\"color\":\"white\"}},\"header\":{\"fill\":{\"color\":\"#C8D4E3\"},\"line\":{\"color\":\"white\"}},\"type\":\"table\"}],\"barpolar\":[{\"marker\":{\"line\":{\"color\":\"#E5ECF6\",\"width\":0.5},\"pattern\":{\"fillmode\":\"overlay\",\"size\":10,\"solidity\":0.2}},\"type\":\"barpolar\"}],\"pie\":[{\"automargin\":true,\"type\":\"pie\"}]},\"layout\":{\"autotypenumbers\":\"strict\",\"colorway\":[\"#636efa\",\"#EF553B\",\"#00cc96\",\"#ab63fa\",\"#FFA15A\",\"#19d3f3\",\"#FF6692\",\"#B6E880\",\"#FF97FF\",\"#FECB52\"],\"font\":{\"color\":\"#2a3f5f\"},\"hovermode\":\"closest\",\"hoverlabel\":{\"align\":\"left\"},\"paper_bgcolor\":\"white\",\"plot_bgcolor\":\"#E5ECF6\",\"polar\":{\"bgcolor\":\"#E5ECF6\",\"angularaxis\":{\"gridcolor\":\"white\",\"linecolor\":\"white\",\"ticks\":\"\"},\"radialaxis\":{\"gridcolor\":\"white\",\"linecolor\":\"white\",\"ticks\":\"\"}},\"ternary\":{\"bgcolor\":\"#E5ECF6\",\"aaxis\":{\"gridcolor\":\"white\",\"linecolor\":\"white\",\"ticks\":\"\"},\"baxis\":{\"gridcolor\":\"white\",\"linecolor\":\"white\",\"ticks\":\"\"},\"caxis\":{\"gridcolor\":\"white\",\"linecolor\":\"white\",\"ticks\":\"\"}},\"coloraxis\":{\"colorbar\":{\"outlinewidth\":0,\"ticks\":\"\"}},\"colorscale\":{\"sequential\":[[0.0,\"#0d0887\"],[0.1111111111111111,\"#46039f\"],[0.2222222222222222,\"#7201a8\"],[0.3333333333333333,\"#9c179e\"],[0.4444444444444444,\"#bd3786\"],[0.5555555555555556,\"#d8576b\"],[0.6666666666666666,\"#ed7953\"],[0.7777777777777778,\"#fb9f3a\"],[0.8888888888888888,\"#fdca26\"],[1.0,\"#f0f921\"]],\"sequentialminus\":[[0.0,\"#0d0887\"],[0.1111111111111111,\"#46039f\"],[0.2222222222222222,\"#7201a8\"],[0.3333333333333333,\"#9c179e\"],[0.4444444444444444,\"#bd3786\"],[0.5555555555555556,\"#d8576b\"],[0.6666666666666666,\"#ed7953\"],[0.7777777777777778,\"#fb9f3a\"],[0.8888888888888888,\"#fdca26\"],[1.0,\"#f0f921\"]],\"diverging\":[[0,\"#8e0152\"],[0.1,\"#c51b7d\"],[0.2,\"#de77ae\"],[0.3,\"#f1b6da\"],[0.4,\"#fde0ef\"],[0.5,\"#f7f7f7\"],[0.6,\"#e6f5d0\"],[0.7,\"#b8e186\"],[0.8,\"#7fbc41\"],[0.9,\"#4d9221\"],[1,\"#276419\"]]},\"xaxis\":{\"gridcolor\":\"white\",\"linecolor\":\"white\",\"ticks\":\"\",\"title\":{\"standoff\":15},\"zerolinecolor\":\"white\",\"automargin\":true,\"zerolinewidth\":2},\"yaxis\":{\"gridcolor\":\"white\",\"linecolor\":\"white\",\"ticks\":\"\",\"title\":{\"standoff\":15},\"zerolinecolor\":\"white\",\"automargin\":true,\"zerolinewidth\":2},\"scene\":{\"xaxis\":{\"backgroundcolor\":\"#E5ECF6\",\"gridcolor\":\"white\",\"linecolor\":\"white\",\"showbackground\":true,\"ticks\":\"\",\"zerolinecolor\":\"white\",\"gridwidth\":2},\"yaxis\":{\"backgroundcolor\":\"#E5ECF6\",\"gridcolor\":\"white\",\"linecolor\":\"white\",\"showbackground\":true,\"ticks\":\"\",\"zerolinecolor\":\"white\",\"gridwidth\":2},\"zaxis\":{\"backgroundcolor\":\"#E5ECF6\",\"gridcolor\":\"white\",\"linecolor\":\"white\",\"showbackground\":true,\"ticks\":\"\",\"zerolinecolor\":\"white\",\"gridwidth\":2}},\"shapedefaults\":{\"line\":{\"color\":\"#2a3f5f\"}},\"annotationdefaults\":{\"arrowcolor\":\"#2a3f5f\",\"arrowhead\":0,\"arrowwidth\":1},\"geo\":{\"bgcolor\":\"white\",\"landcolor\":\"#E5ECF6\",\"subunitcolor\":\"white\",\"showland\":true,\"showlakes\":true,\"lakecolor\":\"white\"},\"title\":{\"x\":0.05},\"mapbox\":{\"style\":\"light\"}}},\"xaxis\":{\"anchor\":\"y\",\"domain\":[0.0,1.0],\"title\":{\"text\":\"Win %\"}},\"yaxis\":{\"anchor\":\"x\",\"domain\":[0.0,1.0],\"title\":{\"text\":\"Ban %\"}},\"legend\":{\"title\":{\"text\":\"Name\"},\"tracegroupgap\":0},\"title\":{\"text\":\"LOL Champions win and ban rate\"}},                        {\"responsive\": true}                    ).then(function(){\n",
       "                            \n",
       "var gd = document.getElementById('17a83ac2-ccb3-4818-a77f-6d2d761a6b6e');\n",
       "var x = new MutationObserver(function (mutations, observer) {{\n",
       "        var display = window.getComputedStyle(gd).display;\n",
       "        if (!display || display === 'none') {{\n",
       "            console.log([gd, 'removed!']);\n",
       "            Plotly.purge(gd);\n",
       "            observer.disconnect();\n",
       "        }}\n",
       "}});\n",
       "\n",
       "// Listen for the removal of the full notebook cells\n",
       "var notebookContainer = gd.closest('#notebook-container');\n",
       "if (notebookContainer) {{\n",
       "    x.observe(notebookContainer, {childList: true});\n",
       "}}\n",
       "\n",
       "// Listen for the clearing of the current output cell\n",
       "var outputEl = gd.closest('.output');\n",
       "if (outputEl) {{\n",
       "    x.observe(outputEl, {childList: true});\n",
       "}}\n",
       "\n",
       "                        })                };                            </script>        </div>\n",
       "</body>\n",
       "</html>"
      ]
     },
     "metadata": {},
     "output_type": "display_data"
    }
   ],
   "source": [
    "px.scatter(df, x=\"Win %\", y=\"Ban %\", color=\"Name\", title = \"LOL Champions win and ban rate\")"
   ]
  },
  {
   "cell_type": "markdown",
   "metadata": {
    "cell_id": "a32e9c81cda84815adfd9b5f432f065b",
    "deepnote_cell_type": "markdown"
   },
   "source": [
    "## Extra(Box Plot)"
   ]
  },
  {
   "cell_type": "code",
   "execution_count": 64,
   "metadata": {
    "cell_id": "286bf296ace8418494a13365603e7b42",
    "deepnote_cell_type": "code",
    "deepnote_to_be_reexecuted": false,
    "execution_millis": 263,
    "execution_start": 1695796838498,
    "source_hash": "510f10a0"
   },
   "outputs": [
    {
     "data": {
      "text/html": [
       "<html>\n",
       "<head><meta charset=\"utf-8\" /></head>\n",
       "<body>\n",
       "    <div>            <script src=\"https://cdnjs.cloudflare.com/ajax/libs/mathjax/2.7.5/MathJax.js?config=TeX-AMS-MML_SVG\"></script><script type=\"text/javascript\">if (window.MathJax && window.MathJax.Hub && window.MathJax.Hub.Config) {window.MathJax.Hub.Config({SVG: {font: \"STIX-Web\"}});}</script>                <script type=\"text/javascript\">window.PlotlyConfig = {MathJaxConfig: 'local'};</script>\n",
       "        <script src=\"https://cdn.plot.ly/plotly-2.14.0.min.js\"></script>                <div id=\"4ef81a6a-eede-40b7-8f75-befb577c418a\" class=\"plotly-graph-div\" style=\"height:525px; width:500px;\"></div>            <script type=\"text/javascript\">                                    window.PLOTLYENV=window.PLOTLYENV || {};                                    if (document.getElementById(\"4ef81a6a-eede-40b7-8f75-befb577c418a\")) {                    Plotly.newPlot(                        \"4ef81a6a-eede-40b7-8f75-befb577c418a\",                        [{\"alignmentgroup\":\"True\",\"boxpoints\":\"all\",\"customdata\":[[\"Aatrox\"],[\"Ahri\"],[\"Akali\"],[\"Akali\"],[\"Akshan\"],[\"Akshan\"],[\"Alistar\"],[\"Amumu\"],[\"Amumu\"],[\"Anivia\"],[\"Anivia\"],[\"Annie\"],[\"Annie\"],[\"Aphelios\"],[\"Ashe\"],[\"Ashe\"],[\"Aurelion Sol\"],[\"Azir\"],[\"Bard\"],[\"Bel'Veth\"],[\"Blitzcrank\"],[\"Brand\"],[\"Brand\"],[\"Braum\"],[\"Caitlyn\"],[\"Camille\"],[\"Cassiopeia\"],[\"Cassiopeia\"],[\"Cho'Gath\"],[\"Cho'Gath\"],[\"Corki\"],[\"Darius\"],[\"Diana\"],[\"Diana\"],[\"Dr. Mundo\"],[\"Draven\"],[\"Ekko\"],[\"Ekko\"],[\"Elise\"],[\"Evelynn\"],[\"Ezreal\"],[\"Ezreal\"],[\"Fiddlesticks\"],[\"Fiddlesticks\"],[\"Fiora\"],[\"Fizz\"],[\"Galio\"],[\"Galio\"],[\"Gangplank\"],[\"Gangplank\"],[\"Garen\"],[\"Gnar\"],[\"Gragas\"],[\"Gragas\"],[\"Gragas\"],[\"Graves\"],[\"Gwen\"],[\"Hecarim\"],[\"Heimerdinger\"],[\"Heimerdinger\"],[\"Heimerdinger\"],[\"Illaoi\"],[\"Irelia\"],[\"Irelia\"],[\"Ivern\"],[\"Ivern\"],[\"Janna\"],[\"Jarvan IV\"],[\"Jax\"],[\"Jax\"],[\"Jayce\"],[\"Jayce\"],[\"Jhin\"],[\"Jinx\"],[\"K'Sante\"],[\"Kai'Sa\"],[\"Kalista\"],[\"Karma\"],[\"Karthus\"],[\"Karthus\"],[\"Karthus\"],[\"Kassadin\"],[\"Katarina\"],[\"Kayle\"],[\"Kayle\"],[\"Kayn\"],[\"Kennen\"],[\"Kennen\"],[\"Kha'Zix\"],[\"Kindred\"],[\"Kled\"],[\"Kog'Maw\"],[\"LeBlanc\"],[\"Lee Sin\"],[\"Leona\"],[\"Lillia\"],[\"Lissandra\"],[\"Lucian\"],[\"Lulu\"],[\"Lux\"],[\"Lux\"],[\"Malphite\"],[\"Malphite\"],[\"Malphite\"],[\"Malzahar\"],[\"Maokai\"],[\"Maokai\"],[\"Maokai\"],[\"Master Yi\"],[\"Milio\"],[\"Miss Fortune\"],[\"Mordekaiser\"],[\"Morgana\"],[\"Nami\"],[\"Nasus\"],[\"Nasus\"],[\"Nautilus\"],[\"Neeko\"],[\"Neeko\"],[\"Nidalee\"],[\"Nilah\"],[\"Nocturne\"],[\"Nunu\"],[\"Olaf\"],[\"Olaf\"],[\"Orianna\"],[\"Ornn\"],[\"Pantheon\"],[\"Pantheon\"],[\"Pantheon\"],[\"Poppy\"],[\"Poppy\"],[\"Pyke\"],[\"Qiyana\"],[\"Qiyana\"],[\"Quinn\"],[\"Quinn\"],[\"Rakan\"],[\"Rammus\"],[\"Rammus\"],[\"Rek'Sai\"],[\"Rell\"],[\"Rell\"],[\"Renata Glasc\"],[\"Renekton\"],[\"Rengar\"],[\"Rengar\"],[\"Riven\"],[\"Rumble\"],[\"Rumble\"],[\"Rumble\"],[\"Ryze\"],[\"Ryze\"],[\"Samira\"],[\"Sejuani\"],[\"Senna\"],[\"Seraphine\"],[\"Seraphine\"],[\"Seraphine\"],[\"Sett\"],[\"Shaco\"],[\"Shaco\"],[\"Shen\"],[\"Shen\"],[\"Shyvana\"],[\"Shyvana\"],[\"Singed\"],[\"Singed\"],[\"Sion\"],[\"Sion\"],[\"Sivir\"],[\"Skarner\"],[\"Skarner\"],[\"Sona\"],[\"Soraka\"],[\"Swain\"],[\"Swain\"],[\"Swain\"],[\"Sylas\"],[\"Sylas\"],[\"Syndra\"],[\"Tahm Kench\"],[\"Tahm Kench\"],[\"Taliyah\"],[\"Taliyah\"],[\"Talon\"],[\"Talon\"],[\"Taric\"],[\"Teemo\"],[\"Teemo\"],[\"Thresh\"],[\"Tristana\"],[\"Tristana\"],[\"Trundle\"],[\"Trundle\"],[\"Tryndamere\"],[\"Tryndamere\"],[\"Twisted Fate\"],[\"Twitch\"],[\"Twitch\"],[\"Udyr\"],[\"Udyr\"],[\"Urgot\"],[\"Varus\"],[\"Varus\"],[\"Vayne\"],[\"Vayne\"],[\"Veigar\"],[\"Veigar\"],[\"Veigar\"],[\"Vel'Koz\"],[\"Vel'Koz\"],[\"Vex\"],[\"Vi\"],[\"Viego\"],[\"Viktor\"],[\"Vladimir\"],[\"Vladimir\"],[\"Volibear\"],[\"Volibear\"],[\"Warwick\"],[\"Warwick\"],[\"Wukong\"],[\"Wukong\"],[\"Xayah\"],[\"Xerath\"],[\"Xerath\"],[\"Xin Zhao\"],[\"Yasuo\"],[\"Yasuo\"],[\"Yasuo\"],[\"Yone\"],[\"Yone\"],[\"Yorick\"],[\"Yuumi\"],[\"Zac\"],[\"Zac\"],[\"Zed\"],[\"Zeri\"],[\"Ziggs\"],[\"Ziggs\"],[\"Ziggs\"],[\"Zilean\"],[\"Zilean\"],[\"Zoe\"],[\"Zoe\"],[\"Zyra\"]],\"hovertemplate\":\"Score=%{x}<br>Name=%{customdata[0]}<extra></extra>\",\"legendgroup\":\"\",\"marker\":{\"color\":\"#636efa\"},\"name\":\"\",\"notched\":false,\"offsetgroup\":\"\",\"orientation\":\"h\",\"showlegend\":false,\"x\":[71.25,77.12,55.37,36.35,47.25,37.24,54.33,44.96,40.1,50.85,24.49,48.73,36.74,44.69,67.31,37.02,54.0,47.51,43.6,49.69,79.03,41.62,40.08,47.38,46.61,50.66,47.36,37.99,51.89,43.75,37.15,89.77,40.75,39.37,50.46,48.93,53.28,46.68,36.51,57.3,72.99,33.67,48.92,37.61,69.54,62.51,46.34,35.96,58.79,44.29,70.64,40.81,45.62,38.22,36.71,72.71,53.66,62.04,44.22,39.84,33.45,63.63,54.9,49.15,51.46,33.65,61.02,64.68,92.58,32.93,54.24,45.75,59.38,48.29,59.69,92.98,34.73,50.43,46.76,42.52,38.01,45.87,64.8,59.91,47.19,83.56,38.75,37.55,89.93,73.66,48.26,42.51,66.02,91.03,57.54,51.06,47.5,45.63,59.04,84.82,60.79,83.04,46.92,30.04,51.78,52.39,46.53,43.6,71.87,81.15,60.44,72.79,64.13,52.82,66.24,42.5,87.81,54.1,44.74,54.05,45.72,56.43,42.05,48.79,22.96,50.56,60.18,49.94,49.25,36.47,49.74,44.39,67.1,47.41,20.78,49.07,44.2,70.91,49.63,30.44,69.23,80.81,46.63,44.57,77.61,62.69,39.96,55.5,47.23,45.51,31.2,45.59,35.71,57.04,49.91,62.66,52.34,49.21,46.72,65.36,58.88,36.03,57.59,30.62,31.35,28.01,48.88,40.16,57.0,35.89,42.9,38.1,30.61,53.15,60.35,50.89,49.53,49.45,55.65,39.44,56.32,38.72,34.87,44.88,33.28,52.37,33.38,47.44,58.84,30.82,91.09,47.21,44.29,39.07,35.29,41.47,40.25,43.98,46.23,33.25,39.12,32.19,46.28,45.2,28.59,44.25,35.52,54.59,39.26,28.09,44.1,41.32,50.2,42.18,70.33,54.13,54.65,34.53,36.96,33.68,49.91,36.27,38.79,33.59,52.38,53.03,48.19,38.19,85.15,43.76,40.1,58.02,57.2,48.83,69.04,53.35,44.32,90.84,39.89,43.66,41.4,31.09,52.02,45.21,49.82,32.21,46.64],\"x0\":\" \",\"xaxis\":\"x\",\"y0\":\" \",\"yaxis\":\"y\",\"type\":\"box\"}],                        {\"template\":{\"data\":{\"histogram2dcontour\":[{\"type\":\"histogram2dcontour\",\"colorbar\":{\"outlinewidth\":0,\"ticks\":\"\"},\"colorscale\":[[0.0,\"#0d0887\"],[0.1111111111111111,\"#46039f\"],[0.2222222222222222,\"#7201a8\"],[0.3333333333333333,\"#9c179e\"],[0.4444444444444444,\"#bd3786\"],[0.5555555555555556,\"#d8576b\"],[0.6666666666666666,\"#ed7953\"],[0.7777777777777778,\"#fb9f3a\"],[0.8888888888888888,\"#fdca26\"],[1.0,\"#f0f921\"]]}],\"choropleth\":[{\"type\":\"choropleth\",\"colorbar\":{\"outlinewidth\":0,\"ticks\":\"\"}}],\"histogram2d\":[{\"type\":\"histogram2d\",\"colorbar\":{\"outlinewidth\":0,\"ticks\":\"\"},\"colorscale\":[[0.0,\"#0d0887\"],[0.1111111111111111,\"#46039f\"],[0.2222222222222222,\"#7201a8\"],[0.3333333333333333,\"#9c179e\"],[0.4444444444444444,\"#bd3786\"],[0.5555555555555556,\"#d8576b\"],[0.6666666666666666,\"#ed7953\"],[0.7777777777777778,\"#fb9f3a\"],[0.8888888888888888,\"#fdca26\"],[1.0,\"#f0f921\"]]}],\"heatmap\":[{\"type\":\"heatmap\",\"colorbar\":{\"outlinewidth\":0,\"ticks\":\"\"},\"colorscale\":[[0.0,\"#0d0887\"],[0.1111111111111111,\"#46039f\"],[0.2222222222222222,\"#7201a8\"],[0.3333333333333333,\"#9c179e\"],[0.4444444444444444,\"#bd3786\"],[0.5555555555555556,\"#d8576b\"],[0.6666666666666666,\"#ed7953\"],[0.7777777777777778,\"#fb9f3a\"],[0.8888888888888888,\"#fdca26\"],[1.0,\"#f0f921\"]]}],\"heatmapgl\":[{\"type\":\"heatmapgl\",\"colorbar\":{\"outlinewidth\":0,\"ticks\":\"\"},\"colorscale\":[[0.0,\"#0d0887\"],[0.1111111111111111,\"#46039f\"],[0.2222222222222222,\"#7201a8\"],[0.3333333333333333,\"#9c179e\"],[0.4444444444444444,\"#bd3786\"],[0.5555555555555556,\"#d8576b\"],[0.6666666666666666,\"#ed7953\"],[0.7777777777777778,\"#fb9f3a\"],[0.8888888888888888,\"#fdca26\"],[1.0,\"#f0f921\"]]}],\"contourcarpet\":[{\"type\":\"contourcarpet\",\"colorbar\":{\"outlinewidth\":0,\"ticks\":\"\"}}],\"contour\":[{\"type\":\"contour\",\"colorbar\":{\"outlinewidth\":0,\"ticks\":\"\"},\"colorscale\":[[0.0,\"#0d0887\"],[0.1111111111111111,\"#46039f\"],[0.2222222222222222,\"#7201a8\"],[0.3333333333333333,\"#9c179e\"],[0.4444444444444444,\"#bd3786\"],[0.5555555555555556,\"#d8576b\"],[0.6666666666666666,\"#ed7953\"],[0.7777777777777778,\"#fb9f3a\"],[0.8888888888888888,\"#fdca26\"],[1.0,\"#f0f921\"]]}],\"surface\":[{\"type\":\"surface\",\"colorbar\":{\"outlinewidth\":0,\"ticks\":\"\"},\"colorscale\":[[0.0,\"#0d0887\"],[0.1111111111111111,\"#46039f\"],[0.2222222222222222,\"#7201a8\"],[0.3333333333333333,\"#9c179e\"],[0.4444444444444444,\"#bd3786\"],[0.5555555555555556,\"#d8576b\"],[0.6666666666666666,\"#ed7953\"],[0.7777777777777778,\"#fb9f3a\"],[0.8888888888888888,\"#fdca26\"],[1.0,\"#f0f921\"]]}],\"mesh3d\":[{\"type\":\"mesh3d\",\"colorbar\":{\"outlinewidth\":0,\"ticks\":\"\"}}],\"scatter\":[{\"fillpattern\":{\"fillmode\":\"overlay\",\"size\":10,\"solidity\":0.2},\"type\":\"scatter\"}],\"parcoords\":[{\"type\":\"parcoords\",\"line\":{\"colorbar\":{\"outlinewidth\":0,\"ticks\":\"\"}}}],\"scatterpolargl\":[{\"type\":\"scatterpolargl\",\"marker\":{\"colorbar\":{\"outlinewidth\":0,\"ticks\":\"\"}}}],\"bar\":[{\"error_x\":{\"color\":\"#2a3f5f\"},\"error_y\":{\"color\":\"#2a3f5f\"},\"marker\":{\"line\":{\"color\":\"#E5ECF6\",\"width\":0.5},\"pattern\":{\"fillmode\":\"overlay\",\"size\":10,\"solidity\":0.2}},\"type\":\"bar\"}],\"scattergeo\":[{\"type\":\"scattergeo\",\"marker\":{\"colorbar\":{\"outlinewidth\":0,\"ticks\":\"\"}}}],\"scatterpolar\":[{\"type\":\"scatterpolar\",\"marker\":{\"colorbar\":{\"outlinewidth\":0,\"ticks\":\"\"}}}],\"histogram\":[{\"marker\":{\"pattern\":{\"fillmode\":\"overlay\",\"size\":10,\"solidity\":0.2}},\"type\":\"histogram\"}],\"scattergl\":[{\"type\":\"scattergl\",\"marker\":{\"colorbar\":{\"outlinewidth\":0,\"ticks\":\"\"}}}],\"scatter3d\":[{\"type\":\"scatter3d\",\"line\":{\"colorbar\":{\"outlinewidth\":0,\"ticks\":\"\"}},\"marker\":{\"colorbar\":{\"outlinewidth\":0,\"ticks\":\"\"}}}],\"scattermapbox\":[{\"type\":\"scattermapbox\",\"marker\":{\"colorbar\":{\"outlinewidth\":0,\"ticks\":\"\"}}}],\"scatterternary\":[{\"type\":\"scatterternary\",\"marker\":{\"colorbar\":{\"outlinewidth\":0,\"ticks\":\"\"}}}],\"scattercarpet\":[{\"type\":\"scattercarpet\",\"marker\":{\"colorbar\":{\"outlinewidth\":0,\"ticks\":\"\"}}}],\"carpet\":[{\"aaxis\":{\"endlinecolor\":\"#2a3f5f\",\"gridcolor\":\"white\",\"linecolor\":\"white\",\"minorgridcolor\":\"white\",\"startlinecolor\":\"#2a3f5f\"},\"baxis\":{\"endlinecolor\":\"#2a3f5f\",\"gridcolor\":\"white\",\"linecolor\":\"white\",\"minorgridcolor\":\"white\",\"startlinecolor\":\"#2a3f5f\"},\"type\":\"carpet\"}],\"table\":[{\"cells\":{\"fill\":{\"color\":\"#EBF0F8\"},\"line\":{\"color\":\"white\"}},\"header\":{\"fill\":{\"color\":\"#C8D4E3\"},\"line\":{\"color\":\"white\"}},\"type\":\"table\"}],\"barpolar\":[{\"marker\":{\"line\":{\"color\":\"#E5ECF6\",\"width\":0.5},\"pattern\":{\"fillmode\":\"overlay\",\"size\":10,\"solidity\":0.2}},\"type\":\"barpolar\"}],\"pie\":[{\"automargin\":true,\"type\":\"pie\"}]},\"layout\":{\"autotypenumbers\":\"strict\",\"colorway\":[\"#636efa\",\"#EF553B\",\"#00cc96\",\"#ab63fa\",\"#FFA15A\",\"#19d3f3\",\"#FF6692\",\"#B6E880\",\"#FF97FF\",\"#FECB52\"],\"font\":{\"color\":\"#2a3f5f\"},\"hovermode\":\"closest\",\"hoverlabel\":{\"align\":\"left\"},\"paper_bgcolor\":\"white\",\"plot_bgcolor\":\"#E5ECF6\",\"polar\":{\"bgcolor\":\"#E5ECF6\",\"angularaxis\":{\"gridcolor\":\"white\",\"linecolor\":\"white\",\"ticks\":\"\"},\"radialaxis\":{\"gridcolor\":\"white\",\"linecolor\":\"white\",\"ticks\":\"\"}},\"ternary\":{\"bgcolor\":\"#E5ECF6\",\"aaxis\":{\"gridcolor\":\"white\",\"linecolor\":\"white\",\"ticks\":\"\"},\"baxis\":{\"gridcolor\":\"white\",\"linecolor\":\"white\",\"ticks\":\"\"},\"caxis\":{\"gridcolor\":\"white\",\"linecolor\":\"white\",\"ticks\":\"\"}},\"coloraxis\":{\"colorbar\":{\"outlinewidth\":0,\"ticks\":\"\"}},\"colorscale\":{\"sequential\":[[0.0,\"#0d0887\"],[0.1111111111111111,\"#46039f\"],[0.2222222222222222,\"#7201a8\"],[0.3333333333333333,\"#9c179e\"],[0.4444444444444444,\"#bd3786\"],[0.5555555555555556,\"#d8576b\"],[0.6666666666666666,\"#ed7953\"],[0.7777777777777778,\"#fb9f3a\"],[0.8888888888888888,\"#fdca26\"],[1.0,\"#f0f921\"]],\"sequentialminus\":[[0.0,\"#0d0887\"],[0.1111111111111111,\"#46039f\"],[0.2222222222222222,\"#7201a8\"],[0.3333333333333333,\"#9c179e\"],[0.4444444444444444,\"#bd3786\"],[0.5555555555555556,\"#d8576b\"],[0.6666666666666666,\"#ed7953\"],[0.7777777777777778,\"#fb9f3a\"],[0.8888888888888888,\"#fdca26\"],[1.0,\"#f0f921\"]],\"diverging\":[[0,\"#8e0152\"],[0.1,\"#c51b7d\"],[0.2,\"#de77ae\"],[0.3,\"#f1b6da\"],[0.4,\"#fde0ef\"],[0.5,\"#f7f7f7\"],[0.6,\"#e6f5d0\"],[0.7,\"#b8e186\"],[0.8,\"#7fbc41\"],[0.9,\"#4d9221\"],[1,\"#276419\"]]},\"xaxis\":{\"gridcolor\":\"white\",\"linecolor\":\"white\",\"ticks\":\"\",\"title\":{\"standoff\":15},\"zerolinecolor\":\"white\",\"automargin\":true,\"zerolinewidth\":2},\"yaxis\":{\"gridcolor\":\"white\",\"linecolor\":\"white\",\"ticks\":\"\",\"title\":{\"standoff\":15},\"zerolinecolor\":\"white\",\"automargin\":true,\"zerolinewidth\":2},\"scene\":{\"xaxis\":{\"backgroundcolor\":\"#E5ECF6\",\"gridcolor\":\"white\",\"linecolor\":\"white\",\"showbackground\":true,\"ticks\":\"\",\"zerolinecolor\":\"white\",\"gridwidth\":2},\"yaxis\":{\"backgroundcolor\":\"#E5ECF6\",\"gridcolor\":\"white\",\"linecolor\":\"white\",\"showbackground\":true,\"ticks\":\"\",\"zerolinecolor\":\"white\",\"gridwidth\":2},\"zaxis\":{\"backgroundcolor\":\"#E5ECF6\",\"gridcolor\":\"white\",\"linecolor\":\"white\",\"showbackground\":true,\"ticks\":\"\",\"zerolinecolor\":\"white\",\"gridwidth\":2}},\"shapedefaults\":{\"line\":{\"color\":\"#2a3f5f\"}},\"annotationdefaults\":{\"arrowcolor\":\"#2a3f5f\",\"arrowhead\":0,\"arrowwidth\":1},\"geo\":{\"bgcolor\":\"white\",\"landcolor\":\"#E5ECF6\",\"subunitcolor\":\"white\",\"showland\":true,\"showlakes\":true,\"lakecolor\":\"white\"},\"title\":{\"x\":0.05},\"mapbox\":{\"style\":\"light\"}}},\"xaxis\":{\"anchor\":\"y\",\"domain\":[0.0,1.0],\"title\":{\"text\":\"Score\"}},\"yaxis\":{\"anchor\":\"x\",\"domain\":[0.0,1.0]},\"legend\":{\"tracegroupgap\":0},\"margin\":{\"t\":60},\"boxmode\":\"group\",\"width\":500},                        {\"responsive\": true}                    ).then(function(){\n",
       "                            \n",
       "var gd = document.getElementById('4ef81a6a-eede-40b7-8f75-befb577c418a');\n",
       "var x = new MutationObserver(function (mutations, observer) {{\n",
       "        var display = window.getComputedStyle(gd).display;\n",
       "        if (!display || display === 'none') {{\n",
       "            console.log([gd, 'removed!']);\n",
       "            Plotly.purge(gd);\n",
       "            observer.disconnect();\n",
       "        }}\n",
       "}});\n",
       "\n",
       "// Listen for the removal of the full notebook cells\n",
       "var notebookContainer = gd.closest('#notebook-container');\n",
       "if (notebookContainer) {{\n",
       "    x.observe(notebookContainer, {childList: true});\n",
       "}}\n",
       "\n",
       "// Listen for the clearing of the current output cell\n",
       "var outputEl = gd.closest('.output');\n",
       "if (outputEl) {{\n",
       "    x.observe(outputEl, {childList: true});\n",
       "}}\n",
       "\n",
       "                        })                };                            </script>        </div>\n",
       "</body>\n",
       "</html>"
      ]
     },
     "metadata": {},
     "output_type": "display_data"
    }
   ],
   "source": [
    "px.box(df, \"Score\", points=\"all\",hover_data=[\"Name\"],width=500)"
   ]
  },
  {
   "cell_type": "markdown",
   "metadata": {
    "cell_id": "7180d1d1b1ab413ca7dc30795d030953",
    "deepnote_cell_type": "markdown"
   },
   "source": [
    "This short code, using plotly, displays the distribution of all the champion's scores in the data (this is similar to checking distribution on student's performances on exams). We can use our mouse to hover over and get the details of min, median, max, q1 & q3, and the lower and upper fences. The box plot seems to show a normal distrubtion in regards to champions' scores. This means that it's symmetric, equally likely for scores to be above or below the mean, and scores are more likely to occur at the mean than further away."
   ]
  },
  {
   "cell_type": "code",
   "execution_count": 65,
   "metadata": {
    "cell_id": "d65a7096f71d4193a4ed6c0d3651ff76",
    "deepnote_cell_type": "code",
    "deepnote_to_be_reexecuted": false,
    "execution_millis": 659,
    "execution_start": 1695796838609,
    "source_hash": "2bc58646"
   },
   "outputs": [
    {
     "data": {
      "text/html": [
       "<html>\n",
       "<head><meta charset=\"utf-8\" /></head>\n",
       "<body>\n",
       "    <div>            <script src=\"https://cdnjs.cloudflare.com/ajax/libs/mathjax/2.7.5/MathJax.js?config=TeX-AMS-MML_SVG\"></script><script type=\"text/javascript\">if (window.MathJax && window.MathJax.Hub && window.MathJax.Hub.Config) {window.MathJax.Hub.Config({SVG: {font: \"STIX-Web\"}});}</script>                <script type=\"text/javascript\">window.PlotlyConfig = {MathJaxConfig: 'local'};</script>\n",
       "        <script src=\"https://cdn.plot.ly/plotly-2.14.0.min.js\"></script>                <div id=\"62aeb84b-c8da-46c6-9e5c-5028fa648a9a\" class=\"plotly-graph-div\" style=\"height:525px; width:100%;\"></div>            <script type=\"text/javascript\">                                    window.PLOTLYENV=window.PLOTLYENV || {};                                    if (document.getElementById(\"62aeb84b-c8da-46c6-9e5c-5028fa648a9a\")) {                    Plotly.newPlot(                        \"62aeb84b-c8da-46c6-9e5c-5028fa648a9a\",                        [{\"hovertemplate\":\"Tier=God<br>Pick %=%{x}<br>Trend=%{y}<extra></extra>\",\"legendgroup\":\"God\",\"marker\":{\"color\":\"#1F77B4\",\"symbol\":\"circle\"},\"mode\":\"markers\",\"name\":\"God\",\"orientation\":\"v\",\"showlegend\":true,\"x\":[7.01,10.63,8.78,8.46,19.96,8.58,8.51,28.67,10.28,10.1,7.2,13.32,11.55,6.62,7.9,8.81,6.38,11.97,8.24,7.93,7.64,13.79,12.73,11.5],\"xaxis\":\"x\",\"y\":[-3.39,-5.03,4.56,2.57,-19.84,1.85,-0.44,3.24,7.31,-3.1,-12.38,13.94,7.57,-1.26,-1.37,-11.18,-1.18,8.42,3.7,11.71,12.07,6.4,-2.72,2.83],\"yaxis\":\"y\",\"type\":\"scatter\"},{\"alignmentgroup\":\"True\",\"hovertemplate\":\"Tier=God<br>Pick %=%{x}<extra></extra>\",\"legendgroup\":\"God\",\"marker\":{\"color\":\"#1F77B4\",\"symbol\":\"circle\"},\"name\":\"God\",\"notched\":true,\"offsetgroup\":\"God\",\"showlegend\":false,\"x\":[7.01,10.63,8.78,8.46,19.96,8.58,8.51,28.67,10.28,10.1,7.2,13.32,11.55,6.62,7.9,8.81,6.38,11.97,8.24,7.93,7.64,13.79,12.73,11.5],\"xaxis\":\"x3\",\"yaxis\":\"y3\",\"type\":\"box\"},{\"alignmentgroup\":\"True\",\"hovertemplate\":\"Tier=God<br>Trend=%{y}<extra></extra>\",\"legendgroup\":\"God\",\"marker\":{\"color\":\"#1F77B4\",\"symbol\":\"circle\"},\"name\":\"God\",\"offsetgroup\":\"God\",\"scalegroup\":\"y\",\"showlegend\":false,\"xaxis\":\"x2\",\"y\":[-3.39,-5.03,4.56,2.57,-19.84,1.85,-0.44,3.24,7.31,-3.1,-12.38,13.94,7.57,-1.26,-1.37,-11.18,-1.18,8.42,3.7,11.71,12.07,6.4,-2.72,2.83],\"yaxis\":\"y2\",\"type\":\"violin\"},{\"hovertemplate\":\"Tier=A<br>Pick %=%{x}<br>Trend=%{y}<extra></extra>\",\"legendgroup\":\"A\",\"marker\":{\"color\":\"#FF7F0E\",\"symbol\":\"circle\"},\"mode\":\"markers\",\"name\":\"A\",\"orientation\":\"v\",\"showlegend\":true,\"x\":[5.99,4.58,2.22,2.93,3.5,4.37,4.26,3.26,3.06,2.78,6.31,4.83,3.48,4.22,4.14,3.79,2.99,4.29,8.47,5.1,1.98,3.89,2.95,3.73,3.61,4.7,3.25,5.29,4.79,2.82,2.87,2.89,2.7,2.35,3.1,2.25,2.69,4.32,3.52,4.81,1.28,0.22,3.36,0.51,1.29,3.69,5.79,5.32,3.76,1.96,4.86,3.28,4.28,3.96,4.74,9.73,4.09,1.44,2.92,3.11,0.31,2.98],\"xaxis\":\"x\",\"y\":[-5.08,4.6,-1.84,-8.33,0.48,0.27,1.57,-0.83,-1.43,-2.71,-0.17,2.72,0.28,2.4,0.85,1.54,-8.06,-1.01,-4.48,-0.38,-0.11,0.54,-3.35,-1.03,1.0,-2.31,-11.96,6.14,3.43,0.53,-0.15,-2.96,3.86,0.42,5.15,5.45,-1.58,0.6,3.2,0.66,9.81,0.0,1.33,0.0,2.35,2.38,0.17,2.63,0.53,-1.88,-3.66,-2.15,2.05,3.61,-3.99,1.57,0.58,-2.63,0.63,0.93,4.9,1.34],\"yaxis\":\"y\",\"type\":\"scatter\"},{\"alignmentgroup\":\"True\",\"hovertemplate\":\"Tier=A<br>Pick %=%{x}<extra></extra>\",\"legendgroup\":\"A\",\"marker\":{\"color\":\"#FF7F0E\",\"symbol\":\"circle\"},\"name\":\"A\",\"notched\":true,\"offsetgroup\":\"A\",\"showlegend\":false,\"x\":[5.99,4.58,2.22,2.93,3.5,4.37,4.26,3.26,3.06,2.78,6.31,4.83,3.48,4.22,4.14,3.79,2.99,4.29,8.47,5.1,1.98,3.89,2.95,3.73,3.61,4.7,3.25,5.29,4.79,2.82,2.87,2.89,2.7,2.35,3.1,2.25,2.69,4.32,3.52,4.81,1.28,0.22,3.36,0.51,1.29,3.69,5.79,5.32,3.76,1.96,4.86,3.28,4.28,3.96,4.74,9.73,4.09,1.44,2.92,3.11,0.31,2.98],\"xaxis\":\"x3\",\"yaxis\":\"y3\",\"type\":\"box\"},{\"alignmentgroup\":\"True\",\"hovertemplate\":\"Tier=A<br>Trend=%{y}<extra></extra>\",\"legendgroup\":\"A\",\"marker\":{\"color\":\"#FF7F0E\",\"symbol\":\"circle\"},\"name\":\"A\",\"offsetgroup\":\"A\",\"scalegroup\":\"y\",\"showlegend\":false,\"xaxis\":\"x2\",\"y\":[-5.08,4.6,-1.84,-8.33,0.48,0.27,1.57,-0.83,-1.43,-2.71,-0.17,2.72,0.28,2.4,0.85,1.54,-8.06,-1.01,-4.48,-0.38,-0.11,0.54,-3.35,-1.03,1.0,-2.31,-11.96,6.14,3.43,0.53,-0.15,-2.96,3.86,0.42,5.15,5.45,-1.58,0.6,3.2,0.66,9.81,0.0,1.33,0.0,2.35,2.38,0.17,2.63,0.53,-1.88,-3.66,-2.15,2.05,3.61,-3.99,1.57,0.58,-2.63,0.63,0.93,4.9,1.34],\"yaxis\":\"y2\",\"type\":\"violin\"},{\"hovertemplate\":\"Tier=C<br>Pick %=%{x}<br>Trend=%{y}<extra></extra>\",\"legendgroup\":\"C\",\"marker\":{\"color\":\"#2CA02C\",\"symbol\":\"circle\"},\"mode\":\"markers\",\"name\":\"C\",\"orientation\":\"v\",\"showlegend\":true,\"x\":[1.45,0.96,0.6,2.14,0.53,0.88,3.35,1.98,0.5,0.38,2.67,0.8,1.57,2.28,2.31,2.03,0.39,2.33,1.06,0.41,1.43,0.66,0.86,3.05,1.84,0.74,1.84,0.8,2.45,1.21,0.82,0.99,2.17,1.42,2.62,2.4,4.21],\"xaxis\":\"x\",\"y\":[-0.6,0.83,-3.16,1.58,-1.37,-0.31,-2.64,1.0,-0.4,0.01,-3.15,-1.32,-0.65,6.99,-1.81,-6.52,-3.41,1.46,-1.09,-1.31,-2.37,-2.49,2.14,-0.52,-1.8,-5.55,0.94,-1.63,0.8,4.94,7.06,-0.44,-0.57,-3.06,-4.57,0.99,0.19],\"yaxis\":\"y\",\"type\":\"scatter\"},{\"alignmentgroup\":\"True\",\"hovertemplate\":\"Tier=C<br>Pick %=%{x}<extra></extra>\",\"legendgroup\":\"C\",\"marker\":{\"color\":\"#2CA02C\",\"symbol\":\"circle\"},\"name\":\"C\",\"notched\":true,\"offsetgroup\":\"C\",\"showlegend\":false,\"x\":[1.45,0.96,0.6,2.14,0.53,0.88,3.35,1.98,0.5,0.38,2.67,0.8,1.57,2.28,2.31,2.03,0.39,2.33,1.06,0.41,1.43,0.66,0.86,3.05,1.84,0.74,1.84,0.8,2.45,1.21,0.82,0.99,2.17,1.42,2.62,2.4,4.21],\"xaxis\":\"x3\",\"yaxis\":\"y3\",\"type\":\"box\"},{\"alignmentgroup\":\"True\",\"hovertemplate\":\"Tier=C<br>Trend=%{y}<extra></extra>\",\"legendgroup\":\"C\",\"marker\":{\"color\":\"#2CA02C\",\"symbol\":\"circle\"},\"name\":\"C\",\"offsetgroup\":\"C\",\"scalegroup\":\"y\",\"showlegend\":false,\"xaxis\":\"x2\",\"y\":[-0.6,0.83,-3.16,1.58,-1.37,-0.31,-2.64,1.0,-0.4,0.01,-3.15,-1.32,-0.65,6.99,-1.81,-6.52,-3.41,1.46,-1.09,-1.31,-2.37,-2.49,2.14,-0.52,-1.8,-5.55,0.94,-1.63,0.8,4.94,7.06,-0.44,-0.57,-3.06,-4.57,0.99,0.19],\"yaxis\":\"y2\",\"type\":\"violin\"},{\"hovertemplate\":\"Tier=B<br>Pick %=%{x}<br>Trend=%{y}<extra></extra>\",\"legendgroup\":\"B\",\"marker\":{\"color\":\"#D62728\",\"symbol\":\"circle\"},\"mode\":\"markers\",\"name\":\"B\",\"orientation\":\"v\",\"showlegend\":true,\"x\":[2.88,2.86,1.1,9.01,2.14,2.96,0.72,3.1,8.77,2.3,0.76,1.18,2.52,1.67,0.76,2.9,3.81,0.78,2.1,1.84,0.47,1.92,0.6,2.34,7.36,1.12,1.01,0.89,0.58,2.75,3.03,3.81,2.64,0.29,1.15,1.93,0.65,2.31,2.18,0.75,1.56,3.2,1.24,2.91,6.15,0.32,2.21,3.0,4.53,2.41,6.08,6.32,0.7,1.66,4.05,2.96,1.89,0.66,1.67,0.83,2.11,2.87],\"xaxis\":\"x\",\"y\":[-1.5,-0.85,-1.92,-23.49,-2.68,-3.46,5.34,0.89,-2.93,-1.15,0.1,-2.3,0.75,0.19,1.67,-1.82,0.69,0.5,0.7,6.48,3.23,-1.12,-0.96,8.28,-7.42,-1.33,5.55,2.19,1.0,-2.19,5.1,-2.96,0.46,-2.63,0.0,-0.25,6.27,3.43,-0.42,1.94,0.15,6.74,2.15,4.01,3.9,1.77,-0.88,-0.59,3.18,0.42,-1.82,3.85,2.21,1.55,-13.38,-2.39,7.72,-2.26,4.37,7.33,1.15,-0.95],\"yaxis\":\"y\",\"type\":\"scatter\"},{\"alignmentgroup\":\"True\",\"hovertemplate\":\"Tier=B<br>Pick %=%{x}<extra></extra>\",\"legendgroup\":\"B\",\"marker\":{\"color\":\"#D62728\",\"symbol\":\"circle\"},\"name\":\"B\",\"notched\":true,\"offsetgroup\":\"B\",\"showlegend\":false,\"x\":[2.88,2.86,1.1,9.01,2.14,2.96,0.72,3.1,8.77,2.3,0.76,1.18,2.52,1.67,0.76,2.9,3.81,0.78,2.1,1.84,0.47,1.92,0.6,2.34,7.36,1.12,1.01,0.89,0.58,2.75,3.03,3.81,2.64,0.29,1.15,1.93,0.65,2.31,2.18,0.75,1.56,3.2,1.24,2.91,6.15,0.32,2.21,3.0,4.53,2.41,6.08,6.32,0.7,1.66,4.05,2.96,1.89,0.66,1.67,0.83,2.11,2.87],\"xaxis\":\"x3\",\"yaxis\":\"y3\",\"type\":\"box\"},{\"alignmentgroup\":\"True\",\"hovertemplate\":\"Tier=B<br>Trend=%{y}<extra></extra>\",\"legendgroup\":\"B\",\"marker\":{\"color\":\"#D62728\",\"symbol\":\"circle\"},\"name\":\"B\",\"offsetgroup\":\"B\",\"scalegroup\":\"y\",\"showlegend\":false,\"xaxis\":\"x2\",\"y\":[-1.5,-0.85,-1.92,-23.49,-2.68,-3.46,5.34,0.89,-2.93,-1.15,0.1,-2.3,0.75,0.19,1.67,-1.82,0.69,0.5,0.7,6.48,3.23,-1.12,-0.96,8.28,-7.42,-1.33,5.55,2.19,1.0,-2.19,5.1,-2.96,0.46,-2.63,0.0,-0.25,6.27,3.43,-0.42,1.94,0.15,6.74,2.15,4.01,3.9,1.77,-0.88,-0.59,3.18,0.42,-1.82,3.85,2.21,1.55,-13.38,-2.39,7.72,-2.26,4.37,7.33,1.15,-0.95],\"yaxis\":\"y2\",\"type\":\"violin\"},{\"hovertemplate\":\"Tier=D<br>Pick %=%{x}<br>Trend=%{y}<extra></extra>\",\"legendgroup\":\"D\",\"marker\":{\"color\":\"#9467BD\",\"symbol\":\"circle\"},\"mode\":\"markers\",\"name\":\"D\",\"orientation\":\"v\",\"showlegend\":true,\"x\":[0.29,2.37,0.66,0.43,1.1,1.09,0.31,0.39,0.43,0.47,0.38,1.34,0.21,0.14,0.45,1.39,0.72,0.77,0.52,1.11,0.7,1.02,0.58,0.37,0.4],\"xaxis\":\"x\",\"y\":[-5.76,-7.35,-0.59,-4.87,4.29,-4.96,-3.37,-2.99,-3.91,2.43,-3.85,-1.37,1.2,2.28,2.33,-1.72,-4.14,0.76,2.43,-14.81,0.0,-1.42,0.72,-3.87,-1.45],\"yaxis\":\"y\",\"type\":\"scatter\"},{\"alignmentgroup\":\"True\",\"hovertemplate\":\"Tier=D<br>Pick %=%{x}<extra></extra>\",\"legendgroup\":\"D\",\"marker\":{\"color\":\"#9467BD\",\"symbol\":\"circle\"},\"name\":\"D\",\"notched\":true,\"offsetgroup\":\"D\",\"showlegend\":false,\"x\":[0.29,2.37,0.66,0.43,1.1,1.09,0.31,0.39,0.43,0.47,0.38,1.34,0.21,0.14,0.45,1.39,0.72,0.77,0.52,1.11,0.7,1.02,0.58,0.37,0.4],\"xaxis\":\"x3\",\"yaxis\":\"y3\",\"type\":\"box\"},{\"alignmentgroup\":\"True\",\"hovertemplate\":\"Tier=D<br>Trend=%{y}<extra></extra>\",\"legendgroup\":\"D\",\"marker\":{\"color\":\"#9467BD\",\"symbol\":\"circle\"},\"name\":\"D\",\"offsetgroup\":\"D\",\"scalegroup\":\"y\",\"showlegend\":false,\"xaxis\":\"x2\",\"y\":[-5.76,-7.35,-0.59,-4.87,4.29,-4.96,-3.37,-2.99,-3.91,2.43,-3.85,-1.37,1.2,2.28,2.33,-1.72,-4.14,0.76,2.43,-14.81,0.0,-1.42,0.72,-3.87,-1.45],\"yaxis\":\"y2\",\"type\":\"violin\"},{\"hovertemplate\":\"Tier=S<br>Pick %=%{x}<br>Trend=%{y}<extra></extra>\",\"legendgroup\":\"S\",\"marker\":{\"color\":\"#8C564B\",\"symbol\":\"circle\"},\"mode\":\"markers\",\"name\":\"S\",\"orientation\":\"v\",\"showlegend\":true,\"x\":[15.12,4.67,5.55,5.92,4.78,6.36,6.21,4.89,4.92,6.06,11.46,6.48,7.86,4.17,6.61,5.49,6.64,5.03,12.21,5.96,5.26,4.4,8.26,5.5,5.92,10.77,6.86,6.05,5.6,2.91,4.99,5.62,4.37,9.12,6.82,4.81,7.67],\"xaxis\":\"x\",\"y\":[4.14,2.59,0.38,1.61,0.16,0.3,4.1,3.5,2.58,1.7,-16.54,-2.15,2.24,-2.81,-21.94,-0.02,-0.46,-0.11,-4.87,5.31,-5.88,-1.99,4.07,-9.71,0.83,-4.91,1.54,0.03,-1.71,1.12,-5.09,1.97,-1.71,5.05,-1.12,1.88,-4.32],\"yaxis\":\"y\",\"type\":\"scatter\"},{\"alignmentgroup\":\"True\",\"hovertemplate\":\"Tier=S<br>Pick %=%{x}<extra></extra>\",\"legendgroup\":\"S\",\"marker\":{\"color\":\"#8C564B\",\"symbol\":\"circle\"},\"name\":\"S\",\"notched\":true,\"offsetgroup\":\"S\",\"showlegend\":false,\"x\":[15.12,4.67,5.55,5.92,4.78,6.36,6.21,4.89,4.92,6.06,11.46,6.48,7.86,4.17,6.61,5.49,6.64,5.03,12.21,5.96,5.26,4.4,8.26,5.5,5.92,10.77,6.86,6.05,5.6,2.91,4.99,5.62,4.37,9.12,6.82,4.81,7.67],\"xaxis\":\"x3\",\"yaxis\":\"y3\",\"type\":\"box\"},{\"alignmentgroup\":\"True\",\"hovertemplate\":\"Tier=S<br>Trend=%{y}<extra></extra>\",\"legendgroup\":\"S\",\"marker\":{\"color\":\"#8C564B\",\"symbol\":\"circle\"},\"name\":\"S\",\"offsetgroup\":\"S\",\"scalegroup\":\"y\",\"showlegend\":false,\"xaxis\":\"x2\",\"y\":[4.14,2.59,0.38,1.61,0.16,0.3,4.1,3.5,2.58,1.7,-16.54,-2.15,2.24,-2.81,-21.94,-0.02,-0.46,-0.11,-4.87,5.31,-5.88,-1.99,4.07,-9.71,0.83,-4.91,1.54,0.03,-1.71,1.12,-5.09,1.97,-1.71,5.05,-1.12,1.88,-4.32],\"yaxis\":\"y2\",\"type\":\"violin\"}],                        {\"template\":{\"data\":{\"barpolar\":[{\"marker\":{\"line\":{\"color\":\"white\",\"width\":0.5},\"pattern\":{\"fillmode\":\"overlay\",\"size\":10,\"solidity\":0.2}},\"type\":\"barpolar\"}],\"bar\":[{\"error_x\":{\"color\":\"rgb(36,36,36)\"},\"error_y\":{\"color\":\"rgb(36,36,36)\"},\"marker\":{\"line\":{\"color\":\"white\",\"width\":0.5},\"pattern\":{\"fillmode\":\"overlay\",\"size\":10,\"solidity\":0.2}},\"type\":\"bar\"}],\"carpet\":[{\"aaxis\":{\"endlinecolor\":\"rgb(36,36,36)\",\"gridcolor\":\"white\",\"linecolor\":\"white\",\"minorgridcolor\":\"white\",\"startlinecolor\":\"rgb(36,36,36)\"},\"baxis\":{\"endlinecolor\":\"rgb(36,36,36)\",\"gridcolor\":\"white\",\"linecolor\":\"white\",\"minorgridcolor\":\"white\",\"startlinecolor\":\"rgb(36,36,36)\"},\"type\":\"carpet\"}],\"choropleth\":[{\"colorbar\":{\"outlinewidth\":1,\"tickcolor\":\"rgb(36,36,36)\",\"ticks\":\"outside\"},\"type\":\"choropleth\"}],\"contourcarpet\":[{\"colorbar\":{\"outlinewidth\":1,\"tickcolor\":\"rgb(36,36,36)\",\"ticks\":\"outside\"},\"type\":\"contourcarpet\"}],\"contour\":[{\"colorbar\":{\"outlinewidth\":1,\"tickcolor\":\"rgb(36,36,36)\",\"ticks\":\"outside\"},\"colorscale\":[[0.0,\"#440154\"],[0.1111111111111111,\"#482878\"],[0.2222222222222222,\"#3e4989\"],[0.3333333333333333,\"#31688e\"],[0.4444444444444444,\"#26828e\"],[0.5555555555555556,\"#1f9e89\"],[0.6666666666666666,\"#35b779\"],[0.7777777777777778,\"#6ece58\"],[0.8888888888888888,\"#b5de2b\"],[1.0,\"#fde725\"]],\"type\":\"contour\"}],\"heatmapgl\":[{\"colorbar\":{\"outlinewidth\":1,\"tickcolor\":\"rgb(36,36,36)\",\"ticks\":\"outside\"},\"colorscale\":[[0.0,\"#440154\"],[0.1111111111111111,\"#482878\"],[0.2222222222222222,\"#3e4989\"],[0.3333333333333333,\"#31688e\"],[0.4444444444444444,\"#26828e\"],[0.5555555555555556,\"#1f9e89\"],[0.6666666666666666,\"#35b779\"],[0.7777777777777778,\"#6ece58\"],[0.8888888888888888,\"#b5de2b\"],[1.0,\"#fde725\"]],\"type\":\"heatmapgl\"}],\"heatmap\":[{\"colorbar\":{\"outlinewidth\":1,\"tickcolor\":\"rgb(36,36,36)\",\"ticks\":\"outside\"},\"colorscale\":[[0.0,\"#440154\"],[0.1111111111111111,\"#482878\"],[0.2222222222222222,\"#3e4989\"],[0.3333333333333333,\"#31688e\"],[0.4444444444444444,\"#26828e\"],[0.5555555555555556,\"#1f9e89\"],[0.6666666666666666,\"#35b779\"],[0.7777777777777778,\"#6ece58\"],[0.8888888888888888,\"#b5de2b\"],[1.0,\"#fde725\"]],\"type\":\"heatmap\"}],\"histogram2dcontour\":[{\"colorbar\":{\"outlinewidth\":1,\"tickcolor\":\"rgb(36,36,36)\",\"ticks\":\"outside\"},\"colorscale\":[[0.0,\"#440154\"],[0.1111111111111111,\"#482878\"],[0.2222222222222222,\"#3e4989\"],[0.3333333333333333,\"#31688e\"],[0.4444444444444444,\"#26828e\"],[0.5555555555555556,\"#1f9e89\"],[0.6666666666666666,\"#35b779\"],[0.7777777777777778,\"#6ece58\"],[0.8888888888888888,\"#b5de2b\"],[1.0,\"#fde725\"]],\"type\":\"histogram2dcontour\"}],\"histogram2d\":[{\"colorbar\":{\"outlinewidth\":1,\"tickcolor\":\"rgb(36,36,36)\",\"ticks\":\"outside\"},\"colorscale\":[[0.0,\"#440154\"],[0.1111111111111111,\"#482878\"],[0.2222222222222222,\"#3e4989\"],[0.3333333333333333,\"#31688e\"],[0.4444444444444444,\"#26828e\"],[0.5555555555555556,\"#1f9e89\"],[0.6666666666666666,\"#35b779\"],[0.7777777777777778,\"#6ece58\"],[0.8888888888888888,\"#b5de2b\"],[1.0,\"#fde725\"]],\"type\":\"histogram2d\"}],\"histogram\":[{\"marker\":{\"line\":{\"color\":\"white\",\"width\":0.6}},\"type\":\"histogram\"}],\"mesh3d\":[{\"colorbar\":{\"outlinewidth\":1,\"tickcolor\":\"rgb(36,36,36)\",\"ticks\":\"outside\"},\"type\":\"mesh3d\"}],\"parcoords\":[{\"line\":{\"colorbar\":{\"outlinewidth\":1,\"tickcolor\":\"rgb(36,36,36)\",\"ticks\":\"outside\"}},\"type\":\"parcoords\"}],\"pie\":[{\"automargin\":true,\"type\":\"pie\"}],\"scatter3d\":[{\"line\":{\"colorbar\":{\"outlinewidth\":1,\"tickcolor\":\"rgb(36,36,36)\",\"ticks\":\"outside\"}},\"marker\":{\"colorbar\":{\"outlinewidth\":1,\"tickcolor\":\"rgb(36,36,36)\",\"ticks\":\"outside\"}},\"type\":\"scatter3d\"}],\"scattercarpet\":[{\"marker\":{\"colorbar\":{\"outlinewidth\":1,\"tickcolor\":\"rgb(36,36,36)\",\"ticks\":\"outside\"}},\"type\":\"scattercarpet\"}],\"scattergeo\":[{\"marker\":{\"colorbar\":{\"outlinewidth\":1,\"tickcolor\":\"rgb(36,36,36)\",\"ticks\":\"outside\"}},\"type\":\"scattergeo\"}],\"scattergl\":[{\"marker\":{\"colorbar\":{\"outlinewidth\":1,\"tickcolor\":\"rgb(36,36,36)\",\"ticks\":\"outside\"}},\"type\":\"scattergl\"}],\"scattermapbox\":[{\"marker\":{\"colorbar\":{\"outlinewidth\":1,\"tickcolor\":\"rgb(36,36,36)\",\"ticks\":\"outside\"}},\"type\":\"scattermapbox\"}],\"scatterpolargl\":[{\"marker\":{\"colorbar\":{\"outlinewidth\":1,\"tickcolor\":\"rgb(36,36,36)\",\"ticks\":\"outside\"}},\"type\":\"scatterpolargl\"}],\"scatterpolar\":[{\"marker\":{\"colorbar\":{\"outlinewidth\":1,\"tickcolor\":\"rgb(36,36,36)\",\"ticks\":\"outside\"}},\"type\":\"scatterpolar\"}],\"scatter\":[{\"fillpattern\":{\"fillmode\":\"overlay\",\"size\":10,\"solidity\":0.2},\"type\":\"scatter\"}],\"scatterternary\":[{\"marker\":{\"colorbar\":{\"outlinewidth\":1,\"tickcolor\":\"rgb(36,36,36)\",\"ticks\":\"outside\"}},\"type\":\"scatterternary\"}],\"surface\":[{\"colorbar\":{\"outlinewidth\":1,\"tickcolor\":\"rgb(36,36,36)\",\"ticks\":\"outside\"},\"colorscale\":[[0.0,\"#440154\"],[0.1111111111111111,\"#482878\"],[0.2222222222222222,\"#3e4989\"],[0.3333333333333333,\"#31688e\"],[0.4444444444444444,\"#26828e\"],[0.5555555555555556,\"#1f9e89\"],[0.6666666666666666,\"#35b779\"],[0.7777777777777778,\"#6ece58\"],[0.8888888888888888,\"#b5de2b\"],[1.0,\"#fde725\"]],\"type\":\"surface\"}],\"table\":[{\"cells\":{\"fill\":{\"color\":\"rgb(237,237,237)\"},\"line\":{\"color\":\"white\"}},\"header\":{\"fill\":{\"color\":\"rgb(217,217,217)\"},\"line\":{\"color\":\"white\"}},\"type\":\"table\"}]},\"layout\":{\"annotationdefaults\":{\"arrowhead\":0,\"arrowwidth\":1},\"autotypenumbers\":\"strict\",\"coloraxis\":{\"colorbar\":{\"outlinewidth\":1,\"tickcolor\":\"rgb(36,36,36)\",\"ticks\":\"outside\"}},\"colorscale\":{\"diverging\":[[0.0,\"rgb(103,0,31)\"],[0.1,\"rgb(178,24,43)\"],[0.2,\"rgb(214,96,77)\"],[0.3,\"rgb(244,165,130)\"],[0.4,\"rgb(253,219,199)\"],[0.5,\"rgb(247,247,247)\"],[0.6,\"rgb(209,229,240)\"],[0.7,\"rgb(146,197,222)\"],[0.8,\"rgb(67,147,195)\"],[0.9,\"rgb(33,102,172)\"],[1.0,\"rgb(5,48,97)\"]],\"sequential\":[[0.0,\"#440154\"],[0.1111111111111111,\"#482878\"],[0.2222222222222222,\"#3e4989\"],[0.3333333333333333,\"#31688e\"],[0.4444444444444444,\"#26828e\"],[0.5555555555555556,\"#1f9e89\"],[0.6666666666666666,\"#35b779\"],[0.7777777777777778,\"#6ece58\"],[0.8888888888888888,\"#b5de2b\"],[1.0,\"#fde725\"]],\"sequentialminus\":[[0.0,\"#440154\"],[0.1111111111111111,\"#482878\"],[0.2222222222222222,\"#3e4989\"],[0.3333333333333333,\"#31688e\"],[0.4444444444444444,\"#26828e\"],[0.5555555555555556,\"#1f9e89\"],[0.6666666666666666,\"#35b779\"],[0.7777777777777778,\"#6ece58\"],[0.8888888888888888,\"#b5de2b\"],[1.0,\"#fde725\"]]},\"colorway\":[\"#1F77B4\",\"#FF7F0E\",\"#2CA02C\",\"#D62728\",\"#9467BD\",\"#8C564B\",\"#E377C2\",\"#7F7F7F\",\"#BCBD22\",\"#17BECF\"],\"font\":{\"color\":\"rgb(36,36,36)\"},\"geo\":{\"bgcolor\":\"white\",\"lakecolor\":\"white\",\"landcolor\":\"white\",\"showlakes\":true,\"showland\":true,\"subunitcolor\":\"white\"},\"hoverlabel\":{\"align\":\"left\"},\"hovermode\":\"closest\",\"mapbox\":{\"style\":\"light\"},\"paper_bgcolor\":\"white\",\"plot_bgcolor\":\"white\",\"polar\":{\"angularaxis\":{\"gridcolor\":\"rgb(232,232,232)\",\"linecolor\":\"rgb(36,36,36)\",\"showgrid\":false,\"showline\":true,\"ticks\":\"outside\"},\"bgcolor\":\"white\",\"radialaxis\":{\"gridcolor\":\"rgb(232,232,232)\",\"linecolor\":\"rgb(36,36,36)\",\"showgrid\":false,\"showline\":true,\"ticks\":\"outside\"}},\"scene\":{\"xaxis\":{\"backgroundcolor\":\"white\",\"gridcolor\":\"rgb(232,232,232)\",\"gridwidth\":2,\"linecolor\":\"rgb(36,36,36)\",\"showbackground\":true,\"showgrid\":false,\"showline\":true,\"ticks\":\"outside\",\"zeroline\":false,\"zerolinecolor\":\"rgb(36,36,36)\"},\"yaxis\":{\"backgroundcolor\":\"white\",\"gridcolor\":\"rgb(232,232,232)\",\"gridwidth\":2,\"linecolor\":\"rgb(36,36,36)\",\"showbackground\":true,\"showgrid\":false,\"showline\":true,\"ticks\":\"outside\",\"zeroline\":false,\"zerolinecolor\":\"rgb(36,36,36)\"},\"zaxis\":{\"backgroundcolor\":\"white\",\"gridcolor\":\"rgb(232,232,232)\",\"gridwidth\":2,\"linecolor\":\"rgb(36,36,36)\",\"showbackground\":true,\"showgrid\":false,\"showline\":true,\"ticks\":\"outside\",\"zeroline\":false,\"zerolinecolor\":\"rgb(36,36,36)\"}},\"shapedefaults\":{\"fillcolor\":\"black\",\"line\":{\"width\":0},\"opacity\":0.3},\"ternary\":{\"aaxis\":{\"gridcolor\":\"rgb(232,232,232)\",\"linecolor\":\"rgb(36,36,36)\",\"showgrid\":false,\"showline\":true,\"ticks\":\"outside\"},\"baxis\":{\"gridcolor\":\"rgb(232,232,232)\",\"linecolor\":\"rgb(36,36,36)\",\"showgrid\":false,\"showline\":true,\"ticks\":\"outside\"},\"bgcolor\":\"white\",\"caxis\":{\"gridcolor\":\"rgb(232,232,232)\",\"linecolor\":\"rgb(36,36,36)\",\"showgrid\":false,\"showline\":true,\"ticks\":\"outside\"}},\"title\":{\"x\":0.05},\"xaxis\":{\"automargin\":true,\"gridcolor\":\"rgb(232,232,232)\",\"linecolor\":\"rgb(36,36,36)\",\"showgrid\":false,\"showline\":true,\"ticks\":\"outside\",\"title\":{\"standoff\":15},\"zeroline\":false,\"zerolinecolor\":\"rgb(36,36,36)\"},\"yaxis\":{\"automargin\":true,\"gridcolor\":\"rgb(232,232,232)\",\"linecolor\":\"rgb(36,36,36)\",\"showgrid\":false,\"showline\":true,\"ticks\":\"outside\",\"title\":{\"standoff\":15},\"zeroline\":false,\"zerolinecolor\":\"rgb(36,36,36)\"}}},\"xaxis\":{\"anchor\":\"y\",\"domain\":[0.0,0.7363],\"title\":{\"text\":\"Pick %\"}},\"yaxis\":{\"anchor\":\"x\",\"domain\":[0.0,0.7326],\"title\":{\"text\":\"Trend\"}},\"xaxis2\":{\"anchor\":\"y2\",\"domain\":[0.7413,1.0],\"matches\":\"x2\",\"showticklabels\":false,\"showline\":false,\"ticks\":\"\"},\"yaxis2\":{\"anchor\":\"x2\",\"domain\":[0.0,0.7326],\"matches\":\"y\",\"showticklabels\":false},\"xaxis3\":{\"anchor\":\"y3\",\"domain\":[0.0,0.7363],\"matches\":\"x\",\"showticklabels\":false},\"yaxis3\":{\"anchor\":\"x3\",\"domain\":[0.7426,1.0],\"matches\":\"y3\",\"showticklabels\":false,\"showline\":false,\"ticks\":\"\"},\"xaxis4\":{\"anchor\":\"y4\",\"domain\":[0.7413,1.0],\"matches\":\"x2\",\"showticklabels\":false,\"showline\":false,\"ticks\":\"\"},\"yaxis4\":{\"anchor\":\"x4\",\"domain\":[0.7426,1.0],\"matches\":\"y3\",\"showticklabels\":false,\"showline\":false,\"ticks\":\"\"},\"legend\":{\"title\":{\"text\":\"Tier\"},\"tracegroupgap\":0},\"margin\":{\"t\":60}},                        {\"responsive\": true}                    ).then(function(){\n",
       "                            \n",
       "var gd = document.getElementById('62aeb84b-c8da-46c6-9e5c-5028fa648a9a');\n",
       "var x = new MutationObserver(function (mutations, observer) {{\n",
       "        var display = window.getComputedStyle(gd).display;\n",
       "        if (!display || display === 'none') {{\n",
       "            console.log([gd, 'removed!']);\n",
       "            Plotly.purge(gd);\n",
       "            observer.disconnect();\n",
       "        }}\n",
       "}});\n",
       "\n",
       "// Listen for the removal of the full notebook cells\n",
       "var notebookContainer = gd.closest('#notebook-container');\n",
       "if (notebookContainer) {{\n",
       "    x.observe(notebookContainer, {childList: true});\n",
       "}}\n",
       "\n",
       "// Listen for the clearing of the current output cell\n",
       "var outputEl = gd.closest('.output');\n",
       "if (outputEl) {{\n",
       "    x.observe(outputEl, {childList: true});\n",
       "}}\n",
       "\n",
       "                        })                };                            </script>        </div>\n",
       "</body>\n",
       "</html>"
      ]
     },
     "metadata": {},
     "output_type": "display_data"
    }
   ],
   "source": [
    "#Wanted to create a graph that also included boxplots/similar plots to a boxplot. Reference #5\n",
    "fig = px.scatter(df, x=\"Pick %\", y=\"Trend\", color=\"Tier\", marginal_x=\"box\", marginal_y=\"violin\", template=\"simple_white\")\n",
    "fig.show()"
   ]
  },
  {
   "cell_type": "markdown",
   "metadata": {
    "cell_id": "148341d0f35447d8aef56e9c376614af",
    "deepnote_cell_type": "markdown"
   },
   "source": [
    "Here we are exploring the Pick % and Trend all champion tiers. It seems like low champion tiers have low pick % and have trends usually ranging between -10 and 10, with some points being outside the interval. Of course, the GOD tier champions have some higher Pick % (rate) and trends compared to the others. At the top are boxplots where we can see the pick % min,max,median,etc of the different tiers. At the right, we can see violin plots which also allows min,max,median,etc but for Trend."
   ]
  },
  {
   "cell_type": "markdown",
   "metadata": {
    "cell_id": "1ef0e7010d714077a67b52e59e16146f",
    "deepnote_cell_type": "markdown"
   },
   "source": [
    "## Plots"
   ]
  },
  {
   "cell_type": "markdown",
   "metadata": {
    "cell_id": "9f6dfebfd3c34e499aa78d566349a9fb",
    "deepnote_cell_type": "markdown"
   },
   "source": [
    "### What are the best and worst champions in each tier?"
   ]
  },
  {
   "cell_type": "code",
   "execution_count": 66,
   "metadata": {
    "cell_id": "555e40eeefe34c85bae498524261cff1",
    "deepnote_cell_type": "code",
    "deepnote_to_be_reexecuted": false,
    "execution_millis": 286,
    "execution_start": 1695796839157,
    "source_hash": "8c783436"
   },
   "outputs": [
    {
     "data": {
      "text/html": [
       "<html>\n",
       "<head><meta charset=\"utf-8\" /></head>\n",
       "<body>\n",
       "    <div>            <script src=\"https://cdnjs.cloudflare.com/ajax/libs/mathjax/2.7.5/MathJax.js?config=TeX-AMS-MML_SVG\"></script><script type=\"text/javascript\">if (window.MathJax && window.MathJax.Hub && window.MathJax.Hub.Config) {window.MathJax.Hub.Config({SVG: {font: \"STIX-Web\"}});}</script>                <script type=\"text/javascript\">window.PlotlyConfig = {MathJaxConfig: 'local'};</script>\n",
       "        <script src=\"https://cdn.plot.ly/plotly-2.14.0.min.js\"></script>                <div id=\"fa3aeeaa-8d79-48a4-836d-11522f1241ed\" class=\"plotly-graph-div\" style=\"height:525px; width:100%;\"></div>            <script type=\"text/javascript\">                                    window.PLOTLYENV=window.PLOTLYENV || {};                                    if (document.getElementById(\"fa3aeeaa-8d79-48a4-836d-11522f1241ed\")) {                    Plotly.newPlot(                        \"fa3aeeaa-8d79-48a4-836d-11522f1241ed\",                        [{\"alignmentgroup\":\"True\",\"hovertemplate\":\"Tier=A<br>Name=%{x}<br>Score=%{y}<extra></extra>\",\"legendgroup\":\"A\",\"marker\":{\"color\":\"#636efa\",\"pattern\":{\"shape\":\"\"}},\"name\":\"A\",\"offsetgroup\":\"A\",\"orientation\":\"v\",\"showlegend\":true,\"textposition\":\"auto\",\"x\":[\"Qiyana\",\"Nocturne\"],\"xaxis\":\"x\",\"y\":[47.41,56.43],\"yaxis\":\"y\",\"type\":\"bar\"},{\"alignmentgroup\":\"True\",\"hovertemplate\":\"Tier=B<br>Name=%{x}<br>Score=%{y}<extra></extra>\",\"legendgroup\":\"B\",\"marker\":{\"color\":\"#EF553B\",\"pattern\":{\"shape\":\"\"}},\"name\":\"B\",\"offsetgroup\":\"B\",\"orientation\":\"v\",\"showlegend\":true,\"textposition\":\"auto\",\"x\":[\"Brand\",\"Braum\"],\"xaxis\":\"x\",\"y\":[40.08,47.38],\"yaxis\":\"y\",\"type\":\"bar\"},{\"alignmentgroup\":\"True\",\"hovertemplate\":\"Tier=C<br>Name=%{x}<br>Score=%{y}<extra></extra>\",\"legendgroup\":\"C\",\"marker\":{\"color\":\"#00cc96\",\"pattern\":{\"shape\":\"\"}},\"name\":\"C\",\"offsetgroup\":\"C\",\"orientation\":\"v\",\"showlegend\":true,\"textposition\":\"auto\",\"x\":[\"Vladimir\",\"Rengar\"],\"xaxis\":\"x\",\"y\":[34.53,39.96],\"yaxis\":\"y\",\"type\":\"bar\"},{\"alignmentgroup\":\"True\",\"hovertemplate\":\"Tier=D<br>Name=%{x}<br>Score=%{y}<extra></extra>\",\"legendgroup\":\"D\",\"marker\":{\"color\":\"#ab63fa\",\"pattern\":{\"shape\":\"\"}},\"name\":\"D\",\"offsetgroup\":\"D\",\"orientation\":\"v\",\"showlegend\":true,\"textposition\":\"auto\",\"x\":[\"Qiyana\",\"Volibear\"],\"xaxis\":\"x\",\"y\":[20.78,33.68],\"yaxis\":\"y\",\"type\":\"bar\"},{\"alignmentgroup\":\"True\",\"hovertemplate\":\"Tier=God<br>Name=%{x}<br>Score=%{y}<extra></extra>\",\"legendgroup\":\"God\",\"marker\":{\"color\":\"#FFA15A\",\"pattern\":{\"shape\":\"\"}},\"name\":\"God\",\"offsetgroup\":\"God\",\"orientation\":\"v\",\"showlegend\":true,\"textposition\":\"auto\",\"x\":[\"Rakan\",\"Kai'Sa\"],\"xaxis\":\"x\",\"y\":[70.91,92.98],\"yaxis\":\"y\",\"type\":\"bar\"},{\"alignmentgroup\":\"True\",\"hovertemplate\":\"Tier=S<br>Name=%{x}<br>Score=%{y}<extra></extra>\",\"legendgroup\":\"S\",\"marker\":{\"color\":\"#19d3f3\",\"pattern\":{\"shape\":\"\"}},\"name\":\"S\",\"offsetgroup\":\"S\",\"orientation\":\"v\",\"showlegend\":true,\"textposition\":\"auto\",\"x\":[\"Sion\",\"Garen\"],\"xaxis\":\"x\",\"y\":[57.0,70.64],\"yaxis\":\"y\",\"type\":\"bar\"}],                        {\"template\":{\"data\":{\"histogram2dcontour\":[{\"type\":\"histogram2dcontour\",\"colorbar\":{\"outlinewidth\":0,\"ticks\":\"\"},\"colorscale\":[[0.0,\"#0d0887\"],[0.1111111111111111,\"#46039f\"],[0.2222222222222222,\"#7201a8\"],[0.3333333333333333,\"#9c179e\"],[0.4444444444444444,\"#bd3786\"],[0.5555555555555556,\"#d8576b\"],[0.6666666666666666,\"#ed7953\"],[0.7777777777777778,\"#fb9f3a\"],[0.8888888888888888,\"#fdca26\"],[1.0,\"#f0f921\"]]}],\"choropleth\":[{\"type\":\"choropleth\",\"colorbar\":{\"outlinewidth\":0,\"ticks\":\"\"}}],\"histogram2d\":[{\"type\":\"histogram2d\",\"colorbar\":{\"outlinewidth\":0,\"ticks\":\"\"},\"colorscale\":[[0.0,\"#0d0887\"],[0.1111111111111111,\"#46039f\"],[0.2222222222222222,\"#7201a8\"],[0.3333333333333333,\"#9c179e\"],[0.4444444444444444,\"#bd3786\"],[0.5555555555555556,\"#d8576b\"],[0.6666666666666666,\"#ed7953\"],[0.7777777777777778,\"#fb9f3a\"],[0.8888888888888888,\"#fdca26\"],[1.0,\"#f0f921\"]]}],\"heatmap\":[{\"type\":\"heatmap\",\"colorbar\":{\"outlinewidth\":0,\"ticks\":\"\"},\"colorscale\":[[0.0,\"#0d0887\"],[0.1111111111111111,\"#46039f\"],[0.2222222222222222,\"#7201a8\"],[0.3333333333333333,\"#9c179e\"],[0.4444444444444444,\"#bd3786\"],[0.5555555555555556,\"#d8576b\"],[0.6666666666666666,\"#ed7953\"],[0.7777777777777778,\"#fb9f3a\"],[0.8888888888888888,\"#fdca26\"],[1.0,\"#f0f921\"]]}],\"heatmapgl\":[{\"type\":\"heatmapgl\",\"colorbar\":{\"outlinewidth\":0,\"ticks\":\"\"},\"colorscale\":[[0.0,\"#0d0887\"],[0.1111111111111111,\"#46039f\"],[0.2222222222222222,\"#7201a8\"],[0.3333333333333333,\"#9c179e\"],[0.4444444444444444,\"#bd3786\"],[0.5555555555555556,\"#d8576b\"],[0.6666666666666666,\"#ed7953\"],[0.7777777777777778,\"#fb9f3a\"],[0.8888888888888888,\"#fdca26\"],[1.0,\"#f0f921\"]]}],\"contourcarpet\":[{\"type\":\"contourcarpet\",\"colorbar\":{\"outlinewidth\":0,\"ticks\":\"\"}}],\"contour\":[{\"type\":\"contour\",\"colorbar\":{\"outlinewidth\":0,\"ticks\":\"\"},\"colorscale\":[[0.0,\"#0d0887\"],[0.1111111111111111,\"#46039f\"],[0.2222222222222222,\"#7201a8\"],[0.3333333333333333,\"#9c179e\"],[0.4444444444444444,\"#bd3786\"],[0.5555555555555556,\"#d8576b\"],[0.6666666666666666,\"#ed7953\"],[0.7777777777777778,\"#fb9f3a\"],[0.8888888888888888,\"#fdca26\"],[1.0,\"#f0f921\"]]}],\"surface\":[{\"type\":\"surface\",\"colorbar\":{\"outlinewidth\":0,\"ticks\":\"\"},\"colorscale\":[[0.0,\"#0d0887\"],[0.1111111111111111,\"#46039f\"],[0.2222222222222222,\"#7201a8\"],[0.3333333333333333,\"#9c179e\"],[0.4444444444444444,\"#bd3786\"],[0.5555555555555556,\"#d8576b\"],[0.6666666666666666,\"#ed7953\"],[0.7777777777777778,\"#fb9f3a\"],[0.8888888888888888,\"#fdca26\"],[1.0,\"#f0f921\"]]}],\"mesh3d\":[{\"type\":\"mesh3d\",\"colorbar\":{\"outlinewidth\":0,\"ticks\":\"\"}}],\"scatter\":[{\"fillpattern\":{\"fillmode\":\"overlay\",\"size\":10,\"solidity\":0.2},\"type\":\"scatter\"}],\"parcoords\":[{\"type\":\"parcoords\",\"line\":{\"colorbar\":{\"outlinewidth\":0,\"ticks\":\"\"}}}],\"scatterpolargl\":[{\"type\":\"scatterpolargl\",\"marker\":{\"colorbar\":{\"outlinewidth\":0,\"ticks\":\"\"}}}],\"bar\":[{\"error_x\":{\"color\":\"#2a3f5f\"},\"error_y\":{\"color\":\"#2a3f5f\"},\"marker\":{\"line\":{\"color\":\"#E5ECF6\",\"width\":0.5},\"pattern\":{\"fillmode\":\"overlay\",\"size\":10,\"solidity\":0.2}},\"type\":\"bar\"}],\"scattergeo\":[{\"type\":\"scattergeo\",\"marker\":{\"colorbar\":{\"outlinewidth\":0,\"ticks\":\"\"}}}],\"scatterpolar\":[{\"type\":\"scatterpolar\",\"marker\":{\"colorbar\":{\"outlinewidth\":0,\"ticks\":\"\"}}}],\"histogram\":[{\"marker\":{\"pattern\":{\"fillmode\":\"overlay\",\"size\":10,\"solidity\":0.2}},\"type\":\"histogram\"}],\"scattergl\":[{\"type\":\"scattergl\",\"marker\":{\"colorbar\":{\"outlinewidth\":0,\"ticks\":\"\"}}}],\"scatter3d\":[{\"type\":\"scatter3d\",\"line\":{\"colorbar\":{\"outlinewidth\":0,\"ticks\":\"\"}},\"marker\":{\"colorbar\":{\"outlinewidth\":0,\"ticks\":\"\"}}}],\"scattermapbox\":[{\"type\":\"scattermapbox\",\"marker\":{\"colorbar\":{\"outlinewidth\":0,\"ticks\":\"\"}}}],\"scatterternary\":[{\"type\":\"scatterternary\",\"marker\":{\"colorbar\":{\"outlinewidth\":0,\"ticks\":\"\"}}}],\"scattercarpet\":[{\"type\":\"scattercarpet\",\"marker\":{\"colorbar\":{\"outlinewidth\":0,\"ticks\":\"\"}}}],\"carpet\":[{\"aaxis\":{\"endlinecolor\":\"#2a3f5f\",\"gridcolor\":\"white\",\"linecolor\":\"white\",\"minorgridcolor\":\"white\",\"startlinecolor\":\"#2a3f5f\"},\"baxis\":{\"endlinecolor\":\"#2a3f5f\",\"gridcolor\":\"white\",\"linecolor\":\"white\",\"minorgridcolor\":\"white\",\"startlinecolor\":\"#2a3f5f\"},\"type\":\"carpet\"}],\"table\":[{\"cells\":{\"fill\":{\"color\":\"#EBF0F8\"},\"line\":{\"color\":\"white\"}},\"header\":{\"fill\":{\"color\":\"#C8D4E3\"},\"line\":{\"color\":\"white\"}},\"type\":\"table\"}],\"barpolar\":[{\"marker\":{\"line\":{\"color\":\"#E5ECF6\",\"width\":0.5},\"pattern\":{\"fillmode\":\"overlay\",\"size\":10,\"solidity\":0.2}},\"type\":\"barpolar\"}],\"pie\":[{\"automargin\":true,\"type\":\"pie\"}]},\"layout\":{\"autotypenumbers\":\"strict\",\"colorway\":[\"#636efa\",\"#EF553B\",\"#00cc96\",\"#ab63fa\",\"#FFA15A\",\"#19d3f3\",\"#FF6692\",\"#B6E880\",\"#FF97FF\",\"#FECB52\"],\"font\":{\"color\":\"#2a3f5f\"},\"hovermode\":\"closest\",\"hoverlabel\":{\"align\":\"left\"},\"paper_bgcolor\":\"white\",\"plot_bgcolor\":\"#E5ECF6\",\"polar\":{\"bgcolor\":\"#E5ECF6\",\"angularaxis\":{\"gridcolor\":\"white\",\"linecolor\":\"white\",\"ticks\":\"\"},\"radialaxis\":{\"gridcolor\":\"white\",\"linecolor\":\"white\",\"ticks\":\"\"}},\"ternary\":{\"bgcolor\":\"#E5ECF6\",\"aaxis\":{\"gridcolor\":\"white\",\"linecolor\":\"white\",\"ticks\":\"\"},\"baxis\":{\"gridcolor\":\"white\",\"linecolor\":\"white\",\"ticks\":\"\"},\"caxis\":{\"gridcolor\":\"white\",\"linecolor\":\"white\",\"ticks\":\"\"}},\"coloraxis\":{\"colorbar\":{\"outlinewidth\":0,\"ticks\":\"\"}},\"colorscale\":{\"sequential\":[[0.0,\"#0d0887\"],[0.1111111111111111,\"#46039f\"],[0.2222222222222222,\"#7201a8\"],[0.3333333333333333,\"#9c179e\"],[0.4444444444444444,\"#bd3786\"],[0.5555555555555556,\"#d8576b\"],[0.6666666666666666,\"#ed7953\"],[0.7777777777777778,\"#fb9f3a\"],[0.8888888888888888,\"#fdca26\"],[1.0,\"#f0f921\"]],\"sequentialminus\":[[0.0,\"#0d0887\"],[0.1111111111111111,\"#46039f\"],[0.2222222222222222,\"#7201a8\"],[0.3333333333333333,\"#9c179e\"],[0.4444444444444444,\"#bd3786\"],[0.5555555555555556,\"#d8576b\"],[0.6666666666666666,\"#ed7953\"],[0.7777777777777778,\"#fb9f3a\"],[0.8888888888888888,\"#fdca26\"],[1.0,\"#f0f921\"]],\"diverging\":[[0,\"#8e0152\"],[0.1,\"#c51b7d\"],[0.2,\"#de77ae\"],[0.3,\"#f1b6da\"],[0.4,\"#fde0ef\"],[0.5,\"#f7f7f7\"],[0.6,\"#e6f5d0\"],[0.7,\"#b8e186\"],[0.8,\"#7fbc41\"],[0.9,\"#4d9221\"],[1,\"#276419\"]]},\"xaxis\":{\"gridcolor\":\"white\",\"linecolor\":\"white\",\"ticks\":\"\",\"title\":{\"standoff\":15},\"zerolinecolor\":\"white\",\"automargin\":true,\"zerolinewidth\":2},\"yaxis\":{\"gridcolor\":\"white\",\"linecolor\":\"white\",\"ticks\":\"\",\"title\":{\"standoff\":15},\"zerolinecolor\":\"white\",\"automargin\":true,\"zerolinewidth\":2},\"scene\":{\"xaxis\":{\"backgroundcolor\":\"#E5ECF6\",\"gridcolor\":\"white\",\"linecolor\":\"white\",\"showbackground\":true,\"ticks\":\"\",\"zerolinecolor\":\"white\",\"gridwidth\":2},\"yaxis\":{\"backgroundcolor\":\"#E5ECF6\",\"gridcolor\":\"white\",\"linecolor\":\"white\",\"showbackground\":true,\"ticks\":\"\",\"zerolinecolor\":\"white\",\"gridwidth\":2},\"zaxis\":{\"backgroundcolor\":\"#E5ECF6\",\"gridcolor\":\"white\",\"linecolor\":\"white\",\"showbackground\":true,\"ticks\":\"\",\"zerolinecolor\":\"white\",\"gridwidth\":2}},\"shapedefaults\":{\"line\":{\"color\":\"#2a3f5f\"}},\"annotationdefaults\":{\"arrowcolor\":\"#2a3f5f\",\"arrowhead\":0,\"arrowwidth\":1},\"geo\":{\"bgcolor\":\"white\",\"landcolor\":\"#E5ECF6\",\"subunitcolor\":\"white\",\"showland\":true,\"showlakes\":true,\"lakecolor\":\"white\"},\"title\":{\"x\":0.05},\"mapbox\":{\"style\":\"light\"}}},\"xaxis\":{\"anchor\":\"y\",\"domain\":[0.0,1.0],\"title\":{\"text\":\"Name\"}},\"yaxis\":{\"anchor\":\"x\",\"domain\":[0.0,1.0],\"title\":{\"text\":\"Score\"}},\"legend\":{\"title\":{\"text\":\"Tier\"},\"tracegroupgap\":0},\"margin\":{\"t\":60},\"barmode\":\"relative\"},                        {\"responsive\": true}                    ).then(function(){\n",
       "                            \n",
       "var gd = document.getElementById('fa3aeeaa-8d79-48a4-836d-11522f1241ed');\n",
       "var x = new MutationObserver(function (mutations, observer) {{\n",
       "        var display = window.getComputedStyle(gd).display;\n",
       "        if (!display || display === 'none') {{\n",
       "            console.log([gd, 'removed!']);\n",
       "            Plotly.purge(gd);\n",
       "            observer.disconnect();\n",
       "        }}\n",
       "}});\n",
       "\n",
       "// Listen for the removal of the full notebook cells\n",
       "var notebookContainer = gd.closest('#notebook-container');\n",
       "if (notebookContainer) {{\n",
       "    x.observe(notebookContainer, {childList: true});\n",
       "}}\n",
       "\n",
       "// Listen for the clearing of the current output cell\n",
       "var outputEl = gd.closest('.output');\n",
       "if (outputEl) {{\n",
       "    x.observe(outputEl, {childList: true});\n",
       "}}\n",
       "\n",
       "                        })                };                            </script>        </div>\n",
       "</body>\n",
       "</html>"
      ]
     },
     "metadata": {},
     "output_type": "display_data"
    }
   ],
   "source": [
    "#I wanted to create a graph on the best and worst champions but was having trouble on producing the code, so I browsed through the Kaggle notebooks and found this. Reference #6\n",
    "\n",
    "dfwoah = (df.groupby(\"Tier\").apply(lambda x: x.loc[x[\"Score\"].agg([\"idxmin\", \"idxmax\"])][[\"Score\", \"Name\", \"Role\", \"Win %\"]]))\n",
    "\n",
    "dfwoah = dfwoah.reset_index(level=1, drop=True).reset_index()\n",
    "\n",
    "px.bar(dfwoah, \"Name\", \"Score\", \"Tier\")"
   ]
  },
  {
   "cell_type": "markdown",
   "metadata": {
    "cell_id": "0e3752c020e04e82bd9c296e2121a394",
    "deepnote_cell_type": "markdown"
   },
   "source": [
    "The bar chart below shows the best and worst scoring champions of each tier. I grouped the color by tier to allow this. League has a variety of champions so of course, we should check out champions of other tiers as well. As the bar chart shows, the GOD tier champions still have the highest score compared to the other champions belonging to the other tiers out there. \n",
    "\n",
    "So, the God, S, and A tier champions increase one's chances of winning a League of Legends match, compared to the three other tiers. \n",
    "\n",
    "In this patch of 13.13, Kaisa and Rakan are the best champions in the patch as they are in the GOD tier, although Rakan has the worst score among the GOD tiers. The champions, Sion and Garen, are in S tier with of the highest scores after Kaisa and Rakan, so players could consider playing them in their match. Qiyana are Nocturne are also good for the patch as they are in the A tier and can could increase one's chances of victory in a match if they are played."
   ]
  },
  {
   "cell_type": "markdown",
   "metadata": {
    "cell_id": "eda5b2c31a2b443d86cad423838b7cbc",
    "deepnote_cell_type": "markdown"
   },
   "source": [
    "Since the GOD tier champions are the most powerful champions in the game, we will turn our attention to them. Below, are champions in the GOD tier of patch 13. The reason we are looking the GOD tier champions is because those champions, even with their score, are considered the appropriate champions to pick in the League patch of 13.13 to have a better chance of winning a match. Everyone on League of Legends wishes to know what the GOD tier champions are and which ones have a better score so they know which champion to play."
   ]
  },
  {
   "cell_type": "code",
   "execution_count": 67,
   "metadata": {
    "cell_id": "5f44538e55484390b604bf4de2138e92",
    "deepnote_cell_type": "code",
    "deepnote_to_be_reexecuted": false,
    "execution_millis": 314,
    "execution_start": 1695796839343,
    "source_hash": "ad06266b"
   },
   "outputs": [
    {
     "data": {
      "application/vnd.deepnote.dataframe.v3+json": {
       "column_count": 18,
       "columns": [
        {
         "dtype": "object",
         "name": "Name",
         "stats": {
          "categories": [
           {
            "count": 1,
            "name": "Aatrox"
           },
           {
            "count": 1,
            "name": "Ahri"
           },
           {
            "count": 22,
            "name": "22 others"
           }
          ],
          "nan_count": 0,
          "unique_count": 24
         }
        },
        {
         "dtype": "object",
         "name": "Class",
         "stats": {
          "categories": [
           {
            "count": 8,
            "name": "Fighter"
           },
           {
            "count": 4,
            "name": "Tank"
           },
           {
            "count": 12,
            "name": "4 others"
           }
          ],
          "nan_count": 0,
          "unique_count": 6
         }
        },
        {
         "dtype": "object",
         "name": "Role",
         "stats": {
          "categories": [
           {
            "count": 7,
            "name": "SUPPORT"
           },
           {
            "count": 6,
            "name": "TOP"
           },
           {
            "count": 11,
            "name": "3 others"
           }
          ],
          "nan_count": 0,
          "unique_count": 5
         }
        },
        {
         "dtype": "object",
         "name": "Tier",
         "stats": {
          "categories": [
           {
            "count": 24,
            "name": "God"
           }
          ],
          "nan_count": 0,
          "unique_count": 1
         }
        },
        {
         "dtype": "float64",
         "name": "Score",
         "stats": {
          "histogram": [
           {
            "bin_end": 73.11699999999999,
            "bin_start": 70.91,
            "count": 6
           },
           {
            "bin_end": 75.324,
            "bin_start": 73.11699999999999,
            "count": 1
           },
           {
            "bin_end": 77.531,
            "bin_start": 75.324,
            "count": 1
           },
           {
            "bin_end": 79.738,
            "bin_start": 77.531,
            "count": 2
           },
           {
            "bin_end": 81.945,
            "bin_start": 79.738,
            "count": 2
           },
           {
            "bin_end": 84.152,
            "bin_start": 81.945,
            "count": 2
           },
           {
            "bin_end": 86.35900000000001,
            "bin_start": 84.152,
            "count": 2
           },
           {
            "bin_end": 88.566,
            "bin_start": 86.35900000000001,
            "count": 1
           },
           {
            "bin_end": 90.773,
            "bin_start": 88.566,
            "count": 2
           },
           {
            "bin_end": 92.98,
            "bin_start": 90.773,
            "count": 5
           }
          ],
          "max": "92.98",
          "min": "70.91",
          "nan_count": 0,
          "unique_count": 24
         }
        },
        {
         "dtype": "float64",
         "name": "Trend",
         "stats": {
          "histogram": [
           {
            "bin_end": -16.462,
            "bin_start": -19.84,
            "count": 1
           },
           {
            "bin_end": -13.084,
            "bin_start": -16.462,
            "count": 0
           },
           {
            "bin_end": -9.706,
            "bin_start": -13.084,
            "count": 2
           },
           {
            "bin_end": -6.327999999999999,
            "bin_start": -9.706,
            "count": 0
           },
           {
            "bin_end": -2.9499999999999993,
            "bin_start": -6.327999999999999,
            "count": 3
           },
           {
            "bin_end": 0.4280000000000008,
            "bin_start": -2.9499999999999993,
            "count": 5
           },
           {
            "bin_end": 3.806000000000001,
            "bin_start": 0.4280000000000008,
            "count": 5
           },
           {
            "bin_end": 7.184000000000001,
            "bin_start": 3.806000000000001,
            "count": 2
           },
           {
            "bin_end": 10.562000000000001,
            "bin_start": 7.184000000000001,
            "count": 3
           },
           {
            "bin_end": 13.94,
            "bin_start": 10.562000000000001,
            "count": 3
           }
          ],
          "max": "13.94",
          "min": "-19.84",
          "nan_count": 0,
          "unique_count": 24
         }
        },
        {
         "dtype": "float64",
         "name": "Win %",
         "stats": {
          "histogram": [
           {
            "bin_end": 48.589000000000006,
            "bin_start": 47.95,
            "count": 1
           },
           {
            "bin_end": 49.228,
            "bin_start": 48.589000000000006,
            "count": 3
           },
           {
            "bin_end": 49.867000000000004,
            "bin_start": 49.228,
            "count": 1
           },
           {
            "bin_end": 50.506,
            "bin_start": 49.867000000000004,
            "count": 5
           },
           {
            "bin_end": 51.145,
            "bin_start": 50.506,
            "count": 9
           },
           {
            "bin_end": 51.784000000000006,
            "bin_start": 51.145,
            "count": 4
           },
           {
            "bin_end": 52.423,
            "bin_start": 51.784000000000006,
            "count": 0
           },
           {
            "bin_end": 53.062000000000005,
            "bin_start": 52.423,
            "count": 0
           },
           {
            "bin_end": 53.701,
            "bin_start": 53.062000000000005,
            "count": 0
           },
           {
            "bin_end": 54.34,
            "bin_start": 53.701,
            "count": 1
           }
          ],
          "max": "54.34",
          "min": "47.95",
          "nan_count": 0,
          "unique_count": 24
         }
        },
        {
         "dtype": "float64",
         "name": "Role %",
         "stats": {
          "histogram": [
           {
            "bin_end": 68.16300000000001,
            "bin_start": 64.68,
            "count": 1
           },
           {
            "bin_end": 71.646,
            "bin_start": 68.16300000000001,
            "count": 1
           },
           {
            "bin_end": 75.129,
            "bin_start": 71.646,
            "count": 1
           },
           {
            "bin_end": 78.61200000000001,
            "bin_start": 75.129,
            "count": 0
           },
           {
            "bin_end": 82.095,
            "bin_start": 78.61200000000001,
            "count": 0
           },
           {
            "bin_end": 85.578,
            "bin_start": 82.095,
            "count": 2
           },
           {
            "bin_end": 89.061,
            "bin_start": 85.578,
            "count": 3
           },
           {
            "bin_end": 92.54400000000001,
            "bin_start": 89.061,
            "count": 5
           },
           {
            "bin_end": 96.027,
            "bin_start": 92.54400000000001,
            "count": 5
           },
           {
            "bin_end": 99.51,
            "bin_start": 96.027,
            "count": 6
           }
          ],
          "max": "99.51",
          "min": "64.68",
          "nan_count": 0,
          "unique_count": 24
         }
        },
        {
         "dtype": "float64",
         "name": "Pick %",
         "stats": {
          "histogram": [
           {
            "bin_end": 8.609,
            "bin_start": 6.38,
            "count": 11
           },
           {
            "bin_end": 10.838000000000001,
            "bin_start": 8.609,
            "count": 5
           },
           {
            "bin_end": 13.067,
            "bin_start": 10.838000000000001,
            "count": 4
           },
           {
            "bin_end": 15.296,
            "bin_start": 13.067,
            "count": 2
           },
           {
            "bin_end": 17.525,
            "bin_start": 15.296,
            "count": 0
           },
           {
            "bin_end": 19.754,
            "bin_start": 17.525,
            "count": 0
           },
           {
            "bin_end": 21.983,
            "bin_start": 19.754,
            "count": 1
           },
           {
            "bin_end": 24.212,
            "bin_start": 21.983,
            "count": 0
           },
           {
            "bin_end": 26.441,
            "bin_start": 24.212,
            "count": 0
           },
           {
            "bin_end": 28.67,
            "bin_start": 26.441,
            "count": 1
           }
          ],
          "max": "28.67",
          "min": "6.38",
          "nan_count": 0,
          "unique_count": 24
         }
        },
        {
         "dtype": "float64",
         "name": "Ban %",
         "stats": {
          "histogram": [
           {
            "bin_end": 4.785,
            "bin_start": 1.93,
            "count": 2
           },
           {
            "bin_end": 7.64,
            "bin_start": 4.785,
            "count": 5
           },
           {
            "bin_end": 10.495,
            "bin_start": 7.64,
            "count": 1
           },
           {
            "bin_end": 13.35,
            "bin_start": 10.495,
            "count": 5
           },
           {
            "bin_end": 16.205000000000002,
            "bin_start": 13.35,
            "count": 2
           },
           {
            "bin_end": 19.06,
            "bin_start": 16.205000000000002,
            "count": 3
           },
           {
            "bin_end": 21.915,
            "bin_start": 19.06,
            "count": 4
           },
           {
            "bin_end": 24.77,
            "bin_start": 21.915,
            "count": 1
           },
           {
            "bin_end": 27.625,
            "bin_start": 24.77,
            "count": 0
           },
           {
            "bin_end": 30.48,
            "bin_start": 27.625,
            "count": 1
           }
          ],
          "max": "30.48",
          "min": "1.93",
          "nan_count": 0,
          "unique_count": 24
         }
        },
        {
         "dtype": "float64",
         "name": "KDA",
         "stats": {
          "histogram": [
           {
            "bin_end": 1.878,
            "bin_start": 1.71,
            "count": 5
           },
           {
            "bin_end": 2.046,
            "bin_start": 1.878,
            "count": 1
           },
           {
            "bin_end": 2.214,
            "bin_start": 2.046,
            "count": 1
           },
           {
            "bin_end": 2.382,
            "bin_start": 2.214,
            "count": 5
           },
           {
            "bin_end": 2.55,
            "bin_start": 2.382,
            "count": 4
           },
           {
            "bin_end": 2.718,
            "bin_start": 2.55,
            "count": 5
           },
           {
            "bin_end": 2.886,
            "bin_start": 2.718,
            "count": 0
           },
           {
            "bin_end": 3.0540000000000003,
            "bin_start": 2.886,
            "count": 2
           },
           {
            "bin_end": 3.222,
            "bin_start": 3.0540000000000003,
            "count": 0
           },
           {
            "bin_end": 3.39,
            "bin_start": 3.222,
            "count": 1
           }
          ],
          "max": "3.39",
          "min": "1.71",
          "nan_count": 0,
          "unique_count": 23
         }
        },
        {
         "dtype": "float64",
         "name": "Pred",
         "stats": {
          "histogram": [
           {
            "bin_end": 46.62159122248688,
            "bin_start": 45.35982723017014,
            "count": 1
           },
           {
            "bin_end": 47.883355214803615,
            "bin_start": 46.62159122248688,
            "count": 3
           },
           {
            "bin_end": 49.14511920712036,
            "bin_start": 47.883355214803615,
            "count": 1
           },
           {
            "bin_end": 50.4068831994371,
            "bin_start": 49.14511920712036,
            "count": 5
           },
           {
            "bin_end": 51.668647191753834,
            "bin_start": 50.4068831994371,
            "count": 9
           },
           {
            "bin_end": 52.93041118407057,
            "bin_start": 51.668647191753834,
            "count": 4
           },
           {
            "bin_end": 54.19217517638731,
            "bin_start": 52.93041118407057,
            "count": 0
           },
           {
            "bin_end": 55.45393916870405,
            "bin_start": 54.19217517638731,
            "count": 0
           },
           {
            "bin_end": 56.71570316102079,
            "bin_start": 55.45393916870405,
            "count": 0
           },
           {
            "bin_end": 57.97746715333753,
            "bin_start": 56.71570316102079,
            "count": 1
           }
          ],
          "max": "57.97746715333753",
          "min": "45.35982723017014",
          "nan_count": 0,
          "unique_count": 24
         }
        },
        {
         "dtype": "bool",
         "name": "isMid",
         "stats": {
          "categories": [
           {
            "count": 21,
            "name": "False"
           },
           {
            "count": 3,
            "name": "True"
           }
          ],
          "nan_count": 0,
          "unique_count": 2
         }
        },
        {
         "dtype": "int64",
         "name": "Mid Champs",
         "stats": {
          "histogram": [
           {
            "bin_end": 0.1,
            "bin_start": 0,
            "count": 21
           },
           {
            "bin_end": 0.2,
            "bin_start": 0.1,
            "count": 0
           },
           {
            "bin_end": 0.30000000000000004,
            "bin_start": 0.2,
            "count": 0
           },
           {
            "bin_end": 0.4,
            "bin_start": 0.30000000000000004,
            "count": 0
           },
           {
            "bin_end": 0.5,
            "bin_start": 0.4,
            "count": 0
           },
           {
            "bin_end": 0.6000000000000001,
            "bin_start": 0.5,
            "count": 0
           },
           {
            "bin_end": 0.7000000000000001,
            "bin_start": 0.6000000000000001,
            "count": 0
           },
           {
            "bin_end": 0.8,
            "bin_start": 0.7000000000000001,
            "count": 0
           },
           {
            "bin_end": 0.9,
            "bin_start": 0.8,
            "count": 0
           },
           {
            "bin_end": 1,
            "bin_start": 0.9,
            "count": 3
           }
          ],
          "max": "1",
          "min": "0",
          "nan_count": 0,
          "unique_count": 2
         }
        },
        {
         "dtype": "int64",
         "name": "pred win",
         "stats": {
          "histogram": [
           {
            "bin_end": -0.4,
            "bin_start": -0.5,
            "count": 0
           },
           {
            "bin_end": -0.3,
            "bin_start": -0.4,
            "count": 0
           },
           {
            "bin_end": -0.19999999999999996,
            "bin_start": -0.3,
            "count": 0
           },
           {
            "bin_end": -0.09999999999999998,
            "bin_start": -0.19999999999999996,
            "count": 0
           },
           {
            "bin_end": 0,
            "bin_start": -0.09999999999999998,
            "count": 0
           },
           {
            "bin_end": 0.10000000000000009,
            "bin_start": 0,
            "count": 24
           },
           {
            "bin_end": 0.20000000000000007,
            "bin_start": 0.10000000000000009,
            "count": 0
           },
           {
            "bin_end": 0.30000000000000004,
            "bin_start": 0.20000000000000007,
            "count": 0
           },
           {
            "bin_end": 0.4,
            "bin_start": 0.30000000000000004,
            "count": 0
           },
           {
            "bin_end": 0.5,
            "bin_start": 0.4,
            "count": 0
           }
          ],
          "max": "0",
          "min": "0",
          "nan_count": 0,
          "unique_count": 1
         }
        },
        {
         "dtype": "float64",
         "name": "pred_win1",
         "stats": {
          "histogram": [
           {
            "bin_end": 0.19152525023696387,
            "bin_start": 0.1645724299390525,
            "count": 2
           },
           {
            "bin_end": 0.21847807053487522,
            "bin_start": 0.19152525023696387,
            "count": 2
           },
           {
            "bin_end": 0.2454308908327866,
            "bin_start": 0.21847807053487522,
            "count": 6
           },
           {
            "bin_end": 0.272383711130698,
            "bin_start": 0.2454308908327866,
            "count": 7
           },
           {
            "bin_end": 0.2993365314286094,
            "bin_start": 0.272383711130698,
            "count": 6
           },
           {
            "bin_end": 0.32628935172652074,
            "bin_start": 0.2993365314286094,
            "count": 0
           },
           {
            "bin_end": 0.3532421720244321,
            "bin_start": 0.32628935172652074,
            "count": 0
           },
           {
            "bin_end": 0.38019499232234344,
            "bin_start": 0.3532421720244321,
            "count": 0
           },
           {
            "bin_end": 0.40714781262025485,
            "bin_start": 0.38019499232234344,
            "count": 0
           },
           {
            "bin_end": 0.43410063291816625,
            "bin_start": 0.40714781262025485,
            "count": 1
           }
          ],
          "max": "0.43410063291816625",
          "min": "0.1645724299390525",
          "nan_count": 0,
          "unique_count": 24
         }
        },
        {
         "dtype": "int64",
         "name": "pred_score",
         "stats": {
          "histogram": [
           {
            "bin_end": -0.4,
            "bin_start": -0.5,
            "count": 0
           },
           {
            "bin_end": -0.3,
            "bin_start": -0.4,
            "count": 0
           },
           {
            "bin_end": -0.19999999999999996,
            "bin_start": -0.3,
            "count": 0
           },
           {
            "bin_end": -0.09999999999999998,
            "bin_start": -0.19999999999999996,
            "count": 0
           },
           {
            "bin_end": 0,
            "bin_start": -0.09999999999999998,
            "count": 0
           },
           {
            "bin_end": 0.10000000000000009,
            "bin_start": 0,
            "count": 24
           },
           {
            "bin_end": 0.20000000000000007,
            "bin_start": 0.10000000000000009,
            "count": 0
           },
           {
            "bin_end": 0.30000000000000004,
            "bin_start": 0.20000000000000007,
            "count": 0
           },
           {
            "bin_end": 0.4,
            "bin_start": 0.30000000000000004,
            "count": 0
           },
           {
            "bin_end": 0.5,
            "bin_start": 0.4,
            "count": 0
           }
          ],
          "max": "0",
          "min": "0",
          "nan_count": 0,
          "unique_count": 1
         }
        },
        {
         "dtype": "float64",
         "name": "pred_score1",
         "stats": {
          "histogram": [
           {
            "bin_end": 0.25100601568604286,
            "bin_start": 0.2510056923256425,
            "count": 5
           },
           {
            "bin_end": 0.2510063390464432,
            "bin_start": 0.25100601568604286,
            "count": 2
           },
           {
            "bin_end": 0.25100666240684355,
            "bin_start": 0.2510063390464432,
            "count": 1
           },
           {
            "bin_end": 0.2510069857672439,
            "bin_start": 0.25100666240684355,
            "count": 2
           },
           {
            "bin_end": 0.25100730912764424,
            "bin_start": 0.2510069857672439,
            "count": 2
           },
           {
            "bin_end": 0.25100763248804464,
            "bin_start": 0.25100730912764424,
            "count": 2
           },
           {
            "bin_end": 0.251007955848445,
            "bin_start": 0.25100763248804464,
            "count": 2
           },
           {
            "bin_end": 0.25100827920884533,
            "bin_start": 0.251007955848445,
            "count": 1
           },
           {
            "bin_end": 0.2510086025692457,
            "bin_start": 0.25100827920884533,
            "count": 1
           },
           {
            "bin_end": 0.251008925929646,
            "bin_start": 0.2510086025692457,
            "count": 6
           }
          ],
          "max": "0.251008925929646",
          "min": "0.2510056923256425",
          "nan_count": 0,
          "unique_count": 24
         }
        },
        {
         "dtype": "int64",
         "name": "_deepnote_index_column"
        }
       ],
       "row_count": 24,
       "rows": [
        {
         "Ban %": 5.81,
         "Class": "Fighter",
         "KDA": 1.85,
         "Mid Champs": 0,
         "Name": "Aatrox",
         "Pick %": 7.01,
         "Pred": 47.11721369834213,
         "Role": "TOP",
         "Role %": 92.28,
         "Score": 71.25,
         "Tier": "God",
         "Trend": -3.39,
         "Win %": 48.84,
         "_deepnote_index_column": 0,
         "isMid": "False",
         "pred win": 0,
         "pred_score": 0,
         "pred_score1": 0.2510088761140594,
         "pred_win1": 0.1922822872009423
        },
        {
         "Ban %": 6.47,
         "Class": "Mage",
         "KDA": 2.63,
         "Mid Champs": 1,
         "Name": "Ahri",
         "Pick %": 10.63,
         "Pred": 51.18487226512221,
         "Role": "MID",
         "Role %": 95.23,
         "Score": 77.12,
         "Tier": "God",
         "Trend": -5.03,
         "Win %": 50.9,
         "_deepnote_index_column": 1,
         "isMid": "True",
         "pred win": 0,
         "pred_score": 0,
         "pred_score1": 0.2510080160636441,
         "pred_win1": 0.2695337561650089
        },
        {
         "Ban %": 23.8,
         "Class": "Tank",
         "KDA": 2.37,
         "Mid Champs": 0,
         "Name": "Blitzcrank",
         "Pick %": 8.78,
         "Pred": 51.30334775735852,
         "Role": "SUPPORT",
         "Role %": 97.14,
         "Score": 79.03,
         "Tier": "God",
         "Trend": 4.56,
         "Win %": 50.96,
         "_deepnote_index_column": 20,
         "isMid": "False",
         "pred win": 0,
         "pred_score": 0,
         "pred_score1": 0.2510077362180201,
         "pred_win1": 0.27205434207163703
        },
        {
         "Ban %": 19.04,
         "Class": "Fighter",
         "KDA": 1.8,
         "Mid Champs": 0,
         "Name": "Darius",
         "Pick %": 8.46,
         "Pred": 47.45289425967833,
         "Role": "TOP",
         "Role %": 92.99,
         "Score": 89.77,
         "Tier": "God",
         "Trend": 2.57,
         "Win %": 49.01,
         "_deepnote_index_column": 31,
         "isMid": "False",
         "pred win": 0,
         "pred_score": 0,
         "pred_score1": 0.2510061626396825,
         "pred_win1": 0.1979619654162656
        },
        {
         "Ban %": 8.96,
         "Class": "Marksman",
         "KDA": 2.49,
         "Mid Champs": 0,
         "Name": "Ezreal",
         "Pick %": 19.96,
         "Pred": 49.60519903530471,
         "Role": "ADC",
         "Role %": 87.8,
         "Score": 72.99,
         "Tier": "God",
         "Trend": -19.84,
         "Win %": 50.1,
         "_deepnote_index_column": 40,
         "isMid": "False",
         "pred win": 0,
         "pred_score": 0,
         "pred_score1": 0.2510086211755719,
         "pred_win1": 0.23736383428833274
        },
        {
         "Ban %": 4.98,
         "Class": "Marksman",
         "KDA": 2.65,
         "Mid Champs": 0,
         "Name": "Graves",
         "Pick %": 8.58,
         "Pred": 50.92817536527687,
         "Role": "JUNGLE",
         "Role %": 91.21,
         "Score": 72.71,
         "Tier": "God",
         "Trend": 1.85,
         "Win %": 50.77,
         "_deepnote_index_column": 55,
         "isMid": "False",
         "pred win": 0,
         "pred_score": 0,
         "pred_score1": 0.2510086622001444,
         "pred_win1": 0.2641233100445627
        },
        {
         "Ban %": 17.43,
         "Class": "Fighter",
         "KDA": 1.71,
         "Mid Champs": 0,
         "Name": "Jax",
         "Pick %": 8.51,
         "Pred": 50.94792128064958,
         "Role": "TOP",
         "Role %": 85.77,
         "Score": 92.58,
         "Tier": "God",
         "Trend": -0.44,
         "Win %": 50.78,
         "_deepnote_index_column": 68,
         "isMid": "False",
         "pred win": 0,
         "pred_score": 0,
         "pred_score1": 0.25100575093172145,
         "pred_win1": 0.26453701711448246
        },
        {
         "Ban %": 11.96,
         "Class": "Marksman",
         "KDA": 2.48,
         "Mid Champs": 0,
         "Name": "Kai'Sa",
         "Pick %": 28.67,
         "Pred": 52.172168033758155,
         "Role": "ADC",
         "Role %": 91.68,
         "Score": 92.98,
         "Tier": "God",
         "Trend": 3.24,
         "Win %": 51.4,
         "_deepnote_index_column": 75,
         "isMid": "False",
         "pred win": 0,
         "pred_score": 0,
         "pred_score1": 0.2510056923256425,
         "pred_win1": 0.2909827416576457
        },
        {
         "Ban %": 10.65,
         "Class": "Fighter",
         "KDA": 2.45,
         "Mid Champs": 0,
         "Name": "Kayn",
         "Pick %": 10.28,
         "Pred": 51.50080691108572,
         "Role": "JUNGLE",
         "Role %": 93.96,
         "Score": 83.56,
         "Tier": "God",
         "Trend": 7.31,
         "Win %": 51.06,
         "_deepnote_index_column": 85,
         "isMid": "False",
         "pred win": 0,
         "pred_score": 0,
         "pred_score1": 0.2510070725012175,
         "pred_win1": 0.27628797033126895
        },
        {
         "Ban %": 19.44,
         "Class": "Assassin",
         "KDA": 2.64,
         "Mid Champs": 0,
         "Name": "Kha'Zix",
         "Pick %": 10.1,
         "Pred": 51.639028318694756,
         "Role": "JUNGLE",
         "Role %": 99.12,
         "Score": 89.93,
         "Tier": "God",
         "Trend": -3.1,
         "Win %": 51.13,
         "_deepnote_index_column": 88,
         "isMid": "False",
         "pred win": 0,
         "pred_score": 0,
         "pred_score1": 0.25100613919722425,
         "pred_win1": 0.2792756249811088
        }
       ]
      },
      "text/html": [
       "<div>\n",
       "<style scoped>\n",
       "    .dataframe tbody tr th:only-of-type {\n",
       "        vertical-align: middle;\n",
       "    }\n",
       "\n",
       "    .dataframe tbody tr th {\n",
       "        vertical-align: top;\n",
       "    }\n",
       "\n",
       "    .dataframe thead th {\n",
       "        text-align: right;\n",
       "    }\n",
       "</style>\n",
       "<table border=\"1\" class=\"dataframe\">\n",
       "  <thead>\n",
       "    <tr style=\"text-align: right;\">\n",
       "      <th></th>\n",
       "      <th>Name</th>\n",
       "      <th>Class</th>\n",
       "      <th>Role</th>\n",
       "      <th>Tier</th>\n",
       "      <th>Score</th>\n",
       "      <th>Trend</th>\n",
       "      <th>Win %</th>\n",
       "      <th>Role %</th>\n",
       "      <th>Pick %</th>\n",
       "      <th>Ban %</th>\n",
       "      <th>KDA</th>\n",
       "      <th>Pred</th>\n",
       "      <th>isMid</th>\n",
       "      <th>Mid Champs</th>\n",
       "      <th>pred win</th>\n",
       "      <th>pred_win1</th>\n",
       "      <th>pred_score</th>\n",
       "      <th>pred_score1</th>\n",
       "    </tr>\n",
       "  </thead>\n",
       "  <tbody>\n",
       "    <tr>\n",
       "      <th>0</th>\n",
       "      <td>Aatrox</td>\n",
       "      <td>Fighter</td>\n",
       "      <td>TOP</td>\n",
       "      <td>God</td>\n",
       "      <td>71.25</td>\n",
       "      <td>-3.39</td>\n",
       "      <td>48.84</td>\n",
       "      <td>92.28</td>\n",
       "      <td>7.01</td>\n",
       "      <td>5.81</td>\n",
       "      <td>1.85</td>\n",
       "      <td>47.117214</td>\n",
       "      <td>False</td>\n",
       "      <td>0</td>\n",
       "      <td>0</td>\n",
       "      <td>0.192282</td>\n",
       "      <td>0</td>\n",
       "      <td>0.251009</td>\n",
       "    </tr>\n",
       "    <tr>\n",
       "      <th>1</th>\n",
       "      <td>Ahri</td>\n",
       "      <td>Mage</td>\n",
       "      <td>MID</td>\n",
       "      <td>God</td>\n",
       "      <td>77.12</td>\n",
       "      <td>-5.03</td>\n",
       "      <td>50.90</td>\n",
       "      <td>95.23</td>\n",
       "      <td>10.63</td>\n",
       "      <td>6.47</td>\n",
       "      <td>2.63</td>\n",
       "      <td>51.184872</td>\n",
       "      <td>True</td>\n",
       "      <td>1</td>\n",
       "      <td>0</td>\n",
       "      <td>0.269534</td>\n",
       "      <td>0</td>\n",
       "      <td>0.251008</td>\n",
       "    </tr>\n",
       "    <tr>\n",
       "      <th>20</th>\n",
       "      <td>Blitzcrank</td>\n",
       "      <td>Tank</td>\n",
       "      <td>SUPPORT</td>\n",
       "      <td>God</td>\n",
       "      <td>79.03</td>\n",
       "      <td>4.56</td>\n",
       "      <td>50.96</td>\n",
       "      <td>97.14</td>\n",
       "      <td>8.78</td>\n",
       "      <td>23.80</td>\n",
       "      <td>2.37</td>\n",
       "      <td>51.303348</td>\n",
       "      <td>False</td>\n",
       "      <td>0</td>\n",
       "      <td>0</td>\n",
       "      <td>0.272054</td>\n",
       "      <td>0</td>\n",
       "      <td>0.251008</td>\n",
       "    </tr>\n",
       "    <tr>\n",
       "      <th>31</th>\n",
       "      <td>Darius</td>\n",
       "      <td>Fighter</td>\n",
       "      <td>TOP</td>\n",
       "      <td>God</td>\n",
       "      <td>89.77</td>\n",
       "      <td>2.57</td>\n",
       "      <td>49.01</td>\n",
       "      <td>92.99</td>\n",
       "      <td>8.46</td>\n",
       "      <td>19.04</td>\n",
       "      <td>1.80</td>\n",
       "      <td>47.452894</td>\n",
       "      <td>False</td>\n",
       "      <td>0</td>\n",
       "      <td>0</td>\n",
       "      <td>0.197962</td>\n",
       "      <td>0</td>\n",
       "      <td>0.251006</td>\n",
       "    </tr>\n",
       "    <tr>\n",
       "      <th>40</th>\n",
       "      <td>Ezreal</td>\n",
       "      <td>Marksman</td>\n",
       "      <td>ADC</td>\n",
       "      <td>God</td>\n",
       "      <td>72.99</td>\n",
       "      <td>-19.84</td>\n",
       "      <td>50.10</td>\n",
       "      <td>87.80</td>\n",
       "      <td>19.96</td>\n",
       "      <td>8.96</td>\n",
       "      <td>2.49</td>\n",
       "      <td>49.605199</td>\n",
       "      <td>False</td>\n",
       "      <td>0</td>\n",
       "      <td>0</td>\n",
       "      <td>0.237364</td>\n",
       "      <td>0</td>\n",
       "      <td>0.251009</td>\n",
       "    </tr>\n",
       "    <tr>\n",
       "      <th>55</th>\n",
       "      <td>Graves</td>\n",
       "      <td>Marksman</td>\n",
       "      <td>JUNGLE</td>\n",
       "      <td>God</td>\n",
       "      <td>72.71</td>\n",
       "      <td>1.85</td>\n",
       "      <td>50.77</td>\n",
       "      <td>91.21</td>\n",
       "      <td>8.58</td>\n",
       "      <td>4.98</td>\n",
       "      <td>2.65</td>\n",
       "      <td>50.928175</td>\n",
       "      <td>False</td>\n",
       "      <td>0</td>\n",
       "      <td>0</td>\n",
       "      <td>0.264123</td>\n",
       "      <td>0</td>\n",
       "      <td>0.251009</td>\n",
       "    </tr>\n",
       "    <tr>\n",
       "      <th>68</th>\n",
       "      <td>Jax</td>\n",
       "      <td>Fighter</td>\n",
       "      <td>TOP</td>\n",
       "      <td>God</td>\n",
       "      <td>92.58</td>\n",
       "      <td>-0.44</td>\n",
       "      <td>50.78</td>\n",
       "      <td>85.77</td>\n",
       "      <td>8.51</td>\n",
       "      <td>17.43</td>\n",
       "      <td>1.71</td>\n",
       "      <td>50.947921</td>\n",
       "      <td>False</td>\n",
       "      <td>0</td>\n",
       "      <td>0</td>\n",
       "      <td>0.264537</td>\n",
       "      <td>0</td>\n",
       "      <td>0.251006</td>\n",
       "    </tr>\n",
       "    <tr>\n",
       "      <th>75</th>\n",
       "      <td>Kai'Sa</td>\n",
       "      <td>Marksman</td>\n",
       "      <td>ADC</td>\n",
       "      <td>God</td>\n",
       "      <td>92.98</td>\n",
       "      <td>3.24</td>\n",
       "      <td>51.40</td>\n",
       "      <td>91.68</td>\n",
       "      <td>28.67</td>\n",
       "      <td>11.96</td>\n",
       "      <td>2.48</td>\n",
       "      <td>52.172168</td>\n",
       "      <td>False</td>\n",
       "      <td>0</td>\n",
       "      <td>0</td>\n",
       "      <td>0.290983</td>\n",
       "      <td>0</td>\n",
       "      <td>0.251006</td>\n",
       "    </tr>\n",
       "    <tr>\n",
       "      <th>85</th>\n",
       "      <td>Kayn</td>\n",
       "      <td>Fighter</td>\n",
       "      <td>JUNGLE</td>\n",
       "      <td>God</td>\n",
       "      <td>83.56</td>\n",
       "      <td>7.31</td>\n",
       "      <td>51.06</td>\n",
       "      <td>93.96</td>\n",
       "      <td>10.28</td>\n",
       "      <td>10.65</td>\n",
       "      <td>2.45</td>\n",
       "      <td>51.500807</td>\n",
       "      <td>False</td>\n",
       "      <td>0</td>\n",
       "      <td>0</td>\n",
       "      <td>0.276288</td>\n",
       "      <td>0</td>\n",
       "      <td>0.251007</td>\n",
       "    </tr>\n",
       "    <tr>\n",
       "      <th>88</th>\n",
       "      <td>Kha'Zix</td>\n",
       "      <td>Assassin</td>\n",
       "      <td>JUNGLE</td>\n",
       "      <td>God</td>\n",
       "      <td>89.93</td>\n",
       "      <td>-3.10</td>\n",
       "      <td>51.13</td>\n",
       "      <td>99.12</td>\n",
       "      <td>10.10</td>\n",
       "      <td>19.44</td>\n",
       "      <td>2.64</td>\n",
       "      <td>51.639028</td>\n",
       "      <td>False</td>\n",
       "      <td>0</td>\n",
       "      <td>0</td>\n",
       "      <td>0.279276</td>\n",
       "      <td>0</td>\n",
       "      <td>0.251006</td>\n",
       "    </tr>\n",
       "    <tr>\n",
       "      <th>89</th>\n",
       "      <td>Kindred</td>\n",
       "      <td>Marksman</td>\n",
       "      <td>JUNGLE</td>\n",
       "      <td>God</td>\n",
       "      <td>73.66</td>\n",
       "      <td>-12.38</td>\n",
       "      <td>51.32</td>\n",
       "      <td>96.38</td>\n",
       "      <td>7.20</td>\n",
       "      <td>19.82</td>\n",
       "      <td>2.31</td>\n",
       "      <td>52.014201</td>\n",
       "      <td>False</td>\n",
       "      <td>0</td>\n",
       "      <td>0</td>\n",
       "      <td>0.287484</td>\n",
       "      <td>0</td>\n",
       "      <td>0.251009</td>\n",
       "    </tr>\n",
       "    <tr>\n",
       "      <th>93</th>\n",
       "      <td>Lee Sin</td>\n",
       "      <td>Fighter</td>\n",
       "      <td>JUNGLE</td>\n",
       "      <td>God</td>\n",
       "      <td>91.03</td>\n",
       "      <td>13.94</td>\n",
       "      <td>47.95</td>\n",
       "      <td>92.93</td>\n",
       "      <td>13.32</td>\n",
       "      <td>7.59</td>\n",
       "      <td>2.67</td>\n",
       "      <td>45.359827</td>\n",
       "      <td>False</td>\n",
       "      <td>0</td>\n",
       "      <td>0</td>\n",
       "      <td>0.164572</td>\n",
       "      <td>0</td>\n",
       "      <td>0.251006</td>\n",
       "    </tr>\n",
       "    <tr>\n",
       "      <th>99</th>\n",
       "      <td>Lux</td>\n",
       "      <td>Mage</td>\n",
       "      <td>SUPPORT</td>\n",
       "      <td>God</td>\n",
       "      <td>84.82</td>\n",
       "      <td>7.57</td>\n",
       "      <td>50.00</td>\n",
       "      <td>64.68</td>\n",
       "      <td>11.55</td>\n",
       "      <td>11.12</td>\n",
       "      <td>2.36</td>\n",
       "      <td>49.407740</td>\n",
       "      <td>False</td>\n",
       "      <td>0</td>\n",
       "      <td>0</td>\n",
       "      <td>0.233534</td>\n",
       "      <td>0</td>\n",
       "      <td>0.251007</td>\n",
       "    </tr>\n",
       "    <tr>\n",
       "      <th>101</th>\n",
       "      <td>Malphite</td>\n",
       "      <td>Tank</td>\n",
       "      <td>TOP</td>\n",
       "      <td>God</td>\n",
       "      <td>83.04</td>\n",
       "      <td>-1.26</td>\n",
       "      <td>51.43</td>\n",
       "      <td>72.61</td>\n",
       "      <td>6.62</td>\n",
       "      <td>13.84</td>\n",
       "      <td>2.48</td>\n",
       "      <td>52.231406</td>\n",
       "      <td>False</td>\n",
       "      <td>0</td>\n",
       "      <td>0</td>\n",
       "      <td>0.292301</td>\n",
       "      <td>0</td>\n",
       "      <td>0.251007</td>\n",
       "    </tr>\n",
       "    <tr>\n",
       "      <th>108</th>\n",
       "      <td>Master Yi</td>\n",
       "      <td>Assassin</td>\n",
       "      <td>JUNGLE</td>\n",
       "      <td>God</td>\n",
       "      <td>71.87</td>\n",
       "      <td>-1.37</td>\n",
       "      <td>49.70</td>\n",
       "      <td>91.72</td>\n",
       "      <td>7.90</td>\n",
       "      <td>19.09</td>\n",
       "      <td>2.06</td>\n",
       "      <td>48.815362</td>\n",
       "      <td>False</td>\n",
       "      <td>0</td>\n",
       "      <td>0</td>\n",
       "      <td>0.222305</td>\n",
       "      <td>0</td>\n",
       "      <td>0.251009</td>\n",
       "    </tr>\n",
       "    <tr>\n",
       "      <th>109</th>\n",
       "      <td>Milio</td>\n",
       "      <td>Support</td>\n",
       "      <td>SUPPORT</td>\n",
       "      <td>God</td>\n",
       "      <td>81.15</td>\n",
       "      <td>-11.18</td>\n",
       "      <td>50.52</td>\n",
       "      <td>99.51</td>\n",
       "      <td>8.81</td>\n",
       "      <td>18.76</td>\n",
       "      <td>3.39</td>\n",
       "      <td>50.434527</td>\n",
       "      <td>False</td>\n",
       "      <td>0</td>\n",
       "      <td>0</td>\n",
       "      <td>0.253916</td>\n",
       "      <td>0</td>\n",
       "      <td>0.251007</td>\n",
       "    </tr>\n",
       "    <tr>\n",
       "      <th>111</th>\n",
       "      <td>Mordekaiser</td>\n",
       "      <td>Fighter</td>\n",
       "      <td>TOP</td>\n",
       "      <td>God</td>\n",
       "      <td>72.79</td>\n",
       "      <td>-1.18</td>\n",
       "      <td>49.87</td>\n",
       "      <td>85.39</td>\n",
       "      <td>6.38</td>\n",
       "      <td>11.25</td>\n",
       "      <td>1.83</td>\n",
       "      <td>49.151043</td>\n",
       "      <td>False</td>\n",
       "      <td>0</td>\n",
       "      <td>0</td>\n",
       "      <td>0.228620</td>\n",
       "      <td>0</td>\n",
       "      <td>0.251009</td>\n",
       "    </tr>\n",
       "    <tr>\n",
       "      <th>116</th>\n",
       "      <td>Nautilus</td>\n",
       "      <td>Tank</td>\n",
       "      <td>SUPPORT</td>\n",
       "      <td>God</td>\n",
       "      <td>87.81</td>\n",
       "      <td>8.42</td>\n",
       "      <td>50.82</td>\n",
       "      <td>96.15</td>\n",
       "      <td>11.97</td>\n",
       "      <td>14.67</td>\n",
       "      <td>2.30</td>\n",
       "      <td>51.026905</td>\n",
       "      <td>False</td>\n",
       "      <td>0</td>\n",
       "      <td>0</td>\n",
       "      <td>0.266196</td>\n",
       "      <td>0</td>\n",
       "      <td>0.251006</td>\n",
       "    </tr>\n",
       "    <tr>\n",
       "      <th>137</th>\n",
       "      <td>Rakan</td>\n",
       "      <td>Support</td>\n",
       "      <td>SUPPORT</td>\n",
       "      <td>God</td>\n",
       "      <td>70.91</td>\n",
       "      <td>3.70</td>\n",
       "      <td>51.57</td>\n",
       "      <td>98.95</td>\n",
       "      <td>8.24</td>\n",
       "      <td>1.93</td>\n",
       "      <td>2.90</td>\n",
       "      <td>52.507849</td>\n",
       "      <td>False</td>\n",
       "      <td>0</td>\n",
       "      <td>0</td>\n",
       "      <td>0.298500</td>\n",
       "      <td>0</td>\n",
       "      <td>0.251009</td>\n",
       "    </tr>\n",
       "    <tr>\n",
       "      <th>141</th>\n",
       "      <td>Rell</td>\n",
       "      <td>Tank</td>\n",
       "      <td>SUPPORT</td>\n",
       "      <td>God</td>\n",
       "      <td>80.81</td>\n",
       "      <td>11.71</td>\n",
       "      <td>54.34</td>\n",
       "      <td>85.97</td>\n",
       "      <td>7.93</td>\n",
       "      <td>13.06</td>\n",
       "      <td>2.95</td>\n",
       "      <td>57.977467</td>\n",
       "      <td>False</td>\n",
       "      <td>0</td>\n",
       "      <td>0</td>\n",
       "      <td>0.434101</td>\n",
       "      <td>0</td>\n",
       "      <td>0.251007</td>\n",
       "    </tr>\n",
       "    <tr>\n",
       "      <th>144</th>\n",
       "      <td>Renekton</td>\n",
       "      <td>Fighter</td>\n",
       "      <td>TOP</td>\n",
       "      <td>God</td>\n",
       "      <td>77.61</td>\n",
       "      <td>12.07</td>\n",
       "      <td>50.03</td>\n",
       "      <td>91.06</td>\n",
       "      <td>7.64</td>\n",
       "      <td>3.83</td>\n",
       "      <td>1.90</td>\n",
       "      <td>49.466978</td>\n",
       "      <td>False</td>\n",
       "      <td>0</td>\n",
       "      <td>0</td>\n",
       "      <td>0.234679</td>\n",
       "      <td>0</td>\n",
       "      <td>0.251008</td>\n",
       "    </tr>\n",
       "    <tr>\n",
       "      <th>190</th>\n",
       "      <td>Thresh</td>\n",
       "      <td>Support</td>\n",
       "      <td>SUPPORT</td>\n",
       "      <td>God</td>\n",
       "      <td>91.09</td>\n",
       "      <td>6.40</td>\n",
       "      <td>50.65</td>\n",
       "      <td>95.92</td>\n",
       "      <td>13.79</td>\n",
       "      <td>5.98</td>\n",
       "      <td>2.58</td>\n",
       "      <td>50.691224</td>\n",
       "      <td>False</td>\n",
       "      <td>0</td>\n",
       "      <td>0</td>\n",
       "      <td>0.259191</td>\n",
       "      <td>0</td>\n",
       "      <td>0.251006</td>\n",
       "    </tr>\n",
       "    <tr>\n",
       "      <th>228</th>\n",
       "      <td>Yasuo</td>\n",
       "      <td>Fighter</td>\n",
       "      <td>MID</td>\n",
       "      <td>God</td>\n",
       "      <td>85.15</td>\n",
       "      <td>-2.72</td>\n",
       "      <td>48.78</td>\n",
       "      <td>69.95</td>\n",
       "      <td>12.73</td>\n",
       "      <td>21.08</td>\n",
       "      <td>1.76</td>\n",
       "      <td>46.998738</td>\n",
       "      <td>True</td>\n",
       "      <td>1</td>\n",
       "      <td>0</td>\n",
       "      <td>0.190308</td>\n",
       "      <td>0</td>\n",
       "      <td>0.251007</td>\n",
       "    </tr>\n",
       "    <tr>\n",
       "      <th>237</th>\n",
       "      <td>Zed</td>\n",
       "      <td>Assassin</td>\n",
       "      <td>MID</td>\n",
       "      <td>God</td>\n",
       "      <td>90.84</td>\n",
       "      <td>2.83</td>\n",
       "      <td>50.02</td>\n",
       "      <td>84.93</td>\n",
       "      <td>11.50</td>\n",
       "      <td>30.48</td>\n",
       "      <td>2.26</td>\n",
       "      <td>49.447232</td>\n",
       "      <td>True</td>\n",
       "      <td>1</td>\n",
       "      <td>0</td>\n",
       "      <td>0.234297</td>\n",
       "      <td>0</td>\n",
       "      <td>0.251006</td>\n",
       "    </tr>\n",
       "  </tbody>\n",
       "</table>\n",
       "</div>"
      ],
      "text/plain": [
       "            Name     Class     Role Tier  Score  Trend  Win %  Role %  Pick %  \\\n",
       "0         Aatrox   Fighter      TOP  God  71.25  -3.39  48.84   92.28    7.01   \n",
       "1           Ahri      Mage      MID  God  77.12  -5.03  50.90   95.23   10.63   \n",
       "20    Blitzcrank      Tank  SUPPORT  God  79.03   4.56  50.96   97.14    8.78   \n",
       "31        Darius   Fighter      TOP  God  89.77   2.57  49.01   92.99    8.46   \n",
       "40        Ezreal  Marksman      ADC  God  72.99 -19.84  50.10   87.80   19.96   \n",
       "55        Graves  Marksman   JUNGLE  God  72.71   1.85  50.77   91.21    8.58   \n",
       "68           Jax   Fighter      TOP  God  92.58  -0.44  50.78   85.77    8.51   \n",
       "75        Kai'Sa  Marksman      ADC  God  92.98   3.24  51.40   91.68   28.67   \n",
       "85          Kayn   Fighter   JUNGLE  God  83.56   7.31  51.06   93.96   10.28   \n",
       "88       Kha'Zix  Assassin   JUNGLE  God  89.93  -3.10  51.13   99.12   10.10   \n",
       "89       Kindred  Marksman   JUNGLE  God  73.66 -12.38  51.32   96.38    7.20   \n",
       "93       Lee Sin   Fighter   JUNGLE  God  91.03  13.94  47.95   92.93   13.32   \n",
       "99           Lux      Mage  SUPPORT  God  84.82   7.57  50.00   64.68   11.55   \n",
       "101     Malphite      Tank      TOP  God  83.04  -1.26  51.43   72.61    6.62   \n",
       "108    Master Yi  Assassin   JUNGLE  God  71.87  -1.37  49.70   91.72    7.90   \n",
       "109        Milio   Support  SUPPORT  God  81.15 -11.18  50.52   99.51    8.81   \n",
       "111  Mordekaiser   Fighter      TOP  God  72.79  -1.18  49.87   85.39    6.38   \n",
       "116     Nautilus      Tank  SUPPORT  God  87.81   8.42  50.82   96.15   11.97   \n",
       "137        Rakan   Support  SUPPORT  God  70.91   3.70  51.57   98.95    8.24   \n",
       "141         Rell      Tank  SUPPORT  God  80.81  11.71  54.34   85.97    7.93   \n",
       "144     Renekton   Fighter      TOP  God  77.61  12.07  50.03   91.06    7.64   \n",
       "190       Thresh   Support  SUPPORT  God  91.09   6.40  50.65   95.92   13.79   \n",
       "228        Yasuo   Fighter      MID  God  85.15  -2.72  48.78   69.95   12.73   \n",
       "237          Zed  Assassin      MID  God  90.84   2.83  50.02   84.93   11.50   \n",
       "\n",
       "     Ban %   KDA       Pred  isMid  Mid Champs  pred win  pred_win1  \\\n",
       "0     5.81  1.85  47.117214  False           0         0   0.192282   \n",
       "1     6.47  2.63  51.184872   True           1         0   0.269534   \n",
       "20   23.80  2.37  51.303348  False           0         0   0.272054   \n",
       "31   19.04  1.80  47.452894  False           0         0   0.197962   \n",
       "40    8.96  2.49  49.605199  False           0         0   0.237364   \n",
       "55    4.98  2.65  50.928175  False           0         0   0.264123   \n",
       "68   17.43  1.71  50.947921  False           0         0   0.264537   \n",
       "75   11.96  2.48  52.172168  False           0         0   0.290983   \n",
       "85   10.65  2.45  51.500807  False           0         0   0.276288   \n",
       "88   19.44  2.64  51.639028  False           0         0   0.279276   \n",
       "89   19.82  2.31  52.014201  False           0         0   0.287484   \n",
       "93    7.59  2.67  45.359827  False           0         0   0.164572   \n",
       "99   11.12  2.36  49.407740  False           0         0   0.233534   \n",
       "101  13.84  2.48  52.231406  False           0         0   0.292301   \n",
       "108  19.09  2.06  48.815362  False           0         0   0.222305   \n",
       "109  18.76  3.39  50.434527  False           0         0   0.253916   \n",
       "111  11.25  1.83  49.151043  False           0         0   0.228620   \n",
       "116  14.67  2.30  51.026905  False           0         0   0.266196   \n",
       "137   1.93  2.90  52.507849  False           0         0   0.298500   \n",
       "141  13.06  2.95  57.977467  False           0         0   0.434101   \n",
       "144   3.83  1.90  49.466978  False           0         0   0.234679   \n",
       "190   5.98  2.58  50.691224  False           0         0   0.259191   \n",
       "228  21.08  1.76  46.998738   True           1         0   0.190308   \n",
       "237  30.48  2.26  49.447232   True           1         0   0.234297   \n",
       "\n",
       "     pred_score  pred_score1  \n",
       "0             0     0.251009  \n",
       "1             0     0.251008  \n",
       "20            0     0.251008  \n",
       "31            0     0.251006  \n",
       "40            0     0.251009  \n",
       "55            0     0.251009  \n",
       "68            0     0.251006  \n",
       "75            0     0.251006  \n",
       "85            0     0.251007  \n",
       "88            0     0.251006  \n",
       "89            0     0.251009  \n",
       "93            0     0.251006  \n",
       "99            0     0.251007  \n",
       "101           0     0.251007  \n",
       "108           0     0.251009  \n",
       "109           0     0.251007  \n",
       "111           0     0.251009  \n",
       "116           0     0.251006  \n",
       "137           0     0.251009  \n",
       "141           0     0.251007  \n",
       "144           0     0.251008  \n",
       "190           0     0.251006  \n",
       "228           0     0.251007  \n",
       "237           0     0.251006  "
      ]
     },
     "execution_count": 67,
     "metadata": {},
     "output_type": "execute_result"
    }
   ],
   "source": [
    "god_tier_df = df[df[\"Tier\"] == \"God\" ]\n",
    "god_tier_df"
   ]
  },
  {
   "cell_type": "code",
   "execution_count": 68,
   "metadata": {
    "cell_id": "770b954a1e83408ba93fb2a17cc60476",
    "deepnote_cell_type": "code",
    "deepnote_to_be_reexecuted": false,
    "execution_millis": 289,
    "execution_start": 1695796839390,
    "source_hash": "2b07e47c"
   },
   "outputs": [
    {
     "data": {
      "text/html": [
       "<html>\n",
       "<head><meta charset=\"utf-8\" /></head>\n",
       "<body>\n",
       "    <div>            <script src=\"https://cdnjs.cloudflare.com/ajax/libs/mathjax/2.7.5/MathJax.js?config=TeX-AMS-MML_SVG\"></script><script type=\"text/javascript\">if (window.MathJax && window.MathJax.Hub && window.MathJax.Hub.Config) {window.MathJax.Hub.Config({SVG: {font: \"STIX-Web\"}});}</script>                <script type=\"text/javascript\">window.PlotlyConfig = {MathJaxConfig: 'local'};</script>\n",
       "        <script src=\"https://cdn.plot.ly/plotly-2.14.0.min.js\"></script>                <div id=\"78bfea7c-28cf-4661-acc8-76e319035082\" class=\"plotly-graph-div\" style=\"height:525px; width:100%;\"></div>            <script type=\"text/javascript\">                                    window.PLOTLYENV=window.PLOTLYENV || {};                                    if (document.getElementById(\"78bfea7c-28cf-4661-acc8-76e319035082\")) {                    Plotly.newPlot(                        \"78bfea7c-28cf-4661-acc8-76e319035082\",                        [{\"alignmentgroup\":\"True\",\"hovertemplate\":\"Name=%{x}<br>Score=%{y}<extra></extra>\",\"legendgroup\":\"\",\"marker\":{\"color\":[\"green\",\"green\",\"green\",\"green\",\"green\",\"green\",\"green\",\"green\",\"green\",\"green\",\"green\",\"green\",\"green\",\"green\",\"green\",\"green\",\"green\",\"green\",\"red\",\"green\",\"green\",\"green\",\"green\",\"green\"],\"pattern\":{\"shape\":\"\"}},\"name\":\"\",\"offsetgroup\":\"\",\"orientation\":\"v\",\"showlegend\":false,\"textposition\":\"auto\",\"x\":[\"Aatrox\",\"Ahri\",\"Blitzcrank\",\"Darius\",\"Ezreal\",\"Graves\",\"Jax\",\"Kai'Sa\",\"Kayn\",\"Kha'Zix\",\"Kindred\",\"Lee Sin\",\"Lux\",\"Malphite\",\"Master Yi\",\"Milio\",\"Mordekaiser\",\"Nautilus\",\"Rakan\",\"Rell\",\"Renekton\",\"Thresh\",\"Yasuo\",\"Zed\"],\"xaxis\":\"x\",\"y\":[71.25,77.12,79.03,89.77,72.99,72.71,92.58,92.98,83.56,89.93,73.66,91.03,84.82,83.04,71.87,81.15,72.79,87.81,70.91,80.81,77.61,91.09,85.15,90.84],\"yaxis\":\"y\",\"type\":\"bar\"}],                        {\"template\":{\"data\":{\"histogram2dcontour\":[{\"type\":\"histogram2dcontour\",\"colorbar\":{\"outlinewidth\":0,\"ticks\":\"\"},\"colorscale\":[[0.0,\"#0d0887\"],[0.1111111111111111,\"#46039f\"],[0.2222222222222222,\"#7201a8\"],[0.3333333333333333,\"#9c179e\"],[0.4444444444444444,\"#bd3786\"],[0.5555555555555556,\"#d8576b\"],[0.6666666666666666,\"#ed7953\"],[0.7777777777777778,\"#fb9f3a\"],[0.8888888888888888,\"#fdca26\"],[1.0,\"#f0f921\"]]}],\"choropleth\":[{\"type\":\"choropleth\",\"colorbar\":{\"outlinewidth\":0,\"ticks\":\"\"}}],\"histogram2d\":[{\"type\":\"histogram2d\",\"colorbar\":{\"outlinewidth\":0,\"ticks\":\"\"},\"colorscale\":[[0.0,\"#0d0887\"],[0.1111111111111111,\"#46039f\"],[0.2222222222222222,\"#7201a8\"],[0.3333333333333333,\"#9c179e\"],[0.4444444444444444,\"#bd3786\"],[0.5555555555555556,\"#d8576b\"],[0.6666666666666666,\"#ed7953\"],[0.7777777777777778,\"#fb9f3a\"],[0.8888888888888888,\"#fdca26\"],[1.0,\"#f0f921\"]]}],\"heatmap\":[{\"type\":\"heatmap\",\"colorbar\":{\"outlinewidth\":0,\"ticks\":\"\"},\"colorscale\":[[0.0,\"#0d0887\"],[0.1111111111111111,\"#46039f\"],[0.2222222222222222,\"#7201a8\"],[0.3333333333333333,\"#9c179e\"],[0.4444444444444444,\"#bd3786\"],[0.5555555555555556,\"#d8576b\"],[0.6666666666666666,\"#ed7953\"],[0.7777777777777778,\"#fb9f3a\"],[0.8888888888888888,\"#fdca26\"],[1.0,\"#f0f921\"]]}],\"heatmapgl\":[{\"type\":\"heatmapgl\",\"colorbar\":{\"outlinewidth\":0,\"ticks\":\"\"},\"colorscale\":[[0.0,\"#0d0887\"],[0.1111111111111111,\"#46039f\"],[0.2222222222222222,\"#7201a8\"],[0.3333333333333333,\"#9c179e\"],[0.4444444444444444,\"#bd3786\"],[0.5555555555555556,\"#d8576b\"],[0.6666666666666666,\"#ed7953\"],[0.7777777777777778,\"#fb9f3a\"],[0.8888888888888888,\"#fdca26\"],[1.0,\"#f0f921\"]]}],\"contourcarpet\":[{\"type\":\"contourcarpet\",\"colorbar\":{\"outlinewidth\":0,\"ticks\":\"\"}}],\"contour\":[{\"type\":\"contour\",\"colorbar\":{\"outlinewidth\":0,\"ticks\":\"\"},\"colorscale\":[[0.0,\"#0d0887\"],[0.1111111111111111,\"#46039f\"],[0.2222222222222222,\"#7201a8\"],[0.3333333333333333,\"#9c179e\"],[0.4444444444444444,\"#bd3786\"],[0.5555555555555556,\"#d8576b\"],[0.6666666666666666,\"#ed7953\"],[0.7777777777777778,\"#fb9f3a\"],[0.8888888888888888,\"#fdca26\"],[1.0,\"#f0f921\"]]}],\"surface\":[{\"type\":\"surface\",\"colorbar\":{\"outlinewidth\":0,\"ticks\":\"\"},\"colorscale\":[[0.0,\"#0d0887\"],[0.1111111111111111,\"#46039f\"],[0.2222222222222222,\"#7201a8\"],[0.3333333333333333,\"#9c179e\"],[0.4444444444444444,\"#bd3786\"],[0.5555555555555556,\"#d8576b\"],[0.6666666666666666,\"#ed7953\"],[0.7777777777777778,\"#fb9f3a\"],[0.8888888888888888,\"#fdca26\"],[1.0,\"#f0f921\"]]}],\"mesh3d\":[{\"type\":\"mesh3d\",\"colorbar\":{\"outlinewidth\":0,\"ticks\":\"\"}}],\"scatter\":[{\"fillpattern\":{\"fillmode\":\"overlay\",\"size\":10,\"solidity\":0.2},\"type\":\"scatter\"}],\"parcoords\":[{\"type\":\"parcoords\",\"line\":{\"colorbar\":{\"outlinewidth\":0,\"ticks\":\"\"}}}],\"scatterpolargl\":[{\"type\":\"scatterpolargl\",\"marker\":{\"colorbar\":{\"outlinewidth\":0,\"ticks\":\"\"}}}],\"bar\":[{\"error_x\":{\"color\":\"#2a3f5f\"},\"error_y\":{\"color\":\"#2a3f5f\"},\"marker\":{\"line\":{\"color\":\"#E5ECF6\",\"width\":0.5},\"pattern\":{\"fillmode\":\"overlay\",\"size\":10,\"solidity\":0.2}},\"type\":\"bar\"}],\"scattergeo\":[{\"type\":\"scattergeo\",\"marker\":{\"colorbar\":{\"outlinewidth\":0,\"ticks\":\"\"}}}],\"scatterpolar\":[{\"type\":\"scatterpolar\",\"marker\":{\"colorbar\":{\"outlinewidth\":0,\"ticks\":\"\"}}}],\"histogram\":[{\"marker\":{\"pattern\":{\"fillmode\":\"overlay\",\"size\":10,\"solidity\":0.2}},\"type\":\"histogram\"}],\"scattergl\":[{\"type\":\"scattergl\",\"marker\":{\"colorbar\":{\"outlinewidth\":0,\"ticks\":\"\"}}}],\"scatter3d\":[{\"type\":\"scatter3d\",\"line\":{\"colorbar\":{\"outlinewidth\":0,\"ticks\":\"\"}},\"marker\":{\"colorbar\":{\"outlinewidth\":0,\"ticks\":\"\"}}}],\"scattermapbox\":[{\"type\":\"scattermapbox\",\"marker\":{\"colorbar\":{\"outlinewidth\":0,\"ticks\":\"\"}}}],\"scatterternary\":[{\"type\":\"scatterternary\",\"marker\":{\"colorbar\":{\"outlinewidth\":0,\"ticks\":\"\"}}}],\"scattercarpet\":[{\"type\":\"scattercarpet\",\"marker\":{\"colorbar\":{\"outlinewidth\":0,\"ticks\":\"\"}}}],\"carpet\":[{\"aaxis\":{\"endlinecolor\":\"#2a3f5f\",\"gridcolor\":\"white\",\"linecolor\":\"white\",\"minorgridcolor\":\"white\",\"startlinecolor\":\"#2a3f5f\"},\"baxis\":{\"endlinecolor\":\"#2a3f5f\",\"gridcolor\":\"white\",\"linecolor\":\"white\",\"minorgridcolor\":\"white\",\"startlinecolor\":\"#2a3f5f\"},\"type\":\"carpet\"}],\"table\":[{\"cells\":{\"fill\":{\"color\":\"#EBF0F8\"},\"line\":{\"color\":\"white\"}},\"header\":{\"fill\":{\"color\":\"#C8D4E3\"},\"line\":{\"color\":\"white\"}},\"type\":\"table\"}],\"barpolar\":[{\"marker\":{\"line\":{\"color\":\"#E5ECF6\",\"width\":0.5},\"pattern\":{\"fillmode\":\"overlay\",\"size\":10,\"solidity\":0.2}},\"type\":\"barpolar\"}],\"pie\":[{\"automargin\":true,\"type\":\"pie\"}]},\"layout\":{\"autotypenumbers\":\"strict\",\"colorway\":[\"#636efa\",\"#EF553B\",\"#00cc96\",\"#ab63fa\",\"#FFA15A\",\"#19d3f3\",\"#FF6692\",\"#B6E880\",\"#FF97FF\",\"#FECB52\"],\"font\":{\"color\":\"#2a3f5f\"},\"hovermode\":\"closest\",\"hoverlabel\":{\"align\":\"left\"},\"paper_bgcolor\":\"white\",\"plot_bgcolor\":\"#E5ECF6\",\"polar\":{\"bgcolor\":\"#E5ECF6\",\"angularaxis\":{\"gridcolor\":\"white\",\"linecolor\":\"white\",\"ticks\":\"\"},\"radialaxis\":{\"gridcolor\":\"white\",\"linecolor\":\"white\",\"ticks\":\"\"}},\"ternary\":{\"bgcolor\":\"#E5ECF6\",\"aaxis\":{\"gridcolor\":\"white\",\"linecolor\":\"white\",\"ticks\":\"\"},\"baxis\":{\"gridcolor\":\"white\",\"linecolor\":\"white\",\"ticks\":\"\"},\"caxis\":{\"gridcolor\":\"white\",\"linecolor\":\"white\",\"ticks\":\"\"}},\"coloraxis\":{\"colorbar\":{\"outlinewidth\":0,\"ticks\":\"\"}},\"colorscale\":{\"sequential\":[[0.0,\"#0d0887\"],[0.1111111111111111,\"#46039f\"],[0.2222222222222222,\"#7201a8\"],[0.3333333333333333,\"#9c179e\"],[0.4444444444444444,\"#bd3786\"],[0.5555555555555556,\"#d8576b\"],[0.6666666666666666,\"#ed7953\"],[0.7777777777777778,\"#fb9f3a\"],[0.8888888888888888,\"#fdca26\"],[1.0,\"#f0f921\"]],\"sequentialminus\":[[0.0,\"#0d0887\"],[0.1111111111111111,\"#46039f\"],[0.2222222222222222,\"#7201a8\"],[0.3333333333333333,\"#9c179e\"],[0.4444444444444444,\"#bd3786\"],[0.5555555555555556,\"#d8576b\"],[0.6666666666666666,\"#ed7953\"],[0.7777777777777778,\"#fb9f3a\"],[0.8888888888888888,\"#fdca26\"],[1.0,\"#f0f921\"]],\"diverging\":[[0,\"#8e0152\"],[0.1,\"#c51b7d\"],[0.2,\"#de77ae\"],[0.3,\"#f1b6da\"],[0.4,\"#fde0ef\"],[0.5,\"#f7f7f7\"],[0.6,\"#e6f5d0\"],[0.7,\"#b8e186\"],[0.8,\"#7fbc41\"],[0.9,\"#4d9221\"],[1,\"#276419\"]]},\"xaxis\":{\"gridcolor\":\"white\",\"linecolor\":\"white\",\"ticks\":\"\",\"title\":{\"standoff\":15},\"zerolinecolor\":\"white\",\"automargin\":true,\"zerolinewidth\":2},\"yaxis\":{\"gridcolor\":\"white\",\"linecolor\":\"white\",\"ticks\":\"\",\"title\":{\"standoff\":15},\"zerolinecolor\":\"white\",\"automargin\":true,\"zerolinewidth\":2},\"scene\":{\"xaxis\":{\"backgroundcolor\":\"#E5ECF6\",\"gridcolor\":\"white\",\"linecolor\":\"white\",\"showbackground\":true,\"ticks\":\"\",\"zerolinecolor\":\"white\",\"gridwidth\":2},\"yaxis\":{\"backgroundcolor\":\"#E5ECF6\",\"gridcolor\":\"white\",\"linecolor\":\"white\",\"showbackground\":true,\"ticks\":\"\",\"zerolinecolor\":\"white\",\"gridwidth\":2},\"zaxis\":{\"backgroundcolor\":\"#E5ECF6\",\"gridcolor\":\"white\",\"linecolor\":\"white\",\"showbackground\":true,\"ticks\":\"\",\"zerolinecolor\":\"white\",\"gridwidth\":2}},\"shapedefaults\":{\"line\":{\"color\":\"#2a3f5f\"}},\"annotationdefaults\":{\"arrowcolor\":\"#2a3f5f\",\"arrowhead\":0,\"arrowwidth\":1},\"geo\":{\"bgcolor\":\"white\",\"landcolor\":\"#E5ECF6\",\"subunitcolor\":\"white\",\"showland\":true,\"showlakes\":true,\"lakecolor\":\"white\"},\"title\":{\"x\":0.05},\"mapbox\":{\"style\":\"light\"}}},\"xaxis\":{\"anchor\":\"y\",\"domain\":[0.0,1.0],\"title\":{\"text\":\"Name\"}},\"yaxis\":{\"anchor\":\"x\",\"domain\":[0.0,1.0],\"title\":{\"text\":\"Score\"}},\"legend\":{\"tracegroupgap\":0},\"margin\":{\"t\":60},\"barmode\":\"relative\"},                        {\"responsive\": true}                    ).then(function(){\n",
       "                            \n",
       "var gd = document.getElementById('78bfea7c-28cf-4661-acc8-76e319035082');\n",
       "var x = new MutationObserver(function (mutations, observer) {{\n",
       "        var display = window.getComputedStyle(gd).display;\n",
       "        if (!display || display === 'none') {{\n",
       "            console.log([gd, 'removed!']);\n",
       "            Plotly.purge(gd);\n",
       "            observer.disconnect();\n",
       "        }}\n",
       "}});\n",
       "\n",
       "// Listen for the removal of the full notebook cells\n",
       "var notebookContainer = gd.closest('#notebook-container');\n",
       "if (notebookContainer) {{\n",
       "    x.observe(notebookContainer, {childList: true});\n",
       "}}\n",
       "\n",
       "// Listen for the clearing of the current output cell\n",
       "var outputEl = gd.closest('.output');\n",
       "if (outputEl) {{\n",
       "    x.observe(outputEl, {childList: true});\n",
       "}}\n",
       "\n",
       "                        })                };                            </script>        </div>\n",
       "</body>\n",
       "</html>"
      ]
     },
     "metadata": {},
     "output_type": "display_data"
    }
   ],
   "source": [
    "#ChatGPT helped me set up the for if else loop, as I had forgotten how to set it up. Reference #7\n",
    "idx_worst_score = god_tier_df[\"Score\"].idxmin()\n",
    "idx_best_score = god_tier_df[\"Score\"].idxmax()\n",
    "\n",
    "fig = px.bar(god_tier_df, \"Name\", \"Score\")\n",
    "fig.update_traces(marker_color=[\"red\" if idx == idx_worst_score else \"green\" for idx in god_tier_df.index])"
   ]
  },
  {
   "cell_type": "markdown",
   "metadata": {
    "cell_id": "2dd09cf4198e4c9e9db44049825592ac",
    "deepnote_cell_type": "markdown"
   },
   "source": [
    "The bar chart above shows all GOD tier champions with their scores. There are some GOD tier champions with a higher score others. We notice that there is one red bar and that is the GOD tier champion with the lowest score compared to the rest and that champion is Rakan. It connects with the earlier bar chart which shows the the champions with the best and worst score in each tier. Rakan had the worst score among the GOD tier champions. However, keep it mind that it is still a God Tier (very good) champion even though has low score than the rest of its God Tier champion counterparts."
   ]
  },
  {
   "cell_type": "markdown",
   "metadata": {
    "cell_id": "717cf7f3f7fe4bd289a5afe91a140b15",
    "deepnote_cell_type": "markdown",
    "tags": []
   },
   "source": [
    "## Summary\n",
    "\n",
    "Either summarize what you did, or summarize the results.  Maybe 3 sentences."
   ]
  },
  {
   "cell_type": "markdown",
   "metadata": {
    "cell_id": "76e7cd9d4a8d44948be1f24230284c46",
    "deepnote_cell_type": "markdown"
   },
   "source": [
    "To sum up what I did in this project, I mainly analyzed the data by using Logistic Regression to see if it was possible to predict if champions were played in the Mid Role based on the Win % and Score features. That was where I tried to train different machine learning models (Decision Tree Classifier, Random Forest Classifier). With the use of different libraries, I displayed the pattern and data in scatterplots, bar graphs, and line graphs. Overall, I found that the features of Win % and Score do not have a great impact towards predicting what champions are played in the mid role, even though they are important features for players to see which champions they should use in the game. The reason for this is because of how there are many champions in the game, which leads to various champions sharing similar statistics (Win %, Pick %, Ban %, Role %, KDA). Another reason was because of how there was overfitting. Thus, the classification models did not have much success in predicting whether champions were played in Mid. \n",
    "\n",
    "I also used Linear Regression to see if there was a positive correlation between Win % and Score, and also all the other features of the data in relations to Score. I found that there is a positive relation with both instances although Win % and Score did not have a high relation, as it had a shallow slope.\n",
    "\n",
    "At the end, I explored all the distribution of all the Champions' Win % and Ban %, the Champion's Pick % and Trend, and the Champions' score as I wanted to see what the distribution looked with these features. I also had a DataFrame of Champions in their respective tiers to see what champions, given their names, are the best to play in League of Legends patch 13.13"
   ]
  },
  {
   "cell_type": "markdown",
   "metadata": {
    "cell_id": "d05e53e21c8f4ff09a58a92af72862ce",
    "deepnote_cell_type": "markdown",
    "tags": []
   },
   "source": [
    "## References\n",
    "\n",
    "Your code above should include references.  Here is some additional space for references."
   ]
  },
  {
   "cell_type": "markdown",
   "metadata": {
    "cell_id": "3248c36ebc6044b1b72099921d656f03",
    "deepnote_cell_type": "markdown",
    "tags": []
   },
   "source": [
    "* What is the source of your dataset(s)?\n",
    "\n",
    "My dataset came from [Kaggle](https://www.kaggle.com/datasets/vivovinco/league-of-legends-stats-s13?resource=download). Thank you to the publisher Vivo Vinco, for providing this dataset on Kaggle for me to use for the project. "
   ]
  },
  {
   "cell_type": "markdown",
   "metadata": {
    "cell_id": "285bf7279c6d422ea7d731478bb5b4a5",
    "deepnote_cell_type": "markdown",
    "deepnote_to_be_reexecuted": false,
    "execution_millis": 0,
    "execution_start": 1652916033453,
    "source_hash": "aa45eba7",
    "tags": []
   },
   "source": [
    "* List any other references that you found helpful."
   ]
  },
  {
   "cell_type": "markdown",
   "metadata": {
    "cell_id": "de9902d559d9438fa9ccd20bc253134c",
    "deepnote_cell_type": "markdown"
   },
   "source": [
    "Reference #1: In this code, I wanted to see a correlation between score and the other columns besides `Name` in the dataset. I wanted to map the categorical features in those columns in a ordinal order, so I adapted the code from the [Kaggle notebook 1](https://www.kaggle.com/code/kamalrajit/notebook68028c93a4) following a similar format."
   ]
  },
  {
   "cell_type": "markdown",
   "metadata": {
    "cell_id": "5b14ecbbf5e0404aa93079deee74ef7c",
    "deepnote_cell_type": "markdown"
   },
   "source": [
    "Reference #2: In this code I used ChatGPT to help me create a single regression plot using Seaborn. This is the exact code ChatGPT gave me: `sns.regplot(x=y_test, y=y_pred_clf1, scatter_kws={'alpha':0.5}, line_kws={'color':'red})`"
   ]
  },
  {
   "cell_type": "markdown",
   "metadata": {
    "cell_id": "75f1bf4a471c423e8da81c00861cbd22",
    "deepnote_cell_type": "markdown"
   },
   "source": [
    "Reference #3: In this line of code, I used the idea of sigmoid function that was introduced in [Lecture 14](https://ybaki97.github.io/Math10-SSII23/lectures/lec13.html) of the class. The code that was given for the sigmoid function is here: `sigmoid = lambda x: 1/(1 + np.exp(-x))`. In addition to the sigmoid function, I also used a linear model to plug into the sigmoid function. The code that I adapted was similar to this code provided in the lecture: `sigmoid(flip_coef*flip + bill_coef*bill + clf.intercept_)`"
   ]
  },
  {
   "cell_type": "markdown",
   "metadata": {
    "cell_id": "23f7364743f04d7582ae1937db2df12c",
    "deepnote_cell_type": "markdown"
   },
   "source": [
    "Reference#4: I adapted the K-Neighbors codes from the Professor Davis notes on [K-Nearest Neighbors](https://christopherdavisuci.github.io/UCI-Math-10-W22/Week6/Week6-Wednesday.html)"
   ]
  },
  {
   "cell_type": "markdown",
   "metadata": {
    "cell_id": "f21a329602114d08b899b1cab5cb9b3c",
    "deepnote_cell_type": "markdown"
   },
   "source": [
    "Reference #5: In this line of code, I used plotly to have both scatter plot and box plots or plots similar a box plot appear simultaneously. I browsed through the [Plotly](https://plotly.com/python/plotly-express/) and found an example that I was looking for. I adapted this code into this line of code. The code from Plotly was: `fig = px.scatter(df, x=\"sepal_width\", y=\"sepal_length\", color=\"species\", marginal_y=\"violin\",marginal_x=\"box\", trendline=\"ols\", template=\"simple_white\")`"
   ]
  },
  {
   "cell_type": "markdown",
   "metadata": {
    "cell_id": "b1802144561c4f1584157d2dc5c42709",
    "deepnote_cell_type": "markdown"
   },
   "source": [
    "Reference #6: In this line of code, I used Plotly to create a bar graph showing the best and worst scoring champions of all tiers. I was having trouble producing the output that I wanted with the bar graph. I, then browsed through Kaggle to look for notebooks analyzing similar datas that might have a bar graph and found a bar graph that produced the output I was looking for. It comes from [Kaggle notebook 2](https://www.kaggle.com/code/eyadamin1233/s13-3-basic-eda) and I had adapted this exact code here: `(df.groupby('Tier) .apply(lambda x: x.loc[x['Score].agg(['idxmin', 'idxmax'])] [['Score, 'Name', 'Role', 'Win]])) `\n"
   ]
  },
  {
   "cell_type": "markdown",
   "metadata": {
    "cell_id": "a06f85cc8dcd43fab32c7604da3c424d",
    "deepnote_cell_type": "markdown"
   },
   "source": [
    "Reference #7: Here, I wanted to create a plotly bar graph showing all the God Tier champions and show which champion had the lowest score out of all. I realize that I needed to do a if else loop but I forgot how to set it up. The exact code ChatGPT provided is: `idx_worst_score = god_tier_df[\"Score\"].idxmin()\n",
    "idx_best_score = god_tier_df[\"Score\"].idxmax()\n",
    "fig = px.bar(god_tier_df, \"Name\", \"Score\")\n",
    "fig.update_traces(marker_color=[\"red\" if idx == idx_worst_score else \"green\" for idx in god_tier_df.index])`"
   ]
  },
  {
   "cell_type": "markdown",
   "metadata": {
    "created_in_deepnote_cell": true,
    "deepnote_cell_type": "markdown"
   },
   "source": [
    "<a style='text-decoration:none;line-height:16px;display:flex;color:#5B5B62;padding:10px;justify-content:end;' href='https://deepnote.com?utm_source=created-in-deepnote-cell&projectId=bdaa54db-7e52-494a-8ca4-7621026e7e48' target=\"_blank\">\n",
    "<img alt='Created in deepnote.com' style='display:inline;max-height:16px;margin:0px;margin-right:7.5px;' src='data:image/svg+xml;base64,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' > </img>\n",
    "Created in <span style='font-weight:600;margin-left:4px;'>Deepnote</span></a>"
   ]
  }
 ],
 "metadata": {
  "deepnote": {
   "is_reactive": false
  },
  "deepnote_execution_queue": [],
  "deepnote_notebook_id": "ce1532cc3dfe48a3820759271e839f0f",
  "deepnote_persisted_session": {
   "createdAt": "2023-09-12T20:16:59.616Z"
  },
  "kernelspec": {
   "display_name": "Python 3 (ipykernel)",
   "language": "python",
   "name": "python3"
  },
  "language_info": {
   "codemirror_mode": {
    "name": "ipython",
    "version": 3
   },
   "file_extension": ".py",
   "mimetype": "text/x-python",
   "name": "python",
   "nbconvert_exporter": "python",
   "pygments_lexer": "ipython3",
   "version": "3.9.13"
  }
 },
 "nbformat": 4,
 "nbformat_minor": 1
}
